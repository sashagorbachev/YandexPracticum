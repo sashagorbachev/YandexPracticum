{
 "cells": [
  {
   "cell_type": "markdown",
   "id": "c78e2eb4",
   "metadata": {},
   "source": [
    "Заказчик — кредитный отдел банка. Нужно разобраться, влияет ли семейное положение и количество детей клиента на факт погашения кредита в срок. Входные данные от банка — статистика о платёжеспособности клиентов.\n",
    "Результаты исследования будут учтены при построении модели кредитного скоринга — специальной системы, которая оценивает способность потенциального заёмщика вернуть кредит банку."
   ]
  },
  {
   "cell_type": "markdown",
   "id": "52d20fb9",
   "metadata": {},
   "source": [
    "# Исследование надежности заемщиков."
   ]
  },
  {
   "cell_type": "markdown",
   "id": "b0fb0407",
   "metadata": {},
   "source": [
    "## Шаг 1. Обзор данных"
   ]
  },
  {
   "cell_type": "code",
   "execution_count": 33,
   "id": "73ac3818",
   "metadata": {},
   "outputs": [
    {
     "name": "stdout",
     "output_type": "stream",
     "text": [
      "<class 'pandas.core.frame.DataFrame'>\n",
      "RangeIndex: 21525 entries, 0 to 21524\n",
      "Data columns (total 12 columns):\n",
      "children            21525 non-null int64\n",
      "days_employed       19351 non-null float64\n",
      "dob_years           21525 non-null int64\n",
      "education           21525 non-null object\n",
      "education_id        21525 non-null int64\n",
      "family_status       21525 non-null object\n",
      "family_status_id    21525 non-null int64\n",
      "gender              21525 non-null object\n",
      "income_type         21525 non-null object\n",
      "debt                21525 non-null int64\n",
      "total_income        19351 non-null float64\n",
      "purpose             21525 non-null object\n",
      "dtypes: float64(2), int64(5), object(5)\n",
      "memory usage: 2.0+ MB\n"
     ]
    },
    {
     "data": {
      "text/html": [
       "<div>\n",
       "<style scoped>\n",
       "    .dataframe tbody tr th:only-of-type {\n",
       "        vertical-align: middle;\n",
       "    }\n",
       "\n",
       "    .dataframe tbody tr th {\n",
       "        vertical-align: top;\n",
       "    }\n",
       "\n",
       "    .dataframe thead th {\n",
       "        text-align: right;\n",
       "    }\n",
       "</style>\n",
       "<table border=\"1\" class=\"dataframe\">\n",
       "  <thead>\n",
       "    <tr style=\"text-align: right;\">\n",
       "      <th></th>\n",
       "      <th>children</th>\n",
       "      <th>days_employed</th>\n",
       "      <th>dob_years</th>\n",
       "      <th>education</th>\n",
       "      <th>education_id</th>\n",
       "      <th>family_status</th>\n",
       "      <th>family_status_id</th>\n",
       "      <th>gender</th>\n",
       "      <th>income_type</th>\n",
       "      <th>debt</th>\n",
       "      <th>total_income</th>\n",
       "      <th>purpose</th>\n",
       "    </tr>\n",
       "  </thead>\n",
       "  <tbody>\n",
       "    <tr>\n",
       "      <td>0</td>\n",
       "      <td>1</td>\n",
       "      <td>-8437.673028</td>\n",
       "      <td>42</td>\n",
       "      <td>высшее</td>\n",
       "      <td>0</td>\n",
       "      <td>женат / замужем</td>\n",
       "      <td>0</td>\n",
       "      <td>F</td>\n",
       "      <td>сотрудник</td>\n",
       "      <td>0</td>\n",
       "      <td>253875.639453</td>\n",
       "      <td>покупка жилья</td>\n",
       "    </tr>\n",
       "    <tr>\n",
       "      <td>1</td>\n",
       "      <td>1</td>\n",
       "      <td>-4024.803754</td>\n",
       "      <td>36</td>\n",
       "      <td>среднее</td>\n",
       "      <td>1</td>\n",
       "      <td>женат / замужем</td>\n",
       "      <td>0</td>\n",
       "      <td>F</td>\n",
       "      <td>сотрудник</td>\n",
       "      <td>0</td>\n",
       "      <td>112080.014102</td>\n",
       "      <td>приобретение автомобиля</td>\n",
       "    </tr>\n",
       "    <tr>\n",
       "      <td>2</td>\n",
       "      <td>0</td>\n",
       "      <td>-5623.422610</td>\n",
       "      <td>33</td>\n",
       "      <td>Среднее</td>\n",
       "      <td>1</td>\n",
       "      <td>женат / замужем</td>\n",
       "      <td>0</td>\n",
       "      <td>M</td>\n",
       "      <td>сотрудник</td>\n",
       "      <td>0</td>\n",
       "      <td>145885.952297</td>\n",
       "      <td>покупка жилья</td>\n",
       "    </tr>\n",
       "    <tr>\n",
       "      <td>3</td>\n",
       "      <td>3</td>\n",
       "      <td>-4124.747207</td>\n",
       "      <td>32</td>\n",
       "      <td>среднее</td>\n",
       "      <td>1</td>\n",
       "      <td>женат / замужем</td>\n",
       "      <td>0</td>\n",
       "      <td>M</td>\n",
       "      <td>сотрудник</td>\n",
       "      <td>0</td>\n",
       "      <td>267628.550329</td>\n",
       "      <td>дополнительное образование</td>\n",
       "    </tr>\n",
       "    <tr>\n",
       "      <td>4</td>\n",
       "      <td>0</td>\n",
       "      <td>340266.072047</td>\n",
       "      <td>53</td>\n",
       "      <td>среднее</td>\n",
       "      <td>1</td>\n",
       "      <td>гражданский брак</td>\n",
       "      <td>1</td>\n",
       "      <td>F</td>\n",
       "      <td>пенсионер</td>\n",
       "      <td>0</td>\n",
       "      <td>158616.077870</td>\n",
       "      <td>сыграть свадьбу</td>\n",
       "    </tr>\n",
       "    <tr>\n",
       "      <td>5</td>\n",
       "      <td>0</td>\n",
       "      <td>-926.185831</td>\n",
       "      <td>27</td>\n",
       "      <td>высшее</td>\n",
       "      <td>0</td>\n",
       "      <td>гражданский брак</td>\n",
       "      <td>1</td>\n",
       "      <td>M</td>\n",
       "      <td>компаньон</td>\n",
       "      <td>0</td>\n",
       "      <td>255763.565419</td>\n",
       "      <td>покупка жилья</td>\n",
       "    </tr>\n",
       "    <tr>\n",
       "      <td>6</td>\n",
       "      <td>0</td>\n",
       "      <td>-2879.202052</td>\n",
       "      <td>43</td>\n",
       "      <td>высшее</td>\n",
       "      <td>0</td>\n",
       "      <td>женат / замужем</td>\n",
       "      <td>0</td>\n",
       "      <td>F</td>\n",
       "      <td>компаньон</td>\n",
       "      <td>0</td>\n",
       "      <td>240525.971920</td>\n",
       "      <td>операции с жильем</td>\n",
       "    </tr>\n",
       "    <tr>\n",
       "      <td>7</td>\n",
       "      <td>0</td>\n",
       "      <td>-152.779569</td>\n",
       "      <td>50</td>\n",
       "      <td>СРЕДНЕЕ</td>\n",
       "      <td>1</td>\n",
       "      <td>женат / замужем</td>\n",
       "      <td>0</td>\n",
       "      <td>M</td>\n",
       "      <td>сотрудник</td>\n",
       "      <td>0</td>\n",
       "      <td>135823.934197</td>\n",
       "      <td>образование</td>\n",
       "    </tr>\n",
       "    <tr>\n",
       "      <td>8</td>\n",
       "      <td>2</td>\n",
       "      <td>-6929.865299</td>\n",
       "      <td>35</td>\n",
       "      <td>ВЫСШЕЕ</td>\n",
       "      <td>0</td>\n",
       "      <td>гражданский брак</td>\n",
       "      <td>1</td>\n",
       "      <td>F</td>\n",
       "      <td>сотрудник</td>\n",
       "      <td>0</td>\n",
       "      <td>95856.832424</td>\n",
       "      <td>на проведение свадьбы</td>\n",
       "    </tr>\n",
       "    <tr>\n",
       "      <td>9</td>\n",
       "      <td>0</td>\n",
       "      <td>-2188.756445</td>\n",
       "      <td>41</td>\n",
       "      <td>среднее</td>\n",
       "      <td>1</td>\n",
       "      <td>женат / замужем</td>\n",
       "      <td>0</td>\n",
       "      <td>M</td>\n",
       "      <td>сотрудник</td>\n",
       "      <td>0</td>\n",
       "      <td>144425.938277</td>\n",
       "      <td>покупка жилья для семьи</td>\n",
       "    </tr>\n",
       "  </tbody>\n",
       "</table>\n",
       "</div>"
      ],
      "text/plain": [
       "   children  days_employed  dob_years education  education_id  \\\n",
       "0         1   -8437.673028         42    высшее             0   \n",
       "1         1   -4024.803754         36   среднее             1   \n",
       "2         0   -5623.422610         33   Среднее             1   \n",
       "3         3   -4124.747207         32   среднее             1   \n",
       "4         0  340266.072047         53   среднее             1   \n",
       "5         0    -926.185831         27    высшее             0   \n",
       "6         0   -2879.202052         43    высшее             0   \n",
       "7         0    -152.779569         50   СРЕДНЕЕ             1   \n",
       "8         2   -6929.865299         35    ВЫСШЕЕ             0   \n",
       "9         0   -2188.756445         41   среднее             1   \n",
       "\n",
       "      family_status  family_status_id gender income_type  debt   total_income  \\\n",
       "0   женат / замужем                 0      F   сотрудник     0  253875.639453   \n",
       "1   женат / замужем                 0      F   сотрудник     0  112080.014102   \n",
       "2   женат / замужем                 0      M   сотрудник     0  145885.952297   \n",
       "3   женат / замужем                 0      M   сотрудник     0  267628.550329   \n",
       "4  гражданский брак                 1      F   пенсионер     0  158616.077870   \n",
       "5  гражданский брак                 1      M   компаньон     0  255763.565419   \n",
       "6   женат / замужем                 0      F   компаньон     0  240525.971920   \n",
       "7   женат / замужем                 0      M   сотрудник     0  135823.934197   \n",
       "8  гражданский брак                 1      F   сотрудник     0   95856.832424   \n",
       "9   женат / замужем                 0      M   сотрудник     0  144425.938277   \n",
       "\n",
       "                      purpose  \n",
       "0               покупка жилья  \n",
       "1     приобретение автомобиля  \n",
       "2               покупка жилья  \n",
       "3  дополнительное образование  \n",
       "4             сыграть свадьбу  \n",
       "5               покупка жилья  \n",
       "6           операции с жильем  \n",
       "7                 образование  \n",
       "8       на проведение свадьбы  \n",
       "9     покупка жилья для семьи  "
      ]
     },
     "metadata": {},
     "output_type": "display_data"
    }
   ],
   "source": [
    "import pandas as pd\n",
    "data = pd.read_csv('/datasets/data.csv')\n",
    "data.info()\n",
    "display(data.head(10))"
   ]
  },
  {
   "cell_type": "markdown",
   "id": "3710ca70",
   "metadata": {},
   "source": [
    "## Шаг 2. Предобработка данных"
   ]
  },
  {
   "cell_type": "markdown",
   "id": "b2195831",
   "metadata": {},
   "source": [
    "###  Заполнение пропусков"
   ]
  },
  {
   "cell_type": "code",
   "execution_count": 34,
   "id": "621d1930",
   "metadata": {},
   "outputs": [
    {
     "data": {
      "text/plain": [
       "children               0\n",
       "days_employed       2174\n",
       "dob_years              0\n",
       "education              0\n",
       "education_id           0\n",
       "family_status          0\n",
       "family_status_id       0\n",
       "gender                 0\n",
       "income_type            0\n",
       "debt                   0\n",
       "total_income        2174\n",
       "purpose                0\n",
       "dtype: int64"
      ]
     },
     "execution_count": 34,
     "metadata": {},
     "output_type": "execute_result"
    }
   ],
   "source": [
    "data.isna().sum()"
   ]
  },
  {
   "cell_type": "markdown",
   "id": "bd7b3f77",
   "metadata": {},
   "source": [
    "C помощью isna я на нашёл где имеются пропуски это days_employed & total_income"
   ]
  },
  {
   "cell_type": "code",
   "execution_count": 35,
   "id": "0ace20f8",
   "metadata": {},
   "outputs": [
    {
     "name": "stdout",
     "output_type": "stream",
     "text": [
      "2174 2174\n"
     ]
    }
   ],
   "source": [
    "pass_days= data['days_employed'].isna().sum()\n",
    "pass_income= data['total_income'].isna().sum()\n",
    "print(pass_days, pass_income)\n"
   ]
  },
  {
   "cell_type": "code",
   "execution_count": 36,
   "id": "60bd06f8",
   "metadata": {},
   "outputs": [
    {
     "name": "stdout",
     "output_type": "stream",
     "text": [
      "-1203.369528770489\n",
      "145017.93753253992\n"
     ]
    }
   ],
   "source": [
    "days_employed_med = data['days_employed'].median()\n",
    "total_income_med = data['total_income'].median()\n",
    "print(days_employed_med)\n",
    "print(total_income_med)"
   ]
  },
  {
   "cell_type": "markdown",
   "id": "ffea6548",
   "metadata": {},
   "source": [
    "присвоил переменным значения медианных значений столбцов days_employed & total_income соответсвенно"
   ]
  },
  {
   "cell_type": "code",
   "execution_count": 37,
   "id": "21a91234",
   "metadata": {},
   "outputs": [
    {
     "data": {
      "text/plain": [
       "children            0\n",
       "days_employed       0\n",
       "dob_years           0\n",
       "education           0\n",
       "education_id        0\n",
       "family_status       0\n",
       "family_status_id    0\n",
       "gender              0\n",
       "income_type         0\n",
       "debt                0\n",
       "total_income        0\n",
       "purpose             0\n",
       "dtype: int64"
      ]
     },
     "execution_count": 37,
     "metadata": {},
     "output_type": "execute_result"
    }
   ],
   "source": [
    "data['days_employed'] = data['days_employed'].fillna(days_employed_med)\n",
    "data['total_income'] = data['total_income'].fillna(total_income_med)\n",
    "data.isna().sum()"
   ]
  },
  {
   "cell_type": "markdown",
   "id": "d9deb3cc",
   "metadata": {},
   "source": [
    "С помощью fillna заполнил медианными значениями пропуски и проверил с помощью isna\n",
    "ознакомившись с данными, я понял что распределение не совсем нормальное, поэтому и было принято решение использовать медианное значение, тк оно более устойчиво к шуму/выплескам"
   ]
  },
  {
   "cell_type": "code",
   "execution_count": 38,
   "id": "7abc3af0",
   "metadata": {},
   "outputs": [
    {
     "name": "stdout",
     "output_type": "stream",
     "text": [
      "Процентные отношения 10%\n",
      "Процентные отношения 10%\n"
     ]
    }
   ],
   "source": [
    "all_days = data['days_employed'].count()\n",
    "all_income = data['total_income'].count()\n",
    "\n",
    "procent_days = pass_days / all_days\n",
    "procent_income = pass_income / all_income\n",
    "print('Процентные отношения {:.0%}'.format(procent_days))\n",
    "print('Процентные отношения {:.0%}'.format(procent_income))\n"
   ]
  },
  {
   "cell_type": "markdown",
   "id": "f96801aa",
   "metadata": {},
   "source": [
    "После заполнения пропусков я посчитал количество значений для столбцов days_employed & total_income и процентное отношение количества пропусков в общему значению в стобцах соответственно \n"
   ]
  },
  {
   "cell_type": "markdown",
   "id": "6721c11e",
   "metadata": {},
   "source": [
    "### Проверка данных на аномалии и исправления."
   ]
  },
  {
   "cell_type": "code",
   "execution_count": 39,
   "id": "337d4171",
   "metadata": {},
   "outputs": [
    {
     "name": "stdout",
     "output_type": "stream",
     "text": [
      "<class 'pandas.core.frame.DataFrame'>\n",
      "RangeIndex: 21525 entries, 0 to 21524\n",
      "Data columns (total 12 columns):\n",
      "children            21525 non-null int64\n",
      "days_employed       21525 non-null float64\n",
      "dob_years           21525 non-null int64\n",
      "education           21525 non-null object\n",
      "education_id        21525 non-null int64\n",
      "family_status       21525 non-null object\n",
      "family_status_id    21525 non-null int64\n",
      "gender              21525 non-null object\n",
      "income_type         21525 non-null object\n",
      "debt                21525 non-null int64\n",
      "total_income        21525 non-null float64\n",
      "purpose             21525 non-null object\n",
      "dtypes: float64(2), int64(5), object(5)\n",
      "memory usage: 2.0+ MB\n"
     ]
    },
    {
     "data": {
      "text/html": [
       "<div>\n",
       "<style scoped>\n",
       "    .dataframe tbody tr th:only-of-type {\n",
       "        vertical-align: middle;\n",
       "    }\n",
       "\n",
       "    .dataframe tbody tr th {\n",
       "        vertical-align: top;\n",
       "    }\n",
       "\n",
       "    .dataframe thead th {\n",
       "        text-align: right;\n",
       "    }\n",
       "</style>\n",
       "<table border=\"1\" class=\"dataframe\">\n",
       "  <thead>\n",
       "    <tr style=\"text-align: right;\">\n",
       "      <th></th>\n",
       "      <th>children</th>\n",
       "      <th>days_employed</th>\n",
       "      <th>dob_years</th>\n",
       "      <th>education_id</th>\n",
       "      <th>family_status_id</th>\n",
       "      <th>debt</th>\n",
       "      <th>total_income</th>\n",
       "    </tr>\n",
       "  </thead>\n",
       "  <tbody>\n",
       "    <tr>\n",
       "      <td>count</td>\n",
       "      <td>21525.000000</td>\n",
       "      <td>21525.000000</td>\n",
       "      <td>21525.000000</td>\n",
       "      <td>21525.000000</td>\n",
       "      <td>21525.000000</td>\n",
       "      <td>21525.000000</td>\n",
       "      <td>2.152500e+04</td>\n",
       "    </tr>\n",
       "    <tr>\n",
       "      <td>mean</td>\n",
       "      <td>0.538908</td>\n",
       "      <td>56557.335698</td>\n",
       "      <td>43.293380</td>\n",
       "      <td>0.817236</td>\n",
       "      <td>0.972544</td>\n",
       "      <td>0.080883</td>\n",
       "      <td>1.651595e+05</td>\n",
       "    </tr>\n",
       "    <tr>\n",
       "      <td>std</td>\n",
       "      <td>1.381587</td>\n",
       "      <td>134922.319298</td>\n",
       "      <td>12.574584</td>\n",
       "      <td>0.548138</td>\n",
       "      <td>1.420324</td>\n",
       "      <td>0.272661</td>\n",
       "      <td>9.786607e+04</td>\n",
       "    </tr>\n",
       "    <tr>\n",
       "      <td>min</td>\n",
       "      <td>-1.000000</td>\n",
       "      <td>-18388.949901</td>\n",
       "      <td>0.000000</td>\n",
       "      <td>0.000000</td>\n",
       "      <td>0.000000</td>\n",
       "      <td>0.000000</td>\n",
       "      <td>2.066726e+04</td>\n",
       "    </tr>\n",
       "    <tr>\n",
       "      <td>25%</td>\n",
       "      <td>0.000000</td>\n",
       "      <td>-2518.168900</td>\n",
       "      <td>33.000000</td>\n",
       "      <td>1.000000</td>\n",
       "      <td>0.000000</td>\n",
       "      <td>0.000000</td>\n",
       "      <td>1.077982e+05</td>\n",
       "    </tr>\n",
       "    <tr>\n",
       "      <td>50%</td>\n",
       "      <td>0.000000</td>\n",
       "      <td>-1203.369529</td>\n",
       "      <td>42.000000</td>\n",
       "      <td>1.000000</td>\n",
       "      <td>0.000000</td>\n",
       "      <td>0.000000</td>\n",
       "      <td>1.450179e+05</td>\n",
       "    </tr>\n",
       "    <tr>\n",
       "      <td>75%</td>\n",
       "      <td>1.000000</td>\n",
       "      <td>-385.106616</td>\n",
       "      <td>53.000000</td>\n",
       "      <td>1.000000</td>\n",
       "      <td>1.000000</td>\n",
       "      <td>0.000000</td>\n",
       "      <td>1.955436e+05</td>\n",
       "    </tr>\n",
       "    <tr>\n",
       "      <td>max</td>\n",
       "      <td>20.000000</td>\n",
       "      <td>401755.400475</td>\n",
       "      <td>75.000000</td>\n",
       "      <td>4.000000</td>\n",
       "      <td>4.000000</td>\n",
       "      <td>1.000000</td>\n",
       "      <td>2.265604e+06</td>\n",
       "    </tr>\n",
       "  </tbody>\n",
       "</table>\n",
       "</div>"
      ],
      "text/plain": [
       "           children  days_employed     dob_years  education_id  \\\n",
       "count  21525.000000   21525.000000  21525.000000  21525.000000   \n",
       "mean       0.538908   56557.335698     43.293380      0.817236   \n",
       "std        1.381587  134922.319298     12.574584      0.548138   \n",
       "min       -1.000000  -18388.949901      0.000000      0.000000   \n",
       "25%        0.000000   -2518.168900     33.000000      1.000000   \n",
       "50%        0.000000   -1203.369529     42.000000      1.000000   \n",
       "75%        1.000000    -385.106616     53.000000      1.000000   \n",
       "max       20.000000  401755.400475     75.000000      4.000000   \n",
       "\n",
       "       family_status_id          debt  total_income  \n",
       "count      21525.000000  21525.000000  2.152500e+04  \n",
       "mean           0.972544      0.080883  1.651595e+05  \n",
       "std            1.420324      0.272661  9.786607e+04  \n",
       "min            0.000000      0.000000  2.066726e+04  \n",
       "25%            0.000000      0.000000  1.077982e+05  \n",
       "50%            0.000000      0.000000  1.450179e+05  \n",
       "75%            1.000000      0.000000  1.955436e+05  \n",
       "max            4.000000      1.000000  2.265604e+06  "
      ]
     },
     "execution_count": 39,
     "metadata": {},
     "output_type": "execute_result"
    }
   ],
   "source": [
    "data.info()\n",
    "data.describe()"
   ]
  },
  {
   "cell_type": "markdown",
   "id": "46dc1858",
   "metadata": {},
   "source": [
    "С помощью info и describe ознакомился с данными "
   ]
  },
  {
   "cell_type": "markdown",
   "id": "c762678f",
   "metadata": {},
   "source": [
    "data['days_employed'] = data['days_employed'].abs()\n",
    "data['children'] = data['children'].abs()\n",
    "data.info()"
   ]
  },
  {
   "cell_type": "markdown",
   "id": "b37a637e",
   "metadata": {},
   "source": [
    "С помощью abs() избавился от отрицательных значений"
   ]
  },
  {
   "cell_type": "code",
   "execution_count": 40,
   "id": "3cbb65ab",
   "metadata": {},
   "outputs": [
    {
     "data": {
      "text/plain": [
       " 0     14149\n",
       " 1      4818\n",
       " 2      2055\n",
       " 3       330\n",
       " 20       76\n",
       "-1        47\n",
       " 4        41\n",
       " 5         9\n",
       "Name: children, dtype: int64"
      ]
     },
     "execution_count": 40,
     "metadata": {},
     "output_type": "execute_result"
    }
   ],
   "source": [
    "data['children'].value_counts()"
   ]
  },
  {
   "cell_type": "markdown",
   "id": "7ab6e32a",
   "metadata": {},
   "source": [
    "20 и -1 скорее всего опечатки - заменю их на 2 и 1"
   ]
  },
  {
   "cell_type": "code",
   "execution_count": 41,
   "id": "850a4eb5",
   "metadata": {},
   "outputs": [
    {
     "data": {
      "text/plain": [
       "0    14149\n",
       "1     4865\n",
       "2     2131\n",
       "3      330\n",
       "4       41\n",
       "5        9\n",
       "Name: children, dtype: int64"
      ]
     },
     "execution_count": 41,
     "metadata": {},
     "output_type": "execute_result"
    }
   ],
   "source": [
    "data.loc[data['children']==20,'children']=2\n",
    "data.loc[data['children']==-1,'children']=1\n",
    "data['children'].value_counts()"
   ]
  },
  {
   "cell_type": "code",
   "execution_count": 42,
   "id": "a21e478d",
   "metadata": {},
   "outputs": [
    {
     "data": {
      "text/plain": [
       "16335     -51.0\n",
       "4299      -49.0\n",
       "7329      -46.0\n",
       "16825     -45.0\n",
       "17838     -45.0\n",
       "          ...  \n",
       "10006    1100.0\n",
       "7794     1100.0\n",
       "5716     1100.0\n",
       "10484    1100.0\n",
       "4949     1100.0\n",
       "Name: days_employed, Length: 21525, dtype: float64"
      ]
     },
     "execution_count": 42,
     "metadata": {},
     "output_type": "execute_result"
    }
   ],
   "source": [
    "(data[pd.isnull(data['days_employed'])==False]['days_employed']//365).sort_values() ###вывел стаж в годах"
   ]
  },
  {
   "cell_type": "code",
   "execution_count": 43,
   "id": "f15df8d7",
   "metadata": {},
   "outputs": [
    {
     "data": {
      "text/plain": [
       "среднее                13750\n",
       "высшее                  4718\n",
       "СРЕДНЕЕ                  772\n",
       "Среднее                  711\n",
       "неоконченное высшее      668\n",
       "ВЫСШЕЕ                   274\n",
       "Высшее                   268\n",
       "начальное                250\n",
       "Неоконченное высшее       47\n",
       "НЕОКОНЧЕННОЕ ВЫСШЕЕ       29\n",
       "НАЧАЛЬНОЕ                 17\n",
       "Начальное                 15\n",
       "ученая степень             4\n",
       "УЧЕНАЯ СТЕПЕНЬ             1\n",
       "Ученая степень             1\n",
       "Name: education, dtype: int64"
      ]
     },
     "execution_count": 43,
     "metadata": {},
     "output_type": "execute_result"
    }
   ],
   "source": [
    "data['education'].value_counts() ### замечены отличия в регистре"
   ]
  },
  {
   "cell_type": "code",
   "execution_count": 44,
   "id": "c1088877",
   "metadata": {},
   "outputs": [
    {
     "data": {
      "text/plain": [
       "1    15233\n",
       "0     5260\n",
       "2      744\n",
       "3      282\n",
       "4        6\n",
       "Name: education_id, dtype: int64"
      ]
     },
     "execution_count": 44,
     "metadata": {},
     "output_type": "execute_result"
    }
   ],
   "source": [
    "data['education_id'].value_counts() ### никаких отклонений не замечено"
   ]
  },
  {
   "cell_type": "code",
   "execution_count": 45,
   "id": "66177894",
   "metadata": {},
   "outputs": [
    {
     "data": {
      "text/plain": [
       "женат / замужем          12380\n",
       "гражданский брак          4177\n",
       "Не женат / не замужем     2813\n",
       "в разводе                 1195\n",
       "вдовец / вдова             960\n",
       "Name: family_status, dtype: int64"
      ]
     },
     "execution_count": 45,
     "metadata": {},
     "output_type": "execute_result"
    }
   ],
   "source": [
    "data['family_status'].value_counts() ### тоже без комментариев"
   ]
  },
  {
   "cell_type": "code",
   "execution_count": 46,
   "id": "5d956e54",
   "metadata": {},
   "outputs": [
    {
     "data": {
      "text/plain": [
       "0    12380\n",
       "1     4177\n",
       "4     2813\n",
       "3     1195\n",
       "2      960\n",
       "Name: family_status_id, dtype: int64"
      ]
     },
     "execution_count": 46,
     "metadata": {},
     "output_type": "execute_result"
    }
   ],
   "source": [
    "data['family_status_id'].value_counts()"
   ]
  },
  {
   "cell_type": "code",
   "execution_count": 47,
   "id": "4995548f",
   "metadata": {},
   "outputs": [
    {
     "data": {
      "text/plain": [
       "F      14236\n",
       "M       7288\n",
       "XNA        1\n",
       "Name: gender, dtype: int64"
      ]
     },
     "execution_count": 47,
     "metadata": {},
     "output_type": "execute_result"
    }
   ],
   "source": [
    "data['gender'].value_counts() ### xna непонятное значение на свое усмотрение отнесу его или к мужчинам или к женщинам"
   ]
  },
  {
   "cell_type": "code",
   "execution_count": 48,
   "id": "d5427dc4",
   "metadata": {},
   "outputs": [
    {
     "data": {
      "text/plain": [
       "F    14237\n",
       "M     7288\n",
       "Name: gender, dtype: int64"
      ]
     },
     "execution_count": 48,
     "metadata": {},
     "output_type": "execute_result"
    }
   ],
   "source": [
    "data.loc[data['gender']=='XNA','gender'] = 'F'\n",
    "data['gender'].value_counts()"
   ]
  },
  {
   "cell_type": "code",
   "execution_count": 49,
   "id": "158bb291",
   "metadata": {},
   "outputs": [
    {
     "data": {
      "text/plain": [
       "сотрудник          11119\n",
       "компаньон           5085\n",
       "пенсионер           3856\n",
       "госслужащий         1459\n",
       "безработный            2\n",
       "предприниматель        2\n",
       "студент                1\n",
       "в декрете              1\n",
       "Name: income_type, dtype: int64"
      ]
     },
     "execution_count": 49,
     "metadata": {},
     "output_type": "execute_result"
    }
   ],
   "source": [
    "data['income_type'].value_counts()"
   ]
  },
  {
   "cell_type": "code",
   "execution_count": 50,
   "id": "9068b7db",
   "metadata": {},
   "outputs": [
    {
     "data": {
      "text/plain": [
       "0    19784\n",
       "1     1741\n",
       "Name: debt, dtype: int64"
      ]
     },
     "execution_count": 50,
     "metadata": {},
     "output_type": "execute_result"
    }
   ],
   "source": [
    "data['debt'].value_counts()"
   ]
  },
  {
   "cell_type": "code",
   "execution_count": 51,
   "id": "1e3c77bc",
   "metadata": {},
   "outputs": [
    {
     "data": {
      "text/plain": [
       "count    21525.000000\n",
       "mean        16.016771\n",
       "std          9.789133\n",
       "min          2.000000\n",
       "25%         10.000000\n",
       "50%         14.000000\n",
       "75%         19.000000\n",
       "max        226.000000\n",
       "Name: total_income, dtype: float64"
      ]
     },
     "execution_count": 51,
     "metadata": {},
     "output_type": "execute_result"
    }
   ],
   "source": [
    "(data['total_income']//10000).describe()"
   ]
  },
  {
   "cell_type": "code",
   "execution_count": 52,
   "id": "0fd95da2",
   "metadata": {},
   "outputs": [
    {
     "data": {
      "text/plain": [
       "свадьба                                   797\n",
       "на проведение свадьбы                     777\n",
       "сыграть свадьбу                           774\n",
       "операции с недвижимостью                  676\n",
       "покупка коммерческой недвижимости         664\n",
       "покупка жилья для сдачи                   653\n",
       "операции с жильем                         653\n",
       "операции с коммерческой недвижимостью     651\n",
       "покупка жилья                             647\n",
       "жилье                                     647\n",
       "покупка жилья для семьи                   641\n",
       "строительство собственной недвижимости    635\n",
       "недвижимость                              634\n",
       "операции со своей недвижимостью           630\n",
       "строительство жилой недвижимости          626\n",
       "покупка недвижимости                      624\n",
       "покупка своего жилья                      620\n",
       "строительство недвижимости                620\n",
       "ремонт жилью                              612\n",
       "покупка жилой недвижимости                607\n",
       "на покупку своего автомобиля              505\n",
       "заняться высшим образованием              496\n",
       "автомобиль                                495\n",
       "сделка с подержанным автомобилем          489\n",
       "свой автомобиль                           480\n",
       "на покупку подержанного автомобиля        479\n",
       "автомобили                                478\n",
       "на покупку автомобиля                     472\n",
       "дополнительное образование                462\n",
       "приобретение автомобиля                   462\n",
       "сделка с автомобилем                      455\n",
       "высшее образование                        453\n",
       "получение дополнительного образования     447\n",
       "образование                               447\n",
       "получение образования                     443\n",
       "профильное образование                    436\n",
       "получение высшего образования             426\n",
       "заняться образованием                     412\n",
       "Name: purpose, dtype: int64"
      ]
     },
     "execution_count": 52,
     "metadata": {},
     "output_type": "execute_result"
    }
   ],
   "source": [
    "data['purpose'].value_counts()"
   ]
  },
  {
   "cell_type": "markdown",
   "id": "5f5a6ca8",
   "metadata": {},
   "source": [
    "### Изменение типов данных."
   ]
  },
  {
   "cell_type": "code",
   "execution_count": 53,
   "id": "cbf5f9b4",
   "metadata": {},
   "outputs": [
    {
     "name": "stdout",
     "output_type": "stream",
     "text": [
      "<class 'pandas.core.frame.DataFrame'>\n",
      "RangeIndex: 21525 entries, 0 to 21524\n",
      "Data columns (total 12 columns):\n",
      "children            21525 non-null int64\n",
      "days_employed       21525 non-null float64\n",
      "dob_years           21525 non-null int64\n",
      "education           21525 non-null object\n",
      "education_id        21525 non-null int64\n",
      "family_status       21525 non-null object\n",
      "family_status_id    21525 non-null int64\n",
      "gender              21525 non-null object\n",
      "income_type         21525 non-null object\n",
      "debt                21525 non-null int64\n",
      "total_income        21525 non-null int64\n",
      "purpose             21525 non-null object\n",
      "dtypes: float64(1), int64(6), object(5)\n",
      "memory usage: 2.0+ MB\n"
     ]
    }
   ],
   "source": [
    "data['total_income'] = data['total_income'].astype('int')\n",
    "data.info()"
   ]
  },
  {
   "cell_type": "markdown",
   "id": "53f4679b",
   "metadata": {},
   "source": [
    "C помощью astype изменил тип данных"
   ]
  },
  {
   "cell_type": "markdown",
   "id": "d5cd7011",
   "metadata": {},
   "source": [
    "### Удаление дубликатов."
   ]
  },
  {
   "cell_type": "code",
   "execution_count": 54,
   "id": "462c8f5a",
   "metadata": {},
   "outputs": [
    {
     "data": {
      "text/plain": [
       "54"
      ]
     },
     "execution_count": 54,
     "metadata": {},
     "output_type": "execute_result"
    }
   ],
   "source": [
    "data.duplicated().sum()"
   ]
  },
  {
   "cell_type": "code",
   "execution_count": 55,
   "id": "f7a11f64",
   "metadata": {},
   "outputs": [
    {
     "data": {
      "text/plain": [
       "0                  высшее\n",
       "1                 среднее\n",
       "2                 Среднее\n",
       "3                 среднее\n",
       "4                 среднее\n",
       "5                  высшее\n",
       "6                  высшее\n",
       "7                 СРЕДНЕЕ\n",
       "8                  ВЫСШЕЕ\n",
       "9                 среднее\n",
       "10                 высшее\n",
       "11                среднее\n",
       "12                среднее\n",
       "13    неоконченное высшее\n",
       "14                 высшее\n",
       "15                среднее\n",
       "16                среднее\n",
       "17                 высшее\n",
       "18                среднее\n",
       "19                СРЕДНЕЕ\n",
       "Name: education, dtype: object"
      ]
     },
     "execution_count": 55,
     "metadata": {},
     "output_type": "execute_result"
    }
   ],
   "source": [
    "data['education'].head(20)"
   ]
  },
  {
   "cell_type": "code",
   "execution_count": 56,
   "id": "9158c1d6",
   "metadata": {},
   "outputs": [
    {
     "name": "stdout",
     "output_type": "stream",
     "text": [
      "Дубликатов в столбце: 21510\n",
      "Разновидность дубликатов:\n",
      "среднее                13750\n",
      "высшее                  4718\n",
      "СРЕДНЕЕ                  772\n",
      "Среднее                  711\n",
      "неоконченное высшее      668\n",
      "ВЫСШЕЕ                   274\n",
      "Высшее                   268\n",
      "начальное                250\n",
      "Неоконченное высшее       47\n",
      "НЕОКОНЧЕННОЕ ВЫСШЕЕ       29\n",
      "НАЧАЛЬНОЕ                 17\n",
      "Начальное                 15\n",
      "ученая степень             4\n",
      "УЧЕНАЯ СТЕПЕНЬ             1\n",
      "Ученая степень             1\n",
      "Name: education, dtype: int64\n"
     ]
    }
   ],
   "source": [
    "print('Дубликатов в столбце:', data['education'].duplicated().sum())\n",
    "print('Разновидность дубликатов:')\n",
    "print(data['education'].value_counts())"
   ]
  },
  {
   "cell_type": "code",
   "execution_count": 57,
   "id": "40eeaf1a",
   "metadata": {},
   "outputs": [
    {
     "name": "stdout",
     "output_type": "stream",
     "text": [
      "среднее                15233\n",
      "высшее                  5260\n",
      "неоконченное высшее      744\n",
      "начальное                282\n",
      "ученая степень             6\n",
      "Name: education, dtype: int64\n",
      "['высшее' 'среднее' 'неоконченное высшее' 'начальное' 'ученая степень']\n"
     ]
    }
   ],
   "source": [
    "data['education'] = data['education'].str.lower()\n",
    "print(data['education'].value_counts())\n",
    "print(data['education'].unique())\n"
   ]
  },
  {
   "cell_type": "code",
   "execution_count": 58,
   "id": "07030b7f",
   "metadata": {},
   "outputs": [
    {
     "name": "stdout",
     "output_type": "stream",
     "text": [
      "высшее                 1\n",
      "неоконченное высшее    1\n",
      "среднее                1\n",
      "ученая степень         1\n",
      "начальное              1\n",
      "Name: education, dtype: int64\n"
     ]
    }
   ],
   "source": [
    "data['education'] = data['education'].drop_duplicates()\n",
    "print(data['education'].value_counts())"
   ]
  },
  {
   "cell_type": "markdown",
   "id": "bf65b1e3",
   "metadata": {},
   "source": [
    "Проанализировав полученные значения - пришел к выводу, что причиной появления дубликатов стала чувстительность к регистру, привел все значения к общему виду и командой unique проверил свою теорию."
   ]
  },
  {
   "cell_type": "markdown",
   "id": "1845a85c",
   "metadata": {},
   "source": [
    "### Формирование дополнительных датафреймов словарей, декомпозиция исходного датафрейма."
   ]
  },
  {
   "cell_type": "markdown",
   "id": "32ab7019",
   "metadata": {},
   "source": [
    "education_voc = data[['education_id','education']]\n",
    "display(education_voc)\n",
    "status_voc = data[['family_status_id','family_status']]\n",
    "display(status_voc)\n",
    "\n",
    "voc_upd = data.drop(columns = ['education', 'family_status'], axis=1)\n",
    "display(voc_upd)\n",
    "voc_upd.info()"
   ]
  },
  {
   "cell_type": "code",
   "execution_count": 26,
   "id": "d1f3d8e1",
   "metadata": {},
   "outputs": [
    {
     "data": {
      "text/plain": [
       "{0: ['высшее'],\n",
       " 1: ['среднее'],\n",
       " 2: ['неоконченное высшее'],\n",
       " 3: ['начальное'],\n",
       " 4: ['ученая степень']}"
      ]
     },
     "execution_count": 26,
     "metadata": {},
     "output_type": "execute_result"
    }
   ],
   "source": [
    "education_dict = data.loc[:,['education_id','education']]\n",
    "data_set = data.drop('education',axis=1)\n",
    "education_dict = education_dict.drop_duplicates()\n",
    "education_dict = education_dict.set_index('education_id').T.to_dict('list')\n",
    "education_dict"
   ]
  },
  {
   "cell_type": "code",
   "execution_count": 27,
   "id": "00185790",
   "metadata": {},
   "outputs": [
    {
     "name": "stderr",
     "output_type": "stream",
     "text": [
      "/opt/conda/lib/python3.7/site-packages/ipykernel_launcher.py:4: UserWarning: DataFrame columns are not unique, some columns will be omitted.\n",
      "  after removing the cwd from sys.path.\n"
     ]
    },
    {
     "data": {
      "text/plain": [
       "{0: ['женат / замужем'],\n",
       " 1: ['гражданский брак'],\n",
       " 2: ['вдовец / вдова'],\n",
       " 3: ['в разводе'],\n",
       " 4: ['Не женат / не замужем']}"
      ]
     },
     "execution_count": 27,
     "metadata": {},
     "output_type": "execute_result"
    }
   ],
   "source": [
    "family_status_dict = data.loc[:,['family_status_id','family_status']]\n",
    "data_set = data.drop('family_status',axis=1)\n",
    "family_status_data = family_status_dict.drop_duplicates()\n",
    "family_status_dict = family_status_dict.set_index('family_status_id').T.to_dict('list')\n",
    "family_status_dict"
   ]
  },
  {
   "cell_type": "markdown",
   "id": "f3b38fe8",
   "metadata": {},
   "source": [
    "### Категоризация дохода."
   ]
  },
  {
   "cell_type": "code",
   "execution_count": 28,
   "id": "046e9cd4",
   "metadata": {},
   "outputs": [
    {
     "data": {
      "text/html": [
       "<div>\n",
       "<style scoped>\n",
       "    .dataframe tbody tr th:only-of-type {\n",
       "        vertical-align: middle;\n",
       "    }\n",
       "\n",
       "    .dataframe tbody tr th {\n",
       "        vertical-align: top;\n",
       "    }\n",
       "\n",
       "    .dataframe thead th {\n",
       "        text-align: right;\n",
       "    }\n",
       "</style>\n",
       "<table border=\"1\" class=\"dataframe\">\n",
       "  <thead>\n",
       "    <tr style=\"text-align: right;\">\n",
       "      <th></th>\n",
       "      <th>children</th>\n",
       "      <th>days_employed</th>\n",
       "      <th>dob_years</th>\n",
       "      <th>education</th>\n",
       "      <th>education_id</th>\n",
       "      <th>family_status</th>\n",
       "      <th>family_status_id</th>\n",
       "      <th>gender</th>\n",
       "      <th>income_type</th>\n",
       "      <th>debt</th>\n",
       "      <th>total_income</th>\n",
       "      <th>purpose</th>\n",
       "      <th>total_income_category</th>\n",
       "    </tr>\n",
       "  </thead>\n",
       "  <tbody>\n",
       "    <tr>\n",
       "      <td>934</td>\n",
       "      <td>0</td>\n",
       "      <td>348253.361682</td>\n",
       "      <td>69</td>\n",
       "      <td>среднее</td>\n",
       "      <td>1</td>\n",
       "      <td>женат / замужем</td>\n",
       "      <td>0</td>\n",
       "      <td>F</td>\n",
       "      <td>пенсионер</td>\n",
       "      <td>0</td>\n",
       "      <td>29426</td>\n",
       "      <td>недвижимость</td>\n",
       "      <td>E</td>\n",
       "    </tr>\n",
       "    <tr>\n",
       "      <td>1184</td>\n",
       "      <td>0</td>\n",
       "      <td>401575.196728</td>\n",
       "      <td>55</td>\n",
       "      <td>среднее</td>\n",
       "      <td>1</td>\n",
       "      <td>гражданский брак</td>\n",
       "      <td>1</td>\n",
       "      <td>M</td>\n",
       "      <td>пенсионер</td>\n",
       "      <td>0</td>\n",
       "      <td>29749</td>\n",
       "      <td>на проведение свадьбы</td>\n",
       "      <td>E</td>\n",
       "    </tr>\n",
       "    <tr>\n",
       "      <td>1598</td>\n",
       "      <td>0</td>\n",
       "      <td>359726.104207</td>\n",
       "      <td>68</td>\n",
       "      <td>среднее</td>\n",
       "      <td>1</td>\n",
       "      <td>гражданский брак</td>\n",
       "      <td>1</td>\n",
       "      <td>M</td>\n",
       "      <td>пенсионер</td>\n",
       "      <td>0</td>\n",
       "      <td>21695</td>\n",
       "      <td>на проведение свадьбы</td>\n",
       "      <td>E</td>\n",
       "    </tr>\n",
       "    <tr>\n",
       "      <td>4057</td>\n",
       "      <td>0</td>\n",
       "      <td>386389.497407</td>\n",
       "      <td>64</td>\n",
       "      <td>среднее</td>\n",
       "      <td>1</td>\n",
       "      <td>женат / замужем</td>\n",
       "      <td>0</td>\n",
       "      <td>F</td>\n",
       "      <td>пенсионер</td>\n",
       "      <td>1</td>\n",
       "      <td>29154</td>\n",
       "      <td>строительство недвижимости</td>\n",
       "      <td>E</td>\n",
       "    </tr>\n",
       "    <tr>\n",
       "      <td>8273</td>\n",
       "      <td>0</td>\n",
       "      <td>-615.774147</td>\n",
       "      <td>46</td>\n",
       "      <td>среднее</td>\n",
       "      <td>1</td>\n",
       "      <td>женат / замужем</td>\n",
       "      <td>0</td>\n",
       "      <td>F</td>\n",
       "      <td>сотрудник</td>\n",
       "      <td>0</td>\n",
       "      <td>26533</td>\n",
       "      <td>покупка коммерческой недвижимости</td>\n",
       "      <td>E</td>\n",
       "    </tr>\n",
       "    <tr>\n",
       "      <td>9070</td>\n",
       "      <td>0</td>\n",
       "      <td>340952.765703</td>\n",
       "      <td>60</td>\n",
       "      <td>среднее</td>\n",
       "      <td>1</td>\n",
       "      <td>Не женат / не замужем</td>\n",
       "      <td>4</td>\n",
       "      <td>F</td>\n",
       "      <td>пенсионер</td>\n",
       "      <td>0</td>\n",
       "      <td>24457</td>\n",
       "      <td>операции с коммерческой недвижимостью</td>\n",
       "      <td>E</td>\n",
       "    </tr>\n",
       "    <tr>\n",
       "      <td>10068</td>\n",
       "      <td>0</td>\n",
       "      <td>-4959.893007</td>\n",
       "      <td>43</td>\n",
       "      <td>среднее</td>\n",
       "      <td>1</td>\n",
       "      <td>женат / замужем</td>\n",
       "      <td>0</td>\n",
       "      <td>F</td>\n",
       "      <td>сотрудник</td>\n",
       "      <td>0</td>\n",
       "      <td>25227</td>\n",
       "      <td>высшее образование</td>\n",
       "      <td>E</td>\n",
       "    </tr>\n",
       "    <tr>\n",
       "      <td>10622</td>\n",
       "      <td>0</td>\n",
       "      <td>385664.024835</td>\n",
       "      <td>67</td>\n",
       "      <td>среднее</td>\n",
       "      <td>1</td>\n",
       "      <td>женат / замужем</td>\n",
       "      <td>0</td>\n",
       "      <td>F</td>\n",
       "      <td>пенсионер</td>\n",
       "      <td>0</td>\n",
       "      <td>27776</td>\n",
       "      <td>заняться образованием</td>\n",
       "      <td>E</td>\n",
       "    </tr>\n",
       "    <tr>\n",
       "      <td>10881</td>\n",
       "      <td>0</td>\n",
       "      <td>347356.519176</td>\n",
       "      <td>71</td>\n",
       "      <td>среднее</td>\n",
       "      <td>1</td>\n",
       "      <td>женат / замужем</td>\n",
       "      <td>0</td>\n",
       "      <td>M</td>\n",
       "      <td>пенсионер</td>\n",
       "      <td>0</td>\n",
       "      <td>22472</td>\n",
       "      <td>операции со своей недвижимостью</td>\n",
       "      <td>E</td>\n",
       "    </tr>\n",
       "    <tr>\n",
       "      <td>12052</td>\n",
       "      <td>1</td>\n",
       "      <td>354563.609108</td>\n",
       "      <td>55</td>\n",
       "      <td>начальное</td>\n",
       "      <td>3</td>\n",
       "      <td>гражданский брак</td>\n",
       "      <td>1</td>\n",
       "      <td>F</td>\n",
       "      <td>пенсионер</td>\n",
       "      <td>0</td>\n",
       "      <td>25308</td>\n",
       "      <td>дополнительное образование</td>\n",
       "      <td>E</td>\n",
       "    </tr>\n",
       "    <tr>\n",
       "      <td>13006</td>\n",
       "      <td>0</td>\n",
       "      <td>369708.589113</td>\n",
       "      <td>37</td>\n",
       "      <td>среднее</td>\n",
       "      <td>1</td>\n",
       "      <td>гражданский брак</td>\n",
       "      <td>1</td>\n",
       "      <td>M</td>\n",
       "      <td>пенсионер</td>\n",
       "      <td>0</td>\n",
       "      <td>21205</td>\n",
       "      <td>заняться высшим образованием</td>\n",
       "      <td>E</td>\n",
       "    </tr>\n",
       "    <tr>\n",
       "      <td>14276</td>\n",
       "      <td>0</td>\n",
       "      <td>346602.453782</td>\n",
       "      <td>61</td>\n",
       "      <td>среднее</td>\n",
       "      <td>1</td>\n",
       "      <td>женат / замужем</td>\n",
       "      <td>0</td>\n",
       "      <td>F</td>\n",
       "      <td>пенсионер</td>\n",
       "      <td>0</td>\n",
       "      <td>21895</td>\n",
       "      <td>недвижимость</td>\n",
       "      <td>E</td>\n",
       "    </tr>\n",
       "    <tr>\n",
       "      <td>14585</td>\n",
       "      <td>0</td>\n",
       "      <td>359219.059341</td>\n",
       "      <td>57</td>\n",
       "      <td>среднее</td>\n",
       "      <td>1</td>\n",
       "      <td>женат / замужем</td>\n",
       "      <td>0</td>\n",
       "      <td>F</td>\n",
       "      <td>пенсионер</td>\n",
       "      <td>1</td>\n",
       "      <td>20667</td>\n",
       "      <td>недвижимость</td>\n",
       "      <td>E</td>\n",
       "    </tr>\n",
       "    <tr>\n",
       "      <td>14921</td>\n",
       "      <td>2</td>\n",
       "      <td>-1440.353367</td>\n",
       "      <td>28</td>\n",
       "      <td>среднее</td>\n",
       "      <td>1</td>\n",
       "      <td>гражданский брак</td>\n",
       "      <td>1</td>\n",
       "      <td>F</td>\n",
       "      <td>сотрудник</td>\n",
       "      <td>0</td>\n",
       "      <td>28092</td>\n",
       "      <td>на проведение свадьбы</td>\n",
       "      <td>E</td>\n",
       "    </tr>\n",
       "    <tr>\n",
       "      <td>15393</td>\n",
       "      <td>1</td>\n",
       "      <td>-2945.051315</td>\n",
       "      <td>45</td>\n",
       "      <td>среднее</td>\n",
       "      <td>1</td>\n",
       "      <td>женат / замужем</td>\n",
       "      <td>0</td>\n",
       "      <td>F</td>\n",
       "      <td>сотрудник</td>\n",
       "      <td>0</td>\n",
       "      <td>26329</td>\n",
       "      <td>строительство собственной недвижимости</td>\n",
       "      <td>E</td>\n",
       "    </tr>\n",
       "    <tr>\n",
       "      <td>16174</td>\n",
       "      <td>1</td>\n",
       "      <td>-3642.820023</td>\n",
       "      <td>52</td>\n",
       "      <td>среднее</td>\n",
       "      <td>1</td>\n",
       "      <td>женат / замужем</td>\n",
       "      <td>0</td>\n",
       "      <td>M</td>\n",
       "      <td>сотрудник</td>\n",
       "      <td>0</td>\n",
       "      <td>21367</td>\n",
       "      <td>приобретение автомобиля</td>\n",
       "      <td>E</td>\n",
       "    </tr>\n",
       "    <tr>\n",
       "      <td>16597</td>\n",
       "      <td>0</td>\n",
       "      <td>-241.247456</td>\n",
       "      <td>49</td>\n",
       "      <td>среднее</td>\n",
       "      <td>1</td>\n",
       "      <td>гражданский брак</td>\n",
       "      <td>1</td>\n",
       "      <td>F</td>\n",
       "      <td>компаньон</td>\n",
       "      <td>0</td>\n",
       "      <td>28702</td>\n",
       "      <td>сыграть свадьбу</td>\n",
       "      <td>E</td>\n",
       "    </tr>\n",
       "    <tr>\n",
       "      <td>17885</td>\n",
       "      <td>0</td>\n",
       "      <td>338590.212074</td>\n",
       "      <td>59</td>\n",
       "      <td>среднее</td>\n",
       "      <td>1</td>\n",
       "      <td>женат / замужем</td>\n",
       "      <td>0</td>\n",
       "      <td>F</td>\n",
       "      <td>пенсионер</td>\n",
       "      <td>0</td>\n",
       "      <td>27414</td>\n",
       "      <td>заняться высшим образованием</td>\n",
       "      <td>E</td>\n",
       "    </tr>\n",
       "    <tr>\n",
       "      <td>18509</td>\n",
       "      <td>0</td>\n",
       "      <td>370478.327059</td>\n",
       "      <td>60</td>\n",
       "      <td>среднее</td>\n",
       "      <td>1</td>\n",
       "      <td>женат / замужем</td>\n",
       "      <td>0</td>\n",
       "      <td>F</td>\n",
       "      <td>пенсионер</td>\n",
       "      <td>0</td>\n",
       "      <td>23844</td>\n",
       "      <td>покупка жилья для семьи</td>\n",
       "      <td>E</td>\n",
       "    </tr>\n",
       "    <tr>\n",
       "      <td>18669</td>\n",
       "      <td>1</td>\n",
       "      <td>-1953.777603</td>\n",
       "      <td>50</td>\n",
       "      <td>среднее</td>\n",
       "      <td>1</td>\n",
       "      <td>женат / замужем</td>\n",
       "      <td>0</td>\n",
       "      <td>F</td>\n",
       "      <td>госслужащий</td>\n",
       "      <td>0</td>\n",
       "      <td>29200</td>\n",
       "      <td>автомобили</td>\n",
       "      <td>E</td>\n",
       "    </tr>\n",
       "    <tr>\n",
       "      <td>20215</td>\n",
       "      <td>0</td>\n",
       "      <td>381266.917841</td>\n",
       "      <td>59</td>\n",
       "      <td>среднее</td>\n",
       "      <td>1</td>\n",
       "      <td>женат / замужем</td>\n",
       "      <td>0</td>\n",
       "      <td>F</td>\n",
       "      <td>пенсионер</td>\n",
       "      <td>0</td>\n",
       "      <td>29067</td>\n",
       "      <td>покупка недвижимости</td>\n",
       "      <td>E</td>\n",
       "    </tr>\n",
       "    <tr>\n",
       "      <td>21191</td>\n",
       "      <td>0</td>\n",
       "      <td>360310.974923</td>\n",
       "      <td>55</td>\n",
       "      <td>среднее</td>\n",
       "      <td>1</td>\n",
       "      <td>Не женат / не замужем</td>\n",
       "      <td>4</td>\n",
       "      <td>M</td>\n",
       "      <td>пенсионер</td>\n",
       "      <td>0</td>\n",
       "      <td>27907</td>\n",
       "      <td>покупка жилья для семьи</td>\n",
       "      <td>E</td>\n",
       "    </tr>\n",
       "  </tbody>\n",
       "</table>\n",
       "</div>"
      ],
      "text/plain": [
       "       children  days_employed  dob_years  education  education_id  \\\n",
       "934           0  348253.361682         69    среднее             1   \n",
       "1184          0  401575.196728         55    среднее             1   \n",
       "1598          0  359726.104207         68    среднее             1   \n",
       "4057          0  386389.497407         64    среднее             1   \n",
       "8273          0    -615.774147         46    среднее             1   \n",
       "9070          0  340952.765703         60    среднее             1   \n",
       "10068         0   -4959.893007         43    среднее             1   \n",
       "10622         0  385664.024835         67    среднее             1   \n",
       "10881         0  347356.519176         71    среднее             1   \n",
       "12052         1  354563.609108         55  начальное             3   \n",
       "13006         0  369708.589113         37    среднее             1   \n",
       "14276         0  346602.453782         61    среднее             1   \n",
       "14585         0  359219.059341         57    среднее             1   \n",
       "14921         2   -1440.353367         28    среднее             1   \n",
       "15393         1   -2945.051315         45    среднее             1   \n",
       "16174         1   -3642.820023         52    среднее             1   \n",
       "16597         0    -241.247456         49    среднее             1   \n",
       "17885         0  338590.212074         59    среднее             1   \n",
       "18509         0  370478.327059         60    среднее             1   \n",
       "18669         1   -1953.777603         50    среднее             1   \n",
       "20215         0  381266.917841         59    среднее             1   \n",
       "21191         0  360310.974923         55    среднее             1   \n",
       "\n",
       "               family_status  family_status_id gender  income_type  debt  \\\n",
       "934          женат / замужем                 0      F    пенсионер     0   \n",
       "1184        гражданский брак                 1      M    пенсионер     0   \n",
       "1598        гражданский брак                 1      M    пенсионер     0   \n",
       "4057         женат / замужем                 0      F    пенсионер     1   \n",
       "8273         женат / замужем                 0      F    сотрудник     0   \n",
       "9070   Не женат / не замужем                 4      F    пенсионер     0   \n",
       "10068        женат / замужем                 0      F    сотрудник     0   \n",
       "10622        женат / замужем                 0      F    пенсионер     0   \n",
       "10881        женат / замужем                 0      M    пенсионер     0   \n",
       "12052       гражданский брак                 1      F    пенсионер     0   \n",
       "13006       гражданский брак                 1      M    пенсионер     0   \n",
       "14276        женат / замужем                 0      F    пенсионер     0   \n",
       "14585        женат / замужем                 0      F    пенсионер     1   \n",
       "14921       гражданский брак                 1      F    сотрудник     0   \n",
       "15393        женат / замужем                 0      F    сотрудник     0   \n",
       "16174        женат / замужем                 0      M    сотрудник     0   \n",
       "16597       гражданский брак                 1      F    компаньон     0   \n",
       "17885        женат / замужем                 0      F    пенсионер     0   \n",
       "18509        женат / замужем                 0      F    пенсионер     0   \n",
       "18669        женат / замужем                 0      F  госслужащий     0   \n",
       "20215        женат / замужем                 0      F    пенсионер     0   \n",
       "21191  Не женат / не замужем                 4      M    пенсионер     0   \n",
       "\n",
       "       total_income                                 purpose  \\\n",
       "934           29426                            недвижимость   \n",
       "1184          29749                   на проведение свадьбы   \n",
       "1598          21695                   на проведение свадьбы   \n",
       "4057          29154              строительство недвижимости   \n",
       "8273          26533       покупка коммерческой недвижимости   \n",
       "9070          24457   операции с коммерческой недвижимостью   \n",
       "10068         25227                      высшее образование   \n",
       "10622         27776                   заняться образованием   \n",
       "10881         22472         операции со своей недвижимостью   \n",
       "12052         25308              дополнительное образование   \n",
       "13006         21205            заняться высшим образованием   \n",
       "14276         21895                            недвижимость   \n",
       "14585         20667                            недвижимость   \n",
       "14921         28092                   на проведение свадьбы   \n",
       "15393         26329  строительство собственной недвижимости   \n",
       "16174         21367                 приобретение автомобиля   \n",
       "16597         28702                         сыграть свадьбу   \n",
       "17885         27414            заняться высшим образованием   \n",
       "18509         23844                 покупка жилья для семьи   \n",
       "18669         29200                              автомобили   \n",
       "20215         29067                    покупка недвижимости   \n",
       "21191         27907                 покупка жилья для семьи   \n",
       "\n",
       "      total_income_category  \n",
       "934                       E  \n",
       "1184                      E  \n",
       "1598                      E  \n",
       "4057                      E  \n",
       "8273                      E  \n",
       "9070                      E  \n",
       "10068                     E  \n",
       "10622                     E  \n",
       "10881                     E  \n",
       "12052                     E  \n",
       "13006                     E  \n",
       "14276                     E  \n",
       "14585                     E  \n",
       "14921                     E  \n",
       "15393                     E  \n",
       "16174                     E  \n",
       "16597                     E  \n",
       "17885                     E  \n",
       "18509                     E  \n",
       "18669                     E  \n",
       "20215                     E  \n",
       "21191                     E  "
      ]
     },
     "metadata": {},
     "output_type": "display_data"
    }
   ],
   "source": [
    "total_income_category = []\n",
    "for item in data['total_income']:\n",
    "        if item < 30000:\n",
    "            total_income_category.append('E')\n",
    "        elif item < 50000:\n",
    "            total_income_category.append('D')\n",
    "        elif item < 200000:\n",
    "            total_income_category.append('C')\n",
    "        elif item < 1000000:\n",
    "            total_income_category.append('B')\n",
    "        else:\n",
    "            total_income_category.append('A')\n",
    "            \n",
    "data['total_income_category'] = total_income_category\n",
    "display(data[data['total_income_category'] == 'E'])"
   ]
  },
  {
   "cell_type": "markdown",
   "id": "3de656f8",
   "metadata": {},
   "source": [
    "### Категоризация целей кредита."
   ]
  },
  {
   "cell_type": "code",
   "execution_count": 29,
   "id": "cc686980",
   "metadata": {},
   "outputs": [
    {
     "name": "stdout",
     "output_type": "stream",
     "text": [
      "['покупка жилья' 'приобретение автомобиля' 'дополнительное образование'\n",
      " 'сыграть свадьбу' 'операции с жильем' 'образование'\n",
      " 'на проведение свадьбы' 'покупка жилья для семьи' 'покупка недвижимости'\n",
      " 'покупка коммерческой недвижимости' 'покупка жилой недвижимости'\n",
      " 'строительство собственной недвижимости' 'недвижимость'\n",
      " 'строительство недвижимости' 'на покупку подержанного автомобиля'\n",
      " 'на покупку своего автомобиля' 'операции с коммерческой недвижимостью'\n",
      " 'строительство жилой недвижимости' 'жилье'\n",
      " 'операции со своей недвижимостью' 'автомобили' 'заняться образованием'\n",
      " 'сделка с подержанным автомобилем' 'получение образования' 'автомобиль'\n",
      " 'свадьба' 'получение дополнительного образования' 'покупка своего жилья'\n",
      " 'операции с недвижимостью' 'получение высшего образования'\n",
      " 'свой автомобиль' 'сделка с автомобилем' 'профильное образование'\n",
      " 'высшее образование' 'покупка жилья для сдачи' 'на покупку автомобиля'\n",
      " 'ремонт жилью' 'заняться высшим образованием']\n"
     ]
    },
    {
     "data": {
      "text/html": [
       "<div>\n",
       "<style scoped>\n",
       "    .dataframe tbody tr th:only-of-type {\n",
       "        vertical-align: middle;\n",
       "    }\n",
       "\n",
       "    .dataframe tbody tr th {\n",
       "        vertical-align: top;\n",
       "    }\n",
       "\n",
       "    .dataframe thead th {\n",
       "        text-align: right;\n",
       "    }\n",
       "</style>\n",
       "<table border=\"1\" class=\"dataframe\">\n",
       "  <thead>\n",
       "    <tr style=\"text-align: right;\">\n",
       "      <th></th>\n",
       "      <th>children</th>\n",
       "      <th>days_employed</th>\n",
       "      <th>dob_years</th>\n",
       "      <th>education</th>\n",
       "      <th>education_id</th>\n",
       "      <th>family_status</th>\n",
       "      <th>family_status_id</th>\n",
       "      <th>gender</th>\n",
       "      <th>income_type</th>\n",
       "      <th>debt</th>\n",
       "      <th>total_income</th>\n",
       "      <th>purpose</th>\n",
       "      <th>total_income_category</th>\n",
       "      <th>purpose_category</th>\n",
       "    </tr>\n",
       "  </thead>\n",
       "  <tbody>\n",
       "    <tr>\n",
       "      <td>0</td>\n",
       "      <td>1</td>\n",
       "      <td>-8437.673028</td>\n",
       "      <td>42</td>\n",
       "      <td>высшее</td>\n",
       "      <td>0</td>\n",
       "      <td>женат / замужем</td>\n",
       "      <td>0</td>\n",
       "      <td>F</td>\n",
       "      <td>сотрудник</td>\n",
       "      <td>0</td>\n",
       "      <td>253875</td>\n",
       "      <td>покупка жилья</td>\n",
       "      <td>B</td>\n",
       "      <td>операции с недвижимостью</td>\n",
       "    </tr>\n",
       "    <tr>\n",
       "      <td>1</td>\n",
       "      <td>1</td>\n",
       "      <td>-4024.803754</td>\n",
       "      <td>36</td>\n",
       "      <td>среднее</td>\n",
       "      <td>1</td>\n",
       "      <td>женат / замужем</td>\n",
       "      <td>0</td>\n",
       "      <td>F</td>\n",
       "      <td>сотрудник</td>\n",
       "      <td>0</td>\n",
       "      <td>112080</td>\n",
       "      <td>приобретение автомобиля</td>\n",
       "      <td>C</td>\n",
       "      <td>операции с автомобилем</td>\n",
       "    </tr>\n",
       "    <tr>\n",
       "      <td>2</td>\n",
       "      <td>0</td>\n",
       "      <td>-5623.422610</td>\n",
       "      <td>33</td>\n",
       "      <td>среднее</td>\n",
       "      <td>1</td>\n",
       "      <td>женат / замужем</td>\n",
       "      <td>0</td>\n",
       "      <td>M</td>\n",
       "      <td>сотрудник</td>\n",
       "      <td>0</td>\n",
       "      <td>145885</td>\n",
       "      <td>покупка жилья</td>\n",
       "      <td>C</td>\n",
       "      <td>операции с недвижимостью</td>\n",
       "    </tr>\n",
       "    <tr>\n",
       "      <td>3</td>\n",
       "      <td>3</td>\n",
       "      <td>-4124.747207</td>\n",
       "      <td>32</td>\n",
       "      <td>среднее</td>\n",
       "      <td>1</td>\n",
       "      <td>женат / замужем</td>\n",
       "      <td>0</td>\n",
       "      <td>M</td>\n",
       "      <td>сотрудник</td>\n",
       "      <td>0</td>\n",
       "      <td>267628</td>\n",
       "      <td>дополнительное образование</td>\n",
       "      <td>B</td>\n",
       "      <td>получение образования</td>\n",
       "    </tr>\n",
       "    <tr>\n",
       "      <td>4</td>\n",
       "      <td>0</td>\n",
       "      <td>340266.072047</td>\n",
       "      <td>53</td>\n",
       "      <td>среднее</td>\n",
       "      <td>1</td>\n",
       "      <td>гражданский брак</td>\n",
       "      <td>1</td>\n",
       "      <td>F</td>\n",
       "      <td>пенсионер</td>\n",
       "      <td>0</td>\n",
       "      <td>158616</td>\n",
       "      <td>сыграть свадьбу</td>\n",
       "      <td>C</td>\n",
       "      <td>проведение свадьбы</td>\n",
       "    </tr>\n",
       "    <tr>\n",
       "      <td>5</td>\n",
       "      <td>0</td>\n",
       "      <td>-926.185831</td>\n",
       "      <td>27</td>\n",
       "      <td>высшее</td>\n",
       "      <td>0</td>\n",
       "      <td>гражданский брак</td>\n",
       "      <td>1</td>\n",
       "      <td>M</td>\n",
       "      <td>компаньон</td>\n",
       "      <td>0</td>\n",
       "      <td>255763</td>\n",
       "      <td>покупка жилья</td>\n",
       "      <td>B</td>\n",
       "      <td>операции с недвижимостью</td>\n",
       "    </tr>\n",
       "    <tr>\n",
       "      <td>6</td>\n",
       "      <td>0</td>\n",
       "      <td>-2879.202052</td>\n",
       "      <td>43</td>\n",
       "      <td>высшее</td>\n",
       "      <td>0</td>\n",
       "      <td>женат / замужем</td>\n",
       "      <td>0</td>\n",
       "      <td>F</td>\n",
       "      <td>компаньон</td>\n",
       "      <td>0</td>\n",
       "      <td>240525</td>\n",
       "      <td>операции с жильем</td>\n",
       "      <td>B</td>\n",
       "      <td>операции с недвижимостью</td>\n",
       "    </tr>\n",
       "    <tr>\n",
       "      <td>7</td>\n",
       "      <td>0</td>\n",
       "      <td>-152.779569</td>\n",
       "      <td>50</td>\n",
       "      <td>среднее</td>\n",
       "      <td>1</td>\n",
       "      <td>женат / замужем</td>\n",
       "      <td>0</td>\n",
       "      <td>M</td>\n",
       "      <td>сотрудник</td>\n",
       "      <td>0</td>\n",
       "      <td>135823</td>\n",
       "      <td>образование</td>\n",
       "      <td>C</td>\n",
       "      <td>получение образования</td>\n",
       "    </tr>\n",
       "    <tr>\n",
       "      <td>8</td>\n",
       "      <td>2</td>\n",
       "      <td>-6929.865299</td>\n",
       "      <td>35</td>\n",
       "      <td>высшее</td>\n",
       "      <td>0</td>\n",
       "      <td>гражданский брак</td>\n",
       "      <td>1</td>\n",
       "      <td>F</td>\n",
       "      <td>сотрудник</td>\n",
       "      <td>0</td>\n",
       "      <td>95856</td>\n",
       "      <td>на проведение свадьбы</td>\n",
       "      <td>C</td>\n",
       "      <td>проведение свадьбы</td>\n",
       "    </tr>\n",
       "    <tr>\n",
       "      <td>9</td>\n",
       "      <td>0</td>\n",
       "      <td>-2188.756445</td>\n",
       "      <td>41</td>\n",
       "      <td>среднее</td>\n",
       "      <td>1</td>\n",
       "      <td>женат / замужем</td>\n",
       "      <td>0</td>\n",
       "      <td>M</td>\n",
       "      <td>сотрудник</td>\n",
       "      <td>0</td>\n",
       "      <td>144425</td>\n",
       "      <td>покупка жилья для семьи</td>\n",
       "      <td>C</td>\n",
       "      <td>операции с недвижимостью</td>\n",
       "    </tr>\n",
       "  </tbody>\n",
       "</table>\n",
       "</div>"
      ],
      "text/plain": [
       "   children  days_employed  dob_years education  education_id  \\\n",
       "0         1   -8437.673028         42    высшее             0   \n",
       "1         1   -4024.803754         36   среднее             1   \n",
       "2         0   -5623.422610         33   среднее             1   \n",
       "3         3   -4124.747207         32   среднее             1   \n",
       "4         0  340266.072047         53   среднее             1   \n",
       "5         0    -926.185831         27    высшее             0   \n",
       "6         0   -2879.202052         43    высшее             0   \n",
       "7         0    -152.779569         50   среднее             1   \n",
       "8         2   -6929.865299         35    высшее             0   \n",
       "9         0   -2188.756445         41   среднее             1   \n",
       "\n",
       "      family_status  family_status_id gender income_type  debt  total_income  \\\n",
       "0   женат / замужем                 0      F   сотрудник     0        253875   \n",
       "1   женат / замужем                 0      F   сотрудник     0        112080   \n",
       "2   женат / замужем                 0      M   сотрудник     0        145885   \n",
       "3   женат / замужем                 0      M   сотрудник     0        267628   \n",
       "4  гражданский брак                 1      F   пенсионер     0        158616   \n",
       "5  гражданский брак                 1      M   компаньон     0        255763   \n",
       "6   женат / замужем                 0      F   компаньон     0        240525   \n",
       "7   женат / замужем                 0      M   сотрудник     0        135823   \n",
       "8  гражданский брак                 1      F   сотрудник     0         95856   \n",
       "9   женат / замужем                 0      M   сотрудник     0        144425   \n",
       "\n",
       "                      purpose total_income_category          purpose_category  \n",
       "0               покупка жилья                     B  операции с недвижимостью  \n",
       "1     приобретение автомобиля                     C    операции с автомобилем  \n",
       "2               покупка жилья                     C  операции с недвижимостью  \n",
       "3  дополнительное образование                     B     получение образования  \n",
       "4             сыграть свадьбу                     C        проведение свадьбы  \n",
       "5               покупка жилья                     B  операции с недвижимостью  \n",
       "6           операции с жильем                     B  операции с недвижимостью  \n",
       "7                 образование                     C     получение образования  \n",
       "8       на проведение свадьбы                     C        проведение свадьбы  \n",
       "9     покупка жилья для семьи                     C  операции с недвижимостью  "
      ]
     },
     "execution_count": 29,
     "metadata": {},
     "output_type": "execute_result"
    }
   ],
   "source": [
    "data_purpose = data['purpose'].unique()\n",
    "print(data_purpose)\n",
    "\n",
    "def purpose_category(purpose_mess):\n",
    "    try:\n",
    "        if('жиль' in purpose_mess) or ('недвиж' in purpose_mess):\n",
    "            return 'операции с недвижимостью'\n",
    "        elif 'авто' in purpose_mess:\n",
    "            return 'операции с автомобилем'\n",
    "        elif 'сва' in purpose_mess:\n",
    "            return 'проведение свадьбы'\n",
    "        elif 'обр' in purpose_mess:\n",
    "            return 'получение образования'\n",
    "        else:\n",
    "            print('неподходящее значение', purpose_mess)\n",
    "            return ''\n",
    "    except:\n",
    "            print('ошибочное значение', purpose_mess)\n",
    "            return ''\n",
    "\n",
    "data['purpose_category'] = data['purpose'].apply(purpose_category)\n",
    "data.head(10)\n",
    "        "
   ]
  },
  {
   "cell_type": "code",
   "execution_count": 30,
   "id": "aa1da7bd",
   "metadata": {},
   "outputs": [
    {
     "data": {
      "text/plain": [
       "array([1, 0, 3, 2, 4, 5])"
      ]
     },
     "execution_count": 30,
     "metadata": {},
     "output_type": "execute_result"
    }
   ],
   "source": [
    "data['children'].unique()"
   ]
  },
  {
   "cell_type": "markdown",
   "id": "c5101e81",
   "metadata": {},
   "source": [
    "## Ответы на вопросы."
   ]
  },
  {
   "cell_type": "markdown",
   "id": "eaef6a57",
   "metadata": {},
   "source": [
    "#### Вопрос 1: Есть ли зависимость между количеством детей и возвратом кредита в срок?"
   ]
  },
  {
   "cell_type": "markdown",
   "id": "5da9e928",
   "metadata": {},
   "source": [
    "pivot_children =  pd.pivot_table(data,index='children',columns='debt',values='dob_years', aggfunc='count')\n",
    "pivot_children = pivot_children.fillna(0)\n",
    "display(pivot_children)"
   ]
  },
  {
   "cell_type": "code",
   "execution_count": 31,
   "id": "368e4ec5",
   "metadata": {},
   "outputs": [
    {
     "data": {
      "text/html": [
       "<div>\n",
       "<style scoped>\n",
       "    .dataframe tbody tr th:only-of-type {\n",
       "        vertical-align: middle;\n",
       "    }\n",
       "\n",
       "    .dataframe tbody tr th {\n",
       "        vertical-align: top;\n",
       "    }\n",
       "\n",
       "    .dataframe thead tr th {\n",
       "        text-align: left;\n",
       "    }\n",
       "\n",
       "    .dataframe thead tr:last-of-type th {\n",
       "        text-align: right;\n",
       "    }\n",
       "</style>\n",
       "<table border=\"1\" class=\"dataframe\">\n",
       "  <thead>\n",
       "    <tr>\n",
       "      <th></th>\n",
       "      <th colspan=\"2\" halign=\"left\">debt</th>\n",
       "      <th>group_share_in_total</th>\n",
       "      <th>debt_children_rate</th>\n",
       "      <th>repaid_rate</th>\n",
       "    </tr>\n",
       "    <tr>\n",
       "      <th></th>\n",
       "      <th>count</th>\n",
       "      <th>sum</th>\n",
       "      <th></th>\n",
       "      <th></th>\n",
       "      <th></th>\n",
       "    </tr>\n",
       "    <tr>\n",
       "      <th>children</th>\n",
       "      <th></th>\n",
       "      <th></th>\n",
       "      <th></th>\n",
       "      <th></th>\n",
       "      <th></th>\n",
       "    </tr>\n",
       "  </thead>\n",
       "  <tbody>\n",
       "    <tr>\n",
       "      <td>0</td>\n",
       "      <td>14149</td>\n",
       "      <td>1063</td>\n",
       "      <td>0.657329</td>\n",
       "      <td>0.075129</td>\n",
       "      <td>0.924871</td>\n",
       "    </tr>\n",
       "    <tr>\n",
       "      <td>1</td>\n",
       "      <td>4865</td>\n",
       "      <td>445</td>\n",
       "      <td>0.226016</td>\n",
       "      <td>0.091470</td>\n",
       "      <td>0.908530</td>\n",
       "    </tr>\n",
       "    <tr>\n",
       "      <td>2</td>\n",
       "      <td>2131</td>\n",
       "      <td>202</td>\n",
       "      <td>0.099001</td>\n",
       "      <td>0.094791</td>\n",
       "      <td>0.905209</td>\n",
       "    </tr>\n",
       "    <tr>\n",
       "      <td>3</td>\n",
       "      <td>330</td>\n",
       "      <td>27</td>\n",
       "      <td>0.015331</td>\n",
       "      <td>0.081818</td>\n",
       "      <td>0.918182</td>\n",
       "    </tr>\n",
       "    <tr>\n",
       "      <td>4</td>\n",
       "      <td>41</td>\n",
       "      <td>4</td>\n",
       "      <td>0.001905</td>\n",
       "      <td>0.097561</td>\n",
       "      <td>0.902439</td>\n",
       "    </tr>\n",
       "    <tr>\n",
       "      <td>5</td>\n",
       "      <td>9</td>\n",
       "      <td>0</td>\n",
       "      <td>0.000418</td>\n",
       "      <td>0.000000</td>\n",
       "      <td>1.000000</td>\n",
       "    </tr>\n",
       "  </tbody>\n",
       "</table>\n",
       "</div>"
      ],
      "text/plain": [
       "           debt       group_share_in_total debt_children_rate repaid_rate\n",
       "          count   sum                                                    \n",
       "children                                                                 \n",
       "0         14149  1063             0.657329           0.075129    0.924871\n",
       "1          4865   445             0.226016           0.091470    0.908530\n",
       "2          2131   202             0.099001           0.094791    0.905209\n",
       "3           330    27             0.015331           0.081818    0.918182\n",
       "4            41     4             0.001905           0.097561    0.902439\n",
       "5             9     0             0.000418           0.000000    1.000000"
      ]
     },
     "execution_count": 31,
     "metadata": {},
     "output_type": "execute_result"
    }
   ],
   "source": [
    "\n",
    "data_set_grouped=data.groupby('children').agg({'debt':['count','sum']})\n",
    "\n",
    "data_set_grouped=data_set_grouped.assign(group_share_in_total = data_set_grouped['debt']['count']/data_set_grouped['debt']['count'].sum(),\\\n",
    "       debt_children_rate=data_set_grouped['debt']['sum']/data_set_grouped['debt']['count'],\\\n",
    "       repaid_rate = 1-data_set_grouped['debt']['sum']/data_set_grouped['debt']['count'])\n",
    "data_set_grouped"
   ]
  },
  {
   "cell_type": "markdown",
   "id": "23b3e22c",
   "metadata": {},
   "source": [
    "#### Вывод 1: Люди у которых не было задолженности по возврату имели пятерых детей"
   ]
  },
  {
   "cell_type": "markdown",
   "id": "d0ef4def",
   "metadata": {},
   "source": [
    "#### Вопрос 2: Есть ли зависимость между семейным положением и возвратом кредита в срок?"
   ]
  },
  {
   "cell_type": "markdown",
   "id": "ab94facc",
   "metadata": {},
   "source": [
    "pivot_fam = data.pivot_table(index='family_status', columns='debt', values='dob_years', aggfunc='count')\n",
    "display(pivot_fam)"
   ]
  },
  {
   "cell_type": "code",
   "execution_count": 32,
   "id": "d6c4194b",
   "metadata": {},
   "outputs": [
    {
     "data": {
      "text/html": [
       "<div>\n",
       "<style scoped>\n",
       "    .dataframe tbody tr th:only-of-type {\n",
       "        vertical-align: middle;\n",
       "    }\n",
       "\n",
       "    .dataframe tbody tr th {\n",
       "        vertical-align: top;\n",
       "    }\n",
       "\n",
       "    .dataframe thead tr th {\n",
       "        text-align: left;\n",
       "    }\n",
       "\n",
       "    .dataframe thead tr:last-of-type th {\n",
       "        text-align: right;\n",
       "    }\n",
       "</style>\n",
       "<table border=\"1\" class=\"dataframe\">\n",
       "  <thead>\n",
       "    <tr>\n",
       "      <th></th>\n",
       "      <th>unpaid_qunatity</th>\n",
       "      <th>total_quantity</th>\n",
       "      <th>unpaid_rate</th>\n",
       "      <th>group_share_in_total</th>\n",
       "      <th>repaid_rate</th>\n",
       "      <th>family_status</th>\n",
       "    </tr>\n",
       "    <tr>\n",
       "      <th></th>\n",
       "      <th></th>\n",
       "      <th></th>\n",
       "      <th></th>\n",
       "      <th></th>\n",
       "      <th></th>\n",
       "      <th></th>\n",
       "    </tr>\n",
       "    <tr>\n",
       "      <th>family_status_id</th>\n",
       "      <th></th>\n",
       "      <th></th>\n",
       "      <th></th>\n",
       "      <th></th>\n",
       "      <th></th>\n",
       "      <th></th>\n",
       "    </tr>\n",
       "  </thead>\n",
       "  <tbody>\n",
       "    <tr>\n",
       "      <td>2</td>\n",
       "      <td>63</td>\n",
       "      <td>960</td>\n",
       "      <td>0.065625</td>\n",
       "      <td>0.044599</td>\n",
       "      <td>0.934375</td>\n",
       "      <td>[вдовец / вдова]</td>\n",
       "    </tr>\n",
       "    <tr>\n",
       "      <td>3</td>\n",
       "      <td>85</td>\n",
       "      <td>1195</td>\n",
       "      <td>0.071130</td>\n",
       "      <td>0.055517</td>\n",
       "      <td>0.928870</td>\n",
       "      <td>[в разводе]</td>\n",
       "    </tr>\n",
       "    <tr>\n",
       "      <td>0</td>\n",
       "      <td>931</td>\n",
       "      <td>12380</td>\n",
       "      <td>0.075202</td>\n",
       "      <td>0.575145</td>\n",
       "      <td>0.924798</td>\n",
       "      <td>[женат / замужем]</td>\n",
       "    </tr>\n",
       "    <tr>\n",
       "      <td>1</td>\n",
       "      <td>388</td>\n",
       "      <td>4177</td>\n",
       "      <td>0.092890</td>\n",
       "      <td>0.194053</td>\n",
       "      <td>0.907110</td>\n",
       "      <td>[гражданский брак]</td>\n",
       "    </tr>\n",
       "    <tr>\n",
       "      <td>4</td>\n",
       "      <td>274</td>\n",
       "      <td>2813</td>\n",
       "      <td>0.097405</td>\n",
       "      <td>0.130685</td>\n",
       "      <td>0.902595</td>\n",
       "      <td>[Не женат / не замужем]</td>\n",
       "    </tr>\n",
       "  </tbody>\n",
       "</table>\n",
       "</div>"
      ],
      "text/plain": [
       "                 unpaid_qunatity total_quantity unpaid_rate  \\\n",
       "                                                              \n",
       "family_status_id                                              \n",
       "2                             63            960    0.065625   \n",
       "3                             85           1195    0.071130   \n",
       "0                            931          12380    0.075202   \n",
       "1                            388           4177    0.092890   \n",
       "4                            274           2813    0.097405   \n",
       "\n",
       "                 group_share_in_total repaid_rate            family_status  \n",
       "                                                                            \n",
       "family_status_id                                                            \n",
       "2                            0.044599    0.934375         [вдовец / вдова]  \n",
       "3                            0.055517    0.928870              [в разводе]  \n",
       "0                            0.575145    0.924798        [женат / замужем]  \n",
       "1                            0.194053    0.907110       [гражданский брак]  \n",
       "4                            0.130685    0.902595  [Не женат / не замужем]  "
      ]
     },
     "execution_count": 32,
     "metadata": {},
     "output_type": "execute_result"
    }
   ],
   "source": [
    "def status_from_dict(index_id):\n",
    "    new_index = []\n",
    "    for value in index_id:\n",
    "        new_index.append(family_status_dict[value])\n",
    "    return new_index\n",
    "\n",
    "family_pivot = data.pivot_table(index='family_status_id',values='debt', aggfunc=['sum','count','mean'])\n",
    "family_pivot = family_pivot.assign(group_share_in_total = family_pivot['count']/family_pivot['count'].sum(),\\\n",
    "                                  repaid_rate = 1-family_pivot['mean'])\n",
    "\n",
    "family_pivot['family_status'] = status_from_dict(family_pivot.index)\n",
    "\n",
    "family_pivot = family_pivot.sort_values(by=('repaid_rate',''),ascending=False)\n",
    "family_pivot = family_pivot.rename(columns={'debt':'','sum':'unpaid_qunatity','count':'total_quantity','mean':'unpaid_rate'})\n",
    "family_pivot"
   ]
  },
  {
   "cell_type": "markdown",
   "id": "3e914bbb",
   "metadata": {},
   "source": [
    "#### Вывод 2: Не заметил зависимости"
   ]
  },
  {
   "cell_type": "markdown",
   "id": "a15ba799",
   "metadata": {},
   "source": [
    "####  Вопрос 3: Есть ли зависимость между уровнем дохода и возвратом кредита в срок?"
   ]
  },
  {
   "cell_type": "markdown",
   "id": "98ef88cc",
   "metadata": {},
   "source": [
    "pivot_total = data.pivot_table(index='total_income_category', columns='debt', values='dob_years', aggfunc='count')\n",
    "display(pivot_total)"
   ]
  },
  {
   "cell_type": "code",
   "execution_count": 38,
   "id": "3fb4d99a",
   "metadata": {},
   "outputs": [
    {
     "data": {
      "text/html": [
       "<div>\n",
       "<style scoped>\n",
       "    .dataframe tbody tr th:only-of-type {\n",
       "        vertical-align: middle;\n",
       "    }\n",
       "\n",
       "    .dataframe tbody tr th {\n",
       "        vertical-align: top;\n",
       "    }\n",
       "\n",
       "    .dataframe thead tr th {\n",
       "        text-align: left;\n",
       "    }\n",
       "\n",
       "    .dataframe thead tr:last-of-type th {\n",
       "        text-align: right;\n",
       "    }\n",
       "</style>\n",
       "<table border=\"1\" class=\"dataframe\">\n",
       "  <thead>\n",
       "    <tr>\n",
       "      <th></th>\n",
       "      <th>unpaid_qunatity</th>\n",
       "      <th>total_quantity</th>\n",
       "      <th>unpaid_rate</th>\n",
       "      <th>group_share_in_total</th>\n",
       "      <th>repaid_rate</th>\n",
       "      <th>family_status</th>\n",
       "    </tr>\n",
       "    <tr>\n",
       "      <th></th>\n",
       "      <th></th>\n",
       "      <th></th>\n",
       "      <th></th>\n",
       "      <th></th>\n",
       "      <th></th>\n",
       "      <th></th>\n",
       "    </tr>\n",
       "    <tr>\n",
       "      <th>total_income_category</th>\n",
       "      <th></th>\n",
       "      <th></th>\n",
       "      <th></th>\n",
       "      <th></th>\n",
       "      <th></th>\n",
       "      <th></th>\n",
       "    </tr>\n",
       "  </thead>\n",
       "  <tbody>\n",
       "    <tr>\n",
       "      <td>D</td>\n",
       "      <td>21</td>\n",
       "      <td>350</td>\n",
       "      <td>0.060000</td>\n",
       "      <td>0.016260</td>\n",
       "      <td>0.940000</td>\n",
       "      <td>200 001 -1000 000</td>\n",
       "    </tr>\n",
       "    <tr>\n",
       "      <td>B</td>\n",
       "      <td>356</td>\n",
       "      <td>5041</td>\n",
       "      <td>0.070621</td>\n",
       "      <td>0.234193</td>\n",
       "      <td>0.929379</td>\n",
       "      <td>30 001 -  50 000</td>\n",
       "    </tr>\n",
       "    <tr>\n",
       "      <td>A</td>\n",
       "      <td>2</td>\n",
       "      <td>25</td>\n",
       "      <td>0.080000</td>\n",
       "      <td>0.001161</td>\n",
       "      <td>0.920000</td>\n",
       "      <td>0 -  30 000</td>\n",
       "    </tr>\n",
       "    <tr>\n",
       "      <td>C</td>\n",
       "      <td>1360</td>\n",
       "      <td>16087</td>\n",
       "      <td>0.084540</td>\n",
       "      <td>0.747364</td>\n",
       "      <td>0.915460</td>\n",
       "      <td>50 001 - 200 000</td>\n",
       "    </tr>\n",
       "    <tr>\n",
       "      <td>E</td>\n",
       "      <td>2</td>\n",
       "      <td>22</td>\n",
       "      <td>0.090909</td>\n",
       "      <td>0.001022</td>\n",
       "      <td>0.909091</td>\n",
       "      <td>1 000 001 -------&gt;</td>\n",
       "    </tr>\n",
       "  </tbody>\n",
       "</table>\n",
       "</div>"
      ],
      "text/plain": [
       "                      unpaid_qunatity total_quantity unpaid_rate  \\\n",
       "                                                                   \n",
       "total_income_category                                              \n",
       "D                                  21            350    0.060000   \n",
       "B                                 356           5041    0.070621   \n",
       "A                                   2             25    0.080000   \n",
       "C                                1360          16087    0.084540   \n",
       "E                                   2             22    0.090909   \n",
       "\n",
       "                      group_share_in_total repaid_rate       family_status  \n",
       "                                                                            \n",
       "total_income_category                                                       \n",
       "D                                 0.016260    0.940000   200 001 -1000 000  \n",
       "B                                 0.234193    0.929379    30 001 -  50 000  \n",
       "A                                 0.001161    0.920000         0 -  30 000  \n",
       "C                                 0.747364    0.915460    50 001 - 200 000  \n",
       "E                                 0.001022    0.909091  1 000 001 ------->  "
      ]
     },
     "execution_count": 38,
     "metadata": {},
     "output_type": "execute_result"
    }
   ],
   "source": [
    "\n",
    "income_dict = {'A':'      0 -  30 000',\n",
    "              'B' :' 30 001 -  50 000',\n",
    "              'C' :' 50 001 - 200 000',\n",
    "              'D' :'200 001 -1000 000',\n",
    "              'E': '1 000 001 ------->'}\n",
    "\n",
    "def income_from_dict(index_id):\n",
    "    new_index = []\n",
    "    for value in index_id:\n",
    "        new_index.append(income_dict[value])\n",
    "    return new_index\n",
    "\n",
    "income_pivot = data.pivot_table(index='total_income_category',values='debt', aggfunc=['sum','count','mean'])\n",
    "income_pivot = income_pivot.assign(group_share_in_total = income_pivot['count']/income_pivot['count'].sum(),\\\n",
    "                                  repaid_rate = 1-income_pivot['mean'])\n",
    "\n",
    "income_pivot['family_status'] = income_from_dict(income_pivot.index)\n",
    "\n",
    "income_pivot = income_pivot.sort_values(by=('repaid_rate',''),ascending=False)\n",
    "\n",
    "income_pivot = income_pivot.rename(columns={'debt':'','sum':'unpaid_qunatity','count':'total_quantity','mean':'unpaid_rate'})\n",
    "income_pivot"
   ]
  },
  {
   "cell_type": "markdown",
   "id": "8dc63a8f",
   "metadata": {},
   "source": [
    "####  Вывод 3: Не заметил зависимости"
   ]
  },
  {
   "cell_type": "markdown",
   "id": "3e765e4a",
   "metadata": {},
   "source": [
    "#### Вопрос 4: Как разные цели кредита влияют на его возврат в срок?"
   ]
  },
  {
   "cell_type": "markdown",
   "id": "c90e96a6",
   "metadata": {},
   "source": [
    "pivot_purp = data.pivot_table(index='purpose_category', columns='debt', values='dob_years', aggfunc='count')\n",
    "display(pivot_purp)"
   ]
  },
  {
   "cell_type": "code",
   "execution_count": 37,
   "id": "20d3fffd",
   "metadata": {},
   "outputs": [
    {
     "data": {
      "text/html": [
       "<div>\n",
       "<style scoped>\n",
       "    .dataframe tbody tr th:only-of-type {\n",
       "        vertical-align: middle;\n",
       "    }\n",
       "\n",
       "    .dataframe tbody tr th {\n",
       "        vertical-align: top;\n",
       "    }\n",
       "\n",
       "    .dataframe thead tr th {\n",
       "        text-align: left;\n",
       "    }\n",
       "\n",
       "    .dataframe thead tr:last-of-type th {\n",
       "        text-align: right;\n",
       "    }\n",
       "</style>\n",
       "<table border=\"1\" class=\"dataframe\">\n",
       "  <thead>\n",
       "    <tr>\n",
       "      <th></th>\n",
       "      <th>unpaid_qunatity</th>\n",
       "      <th>total_quantity</th>\n",
       "      <th>unpaid_rate</th>\n",
       "      <th>group_share_in_total</th>\n",
       "      <th>repaid_rate</th>\n",
       "    </tr>\n",
       "    <tr>\n",
       "      <th></th>\n",
       "      <th></th>\n",
       "      <th></th>\n",
       "      <th></th>\n",
       "      <th></th>\n",
       "      <th></th>\n",
       "    </tr>\n",
       "    <tr>\n",
       "      <th>purpose_category</th>\n",
       "      <th></th>\n",
       "      <th></th>\n",
       "      <th></th>\n",
       "      <th></th>\n",
       "      <th></th>\n",
       "    </tr>\n",
       "  </thead>\n",
       "  <tbody>\n",
       "    <tr>\n",
       "      <td>операции с недвижимостью</td>\n",
       "      <td>782</td>\n",
       "      <td>10840</td>\n",
       "      <td>0.072140</td>\n",
       "      <td>0.503600</td>\n",
       "      <td>0.927860</td>\n",
       "    </tr>\n",
       "    <tr>\n",
       "      <td>проведение свадьбы</td>\n",
       "      <td>186</td>\n",
       "      <td>2348</td>\n",
       "      <td>0.079216</td>\n",
       "      <td>0.109082</td>\n",
       "      <td>0.920784</td>\n",
       "    </tr>\n",
       "    <tr>\n",
       "      <td>получение образования</td>\n",
       "      <td>370</td>\n",
       "      <td>4022</td>\n",
       "      <td>0.091994</td>\n",
       "      <td>0.186852</td>\n",
       "      <td>0.908006</td>\n",
       "    </tr>\n",
       "    <tr>\n",
       "      <td>операции с автомобилем</td>\n",
       "      <td>403</td>\n",
       "      <td>4315</td>\n",
       "      <td>0.093395</td>\n",
       "      <td>0.200465</td>\n",
       "      <td>0.906605</td>\n",
       "    </tr>\n",
       "  </tbody>\n",
       "</table>\n",
       "</div>"
      ],
      "text/plain": [
       "                         unpaid_qunatity total_quantity unpaid_rate  \\\n",
       "                                                                      \n",
       "purpose_category                                                      \n",
       "операции с недвижимостью             782          10840    0.072140   \n",
       "проведение свадьбы                   186           2348    0.079216   \n",
       "получение образования                370           4022    0.091994   \n",
       "операции с автомобилем               403           4315    0.093395   \n",
       "\n",
       "                         group_share_in_total repaid_rate  \n",
       "                                                           \n",
       "purpose_category                                           \n",
       "операции с недвижимостью             0.503600    0.927860  \n",
       "проведение свадьбы                   0.109082    0.920784  \n",
       "получение образования                0.186852    0.908006  \n",
       "операции с автомобилем               0.200465    0.906605  "
      ]
     },
     "execution_count": 37,
     "metadata": {},
     "output_type": "execute_result"
    }
   ],
   "source": [
    "\n",
    "purpose_pivot = data.pivot_table(index='purpose_category',values='debt', aggfunc=['sum','count','mean'])\n",
    "purpose_pivot = purpose_pivot.assign(group_share_in_total = purpose_pivot['count']/purpose_pivot['count'].sum(),\\\n",
    "                                  repaid_rate = 1-purpose_pivot['mean'])\n",
    "\n",
    "purpose_pivot = purpose_pivot.sort_values(by=('repaid_rate',''),ascending=False)\n",
    "\n",
    "purpose_pivot = purpose_pivot.rename(columns={'debt':'','sum':'unpaid_qunatity','count':'total_quantity','mean':'unpaid_rate'})\n",
    "purpose_pivot"
   ]
  },
  {
   "cell_type": "markdown",
   "id": "a9c146b0",
   "metadata": {},
   "source": [
    "####  Вывод 4: Не заметил зависмости "
   ]
  }
 ],
 "metadata": {
  "ExecuteTimeLog": [
   {
    "duration": 784,
    "start_time": "2022-02-26T20:00:43.632Z"
   },
   {
    "duration": 93,
    "start_time": "2022-02-26T20:01:02.990Z"
   },
   {
    "duration": 94,
    "start_time": "2022-02-26T20:01:29.227Z"
   },
   {
    "duration": 86,
    "start_time": "2022-02-26T20:04:48.836Z"
   },
   {
    "duration": 97,
    "start_time": "2022-02-26T20:05:19.436Z"
   },
   {
    "duration": 122,
    "start_time": "2022-02-26T20:05:57.166Z"
   },
   {
    "duration": 81,
    "start_time": "2022-02-26T20:06:20.665Z"
   },
   {
    "duration": 29,
    "start_time": "2022-02-26T20:09:43.177Z"
   },
   {
    "duration": 19,
    "start_time": "2022-02-26T20:09:55.807Z"
   },
   {
    "duration": 81,
    "start_time": "2022-02-26T20:11:18.960Z"
   },
   {
    "duration": 12,
    "start_time": "2022-02-26T20:11:20.513Z"
   },
   {
    "duration": 25,
    "start_time": "2022-02-26T20:18:23.001Z"
   },
   {
    "duration": 14,
    "start_time": "2022-02-26T20:18:32.635Z"
   },
   {
    "duration": 795,
    "start_time": "2022-02-26T20:25:07.901Z"
   },
   {
    "duration": 14,
    "start_time": "2022-02-26T20:25:09.048Z"
   },
   {
    "duration": 5,
    "start_time": "2022-02-26T20:28:18.303Z"
   },
   {
    "duration": 13,
    "start_time": "2022-02-26T20:29:04.195Z"
   },
   {
    "duration": 5,
    "start_time": "2022-02-26T20:29:05.584Z"
   },
   {
    "duration": 6,
    "start_time": "2022-02-26T20:33:21.967Z"
   },
   {
    "duration": 16,
    "start_time": "2022-02-26T20:33:23.180Z"
   },
   {
    "duration": 80,
    "start_time": "2022-02-26T20:34:43.244Z"
   },
   {
    "duration": 13,
    "start_time": "2022-02-26T20:34:44.868Z"
   },
   {
    "duration": 6,
    "start_time": "2022-02-26T20:34:45.682Z"
   },
   {
    "duration": 14,
    "start_time": "2022-02-26T20:34:46.490Z"
   },
   {
    "duration": 804,
    "start_time": "2022-02-26T20:41:26.287Z"
   },
   {
    "duration": 14,
    "start_time": "2022-02-26T20:41:27.323Z"
   },
   {
    "duration": 307,
    "start_time": "2022-02-26T20:41:28.751Z"
   },
   {
    "duration": 7,
    "start_time": "2022-02-26T20:42:01.330Z"
   },
   {
    "duration": 15,
    "start_time": "2022-02-26T20:42:12.136Z"
   },
   {
    "duration": 91,
    "start_time": "2022-02-26T20:47:48.674Z"
   },
   {
    "duration": 93,
    "start_time": "2022-02-27T16:20:32.902Z"
   },
   {
    "duration": 295,
    "start_time": "2022-02-27T16:20:47.917Z"
   },
   {
    "duration": 243,
    "start_time": "2022-02-27T16:24:41.134Z"
   },
   {
    "duration": 902,
    "start_time": "2022-02-27T16:24:49.814Z"
   },
   {
    "duration": 13,
    "start_time": "2022-02-27T16:24:50.719Z"
   },
   {
    "duration": 251,
    "start_time": "2022-02-27T16:24:51.779Z"
   },
   {
    "duration": 7,
    "start_time": "2022-02-27T16:24:52.886Z"
   },
   {
    "duration": 285,
    "start_time": "2022-02-27T16:25:06.045Z"
   },
   {
    "duration": 236,
    "start_time": "2022-02-27T16:25:31.050Z"
   },
   {
    "duration": 6,
    "start_time": "2022-02-27T16:27:55.985Z"
   },
   {
    "duration": 7,
    "start_time": "2022-02-27T16:28:18.691Z"
   },
   {
    "duration": 7,
    "start_time": "2022-02-27T16:29:27.704Z"
   },
   {
    "duration": 7,
    "start_time": "2022-02-27T16:29:42.015Z"
   },
   {
    "duration": 90,
    "start_time": "2022-02-27T16:29:49.366Z"
   },
   {
    "duration": 13,
    "start_time": "2022-02-27T16:29:50.138Z"
   },
   {
    "duration": 8,
    "start_time": "2022-02-27T16:29:50.944Z"
   },
   {
    "duration": 16,
    "start_time": "2022-02-27T16:29:52.030Z"
   },
   {
    "duration": 7,
    "start_time": "2022-02-27T16:29:53.305Z"
   },
   {
    "duration": 7,
    "start_time": "2022-02-27T16:30:21.652Z"
   },
   {
    "duration": 7,
    "start_time": "2022-02-27T16:30:22.285Z"
   },
   {
    "duration": 84,
    "start_time": "2022-02-27T16:30:25.921Z"
   },
   {
    "duration": 13,
    "start_time": "2022-02-27T16:30:26.746Z"
   },
   {
    "duration": 6,
    "start_time": "2022-02-27T16:30:27.809Z"
   },
   {
    "duration": 8,
    "start_time": "2022-02-27T16:30:28.642Z"
   },
   {
    "duration": 6,
    "start_time": "2022-02-27T16:31:03.380Z"
   },
   {
    "duration": 7,
    "start_time": "2022-02-27T16:34:02.027Z"
   },
   {
    "duration": 83,
    "start_time": "2022-02-27T16:34:07.797Z"
   },
   {
    "duration": 14,
    "start_time": "2022-02-27T16:34:08.784Z"
   },
   {
    "duration": 7,
    "start_time": "2022-02-27T16:34:10.298Z"
   },
   {
    "duration": 15,
    "start_time": "2022-02-27T16:34:11.972Z"
   },
   {
    "duration": 6,
    "start_time": "2022-02-27T16:34:13.289Z"
   },
   {
    "duration": 5,
    "start_time": "2022-02-27T16:36:52.057Z"
   },
   {
    "duration": 245,
    "start_time": "2022-02-27T16:37:12.129Z"
   },
   {
    "duration": 6,
    "start_time": "2022-02-27T16:37:28.088Z"
   },
   {
    "duration": 94,
    "start_time": "2022-02-27T16:37:34.989Z"
   },
   {
    "duration": 13,
    "start_time": "2022-02-27T16:37:36.016Z"
   },
   {
    "duration": 5,
    "start_time": "2022-02-27T16:37:37.104Z"
   },
   {
    "duration": 7,
    "start_time": "2022-02-27T16:38:00.352Z"
   },
   {
    "duration": 6,
    "start_time": "2022-02-27T16:40:54.902Z"
   },
   {
    "duration": 90,
    "start_time": "2022-02-27T16:45:41.018Z"
   },
   {
    "duration": 237,
    "start_time": "2022-02-27T16:45:49.163Z"
   },
   {
    "duration": 7,
    "start_time": "2022-02-27T16:46:42.256Z"
   },
   {
    "duration": 8,
    "start_time": "2022-02-27T16:46:42.646Z"
   },
   {
    "duration": 16,
    "start_time": "2022-02-27T16:46:43.489Z"
   },
   {
    "duration": 7,
    "start_time": "2022-02-27T16:46:44.482Z"
   },
   {
    "duration": 957,
    "start_time": "2022-02-27T16:54:16.155Z"
   },
   {
    "duration": 13,
    "start_time": "2022-02-27T16:54:17.115Z"
   },
   {
    "duration": 6,
    "start_time": "2022-02-27T16:54:18.128Z"
   },
   {
    "duration": 8,
    "start_time": "2022-02-27T16:54:18.698Z"
   },
   {
    "duration": 16,
    "start_time": "2022-02-27T16:54:20.985Z"
   },
   {
    "duration": 7,
    "start_time": "2022-02-27T16:54:22.818Z"
   },
   {
    "duration": 81,
    "start_time": "2022-02-27T16:57:44.914Z"
   },
   {
    "duration": 7,
    "start_time": "2022-02-27T16:59:57.162Z"
   },
   {
    "duration": 8,
    "start_time": "2022-02-27T17:08:46.141Z"
   },
   {
    "duration": 9,
    "start_time": "2022-02-27T17:08:57.876Z"
   },
   {
    "duration": 99,
    "start_time": "2022-02-27T17:09:30.816Z"
   },
   {
    "duration": 7,
    "start_time": "2022-02-27T17:09:42.086Z"
   },
   {
    "duration": 319,
    "start_time": "2022-02-27T17:17:44.286Z"
   },
   {
    "duration": 356,
    "start_time": "2022-02-27T17:18:16.041Z"
   },
   {
    "duration": 222,
    "start_time": "2022-02-27T17:18:22.957Z"
   },
   {
    "duration": 47,
    "start_time": "2022-02-27T17:18:37.758Z"
   },
   {
    "duration": 55,
    "start_time": "2022-02-27T17:19:26.958Z"
   },
   {
    "duration": 12,
    "start_time": "2022-02-27T17:23:03.411Z"
   },
   {
    "duration": 5,
    "start_time": "2022-02-27T17:23:10.993Z"
   },
   {
    "duration": 85,
    "start_time": "2022-02-27T17:23:15.286Z"
   },
   {
    "duration": 12,
    "start_time": "2022-02-27T17:23:16.989Z"
   },
   {
    "duration": 8,
    "start_time": "2022-02-27T17:23:20.398Z"
   },
   {
    "duration": 8,
    "start_time": "2022-02-27T17:23:20.969Z"
   },
   {
    "duration": 15,
    "start_time": "2022-02-27T17:23:22.181Z"
   },
   {
    "duration": 7,
    "start_time": "2022-02-27T17:23:23.540Z"
   },
   {
    "duration": 12,
    "start_time": "2022-02-27T17:23:39.193Z"
   },
   {
    "duration": 124,
    "start_time": "2022-02-27T17:23:43.082Z"
   },
   {
    "duration": 13,
    "start_time": "2022-02-27T17:23:44.081Z"
   },
   {
    "duration": 83,
    "start_time": "2022-02-27T17:24:15.009Z"
   },
   {
    "duration": 85,
    "start_time": "2022-02-27T17:24:35.583Z"
   },
   {
    "duration": 14,
    "start_time": "2022-02-27T17:24:37.454Z"
   },
   {
    "duration": 7,
    "start_time": "2022-02-27T17:24:56.230Z"
   },
   {
    "duration": 7,
    "start_time": "2022-02-27T17:24:56.615Z"
   },
   {
    "duration": 16,
    "start_time": "2022-02-27T17:24:57.341Z"
   },
   {
    "duration": 7,
    "start_time": "2022-02-27T17:24:58.490Z"
   },
   {
    "duration": 60,
    "start_time": "2022-02-27T17:25:01.271Z"
   },
   {
    "duration": 7,
    "start_time": "2022-02-27T17:31:08.354Z"
   },
   {
    "duration": 12,
    "start_time": "2022-02-27T17:31:34.784Z"
   },
   {
    "duration": 13,
    "start_time": "2022-02-27T17:31:55.621Z"
   },
   {
    "duration": 816,
    "start_time": "2022-02-27T17:32:05.715Z"
   },
   {
    "duration": 13,
    "start_time": "2022-02-27T17:32:06.533Z"
   },
   {
    "duration": 6,
    "start_time": "2022-02-27T17:32:06.917Z"
   },
   {
    "duration": 9,
    "start_time": "2022-02-27T17:32:07.399Z"
   },
   {
    "duration": 15,
    "start_time": "2022-02-27T17:32:08.387Z"
   },
   {
    "duration": 7,
    "start_time": "2022-02-27T17:32:09.340Z"
   },
   {
    "duration": 13,
    "start_time": "2022-02-27T17:32:10.612Z"
   },
   {
    "duration": 307,
    "start_time": "2022-02-27T17:32:33.098Z"
   },
   {
    "duration": 239,
    "start_time": "2022-02-27T17:32:44.920Z"
   },
   {
    "duration": 13,
    "start_time": "2022-02-27T17:33:15.910Z"
   },
   {
    "duration": 13,
    "start_time": "2022-02-27T17:33:24.954Z"
   },
   {
    "duration": 250,
    "start_time": "2022-02-27T17:34:09.902Z"
   },
   {
    "duration": 6,
    "start_time": "2022-02-27T17:34:20.381Z"
   },
   {
    "duration": 81,
    "start_time": "2022-02-27T17:34:46.702Z"
   },
   {
    "duration": 12,
    "start_time": "2022-02-27T17:34:52.801Z"
   },
   {
    "duration": 307,
    "start_time": "2022-02-27T17:35:11.934Z"
   },
   {
    "duration": 73,
    "start_time": "2022-02-27T17:35:26.076Z"
   },
   {
    "duration": 225,
    "start_time": "2022-02-27T17:35:31.979Z"
   },
   {
    "duration": 294,
    "start_time": "2022-02-27T17:35:50.003Z"
   },
   {
    "duration": 221,
    "start_time": "2022-02-27T17:36:46.935Z"
   },
   {
    "duration": 825,
    "start_time": "2022-02-27T17:36:50.512Z"
   },
   {
    "duration": 12,
    "start_time": "2022-02-27T17:36:51.340Z"
   },
   {
    "duration": 19,
    "start_time": "2022-02-27T17:36:51.355Z"
   },
   {
    "duration": 8,
    "start_time": "2022-02-27T17:36:51.386Z"
   },
   {
    "duration": 17,
    "start_time": "2022-02-27T17:36:51.722Z"
   },
   {
    "duration": 9,
    "start_time": "2022-02-27T17:36:52.936Z"
   },
   {
    "duration": 14,
    "start_time": "2022-02-27T17:36:53.833Z"
   },
   {
    "duration": 7,
    "start_time": "2022-02-27T17:40:43.666Z"
   },
   {
    "duration": 334,
    "start_time": "2022-02-27T17:40:55.694Z"
   },
   {
    "duration": 237,
    "start_time": "2022-02-27T17:41:23.724Z"
   },
   {
    "duration": 14,
    "start_time": "2022-02-27T17:48:32.696Z"
   },
   {
    "duration": 8,
    "start_time": "2022-02-27T17:48:49.466Z"
   },
   {
    "duration": 765,
    "start_time": "2022-02-27T17:48:58.945Z"
   },
   {
    "duration": 319,
    "start_time": "2022-02-27T17:49:06.619Z"
   },
   {
    "duration": 8,
    "start_time": "2022-02-27T17:49:12.418Z"
   },
   {
    "duration": 9,
    "start_time": "2022-02-27T17:51:58.440Z"
   },
   {
    "duration": 6,
    "start_time": "2022-02-27T17:52:43.924Z"
   },
   {
    "duration": 85,
    "start_time": "2022-02-27T17:52:48.922Z"
   },
   {
    "duration": 12,
    "start_time": "2022-02-27T17:52:49.270Z"
   },
   {
    "duration": 7,
    "start_time": "2022-02-27T17:52:49.600Z"
   },
   {
    "duration": 8,
    "start_time": "2022-02-27T17:52:49.774Z"
   },
   {
    "duration": 15,
    "start_time": "2022-02-27T17:52:50.118Z"
   },
   {
    "duration": 7,
    "start_time": "2022-02-27T17:52:50.840Z"
   },
   {
    "duration": 230,
    "start_time": "2022-02-27T17:52:51.474Z"
   },
   {
    "duration": 56,
    "start_time": "2022-02-27T17:52:56.172Z"
   },
   {
    "duration": 5,
    "start_time": "2022-02-27T17:52:56.992Z"
   },
   {
    "duration": 7,
    "start_time": "2022-02-27T17:53:30.773Z"
   },
   {
    "duration": 8,
    "start_time": "2022-02-27T18:01:38.740Z"
   },
   {
    "duration": 7,
    "start_time": "2022-02-27T18:02:04.862Z"
   },
   {
    "duration": 19,
    "start_time": "2022-02-27T18:04:28.934Z"
   },
   {
    "duration": 4,
    "start_time": "2022-02-27T18:10:54.464Z"
   },
   {
    "duration": 18,
    "start_time": "2022-02-27T18:12:13.199Z"
   },
   {
    "duration": 15,
    "start_time": "2022-02-27T18:15:53.569Z"
   },
   {
    "duration": 23,
    "start_time": "2022-02-27T18:17:43.293Z"
   },
   {
    "duration": 225,
    "start_time": "2022-02-27T18:17:51.551Z"
   },
   {
    "duration": 25,
    "start_time": "2022-02-27T18:17:59.083Z"
   },
   {
    "duration": 23,
    "start_time": "2022-02-27T18:18:19.566Z"
   },
   {
    "duration": 25,
    "start_time": "2022-02-27T18:18:35.742Z"
   },
   {
    "duration": 24,
    "start_time": "2022-02-27T18:18:45.644Z"
   },
   {
    "duration": 17,
    "start_time": "2022-02-27T18:19:14.990Z"
   },
   {
    "duration": 23,
    "start_time": "2022-02-27T18:19:16.511Z"
   },
   {
    "duration": 7,
    "start_time": "2022-02-27T18:19:56.705Z"
   },
   {
    "duration": 8,
    "start_time": "2022-02-27T18:20:04.875Z"
   },
   {
    "duration": 6,
    "start_time": "2022-02-27T18:20:45.524Z"
   },
   {
    "duration": 293,
    "start_time": "2022-02-27T18:21:27.135Z"
   },
   {
    "duration": 6,
    "start_time": "2022-02-27T19:12:10.886Z"
   },
   {
    "duration": 6,
    "start_time": "2022-02-27T19:13:13.102Z"
   },
   {
    "duration": 11,
    "start_time": "2022-02-27T19:15:51.355Z"
   },
   {
    "duration": 11,
    "start_time": "2022-02-27T19:16:30.382Z"
   },
   {
    "duration": 232,
    "start_time": "2022-02-27T19:16:43.235Z"
   },
   {
    "duration": 78,
    "start_time": "2022-02-27T19:16:53.352Z"
   },
   {
    "duration": 12,
    "start_time": "2022-02-27T19:18:04.953Z"
   },
   {
    "duration": 11,
    "start_time": "2022-02-27T19:18:12.804Z"
   },
   {
    "duration": 249,
    "start_time": "2022-02-27T19:22:02.730Z"
   },
   {
    "duration": 232,
    "start_time": "2022-02-27T19:22:58.057Z"
   },
   {
    "duration": 18,
    "start_time": "2022-02-27T19:23:14.974Z"
   },
   {
    "duration": 20,
    "start_time": "2022-02-27T19:23:19.570Z"
   },
   {
    "duration": 25,
    "start_time": "2022-02-27T19:23:49.406Z"
   },
   {
    "duration": 28,
    "start_time": "2022-02-27T19:24:45.358Z"
   },
   {
    "duration": 345,
    "start_time": "2022-02-28T20:13:21.581Z"
   },
   {
    "duration": 96,
    "start_time": "2022-02-28T20:13:42.230Z"
   },
   {
    "duration": 304,
    "start_time": "2022-02-28T20:13:53.094Z"
   },
   {
    "duration": 818,
    "start_time": "2022-02-28T20:14:00.153Z"
   },
   {
    "duration": 15,
    "start_time": "2022-02-28T20:14:01.124Z"
   },
   {
    "duration": 6,
    "start_time": "2022-02-28T20:14:01.544Z"
   },
   {
    "duration": 8,
    "start_time": "2022-02-28T20:14:01.707Z"
   },
   {
    "duration": 14,
    "start_time": "2022-02-28T20:14:02.098Z"
   },
   {
    "duration": 7,
    "start_time": "2022-02-28T20:14:02.504Z"
   },
   {
    "duration": 332,
    "start_time": "2022-02-28T20:14:02.911Z"
   },
   {
    "duration": 11,
    "start_time": "2022-02-28T20:14:25.972Z"
   },
   {
    "duration": 24,
    "start_time": "2022-02-28T20:14:28.943Z"
   },
   {
    "duration": 14,
    "start_time": "2022-02-28T20:28:41.164Z"
   },
   {
    "duration": 26,
    "start_time": "2022-02-28T20:30:01.133Z"
   },
   {
    "duration": 15,
    "start_time": "2022-02-28T20:30:28.807Z"
   },
   {
    "duration": 16,
    "start_time": "2022-02-28T20:30:35.489Z"
   },
   {
    "duration": 5,
    "start_time": "2022-02-28T20:31:14.128Z"
   },
   {
    "duration": 9,
    "start_time": "2022-02-28T20:32:33.205Z"
   },
   {
    "duration": 802,
    "start_time": "2022-02-28T20:33:58.452Z"
   },
   {
    "duration": 13,
    "start_time": "2022-02-28T20:33:59.257Z"
   },
   {
    "duration": 6,
    "start_time": "2022-02-28T20:33:59.274Z"
   },
   {
    "duration": 7,
    "start_time": "2022-02-28T20:33:59.322Z"
   },
   {
    "duration": 15,
    "start_time": "2022-02-28T20:33:59.676Z"
   },
   {
    "duration": 6,
    "start_time": "2022-02-28T20:34:00.039Z"
   },
   {
    "duration": 400,
    "start_time": "2022-02-28T20:34:00.415Z"
   },
   {
    "duration": 0,
    "start_time": "2022-02-28T20:34:00.817Z"
   },
   {
    "duration": 15,
    "start_time": "2022-02-28T20:34:01.145Z"
   },
   {
    "duration": 17,
    "start_time": "2022-02-28T20:34:01.726Z"
   },
   {
    "duration": 22,
    "start_time": "2022-02-28T20:34:02.506Z"
   },
   {
    "duration": 8,
    "start_time": "2022-02-28T20:34:02.742Z"
   },
   {
    "duration": 11,
    "start_time": "2022-02-28T20:34:03.211Z"
   },
   {
    "duration": 25,
    "start_time": "2022-02-28T20:34:03.724Z"
   },
   {
    "duration": 9,
    "start_time": "2022-02-28T20:34:05.496Z"
   },
   {
    "duration": 11,
    "start_time": "2022-02-28T20:34:38.200Z"
   },
   {
    "duration": 14,
    "start_time": "2022-02-28T20:34:45.325Z"
   },
   {
    "duration": 14,
    "start_time": "2022-02-28T20:34:57.831Z"
   },
   {
    "duration": 1329,
    "start_time": "2022-02-28T20:36:05.981Z"
   },
   {
    "duration": 339,
    "start_time": "2022-02-28T20:36:25.073Z"
   },
   {
    "duration": 808,
    "start_time": "2022-02-28T20:37:34.680Z"
   },
   {
    "duration": 14,
    "start_time": "2022-02-28T20:37:37.462Z"
   },
   {
    "duration": 7,
    "start_time": "2022-02-28T20:37:38.622Z"
   },
   {
    "duration": 8,
    "start_time": "2022-02-28T20:37:38.943Z"
   },
   {
    "duration": 15,
    "start_time": "2022-02-28T20:37:39.400Z"
   },
   {
    "duration": 7,
    "start_time": "2022-02-28T20:37:39.777Z"
   },
   {
    "duration": 441,
    "start_time": "2022-02-28T20:37:40.181Z"
   },
   {
    "duration": -3,
    "start_time": "2022-02-28T20:37:40.628Z"
   },
   {
    "duration": 18,
    "start_time": "2022-02-28T20:37:41.023Z"
   },
   {
    "duration": 18,
    "start_time": "2022-02-28T20:37:46.869Z"
   },
   {
    "duration": 22,
    "start_time": "2022-02-28T20:37:48.391Z"
   },
   {
    "duration": 6,
    "start_time": "2022-02-28T20:37:48.710Z"
   },
   {
    "duration": 11,
    "start_time": "2022-02-28T20:37:49.010Z"
   },
   {
    "duration": 26,
    "start_time": "2022-02-28T20:37:49.470Z"
   },
   {
    "duration": 15,
    "start_time": "2022-02-28T20:37:51.664Z"
   },
   {
    "duration": -61,
    "start_time": "2022-02-28T20:41:15.229Z"
   },
   {
    "duration": -157,
    "start_time": "2022-02-28T20:41:15.327Z"
   },
   {
    "duration": 90,
    "start_time": "2022-02-28T20:41:22.973Z"
   },
   {
    "duration": 12,
    "start_time": "2022-02-28T20:41:24.383Z"
   },
   {
    "duration": 6,
    "start_time": "2022-02-28T20:41:25.597Z"
   },
   {
    "duration": 8,
    "start_time": "2022-02-28T20:41:25.972Z"
   },
   {
    "duration": 15,
    "start_time": "2022-02-28T20:41:26.974Z"
   },
   {
    "duration": 7,
    "start_time": "2022-02-28T20:41:28.100Z"
   },
   {
    "duration": 355,
    "start_time": "2022-02-28T20:41:29.213Z"
   },
   {
    "duration": 57,
    "start_time": "2022-02-28T20:41:30.202Z"
   },
   {
    "duration": 55,
    "start_time": "2022-02-28T20:41:55.531Z"
   },
   {
    "duration": 15,
    "start_time": "2022-02-28T20:41:57.429Z"
   },
   {
    "duration": 16,
    "start_time": "2022-02-28T20:41:59.726Z"
   },
   {
    "duration": 29,
    "start_time": "2022-02-28T20:42:02.125Z"
   },
   {
    "duration": 7,
    "start_time": "2022-02-28T20:42:02.717Z"
   },
   {
    "duration": 10,
    "start_time": "2022-02-28T20:42:03.333Z"
   },
   {
    "duration": 26,
    "start_time": "2022-02-28T20:42:04.256Z"
   },
   {
    "duration": 15,
    "start_time": "2022-02-28T20:42:06.121Z"
   },
   {
    "duration": -203,
    "start_time": "2022-02-28T20:45:25.782Z"
   },
   {
    "duration": 350,
    "start_time": "2022-02-28T20:48:08.269Z"
   },
   {
    "duration": 290,
    "start_time": "2022-02-28T20:48:16.428Z"
   },
   {
    "duration": 16,
    "start_time": "2022-02-28T20:48:27.879Z"
   },
   {
    "duration": 377,
    "start_time": "2022-02-28T20:48:55.129Z"
   },
   {
    "duration": 318,
    "start_time": "2022-02-28T20:49:05.950Z"
   },
   {
    "duration": 303,
    "start_time": "2022-02-28T20:50:45.474Z"
   },
   {
    "duration": 313,
    "start_time": "2022-02-28T20:50:54.272Z"
   },
   {
    "duration": 19,
    "start_time": "2022-02-28T20:51:23.454Z"
   },
   {
    "duration": 21,
    "start_time": "2022-02-28T20:51:34.813Z"
   },
   {
    "duration": 29,
    "start_time": "2022-02-28T20:51:45.496Z"
   },
   {
    "duration": 42,
    "start_time": "2022-02-28T20:52:32.967Z"
   },
   {
    "duration": 36,
    "start_time": "2022-02-28T20:53:01.168Z"
   },
   {
    "duration": 38,
    "start_time": "2022-02-28T20:53:21.115Z"
   },
   {
    "duration": 56,
    "start_time": "2022-02-28T20:53:57.885Z"
   },
   {
    "duration": 59,
    "start_time": "2022-02-28T20:54:15.957Z"
   },
   {
    "duration": 56,
    "start_time": "2022-02-28T20:54:26.167Z"
   },
   {
    "duration": 200532,
    "start_time": "2022-02-28T20:54:31.464Z"
   },
   {
    "duration": 925,
    "start_time": "2022-02-28T20:59:01.761Z"
   },
   {
    "duration": 14,
    "start_time": "2022-02-28T20:59:02.689Z"
   },
   {
    "duration": 25,
    "start_time": "2022-02-28T20:59:02.706Z"
   },
   {
    "duration": 8,
    "start_time": "2022-02-28T20:59:02.734Z"
   },
   {
    "duration": 15,
    "start_time": "2022-02-28T20:59:03.051Z"
   },
   {
    "duration": 8,
    "start_time": "2022-02-28T20:59:03.359Z"
   },
   {
    "duration": 87,
    "start_time": "2022-02-28T20:59:03.895Z"
   },
   {
    "duration": 16,
    "start_time": "2022-02-28T20:59:04.287Z"
   },
   {
    "duration": 16,
    "start_time": "2022-02-28T20:59:04.878Z"
   },
   {
    "duration": 22,
    "start_time": "2022-02-28T20:59:05.446Z"
   },
   {
    "duration": 7,
    "start_time": "2022-02-28T20:59:05.641Z"
   },
   {
    "duration": 12,
    "start_time": "2022-02-28T20:59:05.822Z"
   },
   {
    "duration": 28,
    "start_time": "2022-02-28T20:59:06.030Z"
   },
   {
    "duration": 76,
    "start_time": "2022-02-28T20:59:06.636Z"
   },
   {
    "duration": 849,
    "start_time": "2022-02-28T21:03:56.901Z"
   },
   {
    "duration": 15,
    "start_time": "2022-02-28T21:03:58.070Z"
   },
   {
    "duration": 6,
    "start_time": "2022-02-28T21:03:59.618Z"
   },
   {
    "duration": 8,
    "start_time": "2022-02-28T21:04:00.246Z"
   },
   {
    "duration": 16,
    "start_time": "2022-02-28T21:04:01.525Z"
   },
   {
    "duration": 7,
    "start_time": "2022-02-28T21:04:02.663Z"
   },
   {
    "duration": 56,
    "start_time": "2022-02-28T21:04:04.225Z"
   },
   {
    "duration": 16,
    "start_time": "2022-02-28T21:04:05.352Z"
   },
   {
    "duration": 17,
    "start_time": "2022-02-28T21:04:06.950Z"
   },
   {
    "duration": 23,
    "start_time": "2022-02-28T21:04:08.542Z"
   },
   {
    "duration": 7,
    "start_time": "2022-02-28T21:04:09.112Z"
   },
   {
    "duration": 11,
    "start_time": "2022-02-28T21:04:09.658Z"
   },
   {
    "duration": 26,
    "start_time": "2022-02-28T21:04:10.312Z"
   },
   {
    "duration": 55,
    "start_time": "2022-02-28T21:04:12.347Z"
   },
   {
    "duration": 208423,
    "start_time": "2022-02-28T21:04:13.665Z"
   },
   {
    "duration": 205225,
    "start_time": "2022-02-28T21:09:20.035Z"
   },
   {
    "duration": 91,
    "start_time": "2022-02-28T21:13:28.340Z"
   },
   {
    "duration": 9116,
    "start_time": "2022-02-28T21:14:22.622Z"
   },
   {
    "duration": 16,
    "start_time": "2022-02-28T21:14:35.674Z"
   },
   {
    "duration": 341,
    "start_time": "2022-02-28T21:17:24.460Z"
   },
   {
    "duration": 17,
    "start_time": "2022-02-28T21:17:44.589Z"
   },
   {
    "duration": 27,
    "start_time": "2022-02-28T21:18:08.781Z"
   },
   {
    "duration": 48,
    "start_time": "2022-02-28T21:18:43.917Z"
   },
   {
    "duration": 26,
    "start_time": "2022-02-28T21:19:18.848Z"
   },
   {
    "duration": 25,
    "start_time": "2022-02-28T21:19:23.891Z"
   },
   {
    "duration": 50,
    "start_time": "2022-02-28T21:19:31.356Z"
   },
   {
    "duration": 26,
    "start_time": "2022-02-28T21:20:15.804Z"
   },
   {
    "duration": 50,
    "start_time": "2022-02-28T21:20:32.697Z"
   },
   {
    "duration": 49,
    "start_time": "2022-02-28T21:20:56.995Z"
   },
   {
    "duration": 46,
    "start_time": "2022-02-28T21:23:57.067Z"
   },
   {
    "duration": 39,
    "start_time": "2022-02-28T21:24:06.428Z"
   },
   {
    "duration": 302,
    "start_time": "2022-02-28T21:32:45.536Z"
   },
   {
    "duration": 7,
    "start_time": "2022-02-28T21:33:05.673Z"
   },
   {
    "duration": 8,
    "start_time": "2022-02-28T21:33:23.890Z"
   },
   {
    "duration": 8,
    "start_time": "2022-02-28T21:33:51.776Z"
   },
   {
    "duration": 9,
    "start_time": "2022-02-28T21:34:11.819Z"
   },
   {
    "duration": 10,
    "start_time": "2022-02-28T21:34:46.359Z"
   },
   {
    "duration": 10,
    "start_time": "2022-02-28T21:35:00.830Z"
   },
   {
    "duration": 10,
    "start_time": "2022-02-28T21:35:16.629Z"
   },
   {
    "duration": 10,
    "start_time": "2022-02-28T21:35:31.427Z"
   },
   {
    "duration": 10,
    "start_time": "2022-02-28T21:36:53.813Z"
   },
   {
    "duration": 11,
    "start_time": "2022-02-28T21:37:04.940Z"
   },
   {
    "duration": 12,
    "start_time": "2022-02-28T21:42:48.613Z"
   },
   {
    "duration": 11,
    "start_time": "2022-02-28T21:43:37.913Z"
   },
   {
    "duration": 10,
    "start_time": "2022-02-28T21:43:47.752Z"
   },
   {
    "duration": 10,
    "start_time": "2022-02-28T21:48:34.032Z"
   },
   {
    "duration": 10,
    "start_time": "2022-02-28T21:50:38.973Z"
   },
   {
    "duration": 10,
    "start_time": "2022-02-28T21:50:50.949Z"
   },
   {
    "duration": 11,
    "start_time": "2022-02-28T21:50:57.294Z"
   },
   {
    "duration": 11,
    "start_time": "2022-02-28T21:54:02.779Z"
   },
   {
    "duration": 11,
    "start_time": "2022-02-28T21:54:43.470Z"
   },
   {
    "duration": 10,
    "start_time": "2022-02-28T21:55:06.382Z"
   },
   {
    "duration": 854,
    "start_time": "2022-02-28T21:57:43.439Z"
   },
   {
    "duration": 14,
    "start_time": "2022-02-28T21:57:44.297Z"
   },
   {
    "duration": 7,
    "start_time": "2022-02-28T21:57:44.334Z"
   },
   {
    "duration": 8,
    "start_time": "2022-02-28T21:57:44.472Z"
   },
   {
    "duration": 16,
    "start_time": "2022-02-28T21:57:44.836Z"
   },
   {
    "duration": 7,
    "start_time": "2022-02-28T21:57:45.214Z"
   },
   {
    "duration": 55,
    "start_time": "2022-02-28T21:57:45.797Z"
   },
   {
    "duration": 15,
    "start_time": "2022-02-28T21:57:46.188Z"
   },
   {
    "duration": 17,
    "start_time": "2022-02-28T21:57:46.770Z"
   },
   {
    "duration": 23,
    "start_time": "2022-02-28T21:57:47.368Z"
   },
   {
    "duration": 8,
    "start_time": "2022-02-28T21:57:47.587Z"
   },
   {
    "duration": 11,
    "start_time": "2022-02-28T21:57:47.779Z"
   },
   {
    "duration": 27,
    "start_time": "2022-02-28T21:57:47.999Z"
   },
   {
    "duration": 54,
    "start_time": "2022-02-28T21:57:48.660Z"
   },
   {
    "duration": 45,
    "start_time": "2022-02-28T21:57:49.188Z"
   },
   {
    "duration": 9,
    "start_time": "2022-02-28T21:57:51.145Z"
   },
   {
    "duration": 95,
    "start_time": "2022-02-28T22:48:20.523Z"
   },
   {
    "duration": 19,
    "start_time": "2022-02-28T22:48:33.695Z"
   },
   {
    "duration": 34,
    "start_time": "2022-02-28T22:48:52.947Z"
   },
   {
    "duration": 35,
    "start_time": "2022-02-28T22:52:06.542Z"
   },
   {
    "duration": 36,
    "start_time": "2022-02-28T22:52:38.704Z"
   },
   {
    "duration": 496,
    "start_time": "2022-02-28T23:01:37.404Z"
   },
   {
    "duration": 300,
    "start_time": "2022-02-28T23:01:52.014Z"
   },
   {
    "duration": 80,
    "start_time": "2022-02-28T23:10:12.811Z"
   },
   {
    "duration": 21,
    "start_time": "2022-02-28T23:10:16.054Z"
   },
   {
    "duration": 327,
    "start_time": "2022-02-28T23:12:03.157Z"
   },
   {
    "duration": 19,
    "start_time": "2022-02-28T23:12:11.626Z"
   },
   {
    "duration": 374,
    "start_time": "2022-02-28T23:13:02.281Z"
   },
   {
    "duration": 20,
    "start_time": "2022-02-28T23:13:14.676Z"
   },
   {
    "duration": 20,
    "start_time": "2022-02-28T23:14:14.132Z"
   },
   {
    "duration": 23,
    "start_time": "2022-02-28T23:14:32.201Z"
   },
   {
    "duration": 23,
    "start_time": "2022-02-28T23:14:51.472Z"
   },
   {
    "duration": 25,
    "start_time": "2022-02-28T23:15:01.132Z"
   },
   {
    "duration": 25,
    "start_time": "2022-02-28T23:15:27.570Z"
   },
   {
    "duration": 6,
    "start_time": "2022-02-28T23:16:58.153Z"
   },
   {
    "duration": 6,
    "start_time": "2022-02-28T23:17:09.752Z"
   },
   {
    "duration": 18,
    "start_time": "2022-02-28T23:20:14.877Z"
   },
   {
    "duration": 17,
    "start_time": "2022-02-28T23:20:18.354Z"
   },
   {
    "duration": 26,
    "start_time": "2022-02-28T23:20:18.906Z"
   },
   {
    "duration": 7,
    "start_time": "2022-02-28T23:20:19.086Z"
   },
   {
    "duration": 12,
    "start_time": "2022-02-28T23:20:19.270Z"
   },
   {
    "duration": 29,
    "start_time": "2022-02-28T23:20:19.458Z"
   },
   {
    "duration": 58,
    "start_time": "2022-02-28T23:20:20.024Z"
   },
   {
    "duration": 41,
    "start_time": "2022-02-28T23:20:20.581Z"
   },
   {
    "duration": 36,
    "start_time": "2022-02-28T23:20:20.803Z"
   },
   {
    "duration": 6,
    "start_time": "2022-02-28T23:20:21.041Z"
   },
   {
    "duration": 25,
    "start_time": "2022-02-28T23:20:29.140Z"
   },
   {
    "duration": 27,
    "start_time": "2022-02-28T23:23:29.497Z"
   },
   {
    "duration": 98,
    "start_time": "2022-02-28T23:23:33.334Z"
   },
   {
    "duration": 26,
    "start_time": "2022-02-28T23:23:54.805Z"
   },
   {
    "duration": 27,
    "start_time": "2022-02-28T23:24:37.082Z"
   },
   {
    "duration": 314,
    "start_time": "2022-02-28T23:27:22.353Z"
   },
   {
    "duration": 314,
    "start_time": "2022-02-28T23:28:08.916Z"
   },
   {
    "duration": 27,
    "start_time": "2022-02-28T23:28:22.087Z"
   },
   {
    "duration": 25,
    "start_time": "2022-02-28T23:28:40.827Z"
   },
   {
    "duration": 25,
    "start_time": "2022-02-28T23:28:53.668Z"
   },
   {
    "duration": 44,
    "start_time": "2022-02-28T23:32:14.204Z"
   },
   {
    "duration": 64,
    "start_time": "2022-02-28T23:32:48.721Z"
   },
   {
    "duration": 54,
    "start_time": "2022-02-28T23:33:11.712Z"
   },
   {
    "duration": 26,
    "start_time": "2022-02-28T23:34:17.500Z"
   },
   {
    "duration": 27,
    "start_time": "2022-02-28T23:34:34.860Z"
   },
   {
    "duration": 44,
    "start_time": "2022-02-28T23:34:36.065Z"
   },
   {
    "duration": 46,
    "start_time": "2022-02-28T23:35:17.836Z"
   },
   {
    "duration": 310,
    "start_time": "2022-03-01T15:28:36.679Z"
   },
   {
    "duration": 273,
    "start_time": "2022-03-01T15:28:53.026Z"
   },
   {
    "duration": 282,
    "start_time": "2022-03-01T15:28:59.343Z"
   },
   {
    "duration": 580,
    "start_time": "2022-03-01T15:29:07.865Z"
   },
   {
    "duration": 8,
    "start_time": "2022-03-01T15:29:08.446Z"
   },
   {
    "duration": 4,
    "start_time": "2022-03-01T15:29:08.690Z"
   },
   {
    "duration": 5,
    "start_time": "2022-03-01T15:29:08.895Z"
   },
   {
    "duration": 10,
    "start_time": "2022-03-01T15:29:09.157Z"
   },
   {
    "duration": 4,
    "start_time": "2022-03-01T15:29:09.548Z"
   },
   {
    "duration": 34,
    "start_time": "2022-03-01T15:29:10.124Z"
   },
   {
    "duration": 10,
    "start_time": "2022-03-01T15:29:10.523Z"
   },
   {
    "duration": 11,
    "start_time": "2022-03-01T15:29:11.108Z"
   },
   {
    "duration": 13,
    "start_time": "2022-03-01T15:29:11.704Z"
   },
   {
    "duration": 5,
    "start_time": "2022-03-01T15:29:11.877Z"
   },
   {
    "duration": 7,
    "start_time": "2022-03-01T15:29:12.078Z"
   },
   {
    "duration": 16,
    "start_time": "2022-03-01T15:29:12.286Z"
   },
   {
    "duration": 31,
    "start_time": "2022-03-01T15:29:12.880Z"
   },
   {
    "duration": 42,
    "start_time": "2022-03-01T15:29:13.288Z"
   },
   {
    "duration": 21,
    "start_time": "2022-03-01T15:29:13.708Z"
   },
   {
    "duration": 4,
    "start_time": "2022-03-01T15:29:13.894Z"
   },
   {
    "duration": 21,
    "start_time": "2022-03-01T15:29:15.526Z"
   },
   {
    "duration": 14,
    "start_time": "2022-03-01T15:29:15.739Z"
   },
   {
    "duration": 27,
    "start_time": "2022-03-01T15:29:15.944Z"
   },
   {
    "duration": 343,
    "start_time": "2022-03-01T15:31:11.708Z"
   },
   {
    "duration": 305,
    "start_time": "2022-03-01T15:31:26.877Z"
   },
   {
    "duration": 281,
    "start_time": "2022-03-01T15:31:38.512Z"
   },
   {
    "duration": 12,
    "start_time": "2022-03-01T15:31:51.843Z"
   },
   {
    "duration": 24,
    "start_time": "2022-03-01T15:33:29.989Z"
   },
   {
    "duration": 300,
    "start_time": "2022-03-01T15:33:52.515Z"
   },
   {
    "duration": 16,
    "start_time": "2022-03-01T15:34:16.826Z"
   },
   {
    "duration": 15,
    "start_time": "2022-03-01T15:34:57.345Z"
   },
   {
    "duration": 15,
    "start_time": "2022-03-01T15:35:23.576Z"
   },
   {
    "duration": 27,
    "start_time": "2022-03-01T15:35:25.238Z"
   },
   {
    "duration": 321,
    "start_time": "2022-03-01T15:36:20.682Z"
   },
   {
    "duration": 15,
    "start_time": "2022-03-01T15:36:31.529Z"
   },
   {
    "duration": 15,
    "start_time": "2022-03-01T15:37:15.244Z"
   },
   {
    "duration": 17,
    "start_time": "2022-03-01T15:38:33.943Z"
   },
   {
    "duration": 15,
    "start_time": "2022-03-01T15:39:53.964Z"
   },
   {
    "duration": 59,
    "start_time": "2022-03-01T17:28:24.242Z"
   },
   {
    "duration": 8,
    "start_time": "2022-03-01T17:28:25.583Z"
   },
   {
    "duration": 5,
    "start_time": "2022-03-01T17:28:26.722Z"
   },
   {
    "duration": 5,
    "start_time": "2022-03-01T17:28:27.302Z"
   },
   {
    "duration": 15,
    "start_time": "2022-03-01T17:28:28.329Z"
   },
   {
    "duration": 5,
    "start_time": "2022-03-01T17:28:29.250Z"
   },
   {
    "duration": 33,
    "start_time": "2022-03-01T17:28:30.921Z"
   },
   {
    "duration": 11,
    "start_time": "2022-03-01T17:28:32.333Z"
   },
   {
    "duration": 11,
    "start_time": "2022-03-01T17:28:33.864Z"
   },
   {
    "duration": 15,
    "start_time": "2022-03-01T17:28:36.103Z"
   },
   {
    "duration": 5,
    "start_time": "2022-03-01T17:28:36.585Z"
   },
   {
    "duration": 7,
    "start_time": "2022-03-01T17:28:37.032Z"
   },
   {
    "duration": 26,
    "start_time": "2022-03-01T17:28:37.670Z"
   },
   {
    "duration": 32,
    "start_time": "2022-03-01T17:28:39.076Z"
   },
   {
    "duration": 24,
    "start_time": "2022-03-01T17:28:40.022Z"
   },
   {
    "duration": 22,
    "start_time": "2022-03-01T17:28:40.721Z"
   },
   {
    "duration": 4,
    "start_time": "2022-03-01T17:28:40.952Z"
   },
   {
    "duration": 20,
    "start_time": "2022-03-01T17:28:43.946Z"
   },
   {
    "duration": 15,
    "start_time": "2022-03-01T17:28:44.407Z"
   },
   {
    "duration": 27,
    "start_time": "2022-03-01T17:28:45.085Z"
   },
   {
    "duration": 15,
    "start_time": "2022-03-01T17:28:45.569Z"
   },
   {
    "duration": 10,
    "start_time": "2022-03-01T17:32:09.010Z"
   },
   {
    "duration": 4,
    "start_time": "2022-03-01T17:32:10.853Z"
   },
   {
    "duration": 5,
    "start_time": "2022-03-01T17:32:11.473Z"
   },
   {
    "duration": 12,
    "start_time": "2022-03-01T17:32:15.652Z"
   },
   {
    "duration": 5,
    "start_time": "2022-03-01T17:32:16.806Z"
   },
   {
    "duration": 34,
    "start_time": "2022-03-01T17:32:18.853Z"
   },
   {
    "duration": 12,
    "start_time": "2022-03-01T17:32:19.705Z"
   },
   {
    "duration": 11,
    "start_time": "2022-03-01T17:32:20.305Z"
   },
   {
    "duration": 16,
    "start_time": "2022-03-01T17:32:20.889Z"
   },
   {
    "duration": 5,
    "start_time": "2022-03-01T17:32:21.096Z"
   },
   {
    "duration": 8,
    "start_time": "2022-03-01T17:32:21.289Z"
   },
   {
    "duration": 17,
    "start_time": "2022-03-01T17:32:21.474Z"
   },
   {
    "duration": 35,
    "start_time": "2022-03-01T17:32:22.050Z"
   },
   {
    "duration": 22,
    "start_time": "2022-03-01T17:32:22.436Z"
   },
   {
    "duration": 20,
    "start_time": "2022-03-01T17:32:22.827Z"
   },
   {
    "duration": 4,
    "start_time": "2022-03-01T17:32:23.030Z"
   },
   {
    "duration": 633,
    "start_time": "2022-03-01T17:32:38.607Z"
   },
   {
    "duration": 9,
    "start_time": "2022-03-01T17:32:40.617Z"
   },
   {
    "duration": 4,
    "start_time": "2022-03-01T17:32:42.111Z"
   },
   {
    "duration": 5,
    "start_time": "2022-03-01T17:32:51.741Z"
   },
   {
    "duration": 10,
    "start_time": "2022-03-01T17:32:53.416Z"
   },
   {
    "duration": 5,
    "start_time": "2022-03-01T17:32:55.248Z"
   },
   {
    "duration": 14,
    "start_time": "2022-03-01T17:33:44.006Z"
   },
   {
    "duration": 5,
    "start_time": "2022-03-01T17:33:44.820Z"
   },
   {
    "duration": 8,
    "start_time": "2022-03-01T17:33:46.871Z"
   },
   {
    "duration": 17,
    "start_time": "2022-03-01T17:33:50.051Z"
   },
   {
    "duration": 21,
    "start_time": "2022-03-01T17:35:05.863Z"
   },
   {
    "duration": 17,
    "start_time": "2022-03-01T17:36:40.216Z"
   },
   {
    "duration": 16,
    "start_time": "2022-03-01T17:36:55.323Z"
   },
   {
    "duration": 20,
    "start_time": "2022-03-01T17:37:07.166Z"
   },
   {
    "duration": 17,
    "start_time": "2022-03-01T17:39:18.742Z"
   },
   {
    "duration": 16,
    "start_time": "2022-03-01T17:39:41.088Z"
   },
   {
    "duration": 2,
    "start_time": "2022-03-01T17:40:11.323Z"
   },
   {
    "duration": 16,
    "start_time": "2022-03-01T17:42:01.059Z"
   },
   {
    "duration": 334,
    "start_time": "2022-03-01T17:44:30.560Z"
   },
   {
    "duration": 283,
    "start_time": "2022-03-01T17:45:15.921Z"
   },
   {
    "duration": 305,
    "start_time": "2022-03-01T17:45:42.353Z"
   },
   {
    "duration": 18,
    "start_time": "2022-03-01T17:45:51.840Z"
   },
   {
    "duration": 608,
    "start_time": "2022-03-01T17:46:05.333Z"
   },
   {
    "duration": 9,
    "start_time": "2022-03-01T17:46:06.286Z"
   },
   {
    "duration": 4,
    "start_time": "2022-03-01T17:46:06.621Z"
   },
   {
    "duration": 5,
    "start_time": "2022-03-01T17:46:06.913Z"
   },
   {
    "duration": 10,
    "start_time": "2022-03-01T17:46:07.215Z"
   },
   {
    "duration": 5,
    "start_time": "2022-03-01T17:46:07.552Z"
   },
   {
    "duration": 33,
    "start_time": "2022-03-01T17:46:08.114Z"
   },
   {
    "duration": 11,
    "start_time": "2022-03-01T17:46:08.488Z"
   },
   {
    "duration": 11,
    "start_time": "2022-03-01T17:46:09.112Z"
   },
   {
    "duration": 14,
    "start_time": "2022-03-01T17:46:09.698Z"
   },
   {
    "duration": 5,
    "start_time": "2022-03-01T17:46:09.886Z"
   },
   {
    "duration": 7,
    "start_time": "2022-03-01T17:46:10.120Z"
   },
   {
    "duration": 18,
    "start_time": "2022-03-01T17:46:10.310Z"
   },
   {
    "duration": 31,
    "start_time": "2022-03-01T17:46:10.906Z"
   },
   {
    "duration": 24,
    "start_time": "2022-03-01T17:46:11.301Z"
   },
   {
    "duration": 21,
    "start_time": "2022-03-01T17:46:11.694Z"
   },
   {
    "duration": 4,
    "start_time": "2022-03-01T17:46:11.893Z"
   },
   {
    "duration": 20,
    "start_time": "2022-03-01T17:46:13.080Z"
   },
   {
    "duration": 16,
    "start_time": "2022-03-01T17:46:15.051Z"
   },
   {
    "duration": 316,
    "start_time": "2022-03-01T17:46:17.067Z"
   },
   {
    "duration": 317,
    "start_time": "2022-03-01T17:46:34.401Z"
   },
   {
    "duration": 281,
    "start_time": "2022-03-01T17:46:48.995Z"
   },
   {
    "duration": 327,
    "start_time": "2022-03-01T17:47:05.776Z"
   },
   {
    "duration": 279,
    "start_time": "2022-03-01T17:48:06.892Z"
   },
   {
    "duration": 272,
    "start_time": "2022-03-01T17:48:19.339Z"
   },
   {
    "duration": 294,
    "start_time": "2022-03-01T17:49:33.616Z"
   },
   {
    "duration": 17,
    "start_time": "2022-03-01T17:49:52.480Z"
   },
   {
    "duration": 281,
    "start_time": "2022-03-01T17:50:03.001Z"
   },
   {
    "duration": 277,
    "start_time": "2022-03-01T17:50:15.623Z"
   },
   {
    "duration": 17,
    "start_time": "2022-03-01T17:50:32.532Z"
   },
   {
    "duration": 614,
    "start_time": "2022-03-01T17:51:06.326Z"
   },
   {
    "duration": 9,
    "start_time": "2022-03-01T17:51:06.941Z"
   },
   {
    "duration": 5,
    "start_time": "2022-03-01T17:51:07.227Z"
   },
   {
    "duration": 5,
    "start_time": "2022-03-01T17:51:07.490Z"
   },
   {
    "duration": 11,
    "start_time": "2022-03-01T17:51:07.830Z"
   },
   {
    "duration": 4,
    "start_time": "2022-03-01T17:51:08.179Z"
   },
   {
    "duration": 34,
    "start_time": "2022-03-01T17:51:08.777Z"
   },
   {
    "duration": 10,
    "start_time": "2022-03-01T17:51:09.170Z"
   },
   {
    "duration": 11,
    "start_time": "2022-03-01T17:51:09.794Z"
   },
   {
    "duration": 13,
    "start_time": "2022-03-01T17:51:10.379Z"
   },
   {
    "duration": 5,
    "start_time": "2022-03-01T17:51:10.579Z"
   },
   {
    "duration": 7,
    "start_time": "2022-03-01T17:51:10.800Z"
   },
   {
    "duration": 17,
    "start_time": "2022-03-01T17:51:10.983Z"
   },
   {
    "duration": 35,
    "start_time": "2022-03-01T17:51:11.570Z"
   },
   {
    "duration": 26,
    "start_time": "2022-03-01T17:51:11.969Z"
   },
   {
    "duration": 21,
    "start_time": "2022-03-01T17:51:12.370Z"
   },
   {
    "duration": 4,
    "start_time": "2022-03-01T17:51:12.560Z"
   },
   {
    "duration": 19,
    "start_time": "2022-03-01T17:51:13.161Z"
   },
   {
    "duration": 16,
    "start_time": "2022-03-01T17:51:13.776Z"
   },
   {
    "duration": 329,
    "start_time": "2022-03-01T17:51:15.006Z"
   },
   {
    "duration": 27,
    "start_time": "2022-03-01T17:51:36.031Z"
   },
   {
    "duration": 308,
    "start_time": "2022-03-01T17:52:15.551Z"
   },
   {
    "duration": 604,
    "start_time": "2022-03-01T17:52:24.229Z"
   },
   {
    "duration": 9,
    "start_time": "2022-03-01T17:52:24.835Z"
   },
   {
    "duration": 5,
    "start_time": "2022-03-01T17:52:25.160Z"
   },
   {
    "duration": 7,
    "start_time": "2022-03-01T17:52:25.359Z"
   },
   {
    "duration": 11,
    "start_time": "2022-03-01T17:52:25.754Z"
   },
   {
    "duration": 5,
    "start_time": "2022-03-01T17:52:26.146Z"
   },
   {
    "duration": 35,
    "start_time": "2022-03-01T17:52:26.728Z"
   },
   {
    "duration": 12,
    "start_time": "2022-03-01T17:52:27.120Z"
   },
   {
    "duration": 11,
    "start_time": "2022-03-01T17:52:27.730Z"
   },
   {
    "duration": 15,
    "start_time": "2022-03-01T17:52:28.321Z"
   },
   {
    "duration": 4,
    "start_time": "2022-03-01T17:52:28.517Z"
   },
   {
    "duration": 8,
    "start_time": "2022-03-01T17:52:28.711Z"
   },
   {
    "duration": 17,
    "start_time": "2022-03-01T17:52:28.918Z"
   },
   {
    "duration": 33,
    "start_time": "2022-03-01T17:52:29.511Z"
   },
   {
    "duration": 27,
    "start_time": "2022-03-01T17:52:30.254Z"
   },
   {
    "duration": 21,
    "start_time": "2022-03-01T17:52:30.925Z"
   },
   {
    "duration": 3,
    "start_time": "2022-03-01T17:52:31.314Z"
   },
   {
    "duration": 18,
    "start_time": "2022-03-01T17:52:32.677Z"
   },
   {
    "duration": 16,
    "start_time": "2022-03-01T17:52:34.190Z"
   },
   {
    "duration": 27,
    "start_time": "2022-03-01T17:52:35.689Z"
   },
   {
    "duration": 15,
    "start_time": "2022-03-01T17:53:32.225Z"
   },
   {
    "duration": 20,
    "start_time": "2022-03-01T17:57:05.334Z"
   },
   {
    "duration": 4,
    "start_time": "2022-03-01T17:57:05.759Z"
   },
   {
    "duration": 16,
    "start_time": "2022-03-01T17:57:07.095Z"
   },
   {
    "duration": 16,
    "start_time": "2022-03-01T17:57:08.762Z"
   },
   {
    "duration": 16,
    "start_time": "2022-03-01T17:57:10.235Z"
   },
   {
    "duration": 16,
    "start_time": "2022-03-01T17:57:12.200Z"
   },
   {
    "duration": 58,
    "start_time": "2022-03-01T18:13:25.723Z"
   },
   {
    "duration": 8,
    "start_time": "2022-03-01T18:13:28.261Z"
   },
   {
    "duration": 4,
    "start_time": "2022-03-01T18:13:29.969Z"
   },
   {
    "duration": 5,
    "start_time": "2022-03-01T18:13:30.463Z"
   },
   {
    "duration": 10,
    "start_time": "2022-03-01T18:13:31.063Z"
   },
   {
    "duration": 5,
    "start_time": "2022-03-01T18:13:31.508Z"
   },
   {
    "duration": 35,
    "start_time": "2022-03-01T18:13:33.572Z"
   },
   {
    "duration": 12,
    "start_time": "2022-03-01T18:13:33.988Z"
   },
   {
    "duration": 17,
    "start_time": "2022-03-01T18:13:35.369Z"
   },
   {
    "duration": 14,
    "start_time": "2022-03-01T18:13:35.974Z"
   },
   {
    "duration": 5,
    "start_time": "2022-03-01T18:13:36.198Z"
   },
   {
    "duration": 7,
    "start_time": "2022-03-01T18:13:36.417Z"
   },
   {
    "duration": 17,
    "start_time": "2022-03-01T18:13:36.648Z"
   },
   {
    "duration": 41,
    "start_time": "2022-03-01T18:13:37.242Z"
   },
   {
    "duration": 24,
    "start_time": "2022-03-01T18:13:37.648Z"
   },
   {
    "duration": 21,
    "start_time": "2022-03-01T18:13:38.061Z"
   },
   {
    "duration": 5,
    "start_time": "2022-03-01T18:13:38.263Z"
   },
   {
    "duration": 19,
    "start_time": "2022-03-01T18:13:38.857Z"
   },
   {
    "duration": 16,
    "start_time": "2022-03-01T18:13:41.048Z"
   },
   {
    "duration": 15,
    "start_time": "2022-03-01T18:13:42.659Z"
   },
   {
    "duration": 16,
    "start_time": "2022-03-01T18:13:44.994Z"
   },
   {
    "duration": 393,
    "start_time": "2022-03-11T16:58:26.308Z"
   },
   {
    "duration": 200,
    "start_time": "2022-03-11T16:58:38.771Z"
   },
   {
    "duration": 607,
    "start_time": "2022-03-11T16:58:45.248Z"
   },
   {
    "duration": 8,
    "start_time": "2022-03-11T16:58:45.857Z"
   },
   {
    "duration": 4,
    "start_time": "2022-03-11T16:58:46.893Z"
   },
   {
    "duration": 6,
    "start_time": "2022-03-11T16:58:47.129Z"
   },
   {
    "duration": 11,
    "start_time": "2022-03-11T16:58:47.553Z"
   },
   {
    "duration": 4,
    "start_time": "2022-03-11T16:58:47.977Z"
   },
   {
    "duration": 37,
    "start_time": "2022-03-11T16:58:49.502Z"
   },
   {
    "duration": 13,
    "start_time": "2022-03-11T16:58:51.227Z"
   },
   {
    "duration": 200,
    "start_time": "2022-03-11T16:58:53.829Z"
   },
   {
    "duration": 14,
    "start_time": "2022-03-11T16:59:06.123Z"
   },
   {
    "duration": 11,
    "start_time": "2022-03-11T17:03:13.334Z"
   },
   {
    "duration": 8,
    "start_time": "2022-03-11T17:04:52.480Z"
   },
   {
    "duration": 60,
    "start_time": "2022-03-11T17:05:11.241Z"
   },
   {
    "duration": 11,
    "start_time": "2022-03-11T17:05:13.297Z"
   },
   {
    "duration": 5,
    "start_time": "2022-03-11T17:05:14.413Z"
   },
   {
    "duration": 6,
    "start_time": "2022-03-11T17:05:15.446Z"
   },
   {
    "duration": 10,
    "start_time": "2022-03-11T17:05:17.979Z"
   },
   {
    "duration": 5,
    "start_time": "2022-03-11T17:05:19.441Z"
   },
   {
    "duration": 9,
    "start_time": "2022-03-11T17:05:21.085Z"
   },
   {
    "duration": 6,
    "start_time": "2022-03-11T17:56:35.126Z"
   },
   {
    "duration": 11,
    "start_time": "2022-03-11T17:56:36.779Z"
   },
   {
    "duration": 5,
    "start_time": "2022-03-11T17:56:39.937Z"
   },
   {
    "duration": 8,
    "start_time": "2022-03-11T17:56:41.786Z"
   },
   {
    "duration": 7,
    "start_time": "2022-03-11T17:57:51.267Z"
   },
   {
    "duration": 235,
    "start_time": "2022-03-11T17:59:05.614Z"
   },
   {
    "duration": 12,
    "start_time": "2022-03-11T17:59:29.196Z"
   },
   {
    "duration": 5,
    "start_time": "2022-03-11T18:00:20.951Z"
   },
   {
    "duration": 11,
    "start_time": "2022-03-11T18:01:36.110Z"
   },
   {
    "duration": 180,
    "start_time": "2022-03-11T18:10:25.358Z"
   },
   {
    "duration": 7,
    "start_time": "2022-03-11T18:10:31.477Z"
   },
   {
    "duration": 7,
    "start_time": "2022-03-11T18:11:44.949Z"
   },
   {
    "duration": 9,
    "start_time": "2022-03-11T18:12:21.057Z"
   },
   {
    "duration": 7,
    "start_time": "2022-03-11T18:13:06.239Z"
   },
   {
    "duration": 189,
    "start_time": "2022-03-11T18:13:38.793Z"
   },
   {
    "duration": 11,
    "start_time": "2022-03-11T18:13:45.719Z"
   },
   {
    "duration": 11,
    "start_time": "2022-03-11T18:14:55.276Z"
   },
   {
    "duration": 7,
    "start_time": "2022-03-11T18:15:19.296Z"
   },
   {
    "duration": 7,
    "start_time": "2022-03-11T18:15:44.363Z"
   },
   {
    "duration": 10,
    "start_time": "2022-03-11T18:16:06.034Z"
   },
   {
    "duration": 7,
    "start_time": "2022-03-11T18:18:15.731Z"
   },
   {
    "duration": 8,
    "start_time": "2022-03-11T18:22:46.573Z"
   },
   {
    "duration": 20,
    "start_time": "2022-03-11T18:27:53.399Z"
   },
   {
    "duration": 19,
    "start_time": "2022-03-11T18:29:43.263Z"
   },
   {
    "duration": 184,
    "start_time": "2022-03-11T18:32:21.939Z"
   },
   {
    "duration": 296,
    "start_time": "2022-03-11T18:32:47.433Z"
   },
   {
    "duration": 165,
    "start_time": "2022-03-11T18:35:05.754Z"
   },
   {
    "duration": 9,
    "start_time": "2022-03-11T18:35:25.739Z"
   },
   {
    "duration": 8,
    "start_time": "2022-03-11T18:35:44.913Z"
   },
   {
    "duration": 170,
    "start_time": "2022-03-11T18:36:22.620Z"
   },
   {
    "duration": 9,
    "start_time": "2022-03-11T18:36:32.581Z"
   },
   {
    "duration": 174,
    "start_time": "2022-03-11T18:36:33.298Z"
   },
   {
    "duration": 168,
    "start_time": "2022-03-11T18:37:01.489Z"
   },
   {
    "duration": 168,
    "start_time": "2022-03-11T18:37:24.439Z"
   },
   {
    "duration": 563,
    "start_time": "2022-03-11T18:37:46.387Z"
   },
   {
    "duration": 9,
    "start_time": "2022-03-11T18:37:46.958Z"
   },
   {
    "duration": 4,
    "start_time": "2022-03-11T18:37:47.369Z"
   },
   {
    "duration": 5,
    "start_time": "2022-03-11T18:37:47.561Z"
   },
   {
    "duration": 11,
    "start_time": "2022-03-11T18:37:47.980Z"
   },
   {
    "duration": 5,
    "start_time": "2022-03-11T18:37:48.386Z"
   },
   {
    "duration": 36,
    "start_time": "2022-03-11T18:37:49.961Z"
   },
   {
    "duration": 6,
    "start_time": "2022-03-11T18:37:50.790Z"
   },
   {
    "duration": 11,
    "start_time": "2022-03-11T18:37:55.374Z"
   },
   {
    "duration": 13,
    "start_time": "2022-03-11T18:37:55.759Z"
   },
   {
    "duration": 7,
    "start_time": "2022-03-11T18:37:55.965Z"
   },
   {
    "duration": 5,
    "start_time": "2022-03-11T18:37:56.174Z"
   },
   {
    "duration": 7,
    "start_time": "2022-03-11T18:37:56.914Z"
   },
   {
    "duration": 5,
    "start_time": "2022-03-11T18:37:57.432Z"
   },
   {
    "duration": 7,
    "start_time": "2022-03-11T18:37:58.519Z"
   },
   {
    "duration": 12,
    "start_time": "2022-03-11T18:37:58.971Z"
   },
   {
    "duration": 8,
    "start_time": "2022-03-11T18:37:59.305Z"
   },
   {
    "duration": 7,
    "start_time": "2022-03-11T18:37:59.649Z"
   },
   {
    "duration": 9,
    "start_time": "2022-03-11T18:38:00.121Z"
   },
   {
    "duration": 9,
    "start_time": "2022-03-11T18:38:00.329Z"
   },
   {
    "duration": 13,
    "start_time": "2022-03-11T18:38:00.940Z"
   },
   {
    "duration": 16,
    "start_time": "2022-03-11T18:38:01.572Z"
   },
   {
    "duration": 5,
    "start_time": "2022-03-11T18:38:01.768Z"
   },
   {
    "duration": 8,
    "start_time": "2022-03-11T18:38:01.981Z"
   },
   {
    "duration": 21,
    "start_time": "2022-03-11T18:38:02.239Z"
   },
   {
    "duration": 9,
    "start_time": "2022-03-11T18:38:04.375Z"
   },
   {
    "duration": 6,
    "start_time": "2022-03-11T18:38:05.888Z"
   },
   {
    "duration": 14,
    "start_time": "2022-03-11T18:38:54.402Z"
   },
   {
    "duration": 1339,
    "start_time": "2022-03-11T18:38:55.300Z"
   },
   {
    "duration": 587,
    "start_time": "2022-03-11T18:39:17.349Z"
   },
   {
    "duration": 13,
    "start_time": "2022-03-11T18:39:26.702Z"
   },
   {
    "duration": 1241,
    "start_time": "2022-03-11T18:39:27.539Z"
   },
   {
    "duration": 479,
    "start_time": "2022-03-11T18:39:38.966Z"
   },
   {
    "duration": 1221,
    "start_time": "2022-03-11T18:40:07.575Z"
   },
   {
    "duration": 1261,
    "start_time": "2022-03-11T18:40:55.317Z"
   },
   {
    "duration": 13,
    "start_time": "2022-03-11T18:41:37.694Z"
   },
   {
    "duration": 1253,
    "start_time": "2022-03-11T18:41:57.094Z"
   },
   {
    "duration": 1227,
    "start_time": "2022-03-11T18:42:18.232Z"
   },
   {
    "duration": 38,
    "start_time": "2022-03-11T18:44:43.979Z"
   },
   {
    "duration": 37,
    "start_time": "2022-03-11T18:46:24.788Z"
   },
   {
    "duration": 240,
    "start_time": "2022-03-11T18:48:45.412Z"
   },
   {
    "duration": 618,
    "start_time": "2022-03-11T18:49:23.648Z"
   },
   {
    "duration": 9,
    "start_time": "2022-03-11T18:49:24.267Z"
   },
   {
    "duration": 5,
    "start_time": "2022-03-11T18:49:24.678Z"
   },
   {
    "duration": 5,
    "start_time": "2022-03-11T18:49:24.887Z"
   },
   {
    "duration": 11,
    "start_time": "2022-03-11T18:49:25.283Z"
   },
   {
    "duration": 5,
    "start_time": "2022-03-11T18:49:25.699Z"
   },
   {
    "duration": 36,
    "start_time": "2022-03-11T18:49:26.700Z"
   },
   {
    "duration": 6,
    "start_time": "2022-03-11T18:49:27.495Z"
   },
   {
    "duration": 11,
    "start_time": "2022-03-11T18:49:27.890Z"
   },
   {
    "duration": 13,
    "start_time": "2022-03-11T18:49:28.300Z"
   },
   {
    "duration": 7,
    "start_time": "2022-03-11T18:49:28.502Z"
   },
   {
    "duration": 6,
    "start_time": "2022-03-11T18:49:29.130Z"
   },
   {
    "duration": 7,
    "start_time": "2022-03-11T18:49:29.844Z"
   },
   {
    "duration": 6,
    "start_time": "2022-03-11T18:49:30.346Z"
   },
   {
    "duration": 8,
    "start_time": "2022-03-11T18:49:30.593Z"
   },
   {
    "duration": 12,
    "start_time": "2022-03-11T18:49:30.805Z"
   },
   {
    "duration": 7,
    "start_time": "2022-03-11T18:49:31.009Z"
   },
   {
    "duration": 5,
    "start_time": "2022-03-11T18:49:31.204Z"
   },
   {
    "duration": 9,
    "start_time": "2022-03-11T18:49:31.382Z"
   },
   {
    "duration": 8,
    "start_time": "2022-03-11T18:49:31.636Z"
   },
   {
    "duration": 11,
    "start_time": "2022-03-11T18:49:32.165Z"
   },
   {
    "duration": 16,
    "start_time": "2022-03-11T18:49:32.762Z"
   },
   {
    "duration": 5,
    "start_time": "2022-03-11T18:49:32.973Z"
   },
   {
    "duration": 8,
    "start_time": "2022-03-11T18:49:33.181Z"
   },
   {
    "duration": 19,
    "start_time": "2022-03-11T18:49:33.375Z"
   },
   {
    "duration": 13,
    "start_time": "2022-03-11T18:49:35.029Z"
   },
   {
    "duration": 1235,
    "start_time": "2022-03-11T18:49:35.324Z"
   },
   {
    "duration": 25,
    "start_time": "2022-03-11T18:49:36.608Z"
   },
   {
    "duration": 24,
    "start_time": "2022-03-11T18:49:38.855Z"
   },
   {
    "duration": 4,
    "start_time": "2022-03-11T18:49:39.196Z"
   },
   {
    "duration": 21,
    "start_time": "2022-03-11T18:49:42.344Z"
   },
   {
    "duration": 39,
    "start_time": "2022-03-11T18:49:46.310Z"
   },
   {
    "duration": 87,
    "start_time": "2022-03-11T18:49:47.170Z"
   },
   {
    "duration": 39,
    "start_time": "2022-03-11T18:50:01.607Z"
   },
   {
    "duration": 252,
    "start_time": "2022-03-11T18:51:33.796Z"
   },
   {
    "duration": 39,
    "start_time": "2022-03-11T18:51:42.095Z"
   },
   {
    "duration": 40,
    "start_time": "2022-03-11T18:51:53.672Z"
   },
   {
    "duration": 40,
    "start_time": "2022-03-11T19:01:03.849Z"
   },
   {
    "duration": 107,
    "start_time": "2022-03-12T05:41:37.072Z"
   },
   {
    "duration": 274,
    "start_time": "2022-03-12T06:01:17.322Z"
   },
   {
    "duration": 657,
    "start_time": "2022-03-12T06:01:25.861Z"
   },
   {
    "duration": 9,
    "start_time": "2022-03-12T06:01:26.520Z"
   },
   {
    "duration": 5,
    "start_time": "2022-03-12T06:01:26.825Z"
   },
   {
    "duration": 7,
    "start_time": "2022-03-12T06:01:27.019Z"
   },
   {
    "duration": 11,
    "start_time": "2022-03-12T06:01:27.426Z"
   },
   {
    "duration": 5,
    "start_time": "2022-03-12T06:01:27.825Z"
   },
   {
    "duration": 37,
    "start_time": "2022-03-12T06:01:28.824Z"
   },
   {
    "duration": 8,
    "start_time": "2022-03-12T06:01:29.643Z"
   },
   {
    "duration": 13,
    "start_time": "2022-03-12T06:01:30.039Z"
   },
   {
    "duration": 17,
    "start_time": "2022-03-12T06:01:32.005Z"
   },
   {
    "duration": 8,
    "start_time": "2022-03-12T06:01:32.537Z"
   },
   {
    "duration": 7,
    "start_time": "2022-03-12T06:01:32.855Z"
   },
   {
    "duration": 8,
    "start_time": "2022-03-12T06:01:33.979Z"
   },
   {
    "duration": 7,
    "start_time": "2022-03-12T06:01:34.210Z"
   },
   {
    "duration": 7,
    "start_time": "2022-03-12T06:01:34.421Z"
   },
   {
    "duration": 10,
    "start_time": "2022-03-12T06:01:34.626Z"
   },
   {
    "duration": 7,
    "start_time": "2022-03-12T06:01:35.046Z"
   },
   {
    "duration": 6,
    "start_time": "2022-03-12T06:01:35.267Z"
   },
   {
    "duration": 9,
    "start_time": "2022-03-12T06:01:35.484Z"
   },
   {
    "duration": 8,
    "start_time": "2022-03-12T06:01:35.698Z"
   },
   {
    "duration": 12,
    "start_time": "2022-03-12T06:01:37.444Z"
   },
   {
    "duration": 15,
    "start_time": "2022-03-12T06:01:38.583Z"
   },
   {
    "duration": 5,
    "start_time": "2022-03-12T06:01:38.799Z"
   },
   {
    "duration": 9,
    "start_time": "2022-03-12T06:01:38.999Z"
   },
   {
    "duration": 21,
    "start_time": "2022-03-12T06:01:39.208Z"
   },
   {
    "duration": 16,
    "start_time": "2022-03-12T06:01:39.422Z"
   },
   {
    "duration": 11,
    "start_time": "2022-03-12T06:01:59.697Z"
   },
   {
    "duration": 5,
    "start_time": "2022-03-12T06:02:40.768Z"
   },
   {
    "duration": 7,
    "start_time": "2022-03-12T06:02:56.390Z"
   },
   {
    "duration": 8,
    "start_time": "2022-03-12T06:03:17.688Z"
   },
   {
    "duration": 10,
    "start_time": "2022-03-12T06:03:26.656Z"
   },
   {
    "duration": 64,
    "start_time": "2022-03-12T06:03:40.293Z"
   },
   {
    "duration": 10,
    "start_time": "2022-03-12T06:03:40.879Z"
   },
   {
    "duration": 5,
    "start_time": "2022-03-12T06:03:41.291Z"
   },
   {
    "duration": 5,
    "start_time": "2022-03-12T06:03:41.495Z"
   },
   {
    "duration": 11,
    "start_time": "2022-03-12T06:03:41.916Z"
   },
   {
    "duration": 5,
    "start_time": "2022-03-12T06:03:42.824Z"
   },
   {
    "duration": 56,
    "start_time": "2022-03-12T06:03:45.106Z"
   },
   {
    "duration": 6,
    "start_time": "2022-03-12T06:03:47.664Z"
   },
   {
    "duration": 12,
    "start_time": "2022-03-12T06:03:48.705Z"
   },
   {
    "duration": 12,
    "start_time": "2022-03-12T06:03:50.350Z"
   },
   {
    "duration": 7,
    "start_time": "2022-03-12T06:03:50.979Z"
   },
   {
    "duration": 7,
    "start_time": "2022-03-12T06:03:51.251Z"
   },
   {
    "duration": 7,
    "start_time": "2022-03-12T06:03:51.497Z"
   },
   {
    "duration": 5,
    "start_time": "2022-03-12T06:03:52.103Z"
   },
   {
    "duration": 8,
    "start_time": "2022-03-12T06:03:52.654Z"
   },
   {
    "duration": 12,
    "start_time": "2022-03-12T06:03:52.855Z"
   },
   {
    "duration": 8,
    "start_time": "2022-03-12T06:03:53.274Z"
   },
   {
    "duration": 7,
    "start_time": "2022-03-12T06:03:53.481Z"
   },
   {
    "duration": 12,
    "start_time": "2022-03-12T06:03:53.705Z"
   },
   {
    "duration": 8,
    "start_time": "2022-03-12T06:03:54.906Z"
   },
   {
    "duration": 13,
    "start_time": "2022-03-12T06:03:57.050Z"
   },
   {
    "duration": 15,
    "start_time": "2022-03-12T06:03:58.260Z"
   },
   {
    "duration": 5,
    "start_time": "2022-03-12T06:03:58.510Z"
   },
   {
    "duration": 8,
    "start_time": "2022-03-12T06:03:59.760Z"
   },
   {
    "duration": 20,
    "start_time": "2022-03-12T06:04:04.816Z"
   },
   {
    "duration": 9,
    "start_time": "2022-03-12T06:04:06.508Z"
   }
  ],
  "kernelspec": {
   "display_name": "Python 3 (ipykernel)",
   "language": "python",
   "name": "python3"
  },
  "language_info": {
   "codemirror_mode": {
    "name": "ipython",
    "version": 3
   },
   "file_extension": ".py",
   "mimetype": "text/x-python",
   "name": "python",
   "nbconvert_exporter": "python",
   "pygments_lexer": "ipython3",
   "version": "3.9.7"
  },
  "toc": {
   "base_numbering": 1,
   "nav_menu": {},
   "number_sections": true,
   "sideBar": true,
   "skip_h1_title": true,
   "title_cell": "Table of Contents",
   "title_sidebar": "Contents",
   "toc_cell": false,
   "toc_position": {},
   "toc_section_display": true,
   "toc_window_display": false
  }
 },
 "nbformat": 4,
 "nbformat_minor": 5
}
