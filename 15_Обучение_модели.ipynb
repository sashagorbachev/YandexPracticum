{
 "cells": [
  {
   "cell_type": "markdown",
   "metadata": {},
   "source": [
    "**Прогноз оттока клиентов для оператора связи\n",
    "На основе информации о клиентах оператора связи, построить модель способную прогнозировать отток.**\n",
    "\n",
    "**Описание услуг**\n",
    "\n",
    "**Оператор предоставляет два основных типа услуг:**\n",
    "\n",
    "1. Стационарную телефонную связь. Возможно подключение телефонного аппарата к нескольким линиям одновременно.\n",
    "2. Интернет. Подключение может быть двух типов: через телефонную линию (DSL, от англ. digital subscriber line, «цифровая абонентская линия») или оптоволоконный кабель (Fiber optic).\n",
    "\n",
    "**Также доступны такие услуги:**\n",
    "\n",
    "1. Интернет-безопасность: антивирус (DeviceProtection) и блокировка небезопасных сайтов (OnlineSecurity);\n",
    "2. Выделенная линия технической поддержки (TechSupport);\n",
    "3. Облачное хранилище файлов для резервного копирования данных (OnlineBackup);\n",
    "4. Стриминговое телевидение (StreamingTV) и каталог фильмов (StreamingMovies).\n",
    "\n",
    "За услуги клиенты могут платить каждый месяц или заключить договор на 1–2 года. Доступны различные способы расчёта и возможность получения электронного чека.\n",
    "\n",
    "**Описание данных**\n",
    "\n",
    "**Данные состоят из файлов, полученных из разных источников:**\n",
    "\n",
    "**contract.csv** — информация о договоре;\n",
    "\n",
    "**personal.csv** — персональные данные клиента;\n",
    "\n",
    "**internet.csv** — информация об интернет-услугах;\n",
    "\n",
    "**phone.csv** — информация об услугах телефонии.\n",
    "\n",
    "Во всех файлах столбец **customerID** содержит код клиента.\n",
    "\n",
    "Информация о договорах актуальна на 1 февраля 2020.\n",
    "\n",
    "**Расшифровка колонок**\n",
    "\n",
    "**customerID** - идентификационный номер клиента\n",
    "\n",
    "**BeginDate** - дата начала пользования услугами\n",
    "\n",
    "**EndDate** - дата окончания пользования услугами\n",
    "\n",
    "**Type** - тип оплаты: ежемесячный, годовой и тд\n",
    "\n",
    "**PaperlessBilling** – безналичный расчет\n",
    "\n",
    "**PaymentMethod** – способ оплаты\n",
    "\n",
    "**MonthlyCharges** – ежемесячные траты на услуги\n",
    "\n",
    "**TotalCharges** – всего потрачено денег на услуги\n",
    "\n",
    "**Dependents** – наличие иждивенцев\n",
    "\n",
    "**Senior Citizen** – наличие пенсионного статуса по возрасту\n",
    "\n",
    "**Partner*** – наличие супруга(и)\n",
    "\n",
    "**MultipleLines** – наличие возможности ведения параллельных линий во время звонка"
   ]
  },
  {
   "cell_type": "markdown",
   "metadata": {},
   "source": [
    "**План выполнения проекта:**\n",
    "1. Исследование данных\n",
    "2. Подготовка данных\n",
    "3. Подбор моделей\n",
    "4. Подбор гиперпараметров и признакового пространства на кросс валидации\n",
    "5. Тестирование\n",
    "6. Вывод"
   ]
  },
  {
   "cell_type": "markdown",
   "metadata": {},
   "source": [
    "## Импорт библиотек "
   ]
  },
  {
   "cell_type": "code",
   "execution_count": 20,
   "metadata": {},
   "outputs": [],
   "source": [
    "import pandas as pd\n",
    "import numpy as np\n",
    "from sklearn.preprocessing import StandardScaler, OrdinalEncoder\n",
    "from sklearn.model_selection import train_test_split, GridSearchCV\n",
    "from sklearn.metrics import roc_auc_score, accuracy_score, roc_curve\n",
    "from sklearn.ensemble import RandomForestClassifier\n",
    "from catboost import CatBoostClassifier\n",
    "from lightgbm import LGBMClassifier\n",
    "import matplotlib.pyplot as plt\n",
    "import seaborn as sns\n",
    "import warnings\n",
    "\n",
    "random_state = 120922\n",
    "\n",
    "warnings.filterwarnings(\"ignore\")"
   ]
  },
  {
   "cell_type": "code",
   "execution_count": 21,
   "metadata": {},
   "outputs": [],
   "source": [
    "contract = pd.read_csv('/datasets/final_provider/contract.csv', index_col='customerID')\n",
    "personal = pd.read_csv('/datasets/final_provider/personal.csv', index_col='customerID')\n",
    "internet = pd.read_csv('/datasets/final_provider/internet.csv', index_col='customerID')\n",
    "phone = pd.read_csv('/datasets/final_provider/phone.csv', index_col='customerID')\n",
    "\n",
    "datasets = [contract, personal, internet, phone]"
   ]
  },
  {
   "cell_type": "markdown",
   "metadata": {},
   "source": [
    "## Анализ данных"
   ]
  },
  {
   "cell_type": "code",
   "execution_count": 22,
   "metadata": {},
   "outputs": [],
   "source": [
    "def view(data):\n",
    "    print('Обзор', '\\n')\n",
    "    print(data.sample(10))\n",
    "    print('\\n')\n",
    "    print('Развернутая информация', '\\n')\n",
    "    print(data.info())\n",
    "    print('\\n')\n",
    "    print('Статистическая составляющая', '\\n')\n",
    "    print(data.describe())"
   ]
  },
  {
   "cell_type": "code",
   "execution_count": 23,
   "metadata": {},
   "outputs": [
    {
     "name": "stdout",
     "output_type": "stream",
     "text": [
      "Обзор \n",
      "\n",
      "             BeginDate              EndDate            Type PaperlessBilling  \\\n",
      "customerID                                                                     \n",
      "7361-YPXFS  2017-10-01                   No  Month-to-month               No   \n",
      "7136-RVDTZ  2014-03-01  2020-01-01 00:00:00        One year              Yes   \n",
      "7176-WRTNX  2014-04-01                   No        Two year              Yes   \n",
      "7054-LGEQW  2019-09-01  2019-10-01 00:00:00  Month-to-month               No   \n",
      "6686-YPGHK  2016-01-01  2019-12-01 00:00:00  Month-to-month               No   \n",
      "0733-VUNUW  2017-10-01  2019-10-01 00:00:00  Month-to-month              Yes   \n",
      "2777-PHDEI  2019-12-01  2020-01-01 00:00:00  Month-to-month               No   \n",
      "0617-AQNWT  2014-07-01  2019-11-01 00:00:00        Two year               No   \n",
      "6500-JVEGC  2014-06-01                   No        One year               No   \n",
      "4636-JGAAI  2017-04-01                   No  Month-to-month               No   \n",
      "\n",
      "                        PaymentMethod  MonthlyCharges TotalCharges  \n",
      "customerID                                                          \n",
      "7361-YPXFS  Bank transfer (automatic)           64.45       1867.6  \n",
      "7136-RVDTZ           Electronic check           45.25      3264.45  \n",
      "7176-WRTNX  Bank transfer (automatic)          114.95      7711.25  \n",
      "7054-LGEQW               Mailed check           45.95        45.95  \n",
      "6686-YPGHK               Mailed check           85.50       4042.3  \n",
      "0733-VUNUW  Bank transfer (automatic)           55.65      1400.55  \n",
      "2777-PHDEI           Electronic check           78.05        78.05  \n",
      "0617-AQNWT           Electronic check           47.85       3147.5  \n",
      "6500-JVEGC  Bank transfer (automatic)          101.35      7110.75  \n",
      "4636-JGAAI               Mailed check           88.85      3000.25  \n",
      "\n",
      "\n",
      "Развернутая информация \n",
      "\n",
      "<class 'pandas.core.frame.DataFrame'>\n",
      "Index: 7043 entries, 7590-VHVEG to 3186-AJIEK\n",
      "Data columns (total 7 columns):\n",
      " #   Column            Non-Null Count  Dtype  \n",
      "---  ------            --------------  -----  \n",
      " 0   BeginDate         7043 non-null   object \n",
      " 1   EndDate           7043 non-null   object \n",
      " 2   Type              7043 non-null   object \n",
      " 3   PaperlessBilling  7043 non-null   object \n",
      " 4   PaymentMethod     7043 non-null   object \n",
      " 5   MonthlyCharges    7043 non-null   float64\n",
      " 6   TotalCharges      7043 non-null   object \n",
      "dtypes: float64(1), object(6)\n",
      "memory usage: 440.2+ KB\n",
      "None\n",
      "\n",
      "\n",
      "Статистическая составляющая \n",
      "\n",
      "       MonthlyCharges\n",
      "count     7043.000000\n",
      "mean        64.761692\n",
      "std         30.090047\n",
      "min         18.250000\n",
      "25%         35.500000\n",
      "50%         70.350000\n",
      "75%         89.850000\n",
      "max        118.750000\n",
      "Обзор \n",
      "\n",
      "            gender  SeniorCitizen Partner Dependents\n",
      "customerID                                          \n",
      "8681-ICONS    Male              0     Yes        Yes\n",
      "6693-FRIRW    Male              0      No         No\n",
      "9381-NDKME  Female              1     Yes         No\n",
      "7622-NXQZR    Male              0      No         No\n",
      "7566-DSRLQ  Female              0     Yes         No\n",
      "3750-RNQKR  Female              0      No         No\n",
      "7521-AFHAB  Female              0     Yes        Yes\n",
      "7159-NOKYQ    Male              0     Yes         No\n",
      "8485-GJCDN  Female              1      No         No\n",
      "6393-WRYZE  Female              0     Yes         No\n",
      "\n",
      "\n",
      "Развернутая информация \n",
      "\n",
      "<class 'pandas.core.frame.DataFrame'>\n",
      "Index: 7043 entries, 7590-VHVEG to 3186-AJIEK\n",
      "Data columns (total 4 columns):\n",
      " #   Column         Non-Null Count  Dtype \n",
      "---  ------         --------------  ----- \n",
      " 0   gender         7043 non-null   object\n",
      " 1   SeniorCitizen  7043 non-null   int64 \n",
      " 2   Partner        7043 non-null   object\n",
      " 3   Dependents     7043 non-null   object\n",
      "dtypes: int64(1), object(3)\n",
      "memory usage: 275.1+ KB\n",
      "None\n",
      "\n",
      "\n",
      "Статистическая составляющая \n",
      "\n",
      "       SeniorCitizen\n",
      "count    7043.000000\n",
      "mean        0.162147\n",
      "std         0.368612\n",
      "min         0.000000\n",
      "25%         0.000000\n",
      "50%         0.000000\n",
      "75%         0.000000\n",
      "max         1.000000\n",
      "Обзор \n",
      "\n",
      "           InternetService OnlineSecurity OnlineBackup DeviceProtection  \\\n",
      "customerID                                                                \n",
      "3229-USWAR             DSL            Yes           No              Yes   \n",
      "1703-MGIAB             DSL             No           No              Yes   \n",
      "8930-XOTDP             DSL             No           No               No   \n",
      "9565-FLVCG             DSL            Yes          Yes               No   \n",
      "6384-VMJHP             DSL            Yes          Yes              Yes   \n",
      "7389-KBFIT             DSL             No          Yes               No   \n",
      "1320-HTRDR     Fiber optic             No           No               No   \n",
      "8200-LGKSR             DSL            Yes           No              Yes   \n",
      "0947-IDHRQ     Fiber optic             No           No               No   \n",
      "0111-KLBQG     Fiber optic             No          Yes               No   \n",
      "\n",
      "           TechSupport StreamingTV StreamingMovies  \n",
      "customerID                                          \n",
      "3229-USWAR         Yes         Yes             Yes  \n",
      "1703-MGIAB         Yes         Yes              No  \n",
      "8930-XOTDP          No         Yes              No  \n",
      "9565-FLVCG          No          No             Yes  \n",
      "6384-VMJHP         Yes          No             Yes  \n",
      "7389-KBFIT          No          No              No  \n",
      "1320-HTRDR          No          No              No  \n",
      "8200-LGKSR         Yes         Yes             Yes  \n",
      "0947-IDHRQ          No         Yes              No  \n",
      "0111-KLBQG          No         Yes             Yes  \n",
      "\n",
      "\n",
      "Развернутая информация \n",
      "\n",
      "<class 'pandas.core.frame.DataFrame'>\n",
      "Index: 5517 entries, 7590-VHVEG to 3186-AJIEK\n",
      "Data columns (total 7 columns):\n",
      " #   Column            Non-Null Count  Dtype \n",
      "---  ------            --------------  ----- \n",
      " 0   InternetService   5517 non-null   object\n",
      " 1   OnlineSecurity    5517 non-null   object\n",
      " 2   OnlineBackup      5517 non-null   object\n",
      " 3   DeviceProtection  5517 non-null   object\n",
      " 4   TechSupport       5517 non-null   object\n",
      " 5   StreamingTV       5517 non-null   object\n",
      " 6   StreamingMovies   5517 non-null   object\n",
      "dtypes: object(7)\n",
      "memory usage: 344.8+ KB\n",
      "None\n",
      "\n",
      "\n",
      "Статистическая составляющая \n",
      "\n",
      "       InternetService OnlineSecurity OnlineBackup DeviceProtection  \\\n",
      "count             5517           5517         5517             5517   \n",
      "unique               2              2            2                2   \n",
      "top        Fiber optic             No           No               No   \n",
      "freq              3096           3498         3088             3095   \n",
      "\n",
      "       TechSupport StreamingTV StreamingMovies  \n",
      "count         5517        5517            5517  \n",
      "unique           2           2               2  \n",
      "top             No          No              No  \n",
      "freq          3473        2810            2785  \n",
      "Обзор \n",
      "\n",
      "           MultipleLines\n",
      "customerID              \n",
      "0330-BGYZE           Yes\n",
      "9214-EKVXR            No\n",
      "1624-WOIWJ            No\n",
      "4869-EPIUS            No\n",
      "5799-JRCZO            No\n",
      "3565-UNOCC           Yes\n",
      "6827-IEAUQ            No\n",
      "5707-ZMDJP            No\n",
      "8963-JLGJT            No\n",
      "7815-PDTHL            No\n",
      "\n",
      "\n",
      "Развернутая информация \n",
      "\n",
      "<class 'pandas.core.frame.DataFrame'>\n",
      "Index: 6361 entries, 5575-GNVDE to 3186-AJIEK\n",
      "Data columns (total 1 columns):\n",
      " #   Column         Non-Null Count  Dtype \n",
      "---  ------         --------------  ----- \n",
      " 0   MultipleLines  6361 non-null   object\n",
      "dtypes: object(1)\n",
      "memory usage: 99.4+ KB\n",
      "None\n",
      "\n",
      "\n",
      "Статистическая составляющая \n",
      "\n",
      "       MultipleLines\n",
      "count           6361\n",
      "unique             2\n",
      "top               No\n",
      "freq            3390\n"
     ]
    }
   ],
   "source": [
    "for data in datasets:\n",
    "    view(data)"
   ]
  },
  {
   "cell_type": "markdown",
   "metadata": {},
   "source": [
    "### Выводы"
   ]
  },
  {
   "cell_type": "markdown",
   "metadata": {},
   "source": [
    "Пропусков в данных нет, total charges следует приведём к формату числовому. Значения yes/no предлааю заменить чиловыми значениям 1/0. Колонку с номером клиента предлагаю удалить."
   ]
  },
  {
   "cell_type": "markdown",
   "metadata": {},
   "source": [
    "## Подготовка данных"
   ]
  },
  {
   "cell_type": "markdown",
   "metadata": {},
   "source": [
    "Добавим признак на условие пользования да/нет"
   ]
  },
  {
   "cell_type": "code",
   "execution_count": 24,
   "metadata": {},
   "outputs": [],
   "source": [
    "datasets[2]['internet'] = 'Yes'\n",
    "datasets[3]['phone'] = 'Yes'"
   ]
  },
  {
   "cell_type": "markdown",
   "metadata": {},
   "source": [
    "Совместим таблицы"
   ]
  },
  {
   "cell_type": "code",
   "execution_count": 25,
   "metadata": {},
   "outputs": [],
   "source": [
    "df = contract.join(datasets[1:]).reset_index()"
   ]
  },
  {
   "cell_type": "markdown",
   "metadata": {},
   "source": [
    "Проверим на дубликаты"
   ]
  },
  {
   "cell_type": "code",
   "execution_count": 26,
   "metadata": {},
   "outputs": [
    {
     "data": {
      "text/plain": [
       "0"
      ]
     },
     "execution_count": 26,
     "metadata": {},
     "output_type": "execute_result"
    }
   ],
   "source": [
    "df.duplicated().sum()"
   ]
  },
  {
   "cell_type": "code",
   "execution_count": 27,
   "metadata": {},
   "outputs": [
    {
     "name": "stdout",
     "output_type": "stream",
     "text": [
      "<class 'pandas.core.frame.DataFrame'>\n",
      "RangeIndex: 7043 entries, 0 to 7042\n",
      "Data columns (total 22 columns):\n",
      " #   Column            Non-Null Count  Dtype  \n",
      "---  ------            --------------  -----  \n",
      " 0   customerID        7043 non-null   object \n",
      " 1   BeginDate         7043 non-null   object \n",
      " 2   EndDate           7043 non-null   object \n",
      " 3   Type              7043 non-null   object \n",
      " 4   PaperlessBilling  7043 non-null   object \n",
      " 5   PaymentMethod     7043 non-null   object \n",
      " 6   MonthlyCharges    7043 non-null   float64\n",
      " 7   TotalCharges      7043 non-null   object \n",
      " 8   gender            7043 non-null   object \n",
      " 9   SeniorCitizen     7043 non-null   int64  \n",
      " 10  Partner           7043 non-null   object \n",
      " 11  Dependents        7043 non-null   object \n",
      " 12  InternetService   5517 non-null   object \n",
      " 13  OnlineSecurity    5517 non-null   object \n",
      " 14  OnlineBackup      5517 non-null   object \n",
      " 15  DeviceProtection  5517 non-null   object \n",
      " 16  TechSupport       5517 non-null   object \n",
      " 17  StreamingTV       5517 non-null   object \n",
      " 18  StreamingMovies   5517 non-null   object \n",
      " 19  internet          5517 non-null   object \n",
      " 20  MultipleLines     6361 non-null   object \n",
      " 21  phone             6361 non-null   object \n",
      "dtypes: float64(1), int64(1), object(20)\n",
      "memory usage: 1.2+ MB\n"
     ]
    }
   ],
   "source": [
    "df.info()"
   ]
  },
  {
   "cell_type": "markdown",
   "metadata": {},
   "source": [
    "Видим, что пропуски связаны с тем, что люди не пользовались какими-либо услугами, заменю на 'No'"
   ]
  },
  {
   "cell_type": "code",
   "execution_count": 28,
   "metadata": {},
   "outputs": [],
   "source": [
    "df = df.fillna('No')"
   ]
  },
  {
   "cell_type": "code",
   "execution_count": 29,
   "metadata": {},
   "outputs": [
    {
     "name": "stdout",
     "output_type": "stream",
     "text": [
      "<class 'pandas.core.frame.DataFrame'>\n",
      "RangeIndex: 7043 entries, 0 to 7042\n",
      "Data columns (total 22 columns):\n",
      " #   Column            Non-Null Count  Dtype  \n",
      "---  ------            --------------  -----  \n",
      " 0   customerID        7043 non-null   object \n",
      " 1   BeginDate         7043 non-null   object \n",
      " 2   EndDate           7043 non-null   object \n",
      " 3   Type              7043 non-null   object \n",
      " 4   PaperlessBilling  7043 non-null   object \n",
      " 5   PaymentMethod     7043 non-null   object \n",
      " 6   MonthlyCharges    7043 non-null   float64\n",
      " 7   TotalCharges      7043 non-null   object \n",
      " 8   gender            7043 non-null   object \n",
      " 9   SeniorCitizen     7043 non-null   int64  \n",
      " 10  Partner           7043 non-null   object \n",
      " 11  Dependents        7043 non-null   object \n",
      " 12  InternetService   7043 non-null   object \n",
      " 13  OnlineSecurity    7043 non-null   object \n",
      " 14  OnlineBackup      7043 non-null   object \n",
      " 15  DeviceProtection  7043 non-null   object \n",
      " 16  TechSupport       7043 non-null   object \n",
      " 17  StreamingTV       7043 non-null   object \n",
      " 18  StreamingMovies   7043 non-null   object \n",
      " 19  internet          7043 non-null   object \n",
      " 20  MultipleLines     7043 non-null   object \n",
      " 21  phone             7043 non-null   object \n",
      "dtypes: float64(1), int64(1), object(20)\n",
      "memory usage: 1.2+ MB\n"
     ]
    }
   ],
   "source": [
    "df.info()"
   ]
  },
  {
   "cell_type": "code",
   "execution_count": 30,
   "metadata": {},
   "outputs": [
    {
     "data": {
      "text/plain": [
       "          11\n",
       "100.2      1\n",
       "100.25     1\n",
       "100.35     1\n",
       "100.4      1\n",
       "          ..\n",
       "997.75     1\n",
       "998.1      1\n",
       "999.45     1\n",
       "999.8      1\n",
       "999.9      1\n",
       "Name: TotalCharges, Length: 6531, dtype: int64"
      ]
     },
     "execution_count": 30,
     "metadata": {},
     "output_type": "execute_result"
    }
   ],
   "source": [
    "df['TotalCharges'].value_counts().sort_index()"
   ]
  },
  {
   "cell_type": "code",
   "execution_count": 31,
   "metadata": {},
   "outputs": [
    {
     "data": {
      "text/html": [
       "<div>\n",
       "<style scoped>\n",
       "    .dataframe tbody tr th:only-of-type {\n",
       "        vertical-align: middle;\n",
       "    }\n",
       "\n",
       "    .dataframe tbody tr th {\n",
       "        vertical-align: top;\n",
       "    }\n",
       "\n",
       "    .dataframe thead th {\n",
       "        text-align: right;\n",
       "    }\n",
       "</style>\n",
       "<table border=\"1\" class=\"dataframe\">\n",
       "  <thead>\n",
       "    <tr style=\"text-align: right;\">\n",
       "      <th></th>\n",
       "      <th>customerID</th>\n",
       "      <th>BeginDate</th>\n",
       "      <th>EndDate</th>\n",
       "      <th>Type</th>\n",
       "      <th>PaperlessBilling</th>\n",
       "      <th>PaymentMethod</th>\n",
       "      <th>MonthlyCharges</th>\n",
       "      <th>TotalCharges</th>\n",
       "      <th>gender</th>\n",
       "      <th>SeniorCitizen</th>\n",
       "      <th>...</th>\n",
       "      <th>InternetService</th>\n",
       "      <th>OnlineSecurity</th>\n",
       "      <th>OnlineBackup</th>\n",
       "      <th>DeviceProtection</th>\n",
       "      <th>TechSupport</th>\n",
       "      <th>StreamingTV</th>\n",
       "      <th>StreamingMovies</th>\n",
       "      <th>internet</th>\n",
       "      <th>MultipleLines</th>\n",
       "      <th>phone</th>\n",
       "    </tr>\n",
       "  </thead>\n",
       "  <tbody>\n",
       "    <tr>\n",
       "      <th>488</th>\n",
       "      <td>4472-LVYGI</td>\n",
       "      <td>2020-02-01</td>\n",
       "      <td>No</td>\n",
       "      <td>Two year</td>\n",
       "      <td>Yes</td>\n",
       "      <td>Bank transfer (automatic)</td>\n",
       "      <td>52.55</td>\n",
       "      <td></td>\n",
       "      <td>Female</td>\n",
       "      <td>0</td>\n",
       "      <td>...</td>\n",
       "      <td>DSL</td>\n",
       "      <td>Yes</td>\n",
       "      <td>No</td>\n",
       "      <td>Yes</td>\n",
       "      <td>Yes</td>\n",
       "      <td>Yes</td>\n",
       "      <td>No</td>\n",
       "      <td>Yes</td>\n",
       "      <td>No</td>\n",
       "      <td>No</td>\n",
       "    </tr>\n",
       "    <tr>\n",
       "      <th>753</th>\n",
       "      <td>3115-CZMZD</td>\n",
       "      <td>2020-02-01</td>\n",
       "      <td>No</td>\n",
       "      <td>Two year</td>\n",
       "      <td>No</td>\n",
       "      <td>Mailed check</td>\n",
       "      <td>20.25</td>\n",
       "      <td></td>\n",
       "      <td>Male</td>\n",
       "      <td>0</td>\n",
       "      <td>...</td>\n",
       "      <td>No</td>\n",
       "      <td>No</td>\n",
       "      <td>No</td>\n",
       "      <td>No</td>\n",
       "      <td>No</td>\n",
       "      <td>No</td>\n",
       "      <td>No</td>\n",
       "      <td>No</td>\n",
       "      <td>No</td>\n",
       "      <td>Yes</td>\n",
       "    </tr>\n",
       "    <tr>\n",
       "      <th>936</th>\n",
       "      <td>5709-LVOEQ</td>\n",
       "      <td>2020-02-01</td>\n",
       "      <td>No</td>\n",
       "      <td>Two year</td>\n",
       "      <td>No</td>\n",
       "      <td>Mailed check</td>\n",
       "      <td>80.85</td>\n",
       "      <td></td>\n",
       "      <td>Female</td>\n",
       "      <td>0</td>\n",
       "      <td>...</td>\n",
       "      <td>DSL</td>\n",
       "      <td>Yes</td>\n",
       "      <td>Yes</td>\n",
       "      <td>Yes</td>\n",
       "      <td>No</td>\n",
       "      <td>Yes</td>\n",
       "      <td>Yes</td>\n",
       "      <td>Yes</td>\n",
       "      <td>No</td>\n",
       "      <td>Yes</td>\n",
       "    </tr>\n",
       "    <tr>\n",
       "      <th>1082</th>\n",
       "      <td>4367-NUYAO</td>\n",
       "      <td>2020-02-01</td>\n",
       "      <td>No</td>\n",
       "      <td>Two year</td>\n",
       "      <td>No</td>\n",
       "      <td>Mailed check</td>\n",
       "      <td>25.75</td>\n",
       "      <td></td>\n",
       "      <td>Male</td>\n",
       "      <td>0</td>\n",
       "      <td>...</td>\n",
       "      <td>No</td>\n",
       "      <td>No</td>\n",
       "      <td>No</td>\n",
       "      <td>No</td>\n",
       "      <td>No</td>\n",
       "      <td>No</td>\n",
       "      <td>No</td>\n",
       "      <td>No</td>\n",
       "      <td>Yes</td>\n",
       "      <td>Yes</td>\n",
       "    </tr>\n",
       "    <tr>\n",
       "      <th>1340</th>\n",
       "      <td>1371-DWPAZ</td>\n",
       "      <td>2020-02-01</td>\n",
       "      <td>No</td>\n",
       "      <td>Two year</td>\n",
       "      <td>No</td>\n",
       "      <td>Credit card (automatic)</td>\n",
       "      <td>56.05</td>\n",
       "      <td></td>\n",
       "      <td>Female</td>\n",
       "      <td>0</td>\n",
       "      <td>...</td>\n",
       "      <td>DSL</td>\n",
       "      <td>Yes</td>\n",
       "      <td>Yes</td>\n",
       "      <td>Yes</td>\n",
       "      <td>Yes</td>\n",
       "      <td>Yes</td>\n",
       "      <td>No</td>\n",
       "      <td>Yes</td>\n",
       "      <td>No</td>\n",
       "      <td>No</td>\n",
       "    </tr>\n",
       "    <tr>\n",
       "      <th>3331</th>\n",
       "      <td>7644-OMVMY</td>\n",
       "      <td>2020-02-01</td>\n",
       "      <td>No</td>\n",
       "      <td>Two year</td>\n",
       "      <td>No</td>\n",
       "      <td>Mailed check</td>\n",
       "      <td>19.85</td>\n",
       "      <td></td>\n",
       "      <td>Male</td>\n",
       "      <td>0</td>\n",
       "      <td>...</td>\n",
       "      <td>No</td>\n",
       "      <td>No</td>\n",
       "      <td>No</td>\n",
       "      <td>No</td>\n",
       "      <td>No</td>\n",
       "      <td>No</td>\n",
       "      <td>No</td>\n",
       "      <td>No</td>\n",
       "      <td>No</td>\n",
       "      <td>Yes</td>\n",
       "    </tr>\n",
       "    <tr>\n",
       "      <th>3826</th>\n",
       "      <td>3213-VVOLG</td>\n",
       "      <td>2020-02-01</td>\n",
       "      <td>No</td>\n",
       "      <td>Two year</td>\n",
       "      <td>No</td>\n",
       "      <td>Mailed check</td>\n",
       "      <td>25.35</td>\n",
       "      <td></td>\n",
       "      <td>Male</td>\n",
       "      <td>0</td>\n",
       "      <td>...</td>\n",
       "      <td>No</td>\n",
       "      <td>No</td>\n",
       "      <td>No</td>\n",
       "      <td>No</td>\n",
       "      <td>No</td>\n",
       "      <td>No</td>\n",
       "      <td>No</td>\n",
       "      <td>No</td>\n",
       "      <td>Yes</td>\n",
       "      <td>Yes</td>\n",
       "    </tr>\n",
       "    <tr>\n",
       "      <th>4380</th>\n",
       "      <td>2520-SGTTA</td>\n",
       "      <td>2020-02-01</td>\n",
       "      <td>No</td>\n",
       "      <td>Two year</td>\n",
       "      <td>No</td>\n",
       "      <td>Mailed check</td>\n",
       "      <td>20.00</td>\n",
       "      <td></td>\n",
       "      <td>Female</td>\n",
       "      <td>0</td>\n",
       "      <td>...</td>\n",
       "      <td>No</td>\n",
       "      <td>No</td>\n",
       "      <td>No</td>\n",
       "      <td>No</td>\n",
       "      <td>No</td>\n",
       "      <td>No</td>\n",
       "      <td>No</td>\n",
       "      <td>No</td>\n",
       "      <td>No</td>\n",
       "      <td>Yes</td>\n",
       "    </tr>\n",
       "    <tr>\n",
       "      <th>5218</th>\n",
       "      <td>2923-ARZLG</td>\n",
       "      <td>2020-02-01</td>\n",
       "      <td>No</td>\n",
       "      <td>One year</td>\n",
       "      <td>Yes</td>\n",
       "      <td>Mailed check</td>\n",
       "      <td>19.70</td>\n",
       "      <td></td>\n",
       "      <td>Male</td>\n",
       "      <td>0</td>\n",
       "      <td>...</td>\n",
       "      <td>No</td>\n",
       "      <td>No</td>\n",
       "      <td>No</td>\n",
       "      <td>No</td>\n",
       "      <td>No</td>\n",
       "      <td>No</td>\n",
       "      <td>No</td>\n",
       "      <td>No</td>\n",
       "      <td>No</td>\n",
       "      <td>Yes</td>\n",
       "    </tr>\n",
       "    <tr>\n",
       "      <th>6670</th>\n",
       "      <td>4075-WKNIU</td>\n",
       "      <td>2020-02-01</td>\n",
       "      <td>No</td>\n",
       "      <td>Two year</td>\n",
       "      <td>No</td>\n",
       "      <td>Mailed check</td>\n",
       "      <td>73.35</td>\n",
       "      <td></td>\n",
       "      <td>Female</td>\n",
       "      <td>0</td>\n",
       "      <td>...</td>\n",
       "      <td>DSL</td>\n",
       "      <td>No</td>\n",
       "      <td>Yes</td>\n",
       "      <td>Yes</td>\n",
       "      <td>Yes</td>\n",
       "      <td>Yes</td>\n",
       "      <td>No</td>\n",
       "      <td>Yes</td>\n",
       "      <td>Yes</td>\n",
       "      <td>Yes</td>\n",
       "    </tr>\n",
       "    <tr>\n",
       "      <th>6754</th>\n",
       "      <td>2775-SEFEE</td>\n",
       "      <td>2020-02-01</td>\n",
       "      <td>No</td>\n",
       "      <td>Two year</td>\n",
       "      <td>Yes</td>\n",
       "      <td>Bank transfer (automatic)</td>\n",
       "      <td>61.90</td>\n",
       "      <td></td>\n",
       "      <td>Male</td>\n",
       "      <td>0</td>\n",
       "      <td>...</td>\n",
       "      <td>DSL</td>\n",
       "      <td>Yes</td>\n",
       "      <td>Yes</td>\n",
       "      <td>No</td>\n",
       "      <td>Yes</td>\n",
       "      <td>No</td>\n",
       "      <td>No</td>\n",
       "      <td>Yes</td>\n",
       "      <td>Yes</td>\n",
       "      <td>Yes</td>\n",
       "    </tr>\n",
       "  </tbody>\n",
       "</table>\n",
       "<p>11 rows × 22 columns</p>\n",
       "</div>"
      ],
      "text/plain": [
       "      customerID   BeginDate EndDate      Type PaperlessBilling  \\\n",
       "488   4472-LVYGI  2020-02-01      No  Two year              Yes   \n",
       "753   3115-CZMZD  2020-02-01      No  Two year               No   \n",
       "936   5709-LVOEQ  2020-02-01      No  Two year               No   \n",
       "1082  4367-NUYAO  2020-02-01      No  Two year               No   \n",
       "1340  1371-DWPAZ  2020-02-01      No  Two year               No   \n",
       "3331  7644-OMVMY  2020-02-01      No  Two year               No   \n",
       "3826  3213-VVOLG  2020-02-01      No  Two year               No   \n",
       "4380  2520-SGTTA  2020-02-01      No  Two year               No   \n",
       "5218  2923-ARZLG  2020-02-01      No  One year              Yes   \n",
       "6670  4075-WKNIU  2020-02-01      No  Two year               No   \n",
       "6754  2775-SEFEE  2020-02-01      No  Two year              Yes   \n",
       "\n",
       "                  PaymentMethod  MonthlyCharges TotalCharges  gender  \\\n",
       "488   Bank transfer (automatic)           52.55               Female   \n",
       "753                Mailed check           20.25                 Male   \n",
       "936                Mailed check           80.85               Female   \n",
       "1082               Mailed check           25.75                 Male   \n",
       "1340    Credit card (automatic)           56.05               Female   \n",
       "3331               Mailed check           19.85                 Male   \n",
       "3826               Mailed check           25.35                 Male   \n",
       "4380               Mailed check           20.00               Female   \n",
       "5218               Mailed check           19.70                 Male   \n",
       "6670               Mailed check           73.35               Female   \n",
       "6754  Bank transfer (automatic)           61.90                 Male   \n",
       "\n",
       "      SeniorCitizen  ... InternetService OnlineSecurity OnlineBackup  \\\n",
       "488               0  ...             DSL            Yes           No   \n",
       "753               0  ...              No             No           No   \n",
       "936               0  ...             DSL            Yes          Yes   \n",
       "1082              0  ...              No             No           No   \n",
       "1340              0  ...             DSL            Yes          Yes   \n",
       "3331              0  ...              No             No           No   \n",
       "3826              0  ...              No             No           No   \n",
       "4380              0  ...              No             No           No   \n",
       "5218              0  ...              No             No           No   \n",
       "6670              0  ...             DSL             No          Yes   \n",
       "6754              0  ...             DSL            Yes          Yes   \n",
       "\n",
       "     DeviceProtection TechSupport StreamingTV StreamingMovies internet  \\\n",
       "488               Yes         Yes         Yes              No      Yes   \n",
       "753                No          No          No              No       No   \n",
       "936               Yes          No         Yes             Yes      Yes   \n",
       "1082               No          No          No              No       No   \n",
       "1340              Yes         Yes         Yes              No      Yes   \n",
       "3331               No          No          No              No       No   \n",
       "3826               No          No          No              No       No   \n",
       "4380               No          No          No              No       No   \n",
       "5218               No          No          No              No       No   \n",
       "6670              Yes         Yes         Yes              No      Yes   \n",
       "6754               No         Yes          No              No      Yes   \n",
       "\n",
       "     MultipleLines phone  \n",
       "488             No    No  \n",
       "753             No   Yes  \n",
       "936             No   Yes  \n",
       "1082           Yes   Yes  \n",
       "1340            No    No  \n",
       "3331            No   Yes  \n",
       "3826           Yes   Yes  \n",
       "4380            No   Yes  \n",
       "5218            No   Yes  \n",
       "6670           Yes   Yes  \n",
       "6754           Yes   Yes  \n",
       "\n",
       "[11 rows x 22 columns]"
      ]
     },
     "execution_count": 31,
     "metadata": {},
     "output_type": "execute_result"
    }
   ],
   "source": [
    "df.loc[df['TotalCharges']==' ']"
   ]
  },
  {
   "cell_type": "markdown",
   "metadata": {},
   "source": [
    "В данной таблице мы видим клиентов, которые подключились в день, когда начали собирать информацию, особо полезной информации по этим данным не получишь, лучше их удалить, чтобы не вносили шум. "
   ]
  },
  {
   "cell_type": "code",
   "execution_count": 32,
   "metadata": {},
   "outputs": [],
   "source": [
    "df = df.loc[df['TotalCharges']!=' ']"
   ]
  },
  {
   "cell_type": "code",
   "execution_count": 33,
   "metadata": {},
   "outputs": [
    {
     "data": {
      "text/html": [
       "<div>\n",
       "<style scoped>\n",
       "    .dataframe tbody tr th:only-of-type {\n",
       "        vertical-align: middle;\n",
       "    }\n",
       "\n",
       "    .dataframe tbody tr th {\n",
       "        vertical-align: top;\n",
       "    }\n",
       "\n",
       "    .dataframe thead th {\n",
       "        text-align: right;\n",
       "    }\n",
       "</style>\n",
       "<table border=\"1\" class=\"dataframe\">\n",
       "  <thead>\n",
       "    <tr style=\"text-align: right;\">\n",
       "      <th></th>\n",
       "      <th>customerID</th>\n",
       "      <th>BeginDate</th>\n",
       "      <th>EndDate</th>\n",
       "      <th>Type</th>\n",
       "      <th>PaperlessBilling</th>\n",
       "      <th>PaymentMethod</th>\n",
       "      <th>MonthlyCharges</th>\n",
       "      <th>TotalCharges</th>\n",
       "      <th>gender</th>\n",
       "      <th>SeniorCitizen</th>\n",
       "      <th>...</th>\n",
       "      <th>InternetService</th>\n",
       "      <th>OnlineSecurity</th>\n",
       "      <th>OnlineBackup</th>\n",
       "      <th>DeviceProtection</th>\n",
       "      <th>TechSupport</th>\n",
       "      <th>StreamingTV</th>\n",
       "      <th>StreamingMovies</th>\n",
       "      <th>internet</th>\n",
       "      <th>MultipleLines</th>\n",
       "      <th>phone</th>\n",
       "    </tr>\n",
       "  </thead>\n",
       "  <tbody>\n",
       "  </tbody>\n",
       "</table>\n",
       "<p>0 rows × 22 columns</p>\n",
       "</div>"
      ],
      "text/plain": [
       "Empty DataFrame\n",
       "Columns: [customerID, BeginDate, EndDate, Type, PaperlessBilling, PaymentMethod, MonthlyCharges, TotalCharges, gender, SeniorCitizen, Partner, Dependents, InternetService, OnlineSecurity, OnlineBackup, DeviceProtection, TechSupport, StreamingTV, StreamingMovies, internet, MultipleLines, phone]\n",
       "Index: []\n",
       "\n",
       "[0 rows x 22 columns]"
      ]
     },
     "execution_count": 33,
     "metadata": {},
     "output_type": "execute_result"
    }
   ],
   "source": [
    "df.loc[df['BeginDate'] >= '2020-02-01']"
   ]
  },
  {
   "cell_type": "code",
   "execution_count": 34,
   "metadata": {},
   "outputs": [],
   "source": [
    "df['TotalCharges'] = pd.to_numeric(df['TotalCharges'])"
   ]
  },
  {
   "cell_type": "code",
   "execution_count": 35,
   "metadata": {},
   "outputs": [],
   "source": [
    "df['BeginDate'] = pd.to_datetime(df['BeginDate'])"
   ]
  },
  {
   "cell_type": "code",
   "execution_count": 36,
   "metadata": {},
   "outputs": [
    {
     "name": "stdout",
     "output_type": "stream",
     "text": [
      "<class 'pandas.core.frame.DataFrame'>\n",
      "Int64Index: 7032 entries, 0 to 7042\n",
      "Data columns (total 22 columns):\n",
      " #   Column            Non-Null Count  Dtype         \n",
      "---  ------            --------------  -----         \n",
      " 0   customerID        7032 non-null   object        \n",
      " 1   BeginDate         7032 non-null   datetime64[ns]\n",
      " 2   EndDate           7032 non-null   object        \n",
      " 3   Type              7032 non-null   object        \n",
      " 4   PaperlessBilling  7032 non-null   object        \n",
      " 5   PaymentMethod     7032 non-null   object        \n",
      " 6   MonthlyCharges    7032 non-null   float64       \n",
      " 7   TotalCharges      7032 non-null   float64       \n",
      " 8   gender            7032 non-null   object        \n",
      " 9   SeniorCitizen     7032 non-null   int64         \n",
      " 10  Partner           7032 non-null   object        \n",
      " 11  Dependents        7032 non-null   object        \n",
      " 12  InternetService   7032 non-null   object        \n",
      " 13  OnlineSecurity    7032 non-null   object        \n",
      " 14  OnlineBackup      7032 non-null   object        \n",
      " 15  DeviceProtection  7032 non-null   object        \n",
      " 16  TechSupport       7032 non-null   object        \n",
      " 17  StreamingTV       7032 non-null   object        \n",
      " 18  StreamingMovies   7032 non-null   object        \n",
      " 19  internet          7032 non-null   object        \n",
      " 20  MultipleLines     7032 non-null   object        \n",
      " 21  phone             7032 non-null   object        \n",
      "dtypes: datetime64[ns](1), float64(2), int64(1), object(18)\n",
      "memory usage: 1.2+ MB\n"
     ]
    }
   ],
   "source": [
    "df.info()"
   ]
  },
  {
   "cell_type": "code",
   "execution_count": 37,
   "metadata": {},
   "outputs": [],
   "source": [
    "gone = df.loc[df['EndDate'] != 'No']\n",
    "stayed = df.loc[df['EndDate'] == 'No']"
   ]
  },
  {
   "cell_type": "code",
   "execution_count": 38,
   "metadata": {},
   "outputs": [],
   "source": [
    "gone['EndDate'] = pd.to_datetime(gone['EndDate'])\n",
    "gone['together'] = round((gone['EndDate'] - gone['BeginDate'])/np.timedelta64(1, 'D'))"
   ]
  },
  {
   "cell_type": "code",
   "execution_count": 39,
   "metadata": {},
   "outputs": [
    {
     "data": {
      "text/plain": [
       "count    1869.000000\n",
       "mean       74.441332\n",
       "std        24.666053\n",
       "min        18.850000\n",
       "25%        56.150000\n",
       "50%        79.650000\n",
       "75%        94.200000\n",
       "max       118.350000\n",
       "Name: MonthlyCharges, dtype: float64"
      ]
     },
     "execution_count": 39,
     "metadata": {},
     "output_type": "execute_result"
    }
   ],
   "source": [
    "gone['MonthlyCharges'].describe()"
   ]
  },
  {
   "cell_type": "code",
   "execution_count": 40,
   "metadata": {},
   "outputs": [
    {
     "data": {
      "text/plain": [
       "count    7032.000000\n",
       "mean       64.798208\n",
       "std        30.085974\n",
       "min        18.250000\n",
       "25%        35.587500\n",
       "50%        70.350000\n",
       "75%        89.862500\n",
       "max       118.750000\n",
       "Name: MonthlyCharges, dtype: float64"
      ]
     },
     "execution_count": 40,
     "metadata": {},
     "output_type": "execute_result"
    }
   ],
   "source": [
    "df['MonthlyCharges'].describe()"
   ]
  },
  {
   "cell_type": "code",
   "execution_count": 41,
   "metadata": {
    "scrolled": false
   },
   "outputs": [
    {
     "data": {
      "image/png": "[encoded data removed]",
      "text/plain": [
       "<Figure size 1280x800 with 1 Axes>"
      ]
     },
     "metadata": {
      "needs_background": "light"
     },
     "output_type": "display_data"
    }
   ],
   "source": [
    "plt.figure(figsize=(16,10), dpi= 80)\n",
    "sns.distplot(gone['MonthlyCharges'], color=\"g\", label=\"Ушедшие\")\n",
    "sns.distplot(df['MonthlyCharges'], color=\"b\", label=\"Все\")\n",
    "\n",
    "plt.title('Сравнение распределений ежемесячных платежей ушедших и всех клиентов', fontsize=22)\n",
    "plt.legend()\n",
    "plt.xlabel('Сумма')\n",
    "plt.show()"
   ]
  },
  {
   "cell_type": "markdown",
   "metadata": {},
   "source": [
    "У кого ежемесячные траты выше - те чаще уходят"
   ]
  },
  {
   "cell_type": "code",
   "execution_count": 42,
   "metadata": {},
   "outputs": [
    {
     "data": {
      "text/plain": [
       "count    1869.000000\n",
       "mean      547.352060\n",
       "std       594.389607\n",
       "min        30.000000\n",
       "25%        61.000000\n",
       "50%       304.000000\n",
       "75%       883.000000\n",
       "max      2191.000000\n",
       "Name: together, dtype: float64"
      ]
     },
     "execution_count": 42,
     "metadata": {},
     "output_type": "execute_result"
    }
   ],
   "source": [
    "gone['together'].describe()"
   ]
  },
  {
   "cell_type": "markdown",
   "metadata": {},
   "source": [
    "Четверть уходящих клиентов, уходят в первый месяц"
   ]
  },
  {
   "cell_type": "code",
   "execution_count": 43,
   "metadata": {},
   "outputs": [],
   "source": [
    "df = df.drop(columns='customerID')"
   ]
  },
  {
   "cell_type": "markdown",
   "metadata": {},
   "source": [
    "информации мало - удаляем"
   ]
  },
  {
   "cell_type": "code",
   "execution_count": 44,
   "metadata": {},
   "outputs": [],
   "source": [
    "df.loc[df['EndDate'] != 'No', 'left'] = 1\n",
    "df.loc[df['EndDate'] == 'No', 'left'] = 0  \n",
    "df['left'] = df['left'].astype(int)"
   ]
  },
  {
   "cell_type": "markdown",
   "metadata": {},
   "source": [
    "Вводим бинарный целевой признак "
   ]
  },
  {
   "cell_type": "code",
   "execution_count": 45,
   "metadata": {},
   "outputs": [],
   "source": [
    "df.loc[df['EndDate'] == 'No', 'EndDate'] = '2020-02-01'\n",
    "df['EndDate'] = pd.to_datetime(df['EndDate'])\n",
    "df['together'] = round((df['EndDate'] - df['BeginDate'])/np.timedelta64(1, 'D')).astype(int)\n",
    "df = df.drop(columns=['EndDate', 'BeginDate'])"
   ]
  },
  {
   "cell_type": "code",
   "execution_count": 46,
   "metadata": {},
   "outputs": [
    {
     "data": {
      "text/plain": [
       "2133      30\n",
       "6623      30\n",
       "3310      30\n",
       "6633      30\n",
       "248       30\n",
       "        ... \n",
       "850     2191\n",
       "6778    2191\n",
       "2941    2191\n",
       "4513    2191\n",
       "932     2191\n",
       "Name: together, Length: 7032, dtype: int64"
      ]
     },
     "execution_count": 46,
     "metadata": {},
     "output_type": "execute_result"
    }
   ],
   "source": [
    "df.together.sort_values()"
   ]
  },
  {
   "cell_type": "code",
   "execution_count": 47,
   "metadata": {},
   "outputs": [
    {
     "data": {
      "text/html": [
       "<div>\n",
       "<style scoped>\n",
       "    .dataframe tbody tr th:only-of-type {\n",
       "        vertical-align: middle;\n",
       "    }\n",
       "\n",
       "    .dataframe tbody tr th {\n",
       "        vertical-align: top;\n",
       "    }\n",
       "\n",
       "    .dataframe thead th {\n",
       "        text-align: right;\n",
       "    }\n",
       "</style>\n",
       "<table border=\"1\" class=\"dataframe\">\n",
       "  <thead>\n",
       "    <tr style=\"text-align: right;\">\n",
       "      <th></th>\n",
       "      <th>Type</th>\n",
       "      <th>PaperlessBilling</th>\n",
       "      <th>PaymentMethod</th>\n",
       "      <th>MonthlyCharges</th>\n",
       "      <th>TotalCharges</th>\n",
       "      <th>gender</th>\n",
       "      <th>SeniorCitizen</th>\n",
       "      <th>Partner</th>\n",
       "      <th>Dependents</th>\n",
       "      <th>InternetService</th>\n",
       "      <th>...</th>\n",
       "      <th>OnlineBackup</th>\n",
       "      <th>DeviceProtection</th>\n",
       "      <th>TechSupport</th>\n",
       "      <th>StreamingTV</th>\n",
       "      <th>StreamingMovies</th>\n",
       "      <th>internet</th>\n",
       "      <th>MultipleLines</th>\n",
       "      <th>phone</th>\n",
       "      <th>left</th>\n",
       "      <th>together</th>\n",
       "    </tr>\n",
       "  </thead>\n",
       "  <tbody>\n",
       "    <tr>\n",
       "      <th>0</th>\n",
       "      <td>Month-to-month</td>\n",
       "      <td>Yes</td>\n",
       "      <td>Electronic check</td>\n",
       "      <td>29.85</td>\n",
       "      <td>29.85</td>\n",
       "      <td>Female</td>\n",
       "      <td>0</td>\n",
       "      <td>Yes</td>\n",
       "      <td>No</td>\n",
       "      <td>DSL</td>\n",
       "      <td>...</td>\n",
       "      <td>Yes</td>\n",
       "      <td>No</td>\n",
       "      <td>No</td>\n",
       "      <td>No</td>\n",
       "      <td>No</td>\n",
       "      <td>Yes</td>\n",
       "      <td>No</td>\n",
       "      <td>No</td>\n",
       "      <td>0</td>\n",
       "      <td>31</td>\n",
       "    </tr>\n",
       "    <tr>\n",
       "      <th>20</th>\n",
       "      <td>Month-to-month</td>\n",
       "      <td>Yes</td>\n",
       "      <td>Electronic check</td>\n",
       "      <td>39.65</td>\n",
       "      <td>39.65</td>\n",
       "      <td>Male</td>\n",
       "      <td>1</td>\n",
       "      <td>No</td>\n",
       "      <td>No</td>\n",
       "      <td>DSL</td>\n",
       "      <td>...</td>\n",
       "      <td>No</td>\n",
       "      <td>Yes</td>\n",
       "      <td>No</td>\n",
       "      <td>No</td>\n",
       "      <td>Yes</td>\n",
       "      <td>Yes</td>\n",
       "      <td>No</td>\n",
       "      <td>No</td>\n",
       "      <td>1</td>\n",
       "      <td>30</td>\n",
       "    </tr>\n",
       "    <tr>\n",
       "      <th>22</th>\n",
       "      <td>Month-to-month</td>\n",
       "      <td>No</td>\n",
       "      <td>Mailed check</td>\n",
       "      <td>20.15</td>\n",
       "      <td>20.15</td>\n",
       "      <td>Male</td>\n",
       "      <td>0</td>\n",
       "      <td>No</td>\n",
       "      <td>No</td>\n",
       "      <td>No</td>\n",
       "      <td>...</td>\n",
       "      <td>No</td>\n",
       "      <td>No</td>\n",
       "      <td>No</td>\n",
       "      <td>No</td>\n",
       "      <td>No</td>\n",
       "      <td>No</td>\n",
       "      <td>No</td>\n",
       "      <td>Yes</td>\n",
       "      <td>1</td>\n",
       "      <td>30</td>\n",
       "    </tr>\n",
       "    <tr>\n",
       "      <th>27</th>\n",
       "      <td>Month-to-month</td>\n",
       "      <td>No</td>\n",
       "      <td>Electronic check</td>\n",
       "      <td>30.20</td>\n",
       "      <td>30.20</td>\n",
       "      <td>Male</td>\n",
       "      <td>0</td>\n",
       "      <td>Yes</td>\n",
       "      <td>Yes</td>\n",
       "      <td>DSL</td>\n",
       "      <td>...</td>\n",
       "      <td>Yes</td>\n",
       "      <td>No</td>\n",
       "      <td>No</td>\n",
       "      <td>No</td>\n",
       "      <td>No</td>\n",
       "      <td>Yes</td>\n",
       "      <td>No</td>\n",
       "      <td>No</td>\n",
       "      <td>1</td>\n",
       "      <td>30</td>\n",
       "    </tr>\n",
       "    <tr>\n",
       "      <th>33</th>\n",
       "      <td>Month-to-month</td>\n",
       "      <td>No</td>\n",
       "      <td>Bank transfer (automatic)</td>\n",
       "      <td>20.20</td>\n",
       "      <td>20.20</td>\n",
       "      <td>Male</td>\n",
       "      <td>0</td>\n",
       "      <td>No</td>\n",
       "      <td>No</td>\n",
       "      <td>No</td>\n",
       "      <td>...</td>\n",
       "      <td>No</td>\n",
       "      <td>No</td>\n",
       "      <td>No</td>\n",
       "      <td>No</td>\n",
       "      <td>No</td>\n",
       "      <td>No</td>\n",
       "      <td>No</td>\n",
       "      <td>Yes</td>\n",
       "      <td>0</td>\n",
       "      <td>31</td>\n",
       "    </tr>\n",
       "    <tr>\n",
       "      <th>...</th>\n",
       "      <td>...</td>\n",
       "      <td>...</td>\n",
       "      <td>...</td>\n",
       "      <td>...</td>\n",
       "      <td>...</td>\n",
       "      <td>...</td>\n",
       "      <td>...</td>\n",
       "      <td>...</td>\n",
       "      <td>...</td>\n",
       "      <td>...</td>\n",
       "      <td>...</td>\n",
       "      <td>...</td>\n",
       "      <td>...</td>\n",
       "      <td>...</td>\n",
       "      <td>...</td>\n",
       "      <td>...</td>\n",
       "      <td>...</td>\n",
       "      <td>...</td>\n",
       "      <td>...</td>\n",
       "      <td>...</td>\n",
       "      <td>...</td>\n",
       "    </tr>\n",
       "    <tr>\n",
       "      <th>6979</th>\n",
       "      <td>Month-to-month</td>\n",
       "      <td>No</td>\n",
       "      <td>Mailed check</td>\n",
       "      <td>24.20</td>\n",
       "      <td>24.20</td>\n",
       "      <td>Male</td>\n",
       "      <td>0</td>\n",
       "      <td>No</td>\n",
       "      <td>Yes</td>\n",
       "      <td>DSL</td>\n",
       "      <td>...</td>\n",
       "      <td>No</td>\n",
       "      <td>No</td>\n",
       "      <td>No</td>\n",
       "      <td>No</td>\n",
       "      <td>No</td>\n",
       "      <td>Yes</td>\n",
       "      <td>No</td>\n",
       "      <td>No</td>\n",
       "      <td>0</td>\n",
       "      <td>31</td>\n",
       "    </tr>\n",
       "    <tr>\n",
       "      <th>7010</th>\n",
       "      <td>Month-to-month</td>\n",
       "      <td>Yes</td>\n",
       "      <td>Electronic check</td>\n",
       "      <td>74.45</td>\n",
       "      <td>74.45</td>\n",
       "      <td>Female</td>\n",
       "      <td>1</td>\n",
       "      <td>Yes</td>\n",
       "      <td>No</td>\n",
       "      <td>Fiber optic</td>\n",
       "      <td>...</td>\n",
       "      <td>No</td>\n",
       "      <td>No</td>\n",
       "      <td>No</td>\n",
       "      <td>No</td>\n",
       "      <td>No</td>\n",
       "      <td>Yes</td>\n",
       "      <td>Yes</td>\n",
       "      <td>Yes</td>\n",
       "      <td>1</td>\n",
       "      <td>30</td>\n",
       "    </tr>\n",
       "    <tr>\n",
       "      <th>7016</th>\n",
       "      <td>Month-to-month</td>\n",
       "      <td>No</td>\n",
       "      <td>Electronic check</td>\n",
       "      <td>49.95</td>\n",
       "      <td>49.95</td>\n",
       "      <td>Female</td>\n",
       "      <td>0</td>\n",
       "      <td>No</td>\n",
       "      <td>No</td>\n",
       "      <td>DSL</td>\n",
       "      <td>...</td>\n",
       "      <td>Yes</td>\n",
       "      <td>No</td>\n",
       "      <td>No</td>\n",
       "      <td>No</td>\n",
       "      <td>No</td>\n",
       "      <td>Yes</td>\n",
       "      <td>No</td>\n",
       "      <td>Yes</td>\n",
       "      <td>0</td>\n",
       "      <td>31</td>\n",
       "    </tr>\n",
       "    <tr>\n",
       "      <th>7018</th>\n",
       "      <td>Month-to-month</td>\n",
       "      <td>Yes</td>\n",
       "      <td>Mailed check</td>\n",
       "      <td>70.65</td>\n",
       "      <td>70.65</td>\n",
       "      <td>Male</td>\n",
       "      <td>0</td>\n",
       "      <td>Yes</td>\n",
       "      <td>Yes</td>\n",
       "      <td>Fiber optic</td>\n",
       "      <td>...</td>\n",
       "      <td>No</td>\n",
       "      <td>No</td>\n",
       "      <td>No</td>\n",
       "      <td>No</td>\n",
       "      <td>No</td>\n",
       "      <td>Yes</td>\n",
       "      <td>No</td>\n",
       "      <td>Yes</td>\n",
       "      <td>1</td>\n",
       "      <td>31</td>\n",
       "    </tr>\n",
       "    <tr>\n",
       "      <th>7032</th>\n",
       "      <td>Month-to-month</td>\n",
       "      <td>Yes</td>\n",
       "      <td>Electronic check</td>\n",
       "      <td>75.75</td>\n",
       "      <td>75.75</td>\n",
       "      <td>Male</td>\n",
       "      <td>1</td>\n",
       "      <td>No</td>\n",
       "      <td>No</td>\n",
       "      <td>Fiber optic</td>\n",
       "      <td>...</td>\n",
       "      <td>No</td>\n",
       "      <td>No</td>\n",
       "      <td>No</td>\n",
       "      <td>No</td>\n",
       "      <td>No</td>\n",
       "      <td>Yes</td>\n",
       "      <td>Yes</td>\n",
       "      <td>Yes</td>\n",
       "      <td>1</td>\n",
       "      <td>31</td>\n",
       "    </tr>\n",
       "  </tbody>\n",
       "</table>\n",
       "<p>613 rows × 21 columns</p>\n",
       "</div>"
      ],
      "text/plain": [
       "                Type PaperlessBilling              PaymentMethod  \\\n",
       "0     Month-to-month              Yes           Electronic check   \n",
       "20    Month-to-month              Yes           Electronic check   \n",
       "22    Month-to-month               No               Mailed check   \n",
       "27    Month-to-month               No           Electronic check   \n",
       "33    Month-to-month               No  Bank transfer (automatic)   \n",
       "...              ...              ...                        ...   \n",
       "6979  Month-to-month               No               Mailed check   \n",
       "7010  Month-to-month              Yes           Electronic check   \n",
       "7016  Month-to-month               No           Electronic check   \n",
       "7018  Month-to-month              Yes               Mailed check   \n",
       "7032  Month-to-month              Yes           Electronic check   \n",
       "\n",
       "      MonthlyCharges  TotalCharges  gender  SeniorCitizen Partner Dependents  \\\n",
       "0              29.85         29.85  Female              0     Yes         No   \n",
       "20             39.65         39.65    Male              1      No         No   \n",
       "22             20.15         20.15    Male              0      No         No   \n",
       "27             30.20         30.20    Male              0     Yes        Yes   \n",
       "33             20.20         20.20    Male              0      No         No   \n",
       "...              ...           ...     ...            ...     ...        ...   \n",
       "6979           24.20         24.20    Male              0      No        Yes   \n",
       "7010           74.45         74.45  Female              1     Yes         No   \n",
       "7016           49.95         49.95  Female              0      No         No   \n",
       "7018           70.65         70.65    Male              0     Yes        Yes   \n",
       "7032           75.75         75.75    Male              1      No         No   \n",
       "\n",
       "     InternetService  ... OnlineBackup DeviceProtection TechSupport  \\\n",
       "0                DSL  ...          Yes               No          No   \n",
       "20               DSL  ...           No              Yes          No   \n",
       "22                No  ...           No               No          No   \n",
       "27               DSL  ...          Yes               No          No   \n",
       "33                No  ...           No               No          No   \n",
       "...              ...  ...          ...              ...         ...   \n",
       "6979             DSL  ...           No               No          No   \n",
       "7010     Fiber optic  ...           No               No          No   \n",
       "7016             DSL  ...          Yes               No          No   \n",
       "7018     Fiber optic  ...           No               No          No   \n",
       "7032     Fiber optic  ...           No               No          No   \n",
       "\n",
       "     StreamingTV StreamingMovies internet MultipleLines phone left  together  \n",
       "0             No              No      Yes            No    No    0        31  \n",
       "20            No             Yes      Yes            No    No    1        30  \n",
       "22            No              No       No            No   Yes    1        30  \n",
       "27            No              No      Yes            No    No    1        30  \n",
       "33            No              No       No            No   Yes    0        31  \n",
       "...          ...             ...      ...           ...   ...  ...       ...  \n",
       "6979          No              No      Yes            No    No    0        31  \n",
       "7010          No              No      Yes           Yes   Yes    1        30  \n",
       "7016          No              No      Yes            No   Yes    0        31  \n",
       "7018          No              No      Yes            No   Yes    1        31  \n",
       "7032          No              No      Yes           Yes   Yes    1        31  \n",
       "\n",
       "[613 rows x 21 columns]"
      ]
     },
     "execution_count": 47,
     "metadata": {},
     "output_type": "execute_result"
    }
   ],
   "source": [
    "df[df.together < 50]"
   ]
  },
  {
   "cell_type": "markdown",
   "metadata": {},
   "source": [
    "Тут можем увидеть, сколько клиент в компании "
   ]
  },
  {
   "cell_type": "code",
   "execution_count": 48,
   "metadata": {},
   "outputs": [
    {
     "data": {
      "text/html": [
       "<div>\n",
       "<style scoped>\n",
       "    .dataframe tbody tr th:only-of-type {\n",
       "        vertical-align: middle;\n",
       "    }\n",
       "\n",
       "    .dataframe tbody tr th {\n",
       "        vertical-align: top;\n",
       "    }\n",
       "\n",
       "    .dataframe thead th {\n",
       "        text-align: right;\n",
       "    }\n",
       "</style>\n",
       "<table border=\"1\" class=\"dataframe\">\n",
       "  <thead>\n",
       "    <tr style=\"text-align: right;\">\n",
       "      <th></th>\n",
       "      <th>Type</th>\n",
       "      <th>PaperlessBilling</th>\n",
       "      <th>PaymentMethod</th>\n",
       "      <th>MonthlyCharges</th>\n",
       "      <th>TotalCharges</th>\n",
       "      <th>gender</th>\n",
       "      <th>SeniorCitizen</th>\n",
       "      <th>Partner</th>\n",
       "      <th>Dependents</th>\n",
       "      <th>InternetService</th>\n",
       "      <th>...</th>\n",
       "      <th>OnlineBackup</th>\n",
       "      <th>DeviceProtection</th>\n",
       "      <th>TechSupport</th>\n",
       "      <th>StreamingTV</th>\n",
       "      <th>StreamingMovies</th>\n",
       "      <th>internet</th>\n",
       "      <th>MultipleLines</th>\n",
       "      <th>phone</th>\n",
       "      <th>left</th>\n",
       "      <th>together</th>\n",
       "    </tr>\n",
       "  </thead>\n",
       "  <tbody>\n",
       "    <tr>\n",
       "      <th>count</th>\n",
       "      <td>7032</td>\n",
       "      <td>7032</td>\n",
       "      <td>7032</td>\n",
       "      <td>7032.000000</td>\n",
       "      <td>7032.000000</td>\n",
       "      <td>7032</td>\n",
       "      <td>7032.000000</td>\n",
       "      <td>7032</td>\n",
       "      <td>7032</td>\n",
       "      <td>7032</td>\n",
       "      <td>...</td>\n",
       "      <td>7032</td>\n",
       "      <td>7032</td>\n",
       "      <td>7032</td>\n",
       "      <td>7032</td>\n",
       "      <td>7032</td>\n",
       "      <td>7032</td>\n",
       "      <td>7032</td>\n",
       "      <td>7032</td>\n",
       "      <td>7032.000000</td>\n",
       "      <td>7032.000000</td>\n",
       "    </tr>\n",
       "    <tr>\n",
       "      <th>unique</th>\n",
       "      <td>3</td>\n",
       "      <td>2</td>\n",
       "      <td>4</td>\n",
       "      <td>NaN</td>\n",
       "      <td>NaN</td>\n",
       "      <td>2</td>\n",
       "      <td>NaN</td>\n",
       "      <td>2</td>\n",
       "      <td>2</td>\n",
       "      <td>3</td>\n",
       "      <td>...</td>\n",
       "      <td>2</td>\n",
       "      <td>2</td>\n",
       "      <td>2</td>\n",
       "      <td>2</td>\n",
       "      <td>2</td>\n",
       "      <td>2</td>\n",
       "      <td>2</td>\n",
       "      <td>2</td>\n",
       "      <td>NaN</td>\n",
       "      <td>NaN</td>\n",
       "    </tr>\n",
       "    <tr>\n",
       "      <th>top</th>\n",
       "      <td>Month-to-month</td>\n",
       "      <td>Yes</td>\n",
       "      <td>Electronic check</td>\n",
       "      <td>NaN</td>\n",
       "      <td>NaN</td>\n",
       "      <td>Male</td>\n",
       "      <td>NaN</td>\n",
       "      <td>No</td>\n",
       "      <td>No</td>\n",
       "      <td>Fiber optic</td>\n",
       "      <td>...</td>\n",
       "      <td>No</td>\n",
       "      <td>No</td>\n",
       "      <td>No</td>\n",
       "      <td>No</td>\n",
       "      <td>No</td>\n",
       "      <td>Yes</td>\n",
       "      <td>No</td>\n",
       "      <td>Yes</td>\n",
       "      <td>NaN</td>\n",
       "      <td>NaN</td>\n",
       "    </tr>\n",
       "    <tr>\n",
       "      <th>freq</th>\n",
       "      <td>3875</td>\n",
       "      <td>4168</td>\n",
       "      <td>2365</td>\n",
       "      <td>NaN</td>\n",
       "      <td>NaN</td>\n",
       "      <td>3549</td>\n",
       "      <td>NaN</td>\n",
       "      <td>3639</td>\n",
       "      <td>4933</td>\n",
       "      <td>3096</td>\n",
       "      <td>...</td>\n",
       "      <td>4607</td>\n",
       "      <td>4614</td>\n",
       "      <td>4992</td>\n",
       "      <td>4329</td>\n",
       "      <td>4301</td>\n",
       "      <td>5512</td>\n",
       "      <td>4065</td>\n",
       "      <td>6352</td>\n",
       "      <td>NaN</td>\n",
       "      <td>NaN</td>\n",
       "    </tr>\n",
       "    <tr>\n",
       "      <th>mean</th>\n",
       "      <td>NaN</td>\n",
       "      <td>NaN</td>\n",
       "      <td>NaN</td>\n",
       "      <td>64.798208</td>\n",
       "      <td>2283.300441</td>\n",
       "      <td>NaN</td>\n",
       "      <td>0.162400</td>\n",
       "      <td>NaN</td>\n",
       "      <td>NaN</td>\n",
       "      <td>NaN</td>\n",
       "      <td>...</td>\n",
       "      <td>NaN</td>\n",
       "      <td>NaN</td>\n",
       "      <td>NaN</td>\n",
       "      <td>NaN</td>\n",
       "      <td>NaN</td>\n",
       "      <td>NaN</td>\n",
       "      <td>NaN</td>\n",
       "      <td>NaN</td>\n",
       "      <td>0.265785</td>\n",
       "      <td>987.538538</td>\n",
       "    </tr>\n",
       "    <tr>\n",
       "      <th>std</th>\n",
       "      <td>NaN</td>\n",
       "      <td>NaN</td>\n",
       "      <td>NaN</td>\n",
       "      <td>30.085974</td>\n",
       "      <td>2266.771362</td>\n",
       "      <td>NaN</td>\n",
       "      <td>0.368844</td>\n",
       "      <td>NaN</td>\n",
       "      <td>NaN</td>\n",
       "      <td>NaN</td>\n",
       "      <td>...</td>\n",
       "      <td>NaN</td>\n",
       "      <td>NaN</td>\n",
       "      <td>NaN</td>\n",
       "      <td>NaN</td>\n",
       "      <td>NaN</td>\n",
       "      <td>NaN</td>\n",
       "      <td>NaN</td>\n",
       "      <td>NaN</td>\n",
       "      <td>0.441782</td>\n",
       "      <td>747.153663</td>\n",
       "    </tr>\n",
       "    <tr>\n",
       "      <th>min</th>\n",
       "      <td>NaN</td>\n",
       "      <td>NaN</td>\n",
       "      <td>NaN</td>\n",
       "      <td>18.250000</td>\n",
       "      <td>18.800000</td>\n",
       "      <td>NaN</td>\n",
       "      <td>0.000000</td>\n",
       "      <td>NaN</td>\n",
       "      <td>NaN</td>\n",
       "      <td>NaN</td>\n",
       "      <td>...</td>\n",
       "      <td>NaN</td>\n",
       "      <td>NaN</td>\n",
       "      <td>NaN</td>\n",
       "      <td>NaN</td>\n",
       "      <td>NaN</td>\n",
       "      <td>NaN</td>\n",
       "      <td>NaN</td>\n",
       "      <td>NaN</td>\n",
       "      <td>0.000000</td>\n",
       "      <td>30.000000</td>\n",
       "    </tr>\n",
       "    <tr>\n",
       "      <th>25%</th>\n",
       "      <td>NaN</td>\n",
       "      <td>NaN</td>\n",
       "      <td>NaN</td>\n",
       "      <td>35.587500</td>\n",
       "      <td>401.450000</td>\n",
       "      <td>NaN</td>\n",
       "      <td>0.000000</td>\n",
       "      <td>NaN</td>\n",
       "      <td>NaN</td>\n",
       "      <td>NaN</td>\n",
       "      <td>...</td>\n",
       "      <td>NaN</td>\n",
       "      <td>NaN</td>\n",
       "      <td>NaN</td>\n",
       "      <td>NaN</td>\n",
       "      <td>NaN</td>\n",
       "      <td>NaN</td>\n",
       "      <td>NaN</td>\n",
       "      <td>NaN</td>\n",
       "      <td>0.000000</td>\n",
       "      <td>275.000000</td>\n",
       "    </tr>\n",
       "    <tr>\n",
       "      <th>50%</th>\n",
       "      <td>NaN</td>\n",
       "      <td>NaN</td>\n",
       "      <td>NaN</td>\n",
       "      <td>70.350000</td>\n",
       "      <td>1397.475000</td>\n",
       "      <td>NaN</td>\n",
       "      <td>0.000000</td>\n",
       "      <td>NaN</td>\n",
       "      <td>NaN</td>\n",
       "      <td>NaN</td>\n",
       "      <td>...</td>\n",
       "      <td>NaN</td>\n",
       "      <td>NaN</td>\n",
       "      <td>NaN</td>\n",
       "      <td>NaN</td>\n",
       "      <td>NaN</td>\n",
       "      <td>NaN</td>\n",
       "      <td>NaN</td>\n",
       "      <td>NaN</td>\n",
       "      <td>0.000000</td>\n",
       "      <td>883.000000</td>\n",
       "    </tr>\n",
       "    <tr>\n",
       "      <th>75%</th>\n",
       "      <td>NaN</td>\n",
       "      <td>NaN</td>\n",
       "      <td>NaN</td>\n",
       "      <td>89.862500</td>\n",
       "      <td>3794.737500</td>\n",
       "      <td>NaN</td>\n",
       "      <td>0.000000</td>\n",
       "      <td>NaN</td>\n",
       "      <td>NaN</td>\n",
       "      <td>NaN</td>\n",
       "      <td>...</td>\n",
       "      <td>NaN</td>\n",
       "      <td>NaN</td>\n",
       "      <td>NaN</td>\n",
       "      <td>NaN</td>\n",
       "      <td>NaN</td>\n",
       "      <td>NaN</td>\n",
       "      <td>NaN</td>\n",
       "      <td>NaN</td>\n",
       "      <td>1.000000</td>\n",
       "      <td>1676.000000</td>\n",
       "    </tr>\n",
       "    <tr>\n",
       "      <th>max</th>\n",
       "      <td>NaN</td>\n",
       "      <td>NaN</td>\n",
       "      <td>NaN</td>\n",
       "      <td>118.750000</td>\n",
       "      <td>8684.800000</td>\n",
       "      <td>NaN</td>\n",
       "      <td>1.000000</td>\n",
       "      <td>NaN</td>\n",
       "      <td>NaN</td>\n",
       "      <td>NaN</td>\n",
       "      <td>...</td>\n",
       "      <td>NaN</td>\n",
       "      <td>NaN</td>\n",
       "      <td>NaN</td>\n",
       "      <td>NaN</td>\n",
       "      <td>NaN</td>\n",
       "      <td>NaN</td>\n",
       "      <td>NaN</td>\n",
       "      <td>NaN</td>\n",
       "      <td>1.000000</td>\n",
       "      <td>2191.000000</td>\n",
       "    </tr>\n",
       "  </tbody>\n",
       "</table>\n",
       "<p>11 rows × 21 columns</p>\n",
       "</div>"
      ],
      "text/plain": [
       "                  Type PaperlessBilling     PaymentMethod  MonthlyCharges  \\\n",
       "count             7032             7032              7032     7032.000000   \n",
       "unique               3                2                 4             NaN   \n",
       "top     Month-to-month              Yes  Electronic check             NaN   \n",
       "freq              3875             4168              2365             NaN   \n",
       "mean               NaN              NaN               NaN       64.798208   \n",
       "std                NaN              NaN               NaN       30.085974   \n",
       "min                NaN              NaN               NaN       18.250000   \n",
       "25%                NaN              NaN               NaN       35.587500   \n",
       "50%                NaN              NaN               NaN       70.350000   \n",
       "75%                NaN              NaN               NaN       89.862500   \n",
       "max                NaN              NaN               NaN      118.750000   \n",
       "\n",
       "        TotalCharges gender  SeniorCitizen Partner Dependents InternetService  \\\n",
       "count    7032.000000   7032    7032.000000    7032       7032            7032   \n",
       "unique           NaN      2            NaN       2          2               3   \n",
       "top              NaN   Male            NaN      No         No     Fiber optic   \n",
       "freq             NaN   3549            NaN    3639       4933            3096   \n",
       "mean     2283.300441    NaN       0.162400     NaN        NaN             NaN   \n",
       "std      2266.771362    NaN       0.368844     NaN        NaN             NaN   \n",
       "min        18.800000    NaN       0.000000     NaN        NaN             NaN   \n",
       "25%       401.450000    NaN       0.000000     NaN        NaN             NaN   \n",
       "50%      1397.475000    NaN       0.000000     NaN        NaN             NaN   \n",
       "75%      3794.737500    NaN       0.000000     NaN        NaN             NaN   \n",
       "max      8684.800000    NaN       1.000000     NaN        NaN             NaN   \n",
       "\n",
       "        ... OnlineBackup DeviceProtection TechSupport StreamingTV  \\\n",
       "count   ...         7032             7032        7032        7032   \n",
       "unique  ...            2                2           2           2   \n",
       "top     ...           No               No          No          No   \n",
       "freq    ...         4607             4614        4992        4329   \n",
       "mean    ...          NaN              NaN         NaN         NaN   \n",
       "std     ...          NaN              NaN         NaN         NaN   \n",
       "min     ...          NaN              NaN         NaN         NaN   \n",
       "25%     ...          NaN              NaN         NaN         NaN   \n",
       "50%     ...          NaN              NaN         NaN         NaN   \n",
       "75%     ...          NaN              NaN         NaN         NaN   \n",
       "max     ...          NaN              NaN         NaN         NaN   \n",
       "\n",
       "       StreamingMovies internet MultipleLines phone         left     together  \n",
       "count             7032     7032          7032  7032  7032.000000  7032.000000  \n",
       "unique               2        2             2     2          NaN          NaN  \n",
       "top                 No      Yes            No   Yes          NaN          NaN  \n",
       "freq              4301     5512          4065  6352          NaN          NaN  \n",
       "mean               NaN      NaN           NaN   NaN     0.265785   987.538538  \n",
       "std                NaN      NaN           NaN   NaN     0.441782   747.153663  \n",
       "min                NaN      NaN           NaN   NaN     0.000000    30.000000  \n",
       "25%                NaN      NaN           NaN   NaN     0.000000   275.000000  \n",
       "50%                NaN      NaN           NaN   NaN     0.000000   883.000000  \n",
       "75%                NaN      NaN           NaN   NaN     1.000000  1676.000000  \n",
       "max                NaN      NaN           NaN   NaN     1.000000  2191.000000  \n",
       "\n",
       "[11 rows x 21 columns]"
      ]
     },
     "execution_count": 48,
     "metadata": {},
     "output_type": "execute_result"
    }
   ],
   "source": [
    "df.describe(include='all')"
   ]
  },
  {
   "cell_type": "code",
   "execution_count": 49,
   "metadata": {},
   "outputs": [],
   "source": [
    "def cat_type(df, col):\n",
    "    print(col)\n",
    "    print(df[col].unique())\n",
    "    print()\n",
    "    return df"
   ]
  },
  {
   "cell_type": "code",
   "execution_count": 50,
   "metadata": {},
   "outputs": [],
   "source": [
    "categorial = ['Type', 'InternetService', 'Partner', 'DeviceProtection', 'gender', 'OnlineBackup', 'Dependents',\n",
    "              'PaperlessBilling', 'StreamingTV','MultipleLines', 'SeniorCitizen', 'TechSupport','OnlineSecurity',\n",
    "              'StreamingMovies', 'PaymentMethod','phone', 'internet']"
   ]
  },
  {
   "cell_type": "code",
   "execution_count": 51,
   "metadata": {},
   "outputs": [
    {
     "name": "stdout",
     "output_type": "stream",
     "text": [
      "Type\n",
      "['Month-to-month' 'One year' 'Two year']\n",
      "\n",
      "InternetService\n",
      "['DSL' 'Fiber optic' 'No']\n",
      "\n",
      "Partner\n",
      "['Yes' 'No']\n",
      "\n",
      "DeviceProtection\n",
      "['No' 'Yes']\n",
      "\n",
      "gender\n",
      "['Female' 'Male']\n",
      "\n",
      "OnlineBackup\n",
      "['Yes' 'No']\n",
      "\n",
      "Dependents\n",
      "['No' 'Yes']\n",
      "\n",
      "PaperlessBilling\n",
      "['Yes' 'No']\n",
      "\n",
      "StreamingTV\n",
      "['No' 'Yes']\n",
      "\n",
      "MultipleLines\n",
      "['No' 'Yes']\n",
      "\n",
      "SeniorCitizen\n",
      "[0 1]\n",
      "\n",
      "TechSupport\n",
      "['No' 'Yes']\n",
      "\n",
      "OnlineSecurity\n",
      "['No' 'Yes']\n",
      "\n",
      "StreamingMovies\n",
      "['No' 'Yes']\n",
      "\n",
      "PaymentMethod\n",
      "['Electronic check' 'Mailed check' 'Bank transfer (automatic)'\n",
      " 'Credit card (automatic)']\n",
      "\n",
      "phone\n",
      "['No' 'Yes']\n",
      "\n",
      "internet\n",
      "['Yes' 'No']\n",
      "\n"
     ]
    }
   ],
   "source": [
    "for i in categorial:\n",
    "    cat_type(df, i)"
   ]
  },
  {
   "cell_type": "code",
   "execution_count": 52,
   "metadata": {},
   "outputs": [
    {
     "name": "stdout",
     "output_type": "stream",
     "text": [
      "<class 'pandas.core.frame.DataFrame'>\n",
      "Int64Index: 7032 entries, 0 to 7042\n",
      "Data columns (total 21 columns):\n",
      " #   Column            Non-Null Count  Dtype  \n",
      "---  ------            --------------  -----  \n",
      " 0   Type              7032 non-null   object \n",
      " 1   PaperlessBilling  7032 non-null   object \n",
      " 2   PaymentMethod     7032 non-null   object \n",
      " 3   MonthlyCharges    7032 non-null   float64\n",
      " 4   TotalCharges      7032 non-null   float64\n",
      " 5   gender            7032 non-null   object \n",
      " 6   SeniorCitizen     7032 non-null   int64  \n",
      " 7   Partner           7032 non-null   object \n",
      " 8   Dependents        7032 non-null   object \n",
      " 9   InternetService   7032 non-null   object \n",
      " 10  OnlineSecurity    7032 non-null   object \n",
      " 11  OnlineBackup      7032 non-null   object \n",
      " 12  DeviceProtection  7032 non-null   object \n",
      " 13  TechSupport       7032 non-null   object \n",
      " 14  StreamingTV       7032 non-null   object \n",
      " 15  StreamingMovies   7032 non-null   object \n",
      " 16  internet          7032 non-null   object \n",
      " 17  MultipleLines     7032 non-null   object \n",
      " 18  phone             7032 non-null   object \n",
      " 19  left              7032 non-null   int64  \n",
      " 20  together          7032 non-null   int64  \n",
      "dtypes: float64(2), int64(3), object(16)\n",
      "memory usage: 1.2+ MB\n"
     ]
    }
   ],
   "source": [
    "df.info()"
   ]
  },
  {
   "cell_type": "code",
   "execution_count": 53,
   "metadata": {},
   "outputs": [],
   "source": [
    "df = pd.get_dummies(df, drop_first=True).astype(int)"
   ]
  },
  {
   "cell_type": "code",
   "execution_count": 54,
   "metadata": {},
   "outputs": [],
   "source": [
    "## df = df.drop(columns=['Partner_Yes', 'DeviceProtection_Yes','PaymentMethod_Credit card (automatic)','internet_Yes', 'OnlineBackup_Yes','Dependents_Yes'])"
   ]
  },
  {
   "cell_type": "markdown",
   "metadata": {},
   "source": [
    "Убрал признаки, которые особо не понадобятся в дальнейшей работе"
   ]
  },
  {
   "cell_type": "code",
   "execution_count": 55,
   "metadata": {},
   "outputs": [
    {
     "data": {
      "text/plain": [
       "0.6511252380434779"
      ]
     },
     "execution_count": 55,
     "metadata": {},
     "output_type": "execute_result"
    }
   ],
   "source": [
    "df['MonthlyCharges'].corr(df['TotalCharges'])"
   ]
  },
  {
   "cell_type": "markdown",
   "metadata": {},
   "source": [
    "Наблюдаем небольшую корреляцию, методом проб и ошибок будем перебором выбирать, как лучше"
   ]
  },
  {
   "cell_type": "code",
   "execution_count": 56,
   "metadata": {},
   "outputs": [],
   "source": [
    "df = df.drop(columns=['MonthlyCharges'])"
   ]
  },
  {
   "cell_type": "code",
   "execution_count": 57,
   "metadata": {},
   "outputs": [
    {
     "data": {
      "text/html": [
       "<div>\n",
       "<style scoped>\n",
       "    .dataframe tbody tr th:only-of-type {\n",
       "        vertical-align: middle;\n",
       "    }\n",
       "\n",
       "    .dataframe tbody tr th {\n",
       "        vertical-align: top;\n",
       "    }\n",
       "\n",
       "    .dataframe thead th {\n",
       "        text-align: right;\n",
       "    }\n",
       "</style>\n",
       "<table border=\"1\" class=\"dataframe\">\n",
       "  <thead>\n",
       "    <tr style=\"text-align: right;\">\n",
       "      <th></th>\n",
       "      <th>TotalCharges</th>\n",
       "      <th>SeniorCitizen</th>\n",
       "      <th>left</th>\n",
       "      <th>together</th>\n",
       "      <th>Type_One year</th>\n",
       "      <th>Type_Two year</th>\n",
       "      <th>PaperlessBilling_Yes</th>\n",
       "      <th>PaymentMethod_Credit card (automatic)</th>\n",
       "      <th>PaymentMethod_Electronic check</th>\n",
       "      <th>PaymentMethod_Mailed check</th>\n",
       "      <th>...</th>\n",
       "      <th>InternetService_No</th>\n",
       "      <th>OnlineSecurity_Yes</th>\n",
       "      <th>OnlineBackup_Yes</th>\n",
       "      <th>DeviceProtection_Yes</th>\n",
       "      <th>TechSupport_Yes</th>\n",
       "      <th>StreamingTV_Yes</th>\n",
       "      <th>StreamingMovies_Yes</th>\n",
       "      <th>internet_Yes</th>\n",
       "      <th>MultipleLines_Yes</th>\n",
       "      <th>phone_Yes</th>\n",
       "    </tr>\n",
       "  </thead>\n",
       "  <tbody>\n",
       "    <tr>\n",
       "      <th>0</th>\n",
       "      <td>29</td>\n",
       "      <td>0</td>\n",
       "      <td>0</td>\n",
       "      <td>31</td>\n",
       "      <td>0</td>\n",
       "      <td>0</td>\n",
       "      <td>1</td>\n",
       "      <td>0</td>\n",
       "      <td>1</td>\n",
       "      <td>0</td>\n",
       "      <td>...</td>\n",
       "      <td>0</td>\n",
       "      <td>0</td>\n",
       "      <td>1</td>\n",
       "      <td>0</td>\n",
       "      <td>0</td>\n",
       "      <td>0</td>\n",
       "      <td>0</td>\n",
       "      <td>1</td>\n",
       "      <td>0</td>\n",
       "      <td>0</td>\n",
       "    </tr>\n",
       "    <tr>\n",
       "      <th>1</th>\n",
       "      <td>1889</td>\n",
       "      <td>0</td>\n",
       "      <td>0</td>\n",
       "      <td>1036</td>\n",
       "      <td>1</td>\n",
       "      <td>0</td>\n",
       "      <td>0</td>\n",
       "      <td>0</td>\n",
       "      <td>0</td>\n",
       "      <td>1</td>\n",
       "      <td>...</td>\n",
       "      <td>0</td>\n",
       "      <td>1</td>\n",
       "      <td>0</td>\n",
       "      <td>1</td>\n",
       "      <td>0</td>\n",
       "      <td>0</td>\n",
       "      <td>0</td>\n",
       "      <td>1</td>\n",
       "      <td>0</td>\n",
       "      <td>1</td>\n",
       "    </tr>\n",
       "    <tr>\n",
       "      <th>2</th>\n",
       "      <td>108</td>\n",
       "      <td>0</td>\n",
       "      <td>1</td>\n",
       "      <td>61</td>\n",
       "      <td>0</td>\n",
       "      <td>0</td>\n",
       "      <td>1</td>\n",
       "      <td>0</td>\n",
       "      <td>0</td>\n",
       "      <td>1</td>\n",
       "      <td>...</td>\n",
       "      <td>0</td>\n",
       "      <td>1</td>\n",
       "      <td>1</td>\n",
       "      <td>0</td>\n",
       "      <td>0</td>\n",
       "      <td>0</td>\n",
       "      <td>0</td>\n",
       "      <td>1</td>\n",
       "      <td>0</td>\n",
       "      <td>1</td>\n",
       "    </tr>\n",
       "    <tr>\n",
       "      <th>3</th>\n",
       "      <td>1840</td>\n",
       "      <td>0</td>\n",
       "      <td>0</td>\n",
       "      <td>1371</td>\n",
       "      <td>1</td>\n",
       "      <td>0</td>\n",
       "      <td>0</td>\n",
       "      <td>0</td>\n",
       "      <td>0</td>\n",
       "      <td>0</td>\n",
       "      <td>...</td>\n",
       "      <td>0</td>\n",
       "      <td>1</td>\n",
       "      <td>0</td>\n",
       "      <td>1</td>\n",
       "      <td>1</td>\n",
       "      <td>0</td>\n",
       "      <td>0</td>\n",
       "      <td>1</td>\n",
       "      <td>0</td>\n",
       "      <td>0</td>\n",
       "    </tr>\n",
       "    <tr>\n",
       "      <th>4</th>\n",
       "      <td>151</td>\n",
       "      <td>0</td>\n",
       "      <td>1</td>\n",
       "      <td>61</td>\n",
       "      <td>0</td>\n",
       "      <td>0</td>\n",
       "      <td>1</td>\n",
       "      <td>0</td>\n",
       "      <td>1</td>\n",
       "      <td>0</td>\n",
       "      <td>...</td>\n",
       "      <td>0</td>\n",
       "      <td>0</td>\n",
       "      <td>0</td>\n",
       "      <td>0</td>\n",
       "      <td>0</td>\n",
       "      <td>0</td>\n",
       "      <td>0</td>\n",
       "      <td>1</td>\n",
       "      <td>0</td>\n",
       "      <td>1</td>\n",
       "    </tr>\n",
       "    <tr>\n",
       "      <th>...</th>\n",
       "      <td>...</td>\n",
       "      <td>...</td>\n",
       "      <td>...</td>\n",
       "      <td>...</td>\n",
       "      <td>...</td>\n",
       "      <td>...</td>\n",
       "      <td>...</td>\n",
       "      <td>...</td>\n",
       "      <td>...</td>\n",
       "      <td>...</td>\n",
       "      <td>...</td>\n",
       "      <td>...</td>\n",
       "      <td>...</td>\n",
       "      <td>...</td>\n",
       "      <td>...</td>\n",
       "      <td>...</td>\n",
       "      <td>...</td>\n",
       "      <td>...</td>\n",
       "      <td>...</td>\n",
       "      <td>...</td>\n",
       "      <td>...</td>\n",
       "    </tr>\n",
       "    <tr>\n",
       "      <th>7038</th>\n",
       "      <td>1990</td>\n",
       "      <td>0</td>\n",
       "      <td>0</td>\n",
       "      <td>730</td>\n",
       "      <td>1</td>\n",
       "      <td>0</td>\n",
       "      <td>1</td>\n",
       "      <td>0</td>\n",
       "      <td>0</td>\n",
       "      <td>1</td>\n",
       "      <td>...</td>\n",
       "      <td>0</td>\n",
       "      <td>1</td>\n",
       "      <td>0</td>\n",
       "      <td>1</td>\n",
       "      <td>1</td>\n",
       "      <td>1</td>\n",
       "      <td>1</td>\n",
       "      <td>1</td>\n",
       "      <td>1</td>\n",
       "      <td>1</td>\n",
       "    </tr>\n",
       "    <tr>\n",
       "      <th>7039</th>\n",
       "      <td>7362</td>\n",
       "      <td>0</td>\n",
       "      <td>0</td>\n",
       "      <td>2191</td>\n",
       "      <td>1</td>\n",
       "      <td>0</td>\n",
       "      <td>1</td>\n",
       "      <td>1</td>\n",
       "      <td>0</td>\n",
       "      <td>0</td>\n",
       "      <td>...</td>\n",
       "      <td>0</td>\n",
       "      <td>0</td>\n",
       "      <td>1</td>\n",
       "      <td>1</td>\n",
       "      <td>0</td>\n",
       "      <td>1</td>\n",
       "      <td>1</td>\n",
       "      <td>1</td>\n",
       "      <td>1</td>\n",
       "      <td>1</td>\n",
       "    </tr>\n",
       "    <tr>\n",
       "      <th>7040</th>\n",
       "      <td>346</td>\n",
       "      <td>0</td>\n",
       "      <td>0</td>\n",
       "      <td>337</td>\n",
       "      <td>0</td>\n",
       "      <td>0</td>\n",
       "      <td>1</td>\n",
       "      <td>0</td>\n",
       "      <td>1</td>\n",
       "      <td>0</td>\n",
       "      <td>...</td>\n",
       "      <td>0</td>\n",
       "      <td>1</td>\n",
       "      <td>0</td>\n",
       "      <td>0</td>\n",
       "      <td>0</td>\n",
       "      <td>0</td>\n",
       "      <td>0</td>\n",
       "      <td>1</td>\n",
       "      <td>0</td>\n",
       "      <td>0</td>\n",
       "    </tr>\n",
       "    <tr>\n",
       "      <th>7041</th>\n",
       "      <td>306</td>\n",
       "      <td>1</td>\n",
       "      <td>1</td>\n",
       "      <td>123</td>\n",
       "      <td>0</td>\n",
       "      <td>0</td>\n",
       "      <td>1</td>\n",
       "      <td>0</td>\n",
       "      <td>0</td>\n",
       "      <td>1</td>\n",
       "      <td>...</td>\n",
       "      <td>0</td>\n",
       "      <td>0</td>\n",
       "      <td>0</td>\n",
       "      <td>0</td>\n",
       "      <td>0</td>\n",
       "      <td>0</td>\n",
       "      <td>0</td>\n",
       "      <td>1</td>\n",
       "      <td>1</td>\n",
       "      <td>1</td>\n",
       "    </tr>\n",
       "    <tr>\n",
       "      <th>7042</th>\n",
       "      <td>6844</td>\n",
       "      <td>0</td>\n",
       "      <td>0</td>\n",
       "      <td>2010</td>\n",
       "      <td>0</td>\n",
       "      <td>1</td>\n",
       "      <td>1</td>\n",
       "      <td>0</td>\n",
       "      <td>0</td>\n",
       "      <td>0</td>\n",
       "      <td>...</td>\n",
       "      <td>0</td>\n",
       "      <td>1</td>\n",
       "      <td>0</td>\n",
       "      <td>1</td>\n",
       "      <td>1</td>\n",
       "      <td>1</td>\n",
       "      <td>1</td>\n",
       "      <td>1</td>\n",
       "      <td>0</td>\n",
       "      <td>1</td>\n",
       "    </tr>\n",
       "  </tbody>\n",
       "</table>\n",
       "<p>7032 rows × 24 columns</p>\n",
       "</div>"
      ],
      "text/plain": [
       "      TotalCharges  SeniorCitizen  left  together  Type_One year  \\\n",
       "0               29              0     0        31              0   \n",
       "1             1889              0     0      1036              1   \n",
       "2              108              0     1        61              0   \n",
       "3             1840              0     0      1371              1   \n",
       "4              151              0     1        61              0   \n",
       "...            ...            ...   ...       ...            ...   \n",
       "7038          1990              0     0       730              1   \n",
       "7039          7362              0     0      2191              1   \n",
       "7040           346              0     0       337              0   \n",
       "7041           306              1     1       123              0   \n",
       "7042          6844              0     0      2010              0   \n",
       "\n",
       "      Type_Two year  PaperlessBilling_Yes  \\\n",
       "0                 0                     1   \n",
       "1                 0                     0   \n",
       "2                 0                     1   \n",
       "3                 0                     0   \n",
       "4                 0                     1   \n",
       "...             ...                   ...   \n",
       "7038              0                     1   \n",
       "7039              0                     1   \n",
       "7040              0                     1   \n",
       "7041              0                     1   \n",
       "7042              1                     1   \n",
       "\n",
       "      PaymentMethod_Credit card (automatic)  PaymentMethod_Electronic check  \\\n",
       "0                                         0                               1   \n",
       "1                                         0                               0   \n",
       "2                                         0                               0   \n",
       "3                                         0                               0   \n",
       "4                                         0                               1   \n",
       "...                                     ...                             ...   \n",
       "7038                                      0                               0   \n",
       "7039                                      1                               0   \n",
       "7040                                      0                               1   \n",
       "7041                                      0                               0   \n",
       "7042                                      0                               0   \n",
       "\n",
       "      PaymentMethod_Mailed check  ...  InternetService_No  OnlineSecurity_Yes  \\\n",
       "0                              0  ...                   0                   0   \n",
       "1                              1  ...                   0                   1   \n",
       "2                              1  ...                   0                   1   \n",
       "3                              0  ...                   0                   1   \n",
       "4                              0  ...                   0                   0   \n",
       "...                          ...  ...                 ...                 ...   \n",
       "7038                           1  ...                   0                   1   \n",
       "7039                           0  ...                   0                   0   \n",
       "7040                           0  ...                   0                   1   \n",
       "7041                           1  ...                   0                   0   \n",
       "7042                           0  ...                   0                   1   \n",
       "\n",
       "      OnlineBackup_Yes  DeviceProtection_Yes  TechSupport_Yes  \\\n",
       "0                    1                     0                0   \n",
       "1                    0                     1                0   \n",
       "2                    1                     0                0   \n",
       "3                    0                     1                1   \n",
       "4                    0                     0                0   \n",
       "...                ...                   ...              ...   \n",
       "7038                 0                     1                1   \n",
       "7039                 1                     1                0   \n",
       "7040                 0                     0                0   \n",
       "7041                 0                     0                0   \n",
       "7042                 0                     1                1   \n",
       "\n",
       "      StreamingTV_Yes  StreamingMovies_Yes  internet_Yes  MultipleLines_Yes  \\\n",
       "0                   0                    0             1                  0   \n",
       "1                   0                    0             1                  0   \n",
       "2                   0                    0             1                  0   \n",
       "3                   0                    0             1                  0   \n",
       "4                   0                    0             1                  0   \n",
       "...               ...                  ...           ...                ...   \n",
       "7038                1                    1             1                  1   \n",
       "7039                1                    1             1                  1   \n",
       "7040                0                    0             1                  0   \n",
       "7041                0                    0             1                  1   \n",
       "7042                1                    1             1                  0   \n",
       "\n",
       "      phone_Yes  \n",
       "0             0  \n",
       "1             1  \n",
       "2             1  \n",
       "3             0  \n",
       "4             1  \n",
       "...         ...  \n",
       "7038          1  \n",
       "7039          1  \n",
       "7040          0  \n",
       "7041          1  \n",
       "7042          1  \n",
       "\n",
       "[7032 rows x 24 columns]"
      ]
     },
     "execution_count": 57,
     "metadata": {},
     "output_type": "execute_result"
    }
   ],
   "source": [
    "df"
   ]
  },
  {
   "cell_type": "code",
   "execution_count": 58,
   "metadata": {},
   "outputs": [
    {
     "data": {
      "text/plain": [
       "[0.26578498293515357, 0.7342150170648465]"
      ]
     },
     "execution_count": 58,
     "metadata": {},
     "output_type": "execute_result"
    }
   ],
   "source": [
    "one_class_waight = df.loc[df['left'] == 1].shape[0] / df['left'].shape[0]\n",
    "zero_class_waight = 1 - one_class_waight\n",
    "class_waights = [ one_class_waight, zero_class_waight]\n",
    "class_waights"
   ]
  },
  {
   "cell_type": "markdown",
   "metadata": {},
   "source": [
    "Существует дисбаланс классов целевого признака"
   ]
  },
  {
   "cell_type": "code",
   "execution_count": 59,
   "metadata": {},
   "outputs": [],
   "source": [
    "train,test = train_test_split(df, test_size=0.25, random_state = 120922, stratify= df['left'])"
   ]
  },
  {
   "cell_type": "code",
   "execution_count": 60,
   "metadata": {},
   "outputs": [],
   "source": [
    "def features_target_split(df,target):\n",
    "    features = df.drop(target, axis=1)\n",
    "    target = df[target]\n",
    "    return features, target"
   ]
  },
  {
   "cell_type": "code",
   "execution_count": 61,
   "metadata": {},
   "outputs": [],
   "source": [
    "features_test, target_test = features_target_split(test,'left')\n",
    "features_train, target_train = features_target_split(train,'left')"
   ]
  },
  {
   "cell_type": "markdown",
   "metadata": {},
   "source": [
    "## Подбор моделей "
   ]
  },
  {
   "cell_type": "code",
   "execution_count": 62,
   "metadata": {},
   "outputs": [],
   "source": [
    "models_scors = pd.DataFrame(columns = ['model', 'roc_auc'])"
   ]
  },
  {
   "cell_type": "markdown",
   "metadata": {},
   "source": [
    "**RFC**"
   ]
  },
  {
   "cell_type": "code",
   "execution_count": 63,
   "metadata": {
    "scrolled": true
   },
   "outputs": [
    {
     "name": "stdout",
     "output_type": "stream",
     "text": [
      "Fitting 3 folds for each of 1 candidates, totalling 3 fits\n",
      "CPU times: user 2.71 s, sys: 16 ms, total: 2.73 s\n",
      "Wall time: 2.74 s\n"
     ]
    },
    {
     "data": {
      "text/plain": [
       "{'max_depth': 7, 'n_estimators': 270}"
      ]
     },
     "execution_count": 63,
     "metadata": {},
     "output_type": "execute_result"
    }
   ],
   "source": [
    "%%time\n",
    "RF_model = RandomForestClassifier(random_state=120922, class_weight='balanced')\n",
    "\n",
    "parameters = [{'max_depth': [7],\n",
    "               'n_estimators': [270]}]\n",
    "\n",
    "RF_model_gscv = GridSearchCV(RF_model, param_grid=parameters, scoring='roc_auc', \n",
    "                   cv=3, verbose=True)\n",
    "RF_model_gscv.fit(features_train, target_train)\n",
    "\n",
    "models_scors = models_scors.append({'model' : 'RandomForest',\n",
    "                     'roc_auc' : RF_model_gscv.best_score_}, ignore_index=True)\n",
    "\n",
    "RF_model_gscv.best_params_"
   ]
  },
  {
   "cell_type": "markdown",
   "metadata": {},
   "source": [
    "**CBC**"
   ]
  },
  {
   "cell_type": "code",
   "execution_count": 64,
   "metadata": {},
   "outputs": [
    {
     "name": "stdout",
     "output_type": "stream",
     "text": [
      "Fitting 3 folds for each of 1 candidates, totalling 3 fits\n",
      "CPU times: user 2.51 s, sys: 200 ms, total: 2.71 s\n",
      "Wall time: 19.5 s\n"
     ]
    },
    {
     "data": {
      "text/plain": [
       "{'learning_rate': 0.3, 'max_depth': 2, 'n_estimators': 800}"
      ]
     },
     "execution_count": 64,
     "metadata": {},
     "output_type": "execute_result"
    }
   ],
   "source": [
    "%%time\n",
    "CBC_model = CatBoostClassifier(random_state=120922, silent=True, class_weights=class_waights)\n",
    "\n",
    "parameters = [{'max_depth': [2],\n",
    "               'learning_rate': [0.3],\n",
    "               'n_estimators': [800]}]\n",
    "\n",
    "CBC_model_gscv = GridSearchCV(CBC_model, param_grid=parameters, scoring='roc_auc', \n",
    "                   cv=3, verbose=True, n_jobs=-1)\n",
    "CBC_model_gscv.fit(features_train, target_train)\n",
    "\n",
    "models_scors = models_scors.append({'model' : 'CatBoostClassifier',\n",
    "                     'roc_auc' : CBC_model_gscv.best_score_}, ignore_index=True)\n",
    "\n",
    "CBC_model_gscv.best_params_"
   ]
  },
  {
   "cell_type": "markdown",
   "metadata": {},
   "source": [
    "**LGBM**"
   ]
  },
  {
   "cell_type": "code",
   "execution_count": 65,
   "metadata": {},
   "outputs": [
    {
     "name": "stdout",
     "output_type": "stream",
     "text": [
      "Fitting 3 folds for each of 1 candidates, totalling 3 fits\n",
      "CPU times: user 38 s, sys: 367 ms, total: 38.4 s\n",
      "Wall time: 38.6 s\n"
     ]
    },
    {
     "data": {
      "text/plain": [
       "{'learning_rate': 0.1, 'max_depth': 2, 'n_estimators': 700}"
      ]
     },
     "execution_count": 65,
     "metadata": {},
     "output_type": "execute_result"
    }
   ],
   "source": [
    "%%time\n",
    "LGBMC_model = LGBMClassifier(random_state=120922, class_weight='balanced')\n",
    "\n",
    "parameters = [{'max_depth': [2],\n",
    "               'learning_rate': [0.1],\n",
    "               'n_estimators': [700]}]\n",
    "\n",
    "LGBMC_model_gscv = GridSearchCV(LGBMC_model, param_grid=parameters, scoring='roc_auc', \n",
    "                   cv=3, verbose=True)\n",
    "LGBMC_model_gscv.fit(features_train, target_train)\n",
    "\n",
    "models_scors = models_scors.append({'model' : 'LGBMClassifier',\n",
    "                     'roc_auc' : LGBMC_model_gscv.best_score_ }, ignore_index=True)\n",
    "\n",
    "LGBMC_model_gscv.best_params_"
   ]
  },
  {
   "cell_type": "code",
   "execution_count": 66,
   "metadata": {},
   "outputs": [
    {
     "data": {
      "text/html": [
       "<div>\n",
       "<style scoped>\n",
       "    .dataframe tbody tr th:only-of-type {\n",
       "        vertical-align: middle;\n",
       "    }\n",
       "\n",
       "    .dataframe tbody tr th {\n",
       "        vertical-align: top;\n",
       "    }\n",
       "\n",
       "    .dataframe thead th {\n",
       "        text-align: right;\n",
       "    }\n",
       "</style>\n",
       "<table border=\"1\" class=\"dataframe\">\n",
       "  <thead>\n",
       "    <tr style=\"text-align: right;\">\n",
       "      <th></th>\n",
       "      <th>model</th>\n",
       "      <th>roc_auc</th>\n",
       "    </tr>\n",
       "  </thead>\n",
       "  <tbody>\n",
       "    <tr>\n",
       "      <th>0</th>\n",
       "      <td>RandomForest</td>\n",
       "      <td>0.855420</td>\n",
       "    </tr>\n",
       "    <tr>\n",
       "      <th>1</th>\n",
       "      <td>CatBoostClassifier</td>\n",
       "      <td>0.920580</td>\n",
       "    </tr>\n",
       "    <tr>\n",
       "      <th>2</th>\n",
       "      <td>LGBMClassifier</td>\n",
       "      <td>0.900848</td>\n",
       "    </tr>\n",
       "  </tbody>\n",
       "</table>\n",
       "</div>"
      ],
      "text/plain": [
       "                model   roc_auc\n",
       "0        RandomForest  0.855420\n",
       "1  CatBoostClassifier  0.920580\n",
       "2      LGBMClassifier  0.900848"
      ]
     },
     "execution_count": 66,
     "metadata": {},
     "output_type": "execute_result"
    }
   ],
   "source": [
    "models_scors"
   ]
  },
  {
   "cell_type": "markdown",
   "metadata": {},
   "source": [
    "CBC показал лучший результат - подбираем параметры для него"
   ]
  },
  {
   "cell_type": "markdown",
   "metadata": {},
   "source": [
    "### Подбор гиперпараметров "
   ]
  },
  {
   "cell_type": "code",
   "execution_count": 67,
   "metadata": {},
   "outputs": [
    {
     "name": "stdout",
     "output_type": "stream",
     "text": [
      "Fitting 3 folds for each of 1 candidates, totalling 3 fits\n",
      "CPU times: user 2.48 s, sys: 200 ms, total: 2.68 s\n",
      "Wall time: 13.9 s\n"
     ]
    },
    {
     "data": {
      "text/plain": [
       "{'learning_rate': 0.3, 'max_depth': 2, 'n_estimators': 800}"
      ]
     },
     "execution_count": 67,
     "metadata": {},
     "output_type": "execute_result"
    }
   ],
   "source": [
    "%%time\n",
    "CBC_model = CatBoostClassifier(random_state=120922, silent=True, class_weights=class_waights)\n",
    "\n",
    "parameters = [{'max_depth': [2],\n",
    "               'learning_rate': [0.3],\n",
    "               'n_estimators': [800]}]\n",
    "\n",
    "CBC_model_gscv = GridSearchCV(CBC_model, param_grid=parameters, scoring='roc_auc', \n",
    "                   cv=3, verbose=True, n_jobs=-1)\n",
    "CBC_model_gscv.fit(features_train, target_train)\n",
    "\n",
    "\n",
    "CBC_model_gscv.best_params_"
   ]
  },
  {
   "cell_type": "code",
   "execution_count": 68,
   "metadata": {},
   "outputs": [
    {
     "data": {
      "text/plain": [
       "0.9205795564400958"
      ]
     },
     "execution_count": 68,
     "metadata": {},
     "output_type": "execute_result"
    }
   ],
   "source": [
    "CBC_model_gscv.best_score_"
   ]
  },
  {
   "cell_type": "code",
   "execution_count": 69,
   "metadata": {},
   "outputs": [
    {
     "data": {
      "text/html": [
       "<div>\n",
       "<style scoped>\n",
       "    .dataframe tbody tr th:only-of-type {\n",
       "        vertical-align: middle;\n",
       "    }\n",
       "\n",
       "    .dataframe tbody tr th {\n",
       "        vertical-align: top;\n",
       "    }\n",
       "\n",
       "    .dataframe thead th {\n",
       "        text-align: right;\n",
       "    }\n",
       "</style>\n",
       "<table border=\"1\" class=\"dataframe\">\n",
       "  <thead>\n",
       "    <tr style=\"text-align: right;\">\n",
       "      <th></th>\n",
       "      <th>name</th>\n",
       "      <th>importance</th>\n",
       "    </tr>\n",
       "  </thead>\n",
       "  <tbody>\n",
       "    <tr>\n",
       "      <th>2</th>\n",
       "      <td>together</td>\n",
       "      <td>75.550435</td>\n",
       "    </tr>\n",
       "    <tr>\n",
       "      <th>0</th>\n",
       "      <td>TotalCharges</td>\n",
       "      <td>7.512178</td>\n",
       "    </tr>\n",
       "    <tr>\n",
       "      <th>4</th>\n",
       "      <td>Type_Two year</td>\n",
       "      <td>5.632345</td>\n",
       "    </tr>\n",
       "    <tr>\n",
       "      <th>12</th>\n",
       "      <td>InternetService_Fiber optic</td>\n",
       "      <td>2.691443</td>\n",
       "    </tr>\n",
       "    <tr>\n",
       "      <th>3</th>\n",
       "      <td>Type_One year</td>\n",
       "      <td>1.814518</td>\n",
       "    </tr>\n",
       "    <tr>\n",
       "      <th>20</th>\n",
       "      <td>internet_Yes</td>\n",
       "      <td>1.221754</td>\n",
       "    </tr>\n",
       "    <tr>\n",
       "      <th>7</th>\n",
       "      <td>PaymentMethod_Electronic check</td>\n",
       "      <td>0.860702</td>\n",
       "    </tr>\n",
       "    <tr>\n",
       "      <th>18</th>\n",
       "      <td>StreamingTV_Yes</td>\n",
       "      <td>0.548591</td>\n",
       "    </tr>\n",
       "    <tr>\n",
       "      <th>22</th>\n",
       "      <td>phone_Yes</td>\n",
       "      <td>0.522024</td>\n",
       "    </tr>\n",
       "    <tr>\n",
       "      <th>14</th>\n",
       "      <td>OnlineSecurity_Yes</td>\n",
       "      <td>0.456450</td>\n",
       "    </tr>\n",
       "    <tr>\n",
       "      <th>19</th>\n",
       "      <td>StreamingMovies_Yes</td>\n",
       "      <td>0.454658</td>\n",
       "    </tr>\n",
       "    <tr>\n",
       "      <th>5</th>\n",
       "      <td>PaperlessBilling_Yes</td>\n",
       "      <td>0.412740</td>\n",
       "    </tr>\n",
       "    <tr>\n",
       "      <th>9</th>\n",
       "      <td>gender_Male</td>\n",
       "      <td>0.368896</td>\n",
       "    </tr>\n",
       "    <tr>\n",
       "      <th>17</th>\n",
       "      <td>TechSupport_Yes</td>\n",
       "      <td>0.295164</td>\n",
       "    </tr>\n",
       "    <tr>\n",
       "      <th>1</th>\n",
       "      <td>SeniorCitizen</td>\n",
       "      <td>0.284089</td>\n",
       "    </tr>\n",
       "    <tr>\n",
       "      <th>21</th>\n",
       "      <td>MultipleLines_Yes</td>\n",
       "      <td>0.269240</td>\n",
       "    </tr>\n",
       "    <tr>\n",
       "      <th>8</th>\n",
       "      <td>PaymentMethod_Mailed check</td>\n",
       "      <td>0.244460</td>\n",
       "    </tr>\n",
       "    <tr>\n",
       "      <th>11</th>\n",
       "      <td>Dependents_Yes</td>\n",
       "      <td>0.199411</td>\n",
       "    </tr>\n",
       "    <tr>\n",
       "      <th>10</th>\n",
       "      <td>Partner_Yes</td>\n",
       "      <td>0.191921</td>\n",
       "    </tr>\n",
       "    <tr>\n",
       "      <th>16</th>\n",
       "      <td>DeviceProtection_Yes</td>\n",
       "      <td>0.188708</td>\n",
       "    </tr>\n",
       "    <tr>\n",
       "      <th>6</th>\n",
       "      <td>PaymentMethod_Credit card (automatic)</td>\n",
       "      <td>0.159854</td>\n",
       "    </tr>\n",
       "    <tr>\n",
       "      <th>15</th>\n",
       "      <td>OnlineBackup_Yes</td>\n",
       "      <td>0.093111</td>\n",
       "    </tr>\n",
       "    <tr>\n",
       "      <th>13</th>\n",
       "      <td>InternetService_No</td>\n",
       "      <td>0.027308</td>\n",
       "    </tr>\n",
       "  </tbody>\n",
       "</table>\n",
       "</div>"
      ],
      "text/plain": [
       "                                     name  importance\n",
       "2                                together   75.550435\n",
       "0                            TotalCharges    7.512178\n",
       "4                           Type_Two year    5.632345\n",
       "12            InternetService_Fiber optic    2.691443\n",
       "3                           Type_One year    1.814518\n",
       "20                           internet_Yes    1.221754\n",
       "7          PaymentMethod_Electronic check    0.860702\n",
       "18                        StreamingTV_Yes    0.548591\n",
       "22                              phone_Yes    0.522024\n",
       "14                     OnlineSecurity_Yes    0.456450\n",
       "19                    StreamingMovies_Yes    0.454658\n",
       "5                    PaperlessBilling_Yes    0.412740\n",
       "9                             gender_Male    0.368896\n",
       "17                        TechSupport_Yes    0.295164\n",
       "1                           SeniorCitizen    0.284089\n",
       "21                      MultipleLines_Yes    0.269240\n",
       "8              PaymentMethod_Mailed check    0.244460\n",
       "11                         Dependents_Yes    0.199411\n",
       "10                            Partner_Yes    0.191921\n",
       "16                   DeviceProtection_Yes    0.188708\n",
       "6   PaymentMethod_Credit card (automatic)    0.159854\n",
       "15                       OnlineBackup_Yes    0.093111\n",
       "13                     InternetService_No    0.027308"
      ]
     },
     "execution_count": 69,
     "metadata": {},
     "output_type": "execute_result"
    }
   ],
   "source": [
    "features_train_importance = pd.DataFrame({'name' : features_train.columns,\n",
    "                                          'importance' : CBC_model_gscv.best_estimator_.feature_importances_})\n",
    "features_train_importance = features_train_importance.sort_values('importance', ascending=False)\n",
    "features_train_importance"
   ]
  },
  {
   "cell_type": "markdown",
   "metadata": {},
   "source": [
    "## Тест"
   ]
  },
  {
   "cell_type": "code",
   "execution_count": 70,
   "metadata": {},
   "outputs": [
    {
     "name": "stdout",
     "output_type": "stream",
     "text": [
      "ROC-AUC : 0.93\n"
     ]
    }
   ],
   "source": [
    "print('ROC-AUC : {:.2f}'.format(roc_auc_score(target_test,\n",
    "                                        CBC_model_gscv.best_estimator_.predict_proba(features_test)[:, 1])))"
   ]
  },
  {
   "cell_type": "code",
   "execution_count": 71,
   "metadata": {},
   "outputs": [
    {
     "name": "stdout",
     "output_type": "stream",
     "text": [
      "Accuracy : 86.41%\n"
     ]
    }
   ],
   "source": [
    "print('Accuracy : {:.2%}'.format(accuracy_score(target_test,\n",
    "                                                CBC_model_gscv.best_estimator_.predict(features_test))))"
   ]
  },
  {
   "cell_type": "code",
   "execution_count": 72,
   "metadata": {},
   "outputs": [
    {
     "data": {
      "image/png": "[encoded data removed]",
      "text/plain": [
       "<Figure size 576x576 with 1 Axes>"
      ]
     },
     "metadata": {
      "needs_background": "light"
     },
     "output_type": "display_data"
    }
   ],
   "source": [
    "fpr, tpr, thresholds = roc_curve(target_test, CBC_model_gscv.best_estimator_.predict_proba(features_test)[:, 1])\n",
    "\n",
    "plt.figure(figsize=(8,8))\n",
    "plt.plot(fpr, tpr)\n",
    "plt.plot([0, 1], [0, 1], linestyle='--')\n",
    "plt.xlim([0.0,1.0])\n",
    "plt.ylim([0.0,1.0])\n",
    "plt.xlabel('False Positive Rate')\n",
    "plt.ylabel('True Positive Rate')\n",
    "plt.title('ROC-кривая')\n",
    "plt.show()"
   ]
  },
  {
   "cell_type": "markdown",
   "metadata": {},
   "source": [
    "Площадь составила 0.93, точность 86.41%\n",
    "Продолжительность пользования - явилась самым важным признаком"
   ]
  },
  {
   "cell_type": "markdown",
   "metadata": {},
   "source": [
    "## Отчет "
   ]
  },
  {
   "cell_type": "markdown",
   "metadata": {},
   "source": [
    " ### Описание выполненных действий относительно плана \n",
    "1. **Исследовательский анализ данных.**\n",
    "\n",
    "Был произведен визуальный осмотр данных, статистической информации, проверка на пропуски и дубликаты.\n",
    "\n",
    "2. **Подготовка данных.**\n",
    "\n",
    "Удалена дата подключения. Проанализирован период через который происходит прекращение пользования услугами.   Произведено объединение таблиц и добавление признаков \"пользование интернетом\" и \"пользование телефонией\". Образовавшиеся пропуски были заполнены значением \"No\", так как явно было указано, что если клиента нет в таблице, значит он не пользуется услугой. Удален признак \"ежемесячный платеж\" в связи с корреляцией с другим количественным признаком. Построен график распределений всех клиентов, и тех кто ушел.\n",
    "\n",
    "- Добавили признак на условие пользования услугами да/нет\n",
    "- Удалили 'customerID'\n",
    "- Удалили признак 'MonthlyCharges'\n",
    "\n",
    "3. **Подбор моделей.**\n",
    "\n",
    "На кросс валидации было произведено сравнение трех моделей.\n",
    "\n",
    "**CatBoostClassifier** показала лучшие результаты. \n",
    "\n",
    "4. **Подбор гиперпараметров.**\n",
    "\n",
    "Были отобраны мало информативные признаки, после этого ещё раз были подобраны гиперпараметры.\n",
    "\n",
    "5. **Тестирование.**\n",
    "\n",
    "Модель была протестирована на тестовой выборке выведены метрики **ROC-AUC : 0.93, Accuracy : 86.41%** и построена ROC-кривая. \n",
    "\n",
    "### Возникшие проблемы\n",
    "1. Проблемы с обработкой данных, в черновой версии долго не мог выйти на пробелы, но потом удалось.\n",
    "2. Поиск фиктивных признаков - там тоже немного запутался. \n",
    "\n",
    "### Ключевые шаги и наиболее важные моменты\n",
    "В первую очередь хотелось бы отметить, что в любом проекте нужно быть очень внимательным и никуда не спешить. \n",
    "Что касается технической части выполнения проекта, могу выделить у себя проблему, минимальных движений в плане раскрутки и осмотра данных/тестирования моделей и тд. \n",
    "Поэтому в дальнейшей работе, буду стараться больше и информативнее представлять свои шаги по работе и более развернуто давать обоснования к выполненным действиям. \n",
    "А что касается данных то, наиболее важным для меня моментом было введение целевого признака и поиск данных для обучения модели. \n",
    "### Описание модели \n",
    "На кросс валидации было произведено сравнение трех моделей: RandomForestClassifier, CatBoostClassifier, LGBMClassifier. \n",
    "\n",
    "- model_________________roc_auc\n",
    "- RandomForest__________0.855420\n",
    "- CatBoostClassifier____0.920580\n",
    "- LGBMClassifier________0.900848\n",
    "\n",
    "**CatBoostClassifier {'learning_rate': 0.3, 'max_depth': 2, 'n_estimators': 800}** показала лучшие результаты:\n",
    "**ROC-AUC : 0.93, Accuracy : 86.41%**\n"
   ]
  }
 ],
 "metadata": {
  "ExecuteTimeLog": [
   {
    "duration": 2826,
    "start_time": "2022-09-12T16:26:44.215Z"
   },
   {
    "duration": 424,
    "start_time": "2022-09-12T16:26:57.104Z"
   },
   {
    "duration": 4,
    "start_time": "2022-09-12T16:27:08.078Z"
   },
   {
    "duration": 78,
    "start_time": "2022-09-12T16:27:24.847Z"
   },
   {
    "duration": 4,
    "start_time": "2022-09-12T16:28:26.106Z"
   },
   {
    "duration": 109,
    "start_time": "2022-09-12T16:28:26.587Z"
   },
   {
    "duration": 4,
    "start_time": "2022-09-12T16:28:27.082Z"
   },
   {
    "duration": 88,
    "start_time": "2022-09-12T16:28:27.650Z"
   },
   {
    "duration": 3,
    "start_time": "2022-09-12T16:28:42.641Z"
   },
   {
    "duration": 74,
    "start_time": "2022-09-12T16:28:43.041Z"
   },
   {
    "duration": 6,
    "start_time": "2022-09-12T16:33:15.053Z"
   },
   {
    "duration": 10,
    "start_time": "2022-09-12T16:33:38.144Z"
   },
   {
    "duration": 5,
    "start_time": "2022-09-12T16:33:59.106Z"
   },
   {
    "duration": 115,
    "start_time": "2022-09-12T16:33:59.591Z"
   },
   {
    "duration": 5,
    "start_time": "2022-09-12T16:34:00.141Z"
   },
   {
    "duration": 11,
    "start_time": "2022-09-12T16:34:00.881Z"
   },
   {
    "duration": 4,
    "start_time": "2022-09-12T16:34:15.870Z"
   },
   {
    "duration": 167,
    "start_time": "2022-09-12T16:34:16.079Z"
   },
   {
    "duration": 5,
    "start_time": "2022-09-12T16:34:16.467Z"
   },
   {
    "duration": 9,
    "start_time": "2022-09-12T16:34:17.097Z"
   },
   {
    "duration": 52,
    "start_time": "2022-09-12T16:34:35.291Z"
   },
   {
    "duration": 8,
    "start_time": "2022-09-12T16:34:40.788Z"
   },
   {
    "duration": 6,
    "start_time": "2022-09-12T16:36:10.867Z"
   },
   {
    "duration": 1465,
    "start_time": "2022-09-12T16:36:27.018Z"
   },
   {
    "duration": 113,
    "start_time": "2022-09-12T16:36:28.486Z"
   },
   {
    "duration": 109,
    "start_time": "2022-09-12T16:36:28.601Z"
   },
   {
    "duration": 1502,
    "start_time": "2022-09-14T16:47:18.273Z"
   },
   {
    "duration": 111,
    "start_time": "2022-09-14T16:47:19.777Z"
   },
   {
    "duration": 4,
    "start_time": "2022-09-14T16:47:20.157Z"
   },
   {
    "duration": 89,
    "start_time": "2022-09-14T16:47:20.934Z"
   },
   {
    "duration": 75,
    "start_time": "2022-09-14T16:48:16.172Z"
   },
   {
    "duration": 4,
    "start_time": "2022-09-14T16:54:14.790Z"
   },
   {
    "duration": 113,
    "start_time": "2022-09-14T16:54:15.256Z"
   },
   {
    "duration": 3,
    "start_time": "2022-09-14T16:54:16.100Z"
   },
   {
    "duration": 74,
    "start_time": "2022-09-14T16:54:16.738Z"
   },
   {
    "duration": 66,
    "start_time": "2022-09-15T17:18:49.203Z"
   },
   {
    "duration": 1569,
    "start_time": "2022-09-15T17:18:58.586Z"
   },
   {
    "duration": 415,
    "start_time": "2022-09-15T17:19:00.157Z"
   },
   {
    "duration": 5,
    "start_time": "2022-09-15T17:19:00.574Z"
   },
   {
    "duration": 87,
    "start_time": "2022-09-15T17:19:00.859Z"
   },
   {
    "duration": 139,
    "start_time": "2022-09-15T17:19:03.451Z"
   },
   {
    "duration": 1836,
    "start_time": "2022-09-17T08:15:27.064Z"
   },
   {
    "duration": 341,
    "start_time": "2022-09-17T08:15:28.904Z"
   },
   {
    "duration": 4,
    "start_time": "2022-09-17T08:15:29.305Z"
   },
   {
    "duration": 90,
    "start_time": "2022-09-17T08:15:31.331Z"
   },
   {
    "duration": 84,
    "start_time": "2022-09-17T08:15:38.036Z"
   },
   {
    "duration": 5,
    "start_time": "2022-09-17T08:15:38.827Z"
   },
   {
    "duration": 4,
    "start_time": "2022-09-17T08:15:45.227Z"
   },
   {
    "duration": 21,
    "start_time": "2022-09-17T08:16:11.359Z"
   },
   {
    "duration": 27,
    "start_time": "2022-09-17T08:16:35.219Z"
   },
   {
    "duration": 15,
    "start_time": "2022-09-17T08:16:45.126Z"
   },
   {
    "duration": 13,
    "start_time": "2022-09-17T08:18:25.732Z"
   },
   {
    "duration": 19,
    "start_time": "2022-09-17T08:18:35.146Z"
   },
   {
    "duration": 26,
    "start_time": "2022-09-17T08:18:52.360Z"
   },
   {
    "duration": 915,
    "start_time": "2022-09-17T08:21:24.827Z"
   },
   {
    "duration": 6,
    "start_time": "2022-09-17T08:22:01.569Z"
   },
   {
    "duration": 10,
    "start_time": "2022-09-17T08:22:02.113Z"
   },
   {
    "duration": 21,
    "start_time": "2022-09-17T08:22:28.039Z"
   },
   {
    "duration": 10,
    "start_time": "2022-09-17T08:22:54.308Z"
   },
   {
    "duration": 18,
    "start_time": "2022-09-17T08:23:07.382Z"
   },
   {
    "duration": 10,
    "start_time": "2022-09-17T08:23:36.203Z"
   },
   {
    "duration": 8,
    "start_time": "2022-09-17T08:24:04.315Z"
   },
   {
    "duration": 12,
    "start_time": "2022-09-17T08:24:14.212Z"
   },
   {
    "duration": 11,
    "start_time": "2022-09-17T08:24:25.113Z"
   },
   {
    "duration": 440,
    "start_time": "2022-09-17T08:24:42.620Z"
   },
   {
    "duration": 380,
    "start_time": "2022-09-17T08:25:05.208Z"
   },
   {
    "duration": 10,
    "start_time": "2022-09-17T08:26:09.512Z"
   },
   {
    "duration": 6,
    "start_time": "2022-09-17T08:27:39.171Z"
   },
   {
    "duration": 9,
    "start_time": "2022-09-17T08:28:46.912Z"
   },
   {
    "duration": 15,
    "start_time": "2022-09-17T08:29:14.650Z"
   },
   {
    "duration": 7,
    "start_time": "2022-09-17T08:29:23.765Z"
   },
   {
    "duration": 37,
    "start_time": "2022-09-17T08:29:38.926Z"
   },
   {
    "duration": 168,
    "start_time": "2022-09-17T08:30:56.918Z"
   },
   {
    "duration": 3,
    "start_time": "2022-09-17T08:31:15.070Z"
   },
   {
    "duration": 3,
    "start_time": "2022-09-17T08:31:25.038Z"
   },
   {
    "duration": 19,
    "start_time": "2022-09-17T08:31:33.446Z"
   },
   {
    "duration": 20,
    "start_time": "2022-09-17T08:31:47.508Z"
   },
   {
    "duration": 28,
    "start_time": "2022-09-17T08:31:58.856Z"
   },
   {
    "duration": 7,
    "start_time": "2022-09-17T08:32:16.205Z"
   },
   {
    "duration": 6,
    "start_time": "2022-09-17T08:33:04.567Z"
   },
   {
    "duration": 4,
    "start_time": "2022-09-17T08:34:07.651Z"
   },
   {
    "duration": 16,
    "start_time": "2022-09-17T08:34:17.334Z"
   },
   {
    "duration": 8,
    "start_time": "2022-09-17T08:34:27.305Z"
   },
   {
    "duration": 322,
    "start_time": "2022-09-17T08:35:08.805Z"
   },
   {
    "duration": 8,
    "start_time": "2022-09-17T08:35:26.259Z"
   },
   {
    "duration": 3,
    "start_time": "2022-09-17T08:35:35.341Z"
   },
   {
    "duration": 5,
    "start_time": "2022-09-17T08:35:44.549Z"
   },
   {
    "duration": 6,
    "start_time": "2022-09-17T08:36:21.899Z"
   },
   {
    "duration": 3368,
    "start_time": "2022-09-17T08:37:11.965Z"
   },
   {
    "duration": 6275,
    "start_time": "2022-09-17T08:37:42.107Z"
   },
   {
    "duration": 80,
    "start_time": "2022-09-17T08:38:04.027Z"
   },
   {
    "duration": 1477,
    "start_time": "2022-09-17T08:39:47.821Z"
   },
   {
    "duration": 116,
    "start_time": "2022-09-17T08:39:49.300Z"
   },
   {
    "duration": 4,
    "start_time": "2022-09-17T08:39:49.417Z"
   },
   {
    "duration": 89,
    "start_time": "2022-09-17T08:39:49.423Z"
   },
   {
    "duration": 4,
    "start_time": "2022-09-17T08:39:49.627Z"
   },
   {
    "duration": 20,
    "start_time": "2022-09-17T08:39:49.884Z"
   },
   {
    "duration": 22,
    "start_time": "2022-09-17T08:39:50.030Z"
   },
   {
    "duration": 25,
    "start_time": "2022-09-17T08:39:50.158Z"
   },
   {
    "duration": 20,
    "start_time": "2022-09-17T08:39:50.380Z"
   },
   {
    "duration": 30,
    "start_time": "2022-09-17T08:39:50.516Z"
   },
   {
    "duration": 38,
    "start_time": "2022-09-17T08:39:50.650Z"
   },
   {
    "duration": 6,
    "start_time": "2022-09-17T08:39:51.210Z"
   },
   {
    "duration": 14,
    "start_time": "2022-09-17T08:39:51.357Z"
   },
   {
    "duration": 10,
    "start_time": "2022-09-17T08:39:51.707Z"
   },
   {
    "duration": 7,
    "start_time": "2022-09-17T08:39:51.810Z"
   },
   {
    "duration": 17,
    "start_time": "2022-09-17T08:39:52.129Z"
   },
   {
    "duration": 9,
    "start_time": "2022-09-17T08:39:52.243Z"
   },
   {
    "duration": 10,
    "start_time": "2022-09-17T08:39:52.371Z"
   },
   {
    "duration": 9,
    "start_time": "2022-09-17T08:39:52.503Z"
   },
   {
    "duration": 9,
    "start_time": "2022-09-17T08:39:52.579Z"
   },
   {
    "duration": 408,
    "start_time": "2022-09-17T08:39:52.708Z"
   },
   {
    "duration": 9,
    "start_time": "2022-09-17T08:39:53.119Z"
   },
   {
    "duration": 6,
    "start_time": "2022-09-17T08:39:53.130Z"
   },
   {
    "duration": 8,
    "start_time": "2022-09-17T08:39:53.226Z"
   },
   {
    "duration": 14,
    "start_time": "2022-09-17T08:39:53.436Z"
   },
   {
    "duration": 8,
    "start_time": "2022-09-17T08:39:53.591Z"
   },
   {
    "duration": 45,
    "start_time": "2022-09-17T08:39:53.712Z"
   },
   {
    "duration": 82,
    "start_time": "2022-09-17T08:39:54.306Z"
   },
   {
    "duration": 4,
    "start_time": "2022-09-17T08:39:54.616Z"
   },
   {
    "duration": 4,
    "start_time": "2022-09-17T08:39:54.749Z"
   },
   {
    "duration": 19,
    "start_time": "2022-09-17T08:39:55.032Z"
   },
   {
    "duration": 17,
    "start_time": "2022-09-17T08:39:55.212Z"
   },
   {
    "duration": 39,
    "start_time": "2022-09-17T08:39:55.346Z"
   },
   {
    "duration": 8,
    "start_time": "2022-09-17T08:39:55.444Z"
   },
   {
    "duration": 7,
    "start_time": "2022-09-17T08:39:55.718Z"
   },
   {
    "duration": 4,
    "start_time": "2022-09-17T08:39:56.125Z"
   },
   {
    "duration": 14,
    "start_time": "2022-09-17T08:39:56.342Z"
   },
   {
    "duration": 9,
    "start_time": "2022-09-17T08:39:56.634Z"
   },
   {
    "duration": 10,
    "start_time": "2022-09-17T08:39:57.045Z"
   },
   {
    "duration": 3,
    "start_time": "2022-09-17T08:39:57.206Z"
   },
   {
    "duration": 4,
    "start_time": "2022-09-17T08:39:57.454Z"
   },
   {
    "duration": 6,
    "start_time": "2022-09-17T08:39:58.006Z"
   },
   {
    "duration": 3265,
    "start_time": "2022-09-17T08:39:58.533Z"
   },
   {
    "duration": 6788,
    "start_time": "2022-09-17T08:40:01.801Z"
   },
   {
    "duration": 1502,
    "start_time": "2022-09-17T08:41:21.412Z"
   },
   {
    "duration": 115,
    "start_time": "2022-09-17T08:41:22.916Z"
   },
   {
    "duration": 4,
    "start_time": "2022-09-17T08:41:23.032Z"
   },
   {
    "duration": 84,
    "start_time": "2022-09-17T08:41:23.061Z"
   },
   {
    "duration": 5,
    "start_time": "2022-09-17T08:41:25.413Z"
   },
   {
    "duration": 19,
    "start_time": "2022-09-17T08:41:25.808Z"
   },
   {
    "duration": 22,
    "start_time": "2022-09-17T08:41:26.179Z"
   },
   {
    "duration": 16,
    "start_time": "2022-09-17T08:41:26.368Z"
   },
   {
    "duration": 19,
    "start_time": "2022-09-17T08:41:26.741Z"
   },
   {
    "duration": 20,
    "start_time": "2022-09-17T08:41:26.933Z"
   },
   {
    "duration": 29,
    "start_time": "2022-09-17T08:41:27.133Z"
   },
   {
    "duration": 6,
    "start_time": "2022-09-17T08:41:27.672Z"
   },
   {
    "duration": 13,
    "start_time": "2022-09-17T08:41:27.814Z"
   },
   {
    "duration": 7,
    "start_time": "2022-09-17T08:41:28.114Z"
   },
   {
    "duration": 7,
    "start_time": "2022-09-17T08:41:28.423Z"
   },
   {
    "duration": 15,
    "start_time": "2022-09-17T08:41:28.534Z"
   },
   {
    "duration": 7,
    "start_time": "2022-09-17T08:41:28.708Z"
   },
   {
    "duration": 8,
    "start_time": "2022-09-17T08:41:28.808Z"
   },
   {
    "duration": 8,
    "start_time": "2022-09-17T08:41:28.922Z"
   },
   {
    "duration": 8,
    "start_time": "2022-09-17T08:41:29.046Z"
   },
   {
    "duration": 370,
    "start_time": "2022-09-17T08:41:29.234Z"
   },
   {
    "duration": 8,
    "start_time": "2022-09-17T08:41:29.607Z"
   },
   {
    "duration": 5,
    "start_time": "2022-09-17T08:41:29.975Z"
   },
   {
    "duration": 8,
    "start_time": "2022-09-17T08:41:30.358Z"
   },
   {
    "duration": 12,
    "start_time": "2022-09-17T08:41:30.740Z"
   },
   {
    "duration": 6,
    "start_time": "2022-09-17T08:41:30.942Z"
   },
   {
    "duration": 28,
    "start_time": "2022-09-17T08:41:31.126Z"
   },
   {
    "duration": 78,
    "start_time": "2022-09-17T08:41:31.675Z"
   },
   {
    "duration": 4,
    "start_time": "2022-09-17T08:41:31.976Z"
   },
   {
    "duration": 3,
    "start_time": "2022-09-17T08:41:32.121Z"
   },
   {
    "duration": 19,
    "start_time": "2022-09-17T08:41:32.415Z"
   },
   {
    "duration": 21,
    "start_time": "2022-09-17T08:41:32.542Z"
   },
   {
    "duration": 24,
    "start_time": "2022-09-17T08:41:32.708Z"
   },
   {
    "duration": 8,
    "start_time": "2022-09-17T08:41:32.839Z"
   },
   {
    "duration": 6,
    "start_time": "2022-09-17T08:41:33.108Z"
   },
   {
    "duration": 4,
    "start_time": "2022-09-17T08:41:33.508Z"
   },
   {
    "duration": 13,
    "start_time": "2022-09-17T08:41:33.708Z"
   },
   {
    "duration": 6,
    "start_time": "2022-09-17T08:41:34.179Z"
   },
   {
    "duration": 7,
    "start_time": "2022-09-17T08:41:34.410Z"
   },
   {
    "duration": 3,
    "start_time": "2022-09-17T08:41:34.662Z"
   },
   {
    "duration": 5,
    "start_time": "2022-09-17T08:41:34.958Z"
   },
   {
    "duration": 5,
    "start_time": "2022-09-17T08:41:35.481Z"
   },
   {
    "duration": 3438,
    "start_time": "2022-09-17T08:41:36.006Z"
   },
   {
    "duration": 5950,
    "start_time": "2022-09-17T08:41:39.446Z"
   },
   {
    "duration": 279707,
    "start_time": "2022-09-17T08:41:45.398Z"
   },
   {
    "duration": 7,
    "start_time": "2022-09-17T08:46:25.108Z"
   },
   {
    "duration": 6410,
    "start_time": "2022-09-17T08:47:33.008Z"
   },
   {
    "duration": 5,
    "start_time": "2022-09-17T08:48:03.013Z"
   },
   {
    "duration": 14,
    "start_time": "2022-09-17T08:48:14.900Z"
   },
   {
    "duration": 11,
    "start_time": "2022-09-17T08:48:53.817Z"
   },
   {
    "duration": 6,
    "start_time": "2022-09-17T08:49:05.055Z"
   },
   {
    "duration": 143,
    "start_time": "2022-09-17T08:50:12.677Z"
   },
   {
    "duration": 44,
    "start_time": "2022-09-19T16:37:48.258Z"
   },
   {
    "duration": 5,
    "start_time": "2022-09-19T16:38:07.973Z"
   },
   {
    "duration": 1454,
    "start_time": "2022-09-19T16:38:13.282Z"
   },
   {
    "duration": 322,
    "start_time": "2022-09-19T16:38:14.737Z"
   },
   {
    "duration": 3,
    "start_time": "2022-09-19T16:38:15.061Z"
   },
   {
    "duration": 72,
    "start_time": "2022-09-19T16:38:15.065Z"
   },
   {
    "duration": 6,
    "start_time": "2022-09-19T16:38:17.232Z"
   },
   {
    "duration": 16,
    "start_time": "2022-09-19T16:38:17.937Z"
   },
   {
    "duration": 17,
    "start_time": "2022-09-19T16:38:18.537Z"
   },
   {
    "duration": 14,
    "start_time": "2022-09-19T16:38:18.887Z"
   },
   {
    "duration": 12,
    "start_time": "2022-09-19T16:38:19.353Z"
   },
   {
    "duration": 19,
    "start_time": "2022-09-19T16:38:20.186Z"
   },
   {
    "duration": 19,
    "start_time": "2022-09-19T16:38:20.814Z"
   },
   {
    "duration": 24,
    "start_time": "2022-09-19T16:38:22.683Z"
   },
   {
    "duration": 67,
    "start_time": "2022-09-19T16:39:11.639Z"
   },
   {
    "duration": 3,
    "start_time": "2022-09-19T16:44:00.883Z"
   },
   {
    "duration": 78,
    "start_time": "2022-09-19T16:44:07.812Z"
   },
   {
    "duration": 3,
    "start_time": "2022-09-19T16:44:18.233Z"
   },
   {
    "duration": 13,
    "start_time": "2022-09-19T16:44:18.932Z"
   },
   {
    "duration": 4,
    "start_time": "2022-09-19T16:44:26.255Z"
   },
   {
    "duration": 103,
    "start_time": "2022-09-19T16:44:26.534Z"
   },
   {
    "duration": 3,
    "start_time": "2022-09-19T16:44:26.786Z"
   },
   {
    "duration": 68,
    "start_time": "2022-09-19T16:44:27.071Z"
   },
   {
    "duration": 4,
    "start_time": "2022-09-19T16:44:28.079Z"
   },
   {
    "duration": 23,
    "start_time": "2022-09-19T16:44:28.608Z"
   },
   {
    "duration": 19,
    "start_time": "2022-09-19T16:44:29.320Z"
   },
   {
    "duration": 12,
    "start_time": "2022-09-19T16:44:29.545Z"
   },
   {
    "duration": 10,
    "start_time": "2022-09-19T16:44:29.787Z"
   },
   {
    "duration": 17,
    "start_time": "2022-09-19T16:44:29.960Z"
   },
   {
    "duration": 14,
    "start_time": "2022-09-19T16:44:30.233Z"
   },
   {
    "duration": 23,
    "start_time": "2022-09-19T16:44:34.550Z"
   },
   {
    "duration": 4,
    "start_time": "2022-09-19T16:44:34.575Z"
   },
   {
    "duration": 12,
    "start_time": "2022-09-19T16:44:34.581Z"
   },
   {
    "duration": 6,
    "start_time": "2022-09-19T16:44:34.594Z"
   },
   {
    "duration": 7,
    "start_time": "2022-09-19T16:44:34.602Z"
   },
   {
    "duration": 20,
    "start_time": "2022-09-19T16:44:34.611Z"
   },
   {
    "duration": 8,
    "start_time": "2022-09-19T16:44:34.632Z"
   },
   {
    "duration": 8,
    "start_time": "2022-09-19T16:44:34.642Z"
   },
   {
    "duration": 7,
    "start_time": "2022-09-19T16:44:34.651Z"
   },
   {
    "duration": 7,
    "start_time": "2022-09-19T16:44:34.660Z"
   },
   {
    "duration": 375,
    "start_time": "2022-09-19T16:44:34.669Z"
   },
   {
    "duration": 8,
    "start_time": "2022-09-19T16:44:35.046Z"
   },
   {
    "duration": 5,
    "start_time": "2022-09-19T16:44:35.055Z"
   },
   {
    "duration": 7,
    "start_time": "2022-09-19T16:44:35.062Z"
   },
   {
    "duration": 10,
    "start_time": "2022-09-19T16:44:35.071Z"
   },
   {
    "duration": 6,
    "start_time": "2022-09-19T16:44:35.082Z"
   },
   {
    "duration": 31,
    "start_time": "2022-09-19T16:44:35.283Z"
   },
   {
    "duration": 59,
    "start_time": "2022-09-19T16:44:35.554Z"
   },
   {
    "duration": 12,
    "start_time": "2022-09-19T16:44:35.719Z"
   },
   {
    "duration": 3,
    "start_time": "2022-09-19T16:44:35.842Z"
   },
   {
    "duration": 17,
    "start_time": "2022-09-19T16:44:36.332Z"
   },
   {
    "duration": 12,
    "start_time": "2022-09-19T16:44:36.504Z"
   },
   {
    "duration": 21,
    "start_time": "2022-09-19T16:44:36.638Z"
   },
   {
    "duration": 2,
    "start_time": "2022-09-19T16:44:36.849Z"
   },
   {
    "duration": 6,
    "start_time": "2022-09-19T16:44:37.208Z"
   },
   {
    "duration": 6,
    "start_time": "2022-09-19T16:44:37.389Z"
   },
   {
    "duration": 15,
    "start_time": "2022-09-19T16:44:37.602Z"
   },
   {
    "duration": 5,
    "start_time": "2022-09-19T16:44:37.721Z"
   },
   {
    "duration": 8,
    "start_time": "2022-09-19T16:44:38.334Z"
   },
   {
    "duration": 3,
    "start_time": "2022-09-19T16:44:38.637Z"
   },
   {
    "duration": 4,
    "start_time": "2022-09-19T16:44:38.750Z"
   },
   {
    "duration": 4,
    "start_time": "2022-09-19T16:44:40.244Z"
   },
   {
    "duration": 2745,
    "start_time": "2022-09-19T16:44:40.539Z"
   },
   {
    "duration": 19555,
    "start_time": "2022-09-19T16:44:43.286Z"
   },
   {
    "duration": 38585,
    "start_time": "2022-09-19T16:45:02.843Z"
   },
   {
    "duration": 8,
    "start_time": "2022-09-19T16:45:41.433Z"
   },
   {
    "duration": 13917,
    "start_time": "2022-09-19T16:45:41.442Z"
   },
   {
    "duration": 3,
    "start_time": "2022-09-19T16:45:55.360Z"
   },
   {
    "duration": 13,
    "start_time": "2022-09-19T16:45:55.365Z"
   },
   {
    "duration": 8,
    "start_time": "2022-09-19T16:45:55.380Z"
   },
   {
    "duration": 6,
    "start_time": "2022-09-19T16:45:55.389Z"
   },
   {
    "duration": 119,
    "start_time": "2022-09-19T16:45:55.397Z"
   }
  ],
  "kernelspec": {
   "display_name": "Python 3 (ipykernel)",
   "language": "python",
   "name": "python3"
  },
  "language_info": {
   "codemirror_mode": {
    "name": "ipython",
    "version": 3
   },
   "file_extension": ".py",
   "mimetype": "text/x-python",
   "name": "python",
   "nbconvert_exporter": "python",
   "pygments_lexer": "ipython3",
   "version": "3.9.12"
  },
  "toc": {
   "base_numbering": 1,
   "nav_menu": {},
   "number_sections": true,
   "sideBar": true,
   "skip_h1_title": true,
   "title_cell": "Table of Contents",
   "title_sidebar": "Contents",
   "toc_cell": false,
   "toc_position": {},
   "toc_section_display": true,
   "toc_window_display": true
  }
 },
 "nbformat": 4,
 "nbformat_minor": 2
}
