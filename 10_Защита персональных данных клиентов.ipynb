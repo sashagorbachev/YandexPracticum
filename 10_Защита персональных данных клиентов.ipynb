{
 "cells": [
  {
   "cell_type": "markdown",
   "id": "b64e9319",
   "metadata": {},
   "source": [
    "Описание проекта\n",
    "\n",
    "Вам нужно защитить данные клиентов страховой компании «Хоть потоп». Разработайте такой метод преобразования данных, чтобы по ним было сложно восстановить персональную информацию. Обоснуйте корректность его работы.\n",
    "Нужно защитить данные, чтобы при преобразовании качество моделей машинного обучения не ухудшилось. Подбирать наилучшую модель не требуется.\n",
    "\n",
    "Инструкция по выполнению проекта\n",
    "\n",
    "Загрузите и изучите данные.\n",
    "\n",
    "Ответьте на вопрос и обоснуйте решение.\n",
    "Признаки умножают на обратимую матрицу. Изменится ли качество линейной регрессии? (Её можно обучить заново.)\n",
    "a. Изменится. Приведите примеры матриц.\n",
    "b. Не изменится. Укажите, как связаны параметры линейной регрессии в исходной задаче и в преобразованной.\n",
    "\n",
    "Предложите алгоритм преобразования данных для решения задачи. Обоснуйте, почему качество линейной регрессии не поменяется.\n",
    "\n",
    "Запрограммируйте этот алгоритм, применив матричные операции. Проверьте, что качество линейной регрессии из sklearn не отличается до и после преобразования. Примените метрику R2."
   ]
  },
  {
   "cell_type": "markdown",
   "id": "d6cf6354",
   "metadata": {},
   "source": [
    "## Загрузка данных"
   ]
  },
  {
   "cell_type": "code",
   "execution_count": 25,
   "id": "74508317",
   "metadata": {},
   "outputs": [],
   "source": [
    "import numpy as np\n",
    "import pandas as pd\n",
    "from sklearn.metrics import r2_score\n",
    "from catboost import CatBoostClassifier\n",
    "from sklearn.linear_model import LinearRegression\n",
    "from sklearn.base import BaseEstimator, TransformerMixin\n",
    "from sklearn.model_selection import train_test_split\n",
    "from lightgbm import LGBMRegressor\n",
    "import lightgbm as lgb\n",
    "\n",
    "rnd_state = 12345\n",
    "data  = pd.read_csv('/datasets/insurance.csv')"
   ]
  },
  {
   "cell_type": "code",
   "execution_count": 26,
   "id": "a8ace50c",
   "metadata": {},
   "outputs": [
    {
     "data": {
      "text/html": [
       "<div>\n",
       "<style scoped>\n",
       "    .dataframe tbody tr th:only-of-type {\n",
       "        vertical-align: middle;\n",
       "    }\n",
       "\n",
       "    .dataframe tbody tr th {\n",
       "        vertical-align: top;\n",
       "    }\n",
       "\n",
       "    .dataframe thead th {\n",
       "        text-align: right;\n",
       "    }\n",
       "</style>\n",
       "<table border=\"1\" class=\"dataframe\">\n",
       "  <thead>\n",
       "    <tr style=\"text-align: right;\">\n",
       "      <th></th>\n",
       "      <th>Пол</th>\n",
       "      <th>Возраст</th>\n",
       "      <th>Зарплата</th>\n",
       "      <th>Члены семьи</th>\n",
       "      <th>Страховые выплаты</th>\n",
       "    </tr>\n",
       "  </thead>\n",
       "  <tbody>\n",
       "    <tr>\n",
       "      <th>0</th>\n",
       "      <td>1</td>\n",
       "      <td>41.0</td>\n",
       "      <td>49600.0</td>\n",
       "      <td>1</td>\n",
       "      <td>0</td>\n",
       "    </tr>\n",
       "    <tr>\n",
       "      <th>1</th>\n",
       "      <td>0</td>\n",
       "      <td>46.0</td>\n",
       "      <td>38000.0</td>\n",
       "      <td>1</td>\n",
       "      <td>1</td>\n",
       "    </tr>\n",
       "    <tr>\n",
       "      <th>2</th>\n",
       "      <td>0</td>\n",
       "      <td>29.0</td>\n",
       "      <td>21000.0</td>\n",
       "      <td>0</td>\n",
       "      <td>0</td>\n",
       "    </tr>\n",
       "    <tr>\n",
       "      <th>3</th>\n",
       "      <td>0</td>\n",
       "      <td>21.0</td>\n",
       "      <td>41700.0</td>\n",
       "      <td>2</td>\n",
       "      <td>0</td>\n",
       "    </tr>\n",
       "    <tr>\n",
       "      <th>4</th>\n",
       "      <td>1</td>\n",
       "      <td>28.0</td>\n",
       "      <td>26100.0</td>\n",
       "      <td>0</td>\n",
       "      <td>0</td>\n",
       "    </tr>\n",
       "  </tbody>\n",
       "</table>\n",
       "</div>"
      ],
      "text/plain": [
       "   Пол  Возраст  Зарплата  Члены семьи  Страховые выплаты\n",
       "0    1     41.0   49600.0            1                  0\n",
       "1    0     46.0   38000.0            1                  1\n",
       "2    0     29.0   21000.0            0                  0\n",
       "3    0     21.0   41700.0            2                  0\n",
       "4    1     28.0   26100.0            0                  0"
      ]
     },
     "execution_count": 26,
     "metadata": {},
     "output_type": "execute_result"
    }
   ],
   "source": [
    "data.head()"
   ]
  },
  {
   "cell_type": "code",
   "execution_count": 27,
   "id": "ecd345de",
   "metadata": {},
   "outputs": [
    {
     "data": {
      "text/html": [
       "<div>\n",
       "<style scoped>\n",
       "    .dataframe tbody tr th:only-of-type {\n",
       "        vertical-align: middle;\n",
       "    }\n",
       "\n",
       "    .dataframe tbody tr th {\n",
       "        vertical-align: top;\n",
       "    }\n",
       "\n",
       "    .dataframe thead th {\n",
       "        text-align: right;\n",
       "    }\n",
       "</style>\n",
       "<table border=\"1\" class=\"dataframe\">\n",
       "  <thead>\n",
       "    <tr style=\"text-align: right;\">\n",
       "      <th></th>\n",
       "      <th>Пол</th>\n",
       "      <th>Возраст</th>\n",
       "      <th>Зарплата</th>\n",
       "      <th>Члены семьи</th>\n",
       "      <th>Страховые выплаты</th>\n",
       "    </tr>\n",
       "  </thead>\n",
       "  <tbody>\n",
       "    <tr>\n",
       "      <th>count</th>\n",
       "      <td>5000.000000</td>\n",
       "      <td>5000.000000</td>\n",
       "      <td>5000.000000</td>\n",
       "      <td>5000.000000</td>\n",
       "      <td>5000.000000</td>\n",
       "    </tr>\n",
       "    <tr>\n",
       "      <th>mean</th>\n",
       "      <td>0.499000</td>\n",
       "      <td>30.952800</td>\n",
       "      <td>39916.360000</td>\n",
       "      <td>1.194200</td>\n",
       "      <td>0.148000</td>\n",
       "    </tr>\n",
       "    <tr>\n",
       "      <th>std</th>\n",
       "      <td>0.500049</td>\n",
       "      <td>8.440807</td>\n",
       "      <td>9900.083569</td>\n",
       "      <td>1.091387</td>\n",
       "      <td>0.463183</td>\n",
       "    </tr>\n",
       "    <tr>\n",
       "      <th>min</th>\n",
       "      <td>0.000000</td>\n",
       "      <td>18.000000</td>\n",
       "      <td>5300.000000</td>\n",
       "      <td>0.000000</td>\n",
       "      <td>0.000000</td>\n",
       "    </tr>\n",
       "    <tr>\n",
       "      <th>25%</th>\n",
       "      <td>0.000000</td>\n",
       "      <td>24.000000</td>\n",
       "      <td>33300.000000</td>\n",
       "      <td>0.000000</td>\n",
       "      <td>0.000000</td>\n",
       "    </tr>\n",
       "    <tr>\n",
       "      <th>50%</th>\n",
       "      <td>0.000000</td>\n",
       "      <td>30.000000</td>\n",
       "      <td>40200.000000</td>\n",
       "      <td>1.000000</td>\n",
       "      <td>0.000000</td>\n",
       "    </tr>\n",
       "    <tr>\n",
       "      <th>75%</th>\n",
       "      <td>1.000000</td>\n",
       "      <td>37.000000</td>\n",
       "      <td>46600.000000</td>\n",
       "      <td>2.000000</td>\n",
       "      <td>0.000000</td>\n",
       "    </tr>\n",
       "    <tr>\n",
       "      <th>max</th>\n",
       "      <td>1.000000</td>\n",
       "      <td>65.000000</td>\n",
       "      <td>79000.000000</td>\n",
       "      <td>6.000000</td>\n",
       "      <td>5.000000</td>\n",
       "    </tr>\n",
       "  </tbody>\n",
       "</table>\n",
       "</div>"
      ],
      "text/plain": [
       "               Пол      Возраст      Зарплата  Члены семьи  Страховые выплаты\n",
       "count  5000.000000  5000.000000   5000.000000  5000.000000        5000.000000\n",
       "mean      0.499000    30.952800  39916.360000     1.194200           0.148000\n",
       "std       0.500049     8.440807   9900.083569     1.091387           0.463183\n",
       "min       0.000000    18.000000   5300.000000     0.000000           0.000000\n",
       "25%       0.000000    24.000000  33300.000000     0.000000           0.000000\n",
       "50%       0.000000    30.000000  40200.000000     1.000000           0.000000\n",
       "75%       1.000000    37.000000  46600.000000     2.000000           0.000000\n",
       "max       1.000000    65.000000  79000.000000     6.000000           5.000000"
      ]
     },
     "execution_count": 27,
     "metadata": {},
     "output_type": "execute_result"
    }
   ],
   "source": [
    "data.describe()"
   ]
  },
  {
   "cell_type": "code",
   "execution_count": 28,
   "id": "af709ead",
   "metadata": {},
   "outputs": [
    {
     "data": {
      "text/plain": [
       "(5000, 5)"
      ]
     },
     "execution_count": 28,
     "metadata": {},
     "output_type": "execute_result"
    }
   ],
   "source": [
    "data.shape"
   ]
  },
  {
   "cell_type": "code",
   "execution_count": 29,
   "id": "a25f0ef6",
   "metadata": {},
   "outputs": [],
   "source": [
    "features = data.drop('Страховые выплаты', axis=1)\n",
    "target = data['Страховые выплаты']"
   ]
  },
  {
   "cell_type": "markdown",
   "id": "81177665",
   "metadata": {},
   "source": [
    "## Умножение матриц"
   ]
  },
  {
   "cell_type": "markdown",
   "id": "8f078022",
   "metadata": {},
   "source": [
    "В этом задании вы можете записывать формулы в Jupyter Notebook.\n",
    "\n",
    "Чтобы записать формулу внутри текста, окружите её символами доллара $; \n",
    "если снаружи — двойными символами \\$$. Эти формулы записываются на языке вёрстки LaTeX.\n",
    "\n",
    "Для примера мы записали формулы линейной регрессии. Можете их скопировать и отредактировать, чтобы решить задачу.\n",
    "\n",
    "Работать в LaTeX необязательно."
   ]
  },
  {
   "cell_type": "markdown",
   "id": "32b2703c",
   "metadata": {},
   "source": [
    "Обозначения:\n",
    "    \n",
    "X\n",
    " — матрица признаков (нулевой столбец состоит из единиц)\n",
    " \n",
    "y\n",
    " — вектор целевого признака\n",
    " \n",
    "P\n",
    " — матрица, на которую умножаются признаки\n",
    " \n",
    "w\n",
    " — вектор весов линейной регрессии (нулевой элемент равен сдвигу)"
   ]
  },
  {
   "cell_type": "markdown",
   "id": "9cdc9981",
   "metadata": {},
   "source": [
    "Предсказания:\n",
    "    a = xw\n",
    "    "
   ]
  },
  {
   "cell_type": "markdown",
   "id": "213f3ca1",
   "metadata": {},
   "source": [
    "Задача обучения:\n",
    "w=argminMSE(Xw,y)"
   ]
  },
  {
   "cell_type": "markdown",
   "id": "e16f2fb1",
   "metadata": {},
   "source": [
    "Формула обучения:\n",
    "w = (X^TX)^(-1)X^(T)y"
   ]
  },
  {
   "cell_type": "markdown",
   "id": "d7794740",
   "metadata": {},
   "source": [
    "Ответ: Предсказания \n",
    "a\n",
    " не изменятся, качество линейной регрессии останется прежним"
   ]
  },
  {
   "cell_type": "markdown",
   "id": "741faf78",
   "metadata": {},
   "source": [
    "Обоснование:\n",
    "    Для доказательства подставим вместо X - XP\n",
    "    anew = XPwnew\n",
    "    wnew = ((XP)^T XP)^(-1) (XP)^(T)y"
   ]
  },
  {
   "cell_type": "markdown",
   "id": "dcdcf031",
   "metadata": {},
   "source": [
    "подставим wnew в anew и преобразуем \n",
    "anew = XP((XP)^(T) XP)^(-1)(XP)^Ty = XP(P^TX^TXP)^(-1) P^(T)X^(T)y = XP(X^(T)XP)^(-1)(P^T)^(-1)P^(T)X^(T)y= XPP^(-1)(X^TX)^(-1)(P^T)^(-1)P^(T)X^(T)y=XE(X^TX)^(-1)EX^(T)y=X(X^TX)^(-1)X^(T)y=Xw"
   ]
  },
  {
   "cell_type": "markdown",
   "id": "9b408705",
   "metadata": {},
   "source": [
    "Пояснения:\n",
    "    раскрыл транспортирование по свойству (AB)^T=B^T*A^T\n",
    "    X^TX - квадратная обратимая матрица, P - по определению обратимая \n",
    "    (AB)^-1 = B^(-1)*A^(-1) 2 раза\n",
    "    \n",
    "    получаем что anew=a"
   ]
  },
  {
   "cell_type": "markdown",
   "id": "c23071a5",
   "metadata": {},
   "source": [
    "##  Алгоритм преобразования"
   ]
  },
  {
   "cell_type": "code",
   "execution_count": 30,
   "id": "b787ef4e",
   "metadata": {},
   "outputs": [
    {
     "data": {
      "text/plain": [
       "array([[-2.00163731, -0.37184254],\n",
       "       [ 1.66902531, -0.43856974],\n",
       "       [-0.53974145,  0.47698501],\n",
       "       [ 3.24894392, -1.02122752]])"
      ]
     },
     "execution_count": 30,
     "metadata": {},
     "output_type": "execute_result"
    }
   ],
   "source": [
    "X = np.random.randn(4, 2)\n",
    "P = np.random.randn(2, 2)\n",
    "\n",
    "P_inv = np.linalg.inv(P)\n",
    "\n",
    "X_ = X @ P\n",
    "X"
   ]
  },
  {
   "cell_type": "code",
   "execution_count": 31,
   "id": "3fbdf7f6",
   "metadata": {},
   "outputs": [
    {
     "data": {
      "text/plain": [
       "array([[-2.00163731, -0.37184254],\n",
       "       [ 1.66902531, -0.43856974],\n",
       "       [-0.53974145,  0.47698501],\n",
       "       [ 3.24894392, -1.02122752]])"
      ]
     },
     "execution_count": 31,
     "metadata": {},
     "output_type": "execute_result"
    }
   ],
   "source": [
    "X_ @ P_inv"
   ]
  },
  {
   "cell_type": "markdown",
   "id": "2e9de572",
   "metadata": {},
   "source": [
    "## Проверка алгоритма"
   ]
  },
  {
   "cell_type": "code",
   "execution_count": 32,
   "id": "18292ac0",
   "metadata": {},
   "outputs": [],
   "source": [
    "class FeatPreparer(TransformerMixin, BaseEstimator):\n",
    "    \n",
    "    \n",
    "    def fit(self, features, y=None, random_state=None):\n",
    "        if random_state:\n",
    "            np.random.seed(random_state)\n",
    "            \n",
    "        features_dim = features.shape[1]\n",
    "        P = np.random.normal(size=(features_dim, features_dim))\n",
    "        \n",
    "        \n",
    "        self.P = P\n",
    "        self.features = features\n",
    "        return self\n",
    "        \n",
    "    \n",
    "    def transform(self, features, y=None):  \n",
    "        return features.dot(self.P)"
   ]
  },
  {
   "cell_type": "code",
   "execution_count": 33,
   "id": "50da0735",
   "metadata": {},
   "outputs": [
    {
     "data": {
      "text/plain": [
       "TestResults(failed=0, attempted=0)"
      ]
     },
     "execution_count": 33,
     "metadata": {},
     "output_type": "execute_result"
    }
   ],
   "source": [
    "import doctest\n",
    "doctest.testmod()"
   ]
  },
  {
   "cell_type": "code",
   "execution_count": 34,
   "id": "fa50b6a2",
   "metadata": {},
   "outputs": [
    {
     "data": {
      "text/plain": [
       "((5000, 4), (5000, 4))"
      ]
     },
     "execution_count": 34,
     "metadata": {},
     "output_type": "execute_result"
    }
   ],
   "source": [
    "features_new = FeatPreparer().fit_transform(features, random_state=rnd_state)\n",
    "features.shape, features_new.shape"
   ]
  },
  {
   "cell_type": "code",
   "execution_count": 35,
   "id": "80582364",
   "metadata": {},
   "outputs": [],
   "source": [
    "linreg = LinearRegression()\n",
    "\n",
    "linreg.fit(features, target)\n",
    "predict1 = linreg.predict(features)\n",
    "\n",
    "linreg.fit(features_new, target)\n",
    "predict2 = linreg.predict(features_new)"
   ]
  },
  {
   "cell_type": "code",
   "execution_count": 36,
   "id": "4c88bb9a",
   "metadata": {},
   "outputs": [
    {
     "name": "stdout",
     "output_type": "stream",
     "text": [
      "0.4249455028666801\n"
     ]
    }
   ],
   "source": [
    "print(r2_score(target, predict1))"
   ]
  },
  {
   "cell_type": "code",
   "execution_count": 37,
   "id": "781debd2",
   "metadata": {},
   "outputs": [
    {
     "name": "stdout",
     "output_type": "stream",
     "text": [
      "0.42494550286667687\n"
     ]
    }
   ],
   "source": [
    "print(r2_score(target, predict2))"
   ]
  },
  {
   "cell_type": "code",
   "execution_count": 38,
   "id": "82c55bce",
   "metadata": {},
   "outputs": [
    {
     "data": {
      "text/plain": [
       "True"
      ]
     },
     "execution_count": 38,
     "metadata": {},
     "output_type": "execute_result"
    }
   ],
   "source": [
    "np.isclose(r2_score(target, predict1), r2_score(target, predict2))"
   ]
  },
  {
   "cell_type": "markdown",
   "id": "d1721c9e",
   "metadata": {},
   "source": [
    "Метрика R2 осталась без особых изменений, даже после преобразования. Следовательно, при умножении признаков на обратимую матрицу не повлияет на качество линейной регрессию, как ранее и доказал. Моё доказательство оказалось верным."
   ]
  }
 ],
 "metadata": {
  "ExecuteTimeLog": [
   {
    "duration": 1326,
    "start_time": "2022-06-21T05:15:47.874Z"
   },
   {
    "duration": 58,
    "start_time": "2022-06-21T05:17:37.546Z"
   },
   {
    "duration": 19,
    "start_time": "2022-06-21T05:17:38.334Z"
   },
   {
    "duration": 23,
    "start_time": "2022-06-21T05:17:39.009Z"
   },
   {
    "duration": 8,
    "start_time": "2022-06-21T05:17:39.491Z"
   },
   {
    "duration": 5,
    "start_time": "2022-06-21T05:17:40.114Z"
   },
   {
    "duration": 118,
    "start_time": "2022-06-21T05:21:13.675Z"
   },
   {
    "duration": 126,
    "start_time": "2022-06-21T05:33:53.759Z"
   },
   {
    "duration": 86,
    "start_time": "2022-06-21T05:34:00.649Z"
   },
   {
    "duration": 47,
    "start_time": "2022-06-21T05:41:30.479Z"
   },
   {
    "duration": 25,
    "start_time": "2022-06-21T05:41:30.688Z"
   },
   {
    "duration": 77,
    "start_time": "2022-06-21T05:41:30.920Z"
   },
   {
    "duration": 30,
    "start_time": "2022-06-21T05:41:31.154Z"
   },
   {
    "duration": 9,
    "start_time": "2022-06-21T05:41:31.345Z"
   },
   {
    "duration": 10,
    "start_time": "2022-06-21T05:41:34.656Z"
   },
   {
    "duration": 7,
    "start_time": "2022-06-21T05:41:34.933Z"
   },
   {
    "duration": 12,
    "start_time": "2022-06-21T05:41:35.549Z"
   },
   {
    "duration": 664,
    "start_time": "2022-06-21T05:41:36.104Z"
   },
   {
    "duration": 21,
    "start_time": "2022-06-21T05:41:36.774Z"
   },
   {
    "duration": 122,
    "start_time": "2022-06-21T05:41:37.106Z"
   },
   {
    "duration": 18,
    "start_time": "2022-06-21T05:41:37.498Z"
   },
   {
    "duration": 5,
    "start_time": "2022-06-21T05:41:37.932Z"
   },
   {
    "duration": 12,
    "start_time": "2022-06-21T05:41:38.385Z"
   },
   {
    "duration": 209,
    "start_time": "2022-06-21T05:41:39.722Z"
   },
   {
    "duration": 107,
    "start_time": "2022-06-21T05:43:38.055Z"
   },
   {
    "duration": 44,
    "start_time": "2022-06-21T05:43:38.258Z"
   },
   {
    "duration": 86,
    "start_time": "2022-06-21T05:43:38.496Z"
   },
   {
    "duration": 10,
    "start_time": "2022-06-21T05:43:38.764Z"
   },
   {
    "duration": 8,
    "start_time": "2022-06-21T05:43:39.126Z"
   },
   {
    "duration": 40,
    "start_time": "2022-06-21T05:43:41.946Z"
   },
   {
    "duration": 25,
    "start_time": "2022-06-21T05:43:42.220Z"
   },
   {
    "duration": 15,
    "start_time": "2022-06-21T05:43:42.814Z"
   },
   {
    "duration": 477,
    "start_time": "2022-06-21T05:43:43.055Z"
   },
   {
    "duration": 10,
    "start_time": "2022-06-21T05:43:43.534Z"
   },
   {
    "duration": 456,
    "start_time": "2022-06-21T05:43:43.546Z"
   },
   {
    "duration": 32,
    "start_time": "2022-06-21T05:43:44.033Z"
   },
   {
    "duration": 16,
    "start_time": "2022-06-21T05:43:44.610Z"
   },
   {
    "duration": 19,
    "start_time": "2022-06-21T05:43:45.106Z"
   },
   {
    "duration": 242,
    "start_time": "2022-06-21T16:35:38.206Z"
   }
  ],
  "kernelspec": {
   "display_name": "Python 3 (ipykernel)",
   "language": "python",
   "name": "python3"
  },
  "language_info": {
   "codemirror_mode": {
    "name": "ipython",
    "version": 3
   },
   "file_extension": ".py",
   "mimetype": "text/x-python",
   "name": "python",
   "nbconvert_exporter": "python",
   "pygments_lexer": "ipython3",
   "version": "3.9.12"
  },
  "toc": {
   "base_numbering": 1,
   "nav_menu": {},
   "number_sections": true,
   "sideBar": true,
   "skip_h1_title": true,
   "title_cell": "Table of Contents",
   "title_sidebar": "Contents",
   "toc_cell": false,
   "toc_position": {},
   "toc_section_display": true,
   "toc_window_display": false
  }
 },
 "nbformat": 4,
 "nbformat_minor": 5
}
