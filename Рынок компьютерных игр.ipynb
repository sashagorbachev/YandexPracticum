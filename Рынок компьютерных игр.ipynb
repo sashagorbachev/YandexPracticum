{
 "cells": [
  {
   "cell_type": "markdown",
   "id": "832e6bb6",
   "metadata": {},
   "source": [
    "## Описание проекта"
   ]
  },
  {
   "cell_type": "markdown",
   "id": "a5d037c6",
   "metadata": {},
   "source": [
    "Вы работаете в интернет-магазине «Стримчик», который продаёт по всему миру компьютерные игры. Из открытых источников доступны исторические данные о продажах игр, оценки пользователей и экспертов, жанры и платформы (например, Xbox или PlayStation). Вам нужно выявить определяющие успешность игры закономерности. Это позволит сделать ставку на потенциально популярный продукт и спланировать рекламные кампании.\n",
    "Перед вами данные до 2016 года. Представим, что сейчас декабрь 2016 г., и вы планируете кампанию на 2017-й. Нужно отработать принцип работы с данными. Неважно, прогнозируете ли вы продажи на 2017 год по данным 2016-го или же 2027-й — по данным 2026 года.\n",
    "В наборе данных попадается аббревиатура ESRB (Entertainment Software Rating Board) — это ассоциация, определяющая возрастной рейтинг компьютерных игр. ESRB оценивает игровой контент и присваивает ему подходящую возрастную категорию, например, «Для взрослых», «Для детей младшего возраста» или «Для подростков».\n"
   ]
  },
  {
   "cell_type": "markdown",
   "id": "4f8cbfa6",
   "metadata": {},
   "source": [
    "Name — название игры\n",
    "\n",
    "Platform — платформа\n",
    "\n",
    "Year_of_Release — год выпуска\n",
    "\n",
    "Genre — жанр игры\n",
    "\n",
    "NA_sales — продажи в Северной Америке (миллионы проданных копий)\n",
    "\n",
    "EU_sales — продажи в Европе (миллионы проданных копий)\n",
    "\n",
    "JP_sales — продажи в Японии (миллионы проданных копий)\n",
    "\n",
    "Other_sales — продажи в других странах (миллионы проданных копий)\n",
    "\n",
    "Critic_Score — оценка критиков (максимум 100)\n",
    "\n",
    "User_Score — оценка пользователей (максимум 10)\n",
    "\n",
    "Rating — рейтинг от организации ESRB (англ. Entertainment Software Rating Board). Эта ассоциация определяет рейтинг компьютерных игр и присваивает им подходящую возрастную категорию.\n"
   ]
  },
  {
   "cell_type": "markdown",
   "id": "deed21c0",
   "metadata": {},
   "source": [
    "## Импорт библиотек"
   ]
  },
  {
   "cell_type": "code",
   "execution_count": 1,
   "id": "94b9ebd3",
   "metadata": {},
   "outputs": [],
   "source": [
    "import pandas as pd\n",
    "import matplotlib.pyplot as plt\n",
    "from scipy import stats as st\n",
    "import numpy as np\n",
    "import warnings\n",
    "warnings.filterwarnings('ignore')"
   ]
  },
  {
   "cell_type": "markdown",
   "id": "b3b1eeff",
   "metadata": {},
   "source": [
    "## Считывание данных"
   ]
  },
  {
   "cell_type": "code",
   "execution_count": 2,
   "id": "749df74c",
   "metadata": {},
   "outputs": [],
   "source": [
    "try:\n",
    "    data = pd.read_csv('/Users/gorbachevalexander/Desktop/Сборный/Сборный Проект №1/games.csv')\n",
    "except:\n",
    "    data = pd.read_csv('/datasets/games.csv')    "
   ]
  },
  {
   "cell_type": "code",
   "execution_count": 3,
   "id": "f5f9997f",
   "metadata": {},
   "outputs": [
    {
     "name": "stdout",
     "output_type": "stream",
     "text": [
      "<class 'pandas.core.frame.DataFrame'>\n",
      "RangeIndex: 16715 entries, 0 to 16714\n",
      "Data columns (total 11 columns):\n",
      " #   Column           Non-Null Count  Dtype  \n",
      "---  ------           --------------  -----  \n",
      " 0   Name             16713 non-null  object \n",
      " 1   Platform         16715 non-null  object \n",
      " 2   Year_of_Release  16446 non-null  float64\n",
      " 3   Genre            16713 non-null  object \n",
      " 4   NA_sales         16715 non-null  float64\n",
      " 5   EU_sales         16715 non-null  float64\n",
      " 6   JP_sales         16715 non-null  float64\n",
      " 7   Other_sales      16715 non-null  float64\n",
      " 8   Critic_Score     8137 non-null   float64\n",
      " 9   User_Score       10014 non-null  object \n",
      " 10  Rating           9949 non-null   object \n",
      "dtypes: float64(6), object(5)\n",
      "memory usage: 1.4+ MB\n"
     ]
    }
   ],
   "source": [
    "data.info()"
   ]
  },
  {
   "cell_type": "markdown",
   "id": "dd517b1e",
   "metadata": {},
   "source": [
    "На данный момент наблюдаем разные регистры и пропуски в столбцах"
   ]
  },
  {
   "cell_type": "markdown",
   "id": "f2da705c",
   "metadata": {},
   "source": [
    "## Предобработка"
   ]
  },
  {
   "cell_type": "markdown",
   "id": "5ef48c30",
   "metadata": {},
   "source": [
    "### Приведение названий столбцов к нижнему регистру"
   ]
  },
  {
   "cell_type": "code",
   "execution_count": 4,
   "id": "fefa345f",
   "metadata": {},
   "outputs": [],
   "source": [
    "data.columns = data.columns.str.lower()"
   ]
  },
  {
   "cell_type": "code",
   "execution_count": 5,
   "id": "b0957484",
   "metadata": {},
   "outputs": [
    {
     "name": "stdout",
     "output_type": "stream",
     "text": [
      "<class 'pandas.core.frame.DataFrame'>\n",
      "RangeIndex: 16715 entries, 0 to 16714\n",
      "Data columns (total 11 columns):\n",
      " #   Column           Non-Null Count  Dtype  \n",
      "---  ------           --------------  -----  \n",
      " 0   name             16713 non-null  object \n",
      " 1   platform         16715 non-null  object \n",
      " 2   year_of_release  16446 non-null  float64\n",
      " 3   genre            16713 non-null  object \n",
      " 4   na_sales         16715 non-null  float64\n",
      " 5   eu_sales         16715 non-null  float64\n",
      " 6   jp_sales         16715 non-null  float64\n",
      " 7   other_sales      16715 non-null  float64\n",
      " 8   critic_score     8137 non-null   float64\n",
      " 9   user_score       10014 non-null  object \n",
      " 10  rating           9949 non-null   object \n",
      "dtypes: float64(6), object(5)\n",
      "memory usage: 1.4+ MB\n"
     ]
    }
   ],
   "source": [
    "data.info()"
   ]
  },
  {
   "cell_type": "markdown",
   "id": "64b67488",
   "metadata": {},
   "source": [
    "Произвел приведение к snake_case"
   ]
  },
  {
   "cell_type": "markdown",
   "id": "a6fbd03c",
   "metadata": {},
   "source": [
    "Для упрощения расчетов привожу year_of_release к типу int"
   ]
  },
  {
   "cell_type": "code",
   "execution_count": 6,
   "id": "99d3b223",
   "metadata": {},
   "outputs": [],
   "source": [
    "data['year_of_release'] = data['year_of_release'].astype('Int64')"
   ]
  },
  {
   "cell_type": "markdown",
   "id": "551ca369",
   "metadata": {},
   "source": [
    "### Проверка на дубликаты"
   ]
  },
  {
   "cell_type": "code",
   "execution_count": 7,
   "id": "07f0ce2d",
   "metadata": {},
   "outputs": [
    {
     "data": {
      "text/plain": [
       "0"
      ]
     },
     "execution_count": 7,
     "metadata": {},
     "output_type": "execute_result"
    }
   ],
   "source": [
    "data.duplicated().sum()"
   ]
  },
  {
   "cell_type": "markdown",
   "id": "fbfb240a",
   "metadata": {},
   "source": [
    "Явных дубликатов не обнаружено."
   ]
  },
  {
   "cell_type": "markdown",
   "id": "234b5196",
   "metadata": {},
   "source": [
    "### Обработка пустых значений"
   ]
  },
  {
   "cell_type": "code",
   "execution_count": 8,
   "id": "6d9c9a27",
   "metadata": {
    "scrolled": true
   },
   "outputs": [
    {
     "data": {
      "text/plain": [
       "name                  2\n",
       "platform              0\n",
       "year_of_release     269\n",
       "genre                 2\n",
       "na_sales              0\n",
       "eu_sales              0\n",
       "jp_sales              0\n",
       "other_sales           0\n",
       "critic_score       8578\n",
       "user_score         6701\n",
       "rating             6766\n",
       "dtype: int64"
      ]
     },
     "execution_count": 8,
     "metadata": {},
     "output_type": "execute_result"
    }
   ],
   "source": [
    "data.isna().sum()"
   ]
  },
  {
   "cell_type": "markdown",
   "id": "f9cc9c1a",
   "metadata": {},
   "source": [
    "Пропуски обнаружены в 5 столбцах: name - 2, year_of_release - 269, critic_score - 8578, user_score - 6701, rating - 6766.\n",
    "Сразу на глаз без дополнительных рассчетов можем удалить два пропуска из столбца name.\n",
    "Для наглядности расчитал процентное соотношение для пропусков"
   ]
  },
  {
   "cell_type": "code",
   "execution_count": 9,
   "id": "0639f5fe",
   "metadata": {},
   "outputs": [
    {
     "data": {
      "text/plain": [
       "0.011965300628178284"
      ]
     },
     "execution_count": 9,
     "metadata": {},
     "output_type": "execute_result"
    }
   ],
   "source": [
    "2 / data.shape[0] * 100"
   ]
  },
  {
   "cell_type": "code",
   "execution_count": 10,
   "id": "afe7cf48",
   "metadata": {},
   "outputs": [
    {
     "data": {
      "text/plain": [
       "1.609332934489979"
      ]
     },
     "execution_count": 10,
     "metadata": {},
     "output_type": "execute_result"
    }
   ],
   "source": [
    "269 / data.shape[0] * 100"
   ]
  },
  {
   "cell_type": "code",
   "execution_count": 11,
   "id": "79ec9e13",
   "metadata": {},
   "outputs": [
    {
     "data": {
      "text/plain": [
       "51.31917439425665"
      ]
     },
     "execution_count": 11,
     "metadata": {},
     "output_type": "execute_result"
    }
   ],
   "source": [
    "8578 / data.shape[0] * 100"
   ]
  },
  {
   "cell_type": "code",
   "execution_count": 12,
   "id": "e6262843",
   "metadata": {},
   "outputs": [
    {
     "data": {
      "text/plain": [
       "40.08973975471134"
      ]
     },
     "execution_count": 12,
     "metadata": {},
     "output_type": "execute_result"
    }
   ],
   "source": [
    "6701 / data.shape[0] * 100"
   ]
  },
  {
   "cell_type": "code",
   "execution_count": 13,
   "id": "68ae4e5f",
   "metadata": {},
   "outputs": [
    {
     "data": {
      "text/plain": [
       "40.478612025127134"
      ]
     },
     "execution_count": 13,
     "metadata": {},
     "output_type": "execute_result"
    }
   ],
   "source": [
    "6766 / data.shape[0] * 100"
   ]
  },
  {
   "cell_type": "code",
   "execution_count": 14,
   "id": "2cf4edce",
   "metadata": {},
   "outputs": [],
   "source": [
    "data = data.dropna(subset=['name'])"
   ]
  },
  {
   "cell_type": "markdown",
   "id": "3d5af3e2",
   "metadata": {},
   "source": [
    "### Столбец rating"
   ]
  },
  {
   "cell_type": "code",
   "execution_count": 15,
   "id": "19972cfb",
   "metadata": {},
   "outputs": [
    {
     "data": {
      "text/plain": [
       "6764"
      ]
     },
     "execution_count": 15,
     "metadata": {},
     "output_type": "execute_result"
    }
   ],
   "source": [
    "data['rating'].isna().sum()"
   ]
  },
  {
   "cell_type": "code",
   "execution_count": 16,
   "id": "923912e2",
   "metadata": {},
   "outputs": [
    {
     "data": {
      "text/plain": [
       "E       3990\n",
       "T       2961\n",
       "M       1563\n",
       "E10+    1420\n",
       "EC         8\n",
       "K-A        3\n",
       "RP         3\n",
       "AO         1\n",
       "Name: rating, dtype: int64"
      ]
     },
     "execution_count": 16,
     "metadata": {},
     "output_type": "execute_result"
    }
   ],
   "source": [
    "data['rating'].value_counts()"
   ]
  },
  {
   "cell_type": "markdown",
   "id": "87ffa90c",
   "metadata": {},
   "source": [
    "Рейтинг K-A имеется всего в 3-х строках. Этот рейтинг устаревший и \"в 1998 году был переименован в Е – для всех возрастов\", поэтому заменим его на E."
   ]
  },
  {
   "cell_type": "code",
   "execution_count": 17,
   "id": "f29d4023",
   "metadata": {},
   "outputs": [],
   "source": [
    "data.loc[data['rating'] == 'K-A', 'rating']  = 'E' "
   ]
  },
  {
   "cell_type": "markdown",
   "id": "f11a129d",
   "metadata": {},
   "source": [
    "Рейтинг RP абревиатура Raiting Pending, что переводится, как ожидание рейтинга. Значение RP заменим на NaN"
   ]
  },
  {
   "cell_type": "code",
   "execution_count": 18,
   "id": "b7f6a8b4",
   "metadata": {},
   "outputs": [],
   "source": [
    "data.loc[data['rating'] == 'RP', 'rating']  = np.nan"
   ]
  },
  {
   "cell_type": "markdown",
   "id": "7ef1f7cf",
   "metadata": {},
   "source": [
    "Рейтинг AO есть только у 1 игры. Описание рейтинга «AO» («Adults Only 18+») — «Только для взрослых». По описанию этот рейтинг очень близок к рейтингу «M» («Mature») — «От 17 лет». Поэтому заменим рейтинг AO на M."
   ]
  },
  {
   "cell_type": "code",
   "execution_count": 19,
   "id": "fbc8fd29",
   "metadata": {},
   "outputs": [],
   "source": [
    "data.loc[data['rating'] == 'AO', 'rating'] = 'M'"
   ]
  },
  {
   "cell_type": "code",
   "execution_count": 20,
   "id": "c1874693",
   "metadata": {},
   "outputs": [
    {
     "data": {
      "text/plain": [
       "E       3993\n",
       "T       2961\n",
       "M       1564\n",
       "E10+    1420\n",
       "EC         8\n",
       "Name: rating, dtype: int64"
      ]
     },
     "execution_count": 20,
     "metadata": {},
     "output_type": "execute_result"
    }
   ],
   "source": [
    "data['rating'].value_counts()"
   ]
  },
  {
   "cell_type": "code",
   "execution_count": 21,
   "id": "20aadc37",
   "metadata": {},
   "outputs": [],
   "source": [
    "data.loc[data.rating.isna(),'rating']='N/D'"
   ]
  },
  {
   "cell_type": "code",
   "execution_count": 22,
   "id": "5dc5fe63",
   "metadata": {},
   "outputs": [
    {
     "data": {
      "text/plain": [
       "N/D     6767\n",
       "E       3993\n",
       "T       2961\n",
       "M       1564\n",
       "E10+    1420\n",
       "EC         8\n",
       "Name: rating, dtype: int64"
      ]
     },
     "execution_count": 22,
     "metadata": {},
     "output_type": "execute_result"
    }
   ],
   "source": [
    "data['rating'].value_counts()"
   ]
  },
  {
   "cell_type": "markdown",
   "id": "77109730",
   "metadata": {},
   "source": [
    "### Столбец genre"
   ]
  },
  {
   "cell_type": "code",
   "execution_count": 23,
   "id": "4f0eed54",
   "metadata": {},
   "outputs": [
    {
     "data": {
      "text/plain": [
       "Action          3369\n",
       "Sports          2348\n",
       "Misc            1750\n",
       "Role-Playing    1498\n",
       "Shooter         1323\n",
       "Adventure       1303\n",
       "Racing          1249\n",
       "Platform         888\n",
       "Simulation       873\n",
       "Fighting         849\n",
       "Strategy         683\n",
       "Puzzle           580\n",
       "Name: genre, dtype: int64"
      ]
     },
     "execution_count": 23,
     "metadata": {},
     "output_type": "execute_result"
    }
   ],
   "source": [
    "data['genre'].value_counts()"
   ]
  },
  {
   "cell_type": "markdown",
   "id": "f727ef14",
   "metadata": {},
   "source": [
    "Здесь никаких вопросов по данным не возникло"
   ]
  },
  {
   "cell_type": "markdown",
   "id": "738dd35b",
   "metadata": {},
   "source": [
    "### Столбец user_score"
   ]
  },
  {
   "cell_type": "code",
   "execution_count": 24,
   "id": "c49e3a62",
   "metadata": {},
   "outputs": [
    {
     "data": {
      "text/plain": [
       "tbd    2424\n",
       "7.8     324\n",
       "8       290\n",
       "8.2     282\n",
       "8.3     254\n",
       "       ... \n",
       "1         2\n",
       "0.5       2\n",
       "1.1       2\n",
       "9.7       1\n",
       "0         1\n",
       "Name: user_score, Length: 96, dtype: int64"
      ]
     },
     "execution_count": 24,
     "metadata": {},
     "output_type": "execute_result"
    }
   ],
   "source": [
    "data['user_score'].value_counts()"
   ]
  },
  {
   "cell_type": "code",
   "execution_count": 25,
   "id": "d5b3c0da",
   "metadata": {},
   "outputs": [
    {
     "data": {
      "text/plain": [
       "0"
      ]
     },
     "execution_count": 25,
     "metadata": {},
     "output_type": "execute_result"
    }
   ],
   "source": [
    "data.loc[data['user_score'] == 'tbd'] = np.nan\n",
    "data[data['user_score'] == 'tbd']['user_score'].sum()"
   ]
  },
  {
   "cell_type": "code",
   "execution_count": 26,
   "id": "78027c19",
   "metadata": {},
   "outputs": [
    {
     "data": {
      "text/plain": [
       "2008    1101\n",
       "2009    1021\n",
       "2007    1005\n",
       "2010     924\n",
       "2011     919\n",
       "2006     882\n",
       "2005     818\n",
       "2003     680\n",
       "2004     655\n",
       "2002     637\n",
       "2012     629\n",
       "2015     568\n",
       "2014     560\n",
       "2013     529\n",
       "2016     468\n",
       "2001     400\n",
       "1998     379\n",
       "1999     330\n",
       "2000     307\n",
       "1997     288\n",
       "1996     263\n",
       "1995     219\n",
       "1994     121\n",
       "1993      60\n",
       "1981      46\n",
       "1992      43\n",
       "1991      41\n",
       "1982      36\n",
       "1986      21\n",
       "1989      17\n",
       "1983      17\n",
       "1987      16\n",
       "1990      16\n",
       "1988      15\n",
       "1985      14\n",
       "1984      14\n",
       "1980       9\n",
       "Name: year_of_release, dtype: Int64"
      ]
     },
     "execution_count": 26,
     "metadata": {},
     "output_type": "execute_result"
    }
   ],
   "source": [
    "data['year_of_release'].value_counts()"
   ]
  },
  {
   "cell_type": "markdown",
   "id": "194beee8",
   "metadata": {},
   "source": [
    "Очевидные пропуски имеются в Year_of_Release - 269 пропусков, отсутствие данных очевидно является ошибкой заведения данных.\n",
    "Значения были проверены выше, выбросов нет.\n",
    "Исходя из кол-ва можно было бы удалить, но я не стал. "
   ]
  },
  {
   "cell_type": "code",
   "execution_count": 27,
   "id": "09e6aee2",
   "metadata": {},
   "outputs": [
    {
     "data": {
      "text/plain": [
       "Series([], Name: year_of_release, dtype: Int64)"
      ]
     },
     "execution_count": 27,
     "metadata": {},
     "output_type": "execute_result"
    }
   ],
   "source": [
    "data[data.user_score=='tbd'].year_of_release.value_counts()"
   ]
  },
  {
   "cell_type": "markdown",
   "id": "500cd7cd",
   "metadata": {},
   "source": [
    "существенная часть значений в колонке user_score представлена значением 'tbd', что можно перевести как оценка ожидается, для целей статистики логично данные значения перевести в NaN, т.к. такое значение имеется в т.ч. по достаточно \"старым\" релизам игр."
   ]
  },
  {
   "cell_type": "code",
   "execution_count": 28,
   "id": "23454d80",
   "metadata": {},
   "outputs": [],
   "source": [
    "data.loc[data.user_score=='tbd','user_score']=np.nan\n",
    "data['user_score']=data['user_score'].astype(float)"
   ]
  },
  {
   "cell_type": "markdown",
   "id": "724f4ecf",
   "metadata": {},
   "source": [
    "### Создание столбца sales"
   ]
  },
  {
   "cell_type": "code",
   "execution_count": 29,
   "id": "00d46c17",
   "metadata": {},
   "outputs": [],
   "source": [
    "data['sales'] = data['na_sales'] + data['eu_sales'] + data['jp_sales'] + data['other_sales']"
   ]
  },
  {
   "cell_type": "code",
   "execution_count": 30,
   "id": "e3e15d9f",
   "metadata": {},
   "outputs": [
    {
     "name": "stdout",
     "output_type": "stream",
     "text": [
      "<class 'pandas.core.frame.DataFrame'>\n",
      "Int64Index: 16713 entries, 0 to 16714\n",
      "Data columns (total 12 columns):\n",
      " #   Column           Non-Null Count  Dtype  \n",
      "---  ------           --------------  -----  \n",
      " 0   name             14289 non-null  object \n",
      " 1   platform         14289 non-null  object \n",
      " 2   year_of_release  14068 non-null  Int64  \n",
      " 3   genre            14289 non-null  object \n",
      " 4   na_sales         14289 non-null  float64\n",
      " 5   eu_sales         14289 non-null  float64\n",
      " 6   jp_sales         14289 non-null  float64\n",
      " 7   other_sales      14289 non-null  float64\n",
      " 8   critic_score     7055 non-null   float64\n",
      " 9   user_score       7590 non-null   float64\n",
      " 10  rating           14289 non-null  object \n",
      " 11  sales            14289 non-null  float64\n",
      "dtypes: Int64(1), float64(7), object(4)\n",
      "memory usage: 1.7+ MB\n"
     ]
    }
   ],
   "source": [
    "data.info()"
   ]
  },
  {
   "cell_type": "code",
   "execution_count": 31,
   "id": "67819495",
   "metadata": {},
   "outputs": [
    {
     "data": {
      "text/plain": [
       "0.02     867\n",
       "0.03     662\n",
       "0.01     657\n",
       "0.04     520\n",
       "0.05     510\n",
       "        ... \n",
       "3.84       1\n",
       "11.90      1\n",
       "8.79       1\n",
       "0.52       1\n",
       "6.32       1\n",
       "Name: sales, Length: 1000, dtype: int64"
      ]
     },
     "execution_count": 31,
     "metadata": {},
     "output_type": "execute_result"
    }
   ],
   "source": [
    "data.sales.value_counts()"
   ]
  },
  {
   "cell_type": "markdown",
   "id": "8d5b6fa7",
   "metadata": {},
   "source": [
    "## Исследовательский анализ"
   ]
  },
  {
   "cell_type": "markdown",
   "id": "18c5e4bc",
   "metadata": {},
   "source": [
    "### Выпуск игр по годам"
   ]
  },
  {
   "cell_type": "code",
   "execution_count": 32,
   "id": "6406fd55",
   "metadata": {},
   "outputs": [
    {
     "data": {
      "text/plain": [
       "Need for Speed: Most Wanted                      12\n",
       "Madden NFL 07                                     9\n",
       "FIFA 14                                           9\n",
       "LEGO Marvel Super Heroes                          9\n",
       "Angry Birds Star Wars                             8\n",
       "                                                 ..\n",
       "Lara Croft Tomb Raider: The Angel of Darkness     1\n",
       "Lord of Darkness                                  1\n",
       "Mortal Kombat: Special Forces                     1\n",
       "Harvest Moon: Tree of Tranquility                 1\n",
       "Xenosaga I·II                                     1\n",
       "Name: name, Length: 10200, dtype: int64"
      ]
     },
     "execution_count": 32,
     "metadata": {},
     "output_type": "execute_result"
    }
   ],
   "source": [
    "data.name.value_counts()"
   ]
  },
  {
   "cell_type": "code",
   "execution_count": 33,
   "id": "f39c56e4",
   "metadata": {},
   "outputs": [
    {
     "data": {
      "text/plain": [
       "0                   Wii Sports\n",
       "1            Super Mario Bros.\n",
       "2               Mario Kart Wii\n",
       "3            Wii Sports Resort\n",
       "4     Pokemon Red/Pokemon Blue\n",
       "5                       Tetris\n",
       "6        New Super Mario Bros.\n",
       "7                     Wii Play\n",
       "8    New Super Mario Bros. Wii\n",
       "9                    Duck Hunt\n",
       "Name: name, dtype: object"
      ]
     },
     "execution_count": 33,
     "metadata": {},
     "output_type": "execute_result"
    }
   ],
   "source": [
    "data.name.head(10)"
   ]
  },
  {
   "cell_type": "code",
   "execution_count": 34,
   "id": "e8bc26a9",
   "metadata": {},
   "outputs": [],
   "source": [
    "game_year = data.pivot_table(index='year_of_release', values='name', aggfunc='count')\n",
    "game_year.index = game_year.index.astype('int')"
   ]
  },
  {
   "cell_type": "code",
   "execution_count": 35,
   "id": "abef4d72",
   "metadata": {},
   "outputs": [
    {
     "data": {
      "text/plain": [
       "<AxesSubplot:xlabel='year_of_release'>"
      ]
     },
     "execution_count": 35,
     "metadata": {},
     "output_type": "execute_result"
    },
    {
     "data": {
      "image/png": "[encoded data removed]",
      "text/plain": [
       "<Figure size 864x288 with 1 Axes>"
      ]
     },
     "metadata": {
      "needs_background": "light"
     },
     "output_type": "display_data"
    }
   ],
   "source": [
    "game_year.plot(kind='bar', figsize=(12,4), grid=True)"
   ]
  },
  {
   "cell_type": "markdown",
   "id": "8d364b74",
   "metadata": {},
   "source": [
    "Из диаграммы видно, что первый пик 379 выпущенных игр пришёлся на 1998 год, второй пик 1101 игра пришёлся на 2008 год. С 2008 по 2013 год было падение выпускаемых игр в 2 раза, с 1101 игры до 529. Начиная с 2013 года, количество выпускаемых игр стабилизировалось на значении около 500 в год."
   ]
  },
  {
   "cell_type": "markdown",
   "id": "10aefddd",
   "metadata": {},
   "source": [
    "### Продажи по годам"
   ]
  },
  {
   "cell_type": "code",
   "execution_count": 36,
   "id": "0eccb7b0",
   "metadata": {},
   "outputs": [
    {
     "data": {
      "image/png": "[encoded data removed]",
      "text/plain": [
       "<Figure size 432x288 with 1 Axes>"
      ]
     },
     "metadata": {
      "needs_background": "light"
     },
     "output_type": "display_data"
    }
   ],
   "source": [
    "data.pivot_table(index='year_of_release', values='sales', aggfunc='sum').plot(grid=True);"
   ]
  },
  {
   "cell_type": "markdown",
   "id": "068872c5",
   "metadata": {},
   "source": [
    "На графике продаж, также можно увидеть 2 пика в 1998 и в 2008 году. После 2008 года происходит падение продаж с 600 млн копий в 2008 году до 150 млн в 2016 году."
   ]
  },
  {
   "cell_type": "markdown",
   "id": "08b83f8d",
   "metadata": {},
   "source": [
    "### Продажи по платформам\n",
    "Построение таблицы платформы - продажи (количество копий) с сортировкой продаж по убыванию."
   ]
  },
  {
   "cell_type": "code",
   "execution_count": 37,
   "id": "9e7f131a",
   "metadata": {},
   "outputs": [
    {
     "data": {
      "text/html": [
       "<div>\n",
       "<style scoped>\n",
       "    .dataframe tbody tr th:only-of-type {\n",
       "        vertical-align: middle;\n",
       "    }\n",
       "\n",
       "    .dataframe tbody tr th {\n",
       "        vertical-align: top;\n",
       "    }\n",
       "\n",
       "    .dataframe thead th {\n",
       "        text-align: right;\n",
       "    }\n",
       "</style>\n",
       "<table border=\"1\" class=\"dataframe\">\n",
       "  <thead>\n",
       "    <tr style=\"text-align: right;\">\n",
       "      <th></th>\n",
       "      <th>index</th>\n",
       "      <th>platform</th>\n",
       "      <th>sales</th>\n",
       "    </tr>\n",
       "  </thead>\n",
       "  <tbody>\n",
       "    <tr>\n",
       "      <th>0</th>\n",
       "      <td>16</td>\n",
       "      <td>PS2</td>\n",
       "      <td>1191.93</td>\n",
       "    </tr>\n",
       "    <tr>\n",
       "      <th>1</th>\n",
       "      <td>28</td>\n",
       "      <td>X360</td>\n",
       "      <td>958.84</td>\n",
       "    </tr>\n",
       "    <tr>\n",
       "      <th>2</th>\n",
       "      <td>17</td>\n",
       "      <td>PS3</td>\n",
       "      <td>929.40</td>\n",
       "    </tr>\n",
       "    <tr>\n",
       "      <th>3</th>\n",
       "      <td>26</td>\n",
       "      <td>Wii</td>\n",
       "      <td>807.14</td>\n",
       "    </tr>\n",
       "    <tr>\n",
       "      <th>4</th>\n",
       "      <td>15</td>\n",
       "      <td>PS</td>\n",
       "      <td>717.24</td>\n",
       "    </tr>\n",
       "  </tbody>\n",
       "</table>\n",
       "</div>"
      ],
      "text/plain": [
       "   index platform    sales\n",
       "0     16      PS2  1191.93\n",
       "1     28     X360   958.84\n",
       "2     17      PS3   929.40\n",
       "3     26      Wii   807.14\n",
       "4     15       PS   717.24"
      ]
     },
     "metadata": {},
     "output_type": "display_data"
    }
   ],
   "source": [
    "platform_games = data.pivot_table(index='platform', values='sales', aggfunc='sum').reset_index().sort_values(by='sales', ascending=False).reset_index()\n",
    "platform_games.columns = ['index', 'platform', 'sales']\n",
    "display(platform_games.head())"
   ]
  },
  {
   "cell_type": "markdown",
   "id": "20318b5d",
   "metadata": {},
   "source": [
    "Возьмём 15 самых популярных платформ. Построим распределение продаж по годам для этих платформ, чтобы определить характерный срок появления и исчезновения игровых платформ."
   ]
  },
  {
   "cell_type": "markdown",
   "id": "b26a1565",
   "metadata": {},
   "source": [
    "### Топ 15 платформ по годам"
   ]
  },
  {
   "cell_type": "code",
   "execution_count": 38,
   "id": "35aeb236",
   "metadata": {},
   "outputs": [
    {
     "data": {
      "text/plain": [
       "<bound method IndexOpsMixin.tolist of 0      PS2\n",
       "1     X360\n",
       "2      PS3\n",
       "3      Wii\n",
       "4       PS\n",
       "5       DS\n",
       "6      PS4\n",
       "7      PSP\n",
       "8      GBA\n",
       "9       PC\n",
       "10      GB\n",
       "11     3DS\n",
       "12     NES\n",
       "13      XB\n",
       "14     N64\n",
       "Name: platform, dtype: object>"
      ]
     },
     "execution_count": 38,
     "metadata": {},
     "output_type": "execute_result"
    }
   ],
   "source": [
    "platform_top15 = platform_games.loc[:14, 'platform']\n",
    "platform_top15.tolist"
   ]
  },
  {
   "cell_type": "code",
   "execution_count": 39,
   "id": "f915fbed",
   "metadata": {},
   "outputs": [
    {
     "data": {
      "text/plain": [
       "array(['Wii', 'NES', 'GB', 'DS', 'X360', 'PS3', 'PS2', 'GBA', 'PS4',\n",
       "       '3DS', 'N64', 'PS', 'XB', 'PC', 'PSP'], dtype=object)"
      ]
     },
     "execution_count": 39,
     "metadata": {},
     "output_type": "execute_result"
    }
   ],
   "source": [
    "data_platf_top15 = data.query('platform in @platform_top15')\n",
    "data_platf_top15['platform'].unique()"
   ]
  },
  {
   "cell_type": "code",
   "execution_count": 40,
   "id": "055aa795",
   "metadata": {},
   "outputs": [],
   "source": [
    "data_platf_top15 = data_platf_top15.dropna(subset=['year_of_release'])"
   ]
  },
  {
   "cell_type": "code",
   "execution_count": 41,
   "id": "584d1cc7",
   "metadata": {},
   "outputs": [
    {
     "data": {
      "text/html": [
       "<div>\n",
       "<style scoped>\n",
       "    .dataframe tbody tr th:only-of-type {\n",
       "        vertical-align: middle;\n",
       "    }\n",
       "\n",
       "    .dataframe tbody tr th {\n",
       "        vertical-align: top;\n",
       "    }\n",
       "\n",
       "    .dataframe thead th {\n",
       "        text-align: right;\n",
       "    }\n",
       "</style>\n",
       "<table border=\"1\" class=\"dataframe\">\n",
       "  <thead>\n",
       "    <tr style=\"text-align: right;\">\n",
       "      <th>year_of_release</th>\n",
       "      <th>1983</th>\n",
       "      <th>1984</th>\n",
       "      <th>1985</th>\n",
       "      <th>1986</th>\n",
       "      <th>1987</th>\n",
       "      <th>1988</th>\n",
       "      <th>1989</th>\n",
       "      <th>1990</th>\n",
       "      <th>1991</th>\n",
       "      <th>1992</th>\n",
       "      <th>...</th>\n",
       "      <th>2007</th>\n",
       "      <th>2008</th>\n",
       "      <th>2009</th>\n",
       "      <th>2010</th>\n",
       "      <th>2011</th>\n",
       "      <th>2012</th>\n",
       "      <th>2013</th>\n",
       "      <th>2014</th>\n",
       "      <th>2015</th>\n",
       "      <th>2016</th>\n",
       "    </tr>\n",
       "    <tr>\n",
       "      <th>platform</th>\n",
       "      <th></th>\n",
       "      <th></th>\n",
       "      <th></th>\n",
       "      <th></th>\n",
       "      <th></th>\n",
       "      <th></th>\n",
       "      <th></th>\n",
       "      <th></th>\n",
       "      <th></th>\n",
       "      <th></th>\n",
       "      <th></th>\n",
       "      <th></th>\n",
       "      <th></th>\n",
       "      <th></th>\n",
       "      <th></th>\n",
       "      <th></th>\n",
       "      <th></th>\n",
       "      <th></th>\n",
       "      <th></th>\n",
       "      <th></th>\n",
       "      <th></th>\n",
       "    </tr>\n",
       "  </thead>\n",
       "  <tbody>\n",
       "    <tr>\n",
       "      <th>3DS</th>\n",
       "      <td>NaN</td>\n",
       "      <td>NaN</td>\n",
       "      <td>NaN</td>\n",
       "      <td>NaN</td>\n",
       "      <td>NaN</td>\n",
       "      <td>NaN</td>\n",
       "      <td>NaN</td>\n",
       "      <td>NaN</td>\n",
       "      <td>NaN</td>\n",
       "      <td>NaN</td>\n",
       "      <td>...</td>\n",
       "      <td>NaN</td>\n",
       "      <td>NaN</td>\n",
       "      <td>NaN</td>\n",
       "      <td>NaN</td>\n",
       "      <td>60.53</td>\n",
       "      <td>51.01</td>\n",
       "      <td>56.32</td>\n",
       "      <td>43.07</td>\n",
       "      <td>27.21</td>\n",
       "      <td>15.1</td>\n",
       "    </tr>\n",
       "    <tr>\n",
       "      <th>DS</th>\n",
       "      <td>NaN</td>\n",
       "      <td>NaN</td>\n",
       "      <td>0.02</td>\n",
       "      <td>NaN</td>\n",
       "      <td>NaN</td>\n",
       "      <td>NaN</td>\n",
       "      <td>NaN</td>\n",
       "      <td>NaN</td>\n",
       "      <td>NaN</td>\n",
       "      <td>NaN</td>\n",
       "      <td>...</td>\n",
       "      <td>121.23</td>\n",
       "      <td>102.44</td>\n",
       "      <td>84.54</td>\n",
       "      <td>61.56</td>\n",
       "      <td>13.48</td>\n",
       "      <td>10.28</td>\n",
       "      <td>0.97</td>\n",
       "      <td>NaN</td>\n",
       "      <td>NaN</td>\n",
       "      <td>NaN</td>\n",
       "    </tr>\n",
       "    <tr>\n",
       "      <th>GB</th>\n",
       "      <td>NaN</td>\n",
       "      <td>NaN</td>\n",
       "      <td>NaN</td>\n",
       "      <td>NaN</td>\n",
       "      <td>NaN</td>\n",
       "      <td>1.43</td>\n",
       "      <td>64.97</td>\n",
       "      <td>4.89</td>\n",
       "      <td>5.57</td>\n",
       "      <td>25.49</td>\n",
       "      <td>...</td>\n",
       "      <td>NaN</td>\n",
       "      <td>NaN</td>\n",
       "      <td>NaN</td>\n",
       "      <td>NaN</td>\n",
       "      <td>NaN</td>\n",
       "      <td>NaN</td>\n",
       "      <td>NaN</td>\n",
       "      <td>NaN</td>\n",
       "      <td>NaN</td>\n",
       "      <td>NaN</td>\n",
       "    </tr>\n",
       "    <tr>\n",
       "      <th>GBA</th>\n",
       "      <td>NaN</td>\n",
       "      <td>NaN</td>\n",
       "      <td>NaN</td>\n",
       "      <td>NaN</td>\n",
       "      <td>NaN</td>\n",
       "      <td>NaN</td>\n",
       "      <td>NaN</td>\n",
       "      <td>NaN</td>\n",
       "      <td>NaN</td>\n",
       "      <td>NaN</td>\n",
       "      <td>...</td>\n",
       "      <td>3.21</td>\n",
       "      <td>NaN</td>\n",
       "      <td>NaN</td>\n",
       "      <td>NaN</td>\n",
       "      <td>NaN</td>\n",
       "      <td>NaN</td>\n",
       "      <td>NaN</td>\n",
       "      <td>NaN</td>\n",
       "      <td>NaN</td>\n",
       "      <td>NaN</td>\n",
       "    </tr>\n",
       "    <tr>\n",
       "      <th>N64</th>\n",
       "      <td>NaN</td>\n",
       "      <td>NaN</td>\n",
       "      <td>NaN</td>\n",
       "      <td>NaN</td>\n",
       "      <td>NaN</td>\n",
       "      <td>NaN</td>\n",
       "      <td>NaN</td>\n",
       "      <td>NaN</td>\n",
       "      <td>NaN</td>\n",
       "      <td>NaN</td>\n",
       "      <td>...</td>\n",
       "      <td>NaN</td>\n",
       "      <td>NaN</td>\n",
       "      <td>NaN</td>\n",
       "      <td>NaN</td>\n",
       "      <td>NaN</td>\n",
       "      <td>NaN</td>\n",
       "      <td>NaN</td>\n",
       "      <td>NaN</td>\n",
       "      <td>NaN</td>\n",
       "      <td>NaN</td>\n",
       "    </tr>\n",
       "  </tbody>\n",
       "</table>\n",
       "<p>5 rows × 34 columns</p>\n",
       "</div>"
      ],
      "text/plain": [
       "year_of_release  1983  1984  1985  1986  1987  1988   1989  1990  1991   1992  \\\n",
       "platform                                                                        \n",
       "3DS               NaN   NaN   NaN   NaN   NaN   NaN    NaN   NaN   NaN    NaN   \n",
       "DS                NaN   NaN  0.02   NaN   NaN   NaN    NaN   NaN   NaN    NaN   \n",
       "GB                NaN   NaN   NaN   NaN   NaN  1.43  64.97  4.89  5.57  25.49   \n",
       "GBA               NaN   NaN   NaN   NaN   NaN   NaN    NaN   NaN   NaN    NaN   \n",
       "N64               NaN   NaN   NaN   NaN   NaN   NaN    NaN   NaN   NaN    NaN   \n",
       "\n",
       "year_of_release  ...    2007    2008   2009   2010   2011   2012   2013  \\\n",
       "platform         ...                                                      \n",
       "3DS              ...     NaN     NaN    NaN    NaN  60.53  51.01  56.32   \n",
       "DS               ...  121.23  102.44  84.54  61.56  13.48  10.28   0.97   \n",
       "GB               ...     NaN     NaN    NaN    NaN    NaN    NaN    NaN   \n",
       "GBA              ...    3.21     NaN    NaN    NaN    NaN    NaN    NaN   \n",
       "N64              ...     NaN     NaN    NaN    NaN    NaN    NaN    NaN   \n",
       "\n",
       "year_of_release   2014   2015  2016  \n",
       "platform                             \n",
       "3DS              43.07  27.21  15.1  \n",
       "DS                 NaN    NaN   NaN  \n",
       "GB                 NaN    NaN   NaN  \n",
       "GBA                NaN    NaN   NaN  \n",
       "N64                NaN    NaN   NaN  \n",
       "\n",
       "[5 rows x 34 columns]"
      ]
     },
     "execution_count": 41,
     "metadata": {},
     "output_type": "execute_result"
    }
   ],
   "source": [
    "platform_year = data_platf_top15.pivot_table(index='platform', columns='year_of_release', values='sales', aggfunc='sum')\n",
    "platform_year.head()"
   ]
  },
  {
   "cell_type": "markdown",
   "id": "ca2c08cf",
   "metadata": {},
   "source": [
    "Для выяснения характерного срока за которые появляются новые платформы и исчезают старые, построим таблицу платформа - срок существования платформы (год появление платформы, год прекращения продаж по ней). Таблицу будем создавать вручную просматривая графики продаж платформ топ 15.\n",
    "Создание датафрейма со столбцами platform - название платформы, start - год выхода платформы на рынок, end - дата окончания продаж платформы."
   ]
  },
  {
   "cell_type": "code",
   "execution_count": 42,
   "id": "3efb92c2",
   "metadata": {},
   "outputs": [],
   "source": [
    "platf_top15_start_end = pd.DataFrame(columns=['platform', 'start', 'end'])"
   ]
  },
  {
   "cell_type": "markdown",
   "id": "6e5c9959",
   "metadata": {},
   "source": [
    "## Просмотр продаж топ 15 платформ по отдельности для определения годов их существования."
   ]
  },
  {
   "cell_type": "markdown",
   "id": "8534a229",
   "metadata": {},
   "source": [
    "### Для PS2, X360, PS3, Wii, DS"
   ]
  },
  {
   "cell_type": "code",
   "execution_count": 43,
   "id": "6a91902a",
   "metadata": {},
   "outputs": [
    {
     "data": {
      "text/plain": [
       "<AxesSubplot:xlabel='year_of_release'>"
      ]
     },
     "execution_count": 43,
     "metadata": {},
     "output_type": "execute_result"
    },
    {
     "data": {
      "image/png": "[encoded data removed]",
      "text/plain": [
       "<Figure size 432x288 with 1 Axes>"
      ]
     },
     "metadata": {
      "needs_background": "light"
     },
     "output_type": "display_data"
    }
   ],
   "source": [
    "platform_year.loc['PS2'].plot(xlim=(1995, 2016), grid=True)"
   ]
  },
  {
   "cell_type": "markdown",
   "id": "31cfa5be",
   "metadata": {},
   "source": [
    "Для платформы PS2 срок существования 2000 - 2011"
   ]
  },
  {
   "cell_type": "code",
   "execution_count": 44,
   "id": "b598b0a1",
   "metadata": {},
   "outputs": [],
   "source": [
    "platf_top15_start_end = platf_top15_start_end.append({'platform' : 'PS2','start' : 2000,'end' : 2011},ignore_index=True)"
   ]
  },
  {
   "cell_type": "code",
   "execution_count": 45,
   "id": "55345113",
   "metadata": {},
   "outputs": [
    {
     "data": {
      "text/plain": [
       "<AxesSubplot:xlabel='year_of_release'>"
      ]
     },
     "execution_count": 45,
     "metadata": {},
     "output_type": "execute_result"
    },
    {
     "data": {
      "image/png": "[encoded data removed]",
      "text/plain": [
       "<Figure size 432x288 with 1 Axes>"
      ]
     },
     "metadata": {
      "needs_background": "light"
     },
     "output_type": "display_data"
    }
   ],
   "source": [
    "platform_year.loc['X360'].plot(xlim=(2000, 2016), grid=True)"
   ]
  },
  {
   "cell_type": "markdown",
   "id": "8b211912",
   "metadata": {},
   "source": [
    "Для платформы X360 срок существования 2005 - 2016"
   ]
  },
  {
   "cell_type": "code",
   "execution_count": 46,
   "id": "b80cf55e",
   "metadata": {},
   "outputs": [],
   "source": [
    "platf_top15_start_end = platf_top15_start_end.append({'platform' : 'X360','start' : 2005,'end' : 2016},ignore_index=True)"
   ]
  },
  {
   "cell_type": "code",
   "execution_count": 47,
   "id": "71387678",
   "metadata": {},
   "outputs": [
    {
     "data": {
      "text/plain": [
       "<AxesSubplot:xlabel='year_of_release'>"
      ]
     },
     "execution_count": 47,
     "metadata": {},
     "output_type": "execute_result"
    },
    {
     "data": {
      "image/png": "[encoded data removed]",
      "text/plain": [
       "<Figure size 432x288 with 1 Axes>"
      ]
     },
     "metadata": {
      "needs_background": "light"
     },
     "output_type": "display_data"
    }
   ],
   "source": [
    "platform_year.loc['PS3'].plot(xlim=(2005, 2016), grid=True)"
   ]
  },
  {
   "cell_type": "markdown",
   "id": "dcb7d521",
   "metadata": {},
   "source": [
    "Для платформы PS3 срок существования 2006 - 2016"
   ]
  },
  {
   "cell_type": "code",
   "execution_count": 48,
   "id": "e3b3b15b",
   "metadata": {},
   "outputs": [],
   "source": [
    "platf_top15_start_end = platf_top15_start_end.append({'platform' : 'PS3','start' : 2006,'end' : 2016},ignore_index=True)"
   ]
  },
  {
   "cell_type": "code",
   "execution_count": 49,
   "id": "3eb6d6be",
   "metadata": {},
   "outputs": [
    {
     "data": {
      "text/plain": [
       "<AxesSubplot:xlabel='year_of_release'>"
      ]
     },
     "execution_count": 49,
     "metadata": {},
     "output_type": "execute_result"
    },
    {
     "data": {
      "image/png": "[encoded data removed]",
      "text/plain": [
       "<Figure size 432x288 with 1 Axes>"
      ]
     },
     "metadata": {
      "needs_background": "light"
     },
     "output_type": "display_data"
    }
   ],
   "source": [
    "platform_year.loc['Wii'].plot(xlim=(2005, 2016), grid=True)"
   ]
  },
  {
   "cell_type": "markdown",
   "id": "799a54ca",
   "metadata": {},
   "source": [
    "Для платформы Wii срок существования 2006 - 2015"
   ]
  },
  {
   "cell_type": "code",
   "execution_count": 50,
   "id": "9063cf2c",
   "metadata": {},
   "outputs": [],
   "source": [
    "platf_top15_start_end = platf_top15_start_end.append({'platform' : 'Wii','start' : 2006,'end' : 2015},ignore_index=True)"
   ]
  },
  {
   "cell_type": "code",
   "execution_count": 51,
   "id": "f22190f8",
   "metadata": {},
   "outputs": [
    {
     "data": {
      "text/plain": [
       "<AxesSubplot:xlabel='year_of_release'>"
      ]
     },
     "execution_count": 51,
     "metadata": {},
     "output_type": "execute_result"
    },
    {
     "data": {
      "image/png": "[encoded data removed]",
      "text/plain": [
       "<Figure size 432x288 with 1 Axes>"
      ]
     },
     "metadata": {
      "needs_background": "light"
     },
     "output_type": "display_data"
    }
   ],
   "source": [
    "platform_year.loc['DS'].plot(xlim=(2000, 2015), grid=True)"
   ]
  },
  {
   "cell_type": "markdown",
   "id": "a5f8c55b",
   "metadata": {},
   "source": [
    "Для платформы DS срок существования 2004 - 2013."
   ]
  },
  {
   "cell_type": "code",
   "execution_count": 52,
   "id": "d435d2a2",
   "metadata": {},
   "outputs": [],
   "source": [
    "platf_top15_start_end = platf_top15_start_end.append({'platform' : 'DS','start' : 2004,'end' : 2013},ignore_index=True)"
   ]
  },
  {
   "cell_type": "code",
   "execution_count": 53,
   "id": "33dd6936",
   "metadata": {},
   "outputs": [
    {
     "data": {
      "text/plain": [
       "<AxesSubplot:xlabel='year_of_release'>"
      ]
     },
     "execution_count": 53,
     "metadata": {},
     "output_type": "execute_result"
    },
    {
     "data": {
      "image/png": "[encoded data removed]",
      "text/plain": [
       "<Figure size 432x288 with 1 Axes>"
      ]
     },
     "metadata": {
      "needs_background": "light"
     },
     "output_type": "display_data"
    }
   ],
   "source": [
    "platform_year.loc['PS'].plot(xlim=(1990, 2005), grid=True)"
   ]
  },
  {
   "cell_type": "markdown",
   "id": "2a13f445",
   "metadata": {},
   "source": [
    "Для платформы PS срок существования 1994 - 2003."
   ]
  },
  {
   "cell_type": "code",
   "execution_count": 54,
   "id": "5e4812d9",
   "metadata": {},
   "outputs": [],
   "source": [
    "platf_top15_start_end = platf_top15_start_end.append(\n",
    "                        {'platform' : 'PS',\n",
    "                         'start' : 1994,\n",
    "                         'end' : 2003},\n",
    "                        ignore_index=True\n",
    ")"
   ]
  },
  {
   "cell_type": "code",
   "execution_count": 55,
   "id": "e9ccb111",
   "metadata": {},
   "outputs": [
    {
     "data": {
      "text/plain": [
       "<AxesSubplot:xlabel='year_of_release'>"
      ]
     },
     "execution_count": 55,
     "metadata": {},
     "output_type": "execute_result"
    },
    {
     "data": {
      "image/png": "[encoded data removed]",
      "text/plain": [
       "<Figure size 432x288 with 1 Axes>"
      ]
     },
     "metadata": {
      "needs_background": "light"
     },
     "output_type": "display_data"
    }
   ],
   "source": [
    "platform_year.loc['GBA'].plot(xlim=(1999, 2010), grid=True)"
   ]
  },
  {
   "cell_type": "markdown",
   "id": "424af174",
   "metadata": {},
   "source": [
    "Для платформы GBA срок существования 2000 - 2007."
   ]
  },
  {
   "cell_type": "code",
   "execution_count": 56,
   "id": "0bbf64e7",
   "metadata": {},
   "outputs": [],
   "source": [
    "platf_top15_start_end = platf_top15_start_end.append(\n",
    "                        {'platform' : 'GBA',\n",
    "                         'start' : 2000,\n",
    "                         'end' : 2007},\n",
    "                        ignore_index=True\n",
    ")"
   ]
  },
  {
   "cell_type": "code",
   "execution_count": 57,
   "id": "653cade3",
   "metadata": {},
   "outputs": [
    {
     "data": {
      "text/plain": [
       "<AxesSubplot:xlabel='year_of_release'>"
      ]
     },
     "execution_count": 57,
     "metadata": {},
     "output_type": "execute_result"
    },
    {
     "data": {
      "image/png": "[encoded data removed]",
      "text/plain": [
       "<Figure size 432x288 with 1 Axes>"
      ]
     },
     "metadata": {
      "needs_background": "light"
     },
     "output_type": "display_data"
    }
   ],
   "source": [
    "platform_year.loc['PS4'].plot(xlim=(2010, 2016), grid=True)"
   ]
  },
  {
   "cell_type": "markdown",
   "id": "881ed5dd",
   "metadata": {},
   "source": [
    "Для платформы PS4 срок существования 2013 - 2016."
   ]
  },
  {
   "cell_type": "code",
   "execution_count": 58,
   "id": "fb669b1f",
   "metadata": {},
   "outputs": [],
   "source": [
    "platf_top15_start_end = platf_top15_start_end.append(\n",
    "                        {'platform' : 'PS4',\n",
    "                         'start' : 2013,\n",
    "                         'end' : 2016},\n",
    "                        ignore_index=True\n",
    ")"
   ]
  },
  {
   "cell_type": "code",
   "execution_count": 59,
   "id": "436c5c5a",
   "metadata": {},
   "outputs": [
    {
     "data": {
      "text/plain": [
       "<AxesSubplot:xlabel='year_of_release'>"
      ]
     },
     "execution_count": 59,
     "metadata": {},
     "output_type": "execute_result"
    },
    {
     "data": {
      "image/png": "[encoded data removed]",
      "text/plain": [
       "<Figure size 432x288 with 1 Axes>"
      ]
     },
     "metadata": {
      "needs_background": "light"
     },
     "output_type": "display_data"
    }
   ],
   "source": [
    "platform_year.loc['PSP'].plot(xlim=(2000, 2016), grid=True)"
   ]
  },
  {
   "cell_type": "markdown",
   "id": "e3dfa9d1",
   "metadata": {},
   "source": [
    "Для платформы PSP срок существования 2004 - 2015."
   ]
  },
  {
   "cell_type": "code",
   "execution_count": 60,
   "id": "61793612",
   "metadata": {},
   "outputs": [],
   "source": [
    "platf_top15_start_end = platf_top15_start_end.append(\n",
    "                        {'platform' : 'PSP',\n",
    "                         'start' : 2004,\n",
    "                         'end' : 2015},\n",
    "                        ignore_index=True\n",
    ")"
   ]
  },
  {
   "cell_type": "code",
   "execution_count": 61,
   "id": "22cc087b",
   "metadata": {},
   "outputs": [
    {
     "data": {
      "text/plain": [
       "<AxesSubplot:xlabel='year_of_release'>"
      ]
     },
     "execution_count": 61,
     "metadata": {},
     "output_type": "execute_result"
    },
    {
     "data": {
      "image/png": "[encoded data removed]",
      "text/plain": [
       "<Figure size 432x288 with 1 Axes>"
      ]
     },
     "metadata": {
      "needs_background": "light"
     },
     "output_type": "display_data"
    }
   ],
   "source": [
    "platform_year.loc['PC'].plot(xlim=(1990, 2016), grid=True)"
   ]
  },
  {
   "cell_type": "markdown",
   "id": "abecd720",
   "metadata": {},
   "source": [
    "Для платформы PC срок существования 1994 - 2016."
   ]
  },
  {
   "cell_type": "code",
   "execution_count": 62,
   "id": "3cd5d6ce",
   "metadata": {},
   "outputs": [],
   "source": [
    "platf_top15_start_end = platf_top15_start_end.append(\n",
    "                        {'platform' : 'PC',\n",
    "                         'start' : 1994,\n",
    "                         'end' : 2016},\n",
    "                        ignore_index=True\n",
    ")"
   ]
  },
  {
   "cell_type": "code",
   "execution_count": 63,
   "id": "ef43fb1c",
   "metadata": {},
   "outputs": [
    {
     "data": {
      "text/plain": [
       "<AxesSubplot:xlabel='year_of_release'>"
      ]
     },
     "execution_count": 63,
     "metadata": {},
     "output_type": "execute_result"
    },
    {
     "data": {
      "image/png": "[encoded data removed]",
      "text/plain": [
       "<Figure size 432x288 with 1 Axes>"
      ]
     },
     "metadata": {
      "needs_background": "light"
     },
     "output_type": "display_data"
    }
   ],
   "source": [
    "platform_year.loc['3DS'].plot(xlim=(2009, 2016), grid=True)"
   ]
  },
  {
   "cell_type": "markdown",
   "id": "442406e4",
   "metadata": {},
   "source": [
    "Для платформы 3DS срок существования 2011 - 2016."
   ]
  },
  {
   "cell_type": "code",
   "execution_count": 64,
   "id": "4c11addb",
   "metadata": {},
   "outputs": [],
   "source": [
    "platf_top15_start_end = platf_top15_start_end.append(\n",
    "                        {'platform' : '3DS',\n",
    "                         'start' : 2011,\n",
    "                         'end' : 2016},\n",
    "                        ignore_index=True\n",
    ")"
   ]
  },
  {
   "cell_type": "code",
   "execution_count": 65,
   "id": "ab46f26d",
   "metadata": {},
   "outputs": [
    {
     "data": {
      "text/plain": [
       "<AxesSubplot:xlabel='year_of_release'>"
      ]
     },
     "execution_count": 65,
     "metadata": {},
     "output_type": "execute_result"
    },
    {
     "data": {
      "image/png": "[encoded data removed]",
      "text/plain": [
       "<Figure size 432x288 with 1 Axes>"
      ]
     },
     "metadata": {
      "needs_background": "light"
     },
     "output_type": "display_data"
    }
   ],
   "source": [
    "platform_year.loc['XB'].plot(xlim=(1999, 2016), grid=True)"
   ]
  },
  {
   "cell_type": "markdown",
   "id": "256723d0",
   "metadata": {},
   "source": [
    "Для платформы XB срок существования 2000 - 2008."
   ]
  },
  {
   "cell_type": "code",
   "execution_count": 66,
   "id": "830ddf4f",
   "metadata": {},
   "outputs": [],
   "source": [
    "platf_top15_start_end = platf_top15_start_end.append(\n",
    "                        {'platform' : 'XB',\n",
    "                         'start' : 2000,\n",
    "                         'end' : 2008},\n",
    "                        ignore_index=True\n",
    ")"
   ]
  },
  {
   "cell_type": "code",
   "execution_count": 67,
   "id": "aab903f3",
   "metadata": {},
   "outputs": [
    {
     "data": {
      "text/plain": [
       "<AxesSubplot:xlabel='year_of_release'>"
      ]
     },
     "execution_count": 67,
     "metadata": {},
     "output_type": "execute_result"
    },
    {
     "data": {
      "image/png": "[encoded data removed]",
      "text/plain": [
       "<Figure size 432x288 with 1 Axes>"
      ]
     },
     "metadata": {
      "needs_background": "light"
     },
     "output_type": "display_data"
    }
   ],
   "source": [
    "platform_year.loc['GB'].plot(xlim=(1985, 2005), grid=True)"
   ]
  },
  {
   "cell_type": "markdown",
   "id": "3ef32fd9",
   "metadata": {},
   "source": [
    "Для платформы GB срок существования 1998 - 2001."
   ]
  },
  {
   "cell_type": "code",
   "execution_count": 68,
   "id": "aebca2ac",
   "metadata": {},
   "outputs": [],
   "source": [
    "platf_top15_start_end = platf_top15_start_end.append(\n",
    "                        {'platform' : 'GB',\n",
    "                         'start' : 1988,\n",
    "                         'end' : 2001},\n",
    "                        ignore_index=True\n",
    ")"
   ]
  },
  {
   "cell_type": "code",
   "execution_count": 69,
   "id": "fa831889",
   "metadata": {},
   "outputs": [
    {
     "data": {
      "text/plain": [
       "<AxesSubplot:xlabel='year_of_release'>"
      ]
     },
     "execution_count": 69,
     "metadata": {},
     "output_type": "execute_result"
    },
    {
     "data": {
      "image/png": "[encoded data removed]",
      "text/plain": [
       "<Figure size 432x288 with 1 Axes>"
      ]
     },
     "metadata": {
      "needs_background": "light"
     },
     "output_type": "display_data"
    }
   ],
   "source": [
    "platform_year.loc['NES'].plot(xlim=(1980, 1995), grid=True)"
   ]
  },
  {
   "cell_type": "markdown",
   "id": "ea14feed",
   "metadata": {},
   "source": [
    "Для платформы NES срок существования 1983 - 1994."
   ]
  },
  {
   "cell_type": "code",
   "execution_count": 70,
   "id": "9b4f0aac",
   "metadata": {},
   "outputs": [],
   "source": [
    "platf_top15_start_end = platf_top15_start_end.append(\n",
    "                        {'platform' : 'NES',\n",
    "                         'start' : 1983,\n",
    "                         'end' : 1994},\n",
    "                        ignore_index=True\n",
    ")"
   ]
  },
  {
   "cell_type": "code",
   "execution_count": 71,
   "id": "7b5847ec",
   "metadata": {},
   "outputs": [
    {
     "data": {
      "text/plain": [
       "<AxesSubplot:xlabel='year_of_release'>"
      ]
     },
     "execution_count": 71,
     "metadata": {},
     "output_type": "execute_result"
    },
    {
     "data": {
      "image/png": "[encoded data removed]",
      "text/plain": [
       "<Figure size 432x288 with 1 Axes>"
      ]
     },
     "metadata": {
      "needs_background": "light"
     },
     "output_type": "display_data"
    }
   ],
   "source": [
    "platform_year.loc['N64'].plot(xlim=(1995, 2005), grid=True)"
   ]
  },
  {
   "cell_type": "markdown",
   "id": "c5c662fe",
   "metadata": {},
   "source": [
    "Для платформы N64 срок существования 1996 - 2002."
   ]
  },
  {
   "cell_type": "code",
   "execution_count": 72,
   "id": "d93f100c",
   "metadata": {},
   "outputs": [],
   "source": [
    "platf_top15_start_end = platf_top15_start_end.append(\n",
    "                        {'platform' : 'N64',\n",
    "                         'start' : 1996,\n",
    "                         'end' : 2002},\n",
    "                        ignore_index=True\n",
    ")"
   ]
  },
  {
   "cell_type": "code",
   "execution_count": 73,
   "id": "13aadef7",
   "metadata": {},
   "outputs": [
    {
     "data": {
      "text/html": [
       "<div>\n",
       "<style scoped>\n",
       "    .dataframe tbody tr th:only-of-type {\n",
       "        vertical-align: middle;\n",
       "    }\n",
       "\n",
       "    .dataframe tbody tr th {\n",
       "        vertical-align: top;\n",
       "    }\n",
       "\n",
       "    .dataframe thead th {\n",
       "        text-align: right;\n",
       "    }\n",
       "</style>\n",
       "<table border=\"1\" class=\"dataframe\">\n",
       "  <thead>\n",
       "    <tr style=\"text-align: right;\">\n",
       "      <th></th>\n",
       "      <th>platform</th>\n",
       "      <th>start</th>\n",
       "      <th>end</th>\n",
       "    </tr>\n",
       "  </thead>\n",
       "  <tbody>\n",
       "    <tr>\n",
       "      <th>0</th>\n",
       "      <td>PS2</td>\n",
       "      <td>2000</td>\n",
       "      <td>2011</td>\n",
       "    </tr>\n",
       "    <tr>\n",
       "      <th>1</th>\n",
       "      <td>X360</td>\n",
       "      <td>2005</td>\n",
       "      <td>2016</td>\n",
       "    </tr>\n",
       "    <tr>\n",
       "      <th>2</th>\n",
       "      <td>PS3</td>\n",
       "      <td>2006</td>\n",
       "      <td>2016</td>\n",
       "    </tr>\n",
       "    <tr>\n",
       "      <th>3</th>\n",
       "      <td>Wii</td>\n",
       "      <td>2006</td>\n",
       "      <td>2015</td>\n",
       "    </tr>\n",
       "    <tr>\n",
       "      <th>4</th>\n",
       "      <td>DS</td>\n",
       "      <td>2004</td>\n",
       "      <td>2013</td>\n",
       "    </tr>\n",
       "    <tr>\n",
       "      <th>5</th>\n",
       "      <td>PS</td>\n",
       "      <td>1994</td>\n",
       "      <td>2003</td>\n",
       "    </tr>\n",
       "    <tr>\n",
       "      <th>6</th>\n",
       "      <td>GBA</td>\n",
       "      <td>2000</td>\n",
       "      <td>2007</td>\n",
       "    </tr>\n",
       "    <tr>\n",
       "      <th>7</th>\n",
       "      <td>PS4</td>\n",
       "      <td>2013</td>\n",
       "      <td>2016</td>\n",
       "    </tr>\n",
       "    <tr>\n",
       "      <th>8</th>\n",
       "      <td>PSP</td>\n",
       "      <td>2004</td>\n",
       "      <td>2015</td>\n",
       "    </tr>\n",
       "    <tr>\n",
       "      <th>9</th>\n",
       "      <td>PC</td>\n",
       "      <td>1994</td>\n",
       "      <td>2016</td>\n",
       "    </tr>\n",
       "    <tr>\n",
       "      <th>10</th>\n",
       "      <td>3DS</td>\n",
       "      <td>2011</td>\n",
       "      <td>2016</td>\n",
       "    </tr>\n",
       "    <tr>\n",
       "      <th>11</th>\n",
       "      <td>XB</td>\n",
       "      <td>2000</td>\n",
       "      <td>2008</td>\n",
       "    </tr>\n",
       "    <tr>\n",
       "      <th>12</th>\n",
       "      <td>GB</td>\n",
       "      <td>1988</td>\n",
       "      <td>2001</td>\n",
       "    </tr>\n",
       "    <tr>\n",
       "      <th>13</th>\n",
       "      <td>NES</td>\n",
       "      <td>1983</td>\n",
       "      <td>1994</td>\n",
       "    </tr>\n",
       "    <tr>\n",
       "      <th>14</th>\n",
       "      <td>N64</td>\n",
       "      <td>1996</td>\n",
       "      <td>2002</td>\n",
       "    </tr>\n",
       "  </tbody>\n",
       "</table>\n",
       "</div>"
      ],
      "text/plain": [
       "   platform start   end\n",
       "0       PS2  2000  2011\n",
       "1      X360  2005  2016\n",
       "2       PS3  2006  2016\n",
       "3       Wii  2006  2015\n",
       "4        DS  2004  2013\n",
       "5        PS  1994  2003\n",
       "6       GBA  2000  2007\n",
       "7       PS4  2013  2016\n",
       "8       PSP  2004  2015\n",
       "9        PC  1994  2016\n",
       "10      3DS  2011  2016\n",
       "11       XB  2000  2008\n",
       "12       GB  1988  2001\n",
       "13      NES  1983  1994\n",
       "14      N64  1996  2002"
      ]
     },
     "metadata": {},
     "output_type": "display_data"
    }
   ],
   "source": [
    "display(platf_top15_start_end)"
   ]
  },
  {
   "cell_type": "markdown",
   "id": "73a0cc21",
   "metadata": {},
   "source": [
    "#### Расчёт средней длительности существования платформ"
   ]
  },
  {
   "cell_type": "code",
   "execution_count": 74,
   "id": "49d095d3",
   "metadata": {},
   "outputs": [],
   "source": [
    "platf_top15_start_end['existence'] = platf_top15_start_end['end'] - platf_top15_start_end['start']"
   ]
  },
  {
   "cell_type": "markdown",
   "id": "a7dbcd29",
   "metadata": {},
   "source": [
    "Расчёт среднего времени существования платформ."
   ]
  },
  {
   "cell_type": "code",
   "execution_count": 75,
   "id": "4b8bf038",
   "metadata": {},
   "outputs": [
    {
     "data": {
      "text/plain": [
       "9.666666666666666"
      ]
     },
     "execution_count": 75,
     "metadata": {},
     "output_type": "execute_result"
    }
   ],
   "source": [
    "platf_top15_start_end['existence'].mean()"
   ]
  },
  {
   "cell_type": "markdown",
   "id": "b8ff08c6",
   "metadata": {},
   "source": [
    "Среднее время существования платформы 10 лет."
   ]
  },
  {
   "cell_type": "markdown",
   "id": "f9f8ba1a",
   "metadata": {},
   "source": [
    "### Платформы существующие в текущий период и их динамика"
   ]
  },
  {
   "cell_type": "markdown",
   "id": "a88f5fbe",
   "metadata": {},
   "source": [
    "Создание датафрейма игр существующих в период 5 лет (актуальность) до 2016 года, с целью отбора актуальных платформ в 2016 году."
   ]
  },
  {
   "cell_type": "code",
   "execution_count": 76,
   "id": "832f36b5",
   "metadata": {},
   "outputs": [
    {
     "data": {
      "text/html": [
       "<div>\n",
       "<style scoped>\n",
       "    .dataframe tbody tr th:only-of-type {\n",
       "        vertical-align: middle;\n",
       "    }\n",
       "\n",
       "    .dataframe tbody tr th {\n",
       "        vertical-align: top;\n",
       "    }\n",
       "\n",
       "    .dataframe thead th {\n",
       "        text-align: right;\n",
       "    }\n",
       "</style>\n",
       "<table border=\"1\" class=\"dataframe\">\n",
       "  <thead>\n",
       "    <tr style=\"text-align: right;\">\n",
       "      <th>year_of_release</th>\n",
       "      <th>2012</th>\n",
       "      <th>2013</th>\n",
       "      <th>2014</th>\n",
       "      <th>2015</th>\n",
       "      <th>2016</th>\n",
       "    </tr>\n",
       "    <tr>\n",
       "      <th>platform</th>\n",
       "      <th></th>\n",
       "      <th></th>\n",
       "      <th></th>\n",
       "      <th></th>\n",
       "      <th></th>\n",
       "    </tr>\n",
       "  </thead>\n",
       "  <tbody>\n",
       "    <tr>\n",
       "      <th>3DS</th>\n",
       "      <td>51.01</td>\n",
       "      <td>56.32</td>\n",
       "      <td>43.07</td>\n",
       "      <td>27.21</td>\n",
       "      <td>15.10</td>\n",
       "    </tr>\n",
       "    <tr>\n",
       "      <th>DS</th>\n",
       "      <td>10.28</td>\n",
       "      <td>0.97</td>\n",
       "      <td>NaN</td>\n",
       "      <td>NaN</td>\n",
       "      <td>NaN</td>\n",
       "    </tr>\n",
       "    <tr>\n",
       "      <th>PC</th>\n",
       "      <td>23.22</td>\n",
       "      <td>12.38</td>\n",
       "      <td>13.25</td>\n",
       "      <td>8.49</td>\n",
       "      <td>5.22</td>\n",
       "    </tr>\n",
       "    <tr>\n",
       "      <th>PS3</th>\n",
       "      <td>107.29</td>\n",
       "      <td>113.24</td>\n",
       "      <td>47.40</td>\n",
       "      <td>16.30</td>\n",
       "      <td>3.16</td>\n",
       "    </tr>\n",
       "    <tr>\n",
       "      <th>PS4</th>\n",
       "      <td>NaN</td>\n",
       "      <td>25.99</td>\n",
       "      <td>100.00</td>\n",
       "      <td>118.86</td>\n",
       "      <td>69.15</td>\n",
       "    </tr>\n",
       "    <tr>\n",
       "      <th>PSP</th>\n",
       "      <td>7.32</td>\n",
       "      <td>3.14</td>\n",
       "      <td>0.24</td>\n",
       "      <td>0.12</td>\n",
       "      <td>NaN</td>\n",
       "    </tr>\n",
       "    <tr>\n",
       "      <th>PSV</th>\n",
       "      <td>16.19</td>\n",
       "      <td>10.59</td>\n",
       "      <td>11.90</td>\n",
       "      <td>5.95</td>\n",
       "      <td>4.24</td>\n",
       "    </tr>\n",
       "    <tr>\n",
       "      <th>Wii</th>\n",
       "      <td>21.08</td>\n",
       "      <td>8.11</td>\n",
       "      <td>2.61</td>\n",
       "      <td>0.15</td>\n",
       "      <td>NaN</td>\n",
       "    </tr>\n",
       "    <tr>\n",
       "      <th>WiiU</th>\n",
       "      <td>17.56</td>\n",
       "      <td>21.65</td>\n",
       "      <td>22.01</td>\n",
       "      <td>16.27</td>\n",
       "      <td>4.30</td>\n",
       "    </tr>\n",
       "    <tr>\n",
       "      <th>X360</th>\n",
       "      <td>99.57</td>\n",
       "      <td>88.57</td>\n",
       "      <td>33.77</td>\n",
       "      <td>11.87</td>\n",
       "      <td>1.22</td>\n",
       "    </tr>\n",
       "    <tr>\n",
       "      <th>XOne</th>\n",
       "      <td>NaN</td>\n",
       "      <td>18.96</td>\n",
       "      <td>54.07</td>\n",
       "      <td>59.92</td>\n",
       "      <td>25.82</td>\n",
       "    </tr>\n",
       "  </tbody>\n",
       "</table>\n",
       "</div>"
      ],
      "text/plain": [
       "year_of_release    2012    2013    2014    2015   2016\n",
       "platform                                              \n",
       "3DS               51.01   56.32   43.07   27.21  15.10\n",
       "DS                10.28    0.97     NaN     NaN    NaN\n",
       "PC                23.22   12.38   13.25    8.49   5.22\n",
       "PS3              107.29  113.24   47.40   16.30   3.16\n",
       "PS4                 NaN   25.99  100.00  118.86  69.15\n",
       "PSP                7.32    3.14    0.24    0.12    NaN\n",
       "PSV               16.19   10.59   11.90    5.95   4.24\n",
       "Wii               21.08    8.11    2.61    0.15    NaN\n",
       "WiiU              17.56   21.65   22.01   16.27   4.30\n",
       "X360              99.57   88.57   33.77   11.87   1.22\n",
       "XOne                NaN   18.96   54.07   59.92  25.82"
      ]
     },
     "metadata": {},
     "output_type": "display_data"
    }
   ],
   "source": [
    "data_actual = data.query('year_of_release > 2011', engine='python')\n",
    "data_actual.loc[:, ['year_of_release']] = data_actual.loc[:, ['year_of_release']].astype(int)\n",
    "platforms_actual_sales = data_actual.pivot_table(index='platform', columns='year_of_release', values='sales', aggfunc='sum')\n",
    "display(platforms_actual_sales)"
   ]
  },
  {
   "cell_type": "code",
   "execution_count": 77,
   "id": "8b95e5c8",
   "metadata": {},
   "outputs": [
    {
     "data": {
      "text/html": [
       "<div>\n",
       "<style scoped>\n",
       "    .dataframe tbody tr th:only-of-type {\n",
       "        vertical-align: middle;\n",
       "    }\n",
       "\n",
       "    .dataframe tbody tr th {\n",
       "        vertical-align: top;\n",
       "    }\n",
       "\n",
       "    .dataframe thead th {\n",
       "        text-align: right;\n",
       "    }\n",
       "</style>\n",
       "<table border=\"1\" class=\"dataframe\">\n",
       "  <thead>\n",
       "    <tr style=\"text-align: right;\">\n",
       "      <th>year_of_release</th>\n",
       "      <th>2012</th>\n",
       "      <th>2013</th>\n",
       "      <th>2014</th>\n",
       "      <th>2015</th>\n",
       "      <th>2016</th>\n",
       "    </tr>\n",
       "    <tr>\n",
       "      <th>platform</th>\n",
       "      <th></th>\n",
       "      <th></th>\n",
       "      <th></th>\n",
       "      <th></th>\n",
       "      <th></th>\n",
       "    </tr>\n",
       "  </thead>\n",
       "  <tbody>\n",
       "    <tr>\n",
       "      <th>3DS</th>\n",
       "      <td>51.01</td>\n",
       "      <td>56.32</td>\n",
       "      <td>43.07</td>\n",
       "      <td>27.21</td>\n",
       "      <td>15.10</td>\n",
       "    </tr>\n",
       "    <tr>\n",
       "      <th>PC</th>\n",
       "      <td>23.22</td>\n",
       "      <td>12.38</td>\n",
       "      <td>13.25</td>\n",
       "      <td>8.49</td>\n",
       "      <td>5.22</td>\n",
       "    </tr>\n",
       "    <tr>\n",
       "      <th>PS3</th>\n",
       "      <td>107.29</td>\n",
       "      <td>113.24</td>\n",
       "      <td>47.40</td>\n",
       "      <td>16.30</td>\n",
       "      <td>3.16</td>\n",
       "    </tr>\n",
       "    <tr>\n",
       "      <th>PS4</th>\n",
       "      <td>NaN</td>\n",
       "      <td>25.99</td>\n",
       "      <td>100.00</td>\n",
       "      <td>118.86</td>\n",
       "      <td>69.15</td>\n",
       "    </tr>\n",
       "    <tr>\n",
       "      <th>PSV</th>\n",
       "      <td>16.19</td>\n",
       "      <td>10.59</td>\n",
       "      <td>11.90</td>\n",
       "      <td>5.95</td>\n",
       "      <td>4.24</td>\n",
       "    </tr>\n",
       "    <tr>\n",
       "      <th>WiiU</th>\n",
       "      <td>17.56</td>\n",
       "      <td>21.65</td>\n",
       "      <td>22.01</td>\n",
       "      <td>16.27</td>\n",
       "      <td>4.30</td>\n",
       "    </tr>\n",
       "    <tr>\n",
       "      <th>X360</th>\n",
       "      <td>99.57</td>\n",
       "      <td>88.57</td>\n",
       "      <td>33.77</td>\n",
       "      <td>11.87</td>\n",
       "      <td>1.22</td>\n",
       "    </tr>\n",
       "    <tr>\n",
       "      <th>XOne</th>\n",
       "      <td>NaN</td>\n",
       "      <td>18.96</td>\n",
       "      <td>54.07</td>\n",
       "      <td>59.92</td>\n",
       "      <td>25.82</td>\n",
       "    </tr>\n",
       "  </tbody>\n",
       "</table>\n",
       "</div>"
      ],
      "text/plain": [
       "year_of_release    2012    2013    2014    2015   2016\n",
       "platform                                              \n",
       "3DS               51.01   56.32   43.07   27.21  15.10\n",
       "PC                23.22   12.38   13.25    8.49   5.22\n",
       "PS3              107.29  113.24   47.40   16.30   3.16\n",
       "PS4                 NaN   25.99  100.00  118.86  69.15\n",
       "PSV               16.19   10.59   11.90    5.95   4.24\n",
       "WiiU              17.56   21.65   22.01   16.27   4.30\n",
       "X360              99.57   88.57   33.77   11.87   1.22\n",
       "XOne                NaN   18.96   54.07   59.92  25.82"
      ]
     },
     "metadata": {},
     "output_type": "display_data"
    }
   ],
   "source": [
    "platforms_actual_2016_sales = platforms_actual_sales[platforms_actual_sales[2016] > 0]\n",
    "display(platforms_actual_2016_sales)"
   ]
  },
  {
   "cell_type": "code",
   "execution_count": 78,
   "id": "149f4460",
   "metadata": {},
   "outputs": [
    {
     "data": {
      "text/plain": [
       "Index(['3DS', 'PC', 'PS3', 'PS4', 'PSV', 'WiiU', 'X360', 'XOne'], dtype='object', name='platform')"
      ]
     },
     "metadata": {},
     "output_type": "display_data"
    }
   ],
   "source": [
    "platforms_actual_2016 = platforms_actual_2016_sales.index\n",
    "display(platforms_actual_2016)"
   ]
  },
  {
   "cell_type": "markdown",
   "id": "20959b67",
   "metadata": {},
   "source": [
    "Из полученной таблицы видно, что в 2016 году лидируют по продажам 3 платформы PS4, XOne и 3DS . Каждая платформа имеет более 15 млн проданных копий. Посчитаем их долю в продажах."
   ]
  },
  {
   "cell_type": "code",
   "execution_count": 79,
   "id": "cad1e98e",
   "metadata": {},
   "outputs": [
    {
     "data": {
      "text/plain": [
       "year_of_release\n",
       "2016    85.9\n",
       "dtype: float64"
      ]
     },
     "execution_count": 79,
     "metadata": {},
     "output_type": "execute_result"
    }
   ],
   "source": [
    "round(100 * (platforms_actual_2016_sales.loc[platforms_actual_2016_sales[2016]> 15][2016]).sum() / \n",
    "             platforms_actual_2016_sales[[2016]].sum(), 1)"
   ]
  },
  {
   "cell_type": "markdown",
   "id": "9759f92f",
   "metadata": {},
   "source": [
    "Доля в продажах этих 3-х платформ составляет 85,9 %. Таким образом, три платформы 3DS, PS4 и XOne являются самыми прибыльными."
   ]
  },
  {
   "cell_type": "code",
   "execution_count": 80,
   "id": "022d29ca",
   "metadata": {},
   "outputs": [
    {
     "data": {
      "text/html": [
       "<div>\n",
       "<style scoped>\n",
       "    .dataframe tbody tr th:only-of-type {\n",
       "        vertical-align: middle;\n",
       "    }\n",
       "\n",
       "    .dataframe tbody tr th {\n",
       "        vertical-align: top;\n",
       "    }\n",
       "\n",
       "    .dataframe thead th {\n",
       "        text-align: right;\n",
       "    }\n",
       "</style>\n",
       "<table border=\"1\" class=\"dataframe\">\n",
       "  <thead>\n",
       "    <tr style=\"text-align: right;\">\n",
       "      <th>year_of_release</th>\n",
       "      <th>2012</th>\n",
       "      <th>2013</th>\n",
       "      <th>2014</th>\n",
       "      <th>2015</th>\n",
       "      <th>2016</th>\n",
       "    </tr>\n",
       "    <tr>\n",
       "      <th>platform</th>\n",
       "      <th></th>\n",
       "      <th></th>\n",
       "      <th></th>\n",
       "      <th></th>\n",
       "      <th></th>\n",
       "    </tr>\n",
       "  </thead>\n",
       "  <tbody>\n",
       "    <tr>\n",
       "      <th>3DS</th>\n",
       "      <td>51.01</td>\n",
       "      <td>56.32</td>\n",
       "      <td>43.07</td>\n",
       "      <td>27.21</td>\n",
       "      <td>15.10</td>\n",
       "    </tr>\n",
       "    <tr>\n",
       "      <th>PS4</th>\n",
       "      <td>NaN</td>\n",
       "      <td>25.99</td>\n",
       "      <td>100.00</td>\n",
       "      <td>118.86</td>\n",
       "      <td>69.15</td>\n",
       "    </tr>\n",
       "    <tr>\n",
       "      <th>XOne</th>\n",
       "      <td>NaN</td>\n",
       "      <td>18.96</td>\n",
       "      <td>54.07</td>\n",
       "      <td>59.92</td>\n",
       "      <td>25.82</td>\n",
       "    </tr>\n",
       "  </tbody>\n",
       "</table>\n",
       "</div>"
      ],
      "text/plain": [
       "year_of_release   2012   2013    2014    2015   2016\n",
       "platform                                            \n",
       "3DS              51.01  56.32   43.07   27.21  15.10\n",
       "PS4                NaN  25.99  100.00  118.86  69.15\n",
       "XOne               NaN  18.96   54.07   59.92  25.82"
      ]
     },
     "metadata": {},
     "output_type": "display_data"
    }
   ],
   "source": [
    "platforms_actual_top = platforms_actual_2016_sales[platforms_actual_2016_sales[2016] > 15]\n",
    "display(platforms_actual_top)"
   ]
  },
  {
   "cell_type": "markdown",
   "id": "8b2e0de9",
   "metadata": {},
   "source": [
    "Создание списка лидирующих платформ."
   ]
  },
  {
   "cell_type": "code",
   "execution_count": 81,
   "id": "eb9b4fc7",
   "metadata": {},
   "outputs": [
    {
     "data": {
      "text/plain": [
       "Index(['3DS', 'PS4', 'XOne'], dtype='object', name='platform')"
      ]
     },
     "execution_count": 81,
     "metadata": {},
     "output_type": "execute_result"
    }
   ],
   "source": [
    "platforms_2016_top = platforms_actual_top.index\n",
    "platforms_2016_top"
   ]
  },
  {
   "cell_type": "markdown",
   "id": "9c3b5af4",
   "metadata": {},
   "source": [
    "### Статистический анализ продаж 3-х ведущих платформ 3DS, PS4 и XOne"
   ]
  },
  {
   "cell_type": "markdown",
   "id": "0ae6415e",
   "metadata": {},
   "source": [
    "Создание датафрейма с играми 3-х платформ 3DS, PS4, XOne."
   ]
  },
  {
   "cell_type": "code",
   "execution_count": 82,
   "id": "00705782",
   "metadata": {},
   "outputs": [
    {
     "data": {
      "text/html": [
       "<div>\n",
       "<style scoped>\n",
       "    .dataframe tbody tr th:only-of-type {\n",
       "        vertical-align: middle;\n",
       "    }\n",
       "\n",
       "    .dataframe tbody tr th {\n",
       "        vertical-align: top;\n",
       "    }\n",
       "\n",
       "    .dataframe thead th {\n",
       "        text-align: right;\n",
       "    }\n",
       "</style>\n",
       "<table border=\"1\" class=\"dataframe\">\n",
       "  <thead>\n",
       "    <tr style=\"text-align: right;\">\n",
       "      <th></th>\n",
       "      <th>name</th>\n",
       "      <th>platform</th>\n",
       "      <th>year_of_release</th>\n",
       "      <th>genre</th>\n",
       "      <th>na_sales</th>\n",
       "      <th>eu_sales</th>\n",
       "      <th>jp_sales</th>\n",
       "      <th>other_sales</th>\n",
       "      <th>critic_score</th>\n",
       "      <th>user_score</th>\n",
       "      <th>rating</th>\n",
       "      <th>sales</th>\n",
       "    </tr>\n",
       "  </thead>\n",
       "  <tbody>\n",
       "    <tr>\n",
       "      <th>31</th>\n",
       "      <td>Call of Duty: Black Ops 3</td>\n",
       "      <td>PS4</td>\n",
       "      <td>2015</td>\n",
       "      <td>Shooter</td>\n",
       "      <td>6.03</td>\n",
       "      <td>5.86</td>\n",
       "      <td>0.36</td>\n",
       "      <td>2.38</td>\n",
       "      <td>NaN</td>\n",
       "      <td>NaN</td>\n",
       "      <td>N/D</td>\n",
       "      <td>14.63</td>\n",
       "    </tr>\n",
       "    <tr>\n",
       "      <th>33</th>\n",
       "      <td>Pokemon X/Pokemon Y</td>\n",
       "      <td>3DS</td>\n",
       "      <td>2013</td>\n",
       "      <td>Role-Playing</td>\n",
       "      <td>5.28</td>\n",
       "      <td>4.19</td>\n",
       "      <td>4.35</td>\n",
       "      <td>0.78</td>\n",
       "      <td>NaN</td>\n",
       "      <td>NaN</td>\n",
       "      <td>N/D</td>\n",
       "      <td>14.60</td>\n",
       "    </tr>\n",
       "    <tr>\n",
       "      <th>42</th>\n",
       "      <td>Grand Theft Auto V</td>\n",
       "      <td>PS4</td>\n",
       "      <td>2014</td>\n",
       "      <td>Action</td>\n",
       "      <td>3.96</td>\n",
       "      <td>6.31</td>\n",
       "      <td>0.38</td>\n",
       "      <td>1.97</td>\n",
       "      <td>97.0</td>\n",
       "      <td>8.3</td>\n",
       "      <td>M</td>\n",
       "      <td>12.62</td>\n",
       "    </tr>\n",
       "    <tr>\n",
       "      <th>47</th>\n",
       "      <td>Pokemon Omega Ruby/Pokemon Alpha Sapphire</td>\n",
       "      <td>3DS</td>\n",
       "      <td>2014</td>\n",
       "      <td>Role-Playing</td>\n",
       "      <td>4.35</td>\n",
       "      <td>3.49</td>\n",
       "      <td>3.10</td>\n",
       "      <td>0.74</td>\n",
       "      <td>NaN</td>\n",
       "      <td>NaN</td>\n",
       "      <td>N/D</td>\n",
       "      <td>11.68</td>\n",
       "    </tr>\n",
       "    <tr>\n",
       "      <th>62</th>\n",
       "      <td>New Super Mario Bros. 2</td>\n",
       "      <td>3DS</td>\n",
       "      <td>2012</td>\n",
       "      <td>Platform</td>\n",
       "      <td>3.66</td>\n",
       "      <td>3.14</td>\n",
       "      <td>2.47</td>\n",
       "      <td>0.63</td>\n",
       "      <td>78.0</td>\n",
       "      <td>7.2</td>\n",
       "      <td>E</td>\n",
       "      <td>9.90</td>\n",
       "    </tr>\n",
       "  </tbody>\n",
       "</table>\n",
       "</div>"
      ],
      "text/plain": [
       "                                         name platform  year_of_release  \\\n",
       "31                  Call of Duty: Black Ops 3      PS4             2015   \n",
       "33                        Pokemon X/Pokemon Y      3DS             2013   \n",
       "42                         Grand Theft Auto V      PS4             2014   \n",
       "47  Pokemon Omega Ruby/Pokemon Alpha Sapphire      3DS             2014   \n",
       "62                    New Super Mario Bros. 2      3DS             2012   \n",
       "\n",
       "           genre  na_sales  eu_sales  jp_sales  other_sales  critic_score  \\\n",
       "31       Shooter      6.03      5.86      0.36         2.38           NaN   \n",
       "33  Role-Playing      5.28      4.19      4.35         0.78           NaN   \n",
       "42        Action      3.96      6.31      0.38         1.97          97.0   \n",
       "47  Role-Playing      4.35      3.49      3.10         0.74           NaN   \n",
       "62      Platform      3.66      3.14      2.47         0.63          78.0   \n",
       "\n",
       "    user_score rating  sales  \n",
       "31         NaN    N/D  14.63  \n",
       "33         NaN    N/D  14.60  \n",
       "42         8.3      M  12.62  \n",
       "47         NaN    N/D  11.68  \n",
       "62         7.2      E   9.90  "
      ]
     },
     "metadata": {},
     "output_type": "display_data"
    }
   ],
   "source": [
    "data_platforms_2016_top = data_actual.query('platform in @platforms_2016_top')\n",
    "display(data_platforms_2016_top.head())"
   ]
  },
  {
   "cell_type": "markdown",
   "id": "613ae770",
   "metadata": {},
   "source": [
    "Построение 'ящиков с усами' по продажам этих 3-х ведущих платформ. "
   ]
  },
  {
   "cell_type": "code",
   "execution_count": 83,
   "id": "b54d919c",
   "metadata": {},
   "outputs": [
    {
     "data": {
      "image/png": "[encoded data removed]",
      "text/plain": [
       "<Figure size 1080x360 with 1 Axes>"
      ]
     },
     "metadata": {
      "needs_background": "light"
     },
     "output_type": "display_data"
    }
   ],
   "source": [
    "data_platforms_2016_top.boxplot('sales', by='platform', figsize=(15, 5));"
   ]
  },
  {
   "cell_type": "code",
   "execution_count": 84,
   "id": "c815a2f9",
   "metadata": {},
   "outputs": [
    {
     "data": {
      "text/plain": [
       "(0.0, 2.0)"
      ]
     },
     "execution_count": 84,
     "metadata": {},
     "output_type": "execute_result"
    },
    {
     "data": {
      "image/png": "[encoded data removed]",
      "text/plain": [
       "<Figure size 1080x360 with 1 Axes>"
      ]
     },
     "metadata": {
      "needs_background": "light"
     },
     "output_type": "display_data"
    }
   ],
   "source": [
    "data_platforms_2016_top.boxplot('sales', by='platform', figsize=(15, 5));\n",
    "plt.ylim(0,2)"
   ]
  },
  {
   "cell_type": "code",
   "execution_count": 85,
   "id": "002d7157",
   "metadata": {},
   "outputs": [],
   "source": [
    "ps4 = data_platforms_2016_top.query('platform == \"PS4\"')['sales'].describe()"
   ]
  },
  {
   "cell_type": "code",
   "execution_count": 86,
   "id": "e9c46034",
   "metadata": {},
   "outputs": [],
   "source": [
    "three_ds = data_platforms_2016_top.query('platform == \"3DS\"')['sales'].describe()"
   ]
  },
  {
   "cell_type": "code",
   "execution_count": 87,
   "id": "42da1d32",
   "metadata": {},
   "outputs": [],
   "source": [
    "xone = data_platforms_2016_top.query('platform == \"XOne\"')['sales'].describe()"
   ]
  },
  {
   "cell_type": "code",
   "execution_count": 88,
   "id": "09e7d2ed",
   "metadata": {},
   "outputs": [
    {
     "data": {
      "text/html": [
       "<div>\n",
       "<style scoped>\n",
       "    .dataframe tbody tr th:only-of-type {\n",
       "        vertical-align: middle;\n",
       "    }\n",
       "\n",
       "    .dataframe tbody tr th {\n",
       "        vertical-align: top;\n",
       "    }\n",
       "\n",
       "    .dataframe thead th {\n",
       "        text-align: right;\n",
       "    }\n",
       "</style>\n",
       "<table border=\"1\" class=\"dataframe\">\n",
       "  <thead>\n",
       "    <tr style=\"text-align: right;\">\n",
       "      <th></th>\n",
       "      <th>ps4</th>\n",
       "      <th>3ds</th>\n",
       "      <th>xone</th>\n",
       "    </tr>\n",
       "  </thead>\n",
       "  <tbody>\n",
       "    <tr>\n",
       "      <th>count</th>\n",
       "      <td>386.00</td>\n",
       "      <td>367.00</td>\n",
       "      <td>236.00</td>\n",
       "    </tr>\n",
       "    <tr>\n",
       "      <th>mean</th>\n",
       "      <td>0.81</td>\n",
       "      <td>0.53</td>\n",
       "      <td>0.67</td>\n",
       "    </tr>\n",
       "    <tr>\n",
       "      <th>std</th>\n",
       "      <td>1.62</td>\n",
       "      <td>1.44</td>\n",
       "      <td>1.05</td>\n",
       "    </tr>\n",
       "    <tr>\n",
       "      <th>min</th>\n",
       "      <td>0.01</td>\n",
       "      <td>0.01</td>\n",
       "      <td>0.01</td>\n",
       "    </tr>\n",
       "    <tr>\n",
       "      <th>25%</th>\n",
       "      <td>0.06</td>\n",
       "      <td>0.05</td>\n",
       "      <td>0.07</td>\n",
       "    </tr>\n",
       "    <tr>\n",
       "      <th>50%</th>\n",
       "      <td>0.20</td>\n",
       "      <td>0.13</td>\n",
       "      <td>0.24</td>\n",
       "    </tr>\n",
       "    <tr>\n",
       "      <th>75%</th>\n",
       "      <td>0.73</td>\n",
       "      <td>0.37</td>\n",
       "      <td>0.75</td>\n",
       "    </tr>\n",
       "    <tr>\n",
       "      <th>max</th>\n",
       "      <td>14.63</td>\n",
       "      <td>14.60</td>\n",
       "      <td>7.39</td>\n",
       "    </tr>\n",
       "  </tbody>\n",
       "</table>\n",
       "</div>"
      ],
      "text/plain": [
       "          ps4     3ds    xone\n",
       "count  386.00  367.00  236.00\n",
       "mean     0.81    0.53    0.67\n",
       "std      1.62    1.44    1.05\n",
       "min      0.01    0.01    0.01\n",
       "25%      0.06    0.05    0.07\n",
       "50%      0.20    0.13    0.24\n",
       "75%      0.73    0.37    0.75\n",
       "max     14.63   14.60    7.39"
      ]
     },
     "metadata": {},
     "output_type": "display_data"
    }
   ],
   "source": [
    "platf_top3_stat = pd.DataFrame(\n",
    "                                index=ps4.index, \n",
    "                                data={\n",
    "                                   'ps4' : ps4.values, \n",
    "                                   '3ds' : three_ds.values,\n",
    "                                   'xone' : xone.values\n",
    "                               }\n",
    ")\n",
    "platf_top3_stat['ps4'] = round(platf_top3_stat['ps4'], 2)\n",
    "platf_top3_stat['3ds'] = round(platf_top3_stat['3ds'], 2)\n",
    "platf_top3_stat['xone'] = round(platf_top3_stat['xone'], 2)\n",
    "display(platf_top3_stat)"
   ]
  },
  {
   "cell_type": "markdown",
   "id": "73a0b3f8",
   "metadata": {},
   "source": [
    "Из графиков \"ящик с усами\" и таблицы статистики 3-х платформ ps4, 3ds и xone можно увидеть, что больше всего игр (464) выпустила платформа 3ds, меньше всего 236 игр платформа xone. Среднее значение продаж самое высокое у платформы ps4 - 810 тыс копий, минимальное среднее значение продаж у платформы 3ds - 550 тыс копий. Минимальное значение медианы 0.14 имеет платформа 3ds, что означает, что у этой платформы много игр с малым значением продаж, меньше 140 тыс."
   ]
  },
  {
   "cell_type": "markdown",
   "id": "2f6fada6",
   "metadata": {},
   "source": [
    "### Влияние отзывов пользователей и критиков на продажи популярных современных платформ"
   ]
  },
  {
   "cell_type": "markdown",
   "id": "73de167c",
   "metadata": {},
   "source": [
    "Создание датафрейма с удалением пустых значений в столбцах 'user_score', 'critic_score'. Преобразование типа данных столца 'user_score' с object на float."
   ]
  },
  {
   "cell_type": "code",
   "execution_count": 89,
   "id": "2d35562e",
   "metadata": {},
   "outputs": [
    {
     "name": "stdout",
     "output_type": "stream",
     "text": [
      "<class 'pandas.core.frame.DataFrame'>\n",
      "Int64Index: 1297 entries, 16 to 16692\n",
      "Data columns (total 12 columns):\n",
      " #   Column           Non-Null Count  Dtype  \n",
      "---  ------           --------------  -----  \n",
      " 0   name             1297 non-null   object \n",
      " 1   platform         1297 non-null   object \n",
      " 2   year_of_release  1297 non-null   int64  \n",
      " 3   genre            1297 non-null   object \n",
      " 4   na_sales         1297 non-null   float64\n",
      " 5   eu_sales         1297 non-null   float64\n",
      " 6   jp_sales         1297 non-null   float64\n",
      " 7   other_sales      1297 non-null   float64\n",
      " 8   critic_score     1297 non-null   float64\n",
      " 9   user_score       1297 non-null   float64\n",
      " 10  rating           1297 non-null   object \n",
      " 11  sales            1297 non-null   float64\n",
      "dtypes: float64(7), int64(1), object(4)\n",
      "memory usage: 131.7+ KB\n"
     ]
    }
   ],
   "source": [
    "data_without_nan = data_actual.dropna(subset=['user_score', 'critic_score'])\n",
    "data_without_nan = data_without_nan.query('user_score != \"tbd\"')\n",
    "data_without_nan['user_score'] = data_without_nan['user_score'].astype('float')\n",
    "data_without_nan.info()"
   ]
  },
  {
   "cell_type": "markdown",
   "id": "ac241769",
   "metadata": {},
   "source": [
    "#### PS4 самая популярная современная платформа"
   ]
  },
  {
   "cell_type": "markdown",
   "id": "f3b72e5b",
   "metadata": {},
   "source": [
    "Создание датафрейма платформы ps4."
   ]
  },
  {
   "cell_type": "code",
   "execution_count": 90,
   "id": "59831325",
   "metadata": {},
   "outputs": [],
   "source": [
    "ps4 = data_without_nan.query('platform == \"PS4\"')"
   ]
  },
  {
   "cell_type": "markdown",
   "id": "00646bd9",
   "metadata": {},
   "source": [
    "Построение диаграммы рассеяния продаж и оценок пользователей платформы PS4."
   ]
  },
  {
   "cell_type": "code",
   "execution_count": 91,
   "id": "1a6dd383",
   "metadata": {},
   "outputs": [
    {
     "data": {
      "image/png": "[encoded data removed]",
      "text/plain": [
       "<Figure size 432x288 with 1 Axes>"
      ]
     },
     "metadata": {
      "needs_background": "light"
     },
     "output_type": "display_data"
    }
   ],
   "source": [
    "ps4.plot(x='user_score', y='sales', kind='scatter');"
   ]
  },
  {
   "cell_type": "markdown",
   "id": "83a4b3b8",
   "metadata": {},
   "source": [
    "Расчёт коэффициента корреляции Пирсона между продажами и оценкой пользователей."
   ]
  },
  {
   "cell_type": "code",
   "execution_count": 92,
   "id": "40feece6",
   "metadata": {},
   "outputs": [
    {
     "data": {
      "text/plain": [
       "-0.03362497596528878"
      ]
     },
     "execution_count": 92,
     "metadata": {},
     "output_type": "execute_result"
    }
   ],
   "source": [
    "ps4['sales'].corr(ps4['user_score'])"
   ]
  },
  {
   "cell_type": "markdown",
   "id": "d0ffa92b",
   "metadata": {},
   "source": [
    "Из диаграммы рассеяния и коэффициента Пирсона равного -0,03, можно сделать вывод, что зависимости продаж платформы PS3 от оценок пользователей не имеется."
   ]
  },
  {
   "cell_type": "markdown",
   "id": "c6303868",
   "metadata": {},
   "source": [
    "Построение диаграммы рассеяния продаж по оценке критиков для платформы PS4."
   ]
  },
  {
   "cell_type": "code",
   "execution_count": 93,
   "id": "14a6792d",
   "metadata": {},
   "outputs": [
    {
     "data": {
      "image/png": "[encoded data removed]",
      "text/plain": [
       "<Figure size 432x288 with 1 Axes>"
      ]
     },
     "metadata": {
      "needs_background": "light"
     },
     "output_type": "display_data"
    }
   ],
   "source": [
    "ps4.plot(x='critic_score', y='sales', kind='scatter');"
   ]
  },
  {
   "cell_type": "code",
   "execution_count": 94,
   "id": "32def80b",
   "metadata": {},
   "outputs": [
    {
     "data": {
      "text/plain": [
       "0.40589480145836687"
      ]
     },
     "execution_count": 94,
     "metadata": {},
     "output_type": "execute_result"
    }
   ],
   "source": [
    "ps4['sales'].corr(ps4['critic_score'])"
   ]
  },
  {
   "cell_type": "markdown",
   "id": "a2edd70e",
   "metadata": {},
   "source": [
    "Из диаграммы рассеяния и коэффициента корреляции Пирсона равному 0,4 видно, что незначительная зависимость продаж платформы PS4 от оценок критиков есть.\n",
    "\n",
    "Вывод для платформы PS4, продажи игр не коррелирует с оценками пользователей, и незначительно коррелирует с оценками критиков."
   ]
  },
  {
   "cell_type": "markdown",
   "id": "c267494d",
   "metadata": {},
   "source": [
    "#### XOne"
   ]
  },
  {
   "cell_type": "markdown",
   "id": "e17ee376",
   "metadata": {},
   "source": [
    "Создание датафрейма платформы xone."
   ]
  },
  {
   "cell_type": "code",
   "execution_count": 95,
   "id": "97cc9717",
   "metadata": {},
   "outputs": [],
   "source": [
    "xone_ds = data_without_nan.query('platform == \"XOne\"')"
   ]
  },
  {
   "cell_type": "markdown",
   "id": "2e0e6562",
   "metadata": {},
   "source": [
    "Диаграмма рассеяния оценка пользователей, продажи."
   ]
  },
  {
   "cell_type": "code",
   "execution_count": 96,
   "id": "e17f502f",
   "metadata": {},
   "outputs": [
    {
     "data": {
      "image/png": "[encoded data removed]",
      "text/plain": [
       "<Figure size 432x288 with 1 Axes>"
      ]
     },
     "metadata": {
      "needs_background": "light"
     },
     "output_type": "display_data"
    }
   ],
   "source": [
    "xone_ds.plot(x='user_score', y='sales', kind='scatter');"
   ]
  },
  {
   "cell_type": "markdown",
   "id": "87ff4216",
   "metadata": {},
   "source": [
    "Расчет коэффициента корреляции Пирсона оценка пользователей, продажи."
   ]
  },
  {
   "cell_type": "code",
   "execution_count": 97,
   "id": "2a5707db",
   "metadata": {},
   "outputs": [
    {
     "data": {
      "text/plain": [
       "-0.09400318326920852"
      ]
     },
     "execution_count": 97,
     "metadata": {},
     "output_type": "execute_result"
    }
   ],
   "source": [
    "xone_ds['sales'].corr(xone_ds['user_score'])"
   ]
  },
  {
   "cell_type": "markdown",
   "id": "8569b5bf",
   "metadata": {},
   "source": [
    "Из диаграммы рассеяния и коэффициента Пирсона равного -0,09, можно сделать вывод, что зависимости продаж платформы XOne от оценок пользователей не имеется."
   ]
  },
  {
   "cell_type": "markdown",
   "id": "890f8611",
   "metadata": {},
   "source": [
    "Диаграмма рассеяния оценка критиков, продажи."
   ]
  },
  {
   "cell_type": "code",
   "execution_count": 98,
   "id": "ebcd156e",
   "metadata": {},
   "outputs": [
    {
     "data": {
      "image/png": "[encoded data removed]",
      "text/plain": [
       "<Figure size 432x288 with 1 Axes>"
      ]
     },
     "metadata": {
      "needs_background": "light"
     },
     "output_type": "display_data"
    }
   ],
   "source": [
    "xone_ds.plot(x='critic_score', y='sales', kind='scatter');"
   ]
  },
  {
   "cell_type": "markdown",
   "id": "384b651f",
   "metadata": {},
   "source": [
    "Расчёт коэффициента корреляции Пирсона оценка критиков, продажи."
   ]
  },
  {
   "cell_type": "code",
   "execution_count": 99,
   "id": "93b2e70e",
   "metadata": {},
   "outputs": [
    {
     "data": {
      "text/plain": [
       "0.4104220356129637"
      ]
     },
     "execution_count": 99,
     "metadata": {},
     "output_type": "execute_result"
    }
   ],
   "source": [
    "xone_ds['sales'].corr(xone_ds['critic_score'])"
   ]
  },
  {
   "cell_type": "markdown",
   "id": "ce44e124",
   "metadata": {},
   "source": [
    "Из диаграммы рассеяния и коэффициента корреляции Пирсона равному 0,4 видно, что незначительная зависимость продаж платформы XOne от оценок критиков есть."
   ]
  },
  {
   "cell_type": "markdown",
   "id": "1dd20d52",
   "metadata": {},
   "source": [
    "Вывод для платформы XOne, продажи игр не коррелирует с оценками пользователей, и незначительно коррелирует с оценками критиков."
   ]
  },
  {
   "cell_type": "markdown",
   "id": "b5195012",
   "metadata": {},
   "source": [
    "#### 3DS"
   ]
  },
  {
   "cell_type": "code",
   "execution_count": 100,
   "id": "b9c89ef7",
   "metadata": {},
   "outputs": [],
   "source": [
    "three_ds = data_without_nan.query('platform == \"3DS\"')"
   ]
  },
  {
   "cell_type": "code",
   "execution_count": 101,
   "id": "436e5728",
   "metadata": {},
   "outputs": [
    {
     "data": {
      "image/png": "[encoded data removed]",
      "text/plain": [
       "<Figure size 432x288 with 1 Axes>"
      ]
     },
     "metadata": {
      "needs_background": "light"
     },
     "output_type": "display_data"
    }
   ],
   "source": [
    "three_ds.plot(x='user_score', y='sales', kind='scatter');"
   ]
  },
  {
   "cell_type": "code",
   "execution_count": 102,
   "id": "1d3177ac",
   "metadata": {},
   "outputs": [
    {
     "data": {
      "text/plain": [
       "0.2018125500765528"
      ]
     },
     "execution_count": 102,
     "metadata": {},
     "output_type": "execute_result"
    }
   ],
   "source": [
    "three_ds['sales'].corr(three_ds['user_score'])"
   ]
  },
  {
   "cell_type": "markdown",
   "id": "8ff1c277",
   "metadata": {},
   "source": [
    "Из диаграммы рассеяния и коэффициента Пирсона равного 0.2, можно сделать вывод, что очень незначительная зависимость продаж платформы 3DS от оценок пользователей имеется."
   ]
  },
  {
   "cell_type": "code",
   "execution_count": 103,
   "id": "f4d387ef",
   "metadata": {},
   "outputs": [
    {
     "data": {
      "text/plain": [
       "0.31055301915326294"
      ]
     },
     "execution_count": 103,
     "metadata": {},
     "output_type": "execute_result"
    }
   ],
   "source": [
    "three_ds['sales'].corr(three_ds['critic_score'])"
   ]
  },
  {
   "cell_type": "markdown",
   "id": "11caa716",
   "metadata": {},
   "source": [
    "Из диаграммы рассеяния и коэффициента корреляции Пирсона равному 0,31 видно, что незначительная зависимость продаж платформы 3DS от оценок критиков есть.\n",
    "\n",
    "Вывод для платформы 3DS, продажи игр очень незначительно коррелирует с оценками пользователей, и незначительно коррелирует с оценками критиков."
   ]
  },
  {
   "cell_type": "markdown",
   "id": "db110ff0",
   "metadata": {},
   "source": [
    "### Распределение игр по жанрам за все годы"
   ]
  },
  {
   "cell_type": "markdown",
   "id": "d01558fd",
   "metadata": {},
   "source": [
    "Создание таблицы жанр игр, среднее значение продаж жанра."
   ]
  },
  {
   "cell_type": "code",
   "execution_count": 104,
   "id": "64155cb8",
   "metadata": {},
   "outputs": [
    {
     "data": {
      "text/html": [
       "<div>\n",
       "<style scoped>\n",
       "    .dataframe tbody tr th:only-of-type {\n",
       "        vertical-align: middle;\n",
       "    }\n",
       "\n",
       "    .dataframe tbody tr th {\n",
       "        vertical-align: top;\n",
       "    }\n",
       "\n",
       "    .dataframe thead th {\n",
       "        text-align: right;\n",
       "    }\n",
       "</style>\n",
       "<table border=\"1\" class=\"dataframe\">\n",
       "  <thead>\n",
       "    <tr style=\"text-align: right;\">\n",
       "      <th></th>\n",
       "      <th>sales</th>\n",
       "    </tr>\n",
       "    <tr>\n",
       "      <th>genre</th>\n",
       "      <th></th>\n",
       "    </tr>\n",
       "  </thead>\n",
       "  <tbody>\n",
       "    <tr>\n",
       "      <th>Shooter</th>\n",
       "      <td>1.335263</td>\n",
       "    </tr>\n",
       "    <tr>\n",
       "      <th>Platform</th>\n",
       "      <td>0.771667</td>\n",
       "    </tr>\n",
       "    <tr>\n",
       "      <th>Sports</th>\n",
       "      <td>0.722610</td>\n",
       "    </tr>\n",
       "    <tr>\n",
       "      <th>Role-Playing</th>\n",
       "      <td>0.521081</td>\n",
       "    </tr>\n",
       "    <tr>\n",
       "      <th>Racing</th>\n",
       "      <td>0.475446</td>\n",
       "    </tr>\n",
       "    <tr>\n",
       "      <th>Misc</th>\n",
       "      <td>0.473988</td>\n",
       "    </tr>\n",
       "    <tr>\n",
       "      <th>Simulation</th>\n",
       "      <td>0.467027</td>\n",
       "    </tr>\n",
       "    <tr>\n",
       "      <th>Action</th>\n",
       "      <td>0.444598</td>\n",
       "    </tr>\n",
       "    <tr>\n",
       "      <th>Fighting</th>\n",
       "      <td>0.418585</td>\n",
       "    </tr>\n",
       "    <tr>\n",
       "      <th>Puzzle</th>\n",
       "      <td>0.223333</td>\n",
       "    </tr>\n",
       "    <tr>\n",
       "      <th>Strategy</th>\n",
       "      <td>0.187887</td>\n",
       "    </tr>\n",
       "    <tr>\n",
       "      <th>Adventure</th>\n",
       "      <td>0.098616</td>\n",
       "    </tr>\n",
       "  </tbody>\n",
       "</table>\n",
       "</div>"
      ],
      "text/plain": [
       "                 sales\n",
       "genre                 \n",
       "Shooter       1.335263\n",
       "Platform      0.771667\n",
       "Sports        0.722610\n",
       "Role-Playing  0.521081\n",
       "Racing        0.475446\n",
       "Misc          0.473988\n",
       "Simulation    0.467027\n",
       "Action        0.444598\n",
       "Fighting      0.418585\n",
       "Puzzle        0.223333\n",
       "Strategy      0.187887\n",
       "Adventure     0.098616"
      ]
     },
     "metadata": {},
     "output_type": "display_data"
    }
   ],
   "source": [
    "genre_sales = data_actual.pivot_table(index='genre', values='sales', aggfunc='mean').sort_values(by='sales', ascending=False)\n",
    "display(genre_sales)"
   ]
  },
  {
   "cell_type": "markdown",
   "id": "91496fe1",
   "metadata": {},
   "source": [
    "Построение столбцовой диаграммы жанр игр, среднее значение продаж жанра."
   ]
  },
  {
   "cell_type": "code",
   "execution_count": 105,
   "id": "e80644a7",
   "metadata": {},
   "outputs": [
    {
     "data": {
      "image/png": "[encoded data removed]",
      "text/plain": [
       "<Figure size 864x288 with 1 Axes>"
      ]
     },
     "metadata": {
      "needs_background": "light"
     },
     "output_type": "display_data"
    }
   ],
   "source": [
    "genre_sales.plot(kind='bar', figsize=(12,4));"
   ]
  },
  {
   "cell_type": "markdown",
   "id": "23c8001f",
   "metadata": {},
   "source": [
    "Из построенного распределения средних продаж игр по жанрам, можно выделить 2 самых популярных жанра - это Platform (платформеры) и shooter (Стрелялка, англ. shooter — «стрелок»).\n",
    "\n",
    "Платформеры - это жанр видеоигр и поджанр экшн-игр, в которых основной целью является перемещение персонажа игрока между точками в визуализированной среде. \n",
    "\n",
    "Также можно выделить 2 малопопулярных жанра - это Strategy (Стратегии) и Adventure (Приключение)"
   ]
  },
  {
   "cell_type": "markdown",
   "id": "24c05de4",
   "metadata": {},
   "source": [
    "### Распределение игр по жанрам за актуальный период"
   ]
  },
  {
   "cell_type": "markdown",
   "id": "00e872a8",
   "metadata": {},
   "source": [
    "Построение таблицы жанр, среднее значение продаж жанра за актуалный период."
   ]
  },
  {
   "cell_type": "code",
   "execution_count": 106,
   "id": "34599a7c",
   "metadata": {},
   "outputs": [
    {
     "data": {
      "text/html": [
       "<div>\n",
       "<style scoped>\n",
       "    .dataframe tbody tr th:only-of-type {\n",
       "        vertical-align: middle;\n",
       "    }\n",
       "\n",
       "    .dataframe tbody tr th {\n",
       "        vertical-align: top;\n",
       "    }\n",
       "\n",
       "    .dataframe thead th {\n",
       "        text-align: right;\n",
       "    }\n",
       "</style>\n",
       "<table border=\"1\" class=\"dataframe\">\n",
       "  <thead>\n",
       "    <tr style=\"text-align: right;\">\n",
       "      <th></th>\n",
       "      <th>sales</th>\n",
       "    </tr>\n",
       "    <tr>\n",
       "      <th>genre</th>\n",
       "      <th></th>\n",
       "    </tr>\n",
       "  </thead>\n",
       "  <tbody>\n",
       "    <tr>\n",
       "      <th>Shooter</th>\n",
       "      <td>1.335263</td>\n",
       "    </tr>\n",
       "    <tr>\n",
       "      <th>Platform</th>\n",
       "      <td>0.771667</td>\n",
       "    </tr>\n",
       "    <tr>\n",
       "      <th>Sports</th>\n",
       "      <td>0.722610</td>\n",
       "    </tr>\n",
       "    <tr>\n",
       "      <th>Role-Playing</th>\n",
       "      <td>0.521081</td>\n",
       "    </tr>\n",
       "    <tr>\n",
       "      <th>Racing</th>\n",
       "      <td>0.475446</td>\n",
       "    </tr>\n",
       "    <tr>\n",
       "      <th>Misc</th>\n",
       "      <td>0.473988</td>\n",
       "    </tr>\n",
       "    <tr>\n",
       "      <th>Simulation</th>\n",
       "      <td>0.467027</td>\n",
       "    </tr>\n",
       "    <tr>\n",
       "      <th>Action</th>\n",
       "      <td>0.444598</td>\n",
       "    </tr>\n",
       "    <tr>\n",
       "      <th>Fighting</th>\n",
       "      <td>0.418585</td>\n",
       "    </tr>\n",
       "    <tr>\n",
       "      <th>Puzzle</th>\n",
       "      <td>0.223333</td>\n",
       "    </tr>\n",
       "    <tr>\n",
       "      <th>Strategy</th>\n",
       "      <td>0.187887</td>\n",
       "    </tr>\n",
       "    <tr>\n",
       "      <th>Adventure</th>\n",
       "      <td>0.098616</td>\n",
       "    </tr>\n",
       "  </tbody>\n",
       "</table>\n",
       "</div>"
      ],
      "text/plain": [
       "                 sales\n",
       "genre                 \n",
       "Shooter       1.335263\n",
       "Platform      0.771667\n",
       "Sports        0.722610\n",
       "Role-Playing  0.521081\n",
       "Racing        0.475446\n",
       "Misc          0.473988\n",
       "Simulation    0.467027\n",
       "Action        0.444598\n",
       "Fighting      0.418585\n",
       "Puzzle        0.223333\n",
       "Strategy      0.187887\n",
       "Adventure     0.098616"
      ]
     },
     "metadata": {},
     "output_type": "display_data"
    }
   ],
   "source": [
    "genre_sales_actual = data_actual.pivot_table(index='genre', values='sales', aggfunc='mean').sort_values(by='sales', ascending=False)\n",
    "display(genre_sales_actual)"
   ]
  },
  {
   "cell_type": "markdown",
   "id": "b3f161e1",
   "metadata": {},
   "source": [
    "Столбчатая диаграмма жанр, среднее значение продаж жанра за актуальные период."
   ]
  },
  {
   "cell_type": "code",
   "execution_count": 107,
   "id": "3d9aed42",
   "metadata": {},
   "outputs": [
    {
     "data": {
      "image/png": "[encoded data removed]",
      "text/plain": [
       "<Figure size 864x288 with 1 Axes>"
      ]
     },
     "metadata": {
      "needs_background": "light"
     },
     "output_type": "display_data"
    }
   ],
   "source": [
    "genre_sales_actual.plot(kind='bar', figsize=(12,4));"
   ]
  },
  {
   "cell_type": "markdown",
   "id": "333da57c",
   "metadata": {},
   "source": [
    "Из построенного распределения средних продаж игр по жанрам для актуального периода, можно выделить 2 самых популярных жанра - это Shooter и Platform.\n",
    "\n",
    "Также можно выделить 2 малопопулярных жанра - это Strategy (Стратегии) и Adventure (Приключение)"
   ]
  },
  {
   "cell_type": "code",
   "execution_count": 108,
   "id": "e3eafe31",
   "metadata": {},
   "outputs": [
    {
     "data": {
      "text/html": [
       "<div>\n",
       "<style scoped>\n",
       "    .dataframe tbody tr th:only-of-type {\n",
       "        vertical-align: middle;\n",
       "    }\n",
       "\n",
       "    .dataframe tbody tr th {\n",
       "        vertical-align: top;\n",
       "    }\n",
       "\n",
       "    .dataframe thead th {\n",
       "        text-align: right;\n",
       "    }\n",
       "</style>\n",
       "<table border=\"1\" class=\"dataframe\">\n",
       "  <thead>\n",
       "    <tr style=\"text-align: right;\">\n",
       "      <th></th>\n",
       "      <th>sales</th>\n",
       "    </tr>\n",
       "    <tr>\n",
       "      <th>genre</th>\n",
       "      <th></th>\n",
       "    </tr>\n",
       "  </thead>\n",
       "  <tbody>\n",
       "    <tr>\n",
       "      <th>Shooter</th>\n",
       "      <td>1.335263</td>\n",
       "    </tr>\n",
       "    <tr>\n",
       "      <th>Platform</th>\n",
       "      <td>0.771667</td>\n",
       "    </tr>\n",
       "    <tr>\n",
       "      <th>Sports</th>\n",
       "      <td>0.722610</td>\n",
       "    </tr>\n",
       "    <tr>\n",
       "      <th>Role-Playing</th>\n",
       "      <td>0.521081</td>\n",
       "    </tr>\n",
       "    <tr>\n",
       "      <th>Racing</th>\n",
       "      <td>0.475446</td>\n",
       "    </tr>\n",
       "    <tr>\n",
       "      <th>Misc</th>\n",
       "      <td>0.473988</td>\n",
       "    </tr>\n",
       "    <tr>\n",
       "      <th>Simulation</th>\n",
       "      <td>0.467027</td>\n",
       "    </tr>\n",
       "    <tr>\n",
       "      <th>Action</th>\n",
       "      <td>0.444598</td>\n",
       "    </tr>\n",
       "    <tr>\n",
       "      <th>Fighting</th>\n",
       "      <td>0.418585</td>\n",
       "    </tr>\n",
       "    <tr>\n",
       "      <th>Puzzle</th>\n",
       "      <td>0.223333</td>\n",
       "    </tr>\n",
       "    <tr>\n",
       "      <th>Strategy</th>\n",
       "      <td>0.187887</td>\n",
       "    </tr>\n",
       "    <tr>\n",
       "      <th>Adventure</th>\n",
       "      <td>0.098616</td>\n",
       "    </tr>\n",
       "  </tbody>\n",
       "</table>\n",
       "</div>"
      ],
      "text/plain": [
       "                 sales\n",
       "genre                 \n",
       "Shooter       1.335263\n",
       "Platform      0.771667\n",
       "Sports        0.722610\n",
       "Role-Playing  0.521081\n",
       "Racing        0.475446\n",
       "Misc          0.473988\n",
       "Simulation    0.467027\n",
       "Action        0.444598\n",
       "Fighting      0.418585\n",
       "Puzzle        0.223333\n",
       "Strategy      0.187887\n",
       "Adventure     0.098616"
      ]
     },
     "metadata": {},
     "output_type": "display_data"
    }
   ],
   "source": [
    "genre_sales_actual_sum = data_actual.pivot_table(index='genre', values='sales', aggfunc='sum').sort_values(by='sales', ascending=False)\n",
    "display(genre_sales_actual)"
   ]
  },
  {
   "cell_type": "markdown",
   "id": "52a2b648",
   "metadata": {},
   "source": [
    "Столбчатая диаграмма жанр, суммарное значение продаж жанра за актуальные период."
   ]
  },
  {
   "cell_type": "code",
   "execution_count": 109,
   "id": "3a09508d",
   "metadata": {},
   "outputs": [
    {
     "data": {
      "image/png": "[encoded data removed]",
      "text/plain": [
       "<Figure size 864x288 with 1 Axes>"
      ]
     },
     "metadata": {
      "needs_background": "light"
     },
     "output_type": "display_data"
    }
   ],
   "source": [
    "genre_sales_actual_sum.plot(kind='bar', figsize=(12,4));"
   ]
  },
  {
   "cell_type": "markdown",
   "id": "213e5a3a",
   "metadata": {},
   "source": [
    "Лидеры рейтинга экшен и шутер, стратегии и пазлы в аутсайдерах"
   ]
  },
  {
   "cell_type": "markdown",
   "id": "0f163de8",
   "metadata": {},
   "source": [
    "Распределение кол-ва игр по жанрам"
   ]
  },
  {
   "cell_type": "code",
   "execution_count": 110,
   "id": "e6624432",
   "metadata": {},
   "outputs": [
    {
     "data": {
      "text/html": [
       "<div>\n",
       "<style scoped>\n",
       "    .dataframe tbody tr th:only-of-type {\n",
       "        vertical-align: middle;\n",
       "    }\n",
       "\n",
       "    .dataframe tbody tr th {\n",
       "        vertical-align: top;\n",
       "    }\n",
       "\n",
       "    .dataframe thead th {\n",
       "        text-align: right;\n",
       "    }\n",
       "</style>\n",
       "<table border=\"1\" class=\"dataframe\">\n",
       "  <thead>\n",
       "    <tr style=\"text-align: right;\">\n",
       "      <th></th>\n",
       "      <th>sales</th>\n",
       "    </tr>\n",
       "    <tr>\n",
       "      <th>genre</th>\n",
       "      <th></th>\n",
       "    </tr>\n",
       "  </thead>\n",
       "  <tbody>\n",
       "    <tr>\n",
       "      <th>Action</th>\n",
       "      <td>983</td>\n",
       "    </tr>\n",
       "    <tr>\n",
       "      <th>Role-Playing</th>\n",
       "      <td>370</td>\n",
       "    </tr>\n",
       "    <tr>\n",
       "      <th>Adventure</th>\n",
       "      <td>289</td>\n",
       "    </tr>\n",
       "    <tr>\n",
       "      <th>Sports</th>\n",
       "      <td>249</td>\n",
       "    </tr>\n",
       "    <tr>\n",
       "      <th>Shooter</th>\n",
       "      <td>228</td>\n",
       "    </tr>\n",
       "    <tr>\n",
       "      <th>Misc</th>\n",
       "      <td>173</td>\n",
       "    </tr>\n",
       "    <tr>\n",
       "      <th>Racing</th>\n",
       "      <td>112</td>\n",
       "    </tr>\n",
       "    <tr>\n",
       "      <th>Fighting</th>\n",
       "      <td>106</td>\n",
       "    </tr>\n",
       "    <tr>\n",
       "      <th>Platform</th>\n",
       "      <td>78</td>\n",
       "    </tr>\n",
       "    <tr>\n",
       "      <th>Simulation</th>\n",
       "      <td>74</td>\n",
       "    </tr>\n",
       "    <tr>\n",
       "      <th>Strategy</th>\n",
       "      <td>71</td>\n",
       "    </tr>\n",
       "    <tr>\n",
       "      <th>Puzzle</th>\n",
       "      <td>21</td>\n",
       "    </tr>\n",
       "  </tbody>\n",
       "</table>\n",
       "</div>"
      ],
      "text/plain": [
       "              sales\n",
       "genre              \n",
       "Action          983\n",
       "Role-Playing    370\n",
       "Adventure       289\n",
       "Sports          249\n",
       "Shooter         228\n",
       "Misc            173\n",
       "Racing          112\n",
       "Fighting        106\n",
       "Platform         78\n",
       "Simulation       74\n",
       "Strategy         71\n",
       "Puzzle           21"
      ]
     },
     "metadata": {},
     "output_type": "display_data"
    }
   ],
   "source": [
    "gen_actual = data_actual.pivot_table(index='genre', values='sales', aggfunc='count').sort_values(by='sales', ascending=False)\n",
    "display(gen_actual)"
   ]
  },
  {
   "cell_type": "code",
   "execution_count": 111,
   "id": "9fa52564",
   "metadata": {},
   "outputs": [
    {
     "data": {
      "image/png": "[encoded data removed]",
      "text/plain": [
       "<Figure size 864x288 with 1 Axes>"
      ]
     },
     "metadata": {
      "needs_background": "light"
     },
     "output_type": "display_data"
    }
   ],
   "source": [
    "gen_actual.plot(kind='bar', figsize=(12,4));"
   ]
  },
  {
   "cell_type": "markdown",
   "id": "7e26b202",
   "metadata": {},
   "source": [
    "Наблюдаем в лидерах экшен и ролевые,  в аутсайдерах стратегии и пазлы. "
   ]
  },
  {
   "cell_type": "markdown",
   "id": "86a86b40",
   "metadata": {},
   "source": [
    "## Профиль продаж каждого региона"
   ]
  },
  {
   "cell_type": "markdown",
   "id": "b6c551d1",
   "metadata": {},
   "source": [
    "### TOP5 платформ в различных регионах продаж"
   ]
  },
  {
   "cell_type": "markdown",
   "id": "5b5767c5",
   "metadata": {},
   "source": [
    "####  NA Северная америка"
   ]
  },
  {
   "cell_type": "markdown",
   "id": "71ceb77f",
   "metadata": {},
   "source": [
    "Построение таблицы платформы, объём продаж для NA (Северная Америка)."
   ]
  },
  {
   "cell_type": "code",
   "execution_count": 112,
   "id": "85d1e927",
   "metadata": {},
   "outputs": [
    {
     "data": {
      "text/html": [
       "<div>\n",
       "<style scoped>\n",
       "    .dataframe tbody tr th:only-of-type {\n",
       "        vertical-align: middle;\n",
       "    }\n",
       "\n",
       "    .dataframe tbody tr th {\n",
       "        vertical-align: top;\n",
       "    }\n",
       "\n",
       "    .dataframe thead th {\n",
       "        text-align: right;\n",
       "    }\n",
       "</style>\n",
       "<table border=\"1\" class=\"dataframe\">\n",
       "  <thead>\n",
       "    <tr style=\"text-align: right;\">\n",
       "      <th></th>\n",
       "      <th>platform</th>\n",
       "      <th>na_sales</th>\n",
       "    </tr>\n",
       "  </thead>\n",
       "  <tbody>\n",
       "    <tr>\n",
       "      <th>0</th>\n",
       "      <td>X360</td>\n",
       "      <td>139.16</td>\n",
       "    </tr>\n",
       "    <tr>\n",
       "      <th>1</th>\n",
       "      <td>PS4</td>\n",
       "      <td>108.62</td>\n",
       "    </tr>\n",
       "    <tr>\n",
       "      <th>2</th>\n",
       "      <td>PS3</td>\n",
       "      <td>103.10</td>\n",
       "    </tr>\n",
       "    <tr>\n",
       "      <th>3</th>\n",
       "      <td>XOne</td>\n",
       "      <td>92.77</td>\n",
       "    </tr>\n",
       "    <tr>\n",
       "      <th>4</th>\n",
       "      <td>3DS</td>\n",
       "      <td>54.65</td>\n",
       "    </tr>\n",
       "    <tr>\n",
       "      <th>5</th>\n",
       "      <td>WiiU</td>\n",
       "      <td>37.90</td>\n",
       "    </tr>\n",
       "    <tr>\n",
       "      <th>6</th>\n",
       "      <td>PC</td>\n",
       "      <td>19.12</td>\n",
       "    </tr>\n",
       "    <tr>\n",
       "      <th>7</th>\n",
       "      <td>Wii</td>\n",
       "      <td>16.06</td>\n",
       "    </tr>\n",
       "    <tr>\n",
       "      <th>8</th>\n",
       "      <td>PSV</td>\n",
       "      <td>10.97</td>\n",
       "    </tr>\n",
       "    <tr>\n",
       "      <th>9</th>\n",
       "      <td>DS</td>\n",
       "      <td>4.35</td>\n",
       "    </tr>\n",
       "    <tr>\n",
       "      <th>10</th>\n",
       "      <td>PSP</td>\n",
       "      <td>0.05</td>\n",
       "    </tr>\n",
       "  </tbody>\n",
       "</table>\n",
       "</div>"
      ],
      "text/plain": [
       "   platform  na_sales\n",
       "0      X360    139.16\n",
       "1       PS4    108.62\n",
       "2       PS3    103.10\n",
       "3      XOne     92.77\n",
       "4       3DS     54.65\n",
       "5      WiiU     37.90\n",
       "6        PC     19.12\n",
       "7       Wii     16.06\n",
       "8       PSV     10.97\n",
       "9        DS      4.35\n",
       "10      PSP      0.05"
      ]
     },
     "metadata": {},
     "output_type": "display_data"
    }
   ],
   "source": [
    "na_platf_top = data_actual.pivot_table(index='platform', values='na_sales', aggfunc='sum' ).sort_values(by='na_sales', ascending=False).reset_index()\n",
    "display(na_platf_top)"
   ]
  },
  {
   "cell_type": "markdown",
   "id": "17827d6e",
   "metadata": {},
   "source": [
    "Расчёт доли платформ в продажах и отбор 5-ти самых популярных в NA."
   ]
  },
  {
   "cell_type": "code",
   "execution_count": 113,
   "id": "05537921",
   "metadata": {},
   "outputs": [
    {
     "data": {
      "text/html": [
       "<div>\n",
       "<style scoped>\n",
       "    .dataframe tbody tr th:only-of-type {\n",
       "        vertical-align: middle;\n",
       "    }\n",
       "\n",
       "    .dataframe tbody tr th {\n",
       "        vertical-align: top;\n",
       "    }\n",
       "\n",
       "    .dataframe thead th {\n",
       "        text-align: right;\n",
       "    }\n",
       "</style>\n",
       "<table border=\"1\" class=\"dataframe\">\n",
       "  <thead>\n",
       "    <tr style=\"text-align: right;\">\n",
       "      <th></th>\n",
       "      <th>platform</th>\n",
       "      <th>na_sales</th>\n",
       "      <th>na_ratio</th>\n",
       "    </tr>\n",
       "  </thead>\n",
       "  <tbody>\n",
       "    <tr>\n",
       "      <th>0</th>\n",
       "      <td>X360</td>\n",
       "      <td>139.16</td>\n",
       "      <td>23.7</td>\n",
       "    </tr>\n",
       "    <tr>\n",
       "      <th>1</th>\n",
       "      <td>PS4</td>\n",
       "      <td>108.62</td>\n",
       "      <td>18.5</td>\n",
       "    </tr>\n",
       "    <tr>\n",
       "      <th>2</th>\n",
       "      <td>PS3</td>\n",
       "      <td>103.10</td>\n",
       "      <td>17.6</td>\n",
       "    </tr>\n",
       "    <tr>\n",
       "      <th>3</th>\n",
       "      <td>XOne</td>\n",
       "      <td>92.77</td>\n",
       "      <td>15.8</td>\n",
       "    </tr>\n",
       "    <tr>\n",
       "      <th>4</th>\n",
       "      <td>3DS</td>\n",
       "      <td>54.65</td>\n",
       "      <td>9.3</td>\n",
       "    </tr>\n",
       "  </tbody>\n",
       "</table>\n",
       "</div>"
      ],
      "text/plain": [
       "  platform  na_sales  na_ratio\n",
       "0     X360    139.16      23.7\n",
       "1      PS4    108.62      18.5\n",
       "2      PS3    103.10      17.6\n",
       "3     XOne     92.77      15.8\n",
       "4      3DS     54.65       9.3"
      ]
     },
     "metadata": {},
     "output_type": "display_data"
    }
   ],
   "source": [
    "# создание столбца na_ratio доли платформы в продажах\n",
    "na_platf_top['na_ratio'] = round(100 * na_platf_top['na_sales'] / na_platf_top['na_sales'].sum(), 1)\n",
    "# отбор 5-ти самых популярных платформ в NA\n",
    "na_platf_top5 = na_platf_top.loc[0:4]\n",
    "display(na_platf_top5)"
   ]
  },
  {
   "cell_type": "markdown",
   "id": "4612363c",
   "metadata": {},
   "source": [
    "Таким образом, определены TOP5 платформ в регионе NA и их доли в продажах. Доли платформ в продажах отличаются незначительно всего на 1-5%."
   ]
  },
  {
   "cell_type": "markdown",
   "id": "f77745ad",
   "metadata": {},
   "source": [
    "#### EU Европа"
   ]
  },
  {
   "cell_type": "markdown",
   "id": "db71d694",
   "metadata": {},
   "source": [
    "Построение таблицы платформы, объём продаж для региона EU (Европа)."
   ]
  },
  {
   "cell_type": "code",
   "execution_count": 114,
   "id": "52367012",
   "metadata": {},
   "outputs": [
    {
     "data": {
      "text/html": [
       "<div>\n",
       "<style scoped>\n",
       "    .dataframe tbody tr th:only-of-type {\n",
       "        vertical-align: middle;\n",
       "    }\n",
       "\n",
       "    .dataframe tbody tr th {\n",
       "        vertical-align: top;\n",
       "    }\n",
       "\n",
       "    .dataframe thead th {\n",
       "        text-align: right;\n",
       "    }\n",
       "</style>\n",
       "<table border=\"1\" class=\"dataframe\">\n",
       "  <thead>\n",
       "    <tr style=\"text-align: right;\">\n",
       "      <th></th>\n",
       "      <th>platform</th>\n",
       "      <th>eu_sales</th>\n",
       "    </tr>\n",
       "  </thead>\n",
       "  <tbody>\n",
       "    <tr>\n",
       "      <th>0</th>\n",
       "      <td>PS4</td>\n",
       "      <td>141.09</td>\n",
       "    </tr>\n",
       "    <tr>\n",
       "      <th>1</th>\n",
       "      <td>PS3</td>\n",
       "      <td>106.26</td>\n",
       "    </tr>\n",
       "    <tr>\n",
       "      <th>2</th>\n",
       "      <td>X360</td>\n",
       "      <td>74.02</td>\n",
       "    </tr>\n",
       "    <tr>\n",
       "      <th>3</th>\n",
       "      <td>XOne</td>\n",
       "      <td>51.43</td>\n",
       "    </tr>\n",
       "    <tr>\n",
       "      <th>4</th>\n",
       "      <td>3DS</td>\n",
       "      <td>41.64</td>\n",
       "    </tr>\n",
       "    <tr>\n",
       "      <th>5</th>\n",
       "      <td>PC</td>\n",
       "      <td>37.67</td>\n",
       "    </tr>\n",
       "    <tr>\n",
       "      <th>6</th>\n",
       "      <td>WiiU</td>\n",
       "      <td>24.97</td>\n",
       "    </tr>\n",
       "    <tr>\n",
       "      <th>7</th>\n",
       "      <td>PSV</td>\n",
       "      <td>11.21</td>\n",
       "    </tr>\n",
       "    <tr>\n",
       "      <th>8</th>\n",
       "      <td>Wii</td>\n",
       "      <td>10.21</td>\n",
       "    </tr>\n",
       "    <tr>\n",
       "      <th>9</th>\n",
       "      <td>DS</td>\n",
       "      <td>2.58</td>\n",
       "    </tr>\n",
       "    <tr>\n",
       "      <th>10</th>\n",
       "      <td>PSP</td>\n",
       "      <td>0.35</td>\n",
       "    </tr>\n",
       "  </tbody>\n",
       "</table>\n",
       "</div>"
      ],
      "text/plain": [
       "   platform  eu_sales\n",
       "0       PS4    141.09\n",
       "1       PS3    106.26\n",
       "2      X360     74.02\n",
       "3      XOne     51.43\n",
       "4       3DS     41.64\n",
       "5        PC     37.67\n",
       "6      WiiU     24.97\n",
       "7       PSV     11.21\n",
       "8       Wii     10.21\n",
       "9        DS      2.58\n",
       "10      PSP      0.35"
      ]
     },
     "metadata": {},
     "output_type": "display_data"
    }
   ],
   "source": [
    "eu_platf_top = data_actual.pivot_table(index='platform', values='eu_sales', aggfunc='sum' ).sort_values(by='eu_sales', ascending=False).reset_index()\n",
    "display(eu_platf_top)"
   ]
  },
  {
   "cell_type": "markdown",
   "id": "90ae3749",
   "metadata": {},
   "source": [
    "Расчёт доли платформ в продажах и отбор 5 самых популярных платформ в EU."
   ]
  },
  {
   "cell_type": "code",
   "execution_count": 115,
   "id": "ca301815",
   "metadata": {},
   "outputs": [
    {
     "data": {
      "text/html": [
       "<div>\n",
       "<style scoped>\n",
       "    .dataframe tbody tr th:only-of-type {\n",
       "        vertical-align: middle;\n",
       "    }\n",
       "\n",
       "    .dataframe tbody tr th {\n",
       "        vertical-align: top;\n",
       "    }\n",
       "\n",
       "    .dataframe thead th {\n",
       "        text-align: right;\n",
       "    }\n",
       "</style>\n",
       "<table border=\"1\" class=\"dataframe\">\n",
       "  <thead>\n",
       "    <tr style=\"text-align: right;\">\n",
       "      <th></th>\n",
       "      <th>platform</th>\n",
       "      <th>eu_sales</th>\n",
       "      <th>ratio</th>\n",
       "    </tr>\n",
       "  </thead>\n",
       "  <tbody>\n",
       "    <tr>\n",
       "      <th>0</th>\n",
       "      <td>PS4</td>\n",
       "      <td>141.09</td>\n",
       "      <td>28.1</td>\n",
       "    </tr>\n",
       "    <tr>\n",
       "      <th>1</th>\n",
       "      <td>PS3</td>\n",
       "      <td>106.26</td>\n",
       "      <td>21.2</td>\n",
       "    </tr>\n",
       "    <tr>\n",
       "      <th>2</th>\n",
       "      <td>X360</td>\n",
       "      <td>74.02</td>\n",
       "      <td>14.8</td>\n",
       "    </tr>\n",
       "    <tr>\n",
       "      <th>3</th>\n",
       "      <td>XOne</td>\n",
       "      <td>51.43</td>\n",
       "      <td>10.3</td>\n",
       "    </tr>\n",
       "    <tr>\n",
       "      <th>4</th>\n",
       "      <td>3DS</td>\n",
       "      <td>41.64</td>\n",
       "      <td>8.3</td>\n",
       "    </tr>\n",
       "  </tbody>\n",
       "</table>\n",
       "</div>"
      ],
      "text/plain": [
       "  platform  eu_sales  ratio\n",
       "0      PS4    141.09   28.1\n",
       "1      PS3    106.26   21.2\n",
       "2     X360     74.02   14.8\n",
       "3     XOne     51.43   10.3\n",
       "4      3DS     41.64    8.3"
      ]
     },
     "metadata": {},
     "output_type": "display_data"
    }
   ],
   "source": [
    "# создание столбца ratio доля платформы в продажах\n",
    "eu_platf_top['ratio'] = round(100 * (eu_platf_top['eu_sales'] / eu_platf_top['eu_sales'].sum()), 1)\n",
    "# отбор 5 самых популярных платформ в EU\n",
    "eu_platf_top5 = eu_platf_top.loc[0:4]\n",
    "display(eu_platf_top5)"
   ]
  },
  {
   "cell_type": "markdown",
   "id": "aac1fdb1",
   "metadata": {},
   "source": [
    "В результате были получены TOP5 платформ в регионе EU (Европа) и их доли в продажах. Доли в продажах отличаются незначительно всего на 4.5 - 6.9 %."
   ]
  },
  {
   "cell_type": "markdown",
   "id": "e991f998",
   "metadata": {},
   "source": [
    "#### JP Япония"
   ]
  },
  {
   "cell_type": "markdown",
   "id": "df60b4cb",
   "metadata": {},
   "source": [
    "Построение таблицы платформы, объём продаж для региона JP (Япония)"
   ]
  },
  {
   "cell_type": "code",
   "execution_count": 116,
   "id": "b5e53e33",
   "metadata": {},
   "outputs": [
    {
     "data": {
      "text/html": [
       "<div>\n",
       "<style scoped>\n",
       "    .dataframe tbody tr th:only-of-type {\n",
       "        vertical-align: middle;\n",
       "    }\n",
       "\n",
       "    .dataframe tbody tr th {\n",
       "        vertical-align: top;\n",
       "    }\n",
       "\n",
       "    .dataframe thead th {\n",
       "        text-align: right;\n",
       "    }\n",
       "</style>\n",
       "<table border=\"1\" class=\"dataframe\">\n",
       "  <thead>\n",
       "    <tr style=\"text-align: right;\">\n",
       "      <th></th>\n",
       "      <th>platform</th>\n",
       "      <th>jp_sales</th>\n",
       "    </tr>\n",
       "  </thead>\n",
       "  <tbody>\n",
       "    <tr>\n",
       "      <th>0</th>\n",
       "      <td>3DS</td>\n",
       "      <td>87.68</td>\n",
       "    </tr>\n",
       "    <tr>\n",
       "      <th>1</th>\n",
       "      <td>PS3</td>\n",
       "      <td>34.92</td>\n",
       "    </tr>\n",
       "    <tr>\n",
       "      <th>2</th>\n",
       "      <td>PSV</td>\n",
       "      <td>20.93</td>\n",
       "    </tr>\n",
       "    <tr>\n",
       "      <th>3</th>\n",
       "      <td>PS4</td>\n",
       "      <td>15.96</td>\n",
       "    </tr>\n",
       "    <tr>\n",
       "      <th>4</th>\n",
       "      <td>WiiU</td>\n",
       "      <td>13.01</td>\n",
       "    </tr>\n",
       "    <tr>\n",
       "      <th>5</th>\n",
       "      <td>PSP</td>\n",
       "      <td>10.29</td>\n",
       "    </tr>\n",
       "    <tr>\n",
       "      <th>6</th>\n",
       "      <td>DS</td>\n",
       "      <td>3.72</td>\n",
       "    </tr>\n",
       "    <tr>\n",
       "      <th>7</th>\n",
       "      <td>Wii</td>\n",
       "      <td>3.33</td>\n",
       "    </tr>\n",
       "    <tr>\n",
       "      <th>8</th>\n",
       "      <td>X360</td>\n",
       "      <td>1.56</td>\n",
       "    </tr>\n",
       "    <tr>\n",
       "      <th>9</th>\n",
       "      <td>XOne</td>\n",
       "      <td>0.34</td>\n",
       "    </tr>\n",
       "    <tr>\n",
       "      <th>10</th>\n",
       "      <td>PC</td>\n",
       "      <td>0.00</td>\n",
       "    </tr>\n",
       "  </tbody>\n",
       "</table>\n",
       "</div>"
      ],
      "text/plain": [
       "   platform  jp_sales\n",
       "0       3DS     87.68\n",
       "1       PS3     34.92\n",
       "2       PSV     20.93\n",
       "3       PS4     15.96\n",
       "4      WiiU     13.01\n",
       "5       PSP     10.29\n",
       "6        DS      3.72\n",
       "7       Wii      3.33\n",
       "8      X360      1.56\n",
       "9      XOne      0.34\n",
       "10       PC      0.00"
      ]
     },
     "metadata": {},
     "output_type": "display_data"
    }
   ],
   "source": [
    "jp_platf_top = data_actual.pivot_table(index='platform', values='jp_sales', aggfunc='sum' ).sort_values(by='jp_sales', ascending=False).reset_index()\n",
    "display(jp_platf_top)"
   ]
  },
  {
   "cell_type": "code",
   "execution_count": 117,
   "id": "d86fc48b",
   "metadata": {},
   "outputs": [
    {
     "data": {
      "text/html": [
       "<div>\n",
       "<style scoped>\n",
       "    .dataframe tbody tr th:only-of-type {\n",
       "        vertical-align: middle;\n",
       "    }\n",
       "\n",
       "    .dataframe tbody tr th {\n",
       "        vertical-align: top;\n",
       "    }\n",
       "\n",
       "    .dataframe thead th {\n",
       "        text-align: right;\n",
       "    }\n",
       "</style>\n",
       "<table border=\"1\" class=\"dataframe\">\n",
       "  <thead>\n",
       "    <tr style=\"text-align: right;\">\n",
       "      <th></th>\n",
       "      <th>platform</th>\n",
       "      <th>jp_sales</th>\n",
       "      <th>jp_ratio</th>\n",
       "    </tr>\n",
       "  </thead>\n",
       "  <tbody>\n",
       "    <tr>\n",
       "      <th>0</th>\n",
       "      <td>3DS</td>\n",
       "      <td>87.68</td>\n",
       "      <td>45.7</td>\n",
       "    </tr>\n",
       "    <tr>\n",
       "      <th>1</th>\n",
       "      <td>PS3</td>\n",
       "      <td>34.92</td>\n",
       "      <td>18.2</td>\n",
       "    </tr>\n",
       "    <tr>\n",
       "      <th>2</th>\n",
       "      <td>PSV</td>\n",
       "      <td>20.93</td>\n",
       "      <td>10.9</td>\n",
       "    </tr>\n",
       "    <tr>\n",
       "      <th>3</th>\n",
       "      <td>PS4</td>\n",
       "      <td>15.96</td>\n",
       "      <td>8.3</td>\n",
       "    </tr>\n",
       "    <tr>\n",
       "      <th>4</th>\n",
       "      <td>WiiU</td>\n",
       "      <td>13.01</td>\n",
       "      <td>6.8</td>\n",
       "    </tr>\n",
       "  </tbody>\n",
       "</table>\n",
       "</div>"
      ],
      "text/plain": [
       "  platform  jp_sales  jp_ratio\n",
       "0      3DS     87.68      45.7\n",
       "1      PS3     34.92      18.2\n",
       "2      PSV     20.93      10.9\n",
       "3      PS4     15.96       8.3\n",
       "4     WiiU     13.01       6.8"
      ]
     },
     "metadata": {},
     "output_type": "display_data"
    }
   ],
   "source": [
    "# добавление столбца jp_ratio доля платформы в продажах\n",
    "jp_platf_top['jp_ratio'] = round(100 * (jp_platf_top['jp_sales'] / jp_platf_top['jp_sales'].sum()), 1)\n",
    "# отбор 5 самых популярных платформ\n",
    "jp_platf_top5 = jp_platf_top.loc[0:4]\n",
    "display(jp_platf_top5)"
   ]
  },
  {
   "cell_type": "markdown",
   "id": "f6ef5825",
   "metadata": {},
   "source": [
    "В результате получены TOP5 платформ в регионе JP (Япония) и их доли в продажах. Различия в долях продаж очень значительные."
   ]
  },
  {
   "cell_type": "markdown",
   "id": "33cc045c",
   "metadata": {},
   "source": [
    "#### Сравнение TOP5 платформ разных регионов"
   ]
  },
  {
   "cell_type": "code",
   "execution_count": 118,
   "id": "16c8fb3d",
   "metadata": {},
   "outputs": [],
   "source": [
    "# переименование столбца необходимое для последующего объединения таблиц\n",
    "na_platf_top5 = na_platf_top5.rename(\n",
    "                columns={\n",
    "                    'platform' : 'na_platform'\n",
    "                }\n",
    ")\n",
    "# переименование столбца необходимое для последующего объединения таблиц\n",
    "eu_platf_top5 = eu_platf_top5.rename(\n",
    "                columns={\n",
    "                    'platform' : 'eu_platform'\n",
    "                }\n",
    ")\n",
    "# переименование столбца необходимое для последующего объединения таблиц\n",
    "jp_platf_top5 = jp_platf_top5.rename(\n",
    "                columns={\n",
    "                    'platform' : 'jp_platform'\n",
    "                }\n",
    ")"
   ]
  },
  {
   "cell_type": "code",
   "execution_count": 119,
   "id": "a2972a4e",
   "metadata": {},
   "outputs": [
    {
     "data": {
      "text/html": [
       "<div>\n",
       "<style scoped>\n",
       "    .dataframe tbody tr th:only-of-type {\n",
       "        vertical-align: middle;\n",
       "    }\n",
       "\n",
       "    .dataframe tbody tr th {\n",
       "        vertical-align: top;\n",
       "    }\n",
       "\n",
       "    .dataframe thead th {\n",
       "        text-align: right;\n",
       "    }\n",
       "</style>\n",
       "<table border=\"1\" class=\"dataframe\">\n",
       "  <thead>\n",
       "    <tr style=\"text-align: right;\">\n",
       "      <th></th>\n",
       "      <th>na_platform</th>\n",
       "      <th>na_sales</th>\n",
       "      <th>na_ratio</th>\n",
       "      <th>eu_platform</th>\n",
       "      <th>eu_sales</th>\n",
       "      <th>ratio</th>\n",
       "      <th>jp_platform</th>\n",
       "      <th>jp_sales</th>\n",
       "      <th>jp_ratio</th>\n",
       "    </tr>\n",
       "  </thead>\n",
       "  <tbody>\n",
       "    <tr>\n",
       "      <th>0</th>\n",
       "      <td>X360</td>\n",
       "      <td>139.16</td>\n",
       "      <td>23.7</td>\n",
       "      <td>PS4</td>\n",
       "      <td>141.09</td>\n",
       "      <td>28.1</td>\n",
       "      <td>3DS</td>\n",
       "      <td>87.68</td>\n",
       "      <td>45.7</td>\n",
       "    </tr>\n",
       "    <tr>\n",
       "      <th>1</th>\n",
       "      <td>PS4</td>\n",
       "      <td>108.62</td>\n",
       "      <td>18.5</td>\n",
       "      <td>PS3</td>\n",
       "      <td>106.26</td>\n",
       "      <td>21.2</td>\n",
       "      <td>PS3</td>\n",
       "      <td>34.92</td>\n",
       "      <td>18.2</td>\n",
       "    </tr>\n",
       "    <tr>\n",
       "      <th>2</th>\n",
       "      <td>PS3</td>\n",
       "      <td>103.10</td>\n",
       "      <td>17.6</td>\n",
       "      <td>X360</td>\n",
       "      <td>74.02</td>\n",
       "      <td>14.8</td>\n",
       "      <td>PSV</td>\n",
       "      <td>20.93</td>\n",
       "      <td>10.9</td>\n",
       "    </tr>\n",
       "    <tr>\n",
       "      <th>3</th>\n",
       "      <td>XOne</td>\n",
       "      <td>92.77</td>\n",
       "      <td>15.8</td>\n",
       "      <td>XOne</td>\n",
       "      <td>51.43</td>\n",
       "      <td>10.3</td>\n",
       "      <td>PS4</td>\n",
       "      <td>15.96</td>\n",
       "      <td>8.3</td>\n",
       "    </tr>\n",
       "    <tr>\n",
       "      <th>4</th>\n",
       "      <td>3DS</td>\n",
       "      <td>54.65</td>\n",
       "      <td>9.3</td>\n",
       "      <td>3DS</td>\n",
       "      <td>41.64</td>\n",
       "      <td>8.3</td>\n",
       "      <td>WiiU</td>\n",
       "      <td>13.01</td>\n",
       "      <td>6.8</td>\n",
       "    </tr>\n",
       "  </tbody>\n",
       "</table>\n",
       "</div>"
      ],
      "text/plain": [
       "  na_platform  na_sales  na_ratio eu_platform  eu_sales  ratio jp_platform  \\\n",
       "0        X360    139.16      23.7         PS4    141.09   28.1         3DS   \n",
       "1         PS4    108.62      18.5         PS3    106.26   21.2         PS3   \n",
       "2         PS3    103.10      17.6        X360     74.02   14.8         PSV   \n",
       "3        XOne     92.77      15.8        XOne     51.43   10.3         PS4   \n",
       "4         3DS     54.65       9.3         3DS     41.64    8.3        WiiU   \n",
       "\n",
       "   jp_sales  jp_ratio  \n",
       "0     87.68      45.7  \n",
       "1     34.92      18.2  \n",
       "2     20.93      10.9  \n",
       "3     15.96       8.3  \n",
       "4     13.01       6.8  "
      ]
     },
     "execution_count": 119,
     "metadata": {},
     "output_type": "execute_result"
    }
   ],
   "source": [
    "# объединение таблиц\n",
    "na_platf_top5.join([eu_platf_top5, jp_platf_top5])"
   ]
  },
  {
   "cell_type": "markdown",
   "id": "9a74b129",
   "metadata": {},
   "source": [
    "Списки а северной америке и европе схожи 'X360', 'PS4', 'XOne', 'PS3', '3DS', при этом отличается место платформ в списках и их доли в продажах. В Японии список TOP5 частично похожий и частично отличаюющийся, в него входят платформы PS3,PS4,3DS которые имеются в TOP5 северной америки и европы."
   ]
  },
  {
   "cell_type": "markdown",
   "id": "5c416769",
   "metadata": {},
   "source": [
    "### TOP5 жанров в различных регионах продаж"
   ]
  },
  {
   "cell_type": "markdown",
   "id": "5fa4aa2f",
   "metadata": {},
   "source": [
    "#### NA"
   ]
  },
  {
   "cell_type": "code",
   "execution_count": 120,
   "id": "5697103e",
   "metadata": {},
   "outputs": [
    {
     "data": {
      "text/html": [
       "<div>\n",
       "<style scoped>\n",
       "    .dataframe tbody tr th:only-of-type {\n",
       "        vertical-align: middle;\n",
       "    }\n",
       "\n",
       "    .dataframe tbody tr th {\n",
       "        vertical-align: top;\n",
       "    }\n",
       "\n",
       "    .dataframe thead th {\n",
       "        text-align: right;\n",
       "    }\n",
       "</style>\n",
       "<table border=\"1\" class=\"dataframe\">\n",
       "  <thead>\n",
       "    <tr style=\"text-align: right;\">\n",
       "      <th></th>\n",
       "      <th>genre</th>\n",
       "      <th>na_sales</th>\n",
       "    </tr>\n",
       "  </thead>\n",
       "  <tbody>\n",
       "    <tr>\n",
       "      <th>0</th>\n",
       "      <td>Action</td>\n",
       "      <td>176.39</td>\n",
       "    </tr>\n",
       "    <tr>\n",
       "      <th>1</th>\n",
       "      <td>Shooter</td>\n",
       "      <td>144.64</td>\n",
       "    </tr>\n",
       "    <tr>\n",
       "      <th>2</th>\n",
       "      <td>Sports</td>\n",
       "      <td>81.13</td>\n",
       "    </tr>\n",
       "    <tr>\n",
       "      <th>3</th>\n",
       "      <td>Role-Playing</td>\n",
       "      <td>64.00</td>\n",
       "    </tr>\n",
       "    <tr>\n",
       "      <th>4</th>\n",
       "      <td>Misc</td>\n",
       "      <td>36.90</td>\n",
       "    </tr>\n",
       "    <tr>\n",
       "      <th>5</th>\n",
       "      <td>Platform</td>\n",
       "      <td>25.15</td>\n",
       "    </tr>\n",
       "    <tr>\n",
       "      <th>6</th>\n",
       "      <td>Fighting</td>\n",
       "      <td>19.73</td>\n",
       "    </tr>\n",
       "    <tr>\n",
       "      <th>7</th>\n",
       "      <td>Racing</td>\n",
       "      <td>17.13</td>\n",
       "    </tr>\n",
       "    <tr>\n",
       "      <th>8</th>\n",
       "      <td>Adventure</td>\n",
       "      <td>8.64</td>\n",
       "    </tr>\n",
       "    <tr>\n",
       "      <th>9</th>\n",
       "      <td>Simulation</td>\n",
       "      <td>7.75</td>\n",
       "    </tr>\n",
       "    <tr>\n",
       "      <th>10</th>\n",
       "      <td>Strategy</td>\n",
       "      <td>4.23</td>\n",
       "    </tr>\n",
       "    <tr>\n",
       "      <th>11</th>\n",
       "      <td>Puzzle</td>\n",
       "      <td>1.06</td>\n",
       "    </tr>\n",
       "  </tbody>\n",
       "</table>\n",
       "</div>"
      ],
      "text/plain": [
       "           genre  na_sales\n",
       "0         Action    176.39\n",
       "1        Shooter    144.64\n",
       "2         Sports     81.13\n",
       "3   Role-Playing     64.00\n",
       "4           Misc     36.90\n",
       "5       Platform     25.15\n",
       "6       Fighting     19.73\n",
       "7         Racing     17.13\n",
       "8      Adventure      8.64\n",
       "9     Simulation      7.75\n",
       "10      Strategy      4.23\n",
       "11        Puzzle      1.06"
      ]
     },
     "metadata": {},
     "output_type": "display_data"
    }
   ],
   "source": [
    "na_genre_sales = data_actual.pivot_table(index='genre', values='na_sales', aggfunc='sum' ).sort_values(by='na_sales', ascending=False).reset_index()\n",
    "display(na_genre_sales)"
   ]
  },
  {
   "cell_type": "code",
   "execution_count": 121,
   "id": "8dddddd7",
   "metadata": {},
   "outputs": [],
   "source": [
    "na_genre_sales['na_ratio'] = round(100 * na_genre_sales['na_sales'] / na_genre_sales['na_sales'].sum())"
   ]
  },
  {
   "cell_type": "code",
   "execution_count": 122,
   "id": "2fabd09c",
   "metadata": {},
   "outputs": [
    {
     "data": {
      "text/html": [
       "<div>\n",
       "<style scoped>\n",
       "    .dataframe tbody tr th:only-of-type {\n",
       "        vertical-align: middle;\n",
       "    }\n",
       "\n",
       "    .dataframe tbody tr th {\n",
       "        vertical-align: top;\n",
       "    }\n",
       "\n",
       "    .dataframe thead th {\n",
       "        text-align: right;\n",
       "    }\n",
       "</style>\n",
       "<table border=\"1\" class=\"dataframe\">\n",
       "  <thead>\n",
       "    <tr style=\"text-align: right;\">\n",
       "      <th></th>\n",
       "      <th>genre</th>\n",
       "      <th>na_sales</th>\n",
       "      <th>na_ratio</th>\n",
       "    </tr>\n",
       "  </thead>\n",
       "  <tbody>\n",
       "    <tr>\n",
       "      <th>0</th>\n",
       "      <td>Action</td>\n",
       "      <td>176.39</td>\n",
       "      <td>30.0</td>\n",
       "    </tr>\n",
       "    <tr>\n",
       "      <th>1</th>\n",
       "      <td>Shooter</td>\n",
       "      <td>144.64</td>\n",
       "      <td>25.0</td>\n",
       "    </tr>\n",
       "    <tr>\n",
       "      <th>2</th>\n",
       "      <td>Sports</td>\n",
       "      <td>81.13</td>\n",
       "      <td>14.0</td>\n",
       "    </tr>\n",
       "    <tr>\n",
       "      <th>3</th>\n",
       "      <td>Role-Playing</td>\n",
       "      <td>64.00</td>\n",
       "      <td>11.0</td>\n",
       "    </tr>\n",
       "    <tr>\n",
       "      <th>4</th>\n",
       "      <td>Misc</td>\n",
       "      <td>36.90</td>\n",
       "      <td>6.0</td>\n",
       "    </tr>\n",
       "  </tbody>\n",
       "</table>\n",
       "</div>"
      ],
      "text/plain": [
       "          genre  na_sales  na_ratio\n",
       "0        Action    176.39      30.0\n",
       "1       Shooter    144.64      25.0\n",
       "2        Sports     81.13      14.0\n",
       "3  Role-Playing     64.00      11.0\n",
       "4          Misc     36.90       6.0"
      ]
     },
     "metadata": {},
     "output_type": "display_data"
    }
   ],
   "source": [
    "na_genre_sales_top5 = na_genre_sales.loc[0:4]\n",
    "display(na_genre_sales_top5)"
   ]
  },
  {
   "cell_type": "markdown",
   "id": "8bf5fc8d",
   "metadata": {},
   "source": [
    "#### EU"
   ]
  },
  {
   "cell_type": "code",
   "execution_count": 123,
   "id": "73f0cd1c",
   "metadata": {},
   "outputs": [
    {
     "data": {
      "text/html": [
       "<div>\n",
       "<style scoped>\n",
       "    .dataframe tbody tr th:only-of-type {\n",
       "        vertical-align: middle;\n",
       "    }\n",
       "\n",
       "    .dataframe tbody tr th {\n",
       "        vertical-align: top;\n",
       "    }\n",
       "\n",
       "    .dataframe thead th {\n",
       "        text-align: right;\n",
       "    }\n",
       "</style>\n",
       "<table border=\"1\" class=\"dataframe\">\n",
       "  <thead>\n",
       "    <tr style=\"text-align: right;\">\n",
       "      <th></th>\n",
       "      <th>genre</th>\n",
       "      <th>eu_sales</th>\n",
       "    </tr>\n",
       "  </thead>\n",
       "  <tbody>\n",
       "    <tr>\n",
       "      <th>0</th>\n",
       "      <td>Action</td>\n",
       "      <td>157.51</td>\n",
       "    </tr>\n",
       "    <tr>\n",
       "      <th>1</th>\n",
       "      <td>Shooter</td>\n",
       "      <td>113.33</td>\n",
       "    </tr>\n",
       "    <tr>\n",
       "      <th>2</th>\n",
       "      <td>Sports</td>\n",
       "      <td>68.69</td>\n",
       "    </tr>\n",
       "    <tr>\n",
       "      <th>3</th>\n",
       "      <td>Role-Playing</td>\n",
       "      <td>48.53</td>\n",
       "    </tr>\n",
       "    <tr>\n",
       "      <th>4</th>\n",
       "      <td>Racing</td>\n",
       "      <td>27.19</td>\n",
       "    </tr>\n",
       "    <tr>\n",
       "      <th>5</th>\n",
       "      <td>Misc</td>\n",
       "      <td>24.84</td>\n",
       "    </tr>\n",
       "    <tr>\n",
       "      <th>6</th>\n",
       "      <td>Platform</td>\n",
       "      <td>20.91</td>\n",
       "    </tr>\n",
       "    <tr>\n",
       "      <th>7</th>\n",
       "      <td>Simulation</td>\n",
       "      <td>14.31</td>\n",
       "    </tr>\n",
       "    <tr>\n",
       "      <th>8</th>\n",
       "      <td>Fighting</td>\n",
       "      <td>10.77</td>\n",
       "    </tr>\n",
       "    <tr>\n",
       "      <th>9</th>\n",
       "      <td>Adventure</td>\n",
       "      <td>8.89</td>\n",
       "    </tr>\n",
       "    <tr>\n",
       "      <th>10</th>\n",
       "      <td>Strategy</td>\n",
       "      <td>5.17</td>\n",
       "    </tr>\n",
       "    <tr>\n",
       "      <th>11</th>\n",
       "      <td>Puzzle</td>\n",
       "      <td>1.29</td>\n",
       "    </tr>\n",
       "  </tbody>\n",
       "</table>\n",
       "</div>"
      ],
      "text/plain": [
       "           genre  eu_sales\n",
       "0         Action    157.51\n",
       "1        Shooter    113.33\n",
       "2         Sports     68.69\n",
       "3   Role-Playing     48.53\n",
       "4         Racing     27.19\n",
       "5           Misc     24.84\n",
       "6       Platform     20.91\n",
       "7     Simulation     14.31\n",
       "8       Fighting     10.77\n",
       "9      Adventure      8.89\n",
       "10      Strategy      5.17\n",
       "11        Puzzle      1.29"
      ]
     },
     "metadata": {},
     "output_type": "display_data"
    }
   ],
   "source": [
    "eu_genre_sales = data_actual.pivot_table(index='genre', values='eu_sales', aggfunc='sum' ).sort_values(by='eu_sales', ascending=False).reset_index()\n",
    "display(eu_genre_sales)"
   ]
  },
  {
   "cell_type": "code",
   "execution_count": 124,
   "id": "6e8ff638",
   "metadata": {},
   "outputs": [
    {
     "data": {
      "text/html": [
       "<div>\n",
       "<style scoped>\n",
       "    .dataframe tbody tr th:only-of-type {\n",
       "        vertical-align: middle;\n",
       "    }\n",
       "\n",
       "    .dataframe tbody tr th {\n",
       "        vertical-align: top;\n",
       "    }\n",
       "\n",
       "    .dataframe thead th {\n",
       "        text-align: right;\n",
       "    }\n",
       "</style>\n",
       "<table border=\"1\" class=\"dataframe\">\n",
       "  <thead>\n",
       "    <tr style=\"text-align: right;\">\n",
       "      <th></th>\n",
       "      <th>genre</th>\n",
       "      <th>eu_sales</th>\n",
       "      <th>eu_ratio</th>\n",
       "    </tr>\n",
       "  </thead>\n",
       "  <tbody>\n",
       "    <tr>\n",
       "      <th>0</th>\n",
       "      <td>Action</td>\n",
       "      <td>157.51</td>\n",
       "      <td>31.0</td>\n",
       "    </tr>\n",
       "    <tr>\n",
       "      <th>1</th>\n",
       "      <td>Shooter</td>\n",
       "      <td>113.33</td>\n",
       "      <td>23.0</td>\n",
       "    </tr>\n",
       "    <tr>\n",
       "      <th>2</th>\n",
       "      <td>Sports</td>\n",
       "      <td>68.69</td>\n",
       "      <td>14.0</td>\n",
       "    </tr>\n",
       "    <tr>\n",
       "      <th>3</th>\n",
       "      <td>Role-Playing</td>\n",
       "      <td>48.53</td>\n",
       "      <td>10.0</td>\n",
       "    </tr>\n",
       "    <tr>\n",
       "      <th>4</th>\n",
       "      <td>Racing</td>\n",
       "      <td>27.19</td>\n",
       "      <td>5.0</td>\n",
       "    </tr>\n",
       "  </tbody>\n",
       "</table>\n",
       "</div>"
      ],
      "text/plain": [
       "          genre  eu_sales  eu_ratio\n",
       "0        Action    157.51      31.0\n",
       "1       Shooter    113.33      23.0\n",
       "2        Sports     68.69      14.0\n",
       "3  Role-Playing     48.53      10.0\n",
       "4        Racing     27.19       5.0"
      ]
     },
     "metadata": {},
     "output_type": "display_data"
    }
   ],
   "source": [
    "eu_genre_sales['eu_ratio'] = round(100 * eu_genre_sales['eu_sales'] / eu_genre_sales['eu_sales'].sum())\n",
    "eu_genre_sales_top5 = eu_genre_sales.loc[0:4]\n",
    "display(eu_genre_sales_top5)"
   ]
  },
  {
   "cell_type": "markdown",
   "id": "bab1373e",
   "metadata": {},
   "source": [
    "####  JP"
   ]
  },
  {
   "cell_type": "code",
   "execution_count": 125,
   "id": "216abdd4",
   "metadata": {},
   "outputs": [
    {
     "data": {
      "text/html": [
       "<div>\n",
       "<style scoped>\n",
       "    .dataframe tbody tr th:only-of-type {\n",
       "        vertical-align: middle;\n",
       "    }\n",
       "\n",
       "    .dataframe tbody tr th {\n",
       "        vertical-align: top;\n",
       "    }\n",
       "\n",
       "    .dataframe thead th {\n",
       "        text-align: right;\n",
       "    }\n",
       "</style>\n",
       "<table border=\"1\" class=\"dataframe\">\n",
       "  <thead>\n",
       "    <tr style=\"text-align: right;\">\n",
       "      <th></th>\n",
       "      <th>genre</th>\n",
       "      <th>jp_sales</th>\n",
       "    </tr>\n",
       "  </thead>\n",
       "  <tbody>\n",
       "    <tr>\n",
       "      <th>0</th>\n",
       "      <td>Role-Playing</td>\n",
       "      <td>65.44</td>\n",
       "    </tr>\n",
       "    <tr>\n",
       "      <th>1</th>\n",
       "      <td>Action</td>\n",
       "      <td>52.33</td>\n",
       "    </tr>\n",
       "    <tr>\n",
       "      <th>2</th>\n",
       "      <td>Misc</td>\n",
       "      <td>12.86</td>\n",
       "    </tr>\n",
       "    <tr>\n",
       "      <th>3</th>\n",
       "      <td>Simulation</td>\n",
       "      <td>10.35</td>\n",
       "    </tr>\n",
       "    <tr>\n",
       "      <th>4</th>\n",
       "      <td>Fighting</td>\n",
       "      <td>9.41</td>\n",
       "    </tr>\n",
       "    <tr>\n",
       "      <th>5</th>\n",
       "      <td>Shooter</td>\n",
       "      <td>9.22</td>\n",
       "    </tr>\n",
       "    <tr>\n",
       "      <th>6</th>\n",
       "      <td>Platform</td>\n",
       "      <td>8.63</td>\n",
       "    </tr>\n",
       "    <tr>\n",
       "      <th>7</th>\n",
       "      <td>Adventure</td>\n",
       "      <td>8.24</td>\n",
       "    </tr>\n",
       "    <tr>\n",
       "      <th>8</th>\n",
       "      <td>Sports</td>\n",
       "      <td>7.77</td>\n",
       "    </tr>\n",
       "    <tr>\n",
       "      <th>9</th>\n",
       "      <td>Strategy</td>\n",
       "      <td>2.88</td>\n",
       "    </tr>\n",
       "    <tr>\n",
       "      <th>10</th>\n",
       "      <td>Racing</td>\n",
       "      <td>2.47</td>\n",
       "    </tr>\n",
       "    <tr>\n",
       "      <th>11</th>\n",
       "      <td>Puzzle</td>\n",
       "      <td>2.14</td>\n",
       "    </tr>\n",
       "  </tbody>\n",
       "</table>\n",
       "</div>"
      ],
      "text/plain": [
       "           genre  jp_sales\n",
       "0   Role-Playing     65.44\n",
       "1         Action     52.33\n",
       "2           Misc     12.86\n",
       "3     Simulation     10.35\n",
       "4       Fighting      9.41\n",
       "5        Shooter      9.22\n",
       "6       Platform      8.63\n",
       "7      Adventure      8.24\n",
       "8         Sports      7.77\n",
       "9       Strategy      2.88\n",
       "10        Racing      2.47\n",
       "11        Puzzle      2.14"
      ]
     },
     "metadata": {},
     "output_type": "display_data"
    }
   ],
   "source": [
    "jp_genre_sales = data_actual.pivot_table(index='genre', values='jp_sales', aggfunc='sum' ).sort_values(by='jp_sales', ascending=False).reset_index()\n",
    "display(jp_genre_sales)"
   ]
  },
  {
   "cell_type": "code",
   "execution_count": 126,
   "id": "8b067673",
   "metadata": {},
   "outputs": [
    {
     "data": {
      "text/html": [
       "<div>\n",
       "<style scoped>\n",
       "    .dataframe tbody tr th:only-of-type {\n",
       "        vertical-align: middle;\n",
       "    }\n",
       "\n",
       "    .dataframe tbody tr th {\n",
       "        vertical-align: top;\n",
       "    }\n",
       "\n",
       "    .dataframe thead th {\n",
       "        text-align: right;\n",
       "    }\n",
       "</style>\n",
       "<table border=\"1\" class=\"dataframe\">\n",
       "  <thead>\n",
       "    <tr style=\"text-align: right;\">\n",
       "      <th></th>\n",
       "      <th>genre</th>\n",
       "      <th>jp_sales</th>\n",
       "      <th>jp_ratio</th>\n",
       "    </tr>\n",
       "  </thead>\n",
       "  <tbody>\n",
       "    <tr>\n",
       "      <th>0</th>\n",
       "      <td>Role-Playing</td>\n",
       "      <td>65.44</td>\n",
       "      <td>34.0</td>\n",
       "    </tr>\n",
       "    <tr>\n",
       "      <th>1</th>\n",
       "      <td>Action</td>\n",
       "      <td>52.33</td>\n",
       "      <td>27.0</td>\n",
       "    </tr>\n",
       "    <tr>\n",
       "      <th>2</th>\n",
       "      <td>Misc</td>\n",
       "      <td>12.86</td>\n",
       "      <td>7.0</td>\n",
       "    </tr>\n",
       "    <tr>\n",
       "      <th>3</th>\n",
       "      <td>Simulation</td>\n",
       "      <td>10.35</td>\n",
       "      <td>5.0</td>\n",
       "    </tr>\n",
       "    <tr>\n",
       "      <th>4</th>\n",
       "      <td>Fighting</td>\n",
       "      <td>9.41</td>\n",
       "      <td>5.0</td>\n",
       "    </tr>\n",
       "  </tbody>\n",
       "</table>\n",
       "</div>"
      ],
      "text/plain": [
       "          genre  jp_sales  jp_ratio\n",
       "0  Role-Playing     65.44      34.0\n",
       "1        Action     52.33      27.0\n",
       "2          Misc     12.86       7.0\n",
       "3    Simulation     10.35       5.0\n",
       "4      Fighting      9.41       5.0"
      ]
     },
     "metadata": {},
     "output_type": "display_data"
    }
   ],
   "source": [
    "jp_genre_sales['jp_ratio'] = round(100 * jp_genre_sales['jp_sales'] / jp_genre_sales['jp_sales'].sum())\n",
    "jp_genre_sales_top5 = jp_genre_sales.loc[0:4]\n",
    "display(jp_genre_sales_top5)"
   ]
  },
  {
   "cell_type": "markdown",
   "id": "7a1994aa",
   "metadata": {},
   "source": [
    "#### Сравнение TOP5 жанров в разных регионах"
   ]
  },
  {
   "cell_type": "markdown",
   "id": "7e26b003",
   "metadata": {},
   "source": [
    "Для сравнения TOP5 жанров в разных регионах построим общую таблицу TOP5 разных регионов."
   ]
  },
  {
   "cell_type": "code",
   "execution_count": 127,
   "id": "80d31e91",
   "metadata": {},
   "outputs": [
    {
     "data": {
      "text/html": [
       "<div>\n",
       "<style scoped>\n",
       "    .dataframe tbody tr th:only-of-type {\n",
       "        vertical-align: middle;\n",
       "    }\n",
       "\n",
       "    .dataframe tbody tr th {\n",
       "        vertical-align: top;\n",
       "    }\n",
       "\n",
       "    .dataframe thead th {\n",
       "        text-align: right;\n",
       "    }\n",
       "</style>\n",
       "<table border=\"1\" class=\"dataframe\">\n",
       "  <thead>\n",
       "    <tr style=\"text-align: right;\">\n",
       "      <th></th>\n",
       "      <th>na_genre</th>\n",
       "      <th>na_sales</th>\n",
       "      <th>na_ratio</th>\n",
       "      <th>eu_genre</th>\n",
       "      <th>eu_sales</th>\n",
       "      <th>eu_ratio</th>\n",
       "      <th>jp_genre</th>\n",
       "      <th>jp_sales</th>\n",
       "      <th>jp_ratio</th>\n",
       "    </tr>\n",
       "  </thead>\n",
       "  <tbody>\n",
       "    <tr>\n",
       "      <th>0</th>\n",
       "      <td>Action</td>\n",
       "      <td>176.39</td>\n",
       "      <td>30.0</td>\n",
       "      <td>Action</td>\n",
       "      <td>157.51</td>\n",
       "      <td>31.0</td>\n",
       "      <td>Role-Playing</td>\n",
       "      <td>65.44</td>\n",
       "      <td>34.0</td>\n",
       "    </tr>\n",
       "    <tr>\n",
       "      <th>1</th>\n",
       "      <td>Shooter</td>\n",
       "      <td>144.64</td>\n",
       "      <td>25.0</td>\n",
       "      <td>Shooter</td>\n",
       "      <td>113.33</td>\n",
       "      <td>23.0</td>\n",
       "      <td>Action</td>\n",
       "      <td>52.33</td>\n",
       "      <td>27.0</td>\n",
       "    </tr>\n",
       "    <tr>\n",
       "      <th>2</th>\n",
       "      <td>Sports</td>\n",
       "      <td>81.13</td>\n",
       "      <td>14.0</td>\n",
       "      <td>Sports</td>\n",
       "      <td>68.69</td>\n",
       "      <td>14.0</td>\n",
       "      <td>Misc</td>\n",
       "      <td>12.86</td>\n",
       "      <td>7.0</td>\n",
       "    </tr>\n",
       "    <tr>\n",
       "      <th>3</th>\n",
       "      <td>Role-Playing</td>\n",
       "      <td>64.00</td>\n",
       "      <td>11.0</td>\n",
       "      <td>Role-Playing</td>\n",
       "      <td>48.53</td>\n",
       "      <td>10.0</td>\n",
       "      <td>Simulation</td>\n",
       "      <td>10.35</td>\n",
       "      <td>5.0</td>\n",
       "    </tr>\n",
       "    <tr>\n",
       "      <th>4</th>\n",
       "      <td>Misc</td>\n",
       "      <td>36.90</td>\n",
       "      <td>6.0</td>\n",
       "      <td>Racing</td>\n",
       "      <td>27.19</td>\n",
       "      <td>5.0</td>\n",
       "      <td>Fighting</td>\n",
       "      <td>9.41</td>\n",
       "      <td>5.0</td>\n",
       "    </tr>\n",
       "  </tbody>\n",
       "</table>\n",
       "</div>"
      ],
      "text/plain": [
       "       na_genre  na_sales  na_ratio      eu_genre  eu_sales  eu_ratio  \\\n",
       "0        Action    176.39      30.0        Action    157.51      31.0   \n",
       "1       Shooter    144.64      25.0       Shooter    113.33      23.0   \n",
       "2        Sports     81.13      14.0        Sports     68.69      14.0   \n",
       "3  Role-Playing     64.00      11.0  Role-Playing     48.53      10.0   \n",
       "4          Misc     36.90       6.0        Racing     27.19       5.0   \n",
       "\n",
       "       jp_genre  jp_sales  jp_ratio  \n",
       "0  Role-Playing     65.44      34.0  \n",
       "1        Action     52.33      27.0  \n",
       "2          Misc     12.86       7.0  \n",
       "3    Simulation     10.35       5.0  \n",
       "4      Fighting      9.41       5.0  "
      ]
     },
     "execution_count": 127,
     "metadata": {},
     "output_type": "execute_result"
    }
   ],
   "source": [
    "# Переименование столбца genre в таблицах TOP5 регионов\n",
    "na_genre_sales_top5 = na_genre_sales_top5.rename(\n",
    "                        columns={'genre' : 'na_genre'}\n",
    ")\n",
    "eu_genre_sales_top5 = eu_genre_sales_top5.rename(\n",
    "                        columns={'genre' : 'eu_genre'}\n",
    ")\n",
    "jp_genre_sales_top5 = jp_genre_sales_top5.rename(\n",
    "                        columns={'genre' : 'jp_genre'}\n",
    ")\n",
    "na_genre_sales_top5.join([eu_genre_sales_top5, jp_genre_sales_top5])"
   ]
  },
  {
   "cell_type": "markdown",
   "id": "b94b52f4",
   "metadata": {},
   "source": [
    "Из сравнительной таблицы можно заметить, что TOP3 для региона Северная америка и Европа совпадает, это игры в жанре 1-Action, 2-Sports, 3-Shooter. Есть отличия жанров только на 5 месте, для Северной америки это 5-Misc, а для Европы это  5-Racing. В Японии, в отличии от Северной Америки и Европы, 1 место среди жанров занимает 1-Role-Plaing, дальше располагаются жанры, которые есть в TOP5 Северной Америки и Европы, это 2-Action, 3-Misc."
   ]
  },
  {
   "cell_type": "markdown",
   "id": "bc5bc095",
   "metadata": {},
   "source": [
    "### Структура продаж по классификатору ESRB в разных регионах"
   ]
  },
  {
   "cell_type": "markdown",
   "id": "f955da17",
   "metadata": {},
   "source": [
    "#### NA Северная америка"
   ]
  },
  {
   "cell_type": "code",
   "execution_count": 128,
   "id": "6e6b2893",
   "metadata": {},
   "outputs": [
    {
     "data": {
      "text/html": [
       "<div>\n",
       "<style scoped>\n",
       "    .dataframe tbody tr th:only-of-type {\n",
       "        vertical-align: middle;\n",
       "    }\n",
       "\n",
       "    .dataframe tbody tr th {\n",
       "        vertical-align: top;\n",
       "    }\n",
       "\n",
       "    .dataframe thead th {\n",
       "        text-align: right;\n",
       "    }\n",
       "</style>\n",
       "<table border=\"1\" class=\"dataframe\">\n",
       "  <thead>\n",
       "    <tr style=\"text-align: right;\">\n",
       "      <th></th>\n",
       "      <th>rating</th>\n",
       "      <th>na_sales</th>\n",
       "      <th>ratio</th>\n",
       "    </tr>\n",
       "  </thead>\n",
       "  <tbody>\n",
       "    <tr>\n",
       "      <th>0</th>\n",
       "      <td>M</td>\n",
       "      <td>231.47</td>\n",
       "      <td>39.0</td>\n",
       "    </tr>\n",
       "    <tr>\n",
       "      <th>1</th>\n",
       "      <td>E</td>\n",
       "      <td>112.92</td>\n",
       "      <td>19.0</td>\n",
       "    </tr>\n",
       "    <tr>\n",
       "      <th>2</th>\n",
       "      <td>N/D</td>\n",
       "      <td>103.27</td>\n",
       "      <td>18.0</td>\n",
       "    </tr>\n",
       "    <tr>\n",
       "      <th>3</th>\n",
       "      <td>E10+</td>\n",
       "      <td>73.29</td>\n",
       "      <td>12.0</td>\n",
       "    </tr>\n",
       "    <tr>\n",
       "      <th>4</th>\n",
       "      <td>T</td>\n",
       "      <td>65.80</td>\n",
       "      <td>11.0</td>\n",
       "    </tr>\n",
       "  </tbody>\n",
       "</table>\n",
       "</div>"
      ],
      "text/plain": [
       "  rating  na_sales  ratio\n",
       "0      M    231.47   39.0\n",
       "1      E    112.92   19.0\n",
       "2    N/D    103.27   18.0\n",
       "3   E10+     73.29   12.0\n",
       "4      T     65.80   11.0"
      ]
     },
     "metadata": {},
     "output_type": "display_data"
    }
   ],
   "source": [
    "na_rating_sales = data_actual.pivot_table(index='rating', values='na_sales', aggfunc='sum').sort_values(by='na_sales', ascending=False).reset_index()\n",
    "na_rating_sales['ratio'] = round(100 * na_rating_sales['na_sales'] / na_rating_sales['na_sales'].sum())\n",
    "display(na_rating_sales)"
   ]
  },
  {
   "cell_type": "markdown",
   "id": "2986783a",
   "metadata": {},
   "source": [
    "#### EU Европа"
   ]
  },
  {
   "cell_type": "code",
   "execution_count": 129,
   "id": "45eb6115",
   "metadata": {},
   "outputs": [
    {
     "data": {
      "text/html": [
       "<div>\n",
       "<style scoped>\n",
       "    .dataframe tbody tr th:only-of-type {\n",
       "        vertical-align: middle;\n",
       "    }\n",
       "\n",
       "    .dataframe tbody tr th {\n",
       "        vertical-align: top;\n",
       "    }\n",
       "\n",
       "    .dataframe thead th {\n",
       "        text-align: right;\n",
       "    }\n",
       "</style>\n",
       "<table border=\"1\" class=\"dataframe\">\n",
       "  <thead>\n",
       "    <tr style=\"text-align: right;\">\n",
       "      <th></th>\n",
       "      <th>rating</th>\n",
       "      <th>eu_sales</th>\n",
       "      <th>ratio</th>\n",
       "    </tr>\n",
       "  </thead>\n",
       "  <tbody>\n",
       "    <tr>\n",
       "      <th>0</th>\n",
       "      <td>M</td>\n",
       "      <td>193.94</td>\n",
       "      <td>39.0</td>\n",
       "    </tr>\n",
       "    <tr>\n",
       "      <th>1</th>\n",
       "      <td>E</td>\n",
       "      <td>110.95</td>\n",
       "      <td>22.0</td>\n",
       "    </tr>\n",
       "    <tr>\n",
       "      <th>2</th>\n",
       "      <td>N/D</td>\n",
       "      <td>91.24</td>\n",
       "      <td>18.0</td>\n",
       "    </tr>\n",
       "    <tr>\n",
       "      <th>3</th>\n",
       "      <td>T</td>\n",
       "      <td>52.82</td>\n",
       "      <td>11.0</td>\n",
       "    </tr>\n",
       "    <tr>\n",
       "      <th>4</th>\n",
       "      <td>E10+</td>\n",
       "      <td>52.48</td>\n",
       "      <td>10.0</td>\n",
       "    </tr>\n",
       "  </tbody>\n",
       "</table>\n",
       "</div>"
      ],
      "text/plain": [
       "  rating  eu_sales  ratio\n",
       "0      M    193.94   39.0\n",
       "1      E    110.95   22.0\n",
       "2    N/D     91.24   18.0\n",
       "3      T     52.82   11.0\n",
       "4   E10+     52.48   10.0"
      ]
     },
     "metadata": {},
     "output_type": "display_data"
    }
   ],
   "source": [
    "eu_rating_sales = data_actual.pivot_table(index='rating',  values='eu_sales', aggfunc='sum').sort_values(by='eu_sales', ascending=False).reset_index()\n",
    "eu_rating_sales['ratio'] = round(100 * eu_rating_sales['eu_sales'] / eu_rating_sales['eu_sales'].sum())\n",
    "display(eu_rating_sales)"
   ]
  },
  {
   "cell_type": "markdown",
   "id": "e3ebe858",
   "metadata": {},
   "source": [
    "Наблюдаем что рейтинги северной америки и европы совпали, топ три идентичны. "
   ]
  },
  {
   "cell_type": "markdown",
   "id": "f37a9815",
   "metadata": {},
   "source": [
    "#### JP Япония"
   ]
  },
  {
   "cell_type": "code",
   "execution_count": 130,
   "id": "0836ea4b",
   "metadata": {},
   "outputs": [
    {
     "data": {
      "text/html": [
       "<div>\n",
       "<style scoped>\n",
       "    .dataframe tbody tr th:only-of-type {\n",
       "        vertical-align: middle;\n",
       "    }\n",
       "\n",
       "    .dataframe tbody tr th {\n",
       "        vertical-align: top;\n",
       "    }\n",
       "\n",
       "    .dataframe thead th {\n",
       "        text-align: right;\n",
       "    }\n",
       "</style>\n",
       "<table border=\"1\" class=\"dataframe\">\n",
       "  <thead>\n",
       "    <tr style=\"text-align: right;\">\n",
       "      <th></th>\n",
       "      <th>rating</th>\n",
       "      <th>jp_sales</th>\n",
       "      <th>ratio</th>\n",
       "    </tr>\n",
       "  </thead>\n",
       "  <tbody>\n",
       "    <tr>\n",
       "      <th>0</th>\n",
       "      <td>N/D</td>\n",
       "      <td>841.93</td>\n",
       "      <td>65.0</td>\n",
       "    </tr>\n",
       "    <tr>\n",
       "      <th>1</th>\n",
       "      <td>E</td>\n",
       "      <td>195.66</td>\n",
       "      <td>15.0</td>\n",
       "    </tr>\n",
       "    <tr>\n",
       "      <th>2</th>\n",
       "      <td>T</td>\n",
       "      <td>149.79</td>\n",
       "      <td>12.0</td>\n",
       "    </tr>\n",
       "    <tr>\n",
       "      <th>3</th>\n",
       "      <td>M</td>\n",
       "      <td>64.23</td>\n",
       "      <td>5.0</td>\n",
       "    </tr>\n",
       "    <tr>\n",
       "      <th>4</th>\n",
       "      <td>E10+</td>\n",
       "      <td>39.12</td>\n",
       "      <td>3.0</td>\n",
       "    </tr>\n",
       "    <tr>\n",
       "      <th>5</th>\n",
       "      <td>EC</td>\n",
       "      <td>0.00</td>\n",
       "      <td>0.0</td>\n",
       "    </tr>\n",
       "  </tbody>\n",
       "</table>\n",
       "</div>"
      ],
      "text/plain": [
       "  rating  jp_sales  ratio\n",
       "0    N/D    841.93   65.0\n",
       "1      E    195.66   15.0\n",
       "2      T    149.79   12.0\n",
       "3      M     64.23    5.0\n",
       "4   E10+     39.12    3.0\n",
       "5     EC      0.00    0.0"
      ]
     },
     "metadata": {},
     "output_type": "display_data"
    }
   ],
   "source": [
    "jp_rating_sales = data.pivot_table(index='rating', values='jp_sales', aggfunc='sum').sort_values(by='jp_sales', ascending=False).reset_index()\n",
    "jp_rating_sales['ratio'] = round(100 * jp_rating_sales['jp_sales'] / jp_rating_sales['jp_sales'].sum())\n",
    "display(jp_rating_sales)"
   ]
  },
  {
   "cell_type": "markdown",
   "id": "b0b00083",
   "metadata": {},
   "source": [
    "Япония же отличается особенно лидирующей позицией - без оценки, и появлением рейтинга для детей младшего возраста. "
   ]
  },
  {
   "cell_type": "markdown",
   "id": "c7bfe7f6",
   "metadata": {},
   "source": [
    "## Проверка гипотез"
   ]
  },
  {
   "cell_type": "markdown",
   "id": "47dd3571",
   "metadata": {},
   "source": [
    "### Среднее пользовательских рейтингов платформ Xbox One и PC одинаковые"
   ]
  },
  {
   "cell_type": "markdown",
   "id": "206e194c",
   "metadata": {},
   "source": [
    "Сформулируем нулевую гипотезу H0, средние пользовательские рейтинги платформ Xbox One и PC одинаковые. Сформулируем альтернативную гипотезу H1, средние пользовательские рейтинги платформ Xbox One и PC разные. Определим порог alpha в 5%, в этом случае Pvalue имеет значение 0,05.\n",
    "Для сравнения средних 2-х генеральных совокупностей воспользуемся методом scipy.stats.ttest_ind."
   ]
  },
  {
   "cell_type": "code",
   "execution_count": 131,
   "id": "1e71603c",
   "metadata": {},
   "outputs": [
    {
     "data": {
      "text/plain": [
       "Ttest_indResult(statistic=0.5261159630872787, pvalue=0.5991315923632393)"
      ]
     },
     "execution_count": 131,
     "metadata": {},
     "output_type": "execute_result"
    }
   ],
   "source": [
    "# Создание массива платформы Xbоx One в данных это значение XOne\n",
    "xone = data_without_nan.query('platform == \"XOne\"')['user_score'].values\n",
    "# Создание массива платформы PC.\n",
    "pc = data_without_nan.query('platform == \"PC\"')['user_score'].values\n",
    "# применим метод о равестве средних 2-х генеральных совокупностей\n",
    "st.ttest_ind(xone, pc)"
   ]
  },
  {
   "cell_type": "markdown",
   "id": "b68287ac",
   "metadata": {},
   "source": [
    "Проведя ttes_ind получили значение pvalue 0.5991, которое больше взятого нами порога 0.05. Из этого следует, что вероятность получить равные средние значения очень высокая, т.е. отвергаем нулевую гипотезу, и принимаем альтернативную. Средние пользовательские рейтинги платформ Xbox One и PC разные.\n",
    "Таким образом гипотеза, что рейтинги платформ Xbox One и PC одинаковые, не подтвердилась."
   ]
  },
  {
   "cell_type": "markdown",
   "id": "a9a17d30",
   "metadata": {},
   "source": [
    "### Средние пользовательских рейтингов жанров Action и Sports разные."
   ]
  },
  {
   "cell_type": "markdown",
   "id": "8bb77570",
   "metadata": {},
   "source": [
    "Сформулируем нулевую гипотезу H0, средние пользовательских рейтингов жанров Action и Sports одинаковые. Тогда альтернативная гипотеза H1 будет, средние пользовательских рейтингов жанров Action и Sports разные. Определим порог alpha в 5%, в этом случае Pvalue имеет значение 0,05. Для сравнения средних 2-х генеральных совокупностей воспользуемся методом scipy.stats.ttest_ind."
   ]
  },
  {
   "cell_type": "code",
   "execution_count": 132,
   "id": "b6c50b11",
   "metadata": {},
   "outputs": [
    {
     "data": {
      "text/plain": [
       "Ttest_indResult(statistic=8.274556354520588, pvalue=9.13633279873618e-16)"
      ]
     },
     "execution_count": 132,
     "metadata": {},
     "output_type": "execute_result"
    }
   ],
   "source": [
    "# Создание массива с жанром Action\n",
    "action = data_without_nan.query('genre == \"Action\"')['user_score'].values\n",
    "# Создание массива с жанром Sports\n",
    "sports = data_without_nan.query('genre == \"Sports\"')['user_score'].values\n",
    "# проведение ttest_ind\n",
    "st.ttest_ind(action, sports)"
   ]
  },
  {
   "cell_type": "markdown",
   "id": "dc22005c",
   "metadata": {},
   "source": [
    "Проведя ttest_ind получили значение pvalue 9.13633279873618e-16, которое меньше взятого нами порога 0.05. Из этого следует, что средние пользовательские рейтинги жанров Action и Sports разные, т.е. принимаем нулевую гипотезу H1, и отвергаем нулевую гипотезу H0.\n",
    "Таким образом, гипотеза, о том что, средние пользовательские рейтинги жанров Action и Sports разные, подтвердилась."
   ]
  },
  {
   "cell_type": "markdown",
   "id": "b912dc80",
   "metadata": {},
   "source": [
    "## Выводы"
   ]
  },
  {
   "cell_type": "markdown",
   "id": "44e9820c",
   "metadata": {},
   "source": [
    "1) Средняя длительность существования платформы 10 лет.\n",
    "\n",
    "2) Актуальные платформы выпускающие игры в 2016 году  - это '3DS', 'PC', 'PS3', 'PS4', 'PSV', 'WiiU', 'X360', 'XOne', всего 8 платформ. Из этих платформ можно выделить TOP3 - это PS4, XOne и 3DS, которые приносят 86 % продаж. На эти 3-х платформы стоит сделать упор в рекламной компании следующего 2017 года.\n",
    "\n",
    "3) Анализ корреляции продаж TOP3 платформ с оценками пользователей и оценками критиков показал, что нет корреляции продаж с оценками пользователей и есть умеренная корреляция продаж с оценками критиков (коэффициент корреляции 0,4). Таким образом для продвижения игр нужно поощрять положительные отзывы критиков.\n",
    "\n",
    "4) Анализ продаж актуальных платформ по жанрам, позволяет выделить 2 наиболее популярных жанра игр Shooter и Platform и 2 наименее популярных Strategy и Adventure. Поэтому в 2017 году стоит больше продвигать игры из популярных жанров Shooter и Platform.\n",
    "\n",
    "5) Списки а северной америке и европе схожи 'X360', 'PS4', 'XOne', 'PS3', '3DS', при этом отличается место платформ в списках и их доли в продажах. В Японии список TOP5 частично похожий и частично отличаюющийся, в него входят платформы PS3,PS4,3DS которые имеются в TOP5 северной америки и европы.\n",
    "\n",
    "6) Из сравнительной таблицы можно заметить, что TOP3 для региона Северная америка и Европа совпадает, это игры в жанре 1-Action, 2-Sports, 3-Shooter. Есть отличия жанров только на 5 месте, для Северной америки это 5-Misc, а для Европы это 5-Racing. В Японии, в отличии от Северной Америки и Европы, 1 место среди жанров занимает 1-Role-Plaing, дальше располагаются жанры, которые есть в TOP5 Северной Америки и Европы, это 2-Action, 3-Misc.\n",
    "\n",
    "7) Гипотеза, что пользовательские рейтинги платформ Xbox One и PC одинаковые, не подтвердилась.\n",
    "\n",
    "8) Гипотеза, о том что, средние пользовательские рейтинги жанров Action и Sports разные, подтвердилась."
   ]
  }
 ],
 "metadata": {
  "ExecuteTimeLog": [
   {
    "duration": 1162,
    "start_time": "2022-05-04T19:13:18.921Z"
   },
   {
    "duration": 47,
    "start_time": "2022-05-04T19:13:20.085Z"
   },
   {
    "duration": 14,
    "start_time": "2022-05-04T19:13:20.133Z"
   },
   {
    "duration": 3,
    "start_time": "2022-05-04T19:13:20.149Z"
   },
   {
    "duration": 13,
    "start_time": "2022-05-04T19:13:20.154Z"
   },
   {
    "duration": 4,
    "start_time": "2022-05-04T19:13:20.169Z"
   },
   {
    "duration": 48,
    "start_time": "2022-05-04T19:13:20.174Z"
   },
   {
    "duration": 14,
    "start_time": "2022-05-04T19:13:20.225Z"
   },
   {
    "duration": 7,
    "start_time": "2022-05-04T19:13:20.241Z"
   },
   {
    "duration": 7,
    "start_time": "2022-05-04T19:13:20.249Z"
   },
   {
    "duration": 8,
    "start_time": "2022-05-04T19:13:20.257Z"
   },
   {
    "duration": 6,
    "start_time": "2022-05-04T19:13:20.266Z"
   },
   {
    "duration": 28,
    "start_time": "2022-05-04T19:13:20.273Z"
   },
   {
    "duration": 14,
    "start_time": "2022-05-04T19:13:20.307Z"
   },
   {
    "duration": 8,
    "start_time": "2022-05-04T19:13:20.323Z"
   },
   {
    "duration": 6,
    "start_time": "2022-05-04T19:13:20.333Z"
   },
   {
    "duration": 6,
    "start_time": "2022-05-04T19:13:20.341Z"
   },
   {
    "duration": 7,
    "start_time": "2022-05-04T19:13:20.348Z"
   },
   {
    "duration": 8,
    "start_time": "2022-05-04T19:13:20.357Z"
   },
   {
    "duration": 8,
    "start_time": "2022-05-04T19:13:20.366Z"
   },
   {
    "duration": 34,
    "start_time": "2022-05-04T19:13:20.375Z"
   },
   {
    "duration": 22,
    "start_time": "2022-05-04T19:13:20.411Z"
   },
   {
    "duration": 6,
    "start_time": "2022-05-04T19:13:20.435Z"
   },
   {
    "duration": 19,
    "start_time": "2022-05-04T19:13:20.443Z"
   },
   {
    "duration": 7,
    "start_time": "2022-05-04T19:13:20.464Z"
   },
   {
    "duration": 13,
    "start_time": "2022-05-04T19:13:20.473Z"
   },
   {
    "duration": 8,
    "start_time": "2022-05-04T19:13:20.503Z"
   },
   {
    "duration": 24,
    "start_time": "2022-05-04T19:13:20.513Z"
   },
   {
    "duration": 295,
    "start_time": "2022-05-04T19:13:20.539Z"
   },
   {
    "duration": 136,
    "start_time": "2022-05-04T19:13:20.836Z"
   },
   {
    "duration": 26,
    "start_time": "2022-05-04T19:13:20.974Z"
   },
   {
    "duration": 6,
    "start_time": "2022-05-04T19:13:21.002Z"
   },
   {
    "duration": 23,
    "start_time": "2022-05-04T19:13:21.010Z"
   },
   {
    "duration": 7,
    "start_time": "2022-05-04T19:13:21.035Z"
   },
   {
    "duration": 27,
    "start_time": "2022-05-04T19:13:21.044Z"
   },
   {
    "duration": 4,
    "start_time": "2022-05-04T19:13:21.072Z"
   },
   {
    "duration": 150,
    "start_time": "2022-05-04T19:13:21.078Z"
   },
   {
    "duration": 8,
    "start_time": "2022-05-04T19:13:21.229Z"
   },
   {
    "duration": 139,
    "start_time": "2022-05-04T19:13:21.239Z"
   },
   {
    "duration": 8,
    "start_time": "2022-05-04T19:13:21.380Z"
   },
   {
    "duration": 128,
    "start_time": "2022-05-04T19:13:21.403Z"
   },
   {
    "duration": 6,
    "start_time": "2022-05-04T19:13:21.533Z"
   },
   {
    "duration": 132,
    "start_time": "2022-05-04T19:13:21.540Z"
   },
   {
    "duration": 6,
    "start_time": "2022-05-04T19:13:21.674Z"
   },
   {
    "duration": 134,
    "start_time": "2022-05-04T19:13:21.682Z"
   },
   {
    "duration": 10,
    "start_time": "2022-05-04T19:13:21.818Z"
   },
   {
    "duration": 129,
    "start_time": "2022-05-04T19:13:21.829Z"
   },
   {
    "duration": 5,
    "start_time": "2022-05-04T19:13:21.960Z"
   },
   {
    "duration": 183,
    "start_time": "2022-05-04T19:13:21.967Z"
   },
   {
    "duration": 8,
    "start_time": "2022-05-04T19:13:22.152Z"
   },
   {
    "duration": 187,
    "start_time": "2022-05-04T19:13:22.161Z"
   },
   {
    "duration": 6,
    "start_time": "2022-05-04T19:13:22.350Z"
   },
   {
    "duration": 202,
    "start_time": "2022-05-04T19:13:22.358Z"
   },
   {
    "duration": 7,
    "start_time": "2022-05-04T19:13:22.562Z"
   },
   {
    "duration": 182,
    "start_time": "2022-05-04T19:13:22.571Z"
   },
   {
    "duration": 8,
    "start_time": "2022-05-04T19:13:22.755Z"
   },
   {
    "duration": 188,
    "start_time": "2022-05-04T19:13:22.765Z"
   },
   {
    "duration": 6,
    "start_time": "2022-05-04T19:13:22.954Z"
   },
   {
    "duration": 145,
    "start_time": "2022-05-04T19:13:22.961Z"
   },
   {
    "duration": 7,
    "start_time": "2022-05-04T19:13:23.108Z"
   },
   {
    "duration": 136,
    "start_time": "2022-05-04T19:13:23.119Z"
   },
   {
    "duration": 7,
    "start_time": "2022-05-04T19:13:23.257Z"
   },
   {
    "duration": 195,
    "start_time": "2022-05-04T19:13:23.266Z"
   },
   {
    "duration": 6,
    "start_time": "2022-05-04T19:13:23.463Z"
   },
   {
    "duration": 118,
    "start_time": "2022-05-04T19:13:23.470Z"
   },
   {
    "duration": 16,
    "start_time": "2022-05-04T19:13:23.589Z"
   },
   {
    "duration": 24,
    "start_time": "2022-05-04T19:13:23.607Z"
   },
   {
    "duration": 9,
    "start_time": "2022-05-04T19:13:23.632Z"
   },
   {
    "duration": 11,
    "start_time": "2022-05-04T19:13:23.642Z"
   },
   {
    "duration": 31,
    "start_time": "2022-05-04T19:13:23.654Z"
   },
   {
    "duration": 23,
    "start_time": "2022-05-04T19:13:23.687Z"
   },
   {
    "duration": 18,
    "start_time": "2022-05-04T19:13:23.711Z"
   },
   {
    "duration": 13,
    "start_time": "2022-05-04T19:13:23.731Z"
   },
   {
    "duration": 13,
    "start_time": "2022-05-04T19:13:23.746Z"
   },
   {
    "duration": 8,
    "start_time": "2022-05-04T19:13:23.761Z"
   },
   {
    "duration": 19,
    "start_time": "2022-05-04T19:13:23.770Z"
   },
   {
    "duration": 156,
    "start_time": "2022-05-04T19:13:23.790Z"
   },
   {
    "duration": 154,
    "start_time": "2022-05-04T19:13:23.948Z"
   },
   {
    "duration": 11,
    "start_time": "2022-05-04T19:13:24.105Z"
   },
   {
    "duration": 17,
    "start_time": "2022-05-04T19:13:24.118Z"
   },
   {
    "duration": 9,
    "start_time": "2022-05-04T19:13:24.137Z"
   },
   {
    "duration": 15,
    "start_time": "2022-05-04T19:13:24.148Z"
   },
   {
    "duration": 20,
    "start_time": "2022-05-04T19:13:24.165Z"
   },
   {
    "duration": 17,
    "start_time": "2022-05-04T19:13:24.186Z"
   },
   {
    "duration": 126,
    "start_time": "2022-05-04T19:13:24.205Z"
   },
   {
    "duration": 5,
    "start_time": "2022-05-04T19:13:24.333Z"
   },
   {
    "duration": 190,
    "start_time": "2022-05-04T19:13:24.339Z"
   },
   {
    "duration": 6,
    "start_time": "2022-05-04T19:13:24.531Z"
   },
   {
    "duration": 9,
    "start_time": "2022-05-04T19:13:24.538Z"
   },
   {
    "duration": 275,
    "start_time": "2022-05-04T19:13:24.549Z"
   },
   {
    "duration": 6,
    "start_time": "2022-05-04T19:13:24.826Z"
   },
   {
    "duration": 135,
    "start_time": "2022-05-04T19:13:24.834Z"
   },
   {
    "duration": 5,
    "start_time": "2022-05-04T19:13:24.970Z"
   },
   {
    "duration": 10,
    "start_time": "2022-05-04T19:13:24.976Z"
   },
   {
    "duration": 131,
    "start_time": "2022-05-04T19:13:24.987Z"
   },
   {
    "duration": 5,
    "start_time": "2022-05-04T19:13:25.120Z"
   },
   {
    "duration": 12,
    "start_time": "2022-05-04T19:13:25.127Z"
   },
   {
    "duration": 15,
    "start_time": "2022-05-04T19:13:25.140Z"
   },
   {
    "duration": 172,
    "start_time": "2022-05-04T19:13:25.156Z"
   },
   {
    "duration": 15,
    "start_time": "2022-05-04T19:13:25.330Z"
   },
   {
    "duration": 262,
    "start_time": "2022-05-04T19:13:25.346Z"
   },
   {
    "duration": 24,
    "start_time": "2022-05-04T19:13:25.611Z"
   },
   {
    "duration": 8,
    "start_time": "2022-05-04T19:13:25.637Z"
   },
   {
    "duration": 17,
    "start_time": "2022-05-04T19:13:25.647Z"
   },
   {
    "duration": 8,
    "start_time": "2022-05-04T19:13:25.665Z"
   },
   {
    "duration": 21,
    "start_time": "2022-05-04T19:13:25.702Z"
   },
   {
    "duration": 10,
    "start_time": "2022-05-04T19:13:25.725Z"
   },
   {
    "duration": 9,
    "start_time": "2022-05-04T19:13:25.736Z"
   },
   {
    "duration": 14,
    "start_time": "2022-05-04T19:13:25.747Z"
   },
   {
    "duration": 15,
    "start_time": "2022-05-04T19:13:25.763Z"
   },
   {
    "duration": 23,
    "start_time": "2022-05-04T19:13:25.780Z"
   },
   {
    "duration": 20,
    "start_time": "2022-05-04T19:13:25.808Z"
   },
   {
    "duration": 28,
    "start_time": "2022-05-04T19:13:25.829Z"
   },
   {
    "duration": 8,
    "start_time": "2022-05-04T19:13:25.858Z"
   },
   {
    "duration": 15,
    "start_time": "2022-05-04T19:13:25.868Z"
   },
   {
    "duration": 9,
    "start_time": "2022-05-04T19:13:25.885Z"
   },
   {
    "duration": 22,
    "start_time": "2022-05-04T19:13:25.896Z"
   },
   {
    "duration": 30,
    "start_time": "2022-05-04T19:13:25.919Z"
   },
   {
    "duration": 20,
    "start_time": "2022-05-04T19:13:25.950Z"
   },
   {
    "duration": 15,
    "start_time": "2022-05-04T19:13:25.972Z"
   },
   {
    "duration": 19,
    "start_time": "2022-05-04T19:13:25.989Z"
   },
   {
    "duration": 10,
    "start_time": "2022-05-04T19:13:26.022Z"
   },
   {
    "duration": 26,
    "start_time": "2022-05-04T19:25:49.035Z"
   },
   {
    "duration": 21,
    "start_time": "2022-05-04T19:26:01.576Z"
   },
   {
    "duration": 12,
    "start_time": "2022-05-04T19:26:27.565Z"
   },
   {
    "duration": 5,
    "start_time": "2022-05-04T19:28:35.045Z"
   },
   {
    "duration": 171,
    "start_time": "2022-05-04T19:28:54.926Z"
   },
   {
    "duration": 76,
    "start_time": "2022-05-04T19:29:04.261Z"
   },
   {
    "duration": 8,
    "start_time": "2022-05-04T19:29:08.419Z"
   },
   {
    "duration": 100,
    "start_time": "2022-05-04T19:29:43.329Z"
   },
   {
    "duration": 95,
    "start_time": "2022-05-04T19:29:50.057Z"
   },
   {
    "duration": 9,
    "start_time": "2022-05-04T19:29:54.402Z"
   },
   {
    "duration": 9,
    "start_time": "2022-05-04T19:30:00.185Z"
   },
   {
    "duration": 92,
    "start_time": "2022-05-04T19:30:46.752Z"
   },
   {
    "duration": 5,
    "start_time": "2022-05-04T19:31:09.590Z"
   },
   {
    "duration": 4,
    "start_time": "2022-05-04T19:31:14.916Z"
   },
   {
    "duration": 4,
    "start_time": "2022-05-04T19:31:52.599Z"
   },
   {
    "duration": 94,
    "start_time": "2022-05-04T19:32:12.976Z"
   },
   {
    "duration": 21,
    "start_time": "2022-05-04T19:35:02.009Z"
   },
   {
    "duration": 62,
    "start_time": "2022-05-04T19:35:43.289Z"
   },
   {
    "duration": 18,
    "start_time": "2022-05-04T19:35:53.078Z"
   },
   {
    "duration": 15,
    "start_time": "2022-05-04T19:35:56.497Z"
   },
   {
    "duration": 298,
    "start_time": "2022-05-04T19:36:04.638Z"
   },
   {
    "duration": 18,
    "start_time": "2022-05-04T19:36:06.179Z"
   },
   {
    "duration": 18,
    "start_time": "2022-05-04T19:36:10.261Z"
   },
   {
    "duration": 18,
    "start_time": "2022-05-04T19:37:22.414Z"
   },
   {
    "duration": 19,
    "start_time": "2022-05-04T19:38:50.715Z"
   },
   {
    "duration": 18,
    "start_time": "2022-05-04T19:45:05.045Z"
   },
   {
    "duration": 4,
    "start_time": "2022-05-04T19:45:11.697Z"
   },
   {
    "duration": 4,
    "start_time": "2022-05-04T19:45:15.325Z"
   },
   {
    "duration": 19,
    "start_time": "2022-05-04T19:56:58.721Z"
   },
   {
    "duration": 19,
    "start_time": "2022-05-04T19:57:30.559Z"
   },
   {
    "duration": 4,
    "start_time": "2022-05-04T19:57:39.722Z"
   },
   {
    "duration": 1380,
    "start_time": "2022-05-05T17:06:24.962Z"
   },
   {
    "duration": 45,
    "start_time": "2022-05-05T17:06:26.344Z"
   },
   {
    "duration": 16,
    "start_time": "2022-05-05T17:06:26.392Z"
   },
   {
    "duration": 5,
    "start_time": "2022-05-05T17:06:26.411Z"
   },
   {
    "duration": 17,
    "start_time": "2022-05-05T17:06:26.418Z"
   },
   {
    "duration": 5,
    "start_time": "2022-05-05T17:06:26.437Z"
   },
   {
    "duration": 53,
    "start_time": "2022-05-05T17:06:26.443Z"
   },
   {
    "duration": 10,
    "start_time": "2022-05-05T17:06:26.599Z"
   },
   {
    "duration": 5,
    "start_time": "2022-05-05T17:06:26.771Z"
   },
   {
    "duration": 5,
    "start_time": "2022-05-05T17:06:27.190Z"
   },
   {
    "duration": 5,
    "start_time": "2022-05-05T17:06:27.560Z"
   },
   {
    "duration": 5,
    "start_time": "2022-05-05T17:06:27.756Z"
   },
   {
    "duration": 6,
    "start_time": "2022-05-05T17:06:27.943Z"
   },
   {
    "duration": 13,
    "start_time": "2022-05-05T17:06:28.142Z"
   },
   {
    "duration": 10,
    "start_time": "2022-05-05T17:06:28.542Z"
   },
   {
    "duration": 7,
    "start_time": "2022-05-05T17:06:28.944Z"
   },
   {
    "duration": 7,
    "start_time": "2022-05-05T17:06:29.337Z"
   },
   {
    "duration": 7,
    "start_time": "2022-05-05T17:06:29.752Z"
   },
   {
    "duration": 10,
    "start_time": "2022-05-05T17:06:29.960Z"
   },
   {
    "duration": 10,
    "start_time": "2022-05-05T17:06:30.568Z"
   },
   {
    "duration": 12,
    "start_time": "2022-05-05T17:06:31.187Z"
   },
   {
    "duration": 14,
    "start_time": "2022-05-05T17:06:31.583Z"
   },
   {
    "duration": 5,
    "start_time": "2022-05-05T17:06:32.423Z"
   },
   {
    "duration": 15,
    "start_time": "2022-05-05T17:06:32.631Z"
   },
   {
    "duration": 8,
    "start_time": "2022-05-05T17:06:32.837Z"
   },
   {
    "duration": 12,
    "start_time": "2022-05-05T17:06:33.488Z"
   },
   {
    "duration": 5,
    "start_time": "2022-05-05T17:06:33.720Z"
   },
   {
    "duration": 14,
    "start_time": "2022-05-05T17:06:33.939Z"
   },
   {
    "duration": 361,
    "start_time": "2022-05-05T17:06:34.135Z"
   },
   {
    "duration": 162,
    "start_time": "2022-05-05T17:06:34.968Z"
   },
   {
    "duration": 20,
    "start_time": "2022-05-05T17:06:35.595Z"
   },
   {
    "duration": 5,
    "start_time": "2022-05-05T17:06:36.191Z"
   },
   {
    "duration": 10,
    "start_time": "2022-05-05T17:06:36.411Z"
   },
   {
    "duration": 8,
    "start_time": "2022-05-05T17:06:36.625Z"
   },
   {
    "duration": 33,
    "start_time": "2022-05-05T17:06:36.824Z"
   },
   {
    "duration": 5,
    "start_time": "2022-05-05T17:06:37.296Z"
   },
   {
    "duration": 131,
    "start_time": "2022-05-05T17:06:38.144Z"
   },
   {
    "duration": 8,
    "start_time": "2022-05-05T17:06:38.562Z"
   },
   {
    "duration": 148,
    "start_time": "2022-05-05T17:06:38.768Z"
   },
   {
    "duration": 7,
    "start_time": "2022-05-05T17:06:39.195Z"
   },
   {
    "duration": 134,
    "start_time": "2022-05-05T17:06:39.401Z"
   },
   {
    "duration": 6,
    "start_time": "2022-05-05T17:06:39.817Z"
   },
   {
    "duration": 130,
    "start_time": "2022-05-05T17:06:40.008Z"
   },
   {
    "duration": 10,
    "start_time": "2022-05-05T17:06:40.474Z"
   },
   {
    "duration": 136,
    "start_time": "2022-05-05T17:06:40.696Z"
   },
   {
    "duration": 6,
    "start_time": "2022-05-05T17:06:41.160Z"
   },
   {
    "duration": 141,
    "start_time": "2022-05-05T17:06:41.389Z"
   },
   {
    "duration": 7,
    "start_time": "2022-05-05T17:06:41.827Z"
   },
   {
    "duration": 132,
    "start_time": "2022-05-05T17:06:42.033Z"
   },
   {
    "duration": 7,
    "start_time": "2022-05-05T17:06:42.712Z"
   },
   {
    "duration": 204,
    "start_time": "2022-05-05T17:06:42.954Z"
   },
   {
    "duration": 7,
    "start_time": "2022-05-05T17:06:43.390Z"
   },
   {
    "duration": 138,
    "start_time": "2022-05-05T17:06:43.599Z"
   },
   {
    "duration": 7,
    "start_time": "2022-05-05T17:06:44.056Z"
   },
   {
    "duration": 136,
    "start_time": "2022-05-05T17:06:44.264Z"
   },
   {
    "duration": 6,
    "start_time": "2022-05-05T17:06:44.723Z"
   },
   {
    "duration": 156,
    "start_time": "2022-05-05T17:06:44.929Z"
   },
   {
    "duration": 7,
    "start_time": "2022-05-05T17:06:45.345Z"
   },
   {
    "duration": 140,
    "start_time": "2022-05-05T17:06:45.617Z"
   },
   {
    "duration": 8,
    "start_time": "2022-05-05T17:06:46.013Z"
   },
   {
    "duration": 163,
    "start_time": "2022-05-05T17:06:46.247Z"
   },
   {
    "duration": 7,
    "start_time": "2022-05-05T17:06:46.657Z"
   },
   {
    "duration": 137,
    "start_time": "2022-05-05T17:06:46.902Z"
   },
   {
    "duration": 8,
    "start_time": "2022-05-05T17:06:47.328Z"
   },
   {
    "duration": 122,
    "start_time": "2022-05-05T17:06:47.538Z"
   },
   {
    "duration": 7,
    "start_time": "2022-05-05T17:06:47.967Z"
   },
   {
    "duration": 8,
    "start_time": "2022-05-05T17:06:48.193Z"
   },
   {
    "duration": 5,
    "start_time": "2022-05-05T17:06:48.600Z"
   },
   {
    "duration": 5,
    "start_time": "2022-05-05T17:06:49.041Z"
   },
   {
    "duration": 34,
    "start_time": "2022-05-05T17:06:50.808Z"
   },
   {
    "duration": 16,
    "start_time": "2022-05-05T17:06:51.201Z"
   },
   {
    "duration": 4,
    "start_time": "2022-05-05T17:06:51.457Z"
   },
   {
    "duration": 8,
    "start_time": "2022-05-05T17:06:52.152Z"
   },
   {
    "duration": 15,
    "start_time": "2022-05-05T17:06:52.690Z"
   },
   {
    "duration": 5,
    "start_time": "2022-05-05T17:06:53.200Z"
   },
   {
    "duration": 27,
    "start_time": "2022-05-05T17:06:54.152Z"
   },
   {
    "duration": 173,
    "start_time": "2022-05-05T17:06:54.641Z"
   },
   {
    "duration": 173,
    "start_time": "2022-05-05T17:06:54.912Z"
   },
   {
    "duration": 11,
    "start_time": "2022-05-05T17:06:55.371Z"
   },
   {
    "duration": 10,
    "start_time": "2022-05-05T17:06:55.633Z"
   },
   {
    "duration": 9,
    "start_time": "2022-05-05T17:06:55.873Z"
   },
   {
    "duration": 15,
    "start_time": "2022-05-05T17:06:56.191Z"
   },
   {
    "duration": 30,
    "start_time": "2022-05-05T17:06:57.713Z"
   },
   {
    "duration": 8,
    "start_time": "2022-05-05T17:06:58.721Z"
   },
   {
    "duration": 146,
    "start_time": "2022-05-05T17:06:59.201Z"
   },
   {
    "duration": 6,
    "start_time": "2022-05-05T17:06:59.727Z"
   },
   {
    "duration": 155,
    "start_time": "2022-05-05T17:07:00.416Z"
   },
   {
    "duration": 6,
    "start_time": "2022-05-05T17:07:00.666Z"
   },
   {
    "duration": 7,
    "start_time": "2022-05-05T17:07:01.790Z"
   },
   {
    "duration": 139,
    "start_time": "2022-05-05T17:07:02.292Z"
   },
   {
    "duration": 8,
    "start_time": "2022-05-05T17:07:02.776Z"
   },
   {
    "duration": 234,
    "start_time": "2022-05-05T17:07:03.546Z"
   },
   {
    "duration": 6,
    "start_time": "2022-05-05T17:07:04.023Z"
   },
   {
    "duration": 6,
    "start_time": "2022-05-05T17:07:04.968Z"
   },
   {
    "duration": 125,
    "start_time": "2022-05-05T17:07:05.201Z"
   },
   {
    "duration": 5,
    "start_time": "2022-05-05T17:07:05.440Z"
   },
   {
    "duration": 5,
    "start_time": "2022-05-05T17:07:05.921Z"
   },
   {
    "duration": 15,
    "start_time": "2022-05-05T17:07:07.143Z"
   },
   {
    "duration": 187,
    "start_time": "2022-05-05T17:07:07.993Z"
   },
   {
    "duration": 16,
    "start_time": "2022-05-05T17:07:08.960Z"
   },
   {
    "duration": 187,
    "start_time": "2022-05-05T17:07:10.120Z"
   },
   {
    "duration": 21,
    "start_time": "2022-05-05T17:07:12.570Z"
   },
   {
    "duration": 10,
    "start_time": "2022-05-05T17:07:13.191Z"
   },
   {
    "duration": 24,
    "start_time": "2022-05-05T17:07:14.337Z"
   },
   {
    "duration": 11,
    "start_time": "2022-05-05T17:07:14.990Z"
   },
   {
    "duration": 19,
    "start_time": "2022-05-05T17:07:16.099Z"
   },
   {
    "duration": 10,
    "start_time": "2022-05-05T17:07:16.337Z"
   },
   {
    "duration": 5,
    "start_time": "2022-05-05T17:07:17.145Z"
   },
   {
    "duration": 16,
    "start_time": "2022-05-05T17:07:17.415Z"
   },
   {
    "duration": 16,
    "start_time": "2022-05-05T17:07:19.259Z"
   },
   {
    "duration": 5,
    "start_time": "2022-05-05T17:07:19.493Z"
   },
   {
    "duration": 11,
    "start_time": "2022-05-05T17:07:19.792Z"
   },
   {
    "duration": 23,
    "start_time": "2022-05-05T17:07:20.425Z"
   },
   {
    "duration": 16,
    "start_time": "2022-05-05T17:07:20.666Z"
   },
   {
    "duration": 22,
    "start_time": "2022-05-05T17:07:21.241Z"
   },
   {
    "duration": 11,
    "start_time": "2022-05-05T17:07:21.825Z"
   },
   {
    "duration": 20,
    "start_time": "2022-05-05T17:07:22.769Z"
   },
   {
    "duration": 21,
    "start_time": "2022-05-05T17:07:23.890Z"
   },
   {
    "duration": 19,
    "start_time": "2022-05-05T17:07:24.390Z"
   },
   {
    "duration": 25,
    "start_time": "2022-05-05T17:07:24.858Z"
   },
   {
    "duration": 11,
    "start_time": "2022-05-05T17:07:26.729Z"
   },
   {
    "duration": 15,
    "start_time": "2022-05-05T17:07:29.073Z"
   },
   {
    "duration": 30,
    "start_time": "2022-05-05T17:08:12.252Z"
   },
   {
    "duration": 12,
    "start_time": "2022-05-05T17:08:16.421Z"
   },
   {
    "duration": 4,
    "start_time": "2022-05-05T17:08:17.539Z"
   },
   {
    "duration": 8,
    "start_time": "2022-05-05T17:08:19.259Z"
   },
   {
    "duration": 10,
    "start_time": "2022-05-05T17:08:20.096Z"
   },
   {
    "duration": 4,
    "start_time": "2022-05-05T17:08:22.089Z"
   },
   {
    "duration": 18,
    "start_time": "2022-05-05T17:08:24.617Z"
   },
   {
    "duration": 192,
    "start_time": "2022-05-05T17:08:26.158Z"
   },
   {
    "duration": 180,
    "start_time": "2022-05-05T17:08:26.951Z"
   },
   {
    "duration": 10,
    "start_time": "2022-05-05T17:08:28.360Z"
   },
   {
    "duration": 9,
    "start_time": "2022-05-05T17:08:28.633Z"
   },
   {
    "duration": 8,
    "start_time": "2022-05-05T17:08:28.855Z"
   },
   {
    "duration": 12,
    "start_time": "2022-05-05T17:08:29.061Z"
   },
   {
    "duration": 31,
    "start_time": "2022-05-05T17:08:38.083Z"
   },
   {
    "duration": 6,
    "start_time": "2022-05-05T17:08:42.564Z"
   },
   {
    "duration": 139,
    "start_time": "2022-05-05T17:08:44.072Z"
   },
   {
    "duration": 5,
    "start_time": "2022-05-05T17:08:45.498Z"
   },
   {
    "duration": 141,
    "start_time": "2022-05-05T17:08:46.772Z"
   },
   {
    "duration": 6,
    "start_time": "2022-05-05T17:08:47.059Z"
   },
   {
    "duration": 6,
    "start_time": "2022-05-05T17:08:51.995Z"
   },
   {
    "duration": 138,
    "start_time": "2022-05-05T17:08:52.824Z"
   },
   {
    "duration": 8,
    "start_time": "2022-05-05T17:08:54.482Z"
   },
   {
    "duration": 135,
    "start_time": "2022-05-05T17:08:56.845Z"
   },
   {
    "duration": 6,
    "start_time": "2022-05-05T17:08:59.090Z"
   },
   {
    "duration": 7,
    "start_time": "2022-05-05T17:09:02.491Z"
   },
   {
    "duration": 137,
    "start_time": "2022-05-05T17:09:03.027Z"
   },
   {
    "duration": 6,
    "start_time": "2022-05-05T17:09:03.624Z"
   },
   {
    "duration": 7,
    "start_time": "2022-05-05T17:09:06.929Z"
   },
   {
    "duration": 22,
    "start_time": "2022-05-05T17:09:12.260Z"
   },
   {
    "duration": 184,
    "start_time": "2022-05-05T17:09:15.761Z"
   },
   {
    "duration": 13,
    "start_time": "2022-05-05T17:09:18.255Z"
   },
   {
    "duration": 195,
    "start_time": "2022-05-05T17:09:19.882Z"
   },
   {
    "duration": 20,
    "start_time": "2022-05-05T17:09:30.889Z"
   },
   {
    "duration": 11,
    "start_time": "2022-05-05T17:09:32.361Z"
   },
   {
    "duration": 21,
    "start_time": "2022-05-05T17:09:34.390Z"
   },
   {
    "duration": 11,
    "start_time": "2022-05-05T17:09:35.634Z"
   },
   {
    "duration": 19,
    "start_time": "2022-05-05T17:09:37.635Z"
   },
   {
    "duration": 12,
    "start_time": "2022-05-05T17:09:38.360Z"
   },
   {
    "duration": 6,
    "start_time": "2022-05-05T17:09:40.052Z"
   },
   {
    "duration": 15,
    "start_time": "2022-05-05T17:09:40.620Z"
   },
   {
    "duration": 27,
    "start_time": "2022-05-05T17:09:43.317Z"
   },
   {
    "duration": 5,
    "start_time": "2022-05-05T17:09:44.123Z"
   },
   {
    "duration": 9,
    "start_time": "2022-05-05T17:09:44.865Z"
   },
   {
    "duration": 24,
    "start_time": "2022-05-05T17:09:46.024Z"
   },
   {
    "duration": 13,
    "start_time": "2022-05-05T17:09:46.655Z"
   },
   {
    "duration": 31,
    "start_time": "2022-05-05T17:09:47.672Z"
   },
   {
    "duration": 12,
    "start_time": "2022-05-05T17:09:48.289Z"
   },
   {
    "duration": 23,
    "start_time": "2022-05-05T17:09:50.061Z"
   },
   {
    "duration": 22,
    "start_time": "2022-05-05T17:09:54.398Z"
   },
   {
    "duration": 23,
    "start_time": "2022-05-05T17:09:55.458Z"
   },
   {
    "duration": 142,
    "start_time": "2022-05-05T17:09:57.863Z"
   },
   {
    "duration": 13,
    "start_time": "2022-05-05T17:10:02.290Z"
   },
   {
    "duration": 15,
    "start_time": "2022-05-05T17:10:19.207Z"
   },
   {
    "duration": 130,
    "start_time": "2022-05-05T17:29:10.942Z"
   },
   {
    "duration": 17,
    "start_time": "2022-05-05T17:30:25.943Z"
   },
   {
    "duration": 16,
    "start_time": "2022-05-05T17:30:36.930Z"
   },
   {
    "duration": 13,
    "start_time": "2022-05-05T17:46:18.427Z"
   },
   {
    "duration": 161,
    "start_time": "2022-05-05T17:46:37.622Z"
   },
   {
    "duration": 156,
    "start_time": "2022-05-05T17:48:26.648Z"
   },
   {
    "duration": 1332,
    "start_time": "2022-05-05T19:46:42.147Z"
   },
   {
    "duration": 59,
    "start_time": "2022-05-05T19:46:43.481Z"
   },
   {
    "duration": 21,
    "start_time": "2022-05-05T19:46:43.543Z"
   },
   {
    "duration": 3,
    "start_time": "2022-05-05T19:46:43.567Z"
   },
   {
    "duration": 16,
    "start_time": "2022-05-05T19:46:43.572Z"
   },
   {
    "duration": 33,
    "start_time": "2022-05-05T19:46:43.591Z"
   },
   {
    "duration": 27,
    "start_time": "2022-05-05T19:46:43.626Z"
   },
   {
    "duration": 13,
    "start_time": "2022-05-05T19:46:43.655Z"
   },
   {
    "duration": 7,
    "start_time": "2022-05-05T19:46:43.670Z"
   },
   {
    "duration": 5,
    "start_time": "2022-05-05T19:46:43.681Z"
   },
   {
    "duration": 39,
    "start_time": "2022-05-05T19:46:43.688Z"
   },
   {
    "duration": 8,
    "start_time": "2022-05-05T19:46:43.729Z"
   },
   {
    "duration": 8,
    "start_time": "2022-05-05T19:46:43.739Z"
   },
   {
    "duration": 15,
    "start_time": "2022-05-05T19:46:43.749Z"
   },
   {
    "duration": 9,
    "start_time": "2022-05-05T19:46:43.766Z"
   },
   {
    "duration": 14,
    "start_time": "2022-05-05T19:46:43.777Z"
   },
   {
    "duration": 9,
    "start_time": "2022-05-05T19:46:43.793Z"
   },
   {
    "duration": 21,
    "start_time": "2022-05-05T19:46:43.804Z"
   },
   {
    "duration": 7,
    "start_time": "2022-05-05T19:46:43.827Z"
   },
   {
    "duration": 10,
    "start_time": "2022-05-05T19:46:43.836Z"
   },
   {
    "duration": 13,
    "start_time": "2022-05-05T19:46:43.848Z"
   },
   {
    "duration": 19,
    "start_time": "2022-05-05T19:46:43.862Z"
   },
   {
    "duration": 6,
    "start_time": "2022-05-05T19:46:43.883Z"
   },
   {
    "duration": 53,
    "start_time": "2022-05-05T19:46:43.890Z"
   },
   {
    "duration": 9,
    "start_time": "2022-05-05T19:46:43.945Z"
   },
   {
    "duration": 16,
    "start_time": "2022-05-05T19:46:43.956Z"
   },
   {
    "duration": 6,
    "start_time": "2022-05-05T19:46:43.974Z"
   },
   {
    "duration": 48,
    "start_time": "2022-05-05T19:46:43.986Z"
   },
   {
    "duration": 326,
    "start_time": "2022-05-05T19:46:44.036Z"
   },
   {
    "duration": 246,
    "start_time": "2022-05-05T19:46:44.364Z"
   },
   {
    "duration": 31,
    "start_time": "2022-05-05T19:46:44.613Z"
   },
   {
    "duration": 7,
    "start_time": "2022-05-05T19:46:44.646Z"
   },
   {
    "duration": 18,
    "start_time": "2022-05-05T19:46:44.655Z"
   },
   {
    "duration": 9,
    "start_time": "2022-05-05T19:46:44.675Z"
   },
   {
    "duration": 76,
    "start_time": "2022-05-05T19:46:44.687Z"
   },
   {
    "duration": 6,
    "start_time": "2022-05-05T19:46:44.765Z"
   },
   {
    "duration": 213,
    "start_time": "2022-05-05T19:46:44.773Z"
   },
   {
    "duration": 8,
    "start_time": "2022-05-05T19:46:44.987Z"
   },
   {
    "duration": 211,
    "start_time": "2022-05-05T19:46:44.997Z"
   },
   {
    "duration": 14,
    "start_time": "2022-05-05T19:46:45.210Z"
   },
   {
    "duration": 211,
    "start_time": "2022-05-05T19:46:45.227Z"
   },
   {
    "duration": 9,
    "start_time": "2022-05-05T19:46:45.440Z"
   },
   {
    "duration": 141,
    "start_time": "2022-05-05T19:46:45.451Z"
   },
   {
    "duration": 6,
    "start_time": "2022-05-05T19:46:45.594Z"
   },
   {
    "duration": 234,
    "start_time": "2022-05-05T19:46:45.602Z"
   },
   {
    "duration": 10,
    "start_time": "2022-05-05T19:46:45.839Z"
   },
   {
    "duration": 246,
    "start_time": "2022-05-05T19:46:45.851Z"
   },
   {
    "duration": 9,
    "start_time": "2022-05-05T19:46:46.099Z"
   },
   {
    "duration": 221,
    "start_time": "2022-05-05T19:46:46.110Z"
   },
   {
    "duration": 10,
    "start_time": "2022-05-05T19:46:46.333Z"
   },
   {
    "duration": 318,
    "start_time": "2022-05-05T19:46:46.345Z"
   },
   {
    "duration": 10,
    "start_time": "2022-05-05T19:46:46.665Z"
   },
   {
    "duration": 198,
    "start_time": "2022-05-05T19:46:46.677Z"
   },
   {
    "duration": 9,
    "start_time": "2022-05-05T19:46:46.877Z"
   },
   {
    "duration": 147,
    "start_time": "2022-05-05T19:46:46.887Z"
   },
   {
    "duration": 8,
    "start_time": "2022-05-05T19:46:47.036Z"
   },
   {
    "duration": 137,
    "start_time": "2022-05-05T19:46:47.048Z"
   },
   {
    "duration": 9,
    "start_time": "2022-05-05T19:46:47.188Z"
   },
   {
    "duration": 227,
    "start_time": "2022-05-05T19:46:47.199Z"
   },
   {
    "duration": 7,
    "start_time": "2022-05-05T19:46:47.428Z"
   },
   {
    "duration": 144,
    "start_time": "2022-05-05T19:46:47.437Z"
   },
   {
    "duration": 8,
    "start_time": "2022-05-05T19:46:47.584Z"
   },
   {
    "duration": 197,
    "start_time": "2022-05-05T19:46:47.593Z"
   },
   {
    "duration": 6,
    "start_time": "2022-05-05T19:46:47.792Z"
   },
   {
    "duration": 181,
    "start_time": "2022-05-05T19:46:47.800Z"
   },
   {
    "duration": 7,
    "start_time": "2022-05-05T19:46:47.984Z"
   },
   {
    "duration": 16,
    "start_time": "2022-05-05T19:46:47.993Z"
   },
   {
    "duration": 6,
    "start_time": "2022-05-05T19:46:48.023Z"
   },
   {
    "duration": 8,
    "start_time": "2022-05-05T19:46:48.031Z"
   },
   {
    "duration": 40,
    "start_time": "2022-05-05T19:46:48.041Z"
   },
   {
    "duration": 15,
    "start_time": "2022-05-05T19:46:48.083Z"
   },
   {
    "duration": 6,
    "start_time": "2022-05-05T19:46:48.124Z"
   },
   {
    "duration": 12,
    "start_time": "2022-05-05T19:46:48.133Z"
   },
   {
    "duration": 17,
    "start_time": "2022-05-05T19:46:48.148Z"
   },
   {
    "duration": 11,
    "start_time": "2022-05-05T19:46:48.167Z"
   },
   {
    "duration": 20,
    "start_time": "2022-05-05T19:46:48.180Z"
   },
   {
    "duration": 251,
    "start_time": "2022-05-05T19:46:48.202Z"
   },
   {
    "duration": 181,
    "start_time": "2022-05-05T19:46:48.456Z"
   },
   {
    "duration": 10,
    "start_time": "2022-05-05T19:46:48.639Z"
   },
   {
    "duration": 10,
    "start_time": "2022-05-05T19:46:48.651Z"
   },
   {
    "duration": 13,
    "start_time": "2022-05-05T19:46:48.663Z"
   },
   {
    "duration": 13,
    "start_time": "2022-05-05T19:46:48.683Z"
   },
   {
    "duration": 55,
    "start_time": "2022-05-05T19:46:48.698Z"
   },
   {
    "duration": 8,
    "start_time": "2022-05-05T19:46:48.757Z"
   },
   {
    "duration": 223,
    "start_time": "2022-05-05T19:46:48.767Z"
   },
   {
    "duration": 7,
    "start_time": "2022-05-05T19:46:48.993Z"
   },
   {
    "duration": 221,
    "start_time": "2022-05-05T19:46:49.002Z"
   },
   {
    "duration": 6,
    "start_time": "2022-05-05T19:46:49.226Z"
   },
   {
    "duration": 8,
    "start_time": "2022-05-05T19:46:49.233Z"
   },
   {
    "duration": 222,
    "start_time": "2022-05-05T19:46:49.243Z"
   },
   {
    "duration": 6,
    "start_time": "2022-05-05T19:46:49.467Z"
   },
   {
    "duration": 228,
    "start_time": "2022-05-05T19:46:49.475Z"
   },
   {
    "duration": 7,
    "start_time": "2022-05-05T19:46:49.706Z"
   },
   {
    "duration": 14,
    "start_time": "2022-05-05T19:46:49.715Z"
   },
   {
    "duration": 321,
    "start_time": "2022-05-05T19:46:49.732Z"
   },
   {
    "duration": 6,
    "start_time": "2022-05-05T19:46:50.056Z"
   },
   {
    "duration": 11,
    "start_time": "2022-05-05T19:46:50.064Z"
   },
   {
    "duration": 22,
    "start_time": "2022-05-05T19:46:50.077Z"
   },
   {
    "duration": 291,
    "start_time": "2022-05-05T19:46:50.101Z"
   },
   {
    "duration": 31,
    "start_time": "2022-05-05T19:46:50.394Z"
   },
   {
    "duration": 191,
    "start_time": "2022-05-05T19:46:50.427Z"
   },
   {
    "duration": 14,
    "start_time": "2022-05-05T19:46:50.625Z"
   },
   {
    "duration": 284,
    "start_time": "2022-05-05T19:46:50.641Z"
   },
   {
    "duration": 20,
    "start_time": "2022-05-05T19:46:50.927Z"
   },
   {
    "duration": 14,
    "start_time": "2022-05-05T19:46:50.949Z"
   },
   {
    "duration": 31,
    "start_time": "2022-05-05T19:46:50.964Z"
   },
   {
    "duration": 16,
    "start_time": "2022-05-05T19:46:51.024Z"
   },
   {
    "duration": 19,
    "start_time": "2022-05-05T19:46:51.042Z"
   },
   {
    "duration": 18,
    "start_time": "2022-05-05T19:46:51.063Z"
   },
   {
    "duration": 10,
    "start_time": "2022-05-05T19:46:51.083Z"
   },
   {
    "duration": 22,
    "start_time": "2022-05-05T19:46:51.123Z"
   },
   {
    "duration": 23,
    "start_time": "2022-05-05T19:46:51.147Z"
   },
   {
    "duration": 6,
    "start_time": "2022-05-05T19:46:51.172Z"
   },
   {
    "duration": 14,
    "start_time": "2022-05-05T19:46:51.180Z"
   },
   {
    "duration": 42,
    "start_time": "2022-05-05T19:46:51.196Z"
   },
   {
    "duration": 10,
    "start_time": "2022-05-05T19:46:51.240Z"
   },
   {
    "duration": 23,
    "start_time": "2022-05-05T19:46:51.252Z"
   },
   {
    "duration": 14,
    "start_time": "2022-05-05T19:46:51.277Z"
   },
   {
    "duration": 25,
    "start_time": "2022-05-05T19:46:51.325Z"
   },
   {
    "duration": 31,
    "start_time": "2022-05-05T19:46:51.352Z"
   },
   {
    "duration": 51,
    "start_time": "2022-05-05T19:46:51.386Z"
   },
   {
    "duration": 24,
    "start_time": "2022-05-05T19:46:51.439Z"
   },
   {
    "duration": 14,
    "start_time": "2022-05-05T19:46:51.465Z"
   },
   {
    "duration": 19,
    "start_time": "2022-05-05T19:46:51.482Z"
   },
   {
    "duration": 23,
    "start_time": "2022-05-05T19:47:49.096Z"
   },
   {
    "duration": 22,
    "start_time": "2022-05-05T19:49:20.518Z"
   },
   {
    "duration": 6,
    "start_time": "2022-05-05T19:49:28.580Z"
   },
   {
    "duration": 21,
    "start_time": "2022-05-05T19:49:36.078Z"
   },
   {
    "duration": 4,
    "start_time": "2022-05-05T19:49:52.919Z"
   },
   {
    "duration": 10,
    "start_time": "2022-05-05T19:55:01.652Z"
   },
   {
    "duration": 20,
    "start_time": "2022-05-05T19:59:06.017Z"
   },
   {
    "duration": 25,
    "start_time": "2022-05-05T20:01:16.694Z"
   },
   {
    "duration": 102,
    "start_time": "2022-05-05T20:01:22.575Z"
   },
   {
    "duration": 5,
    "start_time": "2022-05-05T20:01:25.532Z"
   },
   {
    "duration": 23,
    "start_time": "2022-05-05T20:03:01.432Z"
   },
   {
    "duration": 1489,
    "start_time": "2022-05-07T14:13:21.206Z"
   },
   {
    "duration": 59,
    "start_time": "2022-05-07T14:13:22.697Z"
   },
   {
    "duration": 23,
    "start_time": "2022-05-07T14:13:22.758Z"
   },
   {
    "duration": 5,
    "start_time": "2022-05-07T14:13:22.784Z"
   },
   {
    "duration": 18,
    "start_time": "2022-05-07T14:13:23.038Z"
   },
   {
    "duration": 6,
    "start_time": "2022-05-07T14:13:23.572Z"
   },
   {
    "duration": 25,
    "start_time": "2022-05-07T14:13:23.945Z"
   },
   {
    "duration": 18,
    "start_time": "2022-05-07T14:13:24.653Z"
   },
   {
    "duration": 13,
    "start_time": "2022-05-07T14:13:25.018Z"
   },
   {
    "duration": 6,
    "start_time": "2022-05-07T14:13:25.389Z"
   },
   {
    "duration": 5,
    "start_time": "2022-05-07T14:13:25.591Z"
   },
   {
    "duration": 5,
    "start_time": "2022-05-07T14:13:25.753Z"
   },
   {
    "duration": 6,
    "start_time": "2022-05-07T14:13:25.972Z"
   },
   {
    "duration": 11,
    "start_time": "2022-05-07T14:13:26.125Z"
   },
   {
    "duration": 10,
    "start_time": "2022-05-07T14:13:26.498Z"
   },
   {
    "duration": 7,
    "start_time": "2022-05-07T14:13:26.857Z"
   },
   {
    "duration": 6,
    "start_time": "2022-05-07T14:13:27.248Z"
   },
   {
    "duration": 7,
    "start_time": "2022-05-07T14:13:27.622Z"
   },
   {
    "duration": 16,
    "start_time": "2022-05-07T14:13:27.808Z"
   },
   {
    "duration": 10,
    "start_time": "2022-05-07T14:13:28.742Z"
   },
   {
    "duration": 12,
    "start_time": "2022-05-07T14:13:29.287Z"
   },
   {
    "duration": 18,
    "start_time": "2022-05-07T14:13:29.676Z"
   },
   {
    "duration": 10,
    "start_time": "2022-05-07T14:13:30.615Z"
   },
   {
    "duration": 27,
    "start_time": "2022-05-07T14:13:30.808Z"
   },
   {
    "duration": 13,
    "start_time": "2022-05-07T14:13:31.005Z"
   },
   {
    "duration": 19,
    "start_time": "2022-05-07T14:13:31.553Z"
   },
   {
    "duration": 7,
    "start_time": "2022-05-07T14:13:31.768Z"
   },
   {
    "duration": 13,
    "start_time": "2022-05-07T14:13:31.958Z"
   },
   {
    "duration": 376,
    "start_time": "2022-05-07T14:13:32.122Z"
   },
   {
    "duration": 196,
    "start_time": "2022-05-07T14:13:32.881Z"
   },
   {
    "duration": 21,
    "start_time": "2022-05-07T14:13:33.461Z"
   },
   {
    "duration": 10,
    "start_time": "2022-05-07T14:13:34.011Z"
   },
   {
    "duration": 20,
    "start_time": "2022-05-07T14:13:34.210Z"
   },
   {
    "duration": 12,
    "start_time": "2022-05-07T14:13:34.418Z"
   },
   {
    "duration": 48,
    "start_time": "2022-05-07T14:13:34.587Z"
   },
   {
    "duration": 5,
    "start_time": "2022-05-07T14:13:34.947Z"
   },
   {
    "duration": 169,
    "start_time": "2022-05-07T14:13:35.702Z"
   },
   {
    "duration": 10,
    "start_time": "2022-05-07T14:13:36.100Z"
   },
   {
    "duration": 176,
    "start_time": "2022-05-07T14:13:36.269Z"
   },
   {
    "duration": 10,
    "start_time": "2022-05-07T14:13:36.660Z"
   },
   {
    "duration": 171,
    "start_time": "2022-05-07T14:13:36.834Z"
   },
   {
    "duration": 11,
    "start_time": "2022-05-07T14:13:37.220Z"
   },
   {
    "duration": 207,
    "start_time": "2022-05-07T14:13:37.461Z"
   },
   {
    "duration": 9,
    "start_time": "2022-05-07T14:13:37.824Z"
   },
   {
    "duration": 164,
    "start_time": "2022-05-07T14:13:37.997Z"
   },
   {
    "duration": 7,
    "start_time": "2022-05-07T14:13:38.386Z"
   },
   {
    "duration": 185,
    "start_time": "2022-05-07T14:13:38.569Z"
   },
   {
    "duration": 6,
    "start_time": "2022-05-07T14:13:38.953Z"
   },
   {
    "duration": 165,
    "start_time": "2022-05-07T14:13:39.141Z"
   },
   {
    "duration": 9,
    "start_time": "2022-05-07T14:13:39.535Z"
   },
   {
    "duration": 228,
    "start_time": "2022-05-07T14:13:39.725Z"
   },
   {
    "duration": 8,
    "start_time": "2022-05-07T14:13:40.145Z"
   },
   {
    "duration": 153,
    "start_time": "2022-05-07T14:13:40.316Z"
   },
   {
    "duration": 11,
    "start_time": "2022-05-07T14:13:40.703Z"
   },
   {
    "duration": 219,
    "start_time": "2022-05-07T14:13:40.902Z"
   },
   {
    "duration": 8,
    "start_time": "2022-05-07T14:13:41.295Z"
   },
   {
    "duration": 169,
    "start_time": "2022-05-07T14:13:41.493Z"
   },
   {
    "duration": 8,
    "start_time": "2022-05-07T14:13:41.888Z"
   },
   {
    "duration": 175,
    "start_time": "2022-05-07T14:13:42.076Z"
   },
   {
    "duration": 7,
    "start_time": "2022-05-07T14:13:42.461Z"
   },
   {
    "duration": 157,
    "start_time": "2022-05-07T14:13:42.653Z"
   },
   {
    "duration": 10,
    "start_time": "2022-05-07T14:13:43.041Z"
   },
   {
    "duration": 149,
    "start_time": "2022-05-07T14:13:43.231Z"
   },
   {
    "duration": 9,
    "start_time": "2022-05-07T14:13:43.620Z"
   },
   {
    "duration": 172,
    "start_time": "2022-05-07T14:13:43.803Z"
   },
   {
    "duration": 7,
    "start_time": "2022-05-07T14:13:44.199Z"
   },
   {
    "duration": 10,
    "start_time": "2022-05-07T14:13:44.398Z"
   },
   {
    "duration": 5,
    "start_time": "2022-05-07T14:13:44.782Z"
   },
   {
    "duration": 6,
    "start_time": "2022-05-07T14:13:45.181Z"
   },
   {
    "duration": 35,
    "start_time": "2022-05-07T14:13:46.790Z"
   },
   {
    "duration": 13,
    "start_time": "2022-05-07T14:13:47.025Z"
   },
   {
    "duration": 5,
    "start_time": "2022-05-07T14:13:47.252Z"
   },
   {
    "duration": 12,
    "start_time": "2022-05-07T14:13:47.663Z"
   },
   {
    "duration": 12,
    "start_time": "2022-05-07T14:13:48.074Z"
   },
   {
    "duration": 5,
    "start_time": "2022-05-07T14:13:48.468Z"
   },
   {
    "duration": 22,
    "start_time": "2022-05-07T14:13:49.275Z"
   },
   {
    "duration": 186,
    "start_time": "2022-05-07T14:13:49.678Z"
   },
   {
    "duration": 223,
    "start_time": "2022-05-07T14:13:49.875Z"
   },
   {
    "duration": 11,
    "start_time": "2022-05-07T14:13:50.286Z"
   },
   {
    "duration": 12,
    "start_time": "2022-05-07T14:13:50.478Z"
   },
   {
    "duration": 12,
    "start_time": "2022-05-07T14:13:50.669Z"
   },
   {
    "duration": 16,
    "start_time": "2022-05-07T14:13:50.867Z"
   },
   {
    "duration": 23,
    "start_time": "2022-05-07T14:13:52.059Z"
   },
   {
    "duration": 7,
    "start_time": "2022-05-07T14:13:52.649Z"
   },
   {
    "duration": 217,
    "start_time": "2022-05-07T14:13:53.035Z"
   },
   {
    "duration": 8,
    "start_time": "2022-05-07T14:13:54.697Z"
   },
   {
    "duration": 174,
    "start_time": "2022-05-07T14:13:55.269Z"
   },
   {
    "duration": 6,
    "start_time": "2022-05-07T14:13:55.465Z"
   },
   {
    "duration": 10,
    "start_time": "2022-05-07T14:13:56.437Z"
   },
   {
    "duration": 203,
    "start_time": "2022-05-07T14:13:56.822Z"
   },
   {
    "duration": 10,
    "start_time": "2022-05-07T14:13:57.213Z"
   },
   {
    "duration": 257,
    "start_time": "2022-05-07T14:13:57.808Z"
   },
   {
    "duration": 6,
    "start_time": "2022-05-07T14:13:58.223Z"
   },
   {
    "duration": 8,
    "start_time": "2022-05-07T14:13:59.023Z"
   },
   {
    "duration": 154,
    "start_time": "2022-05-07T14:13:59.222Z"
   },
   {
    "duration": 8,
    "start_time": "2022-05-07T14:13:59.429Z"
   },
   {
    "duration": 7,
    "start_time": "2022-05-07T14:13:59.823Z"
   },
   {
    "duration": 20,
    "start_time": "2022-05-07T14:14:00.817Z"
   },
   {
    "duration": 217,
    "start_time": "2022-05-07T14:14:01.235Z"
   },
   {
    "duration": 15,
    "start_time": "2022-05-07T14:14:02.137Z"
   },
   {
    "duration": 233,
    "start_time": "2022-05-07T14:14:02.565Z"
   },
   {
    "duration": 23,
    "start_time": "2022-05-07T14:14:03.476Z"
   },
   {
    "duration": 235,
    "start_time": "2022-05-07T14:14:05.259Z"
   },
   {
    "duration": 22,
    "start_time": "2022-05-07T14:14:09.258Z"
   },
   {
    "duration": 12,
    "start_time": "2022-05-07T14:14:10.170Z"
   },
   {
    "duration": 26,
    "start_time": "2022-05-07T14:14:10.991Z"
   },
   {
    "duration": 16,
    "start_time": "2022-05-07T14:14:11.387Z"
   },
   {
    "duration": 30,
    "start_time": "2022-05-07T14:14:12.154Z"
   },
   {
    "duration": 13,
    "start_time": "2022-05-07T14:14:12.359Z"
   },
   {
    "duration": 7,
    "start_time": "2022-05-07T14:14:12.929Z"
   },
   {
    "duration": 25,
    "start_time": "2022-05-07T14:14:13.127Z"
   },
   {
    "duration": 26,
    "start_time": "2022-05-07T14:14:14.122Z"
   },
   {
    "duration": 6,
    "start_time": "2022-05-07T14:14:14.325Z"
   },
   {
    "duration": 13,
    "start_time": "2022-05-07T14:14:14.521Z"
   },
   {
    "duration": 28,
    "start_time": "2022-05-07T14:14:14.899Z"
   },
   {
    "duration": 22,
    "start_time": "2022-05-07T14:14:15.110Z"
   },
   {
    "duration": 24,
    "start_time": "2022-05-07T14:14:15.528Z"
   },
   {
    "duration": 17,
    "start_time": "2022-05-07T14:14:15.724Z"
   },
   {
    "duration": 28,
    "start_time": "2022-05-07T14:14:16.259Z"
   },
   {
    "duration": 30,
    "start_time": "2022-05-07T14:14:17.087Z"
   },
   {
    "duration": 22,
    "start_time": "2022-05-07T14:14:17.478Z"
   },
   {
    "duration": 26,
    "start_time": "2022-05-07T14:14:17.885Z"
   },
   {
    "duration": 17,
    "start_time": "2022-05-07T14:14:21.997Z"
   },
   {
    "duration": 15,
    "start_time": "2022-05-07T14:14:23.768Z"
   },
   {
    "duration": 27,
    "start_time": "2022-05-07T14:14:46.011Z"
   },
   {
    "duration": 18,
    "start_time": "2022-05-07T14:14:54.499Z"
   },
   {
    "duration": 21,
    "start_time": "2022-05-07T14:15:22.136Z"
   },
   {
    "duration": 16,
    "start_time": "2022-05-07T14:15:24.050Z"
   },
   {
    "duration": 17,
    "start_time": "2022-05-07T14:18:37.353Z"
   },
   {
    "duration": 14,
    "start_time": "2022-05-07T14:18:50.241Z"
   },
   {
    "duration": 21,
    "start_time": "2022-05-07T14:20:38.823Z"
   },
   {
    "duration": 23,
    "start_time": "2022-05-07T14:20:56.919Z"
   },
   {
    "duration": 20,
    "start_time": "2022-05-07T14:22:10.015Z"
   },
   {
    "duration": 15,
    "start_time": "2022-05-07T14:22:16.101Z"
   },
   {
    "duration": 7,
    "start_time": "2022-05-07T14:22:58.461Z"
   },
   {
    "duration": 17,
    "start_time": "2022-05-07T14:23:00.083Z"
   },
   {
    "duration": 24,
    "start_time": "2022-05-07T14:27:34.670Z"
   },
   {
    "duration": 6,
    "start_time": "2022-05-07T14:27:39.055Z"
   },
   {
    "duration": 13,
    "start_time": "2022-05-07T14:27:39.668Z"
   },
   {
    "duration": 25,
    "start_time": "2022-05-07T14:27:47.487Z"
   },
   {
    "duration": 14,
    "start_time": "2022-05-07T14:27:51.482Z"
   },
   {
    "duration": 17,
    "start_time": "2022-05-07T14:27:56.736Z"
   },
   {
    "duration": 17,
    "start_time": "2022-05-07T14:28:03.380Z"
   },
   {
    "duration": 26,
    "start_time": "2022-05-07T14:28:12.875Z"
   },
   {
    "duration": 18,
    "start_time": "2022-05-07T14:30:25.359Z"
   },
   {
    "duration": 24,
    "start_time": "2022-05-07T14:30:35.677Z"
   },
   {
    "duration": 35,
    "start_time": "2022-05-07T14:30:39.507Z"
   },
   {
    "duration": 11,
    "start_time": "2022-05-07T14:31:02.182Z"
   },
   {
    "duration": 29,
    "start_time": "2022-05-07T14:33:15.674Z"
   },
   {
    "duration": 8,
    "start_time": "2022-05-07T14:33:26.221Z"
   },
   {
    "duration": 195,
    "start_time": "2022-05-07T14:33:27.874Z"
   },
   {
    "duration": 7,
    "start_time": "2022-05-07T14:33:34.648Z"
   },
   {
    "duration": 183,
    "start_time": "2022-05-07T14:33:40.220Z"
   },
   {
    "duration": 6,
    "start_time": "2022-05-07T14:33:43.449Z"
   },
   {
    "duration": 8,
    "start_time": "2022-05-07T14:33:50.011Z"
   },
   {
    "duration": 147,
    "start_time": "2022-05-07T14:33:51.041Z"
   },
   {
    "duration": 7,
    "start_time": "2022-05-07T14:33:54.212Z"
   },
   {
    "duration": 163,
    "start_time": "2022-05-07T14:33:59.616Z"
   },
   {
    "duration": 8,
    "start_time": "2022-05-07T14:34:03.716Z"
   },
   {
    "duration": 7,
    "start_time": "2022-05-07T14:34:08.578Z"
   },
   {
    "duration": 181,
    "start_time": "2022-05-07T14:34:08.900Z"
   },
   {
    "duration": 6,
    "start_time": "2022-05-07T14:34:10.083Z"
   },
   {
    "duration": 7,
    "start_time": "2022-05-07T14:34:24.241Z"
   },
   {
    "duration": 18,
    "start_time": "2022-05-07T14:34:43.030Z"
   },
   {
    "duration": 214,
    "start_time": "2022-05-07T14:34:47.550Z"
   },
   {
    "duration": 21,
    "start_time": "2022-05-07T14:35:04.797Z"
   },
   {
    "duration": 205,
    "start_time": "2022-05-07T14:35:08.553Z"
   },
   {
    "duration": 16,
    "start_time": "2022-05-07T14:35:26.151Z"
   },
   {
    "duration": 10,
    "start_time": "2022-05-07T14:44:16.936Z"
   },
   {
    "duration": 9,
    "start_time": "2022-05-07T14:44:26.676Z"
   },
   {
    "duration": 17,
    "start_time": "2022-05-07T14:44:29.305Z"
   },
   {
    "duration": 3,
    "start_time": "2022-05-07T14:45:25.998Z"
   },
   {
    "duration": 42,
    "start_time": "2022-05-07T14:45:26.170Z"
   },
   {
    "duration": 15,
    "start_time": "2022-05-07T14:45:26.264Z"
   },
   {
    "duration": 4,
    "start_time": "2022-05-07T14:45:26.666Z"
   },
   {
    "duration": 21,
    "start_time": "2022-05-07T14:45:26.827Z"
   },
   {
    "duration": 5,
    "start_time": "2022-05-07T14:45:27.051Z"
   },
   {
    "duration": 25,
    "start_time": "2022-05-07T14:45:27.218Z"
   },
   {
    "duration": 11,
    "start_time": "2022-05-07T14:45:27.573Z"
   },
   {
    "duration": 5,
    "start_time": "2022-05-07T14:45:27.733Z"
   },
   {
    "duration": 4,
    "start_time": "2022-05-07T14:45:27.904Z"
   },
   {
    "duration": 5,
    "start_time": "2022-05-07T14:45:27.997Z"
   },
   {
    "duration": 5,
    "start_time": "2022-05-07T14:45:28.092Z"
   },
   {
    "duration": 5,
    "start_time": "2022-05-07T14:45:28.188Z"
   },
   {
    "duration": 9,
    "start_time": "2022-05-07T14:45:28.284Z"
   },
   {
    "duration": 7,
    "start_time": "2022-05-07T14:45:28.450Z"
   },
   {
    "duration": 7,
    "start_time": "2022-05-07T14:45:28.610Z"
   },
   {
    "duration": 5,
    "start_time": "2022-05-07T14:45:28.776Z"
   },
   {
    "duration": 8,
    "start_time": "2022-05-07T14:45:28.929Z"
   },
   {
    "duration": 9,
    "start_time": "2022-05-07T14:45:29.023Z"
   },
   {
    "duration": 12,
    "start_time": "2022-05-07T14:45:29.426Z"
   },
   {
    "duration": 7,
    "start_time": "2022-05-07T14:45:29.647Z"
   },
   {
    "duration": 14,
    "start_time": "2022-05-07T14:45:29.856Z"
   },
   {
    "duration": 5,
    "start_time": "2022-05-07T14:45:30.246Z"
   },
   {
    "duration": 16,
    "start_time": "2022-05-07T14:45:30.341Z"
   },
   {
    "duration": 7,
    "start_time": "2022-05-07T14:45:30.436Z"
   },
   {
    "duration": 13,
    "start_time": "2022-05-07T14:45:30.657Z"
   },
   {
    "duration": 5,
    "start_time": "2022-05-07T14:45:30.849Z"
   },
   {
    "duration": 15,
    "start_time": "2022-05-07T14:45:30.996Z"
   },
   {
    "duration": 492,
    "start_time": "2022-05-07T14:45:31.095Z"
   },
   {
    "duration": 195,
    "start_time": "2022-05-07T14:45:31.589Z"
   },
   {
    "duration": 34,
    "start_time": "2022-05-07T14:45:31.786Z"
   },
   {
    "duration": 5,
    "start_time": "2022-05-07T14:45:31.848Z"
   },
   {
    "duration": 10,
    "start_time": "2022-05-07T14:45:31.942Z"
   },
   {
    "duration": 8,
    "start_time": "2022-05-07T14:45:32.034Z"
   },
   {
    "duration": 34,
    "start_time": "2022-05-07T14:45:32.130Z"
   },
   {
    "duration": 6,
    "start_time": "2022-05-07T14:45:32.307Z"
   },
   {
    "duration": 153,
    "start_time": "2022-05-07T14:45:32.588Z"
   },
   {
    "duration": 6,
    "start_time": "2022-05-07T14:45:32.747Z"
   },
   {
    "duration": 156,
    "start_time": "2022-05-07T14:45:32.840Z"
   },
   {
    "duration": 11,
    "start_time": "2022-05-07T14:45:33.001Z"
   },
   {
    "duration": 155,
    "start_time": "2022-05-07T14:45:33.093Z"
   },
   {
    "duration": 7,
    "start_time": "2022-05-07T14:45:33.254Z"
   },
   {
    "duration": 142,
    "start_time": "2022-05-07T14:45:33.346Z"
   },
   {
    "duration": 9,
    "start_time": "2022-05-07T14:45:33.505Z"
   },
   {
    "duration": 167,
    "start_time": "2022-05-07T14:45:33.600Z"
   },
   {
    "duration": 7,
    "start_time": "2022-05-07T14:45:33.770Z"
   },
   {
    "duration": 163,
    "start_time": "2022-05-07T14:45:33.856Z"
   },
   {
    "duration": 7,
    "start_time": "2022-05-07T14:45:34.026Z"
   },
   {
    "duration": 143,
    "start_time": "2022-05-07T14:45:34.114Z"
   },
   {
    "duration": 7,
    "start_time": "2022-05-07T14:45:34.281Z"
   },
   {
    "duration": 139,
    "start_time": "2022-05-07T14:45:34.373Z"
   },
   {
    "duration": 7,
    "start_time": "2022-05-07T14:45:36.547Z"
   },
   {
    "duration": 147,
    "start_time": "2022-05-07T14:45:36.556Z"
   },
   {
    "duration": 7,
    "start_time": "2022-05-07T14:45:36.894Z"
   },
   {
    "duration": 164,
    "start_time": "2022-05-07T14:45:37.087Z"
   },
   {
    "duration": 7,
    "start_time": "2022-05-07T14:45:37.464Z"
   },
   {
    "duration": 132,
    "start_time": "2022-05-07T14:45:37.644Z"
   },
   {
    "duration": 7,
    "start_time": "2022-05-07T14:45:38.061Z"
   },
   {
    "duration": 169,
    "start_time": "2022-05-07T14:45:38.267Z"
   },
   {
    "duration": 9,
    "start_time": "2022-05-07T14:45:38.684Z"
   },
   {
    "duration": 177,
    "start_time": "2022-05-07T14:45:38.872Z"
   },
   {
    "duration": 7,
    "start_time": "2022-05-07T14:45:39.311Z"
   },
   {
    "duration": 140,
    "start_time": "2022-05-07T14:45:39.536Z"
   },
   {
    "duration": 7,
    "start_time": "2022-05-07T14:45:39.988Z"
   },
   {
    "duration": 254,
    "start_time": "2022-05-07T14:45:40.189Z"
   },
   {
    "duration": 12,
    "start_time": "2022-05-07T14:45:40.601Z"
   },
   {
    "duration": 9,
    "start_time": "2022-05-07T14:45:40.791Z"
   },
   {
    "duration": 4,
    "start_time": "2022-05-07T14:45:41.197Z"
   },
   {
    "duration": 6,
    "start_time": "2022-05-07T14:45:41.810Z"
   },
   {
    "duration": 38,
    "start_time": "2022-05-07T14:45:43.599Z"
   },
   {
    "duration": 13,
    "start_time": "2022-05-07T14:45:43.844Z"
   },
   {
    "duration": 6,
    "start_time": "2022-05-07T14:45:44.269Z"
   },
   {
    "duration": 11,
    "start_time": "2022-05-07T14:45:45.069Z"
   },
   {
    "duration": 21,
    "start_time": "2022-05-07T14:45:45.516Z"
   },
   {
    "duration": 4,
    "start_time": "2022-05-07T14:45:45.950Z"
   },
   {
    "duration": 45,
    "start_time": "2022-05-07T14:45:46.803Z"
   },
   {
    "duration": 182,
    "start_time": "2022-05-07T14:45:47.197Z"
   },
   {
    "duration": 199,
    "start_time": "2022-05-07T14:45:47.387Z"
   },
   {
    "duration": 9,
    "start_time": "2022-05-07T14:45:47.833Z"
   },
   {
    "duration": 18,
    "start_time": "2022-05-07T14:45:48.030Z"
   },
   {
    "duration": 9,
    "start_time": "2022-05-07T14:45:48.215Z"
   },
   {
    "duration": 17,
    "start_time": "2022-05-07T14:45:48.421Z"
   },
   {
    "duration": 19,
    "start_time": "2022-05-07T14:45:49.652Z"
   },
   {
    "duration": 7,
    "start_time": "2022-05-07T14:45:50.453Z"
   },
   {
    "duration": 169,
    "start_time": "2022-05-07T14:45:50.893Z"
   },
   {
    "duration": 7,
    "start_time": "2022-05-07T14:45:51.310Z"
   },
   {
    "duration": 152,
    "start_time": "2022-05-07T14:45:52.036Z"
   },
   {
    "duration": 7,
    "start_time": "2022-05-07T14:45:54.119Z"
   },
   {
    "duration": 7,
    "start_time": "2022-05-07T14:45:55.382Z"
   },
   {
    "duration": 148,
    "start_time": "2022-05-07T14:45:55.861Z"
   },
   {
    "duration": 6,
    "start_time": "2022-05-07T14:45:56.573Z"
   },
   {
    "duration": 151,
    "start_time": "2022-05-07T14:45:58.212Z"
   },
   {
    "duration": 5,
    "start_time": "2022-05-07T14:45:58.673Z"
   },
   {
    "duration": 6,
    "start_time": "2022-05-07T14:45:59.540Z"
   },
   {
    "duration": 139,
    "start_time": "2022-05-07T14:45:59.741Z"
   },
   {
    "duration": 5,
    "start_time": "2022-05-07T14:45:59.936Z"
   },
   {
    "duration": 5,
    "start_time": "2022-05-07T14:46:02.781Z"
   },
   {
    "duration": 15,
    "start_time": "2022-05-07T14:46:06.085Z"
   },
   {
    "duration": 226,
    "start_time": "2022-05-07T14:46:06.997Z"
   },
   {
    "duration": 15,
    "start_time": "2022-05-07T14:46:08.236Z"
   },
   {
    "duration": 225,
    "start_time": "2022-05-07T14:46:08.973Z"
   },
   {
    "duration": 17,
    "start_time": "2022-05-07T14:46:11.174Z"
   },
   {
    "duration": 200,
    "start_time": "2022-05-07T14:46:12.125Z"
   },
   {
    "duration": 19,
    "start_time": "2022-05-07T14:46:14.702Z"
   },
   {
    "duration": 10,
    "start_time": "2022-05-07T14:46:15.558Z"
   },
   {
    "duration": 19,
    "start_time": "2022-05-07T14:46:18.327Z"
   },
   {
    "duration": 13,
    "start_time": "2022-05-07T14:46:19.331Z"
   },
   {
    "duration": 25,
    "start_time": "2022-05-07T14:46:20.687Z"
   },
   {
    "duration": 11,
    "start_time": "2022-05-07T14:46:21.135Z"
   },
   {
    "duration": 6,
    "start_time": "2022-05-07T14:46:22.528Z"
   },
   {
    "duration": 16,
    "start_time": "2022-05-07T14:46:23.391Z"
   },
   {
    "duration": 17,
    "start_time": "2022-05-07T14:46:25.653Z"
   },
   {
    "duration": 6,
    "start_time": "2022-05-07T14:46:26.110Z"
   },
   {
    "duration": 9,
    "start_time": "2022-05-07T14:46:26.648Z"
   },
   {
    "duration": 16,
    "start_time": "2022-05-07T14:46:27.453Z"
   },
   {
    "duration": 11,
    "start_time": "2022-05-07T14:46:27.878Z"
   },
   {
    "duration": 15,
    "start_time": "2022-05-07T14:46:28.951Z"
   },
   {
    "duration": 20,
    "start_time": "2022-05-07T14:46:29.410Z"
   },
   {
    "duration": 18,
    "start_time": "2022-05-07T14:46:30.529Z"
   },
   {
    "duration": 17,
    "start_time": "2022-05-07T14:46:32.686Z"
   },
   {
    "duration": 21,
    "start_time": "2022-05-07T14:46:33.607Z"
   },
   {
    "duration": 19,
    "start_time": "2022-05-07T14:46:34.883Z"
   },
   {
    "duration": 9,
    "start_time": "2022-05-07T14:46:39.159Z"
   },
   {
    "duration": 10,
    "start_time": "2022-05-07T14:46:44.199Z"
   },
   {
    "duration": 26,
    "start_time": "2022-05-07T15:07:02.459Z"
   },
   {
    "duration": 190,
    "start_time": "2022-05-07T15:07:15.812Z"
   },
   {
    "duration": 194,
    "start_time": "2022-05-07T15:07:19.409Z"
   },
   {
    "duration": 7,
    "start_time": "2022-05-07T15:07:26.296Z"
   },
   {
    "duration": 10,
    "start_time": "2022-05-07T15:07:26.815Z"
   },
   {
    "duration": 10,
    "start_time": "2022-05-07T15:07:27.217Z"
   },
   {
    "duration": 13,
    "start_time": "2022-05-07T15:07:30.464Z"
   },
   {
    "duration": 27,
    "start_time": "2022-05-07T15:07:44.305Z"
   },
   {
    "duration": 9,
    "start_time": "2022-05-07T15:07:46.727Z"
   },
   {
    "duration": 176,
    "start_time": "2022-05-07T15:07:47.187Z"
   },
   {
    "duration": 6,
    "start_time": "2022-05-07T15:07:51.738Z"
   },
   {
    "duration": 161,
    "start_time": "2022-05-07T15:07:56.489Z"
   },
   {
    "duration": 6,
    "start_time": "2022-05-07T15:07:57.399Z"
   },
   {
    "duration": 5,
    "start_time": "2022-05-07T15:08:01.777Z"
   },
   {
    "duration": 148,
    "start_time": "2022-05-07T15:08:02.647Z"
   },
   {
    "duration": 5,
    "start_time": "2022-05-07T15:08:03.859Z"
   },
   {
    "duration": 301,
    "start_time": "2022-05-07T15:08:05.671Z"
   },
   {
    "duration": 12,
    "start_time": "2022-05-07T15:08:08.112Z"
   },
   {
    "duration": 8,
    "start_time": "2022-05-07T15:08:10.512Z"
   },
   {
    "duration": 147,
    "start_time": "2022-05-07T15:08:11.126Z"
   },
   {
    "duration": 6,
    "start_time": "2022-05-07T15:08:11.666Z"
   },
   {
    "duration": 6,
    "start_time": "2022-05-07T15:08:12.647Z"
   },
   {
    "duration": 16,
    "start_time": "2022-05-07T15:08:14.282Z"
   },
   {
    "duration": 231,
    "start_time": "2022-05-07T15:08:15.759Z"
   },
   {
    "duration": 22,
    "start_time": "2022-05-07T15:08:17.502Z"
   },
   {
    "duration": 220,
    "start_time": "2022-05-07T15:08:18.322Z"
   },
   {
    "duration": 18,
    "start_time": "2022-05-07T15:08:19.726Z"
   },
   {
    "duration": 223,
    "start_time": "2022-05-07T15:08:20.742Z"
   },
   {
    "duration": 17,
    "start_time": "2022-05-07T15:08:23.872Z"
   },
   {
    "duration": 11,
    "start_time": "2022-05-07T15:08:24.650Z"
   },
   {
    "duration": 16,
    "start_time": "2022-05-07T15:08:25.540Z"
   },
   {
    "duration": 12,
    "start_time": "2022-05-07T15:08:25.976Z"
   },
   {
    "duration": 25,
    "start_time": "2022-05-07T15:08:26.901Z"
   },
   {
    "duration": 13,
    "start_time": "2022-05-07T15:08:27.127Z"
   },
   {
    "duration": 5,
    "start_time": "2022-05-07T15:08:27.765Z"
   },
   {
    "duration": 16,
    "start_time": "2022-05-07T15:08:27.976Z"
   },
   {
    "duration": 18,
    "start_time": "2022-05-07T15:08:29.056Z"
   },
   {
    "duration": 5,
    "start_time": "2022-05-07T15:08:29.289Z"
   },
   {
    "duration": 9,
    "start_time": "2022-05-07T15:08:29.491Z"
   },
   {
    "duration": 16,
    "start_time": "2022-05-07T15:08:29.959Z"
   },
   {
    "duration": 12,
    "start_time": "2022-05-07T15:08:30.182Z"
   },
   {
    "duration": 18,
    "start_time": "2022-05-07T15:08:30.602Z"
   },
   {
    "duration": 17,
    "start_time": "2022-05-07T15:08:30.837Z"
   },
   {
    "duration": 28,
    "start_time": "2022-05-07T15:08:31.488Z"
   },
   {
    "duration": 27,
    "start_time": "2022-05-07T15:08:32.330Z"
   },
   {
    "duration": 26,
    "start_time": "2022-05-07T15:08:32.849Z"
   },
   {
    "duration": 33,
    "start_time": "2022-05-07T15:08:33.310Z"
   },
   {
    "duration": 9,
    "start_time": "2022-05-07T15:08:35.482Z"
   },
   {
    "duration": 10,
    "start_time": "2022-05-07T15:08:37.567Z"
   },
   {
    "duration": 234,
    "start_time": "2022-05-07T15:11:13.016Z"
   },
   {
    "duration": 17,
    "start_time": "2022-05-07T15:11:24.119Z"
   },
   {
    "duration": 10,
    "start_time": "2022-05-07T16:17:02.214Z"
   },
   {
    "duration": 8,
    "start_time": "2022-05-07T16:17:12.807Z"
   },
   {
    "duration": 8,
    "start_time": "2022-05-07T16:19:21.513Z"
   },
   {
    "duration": 8,
    "start_time": "2022-05-07T16:19:22.828Z"
   },
   {
    "duration": 6,
    "start_time": "2022-05-07T16:19:39.175Z"
   },
   {
    "duration": 2,
    "start_time": "2022-05-07T16:19:39.546Z"
   },
   {
    "duration": 7,
    "start_time": "2022-05-07T16:19:40.067Z"
   },
   {
    "duration": 6,
    "start_time": "2022-05-07T16:19:41.905Z"
   },
   {
    "duration": 5,
    "start_time": "2022-05-07T16:19:42.592Z"
   },
   {
    "duration": 5,
    "start_time": "2022-05-07T16:19:43.386Z"
   },
   {
    "duration": 8,
    "start_time": "2022-05-07T16:19:43.779Z"
   },
   {
    "duration": 6,
    "start_time": "2022-05-07T16:20:22.637Z"
   },
   {
    "duration": 3,
    "start_time": "2022-05-07T16:20:22.996Z"
   },
   {
    "duration": 8,
    "start_time": "2022-05-07T16:20:23.422Z"
   },
   {
    "duration": 5,
    "start_time": "2022-05-07T16:20:24.393Z"
   },
   {
    "duration": 7,
    "start_time": "2022-05-07T16:20:24.890Z"
   },
   {
    "duration": 7,
    "start_time": "2022-05-07T16:20:25.377Z"
   },
   {
    "duration": 10,
    "start_time": "2022-05-07T16:20:25.735Z"
   },
   {
    "duration": 3,
    "start_time": "2022-05-07T16:20:38.141Z"
   },
   {
    "duration": 64,
    "start_time": "2022-05-07T16:20:38.584Z"
   },
   {
    "duration": 15,
    "start_time": "2022-05-07T16:20:38.835Z"
   },
   {
    "duration": 4,
    "start_time": "2022-05-07T16:20:40.137Z"
   },
   {
    "duration": 20,
    "start_time": "2022-05-07T16:20:40.606Z"
   },
   {
    "duration": 7,
    "start_time": "2022-05-07T16:20:43.120Z"
   },
   {
    "duration": 27,
    "start_time": "2022-05-07T16:20:43.844Z"
   },
   {
    "duration": 11,
    "start_time": "2022-05-07T16:20:45.683Z"
   },
   {
    "duration": 5,
    "start_time": "2022-05-07T16:20:48.721Z"
   },
   {
    "duration": 4,
    "start_time": "2022-05-07T16:20:49.659Z"
   },
   {
    "duration": 4,
    "start_time": "2022-05-07T16:20:49.997Z"
   },
   {
    "duration": 4,
    "start_time": "2022-05-07T16:20:50.351Z"
   },
   {
    "duration": 5,
    "start_time": "2022-05-07T16:20:50.618Z"
   },
   {
    "duration": 9,
    "start_time": "2022-05-07T16:20:51.160Z"
   },
   {
    "duration": 7,
    "start_time": "2022-05-07T16:20:52.415Z"
   },
   {
    "duration": 7,
    "start_time": "2022-05-07T16:20:53.119Z"
   },
   {
    "duration": 7,
    "start_time": "2022-05-07T16:20:53.577Z"
   },
   {
    "duration": 5,
    "start_time": "2022-05-07T16:20:55.179Z"
   },
   {
    "duration": 5,
    "start_time": "2022-05-07T16:20:56.069Z"
   },
   {
    "duration": 5,
    "start_time": "2022-05-07T16:20:56.638Z"
   },
   {
    "duration": 8,
    "start_time": "2022-05-07T16:20:56.977Z"
   },
   {
    "duration": 3,
    "start_time": "2022-05-07T16:21:16.270Z"
   },
   {
    "duration": 47,
    "start_time": "2022-05-07T16:21:16.586Z"
   },
   {
    "duration": 15,
    "start_time": "2022-05-07T16:21:16.778Z"
   },
   {
    "duration": 4,
    "start_time": "2022-05-07T16:21:17.730Z"
   },
   {
    "duration": 16,
    "start_time": "2022-05-07T16:21:18.135Z"
   },
   {
    "duration": 5,
    "start_time": "2022-05-07T16:21:18.738Z"
   },
   {
    "duration": 17,
    "start_time": "2022-05-07T16:21:19.282Z"
   },
   {
    "duration": 10,
    "start_time": "2022-05-07T16:21:21.283Z"
   },
   {
    "duration": 4,
    "start_time": "2022-05-07T16:21:22.499Z"
   },
   {
    "duration": 5,
    "start_time": "2022-05-07T16:21:22.931Z"
   },
   {
    "duration": 5,
    "start_time": "2022-05-07T16:21:23.155Z"
   },
   {
    "duration": 5,
    "start_time": "2022-05-07T16:21:23.385Z"
   },
   {
    "duration": 6,
    "start_time": "2022-05-07T16:21:23.605Z"
   },
   {
    "duration": 10,
    "start_time": "2022-05-07T16:21:23.824Z"
   },
   {
    "duration": 5,
    "start_time": "2022-05-07T16:21:27.677Z"
   },
   {
    "duration": 7,
    "start_time": "2022-05-07T16:21:28.406Z"
   },
   {
    "duration": 7,
    "start_time": "2022-05-07T16:21:28.983Z"
   },
   {
    "duration": 5,
    "start_time": "2022-05-07T16:21:31.590Z"
   },
   {
    "duration": 5,
    "start_time": "2022-05-07T16:21:32.693Z"
   },
   {
    "duration": 6,
    "start_time": "2022-05-07T16:21:33.211Z"
   },
   {
    "duration": 9,
    "start_time": "2022-05-07T16:21:33.620Z"
   },
   {
    "duration": 5,
    "start_time": "2022-05-07T16:22:53.548Z"
   },
   {
    "duration": 5,
    "start_time": "2022-05-07T16:22:54.068Z"
   },
   {
    "duration": 6,
    "start_time": "2022-05-07T16:22:54.564Z"
   },
   {
    "duration": 15,
    "start_time": "2022-05-07T16:23:17.441Z"
   },
   {
    "duration": 7,
    "start_time": "2022-05-07T16:23:30.625Z"
   },
   {
    "duration": 3,
    "start_time": "2022-05-07T16:23:36.126Z"
   },
   {
    "duration": 46,
    "start_time": "2022-05-07T16:23:36.495Z"
   },
   {
    "duration": 16,
    "start_time": "2022-05-07T16:23:36.686Z"
   },
   {
    "duration": 4,
    "start_time": "2022-05-07T16:23:37.850Z"
   },
   {
    "duration": 15,
    "start_time": "2022-05-07T16:23:38.231Z"
   },
   {
    "duration": 5,
    "start_time": "2022-05-07T16:23:38.823Z"
   },
   {
    "duration": 16,
    "start_time": "2022-05-07T16:23:39.440Z"
   },
   {
    "duration": 12,
    "start_time": "2022-05-07T16:23:40.317Z"
   },
   {
    "duration": 4,
    "start_time": "2022-05-07T16:23:41.361Z"
   },
   {
    "duration": 4,
    "start_time": "2022-05-07T16:23:41.942Z"
   },
   {
    "duration": 4,
    "start_time": "2022-05-07T16:23:42.233Z"
   },
   {
    "duration": 5,
    "start_time": "2022-05-07T16:23:42.423Z"
   },
   {
    "duration": 5,
    "start_time": "2022-05-07T16:23:42.572Z"
   },
   {
    "duration": 13,
    "start_time": "2022-05-07T16:23:42.805Z"
   },
   {
    "duration": 8,
    "start_time": "2022-05-07T16:23:43.183Z"
   },
   {
    "duration": 10,
    "start_time": "2022-05-07T16:23:43.401Z"
   },
   {
    "duration": 5,
    "start_time": "2022-05-07T16:23:44.685Z"
   },
   {
    "duration": 5,
    "start_time": "2022-05-07T16:23:45.089Z"
   },
   {
    "duration": 5,
    "start_time": "2022-05-07T16:23:45.762Z"
   },
   {
    "duration": 7,
    "start_time": "2022-05-07T16:23:46.046Z"
   },
   {
    "duration": 8,
    "start_time": "2022-05-07T16:23:51.898Z"
   },
   {
    "duration": 15,
    "start_time": "2022-05-07T17:08:00.763Z"
   },
   {
    "duration": 205,
    "start_time": "2022-05-07T17:08:02.498Z"
   },
   {
    "duration": 1158,
    "start_time": "2022-05-07T17:24:51.713Z"
   },
   {
    "duration": 12,
    "start_time": "2022-05-07T17:29:13.612Z"
   },
   {
    "duration": 8,
    "start_time": "2022-05-07T17:33:10.350Z"
   },
   {
    "duration": 6,
    "start_time": "2022-05-07T17:33:57.804Z"
   },
   {
    "duration": 7,
    "start_time": "2022-05-07T17:34:17.525Z"
   },
   {
    "duration": 5,
    "start_time": "2022-05-07T17:36:33.474Z"
   },
   {
    "duration": 9,
    "start_time": "2022-05-07T17:36:34.021Z"
   },
   {
    "duration": 11,
    "start_time": "2022-05-07T17:37:47.920Z"
   },
   {
    "duration": 9,
    "start_time": "2022-05-07T17:38:06.624Z"
   },
   {
    "duration": 12,
    "start_time": "2022-05-07T17:38:29.159Z"
   },
   {
    "duration": 11,
    "start_time": "2022-05-07T17:40:24.115Z"
   },
   {
    "duration": 9,
    "start_time": "2022-05-07T17:40:51.531Z"
   },
   {
    "duration": 5,
    "start_time": "2022-05-07T17:40:53.139Z"
   },
   {
    "duration": 6,
    "start_time": "2022-05-07T17:40:54.021Z"
   },
   {
    "duration": 22,
    "start_time": "2022-05-07T17:40:54.407Z"
   },
   {
    "duration": 8,
    "start_time": "2022-05-07T17:40:55.024Z"
   },
   {
    "duration": 13,
    "start_time": "2022-05-07T17:40:55.631Z"
   },
   {
    "duration": 6,
    "start_time": "2022-05-07T17:40:55.862Z"
   },
   {
    "duration": 13,
    "start_time": "2022-05-07T17:40:56.025Z"
   },
   {
    "duration": 393,
    "start_time": "2022-05-07T17:40:56.255Z"
   },
   {
    "duration": 172,
    "start_time": "2022-05-07T17:40:56.975Z"
   },
   {
    "duration": 22,
    "start_time": "2022-05-07T17:40:57.508Z"
   },
   {
    "duration": 6,
    "start_time": "2022-05-07T17:40:58.039Z"
   },
   {
    "duration": 15,
    "start_time": "2022-05-07T17:40:58.252Z"
   },
   {
    "duration": 9,
    "start_time": "2022-05-07T17:40:58.393Z"
   },
   {
    "duration": 61,
    "start_time": "2022-05-07T17:40:58.594Z"
   },
   {
    "duration": 7,
    "start_time": "2022-05-07T17:40:58.984Z"
   },
   {
    "duration": 164,
    "start_time": "2022-05-07T17:40:59.674Z"
   },
   {
    "duration": 6,
    "start_time": "2022-05-07T17:41:00.074Z"
   },
   {
    "duration": 159,
    "start_time": "2022-05-07T17:41:00.238Z"
   },
   {
    "duration": 7,
    "start_time": "2022-05-07T17:41:00.621Z"
   },
   {
    "duration": 159,
    "start_time": "2022-05-07T17:41:00.787Z"
   },
   {
    "duration": 8,
    "start_time": "2022-05-07T17:41:01.152Z"
   },
   {
    "duration": 141,
    "start_time": "2022-05-07T17:41:01.424Z"
   },
   {
    "duration": 10,
    "start_time": "2022-05-07T17:41:01.723Z"
   },
   {
    "duration": 170,
    "start_time": "2022-05-07T17:41:01.894Z"
   },
   {
    "duration": 8,
    "start_time": "2022-05-07T17:41:02.274Z"
   },
   {
    "duration": 173,
    "start_time": "2022-05-07T17:41:02.465Z"
   },
   {
    "duration": 6,
    "start_time": "2022-05-07T17:41:02.830Z"
   },
   {
    "duration": 169,
    "start_time": "2022-05-07T17:41:03.004Z"
   },
   {
    "duration": 7,
    "start_time": "2022-05-07T17:41:03.379Z"
   },
   {
    "duration": 280,
    "start_time": "2022-05-07T17:41:03.580Z"
   },
   {
    "duration": 8,
    "start_time": "2022-05-07T17:41:03.940Z"
   },
   {
    "duration": 159,
    "start_time": "2022-05-07T17:41:04.127Z"
   },
   {
    "duration": 7,
    "start_time": "2022-05-07T17:41:04.498Z"
   },
   {
    "duration": 167,
    "start_time": "2022-05-07T17:41:04.689Z"
   },
   {
    "duration": 11,
    "start_time": "2022-05-07T17:41:05.060Z"
   },
   {
    "duration": 155,
    "start_time": "2022-05-07T17:41:05.218Z"
   },
   {
    "duration": 15,
    "start_time": "2022-05-07T17:41:05.615Z"
   },
   {
    "duration": 167,
    "start_time": "2022-05-07T17:41:05.786Z"
   },
   {
    "duration": 7,
    "start_time": "2022-05-07T17:41:06.150Z"
   },
   {
    "duration": 171,
    "start_time": "2022-05-07T17:41:06.346Z"
   },
   {
    "duration": 10,
    "start_time": "2022-05-07T17:41:06.734Z"
   },
   {
    "duration": 176,
    "start_time": "2022-05-07T17:41:06.901Z"
   },
   {
    "duration": 9,
    "start_time": "2022-05-07T17:41:07.372Z"
   },
   {
    "duration": 166,
    "start_time": "2022-05-07T17:41:07.587Z"
   },
   {
    "duration": 10,
    "start_time": "2022-05-07T17:41:07.877Z"
   },
   {
    "duration": 12,
    "start_time": "2022-05-07T17:41:08.030Z"
   },
   {
    "duration": 5,
    "start_time": "2022-05-07T17:41:08.424Z"
   },
   {
    "duration": 5,
    "start_time": "2022-05-07T17:41:08.809Z"
   },
   {
    "duration": 35,
    "start_time": "2022-05-07T17:41:10.544Z"
   },
   {
    "duration": 13,
    "start_time": "2022-05-07T17:41:10.969Z"
   },
   {
    "duration": 6,
    "start_time": "2022-05-07T17:41:11.249Z"
   },
   {
    "duration": 18,
    "start_time": "2022-05-07T17:41:11.712Z"
   },
   {
    "duration": 12,
    "start_time": "2022-05-07T17:41:12.164Z"
   },
   {
    "duration": 4,
    "start_time": "2022-05-07T17:41:12.622Z"
   },
   {
    "duration": 20,
    "start_time": "2022-05-07T17:41:13.863Z"
   },
   {
    "duration": 186,
    "start_time": "2022-05-07T17:41:14.564Z"
   },
   {
    "duration": 210,
    "start_time": "2022-05-07T17:41:14.906Z"
   },
   {
    "duration": 9,
    "start_time": "2022-05-07T17:41:15.439Z"
   },
   {
    "duration": 11,
    "start_time": "2022-05-07T17:41:15.716Z"
   },
   {
    "duration": 9,
    "start_time": "2022-05-07T17:41:15.980Z"
   },
   {
    "duration": 16,
    "start_time": "2022-05-07T17:41:16.195Z"
   },
   {
    "duration": 20,
    "start_time": "2022-05-07T17:41:17.435Z"
   },
   {
    "duration": 5,
    "start_time": "2022-05-07T17:41:18.060Z"
   },
   {
    "duration": 161,
    "start_time": "2022-05-07T17:41:18.482Z"
   },
   {
    "duration": 5,
    "start_time": "2022-05-07T17:41:18.903Z"
   },
   {
    "duration": 158,
    "start_time": "2022-05-07T17:41:20.008Z"
   },
   {
    "duration": 7,
    "start_time": "2022-05-07T17:41:20.225Z"
   },
   {
    "duration": 8,
    "start_time": "2022-05-07T17:41:23.914Z"
   },
   {
    "duration": 164,
    "start_time": "2022-05-07T17:41:24.314Z"
   },
   {
    "duration": 6,
    "start_time": "2022-05-07T17:41:24.697Z"
   },
   {
    "duration": 163,
    "start_time": "2022-05-07T17:41:25.297Z"
   },
   {
    "duration": 6,
    "start_time": "2022-05-07T17:41:25.922Z"
   },
   {
    "duration": 6,
    "start_time": "2022-05-07T17:41:42.154Z"
   },
   {
    "duration": 150,
    "start_time": "2022-05-07T17:41:42.340Z"
   },
   {
    "duration": 7,
    "start_time": "2022-05-07T17:41:42.538Z"
   },
   {
    "duration": 7,
    "start_time": "2022-05-07T17:41:42.938Z"
   },
   {
    "duration": 15,
    "start_time": "2022-05-07T17:41:43.889Z"
   },
   {
    "duration": 237,
    "start_time": "2022-05-07T17:41:44.281Z"
   },
   {
    "duration": 20,
    "start_time": "2022-05-07T17:41:45.050Z"
   },
   {
    "duration": 217,
    "start_time": "2022-05-07T17:41:45.507Z"
   },
   {
    "duration": 18,
    "start_time": "2022-05-07T17:41:46.677Z"
   },
   {
    "duration": 200,
    "start_time": "2022-05-07T17:41:46.872Z"
   },
   {
    "duration": 13,
    "start_time": "2022-05-07T17:41:47.883Z"
   },
   {
    "duration": 195,
    "start_time": "2022-05-07T17:41:48.063Z"
   },
   {
    "duration": 24,
    "start_time": "2022-05-07T17:41:50.507Z"
   },
   {
    "duration": 14,
    "start_time": "2022-05-07T17:41:50.971Z"
   },
   {
    "duration": 20,
    "start_time": "2022-05-07T17:41:51.819Z"
   },
   {
    "duration": 10,
    "start_time": "2022-05-07T17:41:52.227Z"
   },
   {
    "duration": 16,
    "start_time": "2022-05-07T17:41:53.275Z"
   },
   {
    "duration": 11,
    "start_time": "2022-05-07T17:41:53.482Z"
   },
   {
    "duration": 7,
    "start_time": "2022-05-07T17:41:55.003Z"
   },
   {
    "duration": 21,
    "start_time": "2022-05-07T17:41:55.788Z"
   },
   {
    "duration": 22,
    "start_time": "2022-05-07T17:41:57.515Z"
   },
   {
    "duration": 5,
    "start_time": "2022-05-07T17:41:57.747Z"
   },
   {
    "duration": 9,
    "start_time": "2022-05-07T17:41:58.092Z"
   },
   {
    "duration": 17,
    "start_time": "2022-05-07T17:41:58.562Z"
   },
   {
    "duration": 16,
    "start_time": "2022-05-07T17:41:58.828Z"
   },
   {
    "duration": 17,
    "start_time": "2022-05-07T17:41:59.344Z"
   },
   {
    "duration": 11,
    "start_time": "2022-05-07T17:41:59.591Z"
   },
   {
    "duration": 23,
    "start_time": "2022-05-07T17:42:00.403Z"
   },
   {
    "duration": 18,
    "start_time": "2022-05-07T17:42:01.467Z"
   },
   {
    "duration": 160,
    "start_time": "2022-05-07T17:42:02.059Z"
   },
   {
    "duration": 23,
    "start_time": "2022-05-07T17:42:02.500Z"
   },
   {
    "duration": 11,
    "start_time": "2022-05-07T17:42:04.763Z"
   },
   {
    "duration": 13,
    "start_time": "2022-05-07T17:42:07.899Z"
   },
   {
    "duration": 1219,
    "start_time": "2022-05-07T17:42:33.100Z"
   },
   {
    "duration": 40,
    "start_time": "2022-05-07T17:42:34.321Z"
   },
   {
    "duration": 17,
    "start_time": "2022-05-07T17:42:34.362Z"
   },
   {
    "duration": 3,
    "start_time": "2022-05-07T17:42:34.381Z"
   },
   {
    "duration": 48,
    "start_time": "2022-05-07T17:42:34.386Z"
   },
   {
    "duration": 6,
    "start_time": "2022-05-07T17:42:34.436Z"
   },
   {
    "duration": 27,
    "start_time": "2022-05-07T17:42:34.444Z"
   },
   {
    "duration": 11,
    "start_time": "2022-05-07T17:42:34.672Z"
   },
   {
    "duration": 5,
    "start_time": "2022-05-07T17:42:34.838Z"
   },
   {
    "duration": 6,
    "start_time": "2022-05-07T17:42:35.003Z"
   },
   {
    "duration": 4,
    "start_time": "2022-05-07T17:42:35.102Z"
   },
   {
    "duration": 7,
    "start_time": "2022-05-07T17:42:35.204Z"
   },
   {
    "duration": 4,
    "start_time": "2022-05-07T17:42:35.301Z"
   },
   {
    "duration": 10,
    "start_time": "2022-05-07T17:42:35.404Z"
   },
   {
    "duration": 8,
    "start_time": "2022-05-07T17:42:35.584Z"
   },
   {
    "duration": 8,
    "start_time": "2022-05-07T17:42:35.689Z"
   },
   {
    "duration": 5,
    "start_time": "2022-05-07T17:42:35.860Z"
   },
   {
    "duration": 6,
    "start_time": "2022-05-07T17:42:36.025Z"
   },
   {
    "duration": 6,
    "start_time": "2022-05-07T17:42:36.188Z"
   },
   {
    "duration": 9,
    "start_time": "2022-05-07T17:42:36.286Z"
   },
   {
    "duration": 9,
    "start_time": "2022-05-07T17:42:36.641Z"
   },
   {
    "duration": 8,
    "start_time": "2022-05-07T17:42:36.868Z"
   },
   {
    "duration": 14,
    "start_time": "2022-05-07T17:42:37.038Z"
   },
   {
    "duration": 8,
    "start_time": "2022-05-07T17:42:37.330Z"
   },
   {
    "duration": 9,
    "start_time": "2022-05-07T17:42:37.496Z"
   },
   {
    "duration": 7,
    "start_time": "2022-05-07T17:42:37.662Z"
   },
   {
    "duration": 6,
    "start_time": "2022-05-07T17:42:37.825Z"
   },
   {
    "duration": 15,
    "start_time": "2022-05-07T17:42:37.923Z"
   },
   {
    "duration": 10,
    "start_time": "2022-05-07T17:42:38.022Z"
   },
   {
    "duration": 15,
    "start_time": "2022-05-07T17:42:38.250Z"
   },
   {
    "duration": 5,
    "start_time": "2022-05-07T17:42:38.348Z"
   },
   {
    "duration": 12,
    "start_time": "2022-05-07T17:42:38.448Z"
   },
   {
    "duration": 380,
    "start_time": "2022-05-07T17:42:38.549Z"
   },
   {
    "duration": 199,
    "start_time": "2022-05-07T17:42:40.319Z"
   },
   {
    "duration": 20,
    "start_time": "2022-05-07T17:42:40.943Z"
   },
   {
    "duration": 6,
    "start_time": "2022-05-07T17:42:41.567Z"
   },
   {
    "duration": 12,
    "start_time": "2022-05-07T17:42:41.773Z"
   },
   {
    "duration": 8,
    "start_time": "2022-05-07T17:42:41.984Z"
   },
   {
    "duration": 42,
    "start_time": "2022-05-07T17:42:42.224Z"
   },
   {
    "duration": 6,
    "start_time": "2022-05-07T17:42:42.608Z"
   },
   {
    "duration": 155,
    "start_time": "2022-05-07T17:42:43.393Z"
   },
   {
    "duration": 6,
    "start_time": "2022-05-07T17:42:43.784Z"
   },
   {
    "duration": 170,
    "start_time": "2022-05-07T17:42:43.988Z"
   },
   {
    "duration": 7,
    "start_time": "2022-05-07T17:42:44.397Z"
   },
   {
    "duration": 157,
    "start_time": "2022-05-07T17:42:44.593Z"
   },
   {
    "duration": 7,
    "start_time": "2022-05-07T17:42:44.982Z"
   },
   {
    "duration": 152,
    "start_time": "2022-05-07T17:42:45.176Z"
   },
   {
    "duration": 7,
    "start_time": "2022-05-07T17:42:45.572Z"
   },
   {
    "duration": 151,
    "start_time": "2022-05-07T17:42:45.761Z"
   },
   {
    "duration": 7,
    "start_time": "2022-05-07T17:42:46.245Z"
   },
   {
    "duration": 156,
    "start_time": "2022-05-07T17:42:46.384Z"
   },
   {
    "duration": 6,
    "start_time": "2022-05-07T17:42:46.748Z"
   },
   {
    "duration": 153,
    "start_time": "2022-05-07T17:42:46.943Z"
   },
   {
    "duration": 7,
    "start_time": "2022-05-07T17:42:47.343Z"
   },
   {
    "duration": 211,
    "start_time": "2022-05-07T17:42:47.552Z"
   },
   {
    "duration": 6,
    "start_time": "2022-05-07T17:42:47.972Z"
   },
   {
    "duration": 160,
    "start_time": "2022-05-07T17:42:48.168Z"
   },
   {
    "duration": 6,
    "start_time": "2022-05-07T17:42:48.566Z"
   },
   {
    "duration": 150,
    "start_time": "2022-05-07T17:42:48.768Z"
   },
   {
    "duration": 6,
    "start_time": "2022-05-07T17:42:49.179Z"
   },
   {
    "duration": 153,
    "start_time": "2022-05-07T17:42:49.377Z"
   },
   {
    "duration": 7,
    "start_time": "2022-05-07T17:42:49.794Z"
   },
   {
    "duration": 168,
    "start_time": "2022-05-07T17:42:49.995Z"
   },
   {
    "duration": 9,
    "start_time": "2022-05-07T17:42:50.426Z"
   },
   {
    "duration": 171,
    "start_time": "2022-05-07T17:42:50.619Z"
   },
   {
    "duration": 9,
    "start_time": "2022-05-07T17:42:51.043Z"
   },
   {
    "duration": 176,
    "start_time": "2022-05-07T17:42:51.224Z"
   },
   {
    "duration": 9,
    "start_time": "2022-05-07T17:42:51.632Z"
   },
   {
    "duration": 172,
    "start_time": "2022-05-07T17:42:51.835Z"
   },
   {
    "duration": 9,
    "start_time": "2022-05-07T17:42:52.256Z"
   },
   {
    "duration": 9,
    "start_time": "2022-05-07T17:42:52.472Z"
   },
   {
    "duration": 4,
    "start_time": "2022-05-07T17:42:52.888Z"
   },
   {
    "duration": 8,
    "start_time": "2022-05-07T17:42:53.303Z"
   },
   {
    "duration": 46,
    "start_time": "2022-05-07T17:42:55.011Z"
   },
   {
    "duration": 25,
    "start_time": "2022-05-07T17:42:55.212Z"
   },
   {
    "duration": 6,
    "start_time": "2022-05-07T17:42:55.417Z"
   },
   {
    "duration": 11,
    "start_time": "2022-05-07T17:42:55.844Z"
   },
   {
    "duration": 11,
    "start_time": "2022-05-07T17:42:56.255Z"
   },
   {
    "duration": 6,
    "start_time": "2022-05-07T17:42:56.671Z"
   },
   {
    "duration": 28,
    "start_time": "2022-05-07T17:42:57.560Z"
   },
   {
    "duration": 208,
    "start_time": "2022-05-07T17:42:57.983Z"
   },
   {
    "duration": 220,
    "start_time": "2022-05-07T17:42:58.194Z"
   },
   {
    "duration": 10,
    "start_time": "2022-05-07T17:42:58.654Z"
   },
   {
    "duration": 9,
    "start_time": "2022-05-07T17:42:58.896Z"
   },
   {
    "duration": 12,
    "start_time": "2022-05-07T17:42:59.103Z"
   },
   {
    "duration": 17,
    "start_time": "2022-05-07T17:42:59.312Z"
   },
   {
    "duration": 27,
    "start_time": "2022-05-07T17:43:00.608Z"
   },
   {
    "duration": 7,
    "start_time": "2022-05-07T17:43:01.264Z"
   },
   {
    "duration": 191,
    "start_time": "2022-05-07T17:43:01.688Z"
   },
   {
    "duration": 7,
    "start_time": "2022-05-07T17:43:02.121Z"
   },
   {
    "duration": 170,
    "start_time": "2022-05-07T17:43:02.801Z"
   },
   {
    "duration": 7,
    "start_time": "2022-05-07T17:43:03.016Z"
   },
   {
    "duration": 7,
    "start_time": "2022-05-07T17:43:04.103Z"
   },
   {
    "duration": 172,
    "start_time": "2022-05-07T17:43:04.521Z"
   },
   {
    "duration": 7,
    "start_time": "2022-05-07T17:43:05.004Z"
   },
   {
    "duration": 256,
    "start_time": "2022-05-07T17:43:05.648Z"
   },
   {
    "duration": 6,
    "start_time": "2022-05-07T17:43:06.056Z"
   },
   {
    "duration": 6,
    "start_time": "2022-05-07T17:43:06.938Z"
   },
   {
    "duration": 188,
    "start_time": "2022-05-07T17:43:07.144Z"
   },
   {
    "duration": 5,
    "start_time": "2022-05-07T17:43:07.343Z"
   },
   {
    "duration": 6,
    "start_time": "2022-05-07T17:43:07.840Z"
   },
   {
    "duration": 24,
    "start_time": "2022-05-07T17:43:08.921Z"
   },
   {
    "duration": 266,
    "start_time": "2022-05-07T17:43:09.353Z"
   },
   {
    "duration": 20,
    "start_time": "2022-05-07T17:43:10.233Z"
   },
   {
    "duration": 318,
    "start_time": "2022-05-07T17:43:10.673Z"
   },
   {
    "duration": 23,
    "start_time": "2022-05-07T17:43:11.544Z"
   },
   {
    "duration": 314,
    "start_time": "2022-05-07T17:43:11.977Z"
   },
   {
    "duration": 22,
    "start_time": "2022-05-07T17:43:12.857Z"
   },
   {
    "duration": 215,
    "start_time": "2022-05-07T17:43:13.093Z"
   },
   {
    "duration": 21,
    "start_time": "2022-05-07T17:43:15.313Z"
   },
   {
    "duration": 16,
    "start_time": "2022-05-07T17:43:15.761Z"
   },
   {
    "duration": 23,
    "start_time": "2022-05-07T17:43:16.666Z"
   },
   {
    "duration": 20,
    "start_time": "2022-05-07T17:43:17.112Z"
   },
   {
    "duration": 22,
    "start_time": "2022-05-07T17:43:17.985Z"
   },
   {
    "duration": 11,
    "start_time": "2022-05-07T17:43:18.274Z"
   },
   {
    "duration": 7,
    "start_time": "2022-05-07T17:43:18.929Z"
   },
   {
    "duration": 23,
    "start_time": "2022-05-07T17:43:19.164Z"
   },
   {
    "duration": 22,
    "start_time": "2022-05-07T17:43:20.280Z"
   },
   {
    "duration": 6,
    "start_time": "2022-05-07T17:43:20.739Z"
   },
   {
    "duration": 15,
    "start_time": "2022-05-07T17:43:21.002Z"
   },
   {
    "duration": 25,
    "start_time": "2022-05-07T17:43:21.672Z"
   },
   {
    "duration": 17,
    "start_time": "2022-05-07T17:43:21.897Z"
   },
   {
    "duration": 23,
    "start_time": "2022-05-07T17:43:22.329Z"
   },
   {
    "duration": 16,
    "start_time": "2022-05-07T17:43:22.539Z"
   },
   {
    "duration": 26,
    "start_time": "2022-05-07T17:43:23.214Z"
   },
   {
    "duration": 20,
    "start_time": "2022-05-07T17:43:24.353Z"
   },
   {
    "duration": 19,
    "start_time": "2022-05-07T17:43:25.129Z"
   },
   {
    "duration": 29,
    "start_time": "2022-05-07T17:43:26.025Z"
   },
   {
    "duration": 13,
    "start_time": "2022-05-07T17:43:30.339Z"
   },
   {
    "duration": 16,
    "start_time": "2022-05-07T17:43:33.324Z"
   },
   {
    "duration": 1214,
    "start_time": "2022-05-08T17:33:29.125Z"
   },
   {
    "duration": 42,
    "start_time": "2022-05-08T17:33:30.341Z"
   },
   {
    "duration": 13,
    "start_time": "2022-05-08T17:33:30.385Z"
   },
   {
    "duration": 3,
    "start_time": "2022-05-08T17:33:30.400Z"
   },
   {
    "duration": 27,
    "start_time": "2022-05-08T17:33:30.405Z"
   },
   {
    "duration": 6,
    "start_time": "2022-05-08T17:33:30.433Z"
   },
   {
    "duration": 22,
    "start_time": "2022-05-08T17:33:30.441Z"
   },
   {
    "duration": 20,
    "start_time": "2022-05-08T17:33:30.465Z"
   },
   {
    "duration": 16,
    "start_time": "2022-05-08T17:33:30.487Z"
   },
   {
    "duration": 11,
    "start_time": "2022-05-08T17:33:30.506Z"
   },
   {
    "duration": 15,
    "start_time": "2022-05-08T17:33:30.519Z"
   },
   {
    "duration": 6,
    "start_time": "2022-05-08T17:33:30.536Z"
   },
   {
    "duration": 12,
    "start_time": "2022-05-08T17:33:30.543Z"
   },
   {
    "duration": 24,
    "start_time": "2022-05-08T17:33:30.557Z"
   },
   {
    "duration": 17,
    "start_time": "2022-05-08T17:33:30.582Z"
   },
   {
    "duration": 17,
    "start_time": "2022-05-08T17:33:30.601Z"
   },
   {
    "duration": 16,
    "start_time": "2022-05-08T17:33:30.620Z"
   },
   {
    "duration": 10,
    "start_time": "2022-05-08T17:33:30.637Z"
   },
   {
    "duration": 24,
    "start_time": "2022-05-08T17:33:30.649Z"
   },
   {
    "duration": 20,
    "start_time": "2022-05-08T17:33:30.676Z"
   },
   {
    "duration": 12,
    "start_time": "2022-05-08T17:33:30.698Z"
   },
   {
    "duration": 15,
    "start_time": "2022-05-08T17:33:30.712Z"
   },
   {
    "duration": 16,
    "start_time": "2022-05-08T17:33:30.729Z"
   },
   {
    "duration": 9,
    "start_time": "2022-05-08T17:33:30.747Z"
   },
   {
    "duration": 17,
    "start_time": "2022-05-08T17:33:30.758Z"
   },
   {
    "duration": 15,
    "start_time": "2022-05-08T17:33:30.776Z"
   },
   {
    "duration": 9,
    "start_time": "2022-05-08T17:33:30.793Z"
   },
   {
    "duration": 16,
    "start_time": "2022-05-08T17:33:30.807Z"
   },
   {
    "duration": 8,
    "start_time": "2022-05-08T17:33:30.824Z"
   },
   {
    "duration": 10,
    "start_time": "2022-05-08T17:33:30.834Z"
   },
   {
    "duration": 30,
    "start_time": "2022-05-08T17:33:30.846Z"
   },
   {
    "duration": 14,
    "start_time": "2022-05-08T17:33:30.878Z"
   },
   {
    "duration": 337,
    "start_time": "2022-05-08T17:33:30.894Z"
   },
   {
    "duration": 150,
    "start_time": "2022-05-08T17:33:31.233Z"
   },
   {
    "duration": 19,
    "start_time": "2022-05-08T17:33:31.384Z"
   },
   {
    "duration": 5,
    "start_time": "2022-05-08T17:33:31.405Z"
   },
   {
    "duration": 13,
    "start_time": "2022-05-08T17:33:31.412Z"
   },
   {
    "duration": 6,
    "start_time": "2022-05-08T17:33:31.427Z"
   },
   {
    "duration": 55,
    "start_time": "2022-05-08T17:33:31.434Z"
   },
   {
    "duration": 4,
    "start_time": "2022-05-08T17:33:31.491Z"
   },
   {
    "duration": 138,
    "start_time": "2022-05-08T17:33:31.496Z"
   },
   {
    "duration": 6,
    "start_time": "2022-05-08T17:33:31.636Z"
   },
   {
    "duration": 154,
    "start_time": "2022-05-08T17:33:31.644Z"
   },
   {
    "duration": 7,
    "start_time": "2022-05-08T17:33:31.800Z"
   },
   {
    "duration": 143,
    "start_time": "2022-05-08T17:33:31.809Z"
   },
   {
    "duration": 6,
    "start_time": "2022-05-08T17:33:31.953Z"
   },
   {
    "duration": 138,
    "start_time": "2022-05-08T17:33:31.960Z"
   },
   {
    "duration": 6,
    "start_time": "2022-05-08T17:33:32.099Z"
   },
   {
    "duration": 145,
    "start_time": "2022-05-08T17:33:32.107Z"
   },
   {
    "duration": 6,
    "start_time": "2022-05-08T17:33:32.253Z"
   },
   {
    "duration": 143,
    "start_time": "2022-05-08T17:33:32.261Z"
   },
   {
    "duration": 6,
    "start_time": "2022-05-08T17:33:32.405Z"
   },
   {
    "duration": 212,
    "start_time": "2022-05-08T17:33:32.413Z"
   },
   {
    "duration": 6,
    "start_time": "2022-05-08T17:33:32.627Z"
   },
   {
    "duration": 126,
    "start_time": "2022-05-08T17:33:32.635Z"
   },
   {
    "duration": 14,
    "start_time": "2022-05-08T17:33:32.763Z"
   },
   {
    "duration": 136,
    "start_time": "2022-05-08T17:33:32.779Z"
   },
   {
    "duration": 6,
    "start_time": "2022-05-08T17:33:32.917Z"
   },
   {
    "duration": 133,
    "start_time": "2022-05-08T17:33:32.925Z"
   },
   {
    "duration": 16,
    "start_time": "2022-05-08T17:33:33.059Z"
   },
   {
    "duration": 128,
    "start_time": "2022-05-08T17:33:33.077Z"
   },
   {
    "duration": 6,
    "start_time": "2022-05-08T17:33:33.207Z"
   },
   {
    "duration": 142,
    "start_time": "2022-05-08T17:33:33.215Z"
   },
   {
    "duration": 14,
    "start_time": "2022-05-08T17:33:33.359Z"
   },
   {
    "duration": 142,
    "start_time": "2022-05-08T17:33:33.375Z"
   },
   {
    "duration": 6,
    "start_time": "2022-05-08T17:33:33.519Z"
   },
   {
    "duration": 135,
    "start_time": "2022-05-08T17:33:33.527Z"
   },
   {
    "duration": 14,
    "start_time": "2022-05-08T17:33:33.664Z"
   },
   {
    "duration": 121,
    "start_time": "2022-05-08T17:33:33.680Z"
   },
   {
    "duration": 7,
    "start_time": "2022-05-08T17:33:33.804Z"
   },
   {
    "duration": 10,
    "start_time": "2022-05-08T17:33:33.812Z"
   },
   {
    "duration": 5,
    "start_time": "2022-05-08T17:33:33.824Z"
   },
   {
    "duration": 7,
    "start_time": "2022-05-08T17:33:33.830Z"
   },
   {
    "duration": 49,
    "start_time": "2022-05-08T17:33:33.838Z"
   },
   {
    "duration": 10,
    "start_time": "2022-05-08T17:33:33.889Z"
   },
   {
    "duration": 6,
    "start_time": "2022-05-08T17:33:33.901Z"
   },
   {
    "duration": 11,
    "start_time": "2022-05-08T17:33:33.908Z"
   },
   {
    "duration": 12,
    "start_time": "2022-05-08T17:33:33.921Z"
   },
   {
    "duration": 8,
    "start_time": "2022-05-08T17:33:33.934Z"
   },
   {
    "duration": 41,
    "start_time": "2022-05-08T17:33:33.943Z"
   },
   {
    "duration": 164,
    "start_time": "2022-05-08T17:33:33.986Z"
   },
   {
    "duration": 172,
    "start_time": "2022-05-08T17:33:34.156Z"
   },
   {
    "duration": 8,
    "start_time": "2022-05-08T17:33:34.329Z"
   },
   {
    "duration": 10,
    "start_time": "2022-05-08T17:33:34.338Z"
   },
   {
    "duration": 10,
    "start_time": "2022-05-08T17:33:34.349Z"
   },
   {
    "duration": 21,
    "start_time": "2022-05-08T17:33:34.360Z"
   },
   {
    "duration": 21,
    "start_time": "2022-05-08T17:33:34.382Z"
   },
   {
    "duration": 5,
    "start_time": "2022-05-08T17:33:34.404Z"
   },
   {
    "duration": 149,
    "start_time": "2022-05-08T17:33:34.410Z"
   },
   {
    "duration": 12,
    "start_time": "2022-05-08T17:33:34.561Z"
   },
   {
    "duration": 218,
    "start_time": "2022-05-08T17:33:34.574Z"
   },
   {
    "duration": 5,
    "start_time": "2022-05-08T17:33:34.793Z"
   },
   {
    "duration": 8,
    "start_time": "2022-05-08T17:33:34.800Z"
   },
   {
    "duration": 133,
    "start_time": "2022-05-08T17:33:34.809Z"
   },
   {
    "duration": 5,
    "start_time": "2022-05-08T17:33:34.944Z"
   },
   {
    "duration": 139,
    "start_time": "2022-05-08T17:33:34.950Z"
   },
   {
    "duration": 5,
    "start_time": "2022-05-08T17:33:35.090Z"
   },
   {
    "duration": 9,
    "start_time": "2022-05-08T17:33:35.096Z"
   },
   {
    "duration": 128,
    "start_time": "2022-05-08T17:33:35.107Z"
   },
   {
    "duration": 5,
    "start_time": "2022-05-08T17:33:35.237Z"
   },
   {
    "duration": 14,
    "start_time": "2022-05-08T17:33:35.244Z"
   },
   {
    "duration": 21,
    "start_time": "2022-05-08T17:33:35.260Z"
   },
   {
    "duration": 185,
    "start_time": "2022-05-08T17:33:35.283Z"
   },
   {
    "duration": 13,
    "start_time": "2022-05-08T17:33:35.473Z"
   },
   {
    "duration": 183,
    "start_time": "2022-05-08T17:33:35.488Z"
   },
   {
    "duration": 14,
    "start_time": "2022-05-08T17:33:35.673Z"
   },
   {
    "duration": 178,
    "start_time": "2022-05-08T17:33:35.688Z"
   },
   {
    "duration": 14,
    "start_time": "2022-05-08T17:33:35.868Z"
   },
   {
    "duration": 175,
    "start_time": "2022-05-08T17:33:35.883Z"
   },
   {
    "duration": 19,
    "start_time": "2022-05-08T17:33:36.060Z"
   },
   {
    "duration": 12,
    "start_time": "2022-05-08T17:33:36.080Z"
   },
   {
    "duration": 16,
    "start_time": "2022-05-08T17:33:36.093Z"
   },
   {
    "duration": 9,
    "start_time": "2022-05-08T17:33:36.110Z"
   },
   {
    "duration": 14,
    "start_time": "2022-05-08T17:33:36.120Z"
   },
   {
    "duration": 38,
    "start_time": "2022-05-08T17:33:36.136Z"
   },
   {
    "duration": 7,
    "start_time": "2022-05-08T17:33:36.176Z"
   },
   {
    "duration": 15,
    "start_time": "2022-05-08T17:33:36.184Z"
   },
   {
    "duration": 15,
    "start_time": "2022-05-08T17:33:36.200Z"
   },
   {
    "duration": 5,
    "start_time": "2022-05-08T17:33:36.216Z"
   },
   {
    "duration": 10,
    "start_time": "2022-05-08T17:33:36.222Z"
   },
   {
    "duration": 14,
    "start_time": "2022-05-08T17:33:36.234Z"
   },
   {
    "duration": 9,
    "start_time": "2022-05-08T17:33:36.273Z"
   },
   {
    "duration": 19,
    "start_time": "2022-05-08T17:33:36.284Z"
   },
   {
    "duration": 9,
    "start_time": "2022-05-08T17:33:36.304Z"
   },
   {
    "duration": 14,
    "start_time": "2022-05-08T17:33:36.314Z"
   },
   {
    "duration": 14,
    "start_time": "2022-05-08T17:33:36.330Z"
   },
   {
    "duration": 14,
    "start_time": "2022-05-08T17:33:36.374Z"
   },
   {
    "duration": 18,
    "start_time": "2022-05-08T17:33:36.390Z"
   },
   {
    "duration": 8,
    "start_time": "2022-05-08T17:33:36.409Z"
   },
   {
    "duration": 12,
    "start_time": "2022-05-08T17:33:36.419Z"
   },
   {
    "duration": 7,
    "start_time": "2022-05-08T17:40:35.198Z"
   },
   {
    "duration": 22,
    "start_time": "2022-05-08T17:40:43.163Z"
   },
   {
    "duration": 5,
    "start_time": "2022-05-08T17:40:51.458Z"
   },
   {
    "duration": 25,
    "start_time": "2022-05-08T17:42:22.286Z"
   },
   {
    "duration": 19,
    "start_time": "2022-05-08T17:42:36.215Z"
   },
   {
    "duration": 25,
    "start_time": "2022-05-08T17:43:01.943Z"
   },
   {
    "duration": 20,
    "start_time": "2022-05-08T17:46:09.862Z"
   },
   {
    "duration": 5,
    "start_time": "2022-05-08T17:46:16.716Z"
   },
   {
    "duration": 1276,
    "start_time": "2022-05-08T17:56:36.185Z"
   },
   {
    "duration": 32,
    "start_time": "2022-05-08T17:56:37.464Z"
   },
   {
    "duration": 14,
    "start_time": "2022-05-08T17:56:37.498Z"
   },
   {
    "duration": 3,
    "start_time": "2022-05-08T17:56:38.114Z"
   },
   {
    "duration": 12,
    "start_time": "2022-05-08T17:56:38.707Z"
   },
   {
    "duration": 5,
    "start_time": "2022-05-08T17:56:39.601Z"
   },
   {
    "duration": 16,
    "start_time": "2022-05-08T17:56:40.100Z"
   },
   {
    "duration": 9,
    "start_time": "2022-05-08T17:56:41.065Z"
   },
   {
    "duration": 4,
    "start_time": "2022-05-08T17:56:41.539Z"
   },
   {
    "duration": 5,
    "start_time": "2022-05-08T17:56:42.027Z"
   },
   {
    "duration": 4,
    "start_time": "2022-05-08T17:56:42.263Z"
   },
   {
    "duration": 4,
    "start_time": "2022-05-08T17:56:42.512Z"
   },
   {
    "duration": 5,
    "start_time": "2022-05-08T17:56:42.753Z"
   },
   {
    "duration": 9,
    "start_time": "2022-05-08T17:56:43.013Z"
   },
   {
    "duration": 6,
    "start_time": "2022-05-08T17:56:43.881Z"
   },
   {
    "duration": 12,
    "start_time": "2022-05-08T17:56:44.430Z"
   },
   {
    "duration": 8,
    "start_time": "2022-05-08T17:56:46.633Z"
   },
   {
    "duration": 7,
    "start_time": "2022-05-08T17:56:47.932Z"
   },
   {
    "duration": 5,
    "start_time": "2022-05-08T17:56:49.985Z"
   },
   {
    "duration": 9,
    "start_time": "2022-05-08T17:56:51.123Z"
   },
   {
    "duration": 7,
    "start_time": "2022-05-08T17:56:55.148Z"
   },
   {
    "duration": 6,
    "start_time": "2022-05-08T17:56:55.970Z"
   },
   {
    "duration": 6,
    "start_time": "2022-05-08T17:57:00.282Z"
   },
   {
    "duration": 7,
    "start_time": "2022-05-08T17:57:01.090Z"
   },
   {
    "duration": 16,
    "start_time": "2022-05-08T17:57:01.752Z"
   },
   {
    "duration": 8,
    "start_time": "2022-05-08T17:57:05.150Z"
   },
   {
    "duration": 9,
    "start_time": "2022-05-08T17:57:06.448Z"
   },
   {
    "duration": 8,
    "start_time": "2022-05-08T17:57:07.523Z"
   },
   {
    "duration": 6,
    "start_time": "2022-05-08T17:57:08.467Z"
   },
   {
    "duration": 13,
    "start_time": "2022-05-08T17:57:08.763Z"
   },
   {
    "duration": 8,
    "start_time": "2022-05-08T17:57:09.013Z"
   },
   {
    "duration": 10,
    "start_time": "2022-05-08T17:57:09.782Z"
   },
   {
    "duration": 5,
    "start_time": "2022-05-08T17:57:10.004Z"
   },
   {
    "duration": 11,
    "start_time": "2022-05-08T17:57:10.242Z"
   },
   {
    "duration": 337,
    "start_time": "2022-05-08T17:57:10.448Z"
   },
   {
    "duration": 144,
    "start_time": "2022-05-08T17:57:11.544Z"
   },
   {
    "duration": 19,
    "start_time": "2022-05-08T17:57:12.252Z"
   },
   {
    "duration": 10,
    "start_time": "2022-05-08T17:57:12.935Z"
   },
   {
    "duration": 10,
    "start_time": "2022-05-08T17:57:13.178Z"
   },
   {
    "duration": 8,
    "start_time": "2022-05-08T17:57:13.419Z"
   },
   {
    "duration": 48,
    "start_time": "2022-05-08T17:57:13.611Z"
   },
   {
    "duration": 4,
    "start_time": "2022-05-08T17:57:14.111Z"
   },
   {
    "duration": 143,
    "start_time": "2022-05-08T17:57:19.015Z"
   },
   {
    "duration": 13,
    "start_time": "2022-05-08T17:57:19.820Z"
   },
   {
    "duration": 170,
    "start_time": "2022-05-08T17:57:20.336Z"
   },
   {
    "duration": 6,
    "start_time": "2022-05-08T17:57:20.885Z"
   },
   {
    "duration": 153,
    "start_time": "2022-05-08T17:57:21.119Z"
   },
   {
    "duration": 7,
    "start_time": "2022-05-08T17:57:21.604Z"
   },
   {
    "duration": 127,
    "start_time": "2022-05-08T17:57:21.844Z"
   },
   {
    "duration": 6,
    "start_time": "2022-05-08T17:57:22.370Z"
   },
   {
    "duration": 136,
    "start_time": "2022-05-08T17:57:22.577Z"
   },
   {
    "duration": 9,
    "start_time": "2022-05-08T17:57:23.042Z"
   },
   {
    "duration": 138,
    "start_time": "2022-05-08T17:57:23.286Z"
   },
   {
    "duration": 7,
    "start_time": "2022-05-08T17:57:23.752Z"
   },
   {
    "duration": 126,
    "start_time": "2022-05-08T17:57:23.970Z"
   },
   {
    "duration": 8,
    "start_time": "2022-05-08T17:57:24.452Z"
   },
   {
    "duration": 208,
    "start_time": "2022-05-08T17:57:24.702Z"
   },
   {
    "duration": 6,
    "start_time": "2022-05-08T17:57:25.198Z"
   },
   {
    "duration": 152,
    "start_time": "2022-05-08T17:57:25.493Z"
   },
   {
    "duration": 7,
    "start_time": "2022-05-08T17:57:26.014Z"
   },
   {
    "duration": 147,
    "start_time": "2022-05-08T17:57:26.259Z"
   },
   {
    "duration": 7,
    "start_time": "2022-05-08T17:57:26.773Z"
   },
   {
    "duration": 132,
    "start_time": "2022-05-08T17:57:27.071Z"
   },
   {
    "duration": 6,
    "start_time": "2022-05-08T17:57:27.620Z"
   },
   {
    "duration": 154,
    "start_time": "2022-05-08T17:57:27.903Z"
   },
   {
    "duration": 9,
    "start_time": "2022-05-08T17:57:28.448Z"
   },
   {
    "duration": 201,
    "start_time": "2022-05-08T17:57:28.740Z"
   },
   {
    "duration": 8,
    "start_time": "2022-05-08T17:57:29.199Z"
   },
   {
    "duration": 143,
    "start_time": "2022-05-08T17:57:29.440Z"
   },
   {
    "duration": 6,
    "start_time": "2022-05-08T17:57:29.989Z"
   },
   {
    "duration": 148,
    "start_time": "2022-05-08T17:57:30.519Z"
   },
   {
    "duration": 7,
    "start_time": "2022-05-08T17:57:31.083Z"
   },
   {
    "duration": 13,
    "start_time": "2022-05-08T17:57:31.414Z"
   },
   {
    "duration": 5,
    "start_time": "2022-05-08T17:57:32.318Z"
   },
   {
    "duration": 5,
    "start_time": "2022-05-08T17:57:33.012Z"
   },
   {
    "duration": 27,
    "start_time": "2022-05-08T17:57:35.980Z"
   },
   {
    "duration": 15,
    "start_time": "2022-05-08T17:57:36.422Z"
   },
   {
    "duration": 4,
    "start_time": "2022-05-08T17:57:36.709Z"
   },
   {
    "duration": 9,
    "start_time": "2022-05-08T17:57:37.541Z"
   },
   {
    "duration": 9,
    "start_time": "2022-05-08T17:57:38.102Z"
   },
   {
    "duration": 5,
    "start_time": "2022-05-08T17:57:38.747Z"
   },
   {
    "duration": 27,
    "start_time": "2022-05-08T17:57:40.422Z"
   },
   {
    "duration": 223,
    "start_time": "2022-05-08T17:57:40.989Z"
   },
   {
    "duration": 239,
    "start_time": "2022-05-08T17:57:41.269Z"
   },
   {
    "duration": 9,
    "start_time": "2022-05-08T17:57:41.815Z"
   },
   {
    "duration": 8,
    "start_time": "2022-05-08T17:57:42.903Z"
   },
   {
    "duration": 6,
    "start_time": "2022-05-08T17:57:43.177Z"
   },
   {
    "duration": 12,
    "start_time": "2022-05-08T17:57:43.464Z"
   },
   {
    "duration": 21,
    "start_time": "2022-05-08T17:57:46.061Z"
   },
   {
    "duration": 7,
    "start_time": "2022-05-08T17:57:46.950Z"
   },
   {
    "duration": 129,
    "start_time": "2022-05-08T17:57:47.451Z"
   },
   {
    "duration": 8,
    "start_time": "2022-05-08T17:57:47.952Z"
   },
   {
    "duration": 135,
    "start_time": "2022-05-08T17:57:48.621Z"
   },
   {
    "duration": 6,
    "start_time": "2022-05-08T17:57:48.885Z"
   },
   {
    "duration": 6,
    "start_time": "2022-05-08T17:57:50.214Z"
   },
   {
    "duration": 155,
    "start_time": "2022-05-08T17:57:50.711Z"
   },
   {
    "duration": 5,
    "start_time": "2022-05-08T17:57:51.174Z"
   },
   {
    "duration": 308,
    "start_time": "2022-05-08T17:57:51.894Z"
   },
   {
    "duration": 5,
    "start_time": "2022-05-08T17:57:52.358Z"
   },
   {
    "duration": 7,
    "start_time": "2022-05-08T17:57:53.334Z"
   },
   {
    "duration": 122,
    "start_time": "2022-05-08T17:57:53.615Z"
   },
   {
    "duration": 6,
    "start_time": "2022-05-08T17:57:53.851Z"
   },
   {
    "duration": 5,
    "start_time": "2022-05-08T17:57:54.343Z"
   },
   {
    "duration": 14,
    "start_time": "2022-05-08T17:57:55.685Z"
   },
   {
    "duration": 215,
    "start_time": "2022-05-08T17:57:56.405Z"
   },
   {
    "duration": 17,
    "start_time": "2022-05-08T17:57:57.861Z"
   },
   {
    "duration": 177,
    "start_time": "2022-05-08T17:57:58.628Z"
   },
   {
    "duration": 14,
    "start_time": "2022-05-08T17:58:00.356Z"
   },
   {
    "duration": 165,
    "start_time": "2022-05-08T17:58:01.654Z"
   },
   {
    "duration": 14,
    "start_time": "2022-05-08T17:58:02.855Z"
   },
   {
    "duration": 261,
    "start_time": "2022-05-08T17:58:03.151Z"
   },
   {
    "duration": 22,
    "start_time": "2022-05-08T17:58:12.718Z"
   },
   {
    "duration": 10,
    "start_time": "2022-05-08T17:58:13.388Z"
   },
   {
    "duration": 18,
    "start_time": "2022-05-08T17:58:14.436Z"
   },
   {
    "duration": 12,
    "start_time": "2022-05-08T17:58:15.031Z"
   },
   {
    "duration": 15,
    "start_time": "2022-05-08T17:58:16.093Z"
   },
   {
    "duration": 10,
    "start_time": "2022-05-08T17:58:16.352Z"
   },
   {
    "duration": 5,
    "start_time": "2022-05-08T17:58:17.189Z"
   },
   {
    "duration": 14,
    "start_time": "2022-05-08T17:58:17.471Z"
   },
   {
    "duration": 14,
    "start_time": "2022-05-08T17:58:19.365Z"
   },
   {
    "duration": 4,
    "start_time": "2022-05-08T17:58:19.670Z"
   },
   {
    "duration": 10,
    "start_time": "2022-05-08T17:58:19.944Z"
   },
   {
    "duration": 15,
    "start_time": "2022-05-08T17:58:20.485Z"
   },
   {
    "duration": 11,
    "start_time": "2022-05-08T17:58:20.768Z"
   },
   {
    "duration": 22,
    "start_time": "2022-05-08T17:58:21.285Z"
   },
   {
    "duration": 13,
    "start_time": "2022-05-08T17:58:21.544Z"
   },
   {
    "duration": 22,
    "start_time": "2022-05-08T17:58:22.517Z"
   },
   {
    "duration": 15,
    "start_time": "2022-05-08T17:58:23.709Z"
   },
   {
    "duration": 16,
    "start_time": "2022-05-08T17:58:24.277Z"
   },
   {
    "duration": 19,
    "start_time": "2022-05-08T17:58:24.885Z"
   },
   {
    "duration": 11,
    "start_time": "2022-05-08T17:58:41.218Z"
   },
   {
    "duration": 12,
    "start_time": "2022-05-08T17:58:43.348Z"
   },
   {
    "duration": 2371,
    "start_time": "2022-05-09T17:39:15.615Z"
   },
   {
    "duration": 118,
    "start_time": "2022-05-09T17:39:17.989Z"
   },
   {
    "duration": 29,
    "start_time": "2022-05-09T17:39:18.112Z"
   },
   {
    "duration": 4,
    "start_time": "2022-05-09T17:39:18.145Z"
   },
   {
    "duration": 22,
    "start_time": "2022-05-09T17:39:18.151Z"
   },
   {
    "duration": 6,
    "start_time": "2022-05-09T17:39:18.175Z"
   },
   {
    "duration": 59,
    "start_time": "2022-05-09T17:39:18.182Z"
   },
   {
    "duration": 17,
    "start_time": "2022-05-09T17:39:18.244Z"
   },
   {
    "duration": 6,
    "start_time": "2022-05-09T17:39:18.263Z"
   },
   {
    "duration": 9,
    "start_time": "2022-05-09T17:39:18.273Z"
   },
   {
    "duration": 6,
    "start_time": "2022-05-09T17:39:18.284Z"
   },
   {
    "duration": 8,
    "start_time": "2022-05-09T17:39:18.333Z"
   },
   {
    "duration": 14,
    "start_time": "2022-05-09T17:39:18.344Z"
   },
   {
    "duration": 18,
    "start_time": "2022-05-09T17:39:18.360Z"
   },
   {
    "duration": 7,
    "start_time": "2022-05-09T17:39:18.381Z"
   },
   {
    "duration": 43,
    "start_time": "2022-05-09T17:39:18.389Z"
   },
   {
    "duration": 16,
    "start_time": "2022-05-09T17:39:18.434Z"
   },
   {
    "duration": 9,
    "start_time": "2022-05-09T17:39:18.453Z"
   },
   {
    "duration": 9,
    "start_time": "2022-05-09T17:39:18.464Z"
   },
   {
    "duration": 11,
    "start_time": "2022-05-09T17:39:18.476Z"
   },
   {
    "duration": 9,
    "start_time": "2022-05-09T17:39:18.489Z"
   },
   {
    "duration": 43,
    "start_time": "2022-05-09T17:39:18.500Z"
   },
   {
    "duration": 14,
    "start_time": "2022-05-09T17:39:18.545Z"
   },
   {
    "duration": 12,
    "start_time": "2022-05-09T17:39:18.561Z"
   },
   {
    "duration": 18,
    "start_time": "2022-05-09T17:39:18.576Z"
   },
   {
    "duration": 39,
    "start_time": "2022-05-09T17:39:18.596Z"
   },
   {
    "duration": 19,
    "start_time": "2022-05-09T17:39:18.640Z"
   },
   {
    "duration": 9,
    "start_time": "2022-05-09T17:39:18.666Z"
   },
   {
    "duration": 9,
    "start_time": "2022-05-09T17:39:18.678Z"
   },
   {
    "duration": 64,
    "start_time": "2022-05-09T17:39:18.689Z"
   },
   {
    "duration": 8,
    "start_time": "2022-05-09T17:39:18.756Z"
   },
   {
    "duration": 16,
    "start_time": "2022-05-09T17:39:18.767Z"
   },
   {
    "duration": 45,
    "start_time": "2022-05-09T17:39:18.786Z"
   },
   {
    "duration": 22,
    "start_time": "2022-05-09T17:39:18.834Z"
   },
   {
    "duration": 594,
    "start_time": "2022-05-09T17:39:18.858Z"
   },
   {
    "duration": 252,
    "start_time": "2022-05-09T17:39:19.455Z"
   },
   {
    "duration": 42,
    "start_time": "2022-05-09T17:39:19.709Z"
   },
   {
    "duration": 8,
    "start_time": "2022-05-09T17:39:19.753Z"
   },
   {
    "duration": 20,
    "start_time": "2022-05-09T17:39:19.764Z"
   },
   {
    "duration": 44,
    "start_time": "2022-05-09T17:39:19.786Z"
   },
   {
    "duration": 93,
    "start_time": "2022-05-09T17:39:19.833Z"
   },
   {
    "duration": 9,
    "start_time": "2022-05-09T17:39:19.929Z"
   },
   {
    "duration": 354,
    "start_time": "2022-05-09T17:39:19.941Z"
   },
   {
    "duration": 13,
    "start_time": "2022-05-09T17:39:20.297Z"
   },
   {
    "duration": 365,
    "start_time": "2022-05-09T17:39:20.330Z"
   },
   {
    "duration": 9,
    "start_time": "2022-05-09T17:39:20.698Z"
   },
   {
    "duration": 356,
    "start_time": "2022-05-09T17:39:20.709Z"
   },
   {
    "duration": 12,
    "start_time": "2022-05-09T17:39:21.068Z"
   },
   {
    "duration": 353,
    "start_time": "2022-05-09T17:39:21.083Z"
   },
   {
    "duration": 15,
    "start_time": "2022-05-09T17:39:21.438Z"
   },
   {
    "duration": 284,
    "start_time": "2022-05-09T17:39:21.456Z"
   },
   {
    "duration": 10,
    "start_time": "2022-05-09T17:39:21.742Z"
   },
   {
    "duration": 251,
    "start_time": "2022-05-09T17:39:21.755Z"
   },
   {
    "duration": 20,
    "start_time": "2022-05-09T17:39:22.009Z"
   },
   {
    "duration": 308,
    "start_time": "2022-05-09T17:39:22.032Z"
   },
   {
    "duration": 15,
    "start_time": "2022-05-09T17:39:22.343Z"
   },
   {
    "duration": 234,
    "start_time": "2022-05-09T17:39:22.360Z"
   },
   {
    "duration": 9,
    "start_time": "2022-05-09T17:39:22.597Z"
   },
   {
    "duration": 316,
    "start_time": "2022-05-09T17:39:22.608Z"
   },
   {
    "duration": 10,
    "start_time": "2022-05-09T17:39:22.927Z"
   },
   {
    "duration": 239,
    "start_time": "2022-05-09T17:39:22.943Z"
   },
   {
    "duration": 9,
    "start_time": "2022-05-09T17:39:23.184Z"
   },
   {
    "duration": 233,
    "start_time": "2022-05-09T17:39:23.197Z"
   },
   {
    "duration": 13,
    "start_time": "2022-05-09T17:39:23.433Z"
   },
   {
    "duration": 257,
    "start_time": "2022-05-09T17:39:23.452Z"
   },
   {
    "duration": 18,
    "start_time": "2022-05-09T17:39:23.712Z"
   },
   {
    "duration": 249,
    "start_time": "2022-05-09T17:39:23.733Z"
   },
   {
    "duration": 9,
    "start_time": "2022-05-09T17:39:23.984Z"
   },
   {
    "duration": 245,
    "start_time": "2022-05-09T17:39:23.995Z"
   },
   {
    "duration": 9,
    "start_time": "2022-05-09T17:39:24.243Z"
   },
   {
    "duration": 228,
    "start_time": "2022-05-09T17:39:24.254Z"
   },
   {
    "duration": 10,
    "start_time": "2022-05-09T17:39:24.484Z"
   },
   {
    "duration": 37,
    "start_time": "2022-05-09T17:39:24.496Z"
   },
   {
    "duration": 17,
    "start_time": "2022-05-09T17:39:24.536Z"
   },
   {
    "duration": 10,
    "start_time": "2022-05-09T17:39:24.556Z"
   },
   {
    "duration": 63,
    "start_time": "2022-05-09T17:39:24.568Z"
   },
   {
    "duration": 18,
    "start_time": "2022-05-09T17:39:24.633Z"
   },
   {
    "duration": 12,
    "start_time": "2022-05-09T17:39:24.654Z"
   },
   {
    "duration": 19,
    "start_time": "2022-05-09T17:39:24.668Z"
   },
   {
    "duration": 51,
    "start_time": "2022-05-09T17:39:24.691Z"
   },
   {
    "duration": 14,
    "start_time": "2022-05-09T17:39:24.744Z"
   },
   {
    "duration": 40,
    "start_time": "2022-05-09T17:39:24.777Z"
   },
   {
    "duration": 307,
    "start_time": "2022-05-09T17:39:24.835Z"
   },
   {
    "duration": 313,
    "start_time": "2022-05-09T17:39:25.144Z"
   },
   {
    "duration": 12,
    "start_time": "2022-05-09T17:39:25.459Z"
   },
   {
    "duration": 11,
    "start_time": "2022-05-09T17:39:25.474Z"
   },
   {
    "duration": 44,
    "start_time": "2022-05-09T17:39:25.488Z"
   },
   {
    "duration": 20,
    "start_time": "2022-05-09T17:39:25.537Z"
   },
   {
    "duration": 27,
    "start_time": "2022-05-09T17:39:25.560Z"
   },
   {
    "duration": 39,
    "start_time": "2022-05-09T17:39:25.590Z"
   },
   {
    "duration": 244,
    "start_time": "2022-05-09T17:39:25.633Z"
   },
   {
    "duration": 7,
    "start_time": "2022-05-09T17:39:25.880Z"
   },
   {
    "duration": 391,
    "start_time": "2022-05-09T17:39:25.889Z"
   },
   {
    "duration": 8,
    "start_time": "2022-05-09T17:39:26.283Z"
   },
   {
    "duration": 9,
    "start_time": "2022-05-09T17:39:26.293Z"
   },
   {
    "duration": 245,
    "start_time": "2022-05-09T17:39:26.324Z"
   },
   {
    "duration": 10,
    "start_time": "2022-05-09T17:39:26.572Z"
   },
   {
    "duration": 286,
    "start_time": "2022-05-09T17:39:26.585Z"
   },
   {
    "duration": 8,
    "start_time": "2022-05-09T17:39:26.874Z"
   },
   {
    "duration": 11,
    "start_time": "2022-05-09T17:39:26.884Z"
   },
   {
    "duration": 261,
    "start_time": "2022-05-09T17:39:26.898Z"
   },
   {
    "duration": 10,
    "start_time": "2022-05-09T17:39:27.162Z"
   },
   {
    "duration": 14,
    "start_time": "2022-05-09T17:39:27.175Z"
   },
   {
    "duration": 51,
    "start_time": "2022-05-09T17:39:27.191Z"
   },
   {
    "duration": 491,
    "start_time": "2022-05-09T17:39:27.246Z"
   },
   {
    "duration": 22,
    "start_time": "2022-05-09T17:39:27.740Z"
   },
   {
    "duration": 363,
    "start_time": "2022-05-09T17:39:27.764Z"
   },
   {
    "duration": 27,
    "start_time": "2022-05-09T17:39:28.131Z"
   },
   {
    "duration": 372,
    "start_time": "2022-05-09T17:39:28.161Z"
   },
   {
    "duration": 20,
    "start_time": "2022-05-09T17:39:28.538Z"
   },
   {
    "duration": 380,
    "start_time": "2022-05-09T17:39:28.561Z"
   },
   {
    "duration": 23,
    "start_time": "2022-05-09T17:39:28.943Z"
   },
   {
    "duration": 17,
    "start_time": "2022-05-09T17:39:28.969Z"
   },
   {
    "duration": 45,
    "start_time": "2022-05-09T17:39:28.988Z"
   },
   {
    "duration": 22,
    "start_time": "2022-05-09T17:39:29.036Z"
   },
   {
    "duration": 64,
    "start_time": "2022-05-09T17:39:29.061Z"
   },
   {
    "duration": 19,
    "start_time": "2022-05-09T17:39:29.129Z"
   },
   {
    "duration": 11,
    "start_time": "2022-05-09T17:39:29.151Z"
   },
   {
    "duration": 25,
    "start_time": "2022-05-09T17:39:29.164Z"
   },
   {
    "duration": 61,
    "start_time": "2022-05-09T17:39:29.192Z"
   },
   {
    "duration": 10,
    "start_time": "2022-05-09T17:39:29.255Z"
   },
   {
    "duration": 15,
    "start_time": "2022-05-09T17:39:29.267Z"
   },
   {
    "duration": 62,
    "start_time": "2022-05-09T17:39:29.284Z"
   },
   {
    "duration": 20,
    "start_time": "2022-05-09T17:39:29.349Z"
   },
   {
    "duration": 28,
    "start_time": "2022-05-09T17:39:29.372Z"
   },
   {
    "duration": 31,
    "start_time": "2022-05-09T17:39:29.403Z"
   },
   {
    "duration": 36,
    "start_time": "2022-05-09T17:39:29.437Z"
   },
   {
    "duration": 58,
    "start_time": "2022-05-09T17:39:29.476Z"
   },
   {
    "duration": 24,
    "start_time": "2022-05-09T17:39:29.537Z"
   },
   {
    "duration": 30,
    "start_time": "2022-05-09T17:39:29.563Z"
   },
   {
    "duration": 35,
    "start_time": "2022-05-09T17:39:29.595Z"
   },
   {
    "duration": 32,
    "start_time": "2022-05-09T17:39:29.631Z"
   }
  ],
  "kernelspec": {
   "display_name": "Python 3 (ipykernel)",
   "language": "python",
   "name": "python3"
  },
  "language_info": {
   "codemirror_mode": {
    "name": "ipython",
    "version": 3
   },
   "file_extension": ".py",
   "mimetype": "text/x-python",
   "name": "python",
   "nbconvert_exporter": "python",
   "pygments_lexer": "ipython3",
   "version": "3.9.12"
  },
  "toc": {
   "base_numbering": 1,
   "nav_menu": {},
   "number_sections": true,
   "sideBar": true,
   "skip_h1_title": true,
   "title_cell": "Table of Contents",
   "title_sidebar": "Contents",
   "toc_cell": false,
   "toc_position": {},
   "toc_section_display": true,
   "toc_window_display": false
  }
 },
 "nbformat": 4,
 "nbformat_minor": 5
}
