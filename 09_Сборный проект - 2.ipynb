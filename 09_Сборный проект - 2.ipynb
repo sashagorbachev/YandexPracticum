{
 "cells": [
  {
   "cell_type": "markdown",
   "metadata": {
    "toc": true
   },
   "source": [
    "<h1>Содержание<span class=\"tocSkip\"></span></h1>\n",
    "<div class=\"toc\"><ul class=\"toc-item\"><li><span><a href=\"#Подготовка-данных\" data-toc-modified-id=\"Подготовка-данных-1\"><span class=\"toc-item-num\">1&nbsp;&nbsp;</span>Подготовка данных</a></span><ul class=\"toc-item\"><li><span><a href=\"#Эффективность-обогощения\" data-toc-modified-id=\"Эффективность-обогощения-1.1\"><span class=\"toc-item-num\">1.1&nbsp;&nbsp;</span>Эффективность обогощения</a></span></li><li><span><a href=\"#Работа-с-пропусками\" data-toc-modified-id=\"Работа-с-пропусками-1.2\"><span class=\"toc-item-num\">1.2&nbsp;&nbsp;</span>Работа с пропусками</a></span></li></ul></li><li><span><a href=\"#Анализ-данных\" data-toc-modified-id=\"Анализ-данных-2\"><span class=\"toc-item-num\">2&nbsp;&nbsp;</span>Анализ данных</a></span></li><li><span><a href=\"#Модель\" data-toc-modified-id=\"Модель-3\"><span class=\"toc-item-num\">3&nbsp;&nbsp;</span>Модель</a></span><ul class=\"toc-item\"><li><span><a href=\"#sMAPE\" data-toc-modified-id=\"sMAPE-3.1\"><span class=\"toc-item-num\">3.1&nbsp;&nbsp;</span>sMAPE</a></span></li><li><span><a href=\"#Дерево-решений\" data-toc-modified-id=\"Дерево-решений-3.2\"><span class=\"toc-item-num\">3.2&nbsp;&nbsp;</span>Дерево решений</a></span></li><li><span><a href=\"#Случайный-лес\" data-toc-modified-id=\"Случайный-лес-3.3\"><span class=\"toc-item-num\">3.3&nbsp;&nbsp;</span>Случайный лес</a></span></li><li><span><a href=\"#Линейная-регрессия\" data-toc-modified-id=\"Линейная-регрессия-3.4\"><span class=\"toc-item-num\">3.4&nbsp;&nbsp;</span>Линейная регрессия</a></span></li><li><span><a href=\"#Проверка-лучшей-модели-на-тестовой-выборке\" data-toc-modified-id=\"Проверка-лучшей-модели-на-тестовой-выборке-3.5\"><span class=\"toc-item-num\">3.5&nbsp;&nbsp;</span>Проверка лучшей модели на тестовой выборке</a></span></li><li><span><a href=\"#Проверка-модели-на-адекватность\" data-toc-modified-id=\"Проверка-модели-на-адекватность-3.6\"><span class=\"toc-item-num\">3.6&nbsp;&nbsp;</span>Проверка модели на адекватность</a></span></li></ul></li><li><span><a href=\"#Чек-лист-готовности-проекта\" data-toc-modified-id=\"Чек-лист-готовности-проекта-4\"><span class=\"toc-item-num\">4&nbsp;&nbsp;</span>Чек-лист готовности проекта</a></span></li></ul></div>"
   ]
  },
  {
   "cell_type": "markdown",
   "metadata": {},
   "source": [
    "# Восстановление золота из руды"
   ]
  },
  {
   "cell_type": "markdown",
   "metadata": {},
   "source": [
    "Подготовьте прототип модели машинного обучения для «Цифры». Компания разрабатывает решения для эффективной работы промышленных предприятий.\n",
    "\n",
    "Модель должна предсказать коэффициент восстановления золота из золотосодержащей руды. Используйте данные с параметрами добычи и очистки. \n",
    "\n",
    "Модель поможет оптимизировать производство, чтобы не запускать предприятие с убыточными характеристиками.\n",
    "\n",
    "Вам нужно:\n",
    "\n",
    "1. Подготовить данные;\n",
    "2. Провести исследовательский анализ данных;\n",
    "3. Построить и обучить модель.\n",
    "\n",
    "Чтобы выполнить проект, обращайтесь к библиотекам *pandas*, *matplotlib* и *sklearn.* Вам поможет их документация."
   ]
  },
  {
   "cell_type": "markdown",
   "metadata": {},
   "source": [
    "## Подготовка данных"
   ]
  },
  {
   "cell_type": "code",
   "execution_count": 2,
   "metadata": {},
   "outputs": [],
   "source": [
    "import os\n",
    "import numpy as np\n",
    "import pandas as pd\n",
    "import seaborn as sns\n",
    "import matplotlib.pyplot as plt\n",
    "from sklearn.metrics import make_scorer, mean_absolute_error\n",
    "from sklearn.model_selection import GridSearchCV, cross_val_score, train_test_split, KFold, TimeSeriesSplit\n",
    "from sklearn.linear_model import Ridge, Lasso, LinearRegression\n",
    "from sklearn.ensemble import RandomForestRegressor\n",
    "from sklearn.impute import SimpleImputer\n",
    "from sklearn.preprocessing import StandardScaler\n",
    "from sklearn.pipeline import Pipeline\n",
    "from collections import defaultdict\n",
    "from sklearn.tree import DecisionTreeRegressor\n",
    "import warnings\n",
    "warnings.filterwarnings('ignore')"
   ]
  },
  {
   "cell_type": "code",
   "execution_count": 3,
   "metadata": {},
   "outputs": [],
   "source": [
    "data_train=pd.read_csv('/datasets/gold_recovery_train_new.csv')\n",
    "data_test=pd.read_csv('/datasets/gold_recovery_test_new.csv')\n",
    "data_full=pd.read_csv('/datasets/gold_recovery_full_new.csv')"
   ]
  },
  {
   "cell_type": "code",
   "execution_count": 4,
   "metadata": {},
   "outputs": [
    {
     "data": {
      "text/html": [
       "<div>\n",
       "<style scoped>\n",
       "    .dataframe tbody tr th:only-of-type {\n",
       "        vertical-align: middle;\n",
       "    }\n",
       "\n",
       "    .dataframe tbody tr th {\n",
       "        vertical-align: top;\n",
       "    }\n",
       "\n",
       "    .dataframe thead th {\n",
       "        text-align: right;\n",
       "    }\n",
       "</style>\n",
       "<table border=\"1\" class=\"dataframe\">\n",
       "  <thead>\n",
       "    <tr style=\"text-align: right;\">\n",
       "      <th></th>\n",
       "      <th>date</th>\n",
       "      <th>final.output.concentrate_ag</th>\n",
       "      <th>final.output.concentrate_pb</th>\n",
       "      <th>final.output.concentrate_sol</th>\n",
       "      <th>final.output.concentrate_au</th>\n",
       "      <th>final.output.recovery</th>\n",
       "      <th>final.output.tail_ag</th>\n",
       "      <th>final.output.tail_pb</th>\n",
       "      <th>final.output.tail_sol</th>\n",
       "      <th>final.output.tail_au</th>\n",
       "      <th>...</th>\n",
       "      <th>secondary_cleaner.state.floatbank4_a_air</th>\n",
       "      <th>secondary_cleaner.state.floatbank4_a_level</th>\n",
       "      <th>secondary_cleaner.state.floatbank4_b_air</th>\n",
       "      <th>secondary_cleaner.state.floatbank4_b_level</th>\n",
       "      <th>secondary_cleaner.state.floatbank5_a_air</th>\n",
       "      <th>secondary_cleaner.state.floatbank5_a_level</th>\n",
       "      <th>secondary_cleaner.state.floatbank5_b_air</th>\n",
       "      <th>secondary_cleaner.state.floatbank5_b_level</th>\n",
       "      <th>secondary_cleaner.state.floatbank6_a_air</th>\n",
       "      <th>secondary_cleaner.state.floatbank6_a_level</th>\n",
       "    </tr>\n",
       "  </thead>\n",
       "  <tbody>\n",
       "    <tr>\n",
       "      <th>0</th>\n",
       "      <td>2016-01-15 00:00:00</td>\n",
       "      <td>6.055403</td>\n",
       "      <td>9.889648</td>\n",
       "      <td>5.507324</td>\n",
       "      <td>42.192020</td>\n",
       "      <td>70.541216</td>\n",
       "      <td>10.411962</td>\n",
       "      <td>0.895447</td>\n",
       "      <td>16.904297</td>\n",
       "      <td>2.143149</td>\n",
       "      <td>...</td>\n",
       "      <td>14.016835</td>\n",
       "      <td>-502.488007</td>\n",
       "      <td>12.099931</td>\n",
       "      <td>-504.715942</td>\n",
       "      <td>9.925633</td>\n",
       "      <td>-498.310211</td>\n",
       "      <td>8.079666</td>\n",
       "      <td>-500.470978</td>\n",
       "      <td>14.151341</td>\n",
       "      <td>-605.841980</td>\n",
       "    </tr>\n",
       "    <tr>\n",
       "      <th>1</th>\n",
       "      <td>2016-01-15 01:00:00</td>\n",
       "      <td>6.029369</td>\n",
       "      <td>9.968944</td>\n",
       "      <td>5.257781</td>\n",
       "      <td>42.701629</td>\n",
       "      <td>69.266198</td>\n",
       "      <td>10.462676</td>\n",
       "      <td>0.927452</td>\n",
       "      <td>16.634514</td>\n",
       "      <td>2.224930</td>\n",
       "      <td>...</td>\n",
       "      <td>13.992281</td>\n",
       "      <td>-505.503262</td>\n",
       "      <td>11.950531</td>\n",
       "      <td>-501.331529</td>\n",
       "      <td>10.039245</td>\n",
       "      <td>-500.169983</td>\n",
       "      <td>7.984757</td>\n",
       "      <td>-500.582168</td>\n",
       "      <td>13.998353</td>\n",
       "      <td>-599.787184</td>\n",
       "    </tr>\n",
       "    <tr>\n",
       "      <th>2</th>\n",
       "      <td>2016-01-15 02:00:00</td>\n",
       "      <td>6.055926</td>\n",
       "      <td>10.213995</td>\n",
       "      <td>5.383759</td>\n",
       "      <td>42.657501</td>\n",
       "      <td>68.116445</td>\n",
       "      <td>10.507046</td>\n",
       "      <td>0.953716</td>\n",
       "      <td>16.208849</td>\n",
       "      <td>2.257889</td>\n",
       "      <td>...</td>\n",
       "      <td>14.015015</td>\n",
       "      <td>-502.520901</td>\n",
       "      <td>11.912783</td>\n",
       "      <td>-501.133383</td>\n",
       "      <td>10.070913</td>\n",
       "      <td>-500.129135</td>\n",
       "      <td>8.013877</td>\n",
       "      <td>-500.517572</td>\n",
       "      <td>14.028663</td>\n",
       "      <td>-601.427363</td>\n",
       "    </tr>\n",
       "    <tr>\n",
       "      <th>3</th>\n",
       "      <td>2016-01-15 03:00:00</td>\n",
       "      <td>6.047977</td>\n",
       "      <td>9.977019</td>\n",
       "      <td>4.858634</td>\n",
       "      <td>42.689819</td>\n",
       "      <td>68.347543</td>\n",
       "      <td>10.422762</td>\n",
       "      <td>0.883763</td>\n",
       "      <td>16.532835</td>\n",
       "      <td>2.146849</td>\n",
       "      <td>...</td>\n",
       "      <td>14.036510</td>\n",
       "      <td>-500.857308</td>\n",
       "      <td>11.999550</td>\n",
       "      <td>-501.193686</td>\n",
       "      <td>9.970366</td>\n",
       "      <td>-499.201640</td>\n",
       "      <td>7.977324</td>\n",
       "      <td>-500.255908</td>\n",
       "      <td>14.005551</td>\n",
       "      <td>-599.996129</td>\n",
       "    </tr>\n",
       "    <tr>\n",
       "      <th>4</th>\n",
       "      <td>2016-01-15 04:00:00</td>\n",
       "      <td>6.148599</td>\n",
       "      <td>10.142511</td>\n",
       "      <td>4.939416</td>\n",
       "      <td>42.774141</td>\n",
       "      <td>66.927016</td>\n",
       "      <td>10.360302</td>\n",
       "      <td>0.792826</td>\n",
       "      <td>16.525686</td>\n",
       "      <td>2.055292</td>\n",
       "      <td>...</td>\n",
       "      <td>14.027298</td>\n",
       "      <td>-499.838632</td>\n",
       "      <td>11.953070</td>\n",
       "      <td>-501.053894</td>\n",
       "      <td>9.925709</td>\n",
       "      <td>-501.686727</td>\n",
       "      <td>7.894242</td>\n",
       "      <td>-500.356035</td>\n",
       "      <td>13.996647</td>\n",
       "      <td>-601.496691</td>\n",
       "    </tr>\n",
       "  </tbody>\n",
       "</table>\n",
       "<p>5 rows × 87 columns</p>\n",
       "</div>"
      ],
      "text/plain": [
       "                  date  final.output.concentrate_ag  \\\n",
       "0  2016-01-15 00:00:00                     6.055403   \n",
       "1  2016-01-15 01:00:00                     6.029369   \n",
       "2  2016-01-15 02:00:00                     6.055926   \n",
       "3  2016-01-15 03:00:00                     6.047977   \n",
       "4  2016-01-15 04:00:00                     6.148599   \n",
       "\n",
       "   final.output.concentrate_pb  final.output.concentrate_sol  \\\n",
       "0                     9.889648                      5.507324   \n",
       "1                     9.968944                      5.257781   \n",
       "2                    10.213995                      5.383759   \n",
       "3                     9.977019                      4.858634   \n",
       "4                    10.142511                      4.939416   \n",
       "\n",
       "   final.output.concentrate_au  final.output.recovery  final.output.tail_ag  \\\n",
       "0                    42.192020              70.541216             10.411962   \n",
       "1                    42.701629              69.266198             10.462676   \n",
       "2                    42.657501              68.116445             10.507046   \n",
       "3                    42.689819              68.347543             10.422762   \n",
       "4                    42.774141              66.927016             10.360302   \n",
       "\n",
       "   final.output.tail_pb  final.output.tail_sol  final.output.tail_au  ...  \\\n",
       "0              0.895447              16.904297              2.143149  ...   \n",
       "1              0.927452              16.634514              2.224930  ...   \n",
       "2              0.953716              16.208849              2.257889  ...   \n",
       "3              0.883763              16.532835              2.146849  ...   \n",
       "4              0.792826              16.525686              2.055292  ...   \n",
       "\n",
       "   secondary_cleaner.state.floatbank4_a_air  \\\n",
       "0                                 14.016835   \n",
       "1                                 13.992281   \n",
       "2                                 14.015015   \n",
       "3                                 14.036510   \n",
       "4                                 14.027298   \n",
       "\n",
       "   secondary_cleaner.state.floatbank4_a_level  \\\n",
       "0                                 -502.488007   \n",
       "1                                 -505.503262   \n",
       "2                                 -502.520901   \n",
       "3                                 -500.857308   \n",
       "4                                 -499.838632   \n",
       "\n",
       "   secondary_cleaner.state.floatbank4_b_air  \\\n",
       "0                                 12.099931   \n",
       "1                                 11.950531   \n",
       "2                                 11.912783   \n",
       "3                                 11.999550   \n",
       "4                                 11.953070   \n",
       "\n",
       "   secondary_cleaner.state.floatbank4_b_level  \\\n",
       "0                                 -504.715942   \n",
       "1                                 -501.331529   \n",
       "2                                 -501.133383   \n",
       "3                                 -501.193686   \n",
       "4                                 -501.053894   \n",
       "\n",
       "   secondary_cleaner.state.floatbank5_a_air  \\\n",
       "0                                  9.925633   \n",
       "1                                 10.039245   \n",
       "2                                 10.070913   \n",
       "3                                  9.970366   \n",
       "4                                  9.925709   \n",
       "\n",
       "   secondary_cleaner.state.floatbank5_a_level  \\\n",
       "0                                 -498.310211   \n",
       "1                                 -500.169983   \n",
       "2                                 -500.129135   \n",
       "3                                 -499.201640   \n",
       "4                                 -501.686727   \n",
       "\n",
       "   secondary_cleaner.state.floatbank5_b_air  \\\n",
       "0                                  8.079666   \n",
       "1                                  7.984757   \n",
       "2                                  8.013877   \n",
       "3                                  7.977324   \n",
       "4                                  7.894242   \n",
       "\n",
       "   secondary_cleaner.state.floatbank5_b_level  \\\n",
       "0                                 -500.470978   \n",
       "1                                 -500.582168   \n",
       "2                                 -500.517572   \n",
       "3                                 -500.255908   \n",
       "4                                 -500.356035   \n",
       "\n",
       "   secondary_cleaner.state.floatbank6_a_air  \\\n",
       "0                                 14.151341   \n",
       "1                                 13.998353   \n",
       "2                                 14.028663   \n",
       "3                                 14.005551   \n",
       "4                                 13.996647   \n",
       "\n",
       "   secondary_cleaner.state.floatbank6_a_level  \n",
       "0                                 -605.841980  \n",
       "1                                 -599.787184  \n",
       "2                                 -601.427363  \n",
       "3                                 -599.996129  \n",
       "4                                 -601.496691  \n",
       "\n",
       "[5 rows x 87 columns]"
      ]
     },
     "execution_count": 4,
     "metadata": {},
     "output_type": "execute_result"
    }
   ],
   "source": [
    "data_train.head()"
   ]
  },
  {
   "cell_type": "code",
   "execution_count": 5,
   "metadata": {},
   "outputs": [
    {
     "data": {
      "text/html": [
       "<div>\n",
       "<style scoped>\n",
       "    .dataframe tbody tr th:only-of-type {\n",
       "        vertical-align: middle;\n",
       "    }\n",
       "\n",
       "    .dataframe tbody tr th {\n",
       "        vertical-align: top;\n",
       "    }\n",
       "\n",
       "    .dataframe thead th {\n",
       "        text-align: right;\n",
       "    }\n",
       "</style>\n",
       "<table border=\"1\" class=\"dataframe\">\n",
       "  <thead>\n",
       "    <tr style=\"text-align: right;\">\n",
       "      <th></th>\n",
       "      <th>final.output.concentrate_ag</th>\n",
       "      <th>final.output.concentrate_pb</th>\n",
       "      <th>final.output.concentrate_sol</th>\n",
       "      <th>final.output.concentrate_au</th>\n",
       "      <th>final.output.recovery</th>\n",
       "      <th>final.output.tail_ag</th>\n",
       "      <th>final.output.tail_pb</th>\n",
       "      <th>final.output.tail_sol</th>\n",
       "      <th>final.output.tail_au</th>\n",
       "      <th>primary_cleaner.input.sulfate</th>\n",
       "      <th>...</th>\n",
       "      <th>secondary_cleaner.state.floatbank4_a_air</th>\n",
       "      <th>secondary_cleaner.state.floatbank4_a_level</th>\n",
       "      <th>secondary_cleaner.state.floatbank4_b_air</th>\n",
       "      <th>secondary_cleaner.state.floatbank4_b_level</th>\n",
       "      <th>secondary_cleaner.state.floatbank5_a_air</th>\n",
       "      <th>secondary_cleaner.state.floatbank5_a_level</th>\n",
       "      <th>secondary_cleaner.state.floatbank5_b_air</th>\n",
       "      <th>secondary_cleaner.state.floatbank5_b_level</th>\n",
       "      <th>secondary_cleaner.state.floatbank6_a_air</th>\n",
       "      <th>secondary_cleaner.state.floatbank6_a_level</th>\n",
       "    </tr>\n",
       "  </thead>\n",
       "  <tbody>\n",
       "    <tr>\n",
       "      <th>count</th>\n",
       "      <td>14148.000000</td>\n",
       "      <td>14148.000000</td>\n",
       "      <td>13938.000000</td>\n",
       "      <td>14149.000000</td>\n",
       "      <td>14149.000000</td>\n",
       "      <td>14149.000000</td>\n",
       "      <td>14049.000000</td>\n",
       "      <td>14144.000000</td>\n",
       "      <td>14149.000000</td>\n",
       "      <td>14129.000000</td>\n",
       "      <td>...</td>\n",
       "      <td>14143.000000</td>\n",
       "      <td>14148.000000</td>\n",
       "      <td>14148.000000</td>\n",
       "      <td>14148.000000</td>\n",
       "      <td>14148.000000</td>\n",
       "      <td>14148.000000</td>\n",
       "      <td>14148.000000</td>\n",
       "      <td>14148.000000</td>\n",
       "      <td>14147.000000</td>\n",
       "      <td>14148.000000</td>\n",
       "    </tr>\n",
       "    <tr>\n",
       "      <th>mean</th>\n",
       "      <td>5.142034</td>\n",
       "      <td>10.132960</td>\n",
       "      <td>9.202849</td>\n",
       "      <td>44.003792</td>\n",
       "      <td>66.518832</td>\n",
       "      <td>9.607035</td>\n",
       "      <td>2.597298</td>\n",
       "      <td>10.512122</td>\n",
       "      <td>2.918421</td>\n",
       "      <td>133.320659</td>\n",
       "      <td>...</td>\n",
       "      <td>19.985454</td>\n",
       "      <td>-478.696836</td>\n",
       "      <td>15.487065</td>\n",
       "      <td>-460.229416</td>\n",
       "      <td>16.775136</td>\n",
       "      <td>-483.956022</td>\n",
       "      <td>13.064590</td>\n",
       "      <td>-483.966564</td>\n",
       "      <td>19.577539</td>\n",
       "      <td>-506.798480</td>\n",
       "    </tr>\n",
       "    <tr>\n",
       "      <th>std</th>\n",
       "      <td>1.369586</td>\n",
       "      <td>1.654930</td>\n",
       "      <td>2.790516</td>\n",
       "      <td>4.905261</td>\n",
       "      <td>10.295402</td>\n",
       "      <td>2.319069</td>\n",
       "      <td>0.971843</td>\n",
       "      <td>3.003617</td>\n",
       "      <td>0.903712</td>\n",
       "      <td>39.431659</td>\n",
       "      <td>...</td>\n",
       "      <td>5.657723</td>\n",
       "      <td>50.736021</td>\n",
       "      <td>5.255655</td>\n",
       "      <td>58.843586</td>\n",
       "      <td>5.831906</td>\n",
       "      <td>37.892788</td>\n",
       "      <td>5.765617</td>\n",
       "      <td>39.207913</td>\n",
       "      <td>5.764417</td>\n",
       "      <td>37.079249</td>\n",
       "    </tr>\n",
       "    <tr>\n",
       "      <th>min</th>\n",
       "      <td>0.000000</td>\n",
       "      <td>0.000000</td>\n",
       "      <td>0.000000</td>\n",
       "      <td>0.000000</td>\n",
       "      <td>0.000000</td>\n",
       "      <td>0.000000</td>\n",
       "      <td>0.000000</td>\n",
       "      <td>0.000000</td>\n",
       "      <td>0.000000</td>\n",
       "      <td>0.003112</td>\n",
       "      <td>...</td>\n",
       "      <td>0.000000</td>\n",
       "      <td>-799.709069</td>\n",
       "      <td>0.000000</td>\n",
       "      <td>-799.889113</td>\n",
       "      <td>-0.372054</td>\n",
       "      <td>-797.142475</td>\n",
       "      <td>0.646208</td>\n",
       "      <td>-800.006180</td>\n",
       "      <td>0.195324</td>\n",
       "      <td>-809.398668</td>\n",
       "    </tr>\n",
       "    <tr>\n",
       "      <th>25%</th>\n",
       "      <td>4.211620</td>\n",
       "      <td>9.297355</td>\n",
       "      <td>7.484645</td>\n",
       "      <td>43.276111</td>\n",
       "      <td>62.545817</td>\n",
       "      <td>7.997429</td>\n",
       "      <td>1.905973</td>\n",
       "      <td>8.811324</td>\n",
       "      <td>2.368607</td>\n",
       "      <td>107.006651</td>\n",
       "      <td>...</td>\n",
       "      <td>14.990775</td>\n",
       "      <td>-500.628656</td>\n",
       "      <td>11.894558</td>\n",
       "      <td>-500.149000</td>\n",
       "      <td>11.083980</td>\n",
       "      <td>-500.363177</td>\n",
       "      <td>8.994405</td>\n",
       "      <td>-500.105994</td>\n",
       "      <td>14.989304</td>\n",
       "      <td>-500.745104</td>\n",
       "    </tr>\n",
       "    <tr>\n",
       "      <th>50%</th>\n",
       "      <td>4.994652</td>\n",
       "      <td>10.297144</td>\n",
       "      <td>8.845462</td>\n",
       "      <td>44.872436</td>\n",
       "      <td>67.432775</td>\n",
       "      <td>9.480270</td>\n",
       "      <td>2.592022</td>\n",
       "      <td>10.514621</td>\n",
       "      <td>2.851025</td>\n",
       "      <td>133.018328</td>\n",
       "      <td>...</td>\n",
       "      <td>20.001789</td>\n",
       "      <td>-499.681450</td>\n",
       "      <td>14.975536</td>\n",
       "      <td>-499.388738</td>\n",
       "      <td>17.932223</td>\n",
       "      <td>-499.702452</td>\n",
       "      <td>11.997547</td>\n",
       "      <td>-499.914556</td>\n",
       "      <td>19.984175</td>\n",
       "      <td>-500.061431</td>\n",
       "    </tr>\n",
       "    <tr>\n",
       "      <th>75%</th>\n",
       "      <td>5.859540</td>\n",
       "      <td>11.170603</td>\n",
       "      <td>10.487508</td>\n",
       "      <td>46.166425</td>\n",
       "      <td>72.346428</td>\n",
       "      <td>11.003707</td>\n",
       "      <td>3.241723</td>\n",
       "      <td>11.933009</td>\n",
       "      <td>3.434764</td>\n",
       "      <td>159.825396</td>\n",
       "      <td>...</td>\n",
       "      <td>24.990826</td>\n",
       "      <td>-477.472413</td>\n",
       "      <td>20.059375</td>\n",
       "      <td>-400.039008</td>\n",
       "      <td>21.346550</td>\n",
       "      <td>-487.712108</td>\n",
       "      <td>17.982903</td>\n",
       "      <td>-453.186936</td>\n",
       "      <td>24.991623</td>\n",
       "      <td>-499.536466</td>\n",
       "    </tr>\n",
       "    <tr>\n",
       "      <th>max</th>\n",
       "      <td>16.001945</td>\n",
       "      <td>17.031899</td>\n",
       "      <td>18.124851</td>\n",
       "      <td>52.756638</td>\n",
       "      <td>100.000000</td>\n",
       "      <td>19.552149</td>\n",
       "      <td>5.639565</td>\n",
       "      <td>22.317730</td>\n",
       "      <td>8.197408</td>\n",
       "      <td>250.127834</td>\n",
       "      <td>...</td>\n",
       "      <td>30.115735</td>\n",
       "      <td>-245.239184</td>\n",
       "      <td>24.007913</td>\n",
       "      <td>-145.071088</td>\n",
       "      <td>43.709931</td>\n",
       "      <td>-275.073125</td>\n",
       "      <td>27.926001</td>\n",
       "      <td>-157.396071</td>\n",
       "      <td>32.188906</td>\n",
       "      <td>-104.427459</td>\n",
       "    </tr>\n",
       "  </tbody>\n",
       "</table>\n",
       "<p>8 rows × 86 columns</p>\n",
       "</div>"
      ],
      "text/plain": [
       "       final.output.concentrate_ag  final.output.concentrate_pb  \\\n",
       "count                 14148.000000                 14148.000000   \n",
       "mean                      5.142034                    10.132960   \n",
       "std                       1.369586                     1.654930   \n",
       "min                       0.000000                     0.000000   \n",
       "25%                       4.211620                     9.297355   \n",
       "50%                       4.994652                    10.297144   \n",
       "75%                       5.859540                    11.170603   \n",
       "max                      16.001945                    17.031899   \n",
       "\n",
       "       final.output.concentrate_sol  final.output.concentrate_au  \\\n",
       "count                  13938.000000                 14149.000000   \n",
       "mean                       9.202849                    44.003792   \n",
       "std                        2.790516                     4.905261   \n",
       "min                        0.000000                     0.000000   \n",
       "25%                        7.484645                    43.276111   \n",
       "50%                        8.845462                    44.872436   \n",
       "75%                       10.487508                    46.166425   \n",
       "max                       18.124851                    52.756638   \n",
       "\n",
       "       final.output.recovery  final.output.tail_ag  final.output.tail_pb  \\\n",
       "count           14149.000000          14149.000000          14049.000000   \n",
       "mean               66.518832              9.607035              2.597298   \n",
       "std                10.295402              2.319069              0.971843   \n",
       "min                 0.000000              0.000000              0.000000   \n",
       "25%                62.545817              7.997429              1.905973   \n",
       "50%                67.432775              9.480270              2.592022   \n",
       "75%                72.346428             11.003707              3.241723   \n",
       "max               100.000000             19.552149              5.639565   \n",
       "\n",
       "       final.output.tail_sol  final.output.tail_au  \\\n",
       "count           14144.000000          14149.000000   \n",
       "mean               10.512122              2.918421   \n",
       "std                 3.003617              0.903712   \n",
       "min                 0.000000              0.000000   \n",
       "25%                 8.811324              2.368607   \n",
       "50%                10.514621              2.851025   \n",
       "75%                11.933009              3.434764   \n",
       "max                22.317730              8.197408   \n",
       "\n",
       "       primary_cleaner.input.sulfate  ...  \\\n",
       "count                   14129.000000  ...   \n",
       "mean                      133.320659  ...   \n",
       "std                        39.431659  ...   \n",
       "min                         0.003112  ...   \n",
       "25%                       107.006651  ...   \n",
       "50%                       133.018328  ...   \n",
       "75%                       159.825396  ...   \n",
       "max                       250.127834  ...   \n",
       "\n",
       "       secondary_cleaner.state.floatbank4_a_air  \\\n",
       "count                              14143.000000   \n",
       "mean                                  19.985454   \n",
       "std                                    5.657723   \n",
       "min                                    0.000000   \n",
       "25%                                   14.990775   \n",
       "50%                                   20.001789   \n",
       "75%                                   24.990826   \n",
       "max                                   30.115735   \n",
       "\n",
       "       secondary_cleaner.state.floatbank4_a_level  \\\n",
       "count                                14148.000000   \n",
       "mean                                  -478.696836   \n",
       "std                                     50.736021   \n",
       "min                                   -799.709069   \n",
       "25%                                   -500.628656   \n",
       "50%                                   -499.681450   \n",
       "75%                                   -477.472413   \n",
       "max                                   -245.239184   \n",
       "\n",
       "       secondary_cleaner.state.floatbank4_b_air  \\\n",
       "count                              14148.000000   \n",
       "mean                                  15.487065   \n",
       "std                                    5.255655   \n",
       "min                                    0.000000   \n",
       "25%                                   11.894558   \n",
       "50%                                   14.975536   \n",
       "75%                                   20.059375   \n",
       "max                                   24.007913   \n",
       "\n",
       "       secondary_cleaner.state.floatbank4_b_level  \\\n",
       "count                                14148.000000   \n",
       "mean                                  -460.229416   \n",
       "std                                     58.843586   \n",
       "min                                   -799.889113   \n",
       "25%                                   -500.149000   \n",
       "50%                                   -499.388738   \n",
       "75%                                   -400.039008   \n",
       "max                                   -145.071088   \n",
       "\n",
       "       secondary_cleaner.state.floatbank5_a_air  \\\n",
       "count                              14148.000000   \n",
       "mean                                  16.775136   \n",
       "std                                    5.831906   \n",
       "min                                   -0.372054   \n",
       "25%                                   11.083980   \n",
       "50%                                   17.932223   \n",
       "75%                                   21.346550   \n",
       "max                                   43.709931   \n",
       "\n",
       "       secondary_cleaner.state.floatbank5_a_level  \\\n",
       "count                                14148.000000   \n",
       "mean                                  -483.956022   \n",
       "std                                     37.892788   \n",
       "min                                   -797.142475   \n",
       "25%                                   -500.363177   \n",
       "50%                                   -499.702452   \n",
       "75%                                   -487.712108   \n",
       "max                                   -275.073125   \n",
       "\n",
       "       secondary_cleaner.state.floatbank5_b_air  \\\n",
       "count                              14148.000000   \n",
       "mean                                  13.064590   \n",
       "std                                    5.765617   \n",
       "min                                    0.646208   \n",
       "25%                                    8.994405   \n",
       "50%                                   11.997547   \n",
       "75%                                   17.982903   \n",
       "max                                   27.926001   \n",
       "\n",
       "       secondary_cleaner.state.floatbank5_b_level  \\\n",
       "count                                14148.000000   \n",
       "mean                                  -483.966564   \n",
       "std                                     39.207913   \n",
       "min                                   -800.006180   \n",
       "25%                                   -500.105994   \n",
       "50%                                   -499.914556   \n",
       "75%                                   -453.186936   \n",
       "max                                   -157.396071   \n",
       "\n",
       "       secondary_cleaner.state.floatbank6_a_air  \\\n",
       "count                              14147.000000   \n",
       "mean                                  19.577539   \n",
       "std                                    5.764417   \n",
       "min                                    0.195324   \n",
       "25%                                   14.989304   \n",
       "50%                                   19.984175   \n",
       "75%                                   24.991623   \n",
       "max                                   32.188906   \n",
       "\n",
       "       secondary_cleaner.state.floatbank6_a_level  \n",
       "count                                14148.000000  \n",
       "mean                                  -506.798480  \n",
       "std                                     37.079249  \n",
       "min                                   -809.398668  \n",
       "25%                                   -500.745104  \n",
       "50%                                   -500.061431  \n",
       "75%                                   -499.536466  \n",
       "max                                   -104.427459  \n",
       "\n",
       "[8 rows x 86 columns]"
      ]
     },
     "execution_count": 5,
     "metadata": {},
     "output_type": "execute_result"
    }
   ],
   "source": [
    "data_train.describe()"
   ]
  },
  {
   "cell_type": "code",
   "execution_count": 6,
   "metadata": {},
   "outputs": [
    {
     "data": {
      "text/plain": [
       "(14149, 87)"
      ]
     },
     "execution_count": 6,
     "metadata": {},
     "output_type": "execute_result"
    }
   ],
   "source": [
    "data_train.shape"
   ]
  },
  {
   "cell_type": "code",
   "execution_count": 7,
   "metadata": {},
   "outputs": [
    {
     "data": {
      "text/html": [
       "<div>\n",
       "<style scoped>\n",
       "    .dataframe tbody tr th:only-of-type {\n",
       "        vertical-align: middle;\n",
       "    }\n",
       "\n",
       "    .dataframe tbody tr th {\n",
       "        vertical-align: top;\n",
       "    }\n",
       "\n",
       "    .dataframe thead th {\n",
       "        text-align: right;\n",
       "    }\n",
       "</style>\n",
       "<table border=\"1\" class=\"dataframe\">\n",
       "  <thead>\n",
       "    <tr style=\"text-align: right;\">\n",
       "      <th></th>\n",
       "      <th>primary_cleaner.input.sulfate</th>\n",
       "      <th>primary_cleaner.input.depressant</th>\n",
       "      <th>primary_cleaner.input.feed_size</th>\n",
       "      <th>primary_cleaner.input.xanthate</th>\n",
       "      <th>primary_cleaner.state.floatbank8_a_air</th>\n",
       "      <th>primary_cleaner.state.floatbank8_a_level</th>\n",
       "      <th>primary_cleaner.state.floatbank8_b_air</th>\n",
       "      <th>primary_cleaner.state.floatbank8_b_level</th>\n",
       "      <th>primary_cleaner.state.floatbank8_c_air</th>\n",
       "      <th>primary_cleaner.state.floatbank8_c_level</th>\n",
       "      <th>...</th>\n",
       "      <th>secondary_cleaner.state.floatbank4_a_air</th>\n",
       "      <th>secondary_cleaner.state.floatbank4_a_level</th>\n",
       "      <th>secondary_cleaner.state.floatbank4_b_air</th>\n",
       "      <th>secondary_cleaner.state.floatbank4_b_level</th>\n",
       "      <th>secondary_cleaner.state.floatbank5_a_air</th>\n",
       "      <th>secondary_cleaner.state.floatbank5_a_level</th>\n",
       "      <th>secondary_cleaner.state.floatbank5_b_air</th>\n",
       "      <th>secondary_cleaner.state.floatbank5_b_level</th>\n",
       "      <th>secondary_cleaner.state.floatbank6_a_air</th>\n",
       "      <th>secondary_cleaner.state.floatbank6_a_level</th>\n",
       "    </tr>\n",
       "  </thead>\n",
       "  <tbody>\n",
       "    <tr>\n",
       "      <th>count</th>\n",
       "      <td>5286.000000</td>\n",
       "      <td>5285.000000</td>\n",
       "      <td>5290.000000</td>\n",
       "      <td>5286.000000</td>\n",
       "      <td>5.290000e+03</td>\n",
       "      <td>5290.000000</td>\n",
       "      <td>5.290000e+03</td>\n",
       "      <td>5290.000000</td>\n",
       "      <td>5.290000e+03</td>\n",
       "      <td>5290.000000</td>\n",
       "      <td>...</td>\n",
       "      <td>5.290000e+03</td>\n",
       "      <td>5290.000000</td>\n",
       "      <td>5.290000e+03</td>\n",
       "      <td>5290.000000</td>\n",
       "      <td>5290.000000</td>\n",
       "      <td>5290.000000</td>\n",
       "      <td>5290.000000</td>\n",
       "      <td>5290.000000</td>\n",
       "      <td>5290.000000</td>\n",
       "      <td>5290.000000</td>\n",
       "    </tr>\n",
       "    <tr>\n",
       "      <th>mean</th>\n",
       "      <td>174.839652</td>\n",
       "      <td>8.683596</td>\n",
       "      <td>7.266339</td>\n",
       "      <td>1.383803</td>\n",
       "      <td>1.539494e+03</td>\n",
       "      <td>-497.665883</td>\n",
       "      <td>1.545174e+03</td>\n",
       "      <td>-500.273098</td>\n",
       "      <td>1.527272e+03</td>\n",
       "      <td>-498.330680</td>\n",
       "      <td>...</td>\n",
       "      <td>1.632007e+01</td>\n",
       "      <td>-505.144570</td>\n",
       "      <td>1.373544e+01</td>\n",
       "      <td>-463.349858</td>\n",
       "      <td>12.804186</td>\n",
       "      <td>-501.329122</td>\n",
       "      <td>9.881145</td>\n",
       "      <td>-495.663398</td>\n",
       "      <td>17.304935</td>\n",
       "      <td>-501.793193</td>\n",
       "    </tr>\n",
       "    <tr>\n",
       "      <th>std</th>\n",
       "      <td>43.027080</td>\n",
       "      <td>3.072050</td>\n",
       "      <td>0.610219</td>\n",
       "      <td>0.643474</td>\n",
       "      <td>1.167979e+02</td>\n",
       "      <td>19.952431</td>\n",
       "      <td>1.222246e+02</td>\n",
       "      <td>32.968307</td>\n",
       "      <td>1.225380e+02</td>\n",
       "      <td>21.964876</td>\n",
       "      <td>...</td>\n",
       "      <td>3.493583e+00</td>\n",
       "      <td>31.427337</td>\n",
       "      <td>3.430484e+00</td>\n",
       "      <td>86.189107</td>\n",
       "      <td>3.026591</td>\n",
       "      <td>17.951495</td>\n",
       "      <td>2.868205</td>\n",
       "      <td>34.535007</td>\n",
       "      <td>4.536544</td>\n",
       "      <td>39.044215</td>\n",
       "    </tr>\n",
       "    <tr>\n",
       "      <th>min</th>\n",
       "      <td>2.566156</td>\n",
       "      <td>0.003839</td>\n",
       "      <td>5.650000</td>\n",
       "      <td>0.004984</td>\n",
       "      <td>5.445860e-32</td>\n",
       "      <td>-795.316337</td>\n",
       "      <td>6.647490e-32</td>\n",
       "      <td>-799.997015</td>\n",
       "      <td>4.033736e-32</td>\n",
       "      <td>-799.960571</td>\n",
       "      <td>...</td>\n",
       "      <td>1.079872e-16</td>\n",
       "      <td>-799.798523</td>\n",
       "      <td>2.489718e-17</td>\n",
       "      <td>-800.836914</td>\n",
       "      <td>0.069227</td>\n",
       "      <td>-797.323986</td>\n",
       "      <td>0.528083</td>\n",
       "      <td>-800.220337</td>\n",
       "      <td>-0.079426</td>\n",
       "      <td>-809.741464</td>\n",
       "    </tr>\n",
       "    <tr>\n",
       "      <th>25%</th>\n",
       "      <td>147.121401</td>\n",
       "      <td>6.489555</td>\n",
       "      <td>6.890000</td>\n",
       "      <td>0.907623</td>\n",
       "      <td>1.498936e+03</td>\n",
       "      <td>-500.357298</td>\n",
       "      <td>1.498971e+03</td>\n",
       "      <td>-500.703002</td>\n",
       "      <td>1.473230e+03</td>\n",
       "      <td>-501.018117</td>\n",
       "      <td>...</td>\n",
       "      <td>1.403618e+01</td>\n",
       "      <td>-500.868258</td>\n",
       "      <td>1.202862e+01</td>\n",
       "      <td>-500.323028</td>\n",
       "      <td>10.914838</td>\n",
       "      <td>-500.726841</td>\n",
       "      <td>8.036719</td>\n",
       "      <td>-500.194668</td>\n",
       "      <td>13.997317</td>\n",
       "      <td>-500.690984</td>\n",
       "    </tr>\n",
       "    <tr>\n",
       "      <th>50%</th>\n",
       "      <td>177.828489</td>\n",
       "      <td>8.052207</td>\n",
       "      <td>7.250000</td>\n",
       "      <td>1.197610</td>\n",
       "      <td>1.585129e+03</td>\n",
       "      <td>-499.969164</td>\n",
       "      <td>1.595622e+03</td>\n",
       "      <td>-500.028514</td>\n",
       "      <td>1.549595e+03</td>\n",
       "      <td>-500.017711</td>\n",
       "      <td>...</td>\n",
       "      <td>1.700847e+01</td>\n",
       "      <td>-500.115727</td>\n",
       "      <td>1.496486e+01</td>\n",
       "      <td>-499.576513</td>\n",
       "      <td>12.954182</td>\n",
       "      <td>-499.990332</td>\n",
       "      <td>10.004301</td>\n",
       "      <td>-499.990535</td>\n",
       "      <td>16.014935</td>\n",
       "      <td>-500.007126</td>\n",
       "    </tr>\n",
       "    <tr>\n",
       "      <th>75%</th>\n",
       "      <td>208.125438</td>\n",
       "      <td>10.027764</td>\n",
       "      <td>7.600000</td>\n",
       "      <td>1.797819</td>\n",
       "      <td>1.602077e+03</td>\n",
       "      <td>-499.568951</td>\n",
       "      <td>1.602324e+03</td>\n",
       "      <td>-499.293257</td>\n",
       "      <td>1.601144e+03</td>\n",
       "      <td>-498.994130</td>\n",
       "      <td>...</td>\n",
       "      <td>1.803862e+01</td>\n",
       "      <td>-499.404224</td>\n",
       "      <td>1.596213e+01</td>\n",
       "      <td>-400.933805</td>\n",
       "      <td>15.097528</td>\n",
       "      <td>-499.283191</td>\n",
       "      <td>11.997467</td>\n",
       "      <td>-499.719913</td>\n",
       "      <td>21.020013</td>\n",
       "      <td>-499.373018</td>\n",
       "    </tr>\n",
       "    <tr>\n",
       "      <th>max</th>\n",
       "      <td>265.983123</td>\n",
       "      <td>40.000000</td>\n",
       "      <td>15.500000</td>\n",
       "      <td>4.102454</td>\n",
       "      <td>2.103104e+03</td>\n",
       "      <td>-57.195404</td>\n",
       "      <td>1.813084e+03</td>\n",
       "      <td>-142.527229</td>\n",
       "      <td>1.715054e+03</td>\n",
       "      <td>-150.937035</td>\n",
       "      <td>...</td>\n",
       "      <td>3.005180e+01</td>\n",
       "      <td>-401.565212</td>\n",
       "      <td>3.126971e+01</td>\n",
       "      <td>-6.506986</td>\n",
       "      <td>25.258848</td>\n",
       "      <td>-244.483566</td>\n",
       "      <td>14.086866</td>\n",
       "      <td>-137.740004</td>\n",
       "      <td>26.705889</td>\n",
       "      <td>-123.307487</td>\n",
       "    </tr>\n",
       "  </tbody>\n",
       "</table>\n",
       "<p>8 rows × 52 columns</p>\n",
       "</div>"
      ],
      "text/plain": [
       "       primary_cleaner.input.sulfate  primary_cleaner.input.depressant  \\\n",
       "count                    5286.000000                       5285.000000   \n",
       "mean                      174.839652                          8.683596   \n",
       "std                        43.027080                          3.072050   \n",
       "min                         2.566156                          0.003839   \n",
       "25%                       147.121401                          6.489555   \n",
       "50%                       177.828489                          8.052207   \n",
       "75%                       208.125438                         10.027764   \n",
       "max                       265.983123                         40.000000   \n",
       "\n",
       "       primary_cleaner.input.feed_size  primary_cleaner.input.xanthate  \\\n",
       "count                      5290.000000                     5286.000000   \n",
       "mean                          7.266339                        1.383803   \n",
       "std                           0.610219                        0.643474   \n",
       "min                           5.650000                        0.004984   \n",
       "25%                           6.890000                        0.907623   \n",
       "50%                           7.250000                        1.197610   \n",
       "75%                           7.600000                        1.797819   \n",
       "max                          15.500000                        4.102454   \n",
       "\n",
       "       primary_cleaner.state.floatbank8_a_air  \\\n",
       "count                            5.290000e+03   \n",
       "mean                             1.539494e+03   \n",
       "std                              1.167979e+02   \n",
       "min                              5.445860e-32   \n",
       "25%                              1.498936e+03   \n",
       "50%                              1.585129e+03   \n",
       "75%                              1.602077e+03   \n",
       "max                              2.103104e+03   \n",
       "\n",
       "       primary_cleaner.state.floatbank8_a_level  \\\n",
       "count                               5290.000000   \n",
       "mean                                -497.665883   \n",
       "std                                   19.952431   \n",
       "min                                 -795.316337   \n",
       "25%                                 -500.357298   \n",
       "50%                                 -499.969164   \n",
       "75%                                 -499.568951   \n",
       "max                                  -57.195404   \n",
       "\n",
       "       primary_cleaner.state.floatbank8_b_air  \\\n",
       "count                            5.290000e+03   \n",
       "mean                             1.545174e+03   \n",
       "std                              1.222246e+02   \n",
       "min                              6.647490e-32   \n",
       "25%                              1.498971e+03   \n",
       "50%                              1.595622e+03   \n",
       "75%                              1.602324e+03   \n",
       "max                              1.813084e+03   \n",
       "\n",
       "       primary_cleaner.state.floatbank8_b_level  \\\n",
       "count                               5290.000000   \n",
       "mean                                -500.273098   \n",
       "std                                   32.968307   \n",
       "min                                 -799.997015   \n",
       "25%                                 -500.703002   \n",
       "50%                                 -500.028514   \n",
       "75%                                 -499.293257   \n",
       "max                                 -142.527229   \n",
       "\n",
       "       primary_cleaner.state.floatbank8_c_air  \\\n",
       "count                            5.290000e+03   \n",
       "mean                             1.527272e+03   \n",
       "std                              1.225380e+02   \n",
       "min                              4.033736e-32   \n",
       "25%                              1.473230e+03   \n",
       "50%                              1.549595e+03   \n",
       "75%                              1.601144e+03   \n",
       "max                              1.715054e+03   \n",
       "\n",
       "       primary_cleaner.state.floatbank8_c_level  ...  \\\n",
       "count                               5290.000000  ...   \n",
       "mean                                -498.330680  ...   \n",
       "std                                   21.964876  ...   \n",
       "min                                 -799.960571  ...   \n",
       "25%                                 -501.018117  ...   \n",
       "50%                                 -500.017711  ...   \n",
       "75%                                 -498.994130  ...   \n",
       "max                                 -150.937035  ...   \n",
       "\n",
       "       secondary_cleaner.state.floatbank4_a_air  \\\n",
       "count                              5.290000e+03   \n",
       "mean                               1.632007e+01   \n",
       "std                                3.493583e+00   \n",
       "min                                1.079872e-16   \n",
       "25%                                1.403618e+01   \n",
       "50%                                1.700847e+01   \n",
       "75%                                1.803862e+01   \n",
       "max                                3.005180e+01   \n",
       "\n",
       "       secondary_cleaner.state.floatbank4_a_level  \\\n",
       "count                                 5290.000000   \n",
       "mean                                  -505.144570   \n",
       "std                                     31.427337   \n",
       "min                                   -799.798523   \n",
       "25%                                   -500.868258   \n",
       "50%                                   -500.115727   \n",
       "75%                                   -499.404224   \n",
       "max                                   -401.565212   \n",
       "\n",
       "       secondary_cleaner.state.floatbank4_b_air  \\\n",
       "count                              5.290000e+03   \n",
       "mean                               1.373544e+01   \n",
       "std                                3.430484e+00   \n",
       "min                                2.489718e-17   \n",
       "25%                                1.202862e+01   \n",
       "50%                                1.496486e+01   \n",
       "75%                                1.596213e+01   \n",
       "max                                3.126971e+01   \n",
       "\n",
       "       secondary_cleaner.state.floatbank4_b_level  \\\n",
       "count                                 5290.000000   \n",
       "mean                                  -463.349858   \n",
       "std                                     86.189107   \n",
       "min                                   -800.836914   \n",
       "25%                                   -500.323028   \n",
       "50%                                   -499.576513   \n",
       "75%                                   -400.933805   \n",
       "max                                     -6.506986   \n",
       "\n",
       "       secondary_cleaner.state.floatbank5_a_air  \\\n",
       "count                               5290.000000   \n",
       "mean                                  12.804186   \n",
       "std                                    3.026591   \n",
       "min                                    0.069227   \n",
       "25%                                   10.914838   \n",
       "50%                                   12.954182   \n",
       "75%                                   15.097528   \n",
       "max                                   25.258848   \n",
       "\n",
       "       secondary_cleaner.state.floatbank5_a_level  \\\n",
       "count                                 5290.000000   \n",
       "mean                                  -501.329122   \n",
       "std                                     17.951495   \n",
       "min                                   -797.323986   \n",
       "25%                                   -500.726841   \n",
       "50%                                   -499.990332   \n",
       "75%                                   -499.283191   \n",
       "max                                   -244.483566   \n",
       "\n",
       "       secondary_cleaner.state.floatbank5_b_air  \\\n",
       "count                               5290.000000   \n",
       "mean                                   9.881145   \n",
       "std                                    2.868205   \n",
       "min                                    0.528083   \n",
       "25%                                    8.036719   \n",
       "50%                                   10.004301   \n",
       "75%                                   11.997467   \n",
       "max                                   14.086866   \n",
       "\n",
       "       secondary_cleaner.state.floatbank5_b_level  \\\n",
       "count                                 5290.000000   \n",
       "mean                                  -495.663398   \n",
       "std                                     34.535007   \n",
       "min                                   -800.220337   \n",
       "25%                                   -500.194668   \n",
       "50%                                   -499.990535   \n",
       "75%                                   -499.719913   \n",
       "max                                   -137.740004   \n",
       "\n",
       "       secondary_cleaner.state.floatbank6_a_air  \\\n",
       "count                               5290.000000   \n",
       "mean                                  17.304935   \n",
       "std                                    4.536544   \n",
       "min                                   -0.079426   \n",
       "25%                                   13.997317   \n",
       "50%                                   16.014935   \n",
       "75%                                   21.020013   \n",
       "max                                   26.705889   \n",
       "\n",
       "       secondary_cleaner.state.floatbank6_a_level  \n",
       "count                                 5290.000000  \n",
       "mean                                  -501.793193  \n",
       "std                                     39.044215  \n",
       "min                                   -809.741464  \n",
       "25%                                   -500.690984  \n",
       "50%                                   -500.007126  \n",
       "75%                                   -499.373018  \n",
       "max                                   -123.307487  \n",
       "\n",
       "[8 rows x 52 columns]"
      ]
     },
     "execution_count": 7,
     "metadata": {},
     "output_type": "execute_result"
    }
   ],
   "source": [
    "data_test.describe()"
   ]
  },
  {
   "cell_type": "code",
   "execution_count": 8,
   "metadata": {},
   "outputs": [
    {
     "data": {
      "text/plain": [
       "(5290, 53)"
      ]
     },
     "execution_count": 8,
     "metadata": {},
     "output_type": "execute_result"
    }
   ],
   "source": [
    "data_test.shape"
   ]
  },
  {
   "cell_type": "code",
   "execution_count": 9,
   "metadata": {},
   "outputs": [
    {
     "data": {
      "text/html": [
       "<div>\n",
       "<style scoped>\n",
       "    .dataframe tbody tr th:only-of-type {\n",
       "        vertical-align: middle;\n",
       "    }\n",
       "\n",
       "    .dataframe tbody tr th {\n",
       "        vertical-align: top;\n",
       "    }\n",
       "\n",
       "    .dataframe thead th {\n",
       "        text-align: right;\n",
       "    }\n",
       "</style>\n",
       "<table border=\"1\" class=\"dataframe\">\n",
       "  <thead>\n",
       "    <tr style=\"text-align: right;\">\n",
       "      <th></th>\n",
       "      <th>date</th>\n",
       "      <th>final.output.concentrate_ag</th>\n",
       "      <th>final.output.concentrate_pb</th>\n",
       "      <th>final.output.concentrate_sol</th>\n",
       "      <th>final.output.concentrate_au</th>\n",
       "      <th>final.output.recovery</th>\n",
       "      <th>final.output.tail_ag</th>\n",
       "      <th>final.output.tail_pb</th>\n",
       "      <th>final.output.tail_sol</th>\n",
       "      <th>final.output.tail_au</th>\n",
       "      <th>...</th>\n",
       "      <th>secondary_cleaner.state.floatbank4_a_air</th>\n",
       "      <th>secondary_cleaner.state.floatbank4_a_level</th>\n",
       "      <th>secondary_cleaner.state.floatbank4_b_air</th>\n",
       "      <th>secondary_cleaner.state.floatbank4_b_level</th>\n",
       "      <th>secondary_cleaner.state.floatbank5_a_air</th>\n",
       "      <th>secondary_cleaner.state.floatbank5_a_level</th>\n",
       "      <th>secondary_cleaner.state.floatbank5_b_air</th>\n",
       "      <th>secondary_cleaner.state.floatbank5_b_level</th>\n",
       "      <th>secondary_cleaner.state.floatbank6_a_air</th>\n",
       "      <th>secondary_cleaner.state.floatbank6_a_level</th>\n",
       "    </tr>\n",
       "  </thead>\n",
       "  <tbody>\n",
       "    <tr>\n",
       "      <th>0</th>\n",
       "      <td>2016-01-15 00:00:00</td>\n",
       "      <td>6.055403</td>\n",
       "      <td>9.889648</td>\n",
       "      <td>5.507324</td>\n",
       "      <td>42.192020</td>\n",
       "      <td>70.541216</td>\n",
       "      <td>10.411962</td>\n",
       "      <td>0.895447</td>\n",
       "      <td>16.904297</td>\n",
       "      <td>2.143149</td>\n",
       "      <td>...</td>\n",
       "      <td>14.016835</td>\n",
       "      <td>-502.488007</td>\n",
       "      <td>12.099931</td>\n",
       "      <td>-504.715942</td>\n",
       "      <td>9.925633</td>\n",
       "      <td>-498.310211</td>\n",
       "      <td>8.079666</td>\n",
       "      <td>-500.470978</td>\n",
       "      <td>14.151341</td>\n",
       "      <td>-605.841980</td>\n",
       "    </tr>\n",
       "    <tr>\n",
       "      <th>1</th>\n",
       "      <td>2016-01-15 01:00:00</td>\n",
       "      <td>6.029369</td>\n",
       "      <td>9.968944</td>\n",
       "      <td>5.257781</td>\n",
       "      <td>42.701629</td>\n",
       "      <td>69.266198</td>\n",
       "      <td>10.462676</td>\n",
       "      <td>0.927452</td>\n",
       "      <td>16.634514</td>\n",
       "      <td>2.224930</td>\n",
       "      <td>...</td>\n",
       "      <td>13.992281</td>\n",
       "      <td>-505.503262</td>\n",
       "      <td>11.950531</td>\n",
       "      <td>-501.331529</td>\n",
       "      <td>10.039245</td>\n",
       "      <td>-500.169983</td>\n",
       "      <td>7.984757</td>\n",
       "      <td>-500.582168</td>\n",
       "      <td>13.998353</td>\n",
       "      <td>-599.787184</td>\n",
       "    </tr>\n",
       "    <tr>\n",
       "      <th>2</th>\n",
       "      <td>2016-01-15 02:00:00</td>\n",
       "      <td>6.055926</td>\n",
       "      <td>10.213995</td>\n",
       "      <td>5.383759</td>\n",
       "      <td>42.657501</td>\n",
       "      <td>68.116445</td>\n",
       "      <td>10.507046</td>\n",
       "      <td>0.953716</td>\n",
       "      <td>16.208849</td>\n",
       "      <td>2.257889</td>\n",
       "      <td>...</td>\n",
       "      <td>14.015015</td>\n",
       "      <td>-502.520901</td>\n",
       "      <td>11.912783</td>\n",
       "      <td>-501.133383</td>\n",
       "      <td>10.070913</td>\n",
       "      <td>-500.129135</td>\n",
       "      <td>8.013877</td>\n",
       "      <td>-500.517572</td>\n",
       "      <td>14.028663</td>\n",
       "      <td>-601.427363</td>\n",
       "    </tr>\n",
       "    <tr>\n",
       "      <th>3</th>\n",
       "      <td>2016-01-15 03:00:00</td>\n",
       "      <td>6.047977</td>\n",
       "      <td>9.977019</td>\n",
       "      <td>4.858634</td>\n",
       "      <td>42.689819</td>\n",
       "      <td>68.347543</td>\n",
       "      <td>10.422762</td>\n",
       "      <td>0.883763</td>\n",
       "      <td>16.532835</td>\n",
       "      <td>2.146849</td>\n",
       "      <td>...</td>\n",
       "      <td>14.036510</td>\n",
       "      <td>-500.857308</td>\n",
       "      <td>11.999550</td>\n",
       "      <td>-501.193686</td>\n",
       "      <td>9.970366</td>\n",
       "      <td>-499.201640</td>\n",
       "      <td>7.977324</td>\n",
       "      <td>-500.255908</td>\n",
       "      <td>14.005551</td>\n",
       "      <td>-599.996129</td>\n",
       "    </tr>\n",
       "    <tr>\n",
       "      <th>4</th>\n",
       "      <td>2016-01-15 04:00:00</td>\n",
       "      <td>6.148599</td>\n",
       "      <td>10.142511</td>\n",
       "      <td>4.939416</td>\n",
       "      <td>42.774141</td>\n",
       "      <td>66.927016</td>\n",
       "      <td>10.360302</td>\n",
       "      <td>0.792826</td>\n",
       "      <td>16.525686</td>\n",
       "      <td>2.055292</td>\n",
       "      <td>...</td>\n",
       "      <td>14.027298</td>\n",
       "      <td>-499.838632</td>\n",
       "      <td>11.953070</td>\n",
       "      <td>-501.053894</td>\n",
       "      <td>9.925709</td>\n",
       "      <td>-501.686727</td>\n",
       "      <td>7.894242</td>\n",
       "      <td>-500.356035</td>\n",
       "      <td>13.996647</td>\n",
       "      <td>-601.496691</td>\n",
       "    </tr>\n",
       "  </tbody>\n",
       "</table>\n",
       "<p>5 rows × 87 columns</p>\n",
       "</div>"
      ],
      "text/plain": [
       "                  date  final.output.concentrate_ag  \\\n",
       "0  2016-01-15 00:00:00                     6.055403   \n",
       "1  2016-01-15 01:00:00                     6.029369   \n",
       "2  2016-01-15 02:00:00                     6.055926   \n",
       "3  2016-01-15 03:00:00                     6.047977   \n",
       "4  2016-01-15 04:00:00                     6.148599   \n",
       "\n",
       "   final.output.concentrate_pb  final.output.concentrate_sol  \\\n",
       "0                     9.889648                      5.507324   \n",
       "1                     9.968944                      5.257781   \n",
       "2                    10.213995                      5.383759   \n",
       "3                     9.977019                      4.858634   \n",
       "4                    10.142511                      4.939416   \n",
       "\n",
       "   final.output.concentrate_au  final.output.recovery  final.output.tail_ag  \\\n",
       "0                    42.192020              70.541216             10.411962   \n",
       "1                    42.701629              69.266198             10.462676   \n",
       "2                    42.657501              68.116445             10.507046   \n",
       "3                    42.689819              68.347543             10.422762   \n",
       "4                    42.774141              66.927016             10.360302   \n",
       "\n",
       "   final.output.tail_pb  final.output.tail_sol  final.output.tail_au  ...  \\\n",
       "0              0.895447              16.904297              2.143149  ...   \n",
       "1              0.927452              16.634514              2.224930  ...   \n",
       "2              0.953716              16.208849              2.257889  ...   \n",
       "3              0.883763              16.532835              2.146849  ...   \n",
       "4              0.792826              16.525686              2.055292  ...   \n",
       "\n",
       "   secondary_cleaner.state.floatbank4_a_air  \\\n",
       "0                                 14.016835   \n",
       "1                                 13.992281   \n",
       "2                                 14.015015   \n",
       "3                                 14.036510   \n",
       "4                                 14.027298   \n",
       "\n",
       "   secondary_cleaner.state.floatbank4_a_level  \\\n",
       "0                                 -502.488007   \n",
       "1                                 -505.503262   \n",
       "2                                 -502.520901   \n",
       "3                                 -500.857308   \n",
       "4                                 -499.838632   \n",
       "\n",
       "   secondary_cleaner.state.floatbank4_b_air  \\\n",
       "0                                 12.099931   \n",
       "1                                 11.950531   \n",
       "2                                 11.912783   \n",
       "3                                 11.999550   \n",
       "4                                 11.953070   \n",
       "\n",
       "   secondary_cleaner.state.floatbank4_b_level  \\\n",
       "0                                 -504.715942   \n",
       "1                                 -501.331529   \n",
       "2                                 -501.133383   \n",
       "3                                 -501.193686   \n",
       "4                                 -501.053894   \n",
       "\n",
       "   secondary_cleaner.state.floatbank5_a_air  \\\n",
       "0                                  9.925633   \n",
       "1                                 10.039245   \n",
       "2                                 10.070913   \n",
       "3                                  9.970366   \n",
       "4                                  9.925709   \n",
       "\n",
       "   secondary_cleaner.state.floatbank5_a_level  \\\n",
       "0                                 -498.310211   \n",
       "1                                 -500.169983   \n",
       "2                                 -500.129135   \n",
       "3                                 -499.201640   \n",
       "4                                 -501.686727   \n",
       "\n",
       "   secondary_cleaner.state.floatbank5_b_air  \\\n",
       "0                                  8.079666   \n",
       "1                                  7.984757   \n",
       "2                                  8.013877   \n",
       "3                                  7.977324   \n",
       "4                                  7.894242   \n",
       "\n",
       "   secondary_cleaner.state.floatbank5_b_level  \\\n",
       "0                                 -500.470978   \n",
       "1                                 -500.582168   \n",
       "2                                 -500.517572   \n",
       "3                                 -500.255908   \n",
       "4                                 -500.356035   \n",
       "\n",
       "   secondary_cleaner.state.floatbank6_a_air  \\\n",
       "0                                 14.151341   \n",
       "1                                 13.998353   \n",
       "2                                 14.028663   \n",
       "3                                 14.005551   \n",
       "4                                 13.996647   \n",
       "\n",
       "   secondary_cleaner.state.floatbank6_a_level  \n",
       "0                                 -605.841980  \n",
       "1                                 -599.787184  \n",
       "2                                 -601.427363  \n",
       "3                                 -599.996129  \n",
       "4                                 -601.496691  \n",
       "\n",
       "[5 rows x 87 columns]"
      ]
     },
     "execution_count": 9,
     "metadata": {},
     "output_type": "execute_result"
    }
   ],
   "source": [
    "data_full.head()"
   ]
  },
  {
   "cell_type": "code",
   "execution_count": 10,
   "metadata": {},
   "outputs": [
    {
     "data": {
      "text/html": [
       "<div>\n",
       "<style scoped>\n",
       "    .dataframe tbody tr th:only-of-type {\n",
       "        vertical-align: middle;\n",
       "    }\n",
       "\n",
       "    .dataframe tbody tr th {\n",
       "        vertical-align: top;\n",
       "    }\n",
       "\n",
       "    .dataframe thead th {\n",
       "        text-align: right;\n",
       "    }\n",
       "</style>\n",
       "<table border=\"1\" class=\"dataframe\">\n",
       "  <thead>\n",
       "    <tr style=\"text-align: right;\">\n",
       "      <th></th>\n",
       "      <th>final.output.concentrate_ag</th>\n",
       "      <th>final.output.concentrate_pb</th>\n",
       "      <th>final.output.concentrate_sol</th>\n",
       "      <th>final.output.concentrate_au</th>\n",
       "      <th>final.output.recovery</th>\n",
       "      <th>final.output.tail_ag</th>\n",
       "      <th>final.output.tail_pb</th>\n",
       "      <th>final.output.tail_sol</th>\n",
       "      <th>final.output.tail_au</th>\n",
       "      <th>primary_cleaner.input.sulfate</th>\n",
       "      <th>...</th>\n",
       "      <th>secondary_cleaner.state.floatbank4_a_air</th>\n",
       "      <th>secondary_cleaner.state.floatbank4_a_level</th>\n",
       "      <th>secondary_cleaner.state.floatbank4_b_air</th>\n",
       "      <th>secondary_cleaner.state.floatbank4_b_level</th>\n",
       "      <th>secondary_cleaner.state.floatbank5_a_air</th>\n",
       "      <th>secondary_cleaner.state.floatbank5_a_level</th>\n",
       "      <th>secondary_cleaner.state.floatbank5_b_air</th>\n",
       "      <th>secondary_cleaner.state.floatbank5_b_level</th>\n",
       "      <th>secondary_cleaner.state.floatbank6_a_air</th>\n",
       "      <th>secondary_cleaner.state.floatbank6_a_level</th>\n",
       "    </tr>\n",
       "  </thead>\n",
       "  <tbody>\n",
       "    <tr>\n",
       "      <th>count</th>\n",
       "      <td>19438.000000</td>\n",
       "      <td>19438.000000</td>\n",
       "      <td>19228.000000</td>\n",
       "      <td>19439.000000</td>\n",
       "      <td>19439.000000</td>\n",
       "      <td>19438.000000</td>\n",
       "      <td>19338.000000</td>\n",
       "      <td>19433.000000</td>\n",
       "      <td>19439.000000</td>\n",
       "      <td>19415.000000</td>\n",
       "      <td>...</td>\n",
       "      <td>19433.000000</td>\n",
       "      <td>19438.000000</td>\n",
       "      <td>19438.000000</td>\n",
       "      <td>19438.000000</td>\n",
       "      <td>19438.000000</td>\n",
       "      <td>19438.000000</td>\n",
       "      <td>19438.000000</td>\n",
       "      <td>19438.000000</td>\n",
       "      <td>19437.000000</td>\n",
       "      <td>19438.000000</td>\n",
       "    </tr>\n",
       "    <tr>\n",
       "      <th>mean</th>\n",
       "      <td>5.168470</td>\n",
       "      <td>9.978895</td>\n",
       "      <td>9.501224</td>\n",
       "      <td>44.076513</td>\n",
       "      <td>67.050208</td>\n",
       "      <td>9.688589</td>\n",
       "      <td>2.705795</td>\n",
       "      <td>10.583728</td>\n",
       "      <td>3.042467</td>\n",
       "      <td>144.624774</td>\n",
       "      <td>...</td>\n",
       "      <td>18.987674</td>\n",
       "      <td>-485.894516</td>\n",
       "      <td>15.010366</td>\n",
       "      <td>-461.078636</td>\n",
       "      <td>15.694452</td>\n",
       "      <td>-488.684065</td>\n",
       "      <td>12.198224</td>\n",
       "      <td>-487.149827</td>\n",
       "      <td>18.959024</td>\n",
       "      <td>-505.436305</td>\n",
       "    </tr>\n",
       "    <tr>\n",
       "      <th>std</th>\n",
       "      <td>1.372348</td>\n",
       "      <td>1.669240</td>\n",
       "      <td>2.787537</td>\n",
       "      <td>5.129784</td>\n",
       "      <td>10.125840</td>\n",
       "      <td>2.328642</td>\n",
       "      <td>0.949077</td>\n",
       "      <td>2.868782</td>\n",
       "      <td>0.922808</td>\n",
       "      <td>44.464071</td>\n",
       "      <td>...</td>\n",
       "      <td>5.411058</td>\n",
       "      <td>47.758570</td>\n",
       "      <td>4.890228</td>\n",
       "      <td>67.405524</td>\n",
       "      <td>5.510974</td>\n",
       "      <td>34.533396</td>\n",
       "      <td>5.333024</td>\n",
       "      <td>38.347312</td>\n",
       "      <td>5.550498</td>\n",
       "      <td>37.689057</td>\n",
       "    </tr>\n",
       "    <tr>\n",
       "      <th>min</th>\n",
       "      <td>0.000000</td>\n",
       "      <td>0.000000</td>\n",
       "      <td>0.000000</td>\n",
       "      <td>0.000000</td>\n",
       "      <td>0.000000</td>\n",
       "      <td>0.000000</td>\n",
       "      <td>0.000000</td>\n",
       "      <td>0.000000</td>\n",
       "      <td>0.000000</td>\n",
       "      <td>0.003112</td>\n",
       "      <td>...</td>\n",
       "      <td>0.000000</td>\n",
       "      <td>-799.798523</td>\n",
       "      <td>0.000000</td>\n",
       "      <td>-800.836914</td>\n",
       "      <td>-0.372054</td>\n",
       "      <td>-797.323986</td>\n",
       "      <td>0.528083</td>\n",
       "      <td>-800.220337</td>\n",
       "      <td>-0.079426</td>\n",
       "      <td>-809.741464</td>\n",
       "    </tr>\n",
       "    <tr>\n",
       "      <th>25%</th>\n",
       "      <td>4.251240</td>\n",
       "      <td>9.137262</td>\n",
       "      <td>7.722820</td>\n",
       "      <td>43.402215</td>\n",
       "      <td>63.299712</td>\n",
       "      <td>8.062878</td>\n",
       "      <td>2.040119</td>\n",
       "      <td>8.938947</td>\n",
       "      <td>2.461138</td>\n",
       "      <td>114.107029</td>\n",
       "      <td>...</td>\n",
       "      <td>14.975734</td>\n",
       "      <td>-500.704892</td>\n",
       "      <td>11.940294</td>\n",
       "      <td>-500.187742</td>\n",
       "      <td>10.988606</td>\n",
       "      <td>-500.458467</td>\n",
       "      <td>8.971105</td>\n",
       "      <td>-500.129462</td>\n",
       "      <td>14.983037</td>\n",
       "      <td>-500.728067</td>\n",
       "    </tr>\n",
       "    <tr>\n",
       "      <th>50%</th>\n",
       "      <td>5.066094</td>\n",
       "      <td>10.102433</td>\n",
       "      <td>9.218961</td>\n",
       "      <td>45.011244</td>\n",
       "      <td>68.172738</td>\n",
       "      <td>9.743623</td>\n",
       "      <td>2.748730</td>\n",
       "      <td>10.622456</td>\n",
       "      <td>2.984909</td>\n",
       "      <td>143.232103</td>\n",
       "      <td>...</td>\n",
       "      <td>18.017481</td>\n",
       "      <td>-499.837793</td>\n",
       "      <td>14.971014</td>\n",
       "      <td>-499.459786</td>\n",
       "      <td>15.000036</td>\n",
       "      <td>-499.802605</td>\n",
       "      <td>11.019433</td>\n",
       "      <td>-499.935317</td>\n",
       "      <td>19.960541</td>\n",
       "      <td>-500.048400</td>\n",
       "    </tr>\n",
       "    <tr>\n",
       "      <th>75%</th>\n",
       "      <td>5.895527</td>\n",
       "      <td>11.035769</td>\n",
       "      <td>10.947813</td>\n",
       "      <td>46.275313</td>\n",
       "      <td>72.686642</td>\n",
       "      <td>11.134294</td>\n",
       "      <td>3.333216</td>\n",
       "      <td>12.104271</td>\n",
       "      <td>3.571351</td>\n",
       "      <td>175.075656</td>\n",
       "      <td>...</td>\n",
       "      <td>23.012470</td>\n",
       "      <td>-498.249730</td>\n",
       "      <td>19.034162</td>\n",
       "      <td>-400.118106</td>\n",
       "      <td>18.026190</td>\n",
       "      <td>-498.384187</td>\n",
       "      <td>14.019088</td>\n",
       "      <td>-499.436708</td>\n",
       "      <td>24.003170</td>\n",
       "      <td>-499.495378</td>\n",
       "    </tr>\n",
       "    <tr>\n",
       "      <th>max</th>\n",
       "      <td>16.001945</td>\n",
       "      <td>17.031899</td>\n",
       "      <td>19.615720</td>\n",
       "      <td>52.756638</td>\n",
       "      <td>100.000000</td>\n",
       "      <td>19.552149</td>\n",
       "      <td>5.804178</td>\n",
       "      <td>22.317730</td>\n",
       "      <td>8.245022</td>\n",
       "      <td>265.983123</td>\n",
       "      <td>...</td>\n",
       "      <td>30.115735</td>\n",
       "      <td>-245.239184</td>\n",
       "      <td>31.269706</td>\n",
       "      <td>-6.506986</td>\n",
       "      <td>43.709931</td>\n",
       "      <td>-244.483566</td>\n",
       "      <td>27.926001</td>\n",
       "      <td>-137.740004</td>\n",
       "      <td>32.188906</td>\n",
       "      <td>-104.427459</td>\n",
       "    </tr>\n",
       "  </tbody>\n",
       "</table>\n",
       "<p>8 rows × 86 columns</p>\n",
       "</div>"
      ],
      "text/plain": [
       "       final.output.concentrate_ag  final.output.concentrate_pb  \\\n",
       "count                 19438.000000                 19438.000000   \n",
       "mean                      5.168470                     9.978895   \n",
       "std                       1.372348                     1.669240   \n",
       "min                       0.000000                     0.000000   \n",
       "25%                       4.251240                     9.137262   \n",
       "50%                       5.066094                    10.102433   \n",
       "75%                       5.895527                    11.035769   \n",
       "max                      16.001945                    17.031899   \n",
       "\n",
       "       final.output.concentrate_sol  final.output.concentrate_au  \\\n",
       "count                  19228.000000                 19439.000000   \n",
       "mean                       9.501224                    44.076513   \n",
       "std                        2.787537                     5.129784   \n",
       "min                        0.000000                     0.000000   \n",
       "25%                        7.722820                    43.402215   \n",
       "50%                        9.218961                    45.011244   \n",
       "75%                       10.947813                    46.275313   \n",
       "max                       19.615720                    52.756638   \n",
       "\n",
       "       final.output.recovery  final.output.tail_ag  final.output.tail_pb  \\\n",
       "count           19439.000000          19438.000000          19338.000000   \n",
       "mean               67.050208              9.688589              2.705795   \n",
       "std                10.125840              2.328642              0.949077   \n",
       "min                 0.000000              0.000000              0.000000   \n",
       "25%                63.299712              8.062878              2.040119   \n",
       "50%                68.172738              9.743623              2.748730   \n",
       "75%                72.686642             11.134294              3.333216   \n",
       "max               100.000000             19.552149              5.804178   \n",
       "\n",
       "       final.output.tail_sol  final.output.tail_au  \\\n",
       "count           19433.000000          19439.000000   \n",
       "mean               10.583728              3.042467   \n",
       "std                 2.868782              0.922808   \n",
       "min                 0.000000              0.000000   \n",
       "25%                 8.938947              2.461138   \n",
       "50%                10.622456              2.984909   \n",
       "75%                12.104271              3.571351   \n",
       "max                22.317730              8.245022   \n",
       "\n",
       "       primary_cleaner.input.sulfate  ...  \\\n",
       "count                   19415.000000  ...   \n",
       "mean                      144.624774  ...   \n",
       "std                        44.464071  ...   \n",
       "min                         0.003112  ...   \n",
       "25%                       114.107029  ...   \n",
       "50%                       143.232103  ...   \n",
       "75%                       175.075656  ...   \n",
       "max                       265.983123  ...   \n",
       "\n",
       "       secondary_cleaner.state.floatbank4_a_air  \\\n",
       "count                              19433.000000   \n",
       "mean                                  18.987674   \n",
       "std                                    5.411058   \n",
       "min                                    0.000000   \n",
       "25%                                   14.975734   \n",
       "50%                                   18.017481   \n",
       "75%                                   23.012470   \n",
       "max                                   30.115735   \n",
       "\n",
       "       secondary_cleaner.state.floatbank4_a_level  \\\n",
       "count                                19438.000000   \n",
       "mean                                  -485.894516   \n",
       "std                                     47.758570   \n",
       "min                                   -799.798523   \n",
       "25%                                   -500.704892   \n",
       "50%                                   -499.837793   \n",
       "75%                                   -498.249730   \n",
       "max                                   -245.239184   \n",
       "\n",
       "       secondary_cleaner.state.floatbank4_b_air  \\\n",
       "count                              19438.000000   \n",
       "mean                                  15.010366   \n",
       "std                                    4.890228   \n",
       "min                                    0.000000   \n",
       "25%                                   11.940294   \n",
       "50%                                   14.971014   \n",
       "75%                                   19.034162   \n",
       "max                                   31.269706   \n",
       "\n",
       "       secondary_cleaner.state.floatbank4_b_level  \\\n",
       "count                                19438.000000   \n",
       "mean                                  -461.078636   \n",
       "std                                     67.405524   \n",
       "min                                   -800.836914   \n",
       "25%                                   -500.187742   \n",
       "50%                                   -499.459786   \n",
       "75%                                   -400.118106   \n",
       "max                                     -6.506986   \n",
       "\n",
       "       secondary_cleaner.state.floatbank5_a_air  \\\n",
       "count                              19438.000000   \n",
       "mean                                  15.694452   \n",
       "std                                    5.510974   \n",
       "min                                   -0.372054   \n",
       "25%                                   10.988606   \n",
       "50%                                   15.000036   \n",
       "75%                                   18.026190   \n",
       "max                                   43.709931   \n",
       "\n",
       "       secondary_cleaner.state.floatbank5_a_level  \\\n",
       "count                                19438.000000   \n",
       "mean                                  -488.684065   \n",
       "std                                     34.533396   \n",
       "min                                   -797.323986   \n",
       "25%                                   -500.458467   \n",
       "50%                                   -499.802605   \n",
       "75%                                   -498.384187   \n",
       "max                                   -244.483566   \n",
       "\n",
       "       secondary_cleaner.state.floatbank5_b_air  \\\n",
       "count                              19438.000000   \n",
       "mean                                  12.198224   \n",
       "std                                    5.333024   \n",
       "min                                    0.528083   \n",
       "25%                                    8.971105   \n",
       "50%                                   11.019433   \n",
       "75%                                   14.019088   \n",
       "max                                   27.926001   \n",
       "\n",
       "       secondary_cleaner.state.floatbank5_b_level  \\\n",
       "count                                19438.000000   \n",
       "mean                                  -487.149827   \n",
       "std                                     38.347312   \n",
       "min                                   -800.220337   \n",
       "25%                                   -500.129462   \n",
       "50%                                   -499.935317   \n",
       "75%                                   -499.436708   \n",
       "max                                   -137.740004   \n",
       "\n",
       "       secondary_cleaner.state.floatbank6_a_air  \\\n",
       "count                              19437.000000   \n",
       "mean                                  18.959024   \n",
       "std                                    5.550498   \n",
       "min                                   -0.079426   \n",
       "25%                                   14.983037   \n",
       "50%                                   19.960541   \n",
       "75%                                   24.003170   \n",
       "max                                   32.188906   \n",
       "\n",
       "       secondary_cleaner.state.floatbank6_a_level  \n",
       "count                                19438.000000  \n",
       "mean                                  -505.436305  \n",
       "std                                     37.689057  \n",
       "min                                   -809.741464  \n",
       "25%                                   -500.728067  \n",
       "50%                                   -500.048400  \n",
       "75%                                   -499.495378  \n",
       "max                                   -104.427459  \n",
       "\n",
       "[8 rows x 86 columns]"
      ]
     },
     "execution_count": 10,
     "metadata": {},
     "output_type": "execute_result"
    }
   ],
   "source": [
    "data_full.describe()"
   ]
  },
  {
   "cell_type": "code",
   "execution_count": 11,
   "metadata": {},
   "outputs": [
    {
     "data": {
      "text/plain": [
       "(19439, 87)"
      ]
     },
     "execution_count": 11,
     "metadata": {},
     "output_type": "execute_result"
    }
   ],
   "source": [
    "data_full.shape"
   ]
  },
  {
   "cell_type": "code",
   "execution_count": 12,
   "metadata": {},
   "outputs": [],
   "source": [
    "#зафиксировал псевдослучайность\n",
    "rnd_state = 12345"
   ]
  },
  {
   "cell_type": "code",
   "execution_count": 13,
   "metadata": {},
   "outputs": [],
   "source": [
    "data_train['date'] = pd.to_datetime(data_train['date'], format='%Y-%m-%dT%H:%M:%S')\n",
    "data_test['date'] = pd.to_datetime(data_test['date'], format='%Y-%m-%dT%H:%M:%S')\n",
    "data_full['date'] = pd.to_datetime(data_full['date'], format='%Y-%m-%dT%H:%M:%S')"
   ]
  },
  {
   "cell_type": "code",
   "execution_count": 14,
   "metadata": {},
   "outputs": [],
   "source": [
    "data_test = data_full[data_full['date'].isin(data_test['date'])]"
   ]
  },
  {
   "cell_type": "markdown",
   "metadata": {},
   "source": [
    "### Эффективность обогощения"
   ]
  },
  {
   "cell_type": "code",
   "execution_count": 15,
   "metadata": {},
   "outputs": [],
   "source": [
    "C = data_train['rougher.output.concentrate_au']\n",
    "F = data_train['rougher.input.feed_au']\n",
    "T = data_train['rougher.output.tail_au']"
   ]
  },
  {
   "cell_type": "code",
   "execution_count": 16,
   "metadata": {},
   "outputs": [],
   "source": [
    "data_train['rougher.output.recovery_calc'] = C * (F - T) * 100 / (F * (C - T))"
   ]
  },
  {
   "cell_type": "code",
   "execution_count": 17,
   "metadata": {},
   "outputs": [
    {
     "data": {
      "text/plain": [
       "1.1131451184435918e-14"
      ]
     },
     "execution_count": 17,
     "metadata": {},
     "output_type": "execute_result"
    }
   ],
   "source": [
    "def mae(target_recovery, calculated_recovery):\n",
    "    return abs(target_recovery - calculated_recovery).sum() / len(target_recovery)\n",
    "\n",
    "target_recovery = data_train['rougher.output.recovery']\n",
    "calculated_recovery = data_train['rougher.output.recovery_calc']\n",
    "\n",
    "mae(target_recovery, calculated_recovery)"
   ]
  },
  {
   "cell_type": "code",
   "execution_count": 18,
   "metadata": {},
   "outputs": [],
   "source": [
    "data_train.drop('rougher.output.recovery_calc', axis=1, inplace=True)"
   ]
  },
  {
   "cell_type": "markdown",
   "metadata": {},
   "source": [
    "### Работа с пропусками"
   ]
  },
  {
   "cell_type": "code",
   "execution_count": 19,
   "metadata": {},
   "outputs": [],
   "source": [
    "for data in (data_train, data_test, data_full):\n",
    "    data.replace(0, np.nan, inplace=True)\n",
    "    data.fillna(method='ffill', inplace=True)"
   ]
  },
  {
   "cell_type": "code",
   "execution_count": 20,
   "metadata": {},
   "outputs": [
    {
     "name": "stdout",
     "output_type": "stream",
     "text": [
      "0\n",
      "0\n",
      "0\n"
     ]
    }
   ],
   "source": [
    "for data in (data_train, data_test, data_full):\n",
    "    print(data.isna().sum().sum())"
   ]
  },
  {
   "cell_type": "markdown",
   "metadata": {},
   "source": [
    "От пропусков избавились и проверили"
   ]
  },
  {
   "cell_type": "markdown",
   "metadata": {},
   "source": [
    "Выводы:\n",
    "\n",
    "\n",
    "Рассмотрели датасеты\n",
    "\n",
    "Зафиксировали псевдослучайность\n",
    "\n",
    "Расчитали MAE \n",
    "\n",
    "Обработали пропуски"
   ]
  },
  {
   "cell_type": "markdown",
   "metadata": {},
   "source": [
    "## Анализ данных"
   ]
  },
  {
   "cell_type": "code",
   "execution_count": 21,
   "metadata": {},
   "outputs": [
    {
     "data": {
      "image/png": "[encoded data removed]",
      "text/plain": [
       "<Figure size 1080x360 with 4 Axes>"
      ]
     },
     "metadata": {
      "needs_background": "light"
     },
     "output_type": "display_data"
    },
    {
     "data": {
      "image/png": "[encoded data removed]",
      "text/plain": [
       "<Figure size 1080x360 with 4 Axes>"
      ]
     },
     "metadata": {
      "needs_background": "light"
     },
     "output_type": "display_data"
    }
   ],
   "source": [
    "process = ['rougher.input.feed',\n",
    "           'rougher.output.concentrate',\n",
    "           'primary_cleaner.output.concentrate',\n",
    "           'final.output.concentrate']\n",
    "\n",
    "process_tail = ['rougher.input.feed',\n",
    "                'rougher.output.tail',\n",
    "                'primary_cleaner.output.tail',\n",
    "                'final.output.tail']\n",
    "\n",
    "metals = ['au', 'ag', 'pb']\n",
    "\n",
    "fig, axs = plt.subplots(1, len(process), figsize=(15, 5), constrained_layout=True)\n",
    "fig.suptitle('Изменение концентрации (output)', fontsize=20)\n",
    "\n",
    "for stage, ax in zip(process, axs):\n",
    "    ax.set_title(stage)\n",
    "    for metal in metals:        \n",
    "        cols = data_train.columns.str.contains(stage+'_'+metal)\n",
    "        sns_ax = sns.distplot(data_train.loc[:, cols].dropna(), label=metal, ax=ax)    \n",
    "plt.legend()\n",
    "\n",
    "fig, axs = plt.subplots(1, 4, figsize=(15, 5), constrained_layout=True)\n",
    "fig.suptitle('Изменение концентрации (tail)', fontsize=20)\n",
    "for stage, ax in zip(process_tail, axs):\n",
    "    ax.set_title(stage)\n",
    "    for metal in metals:        \n",
    "        cols = data_train.columns.str.contains(stage+'_'+metal)\n",
    "        sns_ax = sns.distplot(data_train.loc[:, cols].dropna(), label=metal, ax=ax)   \n",
    "plt.legend()\n",
    "\n",
    "plt.show()"
   ]
  },
  {
   "cell_type": "markdown",
   "metadata": {},
   "source": [
    "Концентрация золотаозрастает в процессе очистки. Так же видим разную концентрацию металлов в хвосте. "
   ]
  },
  {
   "cell_type": "code",
   "execution_count": 22,
   "metadata": {},
   "outputs": [
    {
     "data": {
      "text/plain": [
       "<AxesSubplot:xlabel='rougher.input.feed_size', ylabel='Density'>"
      ]
     },
     "execution_count": 22,
     "metadata": {},
     "output_type": "execute_result"
    },
    {
     "data": {
      "image/png": "[encoded data removed]",
      "text/plain": [
       "<Figure size 432x288 with 1 Axes>"
      ]
     },
     "metadata": {
      "needs_background": "light"
     },
     "output_type": "display_data"
    }
   ],
   "source": [
    "sns.kdeplot(data=data_train['rougher.input.feed_size'].dropna(), label='data_train')\n",
    "sns.kdeplot(data=data_test['rougher.input.feed_size'].dropna(), label='data_test')"
   ]
  },
  {
   "cell_type": "markdown",
   "metadata": {},
   "source": [
    "Различия размеров гранул сырья особо не выделяются. "
   ]
  },
  {
   "cell_type": "code",
   "execution_count": 23,
   "metadata": {},
   "outputs": [],
   "source": [
    "datas = (data_train, data_test)\n",
    "\n",
    "for data in datas:\n",
    "    data.loc[:, 'Суммарная концентрация всех вещевств на стадиях'] = data.loc[:, ['rougher.input.feed_au','rougher.input.feed_ag','rougher.input.feed_pb','rougher.input.feed_sol']].sum(axis=1)\n",
    "    data.loc[:, 'Суммарная концентрация всех вещевств на стадиях.rougher'] = data.loc[:, ['rougher.output.concentrate_au','rougher.output.concentrate_ag','rougher.output.concentrate_pb','rougher.output.concentrate_sol']].sum(axis=1)\n",
    "    data.loc[:, 'Суммарная концентрация всех вещевств на стадиях.final'] = data.loc[:, ['final.output.concentrate_au','final.output.concentrate_ag','final.output.concentrate_pb','final.output.concentrate_sol']].sum(axis=1)"
   ]
  },
  {
   "cell_type": "code",
   "execution_count": 24,
   "metadata": {},
   "outputs": [
    {
     "data": {
      "image/png": "[encoded data removed]",
      "text/plain": [
       "<Figure size 864x504 with 4 Axes>"
      ]
     },
     "metadata": {
      "needs_background": "light"
     },
     "output_type": "display_data"
    },
    {
     "data": {
      "image/png": "[encoded data removed]",
      "text/plain": [
       "<Figure size 864x504 with 4 Axes>"
      ]
     },
     "metadata": {
      "needs_background": "light"
     },
     "output_type": "display_data"
    }
   ],
   "source": [
    "for data in datas:\n",
    "    f, axes = plt.subplots(2, 2, figsize=(12, 7), sharex=True)\n",
    "    sns.distplot(data['Суммарная концентрация всех вещевств на стадиях'], color=\"green\", ax=axes[0, 0])\n",
    "    sns.distplot(data['Суммарная концентрация всех вещевств на стадиях.rougher'], color=\"blue\", ax=axes[0, 1])\n",
    "    sns.distplot(data['Суммарная концентрация всех вещевств на стадиях.final'], color=\"pink\", ax=axes[1, 0]);"
   ]
  },
  {
   "cell_type": "code",
   "execution_count": 25,
   "metadata": {},
   "outputs": [],
   "source": [
    "data_train = data_train[(data_train['Суммарная концентрация всех вещевств на стадиях'] > 10) &\n",
    " (data_train['Суммарная концентрация всех вещевств на стадиях.rougher'] > 20) &\n",
    " (data_train['Суммарная концентрация всех вещевств на стадиях.final'] > 10)]\n",
    "\n",
    "data_test = data_test[(data_test['Суммарная концентрация всех вещевств на стадиях'] > 10) &\n",
    " (data_test['Суммарная концентрация всех вещевств на стадиях.rougher'] > 20) &\n",
    " (data_test['Суммарная концентрация всех вещевств на стадиях.final'] > 10)]"
   ]
  },
  {
   "cell_type": "code",
   "execution_count": 26,
   "metadata": {},
   "outputs": [
    {
     "name": "stdout",
     "output_type": "stream",
     "text": [
      "duplications for data_train:  0\n",
      "duplications for data_test:  0\n"
     ]
    }
   ],
   "source": [
    "def namestr(obj, namespace):\n",
    "    return [name for name in namespace if namespace[name] is obj]\n",
    "\n",
    "for data in (data_train, data_test):\n",
    "    print(f'duplications for {namestr(data, globals())[0]}: ', data.duplicated().sum())\n"
   ]
  },
  {
   "cell_type": "code",
   "execution_count": 27,
   "metadata": {},
   "outputs": [
    {
     "data": {
      "image/png": "[encoded data removed]",
      "text/plain": [
       "<Figure size 864x504 with 4 Axes>"
      ]
     },
     "metadata": {
      "needs_background": "light"
     },
     "output_type": "display_data"
    },
    {
     "data": {
      "image/png": "[encoded data removed]",
      "text/plain": [
       "<Figure size 864x504 with 4 Axes>"
      ]
     },
     "metadata": {
      "needs_background": "light"
     },
     "output_type": "display_data"
    }
   ],
   "source": [
    "for data in (data_train, data_test):\n",
    "    f, axes = plt.subplots(2, 2, figsize=(12, 7), sharex=True)\n",
    "    sns.distplot(data['Суммарная концентрация всех вещевств на стадиях'], color=\"green\", ax=axes[0, 0])\n",
    "    sns.distplot(data['Суммарная концентрация всех вещевств на стадиях.rougher'], color=\"blue\", ax=axes[0, 1])\n",
    "    sns.distplot(data['Суммарная концентрация всех вещевств на стадиях.final'], color=\"pink\", ax=axes[1, 0]);\n"
   ]
  },
  {
   "cell_type": "markdown",
   "metadata": {},
   "source": [
    "Выводы\n",
    "\n",
    "В процессе очистки - концентрация золота возрастает\n",
    "\n",
    "У металлов разная концентрация на разных этапах \n",
    "\n",
    "Сумма концентраций сначала уменьшается, но ближе к финальной увеличивается"
   ]
  },
  {
   "cell_type": "markdown",
   "metadata": {},
   "source": [
    "## Модель"
   ]
  },
  {
   "cell_type": "markdown",
   "metadata": {},
   "source": [
    "### sMAPE"
   ]
  },
  {
   "cell_type": "code",
   "execution_count": 28,
   "metadata": {},
   "outputs": [],
   "source": [
    "def smape(y, y_pred, **kwargs):\n",
    "    return (((abs(y - y_pred) * 2 * 100) /\n",
    "              (abs(y) + abs(y_pred))).sum()) / len(y)\n",
    "\n",
    "def end_smape(rougher_smape, final_smape):\n",
    "    return 0.25 * rougher_smape.item() + 0.75 * final_smape.item()"
   ]
  },
  {
   "cell_type": "code",
   "execution_count": 29,
   "metadata": {},
   "outputs": [],
   "source": [
    "data_cols_for_drop = ['final.output.concentrate_ag',\n",
    "                        'final.output.concentrate_au',\n",
    "                        'final.output.concentrate_pb',\n",
    "                        'final.output.concentrate_sol',\n",
    "                        'final.output.tail_ag',\n",
    "                        'final.output.tail_au',\n",
    "                        'final.output.tail_pb',\n",
    "                        'final.output.tail_sol',\n",
    "                        'primary_cleaner.output.concentrate_ag',\n",
    "                        'primary_cleaner.output.concentrate_au',\n",
    "                        'primary_cleaner.output.concentrate_pb',\n",
    "                        'primary_cleaner.output.concentrate_sol',\n",
    "                        'primary_cleaner.output.tail_ag',\n",
    "                        'primary_cleaner.output.tail_au',\n",
    "                        'primary_cleaner.output.tail_pb',\n",
    "                        'primary_cleaner.output.tail_sol',\n",
    "                        'rougher.calculation.au_pb_ratio',\n",
    "                        'rougher.calculation.floatbank10_sulfate_to_au_feed',\n",
    "                        'rougher.calculation.floatbank11_sulfate_to_au_feed',\n",
    "                        'rougher.calculation.sulfate_to_au_concentrate',\n",
    "                        'rougher.output.concentrate_ag',\n",
    "                        'rougher.output.concentrate_au',\n",
    "                        'rougher.output.concentrate_pb',\n",
    "                        'rougher.output.concentrate_sol',\n",
    "                        'rougher.output.tail_ag',\n",
    "                        'rougher.output.tail_au',\n",
    "                        'rougher.output.tail_pb',\n",
    "                        'rougher.output.tail_sol',\n",
    "                        'secondary_cleaner.output.tail_ag',\n",
    "                        'secondary_cleaner.output.tail_au',\n",
    "                        'secondary_cleaner.output.tail_pb',\n",
    "                        'secondary_cleaner.output.tail_sol']\n"
   ]
  },
  {
   "cell_type": "code",
   "execution_count": 30,
   "metadata": {},
   "outputs": [],
   "source": [
    "data_test = data_test.drop(columns=data_cols_for_drop)\n",
    "data_train = data_train.drop(columns=data_cols_for_drop)"
   ]
  },
  {
   "cell_type": "code",
   "execution_count": 31,
   "metadata": {},
   "outputs": [],
   "source": [
    "def feature_target_rougher(data):\n",
    "    data_cols = pd.Series(data.columns)\n",
    "    features_1_col = list(data_cols[data_cols.str.contains('rougher.input|rougher.state')])\n",
    "    features_1 = data[features_1_col]\n",
    "    \n",
    "    scaler_1 = StandardScaler()\n",
    "    features_1 = scaler_1.fit_transform(features_1)\n",
    "    target_1 = data['rougher.output.recovery']\n",
    "    \n",
    "    return features_1, target_1, scaler_1"
   ]
  },
  {
   "cell_type": "code",
   "execution_count": 32,
   "metadata": {},
   "outputs": [],
   "source": [
    "def feature_target_final(data):\n",
    "    features_2 = data.drop(['final.output.recovery', 'rougher.output.recovery', 'date'], axis=1)\n",
    "    \n",
    "    scaler_2 = StandardScaler()\n",
    "    features_2 = scaler_2.fit_transform(features_2)\n",
    "    target_2 = data['final.output.recovery']\n",
    "    \n",
    "    return features_2, target_2, scaler_2"
   ]
  },
  {
   "cell_type": "code",
   "execution_count": 33,
   "metadata": {},
   "outputs": [],
   "source": [
    "features_1, target_1, scaler_1 = feature_target_rougher(data_train)\n",
    "features_2, target_2, scaler_2 = feature_target_final(data_train)"
   ]
  },
  {
   "cell_type": "code",
   "execution_count": 34,
   "metadata": {},
   "outputs": [],
   "source": [
    "def get_cv_scores(model, target, features):\n",
    "    my_scorer = make_scorer(smape)\n",
    "    \n",
    "    scores = cross_val_score(model,\n",
    "                             features,\n",
    "                             target,\n",
    "                             cv=5,\n",
    "                             scoring=my_scorer)\n",
    "    \n",
    "    return scores.mean()"
   ]
  },
  {
   "cell_type": "markdown",
   "metadata": {},
   "source": [
    "### Дерево решений"
   ]
  },
  {
   "cell_type": "code",
   "execution_count": 35,
   "metadata": {},
   "outputs": [
    {
     "data": {
      "text/html": [
       "<div>\n",
       "<style scoped>\n",
       "    .dataframe tbody tr th:only-of-type {\n",
       "        vertical-align: middle;\n",
       "    }\n",
       "\n",
       "    .dataframe tbody tr th {\n",
       "        vertical-align: top;\n",
       "    }\n",
       "\n",
       "    .dataframe thead th {\n",
       "        text-align: right;\n",
       "    }\n",
       "</style>\n",
       "<table border=\"1\" class=\"dataframe\">\n",
       "  <thead>\n",
       "    <tr style=\"text-align: right;\">\n",
       "      <th></th>\n",
       "      <th>rougher_smape</th>\n",
       "      <th>final_smape</th>\n",
       "      <th>end_smape</th>\n",
       "      <th>depth</th>\n",
       "    </tr>\n",
       "  </thead>\n",
       "  <tbody>\n",
       "    <tr>\n",
       "      <th>1</th>\n",
       "      <td>7.005508</td>\n",
       "      <td>9.565936</td>\n",
       "      <td>8.925829</td>\n",
       "      <td>3</td>\n",
       "    </tr>\n",
       "    <tr>\n",
       "      <th>2</th>\n",
       "      <td>7.200816</td>\n",
       "      <td>9.839500</td>\n",
       "      <td>9.179829</td>\n",
       "      <td>4</td>\n",
       "    </tr>\n",
       "    <tr>\n",
       "      <th>0</th>\n",
       "      <td>7.329421</td>\n",
       "      <td>9.859806</td>\n",
       "      <td>9.227210</td>\n",
       "      <td>2</td>\n",
       "    </tr>\n",
       "    <tr>\n",
       "      <th>3</th>\n",
       "      <td>7.598000</td>\n",
       "      <td>10.161022</td>\n",
       "      <td>9.520267</td>\n",
       "      <td>5</td>\n",
       "    </tr>\n",
       "    <tr>\n",
       "      <th>4</th>\n",
       "      <td>7.572036</td>\n",
       "      <td>10.737971</td>\n",
       "      <td>9.946487</td>\n",
       "      <td>6</td>\n",
       "    </tr>\n",
       "    <tr>\n",
       "      <th>5</th>\n",
       "      <td>8.006873</td>\n",
       "      <td>11.127026</td>\n",
       "      <td>10.346988</td>\n",
       "      <td>7</td>\n",
       "    </tr>\n",
       "    <tr>\n",
       "      <th>6</th>\n",
       "      <td>8.148657</td>\n",
       "      <td>11.988728</td>\n",
       "      <td>11.028710</td>\n",
       "      <td>8</td>\n",
       "    </tr>\n",
       "    <tr>\n",
       "      <th>7</th>\n",
       "      <td>8.385526</td>\n",
       "      <td>12.604961</td>\n",
       "      <td>11.550102</td>\n",
       "      <td>9</td>\n",
       "    </tr>\n",
       "    <tr>\n",
       "      <th>8</th>\n",
       "      <td>8.111203</td>\n",
       "      <td>13.814654</td>\n",
       "      <td>12.388791</td>\n",
       "      <td>10</td>\n",
       "    </tr>\n",
       "    <tr>\n",
       "      <th>11</th>\n",
       "      <td>8.488357</td>\n",
       "      <td>14.878455</td>\n",
       "      <td>13.280930</td>\n",
       "      <td>13</td>\n",
       "    </tr>\n",
       "    <tr>\n",
       "      <th>9</th>\n",
       "      <td>8.189683</td>\n",
       "      <td>15.035556</td>\n",
       "      <td>13.324088</td>\n",
       "      <td>11</td>\n",
       "    </tr>\n",
       "    <tr>\n",
       "      <th>10</th>\n",
       "      <td>8.471248</td>\n",
       "      <td>15.228446</td>\n",
       "      <td>13.539147</td>\n",
       "      <td>12</td>\n",
       "    </tr>\n",
       "  </tbody>\n",
       "</table>\n",
       "</div>"
      ],
      "text/plain": [
       "    rougher_smape  final_smape  end_smape  depth\n",
       "1        7.005508     9.565936   8.925829      3\n",
       "2        7.200816     9.839500   9.179829      4\n",
       "0        7.329421     9.859806   9.227210      2\n",
       "3        7.598000    10.161022   9.520267      5\n",
       "4        7.572036    10.737971   9.946487      6\n",
       "5        8.006873    11.127026  10.346988      7\n",
       "6        8.148657    11.988728  11.028710      8\n",
       "7        8.385526    12.604961  11.550102      9\n",
       "8        8.111203    13.814654  12.388791     10\n",
       "11       8.488357    14.878455  13.280930     13\n",
       "9        8.189683    15.035556  13.324088     11\n",
       "10       8.471248    15.228446  13.539147     12"
      ]
     },
     "execution_count": 35,
     "metadata": {},
     "output_type": "execute_result"
    }
   ],
   "source": [
    "from collections import defaultdict\n",
    "d = defaultdict(list)\n",
    "\n",
    "for depth in range(2, 14):\n",
    "    \n",
    "    model_1 = DecisionTreeRegressor(max_depth=depth, random_state=rnd_state)\n",
    "    model_2 = DecisionTreeRegressor(max_depth=depth, random_state=rnd_state)\n",
    "\n",
    "\n",
    "    rougher_smape = get_cv_scores(model_1, target_1, features_1)\n",
    "    final_smape = get_cv_scores(model_2, target_2, features_2)\n",
    "    d['rougher_smape'].append(rougher_smape)\n",
    "    d['final_smape'].append(final_smape)\n",
    "    d['end_smape'].append(end_smape(rougher_smape, final_smape))\n",
    "    d['depth'].append(depth)\n",
    "\n",
    "pd.DataFrame(d).sort_values(by='end_smape')"
   ]
  },
  {
   "cell_type": "markdown",
   "metadata": {},
   "source": [
    "### Случайный лес"
   ]
  },
  {
   "cell_type": "code",
   "execution_count": 36,
   "metadata": {},
   "outputs": [
    {
     "data": {
      "text/html": [
       "<div>\n",
       "<style scoped>\n",
       "    .dataframe tbody tr th:only-of-type {\n",
       "        vertical-align: middle;\n",
       "    }\n",
       "\n",
       "    .dataframe tbody tr th {\n",
       "        vertical-align: top;\n",
       "    }\n",
       "\n",
       "    .dataframe thead th {\n",
       "        text-align: right;\n",
       "    }\n",
       "</style>\n",
       "<table border=\"1\" class=\"dataframe\">\n",
       "  <thead>\n",
       "    <tr style=\"text-align: right;\">\n",
       "      <th></th>\n",
       "      <th>rougher_smape</th>\n",
       "      <th>final_smape</th>\n",
       "      <th>end_smape</th>\n",
       "      <th>estim</th>\n",
       "    </tr>\n",
       "  </thead>\n",
       "  <tbody>\n",
       "    <tr>\n",
       "      <th>18</th>\n",
       "      <td>6.898156</td>\n",
       "      <td>9.382118</td>\n",
       "      <td>8.761127</td>\n",
       "      <td>19</td>\n",
       "    </tr>\n",
       "    <tr>\n",
       "      <th>17</th>\n",
       "      <td>6.904216</td>\n",
       "      <td>9.391296</td>\n",
       "      <td>8.769526</td>\n",
       "      <td>18</td>\n",
       "    </tr>\n",
       "    <tr>\n",
       "      <th>16</th>\n",
       "      <td>6.931736</td>\n",
       "      <td>9.430245</td>\n",
       "      <td>8.805618</td>\n",
       "      <td>17</td>\n",
       "    </tr>\n",
       "    <tr>\n",
       "      <th>15</th>\n",
       "      <td>6.931410</td>\n",
       "      <td>9.454609</td>\n",
       "      <td>8.823809</td>\n",
       "      <td>16</td>\n",
       "    </tr>\n",
       "    <tr>\n",
       "      <th>13</th>\n",
       "      <td>6.951596</td>\n",
       "      <td>9.457036</td>\n",
       "      <td>8.830676</td>\n",
       "      <td>14</td>\n",
       "    </tr>\n",
       "    <tr>\n",
       "      <th>14</th>\n",
       "      <td>6.938245</td>\n",
       "      <td>9.462112</td>\n",
       "      <td>8.831145</td>\n",
       "      <td>15</td>\n",
       "    </tr>\n",
       "    <tr>\n",
       "      <th>12</th>\n",
       "      <td>6.983014</td>\n",
       "      <td>9.458621</td>\n",
       "      <td>8.839719</td>\n",
       "      <td>13</td>\n",
       "    </tr>\n",
       "    <tr>\n",
       "      <th>8</th>\n",
       "      <td>7.102147</td>\n",
       "      <td>9.435381</td>\n",
       "      <td>8.852073</td>\n",
       "      <td>9</td>\n",
       "    </tr>\n",
       "    <tr>\n",
       "      <th>11</th>\n",
       "      <td>6.996338</td>\n",
       "      <td>9.485671</td>\n",
       "      <td>8.863338</td>\n",
       "      <td>12</td>\n",
       "    </tr>\n",
       "    <tr>\n",
       "      <th>10</th>\n",
       "      <td>7.031280</td>\n",
       "      <td>9.487304</td>\n",
       "      <td>8.873298</td>\n",
       "      <td>11</td>\n",
       "    </tr>\n",
       "    <tr>\n",
       "      <th>9</th>\n",
       "      <td>7.112948</td>\n",
       "      <td>9.479604</td>\n",
       "      <td>8.887940</td>\n",
       "      <td>10</td>\n",
       "    </tr>\n",
       "    <tr>\n",
       "      <th>4</th>\n",
       "      <td>7.132855</td>\n",
       "      <td>9.482224</td>\n",
       "      <td>8.894881</td>\n",
       "      <td>5</td>\n",
       "    </tr>\n",
       "    <tr>\n",
       "      <th>6</th>\n",
       "      <td>7.028736</td>\n",
       "      <td>9.526706</td>\n",
       "      <td>8.902213</td>\n",
       "      <td>7</td>\n",
       "    </tr>\n",
       "    <tr>\n",
       "      <th>3</th>\n",
       "      <td>7.138155</td>\n",
       "      <td>9.492424</td>\n",
       "      <td>8.903856</td>\n",
       "      <td>4</td>\n",
       "    </tr>\n",
       "    <tr>\n",
       "      <th>7</th>\n",
       "      <td>7.093052</td>\n",
       "      <td>9.514545</td>\n",
       "      <td>8.909172</td>\n",
       "      <td>8</td>\n",
       "    </tr>\n",
       "    <tr>\n",
       "      <th>5</th>\n",
       "      <td>7.080004</td>\n",
       "      <td>9.547198</td>\n",
       "      <td>8.930399</td>\n",
       "      <td>6</td>\n",
       "    </tr>\n",
       "    <tr>\n",
       "      <th>2</th>\n",
       "      <td>7.244038</td>\n",
       "      <td>9.514050</td>\n",
       "      <td>8.946547</td>\n",
       "      <td>3</td>\n",
       "    </tr>\n",
       "    <tr>\n",
       "      <th>1</th>\n",
       "      <td>7.152871</td>\n",
       "      <td>9.610297</td>\n",
       "      <td>8.995940</td>\n",
       "      <td>2</td>\n",
       "    </tr>\n",
       "    <tr>\n",
       "      <th>0</th>\n",
       "      <td>7.500953</td>\n",
       "      <td>9.573193</td>\n",
       "      <td>9.055133</td>\n",
       "      <td>1</td>\n",
       "    </tr>\n",
       "  </tbody>\n",
       "</table>\n",
       "</div>"
      ],
      "text/plain": [
       "    rougher_smape  final_smape  end_smape  estim\n",
       "18       6.898156     9.382118   8.761127     19\n",
       "17       6.904216     9.391296   8.769526     18\n",
       "16       6.931736     9.430245   8.805618     17\n",
       "15       6.931410     9.454609   8.823809     16\n",
       "13       6.951596     9.457036   8.830676     14\n",
       "14       6.938245     9.462112   8.831145     15\n",
       "12       6.983014     9.458621   8.839719     13\n",
       "8        7.102147     9.435381   8.852073      9\n",
       "11       6.996338     9.485671   8.863338     12\n",
       "10       7.031280     9.487304   8.873298     11\n",
       "9        7.112948     9.479604   8.887940     10\n",
       "4        7.132855     9.482224   8.894881      5\n",
       "6        7.028736     9.526706   8.902213      7\n",
       "3        7.138155     9.492424   8.903856      4\n",
       "7        7.093052     9.514545   8.909172      8\n",
       "5        7.080004     9.547198   8.930399      6\n",
       "2        7.244038     9.514050   8.946547      3\n",
       "1        7.152871     9.610297   8.995940      2\n",
       "0        7.500953     9.573193   9.055133      1"
      ]
     },
     "execution_count": 36,
     "metadata": {},
     "output_type": "execute_result"
    }
   ],
   "source": [
    "from collections import defaultdict\n",
    "random_forest = defaultdict(list)\n",
    "for estim in range(1, 20):\n",
    "    \n",
    "    model_1 = RandomForestRegressor(max_depth=3, n_estimators=estim, random_state=rnd_state)\n",
    "    model_2 = RandomForestRegressor(max_depth=3, n_estimators=estim, random_state=rnd_state)\n",
    "    \n",
    "    rougher_smape = get_cv_scores(model_1, target_1, features_1)\n",
    "    final_smape = get_cv_scores(model_2, target_2, features_2)\n",
    "    \n",
    "    random_forest['rougher_smape'].append(rougher_smape)\n",
    "    random_forest['final_smape'].append(final_smape)\n",
    "    random_forest['end_smape'].append(end_smape(rougher_smape, final_smape))\n",
    "    random_forest['estim'].append(estim)\n",
    "\n",
    "pd.DataFrame(random_forest).sort_values(by='end_smape')"
   ]
  },
  {
   "cell_type": "markdown",
   "metadata": {},
   "source": [
    "Из данной модели наиболее лучший sMAPE при следующих параметрах: estim=18, end_smape=8.761127, final_smape = 9.382118, rougher_smape=6.898156"
   ]
  },
  {
   "cell_type": "markdown",
   "metadata": {},
   "source": [
    "### Линейная регрессия"
   ]
  },
  {
   "cell_type": "code",
   "execution_count": 37,
   "metadata": {},
   "outputs": [
    {
     "data": {
      "text/plain": [
       "rougher_smape     6.649454\n",
       "final_smape      11.053815\n",
       "end_smape         9.952725\n",
       "dtype: float64"
      ]
     },
     "execution_count": 37,
     "metadata": {},
     "output_type": "execute_result"
    }
   ],
   "source": [
    "model_1 = LinearRegression()\n",
    "model_2 = LinearRegression()\n",
    "\n",
    "rougher_smape = get_cv_scores(model_1, target_1, features_1)\n",
    "final_smape = get_cv_scores(model_2, target_2, features_2)\n",
    "end_smape_ = end_smape(rougher_smape, final_smape)\n",
    "\n",
    "data_lr_temp = pd.Series({'rougher_smape': rougher_smape,\n",
    "                           'final_smape': final_smape,\n",
    "                           'end_smape': end_smape_}) \n",
    "data_lr_temp"
   ]
  },
  {
   "cell_type": "markdown",
   "metadata": {},
   "source": [
    "### Проверка лучшей модели на тестовой выборке"
   ]
  },
  {
   "cell_type": "markdown",
   "metadata": {},
   "source": [
    "Из результатов выше, наиболее лучшая модель: RandomForestRegressor(max_depth=3, n_estimators=18, random_state=12345)"
   ]
  },
  {
   "cell_type": "code",
   "execution_count": 38,
   "metadata": {},
   "outputs": [],
   "source": [
    "def feature_target_rougher_test(data, scaler_1):\n",
    "    data_cols = pd.Series(data_test.columns)\n",
    "    features_1_col_test = list(data_cols[data_cols.str.contains('rougher.input|rougher.state')])\n",
    "    features_1_test = data[features_1_col_test]\n",
    "    features_1_test = scaler_1.transform(features_1_test)\n",
    "    target_1_test = data['rougher.output.recovery']\n",
    "    \n",
    "    return features_1_test, target_1_test, scaler_1"
   ]
  },
  {
   "cell_type": "code",
   "execution_count": 39,
   "metadata": {},
   "outputs": [],
   "source": [
    "def feature_target_final_test(data, scaler_2):\n",
    "    features_2_test = data_test.drop(['final.output.recovery', 'rougher.output.recovery', 'date'], axis=1)\n",
    "    features_2_test = scaler_2.transform(features_2_test)\n",
    "    target_2_test = data_test['final.output.recovery']\n",
    "    \n",
    "    return features_2_test, target_2_test, scaler_2"
   ]
  },
  {
   "cell_type": "code",
   "execution_count": 40,
   "metadata": {},
   "outputs": [],
   "source": [
    "features_1_test, target_1_test, scaler_1 = feature_target_rougher_test(data_test, scaler_1)\n",
    "features_2_test, target_2_test, scaler_2 = feature_target_final_test(data_test, scaler_2)"
   ]
  },
  {
   "cell_type": "code",
   "execution_count": 41,
   "metadata": {},
   "outputs": [
    {
     "data": {
      "text/html": [
       "<div>\n",
       "<style scoped>\n",
       "    .dataframe tbody tr th:only-of-type {\n",
       "        vertical-align: middle;\n",
       "    }\n",
       "\n",
       "    .dataframe tbody tr th {\n",
       "        vertical-align: top;\n",
       "    }\n",
       "\n",
       "    .dataframe thead th {\n",
       "        text-align: right;\n",
       "    }\n",
       "</style>\n",
       "<table border=\"1\" class=\"dataframe\">\n",
       "  <thead>\n",
       "    <tr style=\"text-align: right;\">\n",
       "      <th></th>\n",
       "      <th>rougher_smape</th>\n",
       "      <th>final_smape</th>\n",
       "      <th>end_smape</th>\n",
       "    </tr>\n",
       "  </thead>\n",
       "  <tbody>\n",
       "    <tr>\n",
       "      <th>0</th>\n",
       "      <td>5.104553</td>\n",
       "      <td>7.983949</td>\n",
       "      <td>7.2641</td>\n",
       "    </tr>\n",
       "  </tbody>\n",
       "</table>\n",
       "</div>"
      ],
      "text/plain": [
       "   rougher_smape  final_smape  end_smape\n",
       "0       5.104553     7.983949     7.2641"
      ]
     },
     "execution_count": 41,
     "metadata": {},
     "output_type": "execute_result"
    }
   ],
   "source": [
    "from collections import defaultdict\n",
    "test_dict = defaultdict(list)\n",
    "\n",
    "model_1 = RandomForestRegressor(max_depth=3, n_estimators=18, random_state=rnd_state)\n",
    "model_2 =  RandomForestRegressor(max_depth=3, n_estimators=18, random_state=rnd_state)\n",
    "\n",
    "model_1.fit(features_1, target_1)\n",
    "model_2.fit(features_2, target_2)\n",
    "\n",
    "train_predictions_1 = model_1.predict(features_1_test)\n",
    "train_predictions_2 = model_2.predict(features_2_test)\n",
    "\n",
    " \n",
    "test_dict['rougher_smape'].append(smape(target_1_test, train_predictions_1))\n",
    "test_dict['final_smape'].append(smape(target_2_test, train_predictions_2))\n",
    "test_dict['end_smape'].append(end_smape(smape(target_1_test, train_predictions_1), smape(target_2_test, train_predictions_2)))\n",
    "\n",
    "pd.DataFrame(test_dict)"
   ]
  },
  {
   "cell_type": "markdown",
   "metadata": {},
   "source": [
    "Вывод\n",
    "\n",
    "наилучшая модель: RandomForestRegressor(max_depth=3, n_estimators=18, random_state=rnd_state)\n",
    "    \n",
    "итоговая sMAPE равна 7.271462, этот результат лучше, чем на обучающей выборке, что говорит о том, что модель выбрана правильно.    \n",
    "    "
   ]
  },
  {
   "cell_type": "markdown",
   "metadata": {},
   "source": [
    "### Проверка модели на адекватность"
   ]
  },
  {
   "cell_type": "code",
   "execution_count": 43,
   "metadata": {},
   "outputs": [],
   "source": [
    "from sklearn.dummy import DummyRegressor"
   ]
  },
  {
   "cell_type": "code",
   "execution_count": 44,
   "metadata": {},
   "outputs": [
    {
     "data": {
      "text/plain": [
       "rougher_smape     7.771774\n",
       "final_smape      10.539761\n",
       "end_smape         9.847764\n",
       "dtype: float64"
      ]
     },
     "execution_count": 44,
     "metadata": {},
     "output_type": "execute_result"
    }
   ],
   "source": [
    "features_1, target_1, scaler_1 = feature_target_rougher(data_train)\n",
    "features_2, target_2, scaler_2 = feature_target_final(data_train)\n",
    "\n",
    "model_1 = DummyRegressor(strategy=\"mean\")\n",
    "model_2 = DummyRegressor(strategy=\"mean\")\n",
    "\n",
    "rougher_smape = get_cv_scores(model_1, target_1, features_1)\n",
    "final_smape = get_cv_scores(model_2, target_2, features_2)\n",
    "end_smape_ = end_smape(rougher_smape, final_smape)\n",
    "\n",
    "drm = pd.Series({'rougher_smape': rougher_smape,\n",
    "                           'final_smape': final_smape,\n",
    "                           'end_smape': end_smape_}) \n",
    "drm"
   ]
  },
  {
   "cell_type": "markdown",
   "metadata": {},
   "source": [
    "Вывод:\n",
    "\n",
    "Модель, которую мы выбрали наилучшей - RandomForestRegressor(max_depth=3, n_estimators=18, random_state=rnd_state), действительно оказалась рабочей, так как качество sMAPE у нее лучше, чем у DummyRegressor."
   ]
  }
 ],
 "metadata": {
  "ExecuteTimeLog": [
   {
    "duration": 1583,
    "start_time": "2022-06-05T07:05:59.487Z"
   },
   {
    "duration": 3235,
    "start_time": "2022-06-05T07:09:01.484Z"
   },
   {
    "duration": 749,
    "start_time": "2022-06-05T07:09:58.947Z"
   },
   {
    "duration": 41,
    "start_time": "2022-06-05T07:09:59.698Z"
   },
   {
    "duration": 17,
    "start_time": "2022-06-05T07:09:59.885Z"
   },
   {
    "duration": 228,
    "start_time": "2022-06-05T07:10:03.854Z"
   },
   {
    "duration": 135,
    "start_time": "2022-06-05T07:12:55.464Z"
   },
   {
    "duration": 730,
    "start_time": "2022-06-05T07:12:55.806Z"
   },
   {
    "duration": 10,
    "start_time": "2022-06-05T07:13:09.637Z"
   },
   {
    "duration": 10,
    "start_time": "2022-06-05T07:13:48.891Z"
   },
   {
    "duration": 4,
    "start_time": "2022-06-05T07:14:00.352Z"
   },
   {
    "duration": 734,
    "start_time": "2022-06-05T07:14:01.324Z"
   },
   {
    "duration": 23,
    "start_time": "2022-06-05T07:14:02.060Z"
   },
   {
    "duration": 17,
    "start_time": "2022-06-05T07:14:03.091Z"
   },
   {
    "duration": 214,
    "start_time": "2022-06-05T07:14:03.692Z"
   },
   {
    "duration": 25,
    "start_time": "2022-06-05T07:15:02.702Z"
   },
   {
    "duration": 20,
    "start_time": "2022-06-05T07:15:03.624Z"
   },
   {
    "duration": 240,
    "start_time": "2022-06-05T07:15:04.289Z"
   },
   {
    "duration": 20,
    "start_time": "2022-06-05T07:16:04.186Z"
   },
   {
    "duration": 10,
    "start_time": "2022-06-05T07:17:40.748Z"
   },
   {
    "duration": 8,
    "start_time": "2022-06-05T07:49:33.852Z"
   },
   {
    "duration": 752,
    "start_time": "2022-06-05T07:49:34.024Z"
   },
   {
    "duration": 21,
    "start_time": "2022-06-05T07:49:34.778Z"
   },
   {
    "duration": 239,
    "start_time": "2022-06-05T07:49:34.800Z"
   },
   {
    "duration": 4,
    "start_time": "2022-06-05T07:49:35.041Z"
   },
   {
    "duration": 120,
    "start_time": "2022-06-05T07:49:35.099Z"
   },
   {
    "duration": 4,
    "start_time": "2022-06-05T07:49:35.366Z"
   },
   {
    "duration": 20,
    "start_time": "2022-06-05T07:49:35.692Z"
   },
   {
    "duration": 240,
    "start_time": "2022-06-05T07:49:36.156Z"
   },
   {
    "duration": 4,
    "start_time": "2022-06-05T07:49:36.651Z"
   },
   {
    "duration": 2,
    "start_time": "2022-06-05T07:49:36.948Z"
   },
   {
    "duration": 4,
    "start_time": "2022-06-05T07:51:39.358Z"
   },
   {
    "duration": 20,
    "start_time": "2022-06-05T07:52:14.863Z"
   },
   {
    "duration": 6,
    "start_time": "2022-06-05T07:52:29.054Z"
   },
   {
    "duration": 13,
    "start_time": "2022-06-05T07:53:14.250Z"
   },
   {
    "duration": 22,
    "start_time": "2022-06-05T07:55:21.834Z"
   },
   {
    "duration": 12,
    "start_time": "2022-06-05T07:55:52.687Z"
   },
   {
    "duration": 19,
    "start_time": "2022-06-05T07:57:36.985Z"
   },
   {
    "duration": 11,
    "start_time": "2022-06-05T07:57:37.343Z"
   },
   {
    "duration": 9,
    "start_time": "2022-06-05T07:57:39.692Z"
   },
   {
    "duration": 9,
    "start_time": "2022-06-05T07:57:41.359Z"
   },
   {
    "duration": 4,
    "start_time": "2022-06-05T07:57:47.195Z"
   },
   {
    "duration": 682,
    "start_time": "2022-06-05T07:57:47.464Z"
   },
   {
    "duration": 19,
    "start_time": "2022-06-05T07:57:48.148Z"
   },
   {
    "duration": 227,
    "start_time": "2022-06-05T07:57:48.169Z"
   },
   {
    "duration": 4,
    "start_time": "2022-06-05T07:57:49.062Z"
   },
   {
    "duration": 137,
    "start_time": "2022-06-05T07:57:49.445Z"
   },
   {
    "duration": 5,
    "start_time": "2022-06-05T07:57:49.756Z"
   },
   {
    "duration": 19,
    "start_time": "2022-06-05T07:57:49.992Z"
   },
   {
    "duration": 244,
    "start_time": "2022-06-05T07:57:50.247Z"
   },
   {
    "duration": 4,
    "start_time": "2022-06-05T07:57:50.493Z"
   },
   {
    "duration": 3,
    "start_time": "2022-06-05T07:57:51.157Z"
   },
   {
    "duration": 3,
    "start_time": "2022-06-05T07:57:51.891Z"
   },
   {
    "duration": 5,
    "start_time": "2022-06-05T07:57:52.145Z"
   },
   {
    "duration": 6,
    "start_time": "2022-06-05T07:57:52.387Z"
   },
   {
    "duration": 12,
    "start_time": "2022-06-05T07:57:52.687Z"
   },
   {
    "duration": 24,
    "start_time": "2022-06-05T07:57:53.329Z"
   },
   {
    "duration": 11,
    "start_time": "2022-06-05T07:57:53.587Z"
   },
   {
    "duration": 10,
    "start_time": "2022-06-05T07:57:54.033Z"
   },
   {
    "duration": 18,
    "start_time": "2022-06-05T07:58:10.817Z"
   },
   {
    "duration": 10320,
    "start_time": "2022-06-05T08:06:52.583Z"
   },
   {
    "duration": 403,
    "start_time": "2022-06-05T08:10:03.618Z"
   },
   {
    "duration": 41,
    "start_time": "2022-06-05T08:11:05.135Z"
   },
   {
    "duration": 35,
    "start_time": "2022-06-05T08:12:16.147Z"
   },
   {
    "duration": 22,
    "start_time": "2022-06-05T08:12:56.286Z"
   },
   {
    "duration": 26,
    "start_time": "2022-06-05T08:13:31.834Z"
   },
   {
    "duration": 30,
    "start_time": "2022-06-05T08:13:58.109Z"
   },
   {
    "duration": 1378,
    "start_time": "2022-06-05T08:16:22.322Z"
   },
   {
    "duration": 697,
    "start_time": "2022-06-05T08:16:23.702Z"
   },
   {
    "duration": 37,
    "start_time": "2022-06-05T08:16:24.401Z"
   },
   {
    "duration": 229,
    "start_time": "2022-06-05T08:16:24.440Z"
   },
   {
    "duration": 4,
    "start_time": "2022-06-05T08:16:24.671Z"
   },
   {
    "duration": 132,
    "start_time": "2022-06-05T08:16:24.935Z"
   },
   {
    "duration": 5,
    "start_time": "2022-06-05T08:16:25.337Z"
   },
   {
    "duration": 20,
    "start_time": "2022-06-05T08:16:25.462Z"
   },
   {
    "duration": 259,
    "start_time": "2022-06-05T08:16:25.885Z"
   },
   {
    "duration": 4,
    "start_time": "2022-06-05T08:16:26.145Z"
   },
   {
    "duration": 3,
    "start_time": "2022-06-05T08:16:26.414Z"
   },
   {
    "duration": 5,
    "start_time": "2022-06-05T08:16:26.939Z"
   },
   {
    "duration": 6,
    "start_time": "2022-06-05T08:16:27.501Z"
   },
   {
    "duration": 14,
    "start_time": "2022-06-05T08:16:28.019Z"
   },
   {
    "duration": 13,
    "start_time": "2022-06-05T08:16:28.489Z"
   },
   {
    "duration": 22,
    "start_time": "2022-06-05T08:16:29.540Z"
   },
   {
    "duration": 13,
    "start_time": "2022-06-05T08:16:30.596Z"
   },
   {
    "duration": 9718,
    "start_time": "2022-06-05T08:16:33.089Z"
   },
   {
    "duration": 482,
    "start_time": "2022-06-05T08:16:42.809Z"
   },
   {
    "duration": 159,
    "start_time": "2022-06-05T08:16:43.293Z"
   },
   {
    "duration": 13,
    "start_time": "2022-06-05T08:18:01.385Z"
   },
   {
    "duration": 5,
    "start_time": "2022-06-05T08:18:14.954Z"
   },
   {
    "duration": 7,
    "start_time": "2022-06-05T08:18:18.924Z"
   },
   {
    "duration": 869,
    "start_time": "2022-06-05T08:18:18.933Z"
   },
   {
    "duration": 37,
    "start_time": "2022-06-05T08:18:19.803Z"
   },
   {
    "duration": 244,
    "start_time": "2022-06-05T08:18:19.842Z"
   },
   {
    "duration": 4,
    "start_time": "2022-06-05T08:18:20.089Z"
   },
   {
    "duration": 146,
    "start_time": "2022-06-05T08:18:20.095Z"
   },
   {
    "duration": 4,
    "start_time": "2022-06-05T08:18:20.510Z"
   },
   {
    "duration": 22,
    "start_time": "2022-06-05T08:18:20.662Z"
   },
   {
    "duration": 259,
    "start_time": "2022-06-05T08:18:21.084Z"
   },
   {
    "duration": 4,
    "start_time": "2022-06-05T08:18:21.345Z"
   },
   {
    "duration": 3,
    "start_time": "2022-06-05T08:18:21.604Z"
   },
   {
    "duration": 12,
    "start_time": "2022-06-05T08:18:21.697Z"
   },
   {
    "duration": 6,
    "start_time": "2022-06-05T08:18:21.958Z"
   },
   {
    "duration": 3,
    "start_time": "2022-06-05T08:18:22.417Z"
   },
   {
    "duration": 6,
    "start_time": "2022-06-05T08:18:22.690Z"
   },
   {
    "duration": 7,
    "start_time": "2022-06-05T08:18:22.948Z"
   },
   {
    "duration": 11,
    "start_time": "2022-06-05T08:18:23.261Z"
   },
   {
    "duration": 21,
    "start_time": "2022-06-05T08:18:23.899Z"
   },
   {
    "duration": 13,
    "start_time": "2022-06-05T08:18:24.784Z"
   },
   {
    "duration": 10095,
    "start_time": "2022-06-05T08:18:26.432Z"
   },
   {
    "duration": 356,
    "start_time": "2022-06-05T08:18:36.538Z"
   },
   {
    "duration": 37,
    "start_time": "2022-06-05T08:18:36.895Z"
   },
   {
    "duration": 2178,
    "start_time": "2022-06-05T08:19:06.584Z"
   },
   {
    "duration": 626,
    "start_time": "2022-06-05T08:19:56.384Z"
   },
   {
    "duration": 2250,
    "start_time": "2022-06-05T08:20:30.400Z"
   },
   {
    "duration": 1978,
    "start_time": "2022-06-05T08:21:05.834Z"
   },
   {
    "duration": 24,
    "start_time": "2022-06-05T08:22:21.640Z"
   },
   {
    "duration": 2184,
    "start_time": "2022-06-05T08:22:23.004Z"
   },
   {
    "duration": 2110,
    "start_time": "2022-06-05T08:22:25.190Z"
   },
   {
    "duration": 20,
    "start_time": "2022-06-05T08:23:31.818Z"
   },
   {
    "duration": 160,
    "start_time": "2022-06-05T08:23:47.252Z"
   },
   {
    "duration": 2012,
    "start_time": "2022-06-05T08:24:06.307Z"
   },
   {
    "duration": 4,
    "start_time": "2022-06-05T08:35:46.956Z"
   },
   {
    "duration": 699,
    "start_time": "2022-06-05T08:35:47.141Z"
   },
   {
    "duration": 24,
    "start_time": "2022-06-05T08:35:47.842Z"
   },
   {
    "duration": 256,
    "start_time": "2022-06-05T08:35:47.867Z"
   },
   {
    "duration": 10,
    "start_time": "2022-06-05T08:35:48.127Z"
   },
   {
    "duration": 125,
    "start_time": "2022-06-05T08:35:48.166Z"
   },
   {
    "duration": 5,
    "start_time": "2022-06-05T08:35:48.635Z"
   },
   {
    "duration": 28,
    "start_time": "2022-06-05T08:35:48.733Z"
   },
   {
    "duration": 298,
    "start_time": "2022-06-05T08:35:49.008Z"
   },
   {
    "duration": 4,
    "start_time": "2022-06-05T08:35:49.447Z"
   },
   {
    "duration": 3,
    "start_time": "2022-06-05T08:35:49.801Z"
   },
   {
    "duration": 13,
    "start_time": "2022-06-05T08:35:49.911Z"
   },
   {
    "duration": 7,
    "start_time": "2022-06-05T08:35:50.013Z"
   },
   {
    "duration": 4,
    "start_time": "2022-06-05T08:35:50.144Z"
   },
   {
    "duration": 8,
    "start_time": "2022-06-05T08:35:50.237Z"
   },
   {
    "duration": 11,
    "start_time": "2022-06-05T08:35:50.327Z"
   },
   {
    "duration": 10,
    "start_time": "2022-06-05T08:35:50.440Z"
   },
   {
    "duration": 18,
    "start_time": "2022-06-05T08:35:50.653Z"
   },
   {
    "duration": 13,
    "start_time": "2022-06-05T08:35:50.859Z"
   },
   {
    "duration": 1444,
    "start_time": "2022-06-05T08:36:00.701Z"
   },
   {
    "duration": 752,
    "start_time": "2022-06-05T08:36:02.149Z"
   },
   {
    "duration": 32,
    "start_time": "2022-06-05T08:36:02.903Z"
   },
   {
    "duration": 252,
    "start_time": "2022-06-05T08:36:02.939Z"
   },
   {
    "duration": 5,
    "start_time": "2022-06-05T08:36:03.193Z"
   },
   {
    "duration": 165,
    "start_time": "2022-06-05T08:36:03.200Z"
   },
   {
    "duration": 4,
    "start_time": "2022-06-05T08:36:03.368Z"
   },
   {
    "duration": 22,
    "start_time": "2022-06-05T08:36:03.373Z"
   },
   {
    "duration": 270,
    "start_time": "2022-06-05T08:36:03.397Z"
   },
   {
    "duration": 3,
    "start_time": "2022-06-05T08:36:03.670Z"
   },
   {
    "duration": 7,
    "start_time": "2022-06-05T08:36:03.675Z"
   },
   {
    "duration": 14,
    "start_time": "2022-06-05T08:36:03.684Z"
   },
   {
    "duration": 7,
    "start_time": "2022-06-05T08:36:03.700Z"
   },
   {
    "duration": 5,
    "start_time": "2022-06-05T08:36:03.708Z"
   },
   {
    "duration": 12,
    "start_time": "2022-06-05T08:36:03.714Z"
   },
   {
    "duration": 15,
    "start_time": "2022-06-05T08:36:03.727Z"
   },
   {
    "duration": 21,
    "start_time": "2022-06-05T08:36:03.744Z"
   },
   {
    "duration": 19,
    "start_time": "2022-06-05T08:36:03.767Z"
   },
   {
    "duration": 14,
    "start_time": "2022-06-05T08:36:03.788Z"
   },
   {
    "duration": 9754,
    "start_time": "2022-06-05T08:36:04.196Z"
   },
   {
    "duration": 437,
    "start_time": "2022-06-05T08:36:13.952Z"
   },
   {
    "duration": 47,
    "start_time": "2022-06-05T08:36:14.391Z"
   },
   {
    "duration": 2041,
    "start_time": "2022-06-05T08:36:14.440Z"
   },
   {
    "duration": 17,
    "start_time": "2022-06-05T08:36:16.483Z"
   },
   {
    "duration": 176,
    "start_time": "2022-06-05T08:36:16.501Z"
   },
   {
    "duration": 2142,
    "start_time": "2022-06-05T08:36:16.678Z"
   },
   {
    "duration": 6,
    "start_time": "2022-06-05T08:36:18.821Z"
   },
   {
    "duration": 3,
    "start_time": "2022-06-05T08:36:51.796Z"
   },
   {
    "duration": 9,
    "start_time": "2022-06-05T08:37:05.432Z"
   },
   {
    "duration": 4,
    "start_time": "2022-06-05T08:37:31.647Z"
   },
   {
    "duration": 4,
    "start_time": "2022-06-05T08:37:32.145Z"
   },
   {
    "duration": 31,
    "start_time": "2022-06-05T08:37:55.858Z"
   },
   {
    "duration": 3,
    "start_time": "2022-06-05T08:37:56.298Z"
   },
   {
    "duration": 34465,
    "start_time": "2022-06-05T08:38:42.607Z"
   },
   {
    "duration": 157355,
    "start_time": "2022-06-05T08:39:39.199Z"
   },
   {
    "duration": 3789,
    "start_time": "2022-06-05T08:42:16.557Z"
   },
   {
    "duration": 4,
    "start_time": "2022-06-05T08:43:24.057Z"
   },
   {
    "duration": 6,
    "start_time": "2022-06-05T08:43:24.544Z"
   },
   {
    "duration": 6,
    "start_time": "2022-06-05T08:43:57.634Z"
   },
   {
    "duration": 10,
    "start_time": "2022-06-05T08:43:58.200Z"
   },
   {
    "duration": 4047,
    "start_time": "2022-06-05T08:43:58.840Z"
   },
   {
    "duration": 6,
    "start_time": "2022-06-05T08:45:36.996Z"
   },
   {
    "duration": 722,
    "start_time": "2022-06-05T08:45:37.206Z"
   },
   {
    "duration": 25,
    "start_time": "2022-06-05T08:45:37.935Z"
   },
   {
    "duration": 247,
    "start_time": "2022-06-05T08:45:37.962Z"
   },
   {
    "duration": 4,
    "start_time": "2022-06-05T08:45:38.295Z"
   },
   {
    "duration": 130,
    "start_time": "2022-06-05T08:45:38.651Z"
   },
   {
    "duration": 5,
    "start_time": "2022-06-05T08:45:38.996Z"
   },
   {
    "duration": 30,
    "start_time": "2022-06-05T08:45:39.100Z"
   },
   {
    "duration": 272,
    "start_time": "2022-06-05T08:45:39.705Z"
   },
   {
    "duration": 5,
    "start_time": "2022-06-05T08:45:40.041Z"
   },
   {
    "duration": 3,
    "start_time": "2022-06-05T08:45:40.145Z"
   },
   {
    "duration": 20,
    "start_time": "2022-06-05T08:45:40.325Z"
   },
   {
    "duration": 6,
    "start_time": "2022-06-05T08:45:40.440Z"
   },
   {
    "duration": 4,
    "start_time": "2022-06-05T08:45:41.155Z"
   },
   {
    "duration": 6,
    "start_time": "2022-06-05T08:45:41.616Z"
   },
   {
    "duration": 7,
    "start_time": "2022-06-05T08:45:41.852Z"
   },
   {
    "duration": 10,
    "start_time": "2022-06-05T08:45:42.095Z"
   },
   {
    "duration": 19,
    "start_time": "2022-06-05T08:45:42.496Z"
   },
   {
    "duration": 1349,
    "start_time": "2022-06-05T08:52:02.694Z"
   },
   {
    "duration": 694,
    "start_time": "2022-06-05T08:52:04.045Z"
   },
   {
    "duration": 24,
    "start_time": "2022-06-05T08:52:04.741Z"
   },
   {
    "duration": 238,
    "start_time": "2022-06-05T08:52:04.767Z"
   },
   {
    "duration": 4,
    "start_time": "2022-06-05T08:52:05.007Z"
   },
   {
    "duration": 150,
    "start_time": "2022-06-05T08:52:05.013Z"
   },
   {
    "duration": 4,
    "start_time": "2022-06-05T08:52:05.604Z"
   },
   {
    "duration": 22,
    "start_time": "2022-06-05T08:52:06.096Z"
   },
   {
    "duration": 267,
    "start_time": "2022-06-05T08:52:06.591Z"
   },
   {
    "duration": 4,
    "start_time": "2022-06-05T08:52:06.986Z"
   },
   {
    "duration": 6,
    "start_time": "2022-06-05T08:52:07.234Z"
   },
   {
    "duration": 17,
    "start_time": "2022-06-05T08:52:07.390Z"
   },
   {
    "duration": 6,
    "start_time": "2022-06-05T08:52:07.797Z"
   },
   {
    "duration": 4,
    "start_time": "2022-06-05T08:52:08.121Z"
   },
   {
    "duration": 7,
    "start_time": "2022-06-05T08:52:08.293Z"
   },
   {
    "duration": 6,
    "start_time": "2022-06-05T08:52:08.454Z"
   },
   {
    "duration": 15,
    "start_time": "2022-06-05T08:52:08.638Z"
   },
   {
    "duration": 17,
    "start_time": "2022-06-05T08:52:08.854Z"
   },
   {
    "duration": 14,
    "start_time": "2022-06-05T08:52:09.044Z"
   },
   {
    "duration": 9637,
    "start_time": "2022-06-05T08:52:09.603Z"
   },
   {
    "duration": 435,
    "start_time": "2022-06-05T08:52:19.242Z"
   },
   {
    "duration": 45,
    "start_time": "2022-06-05T08:52:19.679Z"
   },
   {
    "duration": 2044,
    "start_time": "2022-06-05T08:52:19.726Z"
   },
   {
    "duration": 16,
    "start_time": "2022-06-05T08:52:21.772Z"
   },
   {
    "duration": 182,
    "start_time": "2022-06-05T08:52:21.790Z"
   },
   {
    "duration": 2115,
    "start_time": "2022-06-05T08:52:21.974Z"
   },
   {
    "duration": 4,
    "start_time": "2022-06-05T08:52:24.091Z"
   },
   {
    "duration": 9,
    "start_time": "2022-06-05T08:52:24.096Z"
   },
   {
    "duration": 19,
    "start_time": "2022-06-05T08:52:24.107Z"
   },
   {
    "duration": 11,
    "start_time": "2022-06-05T08:52:24.134Z"
   },
   {
    "duration": 10,
    "start_time": "2022-06-05T08:52:24.146Z"
   },
   {
    "duration": 34,
    "start_time": "2022-06-05T08:52:24.158Z"
   },
   {
    "duration": 4,
    "start_time": "2022-06-05T08:52:24.194Z"
   },
   {
    "duration": 34236,
    "start_time": "2022-06-05T08:52:24.200Z"
   },
   {
    "duration": 155662,
    "start_time": "2022-06-05T08:52:58.437Z"
   },
   {
    "duration": 5736,
    "start_time": "2022-06-05T08:55:34.101Z"
   },
   {
    "duration": 4,
    "start_time": "2022-06-05T08:55:39.839Z"
   },
   {
    "duration": 7,
    "start_time": "2022-06-05T08:55:39.845Z"
   },
   {
    "duration": 81,
    "start_time": "2022-06-05T08:55:39.854Z"
   },
   {
    "duration": 3773,
    "start_time": "2022-06-05T08:55:39.939Z"
   },
   {
    "duration": 1470,
    "start_time": "2022-06-06T06:13:27.429Z"
   },
   {
    "duration": 807,
    "start_time": "2022-06-06T06:13:28.901Z"
   },
   {
    "duration": 26,
    "start_time": "2022-06-06T06:13:57.875Z"
   },
   {
    "duration": 245,
    "start_time": "2022-06-06T06:13:58.284Z"
   },
   {
    "duration": 3,
    "start_time": "2022-06-06T06:13:58.532Z"
   },
   {
    "duration": 128,
    "start_time": "2022-06-06T06:13:58.805Z"
   },
   {
    "duration": 4,
    "start_time": "2022-06-06T06:13:59.217Z"
   },
   {
    "duration": 19,
    "start_time": "2022-06-06T06:13:59.496Z"
   },
   {
    "duration": 260,
    "start_time": "2022-06-06T06:13:59.825Z"
   },
   {
    "duration": 4,
    "start_time": "2022-06-06T06:14:00.086Z"
   },
   {
    "duration": 3,
    "start_time": "2022-06-06T06:14:00.341Z"
   },
   {
    "duration": 19,
    "start_time": "2022-06-06T06:14:00.674Z"
   },
   {
    "duration": 6,
    "start_time": "2022-06-06T06:14:01.198Z"
   },
   {
    "duration": 3,
    "start_time": "2022-06-06T06:14:24.283Z"
   },
   {
    "duration": 714,
    "start_time": "2022-06-06T06:14:24.482Z"
   },
   {
    "duration": 6,
    "start_time": "2022-06-06T06:14:25.199Z"
   },
   {
    "duration": 18,
    "start_time": "2022-06-06T06:14:25.207Z"
   },
   {
    "duration": 23,
    "start_time": "2022-06-06T06:14:43.499Z"
   },
   {
    "duration": 14,
    "start_time": "2022-06-06T06:14:43.791Z"
   },
   {
    "duration": 10683,
    "start_time": "2022-06-06T06:15:43.937Z"
   },
   {
    "duration": 465,
    "start_time": "2022-06-06T06:15:54.628Z"
   },
   {
    "duration": 45,
    "start_time": "2022-06-06T06:15:55.095Z"
   },
   {
    "duration": 2303,
    "start_time": "2022-06-06T06:15:55.142Z"
   },
   {
    "duration": 17,
    "start_time": "2022-06-06T06:15:57.447Z"
   },
   {
    "duration": 218,
    "start_time": "2022-06-06T06:15:57.466Z"
   },
   {
    "duration": 2083,
    "start_time": "2022-06-06T06:15:57.686Z"
   },
   {
    "duration": 3,
    "start_time": "2022-06-06T06:18:17.929Z"
   },
   {
    "duration": 5,
    "start_time": "2022-06-06T06:18:45.759Z"
   },
   {
    "duration": 10,
    "start_time": "2022-06-06T06:18:46.254Z"
   },
   {
    "duration": 4,
    "start_time": "2022-06-06T06:18:50.825Z"
   },
   {
    "duration": 4,
    "start_time": "2022-06-06T06:18:51.350Z"
   },
   {
    "duration": 37,
    "start_time": "2022-06-06T06:18:53.346Z"
   },
   {
    "duration": 3,
    "start_time": "2022-06-06T06:18:54.048Z"
   },
   {
    "duration": 6,
    "start_time": "2022-06-06T06:19:56.260Z"
   },
   {
    "duration": 57,
    "start_time": "2022-06-06T14:46:14.287Z"
   },
   {
    "duration": 1482,
    "start_time": "2022-06-06T14:46:31.236Z"
   },
   {
    "duration": 1912,
    "start_time": "2022-06-06T14:46:32.720Z"
   },
   {
    "duration": 27,
    "start_time": "2022-06-06T14:46:34.634Z"
   },
   {
    "duration": 270,
    "start_time": "2022-06-06T14:46:34.663Z"
   },
   {
    "duration": 8,
    "start_time": "2022-06-06T14:46:34.935Z"
   },
   {
    "duration": 156,
    "start_time": "2022-06-06T14:46:34.944Z"
   },
   {
    "duration": 4,
    "start_time": "2022-06-06T14:46:35.102Z"
   },
   {
    "duration": 35,
    "start_time": "2022-06-06T14:46:35.107Z"
   },
   {
    "duration": 280,
    "start_time": "2022-06-06T14:46:35.144Z"
   },
   {
    "duration": 4,
    "start_time": "2022-06-06T14:46:35.426Z"
   },
   {
    "duration": 7,
    "start_time": "2022-06-06T14:46:35.441Z"
   },
   {
    "duration": 26,
    "start_time": "2022-06-06T14:46:35.449Z"
   },
   {
    "duration": 10,
    "start_time": "2022-06-06T14:46:35.477Z"
   },
   {
    "duration": 3,
    "start_time": "2022-06-06T14:46:36.379Z"
   },
   {
    "duration": 6,
    "start_time": "2022-06-06T14:46:36.582Z"
   },
   {
    "duration": 6,
    "start_time": "2022-06-06T14:46:36.790Z"
   },
   {
    "duration": 18,
    "start_time": "2022-06-06T14:46:36.991Z"
   },
   {
    "duration": 17,
    "start_time": "2022-06-06T14:46:37.598Z"
   },
   {
    "duration": 13,
    "start_time": "2022-06-06T14:46:37.834Z"
   },
   {
    "duration": 10373,
    "start_time": "2022-06-06T14:46:38.828Z"
   },
   {
    "duration": 407,
    "start_time": "2022-06-06T14:46:49.203Z"
   },
   {
    "duration": 64,
    "start_time": "2022-06-06T14:46:49.612Z"
   },
   {
    "duration": 2225,
    "start_time": "2022-06-06T14:46:49.679Z"
   },
   {
    "duration": 16,
    "start_time": "2022-06-06T14:46:51.906Z"
   },
   {
    "duration": 197,
    "start_time": "2022-06-06T14:46:51.923Z"
   },
   {
    "duration": 2181,
    "start_time": "2022-06-06T14:46:52.121Z"
   },
   {
    "duration": 4,
    "start_time": "2022-06-06T14:46:54.304Z"
   },
   {
    "duration": 31,
    "start_time": "2022-06-06T14:46:54.309Z"
   },
   {
    "duration": 36,
    "start_time": "2022-06-06T14:46:54.343Z"
   },
   {
    "duration": 23,
    "start_time": "2022-06-06T14:46:54.380Z"
   },
   {
    "duration": 39,
    "start_time": "2022-06-06T14:46:54.405Z"
   },
   {
    "duration": 58,
    "start_time": "2022-06-06T14:46:54.446Z"
   },
   {
    "duration": 3,
    "start_time": "2022-06-06T14:46:54.506Z"
   },
   {
    "duration": 37278,
    "start_time": "2022-06-06T14:46:54.511Z"
   },
   {
    "duration": 161426,
    "start_time": "2022-06-06T14:47:31.791Z"
   },
   {
    "duration": 2028,
    "start_time": "2022-06-06T14:50:13.220Z"
   },
   {
    "duration": 4,
    "start_time": "2022-06-06T14:50:15.250Z"
   },
   {
    "duration": 89,
    "start_time": "2022-06-06T14:50:15.256Z"
   },
   {
    "duration": 14,
    "start_time": "2022-06-06T14:50:15.347Z"
   },
   {
    "duration": 3861,
    "start_time": "2022-06-06T14:50:15.363Z"
   },
   {
    "duration": 108,
    "start_time": "2022-06-06T14:50:19.226Z"
   },
   {
    "duration": 3,
    "start_time": "2022-06-06T14:50:55.310Z"
   },
   {
    "duration": 71,
    "start_time": "2022-06-06T14:50:56.193Z"
   }
  ],
  "kernelspec": {
   "display_name": "Python 3 (ipykernel)",
   "language": "python",
   "name": "python3"
  },
  "language_info": {
   "codemirror_mode": {
    "name": "ipython",
    "version": 3
   },
   "file_extension": ".py",
   "mimetype": "text/x-python",
   "name": "python",
   "nbconvert_exporter": "python",
   "pygments_lexer": "ipython3",
   "version": "3.9.12"
  },
  "toc": {
   "base_numbering": 1,
   "nav_menu": {},
   "number_sections": true,
   "sideBar": true,
   "skip_h1_title": true,
   "title_cell": "Содержание",
   "title_sidebar": "Contents",
   "toc_cell": true,
   "toc_position": {
    "height": "calc(100% - 180px)",
    "left": "10px",
    "top": "150px",
    "width": "358.917px"
   },
   "toc_section_display": true,
   "toc_window_display": true
  }
 },
 "nbformat": 4,
 "nbformat_minor": 2
}
