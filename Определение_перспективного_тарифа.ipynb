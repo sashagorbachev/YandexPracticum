{
 "cells": [
  {
   "cell_type": "markdown",
   "id": "5fa4a358",
   "metadata": {},
   "source": [
    "# Проект \"Определение перспективного тарифа для телеком-компании\""
   ]
  },
  {
   "cell_type": "markdown",
   "id": "6045fdb2",
   "metadata": {},
   "source": [
    "## Описание проекта"
   ]
  },
  {
   "cell_type": "markdown",
   "id": "e3b90c47",
   "metadata": {},
   "source": [
    "Представлены сведения компании мобильной связи о предоставленных услугах.\n",
    "Статистика представлена в разрезе одновременно клиентов и сеансов связи (звонки, сообщения, интернет).\n",
    "Представлена также информация по клиентам.\n",
    "Заданием предусмотрена аггрегация и вычисление сведений об использовании услуг каждым клиентом в разрезе месяцев.\n",
    "На основании таких сведений предусмотрена проверка гипотез:\n",
    "- средняя выручка пользователей тарифов «Ультра» и «Смарт» различаются;\n",
    "- средняя выручка пользователей из Москвы отличается от выручки пользователей из других регионов."
   ]
  },
  {
   "cell_type": "markdown",
   "id": "2c209adc",
   "metadata": {},
   "source": [
    "<h1>Содержание<span class=\"tocSkip\"></span></h1>\n",
    "<div class=\"toc\">\n",
    "    <ul class=\"toc-item\"><li><span><a href=\"#Изучение-данных-из-файла\" data-toc-modified-id=\"Изучение-данных-из-файла-1\"><span class=\"toc-item-num\">1&nbsp;&nbsp;</span>Изучение данных из файла</a></span>\n",
    "    <ul class=\"toc-item\"><li><span><a href=\"#Вывод-по-результатам-изучения-данных\" data-toc-modified-id=\"Вывод по результатам изучения данных-1.1\"><span class=\"toc-item-num\">1.1&nbsp;&nbsp;</span>Вывод по результатам изучения данных</a></span></li></ul></li>\n",
    "    <li><span><a href=\"#Предобработка-данных\" data-toc-modified-id=\"Предобработка-данных-2\"><span class=\"toc-item-num\">2&nbsp;&nbsp;</span>Предобработка данных</a></span></li>\n",
    "    <li><span><a href=\"#Расчёты-и-добавление-результатов-в-таблицу\" data-toc-modified-id=\"Расчёты-и-добавление-результатов-в-таблицу-3.1\"><span class=\"toc-item-num\">3&nbsp;&nbsp;</span>Расчёты и добавление результатов в таблицу</a></span>\n",
    "     <ul class=\"toc-item\"><li><span><a href=\"#Вывод-по-результатам-расчета-и-добавления-данных\" data-toc-modified-id=\"Вывод по результатам расчета и добавления данных-3.1\"><span class=\"toc-item-num\">3.1&nbsp;&nbsp;</span>Вывод по результатам расчета и добавления данных</a></span></li></ul></li>\n",
    "    <li><span><a href=\"#Исследовательский-анализ-данных\" data-toc-modified-id=\"Исследовательский-анализ-данных-4\"><span class=\"toc-item-num\">4&nbsp;&nbsp;</span>Исследовательский анализ данных</a></span></li>\n",
    "        <ul class=\"toc-item\"><li><span><a href=\"#Вывод-по-исследовательскому-анализу\" data-toc-modified-id=\"Вывод по исследовательскому анализу-4.1\"><span class=\"toc-item-num\">4.1&nbsp;&nbsp;</span>Вывод по исследовательскому анализу</a></span></li></ul>\n",
    "    <li><span><a href=\"#Проверка-гипотез\" data-toc-modified-id=\"Проверка-гипотез-5\"><span class=\"toc-item-num\">5&nbsp;&nbsp;</span>Проверка гипотез</a></span></li>\n",
    "        <ul class=\"toc-item\"><li><span><a href=\"#Вывод-по-проверке-гипотез\" data-toc-modified-id=\"Вывод по проверке гипотез -5.1\"><span class=\"toc-item-num\">5.1&nbsp;&nbsp;</span>Вывод по проверке гипотез</a></span></li></ul>\n",
    "        <li><span><a href=\"#Общий-вывод\" data-toc-modified-id=\"Общий-вывод-6\"><span class=\"toc-item-num\">6&nbsp;&nbsp;</span>Общий вывод</a></span></li></ul></div>"
   ]
  },
  {
   "cell_type": "markdown",
   "id": "1eae0412",
   "metadata": {},
   "source": [
    "## Изучение данных из файла"
   ]
  },
  {
   "cell_type": "code",
   "execution_count": 1,
   "id": "d689c636",
   "metadata": {
    "scrolled": true
   },
   "outputs": [],
   "source": [
    "import pandas as pd\n",
    "import numpy as np\n",
    "import matplotlib.pyplot as plt\n",
    "import math"
   ]
  },
  {
   "cell_type": "code",
   "execution_count": 2,
   "id": "7aa5f8af",
   "metadata": {},
   "outputs": [
    {
     "name": "stdout",
     "output_type": "stream",
     "text": [
      "<class 'pandas.core.frame.DataFrame'>\n",
      "RangeIndex: 202607 entries, 0 to 202606\n",
      "Data columns (total 4 columns):\n",
      " #   Column     Non-Null Count   Dtype  \n",
      "---  ------     --------------   -----  \n",
      " 0   id         202607 non-null  object \n",
      " 1   call_date  202607 non-null  object \n",
      " 2   duration   202607 non-null  float64\n",
      " 3   user_id    202607 non-null  int64  \n",
      "dtypes: float64(1), int64(1), object(2)\n",
      "memory usage: 6.2+ MB\n"
     ]
    },
    {
     "data": {
      "text/html": [
       "<div>\n",
       "<style scoped>\n",
       "    .dataframe tbody tr th:only-of-type {\n",
       "        vertical-align: middle;\n",
       "    }\n",
       "\n",
       "    .dataframe tbody tr th {\n",
       "        vertical-align: top;\n",
       "    }\n",
       "\n",
       "    .dataframe thead th {\n",
       "        text-align: right;\n",
       "    }\n",
       "</style>\n",
       "<table border=\"1\" class=\"dataframe\">\n",
       "  <thead>\n",
       "    <tr style=\"text-align: right;\">\n",
       "      <th></th>\n",
       "      <th>id</th>\n",
       "      <th>call_date</th>\n",
       "      <th>duration</th>\n",
       "      <th>user_id</th>\n",
       "    </tr>\n",
       "  </thead>\n",
       "  <tbody>\n",
       "    <tr>\n",
       "      <th>0</th>\n",
       "      <td>1000_0</td>\n",
       "      <td>2018-07-25</td>\n",
       "      <td>0.00</td>\n",
       "      <td>1000</td>\n",
       "    </tr>\n",
       "    <tr>\n",
       "      <th>1</th>\n",
       "      <td>1000_1</td>\n",
       "      <td>2018-08-17</td>\n",
       "      <td>0.00</td>\n",
       "      <td>1000</td>\n",
       "    </tr>\n",
       "    <tr>\n",
       "      <th>2</th>\n",
       "      <td>1000_2</td>\n",
       "      <td>2018-06-11</td>\n",
       "      <td>2.85</td>\n",
       "      <td>1000</td>\n",
       "    </tr>\n",
       "    <tr>\n",
       "      <th>3</th>\n",
       "      <td>1000_3</td>\n",
       "      <td>2018-09-21</td>\n",
       "      <td>13.80</td>\n",
       "      <td>1000</td>\n",
       "    </tr>\n",
       "    <tr>\n",
       "      <th>4</th>\n",
       "      <td>1000_4</td>\n",
       "      <td>2018-12-15</td>\n",
       "      <td>5.18</td>\n",
       "      <td>1000</td>\n",
       "    </tr>\n",
       "  </tbody>\n",
       "</table>\n",
       "</div>"
      ],
      "text/plain": [
       "       id   call_date  duration  user_id\n",
       "0  1000_0  2018-07-25      0.00     1000\n",
       "1  1000_1  2018-08-17      0.00     1000\n",
       "2  1000_2  2018-06-11      2.85     1000\n",
       "3  1000_3  2018-09-21     13.80     1000\n",
       "4  1000_4  2018-12-15      5.18     1000"
      ]
     },
     "execution_count": 2,
     "metadata": {},
     "output_type": "execute_result"
    }
   ],
   "source": [
    "cls_set = pd.read_csv('/datasets/calls.csv')\n",
    "cls_set.info()\n",
    "cls_set.head()"
   ]
  },
  {
   "cell_type": "code",
   "execution_count": 3,
   "id": "bce2d498",
   "metadata": {},
   "outputs": [
    {
     "name": "stdout",
     "output_type": "stream",
     "text": [
      "<class 'pandas.core.frame.DataFrame'>\n",
      "RangeIndex: 149396 entries, 0 to 149395\n",
      "Data columns (total 5 columns):\n",
      " #   Column        Non-Null Count   Dtype  \n",
      "---  ------        --------------   -----  \n",
      " 0   Unnamed: 0    149396 non-null  int64  \n",
      " 1   id            149396 non-null  object \n",
      " 2   mb_used       149396 non-null  float64\n",
      " 3   session_date  149396 non-null  object \n",
      " 4   user_id       149396 non-null  int64  \n",
      "dtypes: float64(1), int64(2), object(2)\n",
      "memory usage: 5.7+ MB\n"
     ]
    },
    {
     "data": {
      "text/html": [
       "<div>\n",
       "<style scoped>\n",
       "    .dataframe tbody tr th:only-of-type {\n",
       "        vertical-align: middle;\n",
       "    }\n",
       "\n",
       "    .dataframe tbody tr th {\n",
       "        vertical-align: top;\n",
       "    }\n",
       "\n",
       "    .dataframe thead th {\n",
       "        text-align: right;\n",
       "    }\n",
       "</style>\n",
       "<table border=\"1\" class=\"dataframe\">\n",
       "  <thead>\n",
       "    <tr style=\"text-align: right;\">\n",
       "      <th></th>\n",
       "      <th>Unnamed: 0</th>\n",
       "      <th>id</th>\n",
       "      <th>mb_used</th>\n",
       "      <th>session_date</th>\n",
       "      <th>user_id</th>\n",
       "    </tr>\n",
       "  </thead>\n",
       "  <tbody>\n",
       "    <tr>\n",
       "      <th>0</th>\n",
       "      <td>0</td>\n",
       "      <td>1000_0</td>\n",
       "      <td>112.95</td>\n",
       "      <td>2018-11-25</td>\n",
       "      <td>1000</td>\n",
       "    </tr>\n",
       "    <tr>\n",
       "      <th>1</th>\n",
       "      <td>1</td>\n",
       "      <td>1000_1</td>\n",
       "      <td>1052.81</td>\n",
       "      <td>2018-09-07</td>\n",
       "      <td>1000</td>\n",
       "    </tr>\n",
       "    <tr>\n",
       "      <th>2</th>\n",
       "      <td>2</td>\n",
       "      <td>1000_2</td>\n",
       "      <td>1197.26</td>\n",
       "      <td>2018-06-25</td>\n",
       "      <td>1000</td>\n",
       "    </tr>\n",
       "    <tr>\n",
       "      <th>3</th>\n",
       "      <td>3</td>\n",
       "      <td>1000_3</td>\n",
       "      <td>550.27</td>\n",
       "      <td>2018-08-22</td>\n",
       "      <td>1000</td>\n",
       "    </tr>\n",
       "    <tr>\n",
       "      <th>4</th>\n",
       "      <td>4</td>\n",
       "      <td>1000_4</td>\n",
       "      <td>302.56</td>\n",
       "      <td>2018-09-24</td>\n",
       "      <td>1000</td>\n",
       "    </tr>\n",
       "  </tbody>\n",
       "</table>\n",
       "</div>"
      ],
      "text/plain": [
       "   Unnamed: 0      id  mb_used session_date  user_id\n",
       "0           0  1000_0   112.95   2018-11-25     1000\n",
       "1           1  1000_1  1052.81   2018-09-07     1000\n",
       "2           2  1000_2  1197.26   2018-06-25     1000\n",
       "3           3  1000_3   550.27   2018-08-22     1000\n",
       "4           4  1000_4   302.56   2018-09-24     1000"
      ]
     },
     "execution_count": 3,
     "metadata": {},
     "output_type": "execute_result"
    }
   ],
   "source": [
    "int_set = pd.read_csv('/datasets/internet.csv')\n",
    "int_set.info()\n",
    "int_set.head()"
   ]
  },
  {
   "cell_type": "code",
   "execution_count": 4,
   "id": "4f71ae9b",
   "metadata": {},
   "outputs": [
    {
     "name": "stdout",
     "output_type": "stream",
     "text": [
      "<class 'pandas.core.frame.DataFrame'>\n",
      "RangeIndex: 123036 entries, 0 to 123035\n",
      "Data columns (total 3 columns):\n",
      " #   Column        Non-Null Count   Dtype \n",
      "---  ------        --------------   ----- \n",
      " 0   id            123036 non-null  object\n",
      " 1   message_date  123036 non-null  object\n",
      " 2   user_id       123036 non-null  int64 \n",
      "dtypes: int64(1), object(2)\n",
      "memory usage: 2.8+ MB\n"
     ]
    },
    {
     "data": {
      "text/html": [
       "<div>\n",
       "<style scoped>\n",
       "    .dataframe tbody tr th:only-of-type {\n",
       "        vertical-align: middle;\n",
       "    }\n",
       "\n",
       "    .dataframe tbody tr th {\n",
       "        vertical-align: top;\n",
       "    }\n",
       "\n",
       "    .dataframe thead th {\n",
       "        text-align: right;\n",
       "    }\n",
       "</style>\n",
       "<table border=\"1\" class=\"dataframe\">\n",
       "  <thead>\n",
       "    <tr style=\"text-align: right;\">\n",
       "      <th></th>\n",
       "      <th>id</th>\n",
       "      <th>message_date</th>\n",
       "      <th>user_id</th>\n",
       "    </tr>\n",
       "  </thead>\n",
       "  <tbody>\n",
       "    <tr>\n",
       "      <th>0</th>\n",
       "      <td>1000_0</td>\n",
       "      <td>2018-06-27</td>\n",
       "      <td>1000</td>\n",
       "    </tr>\n",
       "    <tr>\n",
       "      <th>1</th>\n",
       "      <td>1000_1</td>\n",
       "      <td>2018-10-08</td>\n",
       "      <td>1000</td>\n",
       "    </tr>\n",
       "    <tr>\n",
       "      <th>2</th>\n",
       "      <td>1000_2</td>\n",
       "      <td>2018-08-04</td>\n",
       "      <td>1000</td>\n",
       "    </tr>\n",
       "    <tr>\n",
       "      <th>3</th>\n",
       "      <td>1000_3</td>\n",
       "      <td>2018-06-16</td>\n",
       "      <td>1000</td>\n",
       "    </tr>\n",
       "    <tr>\n",
       "      <th>4</th>\n",
       "      <td>1000_4</td>\n",
       "      <td>2018-12-05</td>\n",
       "      <td>1000</td>\n",
       "    </tr>\n",
       "  </tbody>\n",
       "</table>\n",
       "</div>"
      ],
      "text/plain": [
       "       id message_date  user_id\n",
       "0  1000_0   2018-06-27     1000\n",
       "1  1000_1   2018-10-08     1000\n",
       "2  1000_2   2018-08-04     1000\n",
       "3  1000_3   2018-06-16     1000\n",
       "4  1000_4   2018-12-05     1000"
      ]
     },
     "execution_count": 4,
     "metadata": {},
     "output_type": "execute_result"
    }
   ],
   "source": [
    "msg_set = pd.read_csv('/datasets/messages.csv')\n",
    "msg_set.info()\n",
    "msg_set.head()"
   ]
  },
  {
   "cell_type": "code",
   "execution_count": 5,
   "id": "1144363e",
   "metadata": {},
   "outputs": [
    {
     "name": "stdout",
     "output_type": "stream",
     "text": [
      "<class 'pandas.core.frame.DataFrame'>\n",
      "RangeIndex: 2 entries, 0 to 1\n",
      "Data columns (total 8 columns):\n",
      " #   Column                 Non-Null Count  Dtype \n",
      "---  ------                 --------------  ----- \n",
      " 0   messages_included      2 non-null      int64 \n",
      " 1   mb_per_month_included  2 non-null      int64 \n",
      " 2   minutes_included       2 non-null      int64 \n",
      " 3   rub_monthly_fee        2 non-null      int64 \n",
      " 4   rub_per_gb             2 non-null      int64 \n",
      " 5   rub_per_message        2 non-null      int64 \n",
      " 6   rub_per_minute         2 non-null      int64 \n",
      " 7   tariff_name            2 non-null      object\n",
      "dtypes: int64(7), object(1)\n",
      "memory usage: 256.0+ bytes\n"
     ]
    },
    {
     "data": {
      "text/html": [
       "<div>\n",
       "<style scoped>\n",
       "    .dataframe tbody tr th:only-of-type {\n",
       "        vertical-align: middle;\n",
       "    }\n",
       "\n",
       "    .dataframe tbody tr th {\n",
       "        vertical-align: top;\n",
       "    }\n",
       "\n",
       "    .dataframe thead th {\n",
       "        text-align: right;\n",
       "    }\n",
       "</style>\n",
       "<table border=\"1\" class=\"dataframe\">\n",
       "  <thead>\n",
       "    <tr style=\"text-align: right;\">\n",
       "      <th></th>\n",
       "      <th>messages_included</th>\n",
       "      <th>mb_per_month_included</th>\n",
       "      <th>minutes_included</th>\n",
       "      <th>rub_monthly_fee</th>\n",
       "      <th>rub_per_gb</th>\n",
       "      <th>rub_per_message</th>\n",
       "      <th>rub_per_minute</th>\n",
       "      <th>tariff_name</th>\n",
       "    </tr>\n",
       "  </thead>\n",
       "  <tbody>\n",
       "    <tr>\n",
       "      <th>0</th>\n",
       "      <td>50</td>\n",
       "      <td>15360</td>\n",
       "      <td>500</td>\n",
       "      <td>550</td>\n",
       "      <td>200</td>\n",
       "      <td>3</td>\n",
       "      <td>3</td>\n",
       "      <td>smart</td>\n",
       "    </tr>\n",
       "    <tr>\n",
       "      <th>1</th>\n",
       "      <td>1000</td>\n",
       "      <td>30720</td>\n",
       "      <td>3000</td>\n",
       "      <td>1950</td>\n",
       "      <td>150</td>\n",
       "      <td>1</td>\n",
       "      <td>1</td>\n",
       "      <td>ultra</td>\n",
       "    </tr>\n",
       "  </tbody>\n",
       "</table>\n",
       "</div>"
      ],
      "text/plain": [
       "   messages_included  mb_per_month_included  minutes_included  \\\n",
       "0                 50                  15360               500   \n",
       "1               1000                  30720              3000   \n",
       "\n",
       "   rub_monthly_fee  rub_per_gb  rub_per_message  rub_per_minute tariff_name  \n",
       "0              550         200                3               3       smart  \n",
       "1             1950         150                1               1       ultra  "
      ]
     },
     "execution_count": 5,
     "metadata": {},
     "output_type": "execute_result"
    }
   ],
   "source": [
    "trf_set = pd.read_csv('/datasets/tariffs.csv')\n",
    "trf_set.info()\n",
    "trf_set.head()"
   ]
  },
  {
   "cell_type": "code",
   "execution_count": 6,
   "id": "f0c91db8",
   "metadata": {
    "scrolled": false
   },
   "outputs": [
    {
     "name": "stdout",
     "output_type": "stream",
     "text": [
      "<class 'pandas.core.frame.DataFrame'>\n",
      "RangeIndex: 500 entries, 0 to 499\n",
      "Data columns (total 8 columns):\n",
      " #   Column      Non-Null Count  Dtype \n",
      "---  ------      --------------  ----- \n",
      " 0   user_id     500 non-null    int64 \n",
      " 1   age         500 non-null    int64 \n",
      " 2   churn_date  38 non-null     object\n",
      " 3   city        500 non-null    object\n",
      " 4   first_name  500 non-null    object\n",
      " 5   last_name   500 non-null    object\n",
      " 6   reg_date    500 non-null    object\n",
      " 7   tariff      500 non-null    object\n",
      "dtypes: int64(2), object(6)\n",
      "memory usage: 31.4+ KB\n"
     ]
    },
    {
     "data": {
      "text/html": [
       "<div>\n",
       "<style scoped>\n",
       "    .dataframe tbody tr th:only-of-type {\n",
       "        vertical-align: middle;\n",
       "    }\n",
       "\n",
       "    .dataframe tbody tr th {\n",
       "        vertical-align: top;\n",
       "    }\n",
       "\n",
       "    .dataframe thead th {\n",
       "        text-align: right;\n",
       "    }\n",
       "</style>\n",
       "<table border=\"1\" class=\"dataframe\">\n",
       "  <thead>\n",
       "    <tr style=\"text-align: right;\">\n",
       "      <th></th>\n",
       "      <th>user_id</th>\n",
       "      <th>age</th>\n",
       "      <th>churn_date</th>\n",
       "      <th>city</th>\n",
       "      <th>first_name</th>\n",
       "      <th>last_name</th>\n",
       "      <th>reg_date</th>\n",
       "      <th>tariff</th>\n",
       "    </tr>\n",
       "  </thead>\n",
       "  <tbody>\n",
       "    <tr>\n",
       "      <th>0</th>\n",
       "      <td>1000</td>\n",
       "      <td>52</td>\n",
       "      <td>NaN</td>\n",
       "      <td>Краснодар</td>\n",
       "      <td>Рафаил</td>\n",
       "      <td>Верещагин</td>\n",
       "      <td>2018-05-25</td>\n",
       "      <td>ultra</td>\n",
       "    </tr>\n",
       "    <tr>\n",
       "      <th>1</th>\n",
       "      <td>1001</td>\n",
       "      <td>41</td>\n",
       "      <td>NaN</td>\n",
       "      <td>Москва</td>\n",
       "      <td>Иван</td>\n",
       "      <td>Ежов</td>\n",
       "      <td>2018-11-01</td>\n",
       "      <td>smart</td>\n",
       "    </tr>\n",
       "    <tr>\n",
       "      <th>2</th>\n",
       "      <td>1002</td>\n",
       "      <td>59</td>\n",
       "      <td>NaN</td>\n",
       "      <td>Стерлитамак</td>\n",
       "      <td>Евгений</td>\n",
       "      <td>Абрамович</td>\n",
       "      <td>2018-06-17</td>\n",
       "      <td>smart</td>\n",
       "    </tr>\n",
       "    <tr>\n",
       "      <th>3</th>\n",
       "      <td>1003</td>\n",
       "      <td>23</td>\n",
       "      <td>NaN</td>\n",
       "      <td>Москва</td>\n",
       "      <td>Белла</td>\n",
       "      <td>Белякова</td>\n",
       "      <td>2018-08-17</td>\n",
       "      <td>ultra</td>\n",
       "    </tr>\n",
       "    <tr>\n",
       "      <th>4</th>\n",
       "      <td>1004</td>\n",
       "      <td>68</td>\n",
       "      <td>NaN</td>\n",
       "      <td>Новокузнецк</td>\n",
       "      <td>Татьяна</td>\n",
       "      <td>Авдеенко</td>\n",
       "      <td>2018-05-14</td>\n",
       "      <td>ultra</td>\n",
       "    </tr>\n",
       "  </tbody>\n",
       "</table>\n",
       "</div>"
      ],
      "text/plain": [
       "   user_id  age churn_date         city first_name  last_name    reg_date  \\\n",
       "0     1000   52        NaN    Краснодар     Рафаил  Верещагин  2018-05-25   \n",
       "1     1001   41        NaN       Москва       Иван       Ежов  2018-11-01   \n",
       "2     1002   59        NaN  Стерлитамак    Евгений  Абрамович  2018-06-17   \n",
       "3     1003   23        NaN       Москва      Белла   Белякова  2018-08-17   \n",
       "4     1004   68        NaN  Новокузнецк    Татьяна   Авдеенко  2018-05-14   \n",
       "\n",
       "  tariff  \n",
       "0  ultra  \n",
       "1  smart  \n",
       "2  smart  \n",
       "3  ultra  \n",
       "4  ultra  "
      ]
     },
     "execution_count": 6,
     "metadata": {},
     "output_type": "execute_result"
    }
   ],
   "source": [
    "usr_set = pd.read_csv('/datasets/users.csv')\n",
    "usr_set.info()\n",
    "usr_set.head()"
   ]
  },
  {
   "cell_type": "markdown",
   "id": "ca160b5d",
   "metadata": {},
   "source": [
    "### Вывод по результатам изучения данных\n",
    "Все представленные данные удалось прочитать. Значения дат в таблицах целесообразно преобразовать в значение типа datetime. \n",
    "Так эти значения будет проще группировать и категорировать"
   ]
  },
  {
   "cell_type": "markdown",
   "id": "deec85ca",
   "metadata": {},
   "source": [
    "## Предобработка данных"
   ]
  },
  {
   "cell_type": "code",
   "execution_count": 7,
   "id": "8dd6a7e2",
   "metadata": {},
   "outputs": [],
   "source": [
    "cls_set['call_date']=pd.DatetimeIndex(cls_set['call_date'])\n",
    "int_set['session_date']=pd.DatetimeIndex(int_set['session_date'])\n",
    "msg_set['message_date']=pd.DatetimeIndex(msg_set['message_date'])\n",
    "usr_set['reg_date']=pd.DatetimeIndex(usr_set['reg_date'])\n",
    "usr_set['churn_date']=pd.DatetimeIndex(usr_set['churn_date'])"
   ]
  },
  {
   "cell_type": "code",
   "execution_count": 8,
   "id": "00ff1d80",
   "metadata": {},
   "outputs": [
    {
     "data": {
      "text/html": [
       "<div>\n",
       "<style scoped>\n",
       "    .dataframe tbody tr th:only-of-type {\n",
       "        vertical-align: middle;\n",
       "    }\n",
       "\n",
       "    .dataframe tbody tr th {\n",
       "        vertical-align: top;\n",
       "    }\n",
       "\n",
       "    .dataframe thead th {\n",
       "        text-align: right;\n",
       "    }\n",
       "</style>\n",
       "<table border=\"1\" class=\"dataframe\">\n",
       "  <thead>\n",
       "    <tr style=\"text-align: right;\">\n",
       "      <th></th>\n",
       "      <th>user_id</th>\n",
       "      <th>month_start</th>\n",
       "      <th>calls_sum</th>\n",
       "      <th>calls_qty</th>\n",
       "    </tr>\n",
       "  </thead>\n",
       "  <tbody>\n",
       "    <tr>\n",
       "      <th>0</th>\n",
       "      <td>1000</td>\n",
       "      <td>2018-05-01</td>\n",
       "      <td>159.0</td>\n",
       "      <td>22.0</td>\n",
       "    </tr>\n",
       "    <tr>\n",
       "      <th>1</th>\n",
       "      <td>1000</td>\n",
       "      <td>2018-06-01</td>\n",
       "      <td>172.0</td>\n",
       "      <td>43.0</td>\n",
       "    </tr>\n",
       "    <tr>\n",
       "      <th>2</th>\n",
       "      <td>1000</td>\n",
       "      <td>2018-07-01</td>\n",
       "      <td>340.0</td>\n",
       "      <td>47.0</td>\n",
       "    </tr>\n",
       "    <tr>\n",
       "      <th>3</th>\n",
       "      <td>1000</td>\n",
       "      <td>2018-08-01</td>\n",
       "      <td>408.0</td>\n",
       "      <td>52.0</td>\n",
       "    </tr>\n",
       "    <tr>\n",
       "      <th>4</th>\n",
       "      <td>1000</td>\n",
       "      <td>2018-09-01</td>\n",
       "      <td>466.0</td>\n",
       "      <td>58.0</td>\n",
       "    </tr>\n",
       "  </tbody>\n",
       "</table>\n",
       "</div>"
      ],
      "text/plain": [
       "   user_id month_start  calls_sum  calls_qty\n",
       "0     1000  2018-05-01      159.0       22.0\n",
       "1     1000  2018-06-01      172.0       43.0\n",
       "2     1000  2018-07-01      340.0       47.0\n",
       "3     1000  2018-08-01      408.0       52.0\n",
       "4     1000  2018-09-01      466.0       58.0"
      ]
     },
     "metadata": {},
     "output_type": "display_data"
    }
   ],
   "source": [
    "cls_grp=cls_set.groupby(['user_id',pd.Grouper(freq='MS',key='call_date')]).agg(calls_sum=('duration', lambda x:sum(np.ceil(x))),calls_qty=('duration',lambda y:y.count())).reset_index()\n",
    "cls_grp.rename(columns={'call_date':'month_start'},inplace=True)\n",
    "display(cls_grp.head())"
   ]
  },
  {
   "cell_type": "code",
   "execution_count": 9,
   "id": "cbda507d",
   "metadata": {},
   "outputs": [
    {
     "data": {
      "text/html": [
       "<div>\n",
       "<style scoped>\n",
       "    .dataframe tbody tr th:only-of-type {\n",
       "        vertical-align: middle;\n",
       "    }\n",
       "\n",
       "    .dataframe tbody tr th {\n",
       "        vertical-align: top;\n",
       "    }\n",
       "\n",
       "    .dataframe thead th {\n",
       "        text-align: right;\n",
       "    }\n",
       "</style>\n",
       "<table border=\"1\" class=\"dataframe\">\n",
       "  <thead>\n",
       "    <tr style=\"text-align: right;\">\n",
       "      <th></th>\n",
       "      <th>user_id</th>\n",
       "      <th>month_start</th>\n",
       "      <th>gb_round</th>\n",
       "    </tr>\n",
       "  </thead>\n",
       "  <tbody>\n",
       "    <tr>\n",
       "      <th>0</th>\n",
       "      <td>1000</td>\n",
       "      <td>2018-05-01</td>\n",
       "      <td>3.0</td>\n",
       "    </tr>\n",
       "    <tr>\n",
       "      <th>1</th>\n",
       "      <td>1000</td>\n",
       "      <td>2018-06-01</td>\n",
       "      <td>23.0</td>\n",
       "    </tr>\n",
       "    <tr>\n",
       "      <th>2</th>\n",
       "      <td>1000</td>\n",
       "      <td>2018-07-01</td>\n",
       "      <td>14.0</td>\n",
       "    </tr>\n",
       "    <tr>\n",
       "      <th>3</th>\n",
       "      <td>1000</td>\n",
       "      <td>2018-08-01</td>\n",
       "      <td>14.0</td>\n",
       "    </tr>\n",
       "    <tr>\n",
       "      <th>4</th>\n",
       "      <td>1000</td>\n",
       "      <td>2018-09-01</td>\n",
       "      <td>15.0</td>\n",
       "    </tr>\n",
       "  </tbody>\n",
       "</table>\n",
       "</div>"
      ],
      "text/plain": [
       "   user_id month_start  gb_round\n",
       "0     1000  2018-05-01       3.0\n",
       "1     1000  2018-06-01      23.0\n",
       "2     1000  2018-07-01      14.0\n",
       "3     1000  2018-08-01      14.0\n",
       "4     1000  2018-09-01      15.0"
      ]
     },
     "execution_count": 9,
     "metadata": {},
     "output_type": "execute_result"
    }
   ],
   "source": [
    "int_grp=int_set.groupby(['user_id',pd.Grouper(freq='MS',key='session_date')]).agg(gb_round=('mb_used', lambda x:np.ceil(sum(x/1024)))).reset_index()\n",
    "int_grp.rename(columns={'session_date':'month_start'},inplace=True)\n",
    "int_grp.head()"
   ]
  },
  {
   "cell_type": "code",
   "execution_count": 10,
   "id": "95a10dee",
   "metadata": {},
   "outputs": [
    {
     "data": {
      "text/html": [
       "<div>\n",
       "<style scoped>\n",
       "    .dataframe tbody tr th:only-of-type {\n",
       "        vertical-align: middle;\n",
       "    }\n",
       "\n",
       "    .dataframe tbody tr th {\n",
       "        vertical-align: top;\n",
       "    }\n",
       "\n",
       "    .dataframe thead th {\n",
       "        text-align: right;\n",
       "    }\n",
       "</style>\n",
       "<table border=\"1\" class=\"dataframe\">\n",
       "  <thead>\n",
       "    <tr style=\"text-align: right;\">\n",
       "      <th></th>\n",
       "      <th>user_id</th>\n",
       "      <th>month_start</th>\n",
       "      <th>calls_sum</th>\n",
       "      <th>calls_qty</th>\n",
       "      <th>gb_round</th>\n",
       "    </tr>\n",
       "  </thead>\n",
       "  <tbody>\n",
       "    <tr>\n",
       "      <th>0</th>\n",
       "      <td>1000</td>\n",
       "      <td>2018-05-01</td>\n",
       "      <td>159.0</td>\n",
       "      <td>22.0</td>\n",
       "      <td>3.0</td>\n",
       "    </tr>\n",
       "    <tr>\n",
       "      <th>1</th>\n",
       "      <td>1000</td>\n",
       "      <td>2018-06-01</td>\n",
       "      <td>172.0</td>\n",
       "      <td>43.0</td>\n",
       "      <td>23.0</td>\n",
       "    </tr>\n",
       "    <tr>\n",
       "      <th>2</th>\n",
       "      <td>1000</td>\n",
       "      <td>2018-07-01</td>\n",
       "      <td>340.0</td>\n",
       "      <td>47.0</td>\n",
       "      <td>14.0</td>\n",
       "    </tr>\n",
       "    <tr>\n",
       "      <th>3</th>\n",
       "      <td>1000</td>\n",
       "      <td>2018-08-01</td>\n",
       "      <td>408.0</td>\n",
       "      <td>52.0</td>\n",
       "      <td>14.0</td>\n",
       "    </tr>\n",
       "    <tr>\n",
       "      <th>4</th>\n",
       "      <td>1000</td>\n",
       "      <td>2018-09-01</td>\n",
       "      <td>466.0</td>\n",
       "      <td>58.0</td>\n",
       "      <td>15.0</td>\n",
       "    </tr>\n",
       "  </tbody>\n",
       "</table>\n",
       "</div>"
      ],
      "text/plain": [
       "   user_id month_start  calls_sum  calls_qty  gb_round\n",
       "0     1000  2018-05-01      159.0       22.0       3.0\n",
       "1     1000  2018-06-01      172.0       43.0      23.0\n",
       "2     1000  2018-07-01      340.0       47.0      14.0\n",
       "3     1000  2018-08-01      408.0       52.0      14.0\n",
       "4     1000  2018-09-01      466.0       58.0      15.0"
      ]
     },
     "execution_count": 10,
     "metadata": {},
     "output_type": "execute_result"
    }
   ],
   "source": [
    "all_use = pd.merge(cls_grp, int_grp, how='outer',left_on=('user_id','month_start'), right_on=('user_id','month_start'))\n",
    "all_use.head()"
   ]
  },
  {
   "cell_type": "code",
   "execution_count": 11,
   "id": "8fbc8aa4",
   "metadata": {},
   "outputs": [
    {
     "data": {
      "text/html": [
       "<div>\n",
       "<style scoped>\n",
       "    .dataframe tbody tr th:only-of-type {\n",
       "        vertical-align: middle;\n",
       "    }\n",
       "\n",
       "    .dataframe tbody tr th {\n",
       "        vertical-align: top;\n",
       "    }\n",
       "\n",
       "    .dataframe thead th {\n",
       "        text-align: right;\n",
       "    }\n",
       "</style>\n",
       "<table border=\"1\" class=\"dataframe\">\n",
       "  <thead>\n",
       "    <tr style=\"text-align: right;\">\n",
       "      <th></th>\n",
       "      <th>user_id</th>\n",
       "      <th>month_start</th>\n",
       "      <th>msg_qty</th>\n",
       "    </tr>\n",
       "  </thead>\n",
       "  <tbody>\n",
       "    <tr>\n",
       "      <th>0</th>\n",
       "      <td>1000</td>\n",
       "      <td>2018-05-01</td>\n",
       "      <td>22</td>\n",
       "    </tr>\n",
       "    <tr>\n",
       "      <th>1</th>\n",
       "      <td>1000</td>\n",
       "      <td>2018-06-01</td>\n",
       "      <td>60</td>\n",
       "    </tr>\n",
       "    <tr>\n",
       "      <th>2</th>\n",
       "      <td>1000</td>\n",
       "      <td>2018-07-01</td>\n",
       "      <td>75</td>\n",
       "    </tr>\n",
       "    <tr>\n",
       "      <th>3</th>\n",
       "      <td>1000</td>\n",
       "      <td>2018-08-01</td>\n",
       "      <td>81</td>\n",
       "    </tr>\n",
       "    <tr>\n",
       "      <th>4</th>\n",
       "      <td>1000</td>\n",
       "      <td>2018-09-01</td>\n",
       "      <td>57</td>\n",
       "    </tr>\n",
       "  </tbody>\n",
       "</table>\n",
       "</div>"
      ],
      "text/plain": [
       "   user_id month_start  msg_qty\n",
       "0     1000  2018-05-01       22\n",
       "1     1000  2018-06-01       60\n",
       "2     1000  2018-07-01       75\n",
       "3     1000  2018-08-01       81\n",
       "4     1000  2018-09-01       57"
      ]
     },
     "execution_count": 11,
     "metadata": {},
     "output_type": "execute_result"
    }
   ],
   "source": [
    "msg_grp = msg_set.groupby(['user_id',pd.Grouper(freq='MS',key='message_date')]).agg({'id':'count'}).reset_index()\n",
    "msg_grp.rename(columns={'id':'msg_qty','message_date':'month_start'},inplace=True)\n",
    "msg_grp.head()"
   ]
  },
  {
   "cell_type": "code",
   "execution_count": 12,
   "id": "44359081",
   "metadata": {
    "scrolled": true
   },
   "outputs": [
    {
     "data": {
      "text/html": [
       "<div>\n",
       "<style scoped>\n",
       "    .dataframe tbody tr th:only-of-type {\n",
       "        vertical-align: middle;\n",
       "    }\n",
       "\n",
       "    .dataframe tbody tr th {\n",
       "        vertical-align: top;\n",
       "    }\n",
       "\n",
       "    .dataframe thead th {\n",
       "        text-align: right;\n",
       "    }\n",
       "</style>\n",
       "<table border=\"1\" class=\"dataframe\">\n",
       "  <thead>\n",
       "    <tr style=\"text-align: right;\">\n",
       "      <th></th>\n",
       "      <th>user_id</th>\n",
       "      <th>month_start</th>\n",
       "      <th>calls_sum</th>\n",
       "      <th>calls_qty</th>\n",
       "      <th>gb_round</th>\n",
       "      <th>msg_qty</th>\n",
       "    </tr>\n",
       "  </thead>\n",
       "  <tbody>\n",
       "    <tr>\n",
       "      <th>0</th>\n",
       "      <td>1000</td>\n",
       "      <td>2018-05-01</td>\n",
       "      <td>159.0</td>\n",
       "      <td>22.0</td>\n",
       "      <td>3.0</td>\n",
       "      <td>22.0</td>\n",
       "    </tr>\n",
       "    <tr>\n",
       "      <th>1</th>\n",
       "      <td>1000</td>\n",
       "      <td>2018-06-01</td>\n",
       "      <td>172.0</td>\n",
       "      <td>43.0</td>\n",
       "      <td>23.0</td>\n",
       "      <td>60.0</td>\n",
       "    </tr>\n",
       "    <tr>\n",
       "      <th>2</th>\n",
       "      <td>1000</td>\n",
       "      <td>2018-07-01</td>\n",
       "      <td>340.0</td>\n",
       "      <td>47.0</td>\n",
       "      <td>14.0</td>\n",
       "      <td>75.0</td>\n",
       "    </tr>\n",
       "    <tr>\n",
       "      <th>3</th>\n",
       "      <td>1000</td>\n",
       "      <td>2018-08-01</td>\n",
       "      <td>408.0</td>\n",
       "      <td>52.0</td>\n",
       "      <td>14.0</td>\n",
       "      <td>81.0</td>\n",
       "    </tr>\n",
       "    <tr>\n",
       "      <th>4</th>\n",
       "      <td>1000</td>\n",
       "      <td>2018-09-01</td>\n",
       "      <td>466.0</td>\n",
       "      <td>58.0</td>\n",
       "      <td>15.0</td>\n",
       "      <td>57.0</td>\n",
       "    </tr>\n",
       "  </tbody>\n",
       "</table>\n",
       "</div>"
      ],
      "text/plain": [
       "   user_id month_start  calls_sum  calls_qty  gb_round  msg_qty\n",
       "0     1000  2018-05-01      159.0       22.0       3.0     22.0\n",
       "1     1000  2018-06-01      172.0       43.0      23.0     60.0\n",
       "2     1000  2018-07-01      340.0       47.0      14.0     75.0\n",
       "3     1000  2018-08-01      408.0       52.0      14.0     81.0\n",
       "4     1000  2018-09-01      466.0       58.0      15.0     57.0"
      ]
     },
     "execution_count": 12,
     "metadata": {},
     "output_type": "execute_result"
    }
   ],
   "source": [
    "all_use = pd.merge(all_use, msg_grp, how='outer',on=('user_id','month_start'))\n",
    "all_use.head()"
   ]
  },
  {
   "cell_type": "markdown",
   "id": "326ff463",
   "metadata": {},
   "source": [
    "создадим таблицу с выручкой по клиентам-месяцам. \n",
    "В такой таблице мы получим записи за все месяцы, в т.ч. в которых клиенты не пользовались мобильной связью.\n",
    "в этом случае в таблице будет только абон.плата\n",
    "посчитаем месяц начала и конца обслуживания - \n",
    "для клиентов у которых окончание обслужвиания не заполнено, проставим месяц окончания - 12"
   ]
  },
  {
   "cell_type": "code",
   "execution_count": 13,
   "id": "d2798ce1",
   "metadata": {},
   "outputs": [],
   "source": [
    "\n",
    "user_revenue = pd.DataFrame(columns=['user_id','month','tariff','tariff_fee'])\n",
    "\n",
    "\n",
    "usr_set['month_start']=pd.DatetimeIndex(usr_set['reg_date']).month.astype(int)\n",
    "usr_set['month_end']=pd.DatetimeIndex(usr_set['churn_date']).month.fillna(12).astype(int)\n",
    "for ind, row in usr_set.iterrows():\n",
    "    for i in range(row['month_start'],row['month_end']+1):\n",
    "        tariff_fee = lambda x:550 if x=='smart' else 1950\n",
    "        new_row = (row['user_id'],i,row['tariff'],tariff_fee(row['tariff']))\n",
    "        user_revenue.loc[len(user_revenue)+1]=new_row"
   ]
  },
  {
   "cell_type": "code",
   "execution_count": 14,
   "id": "f3397ddb",
   "metadata": {},
   "outputs": [
    {
     "data": {
      "text/html": [
       "<div>\n",
       "<style scoped>\n",
       "    .dataframe tbody tr th:only-of-type {\n",
       "        vertical-align: middle;\n",
       "    }\n",
       "\n",
       "    .dataframe tbody tr th {\n",
       "        vertical-align: top;\n",
       "    }\n",
       "\n",
       "    .dataframe thead th {\n",
       "        text-align: right;\n",
       "    }\n",
       "</style>\n",
       "<table border=\"1\" class=\"dataframe\">\n",
       "  <thead>\n",
       "    <tr style=\"text-align: right;\">\n",
       "      <th></th>\n",
       "      <th>user_id</th>\n",
       "      <th>month</th>\n",
       "      <th>tariff</th>\n",
       "      <th>tariff_fee</th>\n",
       "    </tr>\n",
       "  </thead>\n",
       "  <tbody>\n",
       "    <tr>\n",
       "      <th>1</th>\n",
       "      <td>1000</td>\n",
       "      <td>5</td>\n",
       "      <td>ultra</td>\n",
       "      <td>1950</td>\n",
       "    </tr>\n",
       "    <tr>\n",
       "      <th>2</th>\n",
       "      <td>1000</td>\n",
       "      <td>6</td>\n",
       "      <td>ultra</td>\n",
       "      <td>1950</td>\n",
       "    </tr>\n",
       "    <tr>\n",
       "      <th>3</th>\n",
       "      <td>1000</td>\n",
       "      <td>7</td>\n",
       "      <td>ultra</td>\n",
       "      <td>1950</td>\n",
       "    </tr>\n",
       "    <tr>\n",
       "      <th>4</th>\n",
       "      <td>1000</td>\n",
       "      <td>8</td>\n",
       "      <td>ultra</td>\n",
       "      <td>1950</td>\n",
       "    </tr>\n",
       "    <tr>\n",
       "      <th>5</th>\n",
       "      <td>1000</td>\n",
       "      <td>9</td>\n",
       "      <td>ultra</td>\n",
       "      <td>1950</td>\n",
       "    </tr>\n",
       "    <tr>\n",
       "      <th>6</th>\n",
       "      <td>1000</td>\n",
       "      <td>10</td>\n",
       "      <td>ultra</td>\n",
       "      <td>1950</td>\n",
       "    </tr>\n",
       "    <tr>\n",
       "      <th>7</th>\n",
       "      <td>1000</td>\n",
       "      <td>11</td>\n",
       "      <td>ultra</td>\n",
       "      <td>1950</td>\n",
       "    </tr>\n",
       "    <tr>\n",
       "      <th>8</th>\n",
       "      <td>1000</td>\n",
       "      <td>12</td>\n",
       "      <td>ultra</td>\n",
       "      <td>1950</td>\n",
       "    </tr>\n",
       "    <tr>\n",
       "      <th>9</th>\n",
       "      <td>1001</td>\n",
       "      <td>11</td>\n",
       "      <td>smart</td>\n",
       "      <td>550</td>\n",
       "    </tr>\n",
       "    <tr>\n",
       "      <th>10</th>\n",
       "      <td>1001</td>\n",
       "      <td>12</td>\n",
       "      <td>smart</td>\n",
       "      <td>550</td>\n",
       "    </tr>\n",
       "    <tr>\n",
       "      <th>11</th>\n",
       "      <td>1002</td>\n",
       "      <td>6</td>\n",
       "      <td>smart</td>\n",
       "      <td>550</td>\n",
       "    </tr>\n",
       "    <tr>\n",
       "      <th>12</th>\n",
       "      <td>1002</td>\n",
       "      <td>7</td>\n",
       "      <td>smart</td>\n",
       "      <td>550</td>\n",
       "    </tr>\n",
       "    <tr>\n",
       "      <th>13</th>\n",
       "      <td>1002</td>\n",
       "      <td>8</td>\n",
       "      <td>smart</td>\n",
       "      <td>550</td>\n",
       "    </tr>\n",
       "    <tr>\n",
       "      <th>14</th>\n",
       "      <td>1002</td>\n",
       "      <td>9</td>\n",
       "      <td>smart</td>\n",
       "      <td>550</td>\n",
       "    </tr>\n",
       "    <tr>\n",
       "      <th>15</th>\n",
       "      <td>1002</td>\n",
       "      <td>10</td>\n",
       "      <td>smart</td>\n",
       "      <td>550</td>\n",
       "    </tr>\n",
       "    <tr>\n",
       "      <th>16</th>\n",
       "      <td>1002</td>\n",
       "      <td>11</td>\n",
       "      <td>smart</td>\n",
       "      <td>550</td>\n",
       "    </tr>\n",
       "    <tr>\n",
       "      <th>17</th>\n",
       "      <td>1002</td>\n",
       "      <td>12</td>\n",
       "      <td>smart</td>\n",
       "      <td>550</td>\n",
       "    </tr>\n",
       "    <tr>\n",
       "      <th>18</th>\n",
       "      <td>1003</td>\n",
       "      <td>8</td>\n",
       "      <td>ultra</td>\n",
       "      <td>1950</td>\n",
       "    </tr>\n",
       "    <tr>\n",
       "      <th>19</th>\n",
       "      <td>1003</td>\n",
       "      <td>9</td>\n",
       "      <td>ultra</td>\n",
       "      <td>1950</td>\n",
       "    </tr>\n",
       "    <tr>\n",
       "      <th>20</th>\n",
       "      <td>1003</td>\n",
       "      <td>10</td>\n",
       "      <td>ultra</td>\n",
       "      <td>1950</td>\n",
       "    </tr>\n",
       "  </tbody>\n",
       "</table>\n",
       "</div>"
      ],
      "text/plain": [
       "   user_id month tariff tariff_fee\n",
       "1     1000     5  ultra       1950\n",
       "2     1000     6  ultra       1950\n",
       "3     1000     7  ultra       1950\n",
       "4     1000     8  ultra       1950\n",
       "5     1000     9  ultra       1950\n",
       "6     1000    10  ultra       1950\n",
       "7     1000    11  ultra       1950\n",
       "8     1000    12  ultra       1950\n",
       "9     1001    11  smart        550\n",
       "10    1001    12  smart        550\n",
       "11    1002     6  smart        550\n",
       "12    1002     7  smart        550\n",
       "13    1002     8  smart        550\n",
       "14    1002     9  smart        550\n",
       "15    1002    10  smart        550\n",
       "16    1002    11  smart        550\n",
       "17    1002    12  smart        550\n",
       "18    1003     8  ultra       1950\n",
       "19    1003     9  ultra       1950\n",
       "20    1003    10  ultra       1950"
      ]
     },
     "execution_count": 14,
     "metadata": {},
     "output_type": "execute_result"
    }
   ],
   "source": [
    "user_revenue.head(20)"
   ]
  },
  {
   "cell_type": "code",
   "execution_count": 15,
   "id": "e923bc00",
   "metadata": {
    "scrolled": true
   },
   "outputs": [
    {
     "data": {
      "text/html": [
       "<div>\n",
       "<style scoped>\n",
       "    .dataframe tbody tr th:only-of-type {\n",
       "        vertical-align: middle;\n",
       "    }\n",
       "\n",
       "    .dataframe tbody tr th {\n",
       "        vertical-align: top;\n",
       "    }\n",
       "\n",
       "    .dataframe thead th {\n",
       "        text-align: right;\n",
       "    }\n",
       "</style>\n",
       "<table border=\"1\" class=\"dataframe\">\n",
       "  <thead>\n",
       "    <tr style=\"text-align: right;\">\n",
       "      <th></th>\n",
       "      <th>user_id</th>\n",
       "      <th>month</th>\n",
       "      <th>tariff</th>\n",
       "      <th>tariff_fee</th>\n",
       "      <th>calls_sum</th>\n",
       "      <th>calls_qty</th>\n",
       "      <th>gb_round</th>\n",
       "      <th>msg_qty</th>\n",
       "    </tr>\n",
       "  </thead>\n",
       "  <tbody>\n",
       "    <tr>\n",
       "      <th>0</th>\n",
       "      <td>1000</td>\n",
       "      <td>5</td>\n",
       "      <td>ultra</td>\n",
       "      <td>1950</td>\n",
       "      <td>159.0</td>\n",
       "      <td>22.0</td>\n",
       "      <td>3.0</td>\n",
       "      <td>22.0</td>\n",
       "    </tr>\n",
       "    <tr>\n",
       "      <th>1</th>\n",
       "      <td>1000</td>\n",
       "      <td>6</td>\n",
       "      <td>ultra</td>\n",
       "      <td>1950</td>\n",
       "      <td>172.0</td>\n",
       "      <td>43.0</td>\n",
       "      <td>23.0</td>\n",
       "      <td>60.0</td>\n",
       "    </tr>\n",
       "    <tr>\n",
       "      <th>2</th>\n",
       "      <td>1000</td>\n",
       "      <td>7</td>\n",
       "      <td>ultra</td>\n",
       "      <td>1950</td>\n",
       "      <td>340.0</td>\n",
       "      <td>47.0</td>\n",
       "      <td>14.0</td>\n",
       "      <td>75.0</td>\n",
       "    </tr>\n",
       "    <tr>\n",
       "      <th>3</th>\n",
       "      <td>1000</td>\n",
       "      <td>8</td>\n",
       "      <td>ultra</td>\n",
       "      <td>1950</td>\n",
       "      <td>408.0</td>\n",
       "      <td>52.0</td>\n",
       "      <td>14.0</td>\n",
       "      <td>81.0</td>\n",
       "    </tr>\n",
       "    <tr>\n",
       "      <th>4</th>\n",
       "      <td>1000</td>\n",
       "      <td>9</td>\n",
       "      <td>ultra</td>\n",
       "      <td>1950</td>\n",
       "      <td>466.0</td>\n",
       "      <td>58.0</td>\n",
       "      <td>15.0</td>\n",
       "      <td>57.0</td>\n",
       "    </tr>\n",
       "  </tbody>\n",
       "</table>\n",
       "</div>"
      ],
      "text/plain": [
       "  user_id month tariff tariff_fee  calls_sum  calls_qty  gb_round  msg_qty\n",
       "0    1000     5  ultra       1950      159.0       22.0       3.0     22.0\n",
       "1    1000     6  ultra       1950      172.0       43.0      23.0     60.0\n",
       "2    1000     7  ultra       1950      340.0       47.0      14.0     75.0\n",
       "3    1000     8  ultra       1950      408.0       52.0      14.0     81.0\n",
       "4    1000     9  ultra       1950      466.0       58.0      15.0     57.0"
      ]
     },
     "execution_count": 15,
     "metadata": {},
     "output_type": "execute_result"
    }
   ],
   "source": [
    "all_use['month'] = pd.DatetimeIndex(all_use['month_start']).month.astype(int)\n",
    "all_use=all_use.drop('month_start',axis=1)\n",
    "user_revenue = pd.merge(user_revenue,all_use,how='left',on=('user_id','month'))\n",
    "user_revenue.head()"
   ]
  },
  {
   "cell_type": "markdown",
   "id": "b0ae32d6",
   "metadata": {},
   "source": [
    "Проверим строки по которым услуг не было установлено вообще:"
   ]
  },
  {
   "cell_type": "code",
   "execution_count": 16,
   "id": "39e0fffc",
   "metadata": {
    "scrolled": false
   },
   "outputs": [
    {
     "data": {
      "text/html": [
       "<div>\n",
       "<style scoped>\n",
       "    .dataframe tbody tr th:only-of-type {\n",
       "        vertical-align: middle;\n",
       "    }\n",
       "\n",
       "    .dataframe tbody tr th {\n",
       "        vertical-align: top;\n",
       "    }\n",
       "\n",
       "    .dataframe thead th {\n",
       "        text-align: right;\n",
       "    }\n",
       "</style>\n",
       "<table border=\"1\" class=\"dataframe\">\n",
       "  <thead>\n",
       "    <tr style=\"text-align: right;\">\n",
       "      <th></th>\n",
       "      <th>user_id</th>\n",
       "      <th>month</th>\n",
       "      <th>tariff</th>\n",
       "      <th>tariff_fee</th>\n",
       "      <th>calls_sum</th>\n",
       "      <th>calls_qty</th>\n",
       "      <th>gb_round</th>\n",
       "      <th>msg_qty</th>\n",
       "    </tr>\n",
       "  </thead>\n",
       "  <tbody>\n",
       "    <tr>\n",
       "      <th>827</th>\n",
       "      <td>1128</td>\n",
       "      <td>12</td>\n",
       "      <td>ultra</td>\n",
       "      <td>1950</td>\n",
       "      <td>NaN</td>\n",
       "      <td>NaN</td>\n",
       "      <td>NaN</td>\n",
       "      <td>NaN</td>\n",
       "    </tr>\n",
       "    <tr>\n",
       "      <th>2335</th>\n",
       "      <td>1371</td>\n",
       "      <td>12</td>\n",
       "      <td>smart</td>\n",
       "      <td>550</td>\n",
       "      <td>NaN</td>\n",
       "      <td>NaN</td>\n",
       "      <td>NaN</td>\n",
       "      <td>NaN</td>\n",
       "    </tr>\n",
       "  </tbody>\n",
       "</table>\n",
       "</div>"
      ],
      "text/plain": [
       "     user_id month tariff tariff_fee  calls_sum  calls_qty  gb_round  msg_qty\n",
       "827     1128    12  ultra       1950        NaN        NaN       NaN      NaN\n",
       "2335    1371    12  smart        550        NaN        NaN       NaN      NaN"
      ]
     },
     "execution_count": 16,
     "metadata": {},
     "output_type": "execute_result"
    }
   ],
   "source": [
    "user_revenue.query('calls_sum.isna() and calls_qty.isna() and gb_round.isna() and msg_qty.isna()',engine='python').head()"
   ]
  },
  {
   "cell_type": "markdown",
   "id": "23752ac9",
   "metadata": {},
   "source": [
    "Всего две записи по 2м клиентам по которым отсутствует объем оказанных услуг. Посмотрим данные по этим клиентам:"
   ]
  },
  {
   "cell_type": "code",
   "execution_count": 17,
   "id": "25ea3a6d",
   "metadata": {
    "scrolled": false
   },
   "outputs": [
    {
     "data": {
      "text/html": [
       "<div>\n",
       "<style scoped>\n",
       "    .dataframe tbody tr th:only-of-type {\n",
       "        vertical-align: middle;\n",
       "    }\n",
       "\n",
       "    .dataframe tbody tr th {\n",
       "        vertical-align: top;\n",
       "    }\n",
       "\n",
       "    .dataframe thead th {\n",
       "        text-align: right;\n",
       "    }\n",
       "</style>\n",
       "<table border=\"1\" class=\"dataframe\">\n",
       "  <thead>\n",
       "    <tr style=\"text-align: right;\">\n",
       "      <th></th>\n",
       "      <th>user_id</th>\n",
       "      <th>age</th>\n",
       "      <th>churn_date</th>\n",
       "      <th>city</th>\n",
       "      <th>first_name</th>\n",
       "      <th>last_name</th>\n",
       "      <th>reg_date</th>\n",
       "      <th>tariff</th>\n",
       "      <th>month_start</th>\n",
       "      <th>month_end</th>\n",
       "    </tr>\n",
       "  </thead>\n",
       "  <tbody>\n",
       "    <tr>\n",
       "      <th>128</th>\n",
       "      <td>1128</td>\n",
       "      <td>51</td>\n",
       "      <td>2018-12-23</td>\n",
       "      <td>Волжский</td>\n",
       "      <td>Ксения</td>\n",
       "      <td>Агаева</td>\n",
       "      <td>2018-12-15</td>\n",
       "      <td>ultra</td>\n",
       "      <td>12</td>\n",
       "      <td>12</td>\n",
       "    </tr>\n",
       "    <tr>\n",
       "      <th>371</th>\n",
       "      <td>1371</td>\n",
       "      <td>50</td>\n",
       "      <td>2018-12-30</td>\n",
       "      <td>Омск</td>\n",
       "      <td>Ириней</td>\n",
       "      <td>Трофимов</td>\n",
       "      <td>2018-12-25</td>\n",
       "      <td>smart</td>\n",
       "      <td>12</td>\n",
       "      <td>12</td>\n",
       "    </tr>\n",
       "  </tbody>\n",
       "</table>\n",
       "</div>"
      ],
      "text/plain": [
       "     user_id  age churn_date      city first_name last_name   reg_date tariff  \\\n",
       "128     1128   51 2018-12-23  Волжский     Ксения    Агаева 2018-12-15  ultra   \n",
       "371     1371   50 2018-12-30      Омск     Ириней  Трофимов 2018-12-25  smart   \n",
       "\n",
       "     month_start  month_end  \n",
       "128           12         12  \n",
       "371           12         12  "
      ]
     },
     "execution_count": 17,
     "metadata": {},
     "output_type": "execute_result"
    }
   ],
   "source": [
    "usr_set.query('user_id==1128 or user_id==1371')"
   ]
  },
  {
   "cell_type": "markdown",
   "id": "6aed69b8",
   "metadata": {},
   "source": [
    "Установлено 2 клиента подключившиеся в последнем месяце анализируемого периода. По данным клиентам не зафиксировано использование услуг связи (звонки, сеансы интернета, сообщения) однако по данным клиентам будет выручка в части абонентской платы."
   ]
  },
  {
   "cell_type": "code",
   "execution_count": 18,
   "id": "68176790",
   "metadata": {},
   "outputs": [],
   "source": [
    "user_revenue = user_revenue.fillna(0).reset_index()"
   ]
  },
  {
   "cell_type": "markdown",
   "id": "e55e87e6",
   "metadata": {},
   "source": [
    "## Расчёты и добавление результатов в таблицу"
   ]
  },
  {
   "cell_type": "markdown",
   "id": "0152e979",
   "metadata": {},
   "source": [
    "Посчитаем дополнительный доход от превышения клиентами пакета услуг, включенных в абонентскую плату. \n",
    "Для этого вычтем из суммы использованных услуг за месяц сумму включенную в абонентску плату. \n",
    "Отбросим отрицательное значение (возведем в квадрат и извлечем корень) и умножим на стоимость услуги."
   ]
  },
  {
   "cell_type": "code",
   "execution_count": 23,
   "id": "a067f730",
   "metadata": {},
   "outputs": [],
   "source": [
    "def dop_cash (user_revenue1):\n",
    "    if user_revenue1['tariff'] == 'smart':\n",
    "        if user_revenue1['calls_sum'] <= trf_set.loc[trf_set['tariff_name']=='smart','minutes_included'].item():\n",
    "            revenue_calls = 0\n",
    "        else:\n",
    "            revenue_calls = (user_revenue1['calls_sum'] - trf_set.loc[trf_set['tariff_name']=='smart','minutes_included'].item())*trf_set.loc[trf_set['tariff_name']=='smart','rub_per_minute'].item()\n",
    "        if user_revenue1['gb_round'] <= (trf_set.loc[trf_set['tariff_name']=='smart','mb_per_month_included']/1024).item():\n",
    "            revenue_traffic = 0\n",
    "        else:\n",
    "            revenue_traffic = (user_revenue1['gb_round'] - (trf_set.loc[trf_set['tariff_name']=='smart','mb_per_month_included'].item()/1024))*trf_set.loc[trf_set['tariff_name']=='smart','rub_per_gb'].item()\n",
    "        if user_revenue1['msg_qty'] <= trf_set.loc[trf_set['tariff_name']=='smart','messages_included'].item():\n",
    "            revenue_messages = 0\n",
    "        else:\n",
    "            revenue_messages = (user_revenue1['msg_qty'] - trf_set.loc[trf_set['tariff_name']=='smart','messages_included'].item())* trf_set.loc[trf_set['tariff_name']=='smart','rub_per_message'].item()  \n",
    "    elif user_revenue1['tariff'] == 'ultra':         \n",
    "        if user_revenue1['calls_sum'] <= trf_set.loc[trf_set['tariff_name']=='ultra','minutes_included'].item():\n",
    "            revenue_calls = 0\n",
    "        else:\n",
    "            revenue_calls = (user_revenue1['calls_sum'] - trf_set.loc[trf_set['tariff_name']=='ultra','minutes_included'].item())*trf_set.loc[trf_set['tariff_name']=='ultra','rub_per_minute'].item()\n",
    "        if user_revenue1['gb_round'] <= (trf_set.loc[trf_set['tariff_name']=='ultra','mb_per_month_included']/1024).item():\n",
    "            revenue_traffic = 0\n",
    "        else:\n",
    "            revenue_traffic = (user_revenue1['gb_round'] - (trf_set.loc[trf_set['tariff_name']=='ultra','mb_per_month_included'].item()/1024))*trf_set.loc[trf_set['tariff_name']=='ultra','rub_per_gb'].item()\n",
    "        if user_revenue1['msg_qty'] <= trf_set.loc[trf_set['tariff_name']=='ultra','messages_included'].item():\n",
    "            revenue_messages = 0\n",
    "        else:\n",
    "            revenue_messages = (user_revenue1['msg_qty'] - trf_set.loc[trf_set['tariff_name']=='ultra','messages_included'].item())* trf_set.loc[trf_set['tariff_name']=='ultra','rub_per_message'].item()\n",
    "    return revenue_calls, revenue_traffic, revenue_messages"
   ]
  },
  {
   "cell_type": "code",
   "execution_count": 24,
   "id": "8e421141",
   "metadata": {},
   "outputs": [],
   "source": [
    "user_revenue['revenue_calls'],user_revenue['revenue_traffic'],user_revenue['revenue_messages'] = zip(*user_revenue.apply(dop_cash,axis=1))\n"
   ]
  },
  {
   "cell_type": "code",
   "execution_count": 25,
   "id": "c2ee4ae0",
   "metadata": {},
   "outputs": [],
   "source": [
    "#user_revenue['revenue_calls']=np.nan\n",
    "#user_revenue['revenue_traffic']=np.nan\n",
    "#user_revenue['revenue_messages']=np.nan\n",
    "#for index, row in trf_set.iterrows():\n",
    "    #user_revenue.loc[user_revenue.tariff==row['tariff_name'],'revenue_calls']=(((user_revenue[user_revenue.tariff==row['tariff_name']]['calls_sum']-row['minutes_included'])*(user_revenue[user_revenue.tariff==row['tariff_name']]['calls_sum']-row['minutes_included']))**(1/2)+(user_revenue[user_revenue.tariff==row['tariff_name']]['calls_sum']-row['minutes_included']))/2*row['rub_per_minute']\n",
    "    #user_revenue.loc[user_revenue.tariff==row['tariff_name'],'revenue_traffic']=(((user_revenue[user_revenue.tariff==row['tariff_name']]['gb_round']-row['mb_per_month_included']/1024)*(user_revenue[user_revenue.tariff==row['tariff_name']]['gb_round']-row['mb_per_month_included']/1024))**(1/2)+(user_revenue[user_revenue.tariff==row['tariff_name']]['gb_round']-row['mb_per_month_included']/1024))/2*row['rub_per_gb']\n",
    "    #user_revenue.loc[user_revenue.tariff==row['tariff_name'],'revenue_messages']=(((user_revenue[user_revenue.tariff==row['tariff_name']]['msg_qty']-row['messages_included'])*(user_revenue[user_revenue.tariff==row['tariff_name']]['msg_qty']-row['messages_included']))**(1/2)+(user_revenue[user_revenue.tariff==row['tariff_name']]['msg_qty']-row['messages_included']))/2*row['rub_per_message']"
   ]
  },
  {
   "cell_type": "code",
   "execution_count": 26,
   "id": "c2caf38c",
   "metadata": {},
   "outputs": [
    {
     "data": {
      "text/html": [
       "<div>\n",
       "<style scoped>\n",
       "    .dataframe tbody tr th:only-of-type {\n",
       "        vertical-align: middle;\n",
       "    }\n",
       "\n",
       "    .dataframe tbody tr th {\n",
       "        vertical-align: top;\n",
       "    }\n",
       "\n",
       "    .dataframe thead th {\n",
       "        text-align: right;\n",
       "    }\n",
       "</style>\n",
       "<table border=\"1\" class=\"dataframe\">\n",
       "  <thead>\n",
       "    <tr style=\"text-align: right;\">\n",
       "      <th></th>\n",
       "      <th>index</th>\n",
       "      <th>user_id</th>\n",
       "      <th>month</th>\n",
       "      <th>tariff</th>\n",
       "      <th>tariff_fee</th>\n",
       "      <th>calls_sum</th>\n",
       "      <th>calls_qty</th>\n",
       "      <th>gb_round</th>\n",
       "      <th>msg_qty</th>\n",
       "      <th>revenue_calls</th>\n",
       "      <th>revenue_traffic</th>\n",
       "      <th>revenue_messages</th>\n",
       "    </tr>\n",
       "  </thead>\n",
       "  <tbody>\n",
       "    <tr>\n",
       "      <th>32</th>\n",
       "      <td>32</td>\n",
       "      <td>1005</td>\n",
       "      <td>3</td>\n",
       "      <td>smart</td>\n",
       "      <td>550</td>\n",
       "      <td>606.0</td>\n",
       "      <td>77.0</td>\n",
       "      <td>11.0</td>\n",
       "      <td>56.0</td>\n",
       "      <td>318.0</td>\n",
       "      <td>0.0</td>\n",
       "      <td>18.0</td>\n",
       "    </tr>\n",
       "    <tr>\n",
       "      <th>33</th>\n",
       "      <td>33</td>\n",
       "      <td>1005</td>\n",
       "      <td>4</td>\n",
       "      <td>smart</td>\n",
       "      <td>550</td>\n",
       "      <td>712.0</td>\n",
       "      <td>101.0</td>\n",
       "      <td>10.0</td>\n",
       "      <td>41.0</td>\n",
       "      <td>636.0</td>\n",
       "      <td>0.0</td>\n",
       "      <td>0.0</td>\n",
       "    </tr>\n",
       "    <tr>\n",
       "      <th>34</th>\n",
       "      <td>34</td>\n",
       "      <td>1005</td>\n",
       "      <td>5</td>\n",
       "      <td>smart</td>\n",
       "      <td>550</td>\n",
       "      <td>595.0</td>\n",
       "      <td>73.0</td>\n",
       "      <td>8.0</td>\n",
       "      <td>42.0</td>\n",
       "      <td>285.0</td>\n",
       "      <td>0.0</td>\n",
       "      <td>0.0</td>\n",
       "    </tr>\n",
       "    <tr>\n",
       "      <th>35</th>\n",
       "      <td>35</td>\n",
       "      <td>1005</td>\n",
       "      <td>6</td>\n",
       "      <td>smart</td>\n",
       "      <td>550</td>\n",
       "      <td>612.0</td>\n",
       "      <td>80.0</td>\n",
       "      <td>10.0</td>\n",
       "      <td>47.0</td>\n",
       "      <td>336.0</td>\n",
       "      <td>0.0</td>\n",
       "      <td>0.0</td>\n",
       "    </tr>\n",
       "    <tr>\n",
       "      <th>36</th>\n",
       "      <td>36</td>\n",
       "      <td>1005</td>\n",
       "      <td>7</td>\n",
       "      <td>smart</td>\n",
       "      <td>550</td>\n",
       "      <td>569.0</td>\n",
       "      <td>77.0</td>\n",
       "      <td>8.0</td>\n",
       "      <td>56.0</td>\n",
       "      <td>207.0</td>\n",
       "      <td>0.0</td>\n",
       "      <td>18.0</td>\n",
       "    </tr>\n",
       "    <tr>\n",
       "      <th>37</th>\n",
       "      <td>37</td>\n",
       "      <td>1005</td>\n",
       "      <td>8</td>\n",
       "      <td>smart</td>\n",
       "      <td>550</td>\n",
       "      <td>619.0</td>\n",
       "      <td>71.0</td>\n",
       "      <td>8.0</td>\n",
       "      <td>64.0</td>\n",
       "      <td>357.0</td>\n",
       "      <td>0.0</td>\n",
       "      <td>42.0</td>\n",
       "    </tr>\n",
       "    <tr>\n",
       "      <th>39</th>\n",
       "      <td>39</td>\n",
       "      <td>1005</td>\n",
       "      <td>10</td>\n",
       "      <td>smart</td>\n",
       "      <td>550</td>\n",
       "      <td>723.0</td>\n",
       "      <td>100.0</td>\n",
       "      <td>8.0</td>\n",
       "      <td>44.0</td>\n",
       "      <td>669.0</td>\n",
       "      <td>0.0</td>\n",
       "      <td>0.0</td>\n",
       "    </tr>\n",
       "    <tr>\n",
       "      <th>40</th>\n",
       "      <td>40</td>\n",
       "      <td>1005</td>\n",
       "      <td>11</td>\n",
       "      <td>smart</td>\n",
       "      <td>550</td>\n",
       "      <td>547.0</td>\n",
       "      <td>75.0</td>\n",
       "      <td>13.0</td>\n",
       "      <td>51.0</td>\n",
       "      <td>141.0</td>\n",
       "      <td>0.0</td>\n",
       "      <td>3.0</td>\n",
       "    </tr>\n",
       "    <tr>\n",
       "      <th>41</th>\n",
       "      <td>41</td>\n",
       "      <td>1005</td>\n",
       "      <td>12</td>\n",
       "      <td>smart</td>\n",
       "      <td>550</td>\n",
       "      <td>592.0</td>\n",
       "      <td>84.0</td>\n",
       "      <td>9.0</td>\n",
       "      <td>54.0</td>\n",
       "      <td>276.0</td>\n",
       "      <td>0.0</td>\n",
       "      <td>12.0</td>\n",
       "    </tr>\n",
       "    <tr>\n",
       "      <th>55</th>\n",
       "      <td>55</td>\n",
       "      <td>1007</td>\n",
       "      <td>6</td>\n",
       "      <td>smart</td>\n",
       "      <td>550</td>\n",
       "      <td>545.0</td>\n",
       "      <td>68.0</td>\n",
       "      <td>14.0</td>\n",
       "      <td>26.0</td>\n",
       "      <td>135.0</td>\n",
       "      <td>0.0</td>\n",
       "      <td>0.0</td>\n",
       "    </tr>\n",
       "    <tr>\n",
       "      <th>56</th>\n",
       "      <td>56</td>\n",
       "      <td>1007</td>\n",
       "      <td>7</td>\n",
       "      <td>smart</td>\n",
       "      <td>550</td>\n",
       "      <td>577.0</td>\n",
       "      <td>69.0</td>\n",
       "      <td>16.0</td>\n",
       "      <td>26.0</td>\n",
       "      <td>231.0</td>\n",
       "      <td>200.0</td>\n",
       "      <td>0.0</td>\n",
       "    </tr>\n",
       "    <tr>\n",
       "      <th>58</th>\n",
       "      <td>58</td>\n",
       "      <td>1007</td>\n",
       "      <td>9</td>\n",
       "      <td>smart</td>\n",
       "      <td>550</td>\n",
       "      <td>655.0</td>\n",
       "      <td>87.0</td>\n",
       "      <td>13.0</td>\n",
       "      <td>31.0</td>\n",
       "      <td>465.0</td>\n",
       "      <td>0.0</td>\n",
       "      <td>0.0</td>\n",
       "    </tr>\n",
       "    <tr>\n",
       "      <th>60</th>\n",
       "      <td>60</td>\n",
       "      <td>1007</td>\n",
       "      <td>11</td>\n",
       "      <td>smart</td>\n",
       "      <td>550</td>\n",
       "      <td>580.0</td>\n",
       "      <td>81.0</td>\n",
       "      <td>16.0</td>\n",
       "      <td>21.0</td>\n",
       "      <td>240.0</td>\n",
       "      <td>200.0</td>\n",
       "      <td>0.0</td>\n",
       "    </tr>\n",
       "    <tr>\n",
       "      <th>82</th>\n",
       "      <td>82</td>\n",
       "      <td>1011</td>\n",
       "      <td>7</td>\n",
       "      <td>smart</td>\n",
       "      <td>550</td>\n",
       "      <td>502.0</td>\n",
       "      <td>73.0</td>\n",
       "      <td>19.0</td>\n",
       "      <td>13.0</td>\n",
       "      <td>6.0</td>\n",
       "      <td>800.0</td>\n",
       "      <td>0.0</td>\n",
       "    </tr>\n",
       "    <tr>\n",
       "      <th>83</th>\n",
       "      <td>83</td>\n",
       "      <td>1011</td>\n",
       "      <td>8</td>\n",
       "      <td>smart</td>\n",
       "      <td>550</td>\n",
       "      <td>515.0</td>\n",
       "      <td>74.0</td>\n",
       "      <td>21.0</td>\n",
       "      <td>15.0</td>\n",
       "      <td>45.0</td>\n",
       "      <td>1200.0</td>\n",
       "      <td>0.0</td>\n",
       "    </tr>\n",
       "    <tr>\n",
       "      <th>85</th>\n",
       "      <td>85</td>\n",
       "      <td>1011</td>\n",
       "      <td>10</td>\n",
       "      <td>smart</td>\n",
       "      <td>550</td>\n",
       "      <td>630.0</td>\n",
       "      <td>76.0</td>\n",
       "      <td>18.0</td>\n",
       "      <td>17.0</td>\n",
       "      <td>390.0</td>\n",
       "      <td>600.0</td>\n",
       "      <td>0.0</td>\n",
       "    </tr>\n",
       "    <tr>\n",
       "      <th>86</th>\n",
       "      <td>86</td>\n",
       "      <td>1011</td>\n",
       "      <td>11</td>\n",
       "      <td>smart</td>\n",
       "      <td>550</td>\n",
       "      <td>501.0</td>\n",
       "      <td>65.0</td>\n",
       "      <td>25.0</td>\n",
       "      <td>12.0</td>\n",
       "      <td>3.0</td>\n",
       "      <td>2000.0</td>\n",
       "      <td>0.0</td>\n",
       "    </tr>\n",
       "    <tr>\n",
       "      <th>111</th>\n",
       "      <td>111</td>\n",
       "      <td>1015</td>\n",
       "      <td>7</td>\n",
       "      <td>smart</td>\n",
       "      <td>550</td>\n",
       "      <td>556.0</td>\n",
       "      <td>79.0</td>\n",
       "      <td>20.0</td>\n",
       "      <td>90.0</td>\n",
       "      <td>168.0</td>\n",
       "      <td>1000.0</td>\n",
       "      <td>120.0</td>\n",
       "    </tr>\n",
       "    <tr>\n",
       "      <th>114</th>\n",
       "      <td>114</td>\n",
       "      <td>1015</td>\n",
       "      <td>10</td>\n",
       "      <td>smart</td>\n",
       "      <td>550</td>\n",
       "      <td>577.0</td>\n",
       "      <td>67.0</td>\n",
       "      <td>17.0</td>\n",
       "      <td>68.0</td>\n",
       "      <td>231.0</td>\n",
       "      <td>400.0</td>\n",
       "      <td>54.0</td>\n",
       "    </tr>\n",
       "    <tr>\n",
       "      <th>143</th>\n",
       "      <td>143</td>\n",
       "      <td>1020</td>\n",
       "      <td>11</td>\n",
       "      <td>smart</td>\n",
       "      <td>550</td>\n",
       "      <td>674.0</td>\n",
       "      <td>96.0</td>\n",
       "      <td>18.0</td>\n",
       "      <td>24.0</td>\n",
       "      <td>522.0</td>\n",
       "      <td>600.0</td>\n",
       "      <td>0.0</td>\n",
       "    </tr>\n",
       "  </tbody>\n",
       "</table>\n",
       "</div>"
      ],
      "text/plain": [
       "     index  user_id  month tariff  tariff_fee  calls_sum  calls_qty  gb_round  \\\n",
       "32      32     1005      3  smart         550      606.0       77.0      11.0   \n",
       "33      33     1005      4  smart         550      712.0      101.0      10.0   \n",
       "34      34     1005      5  smart         550      595.0       73.0       8.0   \n",
       "35      35     1005      6  smart         550      612.0       80.0      10.0   \n",
       "36      36     1005      7  smart         550      569.0       77.0       8.0   \n",
       "37      37     1005      8  smart         550      619.0       71.0       8.0   \n",
       "39      39     1005     10  smart         550      723.0      100.0       8.0   \n",
       "40      40     1005     11  smart         550      547.0       75.0      13.0   \n",
       "41      41     1005     12  smart         550      592.0       84.0       9.0   \n",
       "55      55     1007      6  smart         550      545.0       68.0      14.0   \n",
       "56      56     1007      7  smart         550      577.0       69.0      16.0   \n",
       "58      58     1007      9  smart         550      655.0       87.0      13.0   \n",
       "60      60     1007     11  smart         550      580.0       81.0      16.0   \n",
       "82      82     1011      7  smart         550      502.0       73.0      19.0   \n",
       "83      83     1011      8  smart         550      515.0       74.0      21.0   \n",
       "85      85     1011     10  smart         550      630.0       76.0      18.0   \n",
       "86      86     1011     11  smart         550      501.0       65.0      25.0   \n",
       "111    111     1015      7  smart         550      556.0       79.0      20.0   \n",
       "114    114     1015     10  smart         550      577.0       67.0      17.0   \n",
       "143    143     1020     11  smart         550      674.0       96.0      18.0   \n",
       "\n",
       "     msg_qty  revenue_calls  revenue_traffic  revenue_messages  \n",
       "32      56.0          318.0              0.0              18.0  \n",
       "33      41.0          636.0              0.0               0.0  \n",
       "34      42.0          285.0              0.0               0.0  \n",
       "35      47.0          336.0              0.0               0.0  \n",
       "36      56.0          207.0              0.0              18.0  \n",
       "37      64.0          357.0              0.0              42.0  \n",
       "39      44.0          669.0              0.0               0.0  \n",
       "40      51.0          141.0              0.0               3.0  \n",
       "41      54.0          276.0              0.0              12.0  \n",
       "55      26.0          135.0              0.0               0.0  \n",
       "56      26.0          231.0            200.0               0.0  \n",
       "58      31.0          465.0              0.0               0.0  \n",
       "60      21.0          240.0            200.0               0.0  \n",
       "82      13.0            6.0            800.0               0.0  \n",
       "83      15.0           45.0           1200.0               0.0  \n",
       "85      17.0          390.0            600.0               0.0  \n",
       "86      12.0            3.0           2000.0               0.0  \n",
       "111     90.0          168.0           1000.0             120.0  \n",
       "114     68.0          231.0            400.0              54.0  \n",
       "143     24.0          522.0            600.0               0.0  "
      ]
     },
     "execution_count": 26,
     "metadata": {},
     "output_type": "execute_result"
    }
   ],
   "source": [
    "user_revenue.loc[user_revenue.revenue_calls>0].head(20)"
   ]
  },
  {
   "cell_type": "code",
   "execution_count": 27,
   "id": "af428191",
   "metadata": {},
   "outputs": [],
   "source": [
    "user_revenue['total_revenue']=user_revenue['tariff_fee']+user_revenue['revenue_calls']+user_revenue['revenue_traffic']+user_revenue['revenue_messages']"
   ]
  },
  {
   "cell_type": "code",
   "execution_count": 29,
   "id": "57620991",
   "metadata": {
    "scrolled": false
   },
   "outputs": [
    {
     "data": {
      "text/html": [
       "<div>\n",
       "<style scoped>\n",
       "    .dataframe tbody tr th:only-of-type {\n",
       "        vertical-align: middle;\n",
       "    }\n",
       "\n",
       "    .dataframe tbody tr th {\n",
       "        vertical-align: top;\n",
       "    }\n",
       "\n",
       "    .dataframe thead th {\n",
       "        text-align: right;\n",
       "    }\n",
       "</style>\n",
       "<table border=\"1\" class=\"dataframe\">\n",
       "  <thead>\n",
       "    <tr style=\"text-align: right;\">\n",
       "      <th></th>\n",
       "      <th>index</th>\n",
       "      <th>user_id</th>\n",
       "      <th>month</th>\n",
       "      <th>tariff</th>\n",
       "      <th>tariff_fee</th>\n",
       "      <th>calls_sum</th>\n",
       "      <th>calls_qty</th>\n",
       "      <th>gb_round</th>\n",
       "      <th>msg_qty</th>\n",
       "      <th>revenue_calls</th>\n",
       "      <th>revenue_traffic</th>\n",
       "      <th>revenue_messages</th>\n",
       "      <th>total_revenue</th>\n",
       "    </tr>\n",
       "  </thead>\n",
       "  <tbody>\n",
       "    <tr>\n",
       "      <th>0</th>\n",
       "      <td>0</td>\n",
       "      <td>1000</td>\n",
       "      <td>5</td>\n",
       "      <td>ultra</td>\n",
       "      <td>1950</td>\n",
       "      <td>159.0</td>\n",
       "      <td>22.0</td>\n",
       "      <td>3.0</td>\n",
       "      <td>22.0</td>\n",
       "      <td>0.0</td>\n",
       "      <td>0.0</td>\n",
       "      <td>0.0</td>\n",
       "      <td>1950.0</td>\n",
       "    </tr>\n",
       "    <tr>\n",
       "      <th>1</th>\n",
       "      <td>1</td>\n",
       "      <td>1000</td>\n",
       "      <td>6</td>\n",
       "      <td>ultra</td>\n",
       "      <td>1950</td>\n",
       "      <td>172.0</td>\n",
       "      <td>43.0</td>\n",
       "      <td>23.0</td>\n",
       "      <td>60.0</td>\n",
       "      <td>0.0</td>\n",
       "      <td>0.0</td>\n",
       "      <td>0.0</td>\n",
       "      <td>1950.0</td>\n",
       "    </tr>\n",
       "    <tr>\n",
       "      <th>2</th>\n",
       "      <td>2</td>\n",
       "      <td>1000</td>\n",
       "      <td>7</td>\n",
       "      <td>ultra</td>\n",
       "      <td>1950</td>\n",
       "      <td>340.0</td>\n",
       "      <td>47.0</td>\n",
       "      <td>14.0</td>\n",
       "      <td>75.0</td>\n",
       "      <td>0.0</td>\n",
       "      <td>0.0</td>\n",
       "      <td>0.0</td>\n",
       "      <td>1950.0</td>\n",
       "    </tr>\n",
       "    <tr>\n",
       "      <th>3</th>\n",
       "      <td>3</td>\n",
       "      <td>1000</td>\n",
       "      <td>8</td>\n",
       "      <td>ultra</td>\n",
       "      <td>1950</td>\n",
       "      <td>408.0</td>\n",
       "      <td>52.0</td>\n",
       "      <td>14.0</td>\n",
       "      <td>81.0</td>\n",
       "      <td>0.0</td>\n",
       "      <td>0.0</td>\n",
       "      <td>0.0</td>\n",
       "      <td>1950.0</td>\n",
       "    </tr>\n",
       "    <tr>\n",
       "      <th>4</th>\n",
       "      <td>4</td>\n",
       "      <td>1000</td>\n",
       "      <td>9</td>\n",
       "      <td>ultra</td>\n",
       "      <td>1950</td>\n",
       "      <td>466.0</td>\n",
       "      <td>58.0</td>\n",
       "      <td>15.0</td>\n",
       "      <td>57.0</td>\n",
       "      <td>0.0</td>\n",
       "      <td>0.0</td>\n",
       "      <td>0.0</td>\n",
       "      <td>1950.0</td>\n",
       "    </tr>\n",
       "    <tr>\n",
       "      <th>5</th>\n",
       "      <td>5</td>\n",
       "      <td>1000</td>\n",
       "      <td>10</td>\n",
       "      <td>ultra</td>\n",
       "      <td>1950</td>\n",
       "      <td>350.0</td>\n",
       "      <td>57.0</td>\n",
       "      <td>15.0</td>\n",
       "      <td>73.0</td>\n",
       "      <td>0.0</td>\n",
       "      <td>0.0</td>\n",
       "      <td>0.0</td>\n",
       "      <td>1950.0</td>\n",
       "    </tr>\n",
       "    <tr>\n",
       "      <th>6</th>\n",
       "      <td>6</td>\n",
       "      <td>1000</td>\n",
       "      <td>11</td>\n",
       "      <td>ultra</td>\n",
       "      <td>1950</td>\n",
       "      <td>338.0</td>\n",
       "      <td>43.0</td>\n",
       "      <td>15.0</td>\n",
       "      <td>58.0</td>\n",
       "      <td>0.0</td>\n",
       "      <td>0.0</td>\n",
       "      <td>0.0</td>\n",
       "      <td>1950.0</td>\n",
       "    </tr>\n",
       "    <tr>\n",
       "      <th>7</th>\n",
       "      <td>7</td>\n",
       "      <td>1000</td>\n",
       "      <td>12</td>\n",
       "      <td>ultra</td>\n",
       "      <td>1950</td>\n",
       "      <td>333.0</td>\n",
       "      <td>46.0</td>\n",
       "      <td>10.0</td>\n",
       "      <td>70.0</td>\n",
       "      <td>0.0</td>\n",
       "      <td>0.0</td>\n",
       "      <td>0.0</td>\n",
       "      <td>1950.0</td>\n",
       "    </tr>\n",
       "    <tr>\n",
       "      <th>8</th>\n",
       "      <td>8</td>\n",
       "      <td>1001</td>\n",
       "      <td>11</td>\n",
       "      <td>smart</td>\n",
       "      <td>550</td>\n",
       "      <td>430.0</td>\n",
       "      <td>59.0</td>\n",
       "      <td>18.0</td>\n",
       "      <td>0.0</td>\n",
       "      <td>0.0</td>\n",
       "      <td>600.0</td>\n",
       "      <td>0.0</td>\n",
       "      <td>1150.0</td>\n",
       "    </tr>\n",
       "    <tr>\n",
       "      <th>9</th>\n",
       "      <td>9</td>\n",
       "      <td>1001</td>\n",
       "      <td>12</td>\n",
       "      <td>smart</td>\n",
       "      <td>550</td>\n",
       "      <td>414.0</td>\n",
       "      <td>63.0</td>\n",
       "      <td>14.0</td>\n",
       "      <td>0.0</td>\n",
       "      <td>0.0</td>\n",
       "      <td>0.0</td>\n",
       "      <td>0.0</td>\n",
       "      <td>550.0</td>\n",
       "    </tr>\n",
       "    <tr>\n",
       "      <th>10</th>\n",
       "      <td>10</td>\n",
       "      <td>1002</td>\n",
       "      <td>6</td>\n",
       "      <td>smart</td>\n",
       "      <td>550</td>\n",
       "      <td>117.0</td>\n",
       "      <td>15.0</td>\n",
       "      <td>11.0</td>\n",
       "      <td>4.0</td>\n",
       "      <td>0.0</td>\n",
       "      <td>0.0</td>\n",
       "      <td>0.0</td>\n",
       "      <td>550.0</td>\n",
       "    </tr>\n",
       "    <tr>\n",
       "      <th>11</th>\n",
       "      <td>11</td>\n",
       "      <td>1002</td>\n",
       "      <td>7</td>\n",
       "      <td>smart</td>\n",
       "      <td>550</td>\n",
       "      <td>214.0</td>\n",
       "      <td>26.0</td>\n",
       "      <td>18.0</td>\n",
       "      <td>11.0</td>\n",
       "      <td>0.0</td>\n",
       "      <td>600.0</td>\n",
       "      <td>0.0</td>\n",
       "      <td>1150.0</td>\n",
       "    </tr>\n",
       "    <tr>\n",
       "      <th>12</th>\n",
       "      <td>12</td>\n",
       "      <td>1002</td>\n",
       "      <td>8</td>\n",
       "      <td>smart</td>\n",
       "      <td>550</td>\n",
       "      <td>289.0</td>\n",
       "      <td>42.0</td>\n",
       "      <td>20.0</td>\n",
       "      <td>13.0</td>\n",
       "      <td>0.0</td>\n",
       "      <td>1000.0</td>\n",
       "      <td>0.0</td>\n",
       "      <td>1550.0</td>\n",
       "    </tr>\n",
       "    <tr>\n",
       "      <th>13</th>\n",
       "      <td>13</td>\n",
       "      <td>1002</td>\n",
       "      <td>9</td>\n",
       "      <td>smart</td>\n",
       "      <td>550</td>\n",
       "      <td>206.0</td>\n",
       "      <td>36.0</td>\n",
       "      <td>17.0</td>\n",
       "      <td>4.0</td>\n",
       "      <td>0.0</td>\n",
       "      <td>400.0</td>\n",
       "      <td>0.0</td>\n",
       "      <td>950.0</td>\n",
       "    </tr>\n",
       "    <tr>\n",
       "      <th>14</th>\n",
       "      <td>14</td>\n",
       "      <td>1002</td>\n",
       "      <td>10</td>\n",
       "      <td>smart</td>\n",
       "      <td>550</td>\n",
       "      <td>212.0</td>\n",
       "      <td>33.0</td>\n",
       "      <td>14.0</td>\n",
       "      <td>10.0</td>\n",
       "      <td>0.0</td>\n",
       "      <td>0.0</td>\n",
       "      <td>0.0</td>\n",
       "      <td>550.0</td>\n",
       "    </tr>\n",
       "    <tr>\n",
       "      <th>15</th>\n",
       "      <td>15</td>\n",
       "      <td>1002</td>\n",
       "      <td>11</td>\n",
       "      <td>smart</td>\n",
       "      <td>550</td>\n",
       "      <td>243.0</td>\n",
       "      <td>32.0</td>\n",
       "      <td>19.0</td>\n",
       "      <td>16.0</td>\n",
       "      <td>0.0</td>\n",
       "      <td>800.0</td>\n",
       "      <td>0.0</td>\n",
       "      <td>1350.0</td>\n",
       "    </tr>\n",
       "    <tr>\n",
       "      <th>16</th>\n",
       "      <td>16</td>\n",
       "      <td>1002</td>\n",
       "      <td>12</td>\n",
       "      <td>smart</td>\n",
       "      <td>550</td>\n",
       "      <td>236.0</td>\n",
       "      <td>33.0</td>\n",
       "      <td>18.0</td>\n",
       "      <td>12.0</td>\n",
       "      <td>0.0</td>\n",
       "      <td>600.0</td>\n",
       "      <td>0.0</td>\n",
       "      <td>1150.0</td>\n",
       "    </tr>\n",
       "    <tr>\n",
       "      <th>17</th>\n",
       "      <td>17</td>\n",
       "      <td>1003</td>\n",
       "      <td>8</td>\n",
       "      <td>ultra</td>\n",
       "      <td>1950</td>\n",
       "      <td>380.0</td>\n",
       "      <td>55.0</td>\n",
       "      <td>9.0</td>\n",
       "      <td>37.0</td>\n",
       "      <td>0.0</td>\n",
       "      <td>0.0</td>\n",
       "      <td>0.0</td>\n",
       "      <td>1950.0</td>\n",
       "    </tr>\n",
       "    <tr>\n",
       "      <th>18</th>\n",
       "      <td>18</td>\n",
       "      <td>1003</td>\n",
       "      <td>9</td>\n",
       "      <td>ultra</td>\n",
       "      <td>1950</td>\n",
       "      <td>961.0</td>\n",
       "      <td>134.0</td>\n",
       "      <td>13.0</td>\n",
       "      <td>91.0</td>\n",
       "      <td>0.0</td>\n",
       "      <td>0.0</td>\n",
       "      <td>0.0</td>\n",
       "      <td>1950.0</td>\n",
       "    </tr>\n",
       "    <tr>\n",
       "      <th>19</th>\n",
       "      <td>19</td>\n",
       "      <td>1003</td>\n",
       "      <td>10</td>\n",
       "      <td>ultra</td>\n",
       "      <td>1950</td>\n",
       "      <td>855.0</td>\n",
       "      <td>108.0</td>\n",
       "      <td>15.0</td>\n",
       "      <td>83.0</td>\n",
       "      <td>0.0</td>\n",
       "      <td>0.0</td>\n",
       "      <td>0.0</td>\n",
       "      <td>1950.0</td>\n",
       "    </tr>\n",
       "  </tbody>\n",
       "</table>\n",
       "</div>"
      ],
      "text/plain": [
       "    index  user_id  month tariff  tariff_fee  calls_sum  calls_qty  gb_round  \\\n",
       "0       0     1000      5  ultra        1950      159.0       22.0       3.0   \n",
       "1       1     1000      6  ultra        1950      172.0       43.0      23.0   \n",
       "2       2     1000      7  ultra        1950      340.0       47.0      14.0   \n",
       "3       3     1000      8  ultra        1950      408.0       52.0      14.0   \n",
       "4       4     1000      9  ultra        1950      466.0       58.0      15.0   \n",
       "5       5     1000     10  ultra        1950      350.0       57.0      15.0   \n",
       "6       6     1000     11  ultra        1950      338.0       43.0      15.0   \n",
       "7       7     1000     12  ultra        1950      333.0       46.0      10.0   \n",
       "8       8     1001     11  smart         550      430.0       59.0      18.0   \n",
       "9       9     1001     12  smart         550      414.0       63.0      14.0   \n",
       "10     10     1002      6  smart         550      117.0       15.0      11.0   \n",
       "11     11     1002      7  smart         550      214.0       26.0      18.0   \n",
       "12     12     1002      8  smart         550      289.0       42.0      20.0   \n",
       "13     13     1002      9  smart         550      206.0       36.0      17.0   \n",
       "14     14     1002     10  smart         550      212.0       33.0      14.0   \n",
       "15     15     1002     11  smart         550      243.0       32.0      19.0   \n",
       "16     16     1002     12  smart         550      236.0       33.0      18.0   \n",
       "17     17     1003      8  ultra        1950      380.0       55.0       9.0   \n",
       "18     18     1003      9  ultra        1950      961.0      134.0      13.0   \n",
       "19     19     1003     10  ultra        1950      855.0      108.0      15.0   \n",
       "\n",
       "    msg_qty  revenue_calls  revenue_traffic  revenue_messages  total_revenue  \n",
       "0      22.0            0.0              0.0               0.0         1950.0  \n",
       "1      60.0            0.0              0.0               0.0         1950.0  \n",
       "2      75.0            0.0              0.0               0.0         1950.0  \n",
       "3      81.0            0.0              0.0               0.0         1950.0  \n",
       "4      57.0            0.0              0.0               0.0         1950.0  \n",
       "5      73.0            0.0              0.0               0.0         1950.0  \n",
       "6      58.0            0.0              0.0               0.0         1950.0  \n",
       "7      70.0            0.0              0.0               0.0         1950.0  \n",
       "8       0.0            0.0            600.0               0.0         1150.0  \n",
       "9       0.0            0.0              0.0               0.0          550.0  \n",
       "10      4.0            0.0              0.0               0.0          550.0  \n",
       "11     11.0            0.0            600.0               0.0         1150.0  \n",
       "12     13.0            0.0           1000.0               0.0         1550.0  \n",
       "13      4.0            0.0            400.0               0.0          950.0  \n",
       "14     10.0            0.0              0.0               0.0          550.0  \n",
       "15     16.0            0.0            800.0               0.0         1350.0  \n",
       "16     12.0            0.0            600.0               0.0         1150.0  \n",
       "17     37.0            0.0              0.0               0.0         1950.0  \n",
       "18     91.0            0.0              0.0               0.0         1950.0  \n",
       "19     83.0            0.0              0.0               0.0         1950.0  "
      ]
     },
     "execution_count": 29,
     "metadata": {},
     "output_type": "execute_result"
    }
   ],
   "source": [
    "user_revenue.head(20)"
   ]
  },
  {
   "cell_type": "code",
   "execution_count": 25,
   "id": "55781b3f",
   "metadata": {},
   "outputs": [
    {
     "data": {
      "text/html": [
       "<div>\n",
       "<style scoped>\n",
       "    .dataframe tbody tr th:only-of-type {\n",
       "        vertical-align: middle;\n",
       "    }\n",
       "\n",
       "    .dataframe tbody tr th {\n",
       "        vertical-align: top;\n",
       "    }\n",
       "\n",
       "    .dataframe thead th {\n",
       "        text-align: right;\n",
       "    }\n",
       "</style>\n",
       "<table border=\"1\" class=\"dataframe\">\n",
       "  <thead>\n",
       "    <tr style=\"text-align: right;\">\n",
       "      <th></th>\n",
       "      <th>index</th>\n",
       "      <th>user_id</th>\n",
       "      <th>month</th>\n",
       "      <th>tariff</th>\n",
       "      <th>tariff_fee</th>\n",
       "      <th>calls_sum</th>\n",
       "      <th>calls_qty</th>\n",
       "      <th>gb_round</th>\n",
       "      <th>msg_qty</th>\n",
       "      <th>revenue_calls</th>\n",
       "      <th>revenue_traffic</th>\n",
       "      <th>revenue_messages</th>\n",
       "      <th>total_revenue</th>\n",
       "    </tr>\n",
       "  </thead>\n",
       "  <tbody>\n",
       "    <tr>\n",
       "      <th>8</th>\n",
       "      <td>8</td>\n",
       "      <td>1001</td>\n",
       "      <td>11</td>\n",
       "      <td>smart</td>\n",
       "      <td>550</td>\n",
       "      <td>430.0</td>\n",
       "      <td>59.0</td>\n",
       "      <td>18.0</td>\n",
       "      <td>0.0</td>\n",
       "      <td>0.0</td>\n",
       "      <td>600.0</td>\n",
       "      <td>0.0</td>\n",
       "      <td>1150.0</td>\n",
       "    </tr>\n",
       "  </tbody>\n",
       "</table>\n",
       "</div>"
      ],
      "text/plain": [
       "   index  user_id  month tariff  tariff_fee  calls_sum  calls_qty  gb_round  \\\n",
       "8      8     1001     11  smart         550      430.0       59.0      18.0   \n",
       "\n",
       "   msg_qty  revenue_calls  revenue_traffic  revenue_messages  total_revenue  \n",
       "8      0.0            0.0            600.0               0.0         1150.0  "
      ]
     },
     "execution_count": 25,
     "metadata": {},
     "output_type": "execute_result"
    }
   ],
   "source": [
    "user_revenue.query('user_id == 1001 & month == 11')"
   ]
  },
  {
   "cell_type": "markdown",
   "id": "349e2902",
   "metadata": {},
   "source": [
    "### Вывод по результатам расчета и добавления данных\n",
    "Посчитано по каждому клиенту за каждый месяц нахождения на обслуживании: использование услуг и выручка формирующаяся как за счет абонентской платы так и за счет услуг, превышающих объем услуг, включенных в абонентскую плату.</p>\n",
    "Проблемы на данном этапе не установлены."
   ]
  },
  {
   "cell_type": "markdown",
   "id": "1a780491",
   "metadata": {},
   "source": [
    "## Исследовательский анализ данных"
   ]
  },
  {
   "cell_type": "markdown",
   "id": "88a6f8fc",
   "metadata": {},
   "source": [
    "Посчитаем среднемесячные значения пользования услугами и выручки по каждому клиенту и выведем гистограммы распределения клиентов по активности использования услуг/приносимой выручке в разрезе тарифов."
   ]
  },
  {
   "cell_type": "code",
   "execution_count": 26,
   "id": "b75614bc",
   "metadata": {
    "scrolled": false
   },
   "outputs": [
    {
     "data": {
      "image/png": "[encoded data removed]",
      "text/plain": [
       "<Figure size 1080x360 with 1 Axes>"
      ]
     },
     "metadata": {
      "needs_background": "light"
     },
     "output_type": "display_data"
    },
    {
     "data": {
      "image/png": "[encoded data removed]",
      "text/plain": [
       "<Figure size 1080x360 with 1 Axes>"
      ]
     },
     "metadata": {
      "needs_background": "light"
     },
     "output_type": "display_data"
    },
    {
     "data": {
      "image/png": "[encoded data removed]",
      "text/plain": [
       "<Figure size 1080x360 with 1 Axes>"
      ]
     },
     "metadata": {
      "needs_background": "light"
     },
     "output_type": "display_data"
    },
    {
     "data": {
      "image/png": "[encoded data removed]",
      "text/plain": [
       "<Figure size 1080x360 with 1 Axes>"
      ]
     },
     "metadata": {
      "needs_background": "light"
     },
     "output_type": "display_data"
    },
    {
     "data": {
      "image/png": "[encoded data removed]",
      "text/plain": [
       "<Figure size 1080x360 with 1 Axes>"
      ]
     },
     "metadata": {
      "needs_background": "light"
     },
     "output_type": "display_data"
    },
    {
     "data": {
      "image/png": "[encoded data removed]",
      "text/plain": [
       "<Figure size 1080x360 with 1 Axes>"
      ]
     },
     "metadata": {
      "needs_background": "light"
     },
     "output_type": "display_data"
    },
    {
     "data": {
      "image/png": "[encoded data removed]",
      "text/plain": [
       "<Figure size 1080x360 with 1 Axes>"
      ]
     },
     "metadata": {
      "needs_background": "light"
     },
     "output_type": "display_data"
    },
    {
     "data": {
      "image/png": "[encoded data removed]",
      "text/plain": [
       "<Figure size 1080x360 with 1 Axes>"
      ]
     },
     "metadata": {
      "needs_background": "light"
     },
     "output_type": "display_data"
    }
   ],
   "source": [
    "columns_print = ['calls_sum','calls_qty','gb_round','msg_qty','revenue_calls','revenue_traffic','revenue_messages','total_revenue']\n",
    "pokazately_table = pd.DataFrame(columns = columns_print)\n",
    "pokazately_table.insert(0,'tariff', ['ultra','smart','in general'])\n",
    "for i in columns_print:\n",
    "    user_revenue[user_revenue['tariff']=='ultra'][i].hist(figsize=(15,5),alpha=0.5,bins=20)\n",
    "    user_revenue[user_revenue['tariff']=='smart'][i].hist(figsize=(15,5),alpha=0.5,bins=20)\n",
    "    plt.title(i)\n",
    "    plt.legend(['ultra','smart'])\n",
    "    plt.show()\n",
    "    pokazately_table.loc[0,i]=user_revenue[user_revenue['tariff']=='ultra'][i].mean()\n",
    "    pokazately_table.loc[1,i]=user_revenue[user_revenue['tariff']=='smart'][i].mean()\n",
    "    pokazately_table.loc[2,i]=user_revenue[i].mean()"
   ]
  },
  {
   "cell_type": "code",
   "execution_count": 30,
   "id": "d35337e5",
   "metadata": {},
   "outputs": [],
   "source": [
    "#ревьюер_код_ит\n",
    "ultra = user_revenue.query('tariff == \"ultra\"')\n",
    "smart = user_revenue.query('tariff == \"smart\"')\n"
   ]
  },
  {
   "cell_type": "code",
   "execution_count": 31,
   "id": "1e94fc53",
   "metadata": {},
   "outputs": [
    {
     "data": {
      "image/png": "[encoded data removed]",
      "text/plain": [
       "<Figure size 864x576 with 1 Axes>"
      ]
     },
     "metadata": {
      "needs_background": "light"
     },
     "output_type": "display_data"
    }
   ],
   "source": [
    "#ревьюер_код_ит\n",
    "import matplotlib.pyplot as plt\n",
    "plt.figure(figsize=(12,8))\n",
    "plt.hist(ultra.total_revenue, bins=10, color='salmon', edgecolor='grey', alpha=0.6, label = 'ultra', density = False)\n",
    "plt.hist(smart.total_revenue, bins=30, color='dodgerblue', edgecolor='grey', alpha=0.5,label = 'smart', density = False)\n",
    "\n",
    "plt.axvline(smart.total_revenue.mean(), color='blue', linestyle='dashed', linewidth=3\n",
    "                , label='Mean smart: {:.0f}'.format(smart.total_revenue.mean()))\n",
    "plt.axvline(ultra.total_revenue.mean(), color='r', linestyle='dashed', linewidth=3\n",
    "            , label='Mean ultra: {:.0f}'.format(ultra.total_revenue.mean()))\n",
    "plt.axvline(np.quantile(ultra.total_revenue, 0.95), color='r', linestyle='solid', linewidth=2, \n",
    "            label='95 quantile Ultra : {:.0f}'.format(np.quantile(ultra.total_revenue, 0.95)))\n",
    "plt.axvline(np.quantile(smart.total_revenue, 0.95), color='blue', linestyle='solid', linewidth=2, \n",
    "            label='95 quantile Smart: {:.0f}'.format(np.quantile(smart.total_revenue, 0.95)))\n",
    "plt.legend()\n",
    "plt.title('Revenue histogram')\n",
    "plt.show()"
   ]
  },
  {
   "cell_type": "code",
   "execution_count": 29,
   "id": "bd37499b",
   "metadata": {},
   "outputs": [
    {
     "data": {
      "text/html": [
       "<div>\n",
       "<style scoped>\n",
       "    .dataframe tbody tr th:only-of-type {\n",
       "        vertical-align: middle;\n",
       "    }\n",
       "\n",
       "    .dataframe tbody tr th {\n",
       "        vertical-align: top;\n",
       "    }\n",
       "\n",
       "    .dataframe thead th {\n",
       "        text-align: right;\n",
       "    }\n",
       "</style>\n",
       "<table border=\"1\" class=\"dataframe\">\n",
       "  <thead>\n",
       "    <tr style=\"text-align: right;\">\n",
       "      <th></th>\n",
       "      <th>tariff</th>\n",
       "      <th>calls_sum</th>\n",
       "      <th>calls_qty</th>\n",
       "      <th>gb_round</th>\n",
       "      <th>msg_qty</th>\n",
       "      <th>revenue_calls</th>\n",
       "      <th>revenue_traffic</th>\n",
       "      <th>revenue_messages</th>\n",
       "      <th>total_revenue</th>\n",
       "    </tr>\n",
       "  </thead>\n",
       "  <tbody>\n",
       "    <tr>\n",
       "      <th>0</th>\n",
       "      <td>ultra</td>\n",
       "      <td>526.09</td>\n",
       "      <td>73.32</td>\n",
       "      <td>19.47</td>\n",
       "      <td>49.31</td>\n",
       "      <td>0.00</td>\n",
       "      <td>120.03</td>\n",
       "      <td>0.00</td>\n",
       "      <td>2070.03</td>\n",
       "    </tr>\n",
       "    <tr>\n",
       "      <th>1</th>\n",
       "      <td>smart</td>\n",
       "      <td>417.75</td>\n",
       "      <td>58.44</td>\n",
       "      <td>16.32</td>\n",
       "      <td>33.37</td>\n",
       "      <td>124.76</td>\n",
       "      <td>597.49</td>\n",
       "      <td>17.39</td>\n",
       "      <td>1289.64</td>\n",
       "    </tr>\n",
       "    <tr>\n",
       "      <th>2</th>\n",
       "      <td>in general</td>\n",
       "      <td>450.96</td>\n",
       "      <td>63.00</td>\n",
       "      <td>17.29</td>\n",
       "      <td>38.26</td>\n",
       "      <td>86.51</td>\n",
       "      <td>451.10</td>\n",
       "      <td>12.06</td>\n",
       "      <td>1528.90</td>\n",
       "    </tr>\n",
       "  </tbody>\n",
       "</table>\n",
       "</div>"
      ],
      "text/plain": [
       "       tariff  calls_sum  calls_qty  gb_round  msg_qty  revenue_calls  \\\n",
       "0       ultra     526.09      73.32     19.47    49.31           0.00   \n",
       "1       smart     417.75      58.44     16.32    33.37         124.76   \n",
       "2  in general     450.96      63.00     17.29    38.26          86.51   \n",
       "\n",
       "   revenue_traffic  revenue_messages  total_revenue  \n",
       "0           120.03              0.00        2070.03  \n",
       "1           597.49             17.39        1289.64  \n",
       "2           451.10             12.06        1528.90  "
      ]
     },
     "execution_count": 29,
     "metadata": {},
     "output_type": "execute_result"
    }
   ],
   "source": [
    "pokazately_table.loc[:,'calls_sum':'total_revenue'] = pokazately_table.loc[:,'calls_sum':'total_revenue'].astype(float)\n",
    "pokazately_table = pokazately_table.round(2)\n",
    "pokazately_table"
   ]
  },
  {
   "cell_type": "markdown",
   "id": "f295d06f",
   "metadata": {},
   "source": [
    "Посчитаем статистические метрики по каждому показателю:"
   ]
  },
  {
   "cell_type": "code",
   "execution_count": 30,
   "id": "9893d7b0",
   "metadata": {},
   "outputs": [],
   "source": [
    "columns_anlz = ['calls_sum','calls_qty','gb_round','msg_qty']\n",
    "anlz_table = pokazately_table.loc[:,'tariff':'msg_qty']\n",
    "for i in columns_anlz:\n",
    "    position = list(anlz_table.columns).index(i)\n",
    "    anlz_table.insert(position+1,(i+'_disp'),[np.var(user_revenue[user_revenue['tariff']=='ultra'][i]),np.var(user_revenue[user_revenue['tariff']=='smart'][i]),np.var(user_revenue[i])])\n",
    "    anlz_table.insert(position+1,(i+'_std'),np.nan)\n",
    "    anlz_table[i+'_std'] = np.sqrt(anlz_table[i+'_disp'])\n",
    "    "
   ]
  },
  {
   "cell_type": "code",
   "execution_count": 31,
   "id": "2dae646e",
   "metadata": {
    "scrolled": true
   },
   "outputs": [
    {
     "data": {
      "text/html": [
       "<div>\n",
       "<style scoped>\n",
       "    .dataframe tbody tr th:only-of-type {\n",
       "        vertical-align: middle;\n",
       "    }\n",
       "\n",
       "    .dataframe tbody tr th {\n",
       "        vertical-align: top;\n",
       "    }\n",
       "\n",
       "    .dataframe thead th {\n",
       "        text-align: right;\n",
       "    }\n",
       "</style>\n",
       "<table border=\"1\" class=\"dataframe\">\n",
       "  <thead>\n",
       "    <tr style=\"text-align: right;\">\n",
       "      <th></th>\n",
       "      <th>tariff</th>\n",
       "      <th>calls_sum</th>\n",
       "      <th>calls_sum_std</th>\n",
       "      <th>calls_sum_disp</th>\n",
       "      <th>calls_qty</th>\n",
       "      <th>calls_qty_std</th>\n",
       "      <th>calls_qty_disp</th>\n",
       "      <th>gb_round</th>\n",
       "      <th>gb_round_std</th>\n",
       "      <th>gb_round_disp</th>\n",
       "      <th>msg_qty</th>\n",
       "      <th>msg_qty_std</th>\n",
       "      <th>msg_qty_disp</th>\n",
       "    </tr>\n",
       "  </thead>\n",
       "  <tbody>\n",
       "    <tr>\n",
       "      <th>0</th>\n",
       "      <td>ultra</td>\n",
       "      <td>526.09</td>\n",
       "      <td>317.73</td>\n",
       "      <td>100950.01</td>\n",
       "      <td>73.32</td>\n",
       "      <td>43.93</td>\n",
       "      <td>1930.24</td>\n",
       "      <td>19.47</td>\n",
       "      <td>9.86</td>\n",
       "      <td>97.28</td>\n",
       "      <td>49.31</td>\n",
       "      <td>47.78</td>\n",
       "      <td>2283.10</td>\n",
       "    </tr>\n",
       "    <tr>\n",
       "      <th>1</th>\n",
       "      <td>smart</td>\n",
       "      <td>417.75</td>\n",
       "      <td>190.43</td>\n",
       "      <td>36265.12</td>\n",
       "      <td>58.44</td>\n",
       "      <td>25.96</td>\n",
       "      <td>673.80</td>\n",
       "      <td>16.32</td>\n",
       "      <td>5.75</td>\n",
       "      <td>33.12</td>\n",
       "      <td>33.37</td>\n",
       "      <td>28.22</td>\n",
       "      <td>796.60</td>\n",
       "    </tr>\n",
       "    <tr>\n",
       "      <th>2</th>\n",
       "      <td>in general</td>\n",
       "      <td>450.96</td>\n",
       "      <td>242.06</td>\n",
       "      <td>58592.40</td>\n",
       "      <td>63.00</td>\n",
       "      <td>33.26</td>\n",
       "      <td>1106.10</td>\n",
       "      <td>17.29</td>\n",
       "      <td>7.41</td>\n",
       "      <td>54.90</td>\n",
       "      <td>38.26</td>\n",
       "      <td>36.14</td>\n",
       "      <td>1306.39</td>\n",
       "    </tr>\n",
       "  </tbody>\n",
       "</table>\n",
       "</div>"
      ],
      "text/plain": [
       "       tariff  calls_sum  calls_sum_std  calls_sum_disp  calls_qty  \\\n",
       "0       ultra     526.09         317.73       100950.01      73.32   \n",
       "1       smart     417.75         190.43        36265.12      58.44   \n",
       "2  in general     450.96         242.06        58592.40      63.00   \n",
       "\n",
       "   calls_qty_std  calls_qty_disp  gb_round  gb_round_std  gb_round_disp  \\\n",
       "0          43.93         1930.24     19.47          9.86          97.28   \n",
       "1          25.96          673.80     16.32          5.75          33.12   \n",
       "2          33.26         1106.10     17.29          7.41          54.90   \n",
       "\n",
       "   msg_qty  msg_qty_std  msg_qty_disp  \n",
       "0    49.31        47.78       2283.10  \n",
       "1    33.37        28.22        796.60  \n",
       "2    38.26        36.14       1306.39  "
      ]
     },
     "execution_count": 31,
     "metadata": {},
     "output_type": "execute_result"
    }
   ],
   "source": [
    "anlz_table = anlz_table.round(2)\n",
    "anlz_table.head()"
   ]
  },
  {
   "cell_type": "markdown",
   "id": "409f21d3",
   "metadata": {},
   "source": [
    "### Вывод по исследовательскому анализу\n",
    "Анализ графиков и средних значений показывает:\n",
    "1. отсутствие очевидных выбросов;\n",
    "2. количество звонков осуществляемых на тарифе smart находится в пике на уровне предельного значения (400-500 минут в месяц), по тарифу ultra пиковое значение приходится на 400-800 минут в месяц.\n",
    "Это может свидетельствовать о том что 500 минут установленные на тарифе smart несколько меньше оптимального значения и таким образом заставляют клиентов поджиматься по достижению лимита по тарифу.\n",
    "При этом максимально доступный объем бесплатных звоноков на тарифе ultra остается невыбранным. При 3000 доступных минут, в редких случаях используется более 1000 минут.\n",
    "Клиенты у которых среднемсячное использование звонков превышет 1200 минут - отсутствуют.\n",
    "3. количество звонков на тарифе smart также нарастет до определенного предела (в 70 звонков) и резко снижается, что подтверждает \n",
    "что клиенты на данном тарифе поджимаются по использованию звонков при выходе за пределы включенного пакета услуг. \n",
    "Кроме того поминутная тарификация приводит к определенному ограничению на количество возможных звонков в течение месяца. Т.к. многие звонки превышают 1 минуту, \n",
    "при этом короткие звонки существенно меньше минуты (10-20 секунд) нецелесообразны, т.к. тарифицируются как 1 минута.\n",
    "Количество звонков на тарифе ultra также имеет пик, однако неявно выраженный, что вызвано  большим запасом по включенным в тариф минутам. Клиенты не ограничивают себя, как следствие распределение шире.\n",
    "5. Количество клиентов отправляющих много сообщений на тарифе смарт снижается c ростом количества сообщений и сводится к 0 на уровне в 100 сообщений в месяц. На тарифе ultra снижение количества клиентов отправляющих много сообщений не имеет такой резкой корелляции с ростом количества сообщений,\n",
    "при этом в среднем никто из клиентов тарифа Ultra не использует включенные в тариф 1000 сообщений (максимальное среднее не превышает 200 сообщений)\n",
    "Таким образом среднемесячное количество сообщений на тарифе Ultra ограничено отсутствием потребности в количестве сообщений свыше 200. На тарифе Smart, платность сообщении свыше 50-ти очевидно является причиной равномерного снижения использования сообщений уже до границы в 100 сообщений. Однако очевидно что стоимость сообщений не приводит к резкому отказу при превышении лимита бесплатных сообщений. Таким образом количество необходимых клиентам сообщений находится в пределах 100-200 сообщений в месяц.\n",
    "6. Клиенты превышают установленные ограничения траффика как на тарифе Smart таки и Ultra. \n",
    "При этом на тарифе Smart установленного лимита очевидно недостаточно, что приводит к концентрации потребления клиентами траффика в районе лимита бесплатного использования. На тарифе Ultra большая часть клиентов равномерно распределена по интенсивности использовани траффика в пределах от 5 до 30 gb. По превышению лимита в 30 гб количество клиентов сходит на нет.\n",
    "Таким образом лимит трафика в 30 гб  вполной мере удовлетворяет большую часть клиентов, при этом в целом не является избыточным.\n",
    "6. Данные о доходах также показывают что на тарифе ultra количество звонков и сообщений включенных в тариф превышает потребности клиентов\n",
    "доходы от звонков и сообщений сверх тарифа в анализируемом периоде отстутсвуют. \n",
    "Имеется незначительный доход от превышения ограничения по траффику передачи данных.\n",
    "На тарифе smart клиенты регулярно превышают как ограничения по звонкам, так и по траффику передачи данных, \n",
    "что сказывается на существенно больших сборах за услуги, превышающие обхем включенный в абонентскую плату.\n",
    "Значения дисперсии и стандартного отклонения по тарифам utra и smart подтверждают ранее сделанные выводы - разброс в объеме используемых услуг на тарифе ultra существенно больше, что вероятно связано с завышенными знаениями пакетов услуг, включенных в абонентску плату.\n",
    "При этом на тарифе smart объемы услуг, включенные в абонентскую плату находятся в пределах максимальной потребности, что существенно соrращает распределение значений т.к. ограничивает распределение сверх лимита."
   ]
  },
  {
   "cell_type": "markdown",
   "id": "2569d18d",
   "metadata": {},
   "source": [
    "## Проверка гипотез"
   ]
  },
  {
   "cell_type": "markdown",
   "id": "7c25da7d",
   "metadata": {},
   "source": [
    "<b>Гипотеза</b> \"средняя выручка пользователей тарифов «Ультра» и «Смарт» различаются\".\n",
    "Рассчитаем средние значения выручки для указанных тарифов:"
   ]
  },
  {
   "cell_type": "code",
   "execution_count": 32,
   "id": "c4af37ad",
   "metadata": {},
   "outputs": [
    {
     "name": "stdout",
     "output_type": "stream",
     "text": [
      "среднее знаение выручки для клиента на тарифе ultra 2070.03\n",
      "среднее знаение выручки для клиента на тарифе smart 1289.64\n"
     ]
    }
   ],
   "source": [
    "print('среднее знаение выручки для клиента на тарифе ultra', round(user_revenue[user_revenue['tariff']=='ultra']['total_revenue'].mean(),2))\n",
    "print('среднее знаение выручки для клиента на тарифе smart', round(user_revenue[user_revenue['tariff']=='smart']['total_revenue'].mean(),2))"
   ]
  },
  {
   "cell_type": "markdown",
   "id": "21509178",
   "metadata": {},
   "source": [
    "Посчитаем количество клиентов для каждого тарифа чтобы оценить споставимость данных для статистического анализа:"
   ]
  },
  {
   "cell_type": "code",
   "execution_count": 33,
   "id": "cd239aaa",
   "metadata": {},
   "outputs": [
    {
     "name": "stdout",
     "output_type": "stream",
     "text": [
      "количество клиентов с тарифом ultra = 149\n",
      "количество клиентов с тарифом smart = 351\n"
     ]
    }
   ],
   "source": [
    "print('количество клиентов с тарифом ultra =', len(usr_set[usr_set.tariff=='ultra']))\n",
    "print('количество клиентов с тарифом smart =', len(usr_set[usr_set.tariff=='smart']))"
   ]
  },
  {
   "cell_type": "code",
   "execution_count": 34,
   "id": "32e44736",
   "metadata": {},
   "outputs": [
    {
     "name": "stdout",
     "output_type": "stream",
     "text": [
      "Значение дисперсии для выборки по тарифам ultra и smart составило соответственно - 141244.32 669430.44\n"
     ]
    }
   ],
   "source": [
    "print('Значение дисперсии для выборки по тарифам ultra и smart составило соответственно -',round(np.var(user_revenue[user_revenue['tariff']=='ultra']['total_revenue']),2),round(np.var(user_revenue[user_revenue['tariff']=='smart']['total_revenue']),2))"
   ]
  },
  {
   "cell_type": "markdown",
   "id": "32706b4b",
   "metadata": {},
   "source": [
    "Необходимо проверить гипотезу о неравенстве выручки на тарифах:\n",
    "H0 - Средняя выручка от пользователей тарифов «Ультра» и «Смарт» равна. \n",
    "Н1 - Средняя выручка от пользователей тарифов «Ультра» и «Смарт» существенно отличается.\n",
    "Для проверки гипотезы возьмем среднее значение по выборке для тарифа smart и проведем ttest для этой величины по выборке для тарифа ultra.\n",
    "В случае вроятности получения средней выручки для тарифа ultra равной средней выручке для тарифа smart менее 5% (alpha = 0.05) Н0 отвергается, принимается гипотеза Н1 о неравенстве выручки."
   ]
  },
  {
   "cell_type": "code",
   "execution_count": 35,
   "id": "8d121bf5",
   "metadata": {},
   "outputs": [
    {
     "name": "stdout",
     "output_type": "stream",
     "text": [
      "Вероятность совпадения средних значений выручки составила  1.927011394420941e-250\n",
      "Отвергаем нулевую гипотезу о равентсве выручки, альтернативную не отвергаем\n",
      "Гипотеза о неравенстве выручки для клиентов на разных тарифах из задания на работу подтвердилась.\n",
      "\n"
     ]
    }
   ],
   "source": [
    "from scipy import stats as st\n",
    "alpha = 0.05\n",
    "results = st.ttest_ind(user_revenue[user_revenue['tariff']=='ultra']['total_revenue'],user_revenue[user_revenue['tariff']=='smart']['total_revenue'],equal_var=False).pvalue\n",
    "print('Вероятность совпадения средних значений выручки составила ', results)\n",
    "if results < alpha:\n",
    "    print('Отвергаем нулевую гипотезу о равентсве выручки, альтернативную не отвергаем')\n",
    "    print('Гипотеза о неравенстве выручки для клиентов на разных тарифах из задания на работу подтвердилась.')\n",
    "else:\n",
    "    print('Отвергаем альтернативную гипотезу о неравентсве выручки, нулевую не отвергаем')\n",
    "    print('Гипотеза о неравенстве выручки для клиентов на разных тарифах из задания на работу не подтвердилась.')\n",
    "print()"
   ]
  },
  {
   "cell_type": "markdown",
   "id": "8364a28c",
   "metadata": {},
   "source": [
    "<b>Гипотеза</b> средняя выручка пользователей из Москвы отличается от выручки пользователей из других регионов\n",
    "Посчитаем количество клиентов из Москвы и из других регионов:"
   ]
  },
  {
   "cell_type": "code",
   "execution_count": 36,
   "id": "fb3a3600",
   "metadata": {},
   "outputs": [
    {
     "name": "stdout",
     "output_type": "stream",
     "text": [
      "Количество клиентов из г. Москва = 99\n",
      "Количество клиентов из других городов = 401\n"
     ]
    }
   ],
   "source": [
    "print('Количество клиентов из г. Москва =',len(usr_set[usr_set['city']=='Москва']))\n",
    "print('Количество клиентов из других городов =',len(usr_set[usr_set['city']!='Москва']))"
   ]
  },
  {
   "cell_type": "markdown",
   "id": "56840240",
   "metadata": {},
   "source": [
    "Предлагается взять в выборку всех клиентов из г. Москва ввиду относительно небольшого их количества, а также всех клиентов из других городов, т.к. с учетом небольшого количества клиентов из каждого города формирование репрезентативной выборки может быть проблематично. </p> Сформулируем гипотезу:\n",
    "- 0 гипотеза - средние значения выручки от клиентов для города Москва и прочих городов равны;\n",
    "- 1 (альтернативная) гипотеза - средние значения выручки от клиентов для города Москва и прочих регионов равны.</p>\n",
    "\n",
    "Определим порог alpha в 5%, в этом случае Pvalue имеет значение 0,05.\n",
    "Для сравнения средних 2-х генеральных совокупностей воспользуемся методом scipy.stats.ttest_ind.\n",
    "Учитывая существенное различие дисперсии для выборок указываем соответствующий параметр equal_var = False"
   ]
  },
  {
   "cell_type": "code",
   "execution_count": 37,
   "id": "8e7f4d1b",
   "metadata": {},
   "outputs": [
    {
     "data": {
      "text/html": [
       "<div>\n",
       "<style scoped>\n",
       "    .dataframe tbody tr th:only-of-type {\n",
       "        vertical-align: middle;\n",
       "    }\n",
       "\n",
       "    .dataframe tbody tr th {\n",
       "        vertical-align: top;\n",
       "    }\n",
       "\n",
       "    .dataframe thead th {\n",
       "        text-align: right;\n",
       "    }\n",
       "</style>\n",
       "<table border=\"1\" class=\"dataframe\">\n",
       "  <thead>\n",
       "    <tr style=\"text-align: right;\">\n",
       "      <th></th>\n",
       "      <th>user_id</th>\n",
       "      <th>city</th>\n",
       "      <th>total_revenue</th>\n",
       "    </tr>\n",
       "  </thead>\n",
       "  <tbody>\n",
       "    <tr>\n",
       "      <th>0</th>\n",
       "      <td>1000</td>\n",
       "      <td>Краснодар</td>\n",
       "      <td>1950.0</td>\n",
       "    </tr>\n",
       "    <tr>\n",
       "      <th>1</th>\n",
       "      <td>1000</td>\n",
       "      <td>Краснодар</td>\n",
       "      <td>1950.0</td>\n",
       "    </tr>\n",
       "    <tr>\n",
       "      <th>2</th>\n",
       "      <td>1000</td>\n",
       "      <td>Краснодар</td>\n",
       "      <td>1950.0</td>\n",
       "    </tr>\n",
       "    <tr>\n",
       "      <th>3</th>\n",
       "      <td>1000</td>\n",
       "      <td>Краснодар</td>\n",
       "      <td>1950.0</td>\n",
       "    </tr>\n",
       "    <tr>\n",
       "      <th>4</th>\n",
       "      <td>1000</td>\n",
       "      <td>Краснодар</td>\n",
       "      <td>1950.0</td>\n",
       "    </tr>\n",
       "  </tbody>\n",
       "</table>\n",
       "</div>"
      ],
      "text/plain": [
       "   user_id       city  total_revenue\n",
       "0     1000  Краснодар         1950.0\n",
       "1     1000  Краснодар         1950.0\n",
       "2     1000  Краснодар         1950.0\n",
       "3     1000  Краснодар         1950.0\n",
       "4     1000  Краснодар         1950.0"
      ]
     },
     "execution_count": 37,
     "metadata": {},
     "output_type": "execute_result"
    }
   ],
   "source": [
    "city_user = user_revenue.loc[:,('user_id','total_revenue')]\n",
    "city_user = pd.merge(city_user,usr_set,on='user_id')[['user_id','city','total_revenue']]\n",
    "city_user.head()"
   ]
  },
  {
   "cell_type": "code",
   "execution_count": 38,
   "id": "5c38566c",
   "metadata": {},
   "outputs": [
    {
     "name": "stdout",
     "output_type": "stream",
     "text": [
      "Значение дисперсии для выборки по г. Москва и всем остальным составило соответственно - 564710.71 653818.49\n"
     ]
    }
   ],
   "source": [
    "print('Значение дисперсии для выборки по г. Москва и всем остальным составило соответственно -',round(np.var(city_user[city_user['city']=='Москва']['total_revenue']),2),round(np.var(city_user[city_user['city']!='Москва']['total_revenue']),2))"
   ]
  },
  {
   "cell_type": "markdown",
   "id": "d6d9be4e",
   "metadata": {},
   "source": [
    "Учитывая разность дисперсии и несоответствие объемов выборки указываем соовтетствующий параметр  equal_var = False."
   ]
  },
  {
   "cell_type": "code",
   "execution_count": 39,
   "id": "c938d698",
   "metadata": {},
   "outputs": [
    {
     "name": "stdout",
     "output_type": "stream",
     "text": [
      "Гипотеза о равенстве средней выручки для клиентов из г. Москва и других городов не отвергается:\n",
      "альтернативная гипотеза о неравенстве средней выручки отвергается:\n",
      "вероятность совпадения средних значений выручки составила  0.5216952110000278\n"
     ]
    }
   ],
   "source": [
    "alpha = 0.05\n",
    "results = st.ttest_ind(city_user[city_user['city']=='Москва']['total_revenue'],city_user[city_user['city']!='Москва']['total_revenue'],equal_var=False).pvalue\n",
    "if results < alpha:\n",
    "    print('Гипотеза о равенстве средней выручки для клиентов из г. Москва и других городов отвергается,')\n",
    "    print('альтернативная гипотеза о неравенстве средней выручки не отвергается:')\n",
    "    print('вероятность совпадения средних значений выручки составила ', results)\n",
    "else:\n",
    "    print('Гипотеза о равенстве средней выручки для клиентов из г. Москва и других городов не отвергается:')\n",
    "    print('альтернативная гипотеза о неравенстве средней выручки отвергается:')\n",
    "    print('вероятность совпадения средних значений выручки составила ', results)\n"
   ]
  },
  {
   "cell_type": "markdown",
   "id": "fe103fc3",
   "metadata": {},
   "source": [
    "### Вывод по проверке гипотез"
   ]
  },
  {
   "cell_type": "markdown",
   "id": "9e510aaf",
   "metadata": {},
   "source": [
    "Зависимость выручки от тарифа обслуживания клиентов подтвердилась. Для анализа представлена достаточно большая выборка, позволяющая сделать такой вывод.\n",
    "Зависимость выручки от города проживания клиента не подтвердилась, очевидно сумма расходов на связь не является достаточно критичной для жителей как г. Москва так и регионов и не оказывает принципиального влияния на долю пользователей активно пользующихся услугами свыше установленного лимита, либо приобретающими тариф Ultra."
   ]
  },
  {
   "cell_type": "markdown",
   "id": "35ad3cf1",
   "metadata": {},
   "source": [
    "### Общий вывод"
   ]
  },
  {
   "cell_type": "markdown",
   "id": "2e6e1ff3",
   "metadata": {},
   "source": [
    "1. В представленных для анализа данных не выявлены системные ошибки и/или очевидные выбросы.\n",
    "2. Установлены объемы необходимых клиентам услуг. Они в целом совпадают на разных тарифах:\n",
    "    звонки 400-800 минут\n",
    "    траффик до 30 гб\n",
    "    сообщения до 200.\n",
    "3. ввиду стоимостных ограничений клиенты более экономичного тарифа smart вынуждены ограничивать себя по достижению:\n",
    "    лимита звонков в 500 минут, лимита траффика в 15 гигабайт. \n",
    "    Наблюдаются пиковые значения использования услуг на границе этих лимитов\n",
    "4. Подтверждена зависимость выручки от тарифа обслуживания - выручка от клиентов на тарифе Ultra выше клиентов на тарифе Smart (2070 руб/мес против 1289 руб/мес).\n",
    "5. Не подтверждена зависимость выручки от города проживания клиента. \n",
    "Выручка по клиентам в г. Москва в целом соответствует выручке по клиентам в других регионах.</p>\n",
    "</p>С учетом установленных зависимостей можно сделать вывод о преимуществе для компании продвижения тарифа Ultra как более доходного (приносящего большую выручку), вне зависимости от региона обслуживания. При этом включенные в тариф Ultra предоплаченные пакеты услуг в полной мере обеспечивают потребности клиентов."
   ]
  }
 ],
 "metadata": {
  "ExecuteTimeLog": [
   {
    "duration": 694,
    "start_time": "2022-04-14T19:11:21.065Z"
   },
   {
    "duration": 226,
    "start_time": "2022-04-14T19:11:21.761Z"
   },
   {
    "duration": 135,
    "start_time": "2022-04-14T19:11:21.989Z"
   },
   {
    "duration": 102,
    "start_time": "2022-04-14T19:11:22.126Z"
   },
   {
    "duration": 25,
    "start_time": "2022-04-14T19:11:22.230Z"
   },
   {
    "duration": 27,
    "start_time": "2022-04-14T19:11:22.256Z"
   },
   {
    "duration": 88,
    "start_time": "2022-04-14T19:11:22.284Z"
   },
   {
    "duration": 509,
    "start_time": "2022-04-14T19:11:22.374Z"
   },
   {
    "duration": 427,
    "start_time": "2022-04-14T19:11:22.886Z"
   },
   {
    "duration": 16,
    "start_time": "2022-04-14T19:11:23.316Z"
   },
   {
    "duration": 77,
    "start_time": "2022-04-14T19:11:23.333Z"
   },
   {
    "duration": 36,
    "start_time": "2022-04-14T19:11:23.412Z"
   },
   {
    "duration": 8948,
    "start_time": "2022-04-14T19:11:23.450Z"
   },
   {
    "duration": 9,
    "start_time": "2022-04-14T19:11:32.400Z"
   },
   {
    "duration": 30,
    "start_time": "2022-04-14T19:11:32.411Z"
   },
   {
    "duration": 14,
    "start_time": "2022-04-14T19:11:32.443Z"
   },
   {
    "duration": 14,
    "start_time": "2022-04-14T19:11:32.459Z"
   },
   {
    "duration": 7,
    "start_time": "2022-04-14T19:11:32.475Z"
   },
   {
    "duration": 62,
    "start_time": "2022-04-14T19:11:32.483Z"
   },
   {
    "duration": 16,
    "start_time": "2022-04-14T19:11:32.547Z"
   },
   {
    "duration": 7,
    "start_time": "2022-04-14T19:11:32.565Z"
   },
   {
    "duration": 17,
    "start_time": "2022-04-14T19:11:32.574Z"
   },
   {
    "duration": 2224,
    "start_time": "2022-04-14T19:11:32.593Z"
   },
   {
    "duration": 31,
    "start_time": "2022-04-14T19:11:34.818Z"
   },
   {
    "duration": 20,
    "start_time": "2022-04-14T19:11:34.850Z"
   },
   {
    "duration": 16,
    "start_time": "2022-04-14T19:11:34.872Z"
   },
   {
    "duration": 8,
    "start_time": "2022-04-14T19:11:34.890Z"
   },
   {
    "duration": 11,
    "start_time": "2022-04-14T19:11:34.931Z"
   },
   {
    "duration": 18,
    "start_time": "2022-04-14T19:11:34.945Z"
   },
   {
    "duration": 6,
    "start_time": "2022-04-14T19:11:34.965Z"
   },
   {
    "duration": 437,
    "start_time": "2022-04-14T19:11:34.972Z"
   },
   {
    "duration": 19,
    "start_time": "2022-04-14T19:11:35.411Z"
   },
   {
    "duration": 25,
    "start_time": "2022-04-14T19:11:35.432Z"
   },
   {
    "duration": 6,
    "start_time": "2022-04-14T19:11:35.459Z"
   },
   {
    "duration": 8,
    "start_time": "2022-04-14T19:11:35.466Z"
   },
   {
    "duration": 132,
    "start_time": "2022-04-14T19:11:35.476Z"
   },
   {
    "duration": 15,
    "start_time": "2022-04-14T19:23:38.461Z"
   },
   {
    "duration": 10,
    "start_time": "2022-04-14T19:40:44.499Z"
   },
   {
    "duration": 9,
    "start_time": "2022-04-14T19:41:35.483Z"
   },
   {
    "duration": 618,
    "start_time": "2022-04-14T19:54:37.438Z"
   },
   {
    "duration": 158,
    "start_time": "2022-04-14T19:54:38.057Z"
   },
   {
    "duration": 130,
    "start_time": "2022-04-14T19:54:38.217Z"
   },
   {
    "duration": 92,
    "start_time": "2022-04-14T19:54:38.348Z"
   },
   {
    "duration": 20,
    "start_time": "2022-04-14T19:54:38.442Z"
   },
   {
    "duration": 26,
    "start_time": "2022-04-14T19:54:38.464Z"
   },
   {
    "duration": 79,
    "start_time": "2022-04-14T19:54:38.491Z"
   },
   {
    "duration": 439,
    "start_time": "2022-04-14T19:54:38.571Z"
   },
   {
    "duration": 410,
    "start_time": "2022-04-14T19:54:39.011Z"
   },
   {
    "duration": 13,
    "start_time": "2022-04-14T19:54:39.423Z"
   },
   {
    "duration": 72,
    "start_time": "2022-04-14T19:54:39.437Z"
   },
   {
    "duration": 23,
    "start_time": "2022-04-14T19:54:39.511Z"
   },
   {
    "duration": 7748,
    "start_time": "2022-04-14T19:54:39.535Z"
   },
   {
    "duration": 8,
    "start_time": "2022-04-14T19:54:47.286Z"
   },
   {
    "duration": 28,
    "start_time": "2022-04-14T19:54:47.296Z"
   },
   {
    "duration": 15,
    "start_time": "2022-04-14T19:54:47.325Z"
   },
   {
    "duration": 11,
    "start_time": "2022-04-14T19:54:47.342Z"
   },
   {
    "duration": 6,
    "start_time": "2022-04-14T19:54:47.355Z"
   },
   {
    "duration": 30,
    "start_time": "2022-04-14T19:54:47.363Z"
   },
   {
    "duration": 31,
    "start_time": "2022-04-14T19:54:47.395Z"
   },
   {
    "duration": 5,
    "start_time": "2022-04-14T19:54:47.428Z"
   },
   {
    "duration": 15,
    "start_time": "2022-04-14T19:54:47.435Z"
   },
   {
    "duration": 1586,
    "start_time": "2022-04-14T19:54:47.452Z"
   },
   {
    "duration": 17,
    "start_time": "2022-04-14T19:54:49.039Z"
   },
   {
    "duration": 19,
    "start_time": "2022-04-14T19:54:49.057Z"
   },
   {
    "duration": 14,
    "start_time": "2022-04-14T19:54:49.077Z"
   },
   {
    "duration": 32,
    "start_time": "2022-04-14T19:54:49.093Z"
   },
   {
    "duration": 4,
    "start_time": "2022-04-14T19:54:49.127Z"
   },
   {
    "duration": 16,
    "start_time": "2022-04-14T19:54:49.133Z"
   },
   {
    "duration": 5,
    "start_time": "2022-04-14T19:54:49.150Z"
   },
   {
    "duration": 353,
    "start_time": "2022-04-14T19:54:49.156Z"
   },
   {
    "duration": 5,
    "start_time": "2022-04-14T19:54:49.510Z"
   },
   {
    "duration": 21,
    "start_time": "2022-04-14T19:54:49.517Z"
   },
   {
    "duration": 5,
    "start_time": "2022-04-14T19:54:49.540Z"
   },
   {
    "duration": 7,
    "start_time": "2022-04-14T19:54:49.547Z"
   },
   {
    "duration": 140,
    "start_time": "2022-04-14T19:54:49.555Z"
   },
   {
    "duration": 687,
    "start_time": "2022-04-15T17:18:51.069Z"
   },
   {
    "duration": 182,
    "start_time": "2022-04-15T17:18:51.758Z"
   },
   {
    "duration": 142,
    "start_time": "2022-04-15T17:18:51.941Z"
   },
   {
    "duration": 96,
    "start_time": "2022-04-15T17:18:52.085Z"
   },
   {
    "duration": 25,
    "start_time": "2022-04-15T17:18:52.182Z"
   },
   {
    "duration": 37,
    "start_time": "2022-04-15T17:18:52.208Z"
   },
   {
    "duration": 73,
    "start_time": "2022-04-15T17:18:52.246Z"
   },
   {
    "duration": 421,
    "start_time": "2022-04-15T17:18:52.320Z"
   },
   {
    "duration": 375,
    "start_time": "2022-04-15T17:18:52.742Z"
   },
   {
    "duration": 13,
    "start_time": "2022-04-15T17:18:53.120Z"
   },
   {
    "duration": 89,
    "start_time": "2022-04-15T17:18:53.134Z"
   },
   {
    "duration": 13,
    "start_time": "2022-04-15T17:18:53.225Z"
   },
   {
    "duration": 7863,
    "start_time": "2022-04-15T17:18:53.240Z"
   },
   {
    "duration": 9,
    "start_time": "2022-04-15T17:19:01.105Z"
   },
   {
    "duration": 20,
    "start_time": "2022-04-15T17:19:01.115Z"
   },
   {
    "duration": 15,
    "start_time": "2022-04-15T17:19:01.137Z"
   },
   {
    "duration": 16,
    "start_time": "2022-04-15T17:19:01.154Z"
   },
   {
    "duration": 30,
    "start_time": "2022-04-15T17:19:01.171Z"
   },
   {
    "duration": 32,
    "start_time": "2022-04-15T17:19:01.203Z"
   },
   {
    "duration": 12,
    "start_time": "2022-04-15T17:19:01.237Z"
   },
   {
    "duration": 24,
    "start_time": "2022-04-15T17:19:01.251Z"
   },
   {
    "duration": 35,
    "start_time": "2022-04-15T17:19:01.277Z"
   },
   {
    "duration": 1505,
    "start_time": "2022-04-15T17:19:01.314Z"
   },
   {
    "duration": 15,
    "start_time": "2022-04-15T17:19:02.821Z"
   },
   {
    "duration": 20,
    "start_time": "2022-04-15T17:19:02.837Z"
   },
   {
    "duration": 15,
    "start_time": "2022-04-15T17:19:02.859Z"
   },
   {
    "duration": 7,
    "start_time": "2022-04-15T17:19:02.899Z"
   },
   {
    "duration": 8,
    "start_time": "2022-04-15T17:19:02.909Z"
   },
   {
    "duration": 11,
    "start_time": "2022-04-15T17:19:02.918Z"
   },
   {
    "duration": 362,
    "start_time": "2022-04-15T17:19:02.930Z"
   },
   {
    "duration": 8,
    "start_time": "2022-04-15T17:19:03.294Z"
   },
   {
    "duration": 44,
    "start_time": "2022-04-15T17:19:03.304Z"
   },
   {
    "duration": 6,
    "start_time": "2022-04-15T17:19:03.349Z"
   },
   {
    "duration": 6,
    "start_time": "2022-04-15T17:19:03.357Z"
   },
   {
    "duration": 1563,
    "start_time": "2022-04-16T15:12:16.416Z"
   },
   {
    "duration": 305,
    "start_time": "2022-04-16T15:12:17.983Z"
   },
   {
    "duration": 248,
    "start_time": "2022-04-16T15:12:18.290Z"
   },
   {
    "duration": 152,
    "start_time": "2022-04-16T15:12:18.541Z"
   },
   {
    "duration": 43,
    "start_time": "2022-04-16T15:12:18.698Z"
   },
   {
    "duration": 40,
    "start_time": "2022-04-16T15:12:18.743Z"
   },
   {
    "duration": 141,
    "start_time": "2022-04-16T15:12:18.786Z"
   },
   {
    "duration": 885,
    "start_time": "2022-04-16T15:12:18.930Z"
   },
   {
    "duration": 781,
    "start_time": "2022-04-16T15:12:19.825Z"
   },
   {
    "duration": 31,
    "start_time": "2022-04-16T15:12:20.608Z"
   },
   {
    "duration": 109,
    "start_time": "2022-04-16T15:12:20.641Z"
   },
   {
    "duration": 22,
    "start_time": "2022-04-16T15:12:20.752Z"
   },
   {
    "duration": 14659,
    "start_time": "2022-04-16T15:12:20.777Z"
   },
   {
    "duration": 15,
    "start_time": "2022-04-16T15:12:35.440Z"
   },
   {
    "duration": 41,
    "start_time": "2022-04-16T15:12:35.456Z"
   },
   {
    "duration": 40,
    "start_time": "2022-04-16T15:12:35.499Z"
   },
   {
    "duration": 19,
    "start_time": "2022-04-16T15:12:35.541Z"
   },
   {
    "duration": 10,
    "start_time": "2022-04-16T15:12:35.562Z"
   },
   {
    "duration": 84,
    "start_time": "2022-04-16T15:12:35.574Z"
   },
   {
    "duration": 19,
    "start_time": "2022-04-16T15:12:35.661Z"
   },
   {
    "duration": 14,
    "start_time": "2022-04-16T15:12:35.682Z"
   },
   {
    "duration": 37,
    "start_time": "2022-04-16T15:12:35.698Z"
   },
   {
    "duration": 3188,
    "start_time": "2022-04-16T15:12:35.737Z"
   },
   {
    "duration": 28,
    "start_time": "2022-04-16T15:12:38.928Z"
   },
   {
    "duration": 48,
    "start_time": "2022-04-16T15:12:38.958Z"
   },
   {
    "duration": 43,
    "start_time": "2022-04-16T15:12:39.008Z"
   },
   {
    "duration": 14,
    "start_time": "2022-04-16T15:12:39.054Z"
   },
   {
    "duration": 10,
    "start_time": "2022-04-16T15:12:39.071Z"
   },
   {
    "duration": 44,
    "start_time": "2022-04-16T15:12:39.084Z"
   },
   {
    "duration": 583,
    "start_time": "2022-04-16T15:12:39.130Z"
   },
   {
    "duration": 14,
    "start_time": "2022-04-16T15:12:39.715Z"
   },
   {
    "duration": 50,
    "start_time": "2022-04-16T15:12:39.731Z"
   },
   {
    "duration": 12,
    "start_time": "2022-04-16T15:12:39.783Z"
   },
   {
    "duration": 43,
    "start_time": "2022-04-16T15:12:39.797Z"
   },
   {
    "duration": 811,
    "start_time": "2022-04-16T15:26:09.348Z"
   },
   {
    "duration": 244,
    "start_time": "2022-04-16T15:26:10.161Z"
   },
   {
    "duration": 204,
    "start_time": "2022-04-16T15:26:10.407Z"
   },
   {
    "duration": 145,
    "start_time": "2022-04-16T15:26:10.613Z"
   },
   {
    "duration": 30,
    "start_time": "2022-04-16T15:26:10.760Z"
   },
   {
    "duration": 51,
    "start_time": "2022-04-16T15:26:10.792Z"
   },
   {
    "duration": 127,
    "start_time": "2022-04-16T15:26:10.845Z"
   },
   {
    "duration": 994,
    "start_time": "2022-04-16T15:26:10.974Z"
   },
   {
    "duration": 890,
    "start_time": "2022-04-16T15:26:11.970Z"
   },
   {
    "duration": 22,
    "start_time": "2022-04-16T15:26:12.864Z"
   },
   {
    "duration": 119,
    "start_time": "2022-04-16T15:26:12.889Z"
   },
   {
    "duration": 29,
    "start_time": "2022-04-16T15:26:13.010Z"
   },
   {
    "duration": 15041,
    "start_time": "2022-04-16T15:26:13.041Z"
   },
   {
    "duration": 14,
    "start_time": "2022-04-16T15:26:28.084Z"
   },
   {
    "duration": 47,
    "start_time": "2022-04-16T15:26:28.100Z"
   },
   {
    "duration": 25,
    "start_time": "2022-04-16T15:26:28.149Z"
   },
   {
    "duration": 21,
    "start_time": "2022-04-16T15:26:28.176Z"
   },
   {
    "duration": 34,
    "start_time": "2022-04-16T15:26:28.199Z"
   },
   {
    "duration": 53,
    "start_time": "2022-04-16T15:26:28.235Z"
   },
   {
    "duration": 36,
    "start_time": "2022-04-16T15:26:28.290Z"
   },
   {
    "duration": 7,
    "start_time": "2022-04-16T15:26:28.328Z"
   },
   {
    "duration": 26,
    "start_time": "2022-04-16T15:26:28.337Z"
   },
   {
    "duration": 3051,
    "start_time": "2022-04-16T15:26:28.365Z"
   },
   {
    "duration": 35,
    "start_time": "2022-04-16T15:26:31.427Z"
   },
   {
    "duration": 25,
    "start_time": "2022-04-16T15:26:31.465Z"
   },
   {
    "duration": 60,
    "start_time": "2022-04-16T15:26:31.493Z"
   },
   {
    "duration": 19,
    "start_time": "2022-04-16T15:26:31.556Z"
   },
   {
    "duration": 126,
    "start_time": "2022-04-16T15:26:31.579Z"
   },
   {
    "duration": 37,
    "start_time": "2022-04-16T15:26:31.707Z"
   },
   {
    "duration": 555,
    "start_time": "2022-04-16T15:26:31.746Z"
   },
   {
    "duration": 8,
    "start_time": "2022-04-16T15:26:32.303Z"
   },
   {
    "duration": 43,
    "start_time": "2022-04-16T15:26:32.313Z"
   },
   {
    "duration": 11,
    "start_time": "2022-04-16T15:26:32.358Z"
   },
   {
    "duration": 50,
    "start_time": "2022-04-16T15:26:32.372Z"
   },
   {
    "duration": 870,
    "start_time": "2022-04-16T15:32:39.003Z"
   },
   {
    "duration": 241,
    "start_time": "2022-04-16T15:32:39.876Z"
   },
   {
    "duration": 213,
    "start_time": "2022-04-16T15:32:40.119Z"
   },
   {
    "duration": 150,
    "start_time": "2022-04-16T15:32:40.335Z"
   },
   {
    "duration": 43,
    "start_time": "2022-04-16T15:32:40.488Z"
   },
   {
    "duration": 39,
    "start_time": "2022-04-16T15:32:40.533Z"
   },
   {
    "duration": 132,
    "start_time": "2022-04-16T15:32:40.575Z"
   },
   {
    "duration": 847,
    "start_time": "2022-04-16T15:32:40.709Z"
   },
   {
    "duration": 759,
    "start_time": "2022-04-16T15:32:41.559Z"
   },
   {
    "duration": 31,
    "start_time": "2022-04-16T15:32:42.323Z"
   },
   {
    "duration": 159,
    "start_time": "2022-04-16T15:32:42.357Z"
   },
   {
    "duration": 34,
    "start_time": "2022-04-16T15:32:42.519Z"
   },
   {
    "duration": 21750,
    "start_time": "2022-04-16T15:32:42.556Z"
   },
   {
    "duration": 29,
    "start_time": "2022-04-16T15:33:04.309Z"
   },
   {
    "duration": 41,
    "start_time": "2022-04-16T15:33:04.340Z"
   },
   {
    "duration": 58,
    "start_time": "2022-04-16T15:33:04.384Z"
   },
   {
    "duration": 27,
    "start_time": "2022-04-16T15:33:04.445Z"
   },
   {
    "duration": 17,
    "start_time": "2022-04-16T15:33:04.475Z"
   },
   {
    "duration": 81,
    "start_time": "2022-04-16T15:33:04.494Z"
   },
   {
    "duration": 20,
    "start_time": "2022-04-16T15:33:04.577Z"
   },
   {
    "duration": 35,
    "start_time": "2022-04-16T15:33:04.599Z"
   },
   {
    "duration": 27,
    "start_time": "2022-04-16T15:33:04.636Z"
   },
   {
    "duration": 3010,
    "start_time": "2022-04-16T15:33:04.665Z"
   },
   {
    "duration": 47,
    "start_time": "2022-04-16T15:33:07.677Z"
   },
   {
    "duration": 28,
    "start_time": "2022-04-16T15:33:07.727Z"
   },
   {
    "duration": 27,
    "start_time": "2022-04-16T15:33:07.758Z"
   },
   {
    "duration": 43,
    "start_time": "2022-04-16T15:33:07.787Z"
   },
   {
    "duration": 8,
    "start_time": "2022-04-16T15:33:07.835Z"
   },
   {
    "duration": 15,
    "start_time": "2022-04-16T15:33:07.846Z"
   },
   {
    "duration": 562,
    "start_time": "2022-04-16T15:33:07.863Z"
   },
   {
    "duration": 7,
    "start_time": "2022-04-16T15:33:08.428Z"
   },
   {
    "duration": 24,
    "start_time": "2022-04-16T15:33:08.437Z"
   },
   {
    "duration": 10,
    "start_time": "2022-04-16T15:33:08.463Z"
   },
   {
    "duration": 49,
    "start_time": "2022-04-16T15:33:08.475Z"
   },
   {
    "duration": 1116,
    "start_time": "2022-04-17T07:43:36.266Z"
   },
   {
    "duration": 249,
    "start_time": "2022-04-17T07:43:39.092Z"
   },
   {
    "duration": 4,
    "start_time": "2022-04-17T08:15:03.115Z"
   },
   {
    "duration": 448,
    "start_time": "2022-04-17T08:15:03.984Z"
   },
   {
    "duration": 394,
    "start_time": "2022-04-17T08:15:05.007Z"
   },
   {
    "duration": 254,
    "start_time": "2022-04-17T08:15:05.854Z"
   },
   {
    "duration": 56,
    "start_time": "2022-04-17T08:15:06.444Z"
   },
   {
    "duration": 98,
    "start_time": "2022-04-17T08:15:06.897Z"
   },
   {
    "duration": 201,
    "start_time": "2022-04-17T08:15:07.927Z"
   },
   {
    "duration": 1651,
    "start_time": "2022-04-17T08:15:08.356Z"
   },
   {
    "duration": 1519,
    "start_time": "2022-04-17T08:15:10.009Z"
   },
   {
    "duration": 84,
    "start_time": "2022-04-17T08:15:11.531Z"
   },
   {
    "duration": 211,
    "start_time": "2022-04-17T08:15:11.619Z"
   },
   {
    "duration": 22,
    "start_time": "2022-04-17T08:15:11.892Z"
   },
   {
    "duration": 17777,
    "start_time": "2022-04-17T08:15:11.916Z"
   },
   {
    "duration": 14,
    "start_time": "2022-04-17T08:15:29.695Z"
   },
   {
    "duration": 31,
    "start_time": "2022-04-17T08:15:29.712Z"
   },
   {
    "duration": 59,
    "start_time": "2022-04-17T08:15:29.745Z"
   },
   {
    "duration": 19,
    "start_time": "2022-04-17T08:15:29.806Z"
   },
   {
    "duration": 13,
    "start_time": "2022-04-17T08:15:29.827Z"
   },
   {
    "duration": 84,
    "start_time": "2022-04-17T08:15:29.843Z"
   },
   {
    "duration": 20,
    "start_time": "2022-04-17T08:15:29.929Z"
   },
   {
    "duration": 11,
    "start_time": "2022-04-17T08:15:29.951Z"
   },
   {
    "duration": 49,
    "start_time": "2022-04-17T08:15:29.964Z"
   },
   {
    "duration": 2839,
    "start_time": "2022-04-17T08:15:30.015Z"
   },
   {
    "duration": 38,
    "start_time": "2022-04-17T08:15:32.856Z"
   },
   {
    "duration": 30,
    "start_time": "2022-04-17T08:15:32.896Z"
   },
   {
    "duration": 25,
    "start_time": "2022-04-17T08:15:32.930Z"
   },
   {
    "duration": 40,
    "start_time": "2022-04-17T08:15:32.957Z"
   },
   {
    "duration": 14,
    "start_time": "2022-04-17T08:15:32.999Z"
   },
   {
    "duration": 9,
    "start_time": "2022-04-17T08:15:33.015Z"
   },
   {
    "duration": 558,
    "start_time": "2022-04-17T08:15:33.026Z"
   },
   {
    "duration": 11,
    "start_time": "2022-04-17T08:15:33.586Z"
   },
   {
    "duration": 29,
    "start_time": "2022-04-17T08:15:33.599Z"
   },
   {
    "duration": 10,
    "start_time": "2022-04-17T08:15:33.630Z"
   },
   {
    "duration": 54,
    "start_time": "2022-04-17T08:15:33.642Z"
   },
   {
    "duration": 9,
    "start_time": "2022-04-17T08:30:43.677Z"
   },
   {
    "duration": 810,
    "start_time": "2022-04-17T08:30:46.287Z"
   },
   {
    "duration": 21,
    "start_time": "2022-04-17T08:36:25.959Z"
   },
   {
    "duration": 10,
    "start_time": "2022-04-17T08:36:29.693Z"
   },
   {
    "duration": 17,
    "start_time": "2022-04-17T08:36:35.774Z"
   },
   {
    "duration": 800,
    "start_time": "2022-04-17T08:42:01.487Z"
   },
   {
    "duration": 910,
    "start_time": "2022-04-17T08:42:06.320Z"
   },
   {
    "duration": 846,
    "start_time": "2022-04-17T08:42:12.933Z"
   },
   {
    "duration": 22,
    "start_time": "2022-04-17T08:45:15.886Z"
   },
   {
    "duration": 194,
    "start_time": "2022-04-17T09:10:01.455Z"
   },
   {
    "duration": 198,
    "start_time": "2022-04-17T09:57:56.091Z"
   },
   {
    "duration": 747,
    "start_time": "2022-04-17T09:59:12.747Z"
   },
   {
    "duration": 196,
    "start_time": "2022-04-17T10:05:09.149Z"
   },
   {
    "duration": 151,
    "start_time": "2022-04-17T10:10:47.291Z"
   },
   {
    "duration": 4,
    "start_time": "2022-04-17T10:10:52.052Z"
   },
   {
    "duration": 246,
    "start_time": "2022-04-17T10:10:52.439Z"
   },
   {
    "duration": 207,
    "start_time": "2022-04-17T10:10:52.797Z"
   },
   {
    "duration": 144,
    "start_time": "2022-04-17T10:10:53.178Z"
   },
   {
    "duration": 36,
    "start_time": "2022-04-17T10:10:53.571Z"
   },
   {
    "duration": 52,
    "start_time": "2022-04-17T10:10:53.959Z"
   },
   {
    "duration": 113,
    "start_time": "2022-04-17T10:10:55.318Z"
   },
   {
    "duration": 813,
    "start_time": "2022-04-17T10:10:55.682Z"
   },
   {
    "duration": 762,
    "start_time": "2022-04-17T10:10:56.498Z"
   },
   {
    "duration": 24,
    "start_time": "2022-04-17T10:10:57.279Z"
   },
   {
    "duration": 91,
    "start_time": "2022-04-17T10:10:57.735Z"
   },
   {
    "duration": 21,
    "start_time": "2022-04-17T10:10:58.333Z"
   },
   {
    "duration": 14494,
    "start_time": "2022-04-17T10:10:59.358Z"
   },
   {
    "duration": 15,
    "start_time": "2022-04-17T10:11:13.855Z"
   },
   {
    "duration": 59,
    "start_time": "2022-04-17T10:11:13.873Z"
   },
   {
    "duration": 67,
    "start_time": "2022-04-17T10:11:13.935Z"
   },
   {
    "duration": 31,
    "start_time": "2022-04-17T10:11:14.005Z"
   },
   {
    "duration": 16,
    "start_time": "2022-04-17T10:11:14.039Z"
   },
   {
    "duration": 80,
    "start_time": "2022-04-17T10:11:14.058Z"
   },
   {
    "duration": 14337,
    "start_time": "2022-04-17T10:15:34.198Z"
   },
   {
    "duration": 14428,
    "start_time": "2022-04-17T10:21:57.682Z"
   },
   {
    "duration": 15,
    "start_time": "2022-04-17T10:22:12.113Z"
   },
   {
    "duration": 3773,
    "start_time": "2022-04-17T10:22:12.131Z"
   },
   {
    "duration": 5,
    "start_time": "2022-04-17T10:22:28.162Z"
   },
   {
    "duration": 5,
    "start_time": "2022-04-17T10:22:28.552Z"
   },
   {
    "duration": 4,
    "start_time": "2022-04-17T10:22:28.906Z"
   },
   {
    "duration": 4,
    "start_time": "2022-04-17T10:22:29.505Z"
   },
   {
    "duration": 375,
    "start_time": "2022-04-17T10:22:29.803Z"
   },
   {
    "duration": 210,
    "start_time": "2022-04-17T10:22:30.194Z"
   },
   {
    "duration": 153,
    "start_time": "2022-04-17T10:22:30.515Z"
   },
   {
    "duration": 37,
    "start_time": "2022-04-17T10:22:30.871Z"
   },
   {
    "duration": 52,
    "start_time": "2022-04-17T10:22:31.241Z"
   },
   {
    "duration": 119,
    "start_time": "2022-04-17T10:22:32.655Z"
   },
   {
    "duration": 846,
    "start_time": "2022-04-17T10:22:33.002Z"
   },
   {
    "duration": 741,
    "start_time": "2022-04-17T10:22:34.374Z"
   },
   {
    "duration": 22,
    "start_time": "2022-04-17T10:22:35.899Z"
   },
   {
    "duration": 93,
    "start_time": "2022-04-17T10:22:36.307Z"
   },
   {
    "duration": 23,
    "start_time": "2022-04-17T10:22:36.679Z"
   },
   {
    "duration": 14348,
    "start_time": "2022-04-17T10:22:37.480Z"
   },
   {
    "duration": 15,
    "start_time": "2022-04-17T10:22:51.831Z"
   },
   {
    "duration": 70,
    "start_time": "2022-04-17T10:22:51.849Z"
   },
   {
    "duration": 3327,
    "start_time": "2022-04-17T10:23:02.810Z"
   },
   {
    "duration": 14307,
    "start_time": "2022-04-17T10:23:14.186Z"
   },
   {
    "duration": 14,
    "start_time": "2022-04-17T10:23:36.541Z"
   },
   {
    "duration": 3345,
    "start_time": "2022-04-17T10:23:40.353Z"
   },
   {
    "duration": 4,
    "start_time": "2022-04-17T10:23:53.395Z"
   },
   {
    "duration": 4,
    "start_time": "2022-04-17T10:23:54.286Z"
   },
   {
    "duration": 4,
    "start_time": "2022-04-17T10:23:55.698Z"
   },
   {
    "duration": 236,
    "start_time": "2022-04-17T10:23:56.422Z"
   },
   {
    "duration": 204,
    "start_time": "2022-04-17T10:23:57.191Z"
   },
   {
    "duration": 152,
    "start_time": "2022-04-17T10:23:57.914Z"
   },
   {
    "duration": 36,
    "start_time": "2022-04-17T10:23:58.626Z"
   },
   {
    "duration": 50,
    "start_time": "2022-04-17T10:23:59.261Z"
   },
   {
    "duration": 107,
    "start_time": "2022-04-17T10:24:02.225Z"
   },
   {
    "duration": 947,
    "start_time": "2022-04-17T10:24:02.846Z"
   },
   {
    "duration": 739,
    "start_time": "2022-04-17T10:24:05.148Z"
   },
   {
    "duration": 22,
    "start_time": "2022-04-17T10:24:07.341Z"
   },
   {
    "duration": 95,
    "start_time": "2022-04-17T10:24:08.023Z"
   },
   {
    "duration": 22,
    "start_time": "2022-04-17T10:24:08.580Z"
   },
   {
    "duration": 14261,
    "start_time": "2022-04-17T10:24:09.743Z"
   },
   {
    "duration": 15,
    "start_time": "2022-04-17T10:24:42.356Z"
   },
   {
    "duration": 30,
    "start_time": "2022-04-17T10:24:45.485Z"
   },
   {
    "duration": 215,
    "start_time": "2022-04-17T10:26:01.607Z"
   },
   {
    "duration": 10,
    "start_time": "2022-04-17T10:26:22.490Z"
   },
   {
    "duration": 52,
    "start_time": "2022-04-17T10:26:25.154Z"
   },
   {
    "duration": 21,
    "start_time": "2022-04-17T10:26:30.000Z"
   },
   {
    "duration": 52,
    "start_time": "2022-04-17T10:27:45.251Z"
   },
   {
    "duration": 57,
    "start_time": "2022-04-17T10:27:49.041Z"
   },
   {
    "duration": 20,
    "start_time": "2022-04-17T10:27:52.944Z"
   },
   {
    "duration": 6,
    "start_time": "2022-04-17T10:27:56.339Z"
   },
   {
    "duration": 22,
    "start_time": "2022-04-17T10:27:58.999Z"
   },
   {
    "duration": 2847,
    "start_time": "2022-04-17T10:28:11.673Z"
   },
   {
    "duration": 38,
    "start_time": "2022-04-17T10:28:17.607Z"
   },
   {
    "duration": 40,
    "start_time": "2022-04-17T10:28:22.117Z"
   },
   {
    "duration": 38,
    "start_time": "2022-04-17T10:28:28.643Z"
   },
   {
    "duration": 7,
    "start_time": "2022-04-17T10:28:53.433Z"
   },
   {
    "duration": 52,
    "start_time": "2022-04-17T10:28:55.371Z"
   },
   {
    "duration": 23,
    "start_time": "2022-04-17T10:29:01.642Z"
   },
   {
    "duration": 35,
    "start_time": "2022-04-17T10:29:13.963Z"
   },
   {
    "duration": 11,
    "start_time": "2022-04-17T10:44:45.188Z"
   },
   {
    "duration": 6,
    "start_time": "2022-04-17T10:44:47.377Z"
   },
   {
    "duration": 37,
    "start_time": "2022-04-17T10:44:51.739Z"
   },
   {
    "duration": 8,
    "start_time": "2022-04-17T10:47:30.000Z"
   },
   {
    "duration": 22,
    "start_time": "2022-04-17T10:47:34.952Z"
   },
   {
    "duration": 219,
    "start_time": "2022-04-17T11:05:43.417Z"
   },
   {
    "duration": 205,
    "start_time": "2022-04-17T11:06:31.789Z"
   },
   {
    "duration": 210,
    "start_time": "2022-04-17T11:13:01.007Z"
   },
   {
    "duration": 4,
    "start_time": "2022-04-17T11:28:50.637Z"
   },
   {
    "duration": 393,
    "start_time": "2022-04-17T11:28:51.100Z"
   },
   {
    "duration": 195,
    "start_time": "2022-04-17T11:28:51.546Z"
   },
   {
    "duration": 139,
    "start_time": "2022-04-17T11:28:51.791Z"
   },
   {
    "duration": 39,
    "start_time": "2022-04-17T11:28:52.047Z"
   },
   {
    "duration": 51,
    "start_time": "2022-04-17T11:28:52.450Z"
   },
   {
    "duration": 115,
    "start_time": "2022-04-17T11:28:57.295Z"
   },
   {
    "duration": 894,
    "start_time": "2022-04-17T11:28:57.846Z"
   },
   {
    "duration": 204,
    "start_time": "2022-04-17T11:29:46.722Z"
   },
   {
    "duration": 206,
    "start_time": "2022-04-17T11:31:40.739Z"
   },
   {
    "duration": 29,
    "start_time": "2022-04-17T11:32:50.750Z"
   },
   {
    "duration": 26,
    "start_time": "2022-04-17T11:32:53.185Z"
   },
   {
    "duration": 200,
    "start_time": "2022-04-17T11:33:16.931Z"
   },
   {
    "duration": 215,
    "start_time": "2022-04-17T11:37:19.933Z"
   },
   {
    "duration": 195,
    "start_time": "2022-04-17T11:38:08.777Z"
   },
   {
    "duration": 875,
    "start_time": "2022-04-24T17:39:59.278Z"
   },
   {
    "duration": 185,
    "start_time": "2022-04-24T17:40:00.155Z"
   },
   {
    "duration": 150,
    "start_time": "2022-04-24T17:40:00.342Z"
   },
   {
    "duration": 116,
    "start_time": "2022-04-24T17:40:00.494Z"
   },
   {
    "duration": 25,
    "start_time": "2022-04-24T17:40:01.014Z"
   },
   {
    "duration": 37,
    "start_time": "2022-04-24T17:40:01.283Z"
   },
   {
    "duration": 100,
    "start_time": "2022-04-24T17:40:01.984Z"
   },
   {
    "duration": 585,
    "start_time": "2022-04-24T17:40:02.181Z"
   },
   {
    "duration": 520,
    "start_time": "2022-04-24T17:40:02.768Z"
   },
   {
    "duration": 20,
    "start_time": "2022-04-24T17:40:03.290Z"
   },
   {
    "duration": 80,
    "start_time": "2022-04-24T17:40:03.314Z"
   },
   {
    "duration": 24,
    "start_time": "2022-04-24T17:40:03.417Z"
   },
   {
    "duration": 9372,
    "start_time": "2022-04-24T17:40:04.031Z"
   },
   {
    "duration": 15,
    "start_time": "2022-04-24T17:40:13.407Z"
   },
   {
    "duration": 19,
    "start_time": "2022-04-24T17:40:13.424Z"
   },
   {
    "duration": 17,
    "start_time": "2022-04-24T17:40:13.446Z"
   },
   {
    "duration": 12,
    "start_time": "2022-04-24T17:40:13.464Z"
   },
   {
    "duration": 35,
    "start_time": "2022-04-24T17:40:13.478Z"
   },
   {
    "duration": 50,
    "start_time": "2022-04-24T17:40:13.516Z"
   },
   {
    "duration": 43,
    "start_time": "2022-04-24T17:40:13.567Z"
   },
   {
    "duration": 5,
    "start_time": "2022-04-24T17:40:13.611Z"
   },
   {
    "duration": 78,
    "start_time": "2022-04-24T17:40:22.086Z"
   },
   {
    "duration": 10,
    "start_time": "2022-04-24T17:41:35.701Z"
   },
   {
    "duration": 786,
    "start_time": "2022-04-24T17:42:29.268Z"
   },
   {
    "duration": 14,
    "start_time": "2022-04-24T17:43:32.415Z"
   },
   {
    "duration": 14,
    "start_time": "2022-04-24T17:43:36.037Z"
   },
   {
    "duration": 7,
    "start_time": "2022-04-24T17:43:43.715Z"
   },
   {
    "duration": 16,
    "start_time": "2022-04-24T17:43:45.504Z"
   },
   {
    "duration": 37,
    "start_time": "2022-04-24T17:52:16.570Z"
   },
   {
    "duration": 23,
    "start_time": "2022-04-24T17:52:17.346Z"
   },
   {
    "duration": 16,
    "start_time": "2022-04-24T18:00:13.770Z"
   },
   {
    "duration": 14,
    "start_time": "2022-04-24T18:01:09.488Z"
   },
   {
    "duration": 13,
    "start_time": "2022-04-24T18:01:24.180Z"
   },
   {
    "duration": 64,
    "start_time": "2022-04-24T18:02:06.917Z"
   },
   {
    "duration": 59,
    "start_time": "2022-04-24T18:02:12.620Z"
   },
   {
    "duration": 491,
    "start_time": "2022-04-24T18:02:46.785Z"
   },
   {
    "duration": 64,
    "start_time": "2022-04-24T18:03:50.178Z"
   },
   {
    "duration": 1165,
    "start_time": "2022-04-24T18:04:04.455Z"
   },
   {
    "duration": 47,
    "start_time": "2022-04-24T18:04:29.442Z"
   },
   {
    "duration": 19,
    "start_time": "2022-04-24T18:05:04.900Z"
   },
   {
    "duration": 1229,
    "start_time": "2022-04-24T18:05:17.046Z"
   },
   {
    "duration": 1593,
    "start_time": "2022-04-24T18:05:37.121Z"
   },
   {
    "duration": 4,
    "start_time": "2022-04-24T18:06:03.712Z"
   },
   {
    "duration": 7,
    "start_time": "2022-04-24T18:06:15.189Z"
   },
   {
    "duration": 23,
    "start_time": "2022-04-24T18:06:23.159Z"
   },
   {
    "duration": 68,
    "start_time": "2022-04-24T18:07:20.032Z"
   },
   {
    "duration": 69,
    "start_time": "2022-04-24T18:07:42.639Z"
   },
   {
    "duration": 13,
    "start_time": "2022-04-24T18:07:51.711Z"
   },
   {
    "duration": 81,
    "start_time": "2022-04-24T18:07:58.772Z"
   },
   {
    "duration": 676,
    "start_time": "2022-04-24T18:08:30.081Z"
   },
   {
    "duration": 181,
    "start_time": "2022-04-24T18:08:30.760Z"
   },
   {
    "duration": 165,
    "start_time": "2022-04-24T18:08:30.942Z"
   },
   {
    "duration": 103,
    "start_time": "2022-04-24T18:08:31.110Z"
   },
   {
    "duration": 22,
    "start_time": "2022-04-24T18:08:31.215Z"
   },
   {
    "duration": 30,
    "start_time": "2022-04-24T18:08:31.238Z"
   },
   {
    "duration": 78,
    "start_time": "2022-04-24T18:08:31.803Z"
   },
   {
    "duration": 544,
    "start_time": "2022-04-24T18:08:32.071Z"
   },
   {
    "duration": 441,
    "start_time": "2022-04-24T18:08:32.921Z"
   },
   {
    "duration": 16,
    "start_time": "2022-04-24T18:08:33.533Z"
   },
   {
    "duration": 76,
    "start_time": "2022-04-24T18:08:33.812Z"
   },
   {
    "duration": 17,
    "start_time": "2022-04-24T18:08:34.036Z"
   },
   {
    "duration": 8219,
    "start_time": "2022-04-24T18:08:34.652Z"
   },
   {
    "duration": 11,
    "start_time": "2022-04-24T18:08:42.873Z"
   },
   {
    "duration": 30,
    "start_time": "2022-04-24T18:08:42.886Z"
   },
   {
    "duration": 16,
    "start_time": "2022-04-24T18:08:42.918Z"
   },
   {
    "duration": 13,
    "start_time": "2022-04-24T18:08:42.935Z"
   },
   {
    "duration": 7,
    "start_time": "2022-04-24T18:08:42.949Z"
   },
   {
    "duration": 121,
    "start_time": "2022-04-24T18:08:42.958Z"
   },
   {
    "duration": 78,
    "start_time": "2022-04-24T18:09:53.630Z"
   },
   {
    "duration": 8,
    "start_time": "2022-04-24T18:19:16.550Z"
   },
   {
    "duration": 4,
    "start_time": "2022-04-24T18:20:56.202Z"
   },
   {
    "duration": 58,
    "start_time": "2022-04-24T18:24:25.831Z"
   },
   {
    "duration": 84,
    "start_time": "2022-04-24T18:25:02.242Z"
   },
   {
    "duration": 65,
    "start_time": "2022-04-24T18:28:32.026Z"
   },
   {
    "duration": 10,
    "start_time": "2022-04-24T18:28:44.544Z"
   },
   {
    "duration": 932,
    "start_time": "2022-04-24T18:29:01.977Z"
   },
   {
    "duration": 1263,
    "start_time": "2022-04-24T18:29:49.797Z"
   },
   {
    "duration": 2,
    "start_time": "2022-04-24T18:36:37.295Z"
   },
   {
    "duration": 962,
    "start_time": "2022-04-24T18:37:50.902Z"
   },
   {
    "duration": 4,
    "start_time": "2022-04-24T18:39:13.765Z"
   },
   {
    "duration": 65,
    "start_time": "2022-04-24T18:40:05.890Z"
   },
   {
    "duration": 59,
    "start_time": "2022-04-24T18:40:19.564Z"
   },
   {
    "duration": 66,
    "start_time": "2022-04-24T18:41:24.132Z"
   },
   {
    "duration": 3,
    "start_time": "2022-04-24T18:51:06.624Z"
   },
   {
    "duration": 922,
    "start_time": "2022-04-24T18:51:55.516Z"
   },
   {
    "duration": 1076,
    "start_time": "2022-04-24T18:53:07.471Z"
   },
   {
    "duration": 4,
    "start_time": "2022-04-24T18:54:56.706Z"
   },
   {
    "duration": 3,
    "start_time": "2022-04-24T18:54:57.505Z"
   },
   {
    "duration": 249,
    "start_time": "2022-04-24T18:54:59.136Z"
   },
   {
    "duration": 3,
    "start_time": "2022-04-24T18:55:09.844Z"
   },
   {
    "duration": 270,
    "start_time": "2022-04-24T18:55:10.955Z"
   },
   {
    "duration": 3,
    "start_time": "2022-04-24T18:55:46.072Z"
   },
   {
    "duration": 249,
    "start_time": "2022-04-24T18:55:47.021Z"
   },
   {
    "duration": 242,
    "start_time": "2022-04-24T18:56:54.334Z"
   },
   {
    "duration": 3,
    "start_time": "2022-04-24T18:57:24.268Z"
   },
   {
    "duration": 496,
    "start_time": "2022-04-24T18:57:25.814Z"
   },
   {
    "duration": 6,
    "start_time": "2022-04-24T18:59:06.131Z"
   },
   {
    "duration": 16,
    "start_time": "2022-04-24T19:00:36.454Z"
   },
   {
    "duration": 2,
    "start_time": "2022-04-24T19:02:47.105Z"
   },
   {
    "duration": 16,
    "start_time": "2022-04-24T19:02:47.962Z"
   },
   {
    "duration": 3,
    "start_time": "2022-04-24T19:03:08.490Z"
   },
   {
    "duration": 2,
    "start_time": "2022-04-24T19:03:08.965Z"
   },
   {
    "duration": 16,
    "start_time": "2022-04-24T19:03:09.547Z"
   },
   {
    "duration": 4,
    "start_time": "2022-04-24T19:05:04.687Z"
   },
   {
    "duration": 16,
    "start_time": "2022-04-24T19:05:05.716Z"
   },
   {
    "duration": 4,
    "start_time": "2022-04-24T19:10:15.739Z"
   },
   {
    "duration": 4,
    "start_time": "2022-04-24T19:10:56.488Z"
   },
   {
    "duration": 14,
    "start_time": "2022-04-24T19:11:24.615Z"
   },
   {
    "duration": 37,
    "start_time": "2022-04-24T19:30:01.931Z"
   },
   {
    "duration": 22,
    "start_time": "2022-04-24T19:30:04.111Z"
   },
   {
    "duration": 95,
    "start_time": "2022-04-25T16:31:15.481Z"
   },
   {
    "duration": 86,
    "start_time": "2022-04-25T16:32:09.463Z"
   },
   {
    "duration": 93,
    "start_time": "2022-04-25T16:32:19.248Z"
   },
   {
    "duration": 7,
    "start_time": "2022-04-25T16:33:01.641Z"
   },
   {
    "duration": 66,
    "start_time": "2022-04-25T16:34:06.914Z"
   },
   {
    "duration": 1077,
    "start_time": "2022-04-25T16:34:46.355Z"
   },
   {
    "duration": 239,
    "start_time": "2022-04-25T16:34:47.435Z"
   },
   {
    "duration": 201,
    "start_time": "2022-04-25T16:34:47.676Z"
   },
   {
    "duration": 142,
    "start_time": "2022-04-25T16:34:47.880Z"
   },
   {
    "duration": 39,
    "start_time": "2022-04-25T16:34:48.025Z"
   },
   {
    "duration": 39,
    "start_time": "2022-04-25T16:34:48.066Z"
   },
   {
    "duration": 115,
    "start_time": "2022-04-25T16:34:48.122Z"
   },
   {
    "duration": 855,
    "start_time": "2022-04-25T16:34:48.299Z"
   },
   {
    "duration": 768,
    "start_time": "2022-04-25T16:34:49.157Z"
   },
   {
    "duration": 39,
    "start_time": "2022-04-25T16:34:49.928Z"
   },
   {
    "duration": 102,
    "start_time": "2022-04-25T16:34:49.969Z"
   },
   {
    "duration": 21,
    "start_time": "2022-04-25T16:34:50.073Z"
   },
   {
    "duration": 14070,
    "start_time": "2022-04-25T16:34:50.625Z"
   },
   {
    "duration": 14,
    "start_time": "2022-04-25T16:35:04.698Z"
   },
   {
    "duration": 46,
    "start_time": "2022-04-25T16:35:04.715Z"
   },
   {
    "duration": 25,
    "start_time": "2022-04-25T16:35:04.764Z"
   },
   {
    "duration": 30,
    "start_time": "2022-04-25T16:35:04.791Z"
   },
   {
    "duration": 33,
    "start_time": "2022-04-25T16:35:04.823Z"
   },
   {
    "duration": 14,
    "start_time": "2022-04-25T16:35:04.858Z"
   },
   {
    "duration": 148,
    "start_time": "2022-04-25T16:35:04.874Z"
   },
   {
    "duration": 10,
    "start_time": "2022-04-25T16:36:10.106Z"
   },
   {
    "duration": 36,
    "start_time": "2022-04-25T16:36:14.038Z"
   },
   {
    "duration": 12,
    "start_time": "2022-04-25T16:36:25.026Z"
   },
   {
    "duration": 24,
    "start_time": "2022-04-25T16:36:28.425Z"
   },
   {
    "duration": 8,
    "start_time": "2022-04-25T16:37:26.951Z"
   },
   {
    "duration": 18,
    "start_time": "2022-04-25T16:37:28.696Z"
   },
   {
    "duration": 8,
    "start_time": "2022-04-25T16:37:57.939Z"
   },
   {
    "duration": 23,
    "start_time": "2022-04-25T16:38:00.347Z"
   },
   {
    "duration": 22,
    "start_time": "2022-04-25T16:43:31.519Z"
   },
   {
    "duration": 9,
    "start_time": "2022-04-25T17:09:09.036Z"
   },
   {
    "duration": 21,
    "start_time": "2022-04-25T17:09:09.663Z"
   },
   {
    "duration": 10,
    "start_time": "2022-04-25T17:09:54.078Z"
   },
   {
    "duration": 22,
    "start_time": "2022-04-25T17:09:54.647Z"
   },
   {
    "duration": 9,
    "start_time": "2022-04-25T17:10:07.468Z"
   },
   {
    "duration": 20,
    "start_time": "2022-04-25T17:10:11.475Z"
   },
   {
    "duration": 10,
    "start_time": "2022-04-25T17:10:18.766Z"
   },
   {
    "duration": 25,
    "start_time": "2022-04-25T17:10:19.248Z"
   },
   {
    "duration": 4,
    "start_time": "2022-04-25T17:10:20.947Z"
   },
   {
    "duration": 23,
    "start_time": "2022-04-25T17:10:43.600Z"
   },
   {
    "duration": 9,
    "start_time": "2022-04-25T17:10:58.747Z"
   },
   {
    "duration": 9,
    "start_time": "2022-04-25T17:11:48.182Z"
   },
   {
    "duration": 22,
    "start_time": "2022-04-25T17:11:49.546Z"
   },
   {
    "duration": 23,
    "start_time": "2022-04-25T17:14:26.297Z"
   },
   {
    "duration": 22,
    "start_time": "2022-04-25T17:19:23.512Z"
   },
   {
    "duration": 9,
    "start_time": "2022-04-25T17:20:02.298Z"
   },
   {
    "duration": 4,
    "start_time": "2022-04-25T17:20:34.552Z"
   },
   {
    "duration": 251,
    "start_time": "2022-04-25T17:20:34.754Z"
   },
   {
    "duration": 221,
    "start_time": "2022-04-25T17:20:35.008Z"
   },
   {
    "duration": 157,
    "start_time": "2022-04-25T17:20:35.231Z"
   },
   {
    "duration": 31,
    "start_time": "2022-04-25T17:20:35.390Z"
   },
   {
    "duration": 42,
    "start_time": "2022-04-25T17:20:35.549Z"
   },
   {
    "duration": 107,
    "start_time": "2022-04-25T17:20:36.335Z"
   },
   {
    "duration": 832,
    "start_time": "2022-04-25T17:20:36.538Z"
   },
   {
    "duration": 734,
    "start_time": "2022-04-25T17:20:37.372Z"
   },
   {
    "duration": 20,
    "start_time": "2022-04-25T17:20:38.108Z"
   },
   {
    "duration": 106,
    "start_time": "2022-04-25T17:20:38.131Z"
   },
   {
    "duration": 29,
    "start_time": "2022-04-25T17:20:38.239Z"
   },
   {
    "duration": 15070,
    "start_time": "2022-04-25T17:20:38.359Z"
   },
   {
    "duration": 21,
    "start_time": "2022-04-25T17:20:53.432Z"
   },
   {
    "duration": 35,
    "start_time": "2022-04-25T17:20:53.455Z"
   },
   {
    "duration": 25,
    "start_time": "2022-04-25T17:20:53.492Z"
   },
   {
    "duration": 46,
    "start_time": "2022-04-25T17:20:53.519Z"
   },
   {
    "duration": 11,
    "start_time": "2022-04-25T17:20:53.567Z"
   },
   {
    "duration": 13,
    "start_time": "2022-04-25T17:20:53.580Z"
   },
   {
    "duration": 31,
    "start_time": "2022-04-25T17:20:53.595Z"
   },
   {
    "duration": 151,
    "start_time": "2022-04-25T17:22:01.849Z"
   },
   {
    "duration": 32,
    "start_time": "2022-04-25T17:22:02.467Z"
   },
   {
    "duration": 9,
    "start_time": "2022-04-25T17:22:37.209Z"
   },
   {
    "duration": 22,
    "start_time": "2022-04-25T17:22:38.534Z"
   },
   {
    "duration": 9,
    "start_time": "2022-04-25T17:22:48.139Z"
   },
   {
    "duration": 10,
    "start_time": "2022-04-25T17:23:00.727Z"
   },
   {
    "duration": 22,
    "start_time": "2022-04-25T17:23:02.683Z"
   },
   {
    "duration": 10,
    "start_time": "2022-04-25T17:23:32.696Z"
   },
   {
    "duration": 20,
    "start_time": "2022-04-25T17:23:33.296Z"
   },
   {
    "duration": 17,
    "start_time": "2022-04-25T17:26:04.567Z"
   },
   {
    "duration": 10,
    "start_time": "2022-04-25T17:27:13.439Z"
   },
   {
    "duration": 27,
    "start_time": "2022-04-25T17:27:17.411Z"
   },
   {
    "duration": 24,
    "start_time": "2022-04-25T17:31:01.143Z"
   },
   {
    "duration": 10,
    "start_time": "2022-04-25T17:31:01.823Z"
   },
   {
    "duration": 25,
    "start_time": "2022-04-25T17:31:03.162Z"
   },
   {
    "duration": 457,
    "start_time": "2022-04-25T17:33:17.879Z"
   },
   {
    "duration": 9,
    "start_time": "2022-04-25T17:33:19.200Z"
   },
   {
    "duration": 24,
    "start_time": "2022-04-25T17:33:22.403Z"
   },
   {
    "duration": 21,
    "start_time": "2022-04-25T17:34:56.815Z"
   },
   {
    "duration": 11,
    "start_time": "2022-04-25T17:34:57.225Z"
   },
   {
    "duration": 25,
    "start_time": "2022-04-25T17:34:57.891Z"
   },
   {
    "duration": 4,
    "start_time": "2022-04-25T17:34:59.929Z"
   },
   {
    "duration": 24,
    "start_time": "2022-04-25T17:45:12.373Z"
   },
   {
    "duration": 9,
    "start_time": "2022-04-25T17:45:57.189Z"
   },
   {
    "duration": 24,
    "start_time": "2022-04-25T17:45:58.233Z"
   },
   {
    "duration": 10,
    "start_time": "2022-04-25T17:46:26.598Z"
   },
   {
    "duration": 27,
    "start_time": "2022-04-25T17:46:27.114Z"
   },
   {
    "duration": 33,
    "start_time": "2022-04-25T17:54:25.244Z"
   },
   {
    "duration": 11,
    "start_time": "2022-04-25T17:56:41.954Z"
   },
   {
    "duration": 1504,
    "start_time": "2022-04-25T17:56:42.720Z"
   },
   {
    "duration": 14,
    "start_time": "2022-04-25T17:59:40.994Z"
   },
   {
    "duration": 1551,
    "start_time": "2022-04-25T17:59:41.032Z"
   },
   {
    "duration": 12,
    "start_time": "2022-04-25T18:01:26.904Z"
   },
   {
    "duration": 1435,
    "start_time": "2022-04-25T18:01:27.976Z"
   },
   {
    "duration": 11,
    "start_time": "2022-04-25T18:07:04.229Z"
   },
   {
    "duration": 1367,
    "start_time": "2022-04-25T18:07:04.860Z"
   },
   {
    "duration": 4,
    "start_time": "2022-04-25T18:07:32.787Z"
   },
   {
    "duration": 287,
    "start_time": "2022-04-25T18:07:32.988Z"
   },
   {
    "duration": 201,
    "start_time": "2022-04-25T18:07:33.279Z"
   },
   {
    "duration": 138,
    "start_time": "2022-04-25T18:07:33.482Z"
   },
   {
    "duration": 38,
    "start_time": "2022-04-25T18:07:33.624Z"
   },
   {
    "duration": 38,
    "start_time": "2022-04-25T18:07:33.821Z"
   },
   {
    "duration": 117,
    "start_time": "2022-04-25T18:07:35.188Z"
   },
   {
    "duration": 807,
    "start_time": "2022-04-25T18:07:35.486Z"
   },
   {
    "duration": 766,
    "start_time": "2022-04-25T18:07:36.295Z"
   },
   {
    "duration": 22,
    "start_time": "2022-04-25T18:07:38.259Z"
   },
   {
    "duration": 91,
    "start_time": "2022-04-25T18:07:38.714Z"
   },
   {
    "duration": 22,
    "start_time": "2022-04-25T18:07:39.115Z"
   },
   {
    "duration": 14895,
    "start_time": "2022-04-25T18:07:40.127Z"
   },
   {
    "duration": 14,
    "start_time": "2022-04-25T18:07:55.025Z"
   },
   {
    "duration": 40,
    "start_time": "2022-04-25T18:07:55.052Z"
   },
   {
    "duration": 28,
    "start_time": "2022-04-25T18:07:55.095Z"
   },
   {
    "duration": 34,
    "start_time": "2022-04-25T18:07:55.125Z"
   },
   {
    "duration": 25,
    "start_time": "2022-04-25T18:07:55.161Z"
   },
   {
    "duration": 17,
    "start_time": "2022-04-25T18:07:55.188Z"
   },
   {
    "duration": 1926,
    "start_time": "2022-04-25T18:07:55.207Z"
   },
   {
    "duration": 0,
    "start_time": "2022-04-25T18:07:57.136Z"
   },
   {
    "duration": 10,
    "start_time": "2022-04-25T18:18:02.312Z"
   },
   {
    "duration": 24,
    "start_time": "2022-04-25T18:18:03.106Z"
   },
   {
    "duration": 26,
    "start_time": "2022-04-25T18:18:09.778Z"
   },
   {
    "duration": 15,
    "start_time": "2022-04-25T18:30:02.344Z"
   },
   {
    "duration": 26,
    "start_time": "2022-04-25T18:30:03.235Z"
   },
   {
    "duration": 22,
    "start_time": "2022-04-25T18:31:11.560Z"
   },
   {
    "duration": 20431,
    "start_time": "2022-04-25T18:31:12.870Z"
   },
   {
    "duration": 19165,
    "start_time": "2022-04-25T18:32:44.824Z"
   },
   {
    "duration": 5,
    "start_time": "2022-04-25T18:33:03.991Z"
   },
   {
    "duration": 30,
    "start_time": "2022-04-25T18:33:03.997Z"
   },
   {
    "duration": 18820,
    "start_time": "2022-04-25T18:36:07.256Z"
   },
   {
    "duration": 6,
    "start_time": "2022-04-25T18:36:26.079Z"
   },
   {
    "duration": 7,
    "start_time": "2022-04-25T18:36:51.222Z"
   },
   {
    "duration": 14,
    "start_time": "2022-04-25T18:36:53.299Z"
   },
   {
    "duration": 1788,
    "start_time": "2022-04-25T18:36:56.211Z"
   },
   {
    "duration": 1442,
    "start_time": "2022-04-25T18:37:21.004Z"
   },
   {
    "duration": 2301,
    "start_time": "2022-04-25T18:37:41.525Z"
   },
   {
    "duration": 4,
    "start_time": "2022-04-25T18:38:33.522Z"
   },
   {
    "duration": 244,
    "start_time": "2022-04-25T18:38:33.710Z"
   },
   {
    "duration": 197,
    "start_time": "2022-04-25T18:38:33.956Z"
   },
   {
    "duration": 142,
    "start_time": "2022-04-25T18:38:34.156Z"
   },
   {
    "duration": 29,
    "start_time": "2022-04-25T18:38:34.311Z"
   },
   {
    "duration": 39,
    "start_time": "2022-04-25T18:38:34.537Z"
   },
   {
    "duration": 211,
    "start_time": "2022-04-25T18:38:35.269Z"
   },
   {
    "duration": 1229,
    "start_time": "2022-04-25T18:38:35.484Z"
   },
   {
    "duration": 1173,
    "start_time": "2022-04-25T18:38:36.716Z"
   },
   {
    "duration": 26,
    "start_time": "2022-04-25T18:38:37.892Z"
   },
   {
    "duration": 149,
    "start_time": "2022-04-25T18:38:37.922Z"
   },
   {
    "duration": 27,
    "start_time": "2022-04-25T18:38:38.073Z"
   },
   {
    "duration": 18389,
    "start_time": "2022-04-25T18:38:38.103Z"
   },
   {
    "duration": 14,
    "start_time": "2022-04-25T18:38:56.495Z"
   },
   {
    "duration": 46,
    "start_time": "2022-04-25T18:38:56.512Z"
   },
   {
    "duration": 25,
    "start_time": "2022-04-25T18:38:56.561Z"
   },
   {
    "duration": 33,
    "start_time": "2022-04-25T18:38:56.588Z"
   },
   {
    "duration": 14,
    "start_time": "2022-04-25T18:38:56.623Z"
   },
   {
    "duration": 22,
    "start_time": "2022-04-25T18:38:56.639Z"
   },
   {
    "duration": 18649,
    "start_time": "2022-04-25T18:38:56.663Z"
   },
   {
    "duration": 4,
    "start_time": "2022-04-25T18:39:15.315Z"
   },
   {
    "duration": 46,
    "start_time": "2022-04-25T18:39:15.321Z"
   },
   {
    "duration": 14,
    "start_time": "2022-04-25T18:41:08.022Z"
   },
   {
    "duration": 13,
    "start_time": "2022-04-25T18:41:29.377Z"
   },
   {
    "duration": 14660,
    "start_time": "2022-04-25T18:41:29.392Z"
   },
   {
    "duration": 4,
    "start_time": "2022-04-25T18:41:44.055Z"
   },
   {
    "duration": 32,
    "start_time": "2022-04-25T18:41:44.061Z"
   },
   {
    "duration": 13952,
    "start_time": "2022-04-25T18:41:52.685Z"
   },
   {
    "duration": 12,
    "start_time": "2022-04-25T18:42:06.640Z"
   },
   {
    "duration": 31,
    "start_time": "2022-04-25T18:42:06.654Z"
   },
   {
    "duration": 1051,
    "start_time": "2022-04-25T18:42:35.135Z"
   },
   {
    "duration": 232,
    "start_time": "2022-04-25T18:42:36.189Z"
   },
   {
    "duration": 200,
    "start_time": "2022-04-25T18:42:36.424Z"
   },
   {
    "duration": 145,
    "start_time": "2022-04-25T18:42:36.627Z"
   },
   {
    "duration": 30,
    "start_time": "2022-04-25T18:42:36.774Z"
   },
   {
    "duration": 49,
    "start_time": "2022-04-25T18:42:36.806Z"
   },
   {
    "duration": 111,
    "start_time": "2022-04-25T18:42:36.991Z"
   },
   {
    "duration": 838,
    "start_time": "2022-04-25T18:42:37.161Z"
   },
   {
    "duration": 777,
    "start_time": "2022-04-25T18:42:38.002Z"
   },
   {
    "duration": 28,
    "start_time": "2022-04-25T18:42:38.782Z"
   },
   {
    "duration": 150,
    "start_time": "2022-04-25T18:42:38.814Z"
   },
   {
    "duration": 28,
    "start_time": "2022-04-25T18:42:38.967Z"
   },
   {
    "duration": 14583,
    "start_time": "2022-04-25T18:42:39.004Z"
   },
   {
    "duration": 15,
    "start_time": "2022-04-25T18:42:53.590Z"
   },
   {
    "duration": 53,
    "start_time": "2022-04-25T18:42:53.607Z"
   },
   {
    "duration": 25,
    "start_time": "2022-04-25T18:42:53.663Z"
   },
   {
    "duration": 30,
    "start_time": "2022-04-25T18:42:53.691Z"
   },
   {
    "duration": 9,
    "start_time": "2022-04-25T18:42:53.751Z"
   },
   {
    "duration": 14,
    "start_time": "2022-04-25T18:42:53.763Z"
   },
   {
    "duration": 14223,
    "start_time": "2022-04-25T18:42:53.779Z"
   },
   {
    "duration": 5,
    "start_time": "2022-04-25T18:43:08.004Z"
   },
   {
    "duration": 45,
    "start_time": "2022-04-25T18:43:08.012Z"
   },
   {
    "duration": 19745,
    "start_time": "2022-04-25T18:43:47.960Z"
   },
   {
    "duration": 4,
    "start_time": "2022-04-25T18:44:07.707Z"
   },
   {
    "duration": 42,
    "start_time": "2022-04-25T18:44:07.713Z"
   },
   {
    "duration": 16,
    "start_time": "2022-04-25T18:45:29.160Z"
   },
   {
    "duration": 635,
    "start_time": "2022-04-25T18:45:30.333Z"
   },
   {
    "duration": 13,
    "start_time": "2022-04-25T18:45:54.765Z"
   },
   {
    "duration": 374,
    "start_time": "2022-04-25T18:45:56.191Z"
   },
   {
    "duration": 364,
    "start_time": "2022-04-25T18:46:28.473Z"
   },
   {
    "duration": 344,
    "start_time": "2022-04-25T18:46:34.992Z"
   },
   {
    "duration": 528,
    "start_time": "2022-04-25T18:46:41.378Z"
   },
   {
    "duration": 13,
    "start_time": "2022-04-25T18:46:45.053Z"
   },
   {
    "duration": 511,
    "start_time": "2022-04-25T18:46:49.957Z"
   },
   {
    "duration": 14,
    "start_time": "2022-04-25T18:47:47.278Z"
   },
   {
    "duration": 433,
    "start_time": "2022-04-25T18:47:48.004Z"
   },
   {
    "duration": 476,
    "start_time": "2022-04-25T18:49:24.080Z"
   },
   {
    "duration": 13,
    "start_time": "2022-04-25T18:50:19.439Z"
   },
   {
    "duration": 13,
    "start_time": "2022-04-25T18:56:51.282Z"
   },
   {
    "duration": 407,
    "start_time": "2022-04-25T18:56:52.324Z"
   },
   {
    "duration": 13,
    "start_time": "2022-04-25T19:04:46.949Z"
   },
   {
    "duration": 401,
    "start_time": "2022-04-25T19:04:47.678Z"
   },
   {
    "duration": 380,
    "start_time": "2022-04-25T19:10:32.811Z"
   },
   {
    "duration": 4,
    "start_time": "2022-04-25T19:11:54.929Z"
   },
   {
    "duration": 239,
    "start_time": "2022-04-25T19:11:55.132Z"
   },
   {
    "duration": 284,
    "start_time": "2022-04-25T19:11:55.374Z"
   },
   {
    "duration": 204,
    "start_time": "2022-04-25T19:11:55.662Z"
   },
   {
    "duration": 38,
    "start_time": "2022-04-25T19:11:55.869Z"
   },
   {
    "duration": 59,
    "start_time": "2022-04-25T19:11:55.916Z"
   },
   {
    "duration": 194,
    "start_time": "2022-04-25T19:11:56.708Z"
   },
   {
    "duration": 1043,
    "start_time": "2022-04-25T19:11:56.909Z"
   },
   {
    "duration": 798,
    "start_time": "2022-04-25T19:11:57.955Z"
   },
   {
    "duration": 23,
    "start_time": "2022-04-25T19:11:58.755Z"
   },
   {
    "duration": 117,
    "start_time": "2022-04-25T19:11:58.782Z"
   },
   {
    "duration": 22,
    "start_time": "2022-04-25T19:11:58.902Z"
   },
   {
    "duration": 15929,
    "start_time": "2022-04-25T19:11:58.927Z"
   },
   {
    "duration": 14,
    "start_time": "2022-04-25T19:12:14.858Z"
   },
   {
    "duration": 29,
    "start_time": "2022-04-25T19:12:14.874Z"
   },
   {
    "duration": 53,
    "start_time": "2022-04-25T19:12:14.906Z"
   },
   {
    "duration": 18,
    "start_time": "2022-04-25T19:12:14.961Z"
   },
   {
    "duration": 13,
    "start_time": "2022-04-25T19:12:14.981Z"
   },
   {
    "duration": 14,
    "start_time": "2022-04-25T19:12:14.996Z"
   },
   {
    "duration": 13588,
    "start_time": "2022-04-25T19:12:15.012Z"
   },
   {
    "duration": 4,
    "start_time": "2022-04-25T19:12:36.314Z"
   },
   {
    "duration": 25,
    "start_time": "2022-04-25T19:12:37.134Z"
   },
   {
    "duration": 14,
    "start_time": "2022-04-25T19:15:30.216Z"
   },
   {
    "duration": 13924,
    "start_time": "2022-04-25T19:15:31.736Z"
   },
   {
    "duration": 4,
    "start_time": "2022-04-25T19:15:45.663Z"
   },
   {
    "duration": 28,
    "start_time": "2022-04-25T19:15:45.669Z"
   },
   {
    "duration": 13935,
    "start_time": "2022-04-25T19:16:29.022Z"
   },
   {
    "duration": 0,
    "start_time": "2022-04-25T19:16:42.960Z"
   },
   {
    "duration": 0,
    "start_time": "2022-04-25T19:16:42.961Z"
   },
   {
    "duration": 13953,
    "start_time": "2022-04-25T19:16:59.198Z"
   },
   {
    "duration": 26,
    "start_time": "2022-04-25T19:17:58.203Z"
   },
   {
    "duration": 13985,
    "start_time": "2022-04-25T19:18:11.040Z"
   },
   {
    "duration": 0,
    "start_time": "2022-04-25T19:18:25.028Z"
   },
   {
    "duration": 0,
    "start_time": "2022-04-25T19:18:25.030Z"
   },
   {
    "duration": 5001,
    "start_time": "2022-04-25T19:18:34.211Z"
   },
   {
    "duration": 17,
    "start_time": "2022-04-25T19:24:58.836Z"
   },
   {
    "duration": 2847,
    "start_time": "2022-04-25T19:24:59.463Z"
   },
   {
    "duration": 14,
    "start_time": "2022-04-25T20:10:28.721Z"
   },
   {
    "duration": 5523,
    "start_time": "2022-04-25T20:10:29.349Z"
   },
   {
    "duration": 6279,
    "start_time": "2022-04-25T20:11:04.396Z"
   },
   {
    "duration": 31,
    "start_time": "2022-04-25T20:11:24.549Z"
   },
   {
    "duration": 5623,
    "start_time": "2022-04-25T20:11:48.816Z"
   },
   {
    "duration": 0,
    "start_time": "2022-04-25T20:11:54.441Z"
   },
   {
    "duration": 5335,
    "start_time": "2022-04-25T20:12:05.932Z"
   },
   {
    "duration": 29,
    "start_time": "2022-04-25T20:12:11.428Z"
   },
   {
    "duration": 13,
    "start_time": "2022-04-25T20:13:10.139Z"
   },
   {
    "duration": 3938,
    "start_time": "2022-04-25T20:13:11.295Z"
   },
   {
    "duration": 3,
    "start_time": "2022-04-25T20:13:16.005Z"
   },
   {
    "duration": 32,
    "start_time": "2022-04-25T20:13:17.090Z"
   },
   {
    "duration": 20,
    "start_time": "2022-04-25T20:13:36.739Z"
   },
   {
    "duration": 4931,
    "start_time": "2022-04-25T20:13:37.621Z"
   },
   {
    "duration": 30,
    "start_time": "2022-04-25T20:13:43.684Z"
   },
   {
    "duration": 14,
    "start_time": "2022-04-25T20:14:10.693Z"
   },
   {
    "duration": 35,
    "start_time": "2022-04-25T20:14:10.844Z"
   },
   {
    "duration": 14,
    "start_time": "2022-04-25T20:14:27.580Z"
   },
   {
    "duration": 5139,
    "start_time": "2022-04-25T20:14:28.256Z"
   },
   {
    "duration": 30,
    "start_time": "2022-04-25T20:14:33.397Z"
   },
   {
    "duration": 843,
    "start_time": "2022-04-25T20:14:55.816Z"
   },
   {
    "duration": 237,
    "start_time": "2022-04-25T20:14:56.662Z"
   },
   {
    "duration": 194,
    "start_time": "2022-04-25T20:14:56.901Z"
   },
   {
    "duration": 138,
    "start_time": "2022-04-25T20:14:57.098Z"
   },
   {
    "duration": 35,
    "start_time": "2022-04-25T20:14:57.239Z"
   },
   {
    "duration": 53,
    "start_time": "2022-04-25T20:14:57.277Z"
   },
   {
    "duration": 218,
    "start_time": "2022-04-25T20:14:57.578Z"
   },
   {
    "duration": 1143,
    "start_time": "2022-04-25T20:14:57.800Z"
   },
   {
    "duration": 773,
    "start_time": "2022-04-25T20:14:58.946Z"
   },
   {
    "duration": 34,
    "start_time": "2022-04-25T20:14:59.722Z"
   },
   {
    "duration": 103,
    "start_time": "2022-04-25T20:14:59.759Z"
   },
   {
    "duration": 21,
    "start_time": "2022-04-25T20:14:59.906Z"
   },
   {
    "duration": 14301,
    "start_time": "2022-04-25T20:15:00.736Z"
   },
   {
    "duration": 19,
    "start_time": "2022-04-25T20:15:15.040Z"
   },
   {
    "duration": 30,
    "start_time": "2022-04-25T20:15:15.061Z"
   },
   {
    "duration": 58,
    "start_time": "2022-04-25T20:15:15.094Z"
   },
   {
    "duration": 19,
    "start_time": "2022-04-25T20:15:15.155Z"
   },
   {
    "duration": 13,
    "start_time": "2022-04-25T20:15:15.176Z"
   },
   {
    "duration": 13,
    "start_time": "2022-04-25T20:15:15.191Z"
   },
   {
    "duration": 13695,
    "start_time": "2022-04-25T20:15:15.206Z"
   },
   {
    "duration": 26,
    "start_time": "2022-04-25T20:15:28.904Z"
   },
   {
    "duration": 15191,
    "start_time": "2022-04-25T20:15:54.084Z"
   },
   {
    "duration": 0,
    "start_time": "2022-04-25T20:16:09.278Z"
   },
   {
    "duration": 5494,
    "start_time": "2022-04-25T20:16:30.906Z"
   },
   {
    "duration": 5352,
    "start_time": "2022-04-25T20:17:02.179Z"
   },
   {
    "duration": 29,
    "start_time": "2022-04-25T20:17:10.206Z"
   },
   {
    "duration": 4,
    "start_time": "2022-04-25T20:19:43.248Z"
   },
   {
    "duration": 244,
    "start_time": "2022-04-25T20:19:43.457Z"
   },
   {
    "duration": 216,
    "start_time": "2022-04-25T20:19:43.704Z"
   },
   {
    "duration": 160,
    "start_time": "2022-04-25T20:19:43.923Z"
   },
   {
    "duration": 29,
    "start_time": "2022-04-25T20:19:44.086Z"
   },
   {
    "duration": 39,
    "start_time": "2022-04-25T20:19:44.282Z"
   },
   {
    "duration": 115,
    "start_time": "2022-04-25T20:19:45.062Z"
   },
   {
    "duration": 866,
    "start_time": "2022-04-25T20:19:45.266Z"
   },
   {
    "duration": 1146,
    "start_time": "2022-04-25T20:19:46.135Z"
   },
   {
    "duration": 22,
    "start_time": "2022-04-25T20:19:47.284Z"
   },
   {
    "duration": 116,
    "start_time": "2022-04-25T20:19:47.309Z"
   },
   {
    "duration": 30,
    "start_time": "2022-04-25T20:19:47.428Z"
   },
   {
    "duration": 14432,
    "start_time": "2022-04-25T20:19:47.461Z"
   },
   {
    "duration": 14,
    "start_time": "2022-04-25T20:20:01.896Z"
   },
   {
    "duration": 47,
    "start_time": "2022-04-25T20:20:01.912Z"
   },
   {
    "duration": 28,
    "start_time": "2022-04-25T20:20:01.961Z"
   },
   {
    "duration": 20,
    "start_time": "2022-04-25T20:20:01.992Z"
   },
   {
    "duration": 44,
    "start_time": "2022-04-25T20:20:02.015Z"
   },
   {
    "duration": 27,
    "start_time": "2022-04-25T20:20:02.062Z"
   },
   {
    "duration": 13993,
    "start_time": "2022-04-25T20:20:02.093Z"
   },
   {
    "duration": 24,
    "start_time": "2022-04-25T20:20:16.089Z"
   },
   {
    "duration": 5,
    "start_time": "2022-04-25T20:21:41.523Z"
   },
   {
    "duration": 383,
    "start_time": "2022-04-25T20:21:41.711Z"
   },
   {
    "duration": 270,
    "start_time": "2022-04-25T20:21:42.097Z"
   },
   {
    "duration": 222,
    "start_time": "2022-04-25T20:21:42.371Z"
   },
   {
    "duration": 41,
    "start_time": "2022-04-25T20:21:42.596Z"
   },
   {
    "duration": 43,
    "start_time": "2022-04-25T20:21:42.652Z"
   },
   {
    "duration": 107,
    "start_time": "2022-04-25T20:21:43.759Z"
   },
   {
    "duration": 882,
    "start_time": "2022-04-25T20:21:43.969Z"
   },
   {
    "duration": 842,
    "start_time": "2022-04-25T20:21:44.855Z"
   },
   {
    "duration": 22,
    "start_time": "2022-04-25T20:21:45.699Z"
   },
   {
    "duration": 164,
    "start_time": "2022-04-25T20:21:45.723Z"
   },
   {
    "duration": 23,
    "start_time": "2022-04-25T20:21:45.890Z"
   },
   {
    "duration": 22329,
    "start_time": "2022-04-25T20:21:46.302Z"
   },
   {
    "duration": 20,
    "start_time": "2022-04-25T20:22:08.634Z"
   },
   {
    "duration": 38,
    "start_time": "2022-04-25T20:22:08.657Z"
   },
   {
    "duration": 61,
    "start_time": "2022-04-25T20:22:08.699Z"
   },
   {
    "duration": 28,
    "start_time": "2022-04-25T20:22:08.763Z"
   },
   {
    "duration": 13,
    "start_time": "2022-04-25T20:22:08.793Z"
   },
   {
    "duration": 13,
    "start_time": "2022-04-25T20:22:08.809Z"
   },
   {
    "duration": 16771,
    "start_time": "2022-04-25T20:22:08.852Z"
   },
   {
    "duration": 0,
    "start_time": "2022-04-25T20:22:25.626Z"
   },
   {
    "duration": 34,
    "start_time": "2022-04-25T20:22:32.707Z"
   },
   {
    "duration": 16236,
    "start_time": "2022-04-25T20:22:49.492Z"
   },
   {
    "duration": 49,
    "start_time": "2022-04-25T20:23:05.732Z"
   },
   {
    "duration": 4,
    "start_time": "2022-04-25T21:10:35.875Z"
   },
   {
    "duration": 235,
    "start_time": "2022-04-25T21:10:36.067Z"
   },
   {
    "duration": 211,
    "start_time": "2022-04-25T21:10:36.306Z"
   },
   {
    "duration": 154,
    "start_time": "2022-04-25T21:10:36.520Z"
   },
   {
    "duration": 30,
    "start_time": "2022-04-25T21:10:36.678Z"
   },
   {
    "duration": 39,
    "start_time": "2022-04-25T21:10:36.851Z"
   },
   {
    "duration": 120,
    "start_time": "2022-04-25T21:10:37.632Z"
   },
   {
    "duration": 848,
    "start_time": "2022-04-25T21:10:37.828Z"
   },
   {
    "duration": 774,
    "start_time": "2022-04-25T21:10:38.680Z"
   },
   {
    "duration": 23,
    "start_time": "2022-04-25T21:10:39.457Z"
   },
   {
    "duration": 122,
    "start_time": "2022-04-25T21:10:39.484Z"
   },
   {
    "duration": 22,
    "start_time": "2022-04-25T21:10:39.609Z"
   },
   {
    "duration": 14621,
    "start_time": "2022-04-25T21:10:39.635Z"
   },
   {
    "duration": 16,
    "start_time": "2022-04-25T21:10:54.259Z"
   },
   {
    "duration": 31,
    "start_time": "2022-04-25T21:10:54.277Z"
   },
   {
    "duration": 61,
    "start_time": "2022-04-25T21:10:54.311Z"
   },
   {
    "duration": 20,
    "start_time": "2022-04-25T21:10:54.375Z"
   },
   {
    "duration": 10,
    "start_time": "2022-04-25T21:10:54.398Z"
   },
   {
    "duration": 46,
    "start_time": "2022-04-25T21:10:54.410Z"
   },
   {
    "duration": 4971,
    "start_time": "2022-04-25T21:10:54.458Z"
   },
   {
    "duration": 4,
    "start_time": "2022-04-25T21:10:59.431Z"
   },
   {
    "duration": 41,
    "start_time": "2022-04-25T21:10:59.439Z"
   },
   {
    "duration": 7,
    "start_time": "2022-04-25T21:10:59.482Z"
   },
   {
    "duration": 22,
    "start_time": "2022-04-25T21:10:59.491Z"
   },
   {
    "duration": 3011,
    "start_time": "2022-04-25T21:10:59.515Z"
   },
   {
    "duration": 42,
    "start_time": "2022-04-25T21:11:02.529Z"
   },
   {
    "duration": 28,
    "start_time": "2022-04-25T21:11:02.573Z"
   },
   {
    "duration": 49,
    "start_time": "2022-04-25T21:11:02.603Z"
   },
   {
    "duration": 11,
    "start_time": "2022-04-25T21:11:02.655Z"
   },
   {
    "duration": 8,
    "start_time": "2022-04-25T21:11:02.669Z"
   },
   {
    "duration": 12,
    "start_time": "2022-04-25T21:11:02.679Z"
   },
   {
    "duration": 13,
    "start_time": "2022-04-25T21:11:02.693Z"
   },
   {
    "duration": 47,
    "start_time": "2022-04-25T21:11:02.708Z"
   },
   {
    "duration": 21,
    "start_time": "2022-04-25T21:11:02.758Z"
   },
   {
    "duration": 10,
    "start_time": "2022-04-25T21:11:02.782Z"
   },
   {
    "duration": 20,
    "start_time": "2022-04-25T21:11:02.795Z"
   },
   {
    "duration": 1130,
    "start_time": "2022-04-26T18:59:19.369Z"
   },
   {
    "duration": 261,
    "start_time": "2022-04-26T18:59:20.501Z"
   },
   {
    "duration": 197,
    "start_time": "2022-04-26T18:59:20.764Z"
   },
   {
    "duration": 145,
    "start_time": "2022-04-26T18:59:20.963Z"
   },
   {
    "duration": 27,
    "start_time": "2022-04-26T18:59:21.110Z"
   },
   {
    "duration": 29,
    "start_time": "2022-04-26T18:59:21.262Z"
   },
   {
    "duration": 88,
    "start_time": "2022-04-26T18:59:22.907Z"
   },
   {
    "duration": 492,
    "start_time": "2022-04-26T18:59:23.263Z"
   },
   {
    "duration": 431,
    "start_time": "2022-04-26T18:59:24.057Z"
   },
   {
    "duration": 15,
    "start_time": "2022-04-26T18:59:24.689Z"
   },
   {
    "duration": 82,
    "start_time": "2022-04-26T18:59:25.002Z"
   },
   {
    "duration": 16,
    "start_time": "2022-04-26T18:59:25.317Z"
   },
   {
    "duration": 8886,
    "start_time": "2022-04-26T18:59:27.233Z"
   },
   {
    "duration": 11,
    "start_time": "2022-04-26T18:59:36.121Z"
   },
   {
    "duration": 34,
    "start_time": "2022-04-26T18:59:36.134Z"
   },
   {
    "duration": 16,
    "start_time": "2022-04-26T18:59:36.170Z"
   },
   {
    "duration": 12,
    "start_time": "2022-04-26T18:59:36.188Z"
   },
   {
    "duration": 34,
    "start_time": "2022-04-26T18:59:36.202Z"
   },
   {
    "duration": 10,
    "start_time": "2022-04-26T18:59:36.239Z"
   },
   {
    "duration": 2559,
    "start_time": "2022-04-26T18:59:36.251Z"
   },
   {
    "duration": 3,
    "start_time": "2022-04-26T18:59:38.812Z"
   },
   {
    "duration": 33,
    "start_time": "2022-04-26T18:59:39.572Z"
   },
   {
    "duration": 6,
    "start_time": "2022-04-26T18:59:47.994Z"
   },
   {
    "duration": 20,
    "start_time": "2022-04-26T18:59:50.262Z"
   },
   {
    "duration": 6,
    "start_time": "2022-04-26T19:00:05.050Z"
   },
   {
    "duration": 35,
    "start_time": "2022-04-26T19:00:19.240Z"
   },
   {
    "duration": 30,
    "start_time": "2022-04-26T19:08:17.327Z"
   },
   {
    "duration": 14,
    "start_time": "2022-04-26T19:08:54.568Z"
   },
   {
    "duration": 22,
    "start_time": "2022-04-26T19:11:37.156Z"
   },
   {
    "duration": 2687,
    "start_time": "2022-04-26T19:11:38.823Z"
   },
   {
    "duration": 32,
    "start_time": "2022-04-26T19:11:41.513Z"
   },
   {
    "duration": 26,
    "start_time": "2022-04-26T19:11:41.547Z"
   },
   {
    "duration": 24,
    "start_time": "2022-04-26T19:11:41.576Z"
   },
   {
    "duration": 9,
    "start_time": "2022-04-26T19:11:41.865Z"
   },
   {
    "duration": 8,
    "start_time": "2022-04-26T19:11:42.501Z"
   },
   {
    "duration": 8,
    "start_time": "2022-04-26T19:11:42.677Z"
   },
   {
    "duration": 583,
    "start_time": "2022-04-26T19:11:43.242Z"
   },
   {
    "duration": 91,
    "start_time": "2022-04-26T19:12:09.579Z"
   },
   {
    "duration": 5,
    "start_time": "2022-04-26T19:12:17.823Z"
   },
   {
    "duration": 31,
    "start_time": "2022-04-26T19:12:21.915Z"
   },
   {
    "duration": 9,
    "start_time": "2022-04-26T19:12:47.184Z"
   },
   {
    "duration": 10,
    "start_time": "2022-04-26T19:12:49.688Z"
   },
   {
    "duration": 6,
    "start_time": "2022-04-26T19:12:58.574Z"
   },
   {
    "duration": 5,
    "start_time": "2022-04-26T19:13:34.720Z"
   },
   {
    "duration": 33,
    "start_time": "2022-04-26T19:13:41.523Z"
   },
   {
    "duration": 138,
    "start_time": "2022-04-26T19:16:07.230Z"
   },
   {
    "duration": 117,
    "start_time": "2022-04-26T19:17:49.775Z"
   },
   {
    "duration": 6,
    "start_time": "2022-04-26T19:24:01.163Z"
   },
   {
    "duration": 5,
    "start_time": "2022-04-26T19:27:36.565Z"
   },
   {
    "duration": 7,
    "start_time": "2022-04-26T19:27:41.959Z"
   },
   {
    "duration": 133,
    "start_time": "2022-04-26T19:28:07.364Z"
   },
   {
    "duration": 3,
    "start_time": "2022-04-26T19:28:32.473Z"
   },
   {
    "duration": 6,
    "start_time": "2022-04-26T19:30:03.869Z"
   },
   {
    "duration": 3,
    "start_time": "2022-04-26T19:30:09.503Z"
   },
   {
    "duration": 971,
    "start_time": "2022-04-28T01:01:04.513Z"
   },
   {
    "duration": 179,
    "start_time": "2022-04-28T01:01:05.486Z"
   },
   {
    "duration": 153,
    "start_time": "2022-04-28T01:01:05.667Z"
   },
   {
    "duration": 103,
    "start_time": "2022-04-28T01:01:05.822Z"
   },
   {
    "duration": 20,
    "start_time": "2022-04-28T01:01:05.927Z"
   },
   {
    "duration": 30,
    "start_time": "2022-04-28T01:01:05.955Z"
   },
   {
    "duration": 74,
    "start_time": "2022-04-28T01:01:06.261Z"
   },
   {
    "duration": 440,
    "start_time": "2022-04-28T01:01:06.437Z"
   },
   {
    "duration": 383,
    "start_time": "2022-04-28T01:01:06.879Z"
   },
   {
    "duration": 13,
    "start_time": "2022-04-28T01:01:07.264Z"
   },
   {
    "duration": 77,
    "start_time": "2022-04-28T01:01:07.390Z"
   },
   {
    "duration": 15,
    "start_time": "2022-04-28T01:01:07.570Z"
   },
   {
    "duration": 7721,
    "start_time": "2022-04-28T01:01:08.150Z"
   },
   {
    "duration": 10,
    "start_time": "2022-04-28T01:01:15.873Z"
   },
   {
    "duration": 28,
    "start_time": "2022-04-28T01:01:15.885Z"
   },
   {
    "duration": 16,
    "start_time": "2022-04-28T01:01:15.915Z"
   },
   {
    "duration": 24,
    "start_time": "2022-04-28T01:01:15.933Z"
   },
   {
    "duration": 8,
    "start_time": "2022-04-28T01:01:15.959Z"
   },
   {
    "duration": 9,
    "start_time": "2022-04-28T01:01:15.968Z"
   },
   {
    "duration": 0,
    "start_time": "2022-04-28T01:01:15.979Z"
   },
   {
    "duration": 0,
    "start_time": "2022-04-28T01:01:15.980Z"
   },
   {
    "duration": 0,
    "start_time": "2022-04-28T01:01:15.981Z"
   },
   {
    "duration": 0,
    "start_time": "2022-04-28T01:01:15.982Z"
   },
   {
    "duration": 0,
    "start_time": "2022-04-28T01:01:15.983Z"
   },
   {
    "duration": 0,
    "start_time": "2022-04-28T01:01:15.984Z"
   },
   {
    "duration": 0,
    "start_time": "2022-04-28T01:01:15.985Z"
   },
   {
    "duration": 65,
    "start_time": "2022-04-28T01:01:18.603Z"
   },
   {
    "duration": 8,
    "start_time": "2022-04-28T01:03:09.020Z"
   },
   {
    "duration": 2101,
    "start_time": "2022-04-28T01:03:10.262Z"
   },
   {
    "duration": 3,
    "start_time": "2022-04-28T01:03:13.421Z"
   },
   {
    "duration": 18,
    "start_time": "2022-04-28T01:03:13.739Z"
   },
   {
    "duration": 5,
    "start_time": "2022-04-28T01:03:20.220Z"
   },
   {
    "duration": 19,
    "start_time": "2022-04-28T01:03:20.648Z"
   },
   {
    "duration": 14,
    "start_time": "2022-04-28T01:03:21.104Z"
   },
   {
    "duration": 647,
    "start_time": "2022-04-28T01:05:21.572Z"
   },
   {
    "duration": 167,
    "start_time": "2022-04-28T01:05:22.221Z"
   },
   {
    "duration": 147,
    "start_time": "2022-04-28T01:05:22.389Z"
   },
   {
    "duration": 104,
    "start_time": "2022-04-28T01:05:22.538Z"
   },
   {
    "duration": 22,
    "start_time": "2022-04-28T01:05:22.643Z"
   },
   {
    "duration": 28,
    "start_time": "2022-04-28T01:05:22.667Z"
   },
   {
    "duration": 75,
    "start_time": "2022-04-28T01:05:23.384Z"
   },
   {
    "duration": 438,
    "start_time": "2022-04-28T01:05:23.575Z"
   },
   {
    "duration": 376,
    "start_time": "2022-04-28T01:05:24.043Z"
   },
   {
    "duration": 15,
    "start_time": "2022-04-28T01:05:24.502Z"
   },
   {
    "duration": 74,
    "start_time": "2022-04-28T01:05:24.745Z"
   },
   {
    "duration": 14,
    "start_time": "2022-04-28T01:05:24.955Z"
   },
   {
    "duration": 7540,
    "start_time": "2022-04-28T01:05:25.666Z"
   },
   {
    "duration": 9,
    "start_time": "2022-04-28T01:05:33.208Z"
   },
   {
    "duration": 24,
    "start_time": "2022-04-28T01:05:33.218Z"
   },
   {
    "duration": 24,
    "start_time": "2022-04-28T01:05:33.244Z"
   },
   {
    "duration": 12,
    "start_time": "2022-04-28T01:05:33.269Z"
   },
   {
    "duration": 7,
    "start_time": "2022-04-28T01:05:33.283Z"
   },
   {
    "duration": 8,
    "start_time": "2022-04-28T01:05:33.292Z"
   },
   {
    "duration": 2178,
    "start_time": "2022-04-28T01:05:33.302Z"
   },
   {
    "duration": 4,
    "start_time": "2022-04-28T01:05:35.482Z"
   },
   {
    "duration": 22,
    "start_time": "2022-04-28T01:05:35.488Z"
   },
   {
    "duration": 5,
    "start_time": "2022-04-28T01:05:35.511Z"
   },
   {
    "duration": 40,
    "start_time": "2022-04-28T01:05:35.517Z"
   },
   {
    "duration": 15,
    "start_time": "2022-04-28T01:05:35.728Z"
   },
   {
    "duration": 1581,
    "start_time": "2022-04-28T01:10:42.674Z"
   },
   {
    "duration": 18,
    "start_time": "2022-04-28T01:10:44.256Z"
   },
   {
    "duration": 20,
    "start_time": "2022-04-28T01:10:44.275Z"
   },
   {
    "duration": 14,
    "start_time": "2022-04-28T01:10:44.297Z"
   },
   {
    "duration": 8,
    "start_time": "2022-04-28T01:10:45.327Z"
   },
   {
    "duration": 6,
    "start_time": "2022-04-28T01:10:45.941Z"
   },
   {
    "duration": 8,
    "start_time": "2022-04-28T01:10:46.140Z"
   },
   {
    "duration": 458,
    "start_time": "2022-04-28T01:10:46.781Z"
   },
   {
    "duration": 6,
    "start_time": "2022-04-28T01:10:47.691Z"
   },
   {
    "duration": 14,
    "start_time": "2022-04-28T01:10:48.398Z"
   },
   {
    "duration": 7,
    "start_time": "2022-04-28T01:10:48.656Z"
   },
   {
    "duration": 7,
    "start_time": "2022-04-28T01:10:49.310Z"
   },
   {
    "duration": 9,
    "start_time": "2022-04-28T01:19:50.367Z"
   },
   {
    "duration": 2114,
    "start_time": "2022-04-28T01:19:51.242Z"
   },
   {
    "duration": 2,
    "start_time": "2022-04-28T01:19:53.358Z"
   },
   {
    "duration": 54,
    "start_time": "2022-04-28T01:19:53.361Z"
   },
   {
    "duration": 4,
    "start_time": "2022-04-28T01:19:59.845Z"
   },
   {
    "duration": 19,
    "start_time": "2022-04-28T01:20:00.474Z"
   },
   {
    "duration": 21,
    "start_time": "2022-04-28T01:20:12.865Z"
   },
   {
    "duration": 19,
    "start_time": "2022-04-28T01:21:45.574Z"
   },
   {
    "duration": 4,
    "start_time": "2022-04-28T01:22:58.882Z"
   },
   {
    "duration": 20,
    "start_time": "2022-04-28T01:23:00.526Z"
   },
   {
    "duration": 9,
    "start_time": "2022-04-28T01:26:45.140Z"
   },
   {
    "duration": 3193,
    "start_time": "2022-04-28T01:26:46.659Z"
   },
   {
    "duration": 3,
    "start_time": "2022-04-28T01:26:51.242Z"
   },
   {
    "duration": 21,
    "start_time": "2022-04-28T01:26:52.225Z"
   },
   {
    "duration": 4,
    "start_time": "2022-04-28T01:26:55.267Z"
   },
   {
    "duration": 20,
    "start_time": "2022-04-28T01:26:55.798Z"
   },
   {
    "duration": 13,
    "start_time": "2022-04-28T01:27:02.601Z"
   },
   {
    "duration": 1446,
    "start_time": "2022-04-28T01:27:23.794Z"
   },
   {
    "duration": 16,
    "start_time": "2022-04-28T01:27:25.583Z"
   },
   {
    "duration": 17,
    "start_time": "2022-04-28T01:27:26.857Z"
   },
   {
    "duration": 15,
    "start_time": "2022-04-28T01:27:27.077Z"
   },
   {
    "duration": 7,
    "start_time": "2022-04-28T01:27:28.943Z"
   },
   {
    "duration": 6,
    "start_time": "2022-04-28T01:27:29.737Z"
   },
   {
    "duration": 7,
    "start_time": "2022-04-28T01:27:30.011Z"
   },
   {
    "duration": 8,
    "start_time": "2022-04-28T01:27:30.729Z"
   },
   {
    "duration": 6,
    "start_time": "2022-04-28T01:27:32.734Z"
   },
   {
    "duration": 13,
    "start_time": "2022-04-28T01:27:33.676Z"
   },
   {
    "duration": 7,
    "start_time": "2022-04-28T01:27:34.270Z"
   },
   {
    "duration": 8,
    "start_time": "2022-04-28T01:27:35.503Z"
   },
   {
    "duration": 870,
    "start_time": "2022-04-29T15:14:23.739Z"
   },
   {
    "duration": 188,
    "start_time": "2022-04-29T15:14:24.611Z"
   },
   {
    "duration": 157,
    "start_time": "2022-04-29T15:14:24.801Z"
   },
   {
    "duration": 114,
    "start_time": "2022-04-29T15:14:24.960Z"
   },
   {
    "duration": 26,
    "start_time": "2022-04-29T15:14:25.076Z"
   },
   {
    "duration": 49,
    "start_time": "2022-04-29T15:14:25.358Z"
   },
   {
    "duration": 82,
    "start_time": "2022-04-29T15:14:26.857Z"
   },
   {
    "duration": 531,
    "start_time": "2022-04-29T15:14:27.288Z"
   },
   {
    "duration": 473,
    "start_time": "2022-04-29T15:14:28.359Z"
   },
   {
    "duration": 16,
    "start_time": "2022-04-29T15:14:29.435Z"
   },
   {
    "duration": 76,
    "start_time": "2022-04-29T15:14:29.837Z"
   },
   {
    "duration": 16,
    "start_time": "2022-04-29T15:14:30.288Z"
   },
   {
    "duration": 8370,
    "start_time": "2022-04-29T15:14:31.648Z"
   },
   {
    "duration": 14,
    "start_time": "2022-04-29T15:14:40.021Z"
   },
   {
    "duration": 23,
    "start_time": "2022-04-29T15:14:40.037Z"
   },
   {
    "duration": 20,
    "start_time": "2022-04-29T15:14:40.063Z"
   },
   {
    "duration": 15,
    "start_time": "2022-04-29T15:14:40.085Z"
   },
   {
    "duration": 7,
    "start_time": "2022-04-29T15:14:41.996Z"
   },
   {
    "duration": 9,
    "start_time": "2022-04-29T15:14:45.764Z"
   },
   {
    "duration": 3720,
    "start_time": "2022-04-29T15:14:47.356Z"
   },
   {
    "duration": 3,
    "start_time": "2022-04-29T15:14:51.795Z"
   },
   {
    "duration": 24,
    "start_time": "2022-04-29T15:14:52.206Z"
   },
   {
    "duration": 5,
    "start_time": "2022-04-29T15:14:58.727Z"
   },
   {
    "duration": 23,
    "start_time": "2022-04-29T15:14:59.587Z"
   },
   {
    "duration": 24,
    "start_time": "2022-04-29T15:15:08.521Z"
   },
   {
    "duration": 5,
    "start_time": "2022-04-29T15:15:17.940Z"
   },
   {
    "duration": 23,
    "start_time": "2022-04-29T15:15:21.525Z"
   },
   {
    "duration": 22,
    "start_time": "2022-04-29T15:18:18.358Z"
   },
   {
    "duration": 9,
    "start_time": "2022-04-29T15:19:00.350Z"
   },
   {
    "duration": 85,
    "start_time": "2022-04-29T15:19:06.895Z"
   },
   {
    "duration": 55,
    "start_time": "2022-04-29T15:19:14.291Z"
   },
   {
    "duration": 450,
    "start_time": "2022-04-29T15:19:40.827Z"
   },
   {
    "duration": 9,
    "start_time": "2022-04-29T15:19:48.328Z"
   },
   {
    "duration": 443,
    "start_time": "2022-04-29T15:19:49.968Z"
   },
   {
    "duration": 10,
    "start_time": "2022-04-29T15:20:53.311Z"
   },
   {
    "duration": 1975,
    "start_time": "2022-04-29T15:21:00.447Z"
   },
   {
    "duration": 14,
    "start_time": "2022-04-29T15:21:02.424Z"
   },
   {
    "duration": 399,
    "start_time": "2022-04-29T15:21:02.439Z"
   },
   {
    "duration": 20,
    "start_time": "2022-04-29T15:21:03.835Z"
   },
   {
    "duration": 21,
    "start_time": "2022-04-29T15:21:05.231Z"
   },
   {
    "duration": 104,
    "start_time": "2022-04-29T15:21:05.935Z"
   },
   {
    "duration": 8,
    "start_time": "2022-04-29T15:21:11.158Z"
   },
   {
    "duration": 5,
    "start_time": "2022-04-29T15:21:12.605Z"
   },
   {
    "duration": 170,
    "start_time": "2022-04-29T15:23:28.749Z"
   },
   {
    "duration": 1045,
    "start_time": "2022-04-29T15:25:13.386Z"
   },
   {
    "duration": 75,
    "start_time": "2022-04-30T08:01:01.024Z"
   },
   {
    "duration": 1703,
    "start_time": "2022-04-30T08:02:09.953Z"
   },
   {
    "duration": 402,
    "start_time": "2022-04-30T08:02:11.660Z"
   },
   {
    "duration": 341,
    "start_time": "2022-04-30T08:02:12.065Z"
   },
   {
    "duration": 148,
    "start_time": "2022-04-30T08:02:12.409Z"
   },
   {
    "duration": 42,
    "start_time": "2022-04-30T08:02:12.559Z"
   },
   {
    "duration": 56,
    "start_time": "2022-04-30T08:02:12.604Z"
   },
   {
    "duration": 214,
    "start_time": "2022-04-30T08:02:12.663Z"
   },
   {
    "duration": 1601,
    "start_time": "2022-04-30T08:02:12.880Z"
   },
   {
    "duration": 1389,
    "start_time": "2022-04-30T08:02:14.484Z"
   },
   {
    "duration": 33,
    "start_time": "2022-04-30T08:02:15.882Z"
   },
   {
    "duration": 184,
    "start_time": "2022-04-30T08:02:15.918Z"
   },
   {
    "duration": 24,
    "start_time": "2022-04-30T08:02:16.105Z"
   },
   {
    "duration": 15205,
    "start_time": "2022-04-30T08:02:16.131Z"
   },
   {
    "duration": 15,
    "start_time": "2022-04-30T08:02:31.339Z"
   },
   {
    "duration": 51,
    "start_time": "2022-04-30T08:02:31.356Z"
   },
   {
    "duration": 27,
    "start_time": "2022-04-30T08:02:31.409Z"
   },
   {
    "duration": 44,
    "start_time": "2022-04-30T08:02:31.439Z"
   },
   {
    "duration": 20,
    "start_time": "2022-04-30T08:02:31.486Z"
   },
   {
    "duration": 21,
    "start_time": "2022-04-30T08:02:31.511Z"
   },
   {
    "duration": 6895,
    "start_time": "2022-04-30T08:02:31.534Z"
   },
   {
    "duration": 5,
    "start_time": "2022-04-30T08:02:38.432Z"
   },
   {
    "duration": 49,
    "start_time": "2022-04-30T08:02:38.439Z"
   },
   {
    "duration": 6,
    "start_time": "2022-04-30T08:02:38.490Z"
   },
   {
    "duration": 38,
    "start_time": "2022-04-30T08:02:38.499Z"
   },
   {
    "duration": 47,
    "start_time": "2022-04-30T08:02:38.540Z"
   },
   {
    "duration": 2981,
    "start_time": "2022-04-30T08:02:38.589Z"
   },
   {
    "duration": 16,
    "start_time": "2022-04-30T08:02:41.573Z"
   },
   {
    "duration": 635,
    "start_time": "2022-04-30T08:02:41.591Z"
   },
   {
    "duration": 30,
    "start_time": "2022-04-30T08:02:42.228Z"
   },
   {
    "duration": 44,
    "start_time": "2022-04-30T08:02:42.260Z"
   },
   {
    "duration": 27,
    "start_time": "2022-04-30T08:02:42.306Z"
   },
   {
    "duration": 10,
    "start_time": "2022-04-30T08:02:42.335Z"
   },
   {
    "duration": 41,
    "start_time": "2022-04-30T08:02:42.347Z"
   },
   {
    "duration": 12,
    "start_time": "2022-04-30T08:02:42.390Z"
   },
   {
    "duration": 871,
    "start_time": "2022-04-30T08:02:42.404Z"
   },
   {
    "duration": 10,
    "start_time": "2022-04-30T08:02:43.283Z"
   },
   {
    "duration": 37,
    "start_time": "2022-04-30T08:02:43.296Z"
   },
   {
    "duration": 13,
    "start_time": "2022-04-30T08:02:43.336Z"
   },
   {
    "duration": 40,
    "start_time": "2022-04-30T08:02:43.352Z"
   },
   {
    "duration": 818,
    "start_time": "2022-05-01T08:56:45.581Z"
   },
   {
    "duration": 244,
    "start_time": "2022-05-01T08:56:46.402Z"
   },
   {
    "duration": 205,
    "start_time": "2022-05-01T08:56:46.648Z"
   },
   {
    "duration": 143,
    "start_time": "2022-05-01T08:56:46.855Z"
   },
   {
    "duration": 30,
    "start_time": "2022-05-01T08:56:47.261Z"
   },
   {
    "duration": 39,
    "start_time": "2022-05-01T08:56:47.678Z"
   },
   {
    "duration": 112,
    "start_time": "2022-05-01T08:56:49.300Z"
   },
   {
    "duration": 854,
    "start_time": "2022-05-01T08:56:49.665Z"
   },
   {
    "duration": 773,
    "start_time": "2022-05-01T08:56:51.387Z"
   },
   {
    "duration": 23,
    "start_time": "2022-05-01T08:56:52.219Z"
   },
   {
    "duration": 92,
    "start_time": "2022-05-01T08:56:52.774Z"
   },
   {
    "duration": 22,
    "start_time": "2022-05-01T08:56:53.234Z"
   },
   {
    "duration": 14269,
    "start_time": "2022-05-01T08:56:54.443Z"
   },
   {
    "duration": 14,
    "start_time": "2022-05-01T08:57:08.714Z"
   },
   {
    "duration": 44,
    "start_time": "2022-05-01T08:57:08.730Z"
   },
   {
    "duration": 24,
    "start_time": "2022-05-01T08:57:08.776Z"
   },
   {
    "duration": 30,
    "start_time": "2022-05-01T08:57:08.803Z"
   },
   {
    "duration": 9,
    "start_time": "2022-05-01T08:57:08.852Z"
   },
   {
    "duration": 13,
    "start_time": "2022-05-01T08:57:12.985Z"
   },
   {
    "duration": 7174,
    "start_time": "2022-05-01T08:57:16.451Z"
   },
   {
    "duration": 33,
    "start_time": "2022-05-01T08:57:36.848Z"
   },
   {
    "duration": 121,
    "start_time": "2022-05-01T08:57:52.684Z"
   },
   {
    "duration": 13,
    "start_time": "2022-05-01T08:58:01.650Z"
   },
   {
    "duration": 6761,
    "start_time": "2022-05-01T08:58:02.875Z"
   },
   {
    "duration": 5,
    "start_time": "2022-05-01T08:58:09.639Z"
   },
   {
    "duration": 53,
    "start_time": "2022-05-01T08:58:09.651Z"
   },
   {
    "duration": 6,
    "start_time": "2022-05-01T08:58:15.409Z"
   },
   {
    "duration": 8,
    "start_time": "2022-05-01T08:58:17.218Z"
   },
   {
    "duration": 33,
    "start_time": "2022-05-01T08:58:22.305Z"
   },
   {
    "duration": 12,
    "start_time": "2022-05-01T08:59:24.821Z"
   },
   {
    "duration": 552,
    "start_time": "2022-05-01T08:59:25.881Z"
   }
  ],
  "kernelspec": {
   "display_name": "Python 3 (ipykernel)",
   "language": "python",
   "name": "python3"
  },
  "language_info": {
   "codemirror_mode": {
    "name": "ipython",
    "version": 3
   },
   "file_extension": ".py",
   "mimetype": "text/x-python",
   "name": "python",
   "nbconvert_exporter": "python",
   "pygments_lexer": "ipython3",
   "version": "3.9.7"
  },
  "toc": {
   "base_numbering": 1,
   "nav_menu": {},
   "number_sections": true,
   "sideBar": true,
   "skip_h1_title": true,
   "title_cell": "Table of Contents",
   "title_sidebar": "Contents",
   "toc_cell": false,
   "toc_position": {
    "height": "calc(100% - 180px)",
    "left": "10px",
    "top": "150px",
    "width": "244.441px"
   },
   "toc_section_display": true,
   "toc_window_display": false
  }
 },
 "nbformat": 4,
 "nbformat_minor": 5
}
