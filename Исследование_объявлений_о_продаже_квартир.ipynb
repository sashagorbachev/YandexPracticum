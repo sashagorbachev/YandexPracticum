{
 "cells": [
  {
   "cell_type": "markdown",
   "metadata": {
    "toc": true
   },
   "source": [
    "<h1>Содержание<span class=\"tocSkip\"></span></h1>\n",
    "<div class=\"toc\"><ul class=\"toc-item\"><li><span><a href=\"#Изучение-данных-из-файла\" data-toc-modified-id=\"Изучение-данных-из-файла-1\"><span class=\"toc-item-num\">1&nbsp;&nbsp;</span>Изучение данных из файла</a></span><ul class=\"toc-item\"><li><span><a href=\"#Вывод\" data-toc-modified-id=\"Вывод-1.1\"><span class=\"toc-item-num\">1.1&nbsp;&nbsp;</span>Вывод</a></span></li></ul></li><li><span><a href=\"#Предобработка-данных\" data-toc-modified-id=\"Предобработка-данных-2\"><span class=\"toc-item-num\">2&nbsp;&nbsp;</span>Предобработка данных</a></span></li><li><span><a href=\"#Расчёты-и-добавление-результатов-в-таблицу\" data-toc-modified-id=\"Расчёты-и-добавление-результатов-в-таблицу-3\"><span class=\"toc-item-num\">3&nbsp;&nbsp;</span>Расчёты и добавление результатов в таблицу</a></span></li><li><span><a href=\"#Исследовательский-анализ-данных\" data-toc-modified-id=\"Исследовательский-анализ-данных-4\"><span class=\"toc-item-num\">4&nbsp;&nbsp;</span>Исследовательский анализ данных</a></span></li><li><span><a href=\"#Общий-вывод\" data-toc-modified-id=\"Общий-вывод-5\"><span class=\"toc-item-num\">5&nbsp;&nbsp;</span>Общий вывод</a></span></li><li><span><a href=\"#Чек-лист-готовности-проекта\" data-toc-modified-id=\"Чек-лист-готовности-проекта-6\"><span class=\"toc-item-num\">6&nbsp;&nbsp;</span>Чек-лист готовности проекта</a></span></li></ul></div>"
   ]
  },
  {
   "cell_type": "markdown",
   "metadata": {},
   "source": [
    "# Исследование объявлений о продаже квартир\n",
    "\n",
    "В вашем распоряжении данные сервиса Яндекc Недвижимость — архив объявлений о продаже квартир в Санкт-Петербурге и соседних населённых пунктах за несколько лет. Нужно научиться определять рыночную стоимость объектов недвижимости. Ваша задача — установить параметры. Это позволит построить автоматизированную систему: она отследит аномалии и мошенническую деятельность. \n",
    "\n",
    "По каждой квартире на продажу доступны два вида данных. Первые вписаны пользователем, вторые получены автоматически на основе картографических данных. Например, расстояние до центра, аэропорта, ближайшего парка и водоёма. "
   ]
  },
  {
   "cell_type": "markdown",
   "metadata": {},
   "source": [
    "## Изучение данных из файла"
   ]
  },
  {
   "cell_type": "code",
   "execution_count": 1,
   "metadata": {},
   "outputs": [],
   "source": [
    "import pandas as pd\n",
    "import seaborn as sns\n",
    "import matplotlib.pyplot as plt\n",
    "import warnings\n",
    "warnings.filterwarnings(\"ignore\")"
   ]
  },
  {
   "cell_type": "code",
   "execution_count": 2,
   "metadata": {
    "scrolled": true
   },
   "outputs": [
    {
     "data": {
      "text/html": [
       "<div>\n",
       "<style scoped>\n",
       "    .dataframe tbody tr th:only-of-type {\n",
       "        vertical-align: middle;\n",
       "    }\n",
       "\n",
       "    .dataframe tbody tr th {\n",
       "        vertical-align: top;\n",
       "    }\n",
       "\n",
       "    .dataframe thead th {\n",
       "        text-align: right;\n",
       "    }\n",
       "</style>\n",
       "<table border=\"1\" class=\"dataframe\">\n",
       "  <thead>\n",
       "    <tr style=\"text-align: right;\">\n",
       "      <th></th>\n",
       "      <th>total_images</th>\n",
       "      <th>last_price</th>\n",
       "      <th>total_area</th>\n",
       "      <th>first_day_exposition</th>\n",
       "      <th>rooms</th>\n",
       "      <th>ceiling_height</th>\n",
       "      <th>floors_total</th>\n",
       "      <th>living_area</th>\n",
       "      <th>floor</th>\n",
       "      <th>is_apartment</th>\n",
       "      <th>...</th>\n",
       "      <th>kitchen_area</th>\n",
       "      <th>balcony</th>\n",
       "      <th>locality_name</th>\n",
       "      <th>airports_nearest</th>\n",
       "      <th>cityCenters_nearest</th>\n",
       "      <th>parks_around3000</th>\n",
       "      <th>parks_nearest</th>\n",
       "      <th>ponds_around3000</th>\n",
       "      <th>ponds_nearest</th>\n",
       "      <th>days_exposition</th>\n",
       "    </tr>\n",
       "  </thead>\n",
       "  <tbody>\n",
       "    <tr>\n",
       "      <th>0</th>\n",
       "      <td>20</td>\n",
       "      <td>13000000.0</td>\n",
       "      <td>108.00</td>\n",
       "      <td>2019-03-07T00:00:00</td>\n",
       "      <td>3</td>\n",
       "      <td>2.70</td>\n",
       "      <td>16.0</td>\n",
       "      <td>51.00</td>\n",
       "      <td>8</td>\n",
       "      <td>NaN</td>\n",
       "      <td>...</td>\n",
       "      <td>25.00</td>\n",
       "      <td>NaN</td>\n",
       "      <td>Санкт-Петербург</td>\n",
       "      <td>18863.0</td>\n",
       "      <td>16028.0</td>\n",
       "      <td>1.0</td>\n",
       "      <td>482.0</td>\n",
       "      <td>2.0</td>\n",
       "      <td>755.0</td>\n",
       "      <td>NaN</td>\n",
       "    </tr>\n",
       "    <tr>\n",
       "      <th>1</th>\n",
       "      <td>7</td>\n",
       "      <td>3350000.0</td>\n",
       "      <td>40.40</td>\n",
       "      <td>2018-12-04T00:00:00</td>\n",
       "      <td>1</td>\n",
       "      <td>NaN</td>\n",
       "      <td>11.0</td>\n",
       "      <td>18.60</td>\n",
       "      <td>1</td>\n",
       "      <td>NaN</td>\n",
       "      <td>...</td>\n",
       "      <td>11.00</td>\n",
       "      <td>2.0</td>\n",
       "      <td>посёлок Шушары</td>\n",
       "      <td>12817.0</td>\n",
       "      <td>18603.0</td>\n",
       "      <td>0.0</td>\n",
       "      <td>NaN</td>\n",
       "      <td>0.0</td>\n",
       "      <td>NaN</td>\n",
       "      <td>81.0</td>\n",
       "    </tr>\n",
       "    <tr>\n",
       "      <th>2</th>\n",
       "      <td>10</td>\n",
       "      <td>5196000.0</td>\n",
       "      <td>56.00</td>\n",
       "      <td>2015-08-20T00:00:00</td>\n",
       "      <td>2</td>\n",
       "      <td>NaN</td>\n",
       "      <td>5.0</td>\n",
       "      <td>34.30</td>\n",
       "      <td>4</td>\n",
       "      <td>NaN</td>\n",
       "      <td>...</td>\n",
       "      <td>8.30</td>\n",
       "      <td>0.0</td>\n",
       "      <td>Санкт-Петербург</td>\n",
       "      <td>21741.0</td>\n",
       "      <td>13933.0</td>\n",
       "      <td>1.0</td>\n",
       "      <td>90.0</td>\n",
       "      <td>2.0</td>\n",
       "      <td>574.0</td>\n",
       "      <td>558.0</td>\n",
       "    </tr>\n",
       "    <tr>\n",
       "      <th>3</th>\n",
       "      <td>0</td>\n",
       "      <td>64900000.0</td>\n",
       "      <td>159.00</td>\n",
       "      <td>2015-07-24T00:00:00</td>\n",
       "      <td>3</td>\n",
       "      <td>NaN</td>\n",
       "      <td>14.0</td>\n",
       "      <td>NaN</td>\n",
       "      <td>9</td>\n",
       "      <td>NaN</td>\n",
       "      <td>...</td>\n",
       "      <td>NaN</td>\n",
       "      <td>0.0</td>\n",
       "      <td>Санкт-Петербург</td>\n",
       "      <td>28098.0</td>\n",
       "      <td>6800.0</td>\n",
       "      <td>2.0</td>\n",
       "      <td>84.0</td>\n",
       "      <td>3.0</td>\n",
       "      <td>234.0</td>\n",
       "      <td>424.0</td>\n",
       "    </tr>\n",
       "    <tr>\n",
       "      <th>4</th>\n",
       "      <td>2</td>\n",
       "      <td>10000000.0</td>\n",
       "      <td>100.00</td>\n",
       "      <td>2018-06-19T00:00:00</td>\n",
       "      <td>2</td>\n",
       "      <td>3.03</td>\n",
       "      <td>14.0</td>\n",
       "      <td>32.00</td>\n",
       "      <td>13</td>\n",
       "      <td>NaN</td>\n",
       "      <td>...</td>\n",
       "      <td>41.00</td>\n",
       "      <td>NaN</td>\n",
       "      <td>Санкт-Петербург</td>\n",
       "      <td>31856.0</td>\n",
       "      <td>8098.0</td>\n",
       "      <td>2.0</td>\n",
       "      <td>112.0</td>\n",
       "      <td>1.0</td>\n",
       "      <td>48.0</td>\n",
       "      <td>121.0</td>\n",
       "    </tr>\n",
       "    <tr>\n",
       "      <th>5</th>\n",
       "      <td>10</td>\n",
       "      <td>2890000.0</td>\n",
       "      <td>30.40</td>\n",
       "      <td>2018-09-10T00:00:00</td>\n",
       "      <td>1</td>\n",
       "      <td>NaN</td>\n",
       "      <td>12.0</td>\n",
       "      <td>14.40</td>\n",
       "      <td>5</td>\n",
       "      <td>NaN</td>\n",
       "      <td>...</td>\n",
       "      <td>9.10</td>\n",
       "      <td>NaN</td>\n",
       "      <td>городской посёлок Янино-1</td>\n",
       "      <td>NaN</td>\n",
       "      <td>NaN</td>\n",
       "      <td>NaN</td>\n",
       "      <td>NaN</td>\n",
       "      <td>NaN</td>\n",
       "      <td>NaN</td>\n",
       "      <td>55.0</td>\n",
       "    </tr>\n",
       "    <tr>\n",
       "      <th>6</th>\n",
       "      <td>6</td>\n",
       "      <td>3700000.0</td>\n",
       "      <td>37.30</td>\n",
       "      <td>2017-11-02T00:00:00</td>\n",
       "      <td>1</td>\n",
       "      <td>NaN</td>\n",
       "      <td>26.0</td>\n",
       "      <td>10.60</td>\n",
       "      <td>6</td>\n",
       "      <td>NaN</td>\n",
       "      <td>...</td>\n",
       "      <td>14.40</td>\n",
       "      <td>1.0</td>\n",
       "      <td>посёлок Парголово</td>\n",
       "      <td>52996.0</td>\n",
       "      <td>19143.0</td>\n",
       "      <td>0.0</td>\n",
       "      <td>NaN</td>\n",
       "      <td>0.0</td>\n",
       "      <td>NaN</td>\n",
       "      <td>155.0</td>\n",
       "    </tr>\n",
       "    <tr>\n",
       "      <th>7</th>\n",
       "      <td>5</td>\n",
       "      <td>7915000.0</td>\n",
       "      <td>71.60</td>\n",
       "      <td>2019-04-18T00:00:00</td>\n",
       "      <td>2</td>\n",
       "      <td>NaN</td>\n",
       "      <td>24.0</td>\n",
       "      <td>NaN</td>\n",
       "      <td>22</td>\n",
       "      <td>NaN</td>\n",
       "      <td>...</td>\n",
       "      <td>18.90</td>\n",
       "      <td>2.0</td>\n",
       "      <td>Санкт-Петербург</td>\n",
       "      <td>23982.0</td>\n",
       "      <td>11634.0</td>\n",
       "      <td>0.0</td>\n",
       "      <td>NaN</td>\n",
       "      <td>0.0</td>\n",
       "      <td>NaN</td>\n",
       "      <td>NaN</td>\n",
       "    </tr>\n",
       "    <tr>\n",
       "      <th>8</th>\n",
       "      <td>20</td>\n",
       "      <td>2900000.0</td>\n",
       "      <td>33.16</td>\n",
       "      <td>2018-05-23T00:00:00</td>\n",
       "      <td>1</td>\n",
       "      <td>NaN</td>\n",
       "      <td>27.0</td>\n",
       "      <td>15.43</td>\n",
       "      <td>26</td>\n",
       "      <td>NaN</td>\n",
       "      <td>...</td>\n",
       "      <td>8.81</td>\n",
       "      <td>NaN</td>\n",
       "      <td>посёлок Мурино</td>\n",
       "      <td>NaN</td>\n",
       "      <td>NaN</td>\n",
       "      <td>NaN</td>\n",
       "      <td>NaN</td>\n",
       "      <td>NaN</td>\n",
       "      <td>NaN</td>\n",
       "      <td>189.0</td>\n",
       "    </tr>\n",
       "    <tr>\n",
       "      <th>9</th>\n",
       "      <td>18</td>\n",
       "      <td>5400000.0</td>\n",
       "      <td>61.00</td>\n",
       "      <td>2017-02-26T00:00:00</td>\n",
       "      <td>3</td>\n",
       "      <td>2.50</td>\n",
       "      <td>9.0</td>\n",
       "      <td>43.60</td>\n",
       "      <td>7</td>\n",
       "      <td>NaN</td>\n",
       "      <td>...</td>\n",
       "      <td>6.50</td>\n",
       "      <td>2.0</td>\n",
       "      <td>Санкт-Петербург</td>\n",
       "      <td>50898.0</td>\n",
       "      <td>15008.0</td>\n",
       "      <td>0.0</td>\n",
       "      <td>NaN</td>\n",
       "      <td>0.0</td>\n",
       "      <td>NaN</td>\n",
       "      <td>289.0</td>\n",
       "    </tr>\n",
       "    <tr>\n",
       "      <th>10</th>\n",
       "      <td>5</td>\n",
       "      <td>5050000.0</td>\n",
       "      <td>39.60</td>\n",
       "      <td>2017-11-16T00:00:00</td>\n",
       "      <td>1</td>\n",
       "      <td>2.67</td>\n",
       "      <td>12.0</td>\n",
       "      <td>20.30</td>\n",
       "      <td>3</td>\n",
       "      <td>NaN</td>\n",
       "      <td>...</td>\n",
       "      <td>8.50</td>\n",
       "      <td>NaN</td>\n",
       "      <td>Санкт-Петербург</td>\n",
       "      <td>38357.0</td>\n",
       "      <td>13878.0</td>\n",
       "      <td>1.0</td>\n",
       "      <td>310.0</td>\n",
       "      <td>2.0</td>\n",
       "      <td>553.0</td>\n",
       "      <td>137.0</td>\n",
       "    </tr>\n",
       "    <tr>\n",
       "      <th>11</th>\n",
       "      <td>9</td>\n",
       "      <td>3300000.0</td>\n",
       "      <td>44.00</td>\n",
       "      <td>2018-08-27T00:00:00</td>\n",
       "      <td>2</td>\n",
       "      <td>NaN</td>\n",
       "      <td>5.0</td>\n",
       "      <td>31.00</td>\n",
       "      <td>4</td>\n",
       "      <td>False</td>\n",
       "      <td>...</td>\n",
       "      <td>6.00</td>\n",
       "      <td>1.0</td>\n",
       "      <td>Ломоносов</td>\n",
       "      <td>48252.0</td>\n",
       "      <td>51677.0</td>\n",
       "      <td>0.0</td>\n",
       "      <td>NaN</td>\n",
       "      <td>0.0</td>\n",
       "      <td>NaN</td>\n",
       "      <td>7.0</td>\n",
       "    </tr>\n",
       "    <tr>\n",
       "      <th>12</th>\n",
       "      <td>10</td>\n",
       "      <td>3890000.0</td>\n",
       "      <td>54.00</td>\n",
       "      <td>2016-06-30T00:00:00</td>\n",
       "      <td>2</td>\n",
       "      <td>NaN</td>\n",
       "      <td>5.0</td>\n",
       "      <td>30.00</td>\n",
       "      <td>5</td>\n",
       "      <td>NaN</td>\n",
       "      <td>...</td>\n",
       "      <td>9.00</td>\n",
       "      <td>0.0</td>\n",
       "      <td>Сертолово</td>\n",
       "      <td>NaN</td>\n",
       "      <td>NaN</td>\n",
       "      <td>NaN</td>\n",
       "      <td>NaN</td>\n",
       "      <td>NaN</td>\n",
       "      <td>NaN</td>\n",
       "      <td>90.0</td>\n",
       "    </tr>\n",
       "    <tr>\n",
       "      <th>13</th>\n",
       "      <td>20</td>\n",
       "      <td>3550000.0</td>\n",
       "      <td>42.80</td>\n",
       "      <td>2017-07-01T00:00:00</td>\n",
       "      <td>2</td>\n",
       "      <td>2.56</td>\n",
       "      <td>5.0</td>\n",
       "      <td>27.00</td>\n",
       "      <td>5</td>\n",
       "      <td>NaN</td>\n",
       "      <td>...</td>\n",
       "      <td>5.20</td>\n",
       "      <td>1.0</td>\n",
       "      <td>Петергоф</td>\n",
       "      <td>37868.0</td>\n",
       "      <td>33058.0</td>\n",
       "      <td>1.0</td>\n",
       "      <td>294.0</td>\n",
       "      <td>3.0</td>\n",
       "      <td>298.0</td>\n",
       "      <td>366.0</td>\n",
       "    </tr>\n",
       "    <tr>\n",
       "      <th>14</th>\n",
       "      <td>1</td>\n",
       "      <td>4400000.0</td>\n",
       "      <td>36.00</td>\n",
       "      <td>2016-06-23T00:00:00</td>\n",
       "      <td>1</td>\n",
       "      <td>NaN</td>\n",
       "      <td>6.0</td>\n",
       "      <td>17.00</td>\n",
       "      <td>1</td>\n",
       "      <td>NaN</td>\n",
       "      <td>...</td>\n",
       "      <td>8.00</td>\n",
       "      <td>0.0</td>\n",
       "      <td>Пушкин</td>\n",
       "      <td>20782.0</td>\n",
       "      <td>30759.0</td>\n",
       "      <td>0.0</td>\n",
       "      <td>NaN</td>\n",
       "      <td>1.0</td>\n",
       "      <td>96.0</td>\n",
       "      <td>203.0</td>\n",
       "    </tr>\n",
       "    <tr>\n",
       "      <th>15</th>\n",
       "      <td>16</td>\n",
       "      <td>4650000.0</td>\n",
       "      <td>39.00</td>\n",
       "      <td>2017-11-18T00:00:00</td>\n",
       "      <td>1</td>\n",
       "      <td>NaN</td>\n",
       "      <td>14.0</td>\n",
       "      <td>20.50</td>\n",
       "      <td>5</td>\n",
       "      <td>NaN</td>\n",
       "      <td>...</td>\n",
       "      <td>7.60</td>\n",
       "      <td>1.0</td>\n",
       "      <td>Санкт-Петербург</td>\n",
       "      <td>12900.0</td>\n",
       "      <td>14259.0</td>\n",
       "      <td>1.0</td>\n",
       "      <td>590.0</td>\n",
       "      <td>1.0</td>\n",
       "      <td>296.0</td>\n",
       "      <td>19.0</td>\n",
       "    </tr>\n",
       "    <tr>\n",
       "      <th>16</th>\n",
       "      <td>11</td>\n",
       "      <td>6700000.0</td>\n",
       "      <td>82.00</td>\n",
       "      <td>2017-11-23T00:00:00</td>\n",
       "      <td>3</td>\n",
       "      <td>3.05</td>\n",
       "      <td>5.0</td>\n",
       "      <td>55.60</td>\n",
       "      <td>1</td>\n",
       "      <td>NaN</td>\n",
       "      <td>...</td>\n",
       "      <td>9.00</td>\n",
       "      <td>NaN</td>\n",
       "      <td>Санкт-Петербург</td>\n",
       "      <td>22108.0</td>\n",
       "      <td>10698.0</td>\n",
       "      <td>3.0</td>\n",
       "      <td>420.0</td>\n",
       "      <td>0.0</td>\n",
       "      <td>NaN</td>\n",
       "      <td>397.0</td>\n",
       "    </tr>\n",
       "    <tr>\n",
       "      <th>17</th>\n",
       "      <td>6</td>\n",
       "      <td>4180000.0</td>\n",
       "      <td>36.00</td>\n",
       "      <td>2016-09-09T00:00:00</td>\n",
       "      <td>1</td>\n",
       "      <td>NaN</td>\n",
       "      <td>17.0</td>\n",
       "      <td>16.50</td>\n",
       "      <td>7</td>\n",
       "      <td>NaN</td>\n",
       "      <td>...</td>\n",
       "      <td>11.00</td>\n",
       "      <td>1.0</td>\n",
       "      <td>Санкт-Петербург</td>\n",
       "      <td>33564.0</td>\n",
       "      <td>14616.0</td>\n",
       "      <td>0.0</td>\n",
       "      <td>NaN</td>\n",
       "      <td>1.0</td>\n",
       "      <td>859.0</td>\n",
       "      <td>571.0</td>\n",
       "    </tr>\n",
       "    <tr>\n",
       "      <th>18</th>\n",
       "      <td>8</td>\n",
       "      <td>3250000.0</td>\n",
       "      <td>31.00</td>\n",
       "      <td>2017-01-27T00:00:00</td>\n",
       "      <td>1</td>\n",
       "      <td>2.50</td>\n",
       "      <td>5.0</td>\n",
       "      <td>19.40</td>\n",
       "      <td>2</td>\n",
       "      <td>NaN</td>\n",
       "      <td>...</td>\n",
       "      <td>5.60</td>\n",
       "      <td>1.0</td>\n",
       "      <td>Санкт-Петербург</td>\n",
       "      <td>44060.0</td>\n",
       "      <td>10842.0</td>\n",
       "      <td>1.0</td>\n",
       "      <td>759.0</td>\n",
       "      <td>0.0</td>\n",
       "      <td>NaN</td>\n",
       "      <td>168.0</td>\n",
       "    </tr>\n",
       "    <tr>\n",
       "      <th>19</th>\n",
       "      <td>16</td>\n",
       "      <td>14200000.0</td>\n",
       "      <td>121.00</td>\n",
       "      <td>2019-01-09T00:00:00</td>\n",
       "      <td>3</td>\n",
       "      <td>2.75</td>\n",
       "      <td>16.0</td>\n",
       "      <td>76.00</td>\n",
       "      <td>8</td>\n",
       "      <td>NaN</td>\n",
       "      <td>...</td>\n",
       "      <td>12.00</td>\n",
       "      <td>NaN</td>\n",
       "      <td>Санкт-Петербург</td>\n",
       "      <td>38900.0</td>\n",
       "      <td>12843.0</td>\n",
       "      <td>0.0</td>\n",
       "      <td>NaN</td>\n",
       "      <td>0.0</td>\n",
       "      <td>NaN</td>\n",
       "      <td>97.0</td>\n",
       "    </tr>\n",
       "  </tbody>\n",
       "</table>\n",
       "<p>20 rows × 22 columns</p>\n",
       "</div>"
      ],
      "text/plain": [
       "    total_images  last_price  total_area first_day_exposition  rooms  \\\n",
       "0             20  13000000.0      108.00  2019-03-07T00:00:00      3   \n",
       "1              7   3350000.0       40.40  2018-12-04T00:00:00      1   \n",
       "2             10   5196000.0       56.00  2015-08-20T00:00:00      2   \n",
       "3              0  64900000.0      159.00  2015-07-24T00:00:00      3   \n",
       "4              2  10000000.0      100.00  2018-06-19T00:00:00      2   \n",
       "5             10   2890000.0       30.40  2018-09-10T00:00:00      1   \n",
       "6              6   3700000.0       37.30  2017-11-02T00:00:00      1   \n",
       "7              5   7915000.0       71.60  2019-04-18T00:00:00      2   \n",
       "8             20   2900000.0       33.16  2018-05-23T00:00:00      1   \n",
       "9             18   5400000.0       61.00  2017-02-26T00:00:00      3   \n",
       "10             5   5050000.0       39.60  2017-11-16T00:00:00      1   \n",
       "11             9   3300000.0       44.00  2018-08-27T00:00:00      2   \n",
       "12            10   3890000.0       54.00  2016-06-30T00:00:00      2   \n",
       "13            20   3550000.0       42.80  2017-07-01T00:00:00      2   \n",
       "14             1   4400000.0       36.00  2016-06-23T00:00:00      1   \n",
       "15            16   4650000.0       39.00  2017-11-18T00:00:00      1   \n",
       "16            11   6700000.0       82.00  2017-11-23T00:00:00      3   \n",
       "17             6   4180000.0       36.00  2016-09-09T00:00:00      1   \n",
       "18             8   3250000.0       31.00  2017-01-27T00:00:00      1   \n",
       "19            16  14200000.0      121.00  2019-01-09T00:00:00      3   \n",
       "\n",
       "    ceiling_height  floors_total  living_area  floor is_apartment  ...  \\\n",
       "0             2.70          16.0        51.00      8          NaN  ...   \n",
       "1              NaN          11.0        18.60      1          NaN  ...   \n",
       "2              NaN           5.0        34.30      4          NaN  ...   \n",
       "3              NaN          14.0          NaN      9          NaN  ...   \n",
       "4             3.03          14.0        32.00     13          NaN  ...   \n",
       "5              NaN          12.0        14.40      5          NaN  ...   \n",
       "6              NaN          26.0        10.60      6          NaN  ...   \n",
       "7              NaN          24.0          NaN     22          NaN  ...   \n",
       "8              NaN          27.0        15.43     26          NaN  ...   \n",
       "9             2.50           9.0        43.60      7          NaN  ...   \n",
       "10            2.67          12.0        20.30      3          NaN  ...   \n",
       "11             NaN           5.0        31.00      4        False  ...   \n",
       "12             NaN           5.0        30.00      5          NaN  ...   \n",
       "13            2.56           5.0        27.00      5          NaN  ...   \n",
       "14             NaN           6.0        17.00      1          NaN  ...   \n",
       "15             NaN          14.0        20.50      5          NaN  ...   \n",
       "16            3.05           5.0        55.60      1          NaN  ...   \n",
       "17             NaN          17.0        16.50      7          NaN  ...   \n",
       "18            2.50           5.0        19.40      2          NaN  ...   \n",
       "19            2.75          16.0        76.00      8          NaN  ...   \n",
       "\n",
       "    kitchen_area  balcony              locality_name  airports_nearest  \\\n",
       "0          25.00      NaN            Санкт-Петербург           18863.0   \n",
       "1          11.00      2.0             посёлок Шушары           12817.0   \n",
       "2           8.30      0.0            Санкт-Петербург           21741.0   \n",
       "3            NaN      0.0            Санкт-Петербург           28098.0   \n",
       "4          41.00      NaN            Санкт-Петербург           31856.0   \n",
       "5           9.10      NaN  городской посёлок Янино-1               NaN   \n",
       "6          14.40      1.0          посёлок Парголово           52996.0   \n",
       "7          18.90      2.0            Санкт-Петербург           23982.0   \n",
       "8           8.81      NaN             посёлок Мурино               NaN   \n",
       "9           6.50      2.0            Санкт-Петербург           50898.0   \n",
       "10          8.50      NaN            Санкт-Петербург           38357.0   \n",
       "11          6.00      1.0                  Ломоносов           48252.0   \n",
       "12          9.00      0.0                  Сертолово               NaN   \n",
       "13          5.20      1.0                   Петергоф           37868.0   \n",
       "14          8.00      0.0                     Пушкин           20782.0   \n",
       "15          7.60      1.0            Санкт-Петербург           12900.0   \n",
       "16          9.00      NaN            Санкт-Петербург           22108.0   \n",
       "17         11.00      1.0            Санкт-Петербург           33564.0   \n",
       "18          5.60      1.0            Санкт-Петербург           44060.0   \n",
       "19         12.00      NaN            Санкт-Петербург           38900.0   \n",
       "\n",
       "   cityCenters_nearest  parks_around3000  parks_nearest  ponds_around3000  \\\n",
       "0              16028.0               1.0          482.0               2.0   \n",
       "1              18603.0               0.0            NaN               0.0   \n",
       "2              13933.0               1.0           90.0               2.0   \n",
       "3               6800.0               2.0           84.0               3.0   \n",
       "4               8098.0               2.0          112.0               1.0   \n",
       "5                  NaN               NaN            NaN               NaN   \n",
       "6              19143.0               0.0            NaN               0.0   \n",
       "7              11634.0               0.0            NaN               0.0   \n",
       "8                  NaN               NaN            NaN               NaN   \n",
       "9              15008.0               0.0            NaN               0.0   \n",
       "10             13878.0               1.0          310.0               2.0   \n",
       "11             51677.0               0.0            NaN               0.0   \n",
       "12                 NaN               NaN            NaN               NaN   \n",
       "13             33058.0               1.0          294.0               3.0   \n",
       "14             30759.0               0.0            NaN               1.0   \n",
       "15             14259.0               1.0          590.0               1.0   \n",
       "16             10698.0               3.0          420.0               0.0   \n",
       "17             14616.0               0.0            NaN               1.0   \n",
       "18             10842.0               1.0          759.0               0.0   \n",
       "19             12843.0               0.0            NaN               0.0   \n",
       "\n",
       "    ponds_nearest  days_exposition  \n",
       "0           755.0              NaN  \n",
       "1             NaN             81.0  \n",
       "2           574.0            558.0  \n",
       "3           234.0            424.0  \n",
       "4            48.0            121.0  \n",
       "5             NaN             55.0  \n",
       "6             NaN            155.0  \n",
       "7             NaN              NaN  \n",
       "8             NaN            189.0  \n",
       "9             NaN            289.0  \n",
       "10          553.0            137.0  \n",
       "11            NaN              7.0  \n",
       "12            NaN             90.0  \n",
       "13          298.0            366.0  \n",
       "14           96.0            203.0  \n",
       "15          296.0             19.0  \n",
       "16            NaN            397.0  \n",
       "17          859.0            571.0  \n",
       "18            NaN            168.0  \n",
       "19            NaN             97.0  \n",
       "\n",
       "[20 rows x 22 columns]"
      ]
     },
     "metadata": {},
     "output_type": "display_data"
    }
   ],
   "source": [
    "data = pd.read_csv('/datasets/real_estate_data.csv', sep='\\t')\n",
    "display(data.head(20))"
   ]
  },
  {
   "cell_type": "code",
   "execution_count": 3,
   "metadata": {
    "scrolled": true
   },
   "outputs": [
    {
     "name": "stdout",
     "output_type": "stream",
     "text": [
      "<class 'pandas.core.frame.DataFrame'>\n",
      "RangeIndex: 23699 entries, 0 to 23698\n",
      "Data columns (total 22 columns):\n",
      " #   Column                Non-Null Count  Dtype  \n",
      "---  ------                --------------  -----  \n",
      " 0   total_images          23699 non-null  int64  \n",
      " 1   last_price            23699 non-null  float64\n",
      " 2   total_area            23699 non-null  float64\n",
      " 3   first_day_exposition  23699 non-null  object \n",
      " 4   rooms                 23699 non-null  int64  \n",
      " 5   ceiling_height        14504 non-null  float64\n",
      " 6   floors_total          23613 non-null  float64\n",
      " 7   living_area           21796 non-null  float64\n",
      " 8   floor                 23699 non-null  int64  \n",
      " 9   is_apartment          2775 non-null   object \n",
      " 10  studio                23699 non-null  bool   \n",
      " 11  open_plan             23699 non-null  bool   \n",
      " 12  kitchen_area          21421 non-null  float64\n",
      " 13  balcony               12180 non-null  float64\n",
      " 14  locality_name         23650 non-null  object \n",
      " 15  airports_nearest      18157 non-null  float64\n",
      " 16  cityCenters_nearest   18180 non-null  float64\n",
      " 17  parks_around3000      18181 non-null  float64\n",
      " 18  parks_nearest         8079 non-null   float64\n",
      " 19  ponds_around3000      18181 non-null  float64\n",
      " 20  ponds_nearest         9110 non-null   float64\n",
      " 21  days_exposition       20518 non-null  float64\n",
      "dtypes: bool(2), float64(14), int64(3), object(3)\n",
      "memory usage: 3.7+ MB\n"
     ]
    }
   ],
   "source": [
    "data.info()"
   ]
  },
  {
   "cell_type": "markdown",
   "metadata": {},
   "source": [
    "### Вывод"
   ]
  },
  {
   "cell_type": "markdown",
   "metadata": {},
   "source": [
    "Изучив данные в файле, могу отметить, что в столбце first_day_exposition нужно будет сделать дату более удобной для чтения; почти во всех столбцах встречаются пропуски, где-то чаще, где-то реже, нужно поработать над этим. В некоторых столбцах нужно поменять тип данных. "
   ]
  },
  {
   "cell_type": "markdown",
   "metadata": {},
   "source": [
    "## Предобработка данных"
   ]
  },
  {
   "cell_type": "code",
   "execution_count": 4,
   "metadata": {
    "scrolled": false
   },
   "outputs": [],
   "source": [
    "data['ceiling_height'] = data['ceiling_height'].fillna(data['ceiling_height'].median())"
   ]
  },
  {
   "cell_type": "markdown",
   "metadata": {},
   "source": [
    "Пропуски в столбце Высота потолков я заменил на медианное значение, так как высота потолков обычно стандартная, и примерно равна медиане - 2.6"
   ]
  },
  {
   "cell_type": "code",
   "execution_count": 5,
   "metadata": {},
   "outputs": [],
   "source": [
    "data['balcony'] = data['balcony'].fillna(0)"
   ]
  },
  {
   "cell_type": "markdown",
   "metadata": {},
   "source": [
    "Пропуски в столбце числа балконов присутствуют скорее всего по причине того, что люди просто не заполняли графу с балконом, если балкона в квартире нет. Поэтому я решил пропуски заменить на 0"
   ]
  },
  {
   "cell_type": "code",
   "execution_count": 6,
   "metadata": {},
   "outputs": [
    {
     "name": "stdout",
     "output_type": "stream",
     "text": [
      "Доля пропусков living_area 8%\n",
      "Доля пропусков kitchen_area 10%\n",
      "Доля пропусков locality_name 0.2%\n",
      "Доля пропусков days_exposition 13%\n",
      "Доля пропусков floors_total 0.4%\n"
     ]
    }
   ],
   "source": [
    "print('Доля пропусков living_area {:.0%}'.format(data['living_area'].isna().sum()/len(data['living_area'])))\n",
    "print('Доля пропусков kitchen_area {:.0%}'.format(data['kitchen_area'].isna().sum()/len(data['kitchen_area'])))\n",
    "print('Доля пропусков locality_name {:.1%}'.format(data['locality_name'].isna().sum()/len(data['locality_name'])))\n",
    "print('Доля пропусков days_exposition {:.0%}'.format(data['days_exposition'].isna().sum()/len(data['days_exposition'])))\n",
    "print('Доля пропусков floors_total {:.1%}'.format(data['floors_total'].isna().sum()/len(data['floors_total'])))"
   ]
  },
  {
   "cell_type": "code",
   "execution_count": 7,
   "metadata": {},
   "outputs": [],
   "source": [
    "data = data.dropna(subset=['locality_name','floors_total'])"
   ]
  },
  {
   "cell_type": "markdown",
   "metadata": {},
   "source": [
    "Пропуски в данных столбцах я решил удалить, так как в дальнейшем анализе данные этих столбцов будут использоваться.  Названия населенного пункта в данном случае у меня нет возможности восстановить, как и данные о количестве комнат. "
   ]
  },
  {
   "cell_type": "code",
   "execution_count": 9,
   "metadata": {
    "scrolled": true
   },
   "outputs": [
    {
     "name": "stdout",
     "output_type": "stream",
     "text": [
      "<class 'pandas.core.frame.DataFrame'>\n",
      "Int64Index: 23565 entries, 0 to 23698\n",
      "Data columns (total 22 columns):\n",
      " #   Column                Non-Null Count  Dtype  \n",
      "---  ------                --------------  -----  \n",
      " 0   total_images          23565 non-null  int64  \n",
      " 1   last_price            23565 non-null  float64\n",
      " 2   total_area            23565 non-null  float64\n",
      " 3   first_day_exposition  23565 non-null  object \n",
      " 4   rooms                 23565 non-null  int64  \n",
      " 5   ceiling_height        23565 non-null  float64\n",
      " 6   floors_total          23565 non-null  float64\n",
      " 7   living_area           21700 non-null  float64\n",
      " 8   floor                 23565 non-null  int64  \n",
      " 9   is_apartment          2760 non-null   object \n",
      " 10  studio                23565 non-null  bool   \n",
      " 11  open_plan             23565 non-null  bool   \n",
      " 12  kitchen_area          21343 non-null  float64\n",
      " 13  balcony               23565 non-null  float64\n",
      " 14  locality_name         23565 non-null  object \n",
      " 15  airports_nearest      18041 non-null  float64\n",
      " 16  cityCenters_nearest   18064 non-null  float64\n",
      " 17  parks_around3000      18065 non-null  float64\n",
      " 18  parks_nearest         8030 non-null   float64\n",
      " 19  ponds_around3000      18065 non-null  float64\n",
      " 20  ponds_nearest         9036 non-null   float64\n",
      " 21  days_exposition       20394 non-null  float64\n",
      "dtypes: bool(2), float64(14), int64(3), object(3)\n",
      "memory usage: 3.8+ MB\n"
     ]
    }
   ],
   "source": [
    "data.info()"
   ]
  },
  {
   "cell_type": "code",
   "execution_count": 13,
   "metadata": {},
   "outputs": [
    {
     "ename": "TypeError",
     "evalue": "cannot safely cast non-equivalent float64 to int64",
     "output_type": "error",
     "traceback": [
      "\u001b[0;31m---------------------------------------------------------------------------\u001b[0m",
      "\u001b[0;31mTypeError\u001b[0m                                 Traceback (most recent call last)",
      "\u001b[0;32m/opt/conda/lib/python3.9/site-packages/pandas/core/arrays/integer.py\u001b[0m in \u001b[0;36msafe_cast\u001b[0;34m(values, dtype, copy)\u001b[0m\n\u001b[1;32m    154\u001b[0m     \u001b[0;32mtry\u001b[0m\u001b[0;34m:\u001b[0m\u001b[0;34m\u001b[0m\u001b[0;34m\u001b[0m\u001b[0m\n\u001b[0;32m--> 155\u001b[0;31m         \u001b[0;32mreturn\u001b[0m \u001b[0mvalues\u001b[0m\u001b[0;34m.\u001b[0m\u001b[0mastype\u001b[0m\u001b[0;34m(\u001b[0m\u001b[0mdtype\u001b[0m\u001b[0;34m,\u001b[0m \u001b[0mcasting\u001b[0m\u001b[0;34m=\u001b[0m\u001b[0;34m\"safe\"\u001b[0m\u001b[0;34m,\u001b[0m \u001b[0mcopy\u001b[0m\u001b[0;34m=\u001b[0m\u001b[0mcopy\u001b[0m\u001b[0;34m)\u001b[0m\u001b[0;34m\u001b[0m\u001b[0;34m\u001b[0m\u001b[0m\n\u001b[0m\u001b[1;32m    156\u001b[0m     \u001b[0;32mexcept\u001b[0m \u001b[0mTypeError\u001b[0m \u001b[0;32mas\u001b[0m \u001b[0merr\u001b[0m\u001b[0;34m:\u001b[0m\u001b[0;34m\u001b[0m\u001b[0;34m\u001b[0m\u001b[0m\n",
      "\u001b[0;31mTypeError\u001b[0m: Cannot cast array data from dtype('float64') to dtype('int64') according to the rule 'safe'",
      "\nThe above exception was the direct cause of the following exception:\n",
      "\u001b[0;31mTypeError\u001b[0m                                 Traceback (most recent call last)",
      "\u001b[0;32m/tmp/ipykernel_75/3302409909.py\u001b[0m in \u001b[0;36m<module>\u001b[0;34m\u001b[0m\n\u001b[1;32m      2\u001b[0m \u001b[0mdata\u001b[0m\u001b[0;34m[\u001b[0m\u001b[0;34m'floors_total'\u001b[0m\u001b[0;34m]\u001b[0m \u001b[0;34m=\u001b[0m \u001b[0mdata\u001b[0m\u001b[0;34m[\u001b[0m\u001b[0;34m'floors_total'\u001b[0m\u001b[0;34m]\u001b[0m\u001b[0;34m.\u001b[0m\u001b[0mastype\u001b[0m\u001b[0;34m(\u001b[0m\u001b[0mfloat\u001b[0m\u001b[0;34m)\u001b[0m\u001b[0;34m.\u001b[0m\u001b[0mastype\u001b[0m\u001b[0;34m(\u001b[0m\u001b[0;34m'Int64'\u001b[0m\u001b[0;34m)\u001b[0m\u001b[0;34m\u001b[0m\u001b[0;34m\u001b[0m\u001b[0m\n\u001b[1;32m      3\u001b[0m \u001b[0mdata\u001b[0m\u001b[0;34m[\u001b[0m\u001b[0;34m'balcony'\u001b[0m\u001b[0;34m]\u001b[0m \u001b[0;34m=\u001b[0m \u001b[0mdata\u001b[0m\u001b[0;34m[\u001b[0m\u001b[0;34m'balcony'\u001b[0m\u001b[0;34m]\u001b[0m\u001b[0;34m.\u001b[0m\u001b[0mastype\u001b[0m\u001b[0;34m(\u001b[0m\u001b[0mfloat\u001b[0m\u001b[0;34m)\u001b[0m\u001b[0;34m.\u001b[0m\u001b[0mastype\u001b[0m\u001b[0;34m(\u001b[0m\u001b[0;34m'Int64'\u001b[0m\u001b[0;34m)\u001b[0m\u001b[0;34m\u001b[0m\u001b[0;34m\u001b[0m\u001b[0m\n\u001b[0;32m----> 4\u001b[0;31m \u001b[0mdata\u001b[0m\u001b[0;34m[\u001b[0m\u001b[0;34m'days_exposition'\u001b[0m\u001b[0;34m]\u001b[0m \u001b[0;34m=\u001b[0m \u001b[0mdata\u001b[0m\u001b[0;34m[\u001b[0m\u001b[0;34m'days_exposition'\u001b[0m\u001b[0;34m]\u001b[0m\u001b[0;34m.\u001b[0m\u001b[0mastype\u001b[0m\u001b[0;34m(\u001b[0m\u001b[0mfloat\u001b[0m\u001b[0;34m)\u001b[0m\u001b[0;34m.\u001b[0m\u001b[0mastype\u001b[0m\u001b[0;34m(\u001b[0m\u001b[0;34m'Int64'\u001b[0m\u001b[0;34m)\u001b[0m\u001b[0;34m\u001b[0m\u001b[0;34m\u001b[0m\u001b[0m\n\u001b[0m\u001b[1;32m      5\u001b[0m \u001b[0mdata\u001b[0m\u001b[0;34m[\u001b[0m\u001b[0;34m'is_apartment'\u001b[0m\u001b[0;34m]\u001b[0m \u001b[0;34m=\u001b[0m \u001b[0mdata\u001b[0m\u001b[0;34m[\u001b[0m\u001b[0;34m'is_apartment'\u001b[0m\u001b[0;34m]\u001b[0m\u001b[0;34m.\u001b[0m\u001b[0mastype\u001b[0m\u001b[0;34m(\u001b[0m\u001b[0;34m'bool'\u001b[0m\u001b[0;34m)\u001b[0m\u001b[0;34m\u001b[0m\u001b[0;34m\u001b[0m\u001b[0m\n",
      "\u001b[0;32m/opt/conda/lib/python3.9/site-packages/pandas/core/generic.py\u001b[0m in \u001b[0;36mastype\u001b[0;34m(self, dtype, copy, errors)\u001b[0m\n\u001b[1;32m   5875\u001b[0m         \u001b[0;32melse\u001b[0m\u001b[0;34m:\u001b[0m\u001b[0;34m\u001b[0m\u001b[0;34m\u001b[0m\u001b[0m\n\u001b[1;32m   5876\u001b[0m             \u001b[0;31m# else, only a single dtype is given\u001b[0m\u001b[0;34m\u001b[0m\u001b[0;34m\u001b[0m\u001b[0;34m\u001b[0m\u001b[0m\n\u001b[0;32m-> 5877\u001b[0;31m             \u001b[0mnew_data\u001b[0m \u001b[0;34m=\u001b[0m \u001b[0mself\u001b[0m\u001b[0;34m.\u001b[0m\u001b[0m_mgr\u001b[0m\u001b[0;34m.\u001b[0m\u001b[0mastype\u001b[0m\u001b[0;34m(\u001b[0m\u001b[0mdtype\u001b[0m\u001b[0;34m=\u001b[0m\u001b[0mdtype\u001b[0m\u001b[0;34m,\u001b[0m \u001b[0mcopy\u001b[0m\u001b[0;34m=\u001b[0m\u001b[0mcopy\u001b[0m\u001b[0;34m,\u001b[0m \u001b[0merrors\u001b[0m\u001b[0;34m=\u001b[0m\u001b[0merrors\u001b[0m\u001b[0;34m)\u001b[0m\u001b[0;34m\u001b[0m\u001b[0;34m\u001b[0m\u001b[0m\n\u001b[0m\u001b[1;32m   5878\u001b[0m             \u001b[0;32mreturn\u001b[0m \u001b[0mself\u001b[0m\u001b[0;34m.\u001b[0m\u001b[0m_constructor\u001b[0m\u001b[0;34m(\u001b[0m\u001b[0mnew_data\u001b[0m\u001b[0;34m)\u001b[0m\u001b[0;34m.\u001b[0m\u001b[0m__finalize__\u001b[0m\u001b[0;34m(\u001b[0m\u001b[0mself\u001b[0m\u001b[0;34m,\u001b[0m \u001b[0mmethod\u001b[0m\u001b[0;34m=\u001b[0m\u001b[0;34m\"astype\"\u001b[0m\u001b[0;34m)\u001b[0m\u001b[0;34m\u001b[0m\u001b[0;34m\u001b[0m\u001b[0m\n\u001b[1;32m   5879\u001b[0m \u001b[0;34m\u001b[0m\u001b[0m\n",
      "\u001b[0;32m/opt/conda/lib/python3.9/site-packages/pandas/core/internals/managers.py\u001b[0m in \u001b[0;36mastype\u001b[0;34m(self, dtype, copy, errors)\u001b[0m\n\u001b[1;32m    629\u001b[0m         \u001b[0mself\u001b[0m\u001b[0;34m,\u001b[0m \u001b[0mdtype\u001b[0m\u001b[0;34m,\u001b[0m \u001b[0mcopy\u001b[0m\u001b[0;34m:\u001b[0m \u001b[0mbool\u001b[0m \u001b[0;34m=\u001b[0m \u001b[0;32mFalse\u001b[0m\u001b[0;34m,\u001b[0m \u001b[0merrors\u001b[0m\u001b[0;34m:\u001b[0m \u001b[0mstr\u001b[0m \u001b[0;34m=\u001b[0m \u001b[0;34m\"raise\"\u001b[0m\u001b[0;34m\u001b[0m\u001b[0;34m\u001b[0m\u001b[0m\n\u001b[1;32m    630\u001b[0m     ) -> \"BlockManager\":\n\u001b[0;32m--> 631\u001b[0;31m         \u001b[0;32mreturn\u001b[0m \u001b[0mself\u001b[0m\u001b[0;34m.\u001b[0m\u001b[0mapply\u001b[0m\u001b[0;34m(\u001b[0m\u001b[0;34m\"astype\"\u001b[0m\u001b[0;34m,\u001b[0m \u001b[0mdtype\u001b[0m\u001b[0;34m=\u001b[0m\u001b[0mdtype\u001b[0m\u001b[0;34m,\u001b[0m \u001b[0mcopy\u001b[0m\u001b[0;34m=\u001b[0m\u001b[0mcopy\u001b[0m\u001b[0;34m,\u001b[0m \u001b[0merrors\u001b[0m\u001b[0;34m=\u001b[0m\u001b[0merrors\u001b[0m\u001b[0;34m)\u001b[0m\u001b[0;34m\u001b[0m\u001b[0;34m\u001b[0m\u001b[0m\n\u001b[0m\u001b[1;32m    632\u001b[0m \u001b[0;34m\u001b[0m\u001b[0m\n\u001b[1;32m    633\u001b[0m     def convert(\n",
      "\u001b[0;32m/opt/conda/lib/python3.9/site-packages/pandas/core/internals/managers.py\u001b[0m in \u001b[0;36mapply\u001b[0;34m(self, f, align_keys, ignore_failures, **kwargs)\u001b[0m\n\u001b[1;32m    425\u001b[0m                     \u001b[0mapplied\u001b[0m \u001b[0;34m=\u001b[0m \u001b[0mb\u001b[0m\u001b[0;34m.\u001b[0m\u001b[0mapply\u001b[0m\u001b[0;34m(\u001b[0m\u001b[0mf\u001b[0m\u001b[0;34m,\u001b[0m \u001b[0;34m**\u001b[0m\u001b[0mkwargs\u001b[0m\u001b[0;34m)\u001b[0m\u001b[0;34m\u001b[0m\u001b[0;34m\u001b[0m\u001b[0m\n\u001b[1;32m    426\u001b[0m                 \u001b[0;32melse\u001b[0m\u001b[0;34m:\u001b[0m\u001b[0;34m\u001b[0m\u001b[0;34m\u001b[0m\u001b[0m\n\u001b[0;32m--> 427\u001b[0;31m                     \u001b[0mapplied\u001b[0m \u001b[0;34m=\u001b[0m \u001b[0mgetattr\u001b[0m\u001b[0;34m(\u001b[0m\u001b[0mb\u001b[0m\u001b[0;34m,\u001b[0m \u001b[0mf\u001b[0m\u001b[0;34m)\u001b[0m\u001b[0;34m(\u001b[0m\u001b[0;34m**\u001b[0m\u001b[0mkwargs\u001b[0m\u001b[0;34m)\u001b[0m\u001b[0;34m\u001b[0m\u001b[0;34m\u001b[0m\u001b[0m\n\u001b[0m\u001b[1;32m    428\u001b[0m             \u001b[0;32mexcept\u001b[0m \u001b[0;34m(\u001b[0m\u001b[0mTypeError\u001b[0m\u001b[0;34m,\u001b[0m \u001b[0mNotImplementedError\u001b[0m\u001b[0;34m)\u001b[0m\u001b[0;34m:\u001b[0m\u001b[0;34m\u001b[0m\u001b[0;34m\u001b[0m\u001b[0m\n\u001b[1;32m    429\u001b[0m                 \u001b[0;32mif\u001b[0m \u001b[0;32mnot\u001b[0m \u001b[0mignore_failures\u001b[0m\u001b[0;34m:\u001b[0m\u001b[0;34m\u001b[0m\u001b[0;34m\u001b[0m\u001b[0m\n",
      "\u001b[0;32m/opt/conda/lib/python3.9/site-packages/pandas/core/internals/blocks.py\u001b[0m in \u001b[0;36mastype\u001b[0;34m(self, dtype, copy, errors)\u001b[0m\n\u001b[1;32m    671\u001b[0m             \u001b[0mvals1d\u001b[0m \u001b[0;34m=\u001b[0m \u001b[0mvalues\u001b[0m\u001b[0;34m.\u001b[0m\u001b[0mravel\u001b[0m\u001b[0;34m(\u001b[0m\u001b[0;34m)\u001b[0m\u001b[0;34m\u001b[0m\u001b[0;34m\u001b[0m\u001b[0m\n\u001b[1;32m    672\u001b[0m             \u001b[0;32mtry\u001b[0m\u001b[0;34m:\u001b[0m\u001b[0;34m\u001b[0m\u001b[0;34m\u001b[0m\u001b[0m\n\u001b[0;32m--> 673\u001b[0;31m                 \u001b[0mvalues\u001b[0m \u001b[0;34m=\u001b[0m \u001b[0mastype_nansafe\u001b[0m\u001b[0;34m(\u001b[0m\u001b[0mvals1d\u001b[0m\u001b[0;34m,\u001b[0m \u001b[0mdtype\u001b[0m\u001b[0;34m,\u001b[0m \u001b[0mcopy\u001b[0m\u001b[0;34m=\u001b[0m\u001b[0;32mTrue\u001b[0m\u001b[0;34m)\u001b[0m\u001b[0;34m\u001b[0m\u001b[0;34m\u001b[0m\u001b[0m\n\u001b[0m\u001b[1;32m    674\u001b[0m             \u001b[0;32mexcept\u001b[0m \u001b[0;34m(\u001b[0m\u001b[0mValueError\u001b[0m\u001b[0;34m,\u001b[0m \u001b[0mTypeError\u001b[0m\u001b[0;34m)\u001b[0m\u001b[0;34m:\u001b[0m\u001b[0;34m\u001b[0m\u001b[0;34m\u001b[0m\u001b[0m\n\u001b[1;32m    675\u001b[0m                 \u001b[0;31m# e.g. astype_nansafe can fail on object-dtype of strings\u001b[0m\u001b[0;34m\u001b[0m\u001b[0;34m\u001b[0m\u001b[0;34m\u001b[0m\u001b[0m\n",
      "\u001b[0;32m/opt/conda/lib/python3.9/site-packages/pandas/core/dtypes/cast.py\u001b[0m in \u001b[0;36mastype_nansafe\u001b[0;34m(arr, dtype, copy, skipna)\u001b[0m\n\u001b[1;32m   1017\u001b[0m     \u001b[0;31m# dispatch on extension dtype if needed\u001b[0m\u001b[0;34m\u001b[0m\u001b[0;34m\u001b[0m\u001b[0;34m\u001b[0m\u001b[0m\n\u001b[1;32m   1018\u001b[0m     \u001b[0;32mif\u001b[0m \u001b[0mis_extension_array_dtype\u001b[0m\u001b[0;34m(\u001b[0m\u001b[0mdtype\u001b[0m\u001b[0;34m)\u001b[0m\u001b[0;34m:\u001b[0m\u001b[0;34m\u001b[0m\u001b[0;34m\u001b[0m\u001b[0m\n\u001b[0;32m-> 1019\u001b[0;31m         \u001b[0;32mreturn\u001b[0m \u001b[0mdtype\u001b[0m\u001b[0;34m.\u001b[0m\u001b[0mconstruct_array_type\u001b[0m\u001b[0;34m(\u001b[0m\u001b[0;34m)\u001b[0m\u001b[0;34m.\u001b[0m\u001b[0m_from_sequence\u001b[0m\u001b[0;34m(\u001b[0m\u001b[0marr\u001b[0m\u001b[0;34m,\u001b[0m \u001b[0mdtype\u001b[0m\u001b[0;34m=\u001b[0m\u001b[0mdtype\u001b[0m\u001b[0;34m,\u001b[0m \u001b[0mcopy\u001b[0m\u001b[0;34m=\u001b[0m\u001b[0mcopy\u001b[0m\u001b[0;34m)\u001b[0m\u001b[0;34m\u001b[0m\u001b[0;34m\u001b[0m\u001b[0m\n\u001b[0m\u001b[1;32m   1020\u001b[0m \u001b[0;34m\u001b[0m\u001b[0m\n\u001b[1;32m   1021\u001b[0m     \u001b[0;32mif\u001b[0m \u001b[0;32mnot\u001b[0m \u001b[0misinstance\u001b[0m\u001b[0;34m(\u001b[0m\u001b[0mdtype\u001b[0m\u001b[0;34m,\u001b[0m \u001b[0mnp\u001b[0m\u001b[0;34m.\u001b[0m\u001b[0mdtype\u001b[0m\u001b[0;34m)\u001b[0m\u001b[0;34m:\u001b[0m\u001b[0;34m\u001b[0m\u001b[0;34m\u001b[0m\u001b[0m\n",
      "\u001b[0;32m/opt/conda/lib/python3.9/site-packages/pandas/core/arrays/integer.py\u001b[0m in \u001b[0;36m_from_sequence\u001b[0;34m(cls, scalars, dtype, copy)\u001b[0m\n\u001b[1;32m    361\u001b[0m         \u001b[0mcls\u001b[0m\u001b[0;34m,\u001b[0m \u001b[0mscalars\u001b[0m\u001b[0;34m,\u001b[0m \u001b[0;34m*\u001b[0m\u001b[0;34m,\u001b[0m \u001b[0mdtype\u001b[0m\u001b[0;34m=\u001b[0m\u001b[0;32mNone\u001b[0m\u001b[0;34m,\u001b[0m \u001b[0mcopy\u001b[0m\u001b[0;34m:\u001b[0m \u001b[0mbool\u001b[0m \u001b[0;34m=\u001b[0m \u001b[0;32mFalse\u001b[0m\u001b[0;34m\u001b[0m\u001b[0;34m\u001b[0m\u001b[0m\n\u001b[1;32m    362\u001b[0m     ) -> \"IntegerArray\":\n\u001b[0;32m--> 363\u001b[0;31m         \u001b[0;32mreturn\u001b[0m \u001b[0minteger_array\u001b[0m\u001b[0;34m(\u001b[0m\u001b[0mscalars\u001b[0m\u001b[0;34m,\u001b[0m \u001b[0mdtype\u001b[0m\u001b[0;34m=\u001b[0m\u001b[0mdtype\u001b[0m\u001b[0;34m,\u001b[0m \u001b[0mcopy\u001b[0m\u001b[0;34m=\u001b[0m\u001b[0mcopy\u001b[0m\u001b[0;34m)\u001b[0m\u001b[0;34m\u001b[0m\u001b[0;34m\u001b[0m\u001b[0m\n\u001b[0m\u001b[1;32m    364\u001b[0m \u001b[0;34m\u001b[0m\u001b[0m\n\u001b[1;32m    365\u001b[0m     \u001b[0;34m@\u001b[0m\u001b[0mclassmethod\u001b[0m\u001b[0;34m\u001b[0m\u001b[0;34m\u001b[0m\u001b[0m\n",
      "\u001b[0;32m/opt/conda/lib/python3.9/site-packages/pandas/core/arrays/integer.py\u001b[0m in \u001b[0;36minteger_array\u001b[0;34m(values, dtype, copy)\u001b[0m\n\u001b[1;32m    141\u001b[0m     \u001b[0mTypeError\u001b[0m \u001b[0;32mif\u001b[0m \u001b[0mincompatible\u001b[0m \u001b[0mtypes\u001b[0m\u001b[0;34m\u001b[0m\u001b[0;34m\u001b[0m\u001b[0m\n\u001b[1;32m    142\u001b[0m     \"\"\"\n\u001b[0;32m--> 143\u001b[0;31m     \u001b[0mvalues\u001b[0m\u001b[0;34m,\u001b[0m \u001b[0mmask\u001b[0m \u001b[0;34m=\u001b[0m \u001b[0mcoerce_to_array\u001b[0m\u001b[0;34m(\u001b[0m\u001b[0mvalues\u001b[0m\u001b[0;34m,\u001b[0m \u001b[0mdtype\u001b[0m\u001b[0;34m=\u001b[0m\u001b[0mdtype\u001b[0m\u001b[0;34m,\u001b[0m \u001b[0mcopy\u001b[0m\u001b[0;34m=\u001b[0m\u001b[0mcopy\u001b[0m\u001b[0;34m)\u001b[0m\u001b[0;34m\u001b[0m\u001b[0;34m\u001b[0m\u001b[0m\n\u001b[0m\u001b[1;32m    144\u001b[0m     \u001b[0;32mreturn\u001b[0m \u001b[0mIntegerArray\u001b[0m\u001b[0;34m(\u001b[0m\u001b[0mvalues\u001b[0m\u001b[0;34m,\u001b[0m \u001b[0mmask\u001b[0m\u001b[0;34m)\u001b[0m\u001b[0;34m\u001b[0m\u001b[0;34m\u001b[0m\u001b[0m\n\u001b[1;32m    145\u001b[0m \u001b[0;34m\u001b[0m\u001b[0m\n",
      "\u001b[0;32m/opt/conda/lib/python3.9/site-packages/pandas/core/arrays/integer.py\u001b[0m in \u001b[0;36mcoerce_to_array\u001b[0;34m(values, dtype, mask, copy)\u001b[0m\n\u001b[1;32m    256\u001b[0m         \u001b[0mvalues\u001b[0m \u001b[0;34m=\u001b[0m \u001b[0mvalues\u001b[0m\u001b[0;34m.\u001b[0m\u001b[0mcopy\u001b[0m\u001b[0;34m(\u001b[0m\u001b[0;34m)\u001b[0m\u001b[0;34m\u001b[0m\u001b[0;34m\u001b[0m\u001b[0m\n\u001b[1;32m    257\u001b[0m         \u001b[0mvalues\u001b[0m\u001b[0;34m[\u001b[0m\u001b[0mmask\u001b[0m\u001b[0;34m]\u001b[0m \u001b[0;34m=\u001b[0m \u001b[0;36m1\u001b[0m\u001b[0;34m\u001b[0m\u001b[0;34m\u001b[0m\u001b[0m\n\u001b[0;32m--> 258\u001b[0;31m         \u001b[0mvalues\u001b[0m \u001b[0;34m=\u001b[0m \u001b[0msafe_cast\u001b[0m\u001b[0;34m(\u001b[0m\u001b[0mvalues\u001b[0m\u001b[0;34m,\u001b[0m \u001b[0mdtype\u001b[0m\u001b[0;34m,\u001b[0m \u001b[0mcopy\u001b[0m\u001b[0;34m=\u001b[0m\u001b[0;32mFalse\u001b[0m\u001b[0;34m)\u001b[0m\u001b[0;34m\u001b[0m\u001b[0;34m\u001b[0m\u001b[0m\n\u001b[0m\u001b[1;32m    259\u001b[0m     \u001b[0;32melse\u001b[0m\u001b[0;34m:\u001b[0m\u001b[0;34m\u001b[0m\u001b[0;34m\u001b[0m\u001b[0m\n\u001b[1;32m    260\u001b[0m         \u001b[0mvalues\u001b[0m \u001b[0;34m=\u001b[0m \u001b[0msafe_cast\u001b[0m\u001b[0;34m(\u001b[0m\u001b[0mvalues\u001b[0m\u001b[0;34m,\u001b[0m \u001b[0mdtype\u001b[0m\u001b[0;34m,\u001b[0m \u001b[0mcopy\u001b[0m\u001b[0;34m=\u001b[0m\u001b[0;32mFalse\u001b[0m\u001b[0;34m)\u001b[0m\u001b[0;34m\u001b[0m\u001b[0;34m\u001b[0m\u001b[0m\n",
      "\u001b[0;32m/opt/conda/lib/python3.9/site-packages/pandas/core/arrays/integer.py\u001b[0m in \u001b[0;36msafe_cast\u001b[0;34m(values, dtype, copy)\u001b[0m\n\u001b[1;32m    160\u001b[0m             \u001b[0;32mreturn\u001b[0m \u001b[0mcasted\u001b[0m\u001b[0;34m\u001b[0m\u001b[0;34m\u001b[0m\u001b[0m\n\u001b[1;32m    161\u001b[0m \u001b[0;34m\u001b[0m\u001b[0m\n\u001b[0;32m--> 162\u001b[0;31m         raise TypeError(\n\u001b[0m\u001b[1;32m    163\u001b[0m             \u001b[0;34mf\"cannot safely cast non-equivalent {values.dtype} to {np.dtype(dtype)}\"\u001b[0m\u001b[0;34m\u001b[0m\u001b[0;34m\u001b[0m\u001b[0m\n\u001b[1;32m    164\u001b[0m         ) from err\n",
      "\u001b[0;31mTypeError\u001b[0m: cannot safely cast non-equivalent float64 to int64"
     ]
    }
   ],
   "source": [
    "data['last_price'] = data['last_price'].astype('int')\n",
    "data['floors_total'] = data['floors_total'].astype('int')\n",
    "data['balcony'] = data['balcony'].astype('int')\n",
    "data['days_exposition'] = data['days_exposition'].astype('int')\n",
    "data['is_apartment'] = data['is_apartment'].astype('bool')"
   ]
  },
  {
   "cell_type": "markdown",
   "metadata": {},
   "source": [
    "я поменял тип данных на целое число для удобства, а в столбце апартаметы поменял на булево значение, так как в описании к заданию написано, что там представлены именно булевы значения"
   ]
  },
  {
   "cell_type": "code",
   "execution_count": 10,
   "metadata": {},
   "outputs": [],
   "source": [
    "data['first_day_exposition'] = pd.to_datetime(data['first_day_exposition'],format='%Y-%m-%dT%H:%M:%S')"
   ]
  },
  {
   "cell_type": "code",
   "execution_count": 11,
   "metadata": {
    "scrolled": true
   },
   "outputs": [
    {
     "data": {
      "text/html": [
       "<div>\n",
       "<style scoped>\n",
       "    .dataframe tbody tr th:only-of-type {\n",
       "        vertical-align: middle;\n",
       "    }\n",
       "\n",
       "    .dataframe tbody tr th {\n",
       "        vertical-align: top;\n",
       "    }\n",
       "\n",
       "    .dataframe thead th {\n",
       "        text-align: right;\n",
       "    }\n",
       "</style>\n",
       "<table border=\"1\" class=\"dataframe\">\n",
       "  <thead>\n",
       "    <tr style=\"text-align: right;\">\n",
       "      <th></th>\n",
       "      <th>total_images</th>\n",
       "      <th>last_price</th>\n",
       "      <th>total_area</th>\n",
       "      <th>first_day_exposition</th>\n",
       "      <th>rooms</th>\n",
       "      <th>ceiling_height</th>\n",
       "      <th>floors_total</th>\n",
       "      <th>living_area</th>\n",
       "      <th>floor</th>\n",
       "      <th>is_apartment</th>\n",
       "      <th>...</th>\n",
       "      <th>kitchen_area</th>\n",
       "      <th>balcony</th>\n",
       "      <th>locality_name</th>\n",
       "      <th>airports_nearest</th>\n",
       "      <th>cityCenters_nearest</th>\n",
       "      <th>parks_around3000</th>\n",
       "      <th>parks_nearest</th>\n",
       "      <th>ponds_around3000</th>\n",
       "      <th>ponds_nearest</th>\n",
       "      <th>days_exposition</th>\n",
       "    </tr>\n",
       "  </thead>\n",
       "  <tbody>\n",
       "    <tr>\n",
       "      <th>0</th>\n",
       "      <td>20</td>\n",
       "      <td>13000000</td>\n",
       "      <td>108.0</td>\n",
       "      <td>2019-03-07</td>\n",
       "      <td>3</td>\n",
       "      <td>2.70</td>\n",
       "      <td>16</td>\n",
       "      <td>51.0</td>\n",
       "      <td>8</td>\n",
       "      <td>NaN</td>\n",
       "      <td>...</td>\n",
       "      <td>25.0</td>\n",
       "      <td>0</td>\n",
       "      <td>Санкт-Петербург</td>\n",
       "      <td>18863.0</td>\n",
       "      <td>16028.0</td>\n",
       "      <td>1.0</td>\n",
       "      <td>482.0</td>\n",
       "      <td>2.0</td>\n",
       "      <td>755.0</td>\n",
       "      <td>NaN</td>\n",
       "    </tr>\n",
       "    <tr>\n",
       "      <th>1</th>\n",
       "      <td>7</td>\n",
       "      <td>3350000</td>\n",
       "      <td>40.4</td>\n",
       "      <td>2018-12-04</td>\n",
       "      <td>1</td>\n",
       "      <td>2.65</td>\n",
       "      <td>11</td>\n",
       "      <td>18.6</td>\n",
       "      <td>1</td>\n",
       "      <td>NaN</td>\n",
       "      <td>...</td>\n",
       "      <td>11.0</td>\n",
       "      <td>2</td>\n",
       "      <td>посёлок Шушары</td>\n",
       "      <td>12817.0</td>\n",
       "      <td>18603.0</td>\n",
       "      <td>0.0</td>\n",
       "      <td>NaN</td>\n",
       "      <td>0.0</td>\n",
       "      <td>NaN</td>\n",
       "      <td>81.0</td>\n",
       "    </tr>\n",
       "    <tr>\n",
       "      <th>2</th>\n",
       "      <td>10</td>\n",
       "      <td>5196000</td>\n",
       "      <td>56.0</td>\n",
       "      <td>2015-08-20</td>\n",
       "      <td>2</td>\n",
       "      <td>2.65</td>\n",
       "      <td>5</td>\n",
       "      <td>34.3</td>\n",
       "      <td>4</td>\n",
       "      <td>NaN</td>\n",
       "      <td>...</td>\n",
       "      <td>8.3</td>\n",
       "      <td>0</td>\n",
       "      <td>Санкт-Петербург</td>\n",
       "      <td>21741.0</td>\n",
       "      <td>13933.0</td>\n",
       "      <td>1.0</td>\n",
       "      <td>90.0</td>\n",
       "      <td>2.0</td>\n",
       "      <td>574.0</td>\n",
       "      <td>558.0</td>\n",
       "    </tr>\n",
       "    <tr>\n",
       "      <th>3</th>\n",
       "      <td>0</td>\n",
       "      <td>64900000</td>\n",
       "      <td>159.0</td>\n",
       "      <td>2015-07-24</td>\n",
       "      <td>3</td>\n",
       "      <td>2.65</td>\n",
       "      <td>14</td>\n",
       "      <td>NaN</td>\n",
       "      <td>9</td>\n",
       "      <td>NaN</td>\n",
       "      <td>...</td>\n",
       "      <td>NaN</td>\n",
       "      <td>0</td>\n",
       "      <td>Санкт-Петербург</td>\n",
       "      <td>28098.0</td>\n",
       "      <td>6800.0</td>\n",
       "      <td>2.0</td>\n",
       "      <td>84.0</td>\n",
       "      <td>3.0</td>\n",
       "      <td>234.0</td>\n",
       "      <td>424.0</td>\n",
       "    </tr>\n",
       "    <tr>\n",
       "      <th>4</th>\n",
       "      <td>2</td>\n",
       "      <td>10000000</td>\n",
       "      <td>100.0</td>\n",
       "      <td>2018-06-19</td>\n",
       "      <td>2</td>\n",
       "      <td>3.03</td>\n",
       "      <td>14</td>\n",
       "      <td>32.0</td>\n",
       "      <td>13</td>\n",
       "      <td>NaN</td>\n",
       "      <td>...</td>\n",
       "      <td>41.0</td>\n",
       "      <td>0</td>\n",
       "      <td>Санкт-Петербург</td>\n",
       "      <td>31856.0</td>\n",
       "      <td>8098.0</td>\n",
       "      <td>2.0</td>\n",
       "      <td>112.0</td>\n",
       "      <td>1.0</td>\n",
       "      <td>48.0</td>\n",
       "      <td>121.0</td>\n",
       "    </tr>\n",
       "  </tbody>\n",
       "</table>\n",
       "<p>5 rows × 22 columns</p>\n",
       "</div>"
      ],
      "text/plain": [
       "   total_images  last_price  total_area first_day_exposition  rooms  \\\n",
       "0            20    13000000       108.0           2019-03-07      3   \n",
       "1             7     3350000        40.4           2018-12-04      1   \n",
       "2            10     5196000        56.0           2015-08-20      2   \n",
       "3             0    64900000       159.0           2015-07-24      3   \n",
       "4             2    10000000       100.0           2018-06-19      2   \n",
       "\n",
       "   ceiling_height  floors_total  living_area  floor is_apartment  ...  \\\n",
       "0            2.70            16         51.0      8          NaN  ...   \n",
       "1            2.65            11         18.6      1          NaN  ...   \n",
       "2            2.65             5         34.3      4          NaN  ...   \n",
       "3            2.65            14          NaN      9          NaN  ...   \n",
       "4            3.03            14         32.0     13          NaN  ...   \n",
       "\n",
       "   kitchen_area  balcony    locality_name  airports_nearest  \\\n",
       "0          25.0        0  Санкт-Петербург           18863.0   \n",
       "1          11.0        2   посёлок Шушары           12817.0   \n",
       "2           8.3        0  Санкт-Петербург           21741.0   \n",
       "3           NaN        0  Санкт-Петербург           28098.0   \n",
       "4          41.0        0  Санкт-Петербург           31856.0   \n",
       "\n",
       "  cityCenters_nearest  parks_around3000  parks_nearest  ponds_around3000  \\\n",
       "0             16028.0               1.0          482.0               2.0   \n",
       "1             18603.0               0.0            NaN               0.0   \n",
       "2             13933.0               1.0           90.0               2.0   \n",
       "3              6800.0               2.0           84.0               3.0   \n",
       "4              8098.0               2.0          112.0               1.0   \n",
       "\n",
       "   ponds_nearest  days_exposition  \n",
       "0          755.0              NaN  \n",
       "1            NaN             81.0  \n",
       "2          574.0            558.0  \n",
       "3          234.0            424.0  \n",
       "4           48.0            121.0  \n",
       "\n",
       "[5 rows x 22 columns]"
      ]
     },
     "metadata": {},
     "output_type": "display_data"
    }
   ],
   "source": [
    "display(data.head())"
   ]
  },
  {
   "cell_type": "markdown",
   "metadata": {},
   "source": [
    "Сделал дату публикации читаемой"
   ]
  },
  {
   "cell_type": "markdown",
   "metadata": {},
   "source": [
    "Работу с предобработкой данных мы закончили успешно. Мы проанализировали пропуски, и заменили их на более подходящие значения. Там, где заполнение пропусков было невозможно, мы удалили эти строки для объективности дальнейшего исследования. Также поменяли тип данных там, где это было необходимо, и скорректировали формат даты. "
   ]
  },
  {
   "cell_type": "markdown",
   "metadata": {},
   "source": [
    "## Расчёты и добавление результатов в таблицу"
   ]
  },
  {
   "cell_type": "code",
   "execution_count": 12,
   "metadata": {},
   "outputs": [],
   "source": [
    "data['price_square_meter'] = data['last_price'] / data['total_area']\n",
    "data['price_square_meter'] = data['price_square_meter'].round(1)\n",
    "#создал столбец с ценой квадратного метра, изменил тип на целочисленный"
   ]
  },
  {
   "cell_type": "code",
   "execution_count": 13,
   "metadata": {},
   "outputs": [],
   "source": [
    "def apartment_floor(row):\n",
    "    \n",
    "    #функция для категоризации этажей\n",
    "    \n",
    "    if row['floor'] == 1:\n",
    "        return 'первый'\n",
    "    \n",
    "    elif row['floor'] == row['floors_total']:\n",
    "        return 'последний'\n",
    "    \n",
    "    else:\n",
    "        return 'другой'"
   ]
  },
  {
   "cell_type": "code",
   "execution_count": 14,
   "metadata": {},
   "outputs": [],
   "source": [
    "data['apartment_floor'] = data.apply(apartment_floor, axis=1)"
   ]
  },
  {
   "cell_type": "code",
   "execution_count": 15,
   "metadata": {
    "scrolled": true
   },
   "outputs": [
    {
     "data": {
      "text/html": [
       "<div>\n",
       "<style scoped>\n",
       "    .dataframe tbody tr th:only-of-type {\n",
       "        vertical-align: middle;\n",
       "    }\n",
       "\n",
       "    .dataframe tbody tr th {\n",
       "        vertical-align: top;\n",
       "    }\n",
       "\n",
       "    .dataframe thead th {\n",
       "        text-align: right;\n",
       "    }\n",
       "</style>\n",
       "<table border=\"1\" class=\"dataframe\">\n",
       "  <thead>\n",
       "    <tr style=\"text-align: right;\">\n",
       "      <th></th>\n",
       "      <th>total_images</th>\n",
       "      <th>last_price</th>\n",
       "      <th>total_area</th>\n",
       "      <th>first_day_exposition</th>\n",
       "      <th>rooms</th>\n",
       "      <th>ceiling_height</th>\n",
       "      <th>floors_total</th>\n",
       "      <th>living_area</th>\n",
       "      <th>floor</th>\n",
       "      <th>is_apartment</th>\n",
       "      <th>...</th>\n",
       "      <th>locality_name</th>\n",
       "      <th>airports_nearest</th>\n",
       "      <th>cityCenters_nearest</th>\n",
       "      <th>parks_around3000</th>\n",
       "      <th>parks_nearest</th>\n",
       "      <th>ponds_around3000</th>\n",
       "      <th>ponds_nearest</th>\n",
       "      <th>days_exposition</th>\n",
       "      <th>price_square_meter</th>\n",
       "      <th>apartment_floor</th>\n",
       "    </tr>\n",
       "  </thead>\n",
       "  <tbody>\n",
       "    <tr>\n",
       "      <th>0</th>\n",
       "      <td>20</td>\n",
       "      <td>13000000</td>\n",
       "      <td>108.0</td>\n",
       "      <td>2019-03-07</td>\n",
       "      <td>3</td>\n",
       "      <td>2.70</td>\n",
       "      <td>16</td>\n",
       "      <td>51.0</td>\n",
       "      <td>8</td>\n",
       "      <td>NaN</td>\n",
       "      <td>...</td>\n",
       "      <td>Санкт-Петербург</td>\n",
       "      <td>18863.0</td>\n",
       "      <td>16028.0</td>\n",
       "      <td>1.0</td>\n",
       "      <td>482.0</td>\n",
       "      <td>2.0</td>\n",
       "      <td>755.0</td>\n",
       "      <td>NaN</td>\n",
       "      <td>120370.4</td>\n",
       "      <td>другой</td>\n",
       "    </tr>\n",
       "    <tr>\n",
       "      <th>1</th>\n",
       "      <td>7</td>\n",
       "      <td>3350000</td>\n",
       "      <td>40.4</td>\n",
       "      <td>2018-12-04</td>\n",
       "      <td>1</td>\n",
       "      <td>2.65</td>\n",
       "      <td>11</td>\n",
       "      <td>18.6</td>\n",
       "      <td>1</td>\n",
       "      <td>NaN</td>\n",
       "      <td>...</td>\n",
       "      <td>посёлок Шушары</td>\n",
       "      <td>12817.0</td>\n",
       "      <td>18603.0</td>\n",
       "      <td>0.0</td>\n",
       "      <td>NaN</td>\n",
       "      <td>0.0</td>\n",
       "      <td>NaN</td>\n",
       "      <td>81.0</td>\n",
       "      <td>82920.8</td>\n",
       "      <td>первый</td>\n",
       "    </tr>\n",
       "    <tr>\n",
       "      <th>2</th>\n",
       "      <td>10</td>\n",
       "      <td>5196000</td>\n",
       "      <td>56.0</td>\n",
       "      <td>2015-08-20</td>\n",
       "      <td>2</td>\n",
       "      <td>2.65</td>\n",
       "      <td>5</td>\n",
       "      <td>34.3</td>\n",
       "      <td>4</td>\n",
       "      <td>NaN</td>\n",
       "      <td>...</td>\n",
       "      <td>Санкт-Петербург</td>\n",
       "      <td>21741.0</td>\n",
       "      <td>13933.0</td>\n",
       "      <td>1.0</td>\n",
       "      <td>90.0</td>\n",
       "      <td>2.0</td>\n",
       "      <td>574.0</td>\n",
       "      <td>558.0</td>\n",
       "      <td>92785.7</td>\n",
       "      <td>другой</td>\n",
       "    </tr>\n",
       "    <tr>\n",
       "      <th>3</th>\n",
       "      <td>0</td>\n",
       "      <td>64900000</td>\n",
       "      <td>159.0</td>\n",
       "      <td>2015-07-24</td>\n",
       "      <td>3</td>\n",
       "      <td>2.65</td>\n",
       "      <td>14</td>\n",
       "      <td>NaN</td>\n",
       "      <td>9</td>\n",
       "      <td>NaN</td>\n",
       "      <td>...</td>\n",
       "      <td>Санкт-Петербург</td>\n",
       "      <td>28098.0</td>\n",
       "      <td>6800.0</td>\n",
       "      <td>2.0</td>\n",
       "      <td>84.0</td>\n",
       "      <td>3.0</td>\n",
       "      <td>234.0</td>\n",
       "      <td>424.0</td>\n",
       "      <td>408176.1</td>\n",
       "      <td>другой</td>\n",
       "    </tr>\n",
       "    <tr>\n",
       "      <th>4</th>\n",
       "      <td>2</td>\n",
       "      <td>10000000</td>\n",
       "      <td>100.0</td>\n",
       "      <td>2018-06-19</td>\n",
       "      <td>2</td>\n",
       "      <td>3.03</td>\n",
       "      <td>14</td>\n",
       "      <td>32.0</td>\n",
       "      <td>13</td>\n",
       "      <td>NaN</td>\n",
       "      <td>...</td>\n",
       "      <td>Санкт-Петербург</td>\n",
       "      <td>31856.0</td>\n",
       "      <td>8098.0</td>\n",
       "      <td>2.0</td>\n",
       "      <td>112.0</td>\n",
       "      <td>1.0</td>\n",
       "      <td>48.0</td>\n",
       "      <td>121.0</td>\n",
       "      <td>100000.0</td>\n",
       "      <td>другой</td>\n",
       "    </tr>\n",
       "  </tbody>\n",
       "</table>\n",
       "<p>5 rows × 24 columns</p>\n",
       "</div>"
      ],
      "text/plain": [
       "   total_images  last_price  total_area first_day_exposition  rooms  \\\n",
       "0            20    13000000       108.0           2019-03-07      3   \n",
       "1             7     3350000        40.4           2018-12-04      1   \n",
       "2            10     5196000        56.0           2015-08-20      2   \n",
       "3             0    64900000       159.0           2015-07-24      3   \n",
       "4             2    10000000       100.0           2018-06-19      2   \n",
       "\n",
       "   ceiling_height  floors_total  living_area  floor is_apartment  ...  \\\n",
       "0            2.70            16         51.0      8          NaN  ...   \n",
       "1            2.65            11         18.6      1          NaN  ...   \n",
       "2            2.65             5         34.3      4          NaN  ...   \n",
       "3            2.65            14          NaN      9          NaN  ...   \n",
       "4            3.03            14         32.0     13          NaN  ...   \n",
       "\n",
       "     locality_name  airports_nearest  cityCenters_nearest  parks_around3000  \\\n",
       "0  Санкт-Петербург           18863.0              16028.0               1.0   \n",
       "1   посёлок Шушары           12817.0              18603.0               0.0   \n",
       "2  Санкт-Петербург           21741.0              13933.0               1.0   \n",
       "3  Санкт-Петербург           28098.0               6800.0               2.0   \n",
       "4  Санкт-Петербург           31856.0               8098.0               2.0   \n",
       "\n",
       "  parks_nearest  ponds_around3000  ponds_nearest  days_exposition  \\\n",
       "0         482.0               2.0          755.0              NaN   \n",
       "1           NaN               0.0            NaN             81.0   \n",
       "2          90.0               2.0          574.0            558.0   \n",
       "3          84.0               3.0          234.0            424.0   \n",
       "4         112.0               1.0           48.0            121.0   \n",
       "\n",
       "   price_square_meter  apartment_floor  \n",
       "0            120370.4           другой  \n",
       "1             82920.8           первый  \n",
       "2             92785.7           другой  \n",
       "3            408176.1           другой  \n",
       "4            100000.0           другой  \n",
       "\n",
       "[5 rows x 24 columns]"
      ]
     },
     "metadata": {},
     "output_type": "display_data"
    }
   ],
   "source": [
    "display(data.head())"
   ]
  },
  {
   "cell_type": "code",
   "execution_count": 16,
   "metadata": {},
   "outputs": [],
   "source": [
    "data['the_ratio_of_living_and_total_areas'] = data['living_area'] / data['total_area']\n",
    "data['the_ratio_of_living_and_total_areas'] = data['the_ratio_of_living_and_total_areas'].round(1)"
   ]
  },
  {
   "cell_type": "code",
   "execution_count": 17,
   "metadata": {},
   "outputs": [],
   "source": [
    "data['the_ratio_of_the_kitchen_to_the_total_areas'] = data['kitchen_area'] / data['total_area']\n",
    "data['the_ratio_of_the_kitchen_to_the_total_areas'] = data['the_ratio_of_the_kitchen_to_the_total_areas'].round(1)\n",
    "#создаю два столбца: соотношение жилой и общей площади; соотношение площади кухни к общей площади"
   ]
  },
  {
   "cell_type": "code",
   "execution_count": 18,
   "metadata": {},
   "outputs": [
    {
     "data": {
      "text/html": [
       "<div>\n",
       "<style scoped>\n",
       "    .dataframe tbody tr th:only-of-type {\n",
       "        vertical-align: middle;\n",
       "    }\n",
       "\n",
       "    .dataframe tbody tr th {\n",
       "        vertical-align: top;\n",
       "    }\n",
       "\n",
       "    .dataframe thead th {\n",
       "        text-align: right;\n",
       "    }\n",
       "</style>\n",
       "<table border=\"1\" class=\"dataframe\">\n",
       "  <thead>\n",
       "    <tr style=\"text-align: right;\">\n",
       "      <th></th>\n",
       "      <th>total_images</th>\n",
       "      <th>last_price</th>\n",
       "      <th>total_area</th>\n",
       "      <th>first_day_exposition</th>\n",
       "      <th>rooms</th>\n",
       "      <th>ceiling_height</th>\n",
       "      <th>floors_total</th>\n",
       "      <th>living_area</th>\n",
       "      <th>floor</th>\n",
       "      <th>is_apartment</th>\n",
       "      <th>...</th>\n",
       "      <th>cityCenters_nearest</th>\n",
       "      <th>parks_around3000</th>\n",
       "      <th>parks_nearest</th>\n",
       "      <th>ponds_around3000</th>\n",
       "      <th>ponds_nearest</th>\n",
       "      <th>days_exposition</th>\n",
       "      <th>price_square_meter</th>\n",
       "      <th>apartment_floor</th>\n",
       "      <th>the_ratio_of_living_and_total_areas</th>\n",
       "      <th>the_ratio_of_the_kitchen_to_the_total_areas</th>\n",
       "    </tr>\n",
       "  </thead>\n",
       "  <tbody>\n",
       "    <tr>\n",
       "      <th>0</th>\n",
       "      <td>20</td>\n",
       "      <td>13000000</td>\n",
       "      <td>108.0</td>\n",
       "      <td>2019-03-07</td>\n",
       "      <td>3</td>\n",
       "      <td>2.70</td>\n",
       "      <td>16</td>\n",
       "      <td>51.0</td>\n",
       "      <td>8</td>\n",
       "      <td>NaN</td>\n",
       "      <td>...</td>\n",
       "      <td>16028.0</td>\n",
       "      <td>1.0</td>\n",
       "      <td>482.0</td>\n",
       "      <td>2.0</td>\n",
       "      <td>755.0</td>\n",
       "      <td>NaN</td>\n",
       "      <td>120370.4</td>\n",
       "      <td>другой</td>\n",
       "      <td>0.5</td>\n",
       "      <td>0.2</td>\n",
       "    </tr>\n",
       "    <tr>\n",
       "      <th>1</th>\n",
       "      <td>7</td>\n",
       "      <td>3350000</td>\n",
       "      <td>40.4</td>\n",
       "      <td>2018-12-04</td>\n",
       "      <td>1</td>\n",
       "      <td>2.65</td>\n",
       "      <td>11</td>\n",
       "      <td>18.6</td>\n",
       "      <td>1</td>\n",
       "      <td>NaN</td>\n",
       "      <td>...</td>\n",
       "      <td>18603.0</td>\n",
       "      <td>0.0</td>\n",
       "      <td>NaN</td>\n",
       "      <td>0.0</td>\n",
       "      <td>NaN</td>\n",
       "      <td>81.0</td>\n",
       "      <td>82920.8</td>\n",
       "      <td>первый</td>\n",
       "      <td>0.5</td>\n",
       "      <td>0.3</td>\n",
       "    </tr>\n",
       "    <tr>\n",
       "      <th>2</th>\n",
       "      <td>10</td>\n",
       "      <td>5196000</td>\n",
       "      <td>56.0</td>\n",
       "      <td>2015-08-20</td>\n",
       "      <td>2</td>\n",
       "      <td>2.65</td>\n",
       "      <td>5</td>\n",
       "      <td>34.3</td>\n",
       "      <td>4</td>\n",
       "      <td>NaN</td>\n",
       "      <td>...</td>\n",
       "      <td>13933.0</td>\n",
       "      <td>1.0</td>\n",
       "      <td>90.0</td>\n",
       "      <td>2.0</td>\n",
       "      <td>574.0</td>\n",
       "      <td>558.0</td>\n",
       "      <td>92785.7</td>\n",
       "      <td>другой</td>\n",
       "      <td>0.6</td>\n",
       "      <td>0.1</td>\n",
       "    </tr>\n",
       "    <tr>\n",
       "      <th>3</th>\n",
       "      <td>0</td>\n",
       "      <td>64900000</td>\n",
       "      <td>159.0</td>\n",
       "      <td>2015-07-24</td>\n",
       "      <td>3</td>\n",
       "      <td>2.65</td>\n",
       "      <td>14</td>\n",
       "      <td>NaN</td>\n",
       "      <td>9</td>\n",
       "      <td>NaN</td>\n",
       "      <td>...</td>\n",
       "      <td>6800.0</td>\n",
       "      <td>2.0</td>\n",
       "      <td>84.0</td>\n",
       "      <td>3.0</td>\n",
       "      <td>234.0</td>\n",
       "      <td>424.0</td>\n",
       "      <td>408176.1</td>\n",
       "      <td>другой</td>\n",
       "      <td>NaN</td>\n",
       "      <td>NaN</td>\n",
       "    </tr>\n",
       "    <tr>\n",
       "      <th>4</th>\n",
       "      <td>2</td>\n",
       "      <td>10000000</td>\n",
       "      <td>100.0</td>\n",
       "      <td>2018-06-19</td>\n",
       "      <td>2</td>\n",
       "      <td>3.03</td>\n",
       "      <td>14</td>\n",
       "      <td>32.0</td>\n",
       "      <td>13</td>\n",
       "      <td>NaN</td>\n",
       "      <td>...</td>\n",
       "      <td>8098.0</td>\n",
       "      <td>2.0</td>\n",
       "      <td>112.0</td>\n",
       "      <td>1.0</td>\n",
       "      <td>48.0</td>\n",
       "      <td>121.0</td>\n",
       "      <td>100000.0</td>\n",
       "      <td>другой</td>\n",
       "      <td>0.3</td>\n",
       "      <td>0.4</td>\n",
       "    </tr>\n",
       "  </tbody>\n",
       "</table>\n",
       "<p>5 rows × 26 columns</p>\n",
       "</div>"
      ],
      "text/plain": [
       "   total_images  last_price  total_area first_day_exposition  rooms  \\\n",
       "0            20    13000000       108.0           2019-03-07      3   \n",
       "1             7     3350000        40.4           2018-12-04      1   \n",
       "2            10     5196000        56.0           2015-08-20      2   \n",
       "3             0    64900000       159.0           2015-07-24      3   \n",
       "4             2    10000000       100.0           2018-06-19      2   \n",
       "\n",
       "   ceiling_height  floors_total  living_area  floor is_apartment  ...  \\\n",
       "0            2.70            16         51.0      8          NaN  ...   \n",
       "1            2.65            11         18.6      1          NaN  ...   \n",
       "2            2.65             5         34.3      4          NaN  ...   \n",
       "3            2.65            14          NaN      9          NaN  ...   \n",
       "4            3.03            14         32.0     13          NaN  ...   \n",
       "\n",
       "   cityCenters_nearest  parks_around3000  parks_nearest  ponds_around3000  \\\n",
       "0              16028.0               1.0          482.0               2.0   \n",
       "1              18603.0               0.0            NaN               0.0   \n",
       "2              13933.0               1.0           90.0               2.0   \n",
       "3               6800.0               2.0           84.0               3.0   \n",
       "4               8098.0               2.0          112.0               1.0   \n",
       "\n",
       "  ponds_nearest  days_exposition  price_square_meter  apartment_floor  \\\n",
       "0         755.0              NaN            120370.4           другой   \n",
       "1           NaN             81.0             82920.8           первый   \n",
       "2         574.0            558.0             92785.7           другой   \n",
       "3         234.0            424.0            408176.1           другой   \n",
       "4          48.0            121.0            100000.0           другой   \n",
       "\n",
       "   the_ratio_of_living_and_total_areas  \\\n",
       "0                                  0.5   \n",
       "1                                  0.5   \n",
       "2                                  0.6   \n",
       "3                                  NaN   \n",
       "4                                  0.3   \n",
       "\n",
       "   the_ratio_of_the_kitchen_to_the_total_areas  \n",
       "0                                          0.2  \n",
       "1                                          0.3  \n",
       "2                                          0.1  \n",
       "3                                          NaN  \n",
       "4                                          0.4  \n",
       "\n",
       "[5 rows x 26 columns]"
      ]
     },
     "metadata": {},
     "output_type": "display_data"
    }
   ],
   "source": [
    "display(data.head())"
   ]
  },
  {
   "cell_type": "code",
   "execution_count": 19,
   "metadata": {},
   "outputs": [],
   "source": [
    "data['month'] = data['first_day_exposition'].dt.month\n",
    "data['day'] = data['first_day_exposition'].dt.day\n",
    "data['year'] = data['first_day_exposition'].dt.year"
   ]
  },
  {
   "cell_type": "markdown",
   "metadata": {},
   "source": [
    "## Исследовательский анализ данных"
   ]
  },
  {
   "cell_type": "markdown",
   "metadata": {},
   "source": [
    "Избавимся от выбросов"
   ]
  },
  {
   "cell_type": "code",
   "execution_count": 20,
   "metadata": {},
   "outputs": [
    {
     "data": {
      "text/plain": [
       "(0.0, 1000.0)"
      ]
     },
     "execution_count": 20,
     "metadata": {},
     "output_type": "execute_result"
    },
    {
     "data": {
      "image/png": "[encoded data removed]",
      "text/plain": [
       "<Figure size 432x288 with 1 Axes>"
      ]
     },
     "metadata": {
      "needs_background": "light"
     },
     "output_type": "display_data"
    }
   ],
   "source": [
    "data.boxplot(column='total_area')\n",
    "plt.ylim(0,1000)"
   ]
  },
  {
   "cell_type": "code",
   "execution_count": 21,
   "metadata": {},
   "outputs": [],
   "source": [
    "data = data.query('0 < total_area < 600')"
   ]
  },
  {
   "cell_type": "code",
   "execution_count": 22,
   "metadata": {},
   "outputs": [
    {
     "data": {
      "text/plain": [
       "<AxesSubplot:>"
      ]
     },
     "execution_count": 22,
     "metadata": {},
     "output_type": "execute_result"
    },
    {
     "data": {
      "image/png": "[encoded data removed]",
      "text/plain": [
       "<Figure size 432x288 with 1 Axes>"
      ]
     },
     "metadata": {
      "needs_background": "light"
     },
     "output_type": "display_data"
    }
   ],
   "source": [
    "data.boxplot(column='price_square_meter')"
   ]
  },
  {
   "cell_type": "code",
   "execution_count": 23,
   "metadata": {},
   "outputs": [],
   "source": [
    "data = data.query('0 < price_square_meter < 800000')"
   ]
  },
  {
   "cell_type": "code",
   "execution_count": 24,
   "metadata": {},
   "outputs": [
    {
     "data": {
      "text/plain": [
       "<AxesSubplot:>"
      ]
     },
     "execution_count": 24,
     "metadata": {},
     "output_type": "execute_result"
    },
    {
     "data": {
      "image/png": "[encoded data removed]",
      "text/plain": [
       "<Figure size 432x288 with 1 Axes>"
      ]
     },
     "metadata": {
      "needs_background": "light"
     },
     "output_type": "display_data"
    }
   ],
   "source": [
    "data.boxplot(column='ceiling_height')"
   ]
  },
  {
   "cell_type": "code",
   "execution_count": 25,
   "metadata": {},
   "outputs": [],
   "source": [
    "data = data.query('2.5 < ceiling_height < 40')"
   ]
  },
  {
   "cell_type": "markdown",
   "metadata": {},
   "source": [
    "# Гистограммы и графики"
   ]
  },
  {
   "cell_type": "code",
   "execution_count": 26,
   "metadata": {
    "scrolled": true
   },
   "outputs": [
    {
     "data": {
      "text/plain": [
       "<AxesSubplot:>"
      ]
     },
     "execution_count": 26,
     "metadata": {},
     "output_type": "execute_result"
    },
    {
     "data": {
      "image/png": "[encoded data removed]",
      "text/plain": [
       "<Figure size 432x288 with 1 Axes>"
      ]
     },
     "metadata": {
      "needs_background": "light"
     },
     "output_type": "display_data"
    }
   ],
   "source": [
    "data['total_area'].hist(bins=100,range=(0,200))"
   ]
  },
  {
   "cell_type": "markdown",
   "metadata": {},
   "source": [
    "Здесь мы видим, что в основном квартиры продавались с площадью от 30 до 75 кв м, выделяется пик на значении около 45 кв м. Квартир с площадью свыше 100 кв м намного меньше. "
   ]
  },
  {
   "cell_type": "code",
   "execution_count": 27,
   "metadata": {
    "scrolled": true
   },
   "outputs": [
    {
     "data": {
      "text/plain": [
       "<AxesSubplot:>"
      ]
     },
     "execution_count": 27,
     "metadata": {},
     "output_type": "execute_result"
    },
    {
     "data": {
      "image/png": "[encoded data removed]",
      "text/plain": [
       "<Figure size 432x288 with 1 Axes>"
      ]
     },
     "metadata": {
      "needs_background": "light"
     },
     "output_type": "display_data"
    }
   ],
   "source": [
    "data['last_price'].hist(bins=100,range=(1000000,20000000))"
   ]
  },
  {
   "cell_type": "markdown",
   "metadata": {},
   "source": [
    "на данной гистограмме видим, что цена, по которой продавалась большая часть квартир, составляет от 2 до 7,5 млн руб. "
   ]
  },
  {
   "cell_type": "code",
   "execution_count": 28,
   "metadata": {
    "scrolled": false
   },
   "outputs": [
    {
     "data": {
      "text/plain": [
       "<AxesSubplot:>"
      ]
     },
     "execution_count": 28,
     "metadata": {},
     "output_type": "execute_result"
    },
    {
     "data": {
      "image/png": "[encoded data removed]",
      "text/plain": [
       "<Figure size 432x288 with 1 Axes>"
      ]
     },
     "metadata": {
      "needs_background": "light"
     },
     "output_type": "display_data"
    }
   ],
   "source": [
    "data['rooms'].hist(bins=100,range=(0,8))"
   ]
  },
  {
   "cell_type": "markdown",
   "metadata": {},
   "source": [
    "на данной гистограмме видим, что в основном квартиры продают с одной, двумя и тремя комнатами"
   ]
  },
  {
   "cell_type": "code",
   "execution_count": 29,
   "metadata": {
    "scrolled": false
   },
   "outputs": [
    {
     "data": {
      "text/plain": [
       "<AxesSubplot:>"
      ]
     },
     "execution_count": 29,
     "metadata": {},
     "output_type": "execute_result"
    },
    {
     "data": {
      "image/png": "[encoded data removed]",
      "text/plain": [
       "<Figure size 432x288 with 1 Axes>"
      ]
     },
     "metadata": {
      "needs_background": "light"
     },
     "output_type": "display_data"
    }
   ],
   "source": [
    "data['ceiling_height'].hist(bins=10,range=(0,5))"
   ]
  },
  {
   "cell_type": "markdown",
   "metadata": {},
   "source": [
    "здесь видим, что в основном высота потолков продаваемых квартир 2,7 м, что соответсвует медиане. Гистограмма с данными о квартирах с потолками свыше 4 м имеет длинный хвост близкий к нулю, это означает что такие квартиры практически не продаются.  "
   ]
  },
  {
   "cell_type": "code",
   "execution_count": 30,
   "metadata": {
    "scrolled": false
   },
   "outputs": [
    {
     "data": {
      "text/plain": [
       "<AxesSubplot:>"
      ]
     },
     "execution_count": 30,
     "metadata": {},
     "output_type": "execute_result"
    },
    {
     "data": {
      "image/png": "[encoded data removed]",
      "text/plain": [
       "<Figure size 432x288 with 1 Axes>"
      ]
     },
     "metadata": {
      "needs_background": "light"
     },
     "output_type": "display_data"
    }
   ],
   "source": [
    "data['days_exposition'].hist(bins=100,range=(0,1000))"
   ]
  },
  {
   "cell_type": "markdown",
   "metadata": {},
   "source": [
    "на данной гистограмме мы видим, что длительность размещения объявления в основном составляет до 150 дней, свыше 200 дней количество объявлений постепенно уменьшается. Есть два пика около значений 40 и и 60 дней. "
   ]
  },
  {
   "cell_type": "code",
   "execution_count": 31,
   "metadata": {},
   "outputs": [
    {
     "data": {
      "text/plain": [
       "183.46346220029827"
      ]
     },
     "execution_count": 31,
     "metadata": {},
     "output_type": "execute_result"
    }
   ],
   "source": [
    "data['days_exposition'].mean()"
   ]
  },
  {
   "cell_type": "code",
   "execution_count": 32,
   "metadata": {},
   "outputs": [
    {
     "data": {
      "text/plain": [
       "97.0"
      ]
     },
     "execution_count": 32,
     "metadata": {},
     "output_type": "execute_result"
    }
   ],
   "source": [
    "data['days_exposition'].median()"
   ]
  },
  {
   "cell_type": "markdown",
   "metadata": {},
   "source": [
    "обычно продажа квартиры занимает 102 дня, это почти 3,5 месяца. Среднее значение сильно отличается от медианы из-за выбивающихся значений. Отбросим длительность продажи квартир свыше 200 дней. "
   ]
  },
  {
   "cell_type": "code",
   "execution_count": 33,
   "metadata": {},
   "outputs": [
    {
     "data": {
      "text/plain": [
       "60.0"
      ]
     },
     "execution_count": 33,
     "metadata": {},
     "output_type": "execute_result"
    }
   ],
   "source": [
    "data = data.query('0 < days_exposition < 200')\n",
    "data['days_exposition'].median()"
   ]
  },
  {
   "cell_type": "code",
   "execution_count": 34,
   "metadata": {},
   "outputs": [
    {
     "data": {
      "text/plain": [
       "72.97045252165466"
      ]
     },
     "execution_count": 34,
     "metadata": {},
     "output_type": "execute_result"
    }
   ],
   "source": [
    "data['days_exposition'].mean()"
   ]
  },
  {
   "cell_type": "markdown",
   "metadata": {},
   "source": [
    "теперь среднее значение намного меньше отличается от медианного, после того как мы отбросили слишком долгое количество дней. Медиана уменьшилась почти в 2 раза, и теперь мы можем сделать вывод, что обычно квартиры продаются за 2 месяца после размещения объявления. "
   ]
  },
  {
   "cell_type": "code",
   "execution_count": 35,
   "metadata": {},
   "outputs": [
    {
     "data": {
      "text/plain": [
       "<AxesSubplot:>"
      ]
     },
     "execution_count": 35,
     "metadata": {},
     "output_type": "execute_result"
    },
    {
     "data": {
      "image/png": "[encoded data removed]",
      "text/plain": [
       "<Figure size 432x288 with 1 Axes>"
      ]
     },
     "metadata": {
      "needs_background": "light"
     },
     "output_type": "display_data"
    }
   ],
   "source": [
    "data['days_exposition'].hist(bins=100)"
   ]
  },
  {
   "cell_type": "markdown",
   "metadata": {},
   "source": [
    "на гистограмме мы также можем наблюдать два больших пика по значениям, это значение около 45 дней, около 60 дней. Могу предположить, что эти пики связаны с работой приложения, то есть в эти сроки может заканчиваться период размещения объявления, а дальше пользователь должен решить, продлевать или нет. И часто бывает так, что пользователь просто забывает продлить, и размещение уходит в архив. "
   ]
  },
  {
   "cell_type": "code",
   "execution_count": 36,
   "metadata": {
    "scrolled": false
   },
   "outputs": [
    {
     "data": {
      "text/plain": [
       "0.717433401306742"
      ]
     },
     "execution_count": 36,
     "metadata": {},
     "output_type": "execute_result"
    }
   ],
   "source": [
    "data['total_area'].corr(data['last_price'])"
   ]
  },
  {
   "cell_type": "markdown",
   "metadata": {},
   "source": [
    "цена от площади имеет положительную зависимость, с увеличением площади, цена также растет"
   ]
  },
  {
   "cell_type": "code",
   "execution_count": 37,
   "metadata": {},
   "outputs": [
    {
     "data": {
      "text/plain": [
       "<AxesSubplot:xlabel='rooms'>"
      ]
     },
     "execution_count": 37,
     "metadata": {},
     "output_type": "execute_result"
    },
    {
     "data": {
      "image/png": "[encoded data removed]",
      "text/plain": [
       "<Figure size 432x288 with 1 Axes>"
      ]
     },
     "metadata": {
      "needs_background": "light"
     },
     "output_type": "display_data"
    }
   ],
   "source": [
    "data.groupby('rooms')['price_square_meter'].median().plot(x='rooms',y='price_square_meter',grid=True)"
   ]
  },
  {
   "cell_type": "markdown",
   "metadata": {},
   "source": [
    "Зависимость цены квадратного метра от количества комнат: мы можем заметить, что однокомнатные квартиры дороже, чем двух-трех-четырех-пятикомнатные квартиры, однако начиная с шестикомнатных квартир, цена на квадратный метр резко увеличивается. "
   ]
  },
  {
   "cell_type": "code",
   "execution_count": 38,
   "metadata": {},
   "outputs": [],
   "source": [
    "data = data.query('0 < days_exposition < 7500000')"
   ]
  },
  {
   "cell_type": "code",
   "execution_count": 39,
   "metadata": {},
   "outputs": [
    {
     "data": {
      "text/plain": [
       "<AxesSubplot:xlabel='cityCenters_nearest', ylabel='last_price'>"
      ]
     },
     "execution_count": 39,
     "metadata": {},
     "output_type": "execute_result"
    },
    {
     "data": {
      "image/png": "[encoded data removed]",
      "text/plain": [
       "<Figure size 432x288 with 1 Axes>"
      ]
     },
     "metadata": {
      "needs_background": "light"
     },
     "output_type": "display_data"
    }
   ],
   "source": [
    "data.plot(x='cityCenters_nearest', y='last_price', kind='scatter') "
   ]
  },
  {
   "cell_type": "markdown",
   "metadata": {},
   "source": [
    "На данных графиках видно, что чем дальше от центра, тем меньше цена."
   ]
  },
  {
   "cell_type": "code",
   "execution_count": 40,
   "metadata": {},
   "outputs": [
    {
     "data": {
      "text/plain": [
       "<AxesSubplot:xlabel='apartment_floor'>"
      ]
     },
     "execution_count": 40,
     "metadata": {},
     "output_type": "execute_result"
    },
    {
     "data": {
      "image/png": "[encoded data removed]",
      "text/plain": [
       "<Figure size 432x288 with 1 Axes>"
      ]
     },
     "metadata": {
      "needs_background": "light"
     },
     "output_type": "display_data"
    }
   ],
   "source": [
    "data.groupby('apartment_floor')['last_price'].median().plot(x='cityCenters_nearest',y='last_price',grid=True)"
   ]
  },
  {
   "cell_type": "markdown",
   "metadata": {},
   "source": [
    "На данном графике мы видим, что квартиры на первом этаже дешевле, чем на любом другом этаже. Самые \"дорогие\" этажи, это не первый и не последний, что точно совпадает с реальностью."
   ]
  },
  {
   "cell_type": "code",
   "execution_count": 41,
   "metadata": {},
   "outputs": [],
   "source": [
    "data['month'] = data['first_day_exposition'].dt.month"
   ]
  },
  {
   "cell_type": "code",
   "execution_count": 42,
   "metadata": {},
   "outputs": [
    {
     "data": {
      "text/plain": [
       "<AxesSubplot:xlabel='month'>"
      ]
     },
     "execution_count": 42,
     "metadata": {},
     "output_type": "execute_result"
    },
    {
     "data": {
      "image/png": "[encoded data removed]",
      "text/plain": [
       "<Figure size 432x288 with 1 Axes>"
      ]
     },
     "metadata": {
      "needs_background": "light"
     },
     "output_type": "display_data"
    }
   ],
   "source": [
    "data.groupby('month')['last_price'].median().plot(x='month',y='last_price',grid=True)"
   ]
  },
  {
   "cell_type": "markdown",
   "metadata": {},
   "source": [
    "На данном графике мы видим, как цена зависит от даты размещения, в данном случае от месяца размещения. Квартиры с самыми низкими ценами размещают в июне, а с самыми высокими в феврале, апреле, августе, сентябре и ноябре. "
   ]
  },
  {
   "cell_type": "code",
   "execution_count": 43,
   "metadata": {},
   "outputs": [],
   "source": [
    "data['year'] = data['first_day_exposition'].dt.year"
   ]
  },
  {
   "cell_type": "code",
   "execution_count": 44,
   "metadata": {
    "scrolled": true
   },
   "outputs": [
    {
     "data": {
      "text/plain": [
       "<AxesSubplot:xlabel='year'>"
      ]
     },
     "execution_count": 44,
     "metadata": {},
     "output_type": "execute_result"
    },
    {
     "data": {
      "image/png": "[encoded data removed]",
      "text/plain": [
       "<Figure size 432x288 with 1 Axes>"
      ]
     },
     "metadata": {
      "needs_background": "light"
     },
     "output_type": "display_data"
    }
   ],
   "source": [
    "data.groupby('year')['last_price'].median().plot(x='year',y='last_price',grid=True)"
   ]
  },
  {
   "cell_type": "markdown",
   "metadata": {},
   "source": [
    "Здесь мы наблюдаем резкий рост цены в 2015 году, в 2016 году цена оставалась без изменений, в 2017-2019 наблюдается плавный рост цен. "
   ]
  },
  {
   "cell_type": "code",
   "execution_count": 45,
   "metadata": {},
   "outputs": [],
   "source": [
    "data['day'] = data['first_day_exposition'].dt.day"
   ]
  },
  {
   "cell_type": "code",
   "execution_count": 46,
   "metadata": {
    "scrolled": false
   },
   "outputs": [
    {
     "data": {
      "text/plain": [
       "<AxesSubplot:xlabel='day'>"
      ]
     },
     "execution_count": 46,
     "metadata": {},
     "output_type": "execute_result"
    },
    {
     "data": {
      "image/png": "[encoded data removed]",
      "text/plain": [
       "<Figure size 432x288 with 1 Axes>"
      ]
     },
     "metadata": {
      "needs_background": "light"
     },
     "output_type": "display_data"
    }
   ],
   "source": [
    "data.groupby('day')['last_price'].median().plot(x='day',y='last_price',grid=True)"
   ]
  },
  {
   "cell_type": "markdown",
   "metadata": {},
   "source": [
    "На графике зависимости цены от дня месяца я не наблюдаю какой-либо зависимости"
   ]
  },
  {
   "cell_type": "markdown",
   "metadata": {},
   "source": [
    "Посчитаем среднюю цену квадратного метра в 10 населённых пунктах с наибольшим числом объявлений. Выделим среди них населённые пункты с самой высокой и низкой стоимостью жилья. "
   ]
  },
  {
   "cell_type": "code",
   "execution_count": 47,
   "metadata": {},
   "outputs": [
    {
     "data": {
      "text/plain": [
       "'Топ - 10 населенных пунктов, по количеству объявлений'"
      ]
     },
     "metadata": {},
     "output_type": "display_data"
    },
    {
     "data": {
      "text/html": [
       "<div>\n",
       "<style scoped>\n",
       "    .dataframe tbody tr th:only-of-type {\n",
       "        vertical-align: middle;\n",
       "    }\n",
       "\n",
       "    .dataframe tbody tr th {\n",
       "        vertical-align: top;\n",
       "    }\n",
       "\n",
       "    .dataframe thead th {\n",
       "        text-align: right;\n",
       "    }\n",
       "</style>\n",
       "<table border=\"1\" class=\"dataframe\">\n",
       "  <thead>\n",
       "    <tr style=\"text-align: right;\">\n",
       "      <th></th>\n",
       "      <th>Количество_объявлений</th>\n",
       "      <th>Средняя_цена_м2</th>\n",
       "    </tr>\n",
       "    <tr>\n",
       "      <th>locality_name</th>\n",
       "      <th></th>\n",
       "      <th></th>\n",
       "    </tr>\n",
       "  </thead>\n",
       "  <tbody>\n",
       "    <tr>\n",
       "      <th>Санкт-Петербург</th>\n",
       "      <td>8271</td>\n",
       "      <td>112056.859932</td>\n",
       "    </tr>\n",
       "    <tr>\n",
       "      <th>посёлок Мурино</th>\n",
       "      <td>401</td>\n",
       "      <td>86215.506733</td>\n",
       "    </tr>\n",
       "    <tr>\n",
       "      <th>посёлок Шушары</th>\n",
       "      <td>292</td>\n",
       "      <td>77938.447603</td>\n",
       "    </tr>\n",
       "    <tr>\n",
       "      <th>деревня Кудрово</th>\n",
       "      <td>216</td>\n",
       "      <td>93149.019907</td>\n",
       "    </tr>\n",
       "    <tr>\n",
       "      <th>посёлок Парголово</th>\n",
       "      <td>212</td>\n",
       "      <td>89128.412736</td>\n",
       "    </tr>\n",
       "    <tr>\n",
       "      <th>Всеволожск</th>\n",
       "      <td>211</td>\n",
       "      <td>70171.338863</td>\n",
       "    </tr>\n",
       "    <tr>\n",
       "      <th>Колпино</th>\n",
       "      <td>162</td>\n",
       "      <td>74705.912346</td>\n",
       "    </tr>\n",
       "    <tr>\n",
       "      <th>Пушкин</th>\n",
       "      <td>156</td>\n",
       "      <td>101829.850641</td>\n",
       "    </tr>\n",
       "    <tr>\n",
       "      <th>Гатчина</th>\n",
       "      <td>141</td>\n",
       "      <td>68553.343972</td>\n",
       "    </tr>\n",
       "    <tr>\n",
       "      <th>Выборг</th>\n",
       "      <td>126</td>\n",
       "      <td>58167.415079</td>\n",
       "    </tr>\n",
       "  </tbody>\n",
       "</table>\n",
       "</div>"
      ],
      "text/plain": [
       "                   Количество_объявлений  Средняя_цена_м2\n",
       "locality_name                                            \n",
       "Санкт-Петербург                     8271    112056.859932\n",
       "посёлок Мурино                       401     86215.506733\n",
       "посёлок Шушары                       292     77938.447603\n",
       "деревня Кудрово                      216     93149.019907\n",
       "посёлок Парголово                    212     89128.412736\n",
       "Всеволожск                           211     70171.338863\n",
       "Колпино                              162     74705.912346\n",
       "Пушкин                               156    101829.850641\n",
       "Гатчина                              141     68553.343972\n",
       "Выборг                               126     58167.415079"
      ]
     },
     "metadata": {},
     "output_type": "display_data"
    },
    {
     "data": {
      "text/plain": [
       "'Топ - 10 населенных пунктов, по количеству объявлений. Дополнительная сортировка по цене недвижимости'"
      ]
     },
     "metadata": {},
     "output_type": "display_data"
    },
    {
     "data": {
      "text/html": [
       "<div>\n",
       "<style scoped>\n",
       "    .dataframe tbody tr th:only-of-type {\n",
       "        vertical-align: middle;\n",
       "    }\n",
       "\n",
       "    .dataframe tbody tr th {\n",
       "        vertical-align: top;\n",
       "    }\n",
       "\n",
       "    .dataframe thead th {\n",
       "        text-align: right;\n",
       "    }\n",
       "</style>\n",
       "<table border=\"1\" class=\"dataframe\">\n",
       "  <thead>\n",
       "    <tr style=\"text-align: right;\">\n",
       "      <th></th>\n",
       "      <th>Количество_объявлений</th>\n",
       "      <th>Средняя_цена_м2</th>\n",
       "    </tr>\n",
       "    <tr>\n",
       "      <th>locality_name</th>\n",
       "      <th></th>\n",
       "      <th></th>\n",
       "    </tr>\n",
       "  </thead>\n",
       "  <tbody>\n",
       "    <tr>\n",
       "      <th>Санкт-Петербург</th>\n",
       "      <td>8271</td>\n",
       "      <td>112056.859932</td>\n",
       "    </tr>\n",
       "    <tr>\n",
       "      <th>Пушкин</th>\n",
       "      <td>156</td>\n",
       "      <td>101829.850641</td>\n",
       "    </tr>\n",
       "    <tr>\n",
       "      <th>деревня Кудрово</th>\n",
       "      <td>216</td>\n",
       "      <td>93149.019907</td>\n",
       "    </tr>\n",
       "    <tr>\n",
       "      <th>посёлок Парголово</th>\n",
       "      <td>212</td>\n",
       "      <td>89128.412736</td>\n",
       "    </tr>\n",
       "    <tr>\n",
       "      <th>посёлок Мурино</th>\n",
       "      <td>401</td>\n",
       "      <td>86215.506733</td>\n",
       "    </tr>\n",
       "    <tr>\n",
       "      <th>посёлок Шушары</th>\n",
       "      <td>292</td>\n",
       "      <td>77938.447603</td>\n",
       "    </tr>\n",
       "    <tr>\n",
       "      <th>Колпино</th>\n",
       "      <td>162</td>\n",
       "      <td>74705.912346</td>\n",
       "    </tr>\n",
       "    <tr>\n",
       "      <th>Всеволожск</th>\n",
       "      <td>211</td>\n",
       "      <td>70171.338863</td>\n",
       "    </tr>\n",
       "    <tr>\n",
       "      <th>Гатчина</th>\n",
       "      <td>141</td>\n",
       "      <td>68553.343972</td>\n",
       "    </tr>\n",
       "    <tr>\n",
       "      <th>Выборг</th>\n",
       "      <td>126</td>\n",
       "      <td>58167.415079</td>\n",
       "    </tr>\n",
       "  </tbody>\n",
       "</table>\n",
       "</div>"
      ],
      "text/plain": [
       "                   Количество_объявлений  Средняя_цена_м2\n",
       "locality_name                                            \n",
       "Санкт-Петербург                     8271    112056.859932\n",
       "Пушкин                               156    101829.850641\n",
       "деревня Кудрово                      216     93149.019907\n",
       "посёлок Парголово                    212     89128.412736\n",
       "посёлок Мурино                       401     86215.506733\n",
       "посёлок Шушары                       292     77938.447603\n",
       "Колпино                              162     74705.912346\n",
       "Всеволожск                           211     70171.338863\n",
       "Гатчина                              141     68553.343972\n",
       "Выборг                               126     58167.415079"
      ]
     },
     "metadata": {},
     "output_type": "display_data"
    }
   ],
   "source": [
    "top_10 = (\n",
    "    data.groupby('locality_name')\n",
    "    .agg(Количество_объявлений=('locality_name','count'),\n",
    "        Средняя_цена_м2=('price_square_meter','mean'))\n",
    "    .sort_values(by='Количество_объявлений',ascending=False)\n",
    "    .head(10)\n",
    ")\n",
    "display('Топ - 10 населенных пунктов, по количеству объявлений',top_10)\n",
    "display('Топ - 10 населенных пунктов, по количеству объявлений. Дополнительная сортировка по цене недвижимости',top_10.sort_values('Средняя_цена_м2',ascending=False))"
   ]
  },
  {
   "cell_type": "code",
   "execution_count": 48,
   "metadata": {},
   "outputs": [],
   "source": [
    "data['cityCenters_nearest_km'] = data['cityCenters_nearest'] / 1000\n",
    "data['cityCenters_nearest_km'] = data['cityCenters_nearest_km'].round()\n",
    "#создал столбец с расстоянием до центра города в км, значения округлены"
   ]
  },
  {
   "cell_type": "code",
   "execution_count": 49,
   "metadata": {},
   "outputs": [],
   "source": [
    "data_spb = data[data['locality_name'] == 'Санкт-Петербург']"
   ]
  },
  {
   "cell_type": "code",
   "execution_count": 50,
   "metadata": {
    "scrolled": false
   },
   "outputs": [
    {
     "data": {
      "text/plain": [
       "<AxesSubplot:xlabel='cityCenters_nearest_km'>"
      ]
     },
     "execution_count": 50,
     "metadata": {},
     "output_type": "execute_result"
    },
    {
     "data": {
      "image/png": "[encoded data removed]",
      "text/plain": [
       "<Figure size 432x288 with 1 Axes>"
      ]
     },
     "metadata": {
      "needs_background": "light"
     },
     "output_type": "display_data"
    }
   ],
   "source": [
    "data_spb.groupby('cityCenters_nearest_km')['price_square_meter'].median().plot(x='cityCenters_nearest_km',y='price_square_meter',grid=True)"
   ]
  },
  {
   "cell_type": "markdown",
   "metadata": {},
   "source": [
    "на графике зависимости цены за квадратный метр от удалённости от центра видно, что чем дальше от центра, тем цена за квадратный метр снижается. Центральная зона в Санкт-Петербурге заканчивается на расстоянии от центра около 5-6 км, где на графике наблюдается резкое снижение цены за квадратный метр. При этом на расстоянии 26 км от центра происхдит резкий скачок цены."
   ]
  },
  {
   "cell_type": "markdown",
   "metadata": {},
   "source": [
    "Проанализируем объявления в центре Санкт-Петербурга"
   ]
  },
  {
   "cell_type": "code",
   "execution_count": 51,
   "metadata": {},
   "outputs": [],
   "source": [
    "data_spb = data[data['cityCenters_nearest_km'] <= 6]"
   ]
  },
  {
   "cell_type": "code",
   "execution_count": 52,
   "metadata": {
    "scrolled": true
   },
   "outputs": [
    {
     "data": {
      "text/plain": [
       "<AxesSubplot:xlabel='rooms'>"
      ]
     },
     "execution_count": 52,
     "metadata": {},
     "output_type": "execute_result"
    },
    {
     "data": {
      "image/png": "[encoded data removed]",
      "text/plain": [
       "<Figure size 432x288 with 1 Axes>"
      ]
     },
     "metadata": {
      "needs_background": "light"
     },
     "output_type": "display_data"
    }
   ],
   "source": [
    "data_spb.groupby('rooms')['price_square_meter'].median().plot(x='rooms',y='price_square_meter',xlim=(0,13),grid=True)"
   ]
  },
  {
   "cell_type": "markdown",
   "metadata": {},
   "source": [
    "На графике зависимости цена за квадратный метр от количества комнат мы видим, что цена достаточно резко снижается с увеличением количества комнат в квартире. Если сравнивать центр Санкт-Петербурга с данными о городах, представленных в датафрейме, то там наблюдается небольшое снижение цены за трехкомнатные квартиры, а дальше небольшое увеличение цен до 12-комнатных квартир. "
   ]
  },
  {
   "cell_type": "code",
   "execution_count": 53,
   "metadata": {
    "scrolled": true
   },
   "outputs": [
    {
     "data": {
      "text/plain": [
       "<AxesSubplot:xlabel='floor'>"
      ]
     },
     "execution_count": 53,
     "metadata": {},
     "output_type": "execute_result"
    },
    {
     "data": {
      "image/png": "[encoded data removed]",
      "text/plain": [
       "<Figure size 432x288 with 1 Axes>"
      ]
     },
     "metadata": {
      "needs_background": "light"
     },
     "output_type": "display_data"
    }
   ],
   "source": [
    "data_spb.groupby('floor')['price_square_meter'].median().plot(x='floor',y='price_square_meter',xlim=(0,15),grid=True)"
   ]
  },
  {
   "cell_type": "markdown",
   "metadata": {},
   "source": [
    "В центральной зоне Санкт-Петербурга чем выше этаж, тем дороже цена за квадратный метр, что совпадает с теми же данными в других населенных пунктах"
   ]
  },
  {
   "cell_type": "markdown",
   "metadata": {},
   "source": [
    "На графиках которые находятся выше, с зависимостью цены от удаления от центра мы можем сделать вывод, что в центре Санкт-Петербурга, что в других населенных пунктах чем дальше от центра, тем цена ниже. "
   ]
  },
  {
   "cell_type": "code",
   "execution_count": 54,
   "metadata": {
    "scrolled": true
   },
   "outputs": [
    {
     "data": {
      "text/plain": [
       "<AxesSubplot:xlabel='month'>"
      ]
     },
     "execution_count": 54,
     "metadata": {},
     "output_type": "execute_result"
    },
    {
     "data": {
      "image/png": "[encoded data removed]",
      "text/plain": [
       "<Figure size 432x288 with 1 Axes>"
      ]
     },
     "metadata": {
      "needs_background": "light"
     },
     "output_type": "display_data"
    }
   ],
   "source": [
    "data_spb['month'] = data_spb['first_day_exposition'].dt.month\n",
    "data_spb.groupby('month')['last_price'].median().plot(x='month',y='last_price',grid=True)"
   ]
  },
  {
   "cell_type": "markdown",
   "metadata": {},
   "source": [
    "В центральной зоне Санкт-Петербурга на графике зависимости цены от месяца размещения объявления видим, что максимальные цены квартир размещались в феврале, сентябре и ноябре, что мало отличается от остальных населенных пунктов. Минимальные цены квартир размещались с марта по май, и в октябре, здесь совпадает только октябрь с остальными населенными пунктами, а вот с марта по май в других населеннх пунктах наоборот, цена квартир увеличивалась. "
   ]
  },
  {
   "cell_type": "code",
   "execution_count": 55,
   "metadata": {},
   "outputs": [
    {
     "data": {
      "text/plain": [
       "<AxesSubplot:xlabel='day'>"
      ]
     },
     "execution_count": 55,
     "metadata": {},
     "output_type": "execute_result"
    },
    {
     "data": {
      "image/png": "[encoded data removed]",
      "text/plain": [
       "<Figure size 432x288 with 1 Axes>"
      ]
     },
     "metadata": {
      "needs_background": "light"
     },
     "output_type": "display_data"
    }
   ],
   "source": [
    "data_spb['day'] = data_spb['first_day_exposition'].dt.day\n",
    "data_spb.groupby('day')['last_price'].median().plot(x='day',y='last_price',grid=True)"
   ]
  },
  {
   "cell_type": "markdown",
   "metadata": {},
   "source": [
    "На графике зависимости цены от дня размещения объявления я не наблюдаю какой-либо зависимости, так же как и в остальных населенных пунктах"
   ]
  },
  {
   "cell_type": "code",
   "execution_count": 56,
   "metadata": {},
   "outputs": [
    {
     "data": {
      "text/plain": [
       "<AxesSubplot:xlabel='year'>"
      ]
     },
     "execution_count": 56,
     "metadata": {},
     "output_type": "execute_result"
    },
    {
     "data": {
      "image/png": "[encoded data removed]",
      "text/plain": [
       "<Figure size 432x288 with 1 Axes>"
      ]
     },
     "metadata": {
      "needs_background": "light"
     },
     "output_type": "display_data"
    }
   ],
   "source": [
    "data_spb['year'] = data_spb['first_day_exposition'].dt.year\n",
    "data_spb.groupby('year')['last_price'].median().plot(x='year',y='last_price',grid=True)"
   ]
  },
  {
   "cell_type": "markdown",
   "metadata": {},
   "source": [
    "На данном графике зависимости цены от года размещения объявления видим, что в 2016 году был резкий рост цен как и в остальных населеных пунктах, а вот начиная с 2017 года в центральной зоне Санкт-Петербурга цены идут на спад, в то время как в остальных населенных пунктах цена плавно растет"
   ]
  },
  {
   "cell_type": "markdown",
   "metadata": {},
   "source": [
    "## Общий вывод"
   ]
  },
  {
   "cell_type": "markdown",
   "metadata": {},
   "source": [
    "## Чек-лист готовности проекта\n",
    "\n",
    "Поставьте 'x' в выполненных пунктах. Далее нажмите Shift+Enter."
   ]
  },
  {
   "cell_type": "markdown",
   "metadata": {},
   "source": [
    "- [x]  открыт файл\n",
    "- [x]  файлы изучены (выведены первые строки, метод `info()`)\n",
    "- [x]  определены пропущенные значения\n",
    "- [x]  заполнены пропущенные значения\n",
    "- [x]  есть пояснение, какие пропущенные значения обнаружены\n",
    "- [x]  изменены типы данных\n",
    "- [x]  есть пояснение, в каких столбцах изменены типы и почему\n",
    "- [x]  посчитано и добавлено в таблицу: цена квадратного метра\n",
    "- [x]  посчитано и добавлено в таблицу: день недели, месяц и год публикации объявления\n",
    "- [x]  посчитано и добавлено в таблицу: этаж квартиры; варианты — первый, последний, другой\n",
    "- [x]  посчитано и добавлено в таблицу: соотношение жилой и общей площади, а также отношение площади кухни к общей\n",
    "- [x]  изучены следующие параметры: площадь, цена, число комнат, высота потолков\n",
    "- [x]  построены гистограммы для каждого параметра\n",
    "- [x]  выполнено задание: «Изучите время продажи квартиры. Постройте гистограмму. Посчитайте среднее и медиану. Опишите, сколько обычно занимает продажа. Когда можно считать, что продажи прошли очень быстро, а когда необычно долго?»\n",
    "- [x]  выполнено задание: «Уберите редкие и выбивающиеся значения. Опишите, какие особенности обнаружили».\n",
    "- [x]  выполнено задание: «Какие факторы больше всего влияют на стоимость квартиры? Изучите, зависит ли цена от квадратного метра, числа комнат, этажа (первого или последнего), удалённости от центра. Также изучите зависимость от даты размещения: дня недели, месяца и года». \n",
    "- [x]  выполнено задание: «Выберите 10 населённых пунктов с наибольшим числом объявлений. Посчитайте среднюю цену квадратного метра в этих населённых пунктах. Выделите населённые пункты с самой высокой и низкой стоимостью жилья. Эти данные можно найти по имени в столбце `locality_name`».\n",
    "- [x]  выполнено задание: «Изучите предложения квартир: для каждой квартиры есть информация о расстоянии до центра. Выделите квартиры в Санкт-Петербурге (`locality_name`). Ваша задача — выяснить, какая область входит в центр. Создайте столбец с расстоянием до центра в километрах: округлите до целых значений. После этого посчитайте среднюю цену для каждого километра. Постройте график: он должен показывать, как цена зависит от удалённости от центра. Определите границу, где график сильно меняется — это и будет центральная зона».\n",
    "- [x]  выполнено задание: «Выделите сегмент квартир в центре. Проанализируйте эту территорию и изучите следующие параметры: площадь, цена, число комнат, высота потолков. Также выделите факторы, которые влияют на стоимость квартиры (число комнат, этаж, удалённость от центра, дата размещения объявления). Сделайте выводы. Отличаются ли они от общих выводов по всей базе?»\n",
    "- [x]  в каждом этапе есть выводы\n",
    "- [x]  есть общий вывод"
   ]
  }
 ],
 "metadata": {
  "ExecuteTimeLog": [
   {
    "duration": 692,
    "start_time": "2022-03-19T13:27:50.592Z"
   },
   {
    "duration": 116,
    "start_time": "2022-03-19T13:29:09.476Z"
   },
   {
    "duration": 163,
    "start_time": "2022-03-19T13:29:25.521Z"
   },
   {
    "duration": 18,
    "start_time": "2022-03-19T13:33:05.043Z"
   },
   {
    "duration": 20,
    "start_time": "2022-03-19T13:33:21.841Z"
   },
   {
    "duration": 23,
    "start_time": "2022-03-19T13:33:33.570Z"
   },
   {
    "duration": 485,
    "start_time": "2022-03-19T13:34:25.098Z"
   },
   {
    "duration": 107,
    "start_time": "2022-03-19T13:34:25.586Z"
   },
   {
    "duration": 92,
    "start_time": "2022-03-19T13:34:50.171Z"
   },
   {
    "duration": 13,
    "start_time": "2022-03-19T13:34:55.802Z"
   },
   {
    "duration": 141,
    "start_time": "2022-03-19T13:35:08.477Z"
   },
   {
    "duration": 167,
    "start_time": "2022-03-19T13:37:58.061Z"
   },
   {
    "duration": 23,
    "start_time": "2022-03-19T13:55:38.025Z"
   },
   {
    "duration": 157,
    "start_time": "2022-03-19T14:30:24.559Z"
   },
   {
    "duration": 481,
    "start_time": "2022-03-19T14:30:41.410Z"
   },
   {
    "duration": 174,
    "start_time": "2022-03-19T14:30:41.894Z"
   },
   {
    "duration": 30,
    "start_time": "2022-03-19T14:30:42.071Z"
   },
   {
    "duration": 96,
    "start_time": "2022-03-19T14:32:45.045Z"
   },
   {
    "duration": 13,
    "start_time": "2022-03-19T14:38:05.966Z"
   },
   {
    "duration": 607,
    "start_time": "2022-03-19T14:38:38.086Z"
   },
   {
    "duration": 188,
    "start_time": "2022-03-19T14:38:38.696Z"
   },
   {
    "duration": 24,
    "start_time": "2022-03-19T14:38:38.887Z"
   },
   {
    "duration": 122,
    "start_time": "2022-03-19T14:38:38.915Z"
   },
   {
    "duration": 15,
    "start_time": "2022-03-19T14:40:47.682Z"
   },
   {
    "duration": 518,
    "start_time": "2022-03-19T14:42:09.009Z"
   },
   {
    "duration": 176,
    "start_time": "2022-03-19T14:42:09.529Z"
   },
   {
    "duration": 21,
    "start_time": "2022-03-19T14:42:09.707Z"
   },
   {
    "duration": 129,
    "start_time": "2022-03-19T14:42:09.731Z"
   },
   {
    "duration": 5,
    "start_time": "2022-03-19T15:05:43.241Z"
   },
   {
    "duration": 140,
    "start_time": "2022-03-19T16:03:14.704Z"
   },
   {
    "duration": 9,
    "start_time": "2022-03-19T16:06:38.387Z"
   },
   {
    "duration": 257,
    "start_time": "2022-03-19T16:07:09.216Z"
   },
   {
    "duration": 9,
    "start_time": "2022-03-19T16:12:35.473Z"
   },
   {
    "duration": 83,
    "start_time": "2022-03-19T16:26:08.694Z"
   },
   {
    "duration": 8,
    "start_time": "2022-03-19T16:27:00.449Z"
   },
   {
    "duration": 7,
    "start_time": "2022-03-19T16:27:09.513Z"
   },
   {
    "duration": 528,
    "start_time": "2022-03-19T16:27:20.669Z"
   },
   {
    "duration": 177,
    "start_time": "2022-03-19T16:27:21.200Z"
   },
   {
    "duration": 24,
    "start_time": "2022-03-19T16:27:21.379Z"
   },
   {
    "duration": 120,
    "start_time": "2022-03-19T16:27:21.407Z"
   },
   {
    "duration": 0,
    "start_time": "2022-03-19T16:27:21.530Z"
   },
   {
    "duration": 0,
    "start_time": "2022-03-19T16:27:21.532Z"
   },
   {
    "duration": 0,
    "start_time": "2022-03-19T16:27:21.533Z"
   },
   {
    "duration": 0,
    "start_time": "2022-03-19T16:27:21.535Z"
   },
   {
    "duration": 0,
    "start_time": "2022-03-19T16:27:21.536Z"
   },
   {
    "duration": 6,
    "start_time": "2022-03-19T16:27:33.923Z"
   },
   {
    "duration": 7,
    "start_time": "2022-03-19T16:27:52.284Z"
   },
   {
    "duration": 4,
    "start_time": "2022-03-19T16:27:56.271Z"
   },
   {
    "duration": 83,
    "start_time": "2022-03-19T16:27:58.075Z"
   },
   {
    "duration": 16,
    "start_time": "2022-03-19T16:28:11.814Z"
   },
   {
    "duration": 17,
    "start_time": "2022-03-19T16:28:30.709Z"
   },
   {
    "duration": 522,
    "start_time": "2022-03-19T16:28:43.881Z"
   },
   {
    "duration": 175,
    "start_time": "2022-03-19T16:28:44.406Z"
   },
   {
    "duration": 21,
    "start_time": "2022-03-19T16:28:44.583Z"
   },
   {
    "duration": 120,
    "start_time": "2022-03-19T16:28:44.607Z"
   },
   {
    "duration": 0,
    "start_time": "2022-03-19T16:28:44.730Z"
   },
   {
    "duration": 0,
    "start_time": "2022-03-19T16:28:44.732Z"
   },
   {
    "duration": 0,
    "start_time": "2022-03-19T16:28:44.733Z"
   },
   {
    "duration": 0,
    "start_time": "2022-03-19T16:28:44.735Z"
   },
   {
    "duration": 0,
    "start_time": "2022-03-19T16:28:44.737Z"
   },
   {
    "duration": 18,
    "start_time": "2022-03-19T16:28:51.500Z"
   },
   {
    "duration": 4,
    "start_time": "2022-03-19T16:29:19.609Z"
   },
   {
    "duration": 12,
    "start_time": "2022-03-19T16:29:28.167Z"
   },
   {
    "duration": 548,
    "start_time": "2022-03-19T16:29:39.148Z"
   },
   {
    "duration": 187,
    "start_time": "2022-03-19T16:29:39.699Z"
   },
   {
    "duration": 24,
    "start_time": "2022-03-19T16:29:39.888Z"
   },
   {
    "duration": 122,
    "start_time": "2022-03-19T16:29:39.915Z"
   },
   {
    "duration": 0,
    "start_time": "2022-03-19T16:29:40.039Z"
   },
   {
    "duration": 0,
    "start_time": "2022-03-19T16:29:40.041Z"
   },
   {
    "duration": 0,
    "start_time": "2022-03-19T16:29:40.042Z"
   },
   {
    "duration": 0,
    "start_time": "2022-03-19T16:29:40.044Z"
   },
   {
    "duration": 0,
    "start_time": "2022-03-19T16:29:40.046Z"
   },
   {
    "duration": 15,
    "start_time": "2022-03-19T16:29:49.469Z"
   },
   {
    "duration": 10,
    "start_time": "2022-03-19T16:34:29.431Z"
   },
   {
    "duration": 82,
    "start_time": "2022-03-19T16:41:03.243Z"
   },
   {
    "duration": 8,
    "start_time": "2022-03-19T16:41:09.998Z"
   },
   {
    "duration": 543,
    "start_time": "2022-03-19T16:41:18.747Z"
   },
   {
    "duration": 180,
    "start_time": "2022-03-19T16:41:19.293Z"
   },
   {
    "duration": 28,
    "start_time": "2022-03-19T16:41:19.475Z"
   },
   {
    "duration": 110,
    "start_time": "2022-03-19T16:41:19.506Z"
   },
   {
    "duration": 0,
    "start_time": "2022-03-19T16:41:19.618Z"
   },
   {
    "duration": 0,
    "start_time": "2022-03-19T16:41:19.619Z"
   },
   {
    "duration": 0,
    "start_time": "2022-03-19T16:41:19.621Z"
   },
   {
    "duration": 0,
    "start_time": "2022-03-19T16:41:19.622Z"
   },
   {
    "duration": 0,
    "start_time": "2022-03-19T16:41:19.624Z"
   },
   {
    "duration": 85,
    "start_time": "2022-03-19T16:41:25.193Z"
   },
   {
    "duration": 6,
    "start_time": "2022-03-19T16:41:27.871Z"
   },
   {
    "duration": 8,
    "start_time": "2022-03-19T16:42:04.633Z"
   },
   {
    "duration": 7,
    "start_time": "2022-03-19T16:42:14.142Z"
   },
   {
    "duration": 7,
    "start_time": "2022-03-19T16:42:25.569Z"
   },
   {
    "duration": 59,
    "start_time": "2022-03-19T16:45:07.290Z"
   },
   {
    "duration": 14,
    "start_time": "2022-03-19T16:48:20.801Z"
   },
   {
    "duration": 8,
    "start_time": "2022-03-19T16:48:46.503Z"
   },
   {
    "duration": 6,
    "start_time": "2022-03-19T16:48:53.985Z"
   },
   {
    "duration": 139,
    "start_time": "2022-03-19T16:50:22.086Z"
   },
   {
    "duration": 7,
    "start_time": "2022-03-19T16:57:30.118Z"
   },
   {
    "duration": 6,
    "start_time": "2022-03-19T16:57:51.220Z"
   },
   {
    "duration": 538,
    "start_time": "2022-03-19T16:58:07.538Z"
   },
   {
    "duration": 171,
    "start_time": "2022-03-19T16:58:08.079Z"
   },
   {
    "duration": 34,
    "start_time": "2022-03-19T16:58:08.253Z"
   },
   {
    "duration": 5,
    "start_time": "2022-03-19T16:58:08.290Z"
   },
   {
    "duration": 9,
    "start_time": "2022-03-19T16:58:08.297Z"
   },
   {
    "duration": 5,
    "start_time": "2022-03-19T16:58:08.308Z"
   },
   {
    "duration": 25,
    "start_time": "2022-03-19T16:58:08.315Z"
   },
   {
    "duration": 97,
    "start_time": "2022-03-19T16:59:09.724Z"
   },
   {
    "duration": 22,
    "start_time": "2022-03-19T16:59:19.136Z"
   },
   {
    "duration": 2292,
    "start_time": "2022-03-19T17:10:02.782Z"
   },
   {
    "duration": 24,
    "start_time": "2022-03-19T17:10:34.579Z"
   },
   {
    "duration": 507,
    "start_time": "2022-03-19T17:10:44.083Z"
   },
   {
    "duration": 173,
    "start_time": "2022-03-19T17:10:44.593Z"
   },
   {
    "duration": 27,
    "start_time": "2022-03-19T17:10:44.769Z"
   },
   {
    "duration": 5,
    "start_time": "2022-03-19T17:10:44.801Z"
   },
   {
    "duration": 12,
    "start_time": "2022-03-19T17:10:44.808Z"
   },
   {
    "duration": 5,
    "start_time": "2022-03-19T17:10:44.822Z"
   },
   {
    "duration": 55,
    "start_time": "2022-03-19T17:10:44.829Z"
   },
   {
    "duration": 22,
    "start_time": "2022-03-19T17:10:44.886Z"
   },
   {
    "duration": 122,
    "start_time": "2022-03-19T17:10:44.910Z"
   },
   {
    "duration": 517,
    "start_time": "2022-03-19T17:11:06.976Z"
   },
   {
    "duration": 173,
    "start_time": "2022-03-19T17:11:07.496Z"
   },
   {
    "duration": 32,
    "start_time": "2022-03-19T17:11:07.671Z"
   },
   {
    "duration": 5,
    "start_time": "2022-03-19T17:11:07.706Z"
   },
   {
    "duration": 13,
    "start_time": "2022-03-19T17:11:07.713Z"
   },
   {
    "duration": 9,
    "start_time": "2022-03-19T17:11:07.728Z"
   },
   {
    "duration": 45,
    "start_time": "2022-03-19T17:11:07.739Z"
   },
   {
    "duration": 22,
    "start_time": "2022-03-19T17:11:07.786Z"
   },
   {
    "duration": 2641,
    "start_time": "2022-03-19T17:11:07.811Z"
   },
   {
    "duration": 1146,
    "start_time": "2022-03-19T17:12:21.226Z"
   },
   {
    "duration": 501,
    "start_time": "2022-03-19T17:12:30.803Z"
   },
   {
    "duration": 178,
    "start_time": "2022-03-19T17:12:31.307Z"
   },
   {
    "duration": 23,
    "start_time": "2022-03-19T17:12:31.487Z"
   },
   {
    "duration": 12,
    "start_time": "2022-03-19T17:12:31.512Z"
   },
   {
    "duration": 14,
    "start_time": "2022-03-19T17:12:31.526Z"
   },
   {
    "duration": 11,
    "start_time": "2022-03-19T17:12:31.542Z"
   },
   {
    "duration": 38,
    "start_time": "2022-03-19T17:12:31.555Z"
   },
   {
    "duration": 30,
    "start_time": "2022-03-19T17:12:31.596Z"
   },
   {
    "duration": 1417,
    "start_time": "2022-03-19T17:12:31.628Z"
   },
   {
    "duration": 2311,
    "start_time": "2022-03-19T17:14:02.413Z"
   },
   {
    "duration": 538,
    "start_time": "2022-03-19T17:14:14.652Z"
   },
   {
    "duration": 173,
    "start_time": "2022-03-19T17:14:15.193Z"
   },
   {
    "duration": 34,
    "start_time": "2022-03-19T17:14:15.368Z"
   },
   {
    "duration": 5,
    "start_time": "2022-03-19T17:14:15.405Z"
   },
   {
    "duration": 8,
    "start_time": "2022-03-19T17:14:15.412Z"
   },
   {
    "duration": 4,
    "start_time": "2022-03-19T17:14:15.423Z"
   },
   {
    "duration": 17,
    "start_time": "2022-03-19T17:14:15.430Z"
   },
   {
    "duration": 21,
    "start_time": "2022-03-19T17:14:15.485Z"
   },
   {
    "duration": 2338,
    "start_time": "2022-03-19T17:14:15.508Z"
   },
   {
    "duration": 2456,
    "start_time": "2022-03-19T17:15:02.570Z"
   },
   {
    "duration": 25,
    "start_time": "2022-03-19T17:19:45.020Z"
   },
   {
    "duration": 551,
    "start_time": "2022-03-19T17:20:14.047Z"
   },
   {
    "duration": 175,
    "start_time": "2022-03-19T17:20:14.601Z"
   },
   {
    "duration": 24,
    "start_time": "2022-03-19T17:20:14.778Z"
   },
   {
    "duration": 5,
    "start_time": "2022-03-19T17:20:14.805Z"
   },
   {
    "duration": 9,
    "start_time": "2022-03-19T17:20:14.812Z"
   },
   {
    "duration": 5,
    "start_time": "2022-03-19T17:20:14.823Z"
   },
   {
    "duration": 54,
    "start_time": "2022-03-19T17:20:14.830Z"
   },
   {
    "duration": 22,
    "start_time": "2022-03-19T17:20:14.886Z"
   },
   {
    "duration": 122,
    "start_time": "2022-03-19T17:20:14.910Z"
   },
   {
    "duration": 12,
    "start_time": "2022-03-19T17:21:12.173Z"
   },
   {
    "duration": 21,
    "start_time": "2022-03-19T17:21:16.013Z"
   },
   {
    "duration": 13,
    "start_time": "2022-03-19T17:21:22.326Z"
   },
   {
    "duration": 122,
    "start_time": "2022-03-19T17:22:42.168Z"
   },
   {
    "duration": 2670,
    "start_time": "2022-03-19T17:29:32.992Z"
   },
   {
    "duration": 11,
    "start_time": "2022-03-19T17:30:06.275Z"
   },
   {
    "duration": 39,
    "start_time": "2022-03-19T17:30:27.185Z"
   },
   {
    "duration": 64,
    "start_time": "2022-03-19T17:31:20.298Z"
   },
   {
    "duration": 42,
    "start_time": "2022-03-19T17:31:21.397Z"
   },
   {
    "duration": 16,
    "start_time": "2022-03-19T17:31:27.334Z"
   },
   {
    "duration": 40,
    "start_time": "2022-03-19T17:31:27.674Z"
   },
   {
    "duration": 134,
    "start_time": "2022-03-19T17:32:19.841Z"
   },
   {
    "duration": 184,
    "start_time": "2022-03-19T17:32:24.978Z"
   },
   {
    "duration": 6,
    "start_time": "2022-03-19T17:39:35.074Z"
   },
   {
    "duration": 45,
    "start_time": "2022-03-19T17:39:54.990Z"
   },
   {
    "duration": 5,
    "start_time": "2022-03-19T17:40:30.339Z"
   },
   {
    "duration": 38,
    "start_time": "2022-03-19T17:40:30.978Z"
   },
   {
    "duration": 6,
    "start_time": "2022-03-19T17:41:57.560Z"
   },
   {
    "duration": 39,
    "start_time": "2022-03-19T17:41:59.905Z"
   },
   {
    "duration": 5,
    "start_time": "2022-03-19T17:51:46.751Z"
   },
   {
    "duration": 100,
    "start_time": "2022-03-19T17:52:48.793Z"
   },
   {
    "duration": 4,
    "start_time": "2022-03-19T17:53:34.700Z"
   },
   {
    "duration": 412,
    "start_time": "2022-03-19T17:53:38.135Z"
   },
   {
    "duration": 38,
    "start_time": "2022-03-19T17:54:09.509Z"
   },
   {
    "duration": 5,
    "start_time": "2022-03-19T18:01:43.019Z"
   },
   {
    "duration": 6,
    "start_time": "2022-03-19T18:04:11.570Z"
   },
   {
    "duration": 38,
    "start_time": "2022-03-19T18:04:32.417Z"
   },
   {
    "duration": 5,
    "start_time": "2022-03-19T18:05:19.892Z"
   },
   {
    "duration": 37,
    "start_time": "2022-03-19T18:05:22.451Z"
   },
   {
    "duration": 5,
    "start_time": "2022-03-19T18:06:43.004Z"
   },
   {
    "duration": 5,
    "start_time": "2022-03-19T18:08:00.563Z"
   },
   {
    "duration": 499,
    "start_time": "2022-03-19T18:08:12.191Z"
   },
   {
    "duration": 168,
    "start_time": "2022-03-19T18:08:12.693Z"
   },
   {
    "duration": 30,
    "start_time": "2022-03-19T18:08:12.863Z"
   },
   {
    "duration": 6,
    "start_time": "2022-03-19T18:08:12.896Z"
   },
   {
    "duration": 16,
    "start_time": "2022-03-19T18:08:12.905Z"
   },
   {
    "duration": 16,
    "start_time": "2022-03-19T18:08:12.924Z"
   },
   {
    "duration": 43,
    "start_time": "2022-03-19T18:08:12.942Z"
   },
   {
    "duration": 13,
    "start_time": "2022-03-19T18:08:12.987Z"
   },
   {
    "duration": 10,
    "start_time": "2022-03-19T18:08:13.002Z"
   },
   {
    "duration": 38,
    "start_time": "2022-03-19T18:08:13.015Z"
   },
   {
    "duration": 7,
    "start_time": "2022-03-19T18:08:13.084Z"
   },
   {
    "duration": 6,
    "start_time": "2022-03-19T18:08:13.093Z"
   },
   {
    "duration": 472,
    "start_time": "2022-03-19T18:08:13.101Z"
   },
   {
    "duration": 43,
    "start_time": "2022-03-19T18:08:13.575Z"
   },
   {
    "duration": 5,
    "start_time": "2022-03-19T18:08:13.621Z"
   },
   {
    "duration": 10,
    "start_time": "2022-03-19T18:08:13.628Z"
   },
   {
    "duration": 65,
    "start_time": "2022-03-19T18:08:13.640Z"
   },
   {
    "duration": 812,
    "start_time": "2022-03-19T18:15:54.067Z"
   },
   {
    "duration": 227,
    "start_time": "2022-03-19T18:16:11.390Z"
   },
   {
    "duration": 260,
    "start_time": "2022-03-19T18:16:40.601Z"
   },
   {
    "duration": 118,
    "start_time": "2022-03-19T18:23:14.841Z"
   },
   {
    "duration": 7,
    "start_time": "2022-03-19T18:24:43.088Z"
   },
   {
    "duration": 52,
    "start_time": "2022-03-19T18:24:48.603Z"
   },
   {
    "duration": 6,
    "start_time": "2022-03-19T18:25:19.524Z"
   },
   {
    "duration": 38,
    "start_time": "2022-03-19T18:25:20.467Z"
   },
   {
    "duration": 7,
    "start_time": "2022-03-19T18:25:38.541Z"
   },
   {
    "duration": 40,
    "start_time": "2022-03-19T18:25:48.171Z"
   },
   {
    "duration": 214,
    "start_time": "2022-03-19T18:26:41.673Z"
   },
   {
    "duration": 213,
    "start_time": "2022-03-19T18:27:18.838Z"
   },
   {
    "duration": 209,
    "start_time": "2022-03-19T18:27:48.701Z"
   },
   {
    "duration": 214,
    "start_time": "2022-03-19T18:32:25.799Z"
   },
   {
    "duration": 203,
    "start_time": "2022-03-19T18:32:34.802Z"
   },
   {
    "duration": 200,
    "start_time": "2022-03-19T18:32:43.527Z"
   },
   {
    "duration": 297,
    "start_time": "2022-03-19T18:33:06.515Z"
   },
   {
    "duration": 215,
    "start_time": "2022-03-19T18:33:18.122Z"
   },
   {
    "duration": 219,
    "start_time": "2022-03-19T18:34:14.013Z"
   },
   {
    "duration": 131,
    "start_time": "2022-03-19T18:44:17.425Z"
   },
   {
    "duration": 467,
    "start_time": "2022-03-19T18:48:18.805Z"
   },
   {
    "duration": 403,
    "start_time": "2022-03-19T18:48:27.781Z"
   },
   {
    "duration": 302,
    "start_time": "2022-03-19T18:48:36.663Z"
   },
   {
    "duration": 249,
    "start_time": "2022-03-19T18:48:53.147Z"
   },
   {
    "duration": 400,
    "start_time": "2022-03-19T18:49:05.995Z"
   },
   {
    "duration": 398,
    "start_time": "2022-03-19T18:49:14.756Z"
   },
   {
    "duration": 395,
    "start_time": "2022-03-19T18:49:27.513Z"
   },
   {
    "duration": 140,
    "start_time": "2022-03-19T18:51:42.567Z"
   },
   {
    "duration": 150,
    "start_time": "2022-03-19T18:53:05.249Z"
   },
   {
    "duration": 76,
    "start_time": "2022-03-21T12:34:04.769Z"
   },
   {
    "duration": 700,
    "start_time": "2022-03-21T12:34:23.169Z"
   },
   {
    "duration": 248,
    "start_time": "2022-03-21T12:34:23.873Z"
   },
   {
    "duration": 27,
    "start_time": "2022-03-21T12:34:24.123Z"
   },
   {
    "duration": 29,
    "start_time": "2022-03-21T12:34:24.154Z"
   },
   {
    "duration": 7,
    "start_time": "2022-03-21T12:34:24.185Z"
   },
   {
    "duration": 16,
    "start_time": "2022-03-21T12:34:24.195Z"
   },
   {
    "duration": 23,
    "start_time": "2022-03-21T12:34:24.227Z"
   },
   {
    "duration": 41,
    "start_time": "2022-03-21T12:34:24.252Z"
   },
   {
    "duration": 11,
    "start_time": "2022-03-21T12:34:24.295Z"
   },
   {
    "duration": 40,
    "start_time": "2022-03-21T12:34:24.311Z"
   },
   {
    "duration": 33,
    "start_time": "2022-03-21T12:34:24.354Z"
   },
   {
    "duration": 10,
    "start_time": "2022-03-21T12:34:24.390Z"
   },
   {
    "duration": 520,
    "start_time": "2022-03-21T12:34:24.403Z"
   },
   {
    "duration": 43,
    "start_time": "2022-03-21T12:34:24.925Z"
   },
   {
    "duration": 8,
    "start_time": "2022-03-21T12:34:24.982Z"
   },
   {
    "duration": 15,
    "start_time": "2022-03-21T12:34:24.992Z"
   },
   {
    "duration": 44,
    "start_time": "2022-03-21T12:34:25.009Z"
   },
   {
    "duration": 1006,
    "start_time": "2022-03-21T12:34:25.056Z"
   },
   {
    "duration": 729,
    "start_time": "2022-03-21T12:34:26.065Z"
   },
   {
    "duration": 537,
    "start_time": "2022-03-21T12:34:26.798Z"
   },
   {
    "duration": 447,
    "start_time": "2022-03-21T12:34:27.338Z"
   },
   {
    "duration": 468,
    "start_time": "2022-03-21T12:34:27.788Z"
   },
   {
    "duration": 413,
    "start_time": "2022-03-21T12:49:00.038Z"
   },
   {
    "duration": 443,
    "start_time": "2022-03-21T12:54:48.233Z"
   },
   {
    "duration": 414,
    "start_time": "2022-03-21T12:55:07.288Z"
   },
   {
    "duration": 398,
    "start_time": "2022-03-21T12:55:15.626Z"
   },
   {
    "duration": 378,
    "start_time": "2022-03-21T12:55:51.734Z"
   },
   {
    "duration": 445,
    "start_time": "2022-03-21T12:56:04.937Z"
   },
   {
    "duration": 431,
    "start_time": "2022-03-21T12:56:25.108Z"
   },
   {
    "duration": 591,
    "start_time": "2022-03-21T12:56:31.655Z"
   },
   {
    "duration": 421,
    "start_time": "2022-03-21T12:58:44.276Z"
   },
   {
    "duration": 414,
    "start_time": "2022-03-21T12:59:04.410Z"
   },
   {
    "duration": 387,
    "start_time": "2022-03-21T12:59:18.583Z"
   },
   {
    "duration": 470,
    "start_time": "2022-03-21T12:59:41.322Z"
   },
   {
    "duration": 529,
    "start_time": "2022-03-21T12:59:48.270Z"
   },
   {
    "duration": 561,
    "start_time": "2022-03-21T12:59:53.711Z"
   },
   {
    "duration": 6,
    "start_time": "2022-03-21T13:00:58.958Z"
   },
   {
    "duration": 549,
    "start_time": "2022-03-21T13:01:32.777Z"
   },
   {
    "duration": 410,
    "start_time": "2022-03-21T13:01:39.083Z"
   },
   {
    "duration": 429,
    "start_time": "2022-03-21T13:05:41.618Z"
   },
   {
    "duration": 398,
    "start_time": "2022-03-21T13:05:57.272Z"
   },
   {
    "duration": 546,
    "start_time": "2022-03-21T13:06:39.198Z"
   },
   {
    "duration": 7,
    "start_time": "2022-03-21T13:09:32.696Z"
   },
   {
    "duration": 182,
    "start_time": "2022-03-21T13:14:22.728Z"
   },
   {
    "duration": 7,
    "start_time": "2022-03-21T13:14:34.097Z"
   },
   {
    "duration": 15,
    "start_time": "2022-03-21T13:14:49.239Z"
   },
   {
    "duration": 628,
    "start_time": "2022-03-21T13:25:54.931Z"
   },
   {
    "duration": 402,
    "start_time": "2022-03-21T13:30:03.591Z"
   },
   {
    "duration": 8,
    "start_time": "2022-03-21T13:31:34.032Z"
   },
   {
    "duration": 395,
    "start_time": "2022-03-21T13:31:59.507Z"
   },
   {
    "duration": 393,
    "start_time": "2022-03-21T13:32:08.091Z"
   },
   {
    "duration": 384,
    "start_time": "2022-03-21T13:32:20.064Z"
   },
   {
    "duration": 475,
    "start_time": "2022-03-21T13:32:29.885Z"
   },
   {
    "duration": 384,
    "start_time": "2022-03-21T13:32:42.738Z"
   },
   {
    "duration": 387,
    "start_time": "2022-03-21T13:32:51.348Z"
   },
   {
    "duration": 131,
    "start_time": "2022-03-21T13:34:21.701Z"
   },
   {
    "duration": 7,
    "start_time": "2022-03-21T13:39:16.164Z"
   },
   {
    "duration": 183,
    "start_time": "2022-03-21T13:55:32.724Z"
   },
   {
    "duration": 665,
    "start_time": "2022-03-21T14:11:33.619Z"
   },
   {
    "duration": 476,
    "start_time": "2022-03-21T14:11:52.921Z"
   },
   {
    "duration": 168,
    "start_time": "2022-03-21T14:11:53.400Z"
   },
   {
    "duration": 37,
    "start_time": "2022-03-21T14:11:53.570Z"
   },
   {
    "duration": 6,
    "start_time": "2022-03-21T14:11:53.610Z"
   },
   {
    "duration": 6,
    "start_time": "2022-03-21T14:11:53.618Z"
   },
   {
    "duration": 16,
    "start_time": "2022-03-21T14:11:53.626Z"
   },
   {
    "duration": 60,
    "start_time": "2022-03-21T14:11:53.645Z"
   },
   {
    "duration": 12,
    "start_time": "2022-03-21T14:11:53.707Z"
   },
   {
    "duration": 9,
    "start_time": "2022-03-21T14:11:53.721Z"
   },
   {
    "duration": 66,
    "start_time": "2022-03-21T14:11:53.734Z"
   },
   {
    "duration": 7,
    "start_time": "2022-03-21T14:11:53.802Z"
   },
   {
    "duration": 8,
    "start_time": "2022-03-21T14:11:53.811Z"
   },
   {
    "duration": 481,
    "start_time": "2022-03-21T14:11:53.821Z"
   },
   {
    "duration": 39,
    "start_time": "2022-03-21T14:11:54.304Z"
   },
   {
    "duration": 13,
    "start_time": "2022-03-21T14:11:54.345Z"
   },
   {
    "duration": 23,
    "start_time": "2022-03-21T14:11:54.361Z"
   },
   {
    "duration": 61,
    "start_time": "2022-03-21T14:11:54.386Z"
   },
   {
    "duration": 765,
    "start_time": "2022-03-21T14:11:54.449Z"
   },
   {
    "duration": 487,
    "start_time": "2022-03-21T14:11:55.216Z"
   },
   {
    "duration": 415,
    "start_time": "2022-03-21T14:11:55.706Z"
   },
   {
    "duration": 408,
    "start_time": "2022-03-21T14:11:56.123Z"
   },
   {
    "duration": 416,
    "start_time": "2022-03-21T14:11:56.534Z"
   },
   {
    "duration": 7,
    "start_time": "2022-03-21T14:11:56.953Z"
   },
   {
    "duration": 8,
    "start_time": "2022-03-21T14:11:56.982Z"
   },
   {
    "duration": 446,
    "start_time": "2022-03-21T14:11:56.995Z"
   },
   {
    "duration": 10,
    "start_time": "2022-03-21T14:14:41.178Z"
   },
   {
    "duration": 387,
    "start_time": "2022-03-21T14:14:48.927Z"
   },
   {
    "duration": 312,
    "start_time": "2022-03-21T14:15:10.372Z"
   },
   {
    "duration": 532,
    "start_time": "2022-03-21T14:15:19.882Z"
   },
   {
    "duration": 183,
    "start_time": "2022-03-21T14:15:20.416Z"
   },
   {
    "duration": 23,
    "start_time": "2022-03-21T14:15:20.602Z"
   },
   {
    "duration": 6,
    "start_time": "2022-03-21T14:15:20.628Z"
   },
   {
    "duration": 23,
    "start_time": "2022-03-21T14:15:20.637Z"
   },
   {
    "duration": 33,
    "start_time": "2022-03-21T14:15:20.663Z"
   },
   {
    "duration": 26,
    "start_time": "2022-03-21T14:15:20.703Z"
   },
   {
    "duration": 16,
    "start_time": "2022-03-21T14:15:20.731Z"
   },
   {
    "duration": 12,
    "start_time": "2022-03-21T14:15:20.750Z"
   },
   {
    "duration": 76,
    "start_time": "2022-03-21T14:15:20.766Z"
   },
   {
    "duration": 6,
    "start_time": "2022-03-21T14:15:20.845Z"
   },
   {
    "duration": 42,
    "start_time": "2022-03-21T14:15:20.854Z"
   },
   {
    "duration": 477,
    "start_time": "2022-03-21T14:15:20.899Z"
   },
   {
    "duration": 43,
    "start_time": "2022-03-21T14:15:21.381Z"
   },
   {
    "duration": 7,
    "start_time": "2022-03-21T14:15:21.427Z"
   },
   {
    "duration": 42,
    "start_time": "2022-03-21T14:15:21.436Z"
   },
   {
    "duration": 70,
    "start_time": "2022-03-21T14:15:21.480Z"
   },
   {
    "duration": 780,
    "start_time": "2022-03-21T14:15:21.552Z"
   },
   {
    "duration": 492,
    "start_time": "2022-03-21T14:15:22.334Z"
   },
   {
    "duration": 428,
    "start_time": "2022-03-21T14:15:22.829Z"
   },
   {
    "duration": 418,
    "start_time": "2022-03-21T14:15:23.259Z"
   },
   {
    "duration": 434,
    "start_time": "2022-03-21T14:15:23.682Z"
   },
   {
    "duration": 8,
    "start_time": "2022-03-21T14:15:24.118Z"
   },
   {
    "duration": 48,
    "start_time": "2022-03-21T14:15:24.128Z"
   },
   {
    "duration": 65,
    "start_time": "2022-03-21T14:15:24.178Z"
   },
   {
    "duration": 653,
    "start_time": "2022-03-21T14:15:24.245Z"
   },
   {
    "duration": 8,
    "start_time": "2022-03-21T14:15:59.811Z"
   },
   {
    "duration": 27,
    "start_time": "2022-03-21T14:18:22.804Z"
   },
   {
    "duration": 11,
    "start_time": "2022-03-21T14:18:46.647Z"
   },
   {
    "duration": 7,
    "start_time": "2022-03-21T14:19:50.433Z"
   },
   {
    "duration": 13,
    "start_time": "2022-03-21T14:23:27.087Z"
   },
   {
    "duration": 214,
    "start_time": "2022-03-21T14:23:34.100Z"
   },
   {
    "duration": 415,
    "start_time": "2022-03-21T14:23:43.961Z"
   },
   {
    "duration": 24,
    "start_time": "2022-03-21T14:24:18.875Z"
   },
   {
    "duration": 357,
    "start_time": "2022-03-21T14:25:21.599Z"
   },
   {
    "duration": 303,
    "start_time": "2022-03-21T14:25:33.541Z"
   },
   {
    "duration": 373,
    "start_time": "2022-03-21T14:25:37.686Z"
   },
   {
    "duration": 12,
    "start_time": "2022-03-21T14:34:52.025Z"
   },
   {
    "duration": 505,
    "start_time": "2022-03-21T14:35:35.087Z"
   },
   {
    "duration": 201,
    "start_time": "2022-03-21T14:35:35.597Z"
   },
   {
    "duration": 33,
    "start_time": "2022-03-21T14:35:35.801Z"
   },
   {
    "duration": 7,
    "start_time": "2022-03-21T14:35:35.837Z"
   },
   {
    "duration": 7,
    "start_time": "2022-03-21T14:35:35.847Z"
   },
   {
    "duration": 20,
    "start_time": "2022-03-21T14:35:35.893Z"
   },
   {
    "duration": 24,
    "start_time": "2022-03-21T14:35:35.915Z"
   },
   {
    "duration": 11,
    "start_time": "2022-03-21T14:35:35.941Z"
   },
   {
    "duration": 34,
    "start_time": "2022-03-21T14:35:35.954Z"
   },
   {
    "duration": 58,
    "start_time": "2022-03-21T14:35:35.992Z"
   },
   {
    "duration": 9,
    "start_time": "2022-03-21T14:35:36.053Z"
   },
   {
    "duration": 24,
    "start_time": "2022-03-21T14:35:36.064Z"
   },
   {
    "duration": 520,
    "start_time": "2022-03-21T14:35:36.095Z"
   },
   {
    "duration": 39,
    "start_time": "2022-03-21T14:35:36.617Z"
   },
   {
    "duration": 24,
    "start_time": "2022-03-21T14:35:36.658Z"
   },
   {
    "duration": 26,
    "start_time": "2022-03-21T14:35:36.685Z"
   },
   {
    "duration": 53,
    "start_time": "2022-03-21T14:35:36.714Z"
   },
   {
    "duration": 785,
    "start_time": "2022-03-21T14:35:36.769Z"
   },
   {
    "duration": 484,
    "start_time": "2022-03-21T14:35:37.557Z"
   },
   {
    "duration": 430,
    "start_time": "2022-03-21T14:35:38.044Z"
   },
   {
    "duration": 425,
    "start_time": "2022-03-21T14:35:38.478Z"
   },
   {
    "duration": 437,
    "start_time": "2022-03-21T14:35:38.909Z"
   },
   {
    "duration": 14,
    "start_time": "2022-03-21T14:35:39.348Z"
   },
   {
    "duration": 25,
    "start_time": "2022-03-21T14:35:39.365Z"
   },
   {
    "duration": 189,
    "start_time": "2022-03-21T14:35:39.393Z"
   },
   {
    "duration": 16,
    "start_time": "2022-03-21T14:35:59.845Z"
   },
   {
    "duration": 292,
    "start_time": "2022-03-21T14:36:27.140Z"
   },
   {
    "duration": 279,
    "start_time": "2022-03-21T14:36:36.647Z"
   },
   {
    "duration": 438,
    "start_time": "2022-03-21T14:36:41.536Z"
   },
   {
    "duration": 420,
    "start_time": "2022-03-21T14:36:50.465Z"
   },
   {
    "duration": 17,
    "start_time": "2022-03-21T14:37:36.354Z"
   },
   {
    "duration": 8,
    "start_time": "2022-03-21T14:38:08.507Z"
   },
   {
    "duration": 272,
    "start_time": "2022-03-21T14:42:12.172Z"
   },
   {
    "duration": 425,
    "start_time": "2022-03-21T14:42:21.557Z"
   },
   {
    "duration": 833,
    "start_time": "2022-03-21T14:42:31.116Z"
   },
   {
    "duration": 514,
    "start_time": "2022-03-21T14:42:39.652Z"
   },
   {
    "duration": 150,
    "start_time": "2022-03-21T14:51:04.324Z"
   },
   {
    "duration": 241,
    "start_time": "2022-03-21T14:58:19.119Z"
   },
   {
    "duration": 239,
    "start_time": "2022-03-21T15:00:41.743Z"
   },
   {
    "duration": 318,
    "start_time": "2022-03-21T15:01:33.419Z"
   },
   {
    "duration": 250,
    "start_time": "2022-03-21T15:01:42.697Z"
   },
   {
    "duration": 269,
    "start_time": "2022-03-21T15:05:54.654Z"
   },
   {
    "duration": 173,
    "start_time": "2022-03-21T15:10:15.940Z"
   },
   {
    "duration": 246,
    "start_time": "2022-03-21T15:10:23.738Z"
   },
   {
    "duration": 238,
    "start_time": "2022-03-21T15:10:36.283Z"
   },
   {
    "duration": 247,
    "start_time": "2022-03-21T15:10:45.678Z"
   },
   {
    "duration": 239,
    "start_time": "2022-03-21T15:10:58.494Z"
   },
   {
    "duration": 8,
    "start_time": "2022-03-21T15:12:44.494Z"
   },
   {
    "duration": 10,
    "start_time": "2022-03-21T15:21:41.885Z"
   },
   {
    "duration": 7,
    "start_time": "2022-03-21T15:24:18.438Z"
   },
   {
    "duration": 132,
    "start_time": "2022-03-21T15:26:12.073Z"
   },
   {
    "duration": 596,
    "start_time": "2022-03-21T15:29:50.306Z"
   },
   {
    "duration": 299,
    "start_time": "2022-03-21T15:48:31.662Z"
   },
   {
    "duration": 537,
    "start_time": "2022-03-21T15:49:14.814Z"
   },
   {
    "duration": 172,
    "start_time": "2022-03-21T15:49:15.355Z"
   },
   {
    "duration": 33,
    "start_time": "2022-03-21T15:49:15.530Z"
   },
   {
    "duration": 9,
    "start_time": "2022-03-21T15:49:15.585Z"
   },
   {
    "duration": 10,
    "start_time": "2022-03-21T15:49:15.598Z"
   },
   {
    "duration": 24,
    "start_time": "2022-03-21T15:49:15.611Z"
   },
   {
    "duration": 54,
    "start_time": "2022-03-21T15:49:15.637Z"
   },
   {
    "duration": 12,
    "start_time": "2022-03-21T15:49:15.694Z"
   },
   {
    "duration": 10,
    "start_time": "2022-03-21T15:49:15.710Z"
   },
   {
    "duration": 70,
    "start_time": "2022-03-21T15:49:15.727Z"
   },
   {
    "duration": 7,
    "start_time": "2022-03-21T15:49:15.799Z"
   },
   {
    "duration": 10,
    "start_time": "2022-03-21T15:49:15.809Z"
   },
   {
    "duration": 637,
    "start_time": "2022-03-21T15:49:15.821Z"
   },
   {
    "duration": 55,
    "start_time": "2022-03-21T15:49:16.461Z"
   },
   {
    "duration": 8,
    "start_time": "2022-03-21T15:49:16.519Z"
   },
   {
    "duration": 15,
    "start_time": "2022-03-21T15:49:16.529Z"
   },
   {
    "duration": 67,
    "start_time": "2022-03-21T15:49:16.547Z"
   },
   {
    "duration": 812,
    "start_time": "2022-03-21T15:49:16.617Z"
   },
   {
    "duration": 555,
    "start_time": "2022-03-21T15:49:17.434Z"
   },
   {
    "duration": 453,
    "start_time": "2022-03-21T15:49:17.991Z"
   },
   {
    "duration": 399,
    "start_time": "2022-03-21T15:49:18.446Z"
   },
   {
    "duration": 610,
    "start_time": "2022-03-21T15:49:18.848Z"
   },
   {
    "duration": 20,
    "start_time": "2022-03-21T15:49:19.462Z"
   },
   {
    "duration": 18,
    "start_time": "2022-03-21T15:49:19.485Z"
   },
   {
    "duration": 26,
    "start_time": "2022-03-21T15:49:19.506Z"
   },
   {
    "duration": 9,
    "start_time": "2022-03-21T15:49:19.535Z"
   },
   {
    "duration": 454,
    "start_time": "2022-03-21T15:49:19.547Z"
   },
   {
    "duration": 9,
    "start_time": "2022-03-21T15:49:20.006Z"
   },
   {
    "duration": 320,
    "start_time": "2022-03-21T15:49:20.017Z"
   },
   {
    "duration": 0,
    "start_time": "2022-03-21T15:49:20.341Z"
   },
   {
    "duration": 0,
    "start_time": "2022-03-21T15:49:20.343Z"
   },
   {
    "duration": 0,
    "start_time": "2022-03-21T15:49:20.346Z"
   },
   {
    "duration": 363,
    "start_time": "2022-03-21T15:54:21.019Z"
   },
   {
    "duration": 257,
    "start_time": "2022-03-21T15:54:58.896Z"
   },
   {
    "duration": 388,
    "start_time": "2022-03-21T15:55:41.804Z"
   },
   {
    "duration": 252,
    "start_time": "2022-03-21T16:06:20.494Z"
   },
   {
    "duration": 246,
    "start_time": "2022-03-21T16:14:45.462Z"
   },
   {
    "duration": 281,
    "start_time": "2022-03-21T16:15:27.110Z"
   },
   {
    "duration": 508,
    "start_time": "2022-03-21T17:43:18.526Z"
   },
   {
    "duration": 180,
    "start_time": "2022-03-21T17:43:19.036Z"
   },
   {
    "duration": 24,
    "start_time": "2022-03-21T17:43:19.218Z"
   },
   {
    "duration": 27,
    "start_time": "2022-03-21T17:43:19.246Z"
   },
   {
    "duration": 13,
    "start_time": "2022-03-21T17:43:19.276Z"
   },
   {
    "duration": 16,
    "start_time": "2022-03-21T17:43:19.291Z"
   },
   {
    "duration": 21,
    "start_time": "2022-03-21T17:43:19.310Z"
   },
   {
    "duration": 40,
    "start_time": "2022-03-21T17:43:19.334Z"
   },
   {
    "duration": 18,
    "start_time": "2022-03-21T17:43:19.377Z"
   },
   {
    "duration": 39,
    "start_time": "2022-03-21T17:43:19.399Z"
   },
   {
    "duration": 31,
    "start_time": "2022-03-21T17:43:19.440Z"
   },
   {
    "duration": 4,
    "start_time": "2022-03-21T17:43:19.481Z"
   },
   {
    "duration": 464,
    "start_time": "2022-03-21T17:43:19.488Z"
   },
   {
    "duration": 50,
    "start_time": "2022-03-21T17:43:19.954Z"
   },
   {
    "duration": 7,
    "start_time": "2022-03-21T17:43:20.006Z"
   },
   {
    "duration": 9,
    "start_time": "2022-03-21T17:43:20.016Z"
   },
   {
    "duration": 70,
    "start_time": "2022-03-21T17:43:20.027Z"
   },
   {
    "duration": 1001,
    "start_time": "2022-03-21T17:43:20.100Z"
   },
   {
    "duration": 460,
    "start_time": "2022-03-21T17:43:21.103Z"
   },
   {
    "duration": 400,
    "start_time": "2022-03-21T17:43:21.568Z"
   },
   {
    "duration": 379,
    "start_time": "2022-03-21T17:43:21.971Z"
   },
   {
    "duration": 397,
    "start_time": "2022-03-21T17:43:22.353Z"
   },
   {
    "duration": 7,
    "start_time": "2022-03-21T17:43:22.752Z"
   },
   {
    "duration": 7,
    "start_time": "2022-03-21T17:43:22.771Z"
   },
   {
    "duration": 22,
    "start_time": "2022-03-21T17:43:22.783Z"
   },
   {
    "duration": 5,
    "start_time": "2022-03-21T17:43:22.807Z"
   },
   {
    "duration": 441,
    "start_time": "2022-03-21T17:43:22.814Z"
   },
   {
    "duration": 12,
    "start_time": "2022-03-21T17:43:23.260Z"
   },
   {
    "duration": 16,
    "start_time": "2022-03-21T17:43:23.274Z"
   },
   {
    "duration": 9,
    "start_time": "2022-03-21T17:43:23.292Z"
   },
   {
    "duration": 616,
    "start_time": "2022-03-21T17:43:23.303Z"
   },
   {
    "duration": 537,
    "start_time": "2022-03-22T15:23:42.621Z"
   },
   {
    "duration": 171,
    "start_time": "2022-03-22T15:23:43.162Z"
   },
   {
    "duration": 22,
    "start_time": "2022-03-22T15:23:43.335Z"
   },
   {
    "duration": 17,
    "start_time": "2022-03-22T15:23:43.360Z"
   },
   {
    "duration": 5,
    "start_time": "2022-03-22T15:23:43.379Z"
   },
   {
    "duration": 17,
    "start_time": "2022-03-22T15:23:43.386Z"
   },
   {
    "duration": 20,
    "start_time": "2022-03-22T15:23:43.405Z"
   },
   {
    "duration": 10,
    "start_time": "2022-03-22T15:23:43.427Z"
   },
   {
    "duration": 9,
    "start_time": "2022-03-22T15:23:43.475Z"
   },
   {
    "duration": 41,
    "start_time": "2022-03-22T15:23:43.488Z"
   },
   {
    "duration": 6,
    "start_time": "2022-03-22T15:23:43.531Z"
   },
   {
    "duration": 33,
    "start_time": "2022-03-22T15:23:43.540Z"
   },
   {
    "duration": 466,
    "start_time": "2022-03-22T15:23:43.575Z"
   },
   {
    "duration": 46,
    "start_time": "2022-03-22T15:23:44.043Z"
   },
   {
    "duration": 11,
    "start_time": "2022-03-22T15:23:44.091Z"
   },
   {
    "duration": 11,
    "start_time": "2022-03-22T15:23:44.104Z"
   },
   {
    "duration": 43,
    "start_time": "2022-03-22T15:23:44.117Z"
   },
   {
    "duration": 1029,
    "start_time": "2022-03-22T15:23:44.174Z"
   },
   {
    "duration": 467,
    "start_time": "2022-03-22T15:23:45.206Z"
   },
   {
    "duration": 397,
    "start_time": "2022-03-22T15:23:45.676Z"
   },
   {
    "duration": 397,
    "start_time": "2022-03-22T15:23:46.076Z"
   },
   {
    "duration": 388,
    "start_time": "2022-03-22T15:23:46.476Z"
   },
   {
    "duration": 7,
    "start_time": "2022-03-22T15:23:46.874Z"
   },
   {
    "duration": 10,
    "start_time": "2022-03-22T15:23:46.883Z"
   },
   {
    "duration": 30,
    "start_time": "2022-03-22T15:23:46.896Z"
   },
   {
    "duration": 7,
    "start_time": "2022-03-22T15:23:46.929Z"
   },
   {
    "duration": 647,
    "start_time": "2022-03-22T15:23:46.975Z"
   },
   {
    "duration": 8,
    "start_time": "2022-03-22T15:23:47.628Z"
   },
   {
    "duration": 24,
    "start_time": "2022-03-22T15:23:47.638Z"
   },
   {
    "duration": 20,
    "start_time": "2022-03-22T15:23:47.673Z"
   },
   {
    "duration": 595,
    "start_time": "2022-03-22T15:23:47.695Z"
   },
   {
    "duration": 7,
    "start_time": "2022-03-22T15:29:24.762Z"
   },
   {
    "duration": 41,
    "start_time": "2022-03-22T15:29:46.748Z"
   },
   {
    "duration": 675,
    "start_time": "2022-03-22T15:30:20.338Z"
   },
   {
    "duration": 171,
    "start_time": "2022-03-22T15:30:21.016Z"
   },
   {
    "duration": 22,
    "start_time": "2022-03-22T15:30:21.189Z"
   },
   {
    "duration": 6,
    "start_time": "2022-03-22T15:30:21.214Z"
   },
   {
    "duration": 5,
    "start_time": "2022-03-22T15:30:21.222Z"
   },
   {
    "duration": 56,
    "start_time": "2022-03-22T15:30:21.229Z"
   },
   {
    "duration": 8,
    "start_time": "2022-03-22T15:30:21.288Z"
   },
   {
    "duration": 41,
    "start_time": "2022-03-22T15:30:21.298Z"
   },
   {
    "duration": 40,
    "start_time": "2022-03-22T15:30:21.342Z"
   },
   {
    "duration": 11,
    "start_time": "2022-03-22T15:30:21.386Z"
   },
   {
    "duration": 10,
    "start_time": "2022-03-22T15:30:21.399Z"
   },
   {
    "duration": 66,
    "start_time": "2022-03-22T15:30:21.411Z"
   },
   {
    "duration": 7,
    "start_time": "2022-03-22T15:30:21.479Z"
   },
   {
    "duration": 7,
    "start_time": "2022-03-22T15:30:21.488Z"
   },
   {
    "duration": 492,
    "start_time": "2022-03-22T15:30:21.497Z"
   },
   {
    "duration": 38,
    "start_time": "2022-03-22T15:30:21.991Z"
   },
   {
    "duration": 8,
    "start_time": "2022-03-22T15:30:22.032Z"
   },
   {
    "duration": 34,
    "start_time": "2022-03-22T15:30:22.042Z"
   },
   {
    "duration": 41,
    "start_time": "2022-03-22T15:30:22.079Z"
   },
   {
    "duration": 751,
    "start_time": "2022-03-22T15:30:22.122Z"
   },
   {
    "duration": 452,
    "start_time": "2022-03-22T15:30:22.875Z"
   },
   {
    "duration": 404,
    "start_time": "2022-03-22T15:30:23.330Z"
   },
   {
    "duration": 384,
    "start_time": "2022-03-22T15:30:23.736Z"
   },
   {
    "duration": 404,
    "start_time": "2022-03-22T15:30:24.123Z"
   },
   {
    "duration": 7,
    "start_time": "2022-03-22T15:30:24.530Z"
   },
   {
    "duration": 33,
    "start_time": "2022-03-22T15:30:24.540Z"
   },
   {
    "duration": 24,
    "start_time": "2022-03-22T15:30:24.576Z"
   },
   {
    "duration": 7,
    "start_time": "2022-03-22T15:30:24.607Z"
   },
   {
    "duration": 645,
    "start_time": "2022-03-22T15:30:24.616Z"
   },
   {
    "duration": 17,
    "start_time": "2022-03-22T15:30:25.263Z"
   },
   {
    "duration": 13,
    "start_time": "2022-03-22T15:30:25.282Z"
   },
   {
    "duration": 614,
    "start_time": "2022-03-22T15:30:25.297Z"
   },
   {
    "duration": 0,
    "start_time": "2022-03-22T15:30:25.913Z"
   },
   {
    "duration": 12,
    "start_time": "2022-03-22T15:36:33.231Z"
   },
   {
    "duration": 22,
    "start_time": "2022-03-22T15:36:36.789Z"
   },
   {
    "duration": 3623,
    "start_time": "2022-03-22T15:40:14.189Z"
   },
   {
    "duration": 4441,
    "start_time": "2022-03-22T15:40:17.815Z"
   },
   {
    "duration": 5807,
    "start_time": "2022-03-22T15:40:22.258Z"
   },
   {
    "duration": 4561,
    "start_time": "2022-03-22T15:40:28.067Z"
   },
   {
    "duration": 7745,
    "start_time": "2022-03-22T15:40:32.630Z"
   },
   {
    "duration": 4253,
    "start_time": "2022-03-22T15:40:40.377Z"
   },
   {
    "duration": 1368,
    "start_time": "2022-03-22T15:40:44.634Z"
   },
   {
    "duration": 645,
    "start_time": "2022-03-22T15:40:46.005Z"
   },
   {
    "duration": 619,
    "start_time": "2022-03-22T15:40:46.653Z"
   },
   {
    "duration": 3313,
    "start_time": "2022-03-22T15:40:47.275Z"
   },
   {
    "duration": 2265,
    "start_time": "2022-03-22T15:40:50.591Z"
   },
   {
    "duration": 28,
    "start_time": "2022-03-22T15:40:52.859Z"
   },
   {
    "duration": 502,
    "start_time": "2022-03-22T15:40:52.889Z"
   },
   {
    "duration": 39,
    "start_time": "2022-03-22T15:40:53.394Z"
   },
   {
    "duration": 10,
    "start_time": "2022-03-22T15:40:53.435Z"
   },
   {
    "duration": 29,
    "start_time": "2022-03-22T15:40:53.448Z"
   },
   {
    "duration": 87,
    "start_time": "2022-03-22T15:40:53.480Z"
   },
   {
    "duration": 899,
    "start_time": "2022-03-22T15:40:53.570Z"
   },
   {
    "duration": 571,
    "start_time": "2022-03-22T15:40:54.474Z"
   },
   {
    "duration": 501,
    "start_time": "2022-03-22T15:40:55.048Z"
   },
   {
    "duration": 430,
    "start_time": "2022-03-22T15:40:55.552Z"
   },
   {
    "duration": 453,
    "start_time": "2022-03-22T15:40:55.984Z"
   },
   {
    "duration": 7,
    "start_time": "2022-03-22T15:40:56.439Z"
   },
   {
    "duration": 38,
    "start_time": "2022-03-22T15:40:56.450Z"
   },
   {
    "duration": 36,
    "start_time": "2022-03-22T15:40:56.491Z"
   },
   {
    "duration": 7,
    "start_time": "2022-03-22T15:40:56.530Z"
   },
   {
    "duration": 460,
    "start_time": "2022-03-22T15:40:56.539Z"
   },
   {
    "duration": 8,
    "start_time": "2022-03-22T15:40:57.001Z"
   },
   {
    "duration": 13,
    "start_time": "2022-03-22T15:40:57.011Z"
   },
   {
    "duration": 12,
    "start_time": "2022-03-22T15:40:57.026Z"
   },
   {
    "duration": 277,
    "start_time": "2022-03-22T15:40:57.040Z"
   },
   {
    "duration": 599,
    "start_time": "2022-03-22T15:40:57.320Z"
   },
   {
    "duration": 412,
    "start_time": "2022-03-22T15:42:36.959Z"
   },
   {
    "duration": 16,
    "start_time": "2022-03-22T15:43:28.165Z"
   },
   {
    "duration": 302,
    "start_time": "2022-03-22T15:46:08.814Z"
   },
   {
    "duration": 390,
    "start_time": "2022-03-22T15:46:45.251Z"
   },
   {
    "duration": 481,
    "start_time": "2022-03-22T15:46:57.889Z"
   },
   {
    "duration": 488,
    "start_time": "2022-03-22T15:47:08.576Z"
   },
   {
    "duration": 649,
    "start_time": "2022-03-22T15:47:21.101Z"
   },
   {
    "duration": 229,
    "start_time": "2022-03-22T15:48:20.016Z"
   },
   {
    "duration": 494,
    "start_time": "2022-03-23T10:40:34.196Z"
   },
   {
    "duration": 172,
    "start_time": "2022-03-23T10:40:34.692Z"
   },
   {
    "duration": 22,
    "start_time": "2022-03-23T10:40:34.873Z"
   },
   {
    "duration": 6,
    "start_time": "2022-03-23T10:40:34.898Z"
   },
   {
    "duration": 6,
    "start_time": "2022-03-23T10:40:34.906Z"
   },
   {
    "duration": 14,
    "start_time": "2022-03-23T10:40:34.914Z"
   },
   {
    "duration": 53,
    "start_time": "2022-03-23T10:40:34.931Z"
   },
   {
    "duration": 14,
    "start_time": "2022-03-23T10:40:34.987Z"
   },
   {
    "duration": 11,
    "start_time": "2022-03-23T10:40:35.004Z"
   },
   {
    "duration": 78,
    "start_time": "2022-03-23T10:40:35.020Z"
   },
   {
    "duration": 6,
    "start_time": "2022-03-23T10:40:35.100Z"
   },
   {
    "duration": 6,
    "start_time": "2022-03-23T10:40:35.108Z"
   },
   {
    "duration": 577,
    "start_time": "2022-03-23T10:40:35.116Z"
   },
   {
    "duration": 38,
    "start_time": "2022-03-23T10:40:35.695Z"
   },
   {
    "duration": 9,
    "start_time": "2022-03-23T10:40:35.735Z"
   },
   {
    "duration": 29,
    "start_time": "2022-03-23T10:40:35.746Z"
   },
   {
    "duration": 42,
    "start_time": "2022-03-23T10:40:35.778Z"
   },
   {
    "duration": 733,
    "start_time": "2022-03-23T10:40:35.823Z"
   },
   {
    "duration": 445,
    "start_time": "2022-03-23T10:40:36.558Z"
   },
   {
    "duration": 389,
    "start_time": "2022-03-23T10:40:37.005Z"
   },
   {
    "duration": 488,
    "start_time": "2022-03-23T10:40:37.396Z"
   },
   {
    "duration": 511,
    "start_time": "2022-03-23T10:40:37.886Z"
   },
   {
    "duration": 6,
    "start_time": "2022-03-23T10:40:38.399Z"
   },
   {
    "duration": 8,
    "start_time": "2022-03-23T10:40:38.407Z"
   },
   {
    "duration": 20,
    "start_time": "2022-03-23T10:40:38.417Z"
   },
   {
    "duration": 35,
    "start_time": "2022-03-23T10:40:38.439Z"
   },
   {
    "duration": 419,
    "start_time": "2022-03-23T10:40:38.476Z"
   },
   {
    "duration": 7,
    "start_time": "2022-03-23T10:40:38.900Z"
   },
   {
    "duration": 6,
    "start_time": "2022-03-23T10:40:38.910Z"
   },
   {
    "duration": 12,
    "start_time": "2022-03-23T10:40:38.918Z"
   },
   {
    "duration": 255,
    "start_time": "2022-03-23T10:40:38.932Z"
   },
   {
    "duration": 40,
    "start_time": "2022-03-23T10:50:12.026Z"
   },
   {
    "duration": 14,
    "start_time": "2022-03-23T10:53:59.185Z"
   },
   {
    "duration": 297,
    "start_time": "2022-03-23T11:10:36.199Z"
   },
   {
    "duration": 110,
    "start_time": "2022-03-23T11:22:08.904Z"
   },
   {
    "duration": 8,
    "start_time": "2022-03-23T11:22:17.353Z"
   },
   {
    "duration": 37,
    "start_time": "2022-03-23T11:24:28.657Z"
   },
   {
    "duration": 13,
    "start_time": "2022-03-23T11:25:00.316Z"
   },
   {
    "duration": 11,
    "start_time": "2022-03-23T11:27:15.918Z"
   },
   {
    "duration": 6,
    "start_time": "2022-03-23T11:27:26.668Z"
   },
   {
    "duration": 36,
    "start_time": "2022-03-23T11:28:15.241Z"
   },
   {
    "duration": 134,
    "start_time": "2022-03-23T11:49:05.146Z"
   },
   {
    "duration": 11,
    "start_time": "2022-03-23T11:49:11.358Z"
   },
   {
    "duration": 539,
    "start_time": "2022-03-23T11:49:22.245Z"
   },
   {
    "duration": 176,
    "start_time": "2022-03-23T11:49:22.786Z"
   },
   {
    "duration": 29,
    "start_time": "2022-03-23T11:49:22.965Z"
   },
   {
    "duration": 8,
    "start_time": "2022-03-23T11:49:22.999Z"
   },
   {
    "duration": 27,
    "start_time": "2022-03-23T11:49:23.009Z"
   },
   {
    "duration": 22,
    "start_time": "2022-03-23T11:49:23.038Z"
   },
   {
    "duration": 35,
    "start_time": "2022-03-23T11:49:23.063Z"
   },
   {
    "duration": 12,
    "start_time": "2022-03-23T11:49:23.100Z"
   },
   {
    "duration": 13,
    "start_time": "2022-03-23T11:49:23.115Z"
   },
   {
    "duration": 58,
    "start_time": "2022-03-23T11:49:23.133Z"
   },
   {
    "duration": 7,
    "start_time": "2022-03-23T11:49:23.193Z"
   },
   {
    "duration": 8,
    "start_time": "2022-03-23T11:49:23.202Z"
   },
   {
    "duration": 484,
    "start_time": "2022-03-23T11:49:23.213Z"
   },
   {
    "duration": 41,
    "start_time": "2022-03-23T11:49:23.699Z"
   },
   {
    "duration": 5,
    "start_time": "2022-03-23T11:49:23.742Z"
   },
   {
    "duration": 28,
    "start_time": "2022-03-23T11:49:23.749Z"
   },
   {
    "duration": 41,
    "start_time": "2022-03-23T11:49:23.779Z"
   },
   {
    "duration": 851,
    "start_time": "2022-03-23T11:49:23.823Z"
   },
   {
    "duration": 452,
    "start_time": "2022-03-23T11:49:24.677Z"
   },
   {
    "duration": 401,
    "start_time": "2022-03-23T11:49:25.131Z"
   },
   {
    "duration": 378,
    "start_time": "2022-03-23T11:49:25.535Z"
   },
   {
    "duration": 398,
    "start_time": "2022-03-23T11:49:25.916Z"
   },
   {
    "duration": 6,
    "start_time": "2022-03-23T11:49:26.316Z"
   },
   {
    "duration": 8,
    "start_time": "2022-03-23T11:49:26.324Z"
   },
   {
    "duration": 44,
    "start_time": "2022-03-23T11:49:26.334Z"
   },
   {
    "duration": 5,
    "start_time": "2022-03-23T11:49:26.380Z"
   },
   {
    "duration": 415,
    "start_time": "2022-03-23T11:49:26.388Z"
   },
   {
    "duration": 6,
    "start_time": "2022-03-23T11:49:26.808Z"
   },
   {
    "duration": 7,
    "start_time": "2022-03-23T11:49:26.817Z"
   },
   {
    "duration": 11,
    "start_time": "2022-03-23T11:49:26.827Z"
   },
   {
    "duration": 228,
    "start_time": "2022-03-23T11:49:26.874Z"
   },
   {
    "duration": 311,
    "start_time": "2022-03-23T11:49:27.104Z"
   },
   {
    "duration": 125,
    "start_time": "2022-03-23T11:49:27.418Z"
   },
   {
    "duration": 12,
    "start_time": "2022-03-23T11:49:38.276Z"
   },
   {
    "duration": 512,
    "start_time": "2022-03-23T11:49:55.279Z"
   },
   {
    "duration": 178,
    "start_time": "2022-03-23T11:49:55.795Z"
   },
   {
    "duration": 25,
    "start_time": "2022-03-23T11:49:55.975Z"
   },
   {
    "duration": 8,
    "start_time": "2022-03-23T11:49:56.004Z"
   },
   {
    "duration": 22,
    "start_time": "2022-03-23T11:49:56.014Z"
   },
   {
    "duration": 37,
    "start_time": "2022-03-23T11:49:56.039Z"
   },
   {
    "duration": 22,
    "start_time": "2022-03-23T11:49:56.079Z"
   },
   {
    "duration": 11,
    "start_time": "2022-03-23T11:49:56.103Z"
   },
   {
    "duration": 12,
    "start_time": "2022-03-23T11:49:56.117Z"
   },
   {
    "duration": 70,
    "start_time": "2022-03-23T11:49:56.132Z"
   },
   {
    "duration": 6,
    "start_time": "2022-03-23T11:49:56.204Z"
   },
   {
    "duration": 12,
    "start_time": "2022-03-23T11:49:56.212Z"
   },
   {
    "duration": 454,
    "start_time": "2022-03-23T11:49:56.227Z"
   },
   {
    "duration": 38,
    "start_time": "2022-03-23T11:49:56.684Z"
   },
   {
    "duration": 9,
    "start_time": "2022-03-23T11:49:56.725Z"
   },
   {
    "duration": 7,
    "start_time": "2022-03-23T11:49:56.736Z"
   },
   {
    "duration": 67,
    "start_time": "2022-03-23T11:49:56.745Z"
   },
   {
    "duration": 732,
    "start_time": "2022-03-23T11:49:56.814Z"
   },
   {
    "duration": 462,
    "start_time": "2022-03-23T11:49:57.548Z"
   },
   {
    "duration": 393,
    "start_time": "2022-03-23T11:49:58.012Z"
   },
   {
    "duration": 387,
    "start_time": "2022-03-23T11:49:58.407Z"
   },
   {
    "duration": 384,
    "start_time": "2022-03-23T11:49:58.796Z"
   },
   {
    "duration": 6,
    "start_time": "2022-03-23T11:49:59.182Z"
   },
   {
    "duration": 12,
    "start_time": "2022-03-23T11:49:59.191Z"
   },
   {
    "duration": 19,
    "start_time": "2022-03-23T11:49:59.205Z"
   },
   {
    "duration": 6,
    "start_time": "2022-03-23T11:49:59.226Z"
   },
   {
    "duration": 436,
    "start_time": "2022-03-23T11:49:59.275Z"
   },
   {
    "duration": 8,
    "start_time": "2022-03-23T11:49:59.716Z"
   },
   {
    "duration": 9,
    "start_time": "2022-03-23T11:49:59.726Z"
   },
   {
    "duration": 42,
    "start_time": "2022-03-23T11:49:59.737Z"
   },
   {
    "duration": 232,
    "start_time": "2022-03-23T11:49:59.782Z"
   },
   {
    "duration": 313,
    "start_time": "2022-03-23T11:50:00.016Z"
   },
   {
    "duration": 123,
    "start_time": "2022-03-23T11:50:00.331Z"
   },
   {
    "duration": 11,
    "start_time": "2022-03-23T11:50:16.346Z"
   },
   {
    "duration": 10,
    "start_time": "2022-03-23T11:51:16.987Z"
   },
   {
    "duration": 11,
    "start_time": "2022-03-23T11:53:20.079Z"
   },
   {
    "duration": 9,
    "start_time": "2022-03-23T11:56:08.643Z"
   },
   {
    "duration": 34,
    "start_time": "2022-03-23T12:02:11.313Z"
   },
   {
    "duration": 27,
    "start_time": "2022-03-23T12:05:19.181Z"
   },
   {
    "duration": 120,
    "start_time": "2022-03-23T12:05:33.378Z"
   },
   {
    "duration": 21,
    "start_time": "2022-03-23T12:05:40.498Z"
   },
   {
    "duration": 17,
    "start_time": "2022-03-23T12:06:44.739Z"
   },
   {
    "duration": 9,
    "start_time": "2022-03-23T12:06:55.898Z"
   },
   {
    "duration": 11,
    "start_time": "2022-03-23T12:08:01.647Z"
   },
   {
    "duration": 7,
    "start_time": "2022-03-23T12:08:33.906Z"
   },
   {
    "duration": 9,
    "start_time": "2022-03-23T12:08:43.909Z"
   },
   {
    "duration": 7,
    "start_time": "2022-03-23T12:13:07.077Z"
   },
   {
    "duration": 13,
    "start_time": "2022-03-23T12:14:33.295Z"
   },
   {
    "duration": 12,
    "start_time": "2022-03-23T12:14:47.115Z"
   },
   {
    "duration": 11,
    "start_time": "2022-03-23T12:15:36.379Z"
   },
   {
    "duration": 7,
    "start_time": "2022-03-23T12:18:41.948Z"
   },
   {
    "duration": 10,
    "start_time": "2022-03-23T12:18:43.262Z"
   },
   {
    "duration": 10,
    "start_time": "2022-03-23T12:21:38.033Z"
   },
   {
    "duration": 6,
    "start_time": "2022-03-23T12:22:25.467Z"
   },
   {
    "duration": 25,
    "start_time": "2022-03-23T12:25:22.258Z"
   },
   {
    "duration": 22,
    "start_time": "2022-03-23T12:25:46.925Z"
   },
   {
    "duration": 21,
    "start_time": "2022-03-23T12:25:54.327Z"
   },
   {
    "duration": 22,
    "start_time": "2022-03-23T12:26:13.508Z"
   },
   {
    "duration": 2548,
    "start_time": "2022-03-23T12:27:02.564Z"
   },
   {
    "duration": 23,
    "start_time": "2022-03-23T12:27:11.309Z"
   },
   {
    "duration": 20,
    "start_time": "2022-03-23T12:27:24.476Z"
   },
   {
    "duration": 6,
    "start_time": "2022-03-23T12:43:32.044Z"
   },
   {
    "duration": 40,
    "start_time": "2022-03-23T12:43:51.035Z"
   },
   {
    "duration": 20,
    "start_time": "2022-03-23T12:44:45.332Z"
   },
   {
    "duration": 19,
    "start_time": "2022-03-23T12:44:54.496Z"
   },
   {
    "duration": 5,
    "start_time": "2022-03-23T12:45:27.978Z"
   },
   {
    "duration": 41,
    "start_time": "2022-03-23T12:45:29.626Z"
   },
   {
    "duration": 12,
    "start_time": "2022-03-23T12:52:59.064Z"
   },
   {
    "duration": 482,
    "start_time": "2022-03-23T12:53:20.405Z"
   },
   {
    "duration": 170,
    "start_time": "2022-03-23T12:53:20.890Z"
   },
   {
    "duration": 29,
    "start_time": "2022-03-23T12:53:21.062Z"
   },
   {
    "duration": 7,
    "start_time": "2022-03-23T12:53:21.095Z"
   },
   {
    "duration": 11,
    "start_time": "2022-03-23T12:53:21.104Z"
   },
   {
    "duration": 28,
    "start_time": "2022-03-23T12:53:21.117Z"
   },
   {
    "duration": 38,
    "start_time": "2022-03-23T12:53:21.147Z"
   },
   {
    "duration": 12,
    "start_time": "2022-03-23T12:53:21.187Z"
   },
   {
    "duration": 9,
    "start_time": "2022-03-23T12:53:21.201Z"
   },
   {
    "duration": 63,
    "start_time": "2022-03-23T12:53:21.214Z"
   },
   {
    "duration": 6,
    "start_time": "2022-03-23T12:53:21.280Z"
   },
   {
    "duration": 6,
    "start_time": "2022-03-23T12:53:21.288Z"
   },
   {
    "duration": 473,
    "start_time": "2022-03-23T12:53:21.296Z"
   },
   {
    "duration": 39,
    "start_time": "2022-03-23T12:53:21.771Z"
   },
   {
    "duration": 6,
    "start_time": "2022-03-23T12:53:21.812Z"
   },
   {
    "duration": 11,
    "start_time": "2022-03-23T12:53:21.820Z"
   },
   {
    "duration": 65,
    "start_time": "2022-03-23T12:53:21.833Z"
   },
   {
    "duration": 727,
    "start_time": "2022-03-23T12:53:21.900Z"
   },
   {
    "duration": 452,
    "start_time": "2022-03-23T12:53:22.630Z"
   },
   {
    "duration": 411,
    "start_time": "2022-03-23T12:53:23.084Z"
   },
   {
    "duration": 391,
    "start_time": "2022-03-23T12:53:23.498Z"
   },
   {
    "duration": 398,
    "start_time": "2022-03-23T12:53:23.891Z"
   },
   {
    "duration": 6,
    "start_time": "2022-03-23T12:53:24.292Z"
   },
   {
    "duration": 7,
    "start_time": "2022-03-23T12:53:24.300Z"
   },
   {
    "duration": 20,
    "start_time": "2022-03-23T12:53:24.309Z"
   },
   {
    "duration": 42,
    "start_time": "2022-03-23T12:53:24.331Z"
   },
   {
    "duration": 430,
    "start_time": "2022-03-23T12:53:24.375Z"
   },
   {
    "duration": 9,
    "start_time": "2022-03-23T12:53:24.810Z"
   },
   {
    "duration": 8,
    "start_time": "2022-03-23T12:53:24.822Z"
   },
   {
    "duration": 41,
    "start_time": "2022-03-23T12:53:24.833Z"
   },
   {
    "duration": 239,
    "start_time": "2022-03-23T12:53:24.877Z"
   },
   {
    "duration": 314,
    "start_time": "2022-03-23T12:53:25.118Z"
   },
   {
    "duration": 10,
    "start_time": "2022-03-23T12:53:25.435Z"
   },
   {
    "duration": 42,
    "start_time": "2022-03-23T12:53:25.448Z"
   },
   {
    "duration": 7,
    "start_time": "2022-03-23T12:53:25.492Z"
   },
   {
    "duration": 124,
    "start_time": "2022-03-23T12:53:25.501Z"
   },
   {
    "duration": 51,
    "start_time": "2022-03-23T12:53:36.177Z"
   },
   {
    "duration": 71,
    "start_time": "2022-03-23T12:53:52.507Z"
   },
   {
    "duration": 12,
    "start_time": "2022-03-23T12:54:07.842Z"
   },
   {
    "duration": 63,
    "start_time": "2022-03-23T12:54:19.471Z"
   },
   {
    "duration": 518,
    "start_time": "2022-03-23T17:32:34.181Z"
   },
   {
    "duration": 179,
    "start_time": "2022-03-23T17:32:34.702Z"
   },
   {
    "duration": 23,
    "start_time": "2022-03-23T17:32:34.884Z"
   },
   {
    "duration": 6,
    "start_time": "2022-03-23T17:32:34.911Z"
   },
   {
    "duration": 9,
    "start_time": "2022-03-23T17:32:34.919Z"
   },
   {
    "duration": 48,
    "start_time": "2022-03-23T17:32:34.930Z"
   },
   {
    "duration": 21,
    "start_time": "2022-03-23T17:32:34.980Z"
   },
   {
    "duration": 12,
    "start_time": "2022-03-23T17:32:35.003Z"
   },
   {
    "duration": 35,
    "start_time": "2022-03-23T17:32:35.017Z"
   },
   {
    "duration": 61,
    "start_time": "2022-03-23T17:32:35.056Z"
   },
   {
    "duration": 6,
    "start_time": "2022-03-23T17:32:35.119Z"
   },
   {
    "duration": 15,
    "start_time": "2022-03-23T17:32:35.127Z"
   },
   {
    "duration": 465,
    "start_time": "2022-03-23T17:32:35.145Z"
   },
   {
    "duration": 38,
    "start_time": "2022-03-23T17:32:35.613Z"
   },
   {
    "duration": 20,
    "start_time": "2022-03-23T17:32:35.654Z"
   },
   {
    "duration": 19,
    "start_time": "2022-03-23T17:32:35.677Z"
   },
   {
    "duration": 54,
    "start_time": "2022-03-23T17:32:35.699Z"
   },
   {
    "duration": 787,
    "start_time": "2022-03-23T17:32:35.755Z"
   },
   {
    "duration": 481,
    "start_time": "2022-03-23T17:32:36.545Z"
   },
   {
    "duration": 419,
    "start_time": "2022-03-23T17:32:37.028Z"
   },
   {
    "duration": 425,
    "start_time": "2022-03-23T17:32:37.449Z"
   },
   {
    "duration": 411,
    "start_time": "2022-03-23T17:32:37.876Z"
   },
   {
    "duration": 8,
    "start_time": "2022-03-23T17:32:38.289Z"
   },
   {
    "duration": 9,
    "start_time": "2022-03-23T17:32:38.300Z"
   },
   {
    "duration": 19,
    "start_time": "2022-03-23T17:32:38.312Z"
   },
   {
    "duration": 7,
    "start_time": "2022-03-23T17:32:38.373Z"
   },
   {
    "duration": 438,
    "start_time": "2022-03-23T17:32:38.383Z"
   },
   {
    "duration": 7,
    "start_time": "2022-03-23T17:32:38.828Z"
   },
   {
    "duration": 14,
    "start_time": "2022-03-23T17:32:38.838Z"
   },
   {
    "duration": 14,
    "start_time": "2022-03-23T17:32:38.874Z"
   },
   {
    "duration": 239,
    "start_time": "2022-03-23T17:32:38.891Z"
   },
   {
    "duration": 312,
    "start_time": "2022-03-23T17:32:39.133Z"
   },
   {
    "duration": 9,
    "start_time": "2022-03-23T17:32:39.447Z"
   },
   {
    "duration": 20,
    "start_time": "2022-03-23T17:32:39.473Z"
   },
   {
    "duration": 6,
    "start_time": "2022-03-23T17:32:39.495Z"
   },
   {
    "duration": 96,
    "start_time": "2022-03-23T17:32:39.503Z"
   },
   {
    "duration": 7,
    "start_time": "2022-03-23T17:47:40.456Z"
   },
   {
    "duration": 6,
    "start_time": "2022-03-23T17:47:56.528Z"
   },
   {
    "duration": 9,
    "start_time": "2022-03-23T17:51:35.854Z"
   },
   {
    "duration": 66,
    "start_time": "2022-03-23T17:51:58.947Z"
   },
   {
    "duration": 111,
    "start_time": "2022-03-23T17:57:37.795Z"
   },
   {
    "duration": 9,
    "start_time": "2022-03-23T18:00:59.435Z"
   },
   {
    "duration": 62,
    "start_time": "2022-03-23T18:03:01.616Z"
   },
   {
    "duration": 55,
    "start_time": "2022-03-23T18:03:43.341Z"
   },
   {
    "duration": 11,
    "start_time": "2022-03-23T18:11:48.949Z"
   },
   {
    "duration": 209,
    "start_time": "2022-03-23T18:15:04.093Z"
   },
   {
    "duration": 8,
    "start_time": "2022-03-23T18:15:17.492Z"
   },
   {
    "duration": 8,
    "start_time": "2022-03-23T18:15:32.817Z"
   },
   {
    "duration": 11,
    "start_time": "2022-03-23T18:16:33.597Z"
   },
   {
    "duration": 9,
    "start_time": "2022-03-23T18:21:07.955Z"
   },
   {
    "duration": 5,
    "start_time": "2022-03-23T18:21:40.518Z"
   },
   {
    "duration": 17,
    "start_time": "2022-03-23T18:24:03.616Z"
   },
   {
    "duration": 12,
    "start_time": "2022-03-23T18:24:10.281Z"
   },
   {
    "duration": 13,
    "start_time": "2022-03-23T18:24:52.449Z"
   },
   {
    "duration": 11,
    "start_time": "2022-03-23T18:24:57.961Z"
   },
   {
    "duration": 13,
    "start_time": "2022-03-23T18:31:45.330Z"
   },
   {
    "duration": 61,
    "start_time": "2022-03-23T18:32:06.286Z"
   },
   {
    "duration": 11,
    "start_time": "2022-03-23T18:35:31.424Z"
   },
   {
    "duration": 6,
    "start_time": "2022-03-23T18:35:54.911Z"
   },
   {
    "duration": 6,
    "start_time": "2022-03-23T18:36:08.302Z"
   },
   {
    "duration": 8,
    "start_time": "2022-03-23T18:39:21.046Z"
   },
   {
    "duration": 60,
    "start_time": "2022-03-23T18:39:21.852Z"
   },
   {
    "duration": 537,
    "start_time": "2022-03-24T08:21:52.652Z"
   },
   {
    "duration": 187,
    "start_time": "2022-03-24T08:21:53.191Z"
   },
   {
    "duration": 21,
    "start_time": "2022-03-24T08:21:53.380Z"
   },
   {
    "duration": 5,
    "start_time": "2022-03-24T08:21:53.404Z"
   },
   {
    "duration": 7,
    "start_time": "2022-03-24T08:21:53.410Z"
   },
   {
    "duration": 17,
    "start_time": "2022-03-24T08:21:53.418Z"
   },
   {
    "duration": 22,
    "start_time": "2022-03-24T08:21:53.437Z"
   },
   {
    "duration": 12,
    "start_time": "2022-03-24T08:21:53.480Z"
   },
   {
    "duration": 7,
    "start_time": "2022-03-24T08:21:53.493Z"
   },
   {
    "duration": 30,
    "start_time": "2022-03-24T08:21:53.502Z"
   },
   {
    "duration": 5,
    "start_time": "2022-03-24T08:21:53.533Z"
   },
   {
    "duration": 8,
    "start_time": "2022-03-24T08:21:53.540Z"
   },
   {
    "duration": 274,
    "start_time": "2022-03-24T08:21:53.550Z"
   },
   {
    "duration": 23,
    "start_time": "2022-03-24T08:21:53.826Z"
   },
   {
    "duration": 7,
    "start_time": "2022-03-24T08:21:53.851Z"
   },
   {
    "duration": 23,
    "start_time": "2022-03-24T08:21:53.860Z"
   },
   {
    "duration": 36,
    "start_time": "2022-03-24T08:21:53.885Z"
   },
   {
    "duration": 624,
    "start_time": "2022-03-24T08:21:53.923Z"
   },
   {
    "duration": 261,
    "start_time": "2022-03-24T08:21:54.549Z"
   },
   {
    "duration": 207,
    "start_time": "2022-03-24T08:21:54.811Z"
   },
   {
    "duration": 215,
    "start_time": "2022-03-24T08:21:55.019Z"
   },
   {
    "duration": 203,
    "start_time": "2022-03-24T08:21:55.236Z"
   },
   {
    "duration": 4,
    "start_time": "2022-03-24T08:21:55.441Z"
   },
   {
    "duration": 6,
    "start_time": "2022-03-24T08:21:55.447Z"
   },
   {
    "duration": 27,
    "start_time": "2022-03-24T08:21:55.455Z"
   },
   {
    "duration": 5,
    "start_time": "2022-03-24T08:21:55.483Z"
   },
   {
    "duration": 227,
    "start_time": "2022-03-24T08:21:55.489Z"
   },
   {
    "duration": 5,
    "start_time": "2022-03-24T08:21:55.720Z"
   },
   {
    "duration": 6,
    "start_time": "2022-03-24T08:21:55.727Z"
   },
   {
    "duration": 9,
    "start_time": "2022-03-24T08:21:55.734Z"
   },
   {
    "duration": 143,
    "start_time": "2022-03-24T08:21:55.744Z"
   },
   {
    "duration": 198,
    "start_time": "2022-03-24T08:21:55.889Z"
   },
   {
    "duration": 4,
    "start_time": "2022-03-24T08:21:56.089Z"
   },
   {
    "duration": 15,
    "start_time": "2022-03-24T08:21:56.095Z"
   },
   {
    "duration": 11,
    "start_time": "2022-03-24T08:21:56.111Z"
   },
   {
    "duration": 5,
    "start_time": "2022-03-24T08:21:56.123Z"
   },
   {
    "duration": 9,
    "start_time": "2022-03-24T08:21:56.129Z"
   },
   {
    "duration": 2560,
    "start_time": "2022-03-24T08:24:27.020Z"
   },
   {
    "duration": 5,
    "start_time": "2022-03-24T08:25:03.907Z"
   },
   {
    "duration": 117,
    "start_time": "2022-03-24T08:26:57.791Z"
   },
   {
    "duration": 134,
    "start_time": "2022-03-24T08:27:27.315Z"
   },
   {
    "duration": 146,
    "start_time": "2022-03-24T08:31:45.502Z"
   },
   {
    "duration": 5,
    "start_time": "2022-03-24T08:38:17.536Z"
   },
   {
    "duration": 131,
    "start_time": "2022-03-24T08:38:45.487Z"
   },
   {
    "duration": 192,
    "start_time": "2022-03-24T08:40:53.522Z"
   },
   {
    "duration": 4,
    "start_time": "2022-03-24T08:41:20.811Z"
   },
   {
    "duration": 106,
    "start_time": "2022-03-24T08:41:40.403Z"
   },
   {
    "duration": 5,
    "start_time": "2022-03-24T08:45:25.152Z"
   },
   {
    "duration": 130,
    "start_time": "2022-03-24T08:47:46.037Z"
   },
   {
    "duration": 6,
    "start_time": "2022-03-24T09:05:19.887Z"
   },
   {
    "duration": 5,
    "start_time": "2022-03-24T09:05:31.769Z"
   },
   {
    "duration": 109,
    "start_time": "2022-03-24T09:13:13.131Z"
   },
   {
    "duration": 105,
    "start_time": "2022-03-24T09:16:53.956Z"
   },
   {
    "duration": 169,
    "start_time": "2022-03-24T09:17:03.692Z"
   },
   {
    "duration": 121,
    "start_time": "2022-03-24T09:23:00.530Z"
   },
   {
    "duration": 111,
    "start_time": "2022-03-24T09:26:18.860Z"
   },
   {
    "duration": 172,
    "start_time": "2022-03-24T09:26:29.525Z"
   },
   {
    "duration": 177,
    "start_time": "2022-03-24T09:28:08.771Z"
   },
   {
    "duration": 128,
    "start_time": "2022-03-24T09:28:14.215Z"
   },
   {
    "duration": 122,
    "start_time": "2022-03-24T09:28:35.267Z"
   },
   {
    "duration": 116,
    "start_time": "2022-03-24T09:28:59.511Z"
   },
   {
    "duration": 173,
    "start_time": "2022-03-24T09:29:26.223Z"
   },
   {
    "duration": 291,
    "start_time": "2022-03-24T09:33:47.409Z"
   },
   {
    "duration": 117,
    "start_time": "2022-03-24T09:34:49.583Z"
   },
   {
    "duration": 103,
    "start_time": "2022-03-24T09:35:13.444Z"
   },
   {
    "duration": 105,
    "start_time": "2022-03-24T09:35:21.525Z"
   },
   {
    "duration": 118,
    "start_time": "2022-03-24T09:35:30.421Z"
   },
   {
    "duration": 163,
    "start_time": "2022-03-24T09:36:41.008Z"
   },
   {
    "duration": 160,
    "start_time": "2022-03-24T09:36:46.204Z"
   },
   {
    "duration": 123,
    "start_time": "2022-03-24T09:36:55.700Z"
   },
   {
    "duration": 144,
    "start_time": "2022-03-24T09:37:09.578Z"
   },
   {
    "duration": 122,
    "start_time": "2022-03-24T09:37:17.732Z"
   },
   {
    "duration": 6,
    "start_time": "2022-03-24T09:41:19.647Z"
   },
   {
    "duration": 17,
    "start_time": "2022-03-24T09:41:58.267Z"
   },
   {
    "duration": 5,
    "start_time": "2022-03-24T09:42:29.942Z"
   },
   {
    "duration": 5,
    "start_time": "2022-03-24T09:44:23.788Z"
   },
   {
    "duration": 112,
    "start_time": "2022-03-24T09:46:10.244Z"
   },
   {
    "duration": 117,
    "start_time": "2022-03-24T09:49:57.065Z"
   },
   {
    "duration": 173,
    "start_time": "2022-03-24T09:53:41.215Z"
   },
   {
    "duration": 128,
    "start_time": "2022-03-24T09:55:20.347Z"
   },
   {
    "duration": 116,
    "start_time": "2022-03-24T09:56:27.502Z"
   },
   {
    "duration": 127,
    "start_time": "2022-03-24T10:03:35.075Z"
   },
   {
    "duration": 113,
    "start_time": "2022-03-24T10:04:52.425Z"
   },
   {
    "duration": 154,
    "start_time": "2022-04-04T13:44:34.328Z"
   },
   {
    "duration": 135,
    "start_time": "2022-04-04T13:46:09.481Z"
   },
   {
    "duration": 63,
    "start_time": "2022-04-04T14:05:33.741Z"
   },
   {
    "duration": 560,
    "start_time": "2022-04-04T14:05:41.539Z"
   },
   {
    "duration": 168,
    "start_time": "2022-04-04T14:05:42.102Z"
   },
   {
    "duration": 29,
    "start_time": "2022-04-04T14:05:42.272Z"
   },
   {
    "duration": 7,
    "start_time": "2022-04-04T14:05:42.304Z"
   },
   {
    "duration": 16,
    "start_time": "2022-04-04T14:05:42.313Z"
   },
   {
    "duration": 22,
    "start_time": "2022-04-04T14:05:42.332Z"
   },
   {
    "duration": 37,
    "start_time": "2022-04-04T14:05:42.357Z"
   },
   {
    "duration": 12,
    "start_time": "2022-04-04T14:05:42.396Z"
   },
   {
    "duration": 30,
    "start_time": "2022-04-04T14:05:42.411Z"
   },
   {
    "duration": 50,
    "start_time": "2022-04-04T14:05:42.446Z"
   },
   {
    "duration": 7,
    "start_time": "2022-04-04T14:05:42.498Z"
   },
   {
    "duration": 41,
    "start_time": "2022-04-04T14:05:42.507Z"
   },
   {
    "duration": 453,
    "start_time": "2022-04-04T14:05:42.551Z"
   },
   {
    "duration": 38,
    "start_time": "2022-04-04T14:05:43.006Z"
   },
   {
    "duration": 6,
    "start_time": "2022-04-04T14:05:43.046Z"
   },
   {
    "duration": 32,
    "start_time": "2022-04-04T14:05:43.054Z"
   },
   {
    "duration": 39,
    "start_time": "2022-04-04T14:05:43.089Z"
   },
   {
    "duration": 28,
    "start_time": "2022-04-04T14:05:43.130Z"
   },
   {
    "duration": 988,
    "start_time": "2022-04-04T14:05:43.160Z"
   },
   {
    "duration": 450,
    "start_time": "2022-04-04T14:05:44.151Z"
   },
   {
    "duration": 392,
    "start_time": "2022-04-04T14:05:44.603Z"
   },
   {
    "duration": 376,
    "start_time": "2022-04-04T14:05:44.997Z"
   },
   {
    "duration": 387,
    "start_time": "2022-04-04T14:05:45.376Z"
   },
   {
    "duration": 6,
    "start_time": "2022-04-04T14:05:45.765Z"
   },
   {
    "duration": 8,
    "start_time": "2022-04-04T14:05:45.784Z"
   },
   {
    "duration": 34,
    "start_time": "2022-04-04T14:05:45.794Z"
   },
   {
    "duration": 8,
    "start_time": "2022-04-04T14:05:45.830Z"
   },
   {
    "duration": 395,
    "start_time": "2022-04-04T14:05:45.844Z"
   },
   {
    "duration": 7,
    "start_time": "2022-04-04T14:05:46.241Z"
   },
   {
    "duration": 219,
    "start_time": "2022-04-04T14:05:46.250Z"
   },
   {
    "duration": 21,
    "start_time": "2022-04-04T14:05:46.471Z"
   },
   {
    "duration": 315,
    "start_time": "2022-04-04T14:05:46.495Z"
   },
   {
    "duration": 235,
    "start_time": "2022-04-04T14:05:46.812Z"
   },
   {
    "duration": 6,
    "start_time": "2022-04-04T14:05:47.050Z"
   },
   {
    "duration": 222,
    "start_time": "2022-04-04T14:05:47.058Z"
   },
   {
    "duration": 6,
    "start_time": "2022-04-04T14:05:47.282Z"
   },
   {
    "duration": 229,
    "start_time": "2022-04-04T14:05:47.290Z"
   },
   {
    "duration": 8,
    "start_time": "2022-04-04T14:05:47.521Z"
   },
   {
    "duration": 228,
    "start_time": "2022-04-04T14:05:47.531Z"
   },
   {
    "duration": 8,
    "start_time": "2022-04-04T14:05:47.762Z"
   },
   {
    "duration": 10,
    "start_time": "2022-04-04T14:05:47.784Z"
   },
   {
    "duration": 16,
    "start_time": "2022-04-04T14:05:47.796Z"
   },
   {
    "duration": 10,
    "start_time": "2022-04-04T14:05:47.814Z"
   },
   {
    "duration": 18,
    "start_time": "2022-04-04T14:05:47.826Z"
   },
   {
    "duration": 240,
    "start_time": "2022-04-04T14:05:47.847Z"
   },
   {
    "duration": 6,
    "start_time": "2022-04-04T14:05:48.090Z"
   },
   {
    "duration": 242,
    "start_time": "2022-04-04T14:05:48.098Z"
   },
   {
    "duration": 236,
    "start_time": "2022-04-04T14:05:48.342Z"
   },
   {
    "duration": 228,
    "start_time": "2022-04-04T14:05:48.583Z"
   },
   {
    "duration": 236,
    "start_time": "2022-04-04T14:05:48.813Z"
   },
   {
    "duration": 224,
    "start_time": "2022-04-04T14:05:49.051Z"
   },
   {
    "duration": 86,
    "start_time": "2022-04-04T14:23:25.876Z"
   },
   {
    "duration": 73,
    "start_time": "2022-04-04T14:24:05.637Z"
   },
   {
    "duration": 505,
    "start_time": "2022-04-04T14:24:20.115Z"
   },
   {
    "duration": 179,
    "start_time": "2022-04-04T14:24:20.623Z"
   },
   {
    "duration": 21,
    "start_time": "2022-04-04T14:24:20.804Z"
   },
   {
    "duration": 7,
    "start_time": "2022-04-04T14:24:20.828Z"
   },
   {
    "duration": 18,
    "start_time": "2022-04-04T14:24:20.837Z"
   },
   {
    "duration": 49,
    "start_time": "2022-04-04T14:24:20.857Z"
   },
   {
    "duration": 30,
    "start_time": "2022-04-04T14:24:20.908Z"
   },
   {
    "duration": 11,
    "start_time": "2022-04-04T14:24:20.940Z"
   },
   {
    "duration": 35,
    "start_time": "2022-04-04T14:24:20.954Z"
   },
   {
    "duration": 76,
    "start_time": "2022-04-04T14:24:20.993Z"
   },
   {
    "duration": 10,
    "start_time": "2022-04-04T14:24:21.072Z"
   },
   {
    "duration": 20,
    "start_time": "2022-04-04T14:24:21.085Z"
   },
   {
    "duration": 490,
    "start_time": "2022-04-04T14:24:21.108Z"
   },
   {
    "duration": 40,
    "start_time": "2022-04-04T14:24:21.601Z"
   },
   {
    "duration": 7,
    "start_time": "2022-04-04T14:24:21.643Z"
   },
   {
    "duration": 32,
    "start_time": "2022-04-04T14:24:21.652Z"
   },
   {
    "duration": 54,
    "start_time": "2022-04-04T14:24:21.687Z"
   },
   {
    "duration": 743,
    "start_time": "2022-04-04T14:24:21.743Z"
   },
   {
    "duration": 161,
    "start_time": "2022-04-04T14:24:22.490Z"
   },
   {
    "duration": 418,
    "start_time": "2022-04-04T14:24:22.653Z"
   },
   {
    "duration": 387,
    "start_time": "2022-04-04T14:24:23.073Z"
   },
   {
    "duration": 373,
    "start_time": "2022-04-04T14:24:23.462Z"
   },
   {
    "duration": 399,
    "start_time": "2022-04-04T14:24:23.837Z"
   },
   {
    "duration": 6,
    "start_time": "2022-04-04T14:24:24.238Z"
   },
   {
    "duration": 10,
    "start_time": "2022-04-04T14:24:24.246Z"
   },
   {
    "duration": 48,
    "start_time": "2022-04-04T14:24:24.258Z"
   },
   {
    "duration": 7,
    "start_time": "2022-04-04T14:24:24.308Z"
   },
   {
    "duration": 431,
    "start_time": "2022-04-04T14:24:24.321Z"
   },
   {
    "duration": 7,
    "start_time": "2022-04-04T14:24:24.754Z"
   },
   {
    "duration": 325,
    "start_time": "2022-04-04T14:24:24.763Z"
   },
   {
    "duration": 13,
    "start_time": "2022-04-04T14:24:25.091Z"
   },
   {
    "duration": 242,
    "start_time": "2022-04-04T14:24:25.106Z"
   },
   {
    "duration": 247,
    "start_time": "2022-04-04T14:24:25.351Z"
   },
   {
    "duration": 7,
    "start_time": "2022-04-04T14:24:25.600Z"
   },
   {
    "duration": 226,
    "start_time": "2022-04-04T14:24:25.609Z"
   },
   {
    "duration": 6,
    "start_time": "2022-04-04T14:24:25.838Z"
   },
   {
    "duration": 247,
    "start_time": "2022-04-04T14:24:25.846Z"
   },
   {
    "duration": 7,
    "start_time": "2022-04-04T14:24:26.095Z"
   },
   {
    "duration": 231,
    "start_time": "2022-04-04T14:24:26.105Z"
   },
   {
    "duration": 8,
    "start_time": "2022-04-04T14:24:26.339Z"
   },
   {
    "duration": 34,
    "start_time": "2022-04-04T14:24:26.350Z"
   },
   {
    "duration": 15,
    "start_time": "2022-04-04T14:24:26.388Z"
   },
   {
    "duration": 7,
    "start_time": "2022-04-04T14:24:26.404Z"
   },
   {
    "duration": 11,
    "start_time": "2022-04-04T14:24:26.413Z"
   },
   {
    "duration": 262,
    "start_time": "2022-04-04T14:24:26.427Z"
   },
   {
    "duration": 12,
    "start_time": "2022-04-04T14:24:26.691Z"
   },
   {
    "duration": 219,
    "start_time": "2022-04-04T14:24:26.705Z"
   },
   {
    "duration": 241,
    "start_time": "2022-04-04T14:24:26.926Z"
   },
   {
    "duration": 239,
    "start_time": "2022-04-04T14:24:27.169Z"
   },
   {
    "duration": 248,
    "start_time": "2022-04-04T14:24:27.411Z"
   },
   {
    "duration": 239,
    "start_time": "2022-04-04T14:24:27.662Z"
   },
   {
    "duration": 4,
    "start_time": "2022-04-04T14:29:28.713Z"
   },
   {
    "duration": 217,
    "start_time": "2022-04-04T14:29:51.754Z"
   },
   {
    "duration": 520,
    "start_time": "2022-04-04T14:30:01.334Z"
   },
   {
    "duration": 179,
    "start_time": "2022-04-04T14:30:01.857Z"
   },
   {
    "duration": 22,
    "start_time": "2022-04-04T14:30:02.038Z"
   },
   {
    "duration": 25,
    "start_time": "2022-04-04T14:30:02.062Z"
   },
   {
    "duration": 46,
    "start_time": "2022-04-04T14:30:02.090Z"
   },
   {
    "duration": 45,
    "start_time": "2022-04-04T14:30:02.139Z"
   },
   {
    "duration": 35,
    "start_time": "2022-04-04T14:30:02.186Z"
   },
   {
    "duration": 25,
    "start_time": "2022-04-04T14:30:02.223Z"
   },
   {
    "duration": 27,
    "start_time": "2022-04-04T14:30:02.250Z"
   },
   {
    "duration": 66,
    "start_time": "2022-04-04T14:30:02.281Z"
   },
   {
    "duration": 14,
    "start_time": "2022-04-04T14:30:02.349Z"
   },
   {
    "duration": 36,
    "start_time": "2022-04-04T14:30:02.366Z"
   },
   {
    "duration": 491,
    "start_time": "2022-04-04T14:30:02.404Z"
   },
   {
    "duration": 37,
    "start_time": "2022-04-04T14:30:02.898Z"
   },
   {
    "duration": 9,
    "start_time": "2022-04-04T14:30:02.937Z"
   },
   {
    "duration": 24,
    "start_time": "2022-04-04T14:30:02.948Z"
   },
   {
    "duration": 38,
    "start_time": "2022-04-04T14:30:02.992Z"
   },
   {
    "duration": 767,
    "start_time": "2022-04-04T14:30:03.033Z"
   },
   {
    "duration": 161,
    "start_time": "2022-04-04T14:30:03.802Z"
   },
   {
    "duration": 411,
    "start_time": "2022-04-04T14:30:03.965Z"
   },
   {
    "duration": 387,
    "start_time": "2022-04-04T14:30:04.379Z"
   },
   {
    "duration": 381,
    "start_time": "2022-04-04T14:30:04.769Z"
   },
   {
    "duration": 396,
    "start_time": "2022-04-04T14:30:05.153Z"
   },
   {
    "duration": 6,
    "start_time": "2022-04-04T14:30:05.553Z"
   },
   {
    "duration": 27,
    "start_time": "2022-04-04T14:30:05.562Z"
   },
   {
    "duration": 26,
    "start_time": "2022-04-04T14:30:05.593Z"
   },
   {
    "duration": 6,
    "start_time": "2022-04-04T14:30:05.622Z"
   },
   {
    "duration": 429,
    "start_time": "2022-04-04T14:30:05.633Z"
   },
   {
    "duration": 8,
    "start_time": "2022-04-04T14:30:06.064Z"
   },
   {
    "duration": 311,
    "start_time": "2022-04-04T14:30:06.091Z"
   },
   {
    "duration": 13,
    "start_time": "2022-04-04T14:30:06.404Z"
   },
   {
    "duration": 234,
    "start_time": "2022-04-04T14:30:06.419Z"
   },
   {
    "duration": 238,
    "start_time": "2022-04-04T14:30:06.655Z"
   },
   {
    "duration": 7,
    "start_time": "2022-04-04T14:30:06.896Z"
   },
   {
    "duration": 233,
    "start_time": "2022-04-04T14:30:06.905Z"
   },
   {
    "duration": 6,
    "start_time": "2022-04-04T14:30:07.140Z"
   },
   {
    "duration": 250,
    "start_time": "2022-04-04T14:30:07.148Z"
   },
   {
    "duration": 7,
    "start_time": "2022-04-04T14:30:07.401Z"
   },
   {
    "duration": 240,
    "start_time": "2022-04-04T14:30:07.411Z"
   },
   {
    "duration": 7,
    "start_time": "2022-04-04T14:30:07.653Z"
   },
   {
    "duration": 43,
    "start_time": "2022-04-04T14:30:07.662Z"
   },
   {
    "duration": 13,
    "start_time": "2022-04-04T14:30:07.707Z"
   },
   {
    "duration": 21,
    "start_time": "2022-04-04T14:30:07.722Z"
   },
   {
    "duration": 28,
    "start_time": "2022-04-04T14:30:07.745Z"
   },
   {
    "duration": 240,
    "start_time": "2022-04-04T14:30:07.775Z"
   },
   {
    "duration": 7,
    "start_time": "2022-04-04T14:30:08.018Z"
   },
   {
    "duration": 218,
    "start_time": "2022-04-04T14:30:08.027Z"
   },
   {
    "duration": 230,
    "start_time": "2022-04-04T14:30:08.247Z"
   },
   {
    "duration": 227,
    "start_time": "2022-04-04T14:30:08.486Z"
   },
   {
    "duration": 248,
    "start_time": "2022-04-04T14:30:08.715Z"
   },
   {
    "duration": 224,
    "start_time": "2022-04-04T14:30:08.965Z"
   },
   {
    "duration": 219,
    "start_time": "2022-04-04T14:30:36.470Z"
   },
   {
    "duration": 514,
    "start_time": "2022-04-04T14:30:50.417Z"
   },
   {
    "duration": 179,
    "start_time": "2022-04-04T14:30:50.933Z"
   },
   {
    "duration": 22,
    "start_time": "2022-04-04T14:30:51.114Z"
   },
   {
    "duration": 20,
    "start_time": "2022-04-04T14:30:51.138Z"
   },
   {
    "duration": 34,
    "start_time": "2022-04-04T14:30:51.160Z"
   },
   {
    "duration": 44,
    "start_time": "2022-04-04T14:30:51.196Z"
   },
   {
    "duration": 32,
    "start_time": "2022-04-04T14:30:51.243Z"
   },
   {
    "duration": 21,
    "start_time": "2022-04-04T14:30:51.278Z"
   },
   {
    "duration": 26,
    "start_time": "2022-04-04T14:30:51.301Z"
   },
   {
    "duration": 49,
    "start_time": "2022-04-04T14:30:51.331Z"
   },
   {
    "duration": 18,
    "start_time": "2022-04-04T14:30:51.382Z"
   },
   {
    "duration": 27,
    "start_time": "2022-04-04T14:30:51.403Z"
   },
   {
    "duration": 489,
    "start_time": "2022-04-04T14:30:51.432Z"
   },
   {
    "duration": 37,
    "start_time": "2022-04-04T14:30:51.924Z"
   },
   {
    "duration": 25,
    "start_time": "2022-04-04T14:30:51.963Z"
   },
   {
    "duration": 8,
    "start_time": "2022-04-04T14:30:51.991Z"
   },
   {
    "duration": 64,
    "start_time": "2022-04-04T14:30:52.001Z"
   },
   {
    "duration": 724,
    "start_time": "2022-04-04T14:30:52.067Z"
   },
   {
    "duration": 147,
    "start_time": "2022-04-04T14:30:52.793Z"
   },
   {
    "duration": 414,
    "start_time": "2022-04-04T14:30:52.942Z"
   },
   {
    "duration": 397,
    "start_time": "2022-04-04T14:30:53.358Z"
   },
   {
    "duration": 391,
    "start_time": "2022-04-04T14:30:53.758Z"
   },
   {
    "duration": 391,
    "start_time": "2022-04-04T14:30:54.151Z"
   },
   {
    "duration": 6,
    "start_time": "2022-04-04T14:30:54.546Z"
   },
   {
    "duration": 35,
    "start_time": "2022-04-04T14:30:54.555Z"
   },
   {
    "duration": 23,
    "start_time": "2022-04-04T14:30:54.592Z"
   },
   {
    "duration": 7,
    "start_time": "2022-04-04T14:30:54.617Z"
   },
   {
    "duration": 440,
    "start_time": "2022-04-04T14:30:54.632Z"
   },
   {
    "duration": 15,
    "start_time": "2022-04-04T14:30:55.074Z"
   },
   {
    "duration": 310,
    "start_time": "2022-04-04T14:30:55.092Z"
   },
   {
    "duration": 12,
    "start_time": "2022-04-04T14:30:55.404Z"
   },
   {
    "duration": 231,
    "start_time": "2022-04-04T14:30:55.418Z"
   },
   {
    "duration": 227,
    "start_time": "2022-04-04T14:30:55.651Z"
   },
   {
    "duration": 7,
    "start_time": "2022-04-04T14:30:55.884Z"
   },
   {
    "duration": 226,
    "start_time": "2022-04-04T14:30:55.894Z"
   },
   {
    "duration": 6,
    "start_time": "2022-04-04T14:30:56.122Z"
   },
   {
    "duration": 242,
    "start_time": "2022-04-04T14:30:56.131Z"
   },
   {
    "duration": 15,
    "start_time": "2022-04-04T14:30:56.375Z"
   },
   {
    "duration": 222,
    "start_time": "2022-04-04T14:30:56.395Z"
   },
   {
    "duration": 7,
    "start_time": "2022-04-04T14:30:56.620Z"
   },
   {
    "duration": 12,
    "start_time": "2022-04-04T14:30:56.629Z"
   },
   {
    "duration": 10,
    "start_time": "2022-04-04T14:30:56.643Z"
   },
   {
    "duration": 35,
    "start_time": "2022-04-04T14:30:56.656Z"
   },
   {
    "duration": 16,
    "start_time": "2022-04-04T14:30:56.694Z"
   },
   {
    "duration": 241,
    "start_time": "2022-04-04T14:30:56.712Z"
   },
   {
    "duration": 6,
    "start_time": "2022-04-04T14:30:56.956Z"
   },
   {
    "duration": 224,
    "start_time": "2022-04-04T14:30:56.965Z"
   },
   {
    "duration": 230,
    "start_time": "2022-04-04T14:30:57.192Z"
   },
   {
    "duration": 241,
    "start_time": "2022-04-04T14:30:57.424Z"
   },
   {
    "duration": 242,
    "start_time": "2022-04-04T14:30:57.667Z"
   },
   {
    "duration": 226,
    "start_time": "2022-04-04T14:30:57.911Z"
   },
   {
    "duration": 4,
    "start_time": "2022-04-04T14:31:14.030Z"
   },
   {
    "duration": 513,
    "start_time": "2022-04-04T14:31:22.331Z"
   },
   {
    "duration": 175,
    "start_time": "2022-04-04T14:31:22.846Z"
   },
   {
    "duration": 22,
    "start_time": "2022-04-04T14:31:23.023Z"
   },
   {
    "duration": 6,
    "start_time": "2022-04-04T14:31:23.048Z"
   },
   {
    "duration": 38,
    "start_time": "2022-04-04T14:31:23.056Z"
   },
   {
    "duration": 54,
    "start_time": "2022-04-04T14:31:23.097Z"
   },
   {
    "duration": 24,
    "start_time": "2022-04-04T14:31:23.153Z"
   },
   {
    "duration": 21,
    "start_time": "2022-04-04T14:31:23.180Z"
   },
   {
    "duration": 26,
    "start_time": "2022-04-04T14:31:23.203Z"
   },
   {
    "duration": 64,
    "start_time": "2022-04-04T14:31:23.234Z"
   },
   {
    "duration": 6,
    "start_time": "2022-04-04T14:31:23.301Z"
   },
   {
    "duration": 10,
    "start_time": "2022-04-04T14:31:23.309Z"
   },
   {
    "duration": 488,
    "start_time": "2022-04-04T14:31:23.320Z"
   },
   {
    "duration": 37,
    "start_time": "2022-04-04T14:31:23.810Z"
   },
   {
    "duration": 9,
    "start_time": "2022-04-04T14:31:23.849Z"
   },
   {
    "duration": 31,
    "start_time": "2022-04-04T14:31:23.860Z"
   },
   {
    "duration": 48,
    "start_time": "2022-04-04T14:31:23.894Z"
   },
   {
    "duration": 734,
    "start_time": "2022-04-04T14:31:23.944Z"
   },
   {
    "duration": 157,
    "start_time": "2022-04-04T14:31:24.684Z"
   },
   {
    "duration": 541,
    "start_time": "2022-04-04T14:31:24.843Z"
   },
   {
    "duration": 578,
    "start_time": "2022-04-04T14:31:25.387Z"
   },
   {
    "duration": 376,
    "start_time": "2022-04-04T14:31:25.967Z"
   },
   {
    "duration": 394,
    "start_time": "2022-04-04T14:31:26.346Z"
   },
   {
    "duration": 6,
    "start_time": "2022-04-04T14:31:26.742Z"
   },
   {
    "duration": 13,
    "start_time": "2022-04-04T14:31:26.750Z"
   },
   {
    "duration": 37,
    "start_time": "2022-04-04T14:31:26.764Z"
   },
   {
    "duration": 16,
    "start_time": "2022-04-04T14:31:26.804Z"
   },
   {
    "duration": 420,
    "start_time": "2022-04-04T14:31:26.825Z"
   },
   {
    "duration": 8,
    "start_time": "2022-04-04T14:31:27.248Z"
   },
   {
    "duration": 315,
    "start_time": "2022-04-04T14:31:27.258Z"
   },
   {
    "duration": 17,
    "start_time": "2022-04-04T14:31:27.575Z"
   },
   {
    "duration": 230,
    "start_time": "2022-04-04T14:31:27.595Z"
   },
   {
    "duration": 244,
    "start_time": "2022-04-04T14:31:27.827Z"
   },
   {
    "duration": 10,
    "start_time": "2022-04-04T14:31:28.073Z"
   },
   {
    "duration": 221,
    "start_time": "2022-04-04T14:31:28.086Z"
   },
   {
    "duration": 7,
    "start_time": "2022-04-04T14:31:28.308Z"
   },
   {
    "duration": 233,
    "start_time": "2022-04-04T14:31:28.316Z"
   },
   {
    "duration": 6,
    "start_time": "2022-04-04T14:31:28.551Z"
   },
   {
    "duration": 229,
    "start_time": "2022-04-04T14:31:28.559Z"
   },
   {
    "duration": 10,
    "start_time": "2022-04-04T14:31:28.791Z"
   },
   {
    "duration": 18,
    "start_time": "2022-04-04T14:31:28.803Z"
   },
   {
    "duration": 23,
    "start_time": "2022-04-04T14:31:28.823Z"
   },
   {
    "duration": 6,
    "start_time": "2022-04-04T14:31:28.849Z"
   },
   {
    "duration": 19,
    "start_time": "2022-04-04T14:31:28.857Z"
   },
   {
    "duration": 233,
    "start_time": "2022-04-04T14:31:28.883Z"
   },
   {
    "duration": 6,
    "start_time": "2022-04-04T14:31:29.118Z"
   },
   {
    "duration": 211,
    "start_time": "2022-04-04T14:31:29.126Z"
   },
   {
    "duration": 239,
    "start_time": "2022-04-04T14:31:29.339Z"
   },
   {
    "duration": 223,
    "start_time": "2022-04-04T14:31:29.583Z"
   },
   {
    "duration": 237,
    "start_time": "2022-04-04T14:31:29.808Z"
   },
   {
    "duration": 220,
    "start_time": "2022-04-04T14:31:30.047Z"
   },
   {
    "duration": 148,
    "start_time": "2022-04-04T15:13:09.701Z"
   },
   {
    "duration": 137,
    "start_time": "2022-04-04T15:17:01.320Z"
   },
   {
    "duration": 574,
    "start_time": "2022-04-04T15:22:30.955Z"
   },
   {
    "duration": 180,
    "start_time": "2022-04-04T15:22:31.532Z"
   },
   {
    "duration": 29,
    "start_time": "2022-04-04T15:22:31.715Z"
   },
   {
    "duration": 37,
    "start_time": "2022-04-04T15:22:31.748Z"
   },
   {
    "duration": 7,
    "start_time": "2022-04-04T15:22:31.788Z"
   },
   {
    "duration": 35,
    "start_time": "2022-04-04T15:22:31.798Z"
   },
   {
    "duration": 32,
    "start_time": "2022-04-04T15:22:31.835Z"
   },
   {
    "duration": 50,
    "start_time": "2022-04-04T15:22:31.870Z"
   },
   {
    "duration": 36,
    "start_time": "2022-04-04T15:22:31.922Z"
   },
   {
    "duration": 57,
    "start_time": "2022-04-04T15:22:31.962Z"
   },
   {
    "duration": 24,
    "start_time": "2022-04-04T15:22:32.021Z"
   },
   {
    "duration": 29,
    "start_time": "2022-04-04T15:22:32.048Z"
   },
   {
    "duration": 491,
    "start_time": "2022-04-04T15:22:32.080Z"
   },
   {
    "duration": 43,
    "start_time": "2022-04-04T15:22:32.574Z"
   },
   {
    "duration": 7,
    "start_time": "2022-04-04T15:22:32.619Z"
   },
   {
    "duration": 17,
    "start_time": "2022-04-04T15:22:32.629Z"
   },
   {
    "duration": 49,
    "start_time": "2022-04-04T15:22:32.648Z"
   },
   {
    "duration": 946,
    "start_time": "2022-04-04T15:22:32.700Z"
   },
   {
    "duration": 446,
    "start_time": "2022-04-04T15:22:33.649Z"
   },
   {
    "duration": 389,
    "start_time": "2022-04-04T15:22:34.097Z"
   },
   {
    "duration": 370,
    "start_time": "2022-04-04T15:22:34.489Z"
   },
   {
    "duration": 379,
    "start_time": "2022-04-04T15:22:34.861Z"
   },
   {
    "duration": 7,
    "start_time": "2022-04-04T15:22:35.243Z"
   },
   {
    "duration": 11,
    "start_time": "2022-04-04T15:22:35.252Z"
   },
   {
    "duration": 42,
    "start_time": "2022-04-04T15:22:35.265Z"
   },
   {
    "duration": 6,
    "start_time": "2022-04-04T15:22:35.309Z"
   },
   {
    "duration": 446,
    "start_time": "2022-04-04T15:22:35.317Z"
   },
   {
    "duration": 19,
    "start_time": "2022-04-04T15:22:35.770Z"
   },
   {
    "duration": 241,
    "start_time": "2022-04-04T15:22:35.792Z"
   },
   {
    "duration": 13,
    "start_time": "2022-04-04T15:22:36.035Z"
   },
   {
    "duration": 315,
    "start_time": "2022-04-04T15:22:36.050Z"
   },
   {
    "duration": 227,
    "start_time": "2022-04-04T15:22:36.368Z"
   },
   {
    "duration": 7,
    "start_time": "2022-04-04T15:22:36.598Z"
   },
   {
    "duration": 235,
    "start_time": "2022-04-04T15:22:36.607Z"
   },
   {
    "duration": 6,
    "start_time": "2022-04-04T15:22:36.844Z"
   },
   {
    "duration": 232,
    "start_time": "2022-04-04T15:22:36.852Z"
   },
   {
    "duration": 6,
    "start_time": "2022-04-04T15:22:37.086Z"
   },
   {
    "duration": 229,
    "start_time": "2022-04-04T15:22:37.094Z"
   },
   {
    "duration": 7,
    "start_time": "2022-04-04T15:22:37.325Z"
   },
   {
    "duration": 26,
    "start_time": "2022-04-04T15:22:37.335Z"
   },
   {
    "duration": 44,
    "start_time": "2022-04-04T15:22:37.363Z"
   },
   {
    "duration": 33,
    "start_time": "2022-04-04T15:22:37.409Z"
   },
   {
    "duration": 41,
    "start_time": "2022-04-04T15:22:37.445Z"
   },
   {
    "duration": 215,
    "start_time": "2022-04-04T15:22:37.489Z"
   },
   {
    "duration": 7,
    "start_time": "2022-04-04T15:22:37.707Z"
   },
   {
    "duration": 222,
    "start_time": "2022-04-04T15:22:37.717Z"
   },
   {
    "duration": 237,
    "start_time": "2022-04-04T15:22:37.941Z"
   },
   {
    "duration": 233,
    "start_time": "2022-04-04T15:22:38.184Z"
   },
   {
    "duration": 236,
    "start_time": "2022-04-04T15:22:38.419Z"
   },
   {
    "duration": 217,
    "start_time": "2022-04-04T15:22:38.658Z"
   },
   {
    "duration": 68,
    "start_time": "2022-04-05T18:09:12.246Z"
   },
   {
    "duration": 525,
    "start_time": "2022-04-05T18:09:20.431Z"
   },
   {
    "duration": 159,
    "start_time": "2022-04-05T18:09:20.959Z"
   },
   {
    "duration": 36,
    "start_time": "2022-04-05T18:09:21.121Z"
   },
   {
    "duration": 7,
    "start_time": "2022-04-05T18:09:21.161Z"
   },
   {
    "duration": 13,
    "start_time": "2022-04-05T18:09:21.170Z"
   },
   {
    "duration": 23,
    "start_time": "2022-04-05T18:09:21.185Z"
   },
   {
    "duration": 42,
    "start_time": "2022-04-05T18:09:21.211Z"
   },
   {
    "duration": 13,
    "start_time": "2022-04-05T18:09:21.256Z"
   },
   {
    "duration": 14,
    "start_time": "2022-04-05T18:09:21.271Z"
   },
   {
    "duration": 69,
    "start_time": "2022-04-05T18:09:21.290Z"
   },
   {
    "duration": 7,
    "start_time": "2022-04-05T18:09:21.363Z"
   },
   {
    "duration": 11,
    "start_time": "2022-04-05T18:09:21.372Z"
   },
   {
    "duration": 458,
    "start_time": "2022-04-05T18:09:21.385Z"
   },
   {
    "duration": 37,
    "start_time": "2022-04-05T18:09:21.845Z"
   },
   {
    "duration": 7,
    "start_time": "2022-04-05T18:09:21.885Z"
   },
   {
    "duration": 7,
    "start_time": "2022-04-05T18:09:21.894Z"
   },
   {
    "duration": 92,
    "start_time": "2022-04-05T18:09:21.904Z"
   },
   {
    "duration": 1001,
    "start_time": "2022-04-05T18:09:21.999Z"
   },
   {
    "duration": 557,
    "start_time": "2022-04-05T18:09:23.003Z"
   },
   {
    "duration": 383,
    "start_time": "2022-04-05T18:09:23.562Z"
   },
   {
    "duration": 18,
    "start_time": "2022-04-05T18:09:23.947Z"
   },
   {
    "duration": 366,
    "start_time": "2022-04-05T18:09:23.967Z"
   },
   {
    "duration": 365,
    "start_time": "2022-04-05T18:09:24.343Z"
   },
   {
    "duration": 6,
    "start_time": "2022-04-05T18:09:24.710Z"
   },
   {
    "duration": 28,
    "start_time": "2022-04-05T18:09:24.718Z"
   },
   {
    "duration": 18,
    "start_time": "2022-04-05T18:09:24.748Z"
   },
   {
    "duration": 5,
    "start_time": "2022-04-05T18:09:24.769Z"
   },
   {
    "duration": 419,
    "start_time": "2022-04-05T18:09:24.780Z"
   },
   {
    "duration": 7,
    "start_time": "2022-04-05T18:09:25.201Z"
   },
   {
    "duration": 215,
    "start_time": "2022-04-05T18:09:25.210Z"
   },
   {
    "duration": 20,
    "start_time": "2022-04-05T18:09:25.427Z"
   },
   {
    "duration": 280,
    "start_time": "2022-04-05T18:09:25.449Z"
   },
   {
    "duration": 228,
    "start_time": "2022-04-05T18:09:25.731Z"
   },
   {
    "duration": 6,
    "start_time": "2022-04-05T18:09:25.961Z"
   },
   {
    "duration": 340,
    "start_time": "2022-04-05T18:09:25.970Z"
   },
   {
    "duration": 8,
    "start_time": "2022-04-05T18:09:26.313Z"
   },
   {
    "duration": 231,
    "start_time": "2022-04-05T18:09:26.324Z"
   },
   {
    "duration": 6,
    "start_time": "2022-04-05T18:09:26.558Z"
   },
   {
    "duration": 219,
    "start_time": "2022-04-05T18:09:26.566Z"
   },
   {
    "duration": 6,
    "start_time": "2022-04-05T18:09:26.787Z"
   },
   {
    "duration": 16,
    "start_time": "2022-04-05T18:09:26.795Z"
   },
   {
    "duration": 35,
    "start_time": "2022-04-05T18:09:26.813Z"
   },
   {
    "duration": 6,
    "start_time": "2022-04-05T18:09:26.850Z"
   },
   {
    "duration": 21,
    "start_time": "2022-04-05T18:09:26.858Z"
   },
   {
    "duration": 230,
    "start_time": "2022-04-05T18:09:26.881Z"
   },
   {
    "duration": 7,
    "start_time": "2022-04-05T18:09:27.113Z"
   },
   {
    "duration": 210,
    "start_time": "2022-04-05T18:09:27.122Z"
   },
   {
    "duration": 232,
    "start_time": "2022-04-05T18:09:27.334Z"
   },
   {
    "duration": 226,
    "start_time": "2022-04-05T18:09:27.568Z"
   },
   {
    "duration": 227,
    "start_time": "2022-04-05T18:09:27.796Z"
   },
   {
    "duration": 211,
    "start_time": "2022-04-05T18:09:28.025Z"
   },
   {
    "duration": 352,
    "start_time": "2022-04-05T18:14:43.612Z"
   },
   {
    "duration": 457,
    "start_time": "2022-04-05T18:15:10.526Z"
   },
   {
    "duration": 109,
    "start_time": "2022-04-05T18:27:06.386Z"
   },
   {
    "duration": 826,
    "start_time": "2022-04-05T18:29:25.855Z"
   },
   {
    "duration": 4,
    "start_time": "2022-04-05T18:33:51.674Z"
   },
   {
    "duration": 824,
    "start_time": "2022-04-05T18:34:03.424Z"
   },
   {
    "duration": 846,
    "start_time": "2022-04-05T18:34:23.816Z"
   },
   {
    "duration": 13,
    "start_time": "2022-04-05T18:35:31.683Z"
   },
   {
    "duration": 10,
    "start_time": "2022-04-05T18:41:44.069Z"
   },
   {
    "duration": 46,
    "start_time": "2022-04-06T08:24:07.311Z"
   },
   {
    "duration": 749,
    "start_time": "2022-04-06T08:24:13.509Z"
   },
   {
    "duration": 111,
    "start_time": "2022-04-06T08:24:14.260Z"
   },
   {
    "duration": 14,
    "start_time": "2022-04-06T08:24:14.372Z"
   },
   {
    "duration": 5,
    "start_time": "2022-04-06T08:24:14.389Z"
   },
   {
    "duration": 4,
    "start_time": "2022-04-06T08:24:14.396Z"
   },
   {
    "duration": 11,
    "start_time": "2022-04-06T08:24:14.402Z"
   },
   {
    "duration": 14,
    "start_time": "2022-04-06T08:24:14.414Z"
   },
   {
    "duration": 40,
    "start_time": "2022-04-06T08:24:14.430Z"
   },
   {
    "duration": 7,
    "start_time": "2022-04-06T08:24:14.472Z"
   },
   {
    "duration": 24,
    "start_time": "2022-04-06T08:24:14.483Z"
   },
   {
    "duration": 4,
    "start_time": "2022-04-06T08:24:14.508Z"
   },
   {
    "duration": 4,
    "start_time": "2022-04-06T08:24:14.514Z"
   },
   {
    "duration": 253,
    "start_time": "2022-04-06T08:24:14.519Z"
   },
   {
    "duration": 22,
    "start_time": "2022-04-06T08:24:14.773Z"
   },
   {
    "duration": 4,
    "start_time": "2022-04-06T08:24:14.797Z"
   },
   {
    "duration": 5,
    "start_time": "2022-04-06T08:24:14.802Z"
   },
   {
    "duration": 25,
    "start_time": "2022-04-06T08:24:14.809Z"
   },
   {
    "duration": 128,
    "start_time": "2022-04-06T08:24:14.836Z"
   },
   {
    "duration": 272,
    "start_time": "2022-04-06T08:24:14.965Z"
   },
   {
    "duration": 209,
    "start_time": "2022-04-06T08:24:15.239Z"
   },
   {
    "duration": 208,
    "start_time": "2022-04-06T08:24:15.451Z"
   },
   {
    "duration": 196,
    "start_time": "2022-04-06T08:24:15.661Z"
   },
   {
    "duration": 213,
    "start_time": "2022-04-06T08:24:15.863Z"
   },
   {
    "duration": 5,
    "start_time": "2022-04-06T08:24:16.077Z"
   },
   {
    "duration": 7,
    "start_time": "2022-04-06T08:24:16.083Z"
   },
   {
    "duration": 19,
    "start_time": "2022-04-06T08:24:16.091Z"
   },
   {
    "duration": 5,
    "start_time": "2022-04-06T08:24:16.111Z"
   },
   {
    "duration": 237,
    "start_time": "2022-04-06T08:24:16.119Z"
   },
   {
    "duration": 9,
    "start_time": "2022-04-06T08:24:16.357Z"
   },
   {
    "duration": 186,
    "start_time": "2022-04-06T08:24:16.368Z"
   },
   {
    "duration": 12,
    "start_time": "2022-04-06T08:24:16.556Z"
   },
   {
    "duration": 119,
    "start_time": "2022-04-06T08:24:16.570Z"
   },
   {
    "duration": 126,
    "start_time": "2022-04-06T08:24:16.691Z"
   },
   {
    "duration": 4,
    "start_time": "2022-04-06T08:24:16.818Z"
   },
   {
    "duration": 117,
    "start_time": "2022-04-06T08:24:16.824Z"
   },
   {
    "duration": 5,
    "start_time": "2022-04-06T08:24:16.942Z"
   },
   {
    "duration": 135,
    "start_time": "2022-04-06T08:24:16.948Z"
   },
   {
    "duration": 4,
    "start_time": "2022-04-06T08:24:17.085Z"
   },
   {
    "duration": 130,
    "start_time": "2022-04-06T08:24:17.090Z"
   },
   {
    "duration": 5,
    "start_time": "2022-04-06T08:24:17.222Z"
   },
   {
    "duration": 11,
    "start_time": "2022-04-06T08:24:17.228Z"
   },
   {
    "duration": 7,
    "start_time": "2022-04-06T08:24:17.241Z"
   },
   {
    "duration": 4,
    "start_time": "2022-04-06T08:24:17.263Z"
   },
   {
    "duration": 13,
    "start_time": "2022-04-06T08:24:17.268Z"
   },
   {
    "duration": 132,
    "start_time": "2022-04-06T08:24:17.282Z"
   },
   {
    "duration": 5,
    "start_time": "2022-04-06T08:24:17.416Z"
   },
   {
    "duration": 120,
    "start_time": "2022-04-06T08:24:17.422Z"
   },
   {
    "duration": 132,
    "start_time": "2022-04-06T08:24:17.543Z"
   },
   {
    "duration": 119,
    "start_time": "2022-04-06T08:24:17.676Z"
   },
   {
    "duration": 130,
    "start_time": "2022-04-06T08:24:17.797Z"
   },
   {
    "duration": 116,
    "start_time": "2022-04-06T08:24:17.929Z"
   },
   {
    "duration": 150,
    "start_time": "2022-04-06T08:28:14.317Z"
   },
   {
    "duration": 67,
    "start_time": "2022-04-06T08:33:16.215Z"
   },
   {
    "duration": 88,
    "start_time": "2022-04-06T08:33:58.624Z"
   },
   {
    "duration": 97,
    "start_time": "2022-04-06T08:37:08.154Z"
   },
   {
    "duration": 104,
    "start_time": "2022-04-06T08:37:23.278Z"
   },
   {
    "duration": 185,
    "start_time": "2022-04-06T08:37:30.896Z"
   },
   {
    "duration": 93,
    "start_time": "2022-04-06T08:40:01.522Z"
   },
   {
    "duration": 13,
    "start_time": "2022-04-06T08:41:23.270Z"
   },
   {
    "duration": 89,
    "start_time": "2022-04-06T08:41:34.501Z"
   },
   {
    "duration": 98,
    "start_time": "2022-04-06T08:44:03.605Z"
   },
   {
    "duration": 95,
    "start_time": "2022-04-06T08:46:46.020Z"
   },
   {
    "duration": 89,
    "start_time": "2022-04-06T08:46:55.650Z"
   },
   {
    "duration": 100,
    "start_time": "2022-04-06T08:47:09.490Z"
   },
   {
    "duration": 89,
    "start_time": "2022-04-06T08:48:31.131Z"
   },
   {
    "duration": 104,
    "start_time": "2022-04-06T08:48:53.633Z"
   },
   {
    "duration": 102,
    "start_time": "2022-04-06T08:48:59.039Z"
   },
   {
    "duration": 95,
    "start_time": "2022-04-06T08:50:01.177Z"
   },
   {
    "duration": 10,
    "start_time": "2022-04-06T08:50:47.657Z"
   },
   {
    "duration": 96,
    "start_time": "2022-04-06T08:50:58.138Z"
   },
   {
    "duration": 10,
    "start_time": "2022-04-06T08:51:21.418Z"
   },
   {
    "duration": 100,
    "start_time": "2022-04-06T08:51:22.176Z"
   },
   {
    "duration": 9,
    "start_time": "2022-04-06T08:55:44.398Z"
   },
   {
    "duration": 104,
    "start_time": "2022-04-06T08:55:45.175Z"
   },
   {
    "duration": 95,
    "start_time": "2022-04-06T08:56:42.985Z"
   },
   {
    "duration": 90,
    "start_time": "2022-04-06T08:57:21.810Z"
   },
   {
    "duration": 9,
    "start_time": "2022-04-06T08:58:00.142Z"
   },
   {
    "duration": 680,
    "start_time": "2022-04-06T08:58:42.650Z"
   },
   {
    "duration": 111,
    "start_time": "2022-04-06T08:58:43.332Z"
   },
   {
    "duration": 23,
    "start_time": "2022-04-06T08:58:43.444Z"
   },
   {
    "duration": 5,
    "start_time": "2022-04-06T08:58:43.469Z"
   },
   {
    "duration": 5,
    "start_time": "2022-04-06T08:58:43.475Z"
   },
   {
    "duration": 12,
    "start_time": "2022-04-06T08:58:43.481Z"
   },
   {
    "duration": 13,
    "start_time": "2022-04-06T08:58:43.494Z"
   },
   {
    "duration": 9,
    "start_time": "2022-04-06T08:58:43.508Z"
   },
   {
    "duration": 6,
    "start_time": "2022-04-06T08:58:43.519Z"
   },
   {
    "duration": 48,
    "start_time": "2022-04-06T08:58:43.527Z"
   },
   {
    "duration": 4,
    "start_time": "2022-04-06T08:58:43.577Z"
   },
   {
    "duration": 6,
    "start_time": "2022-04-06T08:58:43.582Z"
   },
   {
    "duration": 237,
    "start_time": "2022-04-06T08:58:43.589Z"
   },
   {
    "duration": 21,
    "start_time": "2022-04-06T08:58:43.828Z"
   },
   {
    "duration": 14,
    "start_time": "2022-04-06T08:58:43.851Z"
   },
   {
    "duration": 6,
    "start_time": "2022-04-06T08:58:43.867Z"
   },
   {
    "duration": 22,
    "start_time": "2022-04-06T08:58:43.875Z"
   },
   {
    "duration": 121,
    "start_time": "2022-04-06T08:58:43.898Z"
   },
   {
    "duration": 10,
    "start_time": "2022-04-06T08:58:44.020Z"
   },
   {
    "duration": 113,
    "start_time": "2022-04-06T08:58:44.031Z"
   },
   {
    "duration": 18,
    "start_time": "2022-04-06T08:58:44.145Z"
   },
   {
    "duration": 152,
    "start_time": "2022-04-06T08:58:44.164Z"
   },
   {
    "duration": 8,
    "start_time": "2022-04-06T08:58:44.318Z"
   },
   {
    "duration": 217,
    "start_time": "2022-04-06T08:58:44.328Z"
   },
   {
    "duration": 208,
    "start_time": "2022-04-06T08:58:44.547Z"
   },
   {
    "duration": 204,
    "start_time": "2022-04-06T08:58:44.756Z"
   },
   {
    "duration": 203,
    "start_time": "2022-04-06T08:58:44.962Z"
   },
   {
    "duration": 210,
    "start_time": "2022-04-06T08:58:45.169Z"
   },
   {
    "duration": 4,
    "start_time": "2022-04-06T08:58:45.380Z"
   },
   {
    "duration": 27,
    "start_time": "2022-04-06T08:58:45.386Z"
   },
   {
    "duration": 17,
    "start_time": "2022-04-06T08:58:45.415Z"
   },
   {
    "duration": 5,
    "start_time": "2022-04-06T08:58:45.433Z"
   },
   {
    "duration": 288,
    "start_time": "2022-04-06T08:58:45.440Z"
   },
   {
    "duration": 6,
    "start_time": "2022-04-06T08:58:45.730Z"
   },
   {
    "duration": 124,
    "start_time": "2022-04-06T08:58:45.738Z"
   },
   {
    "duration": 8,
    "start_time": "2022-04-06T08:58:45.864Z"
   },
   {
    "duration": 129,
    "start_time": "2022-04-06T08:58:45.874Z"
   },
   {
    "duration": 133,
    "start_time": "2022-04-06T08:58:46.004Z"
   },
   {
    "duration": 4,
    "start_time": "2022-04-06T08:58:46.139Z"
   },
   {
    "duration": 127,
    "start_time": "2022-04-06T08:58:46.144Z"
   },
   {
    "duration": 4,
    "start_time": "2022-04-06T08:58:46.273Z"
   },
   {
    "duration": 131,
    "start_time": "2022-04-06T08:58:46.279Z"
   },
   {
    "duration": 6,
    "start_time": "2022-04-06T08:58:46.412Z"
   },
   {
    "duration": 132,
    "start_time": "2022-04-06T08:58:46.420Z"
   },
   {
    "duration": 10,
    "start_time": "2022-04-06T08:58:46.554Z"
   },
   {
    "duration": 9,
    "start_time": "2022-04-06T08:58:46.565Z"
   },
   {
    "duration": 8,
    "start_time": "2022-04-06T08:58:46.576Z"
   },
   {
    "duration": 4,
    "start_time": "2022-04-06T08:58:46.585Z"
   },
   {
    "duration": 10,
    "start_time": "2022-04-06T08:58:46.591Z"
   },
   {
    "duration": 139,
    "start_time": "2022-04-06T08:58:46.603Z"
   },
   {
    "duration": 5,
    "start_time": "2022-04-06T08:58:46.743Z"
   },
   {
    "duration": 121,
    "start_time": "2022-04-06T08:58:46.749Z"
   },
   {
    "duration": 135,
    "start_time": "2022-04-06T08:58:46.871Z"
   },
   {
    "duration": 130,
    "start_time": "2022-04-06T08:58:47.008Z"
   },
   {
    "duration": 213,
    "start_time": "2022-04-06T08:58:47.140Z"
   },
   {
    "duration": 139,
    "start_time": "2022-04-06T08:58:47.362Z"
   },
   {
    "duration": 114,
    "start_time": "2022-04-06T09:00:15.839Z"
   },
   {
    "duration": 128,
    "start_time": "2022-04-06T09:05:10.141Z"
   },
   {
    "duration": 125,
    "start_time": "2022-04-06T09:05:26.604Z"
   },
   {
    "duration": 140,
    "start_time": "2022-04-06T09:10:11.033Z"
   },
   {
    "duration": 8,
    "start_time": "2022-04-06T09:14:09.967Z"
   },
   {
    "duration": 134,
    "start_time": "2022-04-06T09:14:11.088Z"
   },
   {
    "duration": 664,
    "start_time": "2022-04-06T09:14:26.266Z"
   },
   {
    "duration": 118,
    "start_time": "2022-04-06T09:14:26.932Z"
   },
   {
    "duration": 15,
    "start_time": "2022-04-06T09:14:27.051Z"
   },
   {
    "duration": 5,
    "start_time": "2022-04-06T09:14:27.067Z"
   },
   {
    "duration": 8,
    "start_time": "2022-04-06T09:14:27.074Z"
   },
   {
    "duration": 14,
    "start_time": "2022-04-06T09:14:27.083Z"
   },
   {
    "duration": 13,
    "start_time": "2022-04-06T09:14:27.098Z"
   },
   {
    "duration": 9,
    "start_time": "2022-04-06T09:14:27.112Z"
   },
   {
    "duration": 6,
    "start_time": "2022-04-06T09:14:27.123Z"
   },
   {
    "duration": 49,
    "start_time": "2022-04-06T09:14:27.132Z"
   },
   {
    "duration": 4,
    "start_time": "2022-04-06T09:14:27.183Z"
   },
   {
    "duration": 7,
    "start_time": "2022-04-06T09:14:27.189Z"
   },
   {
    "duration": 250,
    "start_time": "2022-04-06T09:14:27.197Z"
   },
   {
    "duration": 27,
    "start_time": "2022-04-06T09:14:27.449Z"
   },
   {
    "duration": 5,
    "start_time": "2022-04-06T09:14:27.477Z"
   },
   {
    "duration": 7,
    "start_time": "2022-04-06T09:14:27.483Z"
   },
   {
    "duration": 29,
    "start_time": "2022-04-06T09:14:27.492Z"
   },
   {
    "duration": 124,
    "start_time": "2022-04-06T09:14:27.523Z"
   },
   {
    "duration": 18,
    "start_time": "2022-04-06T09:14:27.649Z"
   },
   {
    "duration": 115,
    "start_time": "2022-04-06T09:14:27.669Z"
   },
   {
    "duration": 9,
    "start_time": "2022-04-06T09:14:27.786Z"
   },
   {
    "duration": 157,
    "start_time": "2022-04-06T09:14:27.796Z"
   },
   {
    "duration": 15,
    "start_time": "2022-04-06T09:14:27.954Z"
   },
   {
    "duration": 221,
    "start_time": "2022-04-06T09:14:27.971Z"
   },
   {
    "duration": 239,
    "start_time": "2022-04-06T09:14:28.194Z"
   },
   {
    "duration": 210,
    "start_time": "2022-04-06T09:14:28.434Z"
   },
   {
    "duration": 203,
    "start_time": "2022-04-06T09:14:28.645Z"
   },
   {
    "duration": 218,
    "start_time": "2022-04-06T09:14:28.853Z"
   },
   {
    "duration": 4,
    "start_time": "2022-04-06T09:14:29.072Z"
   },
   {
    "duration": 10,
    "start_time": "2022-04-06T09:14:29.078Z"
   },
   {
    "duration": 9,
    "start_time": "2022-04-06T09:14:29.089Z"
   },
   {
    "duration": 4,
    "start_time": "2022-04-06T09:14:29.099Z"
   },
   {
    "duration": 308,
    "start_time": "2022-04-06T09:14:29.104Z"
   },
   {
    "duration": 5,
    "start_time": "2022-04-06T09:14:29.414Z"
   },
   {
    "duration": 128,
    "start_time": "2022-04-06T09:14:29.421Z"
   },
   {
    "duration": 15,
    "start_time": "2022-04-06T09:14:29.550Z"
   },
   {
    "duration": 149,
    "start_time": "2022-04-06T09:14:29.567Z"
   },
   {
    "duration": 128,
    "start_time": "2022-04-06T09:14:29.718Z"
   },
   {
    "duration": 17,
    "start_time": "2022-04-06T09:14:29.848Z"
   },
   {
    "duration": 115,
    "start_time": "2022-04-06T09:14:29.866Z"
   },
   {
    "duration": 4,
    "start_time": "2022-04-06T09:14:29.983Z"
   },
   {
    "duration": 150,
    "start_time": "2022-04-06T09:14:29.989Z"
   },
   {
    "duration": 5,
    "start_time": "2022-04-06T09:14:30.141Z"
   },
   {
    "duration": 126,
    "start_time": "2022-04-06T09:14:30.148Z"
   },
   {
    "duration": 5,
    "start_time": "2022-04-06T09:14:30.276Z"
   },
   {
    "duration": 25,
    "start_time": "2022-04-06T09:14:30.282Z"
   },
   {
    "duration": 21,
    "start_time": "2022-04-06T09:14:30.308Z"
   },
   {
    "duration": 7,
    "start_time": "2022-04-06T09:14:30.330Z"
   },
   {
    "duration": 13,
    "start_time": "2022-04-06T09:14:30.338Z"
   },
   {
    "duration": 127,
    "start_time": "2022-04-06T09:14:30.353Z"
   },
   {
    "duration": 5,
    "start_time": "2022-04-06T09:14:30.481Z"
   },
   {
    "duration": 141,
    "start_time": "2022-04-06T09:14:30.488Z"
   },
   {
    "duration": 122,
    "start_time": "2022-04-06T09:14:30.630Z"
   },
   {
    "duration": 136,
    "start_time": "2022-04-06T09:14:30.753Z"
   },
   {
    "duration": 227,
    "start_time": "2022-04-06T09:14:30.891Z"
   },
   {
    "duration": 136,
    "start_time": "2022-04-06T09:14:31.119Z"
   },
   {
    "duration": 112,
    "start_time": "2022-04-11T16:41:03.293Z"
   },
   {
    "duration": 68,
    "start_time": "2022-04-11T16:41:11.328Z"
   },
   {
    "duration": 1114,
    "start_time": "2022-04-11T16:41:16.978Z"
   },
   {
    "duration": 163,
    "start_time": "2022-04-11T16:41:18.096Z"
   },
   {
    "duration": 28,
    "start_time": "2022-04-11T16:41:18.262Z"
   },
   {
    "duration": 6,
    "start_time": "2022-04-11T16:41:21.047Z"
   },
   {
    "duration": 5,
    "start_time": "2022-04-11T16:41:22.814Z"
   },
   {
    "duration": 8,
    "start_time": "2022-04-11T16:41:23.832Z"
   },
   {
    "duration": 9,
    "start_time": "2022-04-11T16:41:32.480Z"
   },
   {
    "duration": 17,
    "start_time": "2022-04-11T16:41:45.254Z"
   },
   {
    "duration": 106,
    "start_time": "2022-04-11T16:42:03.632Z"
   },
   {
    "duration": 6,
    "start_time": "2022-04-11T16:42:15.395Z"
   },
   {
    "duration": 6,
    "start_time": "2022-04-11T16:42:48.792Z"
   },
   {
    "duration": 9,
    "start_time": "2022-04-11T16:43:08.877Z"
   },
   {
    "duration": 7,
    "start_time": "2022-04-11T16:43:27.211Z"
   },
   {
    "duration": 6,
    "start_time": "2022-04-11T16:43:50.154Z"
   },
   {
    "duration": 6,
    "start_time": "2022-04-11T16:45:36.715Z"
   },
   {
    "duration": 6,
    "start_time": "2022-04-11T16:46:18.536Z"
   },
   {
    "duration": 7,
    "start_time": "2022-04-11T16:46:53.301Z"
   },
   {
    "duration": 7,
    "start_time": "2022-04-11T16:47:23.691Z"
   },
   {
    "duration": 8,
    "start_time": "2022-04-11T16:47:51.813Z"
   },
   {
    "duration": 8,
    "start_time": "2022-04-11T16:48:03.603Z"
   },
   {
    "duration": 7,
    "start_time": "2022-04-11T16:48:10.307Z"
   },
   {
    "duration": 7,
    "start_time": "2022-04-11T16:48:21.936Z"
   },
   {
    "duration": 8,
    "start_time": "2022-04-11T16:48:29.113Z"
   },
   {
    "duration": 7,
    "start_time": "2022-04-11T16:48:32.957Z"
   },
   {
    "duration": 8,
    "start_time": "2022-04-11T16:48:37.942Z"
   },
   {
    "duration": 6,
    "start_time": "2022-04-11T16:48:58.105Z"
   },
   {
    "duration": 7,
    "start_time": "2022-04-11T16:49:33.034Z"
   },
   {
    "duration": 8,
    "start_time": "2022-04-11T16:51:30.631Z"
   },
   {
    "duration": 10,
    "start_time": "2022-04-11T16:51:39.132Z"
   },
   {
    "duration": 9,
    "start_time": "2022-04-11T16:51:45.789Z"
   },
   {
    "duration": 8,
    "start_time": "2022-04-11T16:53:14.332Z"
   },
   {
    "duration": 9,
    "start_time": "2022-04-11T16:53:14.853Z"
   },
   {
    "duration": 11,
    "start_time": "2022-04-11T16:53:15.269Z"
   },
   {
    "duration": 9,
    "start_time": "2022-04-11T16:53:15.788Z"
   },
   {
    "duration": 7,
    "start_time": "2022-04-11T16:53:16.307Z"
   },
   {
    "duration": 16,
    "start_time": "2022-04-11T16:54:01.731Z"
   },
   {
    "duration": 12,
    "start_time": "2022-04-11T16:55:11.639Z"
   },
   {
    "duration": 15,
    "start_time": "2022-04-11T16:55:16.963Z"
   },
   {
    "duration": 74,
    "start_time": "2022-04-11T17:06:00.267Z"
   },
   {
    "duration": 788,
    "start_time": "2022-04-11T17:06:37.822Z"
   },
   {
    "duration": 181,
    "start_time": "2022-04-11T17:06:38.613Z"
   },
   {
    "duration": 27,
    "start_time": "2022-04-11T17:06:38.798Z"
   },
   {
    "duration": 5,
    "start_time": "2022-04-11T17:06:38.828Z"
   },
   {
    "duration": 7,
    "start_time": "2022-04-11T17:06:38.881Z"
   },
   {
    "duration": 16,
    "start_time": "2022-04-11T17:06:39.133Z"
   },
   {
    "duration": 16,
    "start_time": "2022-04-11T17:06:39.216Z"
   },
   {
    "duration": 23,
    "start_time": "2022-04-11T17:06:39.467Z"
   },
   {
    "duration": 65,
    "start_time": "2022-04-11T17:06:39.592Z"
   },
   {
    "duration": 11,
    "start_time": "2022-04-11T17:06:39.735Z"
   },
   {
    "duration": 42,
    "start_time": "2022-04-11T17:06:39.834Z"
   },
   {
    "duration": 7,
    "start_time": "2022-04-11T17:06:40.243Z"
   },
   {
    "duration": 5,
    "start_time": "2022-04-11T17:06:40.332Z"
   },
   {
    "duration": 539,
    "start_time": "2022-04-11T17:06:40.394Z"
   },
   {
    "duration": 51,
    "start_time": "2022-04-11T17:06:40.935Z"
   },
   {
    "duration": 8,
    "start_time": "2022-04-11T17:06:40.989Z"
   },
   {
    "duration": 11,
    "start_time": "2022-04-11T17:06:41.001Z"
   },
   {
    "duration": 61,
    "start_time": "2022-04-11T17:06:41.015Z"
   },
   {
    "duration": 210,
    "start_time": "2022-04-11T17:06:41.080Z"
   },
   {
    "duration": 19,
    "start_time": "2022-04-11T17:06:41.294Z"
   },
   {
    "duration": 220,
    "start_time": "2022-04-11T17:06:41.315Z"
   },
   {
    "duration": 14,
    "start_time": "2022-04-11T17:06:41.538Z"
   },
   {
    "duration": 190,
    "start_time": "2022-04-11T17:06:41.568Z"
   },
   {
    "duration": 13,
    "start_time": "2022-04-11T17:06:41.769Z"
   },
   {
    "duration": 416,
    "start_time": "2022-04-11T17:06:41.784Z"
   },
   {
    "duration": 468,
    "start_time": "2022-04-11T17:06:42.203Z"
   },
   {
    "duration": 420,
    "start_time": "2022-04-11T17:06:42.674Z"
   },
   {
    "duration": 281,
    "start_time": "2022-04-11T17:06:43.099Z"
   },
   {
    "duration": 483,
    "start_time": "2022-04-11T17:06:43.383Z"
   },
   {
    "duration": 8,
    "start_time": "2022-04-11T17:06:43.869Z"
   },
   {
    "duration": 13,
    "start_time": "2022-04-11T17:06:43.880Z"
   },
   {
    "duration": 24,
    "start_time": "2022-04-11T17:06:43.895Z"
   },
   {
    "duration": 6,
    "start_time": "2022-04-11T17:06:43.924Z"
   },
   {
    "duration": 390,
    "start_time": "2022-04-11T17:06:43.967Z"
   },
   {
    "duration": 13,
    "start_time": "2022-04-11T17:06:44.359Z"
   },
   {
    "duration": 285,
    "start_time": "2022-04-11T17:06:44.374Z"
   },
   {
    "duration": 22,
    "start_time": "2022-04-11T17:06:44.661Z"
   },
   {
    "duration": 331,
    "start_time": "2022-04-11T17:06:44.686Z"
   },
   {
    "duration": 235,
    "start_time": "2022-04-11T17:06:45.019Z"
   },
   {
    "duration": 13,
    "start_time": "2022-04-11T17:06:45.257Z"
   },
   {
    "duration": 300,
    "start_time": "2022-04-11T17:06:45.273Z"
   },
   {
    "duration": 6,
    "start_time": "2022-04-11T17:06:45.575Z"
   },
   {
    "duration": 241,
    "start_time": "2022-04-11T17:06:45.583Z"
   },
   {
    "duration": 6,
    "start_time": "2022-04-11T17:06:45.826Z"
   },
   {
    "duration": 226,
    "start_time": "2022-04-11T17:06:45.834Z"
   },
   {
    "duration": 12,
    "start_time": "2022-04-11T17:06:46.067Z"
   },
   {
    "duration": 9,
    "start_time": "2022-04-11T17:06:46.084Z"
   },
   {
    "duration": 20,
    "start_time": "2022-04-11T17:06:46.095Z"
   },
   {
    "duration": 13,
    "start_time": "2022-04-11T17:06:46.117Z"
   },
   {
    "duration": 38,
    "start_time": "2022-04-11T17:06:46.132Z"
   },
   {
    "duration": 3967,
    "start_time": "2022-04-11T17:07:09.055Z"
   },
   {
    "duration": 26,
    "start_time": "2022-04-11T17:11:09.220Z"
   },
   {
    "duration": 46,
    "start_time": "2022-04-11T17:11:42.542Z"
   },
   {
    "duration": 9,
    "start_time": "2022-04-11T17:12:16.901Z"
   },
   {
    "duration": 120,
    "start_time": "2022-04-11T17:12:34.463Z"
   },
   {
    "duration": 42,
    "start_time": "2022-04-11T17:12:36.637Z"
   },
   {
    "duration": 38,
    "start_time": "2022-04-11T17:12:43.008Z"
   },
   {
    "duration": 11,
    "start_time": "2022-04-11T17:15:24.230Z"
   },
   {
    "duration": 12,
    "start_time": "2022-04-11T17:16:10.640Z"
   },
   {
    "duration": 123,
    "start_time": "2022-04-11T17:17:14.138Z"
   },
   {
    "duration": 412,
    "start_time": "2022-04-11T17:17:15.265Z"
   },
   {
    "duration": 608,
    "start_time": "2022-04-11T17:17:20.069Z"
   },
   {
    "duration": 396,
    "start_time": "2022-04-11T17:17:22.729Z"
   },
   {
    "duration": 201,
    "start_time": "2022-04-11T17:17:24.788Z"
   },
   {
    "duration": 403,
    "start_time": "2022-04-11T17:17:28.951Z"
   },
   {
    "duration": 1696,
    "start_time": "2022-04-11T17:25:46.229Z"
   },
   {
    "duration": 192,
    "start_time": "2022-04-11T17:25:47.928Z"
   },
   {
    "duration": 23,
    "start_time": "2022-04-11T17:25:48.122Z"
   },
   {
    "duration": 26,
    "start_time": "2022-04-11T17:25:48.148Z"
   },
   {
    "duration": 6,
    "start_time": "2022-04-11T17:25:48.177Z"
   },
   {
    "duration": 14,
    "start_time": "2022-04-11T17:25:48.810Z"
   },
   {
    "duration": 23,
    "start_time": "2022-04-11T17:25:49.000Z"
   },
   {
    "duration": 28,
    "start_time": "2022-04-11T17:25:50.397Z"
   },
   {
    "duration": 220,
    "start_time": "2022-04-11T17:25:50.428Z"
   },
   {
    "duration": 19,
    "start_time": "2022-04-11T17:25:50.893Z"
   },
   {
    "duration": 43,
    "start_time": "2022-04-11T17:25:51.109Z"
   },
   {
    "duration": 9,
    "start_time": "2022-04-11T17:25:54.766Z"
   },
   {
    "duration": 4,
    "start_time": "2022-04-11T17:25:55.117Z"
   },
   {
    "duration": 624,
    "start_time": "2022-04-11T17:25:55.446Z"
   },
   {
    "duration": 50,
    "start_time": "2022-04-11T17:25:56.073Z"
   },
   {
    "duration": 6,
    "start_time": "2022-04-11T17:25:56.132Z"
   },
   {
    "duration": 7,
    "start_time": "2022-04-11T17:25:56.470Z"
   },
   {
    "duration": 41,
    "start_time": "2022-04-11T17:25:56.806Z"
   },
   {
    "duration": 20,
    "start_time": "2022-04-11T17:25:57.486Z"
   },
   {
    "duration": 215,
    "start_time": "2022-04-11T17:25:58.901Z"
   },
   {
    "duration": 19,
    "start_time": "2022-04-11T17:25:59.220Z"
   },
   {
    "duration": 200,
    "start_time": "2022-04-11T17:25:59.525Z"
   },
   {
    "duration": 14,
    "start_time": "2022-04-11T17:25:59.893Z"
   },
   {
    "duration": 186,
    "start_time": "2022-04-11T17:26:00.165Z"
   },
   {
    "duration": 14,
    "start_time": "2022-04-11T17:26:00.862Z"
   },
   {
    "duration": 376,
    "start_time": "2022-04-11T17:26:01.183Z"
   },
   {
    "duration": 431,
    "start_time": "2022-04-11T17:26:01.901Z"
   },
   {
    "duration": 502,
    "start_time": "2022-04-11T17:26:02.991Z"
   },
   {
    "duration": 206,
    "start_time": "2022-04-11T17:26:03.734Z"
   },
   {
    "duration": 360,
    "start_time": "2022-04-11T17:26:04.442Z"
   },
   {
    "duration": 7,
    "start_time": "2022-04-11T17:26:05.184Z"
   },
   {
    "duration": 8,
    "start_time": "2022-04-11T17:26:05.509Z"
   },
   {
    "duration": 15,
    "start_time": "2022-04-11T17:26:06.222Z"
   },
   {
    "duration": 7,
    "start_time": "2022-04-11T17:26:06.599Z"
   },
   {
    "duration": 400,
    "start_time": "2022-04-11T17:26:07.311Z"
   },
   {
    "duration": 7,
    "start_time": "2022-04-11T17:26:08.431Z"
   },
   {
    "duration": 254,
    "start_time": "2022-04-11T17:26:09.182Z"
   },
   {
    "duration": 12,
    "start_time": "2022-04-11T17:26:09.911Z"
   },
   {
    "duration": 231,
    "start_time": "2022-04-11T17:26:10.256Z"
   },
   {
    "duration": 182,
    "start_time": "2022-04-11T17:26:10.919Z"
   },
   {
    "duration": 6,
    "start_time": "2022-04-11T17:26:11.686Z"
   },
   {
    "duration": 285,
    "start_time": "2022-04-11T17:26:12.383Z"
   },
   {
    "duration": 5,
    "start_time": "2022-04-11T17:26:13.055Z"
   },
   {
    "duration": 216,
    "start_time": "2022-04-11T17:26:13.405Z"
   },
   {
    "duration": 6,
    "start_time": "2022-04-11T17:26:14.094Z"
   },
   {
    "duration": 195,
    "start_time": "2022-04-11T17:26:14.824Z"
   },
   {
    "duration": 43,
    "start_time": "2022-04-11T17:26:17.154Z"
   },
   {
    "duration": 7,
    "start_time": "2022-04-11T17:26:18.527Z"
   },
   {
    "duration": 8,
    "start_time": "2022-04-11T17:26:18.935Z"
   },
   {
    "duration": 206,
    "start_time": "2022-04-11T17:26:19.415Z"
   },
   {
    "duration": 6,
    "start_time": "2022-04-11T17:26:21.278Z"
   },
   {
    "duration": 214,
    "start_time": "2022-04-11T17:26:21.678Z"
   },
   {
    "duration": 217,
    "start_time": "2022-04-11T17:26:25.973Z"
   },
   {
    "duration": 199,
    "start_time": "2022-04-11T17:26:28.283Z"
   },
   {
    "duration": 189,
    "start_time": "2022-04-11T17:26:29.835Z"
   },
   {
    "duration": 205,
    "start_time": "2022-04-11T17:26:31.124Z"
   },
   {
    "duration": 1925,
    "start_time": "2022-04-12T05:40:27.298Z"
   },
   {
    "duration": 183,
    "start_time": "2022-04-12T05:40:29.226Z"
   },
   {
    "duration": 22,
    "start_time": "2022-04-12T05:40:29.532Z"
   },
   {
    "duration": 7,
    "start_time": "2022-04-12T05:40:34.270Z"
   },
   {
    "duration": 5,
    "start_time": "2022-04-12T05:40:34.859Z"
   },
   {
    "duration": 12,
    "start_time": "2022-04-12T05:40:37.500Z"
   },
   {
    "duration": 20,
    "start_time": "2022-04-12T05:40:38.936Z"
   },
   {
    "duration": 135,
    "start_time": "2022-04-12T05:40:52.976Z"
   },
   {
    "duration": 28,
    "start_time": "2022-04-12T05:40:59.888Z"
   },
   {
    "duration": 222,
    "start_time": "2022-04-12T05:41:01.236Z"
   },
   {
    "duration": 114,
    "start_time": "2022-04-12T05:42:12.534Z"
   },
   {
    "duration": 31,
    "start_time": "2022-04-12T05:45:15.498Z"
   },
   {
    "duration": 47,
    "start_time": "2022-04-12T05:49:09.257Z"
   }
  ],
  "kernelspec": {
   "display_name": "Python 3 (ipykernel)",
   "language": "python",
   "name": "python3"
  },
  "language_info": {
   "codemirror_mode": {
    "name": "ipython",
    "version": 3
   },
   "file_extension": ".py",
   "mimetype": "text/x-python",
   "name": "python",
   "nbconvert_exporter": "python",
   "pygments_lexer": "ipython3",
   "version": "3.9.7"
  },
  "toc": {
   "base_numbering": 1,
   "nav_menu": {},
   "number_sections": true,
   "sideBar": true,
   "skip_h1_title": true,
   "title_cell": "Содержание",
   "title_sidebar": "Contents",
   "toc_cell": true,
   "toc_position": {
    "height": "calc(100% - 180px)",
    "left": "10px",
    "top": "150px",
    "width": "165px"
   },
   "toc_section_display": true,
   "toc_window_display": true
  }
 },
 "nbformat": 4,
 "nbformat_minor": 4
}
