{
 "cells": [
  {
   "cell_type": "markdown",
   "metadata": {
    "id": "E0vqbgi9ay0H"
   },
   "source": [
    "# Яндекс.Музыка"
   ]
  },
  {
   "cell_type": "markdown",
   "metadata": {},
   "source": [
    "<b>Красный текст</b> "
   ]
  },
  {
   "cell_type": "markdown",
   "metadata": {
    "id": "VUC88oWjTJw2"
   },
   "source": [
    "Сравнение Москвы и Петербурга окружено мифами. Например:\n",
    " * Москва — мегаполис, подчинённый жёсткому ритму рабочей недели;\n",
    " * Петербург — культурная столица, со своими вкусами.\n",
    "\n",
    "На данных Яндекс.Музыки вы сравните поведение пользователей двух столиц.\n",
    "\n",
    "**Цель исследования** — проверьте три гипотезы:\n",
    "1. Активность пользователей зависит от дня недели. Причём в Москве и Петербурге это проявляется по-разному.\n",
    "2. В понедельник утром в Москве преобладают одни жанры, а в Петербурге — другие. Так же и вечером пятницы преобладают разные жанры — в зависимости от города. \n",
    "3. Москва и Петербург предпочитают разные жанры музыки. В Москве чаще слушают поп-музыку, в Петербурге — русский рэп.\n",
    "\n",
    "**Ход исследования**\n",
    "\n",
    "Данные о поведении пользователей вы получите из файла `yandex_music_project.csv`. О качестве данных ничего не известно. Поэтому перед проверкой гипотез понадобится обзор данных. \n",
    "\n",
    "Вы проверите данные на ошибки и оцените их влияние на исследование. Затем, на этапе предобработки вы поищете возможность исправить самые критичные ошибки данных.\n",
    " \n",
    "Таким образом, исследование пройдёт в три этапа:\n",
    " 1. Обзор данных.\n",
    " 2. Предобработка данных.\n",
    " 3. Проверка гипотез.\n",
    "\n"
   ]
  },
  {
   "cell_type": "markdown",
   "metadata": {
    "id": "Ml1hmfXC_Zcs"
   },
   "source": [
    "## Обзор данных\n",
    "\n",
    "Составьте первое представление о данных Яндекс.Музыки.\n",
    "\n",
    "\n"
   ]
  },
  {
   "cell_type": "markdown",
   "metadata": {
    "id": "57eAOGIz_Zcs"
   },
   "source": [
    "Основной инструмент аналитика — `pandas`. Импортируйте эту библиотеку."
   ]
  },
  {
   "cell_type": "code",
   "execution_count": 14,
   "metadata": {
    "id": "AXN7PHPN_Zcs"
   },
   "outputs": [],
   "source": [
    "import pandas as pd # импорт библиотеки pandas"
   ]
  },
  {
   "cell_type": "markdown",
   "metadata": {
    "id": "SG23P8tt_Zcs"
   },
   "source": [
    "Прочитайте файл `yandex_music_project.csv` из папки `/datasets` и сохраните его в переменной `df`:"
   ]
  },
  {
   "cell_type": "code",
   "execution_count": 15,
   "metadata": {
    "id": "fFVu7vqh_Zct"
   },
   "outputs": [],
   "source": [
    "df = pd.read_csv('/datasets/yandex_music_project.csv')# чтение файла с данными и сохранение в df"
   ]
  },
  {
   "cell_type": "code",
   "execution_count": 16,
   "metadata": {
    "id": "oWTVX3gW_Zct"
   },
   "outputs": [
    {
     "data": {
      "text/html": [
       "<div>\n",
       "<style scoped>\n",
       "    .dataframe tbody tr th:only-of-type {\n",
       "        vertical-align: middle;\n",
       "    }\n",
       "\n",
       "    .dataframe tbody tr th {\n",
       "        vertical-align: top;\n",
       "    }\n",
       "\n",
       "    .dataframe thead th {\n",
       "        text-align: right;\n",
       "    }\n",
       "</style>\n",
       "<table border=\"1\" class=\"dataframe\">\n",
       "  <thead>\n",
       "    <tr style=\"text-align: right;\">\n",
       "      <th></th>\n",
       "      <th>userID</th>\n",
       "      <th>Track</th>\n",
       "      <th>artist</th>\n",
       "      <th>genre</th>\n",
       "      <th>City</th>\n",
       "      <th>time</th>\n",
       "      <th>Day</th>\n",
       "    </tr>\n",
       "  </thead>\n",
       "  <tbody>\n",
       "    <tr>\n",
       "      <td>0</td>\n",
       "      <td>FFB692EC</td>\n",
       "      <td>Kamigata To Boots</td>\n",
       "      <td>The Mass Missile</td>\n",
       "      <td>rock</td>\n",
       "      <td>Saint-Petersburg</td>\n",
       "      <td>20:28:33</td>\n",
       "      <td>Wednesday</td>\n",
       "    </tr>\n",
       "    <tr>\n",
       "      <td>1</td>\n",
       "      <td>55204538</td>\n",
       "      <td>Delayed Because of Accident</td>\n",
       "      <td>Andreas Rönnberg</td>\n",
       "      <td>rock</td>\n",
       "      <td>Moscow</td>\n",
       "      <td>14:07:09</td>\n",
       "      <td>Friday</td>\n",
       "    </tr>\n",
       "    <tr>\n",
       "      <td>2</td>\n",
       "      <td>20EC38</td>\n",
       "      <td>Funiculì funiculà</td>\n",
       "      <td>Mario Lanza</td>\n",
       "      <td>pop</td>\n",
       "      <td>Saint-Petersburg</td>\n",
       "      <td>20:58:07</td>\n",
       "      <td>Wednesday</td>\n",
       "    </tr>\n",
       "    <tr>\n",
       "      <td>3</td>\n",
       "      <td>A3DD03C9</td>\n",
       "      <td>Dragons in the Sunset</td>\n",
       "      <td>Fire + Ice</td>\n",
       "      <td>folk</td>\n",
       "      <td>Saint-Petersburg</td>\n",
       "      <td>08:37:09</td>\n",
       "      <td>Monday</td>\n",
       "    </tr>\n",
       "    <tr>\n",
       "      <td>4</td>\n",
       "      <td>E2DC1FAE</td>\n",
       "      <td>Soul People</td>\n",
       "      <td>Space Echo</td>\n",
       "      <td>dance</td>\n",
       "      <td>Moscow</td>\n",
       "      <td>08:34:34</td>\n",
       "      <td>Monday</td>\n",
       "    </tr>\n",
       "    <tr>\n",
       "      <td>5</td>\n",
       "      <td>842029A1</td>\n",
       "      <td>Преданная</td>\n",
       "      <td>IMPERVTOR</td>\n",
       "      <td>rusrap</td>\n",
       "      <td>Saint-Petersburg</td>\n",
       "      <td>13:09:41</td>\n",
       "      <td>Friday</td>\n",
       "    </tr>\n",
       "    <tr>\n",
       "      <td>6</td>\n",
       "      <td>4CB90AA5</td>\n",
       "      <td>True</td>\n",
       "      <td>Roman Messer</td>\n",
       "      <td>dance</td>\n",
       "      <td>Moscow</td>\n",
       "      <td>13:00:07</td>\n",
       "      <td>Wednesday</td>\n",
       "    </tr>\n",
       "    <tr>\n",
       "      <td>7</td>\n",
       "      <td>F03E1C1F</td>\n",
       "      <td>Feeling This Way</td>\n",
       "      <td>Polina Griffith</td>\n",
       "      <td>dance</td>\n",
       "      <td>Moscow</td>\n",
       "      <td>20:47:49</td>\n",
       "      <td>Wednesday</td>\n",
       "    </tr>\n",
       "    <tr>\n",
       "      <td>8</td>\n",
       "      <td>8FA1D3BE</td>\n",
       "      <td>И вновь продолжается бой</td>\n",
       "      <td>NaN</td>\n",
       "      <td>ruspop</td>\n",
       "      <td>Moscow</td>\n",
       "      <td>09:17:40</td>\n",
       "      <td>Friday</td>\n",
       "    </tr>\n",
       "    <tr>\n",
       "      <td>9</td>\n",
       "      <td>E772D5C0</td>\n",
       "      <td>Pessimist</td>\n",
       "      <td>NaN</td>\n",
       "      <td>dance</td>\n",
       "      <td>Saint-Petersburg</td>\n",
       "      <td>21:20:49</td>\n",
       "      <td>Wednesday</td>\n",
       "    </tr>\n",
       "  </tbody>\n",
       "</table>\n",
       "</div>"
      ],
      "text/plain": [
       "     userID                        Track            artist   genre  \\\n",
       "0  FFB692EC            Kamigata To Boots  The Mass Missile    rock   \n",
       "1  55204538  Delayed Because of Accident  Andreas Rönnberg    rock   \n",
       "2    20EC38            Funiculì funiculà       Mario Lanza     pop   \n",
       "3  A3DD03C9        Dragons in the Sunset        Fire + Ice    folk   \n",
       "4  E2DC1FAE                  Soul People        Space Echo   dance   \n",
       "5  842029A1                    Преданная         IMPERVTOR  rusrap   \n",
       "6  4CB90AA5                         True      Roman Messer   dance   \n",
       "7  F03E1C1F             Feeling This Way   Polina Griffith   dance   \n",
       "8  8FA1D3BE     И вновь продолжается бой               NaN  ruspop   \n",
       "9  E772D5C0                    Pessimist               NaN   dance   \n",
       "\n",
       "             City        time        Day  \n",
       "0  Saint-Petersburg  20:28:33  Wednesday  \n",
       "1            Moscow  14:07:09     Friday  \n",
       "2  Saint-Petersburg  20:58:07  Wednesday  \n",
       "3  Saint-Petersburg  08:37:09     Monday  \n",
       "4            Moscow  08:34:34     Monday  \n",
       "5  Saint-Petersburg  13:09:41     Friday  \n",
       "6            Moscow  13:00:07  Wednesday  \n",
       "7            Moscow  20:47:49  Wednesday  \n",
       "8            Moscow  09:17:40     Friday  \n",
       "9  Saint-Petersburg  21:20:49  Wednesday  "
      ]
     },
     "execution_count": 16,
     "metadata": {},
     "output_type": "execute_result"
    }
   ],
   "source": [
    "df.head(10)# получение первых 10 строк таблицы df"
   ]
  },
  {
   "cell_type": "markdown",
   "metadata": {
    "id": "EO73Kwic_Zct"
   },
   "source": [
    "Одной командой получить общую информацию о таблице:"
   ]
  },
  {
   "cell_type": "code",
   "execution_count": 17,
   "metadata": {
    "id": "DSf2kIb-_Zct",
    "scrolled": true
   },
   "outputs": [
    {
     "name": "stdout",
     "output_type": "stream",
     "text": [
      "<class 'pandas.core.frame.DataFrame'>\n",
      "RangeIndex: 65079 entries, 0 to 65078\n",
      "Data columns (total 7 columns):\n",
      "  userID    65079 non-null object\n",
      "Track       63848 non-null object\n",
      "artist      57876 non-null object\n",
      "genre       63881 non-null object\n",
      "  City      65079 non-null object\n",
      "time        65079 non-null object\n",
      "Day         65079 non-null object\n",
      "dtypes: object(7)\n",
      "memory usage: 3.5+ MB\n"
     ]
    }
   ],
   "source": [
    "df.info() # получение общей информации о данных в таблице df"
   ]
  },
  {
   "cell_type": "markdown",
   "metadata": {
    "id": "TaQ2Iwbr_Zct"
   },
   "source": [
    "Итак, в таблице семь столбцов. Тип данных во всех столбцах — `object`.\n",
    "\n",
    "Согласно документации к данным:\n",
    "* `userID` — идентификатор пользователя;\n",
    "* `Track` — название трека;  \n",
    "* `artist` — имя исполнителя;\n",
    "* `genre` — название жанра;\n",
    "* `City` — город пользователя;\n",
    "* `time` — время начала прослушивания;\n",
    "* `Day` — день недели.\n",
    "\n",
    "В названиях колонок видны три нарушения стиля:\n",
    "1. Строчные буквы сочетаются с прописными.\n",
    "2. Встречаются пробелы.\n",
    "3. Найдите ещё одну проблему в названии колонок и опишите её в этом пункте.\n",
    "\n",
    "\n",
    "\n",
    "Количество значений в столбцах различается. Значит, в данных есть пропущенные значения.\n"
   ]
  },
  {
   "cell_type": "markdown",
   "metadata": {
    "id": "MCB6-dXG_Zct"
   },
   "source": [
    "**Выводы**\n",
    "\n",
    "В каждой строке таблицы — данные о прослушанном треке. Часть колонок описывает саму композицию: название, исполнителя и жанр. Остальные данные рассказывают о пользователе: из какого он города, когда он слушал музыку. \n",
    "\n",
    "Предварительно можно утверждать, что, данных достаточно для проверки гипотез. Но встречаются пропуски в данных, а в названиях колонок — расхождения с хорошим стилем.\n",
    "\n",
    "Чтобы двигаться дальше, нужно устранить проблемы в данных."
   ]
  },
  {
   "cell_type": "markdown",
   "metadata": {
    "id": "SjYF6Ub9_Zct"
   },
   "source": [
    "## Предобработка данных\n",
    "Исправьте стиль в заголовках столбцов, исключите пропуски. Затем проверьте данные на дубликаты."
   ]
  },
  {
   "cell_type": "markdown",
   "metadata": {
    "id": "dIaKXr29_Zct"
   },
   "source": [
    "### Стиль заголовков\n",
    "Выведите на экран названия столбцов:"
   ]
  },
  {
   "cell_type": "code",
   "execution_count": 18,
   "metadata": {
    "id": "oKOTdF_Q_Zct"
   },
   "outputs": [
    {
     "data": {
      "text/plain": [
       "Index(['  userID', 'Track', 'artist', 'genre', '  City  ', 'time', 'Day'], dtype='object')"
      ]
     },
     "metadata": {},
     "output_type": "display_data"
    }
   ],
   "source": [
    "cols = df.columns \n",
    "display(cols)# перечень названий столбцов таблицы df"
   ]
  },
  {
   "cell_type": "markdown",
   "metadata": {
    "id": "zj5534cv_Zct"
   },
   "source": [
    "Приведите названия в соответствие с хорошим стилем:\n",
    "* несколько слов в названии запишите в «змеином_регистре»,\n",
    "* все символы сделайте строчными,\n",
    "* устраните пробелы.\n",
    "\n",
    "Для этого переименуйте колонки так:\n",
    "* `'  userID'` → `'user_id'`;\n",
    "* `'Track'` → `'track'`;\n",
    "* `'  City  '` → `'city'`;\n",
    "* `'Day'` → `'day'`."
   ]
  },
  {
   "cell_type": "code",
   "execution_count": 19,
   "metadata": {
    "id": "ISlFqs5y_Zct"
   },
   "outputs": [],
   "source": [
    "df = df.rename(columns={'  userID':'user_id', 'Track':'track', '  City  ':'city', 'Day':'day'})# переименование столбцов"
   ]
  },
  {
   "cell_type": "markdown",
   "metadata": {
    "id": "1dqbh00J_Zct"
   },
   "source": [
    "Проверьте результат. Для этого ещё раз выведите на экран названия столбцов:"
   ]
  },
  {
   "cell_type": "code",
   "execution_count": 20,
   "metadata": {
    "id": "d4NOAmTW_Zct"
   },
   "outputs": [
    {
     "data": {
      "text/plain": [
       "Index(['user_id', 'track', 'artist', 'genre', 'city', 'time', 'day'], dtype='object')"
      ]
     },
     "metadata": {},
     "output_type": "display_data"
    }
   ],
   "source": [
    "display(df.columns)# проверка результатов - перечень названий столбцов"
   ]
  },
  {
   "cell_type": "markdown",
   "metadata": {
    "id": "5ISfbcfY_Zct"
   },
   "source": [
    "### Пропуски значений\n",
    "Сначала посчитайте, сколько в таблице пропущенных значений. Для этого достаточно двух методов `pandas`:"
   ]
  },
  {
   "cell_type": "code",
   "execution_count": 21,
   "metadata": {
    "id": "RskX29qr_Zct",
    "scrolled": true
   },
   "outputs": [
    {
     "data": {
      "text/plain": [
       "user_id       0\n",
       "track      1231\n",
       "artist     7203\n",
       "genre      1198\n",
       "city          0\n",
       "time          0\n",
       "day           0\n",
       "dtype: int64"
      ]
     },
     "metadata": {},
     "output_type": "display_data"
    }
   ],
   "source": [
    "display(df.isna().sum()) # подсчёт пропусков"
   ]
  },
  {
   "cell_type": "markdown",
   "metadata": {
    "id": "qubhgnlO_Zct"
   },
   "source": [
    "Не все пропущенные значения влияют на исследование. Так в `track` и `artist` пропуски не важны для вашей работы. Достаточно заменить их явными обозначениями.\n",
    "\n",
    "Но пропуски в `genre` могут помешать сравнению музыкальных вкусов в Москве и Санкт-Петербурге. На практике было бы правильно установить причину пропусков и восстановить данные. Такой возможности нет в учебном проекте. Придётся:\n",
    "* заполнить и эти пропуски явными обозначениями,\n",
    "* оценить, насколько они повредят расчётам. "
   ]
  },
  {
   "cell_type": "markdown",
   "metadata": {
    "id": "fSv2laPA_Zct"
   },
   "source": [
    "Замените пропущенные значения в столбцах `track`, `artist` и `genre` на строку `'unknown'`. Для этого создайте список `columns_to_replace`, переберите его элементы циклом `for` и для каждого столбца выполните замену пропущенных значений:"
   ]
  },
  {
   "cell_type": "code",
   "execution_count": 24,
   "metadata": {},
   "outputs": [],
   "source": [
    "columns_to_replace = ['track','artist','genre']\n",
    "for column in columns_to_replace:\n",
    "    df[column] = df[column].fillna('unknown')"
   ]
  },
  {
   "cell_type": "markdown",
   "metadata": {
    "id": "Ilsm-MZo_Zct"
   },
   "source": [
    "Убедитесь, что в таблице не осталось пропусков. Для этого ещё раз посчитайте пропущенные значения."
   ]
  },
  {
   "cell_type": "code",
   "execution_count": 25,
   "metadata": {
    "id": "Tq4nYRX4_Zct"
   },
   "outputs": [
    {
     "data": {
      "text/plain": [
       "user_id    0\n",
       "track      0\n",
       "artist     0\n",
       "genre      0\n",
       "city       0\n",
       "time       0\n",
       "day        0\n",
       "dtype: int64"
      ]
     },
     "metadata": {},
     "output_type": "display_data"
    }
   ],
   "source": [
    "display(df.isna().sum())# подсчёт пропусков"
   ]
  },
  {
   "cell_type": "markdown",
   "metadata": {
    "id": "BWKRtBJ3_Zct"
   },
   "source": [
    "### Дубликаты\n",
    "Посчитайте явные дубликаты в таблице одной командой:"
   ]
  },
  {
   "cell_type": "code",
   "execution_count": 26,
   "metadata": {
    "id": "36eES_S0_Zct"
   },
   "outputs": [
    {
     "data": {
      "text/plain": [
       "3826"
      ]
     },
     "metadata": {},
     "output_type": "display_data"
    }
   ],
   "source": [
    "display(df.duplicated().sum()) # подсчёт явных дубликатов"
   ]
  },
  {
   "cell_type": "markdown",
   "metadata": {
    "id": "Ot25h6XR_Zct"
   },
   "source": [
    "Вызовите специальный метод `pandas`, чтобы удалить явные дубликаты:"
   ]
  },
  {
   "cell_type": "code",
   "execution_count": 27,
   "metadata": {
    "id": "exFHq6tt_Zct"
   },
   "outputs": [],
   "source": [
    "df = df.drop_duplicates().reset_index(drop=True)# удаление явных дубликатов (с удалением старых индексов и формированием новых)"
   ]
  },
  {
   "cell_type": "markdown",
   "metadata": {
    "id": "Im2YwBEG_Zct"
   },
   "source": [
    "Ещё раз посчитайте явные дубликаты в таблице — убедитесь, что полностью от них избавились:"
   ]
  },
  {
   "cell_type": "code",
   "execution_count": 28,
   "metadata": {
    "id": "-8PuNWQ0_Zct"
   },
   "outputs": [
    {
     "data": {
      "text/plain": [
       "0"
      ]
     },
     "metadata": {},
     "output_type": "display_data"
    }
   ],
   "source": [
    "display(df.duplicated().sum()) # проверка на отсутствие дубликатов"
   ]
  },
  {
   "cell_type": "markdown",
   "metadata": {
    "id": "QlFBsxAr_Zct"
   },
   "source": [
    "Теперь избавьтесь от неявных дубликатов в колонке `genre`. Например, название одного и того же жанра может быть записано немного по-разному. Такие ошибки тоже повлияют на результат исследования."
   ]
  },
  {
   "cell_type": "markdown",
   "metadata": {
    "id": "eSjWwsOh_Zct"
   },
   "source": [
    "Выведите на экран список уникальных названий жанров, отсортированный в алфавитном порядке. Для этого:\n",
    "* извлеките нужный столбец датафрейма, \n",
    "* примените к нему метод сортировки,\n",
    "* для отсортированного столбца вызовите метод, который вернёт уникальные значения из столбца."
   ]
  },
  {
   "cell_type": "code",
   "execution_count": 29,
   "metadata": {
    "id": "JIUcqzZN_Zct"
   },
   "outputs": [
    {
     "data": {
      "text/plain": [
       "['acid',\n",
       " 'acoustic',\n",
       " 'action',\n",
       " 'adult',\n",
       " 'africa',\n",
       " 'afrikaans',\n",
       " 'alternative',\n",
       " 'alternativepunk',\n",
       " 'ambient',\n",
       " 'americana',\n",
       " 'animated',\n",
       " 'anime',\n",
       " 'arabesk',\n",
       " 'arabic',\n",
       " 'arena',\n",
       " 'argentinetango',\n",
       " 'art',\n",
       " 'audiobook',\n",
       " 'author',\n",
       " 'avantgarde',\n",
       " 'axé',\n",
       " 'baile',\n",
       " 'balkan',\n",
       " 'beats',\n",
       " 'bigroom',\n",
       " 'black',\n",
       " 'bluegrass',\n",
       " 'blues',\n",
       " 'bollywood',\n",
       " 'bossa',\n",
       " 'brazilian',\n",
       " 'breakbeat',\n",
       " 'breaks',\n",
       " 'broadway',\n",
       " 'cantautori',\n",
       " 'cantopop',\n",
       " 'canzone',\n",
       " 'caribbean',\n",
       " 'caucasian',\n",
       " 'celtic',\n",
       " 'chamber',\n",
       " 'chanson',\n",
       " 'children',\n",
       " 'chill',\n",
       " 'chinese',\n",
       " 'choral',\n",
       " 'christian',\n",
       " 'christmas',\n",
       " 'classical',\n",
       " 'classicmetal',\n",
       " 'club',\n",
       " 'colombian',\n",
       " 'comedy',\n",
       " 'conjazz',\n",
       " 'contemporary',\n",
       " 'country',\n",
       " 'cuban',\n",
       " 'dance',\n",
       " 'dancehall',\n",
       " 'dancepop',\n",
       " 'dark',\n",
       " 'death',\n",
       " 'deep',\n",
       " 'deutschrock',\n",
       " 'deutschspr',\n",
       " 'dirty',\n",
       " 'disco',\n",
       " 'dnb',\n",
       " 'documentary',\n",
       " 'downbeat',\n",
       " 'downtempo',\n",
       " 'drum',\n",
       " 'dub',\n",
       " 'dubstep',\n",
       " 'eastern',\n",
       " 'easy',\n",
       " 'electronic',\n",
       " 'electropop',\n",
       " 'emo',\n",
       " 'entehno',\n",
       " 'epicmetal',\n",
       " 'estrada',\n",
       " 'ethnic',\n",
       " 'eurofolk',\n",
       " 'european',\n",
       " 'experimental',\n",
       " 'extrememetal',\n",
       " 'fado',\n",
       " 'fairytail',\n",
       " 'film',\n",
       " 'fitness',\n",
       " 'flamenco',\n",
       " 'folk',\n",
       " 'folklore',\n",
       " 'folkmetal',\n",
       " 'folkrock',\n",
       " 'folktronica',\n",
       " 'forró',\n",
       " 'frankreich',\n",
       " 'französisch',\n",
       " 'french',\n",
       " 'funk',\n",
       " 'future',\n",
       " 'gangsta',\n",
       " 'garage',\n",
       " 'german',\n",
       " 'ghazal',\n",
       " 'gitarre',\n",
       " 'glitch',\n",
       " 'gospel',\n",
       " 'gothic',\n",
       " 'grime',\n",
       " 'grunge',\n",
       " 'gypsy',\n",
       " 'handsup',\n",
       " \"hard'n'heavy\",\n",
       " 'hardcore',\n",
       " 'hardstyle',\n",
       " 'hardtechno',\n",
       " 'hip',\n",
       " 'hip-hop',\n",
       " 'hiphop',\n",
       " 'historisch',\n",
       " 'holiday',\n",
       " 'hop',\n",
       " 'horror',\n",
       " 'house',\n",
       " 'hymn',\n",
       " 'idm',\n",
       " 'independent',\n",
       " 'indian',\n",
       " 'indie',\n",
       " 'indipop',\n",
       " 'industrial',\n",
       " 'inspirational',\n",
       " 'instrumental',\n",
       " 'international',\n",
       " 'irish',\n",
       " 'jam',\n",
       " 'japanese',\n",
       " 'jazz',\n",
       " 'jewish',\n",
       " 'jpop',\n",
       " 'jungle',\n",
       " 'k-pop',\n",
       " 'karadeniz',\n",
       " 'karaoke',\n",
       " 'kayokyoku',\n",
       " 'korean',\n",
       " 'laiko',\n",
       " 'latin',\n",
       " 'latino',\n",
       " 'leftfield',\n",
       " 'local',\n",
       " 'lounge',\n",
       " 'loungeelectronic',\n",
       " 'lovers',\n",
       " 'malaysian',\n",
       " 'mandopop',\n",
       " 'marschmusik',\n",
       " 'meditative',\n",
       " 'mediterranean',\n",
       " 'melodic',\n",
       " 'metal',\n",
       " 'metalcore',\n",
       " 'mexican',\n",
       " 'middle',\n",
       " 'minimal',\n",
       " 'miscellaneous',\n",
       " 'modern',\n",
       " 'mood',\n",
       " 'mpb',\n",
       " 'muslim',\n",
       " 'native',\n",
       " 'neoklassik',\n",
       " 'neue',\n",
       " 'new',\n",
       " 'newage',\n",
       " 'newwave',\n",
       " 'nu',\n",
       " 'nujazz',\n",
       " 'numetal',\n",
       " 'oceania',\n",
       " 'old',\n",
       " 'opera',\n",
       " 'orchestral',\n",
       " 'other',\n",
       " 'piano',\n",
       " 'podcasts',\n",
       " 'pop',\n",
       " 'popdance',\n",
       " 'popelectronic',\n",
       " 'popeurodance',\n",
       " 'poprussian',\n",
       " 'post',\n",
       " 'posthardcore',\n",
       " 'postrock',\n",
       " 'power',\n",
       " 'progmetal',\n",
       " 'progressive',\n",
       " 'psychedelic',\n",
       " 'punjabi',\n",
       " 'punk',\n",
       " 'quebecois',\n",
       " 'ragga',\n",
       " 'ram',\n",
       " 'rancheras',\n",
       " 'rap',\n",
       " 'rave',\n",
       " 'reggae',\n",
       " 'reggaeton',\n",
       " 'regional',\n",
       " 'relax',\n",
       " 'religious',\n",
       " 'retro',\n",
       " 'rhythm',\n",
       " 'rnb',\n",
       " 'rnr',\n",
       " 'rock',\n",
       " 'rockabilly',\n",
       " 'rockalternative',\n",
       " 'rockindie',\n",
       " 'rockother',\n",
       " 'romance',\n",
       " 'roots',\n",
       " 'ruspop',\n",
       " 'rusrap',\n",
       " 'rusrock',\n",
       " 'russian',\n",
       " 'salsa',\n",
       " 'samba',\n",
       " 'scenic',\n",
       " 'schlager',\n",
       " 'self',\n",
       " 'sertanejo',\n",
       " 'shanson',\n",
       " 'shoegazing',\n",
       " 'showtunes',\n",
       " 'singer',\n",
       " 'ska',\n",
       " 'skarock',\n",
       " 'slow',\n",
       " 'smooth',\n",
       " 'soft',\n",
       " 'soul',\n",
       " 'soulful',\n",
       " 'sound',\n",
       " 'soundtrack',\n",
       " 'southern',\n",
       " 'specialty',\n",
       " 'speech',\n",
       " 'spiritual',\n",
       " 'sport',\n",
       " 'stonerrock',\n",
       " 'surf',\n",
       " 'swing',\n",
       " 'synthpop',\n",
       " 'synthrock',\n",
       " 'sängerportrait',\n",
       " 'tango',\n",
       " 'tanzorchester',\n",
       " 'taraftar',\n",
       " 'tatar',\n",
       " 'tech',\n",
       " 'techno',\n",
       " 'teen',\n",
       " 'thrash',\n",
       " 'top',\n",
       " 'traditional',\n",
       " 'tradjazz',\n",
       " 'trance',\n",
       " 'tribal',\n",
       " 'trip',\n",
       " 'triphop',\n",
       " 'tropical',\n",
       " 'türk',\n",
       " 'türkçe',\n",
       " 'ukrrock',\n",
       " 'unknown',\n",
       " 'urban',\n",
       " 'uzbek',\n",
       " 'variété',\n",
       " 'vi',\n",
       " 'videogame',\n",
       " 'vocal',\n",
       " 'western',\n",
       " 'world',\n",
       " 'worldbeat',\n",
       " 'ïîï',\n",
       " 'электроника']"
      ]
     },
     "metadata": {},
     "output_type": "display_data"
    }
   ],
   "source": [
    "display(sorted(df['genre'].unique()))# Просмотр уникальных названий жанров"
   ]
  },
  {
   "cell_type": "markdown",
   "metadata": {
    "id": "qej-Qmuo_Zct"
   },
   "source": [
    "Просмотрите список и найдите неявные дубликаты названия `hiphop`. Это могут быть названия с ошибками или альтернативные названия того же жанра.\n",
    "\n",
    "Вы увидите следующие неявные дубликаты:\n",
    "* *hip*,\n",
    "* *hop*,\n",
    "* *hip-hop*.\n",
    "\n",
    "Чтобы очистить от них таблицу, напишите функцию `replace_wrong_genres()` с двумя параметрами: \n",
    "* `wrong_genres` — список дубликатов,\n",
    "* `correct_genre` — строка с правильным значением.\n",
    "\n",
    "Функция должна исправить колонку `genre` в таблице `df`: заменить каждое значение из списка `wrong_genres` на значение из `correct_genre`."
   ]
  },
  {
   "cell_type": "code",
   "execution_count": 30,
   "metadata": {
    "id": "ErNDkmns_Zct"
   },
   "outputs": [],
   "source": [
    "def replace_wrong_genres(wrong_genres, correct_genre):\n",
    "    for genre in wrong_genres:\n",
    "        df['genre']=df['genre'].replace(genre, correct_genre)\n",
    "    return df['genre']# Функция для замены неявных дубликатов"
   ]
  },
  {
   "cell_type": "markdown",
   "metadata": {
    "id": "aDoBJxbA_Zct"
   },
   "source": [
    "Вызовите `replace_wrong_genres()` и передайте ей такие аргументы, чтобы она устранила неявные дубликаты: вместо `hip`, `hop` и `hip-hop` в таблице должно быть значение `hiphop`:"
   ]
  },
  {
   "cell_type": "code",
   "execution_count": 31,
   "metadata": {
    "id": "YN5i2hpmSo09"
   },
   "outputs": [],
   "source": [
    "df['genre'] = replace_wrong_genres(['hip','hop','hip-hop'], 'hiphop') # Устранение неявных дубликатов"
   ]
  },
  {
   "cell_type": "markdown",
   "metadata": {
    "id": "zQKF16_RG15m"
   },
   "source": [
    "Проверьте, что заменили неправильные названия:\n",
    "\n",
    "*   hip\n",
    "*   hop\n",
    "*   hip-hop\n",
    "\n",
    "Выведите отсортированный список уникальных значений столбца `genre`:"
   ]
  },
  {
   "cell_type": "code",
   "execution_count": 32,
   "metadata": {
    "id": "wvixALnFG15m"
   },
   "outputs": [
    {
     "data": {
      "text/plain": [
       "['acid',\n",
       " 'acoustic',\n",
       " 'action',\n",
       " 'adult',\n",
       " 'africa',\n",
       " 'afrikaans',\n",
       " 'alternative',\n",
       " 'alternativepunk',\n",
       " 'ambient',\n",
       " 'americana',\n",
       " 'animated',\n",
       " 'anime',\n",
       " 'arabesk',\n",
       " 'arabic',\n",
       " 'arena',\n",
       " 'argentinetango',\n",
       " 'art',\n",
       " 'audiobook',\n",
       " 'author',\n",
       " 'avantgarde',\n",
       " 'axé',\n",
       " 'baile',\n",
       " 'balkan',\n",
       " 'beats',\n",
       " 'bigroom',\n",
       " 'black',\n",
       " 'bluegrass',\n",
       " 'blues',\n",
       " 'bollywood',\n",
       " 'bossa',\n",
       " 'brazilian',\n",
       " 'breakbeat',\n",
       " 'breaks',\n",
       " 'broadway',\n",
       " 'cantautori',\n",
       " 'cantopop',\n",
       " 'canzone',\n",
       " 'caribbean',\n",
       " 'caucasian',\n",
       " 'celtic',\n",
       " 'chamber',\n",
       " 'chanson',\n",
       " 'children',\n",
       " 'chill',\n",
       " 'chinese',\n",
       " 'choral',\n",
       " 'christian',\n",
       " 'christmas',\n",
       " 'classical',\n",
       " 'classicmetal',\n",
       " 'club',\n",
       " 'colombian',\n",
       " 'comedy',\n",
       " 'conjazz',\n",
       " 'contemporary',\n",
       " 'country',\n",
       " 'cuban',\n",
       " 'dance',\n",
       " 'dancehall',\n",
       " 'dancepop',\n",
       " 'dark',\n",
       " 'death',\n",
       " 'deep',\n",
       " 'deutschrock',\n",
       " 'deutschspr',\n",
       " 'dirty',\n",
       " 'disco',\n",
       " 'dnb',\n",
       " 'documentary',\n",
       " 'downbeat',\n",
       " 'downtempo',\n",
       " 'drum',\n",
       " 'dub',\n",
       " 'dubstep',\n",
       " 'eastern',\n",
       " 'easy',\n",
       " 'electronic',\n",
       " 'electropop',\n",
       " 'emo',\n",
       " 'entehno',\n",
       " 'epicmetal',\n",
       " 'estrada',\n",
       " 'ethnic',\n",
       " 'eurofolk',\n",
       " 'european',\n",
       " 'experimental',\n",
       " 'extrememetal',\n",
       " 'fado',\n",
       " 'fairytail',\n",
       " 'film',\n",
       " 'fitness',\n",
       " 'flamenco',\n",
       " 'folk',\n",
       " 'folklore',\n",
       " 'folkmetal',\n",
       " 'folkrock',\n",
       " 'folktronica',\n",
       " 'forró',\n",
       " 'frankreich',\n",
       " 'französisch',\n",
       " 'french',\n",
       " 'funk',\n",
       " 'future',\n",
       " 'gangsta',\n",
       " 'garage',\n",
       " 'german',\n",
       " 'ghazal',\n",
       " 'gitarre',\n",
       " 'glitch',\n",
       " 'gospel',\n",
       " 'gothic',\n",
       " 'grime',\n",
       " 'grunge',\n",
       " 'gypsy',\n",
       " 'handsup',\n",
       " \"hard'n'heavy\",\n",
       " 'hardcore',\n",
       " 'hardstyle',\n",
       " 'hardtechno',\n",
       " 'hiphop',\n",
       " 'historisch',\n",
       " 'holiday',\n",
       " 'horror',\n",
       " 'house',\n",
       " 'hymn',\n",
       " 'idm',\n",
       " 'independent',\n",
       " 'indian',\n",
       " 'indie',\n",
       " 'indipop',\n",
       " 'industrial',\n",
       " 'inspirational',\n",
       " 'instrumental',\n",
       " 'international',\n",
       " 'irish',\n",
       " 'jam',\n",
       " 'japanese',\n",
       " 'jazz',\n",
       " 'jewish',\n",
       " 'jpop',\n",
       " 'jungle',\n",
       " 'k-pop',\n",
       " 'karadeniz',\n",
       " 'karaoke',\n",
       " 'kayokyoku',\n",
       " 'korean',\n",
       " 'laiko',\n",
       " 'latin',\n",
       " 'latino',\n",
       " 'leftfield',\n",
       " 'local',\n",
       " 'lounge',\n",
       " 'loungeelectronic',\n",
       " 'lovers',\n",
       " 'malaysian',\n",
       " 'mandopop',\n",
       " 'marschmusik',\n",
       " 'meditative',\n",
       " 'mediterranean',\n",
       " 'melodic',\n",
       " 'metal',\n",
       " 'metalcore',\n",
       " 'mexican',\n",
       " 'middle',\n",
       " 'minimal',\n",
       " 'miscellaneous',\n",
       " 'modern',\n",
       " 'mood',\n",
       " 'mpb',\n",
       " 'muslim',\n",
       " 'native',\n",
       " 'neoklassik',\n",
       " 'neue',\n",
       " 'new',\n",
       " 'newage',\n",
       " 'newwave',\n",
       " 'nu',\n",
       " 'nujazz',\n",
       " 'numetal',\n",
       " 'oceania',\n",
       " 'old',\n",
       " 'opera',\n",
       " 'orchestral',\n",
       " 'other',\n",
       " 'piano',\n",
       " 'podcasts',\n",
       " 'pop',\n",
       " 'popdance',\n",
       " 'popelectronic',\n",
       " 'popeurodance',\n",
       " 'poprussian',\n",
       " 'post',\n",
       " 'posthardcore',\n",
       " 'postrock',\n",
       " 'power',\n",
       " 'progmetal',\n",
       " 'progressive',\n",
       " 'psychedelic',\n",
       " 'punjabi',\n",
       " 'punk',\n",
       " 'quebecois',\n",
       " 'ragga',\n",
       " 'ram',\n",
       " 'rancheras',\n",
       " 'rap',\n",
       " 'rave',\n",
       " 'reggae',\n",
       " 'reggaeton',\n",
       " 'regional',\n",
       " 'relax',\n",
       " 'religious',\n",
       " 'retro',\n",
       " 'rhythm',\n",
       " 'rnb',\n",
       " 'rnr',\n",
       " 'rock',\n",
       " 'rockabilly',\n",
       " 'rockalternative',\n",
       " 'rockindie',\n",
       " 'rockother',\n",
       " 'romance',\n",
       " 'roots',\n",
       " 'ruspop',\n",
       " 'rusrap',\n",
       " 'rusrock',\n",
       " 'russian',\n",
       " 'salsa',\n",
       " 'samba',\n",
       " 'scenic',\n",
       " 'schlager',\n",
       " 'self',\n",
       " 'sertanejo',\n",
       " 'shanson',\n",
       " 'shoegazing',\n",
       " 'showtunes',\n",
       " 'singer',\n",
       " 'ska',\n",
       " 'skarock',\n",
       " 'slow',\n",
       " 'smooth',\n",
       " 'soft',\n",
       " 'soul',\n",
       " 'soulful',\n",
       " 'sound',\n",
       " 'soundtrack',\n",
       " 'southern',\n",
       " 'specialty',\n",
       " 'speech',\n",
       " 'spiritual',\n",
       " 'sport',\n",
       " 'stonerrock',\n",
       " 'surf',\n",
       " 'swing',\n",
       " 'synthpop',\n",
       " 'synthrock',\n",
       " 'sängerportrait',\n",
       " 'tango',\n",
       " 'tanzorchester',\n",
       " 'taraftar',\n",
       " 'tatar',\n",
       " 'tech',\n",
       " 'techno',\n",
       " 'teen',\n",
       " 'thrash',\n",
       " 'top',\n",
       " 'traditional',\n",
       " 'tradjazz',\n",
       " 'trance',\n",
       " 'tribal',\n",
       " 'trip',\n",
       " 'triphop',\n",
       " 'tropical',\n",
       " 'türk',\n",
       " 'türkçe',\n",
       " 'ukrrock',\n",
       " 'unknown',\n",
       " 'urban',\n",
       " 'uzbek',\n",
       " 'variété',\n",
       " 'vi',\n",
       " 'videogame',\n",
       " 'vocal',\n",
       " 'western',\n",
       " 'world',\n",
       " 'worldbeat',\n",
       " 'ïîï',\n",
       " 'электроника']"
      ]
     },
     "metadata": {},
     "output_type": "display_data"
    }
   ],
   "source": [
    "display(sorted(df['genre'].unique()))# Проверка на неявные дубликаты"
   ]
  },
  {
   "cell_type": "markdown",
   "metadata": {
    "id": "jz6a9-7HQUDd"
   },
   "source": [
    "**Выводы**\n",
    "\n",
    "Предобработка обнаружила три проблемы в данных:\n",
    "\n",
    "- нарушения в стиле заголовков,\n",
    "- пропущенные значения,\n",
    "- дубликаты — явные и неявные.\n",
    "\n",
    "Вы исправили заголовки, чтобы упростить работу с таблицей. Без дубликатов исследование станет более точным.\n",
    "\n",
    "Пропущенные значения вы заменили на `'unknown'`. Ещё предстоит увидеть, не повредят ли исследованию пропуски в колонке `genre`.\n",
    "\n",
    "Теперь можно перейти к проверке гипотез. "
   ]
  },
  {
   "cell_type": "markdown",
   "metadata": {
    "id": "WttZHXH0SqKk"
   },
   "source": [
    "## Проверка гипотез"
   ]
  },
  {
   "cell_type": "markdown",
   "metadata": {
    "id": "Im936VVi_Zcu"
   },
   "source": [
    "### Сравнение поведения пользователей двух столиц"
   ]
  },
  {
   "cell_type": "markdown",
   "metadata": {
    "id": "nwt_MuaL_Zcu"
   },
   "source": [
    "Первая гипотеза утверждает, что пользователи по-разному слушают музыку в Москве и Санкт-Петербурге. Проверьте это предположение по данным о трёх днях недели — понедельнике, среде и пятнице. Для этого:\n",
    "\n",
    "* Разделите пользователей Москвы и Санкт-Петербурга\n",
    "* Сравните, сколько треков послушала каждая группа пользователей в понедельник, среду и пятницу.\n"
   ]
  },
  {
   "cell_type": "markdown",
   "metadata": {
    "id": "8Dw_YMmT_Zcu"
   },
   "source": [
    "Для тренировки сначала выполните каждый из расчётов по отдельности. \n",
    "\n",
    "Оцените активность пользователей в каждом городе. Сгруппируйте данные по городу и посчитайте прослушивания в каждой группе.\n",
    "\n"
   ]
  },
  {
   "cell_type": "code",
   "execution_count": 33,
   "metadata": {
    "id": "0_Qs96oh_Zcu"
   },
   "outputs": [
    {
     "data": {
      "text/plain": [
       "city\n",
       "Moscow              42741\n",
       "Saint-Petersburg    18512\n",
       "Name: time, dtype: int64"
      ]
     },
     "metadata": {},
     "output_type": "display_data"
    }
   ],
   "source": [
    "time_city = df.groupby('city')['time'].count()\n",
    "display(time_city) # Подсчёт прослушиваний в каждом городе"
   ]
  },
  {
   "cell_type": "markdown",
   "metadata": {
    "id": "dzli3w8o_Zcu"
   },
   "source": [
    "В Москве прослушиваний больше, чем в Петербурге. Из этого не следует, что московские пользователи чаще слушают музыку. Просто самих пользователей в Москве больше.\n",
    "\n",
    "Теперь сгруппируйте данные по дню недели и подсчитайте прослушивания в понедельник, среду и пятницу. Учтите, что в данных есть информация только о прослушиваниях только за эти дни.\n"
   ]
  },
  {
   "cell_type": "code",
   "execution_count": 34,
   "metadata": {
    "id": "uZMKjiJz_Zcu"
   },
   "outputs": [
    {
     "data": {
      "text/html": [
       "<div>\n",
       "<style scoped>\n",
       "    .dataframe tbody tr th:only-of-type {\n",
       "        vertical-align: middle;\n",
       "    }\n",
       "\n",
       "    .dataframe tbody tr th {\n",
       "        vertical-align: top;\n",
       "    }\n",
       "\n",
       "    .dataframe thead th {\n",
       "        text-align: right;\n",
       "    }\n",
       "</style>\n",
       "<table border=\"1\" class=\"dataframe\">\n",
       "  <thead>\n",
       "    <tr style=\"text-align: right;\">\n",
       "      <th></th>\n",
       "      <th></th>\n",
       "      <th>time</th>\n",
       "    </tr>\n",
       "    <tr>\n",
       "      <th>city</th>\n",
       "      <th>day</th>\n",
       "      <th></th>\n",
       "    </tr>\n",
       "  </thead>\n",
       "  <tbody>\n",
       "    <tr>\n",
       "      <td rowspan=\"3\" valign=\"top\">Moscow</td>\n",
       "      <td>Friday</td>\n",
       "      <td>15945</td>\n",
       "    </tr>\n",
       "    <tr>\n",
       "      <td>Monday</td>\n",
       "      <td>15740</td>\n",
       "    </tr>\n",
       "    <tr>\n",
       "      <td>Wednesday</td>\n",
       "      <td>11056</td>\n",
       "    </tr>\n",
       "    <tr>\n",
       "      <td rowspan=\"3\" valign=\"top\">Saint-Petersburg</td>\n",
       "      <td>Friday</td>\n",
       "      <td>5895</td>\n",
       "    </tr>\n",
       "    <tr>\n",
       "      <td>Monday</td>\n",
       "      <td>5614</td>\n",
       "    </tr>\n",
       "    <tr>\n",
       "      <td>Wednesday</td>\n",
       "      <td>7003</td>\n",
       "    </tr>\n",
       "  </tbody>\n",
       "</table>\n",
       "</div>"
      ],
      "text/plain": [
       "                             time\n",
       "city             day             \n",
       "Moscow           Friday     15945\n",
       "                 Monday     15740\n",
       "                 Wednesday  11056\n",
       "Saint-Petersburg Friday      5895\n",
       "                 Monday      5614\n",
       "                 Wednesday   7003"
      ]
     },
     "metadata": {},
     "output_type": "display_data"
    }
   ],
   "source": [
    "city_day_time_count = df[['city', 'day', 'time']].groupby(['city', 'day']).count()\n",
    "display(city_day_time_count) # Подсчёт прослушиваний в каждый из трёх дней"
   ]
  },
  {
   "cell_type": "markdown",
   "metadata": {
    "id": "cC2tNrlL_Zcu"
   },
   "source": [
    "В среднем пользователи из двух городов менее активны по средам. Но картина может измениться, если рассмотреть каждый город в отдельности."
   ]
  },
  {
   "cell_type": "markdown",
   "metadata": {
    "id": "POzs8bGa_Zcu"
   },
   "source": [
    "Вы видели, как работает группировка по городу и по дням недели. Теперь напишите функцию, которая объединит два эти расчёта.\n",
    "\n",
    "Создайте функцию `number_tracks()`, которая посчитает прослушивания для заданного дня и города. Ей понадобятся два параметра:\n",
    "* день недели,\n",
    "* название города.\n",
    "\n",
    "В функции сохраните в переменную строки исходной таблицы, у которых значение:\n",
    "  * в колонке `day` равно параметру `day`,\n",
    "  * в колонке `city` равно параметру `city`.\n",
    "\n",
    "Для этого примените последовательную фильтрацию с логической индексацией.\n",
    "\n",
    "Затем посчитайте значения в столбце `user_id` получившейся таблицы. Результат сохраните в новую переменную. Верните эту переменную из функции."
   ]
  },
  {
   "cell_type": "code",
   "execution_count": 2,
   "metadata": {
    "id": "Nz3GdQB1_Zcu"
   },
   "outputs": [],
   "source": [
    "def number_tracks(day, city):\n",
    "    track_list = df[df['day'] == day]\n",
    "    track_list = track_list[track_list['city'] == city]\n",
    "    track_list_count = track_list['user_id'].count()\n",
    "    return track_list_count"
   ]
  },
  {
   "cell_type": "markdown",
   "metadata": {
    "id": "ytf7xFrFJQ2r"
   },
   "source": [
    "Вызовите `number_tracks()` шесть раз, меняя значение параметров — так, чтобы получить данные для каждого города в каждый из трёх дней."
   ]
  },
  {
   "cell_type": "code",
   "execution_count": 36,
   "metadata": {
    "id": "rJcRATNQ_Zcu"
   },
   "outputs": [
    {
     "data": {
      "text/plain": [
       "15740"
      ]
     },
     "metadata": {},
     "output_type": "display_data"
    }
   ],
   "source": [
    "display(number_tracks('Monday', 'Moscow')) # количество прослушиваний в Москве по понедельникам"
   ]
  },
  {
   "cell_type": "code",
   "execution_count": 37,
   "metadata": {
    "id": "hq_ncZ5T_Zcu"
   },
   "outputs": [
    {
     "data": {
      "text/plain": [
       "5614"
      ]
     },
     "metadata": {},
     "output_type": "display_data"
    }
   ],
   "source": [
    "display(number_tracks('Monday', 'Saint-Petersburg')) # количество прослушиваний в Санкт-Петербурге по понедельникам"
   ]
  },
  {
   "cell_type": "code",
   "execution_count": 38,
   "metadata": {
    "id": "_NTy2VPU_Zcu"
   },
   "outputs": [
    {
     "data": {
      "text/plain": [
       "11056"
      ]
     },
     "metadata": {},
     "output_type": "display_data"
    }
   ],
   "source": [
    "display(number_tracks('Wednesday', 'Moscow')) # количество прослушиваний в Москве по средам"
   ]
  },
  {
   "cell_type": "code",
   "execution_count": 39,
   "metadata": {
    "id": "j2y3TAwo_Zcu"
   },
   "outputs": [
    {
     "data": {
      "text/plain": [
       "7003"
      ]
     },
     "metadata": {},
     "output_type": "display_data"
    }
   ],
   "source": [
    "display(number_tracks('Wednesday', 'Saint-Petersburg')) # количество прослушиваний в Санкт-Петербурге по средам"
   ]
  },
  {
   "cell_type": "code",
   "execution_count": 40,
   "metadata": {
    "id": "vYDw5u_K_Zcu"
   },
   "outputs": [
    {
     "data": {
      "text/plain": [
       "15945"
      ]
     },
     "metadata": {},
     "output_type": "display_data"
    }
   ],
   "source": [
    "display(number_tracks('Friday', 'Moscow')) # количество прослушиваний в Москве по пятницам"
   ]
  },
  {
   "cell_type": "code",
   "execution_count": 41,
   "metadata": {
    "id": "8_yzFtW3_Zcu"
   },
   "outputs": [
    {
     "data": {
      "text/plain": [
       "5895"
      ]
     },
     "metadata": {},
     "output_type": "display_data"
    }
   ],
   "source": [
    "display(number_tracks('Friday', 'Saint-Petersburg')) # количество прослушиваний в Санкт-Петербурге по пятницам"
   ]
  },
  {
   "cell_type": "markdown",
   "metadata": {
    "id": "7QXffbO-_Zcu"
   },
   "source": [
    "Создайте c помощью конструктора `pd.DataFrame` таблицу, где\n",
    "* названия колонок — `['city', 'monday', 'wednesday', 'friday']`;\n",
    "* данные — результаты, которые вы получили с помощью `number_tracks`."
   ]
  },
  {
   "cell_type": "code",
   "execution_count": 42,
   "metadata": {
    "id": "APAcLpOr_Zcu"
   },
   "outputs": [
    {
     "data": {
      "text/html": [
       "<div>\n",
       "<style scoped>\n",
       "    .dataframe tbody tr th:only-of-type {\n",
       "        vertical-align: middle;\n",
       "    }\n",
       "\n",
       "    .dataframe tbody tr th {\n",
       "        vertical-align: top;\n",
       "    }\n",
       "\n",
       "    .dataframe thead th {\n",
       "        text-align: right;\n",
       "    }\n",
       "</style>\n",
       "<table border=\"1\" class=\"dataframe\">\n",
       "  <thead>\n",
       "    <tr style=\"text-align: right;\">\n",
       "      <th></th>\n",
       "      <th>City</th>\n",
       "      <th>Monday</th>\n",
       "      <th>Wednesday</th>\n",
       "      <th>Friday</th>\n",
       "    </tr>\n",
       "  </thead>\n",
       "  <tbody>\n",
       "    <tr>\n",
       "      <td>0</td>\n",
       "      <td>Moscow</td>\n",
       "      <td>15740</td>\n",
       "      <td>11056</td>\n",
       "      <td>15945</td>\n",
       "    </tr>\n",
       "    <tr>\n",
       "      <td>1</td>\n",
       "      <td>Saint-Petersburg</td>\n",
       "      <td>5614</td>\n",
       "      <td>7003</td>\n",
       "      <td>5895</td>\n",
       "    </tr>\n",
       "  </tbody>\n",
       "</table>\n",
       "</div>"
      ],
      "text/plain": [
       "               City  Monday  Wednesday  Friday\n",
       "0            Moscow   15740      11056   15945\n",
       "1  Saint-Petersburg    5614       7003    5895"
      ]
     },
     "metadata": {},
     "output_type": "display_data"
    }
   ],
   "source": [
    "results = ['City', 'Monday', 'Wednesday', 'Friday']\n",
    "data = [['Moscow', 15740, 11056, 15945], ['Saint-Petersburg', 5614, 7003, 5895]]\n",
    "results_city_by_day = pd.DataFrame(data=data, columns=results)\n",
    "display(results_city_by_day)\n",
    "# Таблица с результатами"
   ]
  },
  {
   "cell_type": "markdown",
   "metadata": {
    "id": "-EgPIHYu_Zcu"
   },
   "source": [
    "**Выводы**\n",
    "\n",
    "Данные показывают разницу поведения пользователей:\n",
    "\n",
    "- В Москве пик прослушиваний приходится на понедельник и пятницу, а в среду заметен спад.\n",
    "- В Петербурге, наоборот, больше слушают музыку по средам. Активность в понедельник и пятницу здесь почти в равной мере уступает среде.\n",
    "\n",
    "Значит, данные говорят в пользу первой гипотезы."
   ]
  },
  {
   "cell_type": "markdown",
   "metadata": {
    "id": "atZAxtq4_Zcu"
   },
   "source": [
    "### Музыка в начале и в конце недели"
   ]
  },
  {
   "cell_type": "markdown",
   "metadata": {
    "id": "eXrQqXFH_Zcu"
   },
   "source": [
    "Согласно второй гипотезе, утром в понедельник в Москве преобладают одни жанры, а в Петербурге — другие. Так же и вечером пятницы преобладают разные жанры — в зависимости от города."
   ]
  },
  {
   "cell_type": "markdown",
   "metadata": {
    "id": "S8UcW6Hw_Zcu"
   },
   "source": [
    "Сохраните таблицы с данными в две переменные:\n",
    "* по Москве — в `moscow_general`;\n",
    "* по Санкт-Петербургу — в `spb_general`."
   ]
  },
  {
   "cell_type": "code",
   "execution_count": 43,
   "metadata": {
    "id": "qeaFfM_P_Zcu"
   },
   "outputs": [],
   "source": [
    "moscow_general = df[df['city'] == 'Moscow'] # получение таблицы moscow_general из тех строк таблицы df, \n",
    "# для которых значение в столбце 'city' равно 'Moscow'\n"
   ]
  },
  {
   "cell_type": "code",
   "execution_count": 44,
   "metadata": {
    "id": "ORaVRKto_Zcu"
   },
   "outputs": [],
   "source": [
    "spb_general = df[df['city'] == 'Saint-Petersburg']# получение таблицы spb_general из тех строк таблицы df,\n",
    "# для которых значение в столбце 'city' равно 'Saint-Petersburg'\n"
   ]
  },
  {
   "cell_type": "markdown",
   "metadata": {
    "id": "MEJV-CX2_Zcu"
   },
   "source": [
    "Создайте функцию `genre_weekday()` с четырьмя параметрами:\n",
    "* таблица (датафрейм) с данными,\n",
    "* день недели,\n",
    "* начальная временная метка в формате 'hh:mm', \n",
    "* последняя временная метка в формате 'hh:mm'.\n",
    "\n",
    "Функция должна вернуть информацию о топ-10 жанров тех треков, которые прослушивали в указанный день, в промежутке между двумя отметками времени."
   ]
  },
  {
   "cell_type": "code",
   "execution_count": 46,
   "metadata": {},
   "outputs": [],
   "source": [
    "def genre_weekday(table, day, time1, time2):\n",
    "    genre_df = table[table['day'] == day]\n",
    "    genre_df = genre_df[genre_df['time'] > time1]\n",
    "    genre_df = genre_df[genre_df['time'] < time2]\n",
    "    genre_df_count = genre_df.groupby('genre')['user_id'].count()\n",
    "    genre_df_sorted = genre_df_count.sort_values(ascending=False)\n",
    "    return (genre_df_sorted.head(10))"
   ]
  },
  {
   "cell_type": "markdown",
   "metadata": {
    "id": "la2s2_PF_Zcu"
   },
   "source": [
    "Cравните результаты функции `genre_weekday()` для Москвы и Санкт-Петербурга в понедельник утром (с 7:00 до 11:00) и в пятницу вечером (с 17:00 до 23:00):"
   ]
  },
  {
   "cell_type": "code",
   "execution_count": 47,
   "metadata": {
    "id": "yz7itPUQ_Zcu"
   },
   "outputs": [
    {
     "data": {
      "text/plain": [
       "genre\n",
       "pop            781\n",
       "dance          549\n",
       "electronic     480\n",
       "rock           474\n",
       "hiphop         286\n",
       "ruspop         186\n",
       "world          181\n",
       "rusrap         175\n",
       "alternative    164\n",
       "unknown        161\n",
       "Name: user_id, dtype: int64"
      ]
     },
     "execution_count": 47,
     "metadata": {},
     "output_type": "execute_result"
    }
   ],
   "source": [
    "genre_weekday(moscow_general, 'Monday', '07:00', '11:00') # вызов функции для утра понедельника в Москве "
   ]
  },
  {
   "cell_type": "code",
   "execution_count": 48,
   "metadata": {
    "id": "kwUcHPdy_Zcu"
   },
   "outputs": [
    {
     "data": {
      "text/plain": [
       "genre\n",
       "pop            218\n",
       "dance          182\n",
       "rock           162\n",
       "electronic     147\n",
       "hiphop          80\n",
       "ruspop          64\n",
       "alternative     58\n",
       "rusrap          55\n",
       "jazz            44\n",
       "classical       40\n",
       "Name: user_id, dtype: int64"
      ]
     },
     "execution_count": 48,
     "metadata": {},
     "output_type": "execute_result"
    }
   ],
   "source": [
    "genre_weekday(spb_general, 'Monday', '07:00', '11:00') # вызов функции для утра понедельника в Петербурге (вместо df — таблица spb_general)"
   ]
  },
  {
   "cell_type": "code",
   "execution_count": 49,
   "metadata": {
    "id": "EzXVRE1o_Zcu"
   },
   "outputs": [
    {
     "data": {
      "text/plain": [
       "genre\n",
       "pop            713\n",
       "rock           517\n",
       "dance          495\n",
       "electronic     482\n",
       "hiphop         273\n",
       "world          208\n",
       "ruspop         170\n",
       "alternative    163\n",
       "classical      163\n",
       "rusrap         142\n",
       "Name: user_id, dtype: int64"
      ]
     },
     "execution_count": 49,
     "metadata": {},
     "output_type": "execute_result"
    }
   ],
   "source": [
    "genre_weekday(moscow_general, 'Friday', '17:00', '23:00')# вызов функции для вечера пятницы в Москве"
   ]
  },
  {
   "cell_type": "code",
   "execution_count": 50,
   "metadata": {
    "id": "JZaEKu5v_Zcu"
   },
   "outputs": [
    {
     "data": {
      "text/plain": [
       "genre\n",
       "pop            256\n",
       "rock           216\n",
       "electronic     216\n",
       "dance          210\n",
       "hiphop          97\n",
       "alternative     63\n",
       "jazz            61\n",
       "classical       60\n",
       "rusrap          59\n",
       "world           54\n",
       "Name: user_id, dtype: int64"
      ]
     },
     "execution_count": 50,
     "metadata": {},
     "output_type": "execute_result"
    }
   ],
   "source": [
    "genre_weekday(spb_general, 'Friday', '17:00', '23:00')# вызов функции для вечера пятницы в Петербурге"
   ]
  },
  {
   "cell_type": "markdown",
   "metadata": {
    "id": "wrCe4MNX_Zcu"
   },
   "source": [
    "**Выводы**\n",
    "\n",
    "Если сравнить топ-10 жанров в понедельник утром, можно сделать такие выводы:\n",
    "\n",
    "1. В Москве и Петербурге слушают похожую музыку. Единственное отличие — в московский рейтинг вошёл жанр “world”, а в петербургский — джаз и классика.\n",
    "\n",
    "2. В Москве пропущенных значений оказалось так много, что значение `'unknown'` заняло десятое место среди самых популярных жанров. Значит, пропущенные значения занимают существенную долю в данных и угрожают достоверности исследования.\n",
    "\n",
    "Вечер пятницы не меняет эту картину. Некоторые жанры поднимаются немного выше, другие спускаются, но в целом топ-10 остаётся тем же самым.\n",
    "\n",
    "Таким образом, вторая гипотеза подтвердилась лишь частично:\n",
    "* Пользователи слушают похожую музыку в начале недели и в конце.\n",
    "* Разница между Москвой и Петербургом не слишком выражена. В Москве чаще слушают русскую популярную музыку, в Петербурге — джаз.\n",
    "\n",
    "Однако пропуски в данных ставят под сомнение этот результат. В Москве их так много, что рейтинг топ-10 мог бы выглядеть иначе, если бы не утерянные  данные о жанрах."
   ]
  },
  {
   "cell_type": "markdown",
   "metadata": {
    "id": "JolODAqr_Zcu"
   },
   "source": [
    "### Жанровые предпочтения в Москве и Петербурге\n",
    "\n",
    "Гипотеза: Петербург — столица рэпа, музыку этого жанра там слушают чаще, чем в Москве.  А Москва — город контрастов, в котором, тем не менее, преобладает поп-музыка."
   ]
  },
  {
   "cell_type": "markdown",
   "metadata": {
    "id": "DlegSvaT_Zcu"
   },
   "source": [
    "Сгруппируйте таблицу `moscow_general` по жанру и посчитайте прослушивания треков каждого жанра методом `count()`. Затем отсортируйте результат в порядке убывания и сохраните его в таблице `moscow_genres`."
   ]
  },
  {
   "cell_type": "code",
   "execution_count": 51,
   "metadata": {
    "id": "r19lIPke_Zcu"
   },
   "outputs": [],
   "source": [
    "moscow_genres = moscow_general.groupby('genre')['genre'].count().sort_values(ascending=False)"
   ]
  },
  {
   "cell_type": "markdown",
   "metadata": {
    "id": "6kMuomxTiIr8"
   },
   "source": [
    "Выведите на экран первые десять строк `moscow_genres`:"
   ]
  },
  {
   "cell_type": "code",
   "execution_count": 52,
   "metadata": {
    "id": "WhCSooF8_Zcv"
   },
   "outputs": [
    {
     "data": {
      "text/plain": [
       "genre\n",
       "pop            5892\n",
       "dance          4435\n",
       "rock           3965\n",
       "electronic     3786\n",
       "hiphop         2096\n",
       "classical      1616\n",
       "world          1432\n",
       "alternative    1379\n",
       "ruspop         1372\n",
       "rusrap         1161\n",
       "Name: genre, dtype: int64"
      ]
     },
     "metadata": {},
     "output_type": "display_data"
    }
   ],
   "source": [
    "display(moscow_genres.head(10))"
   ]
  },
  {
   "cell_type": "markdown",
   "metadata": {
    "id": "cnPG2vnN_Zcv"
   },
   "source": [
    "Теперь повторите то же и для Петербурга.\n",
    "\n",
    "Сгруппируйте таблицу `spb_general` по жанру. Посчитайте прослушивания треков каждого жанра. Результат отсортируйте в порядке убывания и сохраните в таблице `spb_genres`:\n"
   ]
  },
  {
   "cell_type": "code",
   "execution_count": 53,
   "metadata": {
    "id": "gluLIpE7_Zcv"
   },
   "outputs": [],
   "source": [
    "spb_genres = spb_general.groupby('genre')['genre'].count().sort_values(ascending=False)"
   ]
  },
  {
   "cell_type": "markdown",
   "metadata": {
    "id": "5Doha_ODgyQ8"
   },
   "source": [
    "Выведите на экран первые десять строк `spb_genres`:"
   ]
  },
  {
   "cell_type": "code",
   "execution_count": 54,
   "metadata": {
    "id": "uaGJHjVU_Zcv"
   },
   "outputs": [
    {
     "data": {
      "text/plain": [
       "genre\n",
       "pop            2431\n",
       "dance          1932\n",
       "rock           1879\n",
       "electronic     1736\n",
       "hiphop          960\n",
       "alternative     649\n",
       "classical       646\n",
       "rusrap          564\n",
       "ruspop          538\n",
       "world           515\n",
       "Name: genre, dtype: int64"
      ]
     },
     "metadata": {},
     "output_type": "display_data"
    }
   ],
   "source": [
    "display(spb_genres.head(10))"
   ]
  },
  {
   "cell_type": "markdown",
   "metadata": {
    "id": "RY51YJYu_Zcv"
   },
   "source": [
    "**Выводы**"
   ]
  },
  {
   "cell_type": "markdown",
   "metadata": {
    "id": "nVhnJEm__Zcv"
   },
   "source": [
    "Гипотеза частично подтвердилась:\n",
    "* Поп-музыка — самый популярный жанр в Москве, как и предполагала гипотеза. Более того, в топ-10 жанров встречается близкий жанр — русская популярная музыка.\n",
    "* Вопреки ожиданиям, рэп одинаково популярен в Москве и Петербурге. \n"
   ]
  },
  {
   "cell_type": "markdown",
   "metadata": {
    "id": "ykKQ0N65_Zcv"
   },
   "source": [
    "## Итоги исследования"
   ]
  },
  {
   "cell_type": "markdown",
   "metadata": {
    "id": "tjUwbHb3_Zcv"
   },
   "source": [
    "Вы проверили три гипотезы и установили:\n",
    "\n",
    "1. День недели по-разному влияет на активность пользователей в Москве и Петербурге. \n",
    "\n",
    "Первая гипотеза полностью подтвердилась.\n",
    "\n",
    "2. Музыкальные предпочтения не сильно меняются в течение недели — будь то Москва или Петербург. Небольшие различия заметны в начале недели, по понедельникам:\n",
    "* в Москве слушают музыку жанра “world”,\n",
    "* в Петербурге — джаз и классику.\n",
    "\n",
    "Таким образом, вторая гипотеза подтвердилась лишь отчасти. Этот результат мог оказаться иным, если бы не пропуски в данных.\n",
    "\n",
    "3. Во вкусах пользователей Москвы и Петербурга больше общего чем различий. Вопреки ожиданиям, предпочтения жанров в Петербурге напоминают московские.\n",
    "\n",
    "Третья гипотеза не подтвердилась. Если различия в предпочтениях и существуют, на основной массе пользователей они незаметны.\n",
    "\n",
    "**На практике исследования содержат проверки статистических гипотез.**\n",
    "Из данных одного сервиса не всегда можно сделать вывод о всех жителях города.\n",
    "Проверки статистических гипотез покажут, насколько они достоверны, исходя из имеющихся данных. \n",
    "С методами проверок гипотез вы ещё познакомитесь в следующих темах."
   ]
  }
 ],
 "metadata": {
  "ExecuteTimeLog": [
   {
    "duration": 362,
    "start_time": "2022-02-12T17:06:59.845Z"
   },
   {
    "duration": 266,
    "start_time": "2022-02-12T17:07:18.629Z"
   },
   {
    "duration": 294,
    "start_time": "2022-02-12T17:07:43.419Z"
   },
   {
    "duration": 241,
    "start_time": "2022-02-12T17:07:53.423Z"
   },
   {
    "duration": 239,
    "start_time": "2022-02-12T17:08:36.234Z"
   },
   {
    "duration": 256,
    "start_time": "2022-02-12T17:08:42.563Z"
   },
   {
    "duration": 264,
    "start_time": "2022-02-12T17:09:16.281Z"
   },
   {
    "duration": 254,
    "start_time": "2022-02-12T17:09:33.465Z"
   },
   {
    "duration": 309,
    "start_time": "2022-02-12T17:14:23.631Z"
   },
   {
    "duration": 253,
    "start_time": "2022-02-12T17:16:38.675Z"
   },
   {
    "duration": 3,
    "start_time": "2022-02-12T17:59:17.254Z"
   },
   {
    "duration": 180,
    "start_time": "2022-02-12T17:59:18.682Z"
   },
   {
    "duration": 16,
    "start_time": "2022-02-12T17:59:23.487Z"
   },
   {
    "duration": 32,
    "start_time": "2022-02-12T17:59:28.034Z"
   },
   {
    "duration": 4,
    "start_time": "2022-02-12T18:51:14.349Z"
   },
   {
    "duration": 7,
    "start_time": "2022-02-12T18:51:46.065Z"
   },
   {
    "duration": 5,
    "start_time": "2022-02-12T18:57:31.020Z"
   },
   {
    "duration": 277,
    "start_time": "2022-02-12T18:58:14.023Z"
   },
   {
    "duration": 7,
    "start_time": "2022-02-12T18:58:30.068Z"
   },
   {
    "duration": 130,
    "start_time": "2022-02-12T18:59:10.676Z"
   },
   {
    "duration": 134,
    "start_time": "2022-02-12T18:59:21.839Z"
   },
   {
    "duration": 99,
    "start_time": "2022-02-12T18:59:33.232Z"
   },
   {
    "duration": 7,
    "start_time": "2022-02-12T18:59:54.591Z"
   },
   {
    "duration": 114,
    "start_time": "2022-02-12T19:00:40.817Z"
   },
   {
    "duration": 83,
    "start_time": "2022-02-12T19:00:53.722Z"
   },
   {
    "duration": 86,
    "start_time": "2022-02-12T19:00:59.635Z"
   },
   {
    "duration": 671,
    "start_time": "2022-02-12T19:01:23.079Z"
   },
   {
    "duration": 1904,
    "start_time": "2022-02-12T19:04:35.158Z"
   },
   {
    "duration": 1729,
    "start_time": "2022-02-12T19:06:22.760Z"
   },
   {
    "duration": 1864,
    "start_time": "2022-02-12T19:07:06.533Z"
   },
   {
    "duration": 6,
    "start_time": "2022-02-12T19:09:27.482Z"
   },
   {
    "duration": 1895,
    "start_time": "2022-02-12T19:09:30.401Z"
   },
   {
    "duration": 2395,
    "start_time": "2022-02-12T19:09:44.064Z"
   },
   {
    "duration": 304,
    "start_time": "2022-02-12T19:09:53.595Z"
   },
   {
    "duration": 26,
    "start_time": "2022-02-12T19:12:20.413Z"
   },
   {
    "duration": 29,
    "start_time": "2022-02-12T19:12:35.726Z"
   },
   {
    "duration": 6,
    "start_time": "2022-02-12T19:12:39.019Z"
   },
   {
    "duration": 6,
    "start_time": "2022-02-12T19:12:54.632Z"
   },
   {
    "duration": 670,
    "start_time": "2022-02-12T19:14:10.827Z"
   },
   {
    "duration": 24,
    "start_time": "2022-02-12T19:14:41.330Z"
   },
   {
    "duration": 9,
    "start_time": "2022-02-12T19:14:48.170Z"
   },
   {
    "duration": 515,
    "start_time": "2022-02-12T19:18:07.139Z"
   },
   {
    "duration": 313,
    "start_time": "2022-02-12T19:18:42.241Z"
   },
   {
    "duration": 247,
    "start_time": "2022-02-12T19:18:48.547Z"
   },
   {
    "duration": 251,
    "start_time": "2022-02-12T19:19:22.198Z"
   },
   {
    "duration": 266,
    "start_time": "2022-02-12T19:19:24.630Z"
   },
   {
    "duration": 259,
    "start_time": "2022-02-12T19:19:37.215Z"
   },
   {
    "duration": 245,
    "start_time": "2022-02-12T19:19:54.645Z"
   },
   {
    "duration": 960,
    "start_time": "2022-02-12T19:21:24.483Z"
   },
   {
    "duration": 36,
    "start_time": "2022-02-12T19:22:22.814Z"
   },
   {
    "duration": 31,
    "start_time": "2022-02-12T19:22:35.864Z"
   },
   {
    "duration": 6,
    "start_time": "2022-02-12T19:22:41.242Z"
   },
   {
    "duration": 32,
    "start_time": "2022-02-12T19:22:43.808Z"
   },
   {
    "duration": 31,
    "start_time": "2022-02-12T19:23:19.253Z"
   },
   {
    "duration": 7,
    "start_time": "2022-02-12T19:23:21.119Z"
   },
   {
    "duration": 51,
    "start_time": "2022-02-12T19:23:23.456Z"
   },
   {
    "duration": 5,
    "start_time": "2022-02-12T19:26:28.291Z"
   },
   {
    "duration": 4,
    "start_time": "2022-02-12T19:26:33.836Z"
   },
   {
    "duration": 32,
    "start_time": "2022-02-12T19:26:48.855Z"
   },
   {
    "duration": 30,
    "start_time": "2022-02-12T19:27:04.038Z"
   },
   {
    "duration": 5,
    "start_time": "2022-02-12T19:27:06.199Z"
   },
   {
    "duration": 31,
    "start_time": "2022-02-12T19:27:08.711Z"
   },
   {
    "duration": 82,
    "start_time": "2022-02-12T19:28:49.049Z"
   },
   {
    "duration": 85,
    "start_time": "2022-02-12T19:28:56.986Z"
   },
   {
    "duration": 34,
    "start_time": "2022-02-12T19:29:03.440Z"
   },
   {
    "duration": 34,
    "start_time": "2022-02-12T19:29:07.892Z"
   },
   {
    "duration": 6,
    "start_time": "2022-02-12T19:31:30.261Z"
   },
   {
    "duration": 30,
    "start_time": "2022-02-12T19:31:31.814Z"
   },
   {
    "duration": 5,
    "start_time": "2022-02-12T19:31:36.918Z"
   },
   {
    "duration": 32,
    "start_time": "2022-02-12T19:31:38.330Z"
   },
   {
    "duration": 750,
    "start_time": "2022-02-12T19:31:56.766Z"
   },
   {
    "duration": 183,
    "start_time": "2022-02-12T19:31:57.771Z"
   },
   {
    "duration": 29,
    "start_time": "2022-02-12T19:31:59.154Z"
   },
   {
    "duration": 36,
    "start_time": "2022-02-12T19:32:03.750Z"
   },
   {
    "duration": 7,
    "start_time": "2022-02-12T19:32:07.670Z"
   },
   {
    "duration": 32,
    "start_time": "2022-02-12T19:32:09.467Z"
   },
   {
    "duration": 6,
    "start_time": "2022-02-12T19:32:10.487Z"
   },
   {
    "duration": 31,
    "start_time": "2022-02-12T19:32:12.077Z"
   },
   {
    "duration": 5,
    "start_time": "2022-02-12T19:32:14.504Z"
   },
   {
    "duration": 33,
    "start_time": "2022-02-12T19:32:15.607Z"
   },
   {
    "duration": 5,
    "start_time": "2022-02-12T19:33:54.789Z"
   },
   {
    "duration": 32,
    "start_time": "2022-02-12T19:33:56.146Z"
   },
   {
    "duration": 4,
    "start_time": "2022-02-12T19:35:19.304Z"
   },
   {
    "duration": 32,
    "start_time": "2022-02-12T19:35:21.077Z"
   },
   {
    "duration": 5,
    "start_time": "2022-02-12T19:35:29.777Z"
   },
   {
    "duration": 31,
    "start_time": "2022-02-12T19:35:30.894Z"
   },
   {
    "duration": 5,
    "start_time": "2022-02-12T19:35:32.785Z"
   },
   {
    "duration": 31,
    "start_time": "2022-02-12T19:35:34.575Z"
   },
   {
    "duration": 5,
    "start_time": "2022-02-12T19:38:54.470Z"
   },
   {
    "duration": 30,
    "start_time": "2022-02-12T19:38:55.698Z"
   },
   {
    "duration": 55,
    "start_time": "2022-02-12T19:38:58.309Z"
   },
   {
    "duration": 30,
    "start_time": "2022-02-12T19:38:59.332Z"
   },
   {
    "duration": 93,
    "start_time": "2022-02-12T19:51:44.200Z"
   },
   {
    "duration": 86,
    "start_time": "2022-02-12T19:51:52.149Z"
   },
   {
    "duration": 104,
    "start_time": "2022-02-12T19:52:43.142Z"
   },
   {
    "duration": 81,
    "start_time": "2022-02-12T19:52:57.466Z"
   },
   {
    "duration": 17,
    "start_time": "2022-02-12T19:55:50.752Z"
   },
   {
    "duration": 91,
    "start_time": "2022-02-12T20:05:50.496Z"
   },
   {
    "duration": 4,
    "start_time": "2022-02-12T20:05:57.228Z"
   },
   {
    "duration": 5,
    "start_time": "2022-02-12T20:07:04.527Z"
   },
   {
    "duration": 3,
    "start_time": "2022-02-12T20:07:05.514Z"
   },
   {
    "duration": 17,
    "start_time": "2022-02-12T20:07:06.996Z"
   },
   {
    "duration": 5,
    "start_time": "2022-02-12T20:08:26.522Z"
   },
   {
    "duration": 14,
    "start_time": "2022-02-12T20:08:27.623Z"
   },
   {
    "duration": 324,
    "start_time": "2022-02-12T20:09:24.810Z"
   },
   {
    "duration": 763,
    "start_time": "2022-02-12T20:09:36.791Z"
   },
   {
    "duration": 210,
    "start_time": "2022-02-12T20:09:37.736Z"
   },
   {
    "duration": 27,
    "start_time": "2022-02-12T20:09:38.719Z"
   },
   {
    "duration": 33,
    "start_time": "2022-02-12T20:09:40.039Z"
   },
   {
    "duration": 6,
    "start_time": "2022-02-12T20:09:42.765Z"
   },
   {
    "duration": 27,
    "start_time": "2022-02-12T20:09:43.854Z"
   },
   {
    "duration": 6,
    "start_time": "2022-02-12T20:09:44.673Z"
   },
   {
    "duration": 30,
    "start_time": "2022-02-12T20:09:45.657Z"
   },
   {
    "duration": 58,
    "start_time": "2022-02-12T20:09:47.171Z"
   },
   {
    "duration": 31,
    "start_time": "2022-02-12T20:09:48.056Z"
   },
   {
    "duration": 83,
    "start_time": "2022-02-12T20:09:49.148Z"
   },
   {
    "duration": 104,
    "start_time": "2022-02-12T20:09:50.194Z"
   },
   {
    "duration": 81,
    "start_time": "2022-02-12T20:09:51.124Z"
   },
   {
    "duration": 14,
    "start_time": "2022-02-12T20:09:52.658Z"
   },
   {
    "duration": 4,
    "start_time": "2022-02-12T20:09:54.353Z"
   },
   {
    "duration": 5,
    "start_time": "2022-02-12T20:09:55.246Z"
   },
   {
    "duration": 15,
    "start_time": "2022-02-12T20:09:56.294Z"
   },
   {
    "duration": 4,
    "start_time": "2022-02-12T20:12:57.847Z"
   },
   {
    "duration": 16,
    "start_time": "2022-02-12T20:16:19.436Z"
   },
   {
    "duration": 16,
    "start_time": "2022-02-12T20:16:21.538Z"
   },
   {
    "duration": 17,
    "start_time": "2022-02-12T20:27:39.484Z"
   },
   {
    "duration": 32,
    "start_time": "2022-02-12T20:32:23.529Z"
   },
   {
    "duration": 5,
    "start_time": "2022-02-12T21:04:55.558Z"
   },
   {
    "duration": 5,
    "start_time": "2022-02-12T21:10:25.789Z"
   },
   {
    "duration": 286,
    "start_time": "2022-02-12T21:10:26.970Z"
   },
   {
    "duration": 275,
    "start_time": "2022-02-12T21:10:27.444Z"
   },
   {
    "duration": 5,
    "start_time": "2022-02-12T21:10:38.605Z"
   },
   {
    "duration": 531,
    "start_time": "2022-02-12T21:10:39.497Z"
   },
   {
    "duration": 526,
    "start_time": "2022-02-12T21:10:40.222Z"
   },
   {
    "duration": 4,
    "start_time": "2022-02-12T21:11:08.449Z"
   },
   {
    "duration": 529,
    "start_time": "2022-02-12T21:11:09.336Z"
   },
   {
    "duration": 15,
    "start_time": "2022-02-12T21:11:22.252Z"
   },
   {
    "duration": 29,
    "start_time": "2022-02-12T21:11:23.839Z"
   },
   {
    "duration": 4,
    "start_time": "2022-02-12T21:11:27.477Z"
   },
   {
    "duration": 523,
    "start_time": "2022-02-12T21:11:29.084Z"
   },
   {
    "duration": 372,
    "start_time": "2022-02-12T21:11:47.971Z"
   },
   {
    "duration": 256,
    "start_time": "2022-02-12T21:11:49.345Z"
   },
   {
    "duration": 790,
    "start_time": "2022-02-12T21:12:05.241Z"
   },
   {
    "duration": 191,
    "start_time": "2022-02-12T21:12:06.262Z"
   },
   {
    "duration": 28,
    "start_time": "2022-02-12T21:12:06.913Z"
   },
   {
    "duration": 33,
    "start_time": "2022-02-12T21:12:07.294Z"
   },
   {
    "duration": 6,
    "start_time": "2022-02-12T21:12:08.250Z"
   },
   {
    "duration": 34,
    "start_time": "2022-02-12T21:12:08.649Z"
   },
   {
    "duration": 7,
    "start_time": "2022-02-12T21:12:09.054Z"
   },
   {
    "duration": 51,
    "start_time": "2022-02-12T21:12:09.463Z"
   },
   {
    "duration": 91,
    "start_time": "2022-02-12T21:12:10.063Z"
   },
   {
    "duration": 73,
    "start_time": "2022-02-12T21:12:10.485Z"
   },
   {
    "duration": 85,
    "start_time": "2022-02-12T21:12:11.791Z"
   },
   {
    "duration": 110,
    "start_time": "2022-02-12T21:12:11.878Z"
   },
   {
    "duration": 80,
    "start_time": "2022-02-12T21:12:12.039Z"
   },
   {
    "duration": 21,
    "start_time": "2022-02-12T21:12:14.507Z"
   },
   {
    "duration": 5,
    "start_time": "2022-02-12T21:12:15.262Z"
   },
   {
    "duration": 16,
    "start_time": "2022-02-12T21:12:15.955Z"
   },
   {
    "duration": 14,
    "start_time": "2022-02-12T21:12:17.302Z"
   },
   {
    "duration": 15,
    "start_time": "2022-02-12T21:12:19.567Z"
   },
   {
    "duration": 31,
    "start_time": "2022-02-12T21:12:20.462Z"
   },
   {
    "duration": 4,
    "start_time": "2022-02-12T21:12:21.672Z"
   },
   {
    "duration": 680,
    "start_time": "2022-02-12T21:12:22.640Z"
   },
   {
    "duration": 96,
    "start_time": "2022-02-12T21:12:23.227Z"
   },
   {
    "duration": 434,
    "start_time": "2022-02-12T21:12:35.806Z"
   },
   {
    "duration": 5,
    "start_time": "2022-02-12T21:12:44.234Z"
   },
   {
    "duration": 524,
    "start_time": "2022-02-12T21:12:45.661Z"
   },
   {
    "duration": 80,
    "start_time": "2022-02-12T21:13:46.892Z"
   },
   {
    "duration": 546,
    "start_time": "2022-02-12T21:13:47.837Z"
   },
   {
    "duration": 85,
    "start_time": "2022-02-12T21:15:28.110Z"
   },
   {
    "duration": 85,
    "start_time": "2022-02-12T21:15:38.874Z"
   },
   {
    "duration": 95,
    "start_time": "2022-02-12T21:16:32.163Z"
   },
   {
    "duration": 76,
    "start_time": "2022-02-12T21:17:03.592Z"
   },
   {
    "duration": 91,
    "start_time": "2022-02-12T21:17:21.396Z"
   },
   {
    "duration": 87,
    "start_time": "2022-02-12T21:17:30.576Z"
   },
   {
    "duration": 90,
    "start_time": "2022-02-12T21:17:34.591Z"
   },
   {
    "duration": 5,
    "start_time": "2022-02-12T21:18:19.063Z"
   },
   {
    "duration": 27,
    "start_time": "2022-02-12T21:18:21.165Z"
   },
   {
    "duration": 24,
    "start_time": "2022-02-12T21:18:26.257Z"
   },
   {
    "duration": 27,
    "start_time": "2022-02-12T21:18:26.878Z"
   },
   {
    "duration": 24,
    "start_time": "2022-02-12T21:18:27.398Z"
   },
   {
    "duration": 26,
    "start_time": "2022-02-12T21:18:28.242Z"
   },
   {
    "duration": 24,
    "start_time": "2022-02-12T21:18:29.957Z"
   },
   {
    "duration": 93,
    "start_time": "2022-02-12T21:19:09.063Z"
   },
   {
    "duration": 5,
    "start_time": "2022-02-12T21:19:51.510Z"
   },
   {
    "duration": 33,
    "start_time": "2022-02-12T21:19:52.926Z"
   },
   {
    "duration": 26,
    "start_time": "2022-02-12T21:19:53.809Z"
   },
   {
    "duration": 31,
    "start_time": "2022-02-12T21:19:54.281Z"
   },
   {
    "duration": 28,
    "start_time": "2022-02-12T21:19:54.793Z"
   },
   {
    "duration": 31,
    "start_time": "2022-02-12T21:19:55.235Z"
   },
   {
    "duration": 27,
    "start_time": "2022-02-12T21:19:55.925Z"
   },
   {
    "duration": 4,
    "start_time": "2022-02-12T21:24:05.089Z"
   },
   {
    "duration": 33,
    "start_time": "2022-02-12T21:24:05.878Z"
   },
   {
    "duration": 28,
    "start_time": "2022-02-12T21:24:06.222Z"
   },
   {
    "duration": 30,
    "start_time": "2022-02-12T21:24:06.711Z"
   },
   {
    "duration": 26,
    "start_time": "2022-02-12T21:24:07.141Z"
   },
   {
    "duration": 31,
    "start_time": "2022-02-12T21:24:07.640Z"
   },
   {
    "duration": 13,
    "start_time": "2022-02-12T21:27:06.863Z"
   },
   {
    "duration": 4,
    "start_time": "2022-02-12T21:28:00.141Z"
   },
   {
    "duration": 515,
    "start_time": "2022-02-12T21:28:01.480Z"
   },
   {
    "duration": 588,
    "start_time": "2022-02-12T21:28:02.197Z"
   },
   {
    "duration": 4,
    "start_time": "2022-02-12T21:29:09.077Z"
   },
   {
    "duration": 494,
    "start_time": "2022-02-12T21:29:09.999Z"
   },
   {
    "duration": 699,
    "start_time": "2022-02-12T21:29:53.812Z"
   },
   {
    "duration": 194,
    "start_time": "2022-02-12T21:29:54.514Z"
   },
   {
    "duration": 25,
    "start_time": "2022-02-12T21:29:54.711Z"
   },
   {
    "duration": 33,
    "start_time": "2022-02-12T21:29:54.966Z"
   },
   {
    "duration": 6,
    "start_time": "2022-02-12T21:29:55.957Z"
   },
   {
    "duration": 29,
    "start_time": "2022-02-12T21:29:56.344Z"
   },
   {
    "duration": 5,
    "start_time": "2022-02-12T21:29:56.749Z"
   },
   {
    "duration": 31,
    "start_time": "2022-02-12T21:29:57.160Z"
   },
   {
    "duration": 54,
    "start_time": "2022-02-12T21:29:57.775Z"
   },
   {
    "duration": 32,
    "start_time": "2022-02-12T21:29:58.164Z"
   },
   {
    "duration": 85,
    "start_time": "2022-02-12T21:29:58.577Z"
   },
   {
    "duration": 99,
    "start_time": "2022-02-12T21:29:59.256Z"
   },
   {
    "duration": 80,
    "start_time": "2022-02-12T21:29:59.672Z"
   },
   {
    "duration": 14,
    "start_time": "2022-02-12T21:30:00.779Z"
   },
   {
    "duration": 4,
    "start_time": "2022-02-12T21:30:01.231Z"
   },
   {
    "duration": 15,
    "start_time": "2022-02-12T21:30:01.645Z"
   },
   {
    "duration": 16,
    "start_time": "2022-02-12T21:30:02.055Z"
   },
   {
    "duration": 15,
    "start_time": "2022-02-12T21:30:03.730Z"
   },
   {
    "duration": 31,
    "start_time": "2022-02-12T21:30:04.333Z"
   },
   {
    "duration": 4,
    "start_time": "2022-02-12T21:30:05.688Z"
   },
   {
    "duration": 702,
    "start_time": "2022-02-12T21:30:07.333Z"
   },
   {
    "duration": 70,
    "start_time": "2022-02-12T21:30:07.969Z"
   },
   {
    "duration": 4,
    "start_time": "2022-02-12T21:30:33.391Z"
   },
   {
    "duration": 30,
    "start_time": "2022-02-12T21:30:34.422Z"
   },
   {
    "duration": 27,
    "start_time": "2022-02-12T21:30:35.640Z"
   },
   {
    "duration": 30,
    "start_time": "2022-02-12T21:30:36.126Z"
   },
   {
    "duration": 25,
    "start_time": "2022-02-12T21:30:36.746Z"
   },
   {
    "duration": 31,
    "start_time": "2022-02-12T21:30:37.374Z"
   },
   {
    "duration": 4,
    "start_time": "2022-02-12T21:30:46.739Z"
   },
   {
    "duration": 33,
    "start_time": "2022-02-12T21:30:47.717Z"
   },
   {
    "duration": 30,
    "start_time": "2022-02-12T21:30:48.597Z"
   },
   {
    "duration": 32,
    "start_time": "2022-02-12T21:30:49.257Z"
   },
   {
    "duration": 29,
    "start_time": "2022-02-12T21:30:50.213Z"
   },
   {
    "duration": 218,
    "start_time": "2022-02-12T21:31:43.959Z"
   },
   {
    "duration": 32,
    "start_time": "2022-02-12T21:31:44.651Z"
   },
   {
    "duration": 4,
    "start_time": "2022-02-12T21:31:58.784Z"
   },
   {
    "duration": 546,
    "start_time": "2022-02-12T21:32:00.417Z"
   },
   {
    "duration": 569,
    "start_time": "2022-02-12T21:32:01.215Z"
   },
   {
    "duration": 4,
    "start_time": "2022-02-12T21:33:02.606Z"
   },
   {
    "duration": 32,
    "start_time": "2022-02-12T21:33:07.984Z"
   },
   {
    "duration": 36,
    "start_time": "2022-02-12T21:33:08.604Z"
   },
   {
    "duration": 32,
    "start_time": "2022-02-12T21:33:09.207Z"
   },
   {
    "duration": 25,
    "start_time": "2022-02-12T21:33:09.802Z"
   },
   {
    "duration": 31,
    "start_time": "2022-02-12T21:33:10.292Z"
   },
   {
    "duration": 30,
    "start_time": "2022-02-12T21:33:10.879Z"
   },
   {
    "duration": 5,
    "start_time": "2022-02-12T21:35:16.041Z"
   },
   {
    "duration": 24,
    "start_time": "2022-02-12T21:35:17.432Z"
   },
   {
    "duration": 22,
    "start_time": "2022-02-12T21:35:18.223Z"
   },
   {
    "duration": 21,
    "start_time": "2022-02-12T21:35:18.855Z"
   },
   {
    "duration": 19,
    "start_time": "2022-02-12T21:35:19.403Z"
   },
   {
    "duration": 24,
    "start_time": "2022-02-12T21:35:19.920Z"
   },
   {
    "duration": 20,
    "start_time": "2022-02-12T21:35:20.462Z"
   },
   {
    "duration": 13,
    "start_time": "2022-02-12T21:35:23.078Z"
   },
   {
    "duration": 15,
    "start_time": "2022-02-12T21:39:59.920Z"
   },
   {
    "duration": 13,
    "start_time": "2022-02-12T21:40:00.573Z"
   },
   {
    "duration": 4,
    "start_time": "2022-02-12T21:53:08.119Z"
   },
   {
    "duration": 5,
    "start_time": "2022-02-12T21:56:38.614Z"
   },
   {
    "duration": 6761,
    "start_time": "2022-02-12T21:56:39.539Z"
   },
   {
    "duration": -35,
    "start_time": "2022-02-12T21:56:46.338Z"
   },
   {
    "duration": -40,
    "start_time": "2022-02-12T21:56:46.344Z"
   },
   {
    "duration": -43,
    "start_time": "2022-02-12T21:56:46.349Z"
   },
   {
    "duration": 12,
    "start_time": "2022-02-12T21:57:38.675Z"
   },
   {
    "duration": 5,
    "start_time": "2022-02-12T21:57:39.640Z"
   },
   {
    "duration": 6285,
    "start_time": "2022-02-12T21:57:41.278Z"
   },
   {
    "duration": -143,
    "start_time": "2022-02-12T21:57:47.709Z"
   },
   {
    "duration": -149,
    "start_time": "2022-02-12T21:57:47.716Z"
   },
   {
    "duration": -155,
    "start_time": "2022-02-12T21:57:47.723Z"
   },
   {
    "duration": 6,
    "start_time": "2022-02-12T21:59:39.272Z"
   },
   {
    "duration": 615,
    "start_time": "2022-02-12T21:59:41.102Z"
   },
   {
    "duration": 5,
    "start_time": "2022-02-12T21:59:52.226Z"
   },
   {
    "duration": 628,
    "start_time": "2022-02-12T21:59:53.499Z"
   },
   {
    "duration": 723,
    "start_time": "2022-02-12T22:03:27.604Z"
   },
   {
    "duration": 187,
    "start_time": "2022-02-12T22:03:28.330Z"
   },
   {
    "duration": 26,
    "start_time": "2022-02-12T22:03:28.520Z"
   },
   {
    "duration": 33,
    "start_time": "2022-02-12T22:03:28.727Z"
   },
   {
    "duration": 6,
    "start_time": "2022-02-12T22:03:29.692Z"
   },
   {
    "duration": 29,
    "start_time": "2022-02-12T22:03:30.095Z"
   },
   {
    "duration": 5,
    "start_time": "2022-02-12T22:03:30.483Z"
   },
   {
    "duration": 31,
    "start_time": "2022-02-12T22:03:30.860Z"
   },
   {
    "duration": 61,
    "start_time": "2022-02-12T22:03:31.455Z"
   },
   {
    "duration": 31,
    "start_time": "2022-02-12T22:03:31.857Z"
   },
   {
    "duration": 86,
    "start_time": "2022-02-12T22:03:32.269Z"
   },
   {
    "duration": 93,
    "start_time": "2022-02-12T22:03:32.673Z"
   },
   {
    "duration": 83,
    "start_time": "2022-02-12T22:03:33.320Z"
   },
   {
    "duration": 15,
    "start_time": "2022-02-12T22:03:34.505Z"
   },
   {
    "duration": 4,
    "start_time": "2022-02-12T22:03:34.922Z"
   },
   {
    "duration": 15,
    "start_time": "2022-02-12T22:03:35.335Z"
   },
   {
    "duration": 14,
    "start_time": "2022-02-12T22:03:36.326Z"
   },
   {
    "duration": 15,
    "start_time": "2022-02-12T22:03:38.562Z"
   },
   {
    "duration": 31,
    "start_time": "2022-02-12T22:03:40.648Z"
   },
   {
    "duration": 5,
    "start_time": "2022-02-12T22:03:42.525Z"
   },
   {
    "duration": 24,
    "start_time": "2022-02-12T22:03:44.061Z"
   },
   {
    "duration": 22,
    "start_time": "2022-02-12T22:03:45.285Z"
   },
   {
    "duration": 20,
    "start_time": "2022-02-12T22:03:45.721Z"
   },
   {
    "duration": 21,
    "start_time": "2022-02-12T22:03:46.285Z"
   },
   {
    "duration": 25,
    "start_time": "2022-02-12T22:03:46.750Z"
   },
   {
    "duration": 23,
    "start_time": "2022-02-12T22:03:47.455Z"
   },
   {
    "duration": 14,
    "start_time": "2022-02-12T22:03:49.439Z"
   },
   {
    "duration": 17,
    "start_time": "2022-02-12T22:03:53.548Z"
   },
   {
    "duration": 14,
    "start_time": "2022-02-12T22:03:54.080Z"
   },
   {
    "duration": 5,
    "start_time": "2022-02-12T22:03:56.970Z"
   },
   {
    "duration": 614,
    "start_time": "2022-02-12T22:03:59.151Z"
   },
   {
    "duration": 6,
    "start_time": "2022-02-12T22:04:35.055Z"
   },
   {
    "duration": 515,
    "start_time": "2022-02-12T22:04:36.216Z"
   },
   {
    "duration": 5,
    "start_time": "2022-02-12T22:05:28.205Z"
   },
   {
    "duration": 522,
    "start_time": "2022-02-12T22:05:29.305Z"
   },
   {
    "duration": 5,
    "start_time": "2022-02-12T22:06:26.539Z"
   },
   {
    "duration": 39,
    "start_time": "2022-02-12T22:06:27.564Z"
   },
   {
    "duration": 26,
    "start_time": "2022-02-12T22:06:31.932Z"
   },
   {
    "duration": 48,
    "start_time": "2022-02-12T22:06:33.094Z"
   },
   {
    "duration": 26,
    "start_time": "2022-02-12T22:06:33.934Z"
   },
   {
    "duration": 31,
    "start_time": "2022-02-12T22:19:34.035Z"
   },
   {
    "duration": 14,
    "start_time": "2022-02-12T22:19:35.511Z"
   },
   {
    "duration": 20,
    "start_time": "2022-02-12T22:19:42.510Z"
   },
   {
    "duration": 14,
    "start_time": "2022-02-12T22:19:43.568Z"
   },
   {
    "duration": 32,
    "start_time": "2022-02-12T22:20:09.101Z"
   },
   {
    "duration": 13,
    "start_time": "2022-02-12T22:20:10.032Z"
   },
   {
    "duration": 289,
    "start_time": "2022-02-12T22:23:14.729Z"
   },
   {
    "duration": 12,
    "start_time": "2022-02-12T22:23:17.244Z"
   },
   {
    "duration": 13,
    "start_time": "2022-02-12T22:23:31.294Z"
   },
   {
    "duration": 7,
    "start_time": "2022-02-12T22:23:32.680Z"
   },
   {
    "duration": 9,
    "start_time": "2022-02-12T22:24:00.559Z"
   },
   {
    "duration": 7,
    "start_time": "2022-02-12T22:24:01.833Z"
   },
   {
    "duration": 902,
    "start_time": "2022-02-12T22:56:16.946Z"
   },
   {
    "duration": 191,
    "start_time": "2022-02-12T22:56:18.135Z"
   },
   {
    "duration": 27,
    "start_time": "2022-02-12T22:56:19.782Z"
   },
   {
    "duration": 32,
    "start_time": "2022-02-12T22:56:21.550Z"
   },
   {
    "duration": 6,
    "start_time": "2022-02-12T22:56:25.993Z"
   },
   {
    "duration": 26,
    "start_time": "2022-02-12T22:56:27.681Z"
   },
   {
    "duration": 6,
    "start_time": "2022-02-12T22:56:28.852Z"
   },
   {
    "duration": 31,
    "start_time": "2022-02-12T22:56:30.405Z"
   },
   {
    "duration": 55,
    "start_time": "2022-02-12T22:56:35.487Z"
   },
   {
    "duration": 31,
    "start_time": "2022-02-12T22:56:41.123Z"
   },
   {
    "duration": 55,
    "start_time": "2022-02-12T22:56:47.828Z"
   },
   {
    "duration": 30,
    "start_time": "2022-02-12T22:56:51.441Z"
   },
   {
    "duration": 87,
    "start_time": "2022-02-12T22:56:55.736Z"
   },
   {
    "duration": 100,
    "start_time": "2022-02-12T22:56:56.978Z"
   },
   {
    "duration": 80,
    "start_time": "2022-02-12T22:56:59.129Z"
   },
   {
    "duration": 16,
    "start_time": "2022-02-12T22:57:02.655Z"
   },
   {
    "duration": 6,
    "start_time": "2022-02-20T06:13:29.502Z"
   },
   {
    "duration": 765,
    "start_time": "2022-02-22T17:55:33.024Z"
   },
   {
    "duration": 177,
    "start_time": "2022-02-22T17:55:34.788Z"
   },
   {
    "duration": 28,
    "start_time": "2022-02-22T17:55:35.612Z"
   },
   {
    "duration": 35,
    "start_time": "2022-02-22T17:55:35.968Z"
   },
   {
    "duration": 7,
    "start_time": "2022-02-22T17:55:37.146Z"
   },
   {
    "duration": 25,
    "start_time": "2022-02-22T17:55:38.611Z"
   },
   {
    "duration": 6,
    "start_time": "2022-02-22T17:55:39.998Z"
   },
   {
    "duration": 32,
    "start_time": "2022-02-22T17:55:40.479Z"
   },
   {
    "duration": 52,
    "start_time": "2022-02-22T17:55:43.197Z"
   },
   {
    "duration": 23,
    "start_time": "2022-02-22T17:55:46.147Z"
   },
   {
    "duration": 5,
    "start_time": "2022-02-22T18:22:25.415Z"
   },
   {
    "duration": 117,
    "start_time": "2022-02-22T18:22:27.221Z"
   },
   {
    "duration": 5,
    "start_time": "2022-02-22T18:22:31.763Z"
   },
   {
    "duration": 3,
    "start_time": "2022-02-22T18:30:15.071Z"
   },
   {
    "duration": 188,
    "start_time": "2022-02-22T18:30:15.980Z"
   },
   {
    "duration": 17,
    "start_time": "2022-02-22T18:30:16.569Z"
   },
   {
    "duration": 35,
    "start_time": "2022-02-22T18:30:16.985Z"
   },
   {
    "duration": 6,
    "start_time": "2022-02-22T18:30:18.141Z"
   },
   {
    "duration": 23,
    "start_time": "2022-02-22T18:30:18.935Z"
   },
   {
    "duration": 6,
    "start_time": "2022-02-22T18:30:19.836Z"
   },
   {
    "duration": 31,
    "start_time": "2022-02-22T18:30:20.230Z"
   },
   {
    "duration": 53,
    "start_time": "2022-02-22T18:30:21.030Z"
   },
   {
    "duration": 22,
    "start_time": "2022-02-22T18:30:21.638Z"
   },
   {
    "duration": 23,
    "start_time": "2022-02-22T18:30:42.854Z"
   },
   {
    "duration": 31,
    "start_time": "2022-02-22T18:30:46.372Z"
   },
   {
    "duration": 84,
    "start_time": "2022-02-22T18:30:50.151Z"
   },
   {
    "duration": 90,
    "start_time": "2022-02-22T18:30:51.288Z"
   },
   {
    "duration": 82,
    "start_time": "2022-02-22T18:30:52.299Z"
   },
   {
    "duration": 16,
    "start_time": "2022-02-22T18:30:54.226Z"
   },
   {
    "duration": 5,
    "start_time": "2022-02-22T18:30:55.192Z"
   },
   {
    "duration": 16,
    "start_time": "2022-02-22T18:30:55.861Z"
   },
   {
    "duration": 15,
    "start_time": "2022-02-22T18:30:56.823Z"
   },
   {
    "duration": 16,
    "start_time": "2022-02-22T18:30:58.381Z"
   },
   {
    "duration": 31,
    "start_time": "2022-02-22T18:30:58.843Z"
   },
   {
    "duration": 5,
    "start_time": "2022-02-22T18:31:00.440Z"
   },
   {
    "duration": 22,
    "start_time": "2022-02-22T18:31:01.533Z"
   },
   {
    "duration": 21,
    "start_time": "2022-02-22T18:31:01.914Z"
   },
   {
    "duration": 22,
    "start_time": "2022-02-22T18:31:02.184Z"
   },
   {
    "duration": 22,
    "start_time": "2022-02-22T18:31:02.497Z"
   },
   {
    "duration": 23,
    "start_time": "2022-02-22T18:31:02.752Z"
   },
   {
    "duration": 21,
    "start_time": "2022-02-22T18:31:03.052Z"
   },
   {
    "duration": 14,
    "start_time": "2022-02-22T18:31:04.193Z"
   },
   {
    "duration": 16,
    "start_time": "2022-02-22T18:31:07.068Z"
   },
   {
    "duration": 18,
    "start_time": "2022-02-22T18:31:07.439Z"
   },
   {
    "duration": 6,
    "start_time": "2022-02-22T18:31:08.621Z"
   },
   {
    "duration": 5,
    "start_time": "2022-02-22T18:31:55.510Z"
   },
   {
    "duration": 26,
    "start_time": "2022-02-22T18:31:57.363Z"
   },
   {
    "duration": 17,
    "start_time": "2022-02-22T18:31:59.535Z"
   },
   {
    "duration": 24,
    "start_time": "2022-02-22T18:32:00.357Z"
   },
   {
    "duration": 17,
    "start_time": "2022-02-22T18:32:01.067Z"
   },
   {
    "duration": 12,
    "start_time": "2022-02-22T18:32:04.798Z"
   },
   {
    "duration": 7,
    "start_time": "2022-02-22T18:32:05.783Z"
   },
   {
    "duration": 9,
    "start_time": "2022-02-22T18:32:06.892Z"
   },
   {
    "duration": 7,
    "start_time": "2022-02-22T18:32:07.726Z"
   },
   {
    "duration": 186,
    "start_time": "2022-03-23T19:34:40.065Z"
   },
   {
    "duration": 3,
    "start_time": "2022-03-23T19:42:57.857Z"
   }
  ],
  "colab": {
   "collapsed_sections": [
    "E0vqbgi9ay0H",
    "VUC88oWjTJw2"
   ],
   "name": "yandex_music_project_2021.2.ipynb",
   "provenance": []
  },
  "kernelspec": {
   "display_name": "Python 3 (ipykernel)",
   "language": "python",
   "name": "python3"
  },
  "language_info": {
   "codemirror_mode": {
    "name": "ipython",
    "version": 3
   },
   "file_extension": ".py",
   "mimetype": "text/x-python",
   "name": "python",
   "nbconvert_exporter": "python",
   "pygments_lexer": "ipython3",
   "version": "3.9.7"
  },
  "toc": {
   "base_numbering": 1,
   "nav_menu": {},
   "number_sections": true,
   "sideBar": true,
   "skip_h1_title": true,
   "title_cell": "Table of Contents",
   "title_sidebar": "Contents",
   "toc_cell": false,
   "toc_position": {},
   "toc_section_display": true,
   "toc_window_display": true
  }
 },
 "nbformat": 4,
 "nbformat_minor": 1
}
