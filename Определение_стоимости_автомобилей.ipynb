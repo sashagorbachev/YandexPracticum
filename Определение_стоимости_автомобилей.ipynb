{
 "cells": [
  {
   "cell_type": "markdown",
   "metadata": {},
   "source": [
    "# Определение стоимости автомобилей"
   ]
  },
  {
   "cell_type": "markdown",
   "metadata": {},
   "source": [
    "Сервис по продаже автомобилей с пробегом «Не бит, не крашен» разрабатывает приложение для привлечения новых клиентов. В нём можно быстро узнать рыночную стоимость своего автомобиля. В вашем распоряжении исторические данные: технические характеристики, комплектации и цены автомобилей. Вам нужно построить модель для определения стоимости. \n",
    "\n",
    "Заказчику важны:\n",
    "\n",
    "- качество предсказания;\n",
    "- скорость предсказания;\n",
    "- время обучения."
   ]
  },
  {
   "cell_type": "markdown",
   "metadata": {},
   "source": [
    "Сервис по продаже автомобилей с пробегом «Не бит, не крашен» разрабатывает приложение для привлечения новых клиентов. В нём можно быстро узнать рыночную стоимость своего автомобиля. В вашем распоряжении исторические данные: технические характеристики, комплектации и цены автомобилей. Вам нужно построить модель для определения стоимости.\n",
    "\n",
    "Заказчику важны:\n",
    "\n",
    "качество предсказания;\n",
    "\n",
    "скорость предсказания;\n",
    "\n",
    "время обучения."
   ]
  },
  {
   "cell_type": "markdown",
   "metadata": {},
   "source": [
    "Инструкция по выполнению проекта\n",
    "\n",
    "1. Загрузите и подготовьте данные.\n",
    "\n",
    "2. Обучите разные модели с различными гиперпараметрами.\n",
    "\n",
    "3. Проанализируйте скорость работы и качество моделей.\n",
    "\n",
    "Примечания:\n",
    "\n",
    "Для оценки качества моделей применяйте метрику RMSE.\n",
    "Самостоятельно освойте библиотеку LightGBM и её средствами постройте модели градиентного бустинга.\n",
    "Время выполнения ячейки кода Jupyter Notebook можно получить специальной командой. Найдите её.\n",
    "Поскольку модель градиентного бустинга может обучаться долго, измените у неё только два-три параметра.\n",
    "Если перестанет работать Jupyter Notebook, удалите лишние переменные оператором del:\n",
    "Скопировать код: del features_train"
   ]
  },
  {
   "cell_type": "markdown",
   "metadata": {},
   "source": [
    "## Подготовка данных"
   ]
  },
  {
   "cell_type": "code",
   "execution_count": 38,
   "metadata": {},
   "outputs": [],
   "source": [
    "import numpy as np\n",
    "import pandas as pd\n",
    "import seaborn as sns\n",
    "import matplotlib.pyplot as plt\n",
    "import os\n",
    "import time\n",
    "from sklearn.metrics import r2_score\n",
    "from sklearn.linear_model import LinearRegression\n",
    "from sklearn.metrics import mean_squared_error\n",
    "import catboost as cb\n",
    "import xgboost as xgb\n",
    "import lightgbm as lgb\n",
    "from sklearn.base import BaseEstimator, TransformerMixin\n",
    "from sklearn.model_selection import train_test_split, GridSearchCV, KFold\n",
    "from lightgbm import LGBMRegressor\n",
    "import lightgbm as lgb\n",
    "from sklearn.pipeline import Pipeline\n",
    "from sklearn.metrics import mean_squared_error as mse\n",
    "from sklearn.preprocessing import OneHotEncoder, StandardScaler, LabelEncoder\n",
    "from sklearn.base import BaseEstimator\n",
    "from sklearn.linear_model import Lasso, Ridge\n",
    "from matplotlib import pyplot as plt\n",
    "from catboost import CatBoostRegressor, Pool\n",
    "from lightgbm import LGBMRegressor\n",
    "import lightgbm as lgb\n",
    "from sklearn.datasets import load_boston\n",
    "from sklearn.feature_selection import f_regression\n",
    "from sklearn.feature_selection import SelectKBest\n",
    "\n",
    "\n",
    "rnd_state = 12345\n",
    "data  = pd.read_csv('/datasets/autos.csv')\n"
   ]
  },
  {
   "cell_type": "code",
   "execution_count": 39,
   "metadata": {},
   "outputs": [
    {
     "data": {
      "text/html": [
       "<div>\n",
       "<style scoped>\n",
       "    .dataframe tbody tr th:only-of-type {\n",
       "        vertical-align: middle;\n",
       "    }\n",
       "\n",
       "    .dataframe tbody tr th {\n",
       "        vertical-align: top;\n",
       "    }\n",
       "\n",
       "    .dataframe thead th {\n",
       "        text-align: right;\n",
       "    }\n",
       "</style>\n",
       "<table border=\"1\" class=\"dataframe\">\n",
       "  <thead>\n",
       "    <tr style=\"text-align: right;\">\n",
       "      <th></th>\n",
       "      <th>DateCrawled</th>\n",
       "      <th>Price</th>\n",
       "      <th>VehicleType</th>\n",
       "      <th>RegistrationYear</th>\n",
       "      <th>Gearbox</th>\n",
       "      <th>Power</th>\n",
       "      <th>Model</th>\n",
       "      <th>Kilometer</th>\n",
       "      <th>RegistrationMonth</th>\n",
       "      <th>FuelType</th>\n",
       "      <th>Brand</th>\n",
       "      <th>NotRepaired</th>\n",
       "      <th>DateCreated</th>\n",
       "      <th>NumberOfPictures</th>\n",
       "      <th>PostalCode</th>\n",
       "      <th>LastSeen</th>\n",
       "    </tr>\n",
       "  </thead>\n",
       "  <tbody>\n",
       "    <tr>\n",
       "      <th>0</th>\n",
       "      <td>2016-03-24 11:52:17</td>\n",
       "      <td>480</td>\n",
       "      <td>NaN</td>\n",
       "      <td>1993</td>\n",
       "      <td>manual</td>\n",
       "      <td>0</td>\n",
       "      <td>golf</td>\n",
       "      <td>150000</td>\n",
       "      <td>0</td>\n",
       "      <td>petrol</td>\n",
       "      <td>volkswagen</td>\n",
       "      <td>NaN</td>\n",
       "      <td>2016-03-24 00:00:00</td>\n",
       "      <td>0</td>\n",
       "      <td>70435</td>\n",
       "      <td>2016-04-07 03:16:57</td>\n",
       "    </tr>\n",
       "    <tr>\n",
       "      <th>1</th>\n",
       "      <td>2016-03-24 10:58:45</td>\n",
       "      <td>18300</td>\n",
       "      <td>coupe</td>\n",
       "      <td>2011</td>\n",
       "      <td>manual</td>\n",
       "      <td>190</td>\n",
       "      <td>NaN</td>\n",
       "      <td>125000</td>\n",
       "      <td>5</td>\n",
       "      <td>gasoline</td>\n",
       "      <td>audi</td>\n",
       "      <td>yes</td>\n",
       "      <td>2016-03-24 00:00:00</td>\n",
       "      <td>0</td>\n",
       "      <td>66954</td>\n",
       "      <td>2016-04-07 01:46:50</td>\n",
       "    </tr>\n",
       "    <tr>\n",
       "      <th>2</th>\n",
       "      <td>2016-03-14 12:52:21</td>\n",
       "      <td>9800</td>\n",
       "      <td>suv</td>\n",
       "      <td>2004</td>\n",
       "      <td>auto</td>\n",
       "      <td>163</td>\n",
       "      <td>grand</td>\n",
       "      <td>125000</td>\n",
       "      <td>8</td>\n",
       "      <td>gasoline</td>\n",
       "      <td>jeep</td>\n",
       "      <td>NaN</td>\n",
       "      <td>2016-03-14 00:00:00</td>\n",
       "      <td>0</td>\n",
       "      <td>90480</td>\n",
       "      <td>2016-04-05 12:47:46</td>\n",
       "    </tr>\n",
       "    <tr>\n",
       "      <th>3</th>\n",
       "      <td>2016-03-17 16:54:04</td>\n",
       "      <td>1500</td>\n",
       "      <td>small</td>\n",
       "      <td>2001</td>\n",
       "      <td>manual</td>\n",
       "      <td>75</td>\n",
       "      <td>golf</td>\n",
       "      <td>150000</td>\n",
       "      <td>6</td>\n",
       "      <td>petrol</td>\n",
       "      <td>volkswagen</td>\n",
       "      <td>no</td>\n",
       "      <td>2016-03-17 00:00:00</td>\n",
       "      <td>0</td>\n",
       "      <td>91074</td>\n",
       "      <td>2016-03-17 17:40:17</td>\n",
       "    </tr>\n",
       "    <tr>\n",
       "      <th>4</th>\n",
       "      <td>2016-03-31 17:25:20</td>\n",
       "      <td>3600</td>\n",
       "      <td>small</td>\n",
       "      <td>2008</td>\n",
       "      <td>manual</td>\n",
       "      <td>69</td>\n",
       "      <td>fabia</td>\n",
       "      <td>90000</td>\n",
       "      <td>7</td>\n",
       "      <td>gasoline</td>\n",
       "      <td>skoda</td>\n",
       "      <td>no</td>\n",
       "      <td>2016-03-31 00:00:00</td>\n",
       "      <td>0</td>\n",
       "      <td>60437</td>\n",
       "      <td>2016-04-06 10:17:21</td>\n",
       "    </tr>\n",
       "  </tbody>\n",
       "</table>\n",
       "</div>"
      ],
      "text/plain": [
       "           DateCrawled  Price VehicleType  RegistrationYear Gearbox  Power  \\\n",
       "0  2016-03-24 11:52:17    480         NaN              1993  manual      0   \n",
       "1  2016-03-24 10:58:45  18300       coupe              2011  manual    190   \n",
       "2  2016-03-14 12:52:21   9800         suv              2004    auto    163   \n",
       "3  2016-03-17 16:54:04   1500       small              2001  manual     75   \n",
       "4  2016-03-31 17:25:20   3600       small              2008  manual     69   \n",
       "\n",
       "   Model  Kilometer  RegistrationMonth  FuelType       Brand NotRepaired  \\\n",
       "0   golf     150000                  0    petrol  volkswagen         NaN   \n",
       "1    NaN     125000                  5  gasoline        audi         yes   \n",
       "2  grand     125000                  8  gasoline        jeep         NaN   \n",
       "3   golf     150000                  6    petrol  volkswagen          no   \n",
       "4  fabia      90000                  7  gasoline       skoda          no   \n",
       "\n",
       "           DateCreated  NumberOfPictures  PostalCode             LastSeen  \n",
       "0  2016-03-24 00:00:00                 0       70435  2016-04-07 03:16:57  \n",
       "1  2016-03-24 00:00:00                 0       66954  2016-04-07 01:46:50  \n",
       "2  2016-03-14 00:00:00                 0       90480  2016-04-05 12:47:46  \n",
       "3  2016-03-17 00:00:00                 0       91074  2016-03-17 17:40:17  \n",
       "4  2016-03-31 00:00:00                 0       60437  2016-04-06 10:17:21  "
      ]
     },
     "execution_count": 39,
     "metadata": {},
     "output_type": "execute_result"
    }
   ],
   "source": [
    "data.head()"
   ]
  },
  {
   "cell_type": "code",
   "execution_count": 40,
   "metadata": {},
   "outputs": [
    {
     "data": {
      "text/html": [
       "<div>\n",
       "<style scoped>\n",
       "    .dataframe tbody tr th:only-of-type {\n",
       "        vertical-align: middle;\n",
       "    }\n",
       "\n",
       "    .dataframe tbody tr th {\n",
       "        vertical-align: top;\n",
       "    }\n",
       "\n",
       "    .dataframe thead th {\n",
       "        text-align: right;\n",
       "    }\n",
       "</style>\n",
       "<table border=\"1\" class=\"dataframe\">\n",
       "  <thead>\n",
       "    <tr style=\"text-align: right;\">\n",
       "      <th></th>\n",
       "      <th>Price</th>\n",
       "      <th>RegistrationYear</th>\n",
       "      <th>Power</th>\n",
       "      <th>Kilometer</th>\n",
       "      <th>RegistrationMonth</th>\n",
       "      <th>NumberOfPictures</th>\n",
       "      <th>PostalCode</th>\n",
       "    </tr>\n",
       "  </thead>\n",
       "  <tbody>\n",
       "    <tr>\n",
       "      <th>count</th>\n",
       "      <td>354369.000000</td>\n",
       "      <td>354369.000000</td>\n",
       "      <td>354369.000000</td>\n",
       "      <td>354369.000000</td>\n",
       "      <td>354369.000000</td>\n",
       "      <td>354369.0</td>\n",
       "      <td>354369.000000</td>\n",
       "    </tr>\n",
       "    <tr>\n",
       "      <th>mean</th>\n",
       "      <td>4416.656776</td>\n",
       "      <td>2004.234448</td>\n",
       "      <td>110.094337</td>\n",
       "      <td>128211.172535</td>\n",
       "      <td>5.714645</td>\n",
       "      <td>0.0</td>\n",
       "      <td>50508.689087</td>\n",
       "    </tr>\n",
       "    <tr>\n",
       "      <th>std</th>\n",
       "      <td>4514.158514</td>\n",
       "      <td>90.227958</td>\n",
       "      <td>189.850405</td>\n",
       "      <td>37905.341530</td>\n",
       "      <td>3.726421</td>\n",
       "      <td>0.0</td>\n",
       "      <td>25783.096248</td>\n",
       "    </tr>\n",
       "    <tr>\n",
       "      <th>min</th>\n",
       "      <td>0.000000</td>\n",
       "      <td>1000.000000</td>\n",
       "      <td>0.000000</td>\n",
       "      <td>5000.000000</td>\n",
       "      <td>0.000000</td>\n",
       "      <td>0.0</td>\n",
       "      <td>1067.000000</td>\n",
       "    </tr>\n",
       "    <tr>\n",
       "      <th>25%</th>\n",
       "      <td>1050.000000</td>\n",
       "      <td>1999.000000</td>\n",
       "      <td>69.000000</td>\n",
       "      <td>125000.000000</td>\n",
       "      <td>3.000000</td>\n",
       "      <td>0.0</td>\n",
       "      <td>30165.000000</td>\n",
       "    </tr>\n",
       "    <tr>\n",
       "      <th>50%</th>\n",
       "      <td>2700.000000</td>\n",
       "      <td>2003.000000</td>\n",
       "      <td>105.000000</td>\n",
       "      <td>150000.000000</td>\n",
       "      <td>6.000000</td>\n",
       "      <td>0.0</td>\n",
       "      <td>49413.000000</td>\n",
       "    </tr>\n",
       "    <tr>\n",
       "      <th>75%</th>\n",
       "      <td>6400.000000</td>\n",
       "      <td>2008.000000</td>\n",
       "      <td>143.000000</td>\n",
       "      <td>150000.000000</td>\n",
       "      <td>9.000000</td>\n",
       "      <td>0.0</td>\n",
       "      <td>71083.000000</td>\n",
       "    </tr>\n",
       "    <tr>\n",
       "      <th>max</th>\n",
       "      <td>20000.000000</td>\n",
       "      <td>9999.000000</td>\n",
       "      <td>20000.000000</td>\n",
       "      <td>150000.000000</td>\n",
       "      <td>12.000000</td>\n",
       "      <td>0.0</td>\n",
       "      <td>99998.000000</td>\n",
       "    </tr>\n",
       "  </tbody>\n",
       "</table>\n",
       "</div>"
      ],
      "text/plain": [
       "               Price  RegistrationYear          Power      Kilometer  \\\n",
       "count  354369.000000     354369.000000  354369.000000  354369.000000   \n",
       "mean     4416.656776       2004.234448     110.094337  128211.172535   \n",
       "std      4514.158514         90.227958     189.850405   37905.341530   \n",
       "min         0.000000       1000.000000       0.000000    5000.000000   \n",
       "25%      1050.000000       1999.000000      69.000000  125000.000000   \n",
       "50%      2700.000000       2003.000000     105.000000  150000.000000   \n",
       "75%      6400.000000       2008.000000     143.000000  150000.000000   \n",
       "max     20000.000000       9999.000000   20000.000000  150000.000000   \n",
       "\n",
       "       RegistrationMonth  NumberOfPictures     PostalCode  \n",
       "count      354369.000000          354369.0  354369.000000  \n",
       "mean            5.714645               0.0   50508.689087  \n",
       "std             3.726421               0.0   25783.096248  \n",
       "min             0.000000               0.0    1067.000000  \n",
       "25%             3.000000               0.0   30165.000000  \n",
       "50%             6.000000               0.0   49413.000000  \n",
       "75%             9.000000               0.0   71083.000000  \n",
       "max            12.000000               0.0   99998.000000  "
      ]
     },
     "execution_count": 40,
     "metadata": {},
     "output_type": "execute_result"
    }
   ],
   "source": [
    "data.describe()"
   ]
  },
  {
   "cell_type": "code",
   "execution_count": 41,
   "metadata": {},
   "outputs": [
    {
     "data": {
      "text/plain": [
       "(354369, 16)"
      ]
     },
     "execution_count": 41,
     "metadata": {},
     "output_type": "execute_result"
    }
   ],
   "source": [
    "data.shape"
   ]
  },
  {
   "cell_type": "code",
   "execution_count": 42,
   "metadata": {},
   "outputs": [],
   "source": [
    "#Price\n",
    "# Странно если стоимоcть машины, менее предположим 200 евро\n",
    "data.loc[data['Price']<=200, 'Price'] = 0"
   ]
  },
  {
   "cell_type": "code",
   "execution_count": 43,
   "metadata": {},
   "outputs": [
    {
     "name": "stdout",
     "output_type": "stream",
     "text": [
      "Процент данных с ошибками по годам: 0.10%\n"
     ]
    }
   ],
   "source": [
    "#RegistrationYear\n",
    "print(\"Процент данных с ошибками по годам: {:.2%}\".format(data\n",
    "                                                          .query('RegistrationYear<1950 or RegistrationYear>2019')\n",
    "                                                          .shape[0] / data.shape[0]))\n"
   ]
  },
  {
   "cell_type": "code",
   "execution_count": 44,
   "metadata": {},
   "outputs": [],
   "source": [
    "#Удалим аномальные значение в столбце RegistrationYear\n",
    "data = data.loc[(data['RegistrationYear']>1950) & (data['RegistrationYear']<2020)]"
   ]
  },
  {
   "cell_type": "code",
   "execution_count": 45,
   "metadata": {},
   "outputs": [
    {
     "data": {
      "text/plain": [
       "39960"
      ]
     },
     "execution_count": 45,
     "metadata": {},
     "output_type": "execute_result"
    }
   ],
   "source": [
    "#количество автомобилей с нулевой мощностью: \n",
    "data[data['Power']==0].shape[0]"
   ]
  },
  {
   "cell_type": "code",
   "execution_count": 46,
   "metadata": {},
   "outputs": [],
   "source": [
    "#Удалим аномальные значение в столбце Power\n",
    "data = data.loc[(data['Power']>69) & (data['Power']<20000)]"
   ]
  },
  {
   "cell_type": "code",
   "execution_count": 47,
   "metadata": {},
   "outputs": [
    {
     "data": {
      "text/plain": [
       "(262285, 16)"
      ]
     },
     "execution_count": 47,
     "metadata": {},
     "output_type": "execute_result"
    }
   ],
   "source": [
    "data.shape"
   ]
  },
  {
   "cell_type": "code",
   "execution_count": 48,
   "metadata": {},
   "outputs": [
    {
     "data": {
      "text/plain": [
       "DateCrawled              0\n",
       "Price                    0\n",
       "VehicleType          17972\n",
       "RegistrationYear         0\n",
       "Gearbox               4492\n",
       "Power                    0\n",
       "Model                10688\n",
       "Kilometer                0\n",
       "RegistrationMonth        0\n",
       "FuelType             16550\n",
       "Brand                    0\n",
       "NotRepaired          39213\n",
       "DateCreated              0\n",
       "NumberOfPictures         0\n",
       "PostalCode               0\n",
       "LastSeen                 0\n",
       "dtype: int64"
      ]
     },
     "execution_count": 48,
     "metadata": {},
     "output_type": "execute_result"
    }
   ],
   "source": [
    "data.isnull().sum()"
   ]
  },
  {
   "cell_type": "code",
   "execution_count": 49,
   "metadata": {},
   "outputs": [],
   "source": [
    "columns_isnull = ['VehicleType', 'Gearbox', 'Model', 'FuelType', 'NotRepaired']"
   ]
  },
  {
   "cell_type": "code",
   "execution_count": 50,
   "metadata": {},
   "outputs": [],
   "source": [
    "data[columns_isnull] = data[columns_isnull].fillna('Nan')"
   ]
  },
  {
   "cell_type": "code",
   "execution_count": 51,
   "metadata": {},
   "outputs": [
    {
     "data": {
      "text/plain": [
       "DateCrawled          0\n",
       "Price                0\n",
       "VehicleType          0\n",
       "RegistrationYear     0\n",
       "Gearbox              0\n",
       "Power                0\n",
       "Model                0\n",
       "Kilometer            0\n",
       "RegistrationMonth    0\n",
       "FuelType             0\n",
       "Brand                0\n",
       "NotRepaired          0\n",
       "DateCreated          0\n",
       "NumberOfPictures     0\n",
       "PostalCode           0\n",
       "LastSeen             0\n",
       "dtype: int64"
      ]
     },
     "execution_count": 51,
     "metadata": {},
     "output_type": "execute_result"
    }
   ],
   "source": [
    "data.isnull().sum()"
   ]
  },
  {
   "cell_type": "code",
   "execution_count": 52,
   "metadata": {},
   "outputs": [
    {
     "data": {
      "text/plain": [
       "4"
      ]
     },
     "execution_count": 52,
     "metadata": {},
     "output_type": "execute_result"
    }
   ],
   "source": [
    "data.duplicated().sum()"
   ]
  },
  {
   "cell_type": "code",
   "execution_count": 53,
   "metadata": {},
   "outputs": [],
   "source": [
    "data = data.drop_duplicates().reset_index(drop=True)"
   ]
  },
  {
   "cell_type": "code",
   "execution_count": 54,
   "metadata": {},
   "outputs": [
    {
     "data": {
      "text/plain": [
       "0"
      ]
     },
     "execution_count": 54,
     "metadata": {},
     "output_type": "execute_result"
    }
   ],
   "source": [
    "data.duplicated().sum()"
   ]
  },
  {
   "cell_type": "code",
   "execution_count": 55,
   "metadata": {},
   "outputs": [],
   "source": [
    "columns_drop = ['DateCrawled', 'LastSeen', 'DateCreated', 'NumberOfPictures']\n",
    "data = data.drop(columns=columns_drop)"
   ]
  },
  {
   "cell_type": "code",
   "execution_count": 56,
   "metadata": {},
   "outputs": [
    {
     "data": {
      "text/plain": [
       "16738"
      ]
     },
     "execution_count": 56,
     "metadata": {},
     "output_type": "execute_result"
    }
   ],
   "source": [
    "data.duplicated().sum()"
   ]
  },
  {
   "cell_type": "code",
   "execution_count": 57,
   "metadata": {},
   "outputs": [],
   "source": [
    "data = data.drop_duplicates().reset_index(drop=True)"
   ]
  },
  {
   "cell_type": "code",
   "execution_count": 58,
   "metadata": {},
   "outputs": [
    {
     "data": {
      "text/plain": [
       "0"
      ]
     },
     "execution_count": 58,
     "metadata": {},
     "output_type": "execute_result"
    }
   ],
   "source": [
    "data.duplicated().sum()"
   ]
  },
  {
   "cell_type": "markdown",
   "metadata": {},
   "source": [
    "## Обучение моделей"
   ]
  },
  {
   "cell_type": "code",
   "execution_count": 59,
   "metadata": {},
   "outputs": [],
   "source": [
    "data_ohe = pd.get_dummies(data, drop_first=True)\n",
    "target = data_ohe['Price']\n",
    "features = data_ohe.drop('Price', axis=1)"
   ]
  },
  {
   "cell_type": "code",
   "execution_count": 60,
   "metadata": {},
   "outputs": [],
   "source": [
    "data_train, data_valid = train_test_split(data_ohe, test_size=0.2, random_state=rnd_state)\n",
    "data_valid, data_test = train_test_split(data_valid , test_size=0.2, random_state=rnd_state)"
   ]
  },
  {
   "cell_type": "code",
   "execution_count": 61,
   "metadata": {},
   "outputs": [],
   "source": [
    "features_train = data_train.drop(columns=['Price'])\n",
    "target_train = data_train['Price']\n",
    "\n",
    "features_valid = data_valid.drop(columns=['Price'])\n",
    "target_valid = data_valid['Price']\n",
    "\n",
    "features_test = data_test.drop(columns=['Price'])\n",
    "target_test = data_test['Price']"
   ]
  },
  {
   "cell_type": "code",
   "execution_count": 62,
   "metadata": {},
   "outputs": [],
   "source": [
    "def model_eval(model, features_train, target_train, features_test, target_test):\n",
    "    \n",
    "    start = time.time()    \n",
    "    model.fit(features_train, target_train)\n",
    "    training_time = time.time() - start\n",
    "    \n",
    "    start = time.time()  \n",
    "    target_pred = model.predict(features_test)\n",
    "    predict_time = time.time() - start\n",
    "\n",
    "    return training_time, predict_time"
   ]
  },
  {
   "cell_type": "code",
   "execution_count": 63,
   "metadata": {},
   "outputs": [
    {
     "name": "stdout",
     "output_type": "stream",
     "text": [
      "RMSE LinearRegression: 2913.4924692719824\n",
      "Время обучения LinearRegression: (32.38462972640991, 0.12308812141418457)\n"
     ]
    }
   ],
   "source": [
    "model = LinearRegression()\n",
    "\n",
    "start_time = time.time()\n",
    "model.fit(features_train, target_train)\n",
    "\n",
    "training_time_lr = model_eval(model, features_train, target_train, features_test, target_test)\n",
    "\n",
    "predict_lr = pd.DataFrame(model.predict(features_valid))\n",
    "score_lr = mean_squared_error(target_valid, predict_lr) ** 0.5\n",
    "\n",
    "print(\"RMSE LinearRegression:\", score_lr)\n",
    "print(\"Время обучения LinearRegression:\", training_time_lr)"
   ]
  },
  {
   "cell_type": "code",
   "execution_count": 64,
   "metadata": {},
   "outputs": [
    {
     "name": "stdout",
     "output_type": "stream",
     "text": [
      "RMSE LGBMRegressor: 2842.359184052741\n",
      "Время обучения LGBMRegressor: (57.78791356086731, 0.02773427963256836)\n"
     ]
    }
   ],
   "source": [
    "from collections import defaultdict\n",
    "d = defaultdict(list)\n",
    "\n",
    "lgbm_model = LGBMRegressor(num_leaves=31, learning_rate=0.05, n_estimators=20, random_state=rnd_state)\n",
    "start_time = time.time()\n",
    "lgbm_model.fit(features_train, target_train)\n",
    "\n",
    "training_time_lgbm = model_eval(model, features_train, target_train, features_test, target_test)\n",
    "\n",
    "predict_lgbm = pd.DataFrame(lgbm_model.predict(features_valid))\n",
    "score_lgbm = mean_squared_error(target_valid, predict_lgbm) ** 0.5\n",
    "\n",
    "print(\"RMSE LGBMRegressor:\", score_lgbm)\n",
    "print(\"Время обучения LGBMRegressor:\", training_time_lgbm)"
   ]
  },
  {
   "cell_type": "code",
   "execution_count": 65,
   "metadata": {},
   "outputs": [
    {
     "data": {
      "image/png": "[encoded data removed]",
      "text/plain": [
       "<Figure size 432x288 with 1 Axes>"
      ]
     },
     "metadata": {
      "needs_background": "light"
     },
     "output_type": "display_data"
    }
   ],
   "source": [
    "import seaborn as sns\n",
    "def chart_feature_imp(cat_model):\n",
    "    feature_imp = pd.Series(cat_model.feature_importances_, index=features_valid.columns).sort_values(ascending=False).head(20)\n",
    "    ax = sns.barplot(x=feature_imp, y=feature_imp.index)\n",
    "    _ = ax.set(xlabel='Оценка важности признаков', ylabel='Признаки')\n",
    "    _ = ax.set_title('Визуализация важности признаков')\n",
    "\n",
    "chart_feature_imp(lgbm_model)"
   ]
  },
  {
   "cell_type": "code",
   "execution_count": 66,
   "metadata": {},
   "outputs": [
    {
     "name": "stdout",
     "output_type": "stream",
     "text": [
      "Learning rate set to 0.5\n",
      "0:\tlearn: 3441.1563412\ttotal: 36.2ms\tremaining: 1.77s\n",
      "10:\tlearn: 2131.1649064\ttotal: 299ms\tremaining: 1.06s\n",
      "20:\tlearn: 2027.8015942\ttotal: 577ms\tremaining: 796ms\n",
      "30:\tlearn: 1973.3456918\ttotal: 838ms\tremaining: 513ms\n",
      "40:\tlearn: 1939.9450274\ttotal: 1.09s\tremaining: 240ms\n",
      "49:\tlearn: 1912.2432685\ttotal: 1.35s\tremaining: 0us\n",
      "RMSE CatBoostRegressor: 1932.4843849957513\n",
      "Время обучения CatBoostRegressor: (55.05729150772095, 0.12639117240905762)\n"
     ]
    }
   ],
   "source": [
    "cat_model = CatBoostRegressor(loss_function=\"RMSE\", iterations=50, random_state=rnd_state)\n",
    "start_time = time.time()\n",
    "cat_model.fit(features_train, target_train, verbose=10)\n",
    "\n",
    "training_time_cat = model_eval(model, features_train, target_train, features_test, target_test)\n",
    "\n",
    "predict_cat = cat_model.predict(features_valid)\n",
    "score_cat = mean_squared_error(target_valid, predict_cat) ** 0.5\n",
    "\n",
    "print(\"RMSE CatBoostRegressor:\", score_cat)\n",
    "print(\"Время обучения CatBoostRegressor:\", training_time_cat)"
   ]
  },
  {
   "cell_type": "code",
   "execution_count": 67,
   "metadata": {
    "scrolled": true
   },
   "outputs": [
    {
     "name": "stdout",
     "output_type": "stream",
     "text": [
      "Learning rate set to 0.5\n",
      "0:\tlearn: 25789.2887357\ttotal: 138ms\tremaining: 6.76s\n",
      "1:\tlearn: 25734.1214536\ttotal: 233ms\tremaining: 5.6s\n",
      "2:\tlearn: 25705.0753680\ttotal: 333ms\tremaining: 5.21s\n",
      "3:\tlearn: 25690.0865721\ttotal: 432ms\tremaining: 4.97s\n",
      "4:\tlearn: 25681.3272798\ttotal: 532ms\tremaining: 4.79s\n",
      "5:\tlearn: 25665.3216175\ttotal: 628ms\tremaining: 4.6s\n",
      "6:\tlearn: 25660.8170682\ttotal: 730ms\tremaining: 4.48s\n",
      "7:\tlearn: 25654.5729962\ttotal: 827ms\tremaining: 4.34s\n",
      "8:\tlearn: 25653.5681256\ttotal: 879ms\tremaining: 4s\n",
      "9:\tlearn: 25646.7687959\ttotal: 969ms\tremaining: 3.88s\n",
      "10:\tlearn: 25642.1486414\ttotal: 1.06s\tremaining: 3.77s\n",
      "11:\tlearn: 25641.7614662\ttotal: 1.11s\tremaining: 3.52s\n",
      "12:\tlearn: 25637.9068766\ttotal: 1.21s\tremaining: 3.46s\n",
      "13:\tlearn: 25635.9256077\ttotal: 1.33s\tremaining: 3.42s\n",
      "14:\tlearn: 25630.5081745\ttotal: 1.45s\tremaining: 3.37s\n",
      "15:\tlearn: 25627.0435634\ttotal: 1.57s\tremaining: 3.33s\n",
      "16:\tlearn: 25624.6749578\ttotal: 1.67s\tremaining: 3.25s\n",
      "17:\tlearn: 25619.7521229\ttotal: 1.78s\tremaining: 3.16s\n",
      "18:\tlearn: 25615.5076594\ttotal: 1.89s\tremaining: 3.08s\n",
      "19:\tlearn: 25612.6606902\ttotal: 1.99s\tremaining: 2.98s\n",
      "20:\tlearn: 25608.1277719\ttotal: 2.08s\tremaining: 2.87s\n",
      "21:\tlearn: 25606.2763452\ttotal: 2.17s\tremaining: 2.77s\n",
      "22:\tlearn: 25603.6390865\ttotal: 2.27s\tremaining: 2.66s\n",
      "23:\tlearn: 25600.4231168\ttotal: 2.37s\tremaining: 2.57s\n",
      "24:\tlearn: 25595.1733715\ttotal: 2.48s\tremaining: 2.48s\n",
      "25:\tlearn: 25589.7025792\ttotal: 2.58s\tremaining: 2.38s\n",
      "26:\tlearn: 25587.5782041\ttotal: 2.68s\tremaining: 2.28s\n",
      "27:\tlearn: 25584.2932297\ttotal: 2.78s\tremaining: 2.18s\n",
      "28:\tlearn: 25579.6313934\ttotal: 2.89s\tremaining: 2.09s\n",
      "29:\tlearn: 25577.9449622\ttotal: 2.99s\tremaining: 1.99s\n",
      "30:\tlearn: 25575.4221448\ttotal: 3.09s\tremaining: 1.9s\n",
      "31:\tlearn: 25572.6319046\ttotal: 3.19s\tremaining: 1.79s\n",
      "32:\tlearn: 25568.1912319\ttotal: 3.29s\tremaining: 1.7s\n",
      "33:\tlearn: 25562.9477240\ttotal: 3.39s\tremaining: 1.6s\n",
      "34:\tlearn: 25560.4993492\ttotal: 3.49s\tremaining: 1.5s\n",
      "35:\tlearn: 25559.4767066\ttotal: 3.59s\tremaining: 1.4s\n",
      "36:\tlearn: 25554.0014044\ttotal: 3.68s\tremaining: 1.29s\n",
      "37:\tlearn: 25550.8404213\ttotal: 3.78s\tremaining: 1.19s\n",
      "38:\tlearn: 25547.5738640\ttotal: 3.88s\tremaining: 1.09s\n",
      "39:\tlearn: 25546.1718872\ttotal: 3.98s\tremaining: 995ms\n",
      "40:\tlearn: 25544.1722646\ttotal: 4.08s\tremaining: 895ms\n",
      "41:\tlearn: 25540.6809781\ttotal: 4.17s\tremaining: 795ms\n",
      "42:\tlearn: 25536.9784771\ttotal: 4.27s\tremaining: 695ms\n",
      "43:\tlearn: 25534.4100534\ttotal: 4.37s\tremaining: 596ms\n",
      "44:\tlearn: 25532.2682619\ttotal: 4.47s\tremaining: 496ms\n",
      "45:\tlearn: 25531.1698055\ttotal: 4.57s\tremaining: 397ms\n",
      "46:\tlearn: 25526.9090172\ttotal: 4.67s\tremaining: 298ms\n",
      "47:\tlearn: 25521.2848795\ttotal: 4.76s\tremaining: 199ms\n",
      "48:\tlearn: 25516.9444570\ttotal: 4.87s\tremaining: 99.3ms\n",
      "49:\tlearn: 25514.0032692\ttotal: 4.96s\tremaining: 0us\n",
      "[[ 2.78863822e+03  1.83740703e+02 -3.73424146e+02 ...  1.64845293e+03\n",
      "   1.00054853e+03  5.17376506e+04]\n",
      " [ 2.13419547e+02 -4.14430630e+01  3.62990465e+02 ... -7.76462553e+02\n",
      "  -9.41029251e+02  5.17376506e+04]\n",
      " [-6.98819338e+02  5.89225692e+02  8.42861069e+01 ... -4.46758386e+02\n",
      "   1.48090033e+01  5.17376506e+04]\n",
      " ...\n",
      " [-7.35432505e+02  6.43494304e+02  2.34406668e+02 ...  2.30358602e+02\n",
      "  -1.23347947e+02  5.17376506e+04]\n",
      " [ 1.30320525e+03 -1.58235751e+01  1.01926720e+03 ... -7.30897085e+02\n",
      "   6.59726054e+01  5.17376506e+04]\n",
      " [-8.27720806e+02 -8.22534780e+02 -2.48390935e+01 ... -7.86252119e+02\n",
      "  -1.41563579e+03  5.17376506e+04]]\n"
     ]
    }
   ],
   "source": [
    "cat_features = [i for i, (col, ser) in enumerate(data.iteritems()) if ser.dtype == object]\n",
    "\n",
    "\n",
    "pool = Pool(data=data.iloc[:, :-1].values, label=data.iloc[:, -1].values, cat_features=cat_features)\n",
    "\n",
    "cat_model=CatBoostRegressor(iterations=50, verbose=True)\n",
    "cat_model.fit(pool)\n",
    "\n",
    "shap_values = cat_model.get_feature_importance(data=pool, fstr_type='ShapValues')\n",
    "\n",
    "print(shap_values)"
   ]
  },
  {
   "cell_type": "code",
   "execution_count": 68,
   "metadata": {},
   "outputs": [
    {
     "data": {
      "text/plain": [
       "(11,)"
      ]
     },
     "execution_count": 68,
     "metadata": {},
     "output_type": "execute_result"
    }
   ],
   "source": [
    "cat_model.feature_importances_.shape"
   ]
  },
  {
   "cell_type": "code",
   "execution_count": 69,
   "metadata": {},
   "outputs": [
    {
     "data": {
      "text/plain": [
       "(309,)"
      ]
     },
     "execution_count": 69,
     "metadata": {},
     "output_type": "execute_result"
    }
   ],
   "source": [
    "features_valid.columns.shape"
   ]
  },
  {
   "cell_type": "code",
   "execution_count": 71,
   "metadata": {},
   "outputs": [
    {
     "ename": "ValueError",
     "evalue": "Length of passed values is 11, index implies 309.",
     "output_type": "error",
     "traceback": [
      "\u001b[0;31m---------------------------------------------------------------------------\u001b[0m",
      "\u001b[0;31mValueError\u001b[0m                                Traceback (most recent call last)",
      "\u001b[0;32m/tmp/ipykernel_31/2032236697.py\u001b[0m in \u001b[0;36m<module>\u001b[0;34m\u001b[0m\n\u001b[1;32m      6\u001b[0m     \u001b[0m_\u001b[0m \u001b[0;34m=\u001b[0m \u001b[0max\u001b[0m\u001b[0;34m.\u001b[0m\u001b[0mset_title\u001b[0m\u001b[0;34m(\u001b[0m\u001b[0;34m'Визуализация важности признаков'\u001b[0m\u001b[0;34m)\u001b[0m\u001b[0;34m\u001b[0m\u001b[0;34m\u001b[0m\u001b[0m\n\u001b[1;32m      7\u001b[0m \u001b[0;34m\u001b[0m\u001b[0m\n\u001b[0;32m----> 8\u001b[0;31m \u001b[0mchart_feature_imp\u001b[0m\u001b[0;34m(\u001b[0m\u001b[0mcat_model\u001b[0m\u001b[0;34m)\u001b[0m\u001b[0;34m\u001b[0m\u001b[0;34m\u001b[0m\u001b[0m\n\u001b[0m",
      "\u001b[0;32m/tmp/ipykernel_31/2032236697.py\u001b[0m in \u001b[0;36mchart_feature_imp\u001b[0;34m(cat_model)\u001b[0m\n\u001b[1;32m      1\u001b[0m \u001b[0;32mimport\u001b[0m \u001b[0mseaborn\u001b[0m \u001b[0;32mas\u001b[0m \u001b[0msns\u001b[0m\u001b[0;34m\u001b[0m\u001b[0;34m\u001b[0m\u001b[0m\n\u001b[1;32m      2\u001b[0m \u001b[0;32mdef\u001b[0m \u001b[0mchart_feature_imp\u001b[0m\u001b[0;34m(\u001b[0m\u001b[0mcat_model\u001b[0m\u001b[0;34m)\u001b[0m\u001b[0;34m:\u001b[0m\u001b[0;34m\u001b[0m\u001b[0;34m\u001b[0m\u001b[0m\n\u001b[0;32m----> 3\u001b[0;31m     \u001b[0mfeature_imp\u001b[0m \u001b[0;34m=\u001b[0m \u001b[0mpd\u001b[0m\u001b[0;34m.\u001b[0m\u001b[0mSeries\u001b[0m\u001b[0;34m(\u001b[0m\u001b[0mcat_model\u001b[0m\u001b[0;34m.\u001b[0m\u001b[0mfeature_importances_\u001b[0m\u001b[0;34m,\u001b[0m \u001b[0mindex\u001b[0m\u001b[0;34m=\u001b[0m\u001b[0mfeatures_valid\u001b[0m\u001b[0;34m.\u001b[0m\u001b[0mcolumns\u001b[0m\u001b[0;34m)\u001b[0m\u001b[0;34m.\u001b[0m\u001b[0msort_values\u001b[0m\u001b[0;34m(\u001b[0m\u001b[0mascending\u001b[0m\u001b[0;34m=\u001b[0m\u001b[0;32mFalse\u001b[0m\u001b[0;34m)\u001b[0m\u001b[0;34m.\u001b[0m\u001b[0mhead\u001b[0m\u001b[0;34m(\u001b[0m\u001b[0;36m20\u001b[0m\u001b[0;34m)\u001b[0m\u001b[0;34m\u001b[0m\u001b[0;34m\u001b[0m\u001b[0m\n\u001b[0m\u001b[1;32m      4\u001b[0m     \u001b[0max\u001b[0m \u001b[0;34m=\u001b[0m \u001b[0msns\u001b[0m\u001b[0;34m.\u001b[0m\u001b[0mbarplot\u001b[0m\u001b[0;34m(\u001b[0m\u001b[0mx\u001b[0m\u001b[0;34m=\u001b[0m\u001b[0mfeature_imp\u001b[0m\u001b[0;34m,\u001b[0m \u001b[0my\u001b[0m\u001b[0;34m=\u001b[0m\u001b[0mfeature_imp\u001b[0m\u001b[0;34m.\u001b[0m\u001b[0mindex\u001b[0m\u001b[0;34m)\u001b[0m\u001b[0;34m\u001b[0m\u001b[0;34m\u001b[0m\u001b[0m\n\u001b[1;32m      5\u001b[0m     \u001b[0m_\u001b[0m \u001b[0;34m=\u001b[0m \u001b[0max\u001b[0m\u001b[0;34m.\u001b[0m\u001b[0mset\u001b[0m\u001b[0;34m(\u001b[0m\u001b[0mxlabel\u001b[0m\u001b[0;34m=\u001b[0m\u001b[0;34m'Оценка важности признаков'\u001b[0m\u001b[0;34m,\u001b[0m \u001b[0mylabel\u001b[0m\u001b[0;34m=\u001b[0m\u001b[0;34m'Признаки'\u001b[0m\u001b[0;34m)\u001b[0m\u001b[0;34m\u001b[0m\u001b[0;34m\u001b[0m\u001b[0m\n",
      "\u001b[0;32m/opt/conda/lib/python3.9/site-packages/pandas/core/series.py\u001b[0m in \u001b[0;36m__init__\u001b[0;34m(self, data, index, dtype, name, copy, fastpath)\u001b[0m\n\u001b[1;32m    348\u001b[0m                 \u001b[0;32mtry\u001b[0m\u001b[0;34m:\u001b[0m\u001b[0;34m\u001b[0m\u001b[0;34m\u001b[0m\u001b[0m\n\u001b[1;32m    349\u001b[0m                     \u001b[0;32mif\u001b[0m \u001b[0mlen\u001b[0m\u001b[0;34m(\u001b[0m\u001b[0mindex\u001b[0m\u001b[0;34m)\u001b[0m \u001b[0;34m!=\u001b[0m \u001b[0mlen\u001b[0m\u001b[0;34m(\u001b[0m\u001b[0mdata\u001b[0m\u001b[0;34m)\u001b[0m\u001b[0;34m:\u001b[0m\u001b[0;34m\u001b[0m\u001b[0;34m\u001b[0m\u001b[0m\n\u001b[0;32m--> 350\u001b[0;31m                         raise ValueError(\n\u001b[0m\u001b[1;32m    351\u001b[0m                             \u001b[0;34mf\"Length of passed values is {len(data)}, \"\u001b[0m\u001b[0;34m\u001b[0m\u001b[0;34m\u001b[0m\u001b[0m\n\u001b[1;32m    352\u001b[0m                             \u001b[0;34mf\"index implies {len(index)}.\"\u001b[0m\u001b[0;34m\u001b[0m\u001b[0;34m\u001b[0m\u001b[0m\n",
      "\u001b[0;31mValueError\u001b[0m: Length of passed values is 11, index implies 309."
     ]
    }
   ],
   "source": [
    "import seaborn as sns\n",
    "def chart_feature_imp(cat_model):\n",
    "    feature_imp = pd.Series(cat_model.feature_importances_, index=features_valid.columns).sort_values(ascending=False).head(20)\n",
    "    ax = sns.barplot(x=feature_imp, y=feature_imp.index)\n",
    "    _ = ax.set(xlabel='Оценка важности признаков', ylabel='Признаки')\n",
    "    _ = ax.set_title('Визуализация важности признаков')\n",
    "\n",
    "chart_feature_imp(cat_model)"
   ]
  },
  {
   "cell_type": "markdown",
   "metadata": {},
   "source": [
    "Вывод:\n",
    "\n",
    "Применили для категориальных признаков метод OHE\n",
    "\n",
    "Рассмотрели три алгоритма классификации: CatBoostRegressor, LGBMRegressor, Линейная регрессия\n",
    "\n",
    "Модель \"CatBoostRegressor\" наиболее подходящая для решения дальнейшей задачи"
   ]
  },
  {
   "cell_type": "markdown",
   "metadata": {},
   "source": [
    "## Анализ моделей"
   ]
  },
  {
   "cell_type": "code",
   "execution_count": 72,
   "metadata": {},
   "outputs": [
    {
     "data": {
      "text/plain": [
       "LinearRegression    (32.38462972640991, 0.12308812141418457)\n",
       "LightGBM            (57.78791356086731, 0.02773427963256836)\n",
       "CatBoost            (55.05729150772095, 0.12639117240905762)\n",
       "dtype: object"
      ]
     },
     "execution_count": 72,
     "metadata": {},
     "output_type": "execute_result"
    }
   ],
   "source": [
    "data_time = pd.Series({'LinearRegression': training_time_lr,\n",
    "                           'LightGBM': training_time_lgbm,\n",
    "                           'CatBoost': training_time_cat}) \n",
    "\n",
    "data_time"
   ]
  },
  {
   "cell_type": "code",
   "execution_count": 73,
   "metadata": {},
   "outputs": [
    {
     "data": {
      "text/plain": [
       "LinearRegression    2913.492469\n",
       "LightGBM            2842.359184\n",
       "CatBoost            1932.484385\n",
       "dtype: float64"
      ]
     },
     "execution_count": 73,
     "metadata": {},
     "output_type": "execute_result"
    }
   ],
   "source": [
    "data_score = pd.Series({'LinearRegression': score_lr,\n",
    "                           'LightGBM': score_lgbm,\n",
    "                           'CatBoost': score_cat}) \n",
    "\n",
    "data_score"
   ]
  },
  {
   "cell_type": "code",
   "execution_count": 74,
   "metadata": {},
   "outputs": [
    {
     "name": "stdout",
     "output_type": "stream",
     "text": [
      "Learning rate set to 0.5\n",
      "0:\tlearn: 3441.1563412\ttotal: 41.4ms\tremaining: 2.03s\n",
      "10:\tlearn: 2131.1649064\ttotal: 454ms\tremaining: 1.61s\n",
      "20:\tlearn: 2027.8015942\ttotal: 772ms\tremaining: 1.07s\n",
      "30:\tlearn: 1973.3456918\ttotal: 1.07s\tremaining: 654ms\n",
      "40:\tlearn: 1939.9450274\ttotal: 1.36s\tremaining: 298ms\n",
      "49:\tlearn: 1912.2432685\ttotal: 1.62s\tremaining: 0us\n",
      "RMSE CatBoostRegressor: 1917.0540858004747\n",
      "Время обучения CatBoostRegressor: (62.238306760787964, 0.9099371433258057)\n"
     ]
    }
   ],
   "source": [
    "features_test = data_ohe.drop('Price', axis=1)\n",
    "target_test = data_ohe['Price']\n",
    "\n",
    "cat_model = CatBoostRegressor(loss_function=\"RMSE\", iterations=50, random_state=rnd_state)\n",
    "start_time = time.time()\n",
    "cat_model.fit(features_train, target_train, verbose=10)\n",
    "training_time_cat = model_eval(model, features_train, target_train, features_test, target_test)\n",
    "\n",
    "predict_cat = cat_model.predict(features_test)\n",
    "score_cat = mean_squared_error(target_test, predict_cat) ** 0.5\n",
    "\n",
    "print(\"RMSE CatBoostRegressor:\", score_cat)\n",
    "print(\"Время обучения CatBoostRegressor:\", training_time_cat)"
   ]
  }
 ],
 "metadata": {
  "ExecuteTimeLog": [
   {
    "duration": 2793,
    "start_time": "2022-06-28T18:16:29.642Z"
   },
   {
    "duration": 17,
    "start_time": "2022-06-28T18:16:32.437Z"
   },
   {
    "duration": 132,
    "start_time": "2022-06-28T18:16:32.455Z"
   },
   {
    "duration": 4,
    "start_time": "2022-06-28T18:16:32.590Z"
   },
   {
    "duration": 12,
    "start_time": "2022-06-28T18:18:45.268Z"
   },
   {
    "duration": 13,
    "start_time": "2022-06-28T18:18:46.560Z"
   },
   {
    "duration": 54,
    "start_time": "2022-06-28T18:19:36.969Z"
   },
   {
    "duration": 19,
    "start_time": "2022-06-28T18:19:52.141Z"
   },
   {
    "duration": 59,
    "start_time": "2022-06-28T18:20:09.303Z"
   },
   {
    "duration": 4,
    "start_time": "2022-06-28T18:20:20.464Z"
   },
   {
    "duration": 97,
    "start_time": "2022-06-28T18:20:32.396Z"
   },
   {
    "duration": 4,
    "start_time": "2022-06-28T18:20:47.057Z"
   },
   {
    "duration": 72,
    "start_time": "2022-06-28T18:20:58.747Z"
   },
   {
    "duration": 99,
    "start_time": "2022-06-28T18:21:09.462Z"
   },
   {
    "duration": 109,
    "start_time": "2022-06-28T18:21:51.466Z"
   },
   {
    "duration": 347,
    "start_time": "2022-06-28T18:21:52.109Z"
   },
   {
    "duration": 372,
    "start_time": "2022-06-28T18:21:52.553Z"
   },
   {
    "duration": 324,
    "start_time": "2022-06-28T18:21:53.134Z"
   },
   {
    "duration": 29,
    "start_time": "2022-06-28T18:21:53.600Z"
   },
   {
    "duration": 760,
    "start_time": "2022-06-28T18:22:30.148Z"
   },
   {
    "duration": 53,
    "start_time": "2022-06-28T18:22:31.251Z"
   },
   {
    "duration": 296,
    "start_time": "2022-06-28T18:22:49.869Z"
   },
   {
    "duration": 101,
    "start_time": "2022-06-28T18:23:01.275Z"
   },
   {
    "duration": 5,
    "start_time": "2022-06-28T18:23:14.677Z"
   },
   {
    "duration": 65996,
    "start_time": "2022-06-28T18:23:29.638Z"
   },
   {
    "duration": 25414,
    "start_time": "2022-06-28T18:24:35.727Z"
   },
   {
    "duration": 335,
    "start_time": "2022-06-28T18:25:01.143Z"
   },
   {
    "duration": 23468,
    "start_time": "2022-06-28T18:25:01.480Z"
   },
   {
    "duration": 20564,
    "start_time": "2022-06-28T18:25:24.949Z"
   },
   {
    "duration": 4,
    "start_time": "2022-06-28T18:25:45.515Z"
   },
   {
    "duration": 6,
    "start_time": "2022-06-28T18:25:45.527Z"
   },
   {
    "duration": 131,
    "start_time": "2022-06-28T18:25:45.534Z"
   },
   {
    "duration": 0,
    "start_time": "2022-06-28T18:25:45.667Z"
   },
   {
    "duration": 17,
    "start_time": "2022-06-28T18:26:20.352Z"
   },
   {
    "duration": 15,
    "start_time": "2022-06-28T18:26:48.178Z"
   },
   {
    "duration": 6,
    "start_time": "2022-06-28T18:28:18.730Z"
   },
   {
    "duration": 6,
    "start_time": "2022-06-28T18:28:19.763Z"
   },
   {
    "duration": 27066,
    "start_time": "2022-06-28T18:28:30.250Z"
   },
   {
    "duration": 14,
    "start_time": "2022-06-28T18:29:28.331Z"
   },
   {
    "duration": 15,
    "start_time": "2022-06-28T18:30:30.522Z"
   },
   {
    "duration": 853,
    "start_time": "2022-06-28T18:30:44.514Z"
   },
   {
    "duration": 15,
    "start_time": "2022-06-28T18:30:45.369Z"
   },
   {
    "duration": 98,
    "start_time": "2022-06-28T18:30:45.386Z"
   },
   {
    "duration": 4,
    "start_time": "2022-06-28T18:30:45.486Z"
   },
   {
    "duration": 2437,
    "start_time": "2022-06-28T18:30:55.267Z"
   },
   {
    "duration": 29,
    "start_time": "2022-06-28T18:30:57.707Z"
   },
   {
    "duration": 166,
    "start_time": "2022-06-28T18:30:57.738Z"
   },
   {
    "duration": 6,
    "start_time": "2022-06-28T18:30:57.908Z"
   },
   {
    "duration": 17,
    "start_time": "2022-06-28T18:30:57.926Z"
   },
   {
    "duration": 20,
    "start_time": "2022-06-28T18:30:57.945Z"
   },
   {
    "duration": 98,
    "start_time": "2022-06-28T18:30:57.968Z"
   },
   {
    "duration": 26,
    "start_time": "2022-06-28T18:30:58.069Z"
   },
   {
    "duration": 83,
    "start_time": "2022-06-28T18:30:58.098Z"
   },
   {
    "duration": 4,
    "start_time": "2022-06-28T18:30:58.185Z"
   },
   {
    "duration": 136,
    "start_time": "2022-06-28T18:30:58.191Z"
   },
   {
    "duration": 3,
    "start_time": "2022-06-28T18:30:58.329Z"
   },
   {
    "duration": 86,
    "start_time": "2022-06-28T18:30:58.333Z"
   },
   {
    "duration": 103,
    "start_time": "2022-06-28T18:30:58.426Z"
   },
   {
    "duration": 368,
    "start_time": "2022-06-28T18:30:58.531Z"
   },
   {
    "duration": 393,
    "start_time": "2022-06-28T18:30:58.901Z"
   },
   {
    "duration": 316,
    "start_time": "2022-06-28T18:30:59.296Z"
   },
   {
    "duration": 33,
    "start_time": "2022-06-28T18:30:59.613Z"
   },
   {
    "duration": 799,
    "start_time": "2022-06-28T18:30:59.647Z"
   },
   {
    "duration": 292,
    "start_time": "2022-06-28T18:31:00.448Z"
   },
   {
    "duration": 102,
    "start_time": "2022-06-28T18:31:00.742Z"
   },
   {
    "duration": 4,
    "start_time": "2022-06-28T18:31:00.845Z"
   },
   {
    "duration": 75684,
    "start_time": "2022-06-28T18:31:00.851Z"
   },
   {
    "duration": 29401,
    "start_time": "2022-06-28T18:32:16.537Z"
   },
   {
    "duration": 350,
    "start_time": "2022-06-28T18:32:45.941Z"
   },
   {
    "duration": 44650,
    "start_time": "2022-06-28T18:32:46.294Z"
   },
   {
    "duration": 21229,
    "start_time": "2022-06-28T18:33:30.947Z"
   },
   {
    "duration": 4,
    "start_time": "2022-06-28T18:33:52.178Z"
   },
   {
    "duration": 7,
    "start_time": "2022-06-28T18:33:52.184Z"
   },
   {
    "duration": 136,
    "start_time": "2022-06-28T18:33:52.192Z"
   },
   {
    "duration": 0,
    "start_time": "2022-06-28T18:33:52.329Z"
   },
   {
    "duration": 0,
    "start_time": "2022-06-28T18:33:52.331Z"
   },
   {
    "duration": 0,
    "start_time": "2022-06-28T18:33:52.332Z"
   },
   {
    "duration": 7,
    "start_time": "2022-06-28T18:34:10.704Z"
   },
   {
    "duration": 5,
    "start_time": "2022-06-28T18:34:11.080Z"
   },
   {
    "duration": 46242,
    "start_time": "2022-06-28T18:34:12.089Z"
   },
   {
    "duration": 50,
    "start_time": "2022-06-29T19:32:51.777Z"
   },
   {
    "duration": 5374,
    "start_time": "2022-06-29T19:32:57.623Z"
   },
   {
    "duration": 18,
    "start_time": "2022-06-29T19:33:02.999Z"
   },
   {
    "duration": 148,
    "start_time": "2022-06-29T19:33:03.019Z"
   },
   {
    "duration": 5,
    "start_time": "2022-06-29T19:33:03.169Z"
   },
   {
    "duration": 19,
    "start_time": "2022-06-29T19:33:03.176Z"
   },
   {
    "duration": 15,
    "start_time": "2022-06-29T19:33:03.198Z"
   },
   {
    "duration": 61,
    "start_time": "2022-06-29T19:33:03.215Z"
   },
   {
    "duration": 17,
    "start_time": "2022-06-29T19:33:03.278Z"
   },
   {
    "duration": 52,
    "start_time": "2022-06-29T19:33:03.297Z"
   },
   {
    "duration": 4,
    "start_time": "2022-06-29T19:33:03.351Z"
   },
   {
    "duration": 111,
    "start_time": "2022-06-29T19:33:03.356Z"
   },
   {
    "duration": 15,
    "start_time": "2022-06-29T19:33:03.469Z"
   },
   {
    "duration": 79,
    "start_time": "2022-06-29T19:33:04.310Z"
   },
   {
    "duration": 100,
    "start_time": "2022-06-29T19:33:05.490Z"
   },
   {
    "duration": 347,
    "start_time": "2022-06-29T19:33:06.003Z"
   },
   {
    "duration": 440,
    "start_time": "2022-06-29T19:33:06.352Z"
   },
   {
    "duration": 426,
    "start_time": "2022-06-29T19:33:06.804Z"
   },
   {
    "duration": 36,
    "start_time": "2022-06-29T19:33:07.440Z"
   },
   {
    "duration": 192,
    "start_time": "2022-06-29T19:33:11.236Z"
   },
   {
    "duration": 186,
    "start_time": "2022-06-29T19:34:02.917Z"
   },
   {
    "duration": 188,
    "start_time": "2022-06-29T19:34:13.134Z"
   },
   {
    "duration": 762,
    "start_time": "2022-06-29T19:34:30.363Z"
   },
   {
    "duration": 314,
    "start_time": "2022-06-29T19:34:31.674Z"
   },
   {
    "duration": 98,
    "start_time": "2022-06-29T19:34:32.093Z"
   },
   {
    "duration": 6,
    "start_time": "2022-06-29T19:34:33.750Z"
   },
   {
    "duration": 72245,
    "start_time": "2022-06-29T19:34:34.105Z"
   },
   {
    "duration": 118622,
    "start_time": "2022-06-29T19:35:46.352Z"
   },
   {
    "duration": 391,
    "start_time": "2022-06-29T19:37:45.042Z"
   },
   {
    "duration": 52343,
    "start_time": "2022-06-29T19:37:45.441Z"
   },
   {
    "duration": 23824,
    "start_time": "2022-06-29T19:38:37.786Z"
   },
   {
    "duration": 5,
    "start_time": "2022-06-29T19:39:01.612Z"
   },
   {
    "duration": 15,
    "start_time": "2022-06-29T19:39:01.618Z"
   },
   {
    "duration": 35,
    "start_time": "2022-06-29T19:39:01.635Z"
   },
   {
    "duration": 24,
    "start_time": "2022-06-29T19:39:01.673Z"
   },
   {
    "duration": 62719,
    "start_time": "2022-06-29T19:39:01.699Z"
   },
   {
    "duration": 303,
    "start_time": "2022-06-29T19:40:04.419Z"
   },
   {
    "duration": 913,
    "start_time": "2022-06-29T19:40:04.724Z"
   },
   {
    "duration": 15,
    "start_time": "2022-06-29T19:40:05.641Z"
   },
   {
    "duration": 127,
    "start_time": "2022-06-29T19:40:05.658Z"
   },
   {
    "duration": 5,
    "start_time": "2022-06-29T19:40:05.786Z"
   },
   {
    "duration": 8,
    "start_time": "2022-06-29T19:40:05.793Z"
   },
   {
    "duration": 12,
    "start_time": "2022-06-29T19:40:05.803Z"
   },
   {
    "duration": 59,
    "start_time": "2022-06-29T19:40:05.817Z"
   },
   {
    "duration": 18,
    "start_time": "2022-06-29T19:40:05.985Z"
   },
   {
    "duration": 55,
    "start_time": "2022-06-29T19:40:06.612Z"
   },
   {
    "duration": 4,
    "start_time": "2022-06-29T19:40:06.671Z"
   },
   {
    "duration": 100,
    "start_time": "2022-06-29T19:40:06.884Z"
   },
   {
    "duration": 2,
    "start_time": "2022-06-29T19:40:07.238Z"
   },
   {
    "duration": 77,
    "start_time": "2022-06-29T19:40:07.592Z"
   },
   {
    "duration": 78,
    "start_time": "2022-06-29T19:40:08.254Z"
   },
   {
    "duration": 295,
    "start_time": "2022-06-29T19:40:08.612Z"
   },
   {
    "duration": 350,
    "start_time": "2022-06-29T19:40:08.988Z"
   },
   {
    "duration": 295,
    "start_time": "2022-06-29T19:40:09.339Z"
   },
   {
    "duration": 28,
    "start_time": "2022-06-29T19:40:09.637Z"
   },
   {
    "duration": 138,
    "start_time": "2022-06-29T19:40:11.301Z"
   },
   {
    "duration": 181,
    "start_time": "2022-06-29T19:40:11.671Z"
   },
   {
    "duration": 147,
    "start_time": "2022-06-29T19:40:12.049Z"
   },
   {
    "duration": 607,
    "start_time": "2022-06-29T19:40:12.653Z"
   },
   {
    "duration": 251,
    "start_time": "2022-06-29T19:40:13.309Z"
   },
   {
    "duration": 90,
    "start_time": "2022-06-29T19:40:13.671Z"
   },
   {
    "duration": 3,
    "start_time": "2022-06-29T19:40:15.025Z"
   },
   {
    "duration": 67809,
    "start_time": "2022-06-29T19:40:15.564Z"
   },
   {
    "duration": 121616,
    "start_time": "2022-06-29T19:41:23.445Z"
   },
   {
    "duration": 286,
    "start_time": "2022-06-29T19:43:25.064Z"
   },
   {
    "duration": 58896,
    "start_time": "2022-06-29T19:43:25.352Z"
   },
   {
    "duration": 20977,
    "start_time": "2022-06-29T19:44:24.249Z"
   },
   {
    "duration": 3,
    "start_time": "2022-06-29T19:44:45.228Z"
   },
   {
    "duration": 11,
    "start_time": "2022-06-29T19:44:45.249Z"
   },
   {
    "duration": 103,
    "start_time": "2022-06-29T19:44:45.261Z"
   },
   {
    "duration": 0,
    "start_time": "2022-06-29T19:44:45.370Z"
   },
   {
    "duration": 0,
    "start_time": "2022-06-29T19:44:45.371Z"
   },
   {
    "duration": 0,
    "start_time": "2022-06-29T19:44:45.372Z"
   },
   {
    "duration": 32,
    "start_time": "2022-06-29T19:52:33.067Z"
   },
   {
    "duration": 6,
    "start_time": "2022-06-29T19:52:34.176Z"
   },
   {
    "duration": 7,
    "start_time": "2022-06-29T19:52:34.759Z"
   },
   {
    "duration": 67174,
    "start_time": "2022-06-29T19:52:35.220Z"
   }
  ],
  "kernelspec": {
   "display_name": "Python 3 (ipykernel)",
   "language": "python",
   "name": "python3"
  },
  "language_info": {
   "codemirror_mode": {
    "name": "ipython",
    "version": 3
   },
   "file_extension": ".py",
   "mimetype": "text/x-python",
   "name": "python",
   "nbconvert_exporter": "python",
   "pygments_lexer": "ipython3",
   "version": "3.9.12"
  },
  "toc": {
   "base_numbering": 1,
   "nav_menu": {},
   "number_sections": true,
   "sideBar": true,
   "skip_h1_title": true,
   "title_cell": "Table of Contents",
   "title_sidebar": "Contents",
   "toc_cell": false,
   "toc_position": {},
   "toc_section_display": true,
   "toc_window_display": false
  }
 },
 "nbformat": 4,
 "nbformat_minor": 2
}
