{
 "cells": [
  {
   "cell_type": "markdown",
   "metadata": {
    "toc": true
   },
   "source": [
    "<h1>Содержание<span class=\"tocSkip\"></span></h1>\n",
    "<div class=\"toc\"><ul class=\"toc-item\"><li><span><a href=\"#Подготовка-данных\" data-toc-modified-id=\"Подготовка-данных-1\"><span class=\"toc-item-num\">1&nbsp;&nbsp;</span>Подготовка данных</a></span></li><li><span><a href=\"#Исследование-задачи\" data-toc-modified-id=\"Исследование-задачи-2\"><span class=\"toc-item-num\">2&nbsp;&nbsp;</span>Исследование задачи</a></span></li><li><span><a href=\"#Борьба-с-дисбалансом\" data-toc-modified-id=\"Борьба-с-дисбалансом-3\"><span class=\"toc-item-num\">3&nbsp;&nbsp;</span>Борьба с дисбалансом</a></span><ul class=\"toc-item\"><li><span><a href=\"#Подбор-гиперпараметров-на-выборке-с-устраненным-дисбалансом\" data-toc-modified-id=\"Подбор-гиперпараметров-на-выборке-с-устраненным-дисбалансом-3.1\"><span class=\"toc-item-num\">3.1&nbsp;&nbsp;</span>Подбор гиперпараметров на выборке с устраненным дисбалансом</a></span></li></ul></li><li><span><a href=\"#Тестирование-модели\" data-toc-modified-id=\"Тестирование-модели-4\"><span class=\"toc-item-num\">4&nbsp;&nbsp;</span>Тестирование модели</a></span></li><li><span><a href=\"#Чек-лист-готовности-проекта\" data-toc-modified-id=\"Чек-лист-готовности-проекта-5\"><span class=\"toc-item-num\">5&nbsp;&nbsp;</span>Чек-лист готовности проекта</a></span></li></ul></div>"
   ]
  },
  {
   "cell_type": "markdown",
   "metadata": {},
   "source": [
    "# Отток клиентов"
   ]
  },
  {
   "cell_type": "markdown",
   "metadata": {},
   "source": [
    "Из «Бета-Банка» стали уходить клиенты. Каждый месяц. Немного, но заметно. Банковские маркетологи посчитали: сохранять текущих клиентов дешевле, чем привлекать новых.\n",
    "\n",
    "Нужно спрогнозировать, уйдёт клиент из банка в ближайшее время или нет. Вам предоставлены исторические данные о поведении клиентов и расторжении договоров с банком. \n",
    "\n",
    "Постройте модель с предельно большим значением *F1*-меры. Чтобы сдать проект успешно, нужно довести метрику до 0.59. Проверьте *F1*-меру на тестовой выборке самостоятельно.\n",
    "\n",
    "Дополнительно измеряйте *AUC-ROC*, сравнивайте её значение с *F1*-мерой.\n",
    "\n",
    "Источник данных: [https://www.kaggle.com/barelydedicated/bank-customer-churn-modeling](https://www.kaggle.com/barelydedicated/bank-customer-churn-modeling)\n",
    "\n",
    "ПРИЗНАКИ:\n",
    "\n",
    "RowNumber — индекс строки в данных\n",
    "\n",
    "CustomerId — уникальный идентификатор клиента\n",
    "\n",
    "Surname — фамилия\n",
    "\n",
    "CreditScore — кредитный рейтинг\n",
    "\n",
    "Geography — страна проживания\n",
    "\n",
    "Gender — пол\n",
    "\n",
    "Age — возраст\n",
    "\n",
    "Tenure — сколько лет человек является клиентом банка\n",
    "\n",
    "Balance — баланс на счёте\n",
    "\n",
    "NumOfProducts — количество продуктов банка, используемых клиентом\n",
    "\n",
    "HasCrCard — наличие кредитной карты\n",
    "\n",
    "IsActiveMember — активность клиента\n",
    "\n",
    "EstimatedSalary — предполагаемая зарплата\n",
    "\n",
    "ЦЕЛЕВОЙ ПРИЗНАК:\n",
    "\n",
    "Exited — факт ухода клиента"
   ]
  },
  {
   "cell_type": "markdown",
   "metadata": {},
   "source": [
    "## Подготовка данных"
   ]
  },
  {
   "cell_type": "code",
   "execution_count": 1,
   "metadata": {},
   "outputs": [],
   "source": [
    "import pandas as pd\n",
    "import numpy as np\n",
    "import seaborn as sns\n",
    "import matplotlib.pyplot as plt\n",
    "\n",
    "from sklearn.model_selection import train_test_split\n",
    "from sklearn.utils import shuffle\n",
    "from sklearn.preprocessing import StandardScaler\n",
    "\n",
    "from sklearn.model_selection import RandomizedSearchCV\n",
    "from sklearn.model_selection import GridSearchCV\n",
    "\n",
    "from sklearn.metrics import f1_score\n",
    "from sklearn.metrics import roc_auc_score\n",
    "\n",
    "from sklearn.linear_model import LogisticRegression\n",
    "from sklearn.tree import DecisionTreeClassifier\n",
    "from sklearn.ensemble import RandomForestClassifier"
   ]
  },
  {
   "cell_type": "code",
   "execution_count": 2,
   "metadata": {},
   "outputs": [],
   "source": [
    "import pandas as pd\n",
    "data = pd.read_csv('/datasets/Churn.csv')"
   ]
  },
  {
   "cell_type": "code",
   "execution_count": 3,
   "metadata": {},
   "outputs": [
    {
     "data": {
      "text/html": [
       "<div>\n",
       "<style scoped>\n",
       "    .dataframe tbody tr th:only-of-type {\n",
       "        vertical-align: middle;\n",
       "    }\n",
       "\n",
       "    .dataframe tbody tr th {\n",
       "        vertical-align: top;\n",
       "    }\n",
       "\n",
       "    .dataframe thead th {\n",
       "        text-align: right;\n",
       "    }\n",
       "</style>\n",
       "<table border=\"1\" class=\"dataframe\">\n",
       "  <thead>\n",
       "    <tr style=\"text-align: right;\">\n",
       "      <th></th>\n",
       "      <th>RowNumber</th>\n",
       "      <th>CustomerId</th>\n",
       "      <th>Surname</th>\n",
       "      <th>CreditScore</th>\n",
       "      <th>Geography</th>\n",
       "      <th>Gender</th>\n",
       "      <th>Age</th>\n",
       "      <th>Tenure</th>\n",
       "      <th>Balance</th>\n",
       "      <th>NumOfProducts</th>\n",
       "      <th>HasCrCard</th>\n",
       "      <th>IsActiveMember</th>\n",
       "      <th>EstimatedSalary</th>\n",
       "      <th>Exited</th>\n",
       "    </tr>\n",
       "  </thead>\n",
       "  <tbody>\n",
       "    <tr>\n",
       "      <th>0</th>\n",
       "      <td>1</td>\n",
       "      <td>15634602</td>\n",
       "      <td>Hargrave</td>\n",
       "      <td>619</td>\n",
       "      <td>France</td>\n",
       "      <td>Female</td>\n",
       "      <td>42</td>\n",
       "      <td>2.0</td>\n",
       "      <td>0.00</td>\n",
       "      <td>1</td>\n",
       "      <td>1</td>\n",
       "      <td>1</td>\n",
       "      <td>101348.88</td>\n",
       "      <td>1</td>\n",
       "    </tr>\n",
       "    <tr>\n",
       "      <th>1</th>\n",
       "      <td>2</td>\n",
       "      <td>15647311</td>\n",
       "      <td>Hill</td>\n",
       "      <td>608</td>\n",
       "      <td>Spain</td>\n",
       "      <td>Female</td>\n",
       "      <td>41</td>\n",
       "      <td>1.0</td>\n",
       "      <td>83807.86</td>\n",
       "      <td>1</td>\n",
       "      <td>0</td>\n",
       "      <td>1</td>\n",
       "      <td>112542.58</td>\n",
       "      <td>0</td>\n",
       "    </tr>\n",
       "    <tr>\n",
       "      <th>2</th>\n",
       "      <td>3</td>\n",
       "      <td>15619304</td>\n",
       "      <td>Onio</td>\n",
       "      <td>502</td>\n",
       "      <td>France</td>\n",
       "      <td>Female</td>\n",
       "      <td>42</td>\n",
       "      <td>8.0</td>\n",
       "      <td>159660.80</td>\n",
       "      <td>3</td>\n",
       "      <td>1</td>\n",
       "      <td>0</td>\n",
       "      <td>113931.57</td>\n",
       "      <td>1</td>\n",
       "    </tr>\n",
       "    <tr>\n",
       "      <th>3</th>\n",
       "      <td>4</td>\n",
       "      <td>15701354</td>\n",
       "      <td>Boni</td>\n",
       "      <td>699</td>\n",
       "      <td>France</td>\n",
       "      <td>Female</td>\n",
       "      <td>39</td>\n",
       "      <td>1.0</td>\n",
       "      <td>0.00</td>\n",
       "      <td>2</td>\n",
       "      <td>0</td>\n",
       "      <td>0</td>\n",
       "      <td>93826.63</td>\n",
       "      <td>0</td>\n",
       "    </tr>\n",
       "    <tr>\n",
       "      <th>4</th>\n",
       "      <td>5</td>\n",
       "      <td>15737888</td>\n",
       "      <td>Mitchell</td>\n",
       "      <td>850</td>\n",
       "      <td>Spain</td>\n",
       "      <td>Female</td>\n",
       "      <td>43</td>\n",
       "      <td>2.0</td>\n",
       "      <td>125510.82</td>\n",
       "      <td>1</td>\n",
       "      <td>1</td>\n",
       "      <td>1</td>\n",
       "      <td>79084.10</td>\n",
       "      <td>0</td>\n",
       "    </tr>\n",
       "  </tbody>\n",
       "</table>\n",
       "</div>"
      ],
      "text/plain": [
       "   RowNumber  CustomerId   Surname  CreditScore Geography  Gender  Age  \\\n",
       "0          1    15634602  Hargrave          619    France  Female   42   \n",
       "1          2    15647311      Hill          608     Spain  Female   41   \n",
       "2          3    15619304      Onio          502    France  Female   42   \n",
       "3          4    15701354      Boni          699    France  Female   39   \n",
       "4          5    15737888  Mitchell          850     Spain  Female   43   \n",
       "\n",
       "   Tenure    Balance  NumOfProducts  HasCrCard  IsActiveMember  \\\n",
       "0     2.0       0.00              1          1               1   \n",
       "1     1.0   83807.86              1          0               1   \n",
       "2     8.0  159660.80              3          1               0   \n",
       "3     1.0       0.00              2          0               0   \n",
       "4     2.0  125510.82              1          1               1   \n",
       "\n",
       "   EstimatedSalary  Exited  \n",
       "0        101348.88       1  \n",
       "1        112542.58       0  \n",
       "2        113931.57       1  \n",
       "3         93826.63       0  \n",
       "4         79084.10       0  "
      ]
     },
     "execution_count": 3,
     "metadata": {},
     "output_type": "execute_result"
    }
   ],
   "source": [
    "data.head()"
   ]
  },
  {
   "cell_type": "markdown",
   "metadata": {},
   "source": [
    "Привожу к регистру"
   ]
  },
  {
   "cell_type": "code",
   "execution_count": 4,
   "metadata": {},
   "outputs": [],
   "source": [
    "data.columns = ['row_number','customer_id','surname','credit_score','geography','gender','age','tenure','balance','num_of_products','has_cr_card','is_active_member','estimated_salary','exited']"
   ]
  },
  {
   "cell_type": "code",
   "execution_count": 5,
   "metadata": {},
   "outputs": [
    {
     "name": "stdout",
     "output_type": "stream",
     "text": [
      "<class 'pandas.core.frame.DataFrame'>\n",
      "RangeIndex: 10000 entries, 0 to 9999\n",
      "Data columns (total 14 columns):\n",
      " #   Column            Non-Null Count  Dtype  \n",
      "---  ------            --------------  -----  \n",
      " 0   row_number        10000 non-null  int64  \n",
      " 1   customer_id       10000 non-null  int64  \n",
      " 2   surname           10000 non-null  object \n",
      " 3   credit_score      10000 non-null  int64  \n",
      " 4   geography         10000 non-null  object \n",
      " 5   gender            10000 non-null  object \n",
      " 6   age               10000 non-null  int64  \n",
      " 7   tenure            9091 non-null   float64\n",
      " 8   balance           10000 non-null  float64\n",
      " 9   num_of_products   10000 non-null  int64  \n",
      " 10  has_cr_card       10000 non-null  int64  \n",
      " 11  is_active_member  10000 non-null  int64  \n",
      " 12  estimated_salary  10000 non-null  float64\n",
      " 13  exited            10000 non-null  int64  \n",
      "dtypes: float64(3), int64(8), object(3)\n",
      "memory usage: 1.1+ MB\n"
     ]
    }
   ],
   "source": [
    "data.info()"
   ]
  },
  {
   "cell_type": "code",
   "execution_count": 6,
   "metadata": {},
   "outputs": [
    {
     "data": {
      "text/html": [
       "<div>\n",
       "<style scoped>\n",
       "    .dataframe tbody tr th:only-of-type {\n",
       "        vertical-align: middle;\n",
       "    }\n",
       "\n",
       "    .dataframe tbody tr th {\n",
       "        vertical-align: top;\n",
       "    }\n",
       "\n",
       "    .dataframe thead th {\n",
       "        text-align: right;\n",
       "    }\n",
       "</style>\n",
       "<table border=\"1\" class=\"dataframe\">\n",
       "  <thead>\n",
       "    <tr style=\"text-align: right;\">\n",
       "      <th></th>\n",
       "      <th>row_number</th>\n",
       "      <th>customer_id</th>\n",
       "      <th>credit_score</th>\n",
       "      <th>age</th>\n",
       "      <th>tenure</th>\n",
       "      <th>balance</th>\n",
       "      <th>num_of_products</th>\n",
       "      <th>has_cr_card</th>\n",
       "      <th>is_active_member</th>\n",
       "      <th>estimated_salary</th>\n",
       "      <th>exited</th>\n",
       "    </tr>\n",
       "  </thead>\n",
       "  <tbody>\n",
       "    <tr>\n",
       "      <th>count</th>\n",
       "      <td>10000.00000</td>\n",
       "      <td>1.000000e+04</td>\n",
       "      <td>10000.000000</td>\n",
       "      <td>10000.000000</td>\n",
       "      <td>9091.000000</td>\n",
       "      <td>10000.000000</td>\n",
       "      <td>10000.000000</td>\n",
       "      <td>10000.00000</td>\n",
       "      <td>10000.000000</td>\n",
       "      <td>10000.000000</td>\n",
       "      <td>10000.000000</td>\n",
       "    </tr>\n",
       "    <tr>\n",
       "      <th>mean</th>\n",
       "      <td>5000.50000</td>\n",
       "      <td>1.569094e+07</td>\n",
       "      <td>650.528800</td>\n",
       "      <td>38.921800</td>\n",
       "      <td>4.997690</td>\n",
       "      <td>76485.889288</td>\n",
       "      <td>1.530200</td>\n",
       "      <td>0.70550</td>\n",
       "      <td>0.515100</td>\n",
       "      <td>100090.239881</td>\n",
       "      <td>0.203700</td>\n",
       "    </tr>\n",
       "    <tr>\n",
       "      <th>std</th>\n",
       "      <td>2886.89568</td>\n",
       "      <td>7.193619e+04</td>\n",
       "      <td>96.653299</td>\n",
       "      <td>10.487806</td>\n",
       "      <td>2.894723</td>\n",
       "      <td>62397.405202</td>\n",
       "      <td>0.581654</td>\n",
       "      <td>0.45584</td>\n",
       "      <td>0.499797</td>\n",
       "      <td>57510.492818</td>\n",
       "      <td>0.402769</td>\n",
       "    </tr>\n",
       "    <tr>\n",
       "      <th>min</th>\n",
       "      <td>1.00000</td>\n",
       "      <td>1.556570e+07</td>\n",
       "      <td>350.000000</td>\n",
       "      <td>18.000000</td>\n",
       "      <td>0.000000</td>\n",
       "      <td>0.000000</td>\n",
       "      <td>1.000000</td>\n",
       "      <td>0.00000</td>\n",
       "      <td>0.000000</td>\n",
       "      <td>11.580000</td>\n",
       "      <td>0.000000</td>\n",
       "    </tr>\n",
       "    <tr>\n",
       "      <th>25%</th>\n",
       "      <td>2500.75000</td>\n",
       "      <td>1.562853e+07</td>\n",
       "      <td>584.000000</td>\n",
       "      <td>32.000000</td>\n",
       "      <td>2.000000</td>\n",
       "      <td>0.000000</td>\n",
       "      <td>1.000000</td>\n",
       "      <td>0.00000</td>\n",
       "      <td>0.000000</td>\n",
       "      <td>51002.110000</td>\n",
       "      <td>0.000000</td>\n",
       "    </tr>\n",
       "    <tr>\n",
       "      <th>50%</th>\n",
       "      <td>5000.50000</td>\n",
       "      <td>1.569074e+07</td>\n",
       "      <td>652.000000</td>\n",
       "      <td>37.000000</td>\n",
       "      <td>5.000000</td>\n",
       "      <td>97198.540000</td>\n",
       "      <td>1.000000</td>\n",
       "      <td>1.00000</td>\n",
       "      <td>1.000000</td>\n",
       "      <td>100193.915000</td>\n",
       "      <td>0.000000</td>\n",
       "    </tr>\n",
       "    <tr>\n",
       "      <th>75%</th>\n",
       "      <td>7500.25000</td>\n",
       "      <td>1.575323e+07</td>\n",
       "      <td>718.000000</td>\n",
       "      <td>44.000000</td>\n",
       "      <td>7.000000</td>\n",
       "      <td>127644.240000</td>\n",
       "      <td>2.000000</td>\n",
       "      <td>1.00000</td>\n",
       "      <td>1.000000</td>\n",
       "      <td>149388.247500</td>\n",
       "      <td>0.000000</td>\n",
       "    </tr>\n",
       "    <tr>\n",
       "      <th>max</th>\n",
       "      <td>10000.00000</td>\n",
       "      <td>1.581569e+07</td>\n",
       "      <td>850.000000</td>\n",
       "      <td>92.000000</td>\n",
       "      <td>10.000000</td>\n",
       "      <td>250898.090000</td>\n",
       "      <td>4.000000</td>\n",
       "      <td>1.00000</td>\n",
       "      <td>1.000000</td>\n",
       "      <td>199992.480000</td>\n",
       "      <td>1.000000</td>\n",
       "    </tr>\n",
       "  </tbody>\n",
       "</table>\n",
       "</div>"
      ],
      "text/plain": [
       "        row_number   customer_id  credit_score           age       tenure  \\\n",
       "count  10000.00000  1.000000e+04  10000.000000  10000.000000  9091.000000   \n",
       "mean    5000.50000  1.569094e+07    650.528800     38.921800     4.997690   \n",
       "std     2886.89568  7.193619e+04     96.653299     10.487806     2.894723   \n",
       "min        1.00000  1.556570e+07    350.000000     18.000000     0.000000   \n",
       "25%     2500.75000  1.562853e+07    584.000000     32.000000     2.000000   \n",
       "50%     5000.50000  1.569074e+07    652.000000     37.000000     5.000000   \n",
       "75%     7500.25000  1.575323e+07    718.000000     44.000000     7.000000   \n",
       "max    10000.00000  1.581569e+07    850.000000     92.000000    10.000000   \n",
       "\n",
       "             balance  num_of_products  has_cr_card  is_active_member  \\\n",
       "count   10000.000000     10000.000000  10000.00000      10000.000000   \n",
       "mean    76485.889288         1.530200      0.70550          0.515100   \n",
       "std     62397.405202         0.581654      0.45584          0.499797   \n",
       "min         0.000000         1.000000      0.00000          0.000000   \n",
       "25%         0.000000         1.000000      0.00000          0.000000   \n",
       "50%     97198.540000         1.000000      1.00000          1.000000   \n",
       "75%    127644.240000         2.000000      1.00000          1.000000   \n",
       "max    250898.090000         4.000000      1.00000          1.000000   \n",
       "\n",
       "       estimated_salary        exited  \n",
       "count      10000.000000  10000.000000  \n",
       "mean      100090.239881      0.203700  \n",
       "std        57510.492818      0.402769  \n",
       "min           11.580000      0.000000  \n",
       "25%        51002.110000      0.000000  \n",
       "50%       100193.915000      0.000000  \n",
       "75%       149388.247500      0.000000  \n",
       "max       199992.480000      1.000000  "
      ]
     },
     "execution_count": 6,
     "metadata": {},
     "output_type": "execute_result"
    }
   ],
   "source": [
    "data.describe()"
   ]
  },
  {
   "cell_type": "markdown",
   "metadata": {},
   "source": [
    "Наблюдаем пропуски с строке Tenure — сколько лет человек является клиентом банка, скорее всего это связанно с некорректным сбором информации. "
   ]
  },
  {
   "cell_type": "code",
   "execution_count": 7,
   "metadata": {},
   "outputs": [
    {
     "name": "stdout",
     "output_type": "stream",
     "text": [
      "Доля пропусков к общему количеству: 0.0909\n"
     ]
    }
   ],
   "source": [
    "print('Доля пропусков к общему количеству:', data['tenure'].isna().mean())"
   ]
  },
  {
   "cell_type": "markdown",
   "metadata": {},
   "source": [
    "Заменю медианой"
   ]
  },
  {
   "cell_type": "code",
   "execution_count": 8,
   "metadata": {},
   "outputs": [],
   "source": [
    "data.loc[data.tenure.isna(),'tenure']=data.loc[data.tenure.isna()==False,'tenure'].median()"
   ]
  },
  {
   "cell_type": "markdown",
   "metadata": {},
   "source": [
    "Некоторые данные не важны для обучения и решения задачи - удаляю"
   ]
  },
  {
   "cell_type": "code",
   "execution_count": 9,
   "metadata": {},
   "outputs": [
    {
     "data": {
      "text/html": [
       "<div>\n",
       "<style scoped>\n",
       "    .dataframe tbody tr th:only-of-type {\n",
       "        vertical-align: middle;\n",
       "    }\n",
       "\n",
       "    .dataframe tbody tr th {\n",
       "        vertical-align: top;\n",
       "    }\n",
       "\n",
       "    .dataframe thead th {\n",
       "        text-align: right;\n",
       "    }\n",
       "</style>\n",
       "<table border=\"1\" class=\"dataframe\">\n",
       "  <thead>\n",
       "    <tr style=\"text-align: right;\">\n",
       "      <th></th>\n",
       "      <th>credit_score</th>\n",
       "      <th>geography</th>\n",
       "      <th>gender</th>\n",
       "      <th>age</th>\n",
       "      <th>tenure</th>\n",
       "      <th>balance</th>\n",
       "      <th>num_of_products</th>\n",
       "      <th>has_cr_card</th>\n",
       "      <th>is_active_member</th>\n",
       "      <th>estimated_salary</th>\n",
       "      <th>exited</th>\n",
       "    </tr>\n",
       "  </thead>\n",
       "  <tbody>\n",
       "    <tr>\n",
       "      <th>0</th>\n",
       "      <td>619</td>\n",
       "      <td>France</td>\n",
       "      <td>Female</td>\n",
       "      <td>42</td>\n",
       "      <td>2.0</td>\n",
       "      <td>0.00</td>\n",
       "      <td>1</td>\n",
       "      <td>1</td>\n",
       "      <td>1</td>\n",
       "      <td>101348.88</td>\n",
       "      <td>1</td>\n",
       "    </tr>\n",
       "    <tr>\n",
       "      <th>1</th>\n",
       "      <td>608</td>\n",
       "      <td>Spain</td>\n",
       "      <td>Female</td>\n",
       "      <td>41</td>\n",
       "      <td>1.0</td>\n",
       "      <td>83807.86</td>\n",
       "      <td>1</td>\n",
       "      <td>0</td>\n",
       "      <td>1</td>\n",
       "      <td>112542.58</td>\n",
       "      <td>0</td>\n",
       "    </tr>\n",
       "    <tr>\n",
       "      <th>2</th>\n",
       "      <td>502</td>\n",
       "      <td>France</td>\n",
       "      <td>Female</td>\n",
       "      <td>42</td>\n",
       "      <td>8.0</td>\n",
       "      <td>159660.80</td>\n",
       "      <td>3</td>\n",
       "      <td>1</td>\n",
       "      <td>0</td>\n",
       "      <td>113931.57</td>\n",
       "      <td>1</td>\n",
       "    </tr>\n",
       "    <tr>\n",
       "      <th>3</th>\n",
       "      <td>699</td>\n",
       "      <td>France</td>\n",
       "      <td>Female</td>\n",
       "      <td>39</td>\n",
       "      <td>1.0</td>\n",
       "      <td>0.00</td>\n",
       "      <td>2</td>\n",
       "      <td>0</td>\n",
       "      <td>0</td>\n",
       "      <td>93826.63</td>\n",
       "      <td>0</td>\n",
       "    </tr>\n",
       "    <tr>\n",
       "      <th>4</th>\n",
       "      <td>850</td>\n",
       "      <td>Spain</td>\n",
       "      <td>Female</td>\n",
       "      <td>43</td>\n",
       "      <td>2.0</td>\n",
       "      <td>125510.82</td>\n",
       "      <td>1</td>\n",
       "      <td>1</td>\n",
       "      <td>1</td>\n",
       "      <td>79084.10</td>\n",
       "      <td>0</td>\n",
       "    </tr>\n",
       "  </tbody>\n",
       "</table>\n",
       "</div>"
      ],
      "text/plain": [
       "   credit_score geography  gender  age  tenure    balance  num_of_products  \\\n",
       "0           619    France  Female   42     2.0       0.00                1   \n",
       "1           608     Spain  Female   41     1.0   83807.86                1   \n",
       "2           502    France  Female   42     8.0  159660.80                3   \n",
       "3           699    France  Female   39     1.0       0.00                2   \n",
       "4           850     Spain  Female   43     2.0  125510.82                1   \n",
       "\n",
       "   has_cr_card  is_active_member  estimated_salary  exited  \n",
       "0            1                 1         101348.88       1  \n",
       "1            0                 1         112542.58       0  \n",
       "2            1                 0         113931.57       1  \n",
       "3            0                 0          93826.63       0  \n",
       "4            1                 1          79084.10       0  "
      ]
     },
     "execution_count": 9,
     "metadata": {},
     "output_type": "execute_result"
    }
   ],
   "source": [
    "data_learn = data.drop(['row_number','customer_id','surname'],axis=1)\n",
    "data_learn.head()"
   ]
  },
  {
   "cell_type": "code",
   "execution_count": 10,
   "metadata": {},
   "outputs": [],
   "source": [
    "data_learn = pd.get_dummies(data_learn,drop_first=True)"
   ]
  },
  {
   "cell_type": "code",
   "execution_count": 11,
   "metadata": {},
   "outputs": [
    {
     "data": {
      "text/html": [
       "<div>\n",
       "<style scoped>\n",
       "    .dataframe tbody tr th:only-of-type {\n",
       "        vertical-align: middle;\n",
       "    }\n",
       "\n",
       "    .dataframe tbody tr th {\n",
       "        vertical-align: top;\n",
       "    }\n",
       "\n",
       "    .dataframe thead th {\n",
       "        text-align: right;\n",
       "    }\n",
       "</style>\n",
       "<table border=\"1\" class=\"dataframe\">\n",
       "  <thead>\n",
       "    <tr style=\"text-align: right;\">\n",
       "      <th></th>\n",
       "      <th>credit_score</th>\n",
       "      <th>age</th>\n",
       "      <th>tenure</th>\n",
       "      <th>balance</th>\n",
       "      <th>num_of_products</th>\n",
       "      <th>has_cr_card</th>\n",
       "      <th>is_active_member</th>\n",
       "      <th>estimated_salary</th>\n",
       "      <th>exited</th>\n",
       "      <th>geography_Germany</th>\n",
       "      <th>geography_Spain</th>\n",
       "      <th>gender_Male</th>\n",
       "    </tr>\n",
       "  </thead>\n",
       "  <tbody>\n",
       "    <tr>\n",
       "      <th>0</th>\n",
       "      <td>619</td>\n",
       "      <td>42</td>\n",
       "      <td>2.0</td>\n",
       "      <td>0.00</td>\n",
       "      <td>1</td>\n",
       "      <td>1</td>\n",
       "      <td>1</td>\n",
       "      <td>101348.88</td>\n",
       "      <td>1</td>\n",
       "      <td>0</td>\n",
       "      <td>0</td>\n",
       "      <td>0</td>\n",
       "    </tr>\n",
       "    <tr>\n",
       "      <th>1</th>\n",
       "      <td>608</td>\n",
       "      <td>41</td>\n",
       "      <td>1.0</td>\n",
       "      <td>83807.86</td>\n",
       "      <td>1</td>\n",
       "      <td>0</td>\n",
       "      <td>1</td>\n",
       "      <td>112542.58</td>\n",
       "      <td>0</td>\n",
       "      <td>0</td>\n",
       "      <td>1</td>\n",
       "      <td>0</td>\n",
       "    </tr>\n",
       "    <tr>\n",
       "      <th>2</th>\n",
       "      <td>502</td>\n",
       "      <td>42</td>\n",
       "      <td>8.0</td>\n",
       "      <td>159660.80</td>\n",
       "      <td>3</td>\n",
       "      <td>1</td>\n",
       "      <td>0</td>\n",
       "      <td>113931.57</td>\n",
       "      <td>1</td>\n",
       "      <td>0</td>\n",
       "      <td>0</td>\n",
       "      <td>0</td>\n",
       "    </tr>\n",
       "    <tr>\n",
       "      <th>3</th>\n",
       "      <td>699</td>\n",
       "      <td>39</td>\n",
       "      <td>1.0</td>\n",
       "      <td>0.00</td>\n",
       "      <td>2</td>\n",
       "      <td>0</td>\n",
       "      <td>0</td>\n",
       "      <td>93826.63</td>\n",
       "      <td>0</td>\n",
       "      <td>0</td>\n",
       "      <td>0</td>\n",
       "      <td>0</td>\n",
       "    </tr>\n",
       "    <tr>\n",
       "      <th>4</th>\n",
       "      <td>850</td>\n",
       "      <td>43</td>\n",
       "      <td>2.0</td>\n",
       "      <td>125510.82</td>\n",
       "      <td>1</td>\n",
       "      <td>1</td>\n",
       "      <td>1</td>\n",
       "      <td>79084.10</td>\n",
       "      <td>0</td>\n",
       "      <td>0</td>\n",
       "      <td>1</td>\n",
       "      <td>0</td>\n",
       "    </tr>\n",
       "  </tbody>\n",
       "</table>\n",
       "</div>"
      ],
      "text/plain": [
       "   credit_score  age  tenure    balance  num_of_products  has_cr_card  \\\n",
       "0           619   42     2.0       0.00                1            1   \n",
       "1           608   41     1.0   83807.86                1            0   \n",
       "2           502   42     8.0  159660.80                3            1   \n",
       "3           699   39     1.0       0.00                2            0   \n",
       "4           850   43     2.0  125510.82                1            1   \n",
       "\n",
       "   is_active_member  estimated_salary  exited  geography_Germany  \\\n",
       "0                 1         101348.88       1                  0   \n",
       "1                 1         112542.58       0                  0   \n",
       "2                 0         113931.57       1                  0   \n",
       "3                 0          93826.63       0                  0   \n",
       "4                 1          79084.10       0                  0   \n",
       "\n",
       "   geography_Spain  gender_Male  \n",
       "0                0            0  \n",
       "1                1            0  \n",
       "2                0            0  \n",
       "3                0            0  \n",
       "4                1            0  "
      ]
     },
     "execution_count": 11,
     "metadata": {},
     "output_type": "execute_result"
    }
   ],
   "source": [
    "data_learn.head()"
   ]
  },
  {
   "cell_type": "markdown",
   "metadata": {},
   "source": [
    "Вывод:данный проанализированы - недостающие заменены медианным значениям. \n",
    "Данные не влияющие на результат выполнения - удалены.     "
   ]
  },
  {
   "cell_type": "markdown",
   "metadata": {},
   "source": [
    "## Исследование задачи"
   ]
  },
  {
   "cell_type": "markdown",
   "metadata": {},
   "source": [
    "Сформировал выборку"
   ]
  },
  {
   "cell_type": "code",
   "execution_count": 12,
   "metadata": {},
   "outputs": [],
   "source": [
    "features = data_learn.drop('exited',axis=1)\n",
    "target=data_learn['exited']"
   ]
  },
  {
   "cell_type": "code",
   "execution_count": 13,
   "metadata": {},
   "outputs": [],
   "source": [
    "features_train,features_test,target_train,target_test = train_test_split(features,target,test_size=0.2,random_state=12345)"
   ]
  },
  {
   "cell_type": "code",
   "execution_count": 14,
   "metadata": {
    "scrolled": true
   },
   "outputs": [
    {
     "name": "stderr",
     "output_type": "stream",
     "text": [
      "/opt/conda/lib/python3.9/site-packages/pandas/core/indexing.py:1738: SettingWithCopyWarning: \n",
      "A value is trying to be set on a copy of a slice from a DataFrame.\n",
      "Try using .loc[row_indexer,col_indexer] = value instead\n",
      "\n",
      "See the caveats in the documentation: https://pandas.pydata.org/pandas-docs/stable/user_guide/indexing.html#returning-a-view-versus-a-copy\n",
      "  self._setitem_single_column(loc, value[:, i].tolist(), pi)\n",
      "/opt/conda/lib/python3.9/site-packages/pandas/core/indexing.py:1738: SettingWithCopyWarning: \n",
      "A value is trying to be set on a copy of a slice from a DataFrame.\n",
      "Try using .loc[row_indexer,col_indexer] = value instead\n",
      "\n",
      "See the caveats in the documentation: https://pandas.pydata.org/pandas-docs/stable/user_guide/indexing.html#returning-a-view-versus-a-copy\n",
      "  self._setitem_single_column(loc, value[:, i].tolist(), pi)\n"
     ]
    }
   ],
   "source": [
    "scaler = StandardScaler()\n",
    "\n",
    "numeric = ['credit_score', 'age', 'balance', 'num_of_products', 'estimated_salary', 'tenure']\n",
    "\n",
    "scaler.fit(features_train[numeric])\n",
    "\n",
    "features_train.loc[:,(numeric)] = scaler.transform(features_train.loc[:,(numeric)])\n",
    "features_test.loc[:,(numeric)] = scaler.transform(features_test.loc[:,(numeric)])"
   ]
  },
  {
   "cell_type": "code",
   "execution_count": 15,
   "metadata": {},
   "outputs": [
    {
     "name": "stdout",
     "output_type": "stream",
     "text": [
      "Значения тренировочной выборке\n",
      "0    0.79875\n",
      "1    0.20125\n",
      "Name: exited, dtype: float64\n",
      "Значений тестовой выборке\n",
      "0    0.7865\n",
      "1    0.2135\n",
      "Name: exited, dtype: float64\n"
     ]
    }
   ],
   "source": [
    "print('Значения тренировочной выборке')\n",
    "print(target_train.value_counts(normalize=True))\n",
    "print('Значений тестовой выборке')\n",
    "print(target_test.value_counts(normalize=True))"
   ]
  },
  {
   "cell_type": "code",
   "execution_count": 16,
   "metadata": {},
   "outputs": [
    {
     "name": "stdout",
     "output_type": "stream",
     "text": [
      "F1= 0.2857142857142857\n",
      "ROC-AUC= 0.7575583879607725\n"
     ]
    }
   ],
   "source": [
    "model_regre = LogisticRegression(random_state=12345,solver='liblinear')\n",
    "model_regre.fit(features_train, target_train)\n",
    "predictions_test = model_regre.predict(features_test)\n",
    "\n",
    "probabilities_test = model_regre.predict_proba(features_test)\n",
    "probabilities_one_test = probabilities_test[:, 1]\n",
    "print('F1=',f1_score(target_test,predictions_test))\n",
    "print('ROC-AUC=',roc_auc_score(target_test,probabilities_one_test))"
   ]
  },
  {
   "cell_type": "code",
   "execution_count": 17,
   "metadata": {},
   "outputs": [
    {
     "name": "stdout",
     "output_type": "stream",
     "text": [
      "F1= 0.5091743119266056\n",
      "ROC-AUC= 0.6890694997997533\n"
     ]
    }
   ],
   "source": [
    "model_tree = DecisionTreeClassifier(random_state=12345)\n",
    "model_tree.fit(features_train,target_train)\n",
    "predictions_test = model_tree.predict(features_test)\n",
    "\n",
    "probabilities_test = model_tree.predict_proba(features_test)\n",
    "probabilities_one_test = probabilities_test[:, 1]\n",
    "print('F1=',f1_score(target_test,predictions_test))\n",
    "print('ROC-AUC=',roc_auc_score(target_test,probabilities_one_test))"
   ]
  },
  {
   "cell_type": "markdown",
   "metadata": {},
   "source": [
    "Данные модели нам не подходят"
   ]
  },
  {
   "cell_type": "markdown",
   "metadata": {},
   "source": [
    "<b>Вывод по логистической регрессии</b></p>\n",
    "Использование Логистической регрессии показывает невысокие значения метрик в силу отсутствия заметной линейной связи между свойствами и целевым признаком."
   ]
  },
  {
   "cell_type": "code",
   "execution_count": 18,
   "metadata": {},
   "outputs": [
    {
     "name": "stdout",
     "output_type": "stream",
     "text": [
      "F1= 0.5672082717872968\n",
      "ROC-AUC= 0.8550585033446434\n",
      "Accuracy on train_data 1.0\n"
     ]
    }
   ],
   "source": [
    "model_forest = RandomForestClassifier(random_state=12345)\n",
    "model_forest.fit(features_train,target_train)\n",
    "predictions_test = model_forest.predict(features_test)\n",
    "\n",
    "probabilities_test = model_forest.predict_proba(features_test)\n",
    "probabilities_one_test = probabilities_test[:, 1]\n",
    "print('F1=',f1_score(target_test,predictions_test))\n",
    "print('ROC-AUC=',roc_auc_score(target_test,probabilities_one_test))\n",
    "print('Accuracy on train_data',model_forest.score(features_train,target_train))"
   ]
  },
  {
   "cell_type": "markdown",
   "metadata": {},
   "source": [
    "<b>Вывод по выбору модели</b> Очевидно, что наиболее подходящей моделью является \"случайный лес\". Однако значения accuracy на учебной выборке показывают переобучение. При этом применение корректировки дисбаланса для линейной регрессии привело к существенному улучшению показателей, для дерева решений/случайного леса к незначительному (на уровне погрешности) ухудшению.\n",
    "Целесообразно осуществить настройку гиперпараметров для исключения переобучения и возможно улучшения показателей F1 и ROC-AUC, при одновременном устранении дисбаланса, что также может повысить показатели модели. "
   ]
  },
  {
   "cell_type": "markdown",
   "metadata": {},
   "source": [
    "<b>RandomizedSearchCV</b>"
   ]
  },
  {
   "cell_type": "code",
   "execution_count": 19,
   "metadata": {},
   "outputs": [],
   "source": [
    "n_estimators = [int(x) for x in np.linspace(start = 100, stop = 400, num = 10)]\n",
    "max_features = ['log2', 'sqrt'] \n",
    "max_depth = [int(x) for x in np.linspace(start = 1, stop = 15, num = 15)]\n",
    "min_samples_split = [int(x) for x in np.linspace(start = 2, stop = 20, num = 10)]\n",
    "min_samples_leaf = [int(x) for x in np.linspace(start = 2, stop = 20, num = 10)]\n",
    "bootstrap = [True, False]"
   ]
  },
  {
   "cell_type": "code",
   "execution_count": 20,
   "metadata": {},
   "outputs": [],
   "source": [
    "param_dist = {'n_estimators': n_estimators,\n",
    "              'max_features': max_features,\n",
    "              'max_depth': max_depth,\n",
    "              'min_samples_split': min_samples_split,\n",
    "              'min_samples_leaf': min_samples_leaf,\n",
    "              'bootstrap': bootstrap}"
   ]
  },
  {
   "cell_type": "code",
   "execution_count": 21,
   "metadata": {},
   "outputs": [],
   "source": [
    "model_forest_tune = RandomForestClassifier(random_state=12345)\n",
    "rs = RandomizedSearchCV(model_forest_tune, param_dist, n_iter = 300,  \n",
    "                        scoring='f1', \n",
    "                        cv = 3, \n",
    "                        verbose = 1, \n",
    "                        n_jobs=1, random_state=12345)"
   ]
  },
  {
   "cell_type": "code",
   "execution_count": 22,
   "metadata": {},
   "outputs": [
    {
     "name": "stdout",
     "output_type": "stream",
     "text": [
      "Fitting 3 folds for each of 300 candidates, totalling 900 fits\n"
     ]
    },
    {
     "data": {
      "text/plain": [
       "{'n_estimators': 266,\n",
       " 'min_samples_split': 6,\n",
       " 'min_samples_leaf': 2,\n",
       " 'max_features': 'sqrt',\n",
       " 'max_depth': 15,\n",
       " 'bootstrap': True}"
      ]
     },
     "execution_count": 22,
     "metadata": {},
     "output_type": "execute_result"
    }
   ],
   "source": [
    "rs.fit(features_train, target_train)\n",
    "rs.best_params_"
   ]
  },
  {
   "cell_type": "code",
   "execution_count": 23,
   "metadata": {},
   "outputs": [
    {
     "name": "stdout",
     "output_type": "stream",
     "text": [
      "F1= 0.556547619047619\n",
      "ROC-AUC= 0.8586212595154472\n",
      "Accuracy on train_data 0.967375\n",
      "Accuracy on test_data 0.851\n"
     ]
    }
   ],
   "source": [
    "model_forest2 = RandomForestClassifier(random_state=12345,n_estimators = 266,\n",
    "                                       min_samples_split = 6,\n",
    "                                       min_samples_leaf = 2,\n",
    "                                      max_features='sqrt', max_depth=15\n",
    "                                      ,bootstrap=False)\n",
    "model_forest2.fit(features_train, target_train)\n",
    "predictions_2 = model_forest2.predict(features_test)\n",
    "probabilities_2 = model_forest2.predict_proba(features_test)\n",
    "probabilities_one_2 = probabilities_2[:, 1]\n",
    "\n",
    "print('F1=',f1_score(target_test,predictions_2))\n",
    "print('ROC-AUC=',roc_auc_score(target_test,probabilities_one_2))\n",
    "print('Accuracy on train_data',model_forest2.score(features_train,target_train))\n",
    "print('Accuracy on test_data',model_forest2.score(features_test,target_test))"
   ]
  },
  {
   "cell_type": "markdown",
   "metadata": {},
   "source": [
    "снизим глубину, чтобы не допустить переобучения "
   ]
  },
  {
   "cell_type": "code",
   "execution_count": 24,
   "metadata": {},
   "outputs": [
    {
     "name": "stdout",
     "output_type": "stream",
     "text": [
      "F1= 0.5672082717872968\n",
      "ROC-AUC= 0.866973562949718\n",
      "Accuracy on train_data 0.87625\n",
      "Accuracy on test_data 0.851\n"
     ]
    }
   ],
   "source": [
    "model_forest2 = RandomForestClassifier(random_state=12345,n_estimators = 366,\n",
    "                                       min_samples_split = 4,\n",
    "                                       min_samples_leaf = 2,\n",
    "                                      max_features='sqrt', max_depth=7\n",
    "                                      ,bootstrap=False)\n",
    "model_forest2.fit(features_train, target_train)\n",
    "predictions_2 = model_forest2.predict(features_test)\n",
    "probabilities_2 = model_forest2.predict_proba(features_test)\n",
    "probabilities_one_2 = probabilities_2[:, 1]\n",
    "\n",
    "print('F1=',f1_score(target_test,predictions_test))\n",
    "print('ROC-AUC=',roc_auc_score(target_test,probabilities_one_2))\n",
    "print('Accuracy on train_data',model_forest2.score(features_train,target_train))\n",
    "print('Accuracy on test_data',model_forest2.score(features_test,target_test))"
   ]
  },
  {
   "cell_type": "code",
   "execution_count": 25,
   "metadata": {},
   "outputs": [
    {
     "data": {
      "text/plain": [
       "0.5731319353521812"
      ]
     },
     "execution_count": 25,
     "metadata": {},
     "output_type": "execute_result"
    }
   ],
   "source": [
    "rs.best_score_"
   ]
  },
  {
   "cell_type": "code",
   "execution_count": 26,
   "metadata": {},
   "outputs": [
    {
     "data": {
      "text/html": [
       "<div>\n",
       "<style scoped>\n",
       "    .dataframe tbody tr th:only-of-type {\n",
       "        vertical-align: middle;\n",
       "    }\n",
       "\n",
       "    .dataframe tbody tr th {\n",
       "        vertical-align: top;\n",
       "    }\n",
       "\n",
       "    .dataframe thead th {\n",
       "        text-align: right;\n",
       "    }\n",
       "</style>\n",
       "<table border=\"1\" class=\"dataframe\">\n",
       "  <thead>\n",
       "    <tr style=\"text-align: right;\">\n",
       "      <th></th>\n",
       "      <th>param_n_estimators</th>\n",
       "      <th>param_min_samples_split</th>\n",
       "      <th>param_min_samples_leaf</th>\n",
       "      <th>param_max_features</th>\n",
       "      <th>param_max_depth</th>\n",
       "      <th>param_bootstrap</th>\n",
       "      <th>mean_test_score</th>\n",
       "      <th>rank_test_score</th>\n",
       "    </tr>\n",
       "  </thead>\n",
       "  <tbody>\n",
       "    <tr>\n",
       "      <th>0</th>\n",
       "      <td>266</td>\n",
       "      <td>6</td>\n",
       "      <td>2</td>\n",
       "      <td>sqrt</td>\n",
       "      <td>15</td>\n",
       "      <td>True</td>\n",
       "      <td>0.573132</td>\n",
       "      <td>1</td>\n",
       "    </tr>\n",
       "    <tr>\n",
       "      <th>1</th>\n",
       "      <td>266</td>\n",
       "      <td>8</td>\n",
       "      <td>2</td>\n",
       "      <td>sqrt</td>\n",
       "      <td>11</td>\n",
       "      <td>False</td>\n",
       "      <td>0.572226</td>\n",
       "      <td>2</td>\n",
       "    </tr>\n",
       "    <tr>\n",
       "      <th>2</th>\n",
       "      <td>366</td>\n",
       "      <td>4</td>\n",
       "      <td>2</td>\n",
       "      <td>sqrt</td>\n",
       "      <td>15</td>\n",
       "      <td>False</td>\n",
       "      <td>0.572152</td>\n",
       "      <td>3</td>\n",
       "    </tr>\n",
       "    <tr>\n",
       "      <th>3</th>\n",
       "      <td>100</td>\n",
       "      <td>10</td>\n",
       "      <td>2</td>\n",
       "      <td>log2</td>\n",
       "      <td>14</td>\n",
       "      <td>False</td>\n",
       "      <td>0.572007</td>\n",
       "      <td>4</td>\n",
       "    </tr>\n",
       "    <tr>\n",
       "      <th>4</th>\n",
       "      <td>233</td>\n",
       "      <td>12</td>\n",
       "      <td>2</td>\n",
       "      <td>sqrt</td>\n",
       "      <td>11</td>\n",
       "      <td>True</td>\n",
       "      <td>0.571631</td>\n",
       "      <td>5</td>\n",
       "    </tr>\n",
       "    <tr>\n",
       "      <th>5</th>\n",
       "      <td>233</td>\n",
       "      <td>10</td>\n",
       "      <td>2</td>\n",
       "      <td>log2</td>\n",
       "      <td>11</td>\n",
       "      <td>False</td>\n",
       "      <td>0.571168</td>\n",
       "      <td>6</td>\n",
       "    </tr>\n",
       "    <tr>\n",
       "      <th>6</th>\n",
       "      <td>200</td>\n",
       "      <td>6</td>\n",
       "      <td>4</td>\n",
       "      <td>sqrt</td>\n",
       "      <td>13</td>\n",
       "      <td>False</td>\n",
       "      <td>0.571153</td>\n",
       "      <td>7</td>\n",
       "    </tr>\n",
       "    <tr>\n",
       "      <th>7</th>\n",
       "      <td>400</td>\n",
       "      <td>6</td>\n",
       "      <td>2</td>\n",
       "      <td>sqrt</td>\n",
       "      <td>14</td>\n",
       "      <td>True</td>\n",
       "      <td>0.570856</td>\n",
       "      <td>8</td>\n",
       "    </tr>\n",
       "    <tr>\n",
       "      <th>8</th>\n",
       "      <td>166</td>\n",
       "      <td>6</td>\n",
       "      <td>8</td>\n",
       "      <td>log2</td>\n",
       "      <td>11</td>\n",
       "      <td>False</td>\n",
       "      <td>0.570148</td>\n",
       "      <td>9</td>\n",
       "    </tr>\n",
       "    <tr>\n",
       "      <th>9</th>\n",
       "      <td>300</td>\n",
       "      <td>18</td>\n",
       "      <td>2</td>\n",
       "      <td>log2</td>\n",
       "      <td>12</td>\n",
       "      <td>False</td>\n",
       "      <td>0.570133</td>\n",
       "      <td>10</td>\n",
       "    </tr>\n",
       "  </tbody>\n",
       "</table>\n",
       "</div>"
      ],
      "text/plain": [
       "  param_n_estimators param_min_samples_split param_min_samples_leaf  \\\n",
       "0                266                       6                      2   \n",
       "1                266                       8                      2   \n",
       "2                366                       4                      2   \n",
       "3                100                      10                      2   \n",
       "4                233                      12                      2   \n",
       "5                233                      10                      2   \n",
       "6                200                       6                      4   \n",
       "7                400                       6                      2   \n",
       "8                166                       6                      8   \n",
       "9                300                      18                      2   \n",
       "\n",
       "  param_max_features param_max_depth param_bootstrap  mean_test_score  \\\n",
       "0               sqrt              15            True         0.573132   \n",
       "1               sqrt              11           False         0.572226   \n",
       "2               sqrt              15           False         0.572152   \n",
       "3               log2              14           False         0.572007   \n",
       "4               sqrt              11            True         0.571631   \n",
       "5               log2              11           False         0.571168   \n",
       "6               sqrt              13           False         0.571153   \n",
       "7               sqrt              14            True         0.570856   \n",
       "8               log2              11           False         0.570148   \n",
       "9               log2              12           False         0.570133   \n",
       "\n",
       "   rank_test_score  \n",
       "0                1  \n",
       "1                2  \n",
       "2                3  \n",
       "3                4  \n",
       "4                5  \n",
       "5                6  \n",
       "6                7  \n",
       "7                8  \n",
       "8                9  \n",
       "9               10  "
      ]
     },
     "execution_count": 26,
     "metadata": {},
     "output_type": "execute_result"
    }
   ],
   "source": [
    "search_data = pd.DataFrame(rs.cv_results_).sort_values('rank_test_score').reset_index(drop=True)\n",
    "search_data = search_data.drop([\n",
    "            'mean_fit_time', \n",
    "            'std_fit_time',\n",
    "            'mean_score_time',\n",
    "            'std_score_time', \n",
    "            'params', \n",
    "            'split0_test_score', \n",
    "            'split1_test_score', \n",
    "            'split2_test_score', \n",
    "            'std_test_score'],\n",
    "            axis=1)\n",
    "search_data.head(10)"
   ]
  },
  {
   "cell_type": "markdown",
   "metadata": {},
   "source": [
    "GridSearchCV "
   ]
  },
  {
   "cell_type": "code",
   "execution_count": 27,
   "metadata": {},
   "outputs": [
    {
     "name": "stdout",
     "output_type": "stream",
     "text": [
      "Fitting 3 folds for each of 81 candidates, totalling 243 fits\n"
     ]
    },
    {
     "data": {
      "text/plain": [
       "{'bootstrap': True,\n",
       " 'max_depth': 8,\n",
       " 'max_features': 'sqrt',\n",
       " 'min_samples_leaf': 2,\n",
       " 'min_samples_split': 14,\n",
       " 'n_estimators': 366}"
      ]
     },
     "execution_count": 27,
     "metadata": {},
     "output_type": "execute_result"
    }
   ],
   "source": [
    "n_estimators = [133,266,366]\n",
    "max_features = ['sqrt']\n",
    "max_depth = [6,7,8]\n",
    "min_samples_split = [6,8,14]\n",
    "min_samples_leaf = [2,8,16]\n",
    "bootstrap = [True]\n",
    "param_grid = {'n_estimators': n_estimators,\n",
    "               'max_features': max_features,\n",
    "               'max_depth': max_depth,\n",
    "               'min_samples_split': min_samples_split,\n",
    "               'min_samples_leaf': min_samples_leaf,\n",
    "               'bootstrap': bootstrap}\n",
    "gs = GridSearchCV(model_forest_tune, param_grid, cv = 3, verbose = 1, n_jobs=1, scoring='f1')\n",
    "gs.fit(features_train, target_train)\n",
    "model_forest_cv = gs.best_estimator_\n",
    "gs.best_params_"
   ]
  },
  {
   "cell_type": "markdown",
   "metadata": {},
   "source": [
    "Проверим метрики подобранные GridSearchCV"
   ]
  },
  {
   "cell_type": "code",
   "execution_count": null,
   "metadata": {},
   "outputs": [],
   "source": [
    "model_forest3 = RandomForestClassifier(random_state=12345,n_estimators = 366,\n",
    "                                       min_samples_split = 14,\n",
    "                                       min_samples_leaf = 2,\n",
    "                                      max_features='sqrt', max_depth=8\n",
    "                                      ,bootstrap=False)\n",
    "model_forest3.fit(features_train, target_train)\n",
    "predictions_3 = model_forest3.predict(features_test)\n",
    "probabilities_3 = model_forest3.predict_proba(features_test)\n",
    "probabilities_one_3 = probabilities_3[:, 1]\n",
    "\n",
    "print('F1=',f1_score(target_test,predictions_3))\n",
    "print('ROC-AUC=',roc_auc_score(target_test,probabilities_one_3))\n",
    "print('Accuracy on train_data',model_forest3.score(features_train,target_train))\n"
   ]
  },
  {
   "cell_type": "markdown",
   "metadata": {},
   "source": [
    "Подбор гиперпараметров не помог.Требуется устранение дисбалланса."
   ]
  },
  {
   "cell_type": "markdown",
   "metadata": {},
   "source": [
    "## Борьба с дисбалансом"
   ]
  },
  {
   "cell_type": "markdown",
   "metadata": {},
   "source": [
    "Весовые коэффициенты"
   ]
  },
  {
   "cell_type": "code",
   "execution_count": 29,
   "metadata": {},
   "outputs": [
    {
     "name": "stdout",
     "output_type": "stream",
     "text": [
      "F1= 0.5020990764063813\n",
      "ROC-AUC= 0.7635747263169022\n"
     ]
    }
   ],
   "source": [
    "model_regre = LogisticRegression(random_state=12345,solver='liblinear',class_weight='balanced')\n",
    "model_regre.fit(features_train, target_train)\n",
    "predictions = model_regre.predict(features_test)\n",
    "\n",
    "probabilities = model_regre.predict_proba(features_test)\n",
    "probabilities_one = probabilities[:, 1]\n",
    "print('F1=',f1_score(target_test,predictions))\n",
    "print('ROC-AUC=',roc_auc_score(target_test,probabilities_one))"
   ]
  },
  {
   "cell_type": "code",
   "execution_count": 30,
   "metadata": {},
   "outputs": [
    {
     "name": "stdout",
     "output_type": "stream",
     "text": [
      "F1= 0.5029940119760478\n",
      "ROC-AUC= 0.6829645764071994\n",
      "Accuracy 1.0\n"
     ]
    }
   ],
   "source": [
    "model_tree = DecisionTreeClassifier(random_state=12345, class_weight='balanced')\n",
    "model_tree.fit(features_train,target_train)\n",
    "predictions = model_tree.predict(features_test)\n",
    "\n",
    "probabilities = model_tree.predict_proba(features_test)\n",
    "probabilities_one = probabilities[:, 1]\n",
    "print('F1=',f1_score(target_test,predictions))\n",
    "print('ROC-AUC=',roc_auc_score(target_test,probabilities_one))\n",
    "print('Accuracy',model_tree.score(features_train,target_train))"
   ]
  },
  {
   "cell_type": "code",
   "execution_count": 31,
   "metadata": {},
   "outputs": [
    {
     "name": "stdout",
     "output_type": "stream",
     "text": [
      "F1= 0.6289682539682541\n",
      "ROC-AUC= 0.8686589118779879\n",
      "Accuracy on train_data (overeducation) 0.8415\n"
     ]
    }
   ],
   "source": [
    "model_forest = RandomForestClassifier(random_state=12345,n_estimators = 366,\n",
    "                                       min_samples_split = 14,\n",
    "                                       min_samples_leaf = 2,\n",
    "                                      max_features='sqrt', max_depth=8\n",
    "                                      ,bootstrap=False, class_weight='balanced')\n",
    "model_forest.fit(features_train,target_train)\n",
    "predictions = model_forest.predict(features_test)\n",
    "\n",
    "probabilities = model_forest.predict_proba(features_test)\n",
    "probabilities_one = probabilities[:, 1]\n",
    "\n",
    "print('F1=',f1_score(target_test,predictions))\n",
    "print('ROC-AUC=',roc_auc_score(target_test,probabilities_one))\n",
    "print('Accuracy on train_data (overeducation)',model_forest.score(features_train,target_train))"
   ]
  },
  {
   "cell_type": "markdown",
   "metadata": {},
   "source": [
    "Upsampling"
   ]
  },
  {
   "cell_type": "code",
   "execution_count": 32,
   "metadata": {},
   "outputs": [],
   "source": [
    "def upsample(features, targets, ratio):\n",
    "    features_zero = features[targets==0]\n",
    "    features_ones = features[targets==1]\n",
    "    target_zero = targets[targets==0]\n",
    "    target_ones = targets[targets==1]\n",
    "    features_multiple = pd.concat([features_zero]+[features_ones]*ratio)\n",
    "    target_multiple = pd.concat([target_zero]+[target_ones]*ratio)\n",
    "    #перемешиваем полученный массив значений\n",
    "    features_multiple, target_multiple = shuffle(\n",
    "        features_multiple, target_multiple, random_state=12345)\n",
    "    return features_multiple, target_multiple"
   ]
  },
  {
   "cell_type": "code",
   "execution_count": 33,
   "metadata": {},
   "outputs": [
    {
     "name": "stdout",
     "output_type": "stream",
     "text": [
      "Доля объектов - клиентов прекративших обслуживание в сформированной учебной выборке 0.5019485580670304\n"
     ]
    },
    {
     "data": {
      "text/html": [
       "<div>\n",
       "<style scoped>\n",
       "    .dataframe tbody tr th:only-of-type {\n",
       "        vertical-align: middle;\n",
       "    }\n",
       "\n",
       "    .dataframe tbody tr th {\n",
       "        vertical-align: top;\n",
       "    }\n",
       "\n",
       "    .dataframe thead th {\n",
       "        text-align: right;\n",
       "    }\n",
       "</style>\n",
       "<table border=\"1\" class=\"dataframe\">\n",
       "  <thead>\n",
       "    <tr style=\"text-align: right;\">\n",
       "      <th></th>\n",
       "      <th>credit_score</th>\n",
       "      <th>age</th>\n",
       "      <th>tenure</th>\n",
       "      <th>balance</th>\n",
       "      <th>num_of_products</th>\n",
       "      <th>has_cr_card</th>\n",
       "      <th>is_active_member</th>\n",
       "      <th>estimated_salary</th>\n",
       "      <th>geography_Germany</th>\n",
       "      <th>geography_Spain</th>\n",
       "      <th>gender_Male</th>\n",
       "    </tr>\n",
       "  </thead>\n",
       "  <tbody>\n",
       "    <tr>\n",
       "      <th>3683</th>\n",
       "      <td>-0.772591</td>\n",
       "      <td>1.247608</td>\n",
       "      <td>1.447547</td>\n",
       "      <td>1.505952</td>\n",
       "      <td>0.811234</td>\n",
       "      <td>0</td>\n",
       "      <td>0</td>\n",
       "      <td>0.836331</td>\n",
       "      <td>0</td>\n",
       "      <td>0</td>\n",
       "      <td>0</td>\n",
       "    </tr>\n",
       "    <tr>\n",
       "      <th>21</th>\n",
       "      <td>-0.152753</td>\n",
       "      <td>-0.654125</td>\n",
       "      <td>1.084549</td>\n",
       "      <td>-1.220083</td>\n",
       "      <td>0.811234</td>\n",
       "      <td>1</td>\n",
       "      <td>0</td>\n",
       "      <td>0.664211</td>\n",
       "      <td>0</td>\n",
       "      <td>1</td>\n",
       "      <td>0</td>\n",
       "    </tr>\n",
       "    <tr>\n",
       "      <th>1111</th>\n",
       "      <td>1.882383</td>\n",
       "      <td>1.913215</td>\n",
       "      <td>-1.456441</td>\n",
       "      <td>0.875418</td>\n",
       "      <td>-0.899779</td>\n",
       "      <td>1</td>\n",
       "      <td>1</td>\n",
       "      <td>-1.206378</td>\n",
       "      <td>1</td>\n",
       "      <td>0</td>\n",
       "      <td>1</td>\n",
       "    </tr>\n",
       "    <tr>\n",
       "      <th>6314</th>\n",
       "      <td>1.996020</td>\n",
       "      <td>0.201655</td>\n",
       "      <td>1.810546</td>\n",
       "      <td>0.002098</td>\n",
       "      <td>-0.899779</td>\n",
       "      <td>1</td>\n",
       "      <td>1</td>\n",
       "      <td>0.709655</td>\n",
       "      <td>0</td>\n",
       "      <td>0</td>\n",
       "      <td>0</td>\n",
       "    </tr>\n",
       "    <tr>\n",
       "      <th>404</th>\n",
       "      <td>0.353449</td>\n",
       "      <td>-1.509905</td>\n",
       "      <td>1.084549</td>\n",
       "      <td>-1.220083</td>\n",
       "      <td>0.811234</td>\n",
       "      <td>1</td>\n",
       "      <td>1</td>\n",
       "      <td>0.207697</td>\n",
       "      <td>0</td>\n",
       "      <td>0</td>\n",
       "      <td>1</td>\n",
       "    </tr>\n",
       "  </tbody>\n",
       "</table>\n",
       "</div>"
      ],
      "text/plain": [
       "      credit_score       age    tenure   balance  num_of_products  \\\n",
       "3683     -0.772591  1.247608  1.447547  1.505952         0.811234   \n",
       "21       -0.152753 -0.654125  1.084549 -1.220083         0.811234   \n",
       "1111      1.882383  1.913215 -1.456441  0.875418        -0.899779   \n",
       "6314      1.996020  0.201655  1.810546  0.002098        -0.899779   \n",
       "404       0.353449 -1.509905  1.084549 -1.220083         0.811234   \n",
       "\n",
       "      has_cr_card  is_active_member  estimated_salary  geography_Germany  \\\n",
       "3683            0                 0          0.836331                  0   \n",
       "21              1                 0          0.664211                  0   \n",
       "1111            1                 1         -1.206378                  1   \n",
       "6314            1                 1          0.709655                  0   \n",
       "404             1                 1          0.207697                  0   \n",
       "\n",
       "      geography_Spain  gender_Male  \n",
       "3683                0            0  \n",
       "21                  1            0  \n",
       "1111                0            1  \n",
       "6314                0            0  \n",
       "404                 0            1  "
      ]
     },
     "metadata": {},
     "output_type": "display_data"
    },
    {
     "data": {
      "text/plain": [
       "3683    1\n",
       "21      0\n",
       "1111    1\n",
       "6314    1\n",
       "404     0\n",
       "       ..\n",
       "5686    1\n",
       "4526    0\n",
       "229     0\n",
       "3744    1\n",
       "4682    0\n",
       "Name: exited, Length: 12830, dtype: int64"
      ]
     },
     "execution_count": 33,
     "metadata": {},
     "output_type": "execute_result"
    }
   ],
   "source": [
    "ratio_upsample = 4\n",
    "features_train_up, target_train_up = upsample(features_train,target_train, ratio_upsample)\n",
    "print('Доля объектов - клиентов прекративших обслуживание в сформированной учебной выборке',target_train_up.mean())\n",
    "display(features_train_up.head())\n",
    "target_train_up"
   ]
  },
  {
   "cell_type": "markdown",
   "metadata": {},
   "source": [
    "### Подбор гиперпараметров на выборке с устраненным дисбалансом"
   ]
  },
  {
   "cell_type": "code",
   "execution_count": 34,
   "metadata": {},
   "outputs": [],
   "source": [
    "n_estimators = [int(x) for x in np.linspace(start = 100, stop = 400, num = 10)]\n",
    "max_features = ['log2', 'sqrt'] \n",
    "max_depth = [int(x) for x in np.linspace(start = 1, stop = 15, num = 15)]\n",
    "min_samples_split = [int(x) for x in np.linspace(start = 2, stop = 20, num = 10)]\n",
    "min_samples_leaf = [int(x) for x in np.linspace(start = 2, stop = 20, num = 10)]\n",
    "bootstrap = [True, False]"
   ]
  },
  {
   "cell_type": "code",
   "execution_count": 35,
   "metadata": {},
   "outputs": [],
   "source": [
    "param_dist = {'n_estimators': n_estimators,\n",
    "              'max_features': max_features,\n",
    "              'max_depth': max_depth,\n",
    "              'min_samples_split': min_samples_split,\n",
    "              'min_samples_leaf': min_samples_leaf,\n",
    "              'bootstrap': bootstrap}"
   ]
  },
  {
   "cell_type": "code",
   "execution_count": 36,
   "metadata": {},
   "outputs": [],
   "source": [
    "model_forest_tune = RandomForestClassifier(random_state=12345)\n",
    "rs = RandomizedSearchCV(model_forest_tune, param_dist, n_iter = 300,  \n",
    "                        scoring='f1', \n",
    "                        cv = 3, \n",
    "                        verbose = 1, \n",
    "                        n_jobs=1, random_state=12345)"
   ]
  },
  {
   "cell_type": "code",
   "execution_count": null,
   "metadata": {},
   "outputs": [
    {
     "name": "stdout",
     "output_type": "stream",
     "text": [
      "Fitting 3 folds for each of 300 candidates, totalling 900 fits\n"
     ]
    }
   ],
   "source": [
    "rs.fit(features_train_up, target_train_up)\n",
    "rs.best_params_"
   ]
  },
  {
   "cell_type": "code",
   "execution_count": null,
   "metadata": {},
   "outputs": [],
   "source": [
    "model_forest2 = RandomForestClassifier(random_state=12345,n_estimators = 366,\n",
    "                                       min_samples_split = 4,\n",
    "                                       min_samples_leaf = 2,\n",
    "                                      max_features='sqrt', max_depth=15\n",
    "                                      ,bootstrap=False)\n",
    "model_forest2.fit(features_train_up, target_train_up)\n",
    "predictions_2 = model_forest2.predict(features_test)\n",
    "probabilities_2 = model_forest2.predict_proba(features_test)\n",
    "probabilities_one_2 = probabilities_2[:, 1]\n",
    "\n",
    "print('F1=',f1_score(target_test,predictions_2))\n",
    "print('ROC-AUC=',roc_auc_score(target_test,probabilities_one_2))\n",
    "print('Accuracy on train_data (overeducation)',model_forest2.score(features_train_up,target_train_up))\n",
    "print('Accuracy on test_data (overeducation)',model_forest2.score(features_test,target_test))"
   ]
  },
  {
   "cell_type": "markdown",
   "metadata": {},
   "source": [
    "На основных рекомендованных по результатам RandomSearch мы имеем достаточное значение f1-меры (0.6086>0.59) но высокое значение accuracy на учебной выборке (0,995) свидетельствуещеее о переобучени. "
   ]
  },
  {
   "cell_type": "code",
   "execution_count": null,
   "metadata": {},
   "outputs": [],
   "source": [
    "model_forest2 = RandomForestClassifier(random_state=12345,n_estimators = 366,\n",
    "                                       min_samples_split = 4,\n",
    "                                       min_samples_leaf = 2,\n",
    "                                      max_features='sqrt', max_depth=10\n",
    "                                      ,bootstrap=False)\n",
    "model_forest2.fit(features_train_up, target_train_up)\n",
    "predictions_2 = model_forest2.predict(features_test)\n",
    "probabilities_2 = model_forest2.predict_proba(features_test)\n",
    "probabilities_one_2 = probabilities_2[:, 1]\n",
    "\n",
    "print('F1=',f1_score(target_test,predictions_test))\n",
    "print('ROC-AUC=',roc_auc_score(target_test,probabilities_one_2))\n",
    "print('Accuracy on train_data',model_forest2.score(features_train_up,target_train_up))\n",
    "print('Accuracy on test_data ',model_forest2.score(features_test,target_test))"
   ]
  },
  {
   "cell_type": "markdown",
   "metadata": {},
   "source": [
    "Предварительная проверка показывает положительные изменения метрик по результатам подбора гиперпараметров"
   ]
  },
  {
   "cell_type": "code",
   "execution_count": null,
   "metadata": {},
   "outputs": [],
   "source": [
    "search_data = pd.DataFrame(rs.cv_results_).sort_values('rank_test_score').reset_index(drop=True)\n",
    "search_data = search_data.drop([\n",
    "            'mean_fit_time', \n",
    "            'std_fit_time',\n",
    "            'mean_score_time',\n",
    "            'std_score_time', \n",
    "            'params', \n",
    "            'split0_test_score', \n",
    "            'split1_test_score', \n",
    "            'split2_test_score', \n",
    "            'std_test_score'],\n",
    "            axis=1)\n",
    "search_data.head(10)"
   ]
  },
  {
   "cell_type": "markdown",
   "metadata": {},
   "source": [
    "<b>GridSearchCV</b>"
   ]
  },
  {
   "cell_type": "code",
   "execution_count": null,
   "metadata": {},
   "outputs": [],
   "source": [
    "n_estimators = [100,133,266,366]\n",
    "max_features = ['sqrt']\n",
    "max_depth = [6,7,8]\n",
    "min_samples_split = [6,8,12]\n",
    "min_samples_leaf = [2,6,8]\n",
    "bootstrap = [True]\n",
    "param_grid = {'n_estimators': n_estimators,\n",
    "               'max_features': max_features,\n",
    "               'max_depth': max_depth,\n",
    "               'min_samples_split': min_samples_split,\n",
    "               'min_samples_leaf': min_samples_leaf,\n",
    "               'bootstrap': bootstrap}\n",
    "gs = GridSearchCV(model_forest_tune, param_grid, cv = 3, verbose = 1, n_jobs=1, scoring='f1')\n",
    "gs.fit(features_train_up, target_train_up)\n",
    "model_forest_cv = gs.best_estimator_\n",
    "gs.best_params_"
   ]
  },
  {
   "cell_type": "code",
   "execution_count": null,
   "metadata": {},
   "outputs": [],
   "source": [
    "По результатам отработки GridSearchCV получены значения на основании которых следует провести тестирование модели."
   ]
  },
  {
   "cell_type": "markdown",
   "metadata": {},
   "source": [
    "## Тестирование модели"
   ]
  },
  {
   "cell_type": "code",
   "execution_count": null,
   "metadata": {
    "scrolled": true
   },
   "outputs": [],
   "source": [
    "model_forest3 = RandomForestClassifier(random_state=12345,n_estimators = 266,\n",
    "                                       min_samples_split = 6,\n",
    "                                       min_samples_leaf = 2,\n",
    "                                      max_features='sqrt', max_depth=8\n",
    "                                      ,bootstrap=False)\n",
    "model_forest3.fit(features_train_up, target_train_up)\n",
    "predictions_3 = model_forest3.predict(features_test)\n",
    "probabilities_3 = model_forest3.predict_proba(features_test)\n",
    "probabilities_one_3 = probabilities_3[:, 1]\n",
    "\n",
    "print('F1=',f1_score(target_test,predictions_3))\n",
    "print('ROC-AUC=',roc_auc_score(target_test,probabilities_one_3))\n",
    "print('Accuracy on train_data (overeducation)',model_forest3.score(features_train_up,target_train_up))\n",
    "print('Accuracy on valid_data (overeducation)',model_forest3.score(features_test,target_test))"
   ]
  },
  {
   "cell_type": "markdown",
   "metadata": {},
   "source": [
    "Вывод\n",
    "Проанализированы представленные заказчиком данные о 10000 клиентов Банка:\n",
    "\n",
    "Некорректные данные не установлены\n",
    "Установлены пропуски по параметру \"срок обслуживания\" - tenure. Данные пропуски заполнены медианным значениям\n",
    "Проведено категорирование соответствующих признаков (Geography, Gender)\n",
    "Проверена работа моделей на датасете. Проведен подбор гиперпараметров. Целевые значения метрик не достигнуты.\n",
    "Установлен дисбалланс классов и проведена работа по его устранению.\n",
    "По результатам устранения дисбалланса, переобученная модель RandomForestClassifier показала на тестовой выборке значение f1 = 0.629 что превышает целевое значение в 0,59."
   ]
  },
  {
   "cell_type": "markdown",
   "metadata": {},
   "source": [
    "## Чек-лист готовности проекта"
   ]
  },
  {
   "cell_type": "markdown",
   "metadata": {},
   "source": [
    "Поставьте 'x' в выполненных пунктах. Далее нажмите Shift+Enter."
   ]
  },
  {
   "cell_type": "markdown",
   "metadata": {},
   "source": [
    "- [x]  Jupyter Notebook открыт\n",
    "- [x]  Весь код выполняется без ошибок\n",
    "- [x]  Ячейки с кодом расположены в порядке исполнения\n",
    "- [x]  Выполнен шаг 1: данные подготовлены\n",
    "- [x]  Выполнен шаг 2: задача исследована\n",
    "    - [x]  Исследован баланс классов\n",
    "    - [x]  Изучены модели без учёта дисбаланса\n",
    "    - [x]  Написаны выводы по результатам исследования\n",
    "- [x]  Выполнен шаг 3: учтён дисбаланс\n",
    "    - [x]  Применено несколько способов борьбы с дисбалансом\n",
    "    - [x]  Написаны выводы по результатам исследования\n",
    "- [x]  Выполнен шаг 4: проведено тестирование\n",
    "- [x]  Удалось достичь *F1*-меры не менее 0.59\n",
    "- [x]  Исследована метрика *AUC-ROC*"
   ]
  },
  {
   "cell_type": "code",
   "execution_count": null,
   "metadata": {},
   "outputs": [],
   "source": []
  }
 ],
 "metadata": {
  "ExecuteTimeLog": [
   {
    "duration": 39,
    "start_time": "2022-05-24T17:48:01.607Z"
   },
   {
    "duration": 14,
    "start_time": "2022-05-24T17:48:14.149Z"
   },
   {
    "duration": 12,
    "start_time": "2022-05-24T17:52:54.834Z"
   },
   {
    "duration": 6,
    "start_time": "2022-05-24T17:53:19.733Z"
   },
   {
    "duration": 26,
    "start_time": "2022-05-24T17:54:06.760Z"
   },
   {
    "duration": 4,
    "start_time": "2022-05-24T17:54:14.490Z"
   },
   {
    "duration": 42,
    "start_time": "2022-05-24T17:55:57.345Z"
   },
   {
    "duration": 12,
    "start_time": "2022-05-24T17:55:57.539Z"
   },
   {
    "duration": 4,
    "start_time": "2022-05-24T17:55:59.378Z"
   },
   {
    "duration": 1868,
    "start_time": "2022-05-30T16:36:38.417Z"
   },
   {
    "duration": 89,
    "start_time": "2022-05-30T16:36:40.287Z"
   },
   {
    "duration": 21,
    "start_time": "2022-05-30T16:36:40.378Z"
   },
   {
    "duration": 4,
    "start_time": "2022-05-30T16:36:40.402Z"
   },
   {
    "duration": 117,
    "start_time": "2022-05-30T16:37:10.164Z"
   },
   {
    "duration": 1389,
    "start_time": "2022-05-30T16:37:28.107Z"
   },
   {
    "duration": 53,
    "start_time": "2022-05-30T16:37:29.500Z"
   },
   {
    "duration": 17,
    "start_time": "2022-05-30T16:37:29.555Z"
   },
   {
    "duration": 4,
    "start_time": "2022-05-30T16:37:30.958Z"
   },
   {
    "duration": 176,
    "start_time": "2022-05-30T16:37:31.758Z"
   },
   {
    "duration": 19,
    "start_time": "2022-05-30T16:38:07.358Z"
   },
   {
    "duration": 3,
    "start_time": "2022-05-30T16:38:48.829Z"
   },
   {
    "duration": 12,
    "start_time": "2022-05-30T16:38:57.880Z"
   },
   {
    "duration": 587,
    "start_time": "2022-05-30T16:39:09.020Z"
   },
   {
    "duration": 0,
    "start_time": "2022-05-30T16:39:09.609Z"
   },
   {
    "duration": 4,
    "start_time": "2022-05-30T16:39:22.599Z"
   },
   {
    "duration": 270,
    "start_time": "2022-05-30T16:39:23.532Z"
   },
   {
    "duration": 4,
    "start_time": "2022-05-30T16:39:40.907Z"
   },
   {
    "duration": 7,
    "start_time": "2022-05-30T16:39:41.077Z"
   },
   {
    "duration": 7,
    "start_time": "2022-05-30T16:39:46.876Z"
   },
   {
    "duration": 60,
    "start_time": "2022-05-30T16:40:12.444Z"
   },
   {
    "duration": 31,
    "start_time": "2022-05-30T16:41:11.379Z"
   },
   {
    "duration": 5,
    "start_time": "2022-05-30T16:43:00.808Z"
   },
   {
    "duration": 6,
    "start_time": "2022-05-30T16:43:23.010Z"
   },
   {
    "duration": 36,
    "start_time": "2022-05-30T16:43:34.007Z"
   },
   {
    "duration": 6,
    "start_time": "2022-05-30T16:46:19.012Z"
   },
   {
    "duration": 28,
    "start_time": "2022-05-30T16:48:04.390Z"
   },
   {
    "duration": 11,
    "start_time": "2022-05-30T16:49:08.617Z"
   },
   {
    "duration": 11,
    "start_time": "2022-05-30T16:49:17.070Z"
   },
   {
    "duration": 11,
    "start_time": "2022-05-30T16:49:17.709Z"
   },
   {
    "duration": 4,
    "start_time": "2022-05-30T16:49:25.935Z"
   },
   {
    "duration": 38,
    "start_time": "2022-05-30T16:49:26.165Z"
   },
   {
    "duration": 12,
    "start_time": "2022-05-30T16:49:26.419Z"
   },
   {
    "duration": 3,
    "start_time": "2022-05-30T16:49:27.088Z"
   },
   {
    "duration": 14,
    "start_time": "2022-05-30T16:49:27.365Z"
   },
   {
    "duration": 37,
    "start_time": "2022-05-30T16:49:27.602Z"
   },
   {
    "duration": 4,
    "start_time": "2022-05-30T16:49:28.053Z"
   },
   {
    "duration": 5,
    "start_time": "2022-05-30T16:49:28.504Z"
   },
   {
    "duration": 12,
    "start_time": "2022-05-30T16:49:28.939Z"
   },
   {
    "duration": 9,
    "start_time": "2022-05-30T16:49:29.236Z"
   },
   {
    "duration": 11,
    "start_time": "2022-05-30T16:49:29.371Z"
   },
   {
    "duration": 6,
    "start_time": "2022-05-30T16:49:30.279Z"
   },
   {
    "duration": 6,
    "start_time": "2022-05-30T16:49:30.476Z"
   },
   {
    "duration": 22,
    "start_time": "2022-05-30T16:49:30.704Z"
   },
   {
    "duration": 7,
    "start_time": "2022-05-30T16:49:31.317Z"
   },
   {
    "duration": 106,
    "start_time": "2022-05-30T16:49:32.165Z"
   },
   {
    "duration": 50,
    "start_time": "2022-05-30T16:49:53.463Z"
   },
   {
    "duration": 1106,
    "start_time": "2022-05-30T16:50:36.528Z"
   },
   {
    "duration": 1119,
    "start_time": "2022-05-30T16:55:04.819Z"
   },
   {
    "duration": 6,
    "start_time": "2022-05-30T16:58:04.756Z"
   },
   {
    "duration": 4,
    "start_time": "2022-05-30T16:58:20.255Z"
   },
   {
    "duration": 3,
    "start_time": "2022-05-30T16:59:04.936Z"
   },
   {
    "duration": 1298,
    "start_time": "2022-05-30T17:14:41.491Z"
   },
   {
    "duration": 39,
    "start_time": "2022-05-30T17:14:42.791Z"
   },
   {
    "duration": 15,
    "start_time": "2022-05-30T17:14:42.831Z"
   },
   {
    "duration": 3,
    "start_time": "2022-05-30T17:14:42.848Z"
   },
   {
    "duration": 24,
    "start_time": "2022-05-30T17:14:42.852Z"
   },
   {
    "duration": 46,
    "start_time": "2022-05-30T17:14:42.879Z"
   },
   {
    "duration": 4,
    "start_time": "2022-05-30T17:14:43.306Z"
   },
   {
    "duration": 6,
    "start_time": "2022-05-30T17:14:43.714Z"
   },
   {
    "duration": 23,
    "start_time": "2022-05-30T17:14:44.156Z"
   },
   {
    "duration": 19,
    "start_time": "2022-05-30T17:14:44.462Z"
   },
   {
    "duration": 10,
    "start_time": "2022-05-30T17:14:44.580Z"
   },
   {
    "duration": 6,
    "start_time": "2022-05-30T17:14:45.493Z"
   },
   {
    "duration": 5,
    "start_time": "2022-05-30T17:14:45.714Z"
   },
   {
    "duration": 36,
    "start_time": "2022-05-30T17:14:45.941Z"
   },
   {
    "duration": 10,
    "start_time": "2022-05-30T17:14:46.173Z"
   },
   {
    "duration": 31,
    "start_time": "2022-05-30T17:14:46.395Z"
   },
   {
    "duration": 56,
    "start_time": "2022-05-30T17:14:46.623Z"
   },
   {
    "duration": 1022,
    "start_time": "2022-05-30T17:14:47.082Z"
   },
   {
    "duration": 4,
    "start_time": "2022-05-30T17:14:48.106Z"
   },
   {
    "duration": 6,
    "start_time": "2022-05-30T17:14:48.111Z"
   },
   {
    "duration": 3,
    "start_time": "2022-05-30T17:14:48.243Z"
   },
   {
    "duration": 1356,
    "start_time": "2022-05-30T17:26:08.057Z"
   },
   {
    "duration": 38,
    "start_time": "2022-05-30T17:26:09.415Z"
   },
   {
    "duration": 23,
    "start_time": "2022-05-30T17:26:09.454Z"
   },
   {
    "duration": 3,
    "start_time": "2022-05-30T17:26:09.479Z"
   },
   {
    "duration": 16,
    "start_time": "2022-05-30T17:26:09.672Z"
   },
   {
    "duration": 40,
    "start_time": "2022-05-30T17:26:09.932Z"
   },
   {
    "duration": 4,
    "start_time": "2022-05-30T17:26:10.526Z"
   },
   {
    "duration": 11,
    "start_time": "2022-05-30T17:26:11.067Z"
   },
   {
    "duration": 16,
    "start_time": "2022-05-30T17:26:11.677Z"
   },
   {
    "duration": 11,
    "start_time": "2022-05-30T17:26:12.025Z"
   },
   {
    "duration": 13,
    "start_time": "2022-05-30T17:26:12.269Z"
   },
   {
    "duration": 5,
    "start_time": "2022-05-30T17:26:14.339Z"
   },
   {
    "duration": 9,
    "start_time": "2022-05-30T17:26:14.633Z"
   },
   {
    "duration": 35,
    "start_time": "2022-05-30T17:26:14.951Z"
   },
   {
    "duration": 8,
    "start_time": "2022-05-30T17:26:15.620Z"
   },
   {
    "duration": 38,
    "start_time": "2022-05-30T17:26:16.520Z"
   },
   {
    "duration": 45,
    "start_time": "2022-05-30T17:26:16.992Z"
   },
   {
    "duration": 1101,
    "start_time": "2022-05-30T17:26:18.297Z"
   },
   {
    "duration": 4,
    "start_time": "2022-05-30T17:26:19.881Z"
   },
   {
    "duration": 2,
    "start_time": "2022-05-30T17:26:21.740Z"
   },
   {
    "duration": 3,
    "start_time": "2022-05-30T17:26:22.257Z"
   },
   {
    "duration": 1020728,
    "start_time": "2022-05-30T17:26:22.880Z"
   },
   {
    "duration": 3405,
    "start_time": "2022-05-30T17:43:23.610Z"
   },
   {
    "duration": 5114,
    "start_time": "2022-05-30T17:46:47.061Z"
   },
   {
    "duration": 5057,
    "start_time": "2022-05-30T17:47:49.099Z"
   },
   {
    "duration": 18,
    "start_time": "2022-05-30T17:48:57.759Z"
   },
   {
    "duration": 895196,
    "start_time": "2022-05-30T17:51:28.818Z"
   },
   {
    "duration": 1273,
    "start_time": "2022-05-30T18:08:21.780Z"
   },
   {
    "duration": 94,
    "start_time": "2022-05-30T18:10:39.163Z"
   },
   {
    "duration": 46,
    "start_time": "2022-05-30T18:11:24.908Z"
   },
   {
    "duration": 1251,
    "start_time": "2022-05-30T18:12:45.594Z"
   },
   {
    "duration": 1231,
    "start_time": "2022-05-30T18:13:29.739Z"
   },
   {
    "duration": 1389,
    "start_time": "2022-05-30T18:21:08.953Z"
   },
   {
    "duration": 1377,
    "start_time": "2022-05-30T18:23:50.882Z"
   },
   {
    "duration": 1553,
    "start_time": "2022-05-30T18:24:00.564Z"
   },
   {
    "duration": 1352,
    "start_time": "2022-05-30T18:24:20.566Z"
   },
   {
    "duration": 1289,
    "start_time": "2022-05-30T18:24:28.226Z"
   },
   {
    "duration": 1158,
    "start_time": "2022-05-30T21:08:53.862Z"
   },
   {
    "duration": 81,
    "start_time": "2022-05-30T21:08:55.022Z"
   },
   {
    "duration": 15,
    "start_time": "2022-05-30T21:08:55.105Z"
   },
   {
    "duration": 3,
    "start_time": "2022-05-30T21:08:55.121Z"
   },
   {
    "duration": 14,
    "start_time": "2022-05-30T21:08:55.126Z"
   },
   {
    "duration": 36,
    "start_time": "2022-05-30T21:08:55.141Z"
   },
   {
    "duration": 4,
    "start_time": "2022-05-30T21:08:55.178Z"
   },
   {
    "duration": 6,
    "start_time": "2022-05-30T21:08:55.199Z"
   },
   {
    "duration": 15,
    "start_time": "2022-05-30T21:08:55.207Z"
   },
   {
    "duration": 12,
    "start_time": "2022-05-30T21:08:55.223Z"
   },
   {
    "duration": 12,
    "start_time": "2022-05-30T21:08:55.236Z"
   },
   {
    "duration": 8,
    "start_time": "2022-05-30T21:08:55.249Z"
   },
   {
    "duration": 10,
    "start_time": "2022-05-30T21:08:55.258Z"
   },
   {
    "duration": 40,
    "start_time": "2022-05-30T21:08:55.271Z"
   },
   {
    "duration": 6,
    "start_time": "2022-05-30T21:08:55.312Z"
   },
   {
    "duration": 82,
    "start_time": "2022-05-30T21:08:55.320Z"
   },
   {
    "duration": 133,
    "start_time": "2022-05-30T21:08:55.403Z"
   },
   {
    "duration": 1006,
    "start_time": "2022-05-30T21:08:55.537Z"
   },
   {
    "duration": 4,
    "start_time": "2022-05-30T21:08:56.545Z"
   },
   {
    "duration": 13,
    "start_time": "2022-05-30T21:08:56.550Z"
   },
   {
    "duration": 9,
    "start_time": "2022-05-30T21:08:56.564Z"
   },
   {
    "duration": 1008539,
    "start_time": "2022-05-30T21:08:56.574Z"
   },
   {
    "duration": 5011,
    "start_time": "2022-05-30T21:25:45.115Z"
   },
   {
    "duration": 14,
    "start_time": "2022-05-30T21:25:50.128Z"
   },
   {
    "duration": 907084,
    "start_time": "2022-05-30T21:25:50.144Z"
   },
   {
    "duration": 1273,
    "start_time": "2022-05-30T21:40:57.230Z"
   },
   {
    "duration": 97,
    "start_time": "2022-05-30T21:40:58.505Z"
   },
   {
    "duration": 145,
    "start_time": "2022-05-30T21:40:58.604Z"
   },
   {
    "duration": 1274,
    "start_time": "2022-05-30T21:40:58.752Z"
   },
   {
    "duration": 1365,
    "start_time": "2022-05-30T21:41:00.027Z"
   },
   {
    "duration": 1241,
    "start_time": "2022-06-01T07:53:41.804Z"
   },
   {
    "duration": 41,
    "start_time": "2022-06-01T07:53:43.047Z"
   },
   {
    "duration": 16,
    "start_time": "2022-06-01T07:53:43.680Z"
   },
   {
    "duration": 3,
    "start_time": "2022-06-01T07:53:44.631Z"
   },
   {
    "duration": 13,
    "start_time": "2022-06-01T07:53:45.365Z"
   },
   {
    "duration": 52,
    "start_time": "2022-06-01T07:53:45.716Z"
   },
   {
    "duration": 5,
    "start_time": "2022-06-01T07:53:46.447Z"
   },
   {
    "duration": 6,
    "start_time": "2022-06-01T07:53:47.132Z"
   },
   {
    "duration": 12,
    "start_time": "2022-06-01T07:53:48.172Z"
   },
   {
    "duration": 10,
    "start_time": "2022-06-01T07:53:48.925Z"
   },
   {
    "duration": 11,
    "start_time": "2022-06-01T07:53:49.580Z"
   },
   {
    "duration": 6,
    "start_time": "2022-06-01T07:53:51.023Z"
   },
   {
    "duration": 6,
    "start_time": "2022-06-01T07:53:51.408Z"
   },
   {
    "duration": 24,
    "start_time": "2022-06-01T07:53:52.459Z"
   },
   {
    "duration": 6,
    "start_time": "2022-06-01T07:53:53.428Z"
   },
   {
    "duration": 87,
    "start_time": "2022-06-01T07:53:54.710Z"
   },
   {
    "duration": 45,
    "start_time": "2022-06-01T07:53:55.094Z"
   },
   {
    "duration": 994,
    "start_time": "2022-06-01T07:53:55.943Z"
   },
   {
    "duration": 4,
    "start_time": "2022-06-01T07:53:57.172Z"
   },
   {
    "duration": 3,
    "start_time": "2022-06-01T07:53:57.557Z"
   },
   {
    "duration": 4,
    "start_time": "2022-06-01T07:53:58.364Z"
   },
   {
    "duration": 1222,
    "start_time": "2022-06-01T08:19:47.513Z"
   },
   {
    "duration": 40,
    "start_time": "2022-06-01T08:19:48.738Z"
   },
   {
    "duration": 24,
    "start_time": "2022-06-01T08:19:48.779Z"
   },
   {
    "duration": 3,
    "start_time": "2022-06-01T08:19:49.108Z"
   },
   {
    "duration": 11,
    "start_time": "2022-06-01T08:19:49.778Z"
   },
   {
    "duration": 36,
    "start_time": "2022-06-01T08:19:50.111Z"
   },
   {
    "duration": 3,
    "start_time": "2022-06-01T08:19:50.874Z"
   },
   {
    "duration": 6,
    "start_time": "2022-06-01T08:19:51.451Z"
   },
   {
    "duration": 11,
    "start_time": "2022-06-01T08:19:52.427Z"
   },
   {
    "duration": 18,
    "start_time": "2022-06-01T08:19:53.108Z"
   },
   {
    "duration": 11,
    "start_time": "2022-06-01T08:19:53.808Z"
   },
   {
    "duration": 7,
    "start_time": "2022-06-01T08:19:55.005Z"
   },
   {
    "duration": 9,
    "start_time": "2022-06-01T08:19:55.297Z"
   },
   {
    "duration": 24,
    "start_time": "2022-06-01T08:19:56.302Z"
   },
   {
    "duration": 7,
    "start_time": "2022-06-01T08:19:57.258Z"
   },
   {
    "duration": 218,
    "start_time": "2022-06-01T08:19:59.500Z"
   },
   {
    "duration": 44,
    "start_time": "2022-06-01T08:20:00.143Z"
   },
   {
    "duration": 1060,
    "start_time": "2022-06-01T08:20:01.272Z"
   },
   {
    "duration": 4,
    "start_time": "2022-06-01T08:20:02.727Z"
   },
   {
    "duration": 3,
    "start_time": "2022-06-01T08:20:03.755Z"
   },
   {
    "duration": 5,
    "start_time": "2022-06-01T08:20:06.500Z"
   },
   {
    "duration": 1238,
    "start_time": "2022-06-01T08:36:08.603Z"
   },
   {
    "duration": 40,
    "start_time": "2022-06-01T08:36:09.843Z"
   },
   {
    "duration": 22,
    "start_time": "2022-06-01T08:36:09.884Z"
   },
   {
    "duration": 6,
    "start_time": "2022-06-01T08:36:09.908Z"
   },
   {
    "duration": 12,
    "start_time": "2022-06-01T08:36:10.147Z"
   },
   {
    "duration": 39,
    "start_time": "2022-06-01T08:36:10.285Z"
   },
   {
    "duration": 4,
    "start_time": "2022-06-01T08:36:10.967Z"
   },
   {
    "duration": 7,
    "start_time": "2022-06-01T08:36:11.806Z"
   },
   {
    "duration": 11,
    "start_time": "2022-06-01T08:36:12.632Z"
   },
   {
    "duration": 14,
    "start_time": "2022-06-01T08:36:13.198Z"
   },
   {
    "duration": 14,
    "start_time": "2022-06-01T08:36:13.733Z"
   },
   {
    "duration": 6,
    "start_time": "2022-06-01T08:36:14.615Z"
   },
   {
    "duration": 6,
    "start_time": "2022-06-01T08:36:15.045Z"
   },
   {
    "duration": 22,
    "start_time": "2022-06-01T08:36:15.853Z"
   },
   {
    "duration": 7,
    "start_time": "2022-06-01T08:36:16.878Z"
   },
   {
    "duration": 29,
    "start_time": "2022-06-01T08:36:18.054Z"
   },
   {
    "duration": 61,
    "start_time": "2022-06-01T08:36:18.983Z"
   },
   {
    "duration": 1082,
    "start_time": "2022-06-01T08:36:20.144Z"
   },
   {
    "duration": 4,
    "start_time": "2022-06-01T08:36:21.737Z"
   },
   {
    "duration": 3,
    "start_time": "2022-06-01T08:36:22.604Z"
   },
   {
    "duration": 3,
    "start_time": "2022-06-01T08:36:23.808Z"
   },
   {
    "duration": 1024793,
    "start_time": "2022-06-01T08:36:24.949Z"
   },
   {
    "duration": 3497,
    "start_time": "2022-06-01T08:53:42.433Z"
   },
   {
    "duration": 2925,
    "start_time": "2022-06-01T08:54:26.311Z"
   },
   {
    "duration": 5,
    "start_time": "2022-06-01T08:54:42.066Z"
   },
   {
    "duration": 4,
    "start_time": "2022-06-01T08:55:31.012Z"
   },
   {
    "duration": 1265,
    "start_time": "2022-06-01T08:57:00.708Z"
   },
   {
    "duration": 46,
    "start_time": "2022-06-01T08:57:01.975Z"
   },
   {
    "duration": 18,
    "start_time": "2022-06-01T08:57:02.023Z"
   },
   {
    "duration": 3,
    "start_time": "2022-06-01T08:57:02.043Z"
   },
   {
    "duration": 21,
    "start_time": "2022-06-01T08:57:02.282Z"
   },
   {
    "duration": 38,
    "start_time": "2022-06-01T08:57:02.430Z"
   },
   {
    "duration": 4,
    "start_time": "2022-06-01T08:57:02.990Z"
   },
   {
    "duration": 6,
    "start_time": "2022-06-01T08:57:03.377Z"
   },
   {
    "duration": 12,
    "start_time": "2022-06-01T08:57:04.014Z"
   },
   {
    "duration": 13,
    "start_time": "2022-06-01T08:57:04.497Z"
   },
   {
    "duration": 11,
    "start_time": "2022-06-01T08:57:04.846Z"
   },
   {
    "duration": 5,
    "start_time": "2022-06-01T08:57:05.719Z"
   },
   {
    "duration": 5,
    "start_time": "2022-06-01T08:57:05.929Z"
   },
   {
    "duration": 24,
    "start_time": "2022-06-01T08:57:06.601Z"
   },
   {
    "duration": 8,
    "start_time": "2022-06-01T08:57:07.032Z"
   },
   {
    "duration": 31,
    "start_time": "2022-06-01T08:57:07.719Z"
   },
   {
    "duration": 54,
    "start_time": "2022-06-01T08:57:07.952Z"
   },
   {
    "duration": 1028,
    "start_time": "2022-06-01T08:57:08.455Z"
   },
   {
    "duration": 6,
    "start_time": "2022-06-01T08:57:09.501Z"
   },
   {
    "duration": 2,
    "start_time": "2022-06-01T08:57:09.954Z"
   },
   {
    "duration": 3,
    "start_time": "2022-06-01T08:57:10.516Z"
   },
   {
    "duration": 1027727,
    "start_time": "2022-06-01T08:57:10.899Z"
   },
   {
    "duration": 3545,
    "start_time": "2022-06-01T09:14:18.628Z"
   },
   {
    "duration": 3250,
    "start_time": "2022-06-01T09:14:22.174Z"
   },
   {
    "duration": 4,
    "start_time": "2022-06-01T09:14:25.426Z"
   },
   {
    "duration": 15,
    "start_time": "2022-06-01T09:15:20.512Z"
   },
   {
    "duration": 1521,
    "start_time": "2022-06-02T06:55:08.168Z"
   },
   {
    "duration": 81,
    "start_time": "2022-06-02T06:55:09.691Z"
   },
   {
    "duration": 20,
    "start_time": "2022-06-02T06:55:09.773Z"
   },
   {
    "duration": 4,
    "start_time": "2022-06-02T06:55:09.794Z"
   },
   {
    "duration": 27,
    "start_time": "2022-06-02T06:55:09.800Z"
   },
   {
    "duration": 43,
    "start_time": "2022-06-02T06:55:09.828Z"
   },
   {
    "duration": 4,
    "start_time": "2022-06-02T06:55:09.873Z"
   },
   {
    "duration": 15,
    "start_time": "2022-06-02T06:55:09.878Z"
   },
   {
    "duration": 12,
    "start_time": "2022-06-02T06:55:09.898Z"
   },
   {
    "duration": 16,
    "start_time": "2022-06-02T06:55:09.912Z"
   },
   {
    "duration": 12,
    "start_time": "2022-06-02T06:55:09.930Z"
   },
   {
    "duration": 10,
    "start_time": "2022-06-02T06:55:09.943Z"
   },
   {
    "duration": 6,
    "start_time": "2022-06-02T06:55:09.954Z"
   },
   {
    "duration": 56,
    "start_time": "2022-06-02T06:55:09.963Z"
   },
   {
    "duration": 7,
    "start_time": "2022-06-02T06:55:10.020Z"
   },
   {
    "duration": 80,
    "start_time": "2022-06-02T06:55:10.029Z"
   },
   {
    "duration": 55,
    "start_time": "2022-06-02T06:55:10.200Z"
   },
   {
    "duration": 1248,
    "start_time": "2022-06-02T06:55:10.257Z"
   },
   {
    "duration": 5,
    "start_time": "2022-06-02T06:55:11.507Z"
   },
   {
    "duration": 7,
    "start_time": "2022-06-02T06:55:11.513Z"
   },
   {
    "duration": 10,
    "start_time": "2022-06-02T06:55:11.522Z"
   },
   {
    "duration": 1099729,
    "start_time": "2022-06-02T06:55:11.534Z"
   },
   {
    "duration": 3835,
    "start_time": "2022-06-02T07:13:31.265Z"
   },
   {
    "duration": 3153,
    "start_time": "2022-06-02T07:13:35.103Z"
   },
   {
    "duration": 4,
    "start_time": "2022-06-02T07:13:38.258Z"
   },
   {
    "duration": 18,
    "start_time": "2022-06-02T07:13:38.264Z"
   },
   {
    "duration": 996553,
    "start_time": "2022-06-02T07:13:38.284Z"
   },
   {
    "duration": 68,
    "start_time": "2022-06-02T07:30:14.839Z"
   },
   {
    "duration": 0,
    "start_time": "2022-06-02T07:30:14.908Z"
   },
   {
    "duration": 0,
    "start_time": "2022-06-02T07:30:14.910Z"
   },
   {
    "duration": 0,
    "start_time": "2022-06-02T07:30:14.912Z"
   },
   {
    "duration": 0,
    "start_time": "2022-06-02T07:30:14.913Z"
   },
   {
    "duration": 0,
    "start_time": "2022-06-02T07:30:14.915Z"
   },
   {
    "duration": 0,
    "start_time": "2022-06-02T07:30:14.916Z"
   },
   {
    "duration": 0,
    "start_time": "2022-06-02T07:30:14.918Z"
   },
   {
    "duration": 0,
    "start_time": "2022-06-02T07:30:14.919Z"
   },
   {
    "duration": 33,
    "start_time": "2022-06-02T07:35:27.676Z"
   },
   {
    "duration": 57,
    "start_time": "2022-06-02T07:35:28.426Z"
   },
   {
    "duration": 1701,
    "start_time": "2022-06-02T07:35:29.049Z"
   },
   {
    "duration": 4,
    "start_time": "2022-06-02T07:35:30.752Z"
   },
   {
    "duration": 23,
    "start_time": "2022-06-02T07:35:30.904Z"
   },
   {
    "duration": 1518,
    "start_time": "2022-06-02T07:35:35.704Z"
   },
   {
    "duration": 1392,
    "start_time": "2022-06-03T19:37:03.344Z"
   },
   {
    "duration": 49,
    "start_time": "2022-06-03T19:37:04.738Z"
   },
   {
    "duration": 21,
    "start_time": "2022-06-03T19:37:05.293Z"
   },
   {
    "duration": 6,
    "start_time": "2022-06-03T19:37:05.863Z"
   },
   {
    "duration": 19,
    "start_time": "2022-06-03T19:37:06.310Z"
   },
   {
    "duration": 72,
    "start_time": "2022-06-03T19:37:06.534Z"
   },
   {
    "duration": 7,
    "start_time": "2022-06-03T19:37:07.096Z"
   },
   {
    "duration": 14,
    "start_time": "2022-06-03T19:37:07.393Z"
   },
   {
    "duration": 15,
    "start_time": "2022-06-03T19:37:07.994Z"
   },
   {
    "duration": 16,
    "start_time": "2022-06-03T19:37:08.506Z"
   },
   {
    "duration": 13,
    "start_time": "2022-06-03T19:37:08.809Z"
   },
   {
    "duration": 6,
    "start_time": "2022-06-03T19:37:09.623Z"
   },
   {
    "duration": 7,
    "start_time": "2022-06-03T19:37:09.823Z"
   },
   {
    "duration": 40,
    "start_time": "2022-06-03T19:37:10.447Z"
   },
   {
    "duration": 11,
    "start_time": "2022-06-03T19:37:10.857Z"
   },
   {
    "duration": 208,
    "start_time": "2022-06-03T19:37:11.483Z"
   },
   {
    "duration": 213,
    "start_time": "2022-06-03T19:37:11.700Z"
   },
   {
    "duration": 1305,
    "start_time": "2022-06-03T19:37:12.535Z"
   },
   {
    "duration": 5,
    "start_time": "2022-06-03T19:37:13.843Z"
   },
   {
    "duration": 19,
    "start_time": "2022-06-03T19:37:13.850Z"
   },
   {
    "duration": 9,
    "start_time": "2022-06-03T19:37:13.884Z"
   },
   {
    "duration": 1194429,
    "start_time": "2022-06-03T19:37:13.895Z"
   },
   {
    "duration": 4346,
    "start_time": "2022-06-03T19:57:08.327Z"
   },
   {
    "duration": 3626,
    "start_time": "2022-06-03T19:57:12.674Z"
   },
   {
    "duration": 6,
    "start_time": "2022-06-03T19:57:16.302Z"
   },
   {
    "duration": 24,
    "start_time": "2022-06-03T19:57:16.310Z"
   },
   {
    "duration": 280468,
    "start_time": "2022-06-03T19:57:16.337Z"
   },
   {
    "duration": 3489,
    "start_time": "2022-06-03T20:01:56.807Z"
   },
   {
    "duration": 170,
    "start_time": "2022-06-03T20:02:00.298Z"
   },
   {
    "duration": 146,
    "start_time": "2022-06-03T20:02:00.471Z"
   },
   {
    "duration": 3547,
    "start_time": "2022-06-03T20:02:00.619Z"
   },
   {
    "duration": 4,
    "start_time": "2022-06-03T20:02:04.168Z"
   },
   {
    "duration": 31,
    "start_time": "2022-06-03T20:02:04.174Z"
   },
   {
    "duration": 5,
    "start_time": "2022-06-03T20:02:04.206Z"
   },
   {
    "duration": 7,
    "start_time": "2022-06-03T20:02:04.213Z"
   },
   {
    "duration": 16,
    "start_time": "2022-06-03T20:02:04.222Z"
   }
  ],
  "kernelspec": {
   "display_name": "Python 3 (ipykernel)",
   "language": "python",
   "name": "python3"
  },
  "language_info": {
   "codemirror_mode": {
    "name": "ipython",
    "version": 3
   },
   "file_extension": ".py",
   "mimetype": "text/x-python",
   "name": "python",
   "nbconvert_exporter": "python",
   "pygments_lexer": "ipython3",
   "version": "3.9.12"
  },
  "toc": {
   "base_numbering": 1,
   "nav_menu": {},
   "number_sections": true,
   "sideBar": true,
   "skip_h1_title": true,
   "title_cell": "Содержание",
   "title_sidebar": "Contents",
   "toc_cell": true,
   "toc_position": {},
   "toc_section_display": true,
   "toc_window_display": true
  }
 },
 "nbformat": 4,
 "nbformat_minor": 2
}
