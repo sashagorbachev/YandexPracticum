{
 "cells": [
  {
   "cell_type": "markdown",
   "id": "bc88d09e",
   "metadata": {},
   "source": [
    "# Введение в машинное обучение"
   ]
  },
  {
   "cell_type": "markdown",
   "id": "bb41ed0a",
   "metadata": {},
   "source": [
    "Заказчиком представлена база данных об использовании клиентами услуг связи. Отражена информация по клиентам, обслуживающимся в рамках актуальных тарифных планов (smart и ultra). \n",
    "Поставлена задача на основании представленных сведений, подготовить модель, предлагающую такой актуальный тарифный план (smart либо ultra) клиенту, находящемуся на обслуживании в рамках одного из устаревших тарифных планов.\n",
    "Установлено требование о достижении моделью значений accuracy не менее 0.75."
   ]
  },
  {
   "cell_type": "markdown",
   "id": "3bcc3863",
   "metadata": {},
   "source": [
    "<h1>Содержание<span class=\"tocSkip\"></span></h1>\n",
    "<div class=\"toc\"><ul class=\"toc-item\"><li><span><a href=\"#Изучение-данных-из-файла\" data-toc-modified-id=\"Изучение-данных-из-файла-1\"><span class=\"toc-item-num\">1&nbsp;&nbsp;</span>Изучение данных из файла</a></span>\n",
    "    <ul class=\"toc-item\"><li><span><a href=\"#Вывод-по-анализу-данных\" data-toc-modified-id=\"Вывод по анализу данных-1.1\"><span class=\"toc-item-num\">1.1&nbsp;&nbsp;</span>Вывод по анализу данных</a></span></li></ul></li>\n",
    "    <li><span><a href=\"#Формирование-выборок\" data-toc-modified-id=\"Формирование-выборок-2\"><span class=\"toc-item-num\">2&nbsp;&nbsp;</span>Формирование выборок</a></span></li>\n",
    "    <li><span><a href=\"#Исследование-качества-моделей\" data-toc-modified-id=\"Исследование-качества-моделей-3\"><span class=\"toc-item-num\">3&nbsp;&nbsp;</span>Исследование качества моделей</a></span></li>\n",
    "    <ul class=\"toc-item\"><li><span><a href=\"#Вывод-по-исследованию-качества-моделей\" data-toc-modified-id=\"Вывод-по-исследованию-качества-моделей-3.1\"><span class=\"toc-item-num\">3.1&nbsp;&nbsp;</span>Вывод по исследованию качества моделей</a></span></li></ul>\n",
    "    <li><span><a href=\"#Настройка-гиперпараметров-моделей\" data-toc-modified-id=\"Настройка-гиперпараметров-моделей-4\"><span class=\"toc-item-num\">4&nbsp;&nbsp;</span>Настройка гиперпараметров моделей</a></span></li>\n",
    "    <li><span><a href=\"#Финальное-тестирование-и-вывод\" data-toc-modified-id=\"Финальное-тестирование-и-вывод-5\"><span class=\"toc-item-num\">5&nbsp;&nbsp;</span>Финальное тестирование и вывод</a></span></li>"
   ]
  },
  {
   "cell_type": "code",
   "execution_count": 1,
   "id": "d49c5857",
   "metadata": {},
   "outputs": [],
   "source": [
    "import pandas as pd\n",
    "import numpy as np\n",
    "from sklearn.model_selection import train_test_split"
   ]
  },
  {
   "cell_type": "markdown",
   "id": "c8ea9377",
   "metadata": {},
   "source": [
    "# Изучение данных из файла"
   ]
  },
  {
   "cell_type": "code",
   "execution_count": 2,
   "id": "9109f94b",
   "metadata": {},
   "outputs": [],
   "source": [
    "try:\n",
    "    data = pd.read_csv('/Users/gorbachevalexander/Desktop/Машинка/users_behavior.csv', sep=',')\n",
    "except:\n",
    "    data = pd.read_csv('/datasets/users_behavior.csv', sep=',')"
   ]
  },
  {
   "cell_type": "code",
   "execution_count": 3,
   "id": "6f878a73",
   "metadata": {},
   "outputs": [
    {
     "data": {
      "text/html": [
       "<div>\n",
       "<style scoped>\n",
       "    .dataframe tbody tr th:only-of-type {\n",
       "        vertical-align: middle;\n",
       "    }\n",
       "\n",
       "    .dataframe tbody tr th {\n",
       "        vertical-align: top;\n",
       "    }\n",
       "\n",
       "    .dataframe thead th {\n",
       "        text-align: right;\n",
       "    }\n",
       "</style>\n",
       "<table border=\"1\" class=\"dataframe\">\n",
       "  <thead>\n",
       "    <tr style=\"text-align: right;\">\n",
       "      <th></th>\n",
       "      <th>calls</th>\n",
       "      <th>minutes</th>\n",
       "      <th>messages</th>\n",
       "      <th>mb_used</th>\n",
       "      <th>is_ultra</th>\n",
       "    </tr>\n",
       "  </thead>\n",
       "  <tbody>\n",
       "    <tr>\n",
       "      <th>0</th>\n",
       "      <td>40.0</td>\n",
       "      <td>311.90</td>\n",
       "      <td>83.0</td>\n",
       "      <td>19915.42</td>\n",
       "      <td>0</td>\n",
       "    </tr>\n",
       "    <tr>\n",
       "      <th>1</th>\n",
       "      <td>85.0</td>\n",
       "      <td>516.75</td>\n",
       "      <td>56.0</td>\n",
       "      <td>22696.96</td>\n",
       "      <td>0</td>\n",
       "    </tr>\n",
       "    <tr>\n",
       "      <th>2</th>\n",
       "      <td>77.0</td>\n",
       "      <td>467.66</td>\n",
       "      <td>86.0</td>\n",
       "      <td>21060.45</td>\n",
       "      <td>0</td>\n",
       "    </tr>\n",
       "    <tr>\n",
       "      <th>3</th>\n",
       "      <td>106.0</td>\n",
       "      <td>745.53</td>\n",
       "      <td>81.0</td>\n",
       "      <td>8437.39</td>\n",
       "      <td>1</td>\n",
       "    </tr>\n",
       "    <tr>\n",
       "      <th>4</th>\n",
       "      <td>66.0</td>\n",
       "      <td>418.74</td>\n",
       "      <td>1.0</td>\n",
       "      <td>14502.75</td>\n",
       "      <td>0</td>\n",
       "    </tr>\n",
       "  </tbody>\n",
       "</table>\n",
       "</div>"
      ],
      "text/plain": [
       "   calls  minutes  messages   mb_used  is_ultra\n",
       "0   40.0   311.90      83.0  19915.42         0\n",
       "1   85.0   516.75      56.0  22696.96         0\n",
       "2   77.0   467.66      86.0  21060.45         0\n",
       "3  106.0   745.53      81.0   8437.39         1\n",
       "4   66.0   418.74       1.0  14502.75         0"
      ]
     },
     "execution_count": 3,
     "metadata": {},
     "output_type": "execute_result"
    }
   ],
   "source": [
    "data.head()"
   ]
  },
  {
   "cell_type": "code",
   "execution_count": 4,
   "id": "0615c1ee",
   "metadata": {},
   "outputs": [
    {
     "name": "stdout",
     "output_type": "stream",
     "text": [
      "<class 'pandas.core.frame.DataFrame'>\n",
      "RangeIndex: 3214 entries, 0 to 3213\n",
      "Data columns (total 5 columns):\n",
      " #   Column    Non-Null Count  Dtype  \n",
      "---  ------    --------------  -----  \n",
      " 0   calls     3214 non-null   float64\n",
      " 1   minutes   3214 non-null   float64\n",
      " 2   messages  3214 non-null   float64\n",
      " 3   mb_used   3214 non-null   float64\n",
      " 4   is_ultra  3214 non-null   int64  \n",
      "dtypes: float64(4), int64(1)\n",
      "memory usage: 125.7 KB\n"
     ]
    }
   ],
   "source": [
    "data.info()"
   ]
  },
  {
   "cell_type": "code",
   "execution_count": 5,
   "id": "59dda0cc",
   "metadata": {},
   "outputs": [
    {
     "data": {
      "text/html": [
       "<div>\n",
       "<style scoped>\n",
       "    .dataframe tbody tr th:only-of-type {\n",
       "        vertical-align: middle;\n",
       "    }\n",
       "\n",
       "    .dataframe tbody tr th {\n",
       "        vertical-align: top;\n",
       "    }\n",
       "\n",
       "    .dataframe thead th {\n",
       "        text-align: right;\n",
       "    }\n",
       "</style>\n",
       "<table border=\"1\" class=\"dataframe\">\n",
       "  <thead>\n",
       "    <tr style=\"text-align: right;\">\n",
       "      <th></th>\n",
       "      <th>calls</th>\n",
       "      <th>minutes</th>\n",
       "      <th>messages</th>\n",
       "      <th>mb_used</th>\n",
       "      <th>is_ultra</th>\n",
       "    </tr>\n",
       "  </thead>\n",
       "  <tbody>\n",
       "    <tr>\n",
       "      <th>count</th>\n",
       "      <td>3214.000000</td>\n",
       "      <td>3214.000000</td>\n",
       "      <td>3214.000000</td>\n",
       "      <td>3214.000000</td>\n",
       "      <td>3214.000000</td>\n",
       "    </tr>\n",
       "    <tr>\n",
       "      <th>mean</th>\n",
       "      <td>63.038892</td>\n",
       "      <td>438.208787</td>\n",
       "      <td>38.281269</td>\n",
       "      <td>17207.673836</td>\n",
       "      <td>0.306472</td>\n",
       "    </tr>\n",
       "    <tr>\n",
       "      <th>std</th>\n",
       "      <td>33.236368</td>\n",
       "      <td>234.569872</td>\n",
       "      <td>36.148326</td>\n",
       "      <td>7570.968246</td>\n",
       "      <td>0.461100</td>\n",
       "    </tr>\n",
       "    <tr>\n",
       "      <th>min</th>\n",
       "      <td>0.000000</td>\n",
       "      <td>0.000000</td>\n",
       "      <td>0.000000</td>\n",
       "      <td>0.000000</td>\n",
       "      <td>0.000000</td>\n",
       "    </tr>\n",
       "    <tr>\n",
       "      <th>25%</th>\n",
       "      <td>40.000000</td>\n",
       "      <td>274.575000</td>\n",
       "      <td>9.000000</td>\n",
       "      <td>12491.902500</td>\n",
       "      <td>0.000000</td>\n",
       "    </tr>\n",
       "    <tr>\n",
       "      <th>50%</th>\n",
       "      <td>62.000000</td>\n",
       "      <td>430.600000</td>\n",
       "      <td>30.000000</td>\n",
       "      <td>16943.235000</td>\n",
       "      <td>0.000000</td>\n",
       "    </tr>\n",
       "    <tr>\n",
       "      <th>75%</th>\n",
       "      <td>82.000000</td>\n",
       "      <td>571.927500</td>\n",
       "      <td>57.000000</td>\n",
       "      <td>21424.700000</td>\n",
       "      <td>1.000000</td>\n",
       "    </tr>\n",
       "    <tr>\n",
       "      <th>max</th>\n",
       "      <td>244.000000</td>\n",
       "      <td>1632.060000</td>\n",
       "      <td>224.000000</td>\n",
       "      <td>49745.730000</td>\n",
       "      <td>1.000000</td>\n",
       "    </tr>\n",
       "  </tbody>\n",
       "</table>\n",
       "</div>"
      ],
      "text/plain": [
       "             calls      minutes     messages       mb_used     is_ultra\n",
       "count  3214.000000  3214.000000  3214.000000   3214.000000  3214.000000\n",
       "mean     63.038892   438.208787    38.281269  17207.673836     0.306472\n",
       "std      33.236368   234.569872    36.148326   7570.968246     0.461100\n",
       "min       0.000000     0.000000     0.000000      0.000000     0.000000\n",
       "25%      40.000000   274.575000     9.000000  12491.902500     0.000000\n",
       "50%      62.000000   430.600000    30.000000  16943.235000     0.000000\n",
       "75%      82.000000   571.927500    57.000000  21424.700000     1.000000\n",
       "max     244.000000  1632.060000   224.000000  49745.730000     1.000000"
      ]
     },
     "execution_count": 5,
     "metadata": {},
     "output_type": "execute_result"
    }
   ],
   "source": [
    "data.describe()"
   ]
  },
  {
   "cell_type": "code",
   "execution_count": 6,
   "id": "bb8c4f42",
   "metadata": {},
   "outputs": [
    {
     "data": {
      "text/plain": [
       "0"
      ]
     },
     "execution_count": 6,
     "metadata": {},
     "output_type": "execute_result"
    }
   ],
   "source": [
    "data[data.sum(axis=1)==0]['calls'].count()"
   ]
  },
  {
   "cell_type": "markdown",
   "id": "aa1e00bc",
   "metadata": {},
   "source": [
    " ### Вывод по анализу данных"
   ]
  },
  {
   "cell_type": "markdown",
   "id": "538e9926",
   "metadata": {},
   "source": [
    "Представлены сведения об использовании услуг связи за месяц по неименованным пользователям (привязка сведений к ID клиента отсутствует).\n",
    "Всего 3214 записей. 30,6% записей (.mean() по полю \"is_ultra\") приходится на пользователей тарифа \"Ультра\". \n",
    "Записи о клиентах, не пользовавшихся в течение месяца услугами отсутствуют.\n",
    "Согласно describe() заведомо некорректные значения (выбросы) отсутствуют.\n",
    "Типы данных соответствуют информации и предполагаемым итерациям в рамках проекта.\n",
    "Предобработка в части заполнения пропусков, изменения типов данных, выбросов и заведомо некорректных значений не требуется."
   ]
  },
  {
   "cell_type": "markdown",
   "id": "9f37868e",
   "metadata": {},
   "source": [
    "# Формирование выборок"
   ]
  },
  {
   "cell_type": "code",
   "execution_count": 7,
   "id": "1862d508",
   "metadata": {},
   "outputs": [],
   "source": [
    "base_data = data.drop('is_ultra',axis=1)\n",
    "base_target=data['is_ultra']"
   ]
  },
  {
   "cell_type": "code",
   "execution_count": 8,
   "id": "6a9b6f62",
   "metadata": {},
   "outputs": [],
   "source": [
    "train_data,test_data,train_target,test_target = train_test_split(base_data,base_target,test_size=0.2,random_state=12345)"
   ]
  },
  {
   "cell_type": "code",
   "execution_count": 9,
   "id": "081a8c9b",
   "metadata": {},
   "outputs": [],
   "source": [
    "train_data,valid_data,train_target,valid_target = train_test_split(train_data,train_target, test_size=0.25,random_state=12345)"
   ]
  },
  {
   "cell_type": "markdown",
   "id": "65df8bca",
   "metadata": {},
   "source": [
    "# Исследование качества моделей"
   ]
  },
  {
   "cell_type": "code",
   "execution_count": 10,
   "id": "167774a6",
   "metadata": {},
   "outputs": [],
   "source": [
    "from sklearn.linear_model import LogisticRegression\n",
    "from sklearn.tree import DecisionTreeClassifier\n",
    "from sklearn.ensemble import RandomForestClassifier\n",
    "from sklearn.metrics import mean_squared_error"
   ]
  },
  {
   "cell_type": "code",
   "execution_count": 11,
   "id": "4f4c832c",
   "metadata": {},
   "outputs": [
    {
     "name": "stdout",
     "output_type": "stream",
     "text": [
      "Оценка на валидации 0.7262830482115086\n",
      "Оценка на учебной выборке 0.7510373443983402\n"
     ]
    }
   ],
   "source": [
    "model_regre = LogisticRegression(random_state=12345, solver='lbfgs', max_iter=1000)\n",
    "model_regre.fit(train_data,train_target)\n",
    "accuracy_regre =  model_regre.score(valid_data,valid_target)\n",
    "print('Оценка на валидации', accuracy_regre)\n",
    "overeducate_regre_base = model_regre.score(train_data,train_target)\n",
    "print('Оценка на учебной выборке', overeducate_regre_base)"
   ]
  },
  {
   "cell_type": "code",
   "execution_count": 12,
   "id": "fb2c4935",
   "metadata": {},
   "outputs": [
    {
     "name": "stdout",
     "output_type": "stream",
     "text": [
      "Оценка на валидации 0.7122861586314152\n",
      "Оценка на учебной выборке 1.0\n"
     ]
    }
   ],
   "source": [
    "model_tree = DecisionTreeClassifier(random_state=12345)\n",
    "model_tree.fit(train_data,train_target)\n",
    "accuracy_tree = model_tree.score(valid_data,valid_target)\n",
    "print('Оценка на валидации', accuracy_tree)\n",
    "overeducate_tree_base = model_tree.score(train_data,train_target)\n",
    "print('Оценка на учебной выборке', model_tree.score(train_data,train_target))"
   ]
  },
  {
   "cell_type": "code",
   "execution_count": 13,
   "id": "fe8e5649",
   "metadata": {},
   "outputs": [
    {
     "name": "stdout",
     "output_type": "stream",
     "text": [
      "Оценка на валидации 0.7947122861586314\n",
      "Оценка на учебной выборке 1.0\n"
     ]
    }
   ],
   "source": [
    "model_forest = RandomForestClassifier(random_state=12345)\n",
    "model_forest.fit(train_data,train_target)\n",
    "accuracy_forest = model_forest.score(valid_data,valid_target)\n",
    "print('Оценка на валидации', accuracy_forest)\n",
    "overeducate_forest_base = model_forest.score(train_data,train_target)\n",
    "print('Оценка на учебной выборке', model_forest.score(train_data,train_target))"
   ]
  },
  {
   "cell_type": "markdown",
   "id": "e9a8d94e",
   "metadata": {},
   "source": [
    "### Вывод по исследованию качества моделей\n",
    "1. Результат обучения основных моделей на базовых настройках показал сопоставимые значения accuracy у Логистической регрессии и Дерева решений на уровне ниже требуемого 0,71-0,73. \n",
    "Лучшие результаты у модели Случайный лес - 0,78-0,8, что соответствует требованиям задания.\n",
    "2. Модель Логистическая регрессия в ходе данного задания не показала признаков переобучения. Модели Дерево решений и Случайный лес показали признак переобучения accuracy = 1.0\n",
    "3. Целесообразно проведение обучения с настройкой гиперпараметров."
   ]
  },
  {
   "cell_type": "markdown",
   "id": "794f12c6",
   "metadata": {},
   "source": [
    "# Настройка гиперпараметров моделей"
   ]
  },
  {
   "cell_type": "markdown",
   "id": "3f232a60",
   "metadata": {},
   "source": [
    "В связи с тем что значение accuracy на учебных выборках показывает значение свидетельствующее о переобучении целесообразно попробовать провести подстройку моделей за счет настройки гиперпараметров:"
   ]
  },
  {
   "cell_type": "code",
   "execution_count": 1,
   "id": "388fc227",
   "metadata": {
    "scrolled": false
   },
   "outputs": [
    {
     "ename": "NameError",
     "evalue": "name 'LogisticRegression' is not defined",
     "output_type": "error",
     "traceback": [
      "\u001b[0;31m---------------------------------------------------------------------------\u001b[0m",
      "\u001b[0;31mNameError\u001b[0m                                 Traceback (most recent call last)",
      "\u001b[0;32m/tmp/ipykernel_24/3649518760.py\u001b[0m in \u001b[0;36m<module>\u001b[0;34m\u001b[0m\n\u001b[1;32m      2\u001b[0m \u001b[0;34m\u001b[0m\u001b[0m\n\u001b[1;32m      3\u001b[0m \u001b[0;32mfor\u001b[0m \u001b[0mi\u001b[0m \u001b[0;32min\u001b[0m \u001b[0mrange\u001b[0m \u001b[0;34m(\u001b[0m\u001b[0;36m2000\u001b[0m\u001b[0;34m,\u001b[0m\u001b[0;36m11000\u001b[0m\u001b[0;34m,\u001b[0m\u001b[0;36m1000\u001b[0m\u001b[0;34m)\u001b[0m\u001b[0;34m:\u001b[0m\u001b[0;34m\u001b[0m\u001b[0;34m\u001b[0m\u001b[0m\n\u001b[0;32m----> 4\u001b[0;31m     \u001b[0mmodel_regre1\u001b[0m \u001b[0;34m=\u001b[0m \u001b[0mLogisticRegression\u001b[0m\u001b[0;34m(\u001b[0m\u001b[0mrandom_state\u001b[0m\u001b[0;34m=\u001b[0m\u001b[0;36m12345\u001b[0m\u001b[0;34m,\u001b[0m \u001b[0msolver\u001b[0m\u001b[0;34m=\u001b[0m\u001b[0;34m'lbfgs'\u001b[0m\u001b[0;34m,\u001b[0m \u001b[0mmax_iter\u001b[0m\u001b[0;34m=\u001b[0m\u001b[0mi\u001b[0m\u001b[0;34m)\u001b[0m\u001b[0;34m\u001b[0m\u001b[0;34m\u001b[0m\u001b[0m\n\u001b[0m\u001b[1;32m      5\u001b[0m     \u001b[0mmodel_regre1\u001b[0m\u001b[0;34m.\u001b[0m\u001b[0mfit\u001b[0m\u001b[0;34m(\u001b[0m\u001b[0mtrain_data\u001b[0m\u001b[0;34m,\u001b[0m\u001b[0mtrain_target\u001b[0m\u001b[0;34m)\u001b[0m\u001b[0;34m\u001b[0m\u001b[0;34m\u001b[0m\u001b[0m\n\u001b[1;32m      6\u001b[0m     \u001b[0maccuracy_regre1\u001b[0m \u001b[0;34m=\u001b[0m \u001b[0mmodel_regre1\u001b[0m\u001b[0;34m.\u001b[0m\u001b[0mscore\u001b[0m\u001b[0;34m(\u001b[0m\u001b[0mvalid_data\u001b[0m\u001b[0;34m,\u001b[0m\u001b[0mvalid_target\u001b[0m\u001b[0;34m)\u001b[0m\u001b[0;34m\u001b[0m\u001b[0;34m\u001b[0m\u001b[0m\n",
      "\u001b[0;31mNameError\u001b[0m: name 'LogisticRegression' is not defined"
     ]
    }
   ],
   "source": [
    "accuracy_regre_better = 0\n",
    "\n",
    "for i in range (2000,11000,1000):\n",
    "    model_regre1 = LogisticRegression(random_state=12345, solver='lbfgs', max_iter=i)\n",
    "    model_regre1.fit(train_data,train_target)\n",
    "    accuracy_regre1 = model_regre1.score(valid_data,valid_target)\n",
    "    if accuracy_regre1 > accuracy_regre:\n",
    "        if accuracy_regre1 > accuracy_regre_better:\n",
    "            accuracy_regre_better = accuracy_regre1\n",
    "            iter_regre_better = i\n",
    "            overeducate_better = model_regre1\n",
    "            \n",
    "if accuracy_regre_better > 0:\n",
    "    print('Для модели логистической регрессии не достигнуто улучшение значения Accuracy на валидационной выборке')\n",
    "    print('Оценка на валидации -', accuracy_regre_better, 'против -',accuracy_regre,'на базовых настройках')\n",
    "    print('Оценка Accuracy на учебной выборке -', overeducate_better, 'против -',overeducate_regre_base, 'на базовых настройках')\n",
    "else:\n",
    "    print('Для модели логистической регрессии не достигнуто улучшение значения Accuracy на валидационной выборке')\n",
    "        "
   ]
  },
  {
   "cell_type": "code",
   "execution_count": 15,
   "id": "5fde989c",
   "metadata": {
    "scrolled": true
   },
   "outputs": [
    {
     "name": "stdout",
     "output_type": "stream",
     "text": [
      "Для модели Дерево решений достигнуто улучшение значения Accuracy на валидационной выборке\n",
      "Оценка на валидации - 0.7698289269051322 против - 0.7122861586314152 на базовых настройках\n",
      "Оценка Accuracy на учебной выборке - 0.8184647302904564 против - 1.0 на базовых настройках\n",
      "Параметры модели с лучшими показателями: DecisionTreeClassifier(max_depth=4, min_samples_leaf=8, random_state=12345)\n"
     ]
    }
   ],
   "source": [
    "accuracy_tree_better = 0\n",
    "for i_tree_depth in range (1,5):\n",
    "    for i_tree_leaf in range (1,100):\n",
    "        model_tree1 = DecisionTreeClassifier(random_state=12345,max_depth = i_tree_depth,min_samples_leaf = i_tree_leaf)\n",
    "        model_tree1.fit(train_data,train_target)\n",
    "        accuracy_tree1 = model_tree1.score(valid_data,valid_target)\n",
    "        if accuracy_tree1 > accuracy_tree:\n",
    "            if accuracy_tree1 > accuracy_tree_better:\n",
    "                accuracy_tree_better = accuracy_tree1\n",
    "                iter_tree_better_depth = i_tree_depth\n",
    "                iter_tree_better_leaf = i_tree_leaf \n",
    "                overeducate_tree_better = model_tree1.score(train_data,train_target)\n",
    "                best_model_tree = model_tree1\n",
    "if accuracy_tree_better > 0:\n",
    "    print('Для модели Дерево решений достигнуто улучшение значения Accuracy на валидационной выборке')\n",
    "    print('Оценка на валидации -', accuracy_tree_better, 'против -',accuracy_tree,'на базовых настройках')\n",
    "    print('Оценка Accuracy на учебной выборке -', overeducate_tree_better, 'против -',overeducate_tree_base, 'на базовых настройках')\n",
    "    print('Параметры модели с лучшими показателями:', best_model_tree)\n",
    "else:\n",
    "    print('Для модели Дерево решений не достигнуто улучшение значения Accuracy на валидационной выборке')\n",
    "               "
   ]
  },
  {
   "cell_type": "code",
   "execution_count": 16,
   "id": "cc6c2f2a",
   "metadata": {},
   "outputs": [
    {
     "name": "stdout",
     "output_type": "stream",
     "text": [
      "Для модели Случайный лес достигнуто улучшение значения Accuracy на валидационной выборке\n",
      "Оценка на валидации - 0.7978227060653188 против - 0.7947122861586314 на базовых настройках\n",
      "Оценка Accuracy на учебной выборке - 0.8412863070539419 против - 1.0 на базовых настройках\n",
      "Параметры модели с лучшими показателями: RandomForestClassifier(min_samples_leaf=13, n_estimators=200,\n",
      "                       random_state=12345)\n"
     ]
    }
   ],
   "source": [
    "accuracy_forest_better = 0\n",
    "for i_forest_leaf in range (5,15):\n",
    "    for i_forest_estimators in range (100,1201,100):\n",
    "        model_forest1 = RandomForestClassifier(random_state=12345,min_samples_leaf = i_forest_leaf, n_estimators = i_forest_estimators)\n",
    "        model_forest1.fit(train_data,train_target)\n",
    "        accuracy_forest1 = model_forest1.score(valid_data,valid_target)\n",
    "        if accuracy_forest1 > accuracy_forest:\n",
    "            if accuracy_forest1 > accuracy_forest_better:\n",
    "                accuracy_forest_better = accuracy_forest1\n",
    "                iter_forest_better_leaf = i_forest_leaf\n",
    "                iter_forest_better_estimators = i_forest_estimators\n",
    "                overeducate_forest_better = model_forest1.score(train_data,train_target)\n",
    "                best_model_forest = model_forest1\n",
    "if accuracy_forest_better > 0:\n",
    "    print('Для модели Случайный лес достигнуто улучшение значения Accuracy на валидационной выборке')\n",
    "    print('Оценка на валидации -', accuracy_forest_better, 'против -',accuracy_forest,'на базовых настройках')\n",
    "    print('Оценка Accuracy на учебной выборке -', overeducate_forest_better, 'против -',overeducate_forest_base, 'на базовых настройках')\n",
    "    print('Параметры модели с лучшими показателями:', best_model_forest)\n",
    "else:\n",
    "    print('Для модели Случайный лес не достигнуто улучшение значения Accuracy на валидационной выборке')"
   ]
  },
  {
   "cell_type": "markdown",
   "id": "ec315f00",
   "metadata": {},
   "source": [
    "Для полученной модели значения min_samples_leaf и n_estimators находятся в пределах заданных диапазонов тестирования модели. Таким образом расширение диапазонов тестирования не целесообразно."
   ]
  },
  {
   "cell_type": "markdown",
   "id": "db8b1b17",
   "metadata": {},
   "source": [
    "# Финальное тестирование и вывод"
   ]
  },
  {
   "cell_type": "markdown",
   "id": "126dc77c",
   "metadata": {},
   "source": [
    "Лучшие значения Accuracy показала оптимизированная за счет настройки гиперпараметров модель Случайный лес:</p>\n",
    "\n",
    "Accuracy на валидационной выборке - 0.7978, на учебной/тренировочной выборке - 0.8412.\n",
    "\n",
    "Указанные значения соответствуют установленным требованиям задания, признаки переобучения у полученной модели не установлены.\n",
    "Осуществим дополнительную оценку качества подготовленной модели Случайный лес на Тестовой выборке"
   ]
  },
  {
   "cell_type": "code",
   "execution_count": 17,
   "id": "19ae0ce3",
   "metadata": {},
   "outputs": [
    {
     "name": "stdout",
     "output_type": "stream",
     "text": [
      "Оценка Accuracy на тестовой выборке - 0.7978227060653188\n"
     ]
    }
   ],
   "source": [
    "print('Оценка Accuracy на тестовой выборке -', best_model_forest.score(test_data,test_target))"
   ]
  },
  {
   "cell_type": "markdown",
   "id": "9f504a86",
   "metadata": {},
   "source": [
    "Таким образом сформирована модель соответствующая требованиям задания с учетом представленного заказчиком датасета."
   ]
  }
 ],
 "metadata": {
  "ExecuteTimeLog": [
   {
    "duration": 1493,
    "start_time": "2022-05-10T11:32:26.714Z"
   },
   {
    "duration": 14,
    "start_time": "2022-05-10T11:32:28.209Z"
   },
   {
    "duration": 18,
    "start_time": "2022-05-10T11:32:28.225Z"
   },
   {
    "duration": 14,
    "start_time": "2022-05-10T11:32:28.245Z"
   },
   {
    "duration": 38,
    "start_time": "2022-05-10T11:32:28.263Z"
   },
   {
    "duration": 10,
    "start_time": "2022-05-10T11:32:28.303Z"
   },
   {
    "duration": 5,
    "start_time": "2022-05-10T11:32:28.315Z"
   },
   {
    "duration": 7,
    "start_time": "2022-05-10T11:32:28.322Z"
   },
   {
    "duration": 5,
    "start_time": "2022-05-10T11:32:28.331Z"
   },
   {
    "duration": 71,
    "start_time": "2022-05-10T11:32:28.338Z"
   },
   {
    "duration": 46,
    "start_time": "2022-05-10T11:32:28.411Z"
   },
   {
    "duration": 28,
    "start_time": "2022-05-10T11:32:28.460Z"
   },
   {
    "duration": 707,
    "start_time": "2022-05-10T11:32:28.490Z"
   },
   {
    "duration": 502,
    "start_time": "2022-05-10T11:32:29.200Z"
   },
   {
    "duration": 2830,
    "start_time": "2022-05-10T11:32:29.705Z"
   },
   {
    "duration": 292230,
    "start_time": "2022-05-10T11:32:32.538Z"
   },
   {
    "duration": 41,
    "start_time": "2022-05-10T11:37:24.769Z"
   },
   {
    "duration": 61,
    "start_time": "2022-05-19T01:46:46.805Z"
   }
  ],
  "kernelspec": {
   "display_name": "Python 3 (ipykernel)",
   "language": "python",
   "name": "python3"
  },
  "language_info": {
   "codemirror_mode": {
    "name": "ipython",
    "version": 3
   },
   "file_extension": ".py",
   "mimetype": "text/x-python",
   "name": "python",
   "nbconvert_exporter": "python",
   "pygments_lexer": "ipython3",
   "version": "3.9.12"
  },
  "toc": {
   "base_numbering": 1,
   "nav_menu": {},
   "number_sections": true,
   "sideBar": true,
   "skip_h1_title": true,
   "title_cell": "Table of Contents",
   "title_sidebar": "Contents",
   "toc_cell": false,
   "toc_position": {},
   "toc_section_display": true,
   "toc_window_display": false
  }
 },
 "nbformat": 4,
 "nbformat_minor": 5
}
